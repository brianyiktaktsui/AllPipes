{
 "cells": [
  {
   "cell_type": "code",
   "execution_count": 1,
   "metadata": {
    "collapsed": true
   },
   "outputs": [],
   "source": [
    "import pandas  as pd\n",
    "import numpy as np\n",
    "import os"
   ]
  },
  {
   "cell_type": "code",
   "execution_count": 4,
   "metadata": {
    "collapsed": true
   },
   "outputs": [],
   "source": [
    "#!cp ../AnalyzeReferences/ng.3805-S2.xlsx ."
   ]
  },
  {
   "cell_type": "code",
   "execution_count": 20,
   "metadata": {
    "collapsed": false
   },
   "outputs": [],
   "source": [
    "\n",
    "MHB_df=pd.read_excel('ng.3805-S2.xlsx',sheetname='S. Table 1')\n",
    "\n",
    "MHB_df['name']=MHB_df.index\n",
    "\n",
    "windowSize=100\n",
    "MHB_df['start']=MHB_df.start-windowSize\n",
    "MHB_df['end']=MHB_df.end+windowSize"
   ]
  },
  {
   "cell_type": "code",
   "execution_count": 21,
   "metadata": {
    "collapsed": false
   },
   "outputs": [
    {
     "data": {
      "text/plain": [
       "1.0"
      ]
     },
     "execution_count": 21,
     "metadata": {},
     "output_type": "execute_result"
    }
   ],
   "source": [
    "(MHB_df.start<MHB_df.end).mean()"
   ]
  },
  {
   "cell_type": "code",
   "execution_count": 27,
   "metadata": {
    "collapsed": false
   },
   "outputs": [],
   "source": [
    "MHB_df.to_csv('./MHB.bed',header=None,index=None,sep='\\t')"
   ]
  },
  {
   "cell_type": "code",
   "execution_count": 46,
   "metadata": {
    "collapsed": false
   },
   "outputs": [],
   "source": [
    "!bedtools getfasta -fi /cellar/users/btsui/Data/Project/KangZhang/refFa/hg19.fa -tab -bed ./MHB.bed >MHB.tsv"
   ]
  },
  {
   "cell_type": "markdown",
   "metadata": {},
   "source": [
    "### bisulfite convert the MHB.fa"
   ]
  },
  {
   "cell_type": "code",
   "execution_count": 50,
   "metadata": {
    "collapsed": false
   },
   "outputs": [
    {
     "name": "stdout",
     "output_type": "stream",
     "text": [
      "chr1:237687-237918\tGACCCACAGATGTGAAGCTGAGGCTGAAGGAGACTGATGTGGTTTCTCCTCAGTTTCTCTGTGCAGCACCAGGTGGCAGCAGAGGTCAGCAAGGCAAACCCGAGCCCGGGGATGCGGAGTGGGGGCAGCTACGTCCTCTCTTGAGCTACAGCAGATTCACTCTGTTCTGTTTCATTGTTGTTTAGTTTGCGTTGTGTTTCTCCAACTTTGTGCCTCATCAGGAAAAGCTTT\r\n",
      "chr1:564370-564633\tATACCTAAACTAAGGTCTATGAACAATAAGATGATTTTCTTCAGTGGGACTTTTTTGTTTAATATATTAGATTTGACCTTCAGCAAGGTCAAAGGGAGTCCGAACTAGTCTCAGGCTTCAACATCGAATACGCCGCAGGCCCCTTCGCCCTATTCTTCATAGCCGAATACACAAACATTATTATAATAAACACCCTCACCACTACAATCTTCCTAGGAACAACATATAACGCACTCTCCCCTGAACTCTACACAACATATTTT\r\n",
      "chr1:565685-566001\tTCCAGCACCACAACCCTACTACTATCTCGCACCTGAAACAAGCTAACATGACTAACACCCTTAATTCCATCCACCCTCCTCTCCCTAGGAGGCCTGCCCCCGCTAACCGGCTTTTTGCCCAAATGGGCCATTATCGAAGAATTCACAAAAAACAATAGCCTCATCATCCCCACCATCATAGCCATCATCACCCTCCTTAACCTCTACTTCTACCTGCGCCTAATCTACTCCACCTCAATCACACTACTCCCTATATCTAACAACGTAAAAATAAAATGACAGTTTGAACACACAAAACCCACCCCATTCCTCCCCA\r\n",
      "chr1:566622-566912\tTCGTCACAGCCCATGCATTTGTAATAATCTTCTTCATAGTAATACCCATCATAATCGGAGGCTTTGGCAACTGACTAGTTCCCCTAATAATCGGTGCCCCCGATATGGCGTTTCCCCGCATAAACAACATAAGCTTCTGACTCTTACCCCCCTCTCTCCTACTCCTGCTTGCATCTGCTATAGTGGAGGCCGGCGCAGGAACAGGTTGAACAGTCTACCCTCCCTTGGCAGGGAACTACTCCCACCCTGGAGCCTCCGTAGACCTAACCATCTTCTCCTTACACCTAGCA\r\n",
      "chr1:566894-567212\tTTCTCCTTACACCTAGCAGGTATCTCCTCTATCTTAGGAGCCATCAATTTCATCACAACAATTATTAATATAAAACCCCCTGCCATAACCCAATACCAAACGCCCCTTTTCGTCTGATCCGTCCTAATCACAGCAGTCTTACTTCTCCTATCTCTCCCAGTCCTAGCCGCTGGCATCACTATACTACTAACAGACCGTAACCTCAACACCACCTTCTTCGACCCAGCCGGAGGAGGAGACCCCATTCTATACCAACACCTATTCTGATTTTTCGGTCACCCTGAAGTTTATATTCTCATCCTACCAGGCTTCGGAATA\r\n",
      "chr1:567448-567662\tTGAAATGATCTGCTGCAGTGCTCTGAGCCCTAGGATTTATTTTTCTTTTCACCGTAGGTGGCCTGACTGGCATTGTATTAGCAAACTCATCACTAGACATCGTACTACACGACACGTACTACGTTGTAGCCCACTTCCACTATGTCCTATCAATAGGAGCTGTATTTGCCATCATAGGAGGCTTCATTCACTGATTTCCCCTATTCTCAGGCTA\r\n",
      "chr1:567646-567885\tCCCTATTCTCAGGCTACACCCTAGACCAAACCTACGCCAAAATCCATTTCGCTATCATATTCATCGGCGTAAATCTAACTTTCTTCCCACAACACTTTCTCGGCCTATCCGGAATGCCCCGACGTTACTCGGACTATCCCGATGCATACACCACATGAAATATCCTATCATCTGTAGGCTCATTCATTTCTCTAACAGCAGTAATATTAATAATTTTCATAATTTGAGAAGCCTTCGCT\r\n",
      "chr1:568155-568499\tTAGGTCTACAAGACGCTACTTCCCCTATCATAGAAGAGCTTATCATCTTTCATGATCACGCCCTCATAATCATTTTCCTTATCTGCTTCCTAGTCCTGTACGCCCTTTTCCTAACACTCACAACAAAACTAACTAATACTAACATCTCAGACGCTCAGGAAATAGAAACCGTCTGAACTATCCTGCCCGCCATCATCCTAGTCCTTATCGCCCTCCCATCCCTACGCATCCTTTACATAACAGACGAGGTCAACGATCCCTCCTTTACCATCAAATCAATTGGCCATCAATGGTACTGAACCTACGAATACACCGACTACGGCGGACTAATCTTCAACTCCTAC\r\n",
      "chr1:568359-568628\tTTATCGCCCTCCCATCCCTACGCATCCTTTACATAACAGACGAGGTCAACGATCCCTCCTTTACCATCAAATCAATTGGCCATCAATGGTACTGAACCTACGAATACACCGACTACGGCGGACTAATCTTCAACTCCTACATACTTCCCCCATTATTCCTAGAACCAGGCGACCTGCGACTCCTTGACGTTGACAATCGAGTAGTACTCCCGGTTGAAGCCCCCATTCGTATAATAATTACATCACAAGACGTCTTACACTCATGAGCT\r\n",
      "chr1:568446-568669\tGGTACTGAACCTACGAATACACCGACTACGGCGGACTAATCTTCAACTCCTACATACTTCCCCCATTATTCCTAGAACCAGGCGACCTGCGACTCCTTGACGTTGACAATCGAGTAGTACTCCCGGTTGAAGCCCCCATTCGTATAATAATTACATCACAAGACGTCTTACACTCATGAGCTGTCCCCACATTAGGCTTAAAAACAGATGCAATTCCCGGACG\r\n"
     ]
    }
   ],
   "source": [
    "!head MHB.tsv"
   ]
  },
  {
   "cell_type": "code",
   "execution_count": null,
   "metadata": {
    "collapsed": true
   },
   "outputs": [],
   "source": [
    "pd.read_csv('MHB.tsv')"
   ]
  },
  {
   "cell_type": "code",
   "execution_count": 30,
   "metadata": {
    "collapsed": true
   },
   "outputs": [],
   "source": [
    "#bismark_genome_preparation\n",
    "baseBismarkDir='/cellar/users/btsui/Program/bismark/bismark_v0.14.3//'"
   ]
  },
  {
   "cell_type": "code",
   "execution_count": 35,
   "metadata": {
    "collapsed": true
   },
   "outputs": [],
   "source": [
    "#!mv MHB.fa \n",
    "genomePrepFolder='/cellar/users/btsui/Data/RAPMAP_INDEX/HMB/Homo_sapiens/'\n"
   ]
  },
  {
   "cell_type": "code",
   "execution_count": 32,
   "metadata": {
    "collapsed": true
   },
   "outputs": [],
   "source": [
    "#!cp MHB.fa  /cellar/users/btsui/Data/RAPMAP_INDEX/HMB/Homo_sapiens/."
   ]
  },
  {
   "cell_type": "code",
   "execution_count": 39,
   "metadata": {
    "collapsed": false
   },
   "outputs": [],
   "source": [
    "referencePrepCmd=baseBismarkDir+'bismark_genome_preparation '+genomePrepFolder"
   ]
  },
  {
   "cell_type": "code",
   "execution_count": 38,
   "metadata": {
    "collapsed": false
   },
   "outputs": [],
   "source": [
    "#!/cellar/users/btsui/Program/bismark/bismark_v0.14.3//bismark_genome_preparation /cellar/users/btsui/Data/RAPMAP_INDEX/HMB/Homo_sapiens/"
   ]
  },
  {
   "cell_type": "code",
   "execution_count": 44,
   "metadata": {
    "collapsed": false
   },
   "outputs": [
    {
     "name": "stdout",
     "output_type": "stream",
     "text": [
      ">chr1:237687-237918_CT_converted\r\n",
      "GATTTATAGATGTGAAGTTGAGGTTGAAGGAGATTGATGTGGTTTTTTTTTAGTTTTTTTGTGTAGTATTAGGTGGTAGTAGAGGTTAGTAAGGTAAATTTGAGTTTGGGGATGTGGAGTGGGGGTAGTTATGTTTTTTTTTGAGTTATAGTAGATTTATTTTGTTTTGTTTTATTGTTGTTTAGTTTGTGTTGTGTTTTTTTAATTTTGTGTTTTATTAGGAAAAGTTTT\r\n",
      ">chr1:564370-564633_CT_converted\r\n",
      "ATATTTAAATTAAGGTTTATGAATAATAAGATGATTTTTTTTAGTGGGATTTTTTTGTTTAATATATTAGATTTGATTTTTAGTAAGGTTAAAGGGAGTTTGAATTAGTTTTAGGTTTTAATATTGAATATGTTGTAGGTTTTTTTGTTTTATTTTTTATAGTTGAATATATAAATATTATTATAATAAATATTTTTATTATTATAATTTTTTTAGGAATAATATATAATGTATTTTTTTTTGAATTTTATATAATATATTTT\r\n",
      ">chr1:565685-566001_CT_converted\r\n",
      "TTTAGTATTATAATTTTATTATTATTTTGTATTTGAAATAAGTTAATATGATTAATATTTTTAATTTTATTTATTTTTTTTTTTTTAGGAGGTTTGTTTTTGTTAATTGGTTTTTTGTTTAAATGGGTTATTATTGAAGAATTTATAAAAAATAATAGTTTTATTATTTTTATTATTATAGTTATTATTATTTTTTTTAATTTTTATTTTTATTTGTGTTTAATTTATTTTATTTTAATTATATTATTTTTTATATTTAATAATGTAAAAATAAAATGATAGTTTGAATATATAAAATTTATTTTATTTTTTTTTA\r\n",
      ">chr1:566622-566912_CT_converted\r\n",
      "TTGTTATAGTTTATGTATTTGTAATAATTTTTTTTATAGTAATATTTATTATAATTGGAGGTTTTGGTAATTGATTAGTTTTTTTAATAATTGGTGTTTTTGATATGGTGTTTTTTTGTATAAATAATATAAGTTTTTGATTTTTATTTTTTTTTTTTTTATTTTTGTTTGTATTTGTTATAGTGGAGGTTGGTGTAGGAATAGGTTGAATAGTTTATTTTTTTTTGGTAGGGAATTATTTTTATTTTGGAGTTTTTGTAGATTTAATTATTTTTTTTTTATATTTAGTA\r\n",
      ">chr1:566894-567212_CT_converted\r\n",
      "TTTTTTTTATATTTAGTAGGTATTTTTTTTATTTTAGGAGTTATTAATTTTATTATAATAATTATTAATATAAAATTTTTTGTTATAATTTAATATTAAATGTTTTTTTTTGTTTGATTTGTTTTAATTATAGTAGTTTTATTTTTTTTATTTTTTTTAGTTTTAGTTGTTGGTATTATTATATTATTAATAGATTGTAATTTTAATATTATTTTTTTTGATTTAGTTGGAGGAGGAGATTTTATTTTATATTAATATTTATTTTGATTTTTTGGTTATTTTGAAGTTTATATTTTTATTTTATTAGGTTTTGGAATA\r\n"
     ]
    }
   ],
   "source": [
    "!head /cellar/users/btsui/Data/RAPMAP_INDEX/HMB/Homo_sapiens/Bisulfite_Genome/CT_conversion/genome_mfa.CT_conversion.fa"
   ]
  },
  {
   "cell_type": "code",
   "execution_count": null,
   "metadata": {
    "collapsed": true
   },
   "outputs": [],
   "source": []
  }
 ],
 "metadata": {
  "kernelspec": {
   "display_name": "Python 2",
   "language": "python",
   "name": "python2"
  },
  "language_info": {
   "codemirror_mode": {
    "name": "ipython",
    "version": 2
   },
   "file_extension": ".py",
   "mimetype": "text/x-python",
   "name": "python",
   "nbconvert_exporter": "python",
   "pygments_lexer": "ipython2",
   "version": "2.7.13"
  }
 },
 "nbformat": 4,
 "nbformat_minor": 0
}
