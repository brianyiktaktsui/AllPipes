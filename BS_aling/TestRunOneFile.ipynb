{
 "cells": [
  {
   "cell_type": "code",
   "execution_count": 13,
   "metadata": {
    "collapsed": false
   },
   "outputs": [],
   "source": [
    "import os\n",
    "#!wget ftp://ftp.ncbi.nlm.nih.gov/geo/samples/GSM432nnn/GSM432687/suppl/GSM432687_UCSD.IMR90.Bisulfite-Seq.combined.wig.gz"
   ]
  },
  {
   "cell_type": "code",
   "execution_count": 15,
   "metadata": {
    "collapsed": false
   },
   "outputs": [],
   "source": [
    "myoption=r'\"/cellar/users/btsui/.aspera/connect/bin/ascp|/cellar/users/btsui/.aspera/connect/etc/asperaweb_id_dsa.openssh\"'\n",
    "my_id='SRR019649'\n",
    "downloadCommand=['prefetch','-t','ascp','--ascp-path',myoption,my_id]\n"
   ]
  },
  {
   "cell_type": "code",
   "execution_count": null,
   "metadata": {
    "collapsed": true
   },
   "outputs": [],
   "source": [
    "os.system(' '.join(downloadCommand))"
   ]
  },
  {
   "cell_type": "code",
   "execution_count": 5,
   "metadata": {
    "collapsed": false
   },
   "outputs": [
    {
     "name": "stdout",
     "output_type": "stream",
     "text": [
      "53129972 GSM432687_UCSD.IMR90.Bisulfite-Seq.combined.wig\r\n"
     ]
    }
   ],
   "source": [
    "#!wc -l GSM432687_UCSD.IMR90.Bisulfite-Seq.combined.wig"
   ]
  },
  {
   "cell_type": "code",
   "execution_count": 14,
   "metadata": {
    "collapsed": false
   },
   "outputs": [
    {
     "ename": "NameError",
     "evalue": "name 'my_id' is not defined",
     "output_type": "error",
     "traceback": [
      "\u001b[1;31m---------------------------------------------------------------------------\u001b[0m",
      "\u001b[1;31mNameError\u001b[0m                                 Traceback (most recent call last)",
      "\u001b[1;32m<ipython-input-14-f88f47e125d9>\u001b[0m in \u001b[0;36m<module>\u001b[1;34m()\u001b[0m\n\u001b[0;32m      5\u001b[0m \u001b[0mSRA_FASTQ_TOOL_DIR\u001b[0m\u001b[1;33m=\u001b[0m\u001b[1;34m\"/cellar/users/btsui/Program/SRA_TOOL_KIT/sratoolkit.2.4.2-ubuntu64/bin/fastq-dump.2.4.2\"\u001b[0m\u001b[1;33m\u001b[0m\u001b[0m\n\u001b[0;32m      6\u001b[0m \u001b[0mjob_tmp_dir\u001b[0m\u001b[1;33m=\u001b[0m\u001b[1;34m'/cellar/users/btsui/Project/METAMAP/notebook/RapMapTest/AnalyzeReferences/'\u001b[0m\u001b[1;33m\u001b[0m\u001b[0m\n\u001b[1;32m----> 7\u001b[1;33m \u001b[0mdump_command\u001b[0m\u001b[1;33m=\u001b[0m\u001b[1;33m[\u001b[0m\u001b[0mSRA_FASTQ_TOOL_DIR\u001b[0m\u001b[1;33m,\u001b[0m\u001b[1;34m\"-B\"\u001b[0m\u001b[1;33m,\u001b[0m\u001b[1;34m\"--split-files\"\u001b[0m\u001b[1;33m,\u001b[0m\u001b[1;34m'/tmp/btsui/METH/sra/'\u001b[0m\u001b[1;33m+\u001b[0m\u001b[0mmy_id\u001b[0m\u001b[1;33m+\u001b[0m\u001b[1;34m'.sra'\u001b[0m\u001b[1;33m,\u001b[0m \u001b[1;34m'-M'\u001b[0m\u001b[1;33m,\u001b[0m \u001b[1;34m'0'\u001b[0m\u001b[1;33m,\u001b[0m\u001b[1;34m\"-O\"\u001b[0m\u001b[1;33m,\u001b[0m\u001b[0mjob_tmp_dir\u001b[0m\u001b[1;33m]\u001b[0m\u001b[1;33m\u001b[0m\u001b[0m\n\u001b[0m\u001b[0;32m      8\u001b[0m \u001b[0mos\u001b[0m\u001b[1;33m.\u001b[0m\u001b[0mmkdir\u001b[0m\u001b[1;33m(\u001b[0m\u001b[0mjob_tmp_dir\u001b[0m\u001b[1;33m+\u001b[0m\u001b[0mmy_id\u001b[0m\u001b[1;33m)\u001b[0m\u001b[1;33m\u001b[0m\u001b[0m\n",
      "\u001b[1;31mNameError\u001b[0m: name 'my_id' is not defined"
     ]
    }
   ],
   "source": [
    "### those are probably CpG\n",
    "#\n",
    "### try checking which ones does it align to?\n",
    "### map half of the reads first, does it yield anything that resemble beta-value with just half of the reads\n",
    "SRA_FASTQ_TOOL_DIR=\"/cellar/users/btsui/Program/SRA_TOOL_KIT/sratoolkit.2.4.2-ubuntu64/bin/fastq-dump.2.4.2\"\n",
    "job_tmp_dir='/cellar/users/btsui/Project/METAMAP/notebook/RapMapTest/AnalyzeReferences/'\n",
    "dump_command=[SRA_FASTQ_TOOL_DIR,\"-B\",\"--split-files\",'/tmp/btsui/METH/sra/'+my_id+'.sra', '-M', '0',\"-O\",job_tmp_dir]\n",
    "os.mkdir(job_tmp_dir+my_id)\n"
   ]
  },
  {
   "cell_type": "code",
   "execution_count": null,
   "metadata": {
    "collapsed": true
   },
   "outputs": [],
   "source": [
    "os.system(' '.join(dump_command))"
   ]
  },
  {
   "cell_type": "code",
   "execution_count": null,
   "metadata": {
    "collapsed": true
   },
   "outputs": [],
   "source": [
    "###$ bedtools getfasta [OPTIONS] -fi <input FASTA> -bed <BED/GFF/VCF>"
   ]
  },
  {
   "cell_type": "code",
   "execution_count": 16,
   "metadata": {
    "collapsed": false
   },
   "outputs": [],
   "source": [
    "### bam feature count?\n",
    "## do the mapping: \n",
    "myRef='/cellar/users/btsui/Data/RAPMAP_INDEX/HMB/Homo_sapiens/'\n",
    "myCmd='/cellar/users/btsui/Program/rapmap/RapMap-master/bin/rapmap quasimap -i {ref} -r {r1} --noStrictCheck -o mapped_reads.sam'.format(ref=myRef,r1=job_tmp_dir+my_id+'_1.fastq'\n",
    "                                                 ,r2=job_tmp_dir+my_id+'_2.fastq')"
   ]
  },
  {
   "cell_type": "code",
   "execution_count": 17,
   "metadata": {
    "collapsed": false
   },
   "outputs": [
    {
     "data": {
      "text/plain": [
       "'/cellar/users/btsui/Project/METAMAP/notebook/RapMapTest/AnalyzeReferences/SRR019649.fastq'"
      ]
     },
     "execution_count": 17,
     "metadata": {},
     "output_type": "execute_result"
    }
   ],
   "source": [
    "job_tmp_dir+my_id+'.fastq'"
   ]
  },
  {
   "cell_type": "code",
   "execution_count": null,
   "metadata": {
    "collapsed": false
   },
   "outputs": [],
   "source": [
    "!ls "
   ]
  },
  {
   "cell_type": "code",
   "execution_count": null,
   "metadata": {
    "collapsed": true
   },
   "outputs": [],
   "source": []
  },
  {
   "cell_type": "code",
   "execution_count": 18,
   "metadata": {
    "collapsed": false
   },
   "outputs": [
    {
     "data": {
      "text/plain": [
       "'/cellar/users/btsui/Program/rapmap/RapMap-master/bin/rapmap quasimap -i /cellar/users/btsui/Data/RAPMAP_INDEX/HMB/Homo_sapiens/ -r /cellar/users/btsui/Project/METAMAP/notebook/RapMapTest/AnalyzeReferences/SRR019649_1.fastq --noStrictCheck -o mapped_reads.sam'"
      ]
     },
     "execution_count": 18,
     "metadata": {},
     "output_type": "execute_result"
    }
   ],
   "source": [
    "myCmd"
   ]
  },
  {
   "cell_type": "code",
   "execution_count": null,
   "metadata": {
    "collapsed": false
   },
   "outputs": [
    {
     "name": "stdout",
     "output_type": "stream",
     "text": [
      "\u001b[1m[2017-11-16 07:14:09.212] [stderrLog] [info] \n",
      "command line options\n",
      "====================\n",
      "index: \n",
      "unmated read(s): /cellar/users/btsui/Project/METAMAP/notebook/RapMapTest/AnalyzeReferences/SRR019649_1.fastq\n",
      "output: mapped_reads.sam\n",
      "num. threads: 1\n",
      "max num. hits: 200\n",
      "quasi-coverage: 0\n",
      "no output: false\n",
      "sensitive: false\n",
      "strict check: false\n",
      "fuzzy intersection: false\n",
      "consistent hits: false\n",
      "====================\n",
      "\u001b[00m\u001b[1m[2017-11-16 07:14:09.216] [stderrLog] [info] Loading Suffix Array \n",
      "\u001b[00m\u001b[1m[2017-11-16 07:14:09.382] [stderrLog] [info] Loading Transcript Info \n",
      "\u001b[00m\u001b[1m[2017-11-16 07:14:09.442] [stderrLog] [info] Loading Rank-Select Bit Array\n",
      "\u001b[00m\u001b[1m[2017-11-16 07:14:09.467] [stderrLog] [info] There were 295776 set bits in the bit array\n",
      "\u001b[00m\u001b[1m[2017-11-16 07:14:09.470] [stderrLog] [info] Computing transcript lengths\n",
      "\u001b[00m\u001b[1m[2017-11-16 07:14:09.470] [stderrLog] [info] Waiting to finish loading hash\n",
      "\u001b[00m\u001b[1m[2017-11-16 07:14:11.582] [stderrLog] [info] Done loading index\n",
      "\u001b[00m\n",
      "\n",
      "\n",
      "\n",
      "\u001b[1m[2017-11-16 07:14:11.759] [stderrLog] [info] mapping reads . . . \n",
      "\n",
      "\n",
      "\n",
      "\u001b[00m\u001b[F\u001b[Fsaw 1000001 reads\n",
      "# hits per read = 0.209907\n",
      "\u001b[F\u001b[Fsaw 2000002 reads\n",
      "# hits per read = 0.169734\n",
      "\u001b[F\u001b[Fsaw 3000003 reads\n",
      "# hits per read = 0.158121\n"
     ]
    }
   ],
   "source": [
    "!/cellar/users/btsui/Program/rapmap/RapMap-master/bin/rapmap quasimap -i /cellar/users/btsui/Data/RAPMAP_INDEX/HMB/Homo_sapiens/ -r /cellar/users/btsui/Project/METAMAP/notebook/RapMapTest/AnalyzeReferences/SRR019649_1.fastq --noStrictCheck -o mapped_reads.sam"
   ]
  },
  {
   "cell_type": "code",
   "execution_count": 30,
   "metadata": {
    "collapsed": false
   },
   "outputs": [
    {
     "data": {
      "text/plain": [
       "0"
      ]
     },
     "execution_count": 30,
     "metadata": {},
     "output_type": "execute_result"
    }
   ],
   "source": [
    "os.system(myCmd)"
   ]
  },
  {
   "cell_type": "code",
   "execution_count": 31,
   "metadata": {
    "collapsed": false
   },
   "outputs": [
    {
     "name": "stdout",
     "output_type": "stream",
     "text": [
      "-rw-r--r-- 1 btsui users 15M Nov 16 05:07 mapped_reads.sam\r\n"
     ]
    }
   ],
   "source": [
    "!ls -lah mapped_reads.sam"
   ]
  },
  {
   "cell_type": "code",
   "execution_count": 32,
   "metadata": {
    "collapsed": false
   },
   "outputs": [
    {
     "name": "stdout",
     "output_type": "stream",
     "text": [
      "@SQ\tSN:chr9:140917830-140918052_methylated\tLN:222\r\n",
      "@SQ\tSN:chr9:140917855-140918065_unmethylated\tLN:210\r\n",
      "@SQ\tSN:chr9:140917855-140918065_methylated\tLN:210\r\n",
      "@SQ\tSN:chr9:140917878-140918094_unmethylated\tLN:216\r\n",
      "@SQ\tSN:chr9:140917878-140918094_methylated\tLN:216\r\n",
      "@SQ\tSN:chr9:140917922-140918138_unmethylated\tLN:216\r\n",
      "@SQ\tSN:chr9:140917922-140918138_methylated\tLN:216\r\n",
      "@SQ\tSN:chr9:140917950-140918157_unmethylated\tLN:207\r\n",
      "@SQ\tSN:chr9:140917950-140918157_methylated\tLN:207\r\n",
      "@PG\tID:rapmap\tPN:rapmap\tVN:0.5.0\r\n"
     ]
    }
   ],
   "source": [
    "!tail mapped_reads.sam"
   ]
  },
  {
   "cell_type": "code",
   "execution_count": 26,
   "metadata": {
    "collapsed": false
   },
   "outputs": [
    {
     "name": "stdout",
     "output_type": "stream",
     "text": [
      "-rw-r--r-- 1 btsui users 5.6G Nov 16 04:59 /cellar/users/btsui/Project/METAMAP/notebook/RapMapTest/AnalyzeReferences/SRR019649_1.fastq\r\n"
     ]
    }
   ],
   "source": [
    "!ls -lah /cellar/users/btsui/Project/METAMAP/notebook/RapMapTest/AnalyzeReferences/SRR019649_1.fastq"
   ]
  },
  {
   "cell_type": "markdown",
   "metadata": {},
   "source": [
    "### use pandas to read in the data"
   ]
  },
  {
   "cell_type": "code",
   "execution_count": 32,
   "metadata": {
    "collapsed": true
   },
   "outputs": [],
   "source": [
    "import pandas as pd\n",
    "import numpy as np\n",
    "%matplotlib inline"
   ]
  },
  {
   "cell_type": "code",
   "execution_count": 35,
   "metadata": {
    "collapsed": false
   },
   "outputs": [
    {
     "name": "stdout",
     "output_type": "stream",
     "text": [
      "@SRR019649.1 EVANS_3018:1:1:0:1677 length=87\r\n",
      "NTATTATTTTATTATAGGTGTNAGGAAATGAGTANANNNNNNNNNTTAGANNNNTTNNNNNNNNNNGATTTATGGATNNNNNNNNAT\r\n",
      "+SRR019649.1 EVANS_3018:1:1:0:1677 length=87\r\n",
      "!1/6747<#############!############!#!!!!!!!!!#####!!!!##!!!!!!!!!!###########!!!!!!!!##\r\n",
      "@SRR019649.2 EVANS_3018:1:1:0:1667 length=87\r\n",
      "NATAGTATTTTATGAGTAGGGNTGGGGGATTTGTNTNNNNNNNNNGGTTANNNNTTNNNNNNNNNNTTGTTATTGTANNNNNNNNGA\r\n",
      "+SRR019649.2 EVANS_3018:1:1:0:1667 length=87\r\n",
      "!####################!############!#!!!!!!!!!#####!!!!##!!!!!!!!!!###########!!!!!!!!##\r\n",
      "@SRR019649.3 EVANS_3018:1:1:0:863 length=87\r\n",
      "NTTGAGAAAGTTAATTAGATTNGGTAAAGTAATANTNNNNNNNNNTGTATNNNNGGNNNNNNNNNNAGCGGAAGAACNNNNNNNNCG\r\n"
     ]
    }
   ],
   "source": [
    "!head /cellar/users/btsui/Project/METAMAP/notebook/RapMapTest/AnalyzeReferences/SRR019649_1.fastq"
   ]
  },
  {
   "cell_type": "code",
   "execution_count": 22,
   "metadata": {
    "collapsed": true
   },
   "outputs": [],
   "source": [
    "tmpInDf=pd.read_csv('mapped_reads.sam',comment='@',sep='\\t',header=None)"
   ]
  },
  {
   "cell_type": "code",
   "execution_count": 27,
   "metadata": {
    "collapsed": false
   },
   "outputs": [],
   "source": [
    "tmpInDf.columns=['query','','site','mate','','cigar','','','','query_seq','','']"
   ]
  },
  {
   "cell_type": "code",
   "execution_count": 36,
   "metadata": {
    "collapsed": false
   },
   "outputs": [
    {
     "data": {
      "text/html": [
       "<div>\n",
       "<style>\n",
       "    .dataframe thead tr:only-child th {\n",
       "        text-align: right;\n",
       "    }\n",
       "\n",
       "    .dataframe thead th {\n",
       "        text-align: left;\n",
       "    }\n",
       "\n",
       "    .dataframe tbody tr th {\n",
       "        vertical-align: top;\n",
       "    }\n",
       "</style>\n",
       "<table border=\"1\" class=\"dataframe\">\n",
       "  <thead>\n",
       "    <tr style=\"text-align: right;\">\n",
       "      <th></th>\n",
       "      <th>query</th>\n",
       "      <th></th>\n",
       "      <th>site</th>\n",
       "      <th>mate</th>\n",
       "      <th></th>\n",
       "      <th>cigar</th>\n",
       "      <th></th>\n",
       "      <th></th>\n",
       "      <th></th>\n",
       "      <th>query_seq</th>\n",
       "      <th></th>\n",
       "      <th></th>\n",
       "    </tr>\n",
       "  </thead>\n",
       "  <tbody>\n",
       "    <tr>\n",
       "      <th>0</th>\n",
       "      <td>SRR019649.327</td>\n",
       "      <td>0</td>\n",
       "      <td>chr14:104069436-104069692_unmethylated</td>\n",
       "      <td>195</td>\n",
       "      <td>255</td>\n",
       "      <td>62M25S</td>\n",
       "      <td>*</td>\n",
       "      <td>0</td>\n",
       "      <td>0</td>\n",
       "      <td>CGTGATATTGTATTTTAGTTTGGGTGATAGAGTGAGNNNNNNNNNT...</td>\n",
       "      <td>*</td>\n",
       "      <td>NH:i:2</td>\n",
       "    </tr>\n",
       "    <tr>\n",
       "      <th>1</th>\n",
       "      <td>SRR019649.327</td>\n",
       "      <td>2304</td>\n",
       "      <td>chr3:10222958-10223314_unmethylated</td>\n",
       "      <td>279</td>\n",
       "      <td>255</td>\n",
       "      <td>78M9S</td>\n",
       "      <td>*</td>\n",
       "      <td>0</td>\n",
       "      <td>0</td>\n",
       "      <td>CGTGATATTGTATTTTAGTTTGGGTGATAGAGTGAGNNNNNNNNNT...</td>\n",
       "      <td>*</td>\n",
       "      <td>NH:i:2</td>\n",
       "    </tr>\n",
       "    <tr>\n",
       "      <th>2</th>\n",
       "      <td>SRR019649.329</td>\n",
       "      <td>0</td>\n",
       "      <td>chr11:31380762-31380996_unmethylated</td>\n",
       "      <td>10</td>\n",
       "      <td>255</td>\n",
       "      <td>87M</td>\n",
       "      <td>*</td>\n",
       "      <td>0</td>\n",
       "      <td>0</td>\n",
       "      <td>ATATATATATTATGGAATATTATGTAGTTATAAAAANNNNNNNNNT...</td>\n",
       "      <td>*</td>\n",
       "      <td>NH:i:11</td>\n",
       "    </tr>\n",
       "    <tr>\n",
       "      <th>3</th>\n",
       "      <td>SRR019649.329</td>\n",
       "      <td>2304</td>\n",
       "      <td>chr11:31380762-31380996_methylated</td>\n",
       "      <td>10</td>\n",
       "      <td>255</td>\n",
       "      <td>87M</td>\n",
       "      <td>*</td>\n",
       "      <td>0</td>\n",
       "      <td>0</td>\n",
       "      <td>ATATATATATTATGGAATATTATGTAGTTATAAAAANNNNNNNNNT...</td>\n",
       "      <td>*</td>\n",
       "      <td>NH:i:11</td>\n",
       "    </tr>\n",
       "    <tr>\n",
       "      <th>4</th>\n",
       "      <td>SRR019649.329</td>\n",
       "      <td>2304</td>\n",
       "      <td>chr13:58459223-58459566_unmethylated</td>\n",
       "      <td>179</td>\n",
       "      <td>255</td>\n",
       "      <td>87M</td>\n",
       "      <td>*</td>\n",
       "      <td>0</td>\n",
       "      <td>0</td>\n",
       "      <td>ATATATATATTATGGAATATTATGTAGTTATAAAAANNNNNNNNNT...</td>\n",
       "      <td>*</td>\n",
       "      <td>NH:i:11</td>\n",
       "    </tr>\n",
       "  </tbody>\n",
       "</table>\n",
       "</div>"
      ],
      "text/plain": [
       "           query                                          site  mate       \\\n",
       "0  SRR019649.327     0  chr14:104069436-104069692_unmethylated   195  255   \n",
       "1  SRR019649.327  2304     chr3:10222958-10223314_unmethylated   279  255   \n",
       "2  SRR019649.329     0    chr11:31380762-31380996_unmethylated    10  255   \n",
       "3  SRR019649.329  2304      chr11:31380762-31380996_methylated    10  255   \n",
       "4  SRR019649.329  2304    chr13:58459223-58459566_unmethylated   179  255   \n",
       "\n",
       "    cigar                                                   query_seq     \\\n",
       "0  62M25S  *  0  0  CGTGATATTGTATTTTAGTTTGGGTGATAGAGTGAGNNNNNNNNNT...  *   \n",
       "1   78M9S  *  0  0  CGTGATATTGTATTTTAGTTTGGGTGATAGAGTGAGNNNNNNNNNT...  *   \n",
       "2     87M  *  0  0  ATATATATATTATGGAATATTATGTAGTTATAAAAANNNNNNNNNT...  *   \n",
       "3     87M  *  0  0  ATATATATATTATGGAATATTATGTAGTTATAAAAANNNNNNNNNT...  *   \n",
       "4     87M  *  0  0  ATATATATATTATGGAATATTATGTAGTTATAAAAANNNNNNNNNT...  *   \n",
       "\n",
       "            \n",
       "0   NH:i:2  \n",
       "1   NH:i:2  \n",
       "2  NH:i:11  \n",
       "3  NH:i:11  \n",
       "4  NH:i:11  "
      ]
     },
     "execution_count": 36,
     "metadata": {},
     "output_type": "execute_result"
    }
   ],
   "source": [
    "tmpInDf.head()"
   ]
  },
  {
   "cell_type": "code",
   "execution_count": 33,
   "metadata": {
    "collapsed": false
   },
   "outputs": [
    {
     "data": {
      "text/plain": [
       "<matplotlib.axes._subplots.AxesSubplot at 0x7f444de70350>"
      ]
     },
     "execution_count": 33,
     "metadata": {},
     "output_type": "execute_result"
    },
    {
     "data": {
      "image/png": "[encoded data removed]",
      "text/plain": [
       "<matplotlib.figure.Figure at 0x7f444deb7f10>"
      ]
     },
     "metadata": {},
     "output_type": "display_data"
    }
   ],
   "source": [
    "tmpInDf.query_seq.str.len().hist()"
   ]
  },
  {
   "cell_type": "code",
   "execution_count": 98,
   "metadata": {
    "collapsed": false,
    "scrolled": false
   },
   "outputs": [
    {
     "name": "stderr",
     "output_type": "stream",
     "text": [
      "/cellar/users/btsui/anaconda2/lib/python2.7/site-packages/ipykernel/__main__.py:2: FutureWarning: currently extract(expand=None) means expand=False (return Index/Series/DataFrame) but in a future version of pandas this will be changed to expand=True (return DataFrame)\n",
      "  from ipykernel import kernelapp as app\n"
     ]
    }
   ],
   "source": [
    "#figure out the beta value for sites \n",
    "tmpInDf['n_matches']=tmpInDf.cigar.str.extract('(\\d+)M').astype(np.int)"
   ]
  },
  {
   "cell_type": "code",
   "execution_count": 99,
   "metadata": {
    "collapsed": false
   },
   "outputs": [],
   "source": [
    "sortedDf=tmpInDf.sort_values(['query','n_matches'],ascending=True)"
   ]
  },
  {
   "cell_type": "code",
   "execution_count": 100,
   "metadata": {
    "collapsed": false
   },
   "outputs": [],
   "source": [
    "VC=sortedDf['query'].value_counts()#.drop_duplicates(['query','n_matches'])"
   ]
  },
  {
   "cell_type": "code",
   "execution_count": 101,
   "metadata": {
    "collapsed": false,
    "scrolled": false
   },
   "outputs": [],
   "source": [
    "selectedReads=VC.index[VC==1]"
   ]
  },
  {
   "cell_type": "code",
   "execution_count": 102,
   "metadata": {
    "collapsed": false
   },
   "outputs": [],
   "source": [
    "uniqueHitDf=sortedDf[sortedDf['query'].isin(selectedReads)]"
   ]
  },
  {
   "cell_type": "code",
   "execution_count": 104,
   "metadata": {
    "collapsed": false
   },
   "outputs": [],
   "source": [
    "siteS=uniqueHitDf.site.value_counts()"
   ]
  },
  {
   "cell_type": "code",
   "execution_count": 106,
   "metadata": {
    "collapsed": false
   },
   "outputs": [],
   "source": [
    "multI=siteS.index.str.split('_',expand=True)"
   ]
  },
  {
   "cell_type": "code",
   "execution_count": 108,
   "metadata": {
    "collapsed": false
   },
   "outputs": [],
   "source": [
    "siteS.index=multI"
   ]
  },
  {
   "cell_type": "code",
   "execution_count": 111,
   "metadata": {
    "collapsed": false
   },
   "outputs": [],
   "source": [
    "myUnstackDf=siteS.unstack()"
   ]
  },
  {
   "cell_type": "code",
   "execution_count": 113,
   "metadata": {
    "collapsed": false
   },
   "outputs": [],
   "source": [
    "myUnstackDf['total']=myUnstackDf.sum(axis=1)"
   ]
  },
  {
   "cell_type": "code",
   "execution_count": 116,
   "metadata": {
    "collapsed": false
   },
   "outputs": [],
   "source": [
    "myUnstackDf.sort_values('total').to_pickle('rapmap.pickle')"
   ]
  },
  {
   "cell_type": "markdown",
   "metadata": {},
   "source": [
    "### for the wig file, convert to bed file?"
   ]
  },
  {
   "cell_type": "code",
   "execution_count": 117,
   "metadata": {
    "collapsed": false
   },
   "outputs": [
    {
     "name": "stdout",
     "output_type": "stream",
     "text": [
      "track type=wiggle_0 name=\"IMR90 combined\" visibility=full color=20,150,20 altColor=150,20,20 windowingFunction=mean\r\n",
      "variableStep chrom=chr1\r\n",
      "10469\t0.692307692307692\r\n",
      "10470\t0.692307692307692\r\n",
      "10471\t0.671875\r\n",
      "10472\t0.671875\r\n",
      "10484\t0.782051282051282\r\n",
      "10485\t0.782051282051282\r\n",
      "10489\t0.810126582278481\r\n",
      "10490\t0.810126582278481\r\n"
     ]
    }
   ],
   "source": [
    "!head GSM432687_UCSD.IMR90.Bisulfite-Seq.combined.wig"
   ]
  },
  {
   "cell_type": "code",
   "execution_count": 118,
   "metadata": {
    "collapsed": true
   },
   "outputs": [],
   "source": [
    "!awk '{print $1\"\\t\"$2-1\"\\t\"$2\"\\t\"$3}' GSM432687_UCSD.IMR90.Bisulfite-Seq.combined.wig > GSM432687_UCSD.IMR90.Bisulfite-Seq.combined.bedgraph\n"
   ]
  },
  {
   "cell_type": "code",
   "execution_count": 120,
   "metadata": {
    "collapsed": false
   },
   "outputs": [
    {
     "name": "stdout",
     "output_type": "stream",
     "text": [
      "track type=wiggle_0 name=\"IMR90 combined\" visibility=full color=20,150,20 altColor=150,20,20 windowingFunction=mean\r\n",
      "variableStep chrom=chr1\r\n",
      "10469\t0.692307692307692\r\n",
      "10470\t0.692307692307692\r\n",
      "10471\t0.671875\r\n",
      "10472\t0.671875\r\n",
      "10484\t0.782051282051282\r\n",
      "10485\t0.782051282051282\r\n",
      "10489\t0.810126582278481\r\n",
      "10490\t0.810126582278481\r\n"
     ]
    }
   ],
   "source": [
    "!head GSM432687_UCSD.IMR90.Bisulfite-Seq.combined.wig"
   ]
  },
  {
   "cell_type": "code",
   "execution_count": 2,
   "metadata": {
    "collapsed": false
   },
   "outputs": [],
   "source": [
    "%%bash\n",
    "source /cellar/users/btsui/.bash_profile\n",
    "wig2bed < GSM432687_UCSD.IMR90.Bisulfite-Seq.combined.wig > GSM432687_UCSD.IMR90.Bisulfite-Seq.combined.bed"
   ]
  },
  {
   "cell_type": "code",
   "execution_count": 9,
   "metadata": {
    "collapsed": false
   },
   "outputs": [
    {
     "name": "stdout",
     "output_type": "stream",
     "text": [
      "total 1.3G\r\n",
      "drwxr-xr-x 3 btsui users   15 Nov 16 06:23 .\r\n",
      "-rw-r--r-- 1 btsui users  19K Nov 16 06:23 TestRunOneFile.ipynb\r\n",
      "-rw-r--r-- 1 btsui users    0 Nov 16 06:21 GSM432687_UCSD.IMR90.Bisulfite-Seq.combined.bed\r\n",
      "-rw-r--r-- 1 btsui users  32K Nov 16 06:08 Untitled.ipynb\r\n",
      "-rw-r--r-- 1 btsui users 1.7G Nov 16 05:45 GSM432687_UCSD.IMR90.Bisulfite-Seq.combined.bedgraph\r\n",
      "drwxr-xr-x 2 btsui users    5 Nov 16 05:44 .ipynb_checkpoints\r\n",
      "-rw-r--r-- 1 btsui users 2.2M Nov 16 05:40 rapmap.pickle\r\n",
      "-rw-r--r-- 1 btsui users  21K Nov 16 05:19 GenerateReference.ipynb\r\n",
      "-rw-r--r-- 1 btsui users 472M Nov 16 05:18 mapped_reads.sam\r\n",
      "-rw-r--r-- 1 btsui users 4.1M Nov 16 05:01 mapped_reads.bam\r\n",
      "-rw-r--r-- 1 btsui users  46M Nov 16 04:08 MHB.tsv\r\n",
      "-rw-r--r-- 1 btsui users 4.3M Nov 16 01:50 MHB.bed\r\n",
      "-rw-r--r-- 1 btsui users 4.0M Nov 16 01:29 ng.3805-S2.xlsx\r\n",
      "-rw-r--r-- 1 btsui users 1.2G Nov 16 01:23 GSM432687_UCSD.IMR90.Bisulfite-Seq.combined.wig\r\n",
      "drwxr-xr-x 5 btsui users    6 Nov 16 01:22 ..\r\n"
     ]
    }
   ],
   "source": [
    "!ls -alth "
   ]
  },
  {
   "cell_type": "code",
   "execution_count": 123,
   "metadata": {
    "collapsed": false
   },
   "outputs": [],
   "source": [
    "with open ('GSM432687_UCSD.IMR90.Bisulfite-Seq.combined.wig','r')as f:\n",
    "    myL=f.read()"
   ]
  },
  {
   "cell_type": "code",
   "execution_count": 154,
   "metadata": {
    "collapsed": false
   },
   "outputs": [],
   "source": [
    "chromL=myL.split('variableStep')"
   ]
  },
  {
   "cell_type": "code",
   "execution_count": 155,
   "metadata": {
    "collapsed": false
   },
   "outputs": [
    {
     "data": {
      "text/plain": [
       "26"
      ]
     },
     "execution_count": 155,
     "metadata": {},
     "output_type": "execute_result"
    }
   ],
   "source": [
    "len(chromL)"
   ]
  },
  {
   "cell_type": "code",
   "execution_count": null,
   "metadata": {
    "collapsed": false
   },
   "outputs": [],
   "source": [
    "betaSL=[]\n",
    "for tmpL in chromL[1:]:\n",
    "    splitL=tmpL.split('\\n')\n",
    "    siteL=splitL[1:]\n",
    "    BetaL=[]\n",
    "    SiteL=[]\n",
    "    for L in siteL:\n",
    "        if '\\t' in L:\n",
    "            Site,Beta= L.split('\\t') \n",
    "            SiteL.append(Site)\n",
    "            BetaL.append(Beta)\n",
    "\n",
    "    multI=pd.MultiIndex.from_product([[splitL[0].split('chrom=')[1]],SiteL])\n",
    "    tmpS=pd.Series(index=multI,data=BetaL)\n",
    "    betaSL.append(tmpS)"
   ]
  },
  {
   "cell_type": "code",
   "execution_count": null,
   "metadata": {
    "collapsed": false
   },
   "outputs": [],
   "source": [
    "GSM432687_UCSD=pd.concat(betaSL)"
   ]
  },
  {
   "cell_type": "code",
   "execution_count": null,
   "metadata": {
    "collapsed": true
   },
   "outputs": [],
   "source": [
    "GSM432687_UCSD.to_pickle('GSM432687_UCSD.pickle')"
   ]
  },
  {
   "cell_type": "code",
   "execution_count": null,
   "metadata": {
    "collapsed": true
   },
   "outputs": [],
   "source": []
  },
  {
   "cell_type": "code",
   "execution_count": 10,
   "metadata": {
    "collapsed": false
   },
   "outputs": [
    {
     "name": "stdout",
     "output_type": "stream",
     "text": [
      "\r\n",
      "USAGE: \r\n",
      "\r\n",
      "   /cellar/users/btsui/Program/rapmap/RapMap-master/bin/rapmap  [-q] [-c]\r\n",
      "                                        [-f] [--noStrictCheck] [-e] [-z\r\n",
      "                                        <double in [0,1]>] [-m <positive\r\n",
      "                                        integer>] [-t <positive integer>]\r\n",
      "                                        [-o <path>] [-r <path>] [-2 <path>]\r\n",
      "                                        [-1 <path>] [-n] -i <path> [--]\r\n",
      "                                        [--version] [-h]\r\n",
      "\r\n",
      "\r\n",
      "Where: \r\n",
      "\r\n",
      "   -q,  --quiet\r\n",
      "     Disable all console output apart from warnings and errors\r\n",
      "\r\n",
      "   -c,  --consistentHits\r\n",
      "     Ensure that the hits collected are consistent (co-linear)\r\n",
      "\r\n",
      "   -f,  --fuzzyIntersection\r\n",
      "     Find paired-end mapping locations using fuzzy intersection\r\n",
      "\r\n",
      "   --noStrictCheck\r\n",
      "     Don't perform extra checks to try and assure that only equally \"best\"\r\n",
      "     mappings for a read are reported\r\n",
      "\r\n",
      "   -e,  --sensitive\r\n",
      "     Perform a more sensitive quasi-mapping by disabling NIP skipping\r\n",
      "\r\n",
      "   -z <double in [0,1]>,  --quasiCoverage <double in [0,1]>\r\n",
      "     Require that this fraction of a read is covered by MMPs before it is\r\n",
      "     considered mappable.\r\n",
      "\r\n",
      "   -m <positive integer>,  --maxNumHits <positive integer>\r\n",
      "     Reads mapping to more than this many loci are discarded\r\n",
      "\r\n",
      "   -t <positive integer>,  --numThreads <positive integer>\r\n",
      "     Number of threads to use\r\n",
      "\r\n",
      "   -o <path>,  --output <path>\r\n",
      "     The output file (default: stdout)\r\n",
      "\r\n",
      "   -r <path>,  --unmatedReads <path>\r\n",
      "     The location of single-end reads\r\n",
      "\r\n",
      "   -2 <path>,  --rightMates <path>\r\n",
      "     The location of the right paired-end reads\r\n",
      "\r\n",
      "   -1 <path>,  --leftMates <path>\r\n",
      "     The location of the left paired-end reads\r\n",
      "\r\n",
      "   -n,  --noOutput\r\n",
      "     Don't write out any alignments (for speed testing purposes)\r\n",
      "\r\n",
      "   -i <path>,  --index <path>\r\n",
      "     (required)  The location of the quasiindex\r\n",
      "\r\n",
      "   --,  --ignore_rest\r\n",
      "     Ignores the rest of the labeled arguments following this flag.\r\n",
      "\r\n",
      "   --version\r\n",
      "     Displays version information and exits.\r\n",
      "\r\n",
      "   -h,  --help\r\n",
      "     Displays usage information and exits.\r\n",
      "\r\n",
      "\r\n",
      "   RapMap Mapper\r\n",
      "\r\n"
     ]
    }
   ],
   "source": [
    "!/cellar/users/btsui/Program/rapmap/RapMap-master/bin/rapmap quasimap --help"
   ]
  },
  {
   "cell_type": "code",
   "execution_count": null,
   "metadata": {
    "collapsed": true
   },
   "outputs": [],
   "source": []
  }
 ],
 "metadata": {
  "kernelspec": {
   "display_name": "Python 2",
   "language": "python",
   "name": "python2"
  },
  "language_info": {
   "codemirror_mode": {
    "name": "ipython",
    "version": 2
   },
   "file_extension": ".py",
   "mimetype": "text/x-python",
   "name": "python",
   "nbconvert_exporter": "python",
   "pygments_lexer": "ipython2",
   "version": "2.7.13"
  }
 },
 "nbformat": 4,
 "nbformat_minor": 0
}
