{
 "cells": [
  {
   "cell_type": "code",
   "execution_count": 1,
   "metadata": {
    "collapsed": true
   },
   "outputs": [],
   "source": [
    "import pandas  as pd\n",
    "import numpy as np\n",
    "import os\n",
    "%matplotlib inline"
   ]
  },
  {
   "cell_type": "code",
   "execution_count": 4,
   "metadata": {
    "collapsed": true
   },
   "outputs": [],
   "source": [
    "#!cp ../AnalyzeReferences/ng.3805-S2.xlsx ."
   ]
  },
  {
   "cell_type": "code",
   "execution_count": 20,
   "metadata": {
    "collapsed": false
   },
   "outputs": [],
   "source": [
    "\n",
    "MHB_df=pd.read_excel('ng.3805-S2.xlsx',sheetname='S. Table 1')\n",
    "\n",
    "MHB_df['name']=MHB_df.index\n",
    "\n",
    "windowSize=100\n",
    "MHB_df['start']=MHB_df.start-windowSize\n",
    "MHB_df['end']=MHB_df.end+windowSize"
   ]
  },
  {
   "cell_type": "code",
   "execution_count": 21,
   "metadata": {
    "collapsed": false
   },
   "outputs": [
    {
     "data": {
      "text/plain": [
       "1.0"
      ]
     },
     "execution_count": 21,
     "metadata": {},
     "output_type": "execute_result"
    }
   ],
   "source": [
    "(MHB_df.start<MHB_df.end).mean()"
   ]
  },
  {
   "cell_type": "code",
   "execution_count": 27,
   "metadata": {
    "collapsed": false
   },
   "outputs": [],
   "source": [
    "MHB_df.to_csv('./MHB.bed',header=None,index=None,sep='\\t')"
   ]
  },
  {
   "cell_type": "code",
   "execution_count": 46,
   "metadata": {
    "collapsed": false
   },
   "outputs": [],
   "source": [
    "!bedtools getfasta -fi /cellar/users/btsui/Data/Project/KangZhang/refFa/hg19.fa -tab -bed ./MHB.bed >MHB.tsv"
   ]
  },
  {
   "cell_type": "markdown",
   "metadata": {},
   "source": [
    "### bisulfite convert the MHB.fa"
   ]
  },
  {
   "cell_type": "code",
   "execution_count": 50,
   "metadata": {
    "collapsed": false
   },
   "outputs": [
    {
     "name": "stdout",
     "output_type": "stream",
     "text": [
      "chr1:237687-237918\tGACCCACAGATGTGAAGCTGAGGCTGAAGGAGACTGATGTGGTTTCTCCTCAGTTTCTCTGTGCAGCACCAGGTGGCAGCAGAGGTCAGCAAGGCAAACCCGAGCCCGGGGATGCGGAGTGGGGGCAGCTACGTCCTCTCTTGAGCTACAGCAGATTCACTCTGTTCTGTTTCATTGTTGTTTAGTTTGCGTTGTGTTTCTCCAACTTTGTGCCTCATCAGGAAAAGCTTT\r\n",
      "chr1:564370-564633\tATACCTAAACTAAGGTCTATGAACAATAAGATGATTTTCTTCAGTGGGACTTTTTTGTTTAATATATTAGATTTGACCTTCAGCAAGGTCAAAGGGAGTCCGAACTAGTCTCAGGCTTCAACATCGAATACGCCGCAGGCCCCTTCGCCCTATTCTTCATAGCCGAATACACAAACATTATTATAATAAACACCCTCACCACTACAATCTTCCTAGGAACAACATATAACGCACTCTCCCCTGAACTCTACACAACATATTTT\r\n",
      "chr1:565685-566001\tTCCAGCACCACAACCCTACTACTATCTCGCACCTGAAACAAGCTAACATGACTAACACCCTTAATTCCATCCACCCTCCTCTCCCTAGGAGGCCTGCCCCCGCTAACCGGCTTTTTGCCCAAATGGGCCATTATCGAAGAATTCACAAAAAACAATAGCCTCATCATCCCCACCATCATAGCCATCATCACCCTCCTTAACCTCTACTTCTACCTGCGCCTAATCTACTCCACCTCAATCACACTACTCCCTATATCTAACAACGTAAAAATAAAATGACAGTTTGAACACACAAAACCCACCCCATTCCTCCCCA\r\n",
      "chr1:566622-566912\tTCGTCACAGCCCATGCATTTGTAATAATCTTCTTCATAGTAATACCCATCATAATCGGAGGCTTTGGCAACTGACTAGTTCCCCTAATAATCGGTGCCCCCGATATGGCGTTTCCCCGCATAAACAACATAAGCTTCTGACTCTTACCCCCCTCTCTCCTACTCCTGCTTGCATCTGCTATAGTGGAGGCCGGCGCAGGAACAGGTTGAACAGTCTACCCTCCCTTGGCAGGGAACTACTCCCACCCTGGAGCCTCCGTAGACCTAACCATCTTCTCCTTACACCTAGCA\r\n",
      "chr1:566894-567212\tTTCTCCTTACACCTAGCAGGTATCTCCTCTATCTTAGGAGCCATCAATTTCATCACAACAATTATTAATATAAAACCCCCTGCCATAACCCAATACCAAACGCCCCTTTTCGTCTGATCCGTCCTAATCACAGCAGTCTTACTTCTCCTATCTCTCCCAGTCCTAGCCGCTGGCATCACTATACTACTAACAGACCGTAACCTCAACACCACCTTCTTCGACCCAGCCGGAGGAGGAGACCCCATTCTATACCAACACCTATTCTGATTTTTCGGTCACCCTGAAGTTTATATTCTCATCCTACCAGGCTTCGGAATA\r\n",
      "chr1:567448-567662\tTGAAATGATCTGCTGCAGTGCTCTGAGCCCTAGGATTTATTTTTCTTTTCACCGTAGGTGGCCTGACTGGCATTGTATTAGCAAACTCATCACTAGACATCGTACTACACGACACGTACTACGTTGTAGCCCACTTCCACTATGTCCTATCAATAGGAGCTGTATTTGCCATCATAGGAGGCTTCATTCACTGATTTCCCCTATTCTCAGGCTA\r\n",
      "chr1:567646-567885\tCCCTATTCTCAGGCTACACCCTAGACCAAACCTACGCCAAAATCCATTTCGCTATCATATTCATCGGCGTAAATCTAACTTTCTTCCCACAACACTTTCTCGGCCTATCCGGAATGCCCCGACGTTACTCGGACTATCCCGATGCATACACCACATGAAATATCCTATCATCTGTAGGCTCATTCATTTCTCTAACAGCAGTAATATTAATAATTTTCATAATTTGAGAAGCCTTCGCT\r\n",
      "chr1:568155-568499\tTAGGTCTACAAGACGCTACTTCCCCTATCATAGAAGAGCTTATCATCTTTCATGATCACGCCCTCATAATCATTTTCCTTATCTGCTTCCTAGTCCTGTACGCCCTTTTCCTAACACTCACAACAAAACTAACTAATACTAACATCTCAGACGCTCAGGAAATAGAAACCGTCTGAACTATCCTGCCCGCCATCATCCTAGTCCTTATCGCCCTCCCATCCCTACGCATCCTTTACATAACAGACGAGGTCAACGATCCCTCCTTTACCATCAAATCAATTGGCCATCAATGGTACTGAACCTACGAATACACCGACTACGGCGGACTAATCTTCAACTCCTAC\r\n",
      "chr1:568359-568628\tTTATCGCCCTCCCATCCCTACGCATCCTTTACATAACAGACGAGGTCAACGATCCCTCCTTTACCATCAAATCAATTGGCCATCAATGGTACTGAACCTACGAATACACCGACTACGGCGGACTAATCTTCAACTCCTACATACTTCCCCCATTATTCCTAGAACCAGGCGACCTGCGACTCCTTGACGTTGACAATCGAGTAGTACTCCCGGTTGAAGCCCCCATTCGTATAATAATTACATCACAAGACGTCTTACACTCATGAGCT\r\n",
      "chr1:568446-568669\tGGTACTGAACCTACGAATACACCGACTACGGCGGACTAATCTTCAACTCCTACATACTTCCCCCATTATTCCTAGAACCAGGCGACCTGCGACTCCTTGACGTTGACAATCGAGTAGTACTCCCGGTTGAAGCCCCCATTCGTATAATAATTACATCACAAGACGTCTTACACTCATGAGCTGTCCCCACATTAGGCTTAAAAACAGATGCAATTCCCGGACG\r\n"
     ]
    }
   ],
   "source": [
    "!head MHB.tsv"
   ]
  },
  {
   "cell_type": "code",
   "execution_count": 2,
   "metadata": {
    "collapsed": true
   },
   "outputs": [],
   "source": [
    "MHB_seq_df=pd.read_csv('MHB.tsv',sep='\\t',header=None)"
   ]
  },
  {
   "cell_type": "code",
   "execution_count": 3,
   "metadata": {
    "collapsed": false
   },
   "outputs": [],
   "source": [
    "MHB_seq_df.columns=['Region','Seq']"
   ]
  },
  {
   "cell_type": "code",
   "execution_count": null,
   "metadata": {
    "collapsed": true
   },
   "outputs": [],
   "source": []
  },
  {
   "cell_type": "code",
   "execution_count": 4,
   "metadata": {
    "collapsed": true
   },
   "outputs": [],
   "source": [
    "MHB_seq_df['Seq']=MHB_seq_df.Seq.str.upper()"
   ]
  },
  {
   "cell_type": "code",
   "execution_count": 5,
   "metadata": {
    "collapsed": false
   },
   "outputs": [],
   "source": [
    "#MHB_seq_df.Seq.str.count('CG').median()"
   ]
  },
  {
   "cell_type": "code",
   "execution_count": 6,
   "metadata": {
    "collapsed": false,
    "scrolled": true
   },
   "outputs": [],
   "source": [
    "cgProtectedS=MHB_seq_df.Seq.str.replace('CG','KG')\n",
    "tmpS=cgProtectedS.str.replace('C','T') #convert unprotected C to become T\n",
    "methylated_C_to_T_S=tmpS.str.replace('K','C')"
   ]
  },
  {
   "cell_type": "code",
   "execution_count": 7,
   "metadata": {
    "collapsed": false
   },
   "outputs": [],
   "source": [
    "MHB_seq_df['unmethylated_C_to_T_Seq']=MHB_seq_df.Seq.str.replace('C','T')"
   ]
  },
  {
   "cell_type": "code",
   "execution_count": 8,
   "metadata": {
    "collapsed": false
   },
   "outputs": [],
   "source": [
    "MHB_seq_df['methylated_C_to_T_Seq']=methylated_C_to_T_S"
   ]
  },
  {
   "cell_type": "code",
   "execution_count": 9,
   "metadata": {
    "collapsed": false
   },
   "outputs": [
    {
     "data": {
      "text/html": [
       "<div>\n",
       "<style>\n",
       "    .dataframe thead tr:only-child th {\n",
       "        text-align: right;\n",
       "    }\n",
       "\n",
       "    .dataframe thead th {\n",
       "        text-align: left;\n",
       "    }\n",
       "\n",
       "    .dataframe tbody tr th {\n",
       "        vertical-align: top;\n",
       "    }\n",
       "</style>\n",
       "<table border=\"1\" class=\"dataframe\">\n",
       "  <thead>\n",
       "    <tr style=\"text-align: right;\">\n",
       "      <th></th>\n",
       "      <th>Region</th>\n",
       "      <th>Seq</th>\n",
       "      <th>unmethylated_C_to_T_Seq</th>\n",
       "      <th>methylated_C_to_T_Seq</th>\n",
       "    </tr>\n",
       "  </thead>\n",
       "  <tbody>\n",
       "    <tr>\n",
       "      <th>0</th>\n",
       "      <td>chr1:237687-237918</td>\n",
       "      <td>GACCCACAGATGTGAAGCTGAGGCTGAAGGAGACTGATGTGGTTTC...</td>\n",
       "      <td>GATTTATAGATGTGAAGTTGAGGTTGAAGGAGATTGATGTGGTTTT...</td>\n",
       "      <td>GATTTATAGATGTGAAGTTGAGGTTGAAGGAGATTGATGTGGTTTT...</td>\n",
       "    </tr>\n",
       "    <tr>\n",
       "      <th>1</th>\n",
       "      <td>chr1:564370-564633</td>\n",
       "      <td>ATACCTAAACTAAGGTCTATGAACAATAAGATGATTTTCTTCAGTG...</td>\n",
       "      <td>ATATTTAAATTAAGGTTTATGAATAATAAGATGATTTTTTTTAGTG...</td>\n",
       "      <td>ATATTTAAATTAAGGTTTATGAATAATAAGATGATTTTTTTTAGTG...</td>\n",
       "    </tr>\n",
       "    <tr>\n",
       "      <th>2</th>\n",
       "      <td>chr1:565685-566001</td>\n",
       "      <td>TCCAGCACCACAACCCTACTACTATCTCGCACCTGAAACAAGCTAA...</td>\n",
       "      <td>TTTAGTATTATAATTTTATTATTATTTTGTATTTGAAATAAGTTAA...</td>\n",
       "      <td>TTTAGTATTATAATTTTATTATTATTTCGTATTTGAAATAAGTTAA...</td>\n",
       "    </tr>\n",
       "    <tr>\n",
       "      <th>3</th>\n",
       "      <td>chr1:566622-566912</td>\n",
       "      <td>TCGTCACAGCCCATGCATTTGTAATAATCTTCTTCATAGTAATACC...</td>\n",
       "      <td>TTGTTATAGTTTATGTATTTGTAATAATTTTTTTTATAGTAATATT...</td>\n",
       "      <td>TCGTTATAGTTTATGTATTTGTAATAATTTTTTTTATAGTAATATT...</td>\n",
       "    </tr>\n",
       "    <tr>\n",
       "      <th>4</th>\n",
       "      <td>chr1:566894-567212</td>\n",
       "      <td>TTCTCCTTACACCTAGCAGGTATCTCCTCTATCTTAGGAGCCATCA...</td>\n",
       "      <td>TTTTTTTTATATTTAGTAGGTATTTTTTTTATTTTAGGAGTTATTA...</td>\n",
       "      <td>TTTTTTTTATATTTAGTAGGTATTTTTTTTATTTTAGGAGTTATTA...</td>\n",
       "    </tr>\n",
       "  </tbody>\n",
       "</table>\n",
       "</div>"
      ],
      "text/plain": [
       "               Region                                                Seq  \\\n",
       "0  chr1:237687-237918  GACCCACAGATGTGAAGCTGAGGCTGAAGGAGACTGATGTGGTTTC...   \n",
       "1  chr1:564370-564633  ATACCTAAACTAAGGTCTATGAACAATAAGATGATTTTCTTCAGTG...   \n",
       "2  chr1:565685-566001  TCCAGCACCACAACCCTACTACTATCTCGCACCTGAAACAAGCTAA...   \n",
       "3  chr1:566622-566912  TCGTCACAGCCCATGCATTTGTAATAATCTTCTTCATAGTAATACC...   \n",
       "4  chr1:566894-567212  TTCTCCTTACACCTAGCAGGTATCTCCTCTATCTTAGGAGCCATCA...   \n",
       "\n",
       "                             unmethylated_C_to_T_Seq  \\\n",
       "0  GATTTATAGATGTGAAGTTGAGGTTGAAGGAGATTGATGTGGTTTT...   \n",
       "1  ATATTTAAATTAAGGTTTATGAATAATAAGATGATTTTTTTTAGTG...   \n",
       "2  TTTAGTATTATAATTTTATTATTATTTTGTATTTGAAATAAGTTAA...   \n",
       "3  TTGTTATAGTTTATGTATTTGTAATAATTTTTTTTATAGTAATATT...   \n",
       "4  TTTTTTTTATATTTAGTAGGTATTTTTTTTATTTTAGGAGTTATTA...   \n",
       "\n",
       "                               methylated_C_to_T_Seq  \n",
       "0  GATTTATAGATGTGAAGTTGAGGTTGAAGGAGATTGATGTGGTTTT...  \n",
       "1  ATATTTAAATTAAGGTTTATGAATAATAAGATGATTTTTTTTAGTG...  \n",
       "2  TTTAGTATTATAATTTTATTATTATTTCGTATTTGAAATAAGTTAA...  \n",
       "3  TCGTTATAGTTTATGTATTTGTAATAATTTTTTTTATAGTAATATT...  \n",
       "4  TTTTTTTTATATTTAGTAGGTATTTTTTTTATTTTAGGAGTTATTA...  "
      ]
     },
     "execution_count": 9,
     "metadata": {},
     "output_type": "execute_result"
    }
   ],
   "source": [
    "MHB_seq_df.head()"
   ]
  },
  {
   "cell_type": "code",
   "execution_count": 18,
   "metadata": {
    "collapsed": false
   },
   "outputs": [],
   "source": [
    "#subDf=MHB_seq_df[['Region','unmethylated_C_to_T_Seq']].copy()#.stack()\n",
    "#subDf['Name']=''\n",
    "myFastaS=MHB_seq_df.apply(lambda S: '>'+S.loc['Region']+'_unmethylated'+'\\n'+S.loc['unmethylated_C_to_T_Seq']+'\\n'\n",
    "            +'>'+S.loc['Region']+'_methylated'+'\\n'+S.loc['methylated_C_to_T_Seq']+'\\n',\n",
    "            axis=1)"
   ]
  },
  {
   "cell_type": "code",
   "execution_count": 19,
   "metadata": {
    "collapsed": false
   },
   "outputs": [],
   "source": [
    "#myRef=myFastaS.sum()"
   ]
  },
  {
   "cell_type": "code",
   "execution_count": 20,
   "metadata": {
    "collapsed": true
   },
   "outputs": [],
   "source": [
    "genomePrepFolder='/cellar/users/btsui/Data/RAPMAP_INDEX/HMB/Homo_sapiens/'\n"
   ]
  },
  {
   "cell_type": "code",
   "execution_count": 21,
   "metadata": {
    "collapsed": false
   },
   "outputs": [
    {
     "data": {
      "text/plain": [
       "147888"
      ]
     },
     "execution_count": 21,
     "metadata": {},
     "output_type": "execute_result"
    }
   ],
   "source": [
    "len(myFastaS)"
   ]
  },
  {
   "cell_type": "code",
   "execution_count": 38,
   "metadata": {
    "collapsed": false
   },
   "outputs": [],
   "source": [
    "with open(genomePrepFolder+'MHB.fa','w') as f:\n",
    "    for i,l in enumerate(myFastaS):\n",
    "        f.write(l)\n"
   ]
  },
  {
   "cell_type": "code",
   "execution_count": 39,
   "metadata": {
    "collapsed": false
   },
   "outputs": [],
   "source": [
    "#!head /cellar/users/btsui/Data/RAPMAP_INDEX/HMB/Homo_sapiens/MHB.fa"
   ]
  },
  {
   "cell_type": "code",
   "execution_count": 40,
   "metadata": {
    "collapsed": false
   },
   "outputs": [
    {
     "data": {
      "text/plain": [
       "'/cellar/users/btsui/Program/rapmap/RapMap-master/bin/rapmap quasiindex --noClip -t /cellar/users/btsui/Data/RAPMAP_INDEX/HMB/Homo_sapiens/MHB.fa -i /cellar/users/btsui/Data/RAPMAP_INDEX/HMB/Homo_sapiens/'"
      ]
     },
     "execution_count": 40,
     "metadata": {},
     "output_type": "execute_result"
    }
   ],
   "source": [
    "rapmapCmdFmt='/cellar/users/btsui/Program/rapmap/RapMap-master/bin/rapmap quasiindex --noClip -t {ref} -i {ref_out}'\n",
    "myCommand=rapmapCmdFmt.format(ref=genomePrepFolder+'MHB.fa'\n",
    "                             ,ref_out='/cellar/users/btsui/Data/RAPMAP_INDEX/HMB/Homo_sapiens/')\n",
    "myCommand"
   ]
  },
  {
   "cell_type": "code",
   "execution_count": 41,
   "metadata": {
    "collapsed": false
   },
   "outputs": [
    {
     "name": "stdout",
     "output_type": "stream",
     "text": [
      "RapMap Indexer\n",
      "\n",
      "[Step 1 of 4] : counting k-mers\n",
      "counted k-mers for 290000 transcriptsElapsed time: 4.36501s\n",
      "\n",
      "Replaced 2 non-ATCG nucleotides\n",
      "Clipped poly-A tails from 0 transcripts\n",
      "Building rank-select dictionary and saving to disk done\n",
      "Elapsed time: 0.00422739s\n",
      "Writing sequence data to file . . . done\n",
      "Elapsed time: 0.0967445s\n",
      "[info] Building 32-bit suffix array (length of generalized text is 87592964)\n",
      "Building suffix array . . . success\n",
      "saving to disk . . . done\n",
      "Elapsed time: 0.12098s\n",
      "done\n",
      "Elapsed time: 6.07712s\n",
      "processed 87000000 positions\n",
      "khash had 49515175 keys\n",
      "saving hash to disk . . . done\n",
      "Elapsed time: 2.64603s\n"
     ]
    }
   ],
   "source": [
    "!/cellar/users/btsui/Program/rapmap/RapMap-master/bin/rapmap quasiindex --noClip -t /cellar/users/btsui/Data/RAPMAP_INDEX/HMB/Homo_sapiens/MHB.fa -i /cellar/users/btsui/Data/RAPMAP_INDEX/HMB/Homo_sapiens/"
   ]
  },
  {
   "cell_type": "code",
   "execution_count": 30,
   "metadata": {
    "collapsed": true
   },
   "outputs": [],
   "source": [
    "#bismark_genome_preparation\n",
    "baseBismarkDir='/cellar/users/btsui/Program/bismark/bismark_v0.14.3//'"
   ]
  },
  {
   "cell_type": "code",
   "execution_count": 35,
   "metadata": {
    "collapsed": true
   },
   "outputs": [],
   "source": [
    "#!mv MHB.fa \n",
    "#sort into bam. Check the count at the end for the reads mapped, does it generate something that resembl bimodal distribution?"
   ]
  },
  {
   "cell_type": "code",
   "execution_count": 32,
   "metadata": {
    "collapsed": true
   },
   "outputs": [],
   "source": [
    "#!cp MHB.fa  /cellar/users/btsui/Data/RAPMAP_INDEX/HMB/Homo_sapiens/."
   ]
  },
  {
   "cell_type": "code",
   "execution_count": 39,
   "metadata": {
    "collapsed": false
   },
   "outputs": [],
   "source": [
    "referencePrepCmd=baseBismarkDir+'bismark_genome_preparation '+genomePrepFolder"
   ]
  },
  {
   "cell_type": "code",
   "execution_count": 38,
   "metadata": {
    "collapsed": false
   },
   "outputs": [],
   "source": [
    "#!/cellar/users/btsui/Program/bismark/bismark_v0.14.3//bismark_genome_preparation /cellar/users/btsui/Data/RAPMAP_INDEX/HMB/Homo_sapiens/"
   ]
  },
  {
   "cell_type": "code",
   "execution_count": 44,
   "metadata": {
    "collapsed": false
   },
   "outputs": [
    {
     "name": "stdout",
     "output_type": "stream",
     "text": [
      ">chr1:237687-237918_CT_converted\r\n",
      "GATTTATAGATGTGAAGTTGAGGTTGAAGGAGATTGATGTGGTTTTTTTTTAGTTTTTTTGTGTAGTATTAGGTGGTAGTAGAGGTTAGTAAGGTAAATTTGAGTTTGGGGATGTGGAGTGGGGGTAGTTATGTTTTTTTTTGAGTTATAGTAGATTTATTTTGTTTTGTTTTATTGTTGTTTAGTTTGTGTTGTGTTTTTTTAATTTTGTGTTTTATTAGGAAAAGTTTT\r\n",
      ">chr1:564370-564633_CT_converted\r\n",
      "ATATTTAAATTAAGGTTTATGAATAATAAGATGATTTTTTTTAGTGGGATTTTTTTGTTTAATATATTAGATTTGATTTTTAGTAAGGTTAAAGGGAGTTTGAATTAGTTTTAGGTTTTAATATTGAATATGTTGTAGGTTTTTTTGTTTTATTTTTTATAGTTGAATATATAAATATTATTATAATAAATATTTTTATTATTATAATTTTTTTAGGAATAATATATAATGTATTTTTTTTTGAATTTTATATAATATATTTT\r\n",
      ">chr1:565685-566001_CT_converted\r\n",
      "TTTAGTATTATAATTTTATTATTATTTTGTATTTGAAATAAGTTAATATGATTAATATTTTTAATTTTATTTATTTTTTTTTTTTTAGGAGGTTTGTTTTTGTTAATTGGTTTTTTGTTTAAATGGGTTATTATTGAAGAATTTATAAAAAATAATAGTTTTATTATTTTTATTATTATAGTTATTATTATTTTTTTTAATTTTTATTTTTATTTGTGTTTAATTTATTTTATTTTAATTATATTATTTTTTATATTTAATAATGTAAAAATAAAATGATAGTTTGAATATATAAAATTTATTTTATTTTTTTTTA\r\n",
      ">chr1:566622-566912_CT_converted\r\n",
      "TTGTTATAGTTTATGTATTTGTAATAATTTTTTTTATAGTAATATTTATTATAATTGGAGGTTTTGGTAATTGATTAGTTTTTTTAATAATTGGTGTTTTTGATATGGTGTTTTTTTGTATAAATAATATAAGTTTTTGATTTTTATTTTTTTTTTTTTTATTTTTGTTTGTATTTGTTATAGTGGAGGTTGGTGTAGGAATAGGTTGAATAGTTTATTTTTTTTTGGTAGGGAATTATTTTTATTTTGGAGTTTTTGTAGATTTAATTATTTTTTTTTTATATTTAGTA\r\n",
      ">chr1:566894-567212_CT_converted\r\n",
      "TTTTTTTTATATTTAGTAGGTATTTTTTTTATTTTAGGAGTTATTAATTTTATTATAATAATTATTAATATAAAATTTTTTGTTATAATTTAATATTAAATGTTTTTTTTTGTTTGATTTGTTTTAATTATAGTAGTTTTATTTTTTTTATTTTTTTTAGTTTTAGTTGTTGGTATTATTATATTATTAATAGATTGTAATTTTAATATTATTTTTTTTGATTTAGTTGGAGGAGGAGATTTTATTTTATATTAATATTTATTTTGATTTTTTGGTTATTTTGAAGTTTATATTTTTATTTTATTAGGTTTTGGAATA\r\n"
     ]
    }
   ],
   "source": [
    "!head /cellar/users/btsui/Data/RAPMAP_INDEX/HMB/Homo_sapiens/Bisulfite_Genome/CT_conversion/genome_mfa.CT_conversion.fa"
   ]
  },
  {
   "cell_type": "code",
   "execution_count": 44,
   "metadata": {
    "collapsed": false
   },
   "outputs": [
    {
     "name": "stdout",
     "output_type": "stream",
     "text": [
      "SRR019649.19839943\t0\tchr17:53951840-53952063_unmethylated\t51\t255\t87M\t*\t0\t0\tTGTGTTTAAGTGTTTTTATTGTTTAATTTTTATTTATGAGTGAGAATAGGTAGTGTTTTGTTTTTTGTTTTTGTGATAGTTTGTTAG\t*\tNH:i:4\r\n",
      "SRR019649.19839943\t2304\tchr17:53951840-53952063_methylated\t51\t255\t87M\t*\t0\t0\tTGTGTTTAAGTGTTTTTATTGTTTAATTTTTATTTATGAGTGAGAATAGGTAGTGTTTTGTTTTTTGTTTTTGTGATAGTTTGTTAG\t*\tNH:i:4\r\n",
      "SRR019649.19839943\t2304\tchr18:54583401-54583621_unmethylated\t143\t255\t78M9S\t*\t0\t0\tTGTGTTTAAGTGTTTTTATTGTTTAATTTTTATTTATGAGTGAGAATAGGTAGTGTTTTGTTTTTTGTTTTTGTGATAGTTTGTTAG\t*\tNH:i:4\r\n",
      "SRR019649.19839943\t2304\tchr18:54583401-54583621_methylated\t143\t255\t78M9S\t*\t0\t0\tTGTGTTTAAGTGTTTTTATTGTTTAATTTTTATTTATGAGTGAGAATAGGTAGTGTTTTGTTTTTTGTTTTTGTGATAGTTTGTTAG\t*\tNH:i:4\r\n",
      "SRR019649.19839944\t0\tchr10:77978838-77979193_unmethylated\t280\t255\t76M11S\t*\t0\t0\tTAGGAGATTTATTTTATGTGTAGAGATATATATAGGTTTAAAATAAAGGGATGGAGAAAGATTTATTAAGTAAATGGAAAGATCGGA\t*\tNH:i:1\r\n",
      "SRR019649.19839956\t0\tchr8:114845129-114845530_unmethylated\t26\t255\t87M\t*\t0\t0\tTGAATTTTTGAAAAGATTAATAATAAGATTTGAAATTGAGGTAGTAATTAATAGTTTATTAATTAAGATCGGAAGAGCTCGTAAGCC\t*\tNH:i:2\r\n",
      "SRR019649.19839956\t2304\tchr8:114845129-114845530_methylated\t26\t255\t87M\t*\t0\t0\tTGAATTTTTGAAAAGATTAATAATAAGATTTGAAATTGAGGTAGTAATTAATAGTTTATTAATTAAGATCGGAAGAGCTCGTAAGCC\t*\tNH:i:2\r\n",
      "SRR019649.19839983\t0\tchr20:18319170-18319434_unmethylated\t127\t255\t87M\t*\t0\t0\tAATAGTAAAGATTTGGAATTAATTTAAATGTTTAATAATGATAGATTGGATTAAGAAAATGTGGTATATATATATTATGGAATATTA\t*\tNH:i:1\r\n",
      "SRR019649.19839984\t0\tchr20:26289276-26289669_unmethylated\t212\t255\t87M\t*\t0\t0\tTTTTGATATAATATTTTGGAAATATTTTTTTTGTAGAATTTGTAAGTGGATATTTGAATAGTTTTGAAGGTTTCGTTGGAAATGGGA\t*\tNH:i:2\r\n",
      "SRR019649.19839984\t2304\tchr20:26289276-26289669_methylated\t212\t255\t87M\t*\t0\t0\tTTTTGATATAATATTTTGGAAATATTTTTTTTGTAGAATTTGTAAGTGGATATTTGAATAGTTTTGAAGGTTTCGTTGGAAATGGGA\t*\tNH:i:2\r\n"
     ]
    }
   ],
   "source": [
    "!tail mapped_reads.sam"
   ]
  },
  {
   "cell_type": "code",
   "execution_count": null,
   "metadata": {
    "collapsed": true
   },
   "outputs": [],
   "source": []
  }
 ],
 "metadata": {
  "kernelspec": {
   "display_name": "Python 2",
   "language": "python",
   "name": "python2"
  },
  "language_info": {
   "codemirror_mode": {
    "name": "ipython",
    "version": 2
   },
   "file_extension": ".py",
   "mimetype": "text/x-python",
   "name": "python",
   "nbconvert_exporter": "python",
   "pygments_lexer": "ipython2",
   "version": "2.7.13"
  }
 },
 "nbformat": 4,
 "nbformat_minor": 0
}
