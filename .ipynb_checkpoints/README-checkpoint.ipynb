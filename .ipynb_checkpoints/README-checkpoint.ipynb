{
 "cells": [
  {
   "cell_type": "markdown",
   "metadata": {},
   "source": [
    "**Feel free to contact me at**: btsui@eng.ucsd.edu if you have any question. \n",
    "\n",
    "\n",
    "# In short\n",
    "\n",
    "\n",
    "Skymap is a standalone database that offers: \n",
    "1. **a single data matrix** for each omic layer for each species that spans >200k sequencing runs from all the public studies, which is done by reprocessing **petabytes** worth of sequencing data. Here is how much published data are deposited in SRA: \n",
    "![alt text](./Figures/sra_data_availability.png \"Logo Title Text 1\")**And here is how much data we have processed from SRA:**\n",
    "![alt text](./Figures/sra_data_processed.png)\n",
    "2. **a biological metadata file** that describe the relationships between the sequencing runs and also the keywords extracted from over **3 million** freetext annotations using NLP. \n",
    "3. **a techinical metadata file** that describe the relationships between the sequencing runs. \n",
    "\n",
    "\n",
    "**Where they can all fit into your personal computer.**\n",
    "\n",
    "**If you intend to run the examples, please first download the data from here:** \n",
    "* https://www.synapse.org/skymap (take < 3 minutes to set up the account). \n",
    "\n",
    "\n",
    "Part of this work was presented on ISMB: https://github.com/brianyiktaktsui/Skymap/blob/master/ISMB_poster_Skymap.pdf\n",
    "# Examples: simple code to analyze big data\n",
    "\n",
    "\n",
    "## High resolution mouse developmental hierachy map\n",
    "[jupyter notebook link](https://github.com/brianyiktaktsui/Skymap/blob/master/jupyter-notebooks/clean_notebooks/TemporalQuery_V4_all_clean.ipynb\n",
    ")\n",
    "\n",
    "Aggregating many studies (node) to form a smooth mouse developmental hierachy map. By integrating the vast amount of public data, we can cover many developmental time points, which sometime we can see a more transient expression dynamics both across tissues and within tissues over developmental time course. \n",
    "\n",
    "Each componenet represent a tissue. Each node represent a particular study at a particular time unit. The color is base on the developmental time extracted from experimental annotation using regex. The node size represent the # of sequencing runs in that particulr time point and study. Each edge represent a differentiate-to or part-of relationship.\n",
    "![alt text](./Figures/heirachy_time.png \"Logo Title Text 1\")\n",
    "And you can easily overlay gene expression level on top of it. As an example, Tp53 expression is known to be tightly regulated in development. Let's look at the dynamic of Tp53 expression over time and spatial locations in the following plot.\n",
    "![alt_text](./Figures/heirachy_Trp53.png \"tp53\")\n",
    "\n",
    "## Locating  SNP and correlating with different data layers\n",
    "[jupyter notebook link](https://github.com/brianyiktaktsui/Skymap/blob/master/FindStudiesWithBrafV600Mutated.ipynb)\n",
    "## Simple RNAseq data slicing and hypothesis testing\n",
    "https://github.com/brianyiktaktsui/Skymap/blob/master/DataSlicingExample.ipynb\n",
    "\n",
    "[Check here for more example notebooks](https://github.com/brianyiktaktsui/Skymap/tree/master/jupyter-notebooks\n",
    ")\n",
    "\n",
    "The code for the pipelines is here:\n",
    "https://github.com/brianyiktaktsui/Skymap/tree/master/code\n",
    "\n",
    "Skymap is still in Beta V0.0. [Please feel free to leave comments](https://www.synapse.org/#!Synapse:syn11415602/discussion/default) and suggestions!!! We would love to hear feedbacks from you.\n",
    "\n",
    "\n"
   ]
  },
  {
   "cell_type": "markdown",
   "metadata": {},
   "source": [
    "## Methods (Manuscripts)\n",
    "\n",
    "| Description | URL to google docs | github|  \n",
    "| ---: | ---: | ---: | \n",
    "| Metaanalysis using NLP (Metamap) and reprocessed RNAseq data | https://docs.google.com/document/d/1_nES7vroX7lCwf5NSNBVZ1k2iubYm5wLeFqusq5aZuk |  |\n",
    "| Deep biomedical named entity recognition NLP engine | https://docs.google.com/document/d/1_nES7vroX7lCwf5NSNBVZ1k2iubYm5wLeFqusq5aZuk | https://github.com/brianyiktaktsui/DEEP_NLP |\n"
   ]
  },
  {
   "cell_type": "markdown",
   "metadata": {},
   "source": [
    "#  Pipeline\n",
    "\n",
    "If you happen to want to dig into the gut and gore make a copy of the pipeline, the code are documented as the followings\n"
   ]
  },
  {
   "cell_type": "markdown",
   "metadata": {},
   "source": [
    "\n",
    "### Download, parse and merge SRA META DATA\n",
    "\n",
    "|Steps | Code| Input description|Input dir|Output description|Output dir| Timing|Old code directory| Python version|\n",
    "|---- | ----| ----|----|----|----| ----|\n",
    "|download SRA metadata | http://localhost:6001/notebooks/Project/METAMAP/notebook/RapMapTest/Pipelines/Update_SRA_meta_data/pull_SRA_meta.ipynb |none, download from web||SRA meta data| /nrnb/users/btsui/tmp/SRA_META/| 30 mins|\n",
    "|parse SRA metadata | ./SRA_META/SRAManager.py |  SRA files in XML formats|/nrnb/users/btsui/tmp/SRA_META/| list of pandas series containing list of (SRS,attribute, freetext) | /cellar/users/btsui/Data/nrnb01_nobackup/tmp/METAMAP//splittedInput_SRAMangaer_SRA_META/| 20 mins| \n",
    "|merge SRA metadata | ./SRA_META/SRAmerge.py | list of pandas series containing list of (SRS,attribute, freetext) |/cellar/users/btsui/Data/nrnb01_nobackup/tmp/METAMAP//splittedInput_SRAMangaer_SRA_META/(allSRS.pickle,allSRX.pickle) |all SRA SRS biospecieman annotation in allSRS.pickle and allSRX.pickle  | /cellar/users/btsui/Data/nrnb01_nobackup/METAMAP/ | 10 mins| \n",
    "\n",
    "\n",
    "old directory: /cellar/users/btsui/Project/METAMAP/code/metamap/"
   ]
  },
  {
   "cell_type": "markdown",
   "metadata": {},
   "source": []
  },
  {
   "cell_type": "markdown",
   "metadata": {},
   "source": [
    "### To update the SNP pipeline: \n",
    "\n",
    "The way I organized the code is trying to keep the code as simple as possible. \n",
    "For each pipeline, it has 6 scripts, <500 lines each to ensure readability. Run each pipeliine starting with calcuate_uprocessed.py, which calculate the number of files still require for processing.\n",
    "\n",
    "\n",
    "|Pipeline | Code| Input description|Input dir|Output description|Output dir| Timing|\n",
    "|---- | ----| ----|----|----|----| ----|\n",
    "|SNP extraction | ./Pipelines/snp/calculate_unprocessed.py|\n",
    "|calculating reads coverage | ./Pipelines/chip/calculate_unprocessed.py|\n",
    "|RNAseq quantification| ./Pipelines/RNAseq/calculate_unprocessed.py |\n",
    "|merge SNP alignment statistics | http://localhost:6001/notebooks/Project/METAMAP/notebook/RapMapTest/Analysis/merge_variant_aligning_statistics.ipynb |\n",
    "| merge SNP data | http://localhost:6001/notebooks/Project/METAMAP/notebook/RapMapTest/XGS_WGS/ParseAndMergeBamReadCount.ipynb |\n",
    "\n",
    " \n",
    " Details of benchmarking against TCGA are located at: \n",
    "\n",
    "http://localhost:6001/notebooks/Project/METAMAP/notebook/RapMapTest/XGS_WGS/README_TCGA_benchmark.ipynb\n",
    "\n",
    "However, due to the fact where patients allele informations are protected, we are not providing the allellic read counts for TCGA. "
   ]
  },
  {
   "cell_type": "markdown",
   "metadata": {},
   "source": [
    "## Acknowledgement\n",
    "\n",
    "\n",
    "Please considering citing if you are using Skymap. (doi:10.7303/syn11415602)\n",
    "\n",
    "(https://github.com/brianyiktaktsui/Skymap/blob/master/ISMB_poster_Skymap.pdf)\n",
    "\n",
    "\n",
    "Acknowledgement: We want to thank for the advice and resources from Dr. Hannah Carter (my PI), Dr. Jill Mesirov,Dr. Trey Ideker and Shamin Mollah. We also want to thank Dr. Ruben Arbagayen, Dr. Nate Lewis for their suggestion. \n",
    "The method will soon be posted in bioarchive. Also, we want to thank the Sage Bio Network for hosting the data. We also thank to thank the NCBI for holding all the published raw reads at  [Sequnece Read Archive](https://www.ncbi.nlm.nih.gov/sra). \n",
    "Grant money that make this work possible: NIH DP5OD017937,GM103504\n",
    "\n",
    "\n",
    "Term of use: Use Skymap however you want. Just dont sue me, I have no money. \n",
    "\n",
    "\n",
    "\n",
    "For why I named it Skymap, I forgot.\n",
    "\n",
    "## Data format and coding style\n",
    "\n",
    "The storage is in python pandas pickle format. Therefore, the only packges you need to load in the data is numpy and pandas, the backbone of data analysis in python. We keep the process of data loading as lean as possible. Less code means less bugs and less errors. For now, Skymap is geared towards ML/data science folks who are hungry for the vast amount of data and ain't afraid of coding. I will port the data to native HDF5 format to reduce platform dependency once I get a chance. \n",
    "\n",
    "I tried to keep the code and parameters to be lean and self-explanatory for your reference. \n",
    "\n"
   ]
  },
  {
   "cell_type": "code",
   "execution_count": 10,
   "metadata": {},
   "outputs": [
    {
     "name": "stdout",
     "output_type": "stream",
     "text": [
      "remote: Counting objects: 3, done.\u001b[K\n",
      "remote: Compressing objects: 100% (3/3), done.\u001b[K\n",
      "remote: Total 3 (delta 0), reused 0 (delta 0), pack-reused 0\u001b[K\n",
      "Unpacking objects: 100% (3/3), done.\n",
      "From github.com:brianyiktaktsui/AllPipes\n",
      "   c39cddd..c9c1567  master     -> origin/master\n",
      "\u001b[20A\u001b[m\u001b[1;71H\u001b[7mModified\u001b[22;16H\u001b[m              \u001b[7m[ Can now UnJustify! ]\u001b[m\u001b[K\u001b[24;45Hjustify   \u001b[7m^_\u001b[m Go To Lineaster' of github.com:brianyiktaktsui/AllPipes\u001b[22;16H\u001b[7m[ line 1/8 (12%), col 1/61 (1%), char 0/288 (0%) ]"
     ]
    }
   ],
   "source": [
    "!git pull"
   ]
  },
  {
   "cell_type": "code",
   "execution_count": 13,
   "metadata": {},
   "outputs": [
    {
     "name": "stdout",
     "output_type": "stream",
     "text": [
      "[NbConvertApp] Converting notebook README.ipynb to markdown\n",
      "[NbConvertApp] Writing 8826 bytes to README.md\n",
      "[master f29590d] updated: README\n",
      " 1 file changed, 30 insertions(+), 81 deletions(-)\n",
      "Counting objects: 17, done.\n",
      "Delta compression using up to 32 threads.\n",
      "Compressing objects: 100% (17/17), done.\n",
      "Writing objects: 100% (17/17), 151.47 KiB | 0 bytes/s, done.\n",
      "Total 17 (delta 8), reused 0 (delta 0)\n",
      "remote: Resolving deltas: 100% (8/8), completed with 2 local objects.\u001b[K\n",
      "remote: This repository moved. Please use the new location:\u001b[K\n",
      "remote:   git@github.com:brianyiktaktsui/Skymap.git\u001b[K\n",
      "To git@github.com:brianyiktaktsui/AllPipes.git\n",
      "   c9c1567..f29590d  master -> master\n"
     ]
    }
   ],
   "source": [
    "!jupyter nbconvert --to markdown README.ipynb\n",
    "!git add README.md ./Figures/sra_data_processed.png #./jupyter-notebooks/clean_notebooks/*\n",
    "!git commit -m \"updated: README\"\n",
    "!git push "
   ]
  },
  {
   "cell_type": "code",
   "execution_count": 8,
   "metadata": {},
   "outputs": [],
   "source": [
    "!git config --global push.default simple\n"
   ]
  },
  {
   "cell_type": "code",
   "execution_count": 4,
   "metadata": {},
   "outputs": [],
   "source": [
    "#!ls ./Figures/sra_data_processed.png"
   ]
  },
  {
   "cell_type": "code",
   "execution_count": 12,
   "metadata": {},
   "outputs": [
    {
     "name": "stdout",
     "output_type": "stream",
     "text": [
      "/cellar/users/btsui/Project/METAMAP/notebook/RapMapTest\r\n"
     ]
    }
   ],
   "source": [
    "!pwd"
   ]
  },
  {
   "cell_type": "code",
   "execution_count": null,
   "metadata": {},
   "outputs": [],
   "source": []
  }
 ],
 "metadata": {
  "kernelspec": {
   "display_name": "Python 3",
   "language": "python",
   "name": "python3"
  },
  "language_info": {
   "codemirror_mode": {
    "name": "ipython",
    "version": 3
   },
   "file_extension": ".py",
   "mimetype": "text/x-python",
   "name": "python",
   "nbconvert_exporter": "python",
   "pygments_lexer": "ipython3",
   "version": "3.6.5"
  }
 },
 "nbformat": 4,
 "nbformat_minor": 2
}
