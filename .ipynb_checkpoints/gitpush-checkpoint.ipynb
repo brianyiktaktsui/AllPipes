{
 "cells": [
  {
   "cell_type": "code",
   "execution_count": 7,
   "metadata": {},
   "outputs": [
    {
     "name": "stdout",
     "output_type": "stream",
     "text": [
      "Already up-to-date.\r\n"
     ]
    }
   ],
   "source": [
    "!git pull"
   ]
  },
  {
   "cell_type": "code",
   "execution_count": 69,
   "metadata": {},
   "outputs": [
    {
     "name": "stdout",
     "output_type": "stream",
     "text": [
      "[NbConvertApp] Converting notebook README_.ipynb to markdown\n",
      "[NbConvertApp] Writing 12024 bytes to README_.md\n",
      "[master f6cfd5e] updated: README\n",
      " 1 file changed, 18 insertions(+), 25 deletions(-)\n",
      "Counting objects: 3, done.\n",
      "Delta compression using up to 96 threads.\n",
      "Compressing objects: 100% (3/3), done.\n",
      "Writing objects: 100% (3/3), 499 bytes | 0 bytes/s, done.\n",
      "Total 3 (delta 2), reused 0 (delta 0)\n",
      "remote: Resolving deltas: 100% (2/2), completed with 2 local objects.\u001b[K\n",
      "remote: This repository moved. Please use the new location:\u001b[K\n",
      "remote:   git@github.com:brianyiktaktsui/Skymap.git\u001b[K\n",
      "To git@github.com:brianyiktaktsui/AllPipes.git\n",
      "   a33d650..f6cfd5e  master -> master\n"
     ]
    }
   ],
   "source": [
    "#\n",
    "!jupyter nbconvert --to markdown README_.ipynb\n",
    "!gh-md-toc  README_.md >content.txt\n",
    "!head -n -1 content.txt > content_ignore_lastline.txt\n",
    "!cat  content_ignore_lastline.txt README_.md > README.md\n",
    "!git add README.md  #./jupyter-notebooks/clean_notebooks/*\n",
    "!git commit -m \"updated: README \"\n",
    "\n",
    "!git push "
   ]
  },
  {
   "cell_type": "code",
   "execution_count": 61,
   "metadata": {},
   "outputs": [
    {
     "name": "stdout",
     "output_type": "stream",
     "text": [
      "\r\n",
      "Table of Contents\r\n",
      "=================\r\n",
      "\r\n",
      "  * [Summary](#summary)\r\n",
      "      * [Solution: three tables to related &gt; 100k experiments](#solution-three-tables-to-related--100k-experiments)\r\n",
      "  * [Quick start (&lt;10min):](#quick-start-10min)\r\n",
      "      * [References](#references)\r\n",
      "  * [Data directory and loading examples](#data-directory-and-loading-examples)\r\n",
      "      * [Genomic data](#genomic-data)\r\n",
      "      * [Metadata](#metadata)\r\n",
      "  * [Example analysis](#example-analysis)\r\n",
      "      * [1. Locating  variant and correlating with RNAseq and metadata](#1-locating--variant-and-correlating-with-rnaseq-and-metadata)\r\n",
      "      * [2. High resolution mouse developmental hierachy map](#2-high-resolution-mouse-developmental-hierachy-map)\r\n",
      "      * [3. Simple RNAseq data slicing and hypothesis testing](#3-simple-rnaseq-data-slicing-and-hypothesis-testing)\r\n",
      "    * [Methods](#methods)\r\n",
      "      * [Slides](#slides)\r\n",
      "      * [Manuscripts in biorxiv related to this project](#manuscripts-in-biorxiv-related-to-this-project)\r\n",
      "  * [Pipeline](#pipeline)\r\n",
      "      * [Download, parse and merge SRA META DATA](#download-parse-and-merge-sra-meta-data)\r\n",
      "      * [To update the SNP pipeline:](#to-update-the-snp-pipeline)\r\n",
      "    * [Acknowledgement](#acknowledgement)\r\n",
      "    * [Data format and coding style](#data-format-and-coding-style)\r\n",
      "\r\n",
      "Created by [gh-md-toc](https://github.com/ekalinin/github-markdown-toc.go)\r\n"
     ]
    }
   ],
   "source": [
    "!cat README.md"
   ]
  },
  {
   "cell_type": "code",
   "execution_count": 53,
   "metadata": {},
   "outputs": [
    {
     "name": "stdout",
     "output_type": "stream",
     "text": [
      "[master 9ad2c7a] updated: README\n",
      " 1 file changed, 25 insertions(+)\n",
      "Counting objects: 3, done.\n",
      "Delta compression using up to 96 threads.\n",
      "Compressing objects: 100% (3/3), done.\n",
      "Writing objects: 100% (3/3), 816 bytes | 0 bytes/s, done.\n",
      "Total 3 (delta 2), reused 0 (delta 0)\n",
      "remote: Resolving deltas: 100% (2/2), completed with 2 local objects.\u001b[K\n",
      "remote: This repository moved. Please use the new location:\u001b[K\n",
      "remote:   git@github.com:brianyiktaktsui/Skymap.git\u001b[K\n",
      "To git@github.com:brianyiktaktsui/AllPipes.git\n",
      "   d265b93..9ad2c7a  master -> master\n"
     ]
    }
   ],
   "source": [
    "!git add README.md  #./jupyter-notebooks/clean_notebooks/*\n",
    "!git commit -m \"updated: README \"\n",
    "!git push "
   ]
  },
  {
   "cell_type": "code",
   "execution_count": 54,
   "metadata": {},
   "outputs": [],
   "source": [
    "#!cat README.md "
   ]
  },
  {
   "cell_type": "code",
   "execution_count": 55,
   "metadata": {},
   "outputs": [],
   "source": []
  },
  {
   "cell_type": "code",
   "execution_count": 56,
   "metadata": {},
   "outputs": [
    {
     "name": "stdout",
     "output_type": "stream",
     "text": [
      "\r\n",
      "Table of Contents\r\n",
      "=================\r\n",
      "\r\n",
      "  * [Table of Contents](#table-of-contents)\r\n",
      "  * [Summary](#summary)\r\n",
      "      * [Solution: three tables to related &gt; 100k experiments](#solution-three-tables-to-related--100k-experiments)\r\n",
      "  * [Quick start (&lt;10min):](#quick-start-10min)\r\n",
      "      * [References](#references)\r\n",
      "  * [Data directory and loading examples](#data-directory-and-loading-examples)\r\n",
      "      * [Genomic data](#genomic-data)\r\n",
      "      * [Metadata](#metadata)\r\n",
      "  * [Example analysis](#example-analysis)\r\n",
      "      * [1. Locating  variant and correlating with RNAseq and metadata](#1-locating--variant-and-correlating-with-rnaseq-and-metadata)\r\n",
      "      * [2. High resolution mouse developmental hierachy map](#2-high-resolution-mouse-developmental-hierachy-map)\r\n",
      "      * [3. Simple RNAseq data slicing and hypothesis testing](#3-simple-rnaseq-data-slicing-and-hypothesis-testing)\r\n",
      "    * [Methods](#methods)\r\n",
      "      * [Slides](#slides)\r\n",
      "      * [Manuscripts in biorxiv related to this project](#manuscripts-in-biorxiv-related-to-this-project)\r\n",
      "  * [Pipeline](#pipeline)\r\n",
      "      * [Download, parse and merge SRA META DATA](#download-parse-and-merge-sra-meta-data)\r\n",
      "      * [To update the SNP pipeline:](#to-update-the-snp-pipeline)\r\n",
      "    * [Acknowledgement](#acknowledgement)\r\n",
      "    * [Data format and coding style](#data-format-and-coding-style)\r\n",
      "\r\n",
      "Created by [gh-md-toc](https://github.com/ekalinin/github-markdown-toc.go)\r\n"
     ]
    }
   ],
   "source": [
    "!cat content.txt"
   ]
  },
  {
   "cell_type": "code",
   "execution_count": 47,
   "metadata": {},
   "outputs": [
    {
     "name": "stdout",
     "output_type": "stream",
     "text": [
      "[master 0d33ffc] added: loadingRNAseqByGene.ipynb\n",
      " 2 files changed, 1418 insertions(+), 1319 deletions(-)\n",
      " rewrite clean_notebooks/ExampleDataLoading/loadInMetaData.ipynb (69%)\n",
      "Counting objects: 6, done.\n",
      "Delta compression using up to 96 threads.\n",
      "Compressing objects: 100% (5/5), done.\n",
      "Writing objects: 100% (6/6), 6.29 KiB | 0 bytes/s, done.\n",
      "Total 6 (delta 3), reused 0 (delta 0)\n",
      "remote: Resolving deltas: 100% (3/3), completed with 3 local objects.\u001b[K\n",
      "remote: This repository moved. Please use the new location:\u001b[K\n",
      "remote:   git@github.com:brianyiktaktsui/Skymap.git\u001b[K\n",
      "To git@github.com:brianyiktaktsui/AllPipes.git\n",
      "   f3c2ef0..0d33ffc  master -> master\n"
     ]
    }
   ],
   "source": [
    "!git add ./clean_notebooks/ExampleDataLoading/*.ipynb  #./jupyter-notebooks/clean_notebooks/*\n",
    "!git commit -m \"added: loadingRNAseqByGene.ipynb\"\n",
    "!git push "
   ]
  },
  {
   "cell_type": "code",
   "execution_count": 70,
   "metadata": {},
   "outputs": [],
   "source": [
    "#!git add ./clean_notebooks/ExampleDataLoading/*.ipynb"
   ]
  },
  {
   "cell_type": "code",
   "execution_count": 71,
   "metadata": {},
   "outputs": [
    {
     "name": "stdout",
     "output_type": "stream",
     "text": [
      "[master 262dfaa] updated: added all python scripts\n",
      " 2 files changed, 59 insertions(+), 9 deletions(-)\n",
      " create mode 100644 Pipelines/snp/Merge/chunk_srr.py\n",
      "Counting objects: 9, done.\n",
      "Delta compression using up to 96 threads.\n",
      "Compressing objects: 100% (8/8), done.\n",
      "Writing objects: 100% (9/9), 1.61 KiB | 0 bytes/s, done.\n",
      "Total 9 (delta 6), reused 0 (delta 0)\n",
      "remote: Resolving deltas: 100% (6/6), completed with 6 local objects.\u001b[K\n",
      "remote: This repository moved. Please use the new location:\u001b[K\n",
      "remote:   git@github.com:brianyiktaktsui/Skymap.git\u001b[K\n",
      "To git@github.com:brianyiktaktsui/AllPipes.git\n",
      "   f6cfd5e..262dfaa  master -> master\n",
      "/cellar/users/btsui/Project/METAMAP/notebook/RapMapTest\n"
     ]
    }
   ],
   "source": [
    "\n",
    "\n",
    "#\n",
    "\n",
    "!find . -name '*.ipynb' | xargs git add\n",
    "\n",
    "!git commit -m \"updated: added all python scripts \"\n",
    "!git push \n",
    "\n",
    "!git config --global push.default simple\n",
    "\n",
    "\n",
    "#!ls ./Figures/sra_data_processed.png\n",
    "\n",
    "!pwd"
   ]
  },
  {
   "cell_type": "code",
   "execution_count": 25,
   "metadata": {},
   "outputs": [],
   "source": [
    "#!which zip"
   ]
  },
  {
   "cell_type": "code",
   "execution_count": 27,
   "metadata": {},
   "outputs": [
    {
     "name": "stdout",
     "output_type": "stream",
     "text": [
      "updating: clean_notebooks/ExampleDataLoading/loadInMetaData.ipynb (deflated 88%)\n",
      "updating: clean_notebooks/ExampleDataLoading/loadVariantDataBySRRID.ipynb (deflated 82%)\n",
      "updating: clean_notebooks/ExampleDataLoading/loadingRNAseqByGene.ipynb (deflated 80%)\n",
      "[master 557e37d] added: ExampleDataLoading.zip\n",
      " 1 file changed, 0 insertions(+), 0 deletions(-)\n",
      "Counting objects: 3, done.\n",
      "Delta compression using up to 96 threads.\n",
      "Compressing objects: 100% (3/3), done.\n",
      "Writing objects: 100% (3/3), 2.90 KiB | 0 bytes/s, done.\n",
      "Total 3 (delta 2), reused 0 (delta 0)\n",
      "remote: Resolving deltas: 100% (2/2), completed with 2 local objects.\u001b[K\n",
      "remote: This repository moved. Please use the new location:\u001b[K\n",
      "remote:   git@github.com:brianyiktaktsui/Skymap.git\u001b[K\n",
      "To git@github.com:brianyiktaktsui/AllPipes.git\n",
      "   a477d78..557e37d  master -> master\n"
     ]
    }
   ],
   "source": [
    "!zip ExampleDataLoading.zip clean_notebooks/ExampleDataLoading/*.ipynb\n",
    "!git add ExampleDataLoading.zip  #./jupyter-notebooks/clean_notebooks/*\n",
    "!git commit -m \"added: ExampleDataLoading.zip\"\n",
    "!git push "
   ]
  },
  {
   "cell_type": "code",
   "execution_count": 23,
   "metadata": {},
   "outputs": [
    {
     "name": "stdout",
     "output_type": "stream",
     "text": [
      "[master 22039e9] added: Skymap_SNP_description.png\n",
      " 1 file changed, 0 insertions(+), 0 deletions(-)\n",
      " rewrite Figures/Skymap_SNP_description.png (96%)\n",
      "Counting objects: 4, done.\n",
      "Delta compression using up to 96 threads.\n",
      "Compressing objects: 100% (4/4), done.\n",
      "Writing objects: 100% (4/4), 242.99 KiB | 0 bytes/s, done.\n",
      "Total 4 (delta 2), reused 0 (delta 0)\n",
      "remote: Resolving deltas: 100% (2/2), completed with 2 local objects.\u001b[K\n",
      "remote: This repository moved. Please use the new location:\u001b[K\n",
      "remote:   git@github.com:brianyiktaktsui/Skymap.git\u001b[K\n",
      "To git@github.com:brianyiktaktsui/AllPipes.git\n",
      "   706a89e..22039e9  master -> master\n"
     ]
    }
   ],
   "source": [
    "!git add ./Figures/Skymap_SNP_description.png  #./jupyter-notebooks/clean_notebooks/*\n",
    "!git commit -m \"added: Skymap_SNP_description.png\"\n",
    "!git push "
   ]
  },
  {
   "cell_type": "code",
   "execution_count": null,
   "metadata": {},
   "outputs": [],
   "source": []
  }
 ],
 "metadata": {
  "kernelspec": {
   "display_name": "Python 3",
   "language": "python",
   "name": "python3"
  },
  "language_info": {
   "codemirror_mode": {
    "name": "ipython",
    "version": 3
   },
   "file_extension": ".py",
   "mimetype": "text/x-python",
   "name": "python",
   "nbconvert_exporter": "python",
   "pygments_lexer": "ipython3",
   "version": "3.6.6"
  }
 },
 "nbformat": 4,
 "nbformat_minor": 2
}
