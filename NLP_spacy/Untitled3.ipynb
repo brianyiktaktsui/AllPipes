{
 "cells": [
  {
   "cell_type": "code",
   "execution_count": 55,
   "metadata": {},
   "outputs": [],
   "source": [
    "%matplotlib inline\n",
    "import matplotlib.pyplot as plt\n",
    "#plt.axis('off')\n",
    "\n",
    "#!cp /cellar/users/btsui/Downloads/Thesaurus.txt . "
   ]
  },
  {
   "cell_type": "markdown",
   "metadata": {},
   "source": [
    "###\n",
    "\n",
    "objective: map the srs freetext to NCIT\n",
    "\n",
    "copied from \n",
    "https://evs.nci.nih.gov/ftp1/NCI_Thesaurus/ReadMe.txt: \n",
    "\n",
    "\n",
    "\" \n",
    "If a \"parents\", \"synonyms\", \"display name\", or \"concept status\" field contains multiple entries, these are pipe-delimited.\n",
    "For root concepts without \"parents\", this field contains the string \"root_node\".  The\n",
    "first entry in the \"synonyms\" field is the preferred name of the concept.  If no preferred\n",
    "name has been stated for the concept, this field contains the concept name.  The \"definition\"\n",
    "field contains only one definition if more than one definition is associated with the concept;\n",
    "not all concepts contain definitions.  A \"display_name\" or \"concept status\" may contain zero values.\n",
    "The \"semantic type\" field is guaranteed to contain one or more values.\n",
    "\"\n",
    "\n",
    "\n",
    "First in synonym is the official name used on the NCIT website. \n",
    "\n",
    "Thesaurus.txt is pulled from  https://evs.nci.nih.gov/ftp1/NCI_Thesaurus/ReadMe.txt"
   ]
  },
  {
   "cell_type": "code",
   "execution_count": 49,
   "metadata": {},
   "outputs": [],
   "source": [
    "import pandas as pd\n",
    "import seaborn as sns\n",
    "sns.set_style('white')\n"
   ]
  },
  {
   "cell_type": "code",
   "execution_count": 6,
   "metadata": {},
   "outputs": [],
   "source": [
    "ncitT=pd.read_csv('Thesaurus.txt',sep='\\t',header=None)"
   ]
  },
  {
   "cell_type": "code",
   "execution_count": 20,
   "metadata": {},
   "outputs": [],
   "source": [
    "#'code <tab> concept name <tab> parents <tab> synonyms <tab> definition <tab> display name <tab> concept status <tab> semantic type <EOL>'.split('<tab>')"
   ]
  },
  {
   "cell_type": "code",
   "execution_count": 21,
   "metadata": {},
   "outputs": [],
   "source": [
    "col=['code',\n",
    " 'concept name',\n",
    " 'parents',\n",
    " 'synonyms',\n",
    " 'definition',\n",
    " 'display name',\n",
    " 'concept status',\n",
    " 'semantic type']\n",
    "ncitT.columns=col"
   ]
  },
  {
   "cell_type": "markdown",
   "metadata": {},
   "source": [
    "###\n",
    "\n",
    "is any of the code re"
   ]
  },
  {
   "cell_type": "code",
   "execution_count": 22,
   "metadata": {},
   "outputs": [
    {
     "data": {
      "text/plain": [
       "array(['<http://ncicb.nci.nih.gov/xml/owl/EVS/Thesaurus.owl#C100000>',\n",
       "       '<http://ncicb.nci.nih.gov/xml/owl/EVS/Thesaurus.owl#C100001>',\n",
       "       '<http://ncicb.nci.nih.gov/xml/owl/EVS/Thesaurus.owl#C100002>',\n",
       "       '<http://ncicb.nci.nih.gov/xml/owl/EVS/Thesaurus.owl#C100003>',\n",
       "       '<http://ncicb.nci.nih.gov/xml/owl/EVS/Thesaurus.owl#C100004>',\n",
       "       '<http://ncicb.nci.nih.gov/xml/owl/EVS/Thesaurus.owl#C100005>',\n",
       "       '<http://ncicb.nci.nih.gov/xml/owl/EVS/Thesaurus.owl#C100006>',\n",
       "       '<http://ncicb.nci.nih.gov/xml/owl/EVS/Thesaurus.owl#C100007>',\n",
       "       '<http://ncicb.nci.nih.gov/xml/owl/EVS/Thesaurus.owl#C100008>',\n",
       "       '<http://ncicb.nci.nih.gov/xml/owl/EVS/Thesaurus.owl#C100009>'],\n",
       "      dtype=object)"
      ]
     },
     "execution_count": 22,
     "metadata": {},
     "output_type": "execute_result"
    }
   ],
   "source": [
    "ncitT['concept name'].values[:10]"
   ]
  },
  {
   "cell_type": "markdown",
   "metadata": {},
   "source": []
  },
  {
   "cell_type": "code",
   "execution_count": 69,
   "metadata": {},
   "outputs": [],
   "source": [
    "ignoreConceptStatus=['Retired_Concept', 'Obsolete_Concept', 'Header_Concept',\n",
    "       'Provisional_Concept', 'Header_Concept|Retired_Concept',\n",
    "       'Header_Concept|Obsolete_Concept']\n",
    "m_concept=~ncitT['concept status'].isin(ignoreConceptStatus)\n",
    "m=m_concept\n",
    "ncitSubDf=ncitT[m]"
   ]
  },
  {
   "cell_type": "code",
   "execution_count": 81,
   "metadata": {},
   "outputs": [],
   "source": [
    "#ncitT[ncitT['display name']=='Heart']"
   ]
  },
  {
   "cell_type": "code",
   "execution_count": 91,
   "metadata": {},
   "outputs": [],
   "source": [
    "myIndexOrder=['code','concept name','parents','definition','semantic type']\n",
    "tmpS=ncitSubDf.set_index(myIndexOrder)['synonyms']"
   ]
  },
  {
   "cell_type": "code",
   "execution_count": null,
   "metadata": {},
   "outputs": [],
   "source": []
  },
  {
   "cell_type": "code",
   "execution_count": 92,
   "metadata": {},
   "outputs": [],
   "source": [
    "tmpS2=tmpS.str.split('|',expand=True).stack()"
   ]
  },
  {
   "cell_type": "code",
   "execution_count": 93,
   "metadata": {},
   "outputs": [],
   "source": [
    "tmpDf=tmpS2.to_frame()"
   ]
  },
  {
   "cell_type": "code",
   "execution_count": 106,
   "metadata": {},
   "outputs": [],
   "source": [
    "tmpDf.index.names=myIndexOrder+['n_th synonym']"
   ]
  },
  {
   "cell_type": "code",
   "execution_count": 107,
   "metadata": {},
   "outputs": [],
   "source": [
    "tmpDf.columns=['synonyms']"
   ]
  },
  {
   "cell_type": "code",
   "execution_count": 112,
   "metadata": {},
   "outputs": [],
   "source": []
  },
  {
   "cell_type": "code",
   "execution_count": 113,
   "metadata": {},
   "outputs": [],
   "source": [
    "tmpDf.to_pickle('./Data/NCIT_table.pickle')"
   ]
  },
  {
   "cell_type": "code",
   "execution_count": 109,
   "metadata": {},
   "outputs": [
    {
     "name": "stdout",
     "output_type": "stream",
     "text": [
      "median len of synonyms: 20.0\n"
     ]
    },
    {
     "data": {
      "text/plain": [
       "Text(0.5,0,'synonym length')"
      ]
     },
     "execution_count": 109,
     "metadata": {},
     "output_type": "execute_result"
    },
    {
     "data": {
      "image/png": "[encoded data removed]",
      "text/plain": [
       "<matplotlib.figure.Figure at 0x2b6a226660b8>"
      ]
     },
     "metadata": {},
     "output_type": "display_data"
    }
   ],
   "source": [
    "ax=tmpDf['synonyms'].str.len()[tmpDf['synonyms'].str.len()<200].hist()\n",
    "print (\"median len of synonyms:\",tmpDf['synonyms'].str.len().median())\n",
    "ax.set_ylabel('# of NCIT synonyms')\n",
    "ax.grid(False)\n",
    "\n",
    "ax.set_xlabel('synonym length')"
   ]
  },
  {
   "cell_type": "code",
   "execution_count": 28,
   "metadata": {},
   "outputs": [
    {
     "data": {
      "text/html": [
       "<div>\n",
       "<style scoped>\n",
       "    .dataframe tbody tr th:only-of-type {\n",
       "        vertical-align: middle;\n",
       "    }\n",
       "\n",
       "    .dataframe tbody tr th {\n",
       "        vertical-align: top;\n",
       "    }\n",
       "\n",
       "    .dataframe thead th {\n",
       "        text-align: right;\n",
       "    }\n",
       "</style>\n",
       "<table border=\"1\" class=\"dataframe\">\n",
       "  <thead>\n",
       "    <tr style=\"text-align: right;\">\n",
       "      <th></th>\n",
       "      <th>code</th>\n",
       "      <th>concept name</th>\n",
       "      <th>parents</th>\n",
       "      <th>synonyms</th>\n",
       "      <th>definition</th>\n",
       "      <th>display name</th>\n",
       "      <th>concept status</th>\n",
       "      <th>semantic type</th>\n",
       "    </tr>\n",
       "  </thead>\n",
       "  <tbody>\n",
       "    <tr>\n",
       "      <th>0</th>\n",
       "      <td>C100000</td>\n",
       "      <td>&lt;http://ncicb.nci.nih.gov/xml/owl/EVS/Thesauru...</td>\n",
       "      <td>C49803</td>\n",
       "      <td>Percutaneous Coronary Intervention for ST Elev...</td>\n",
       "      <td>A percutaneous coronary intervention is necess...</td>\n",
       "      <td>NaN</td>\n",
       "      <td>NaN</td>\n",
       "      <td>Therapeutic or Preventive Procedure</td>\n",
       "    </tr>\n",
       "    <tr>\n",
       "      <th>1</th>\n",
       "      <td>C100001</td>\n",
       "      <td>&lt;http://ncicb.nci.nih.gov/xml/owl/EVS/Thesauru...</td>\n",
       "      <td>C49803</td>\n",
       "      <td>Percutaneous Coronary Intervention for ST Elev...</td>\n",
       "      <td>A percutaneous coronary intervention is necess...</td>\n",
       "      <td>NaN</td>\n",
       "      <td>NaN</td>\n",
       "      <td>Therapeutic or Preventive Procedure</td>\n",
       "    </tr>\n",
       "    <tr>\n",
       "      <th>2</th>\n",
       "      <td>C100002</td>\n",
       "      <td>&lt;http://ncicb.nci.nih.gov/xml/owl/EVS/Thesauru...</td>\n",
       "      <td>C49803</td>\n",
       "      <td>Percutaneous Coronary Intervention for ST Elev...</td>\n",
       "      <td>A percutaneous coronary intervention is necess...</td>\n",
       "      <td>NaN</td>\n",
       "      <td>NaN</td>\n",
       "      <td>Therapeutic or Preventive Procedure</td>\n",
       "    </tr>\n",
       "    <tr>\n",
       "      <th>3</th>\n",
       "      <td>C100003</td>\n",
       "      <td>&lt;http://ncicb.nci.nih.gov/xml/owl/EVS/Thesauru...</td>\n",
       "      <td>C80449</td>\n",
       "      <td>Percutaneous Mitral Valve Repair|PERCUTANEOUS ...</td>\n",
       "      <td>Invasive procedure through a puncture in the s...</td>\n",
       "      <td>NaN</td>\n",
       "      <td>NaN</td>\n",
       "      <td>Therapeutic or Preventive Procedure</td>\n",
       "    </tr>\n",
       "    <tr>\n",
       "      <th>4</th>\n",
       "      <td>C100004</td>\n",
       "      <td>&lt;http://ncicb.nci.nih.gov/xml/owl/EVS/Thesauru...</td>\n",
       "      <td>C80430</td>\n",
       "      <td>Pericardial Stripping|PERICARDIAL STRIPPING</td>\n",
       "      <td>Removal or resection of the pericardium. (ACC)</td>\n",
       "      <td>NaN</td>\n",
       "      <td>NaN</td>\n",
       "      <td>Therapeutic or Preventive Procedure</td>\n",
       "    </tr>\n",
       "    <tr>\n",
       "      <th>5</th>\n",
       "      <td>C100005</td>\n",
       "      <td>&lt;http://ncicb.nci.nih.gov/xml/owl/EVS/Thesauru...</td>\n",
       "      <td>C15839</td>\n",
       "      <td>Post-Cardiac Transplant Evaluation|POST-CARDIA...</td>\n",
       "      <td>A procedure to evaluate the health of the an i...</td>\n",
       "      <td>NaN</td>\n",
       "      <td>NaN</td>\n",
       "      <td>Health Care Activity</td>\n",
       "    </tr>\n",
       "    <tr>\n",
       "      <th>6</th>\n",
       "      <td>C100006</td>\n",
       "      <td>&lt;http://ncicb.nci.nih.gov/xml/owl/EVS/Thesauru...</td>\n",
       "      <td>C139982</td>\n",
       "      <td>Pre-Operative Evaluation for Non-Cardiovascula...</td>\n",
       "      <td>A procedure to evaluate the health of the card...</td>\n",
       "      <td>NaN</td>\n",
       "      <td>NaN</td>\n",
       "      <td>Health Care Activity</td>\n",
       "    </tr>\n",
       "    <tr>\n",
       "      <th>7</th>\n",
       "      <td>C100007</td>\n",
       "      <td>&lt;http://ncicb.nci.nih.gov/xml/owl/EVS/Thesauru...</td>\n",
       "      <td>C99896</td>\n",
       "      <td>Previously Implanted Cardiac Lead|PREVIOUSLY I...</td>\n",
       "      <td>The coronary sinus / left ventricular lead was...</td>\n",
       "      <td>NaN</td>\n",
       "      <td>NaN</td>\n",
       "      <td>Finding</td>\n",
       "    </tr>\n",
       "    <tr>\n",
       "      <th>8</th>\n",
       "      <td>C100008</td>\n",
       "      <td>&lt;http://ncicb.nci.nih.gov/xml/owl/EVS/Thesauru...</td>\n",
       "      <td>C49803</td>\n",
       "      <td>Rescue Percutaneous Coronary Intervention for ...</td>\n",
       "      <td>A percutaneous coronary intervention is impera...</td>\n",
       "      <td>NaN</td>\n",
       "      <td>NaN</td>\n",
       "      <td>Therapeutic or Preventive Procedure</td>\n",
       "    </tr>\n",
       "    <tr>\n",
       "      <th>9</th>\n",
       "      <td>C100009</td>\n",
       "      <td>&lt;http://ncicb.nci.nih.gov/xml/owl/EVS/Thesauru...</td>\n",
       "      <td>C99896</td>\n",
       "      <td>Reused Cardiac Lead</td>\n",
       "      <td>The cardiac lead has been left in situ and reu...</td>\n",
       "      <td>NaN</td>\n",
       "      <td>NaN</td>\n",
       "      <td>Finding</td>\n",
       "    </tr>\n",
       "  </tbody>\n",
       "</table>\n",
       "</div>"
      ],
      "text/plain": [
       "      code                                       concept name  parents  \\\n",
       "0  C100000  <http://ncicb.nci.nih.gov/xml/owl/EVS/Thesauru...   C49803   \n",
       "1  C100001  <http://ncicb.nci.nih.gov/xml/owl/EVS/Thesauru...   C49803   \n",
       "2  C100002  <http://ncicb.nci.nih.gov/xml/owl/EVS/Thesauru...   C49803   \n",
       "3  C100003  <http://ncicb.nci.nih.gov/xml/owl/EVS/Thesauru...   C80449   \n",
       "4  C100004  <http://ncicb.nci.nih.gov/xml/owl/EVS/Thesauru...   C80430   \n",
       "5  C100005  <http://ncicb.nci.nih.gov/xml/owl/EVS/Thesauru...   C15839   \n",
       "6  C100006  <http://ncicb.nci.nih.gov/xml/owl/EVS/Thesauru...  C139982   \n",
       "7  C100007  <http://ncicb.nci.nih.gov/xml/owl/EVS/Thesauru...   C99896   \n",
       "8  C100008  <http://ncicb.nci.nih.gov/xml/owl/EVS/Thesauru...   C49803   \n",
       "9  C100009  <http://ncicb.nci.nih.gov/xml/owl/EVS/Thesauru...   C99896   \n",
       "\n",
       "                                            synonyms  \\\n",
       "0  Percutaneous Coronary Intervention for ST Elev...   \n",
       "1  Percutaneous Coronary Intervention for ST Elev...   \n",
       "2  Percutaneous Coronary Intervention for ST Elev...   \n",
       "3  Percutaneous Mitral Valve Repair|PERCUTANEOUS ...   \n",
       "4        Pericardial Stripping|PERICARDIAL STRIPPING   \n",
       "5  Post-Cardiac Transplant Evaluation|POST-CARDIA...   \n",
       "6  Pre-Operative Evaluation for Non-Cardiovascula...   \n",
       "7  Previously Implanted Cardiac Lead|PREVIOUSLY I...   \n",
       "8  Rescue Percutaneous Coronary Intervention for ...   \n",
       "9                                Reused Cardiac Lead   \n",
       "\n",
       "                                          definition display name  \\\n",
       "0  A percutaneous coronary intervention is necess...          NaN   \n",
       "1  A percutaneous coronary intervention is necess...          NaN   \n",
       "2  A percutaneous coronary intervention is necess...          NaN   \n",
       "3  Invasive procedure through a puncture in the s...          NaN   \n",
       "4     Removal or resection of the pericardium. (ACC)          NaN   \n",
       "5  A procedure to evaluate the health of the an i...          NaN   \n",
       "6  A procedure to evaluate the health of the card...          NaN   \n",
       "7  The coronary sinus / left ventricular lead was...          NaN   \n",
       "8  A percutaneous coronary intervention is impera...          NaN   \n",
       "9  The cardiac lead has been left in situ and reu...          NaN   \n",
       "\n",
       "  concept status                        semantic type  \n",
       "0            NaN  Therapeutic or Preventive Procedure  \n",
       "1            NaN  Therapeutic or Preventive Procedure  \n",
       "2            NaN  Therapeutic or Preventive Procedure  \n",
       "3            NaN  Therapeutic or Preventive Procedure  \n",
       "4            NaN  Therapeutic or Preventive Procedure  \n",
       "5            NaN                 Health Care Activity  \n",
       "6            NaN                 Health Care Activity  \n",
       "7            NaN                              Finding  \n",
       "8            NaN  Therapeutic or Preventive Procedure  \n",
       "9            NaN                              Finding  "
      ]
     },
     "execution_count": 28,
     "metadata": {},
     "output_type": "execute_result"
    }
   ],
   "source": [
    "ncitT.head(n=10)"
   ]
  },
  {
   "cell_type": "code",
   "execution_count": 27,
   "metadata": {},
   "outputs": [],
   "source": [
    "ncitT.head(n=10).to_csv('tmp.tsv',sep='\\t')"
   ]
  },
  {
   "cell_type": "code",
   "execution_count": 1,
   "metadata": {},
   "outputs": [
    {
     "name": "stdout",
     "output_type": "stream",
     "text": [
      "/cellar/users/btsui/Project/METAMAP/notebook/RapMapTest/NLP_spacy\r\n"
     ]
    }
   ],
   "source": [
    "!pwd"
   ]
  },
  {
   "cell_type": "code",
   "execution_count": null,
   "metadata": {},
   "outputs": [],
   "source": []
  }
 ],
 "metadata": {
  "kernelspec": {
   "display_name": "Python 3",
   "language": "python",
   "name": "python3"
  },
  "language_info": {
   "codemirror_mode": {
    "name": "ipython",
    "version": 3
   },
   "file_extension": ".py",
   "mimetype": "text/x-python",
   "name": "python",
   "nbconvert_exporter": "python",
   "pygments_lexer": "ipython3",
   "version": "3.6.4"
  }
 },
 "nbformat": 4,
 "nbformat_minor": 2
}
