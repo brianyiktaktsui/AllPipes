{
 "cells": [
  {
   "cell_type": "code",
   "execution_count": 4,
   "metadata": {},
   "outputs": [
    {
     "data": {
      "text/plain": [
       "'/cellar/users/btsui/Data/SRA/snp/Homo_sapiens_snp_pos/'"
      ]
     },
     "execution_count": 4,
     "metadata": {},
     "output_type": "execute_result"
    }
   ],
   "source": [
    "\n",
    "from synapseclient import Activity\n",
    "from synapseclient import Entity, Project, Folder, File\n",
    "from synapseclient import Evaluation, Submission, SubmissionStatus\n",
    "from synapseclient import Wiki\n",
    "from synapseclient import Schema, Column, Table, Row, RowSet, as_table_columns\n",
    "import synapseclient\n",
    "\n",
    "import os\n",
    "'/cellar/users/btsui/Data/SRA/snp/Homo_sapiens_snp_pos/'"
   ]
  },
  {
   "cell_type": "code",
   "execution_count": 5,
   "metadata": {},
   "outputs": [
    {
     "name": "stdout",
     "output_type": "stream",
     "text": [
      "Welcome, Brian Yik Tak Tsui!\n",
      "\n"
     ]
    }
   ],
   "source": [
    "syn = synapseclient.Synapse()\n",
    "\n",
    "apiKey='FGGwD662bJiWpwZqUuUdyoroxgMzKqj7q+ADf+W+d91sKx6eV+eXpT2IEq5h6t9arNDCeKeOjKzIWm6jkss5VQ=='\n",
    "\n",
    "syn.login(email='btsui@eng.ucsd.edu', apiKey=apiKey,rememberMe=True,)#'FGGwD662bJ')\n",
    "\n"
   ]
  },
  {
   "cell_type": "code",
   "execution_count": null,
   "metadata": {
    "collapsed": true
   },
   "outputs": [],
   "source": [
    "#5 hours to compress\n",
    "my_tar_cmd_fmt='tar -zcvf {tar_archive_name}.tar.gz {tar_archive_name}'\n",
    "myDir='/data/cellardata/users/btsui/SRA/snp/Homo_sapiens_snp_pos'\n",
    "tar_cmd=my_tar_cmd_fmt.format(tar_archive_name=myDir)\n",
    "os.system(tar_cmd)"
   ]
  },
  {
   "cell_type": "code",
   "execution_count": null,
   "metadata": {
    "collapsed": true
   },
   "outputs": [],
   "source": [
    "#rnaseqDir={'syn11415787':'/cellar/users/btsui/Data/METAMAP/deploy_ready/syn11415787/RNAseq/',\n",
    "#          'syn11416037':'/cellar/users/btsui/Data/METAMAP/deploy_ready/syn11415787/meta_data/'}"
   ]
  },
  {
   "cell_type": "code",
   "execution_count": 10,
   "metadata": {
    "collapsed": true
   },
   "outputs": [],
   "source": [
    "snp_data_folder='syn11776837'"
   ]
  },
  {
   "cell_type": "code",
   "execution_count": 11,
   "metadata": {
    "collapsed": true
   },
   "outputs": [],
   "source": [
    "data_folder=syn.get(snp_data_folder)"
   ]
  },
  {
   "cell_type": "code",
   "execution_count": 13,
   "metadata": {
    "collapsed": true
   },
   "outputs": [],
   "source": [
    "#data_folder"
   ]
  },
  {
   "cell_type": "code",
   "execution_count": 14,
   "metadata": {
    "collapsed": true
   },
   "outputs": [],
   "source": [
    "tarFname=myDir+'.tar.gz'"
   ]
  },
  {
   "cell_type": "code",
   "execution_count": 15,
   "metadata": {
    "collapsed": true
   },
   "outputs": [],
   "source": [
    "f=File(tarFname,parent=data_folder) \n",
    "        #"
   ]
  },
  {
   "cell_type": "code",
   "execution_count": null,
   "metadata": {},
   "outputs": [
    {
     "name": "stdout",
     "output_type": "stream",
     "text": [
      "\n",
      "##################################################\n",
      " Uploading file to Synapse storage \n",
      "##################################################\n",
      "\n"
     ]
    }
   ],
   "source": [
    "syn.store(f)"
   ]
  },
  {
   "cell_type": "code",
   "execution_count": null,
   "metadata": {
    "collapsed": true
   },
   "outputs": [],
   "source": []
  }
 ],
 "metadata": {
  "kernelspec": {
   "display_name": "Python 2",
   "language": "python",
   "name": "python2"
  },
  "language_info": {
   "codemirror_mode": {
    "name": "ipython",
    "version": 2
   },
   "file_extension": ".py",
   "mimetype": "text/x-python",
   "name": "python",
   "nbconvert_exporter": "python",
   "pygments_lexer": "ipython2",
   "version": "2.7.14"
  }
 },
 "nbformat": 4,
 "nbformat_minor": 2
}
