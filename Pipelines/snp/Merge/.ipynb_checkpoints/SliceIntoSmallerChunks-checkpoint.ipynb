{
 "cells": [
  {
   "cell_type": "code",
   "execution_count": 1,
   "metadata": {},
   "outputs": [],
   "source": [
    "import pandas as pd\n",
    "import os\n",
    "from tqdm import tqdm\n",
    "from multiprocessing import Pool\n",
    "\n",
    "from chunk_srr import chunkSize"
   ]
  },
  {
   "cell_type": "code",
   "execution_count": 2,
   "metadata": {},
   "outputs": [],
   "source": [
    "mergedMatricesDir='/cellar/users/btsui/Data/merged/snp/hg38/mergedBySRR/'\n",
    "newChunkDir='/nrnb/users/btsui/Data/merged/snp/hg38/mergedBySRR_smallerChunk/'\n",
    "\n",
    "shrinkFactor=100"
   ]
  },
  {
   "cell_type": "code",
   "execution_count": 3,
   "metadata": {},
   "outputs": [],
   "source": [
    "inFnameS=pd.Series(os.listdir(mergedMatricesDir))"
   ]
  },
  {
   "cell_type": "code",
   "execution_count": 4,
   "metadata": {},
   "outputs": [],
   "source": [
    "newChunkSize=int(chunkSize/shrinkFactor)"
   ]
  },
  {
   "cell_type": "code",
   "execution_count": 5,
   "metadata": {},
   "outputs": [
    {
     "data": {
      "text/plain": [
       "1000"
      ]
     },
     "execution_count": 5,
     "metadata": {},
     "output_type": "execute_result"
    }
   ],
   "source": [
    "newChunkSize"
   ]
  },
  {
   "cell_type": "code",
   "execution_count": 10,
   "metadata": {},
   "outputs": [],
   "source": [
    "#take an hour to run\n",
    "def outputSmallerChunks(inFname):\n",
    "    tmpDf=pd.read_pickle(mergedMatricesDir+inFname)\n",
    "    chunk_a=(tmpDf.index.get_level_values('Run_digits')/newChunkSize\n",
    "            ).astype(int)*newChunkSize\n",
    "\n",
    "    chunks=chunk_a.unique()\n",
    "\n",
    "    for chunk_i in (chunks):\n",
    "        m=chunk_a==chunk_i\n",
    "        myChunkDf=tmpDf[m].copy()\n",
    "        outputChunkDir=newChunkDir+\"{}.pickle\".format(chunk_i)\n",
    "\n",
    "        myChunkDf.to_pickle(outputChunkDir)\n",
    "        os.system('pigz '+outputChunkDir)"
   ]
  },
  {
   "cell_type": "code",
   "execution_count": null,
   "metadata": {},
   "outputs": [
    {
     "name": "stderr",
     "output_type": "stream",
     "text": [
      " 57%|█████▋    | 35/61 [24:13<17:59, 41.54s/it]  "
     ]
    }
   ],
   "source": [
    "with Pool(8) as p:\n",
    "    list(tqdm(\n",
    "        p.imap(outputSmallerChunks,inFnameS),total=len(inFnameS)\n",
    "    ))"
   ]
  },
  {
   "cell_type": "code",
   "execution_count": null,
   "metadata": {},
   "outputs": [],
   "source": [
    "asdasd"
   ]
  },
  {
   "cell_type": "code",
   "execution_count": null,
   "metadata": {},
   "outputs": [],
   "source": [
    "#Pool.map( outputSmallerChunks)"
   ]
  },
  {
   "cell_type": "code",
   "execution_count": null,
   "metadata": {},
   "outputs": [],
   "source": []
  }
 ],
 "metadata": {
  "kernelspec": {
   "display_name": "Python [default]",
   "language": "python",
   "name": "python3"
  },
  "language_info": {
   "codemirror_mode": {
    "name": "ipython",
    "version": 3
   },
   "file_extension": ".py",
   "mimetype": "text/x-python",
   "name": "python",
   "nbconvert_exporter": "python",
   "pygments_lexer": "ipython3",
   "version": "3.6.5"
  }
 },
 "nbformat": 4,
 "nbformat_minor": 2
}
