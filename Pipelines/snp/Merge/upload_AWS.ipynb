{
 "cells": [
  {
   "cell_type": "code",
   "execution_count": 1,
   "metadata": {},
   "outputs": [],
   "source": [
    "import pandas as pd"
   ]
  },
  {
   "cell_type": "code",
   "execution_count": 2,
   "metadata": {},
   "outputs": [],
   "source": [
    "import os\n",
    "import boto3\n",
    "import botocore\n",
    "import paramiko\n",
    "from tqdm import tqdm"
   ]
  },
  {
   "cell_type": "code",
   "execution_count": 3,
   "metadata": {},
   "outputs": [],
   "source": [
    "mergedMatricesDir='/nrnb/users/btsui/Data/merged/snp/hg38/mergedBySRR_smallerChunk//'\n",
    "remoteDir='~/efs/all_seq/snp/hg38/mergedBySRR_smallerChunk/'"
   ]
  },
  {
   "cell_type": "code",
   "execution_count": 4,
   "metadata": {},
   "outputs": [],
   "source": [
    "inFnameS=pd.Series(os.listdir(mergedMatricesDir))"
   ]
  },
  {
   "cell_type": "code",
   "execution_count": 5,
   "metadata": {},
   "outputs": [
    {
     "name": "stdout",
     "output_type": "stream",
     "text": [
      "# of files to upload: 2806\n"
     ]
    }
   ],
   "source": [
    "print ('# of files to upload:',len(inFnameS))"
   ]
  },
  {
   "cell_type": "code",
   "execution_count": 6,
   "metadata": {},
   "outputs": [],
   "source": [
    "#include_m1=(inFnameS.str.contains('gene_symbol')&(~inFnameS.str.contains('.gz')))\n",
    "#include_m2=inFnameS.isin(['merged_kallisto_run_info.pickle'])\n",
    "transferFnames=inFnameS#[include_m1|include_m2]"
   ]
  },
  {
   "cell_type": "code",
   "execution_count": 7,
   "metadata": {},
   "outputs": [],
   "source": [
    "key = paramiko.RSAKey.from_private_key_file('/cellar/users/btsui/.ssh/jupyter_hub.pem')\n",
    "client = paramiko.SSHClient()\n",
    "client.set_missing_host_key_policy(paramiko.AutoAddPolicy())"
   ]
  },
  {
   "cell_type": "code",
   "execution_count": 8,
   "metadata": {},
   "outputs": [],
   "source": [
    "instance_ip='ec2-18-237-108-162.us-west-2.compute.amazonaws.com'\n",
    "mountEfs='sudo mount -t efs fs-e1636448:/ efs'"
   ]
  },
  {
   "cell_type": "code",
   "execution_count": 9,
   "metadata": {},
   "outputs": [],
   "source": [
    "\n",
    "\n",
    "#try:\n",
    "# Here 'ubuntu' is user name and 'instance_ip' is public IP of EC2\n",
    "client.connect(hostname=instance_ip, username=\"ec2-user\", pkey=key)\n",
    "# Execute a command(cmd) after connecting/ssh to an instance\n",
    "cmd='mkdir ~/efs'\n",
    "stdin, stdout, stderr = client.exec_command(cmd)\n",
    "cmd='sudo mount -t nfs4 -o nfsvers=4.1,rsize=1048576,wsize=1048576,hard,timeo=600,retrans=2 fs-e1636448.efs.us-west-2.amazonaws.com:/ ~/efs'\n",
    "stdin, stdout, stderr = client.exec_command(cmd)"
   ]
  },
  {
   "cell_type": "code",
   "execution_count": null,
   "metadata": {},
   "outputs": [],
   "source": []
  },
  {
   "cell_type": "code",
   "execution_count": 10,
   "metadata": {},
   "outputs": [
    {
     "name": "stdout",
     "output_type": "stream",
     "text": [
      "b''\n",
      "b''\n"
     ]
    }
   ],
   "source": [
    "cmd='mkdir -p '+remoteDir\n",
    "stdin, stdout, stderr = client.exec_command(cmd)\n",
    "print (stdout.read())\n",
    "print (stderr.read())"
   ]
  },
  {
   "cell_type": "code",
   "execution_count": 11,
   "metadata": {},
   "outputs": [
    {
     "data": {
      "text/plain": [
       "'ec2-18-237-108-162.us-west-2.compute.amazonaws.com'"
      ]
     },
     "execution_count": 11,
     "metadata": {},
     "output_type": "execute_result"
    }
   ],
   "source": [
    "instance_ip"
   ]
  },
  {
   "cell_type": "code",
   "execution_count": 12,
   "metadata": {},
   "outputs": [
    {
     "data": {
      "text/plain": [
       "0"
      ]
     },
     "execution_count": 12,
     "metadata": {},
     "output_type": "execute_result"
    }
   ],
   "source": [
    "addHostVerificationCmd=\"ssh -o StrictHostKeyChecking=no -i $HOME/.ssh/jupyter_hub.pem ec2-user@{instance_ip}  ls\".format(instance_ip=instance_ip)\n",
    "os.system(addHostVerificationCmd)\n"
   ]
  },
  {
   "cell_type": "code",
   "execution_count": 13,
   "metadata": {},
   "outputs": [],
   "source": [
    "myRsyncDirFormat='rsync  -avP -e \"ssh -i $HOME/.ssh/jupyter_hub.pem\" {localFDir} ec2-user@{instance_ip}:{remoteDir}'"
   ]
  },
  {
   "cell_type": "code",
   "execution_count": 14,
   "metadata": {},
   "outputs": [],
   "source": [
    "rsyncCmd=myRsyncDirFormat.format( localFDir=mergedMatricesDir,remoteDir=remoteDir,instance_ip=instance_ip)"
   ]
  },
  {
   "cell_type": "code",
   "execution_count": 15,
   "metadata": {},
   "outputs": [],
   "source": [
    "##an hour to finish?\n",
    "os.system( rsyncCmd)"
   ]
  },
  {
   "cell_type": "code",
   "execution_count": null,
   "metadata": {},
   "outputs": [
    {
     "name": "stdout",
     "output_type": "stream",
     "text": [
      "sending incremental file list\n",
      "./\n",
      "1044000.pickle.gz\n",
      "     91,309,863 100%   41.46MB/s    0:00:02 (xfr#1, to-chk=2767/2807)\n",
      "1045000.pickle.gz\n",
      "     45,509,036 100%   23.85MB/s    0:00:01 (xfr#2, to-chk=2766/2807)\n",
      "1046000.pickle.gz\n",
      "      9,154,671 100%    5.61MB/s    0:00:01 (xfr#3, to-chk=2765/2807)\n",
      "1047000.pickle.gz\n",
      "     34,613,828 100%   28.14MB/s    0:00:01 (xfr#4, to-chk=2764/2807)\n",
      "1049000.pickle.gz\n",
      "     14,207,544 100%   16.23MB/s    0:00:00 (xfr#5, to-chk=2763/2807)\n",
      "1050000.pickle.gz\n",
      "     17,321,999 100%   10.88MB/s    0:00:01 (xfr#6, to-chk=2762/2807)\n",
      "1051000.pickle.gz\n",
      "      5,336,571 100%    7.53MB/s    0:00:00 (xfr#7, to-chk=2761/2807)\n",
      "1054000.pickle.gz\n",
      "     48,681,156 100%   24.28MB/s    0:00:01 (xfr#8, to-chk=2760/2807)\n",
      "1055000.pickle.gz\n",
      "     37,877,935 100%   16.39MB/s    0:00:02 (xfr#9, to-chk=2759/2807)\n",
      "1056000.pickle.gz\n",
      "      5,338,194 100%    7.60MB/s    0:00:00 (xfr#10, to-chk=2758/2807)\n",
      "1057000.pickle.gz\n",
      "     21,891,261 100%   13.11MB/s    0:00:01 (xfr#11, to-chk=2757/2807)\n",
      "1058000.pickle.gz\n",
      "     15,804,222 100%   10.39MB/s    0:00:01 (xfr#12, to-chk=2756/2807)\n",
      "1060000.pickle.gz\n",
      "     23,038,533 100%   14.49MB/s    0:00:01 (xfr#13, to-chk=2755/2807)\n",
      "1061000.pickle.gz\n",
      "      5,345,220 100%    5.49MB/s    0:00:00 (xfr#14, to-chk=2754/2807)\n",
      "1062000.pickle.gz\n",
      "      2,259,507 100%    2.10MB/s    0:00:01 (xfr#15, to-chk=2753/2807)\n",
      "1063000.pickle.gz\n",
      "        879,813 100%    5.67MB/s    0:00:00 (xfr#16, to-chk=2752/2807)\n",
      "1066000.pickle.gz\n",
      "      5,375,127 100%   12.03MB/s    0:00:00 (xfr#17, to-chk=2751/2807)\n",
      "1067000.pickle.gz\n",
      "     91,967,445 100%   20.59MB/s    0:00:04 (xfr#18, to-chk=2750/2807)\n",
      "1068000.pickle.gz\n",
      "     15,888,460 100%    9.17MB/s    0:00:01 (xfr#19, to-chk=2749/2807)\n",
      "107000.pickle.gz\n",
      "     21,639,951 100%   12.72MB/s    0:00:01 (xfr#20, to-chk=2748/2807)\n",
      "1091000.pickle.gz\n",
      "        729,112 100%    1.07MB/s    0:00:00 (xfr#21, to-chk=2747/2807)\n",
      "1094000.pickle.gz\n",
      "     97,138,969 100%   19.02MB/s    0:00:04 (xfr#22, to-chk=2746/2807)\n",
      "1095000.pickle.gz\n",
      "     41,377,931 100%   12.63MB/s    0:00:03 (xfr#23, to-chk=2745/2807)\n",
      "1097000.pickle.gz\n",
      "      1,041,087 100%    1.73MB/s    0:00:00 (xfr#24, to-chk=2744/2807)\n",
      "1101000.pickle.gz\n",
      "        977,767 100%    1.40MB/s    0:00:00 (xfr#25, to-chk=2743/2807)\n",
      "1103000.pickle.gz\n",
      "      2,232,657 100%    1.87MB/s    0:00:01 (xfr#26, to-chk=2742/2807)\n",
      "1104000.pickle.gz\n",
      "      5,594,245 100%   13.34MB/s    0:00:00 (xfr#27, to-chk=2741/2807)\n",
      "1105000.pickle.gz\n",
      "     10,371,183 100%   11.29MB/s    0:00:00 (xfr#28, to-chk=2740/2807)\n",
      "1106000.pickle.gz\n",
      "     16,370,311 100%    9.37MB/s    0:00:01 (xfr#29, to-chk=2739/2807)\n",
      "1107000.pickle.gz\n",
      "      7,132,960 100%    7.29MB/s    0:00:00 (xfr#30, to-chk=2738/2807)\n",
      "111000.pickle.gz\n",
      "     11,070,442 100%   10.66MB/s    0:00:00 (xfr#31, to-chk=2737/2807)\n",
      "1118000.pickle.gz\n",
      "     15,104,521 100%    7.85MB/s    0:00:01 (xfr#32, to-chk=2736/2807)\n",
      "1119000.pickle.gz\n",
      "     21,964,541 100%   11.88MB/s    0:00:01 (xfr#33, to-chk=2735/2807)\n",
      "112000.pickle.gz\n",
      "      6,574,638 100%    5.72MB/s    0:00:01 (xfr#34, to-chk=2734/2807)\n",
      "1120000.pickle.gz\n",
      "      2,596,412 100%    7.41MB/s    0:00:00 (xfr#35, to-chk=2733/2807)\n",
      "1122000.pickle.gz\n",
      "      1,856,784 100%    4.24MB/s    0:00:00 (xfr#36, to-chk=2732/2807)\n",
      "1124000.pickle.gz\n",
      "      2,276,754 100%    3.95MB/s    0:00:00 (xfr#37, to-chk=2731/2807)\n",
      "1130000.pickle.gz\n",
      "      3,963,432 100%    4.86MB/s    0:00:00 (xfr#38, to-chk=2730/2807)\n",
      "1131000.pickle.gz\n",
      "      6,103,340 100%    5.39MB/s    0:00:01 (xfr#39, to-chk=2729/2807)\n",
      "1132000.pickle.gz\n",
      "      5,293,112 100%   13.35MB/s    0:00:00 (xfr#40, to-chk=2728/2807)\n",
      "1136000.pickle.gz\n",
      "      2,524,529 100%    4.14MB/s    0:00:00 (xfr#41, to-chk=2727/2807)\n",
      "1139000.pickle.gz\n",
      "     18,266,687 100%   13.83MB/s    0:00:01 (xfr#42, to-chk=2726/2807)\n",
      "1140000.pickle.gz\n",
      "    106,435,205 100%   29.82MB/s    0:00:03 (xfr#43, to-chk=2725/2807)\n",
      "1141000.pickle.gz\n",
      "      6,257,391 100%    5.04MB/s    0:00:01 (xfr#44, to-chk=2724/2807)\n",
      "1142000.pickle.gz\n",
      "        866,866 100%    4.37MB/s    0:00:00 (xfr#45, to-chk=2723/2807)\n",
      "1143000.pickle.gz\n",
      "     32,956,269 100%   28.55MB/s    0:00:01 (xfr#46, to-chk=2722/2807)\n",
      "1144000.pickle.gz\n",
      "      1,780,604 100%    9.87MB/s    0:00:00 (xfr#47, to-chk=2721/2807)\n",
      "1145000.pickle.gz\n",
      "     26,482,156 100%   22.86MB/s    0:00:01 (xfr#48, to-chk=2720/2807)\n",
      "1146000.pickle.gz\n",
      "    101,719,144 100%   35.31MB/s    0:00:02 (xfr#49, to-chk=2719/2807)\n",
      "1150000.pickle.gz\n",
      "      6,858,545 100%    3.97MB/s    0:00:01 (xfr#50, to-chk=2718/2807)\n",
      "1151000.pickle.gz\n",
      "     12,563,623 100%   20.07MB/s    0:00:00 (xfr#51, to-chk=2717/2807)\n",
      "1152000.pickle.gz\n",
      "      1,930,923 100%    2.79MB/s    0:00:00 (xfr#52, to-chk=2716/2807)\n",
      "1153000.pickle.gz\n",
      "     19,860,560 100%   11.71MB/s    0:00:01 (xfr#53, to-chk=2715/2807)\n",
      "1156000.pickle.gz\n",
      "     46,272,263 100%   21.01MB/s    0:00:02 (xfr#54, to-chk=2714/2807)\n",
      "1157000.pickle.gz\n",
      "     65,447,809 100%   19.23MB/s    0:00:03 (xfr#55, to-chk=2713/2807)\n",
      "1158000.pickle.gz\n",
      "      9,283,734 100%    5.62MB/s    0:00:01 (xfr#56, to-chk=2712/2807)\n",
      "1160000.pickle.gz\n",
      "     10,800,528 100%   11.81MB/s    0:00:00 (xfr#57, to-chk=2711/2807)\n",
      "1161000.pickle.gz\n",
      "      9,027,946 100%    6.42MB/s    0:00:01 (xfr#58, to-chk=2710/2807)\n",
      "1163000.pickle.gz\n",
      "     26,091,498 100%   19.72MB/s    0:00:01 (xfr#59, to-chk=2709/2807)\n",
      "1164000.pickle.gz\n",
      "     35,751,943 100%   21.53MB/s    0:00:01 (xfr#60, to-chk=2708/2807)\n",
      "1165000.pickle.gz\n",
      "      3,022,996 100%    2.85MB/s    0:00:01 (xfr#61, to-chk=2707/2807)\n",
      "1166000.pickle.gz\n",
      "      6,224,631 100%   23.01MB/s    0:00:00 (xfr#62, to-chk=2706/2807)\n",
      "1167000.pickle.gz\n",
      "      3,790,603 100%    7.29MB/s    0:00:00 (xfr#63, to-chk=2705/2807)\n",
      "1168000.pickle.gz\n",
      "     48,091,182 100%   20.89MB/s    0:00:02 (xfr#64, to-chk=2704/2807)\n",
      "1169000.pickle.gz\n",
      "      8,608,516 100%  101.35MB/s    0:00:00 (xfr#65, to-chk=2703/2807)\n",
      "117000.pickle.gz\n",
      "      1,037,878 100%    5.24MB/s    0:00:00 (xfr#66, to-chk=2702/2807)\n",
      "1170000.pickle.gz\n",
      "     39,134,244 100%   18.95MB/s    0:00:01 (xfr#67, to-chk=2701/2807)\n",
      "1171000.pickle.gz\n",
      "     22,242,959 100%   10.90MB/s    0:00:01 (xfr#68, to-chk=2700/2807)\n",
      "1172000.pickle.gz\n",
      "      2,086,650 100%    2.05MB/s    0:00:00 (xfr#69, to-chk=2699/2807)\n",
      "1173000.pickle.gz\n",
      "      2,899,168 100%    1.89MB/s    0:00:01 (xfr#70, to-chk=2698/2807)\n",
      "1174000.pickle.gz\n",
      "      9,781,181 100%   12.36MB/s    0:00:00 (xfr#71, to-chk=2697/2807)\n",
      "1175000.pickle.gz\n",
      "     28,979,769 100%   15.62MB/s    0:00:01 (xfr#72, to-chk=2696/2807)\n",
      "1176000.pickle.gz\n",
      "     20,496,517 100%   11.57MB/s    0:00:01 (xfr#73, to-chk=2695/2807)\n",
      "1177000.pickle.gz\n",
      "     42,439,641 100%   19.71MB/s    0:00:02 (xfr#74, to-chk=2694/2807)\n",
      "1178000.pickle.gz\n",
      "      2,268,326 100%    8.72MB/s    0:00:00 (xfr#75, to-chk=2693/2807)\n",
      "1179000.pickle.gz\n",
      "     18,553,715 100%   13.92MB/s    0:00:01 (xfr#76, to-chk=2692/2807)\n",
      "118000.pickle.gz\n",
      "      2,093,057 100%    6.38MB/s    0:00:00 (xfr#77, to-chk=2691/2807)\n",
      "1181000.pickle.gz\n",
      "      8,953,148 100%    9.68MB/s    0:00:00 (xfr#78, to-chk=2690/2807)\n",
      "1182000.pickle.gz\n",
      "     77,479,412 100%   22.42MB/s    0:00:03 (xfr#79, to-chk=2689/2807)\n",
      "1183000.pickle.gz\n",
      "      7,444,563 100%    7.66MB/s    0:00:00 (xfr#80, to-chk=2688/2807)\n",
      "1184000.pickle.gz\n",
      "      1,572,944 100%    1.52MB/s    0:00:00 (xfr#81, to-chk=2687/2807)\n",
      "1185000.pickle.gz\n",
      "      4,671,637 100%    3.45MB/s    0:00:01 (xfr#82, to-chk=2686/2807)\n",
      "1186000.pickle.gz\n",
      "     33,804,440 100%   25.36MB/s    0:00:01 (xfr#83, to-chk=2685/2807)\n",
      "1187000.pickle.gz\n",
      "      4,666,818 100%    6.26MB/s    0:00:00 (xfr#84, to-chk=2684/2807)\n",
      "1190000.pickle.gz\n",
      "     12,676,354 100%   10.75MB/s    0:00:01 (xfr#85, to-chk=2683/2807)\n",
      "1191000.pickle.gz\n",
      "     16,704,975 100%   21.18MB/s    0:00:00 (xfr#86, to-chk=2682/2807)\n",
      "1192000.pickle.gz\n",
      "     27,857,396 100%   15.18MB/s    0:00:01 (xfr#87, to-chk=2681/2807)\n",
      "1193000.pickle.gz\n",
      "     37,652,046 100%   21.20MB/s    0:00:01 (xfr#88, to-chk=2680/2807)\n",
      "1195000.pickle.gz\n",
      "      7,881,827 100%    6.38MB/s    0:00:01 (xfr#89, to-chk=2679/2807)\n",
      "1196000.pickle.gz\n",
      "        744,764 100%    3.37MB/s    0:00:00 (xfr#90, to-chk=2678/2807)\n",
      "1197000.pickle.gz\n",
      "     10,722,059 100%   14.12MB/s    0:00:00 (xfr#91, to-chk=2677/2807)\n",
      "1198000.pickle.gz\n",
      "     10,945,106 100%    8.52MB/s    0:00:01 (xfr#92, to-chk=2676/2807)\n",
      "1199000.pickle.gz\n"
     ]
    },
    {
     "name": "stdout",
     "output_type": "stream",
     "text": [
      "     13,017,843 100%    8.71MB/s    0:00:01 (xfr#93, to-chk=2675/2807)\n",
      "1200000.pickle.gz\n",
      "     50,925,266 100%    8.07MB/s    0:00:06 (xfr#94, to-chk=2674/2807)\n",
      "1201000.pickle.gz\n",
      "    111,242,160 100%   11.50MB/s    0:00:09 (xfr#95, to-chk=2673/2807)\n",
      "1202000.pickle.gz\n",
      "     10,461,254 100%    6.15MB/s    0:00:01 (xfr#96, to-chk=2672/2807)\n",
      "1203000.pickle.gz\n",
      "     13,102,157 100%   10.45MB/s    0:00:01 (xfr#97, to-chk=2671/2807)\n",
      "1204000.pickle.gz\n",
      "     15,574,951 100%   55.01MB/s    0:00:00 (xfr#98, to-chk=2670/2807)\n",
      "1205000.pickle.gz\n",
      "     34,705,725 100%   15.44MB/s    0:00:02 (xfr#99, to-chk=2669/2807)\n",
      "1206000.pickle.gz\n",
      "     15,061,868 100%    9.10MB/s    0:00:01 (xfr#100, to-chk=2668/2807)\n",
      "1207000.pickle.gz\n",
      "     38,839,441 100%   11.12MB/s    0:00:03 (xfr#101, to-chk=2667/2807)\n",
      "1208000.pickle.gz\n",
      "      1,838,620 100%    3.56MB/s    0:00:00 (xfr#102, to-chk=2666/2807)\n",
      "1209000.pickle.gz\n",
      "      1,838,343 100%    2.06MB/s    0:00:00 (xfr#103, to-chk=2665/2807)\n",
      "1210000.pickle.gz\n",
      "      4,556,548 100%    3.26MB/s    0:00:01 (xfr#104, to-chk=2664/2807)\n",
      "1211000.pickle.gz\n",
      "        743,874 100%    2.42MB/s    0:00:00 (xfr#105, to-chk=2663/2807)\n",
      "1212000.pickle.gz\n",
      "      5,821,842 100%    5.78MB/s    0:00:00 (xfr#106, to-chk=2662/2807)\n",
      "1213000.pickle.gz\n",
      "     10,429,779 100%    6.70MB/s    0:00:01 (xfr#107, to-chk=2661/2807)\n",
      "1214000.pickle.gz\n",
      "        745,603 100%    1.04MB/s    0:00:00 (xfr#108, to-chk=2660/2807)\n",
      "1215000.pickle.gz\n",
      "      2,900,026 100%    2.12MB/s    0:00:01 (xfr#109, to-chk=2659/2807)\n",
      "1216000.pickle.gz\n",
      "     57,152,971 100%   18.16MB/s    0:00:03 (xfr#110, to-chk=2658/2807)\n",
      "1217000.pickle.gz\n",
      "      2,444,980 100%    1.50MB/s    0:00:01 (xfr#111, to-chk=2657/2807)\n",
      "1219000.pickle.gz\n",
      "        874,124 100%    1.16MB/s    0:00:00 (xfr#112, to-chk=2656/2807)\n",
      "122000.pickle.gz\n",
      "      3,665,952 100%    2.97MB/s    0:00:01 (xfr#113, to-chk=2655/2807)\n",
      "1220000.pickle.gz\n",
      "     79,491,510 100%   24.74MB/s    0:00:03 (xfr#114, to-chk=2654/2807)\n",
      "1221000.pickle.gz\n"
     ]
    }
   ],
   "source": [
    "#!rsync  -avP -e \"ssh -i $HOME/.ssh/jupyter_hub.pem\" /nrnb/users/btsui/Data/merged/snp/hg38/mergedBySRR_smallerChunk// ec2-user@ec2-18-237-108-162.us-west-2.compute.amazonaws.com:~/efs/all_seq/snp/hg38/mergedBySRR_smallerChunk/"
   ]
  },
  {
   "cell_type": "code",
   "execution_count": 16,
   "metadata": {
    "scrolled": true
   },
   "outputs": [
    {
     "data": {
      "text/plain": [
       "\"for localFname in tqdm(transferFnames.values):\\n    localFDir= (mergedMatricesDir+localFname)\\n    rsyncCmd=myRsyncDirFormat.format(localFDir=localFDir,instance_ip=instance_ip,remoteDir=remoteDir+'.')\\n    print (rsyncCmd)\\n    print (os.system(rsyncCmd))\""
      ]
     },
     "execution_count": 16,
     "metadata": {},
     "output_type": "execute_result"
    }
   ],
   "source": [
    "\"\"\"for localFname in tqdm(transferFnames.values):\n",
    "    localFDir= (mergedMatricesDir+localFname)\n",
    "    rsyncCmd=myRsyncDirFormat.format(localFDir=localFDir,instance_ip=instance_ip,remoteDir=remoteDir+'.')\n",
    "    print (rsyncCmd)\n",
    "    print (os.system(rsyncCmd))\"\"\""
   ]
  },
  {
   "cell_type": "code",
   "execution_count": null,
   "metadata": {},
   "outputs": [],
   "source": []
  },
  {
   "cell_type": "code",
   "execution_count": 17,
   "metadata": {},
   "outputs": [],
   "source": [
    "#!rsync  -Pvu -e \"ssh -i $HOME/.ssh/jupyter_hub.pem\" /nrnb/users/btsui/Data/all_seq/rnaseq_merged/Canis_familiaris.gene_symbol.tpm.index.txt \\\n",
    "#ec2-user@ec2-52-24-55-248.us-west-2.compute.amazonaws.com:~/."
   ]
  },
  {
   "cell_type": "code",
   "execution_count": 18,
   "metadata": {},
   "outputs": [],
   "source": [
    "#!ls $HOME/.ssh/"
   ]
  },
  {
   "cell_type": "code",
   "execution_count": 19,
   "metadata": {},
   "outputs": [],
   "source": [
    "#import seaborn"
   ]
  },
  {
   "cell_type": "code",
   "execution_count": 20,
   "metadata": {},
   "outputs": [],
   "source": [
    "#seaborn.__version__"
   ]
  },
  {
   "cell_type": "code",
   "execution_count": null,
   "metadata": {},
   "outputs": [],
   "source": []
  }
 ],
 "metadata": {
  "kernelspec": {
   "display_name": "Python [default]",
   "language": "python",
   "name": "python3"
  },
  "language_info": {
   "codemirror_mode": {
    "name": "ipython",
    "version": 3
   },
   "file_extension": ".py",
   "mimetype": "text/x-python",
   "name": "python",
   "nbconvert_exporter": "python",
   "pygments_lexer": "ipython3",
   "version": "3.6.5"
  }
 },
 "nbformat": 4,
 "nbformat_minor": 2
}
