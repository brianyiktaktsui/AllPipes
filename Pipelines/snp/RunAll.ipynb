{
 "cells": [
  {
   "cell_type": "markdown",
   "metadata": {},
   "source": [
    "\n",
    "|Pipeline | Code| \n",
    "|---- | ----|\n",
    "|SNP extraction | [](./Pipelines/snp/calculate_unprocessed.ipynb)|\n",
    "|merge SNP alignment statistics | [merge_variant_aligning_statistics](./Analysis/merge_variant_aligning_statistics.ipynb) |\n",
    "| merge SNP data | [merge SNP data into pandas pickles](./Pipelines/snp/Merge/calculate_unprocessed.ipynb) |\n",
    "\n",
    "\n",
    "Details of benchmarking against TCGA are located at: \n",
    "\n",
    "http://localhost:6001/notebooks/Project/METAMAP/notebook/RapMapTest/XGS_WGS/README_TCGA_benchmark.ipynb\n",
    "\n",
    "However, due to the fact where patients allele informations are protected, we are not providing the allellic read counts for TCGA. "
   ]
  },
  {
   "cell_type": "code",
   "execution_count": 1,
   "metadata": {},
   "outputs": [
    {
     "name": "stdout",
     "output_type": "stream",
     "text": [
      "Your job-array 444389.1-204268:1 (\"snp_all_seq.sh\") has been submitted\n"
     ]
    },
    {
     "name": "stderr",
     "output_type": "stream",
     "text": [
      "[NbConvertApp] Converting notebook calculate_unprocessed.ipynb to notebook\n",
      "[NbConvertApp] Executing notebook with kernel: python3\n",
      "[NbConvertApp] Writing 7973 bytes to calculate_unprocessed.ipynb\n",
      "\n",
      "real\t1m20.487s\n",
      "user\t1m18.004s\n",
      "sys\t0m9.404s\n"
     ]
    }
   ],
   "source": [
    "%%bash \n",
    "time jupyter nbconvert --execute --to notebook --ExecutePreprocessor.timeout=-1 --inplace calculate_unprocessed.ipynb"
   ]
  },
  {
   "cell_type": "code",
   "execution_count": null,
   "metadata": {},
   "outputs": [],
   "source": [
    "%%bash \n",
    "cd Merge\n",
    "time jupyter nbconvert --execute --to notebook --ExecutePreprocessor.timeout=-1 --inplace calculate_unprocessed.ipynb"
   ]
  },
  {
   "cell_type": "markdown",
   "metadata": {},
   "source": [
    "# Scratch"
   ]
  },
  {
   "cell_type": "code",
   "execution_count": 11,
   "metadata": {},
   "outputs": [],
   "source": [
    "#!qstat -u btsui"
   ]
  },
  {
   "cell_type": "code",
   "execution_count": 7,
   "metadata": {},
   "outputs": [
    {
     "name": "stdout",
     "output_type": "stream",
     "text": [
      "#full_meta_dir=\"/cellar/users/btsui/Project/METAMAP/notebook/Parsing/sra_dump.csv\"\r\n",
      "full_meta_dir=\"/cellar/users/btsui/Data/SRA/DUMP/sra_dump.csv.gz\"\r\n",
      "unprocessed_meta_dir='/cellar/users/btsui/Data/SRA/all_seq/unprocessed_dump.snp.csv'\r\n",
      "log_out_dir='/nrnb/users/btsui/Data/all_seq/log_snp/'\r\n",
      "count_out_dir='/nrnb/users/btsui/Data/all_seq/snp/'\r\n",
      "#SRR5422561\r\n",
      "supporting_species=['Homo_sapiens']\r\n",
      "supporting_library_strategy=['RNA-Seq','WGS','WXS','ChIP-Seq','AMPLICON']\r\n",
      "supporting_layouts=['SINGLE','PAIRED']\r\n"
     ]
    }
   ],
   "source": [
    "!cat param.py"
   ]
  },
  {
   "cell_type": "markdown",
   "metadata": {},
   "source": [
    "### check if there are new data coming out"
   ]
  },
  {
   "cell_type": "code",
   "execution_count": 9,
   "metadata": {},
   "outputs": [
    {
     "name": "stdout",
     "output_type": "stream",
     "text": [
      "total 1.3G\r\n",
      "drwxr-xr-x  2 btsui users  64M Oct 14 15:12 rnaseq\r\n",
      "drwxr-xr-x  2 btsui users  64M Oct 14 15:12 snp\r\n",
      "drwxr-xr-x  2 btsui users  16M Oct 14 15:12 log_snp\r\n",
      "drwxr-xr-x  2 btsui users  16M Oct 14 15:12 log_rnaseq\r\n",
      "drwxr-xr-x  2 btsui users 128K Oct 14 15:12 tmp\r\n",
      "drwxr-xr-x  2 btsui users 128K Oct 12 09:54 rnaseq_merged\r\n",
      "drwxr-xr-x  2 btsui users 128K Oct 12 09:39 rnaseq_merged_chunks\r\n",
      "drwxr-xr-x 17 btsui users 128K Oct  4 12:42 ..\r\n",
      "drwxr-xr-x  2 btsui users  512 Aug 29 10:59 rnaseq_annotations\r\n"
     ]
    }
   ],
   "source": [
    "!ls -lath /nrnb/users/btsui/Data/all_seq/ | head"
   ]
  },
  {
   "cell_type": "code",
   "execution_count": 4,
   "metadata": {},
   "outputs": [],
   "source": [
    "!ls -lath /nrnb/users/btsui/tmp/ "
   ]
  },
  {
   "cell_type": "code",
   "execution_count": null,
   "metadata": {},
   "outputs": [],
   "source": [
    "!ls -lath /nrnb/users/btsui/Data/all_seq/rnaseq_merged_chunks/  | head\n"
   ]
  },
  {
   "cell_type": "code",
   "execution_count": null,
   "metadata": {},
   "outputs": [],
   "source": [
    "!ls -lath /nrnb/users/btsui/Data/all_seq/rnaseq_merged/ "
   ]
  },
  {
   "cell_type": "code",
   "execution_count": null,
   "metadata": {},
   "outputs": [],
   "source": [
    "!ls -alth "
   ]
  }
 ],
 "metadata": {
  "kernelspec": {
   "display_name": "Python [default]",
   "language": "python",
   "name": "python3"
  },
  "language_info": {
   "codemirror_mode": {
    "name": "ipython",
    "version": 3
   },
   "file_extension": ".py",
   "mimetype": "text/x-python",
   "name": "python",
   "nbconvert_exporter": "python",
   "pygments_lexer": "ipython3",
   "version": "3.6.5"
  }
 },
 "nbformat": 4,
 "nbformat_minor": 2
}
