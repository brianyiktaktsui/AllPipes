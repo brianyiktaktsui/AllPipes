{
 "cells": [
  {
   "cell_type": "code",
   "execution_count": null,
   "metadata": {},
   "outputs": [],
   "source": [
    "#!/cellar/users/btsui/anaconda2/bin/python\n",
    "import param as param\n",
    "import pandas as pd\n",
    "import numpy as np\n",
    "import os\n",
    "CWD='/cellar/users/btsui/Project/METAMAP/notebook/RapMapTest/Pipelines/snp/'\n",
    "os.chdir(CWD)\n",
    "allProcessedFnames=pd.Series(os.listdir(param.count_out_dir),dtype=np.str)\n",
    "processed_runs=allProcessedFnames.str.extract('([DRS]RR\\d+)',expand=False).values\n",
    "print (processed_runs)\n",
    "allDF=pd.DataFrame.from_csv(param.full_meta_dir)\n",
    "#m1=True#\n",
    "m_unprocessed=(~allDF.index.isin(processed_runs))\n",
    "\n",
    "#m2=(allDF['pipe_line'].isin(param.supporting_seqs))\n",
    "m2=allDF['LibraryStrategy'].isin(param.supporting_library_strategy)\n",
    "m3=allDF['new_ScientificName'].isin(param.supporting_species)\n",
    "m4=(allDF.Status=='live')\n",
    "m5=(allDF.proj_accession_Visibility=='public')\n",
    "\n",
    "#os.system(command)\n",
    "#log_out_dir='/cellar/users/btsui/Data/SRA/all_seq/log/'\n",
    "#count_out_dir='/cellar/users/btsui/Data/SRA/all_seq/chip/'\n"
   ]
  },
  {
   "cell_type": "code",
   "execution_count": 11,
   "metadata": {},
   "outputs": [],
   "source": [
    "allDF['Bases']=pd.to_numeric(allDF['Bases'],errors='coerce')"
   ]
  },
  {
   "cell_type": "code",
   "execution_count": 12,
   "metadata": {},
   "outputs": [
    {
     "name": "stdout",
     "output_type": "stream",
     "text": [
      "# of valid samples data: 385016\n",
      "qsub -t 1-108374 snp_all_seq.sh\n"
     ]
    }
   ],
   "source": [
    "#m6=(pd.to_numeric(allDF.Bases,errors='coerce')>(5*((10**6)*30)))\n",
    "m6=(pd.to_numeric(allDF.Bases,errors='coerce')>(4*((10**6)*30)))\n",
    "\n",
    "m7=allDF.LibraryLayout.isin(param.supporting_layouts)\n",
    "m8=~allDF[\"Study\"].isin(['ERP013950'])\n",
    "m_valid_samples=m2&(m3)&m4&m5&m6&m7&m8\n",
    "print ('# of valid samples data:',m_valid_samples.sum())\n",
    "targetMetaDF=allDF[ m_unprocessed&m_valid_samples].sort_values('Bases')\n",
    "targetMetaDF.to_csv(param.unprocessed_meta_dir)\n",
    "\n",
    "command=\"qsub -t 1-\"+str(targetMetaDF.shape[0])+\" snp_all_seq.sh\"\n",
    "print (command)"
   ]
  },
  {
   "cell_type": "code",
   "execution_count": 15,
   "metadata": {},
   "outputs": [
    {
     "data": {
      "text/plain": [
       "0"
      ]
     },
     "execution_count": 15,
     "metadata": {},
     "output_type": "execute_result"
    }
   ],
   "source": [
    "os.system(command)"
   ]
  },
  {
   "cell_type": "code",
   "execution_count": 16,
   "metadata": {},
   "outputs": [],
   "source": [
    "#!qdel 412089"
   ]
  },
  {
   "cell_type": "code",
   "execution_count": 24,
   "metadata": {},
   "outputs": [
    {
     "name": "stdout",
     "output_type": "stream",
     "text": [
      "job-ID  prior   name       user         state submit/start at     queue                          slots ja-task-ID \r\n",
      "-----------------------------------------------------------------------------------------------------------------\r\n",
      " 411626 4.96275 QLOGIN     btsui        r     08/05/2018 09:40:27 all.q@nrnb-5-2.ucsd.edu            1        \r\n",
      " 412090 4.99132 snp_all_se btsui        r     08/08/2018 10:21:22 long.q@nrnb-3-1.ucsd.edu           3 1\r\n",
      " 412090 4.99132 snp_all_se btsui        r     08/08/2018 10:21:22 long.q@nrnb-2-1.ucsd.edu           3 2\r\n",
      " 412090 4.99132 snp_all_se btsui        r     08/08/2018 10:21:22 long.q@nrnb-2-3.ucsd.edu           3 3\r\n",
      " 412090 4.99132 snp_all_se btsui        r     08/08/2018 10:21:22 long.q@nrnb-3-5.ucsd.edu           3 4\r\n",
      " 412090 4.99132 snp_all_se btsui        r     08/08/2018 10:21:22 long.q@nrnb-2-6.ucsd.edu           3 7\r\n",
      " 412090 4.99132 snp_all_se btsui        r     08/08/2018 10:21:22 long.q@nrnb-3-1.ucsd.edu           3 8\r\n",
      " 412090 4.99132 snp_all_se btsui        r     08/08/2018 10:21:22 long.q@nrnb-4-1.ucsd.edu           3 9\r\n",
      " 412090 4.99132 snp_all_se btsui        r     08/08/2018 10:21:22 long.q@nrnb-2-1.ucsd.edu           3 11\r\n",
      " 412090 4.99132 snp_all_se btsui        r     08/08/2018 10:21:22 long.q@nrnb-3-3.ucsd.edu           3 12\r\n",
      " 412090 4.99132 snp_all_se btsui        r     08/08/2018 10:21:22 long.q@nrnb-2-3.ucsd.edu           3 13\r\n",
      " 412090 4.99132 snp_all_se btsui        r     08/08/2018 10:21:22 long.q@nrnb-1-4.ucsd.edu           3 14\r\n",
      " 412090 4.99132 snp_all_se btsui        r     08/08/2018 10:21:22 long.q@nrnb-3-5.ucsd.edu           3 15\r\n",
      " 412090 4.99132 snp_all_se btsui        r     08/08/2018 10:21:22 long.q@nrnb-4-2.ucsd.edu           3 17\r\n",
      " 412090 4.99132 snp_all_se btsui        r     08/08/2018 10:21:22 long.q@nrnb-3-0.ucsd.edu           3 18\r\n",
      " 412090 4.99132 snp_all_se btsui        r     08/08/2018 10:21:22 long.q@nrnb-1-7.ucsd.edu           3 19\r\n",
      " 412090 4.99132 snp_all_se btsui        r     08/08/2018 10:21:22 long.q@nrnb-3-2.ucsd.edu           3 20\r\n",
      " 412090 4.99132 snp_all_se btsui        r     08/08/2018 10:21:37 long.q@nrnb-4-2.ucsd.edu           3 21\r\n",
      " 412090 4.99132 snp_all_se btsui        r     08/08/2018 10:21:37 long.q@nrnb-2-5.ucsd.edu           3 23\r\n",
      " 412090 4.99132 snp_all_se btsui        r     08/08/2018 10:21:37 long.q@nrnb-3-1.ucsd.edu           3 24\r\n",
      " 412090 4.99132 snp_all_se btsui        r     08/08/2018 10:21:37 long.q@nrnb-2-6.ucsd.edu           3 25\r\n",
      " 412090 4.99132 snp_all_se btsui        r     08/08/2018 10:21:37 long.q@nrnb-4-1.ucsd.edu           3 26\r\n",
      " 412090 4.99132 snp_all_se btsui        r     08/08/2018 10:21:37 long.q@nrnb-3-4.ucsd.edu           3 27\r\n",
      " 412090 4.99132 snp_all_se btsui        r     08/08/2018 10:21:37 long.q@nrnb-2-0.ucsd.edu           3 28\r\n",
      " 412090 4.99132 snp_all_se btsui        r     08/08/2018 10:21:37 long.q@nrnb-2-1.ucsd.edu           3 29\r\n",
      " 412090 4.99132 snp_all_se btsui        r     08/08/2018 10:21:37 long.q@nrnb-2-3.ucsd.edu           3 30\r\n",
      " 412090 4.99132 snp_all_se btsui        r     08/08/2018 10:21:37 long.q@nrnb-3-3.ucsd.edu           3 31\r\n",
      " 412090 4.99132 snp_all_se btsui        r     08/08/2018 10:21:37 long.q@nrnb-1-4.ucsd.edu           3 32\r\n",
      " 412090 4.99132 snp_all_se btsui        r     08/08/2018 10:21:37 long.q@nrnb-1-6.ucsd.edu           3 33\r\n",
      " 412090 4.99132 snp_all_se btsui        r     08/08/2018 10:21:37 long.q@nrnb-3-5.ucsd.edu           3 34\r\n",
      " 412090 4.99132 snp_all_se btsui        r     08/08/2018 10:21:37 long.q@nrnb-1-5.ucsd.edu           3 35\r\n",
      " 412090 4.99132 snp_all_se btsui        r     08/08/2018 10:21:37 long.q@nrnb-3-0.ucsd.edu           3 36\r\n",
      " 412090 4.99132 snp_all_se btsui        r     08/08/2018 10:21:38 long.q@nrnb-4-2.ucsd.edu           3 37\r\n",
      " 412090 4.99132 snp_all_se btsui        r     08/08/2018 10:21:38 long.q@nrnb-3-2.ucsd.edu           3 38\r\n",
      " 412090 4.99132 snp_all_se btsui        r     08/08/2018 10:21:38 long.q@nrnb-1-7.ucsd.edu           3 39\r\n",
      " 412090 4.99132 snp_all_se btsui        r     08/08/2018 10:21:38 long.q@nrnb-3-6.ucsd.edu           3 40\r\n",
      " 412090 4.99132 snp_all_se btsui        r     08/08/2018 10:21:38 long.q@nrnb-4-3.ucsd.edu           3 41\r\n",
      " 412090 4.99132 snp_all_se btsui        r     08/08/2018 10:21:38 long.q@nrnb-2-5.ucsd.edu           3 42\r\n",
      " 412090 4.99132 snp_all_se btsui        r     08/08/2018 10:21:38 long.q@nrnb-3-1.ucsd.edu           3 43\r\n",
      " 412090 4.99132 snp_all_se btsui        r     08/08/2018 10:21:38 long.q@nrnb-2-6.ucsd.edu           3 44\r\n",
      " 412090 4.99132 snp_all_se btsui        r     08/08/2018 10:21:38 long.q@nrnb-2-7.ucsd.edu           3 45\r\n",
      " 412090 4.99132 snp_all_se btsui        r     08/08/2018 10:21:38 long.q@nrnb-2-4.ucsd.edu           3 46\r\n",
      " 412090 4.99132 snp_all_se btsui        r     08/08/2018 10:21:38 long.q@nrnb-2-0.ucsd.edu           3 47\r\n",
      " 412090 4.99132 snp_all_se btsui        r     08/08/2018 10:21:38 long.q@nrnb-2-1.ucsd.edu           3 48\r\n",
      " 412090 4.99132 snp_all_se btsui        r     08/08/2018 10:21:38 long.q@nrnb-2-3.ucsd.edu           3 49\r\n",
      " 412090 4.99132 snp_all_se btsui        r     08/08/2018 10:21:38 long.q@nrnb-1-3                    3 50\r\n",
      " 412090 4.99132 snp_all_se btsui        r     08/08/2018 10:21:38 long.q@nrnb-1-4.ucsd.edu           3 51\r\n",
      " 412090 4.99132 snp_all_se btsui        r     08/08/2018 10:21:38 long.q@nrnb-1-6.ucsd.edu           3 52\r\n",
      " 412090 4.99132 snp_all_se btsui        r     08/08/2018 10:21:38 long.q@nrnb-3-5.ucsd.edu           3 53\r\n",
      " 412090 4.99132 snp_all_se btsui        r     08/08/2018 10:21:38 long.q@nrnb-1-5.ucsd.edu           3 54\r\n",
      " 412090 4.99132 snp_all_se btsui        r     08/08/2018 10:21:39 long.q@nrnb-3-0.ucsd.edu           3 55\r\n",
      " 412090 4.99132 snp_all_se btsui        r     08/08/2018 10:21:39 long.q@nrnb-4-2.ucsd.edu           3 56\r\n",
      " 412090 4.99132 snp_all_se btsui        r     08/08/2018 10:21:39 long.q@nrnb-1-7.ucsd.edu           3 57\r\n",
      " 412090 4.99132 snp_all_se btsui        r     08/08/2018 10:21:39 long.q@nrnb-3-6.ucsd.edu           3 58\r\n",
      " 412090 4.99132 snp_all_se btsui        r     08/08/2018 10:21:39 long.q@nrnb-2-5.ucsd.edu           3 59\r\n",
      " 412090 4.99132 snp_all_se btsui        r     08/08/2018 10:21:39 long.q@nrnb-4-0.ucsd.edu           3 60\r\n",
      " 412090 4.99132 snp_all_se btsui        r     08/08/2018 10:21:39 long.q@nrnb-3-1.ucsd.edu           3 61\r\n",
      " 412090 4.99132 snp_all_se btsui        r     08/08/2018 10:21:39 long.q@nrnb-2-6.ucsd.edu           3 62\r\n",
      " 412090 4.99132 snp_all_se btsui        r     08/08/2018 10:21:39 long.q@nrnb-2-7.ucsd.edu           3 63\r\n",
      " 412090 4.99132 snp_all_se btsui        r     08/08/2018 10:21:39 long.q@nrnb-2-4.ucsd.edu           3 64\r\n",
      " 412090 4.99132 snp_all_se btsui        r     08/08/2018 10:21:39 long.q@nrnb-2-0.ucsd.edu           3 65\r\n",
      " 412090 4.99132 snp_all_se btsui        r     08/08/2018 10:21:39 long.q@nrnb-2-1.ucsd.edu           3 66\r\n",
      " 412090 4.99132 snp_all_se btsui        r     08/08/2018 10:21:39 long.q@nrnb-2-3.ucsd.edu           3 67\r\n",
      " 412090 4.99132 snp_all_se btsui        r     08/08/2018 10:21:39 long.q@nrnb-1-3                    3 68\r\n",
      " 412090 4.99132 snp_all_se btsui        r     08/08/2018 10:21:39 long.q@nrnb-1-4.ucsd.edu           3 69\r\n",
      " 412090 4.99132 snp_all_se btsui        r     08/08/2018 10:21:39 long.q@nrnb-3-5.ucsd.edu           3 70\r\n",
      " 412090 4.99132 snp_all_se btsui        r     08/08/2018 10:21:39 long.q@nrnb-1-0                    3 72\r\n",
      " 412090 4.99132 snp_all_se btsui        r     08/08/2018 10:21:40 long.q@nrnb-3-0.ucsd.edu           3 73\r\n",
      " 412090 4.99132 snp_all_se btsui        r     08/08/2018 10:21:40 long.q@nrnb-4-2.ucsd.edu           3 74\r\n",
      " 412090 4.99132 snp_all_se btsui        r     08/08/2018 10:21:40 long.q@nrnb-1-7.ucsd.edu           3 75\r\n",
      " 412090 4.99132 snp_all_se btsui        r     08/08/2018 10:21:40 long.q@nrnb-3-6.ucsd.edu           3 76\r\n",
      " 412090 4.99132 snp_all_se btsui        r     08/08/2018 10:21:40 long.q@nrnb-2-2.ucsd.edu           3 77\r\n",
      " 412090 4.99132 snp_all_se btsui        r     08/08/2018 10:21:40 long.q@nrnb-3-7.ucsd.edu           3 78\r\n",
      " 412090 4.99132 snp_all_se btsui        r     08/08/2018 10:21:40 long.q@nrnb-2-5.ucsd.edu           3 79\r\n",
      " 412090 4.99132 snp_all_se btsui        r     08/08/2018 10:21:40 long.q@nrnb-3-1.ucsd.edu           3 80\r\n",
      " 412090 4.99132 snp_all_se btsui        r     08/08/2018 10:21:40 long.q@nrnb-2-6.ucsd.edu           3 81\r\n",
      " 412090 4.99132 snp_all_se btsui        r     08/08/2018 10:21:40 long.q@nrnb-2-7.ucsd.edu           3 82\r\n",
      " 412090 4.99132 snp_all_se btsui        r     08/08/2018 10:21:40 long.q@nrnb-1-2                    3 83\r\n",
      " 412090 4.99132 snp_all_se btsui        r     08/08/2018 10:21:40 long.q@nrnb-2-4.ucsd.edu           3 84\r\n",
      " 412090 4.99132 snp_all_se btsui        r     08/08/2018 10:21:40 long.q@nrnb-2-0.ucsd.edu           3 85\r\n",
      " 412090 4.99132 snp_all_se btsui        r     08/08/2018 10:21:40 long.q@nrnb-2-1.ucsd.edu           3 86\r\n",
      " 412090 4.99132 snp_all_se btsui        r     08/08/2018 10:21:40 long.q@nrnb-1-4.ucsd.edu           3 87\r\n",
      " 412090 4.99132 snp_all_se btsui        r     08/08/2018 10:21:40 long.q@nrnb-3-5.ucsd.edu           3 88\r\n",
      " 412090 4.99132 snp_all_se btsui        r     08/08/2018 10:21:40 long.q@nrnb-1-5.ucsd.edu           3 89\r\n",
      " 412090 4.99132 snp_all_se btsui        r     08/08/2018 10:21:40 long.q@nrnb-1-0                    3 90\r\n",
      " 412090 4.99132 snp_all_se btsui        r     08/08/2018 10:21:40 long.q@nrnb-3-0.ucsd.edu           3 91\r\n",
      " 412090 4.99132 snp_all_se btsui        r     08/08/2018 10:21:41 long.q@nrnb-4-2.ucsd.edu           3 92\r\n",
      " 412090 4.99132 snp_all_se btsui        r     08/08/2018 10:21:41 long.q@nrnb-3-6.ucsd.edu           3 93\r\n",
      " 412090 4.99132 snp_all_se btsui        r     08/08/2018 10:21:41 long.q@nrnb-2-2.ucsd.edu           3 94\r\n",
      " 412090 4.99132 snp_all_se btsui        r     08/08/2018 10:21:41 long.q@nrnb-3-7.ucsd.edu           3 95\r\n",
      " 412090 4.99132 snp_all_se btsui        r     08/08/2018 10:21:41 long.q@nrnb-2-5.ucsd.edu           3 96\r\n",
      " 412090 4.99132 snp_all_se btsui        r     08/08/2018 10:21:41 long.q@nrnb-3-1.ucsd.edu           3 97\r\n",
      " 412090 4.99132 snp_all_se btsui        r     08/08/2018 10:21:41 long.q@nrnb-2-7.ucsd.edu           3 98\r\n",
      " 412090 4.99132 snp_all_se btsui        r     08/08/2018 10:21:41 long.q@nrnb-1-2                    3 99\r\n",
      " 412090 4.99132 snp_all_se btsui        r     08/08/2018 10:21:41 long.q@nrnb-2-4.ucsd.edu           3 100\r\n",
      " 412090 4.99132 snp_all_se btsui        r     08/08/2018 10:21:52 long.q@nrnb-3-4.ucsd.edu           3 101\r\n",
      " 412090 4.98666 snp_all_se btsui        r     08/08/2018 10:22:07 long.q@nrnb-4-3.ucsd.edu           3 102\r\n",
      " 412090 4.98662 snp_all_se btsui        r     08/08/2018 10:22:07 long.q@nrnb-1-7.ucsd.edu           3 103\r\n",
      " 412090 4.98659 snp_all_se btsui        r     08/08/2018 10:22:07 long.q@nrnb-1-5.ucsd.edu           3 104\r\n",
      " 412090 0.00000 snp_all_se btsui        qw    08/08/2018 10:21:16                                    3 105-108374:1\r\n"
     ]
    }
   ],
   "source": [
    "!qstat -u btsui"
   ]
  },
  {
   "cell_type": "code",
   "execution_count": null,
   "metadata": {},
   "outputs": [],
   "source": []
  },
  {
   "cell_type": "code",
   "execution_count": 28,
   "metadata": {},
   "outputs": [
    {
     "name": "stdout",
     "output_type": "stream",
     "text": [
      "#! /bin/bash\r\n",
      "# Which shell to use\r\n",
      "#$ -S /bin/bash\r\n",
      "# Transfer all variables to job script (e.g. PATH, LD_LIBRARY_PATH, etc.)\r\n",
      "#$ -V\r\n",
      "# Queue to schedule jobs to\r\n",
      "#$ -l h_rt=8:00:00\r\n",
      "## -l u14\r\n",
      "#$ -l h_vmem=2g\r\n",
      "#$ -l long\r\n",
      "#$ -l tmpfree=1T\r\n",
      "#$ -l h=!(nrnb-5-0|nrnb-5-1|nrnb-5-2|nrnb-5-3|nrnb-5-4|nrnb-5-5|nrnb-5-6)\r\n",
      "# Directory to send stdout and stderr\r\n",
      "## -o /dev/null\r\n",
      "## -e /dev/null\r\n",
      "#$ -o /cellar/users/btsui/Data/sgeOut/\r\n",
      "#$ -e /cellar/users/btsui/Data/sgeOut/\r\n",
      "# Run in current working directory\r\n",
      "#$ -cwd\r\n",
      "# Array job 14175\r\n",
      "#$ -t 1-6\r\n",
      "## -p -0\r\n",
      "#$ -r y\r\n",
      "#$ -tc 20\r\n",
      "#$ -pe smp 3\r\n",
      "#SRR_FTP=\"/cellar/users/btsui/Data/SRA/META/processing.srr\"\r\n",
      "hostname\r\n",
      "export PATH=/cellar/users/btsui/anaconda2/bin/:$PATH\r\n",
      "/cellar/users/btsui/anaconda2/bin/python -u /cellar/users/btsui/Project/METAMAP/notebook/RapMapTest/Pipelines/snp/run_one.py $SGE_TASK_ID\r\n"
     ]
    }
   ],
   "source": [
    "!cat snp_all_seq.sh"
   ]
  },
  {
   "cell_type": "code",
   "execution_count": 27,
   "metadata": {},
   "outputs": [],
   "source": [
    "#!rm ./old_calculate_unprocessed.py"
   ]
  },
  {
   "cell_type": "code",
   "execution_count": null,
   "metadata": {},
   "outputs": [],
   "source": []
  }
 ],
 "metadata": {
  "kernelspec": {
   "display_name": "Python 3",
   "language": "python",
   "name": "python3"
  },
  "language_info": {
   "codemirror_mode": {
    "name": "ipython",
    "version": 3
   },
   "file_extension": ".py",
   "mimetype": "text/x-python",
   "name": "python",
   "nbconvert_exporter": "python",
   "pygments_lexer": "ipython3",
   "version": "3.6.5"
  }
 },
 "nbformat": 4,
 "nbformat_minor": 2
}
