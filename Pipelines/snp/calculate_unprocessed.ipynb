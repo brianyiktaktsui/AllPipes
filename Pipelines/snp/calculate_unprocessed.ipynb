{
 "cells": [
  {
   "cell_type": "code",
   "execution_count": 1,
   "metadata": {},
   "outputs": [
    {
     "name": "stdout",
     "output_type": "stream",
     "text": [
      "['SRR439928' 'SRR350128' nan ... nan 'SRR5247146' nan]\n"
     ]
    },
    {
     "name": "stderr",
     "output_type": "stream",
     "text": [
      "/cellar/users/btsui/anaconda3/lib/python3.6/site-packages/ipykernel_launcher.py:11: FutureWarning: from_csv is deprecated. Please use read_csv(...) instead. Note that some of the default arguments are different, so please refer to the documentation for from_csv when changing your function calls\n",
      "  # This is added back by InteractiveShellApp.init_path()\n",
      "/cellar/users/btsui/anaconda3/lib/python3.6/site-packages/IPython/core/interactiveshell.py:2903: DtypeWarning: Columns (5,6,25,26) have mixed types. Specify dtype option on import or set low_memory=False.\n",
      "  if self.run_code(code, result):\n"
     ]
    }
   ],
   "source": [
    "#!/cellar/users/btsui/anaconda2/bin/python\n",
    "import param as param\n",
    "import pandas as pd\n",
    "import numpy as np\n",
    "import os\n",
    "CWD='/cellar/users/btsui/Project/METAMAP/notebook/RapMapTest/Pipelines/snp/'\n",
    "os.chdir(CWD)\n",
    "allProcessedFnames=pd.Series(os.listdir(param.count_out_dir),dtype=np.str)\n",
    "processed_runs=allProcessedFnames.str.extract('([DRS]RR\\d+)',expand=False).values\n",
    "print (processed_runs)\n",
    "allDF=pd.DataFrame.from_csv(param.full_meta_dir)\n",
    "#m1=True#\n",
    "m_unprocessed=(~allDF.index.isin(processed_runs))\n",
    "\n",
    "#m2=(allDF['pipe_line'].isin(param.supporting_seqs))\n",
    "m2=allDF['LibraryStrategy'].isin(param.supporting_library_strategy)\n",
    "m3=allDF['new_ScientificName'].isin(param.supporting_species)\n",
    "m4=(allDF.Status=='live')\n",
    "m5=(allDF.proj_accession_Visibility=='public')\n",
    "\n",
    "#os.system(command)\n",
    "#log_out_dir='/cellar/users/btsui/Data/SRA/all_seq/log/'\n",
    "#count_out_dir='/cellar/users/btsui/Data/SRA/all_seq/chip/'\n"
   ]
  },
  {
   "cell_type": "code",
   "execution_count": 2,
   "metadata": {},
   "outputs": [
    {
     "name": "stdout",
     "output_type": "stream",
     "text": [
      "/cellar/users/btsui/Data/SRA/DUMP/sra_dump.csv.gz\n"
     ]
    }
   ],
   "source": [
    "print (param.full_meta_dir)"
   ]
  },
  {
   "cell_type": "code",
   "execution_count": 3,
   "metadata": {},
   "outputs": [
    {
     "data": {
      "text/plain": [
       "303066"
      ]
     },
     "execution_count": 3,
     "metadata": {},
     "output_type": "execute_result"
    }
   ],
   "source": [
    "(~m_unprocessed).sum()"
   ]
  },
  {
   "cell_type": "code",
   "execution_count": 4,
   "metadata": {},
   "outputs": [],
   "source": [
    "allDF['Bases']=pd.to_numeric(allDF['Bases'],errors='coerce')"
   ]
  },
  {
   "cell_type": "code",
   "execution_count": 5,
   "metadata": {},
   "outputs": [
    {
     "name": "stdout",
     "output_type": "stream",
     "text": [
      "# of valid samples data: 504397\n",
      "qsub -t 1-204268 snp_all_seq.sh\n"
     ]
    }
   ],
   "source": [
    "#m6=(pd.to_numeric(allDF.Bases,errors='coerce')>(5*((10**6)*30)))\n",
    "m6=(pd.to_numeric(allDF.Bases,errors='coerce')>(4*((10**6)*30)))\n",
    "\n",
    "m7=allDF.LibraryLayout.isin(param.supporting_layouts)\n",
    "m8=~allDF[\"Study\"].isin(['ERP013950'])\n",
    "m_valid_samples=m2&(m3)&m4&m5&m6&m7&m8\n",
    "print ('# of valid samples data:',m_valid_samples.sum())\n",
    "targetMetaDF=allDF[ m_unprocessed&m_valid_samples].sort_values('Bases')\n",
    "targetMetaDF.to_csv(param.unprocessed_meta_dir)\n",
    "\n",
    "command=\"qsub -t 1-\"+str(targetMetaDF.shape[0])+\" snp_all_seq.sh\"\n",
    "print (command)"
   ]
  },
  {
   "cell_type": "code",
   "execution_count": 6,
   "metadata": {},
   "outputs": [
    {
     "data": {
      "text/plain": [
       "0"
      ]
     },
     "execution_count": 6,
     "metadata": {},
     "output_type": "execute_result"
    }
   ],
   "source": [
    "os.system(command)"
   ]
  },
  {
   "cell_type": "code",
   "execution_count": 7,
   "metadata": {},
   "outputs": [
    {
     "name": "stdout",
     "output_type": "stream",
     "text": [
      "#! /bin/bash\r\n",
      "# Which shell to use\r\n",
      "#$ -S /bin/bash\r\n",
      "# Transfer all variables to job script (e.g. PATH, LD_LIBRARY_PATH, etc.)\r\n",
      "#$ -V\r\n",
      "# Queue to schedule jobs to\r\n",
      "#$ -l h_rt=8:00:00\r\n",
      "## -l u14\r\n",
      "#$ -l h_vmem=2g\r\n",
      "#$ -l long\r\n",
      "#$ -l tmpfree=1T\r\n",
      "#$ -l h=!(nrnb-5-0|nrnb-5-1|nrnb-5-2|nrnb-5-3|nrnb-5-4|nrnb-5-5|nrnb-5-6)\r\n",
      "# Directory to send stdout and stderr\r\n",
      "## -o /dev/null\r\n",
      "## -e /dev/null\r\n",
      "#$ -o /cellar/users/btsui/Data/sgeOut/\r\n",
      "#$ -e /cellar/users/btsui/Data/sgeOut/\r\n",
      "# Run in current working directory\r\n",
      "#$ -cwd\r\n",
      "# Array job 14175\r\n",
      "#$ -t 1-6\r\n",
      "## -p -0\r\n",
      "#$ -r y\r\n",
      "#$ -tc 20\r\n",
      "#$ -pe smp 3\r\n",
      "#SRR_FTP=\"/cellar/users/btsui/Data/SRA/META/processing.srr\"\r\n",
      "hostname\r\n",
      "export PATH=/cellar/users/btsui/anaconda2/bin/:$PATH\r\n",
      "/cellar/users/btsui/anaconda2/bin/python -u /cellar/users/btsui/Project/METAMAP/notebook/RapMapTest/Pipelines/snp/run_one.py $SGE_TASK_ID\r\n"
     ]
    }
   ],
   "source": [
    "!cat ./snp_all_seq.sh"
   ]
  },
  {
   "cell_type": "code",
   "execution_count": 8,
   "metadata": {},
   "outputs": [],
   "source": [
    "#!qstat -u btsui"
   ]
  },
  {
   "cell_type": "code",
   "execution_count": 9,
   "metadata": {},
   "outputs": [],
   "source": [
    "#!qdel 412381"
   ]
  },
  {
   "cell_type": "code",
   "execution_count": 10,
   "metadata": {},
   "outputs": [
    {
     "name": "stdout",
     "output_type": "stream",
     "text": [
      "#! /bin/bash\r\n",
      "# Which shell to use\r\n",
      "#$ -S /bin/bash\r\n",
      "# Transfer all variables to job script (e.g. PATH, LD_LIBRARY_PATH, etc.)\r\n",
      "#$ -V\r\n",
      "# Queue to schedule jobs to\r\n",
      "#$ -l h_rt=8:00:00\r\n",
      "## -l u14\r\n",
      "#$ -l h_vmem=2g\r\n",
      "#$ -l long\r\n",
      "#$ -l tmpfree=1T\r\n",
      "#$ -l h=!(nrnb-5-0|nrnb-5-1|nrnb-5-2|nrnb-5-3|nrnb-5-4|nrnb-5-5|nrnb-5-6)\r\n",
      "# Directory to send stdout and stderr\r\n",
      "## -o /dev/null\r\n",
      "## -e /dev/null\r\n",
      "#$ -o /cellar/users/btsui/Data/sgeOut/\r\n",
      "#$ -e /cellar/users/btsui/Data/sgeOut/\r\n",
      "# Run in current working directory\r\n",
      "#$ -cwd\r\n",
      "# Array job 14175\r\n",
      "#$ -t 1-6\r\n",
      "## -p -0\r\n",
      "#$ -r y\r\n",
      "#$ -tc 20\r\n",
      "#$ -pe smp 3\r\n",
      "#SRR_FTP=\"/cellar/users/btsui/Data/SRA/META/processing.srr\"\r\n",
      "hostname\r\n",
      "export PATH=/cellar/users/btsui/anaconda2/bin/:$PATH\r\n",
      "/cellar/users/btsui/anaconda2/bin/python -u /cellar/users/btsui/Project/METAMAP/notebook/RapMapTest/Pipelines/snp/run_one.py $SGE_TASK_ID\r\n"
     ]
    }
   ],
   "source": [
    "!cat snp_all_seq.sh"
   ]
  },
  {
   "cell_type": "code",
   "execution_count": 11,
   "metadata": {},
   "outputs": [],
   "source": [
    "#!rm ./old_calculate_unprocessed.py"
   ]
  },
  {
   "cell_type": "code",
   "execution_count": 12,
   "metadata": {},
   "outputs": [],
   "source": []
  }
 ],
 "metadata": {
  "kernelspec": {
   "display_name": "Python 3",
   "language": "python",
   "name": "python3"
  },
  "language_info": {
   "codemirror_mode": {
    "name": "ipython",
    "version": 3
   },
   "file_extension": ".py",
   "mimetype": "text/x-python",
   "name": "python",
   "nbconvert_exporter": "python",
   "pygments_lexer": "ipython3",
   "version": "3.6.6"
  }
 },
 "nbformat": 4,
 "nbformat_minor": 2
}
