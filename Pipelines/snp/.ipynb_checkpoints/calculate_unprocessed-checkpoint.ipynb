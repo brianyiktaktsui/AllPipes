{
 "cells": [
  {
   "cell_type": "code",
   "execution_count": 1,
   "metadata": {},
   "outputs": [],
   "source": [
    "#!/cellar/users/btsui/anaconda2/bin/python\n",
    "import param as param\n",
    "import pandas as pd\n",
    "import numpy as np\n",
    "import os"
   ]
  },
  {
   "cell_type": "code",
   "execution_count": 2,
   "metadata": {},
   "outputs": [],
   "source": [
    "\n",
    "CWD='/cellar/users/btsui/Project/METAMAP/notebook/RapMapTest/Pipelines/snp/'\n",
    "os.chdir(CWD)\n",
    "allProcessedFnames=pd.Series(os.listdir(param.count_out_dir),dtype=np.str)\n"
   ]
  },
  {
   "cell_type": "code",
   "execution_count": 3,
   "metadata": {
    "scrolled": true
   },
   "outputs": [],
   "source": [
    "allProcessedFnames_succeeded=allProcessedFnames[allProcessedFnames.str.contains('.txt.snp.gz$')]"
   ]
  },
  {
   "cell_type": "code",
   "execution_count": 4,
   "metadata": {},
   "outputs": [],
   "source": [
    "#len(allProcessedFnames_succeeded)"
   ]
  },
  {
   "cell_type": "code",
   "execution_count": 5,
   "metadata": {},
   "outputs": [
    {
     "name": "stdout",
     "output_type": "stream",
     "text": [
      "['SRR439928' 'ERR1418544' 'SRR897917' ..., 'SRR2028008' 'SRR3173930'\n",
      " 'SRR5247146']\n"
     ]
    },
    {
     "name": "stderr",
     "output_type": "stream",
     "text": [
      "/cellar/users/btsui/anaconda3/envs/environment_conda_py26_btsui/lib/python2.7/site-packages/IPython/core/interactiveshell.py:2822: DtypeWarning: Columns (5,6,25,26) have mixed types. Specify dtype option on import or set low_memory=False.\n",
      "  if self.run_code(code, result):\n"
     ]
    }
   ],
   "source": [
    "processed_runs=allProcessedFnames_succeeded.str.extract('(\\wRR\\d+)',expand=False).values\n",
    "print (processed_runs)\n",
    "allDF=pd.DataFrame.from_csv(param.full_meta_dir)\n",
    "#m1=True#\n",
    "m_unprocessed=(~allDF.index.isin(processed_runs))\n",
    "\n",
    "#m2=(allDF['pipe_line'].isin(param.supporting_seqs))\n",
    "m2=allDF['LibraryStrategy'].isin(param.supporting_library_strategy)\n",
    "m3=allDF['new_ScientificName'].isin(param.supporting_species)\n",
    "m4=(allDF.Status=='live')\n",
    "m5=(allDF.proj_accession_Visibility=='public')\n",
    "\n",
    "#os.system(command)\n",
    "#log_out_dir='/cellar/users/btsui/Data/SRA/all_seq/log/'\n",
    "#count_out_dir='/cellar/users/btsui/Data/SRA/all_seq/chip/'\n"
   ]
  },
  {
   "cell_type": "code",
   "execution_count": 6,
   "metadata": {},
   "outputs": [],
   "source": [
    "#!cat $param.full_meta_dir"
   ]
  },
  {
   "cell_type": "code",
   "execution_count": 7,
   "metadata": {},
   "outputs": [
    {
     "name": "stdout",
     "output_type": "stream",
     "text": [
      "/cellar/users/btsui/Data/SRA/DUMP/sra_dump.csv.gz\n"
     ]
    }
   ],
   "source": [
    "print (param.full_meta_dir)"
   ]
  },
  {
   "cell_type": "code",
   "execution_count": 8,
   "metadata": {},
   "outputs": [
    {
     "data": {
      "text/plain": [
       "352926"
      ]
     },
     "execution_count": 8,
     "metadata": {},
     "output_type": "execute_result"
    }
   ],
   "source": [
    "(~m_unprocessed).sum()"
   ]
  },
  {
   "cell_type": "code",
   "execution_count": 9,
   "metadata": {},
   "outputs": [],
   "source": [
    "allDF['Bases']=pd.to_numeric(allDF['Bases'],errors='coerce')"
   ]
  },
  {
   "cell_type": "code",
   "execution_count": 10,
   "metadata": {},
   "outputs": [
    {
     "name": "stdout",
     "output_type": "stream",
     "text": [
      "('# of valid samples data:', 869068)\n",
      "qsub -t 1-552156 snp_all_seq.sh\n"
     ]
    }
   ],
   "source": [
    "#m6=(pd.to_numeric(allDF.Bases,errors='coerce')>(5*((10**6)*30)))\n",
    "m6=(pd.to_numeric(allDF.Bases,errors='coerce')>(4*((10**6)*30)))\n",
    "\n",
    "m7=allDF.LibraryLayout.isin(param.supporting_layouts)\n",
    "m8=~allDF[\"Study\"].isin(['ERP013950'])\n",
    "m_valid_samples=m2&(m3)&m4&m5&m6&m7&m8\n",
    "print ('# of valid samples data:',m_valid_samples.sum())\n",
    "targetMetaDF=allDF[ m_unprocessed&m_valid_samples].sort_values('Bases')\n",
    "targetMetaDF.to_csv(param.unprocessed_meta_dir)\n",
    "\n",
    "command=\"qsub -t 1-\"+str(targetMetaDF.shape[0])+\" snp_all_seq.sh\"\n",
    "print (command)"
   ]
  },
  {
   "cell_type": "code",
   "execution_count": 11,
   "metadata": {},
   "outputs": [
    {
     "name": "stdout",
     "output_type": "stream",
     "text": [
      "Your job-array 446476.1-552156:1 (\"snp_all_seq.sh\") has been submitted\r\n"
     ]
    }
   ],
   "source": [
    "!$command"
   ]
  },
  {
   "cell_type": "code",
   "execution_count": 12,
   "metadata": {},
   "outputs": [
    {
     "ename": "NameError",
     "evalue": "name 'asdadsas' is not defined",
     "output_type": "error",
     "traceback": [
      "\u001b[0;31m---------------------------------------------------------------------------\u001b[0m",
      "\u001b[0;31mNameError\u001b[0m                                 Traceback (most recent call last)",
      "\u001b[0;32m<ipython-input-12-d8adb2cbd57d>\u001b[0m in \u001b[0;36m<module>\u001b[0;34m()\u001b[0m\n\u001b[0;32m----> 1\u001b[0;31m \u001b[0masdadsas\u001b[0m\u001b[0;34m\u001b[0m\u001b[0m\n\u001b[0m",
      "\u001b[0;31mNameError\u001b[0m: name 'asdadsas' is not defined"
     ]
    }
   ],
   "source": [
    "asdadsas"
   ]
  },
  {
   "cell_type": "code",
   "execution_count": null,
   "metadata": {},
   "outputs": [],
   "source": [
    "#!qstat -u btsui"
   ]
  },
  {
   "cell_type": "code",
   "execution_count": null,
   "metadata": {},
   "outputs": [],
   "source": [
    "!cat ./snp_all_seq.sh"
   ]
  },
  {
   "cell_type": "code",
   "execution_count": null,
   "metadata": {},
   "outputs": [],
   "source": [
    "#!qstat -u btsui"
   ]
  },
  {
   "cell_type": "markdown",
   "metadata": {},
   "source": [
    "### check status"
   ]
  },
  {
   "cell_type": "code",
   "execution_count": null,
   "metadata": {},
   "outputs": [],
   "source": [
    "!ls -lath /nrnb/users/btsui/Data/all_seq/snp/ | head"
   ]
  },
  {
   "cell_type": "markdown",
   "metadata": {},
   "source": [
    "### Run one"
   ]
  },
  {
   "cell_type": "code",
   "execution_count": null,
   "metadata": {},
   "outputs": [],
   "source": [
    "#!which python\n",
    "#SRR6618350"
   ]
  },
  {
   "cell_type": "code",
   "execution_count": null,
   "metadata": {},
   "outputs": [],
   "source": [
    "!cat run_one.py"
   ]
  },
  {
   "cell_type": "code",
   "execution_count": null,
   "metadata": {},
   "outputs": [],
   "source": [
    "pwd"
   ]
  },
  {
   "cell_type": "code",
   "execution_count": null,
   "metadata": {},
   "outputs": [],
   "source": [
    "#%%bash\n",
    "#export PATH=/cellar/users/btsui/anaconda2/bin/:$PATH\n",
    "#/cellar/users/btsui/anaconda2/bin/python run_one.py 10000"
   ]
  },
  {
   "cell_type": "code",
   "execution_count": null,
   "metadata": {},
   "outputs": [],
   "source": []
  },
  {
   "cell_type": "code",
   "execution_count": null,
   "metadata": {},
   "outputs": [],
   "source": [
    "#pd.read_csv('/nrnb/users/btsui/Data/all_seq/snp/SRR6618350_per_fa_record_stat.txt.gz',sep='\\t',header=None).sort_values([3])"
   ]
  },
  {
   "cell_type": "code",
   "execution_count": null,
   "metadata": {},
   "outputs": [],
   "source": [
    "#!gunzip -c /nrnb/users/btsui/Data/all_seq/snp/SRR7651472.txt.snp.gz | head"
   ]
  },
  {
   "cell_type": "code",
   "execution_count": null,
   "metadata": {},
   "outputs": [],
   "source": [
    "!cat snp_all_seq.sh"
   ]
  },
  {
   "cell_type": "code",
   "execution_count": null,
   "metadata": {},
   "outputs": [],
   "source": [
    "#!rm ./old_calculate_unprocessed.py"
   ]
  },
  {
   "cell_type": "code",
   "execution_count": null,
   "metadata": {},
   "outputs": [],
   "source": [
    "!tail -n 20 /cellar/users/btsui/Data/ensembl/snp_masked/Mus_musculus.microbe.fa.fai"
   ]
  },
  {
   "cell_type": "code",
   "execution_count": null,
   "metadata": {},
   "outputs": [],
   "source": []
  }
 ],
 "metadata": {
  "kernelspec": {
   "display_name": "Python [conda env:environment_conda_py26_btsui]",
   "language": "python",
   "name": "conda-env-environment_conda_py26_btsui-py"
  },
  "language_info": {
   "codemirror_mode": {
    "name": "ipython",
    "version": 2
   },
   "file_extension": ".py",
   "mimetype": "text/x-python",
   "name": "python",
   "nbconvert_exporter": "python",
   "pygments_lexer": "ipython2",
   "version": "2.7.14"
  }
 },
 "nbformat": 4,
 "nbformat_minor": 2
}
