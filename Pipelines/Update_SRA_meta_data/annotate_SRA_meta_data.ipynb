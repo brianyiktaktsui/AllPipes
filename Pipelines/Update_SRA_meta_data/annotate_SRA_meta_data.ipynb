{
 "cells": [
  {
   "cell_type": "code",
   "execution_count": 2,
   "metadata": {},
   "outputs": [],
   "source": [
    "import pandas as pd\n",
    "import numpy as np"
   ]
  },
  {
   "cell_type": "markdown",
   "metadata": {},
   "source": [
    "directory of meta data ftp://ftp.ncbi.nlm.nih.gov/sra/reports/Metadata"
   ]
  },
  {
   "cell_type": "markdown",
   "metadata": {},
   "source": [
    "### input directory"
   ]
  },
  {
   "cell_type": "code",
   "execution_count": 3,
   "metadata": {},
   "outputs": [],
   "source": [
    "\n",
    "basePickleDir='/data/cellardata/users/btsui/SRA/DUMP/'\n",
    "accessionProjDir='/data/cellardata/users/btsui/SRA/DUMP/SRA_Accessions.tab'\n",
    "accessionDir='/data/cellardata/users/btsui/SRA/DUMP/SRA_Run_Members.tab'"
   ]
  },
  {
   "cell_type": "code",
   "execution_count": 4,
   "metadata": {},
   "outputs": [],
   "source": [
    "srsMergedS=pd.read_pickle(basePickleDir+'allSRS.pickle.gz')\n",
    "srxMergedS=pd.read_pickle(basePickleDir+'allSRX.pickle.gz')"
   ]
  },
  {
   "cell_type": "markdown",
   "metadata": {},
   "source": [
    "### output directory"
   ]
  },
  {
   "cell_type": "code",
   "execution_count": 5,
   "metadata": {},
   "outputs": [],
   "source": [
    "sra_dump_csv_dir='/cellar/users/btsui/Data/SRA/DUMP/sra_dump.csv.gz'\n",
    "sra_dump_pickle_dir='/cellar/users/btsui/Data/SRA/DUMP/sra_dump.pickle'\n"
   ]
  },
  {
   "cell_type": "code",
   "execution_count": 6,
   "metadata": {},
   "outputs": [
    {
     "name": "stderr",
     "output_type": "stream",
     "text": [
      "/cellar/users/btsui/anaconda3/envs/deep_nlp_cpu/lib/python3.6/site-packages/ipykernel_launcher.py:1: FutureWarning: from_csv is deprecated. Please use read_csv(...) instead. Note that some of the default arguments are different, so please refer to the documentation for from_csv when changing your function calls\n",
      "  \"\"\"Entry point for launching an IPython kernel.\n",
      "/cellar/users/btsui/anaconda3/envs/deep_nlp_cpu/lib/python3.6/site-packages/IPython/core/interactiveshell.py:2901: DtypeWarning: Columns (13,14,15) have mixed types. Specify dtype option on import or set low_memory=False.\n",
      "  if self.run_code(code, result):\n"
     ]
    }
   ],
   "source": [
    "projAccessDf=pd.DataFrame.from_csv(accessionProjDir,sep='\\t')"
   ]
  },
  {
   "cell_type": "code",
   "execution_count": 7,
   "metadata": {},
   "outputs": [
    {
     "name": "stderr",
     "output_type": "stream",
     "text": [
      "/cellar/users/btsui/anaconda3/envs/deep_nlp_cpu/lib/python3.6/site-packages/ipykernel_launcher.py:1: FutureWarning: from_csv is deprecated. Please use read_csv(...) instead. Note that some of the default arguments are different, so please refer to the documentation for from_csv when changing your function calls\n",
      "  \"\"\"Entry point for launching an IPython kernel.\n",
      "/cellar/users/btsui/anaconda3/envs/deep_nlp_cpu/lib/python3.6/site-packages/IPython/core/interactiveshell.py:2901: DtypeWarning: Columns (5,6) have mixed types. Specify dtype option on import or set low_memory=False.\n",
      "  if self.run_code(code, result):\n"
     ]
    }
   ],
   "source": [
    "accessionDf=pd.DataFrame.from_csv(accessionDir,sep='\\t')"
   ]
  },
  {
   "cell_type": "markdown",
   "metadata": {},
   "source": [
    "### filter onto only human mouse, and zebra fish data"
   ]
  },
  {
   "cell_type": "code",
   "execution_count": 8,
   "metadata": {},
   "outputs": [],
   "source": [
    "validScientificNameSrs=srsMergedS[srsMergedS.index.get_level_values(1)=='SCIENTIFIC_NAME']#[scientific_nameS.isin({'Homo sapiens','Mus musculus'})]\n",
    "#rename the genomes to match the data"
   ]
  },
  {
   "cell_type": "code",
   "execution_count": 9,
   "metadata": {},
   "outputs": [],
   "source": [
    "#validSrs=validScientificNameSrs.index.get_level_values(0)"
   ]
  },
  {
   "cell_type": "code",
   "execution_count": 10,
   "metadata": {},
   "outputs": [],
   "source": [
    "srsToSpecies=pd.Series( index=validScientificNameSrs.index.get_level_values(0),data=validScientificNameSrs.values)\n",
    "\n",
    "uniqueSrsToSpeciesS=srsToSpecies.groupby(srsToSpecies.index).first()"
   ]
  },
  {
   "cell_type": "markdown",
   "metadata": {},
   "source": [
    "### filter onto to RNA-seq"
   ]
  },
  {
   "cell_type": "code",
   "execution_count": 11,
   "metadata": {},
   "outputs": [
    {
     "data": {
      "text/plain": [
       "ERX1269638  TITLE                Illumina HiSeq 1500 paired end sequencing\n",
       "            LIBRARY_STRATEGY                                           EST\n",
       "            LIBRARY_SOURCE                                         GENOMIC\n",
       "            LIBRARY_SELECTION                                       RANDOM\n",
       "            LIBRARY_LAYOUT                                          PAIRED\n",
       "ERX1269639  TITLE                Illumina HiSeq 1500 paired end sequencing\n",
       "dtype: object"
      ]
     },
     "execution_count": 11,
     "metadata": {},
     "output_type": "execute_result"
    }
   ],
   "source": [
    "srxMergedS.head(n=6)"
   ]
  },
  {
   "cell_type": "code",
   "execution_count": 12,
   "metadata": {},
   "outputs": [],
   "source": [
    "layoutS=srxMergedS[srxMergedS.index.get_level_values(1)=='LIBRARY_LAYOUT'].groupby(level=0).first()\n",
    "\n",
    "libraryS=srxMergedS[srxMergedS.index.get_level_values(1)=='LIBRARY_STRATEGY'].groupby(level=0).first()"
   ]
  },
  {
   "cell_type": "code",
   "execution_count": 13,
   "metadata": {},
   "outputs": [],
   "source": [
    "srxToSeqS =libraryS.groupby(level=0).first()"
   ]
  },
  {
   "cell_type": "code",
   "execution_count": 14,
   "metadata": {},
   "outputs": [],
   "source": [
    "validSrx=srxToSeqS.index.get_level_values(0)"
   ]
  },
  {
   "cell_type": "markdown",
   "metadata": {},
   "source": [
    "## take only runs that satisfy both srx and srs filter"
   ]
  },
  {
   "cell_type": "code",
   "execution_count": 15,
   "metadata": {},
   "outputs": [],
   "source": [
    "subAccessionDf=accessionDf[accessionDf.Sample.isin(uniqueSrsToSpeciesS.index)&accessionDf.Experiment.isin(srxToSeqS.index)]"
   ]
  },
  {
   "cell_type": "code",
   "execution_count": 16,
   "metadata": {},
   "outputs": [
    {
     "name": "stderr",
     "output_type": "stream",
     "text": [
      "/cellar/users/btsui/anaconda3/envs/deep_nlp_cpu/lib/python3.6/site-packages/pandas/core/indexing.py:362: SettingWithCopyWarning: \n",
      "A value is trying to be set on a copy of a slice from a DataFrame.\n",
      "Try using .loc[row_indexer,col_indexer] = value instead\n",
      "\n",
      "See the caveats in the documentation: http://pandas.pydata.org/pandas-docs/stable/indexing.html#indexing-view-versus-copy\n",
      "  self.obj[key] = _infer_fill_value(value)\n",
      "/cellar/users/btsui/anaconda3/envs/deep_nlp_cpu/lib/python3.6/site-packages/pandas/core/indexing.py:543: SettingWithCopyWarning: \n",
      "A value is trying to be set on a copy of a slice from a DataFrame.\n",
      "Try using .loc[row_indexer,col_indexer] = value instead\n",
      "\n",
      "See the caveats in the documentation: http://pandas.pydata.org/pandas-docs/stable/indexing.html#indexing-view-versus-copy\n",
      "  self.obj[item] = s\n"
     ]
    }
   ],
   "source": [
    "subAccessionDf.loc[:,'ScientificName']=uniqueSrsToSpeciesS.loc[subAccessionDf.Sample.values].values[:]"
   ]
  },
  {
   "cell_type": "code",
   "execution_count": 17,
   "metadata": {},
   "outputs": [
    {
     "name": "stderr",
     "output_type": "stream",
     "text": [
      "/cellar/users/btsui/anaconda3/envs/deep_nlp_cpu/lib/python3.6/site-packages/ipykernel_launcher.py:1: SettingWithCopyWarning: \n",
      "A value is trying to be set on a copy of a slice from a DataFrame.\n",
      "Try using .loc[row_indexer,col_indexer] = value instead\n",
      "\n",
      "See the caveats in the documentation: http://pandas.pydata.org/pandas-docs/stable/indexing.html#indexing-view-versus-copy\n",
      "  \"\"\"Entry point for launching an IPython kernel.\n"
     ]
    }
   ],
   "source": [
    "subAccessionDf['Run']=subAccessionDf.index"
   ]
  },
  {
   "cell_type": "code",
   "execution_count": 18,
   "metadata": {},
   "outputs": [],
   "source": [
    "publicRunDf=subAccessionDf"
   ]
  },
  {
   "cell_type": "code",
   "execution_count": 19,
   "metadata": {},
   "outputs": [
    {
     "name": "stderr",
     "output_type": "stream",
     "text": [
      "/cellar/users/btsui/anaconda3/envs/deep_nlp_cpu/lib/python3.6/site-packages/pandas/core/indexing.py:362: SettingWithCopyWarning: \n",
      "A value is trying to be set on a copy of a slice from a DataFrame.\n",
      "Try using .loc[row_indexer,col_indexer] = value instead\n",
      "\n",
      "See the caveats in the documentation: http://pandas.pydata.org/pandas-docs/stable/indexing.html#indexing-view-versus-copy\n",
      "  self.obj[key] = _infer_fill_value(value)\n",
      "/cellar/users/btsui/anaconda3/envs/deep_nlp_cpu/lib/python3.6/site-packages/pandas/core/indexing.py:543: SettingWithCopyWarning: \n",
      "A value is trying to be set on a copy of a slice from a DataFrame.\n",
      "Try using .loc[row_indexer,col_indexer] = value instead\n",
      "\n",
      "See the caveats in the documentation: http://pandas.pydata.org/pandas-docs/stable/indexing.html#indexing-view-versus-copy\n",
      "  self.obj[item] = s\n"
     ]
    }
   ],
   "source": [
    "algnedSrx=srxToSeqS.loc[publicRunDf.Experiment].values\n",
    "srrToSeqS=pd.Series(data=algnedSrx,index=publicRunDf.index)\n",
    "publicRunDf.loc[:,'LibraryStrategy']=srrToSeqS[:]"
   ]
  },
  {
   "cell_type": "code",
   "execution_count": 20,
   "metadata": {},
   "outputs": [
    {
     "name": "stderr",
     "output_type": "stream",
     "text": [
      "/cellar/users/btsui/anaconda3/envs/deep_nlp_cpu/lib/python3.6/site-packages/ipykernel_launcher.py:1: SettingWithCopyWarning: \n",
      "A value is trying to be set on a copy of a slice from a DataFrame.\n",
      "Try using .loc[row_indexer,col_indexer] = value instead\n",
      "\n",
      "See the caveats in the documentation: http://pandas.pydata.org/pandas-docs/stable/indexing.html#indexing-view-versus-copy\n",
      "  \"\"\"Entry point for launching an IPython kernel.\n"
     ]
    }
   ],
   "source": [
    "publicRunDf['LibraryLayout']=layoutS.loc[publicRunDf['Experiment'].values].values"
   ]
  },
  {
   "cell_type": "code",
   "execution_count": 21,
   "metadata": {},
   "outputs": [
    {
     "name": "stderr",
     "output_type": "stream",
     "text": [
      "/cellar/users/btsui/anaconda3/envs/deep_nlp_cpu/lib/python3.6/site-packages/ipykernel_launcher.py:1: FutureWarning: \n",
      "Passing list-likes to .loc or [] with any missing label will raise\n",
      "KeyError in the future, you can use .reindex() as an alternative.\n",
      "\n",
      "See the documentation here:\n",
      "https://pandas.pydata.org/pandas-docs/stable/indexing.html#deprecate-loc-reindex-listlike\n",
      "  \"\"\"Entry point for launching an IPython kernel.\n"
     ]
    }
   ],
   "source": [
    "projectSubDf=projAccessDf.loc[publicRunDf.index]\n",
    "projectSubDf.columns='proj_accession_'+projectSubDf.columns"
   ]
  },
  {
   "cell_type": "code",
   "execution_count": 22,
   "metadata": {},
   "outputs": [],
   "source": [
    "yearAnnotatedPublicDf=pd.concat( [publicRunDf,projectSubDf],axis=1)#.iloc[8]"
   ]
  },
  {
   "cell_type": "code",
   "execution_count": 23,
   "metadata": {},
   "outputs": [],
   "source": [
    "yearAnnotatedPublicDf['ScientificName']=yearAnnotatedPublicDf['ScientificName'].str.replace(' ','_')"
   ]
  },
  {
   "cell_type": "code",
   "execution_count": 37,
   "metadata": {},
   "outputs": [],
   "source": [
    "import string\n",
    "printable = set(string.printable)\n",
    "\n",
    "removeNonAscii=lambda s: \"\".join(filter(lambda x: x in printable, s))\n",
    "#removeNonAsciiCol=lambda col:col.apply(removeNonAscii)"
   ]
  },
  {
   "cell_type": "code",
   "execution_count": 55,
   "metadata": {},
   "outputs": [],
   "source": [
    "subExportDf=yearAnnotatedPublicDf.loc[:,yearAnnotatedPublicDf.columns!='Run']\n"
   ]
  },
  {
   "cell_type": "code",
   "execution_count": 56,
   "metadata": {},
   "outputs": [],
   "source": [
    "#subExportDf['ScientificName']"
   ]
  },
  {
   "cell_type": "code",
   "execution_count": 57,
   "metadata": {},
   "outputs": [],
   "source": [
    "#### convert the micrbiome to something else"
   ]
  },
  {
   "cell_type": "code",
   "execution_count": 58,
   "metadata": {},
   "outputs": [],
   "source": [
    "subExportDf['new_ScientificName']=subExportDf['ScientificName']"
   ]
  },
  {
   "cell_type": "code",
   "execution_count": 59,
   "metadata": {},
   "outputs": [],
   "source": [
    "m_4=subExportDf['new_ScientificName'].str.contains('human')\n",
    "#Homo_sapiens\n",
    "subExportDf.loc[m_4, 'new_ScientificName']='Homo_sapiens'\n",
    "#m_4=subExportDf['ScientificName'].str.contains('metagenome')\n",
    "m_5=subExportDf['new_ScientificName'].str.contains('mouse')\n",
    "#Homo_sapiens\n",
    "subExportDf.loc[m_5, 'new_ScientificName']='Mus_musculus'\n",
    "###for soil, to eliminate human contamination, align to human reference\n",
    "m_6=subExportDf['new_ScientificName'].str.contains('^soil_metagenome#')\n",
    "subExportDf.loc[m_6, 'new_ScientificName']='Homo_sapiens'\n",
    "\n",
    "\n"
   ]
  },
  {
   "cell_type": "code",
   "execution_count": 60,
   "metadata": {},
   "outputs": [],
   "source": [
    "m_7=subExportDf['new_ScientificName'].str.contains('^Canis')\n",
    "subExportDf.loc[m_7, 'new_ScientificName']='Canis_familiaris'"
   ]
  },
  {
   "cell_type": "code",
   "execution_count": 61,
   "metadata": {},
   "outputs": [],
   "source": [
    "for myCol in [u'ScientificName', u'LibraryStrategy',\n",
    "       u'LibraryLayout','new_ScientificName']:\n",
    "    subExportDf[myCol]=subExportDf[myCol].apply(removeNonAscii)"
   ]
  },
  {
   "cell_type": "code",
   "execution_count": 62,
   "metadata": {},
   "outputs": [
    {
     "data": {
      "text/html": [
       "<div>\n",
       "<style scoped>\n",
       "    .dataframe tbody tr th:only-of-type {\n",
       "        vertical-align: middle;\n",
       "    }\n",
       "\n",
       "    .dataframe tbody tr th {\n",
       "        vertical-align: top;\n",
       "    }\n",
       "\n",
       "    .dataframe thead th {\n",
       "        text-align: right;\n",
       "    }\n",
       "</style>\n",
       "<table border=\"1\" class=\"dataframe\">\n",
       "  <thead>\n",
       "    <tr style=\"text-align: right;\">\n",
       "      <th></th>\n",
       "      <th>Member_Name</th>\n",
       "      <th>Experiment</th>\n",
       "      <th>Sample</th>\n",
       "      <th>Study</th>\n",
       "      <th>Spots</th>\n",
       "      <th>Bases</th>\n",
       "      <th>Status</th>\n",
       "      <th>BioSample</th>\n",
       "      <th>ScientificName</th>\n",
       "      <th>LibraryStrategy</th>\n",
       "      <th>...</th>\n",
       "      <th>proj_accession_Sample</th>\n",
       "      <th>proj_accession_Study</th>\n",
       "      <th>proj_accession_Loaded</th>\n",
       "      <th>proj_accession_Spots</th>\n",
       "      <th>proj_accession_Bases</th>\n",
       "      <th>proj_accession_Md5sum</th>\n",
       "      <th>proj_accession_BioSample</th>\n",
       "      <th>proj_accession_BioProject</th>\n",
       "      <th>proj_accession_ReplacedBy</th>\n",
       "      <th>new_ScientificName</th>\n",
       "    </tr>\n",
       "    <tr>\n",
       "      <th>Run</th>\n",
       "      <th></th>\n",
       "      <th></th>\n",
       "      <th></th>\n",
       "      <th></th>\n",
       "      <th></th>\n",
       "      <th></th>\n",
       "      <th></th>\n",
       "      <th></th>\n",
       "      <th></th>\n",
       "      <th></th>\n",
       "      <th></th>\n",
       "      <th></th>\n",
       "      <th></th>\n",
       "      <th></th>\n",
       "      <th></th>\n",
       "      <th></th>\n",
       "      <th></th>\n",
       "      <th></th>\n",
       "      <th></th>\n",
       "      <th></th>\n",
       "      <th></th>\n",
       "    </tr>\n",
       "  </thead>\n",
       "  <tbody>\n",
       "    <tr>\n",
       "      <th>ERR1823524</th>\n",
       "      <td>default</td>\n",
       "      <td>ERX1886028</td>\n",
       "      <td>ERS1545929</td>\n",
       "      <td>-</td>\n",
       "      <td>1167564</td>\n",
       "      <td>426746666</td>\n",
       "      <td>live</td>\n",
       "      <td>SAMEA80860918</td>\n",
       "      <td>Staphylococcus_aureus</td>\n",
       "      <td>WGS</td>\n",
       "      <td>...</td>\n",
       "      <td>ERS1545929</td>\n",
       "      <td>-</td>\n",
       "      <td>1</td>\n",
       "      <td>1167564</td>\n",
       "      <td>426746666</td>\n",
       "      <td>30e8c78e7dc61ce33100b0f62b80024a</td>\n",
       "      <td>SAMEA80860918</td>\n",
       "      <td>-</td>\n",
       "      <td>-</td>\n",
       "      <td>Staphylococcus_aureus</td>\n",
       "    </tr>\n",
       "    <tr>\n",
       "      <th>ERR1823525</th>\n",
       "      <td>default</td>\n",
       "      <td>ERX1886029</td>\n",
       "      <td>ERS1545930</td>\n",
       "      <td>-</td>\n",
       "      <td>498259</td>\n",
       "      <td>207579474</td>\n",
       "      <td>live</td>\n",
       "      <td>SAMEA80861668</td>\n",
       "      <td>Staphylococcus_aureus</td>\n",
       "      <td>WGS</td>\n",
       "      <td>...</td>\n",
       "      <td>ERS1545930</td>\n",
       "      <td>-</td>\n",
       "      <td>1</td>\n",
       "      <td>498259</td>\n",
       "      <td>207579474</td>\n",
       "      <td>a6ca66769b455d8803633120065ad2db</td>\n",
       "      <td>SAMEA80861668</td>\n",
       "      <td>-</td>\n",
       "      <td>-</td>\n",
       "      <td>Staphylococcus_aureus</td>\n",
       "    </tr>\n",
       "    <tr>\n",
       "      <th>ERR1823526</th>\n",
       "      <td>default</td>\n",
       "      <td>ERX1886030</td>\n",
       "      <td>ERS1545931</td>\n",
       "      <td>-</td>\n",
       "      <td>584246</td>\n",
       "      <td>225394117</td>\n",
       "      <td>live</td>\n",
       "      <td>SAMEA80862418</td>\n",
       "      <td>Staphylococcus_aureus</td>\n",
       "      <td>WGS</td>\n",
       "      <td>...</td>\n",
       "      <td>ERS1545931</td>\n",
       "      <td>-</td>\n",
       "      <td>1</td>\n",
       "      <td>584246</td>\n",
       "      <td>225394117</td>\n",
       "      <td>e7e469e8d3f5ed098bdc569ca648e61e</td>\n",
       "      <td>SAMEA80862418</td>\n",
       "      <td>-</td>\n",
       "      <td>-</td>\n",
       "      <td>Staphylococcus_aureus</td>\n",
       "    </tr>\n",
       "    <tr>\n",
       "      <th>ERR1823527</th>\n",
       "      <td>default</td>\n",
       "      <td>ERX1886031</td>\n",
       "      <td>ERS1545932</td>\n",
       "      <td>-</td>\n",
       "      <td>708096</td>\n",
       "      <td>316102995</td>\n",
       "      <td>live</td>\n",
       "      <td>SAMEA80863168</td>\n",
       "      <td>Staphylococcus_aureus</td>\n",
       "      <td>WGS</td>\n",
       "      <td>...</td>\n",
       "      <td>ERS1545932</td>\n",
       "      <td>-</td>\n",
       "      <td>1</td>\n",
       "      <td>708096</td>\n",
       "      <td>316102995</td>\n",
       "      <td>01bad3c0fa4bdc24ab1017443ce1fce1</td>\n",
       "      <td>SAMEA80863168</td>\n",
       "      <td>-</td>\n",
       "      <td>-</td>\n",
       "      <td>Staphylococcus_aureus</td>\n",
       "    </tr>\n",
       "    <tr>\n",
       "      <th>ERR1823528</th>\n",
       "      <td>default</td>\n",
       "      <td>ERX1886032</td>\n",
       "      <td>ERS1545933</td>\n",
       "      <td>-</td>\n",
       "      <td>1031600</td>\n",
       "      <td>442097283</td>\n",
       "      <td>live</td>\n",
       "      <td>SAMEA80863918</td>\n",
       "      <td>Staphylococcus_aureus</td>\n",
       "      <td>WGS</td>\n",
       "      <td>...</td>\n",
       "      <td>ERS1545933</td>\n",
       "      <td>-</td>\n",
       "      <td>1</td>\n",
       "      <td>1031600</td>\n",
       "      <td>442097283</td>\n",
       "      <td>428ab0594732b2a707ff46700a890dd5</td>\n",
       "      <td>SAMEA80863918</td>\n",
       "      <td>-</td>\n",
       "      <td>-</td>\n",
       "      <td>Staphylococcus_aureus</td>\n",
       "    </tr>\n",
       "  </tbody>\n",
       "</table>\n",
       "<p>5 rows × 31 columns</p>\n",
       "</div>"
      ],
      "text/plain": [
       "           Member_Name  Experiment      Sample Study    Spots      Bases  \\\n",
       "Run                                                                        \n",
       "ERR1823524     default  ERX1886028  ERS1545929     -  1167564  426746666   \n",
       "ERR1823525     default  ERX1886029  ERS1545930     -   498259  207579474   \n",
       "ERR1823526     default  ERX1886030  ERS1545931     -   584246  225394117   \n",
       "ERR1823527     default  ERX1886031  ERS1545932     -   708096  316102995   \n",
       "ERR1823528     default  ERX1886032  ERS1545933     -  1031600  442097283   \n",
       "\n",
       "           Status      BioSample         ScientificName LibraryStrategy  \\\n",
       "Run                                                                       \n",
       "ERR1823524   live  SAMEA80860918  Staphylococcus_aureus             WGS   \n",
       "ERR1823525   live  SAMEA80861668  Staphylococcus_aureus             WGS   \n",
       "ERR1823526   live  SAMEA80862418  Staphylococcus_aureus             WGS   \n",
       "ERR1823527   live  SAMEA80863168  Staphylococcus_aureus             WGS   \n",
       "ERR1823528   live  SAMEA80863918  Staphylococcus_aureus             WGS   \n",
       "\n",
       "                    ...           proj_accession_Sample proj_accession_Study  \\\n",
       "Run                 ...                                                        \n",
       "ERR1823524          ...                      ERS1545929                    -   \n",
       "ERR1823525          ...                      ERS1545930                    -   \n",
       "ERR1823526          ...                      ERS1545931                    -   \n",
       "ERR1823527          ...                      ERS1545932                    -   \n",
       "ERR1823528          ...                      ERS1545933                    -   \n",
       "\n",
       "           proj_accession_Loaded proj_accession_Spots proj_accession_Bases  \\\n",
       "Run                                                                          \n",
       "ERR1823524                     1              1167564            426746666   \n",
       "ERR1823525                     1               498259            207579474   \n",
       "ERR1823526                     1               584246            225394117   \n",
       "ERR1823527                     1               708096            316102995   \n",
       "ERR1823528                     1              1031600            442097283   \n",
       "\n",
       "                       proj_accession_Md5sum proj_accession_BioSample  \\\n",
       "Run                                                                     \n",
       "ERR1823524  30e8c78e7dc61ce33100b0f62b80024a            SAMEA80860918   \n",
       "ERR1823525  a6ca66769b455d8803633120065ad2db            SAMEA80861668   \n",
       "ERR1823526  e7e469e8d3f5ed098bdc569ca648e61e            SAMEA80862418   \n",
       "ERR1823527  01bad3c0fa4bdc24ab1017443ce1fce1            SAMEA80863168   \n",
       "ERR1823528  428ab0594732b2a707ff46700a890dd5            SAMEA80863918   \n",
       "\n",
       "           proj_accession_BioProject proj_accession_ReplacedBy  \\\n",
       "Run                                                              \n",
       "ERR1823524                         -                         -   \n",
       "ERR1823525                         -                         -   \n",
       "ERR1823526                         -                         -   \n",
       "ERR1823527                         -                         -   \n",
       "ERR1823528                         -                         -   \n",
       "\n",
       "               new_ScientificName  \n",
       "Run                                \n",
       "ERR1823524  Staphylococcus_aureus  \n",
       "ERR1823525  Staphylococcus_aureus  \n",
       "ERR1823526  Staphylococcus_aureus  \n",
       "ERR1823527  Staphylococcus_aureus  \n",
       "ERR1823528  Staphylococcus_aureus  \n",
       "\n",
       "[5 rows x 31 columns]"
      ]
     },
     "execution_count": 62,
     "metadata": {},
     "output_type": "execute_result"
    }
   ],
   "source": [
    "subExportDf.head()"
   ]
  },
  {
   "cell_type": "code",
   "execution_count": null,
   "metadata": {},
   "outputs": [],
   "source": [
    "subExportDf.to_csv(sra_dump_csv_dir,compression='gzip')"
   ]
  },
  {
   "cell_type": "markdown",
   "metadata": {},
   "source": [
    "### create smaller version for pickle"
   ]
  },
  {
   "cell_type": "code",
   "execution_count": null,
   "metadata": {
    "collapsed": true
   },
   "outputs": [],
   "source": [
    "pickleExportInDf=subExportDf.copy()"
   ]
  },
  {
   "cell_type": "code",
   "execution_count": null,
   "metadata": {
    "collapsed": true,
    "scrolled": true
   },
   "outputs": [],
   "source": [
    "timeCols=['proj_accession_Updated'\n",
    "          ,'proj_accession_Published'\n",
    "          ,'proj_accession_Received']\n",
    "for timeCol in timeCols:\n",
    "    tmp_dateS=pickleExportInDf[timeCol].str.split('T').str[0]\n",
    "    pickleExportInDf[timeCol]=pd.to_datetime( tmp_dateS)"
   ]
  },
  {
   "cell_type": "code",
   "execution_count": null,
   "metadata": {
    "collapsed": true
   },
   "outputs": [],
   "source": [
    "ignoreCols=['proj_accession_BioProject','proj_accession_Study','proj_accession_Spots','proj_accession_BioSample'\n",
    "           ,'proj_accession_Sample','proj_accession_Experiment','proj_accession_Alias','proj_accession_Md5sum',\n",
    "            'BioSample','proj_accession_Bases']"
   ]
  },
  {
   "cell_type": "code",
   "execution_count": null,
   "metadata": {
    "collapsed": true
   },
   "outputs": [],
   "source": [
    "subsetPickleDf=pickleExportInDf.loc[:,~pickleExportInDf.columns.isin(ignoreCols)]"
   ]
  },
  {
   "cell_type": "code",
   "execution_count": null,
   "metadata": {
    "collapsed": true,
    "scrolled": true
   },
   "outputs": [],
   "source": [
    "intTypes=['Spots','Bases']\n",
    "for intType in intTypes:\n",
    "    subsetPickleDf[intType]=pd.to_numeric(subsetPickleDf[intType],errors='coerce')"
   ]
  },
  {
   "cell_type": "code",
   "execution_count": null,
   "metadata": {
    "collapsed": true
   },
   "outputs": [],
   "source": [
    "factorTypes=[u'proj_accession_ReplacedBy', u'proj_accession_Type',\n",
    "       u'proj_accession_Status', u'Status', u'proj_accession_Visibility',\n",
    "       u'LibraryLayout', u'proj_accession_Loaded', u'LibraryStrategy',\n",
    "       u'proj_accession_Updated', u'proj_accession_Received',\n",
    "       u'proj_accession_Published', u'Member_Name', u'proj_accession_Center',\n",
    "       u'ScientificName','new_ScientificName' ]#u'Study', u'proj_accession_Submission'"
   ]
  },
  {
   "cell_type": "code",
   "execution_count": null,
   "metadata": {
    "collapsed": true
   },
   "outputs": [],
   "source": [
    "for factorType in factorTypes:\n",
    "    subsetPickleDf[factorType]=subsetPickleDf[factorType].astype('category')"
   ]
  },
  {
   "cell_type": "code",
   "execution_count": null,
   "metadata": {
    "collapsed": true
   },
   "outputs": [],
   "source": [
    "#sra_dump_csv_dir,sra_dump_pickle_dir\n",
    "#subsetPickleDf.to_pickle(sra_dump_pickle_dir)"
   ]
  },
  {
   "cell_type": "markdown",
   "metadata": {},
   "source": [
    "### spit in the extracted ids"
   ]
  },
  {
   "cell_type": "code",
   "execution_count": 53,
   "metadata": {
    "collapsed": true
   },
   "outputs": [],
   "source": [
    "import pandas as pd\n",
    "import numpy as np\n",
    "subsetPickleDf=pd.read_pickle(sra_dump_pickle_dir)"
   ]
  },
  {
   "cell_type": "code",
   "execution_count": 54,
   "metadata": {
    "collapsed": true
   },
   "outputs": [],
   "source": [
    "#subsetPickleDf.dtypes"
   ]
  },
  {
   "cell_type": "code",
   "execution_count": 55,
   "metadata": {},
   "outputs": [
    {
     "name": "stderr",
     "output_type": "stream",
     "text": [
      "/cellar/users/btsui/anaconda2/lib/python2.7/site-packages/ipykernel_launcher.py:2: FutureWarning: currently extract(expand=None) means expand=False (return Index/Series/DataFrame) but in a future version of pandas this will be changed to expand=True (return DataFrame)\n",
      "  \n",
      "/cellar/users/btsui/anaconda2/lib/python2.7/site-packages/ipykernel_launcher.py:3: FutureWarning: currently extract(expand=None) means expand=False (return Index/Series/DataFrame) but in a future version of pandas this will be changed to expand=True (return DataFrame)\n",
      "  This is separate from the ipykernel package so we can avoid doing imports until\n"
     ]
    }
   ],
   "source": [
    "#['Run_db','Run_digits']\n",
    "subsetPickleDf['Run_db']=subsetPickleDf.index.str.extract('([EDS]RR)').values\n",
    "subsetPickleDf['Run_digits']=subsetPickleDf.index.str.extract('[EDS]RR(\\d+)').astype(np.int)"
   ]
  },
  {
   "cell_type": "code",
   "execution_count": 56,
   "metadata": {
    "collapsed": true
   },
   "outputs": [],
   "source": [
    "#subsetPickleDf.dtypes"
   ]
  },
  {
   "cell_type": "code",
   "execution_count": 57,
   "metadata": {
    "collapsed": true
   },
   "outputs": [],
   "source": [
    "subsetPickleDf.to_pickle(sra_dump_pickle_dir)"
   ]
  },
  {
   "cell_type": "markdown",
   "metadata": {},
   "source": [
    "### scratch"
   ]
  },
  {
   "cell_type": "code",
   "execution_count": null,
   "metadata": {
    "collapsed": true
   },
   "outputs": [],
   "source": [
    "new_size=249733376L\n",
    "old_size=1035668000L\n",
    "new_size/float(old_size)"
   ]
  },
  {
   "cell_type": "code",
   "execution_count": null,
   "metadata": {
    "collapsed": true
   },
   "outputs": [],
   "source": [
    "scentific_VC=subExportDf['ScientificName'].value_counts()"
   ]
  },
  {
   "cell_type": "code",
   "execution_count": 43,
   "metadata": {
    "collapsed": true
   },
   "outputs": [],
   "source": [
    "#subExportDf"
   ]
  },
  {
   "cell_type": "code",
   "execution_count": 70,
   "metadata": {},
   "outputs": [],
   "source": [
    "#scentific_VC.to_frame()"
   ]
  },
  {
   "cell_type": "code",
   "execution_count": 71,
   "metadata": {},
   "outputs": [],
   "source": [
    "#scentific_VC[scentific_VC.index.str.contains('human')].iloc[:20]"
   ]
  },
  {
   "cell_type": "code",
   "execution_count": 72,
   "metadata": {},
   "outputs": [],
   "source": [
    "#scentific_VC[scentific_VC.index.str.contains('mouse')].iloc[:20]"
   ]
  },
  {
   "cell_type": "code",
   "execution_count": null,
   "metadata": {
    "collapsed": true
   },
   "outputs": [],
   "source": []
  }
 ],
 "metadata": {
  "kernelspec": {
   "display_name": "Python 3",
   "language": "python",
   "name": "python3"
  },
  "language_info": {
   "codemirror_mode": {
    "name": "ipython",
    "version": 3
   },
   "file_extension": ".py",
   "mimetype": "text/x-python",
   "name": "python",
   "nbconvert_exporter": "python",
   "pygments_lexer": "ipython3",
   "version": "3.6.6"
  }
 },
 "nbformat": 4,
 "nbformat_minor": 1
}
