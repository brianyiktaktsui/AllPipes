{
 "cells": [
  {
   "cell_type": "code",
   "execution_count": 1,
   "metadata": {
    "collapsed": true
   },
   "outputs": [],
   "source": [
    "import pandas as pd\n",
    "import numpy as np"
   ]
  },
  {
   "cell_type": "markdown",
   "metadata": {},
   "source": [
    "directory of meta data ftp://ftp.ncbi.nlm.nih.gov/sra/reports/Metadata"
   ]
  },
  {
   "cell_type": "markdown",
   "metadata": {},
   "source": [
    "### input directory"
   ]
  },
  {
   "cell_type": "code",
   "execution_count": 2,
   "metadata": {
    "collapsed": true
   },
   "outputs": [],
   "source": [
    "\n",
    "basePickleDir='/data/cellardata/users/btsui/SRA/DUMP/'\n",
    "accessionProjDir='/data/cellardata/users/btsui/SRA/DUMP/SRA_Accessions.tab'\n",
    "accessionDir='/data/cellardata/users/btsui/SRA/DUMP/SRA_Run_Members.tab'"
   ]
  },
  {
   "cell_type": "code",
   "execution_count": 3,
   "metadata": {
    "collapsed": true
   },
   "outputs": [],
   "source": [
    "srsMergedS=pd.read_pickle(basePickleDir+'allSRS.pickle.gz')\n",
    "srxMergedS=pd.read_pickle(basePickleDir+'allSRX.pickle.gz')"
   ]
  },
  {
   "cell_type": "markdown",
   "metadata": {},
   "source": [
    "### output directory"
   ]
  },
  {
   "cell_type": "code",
   "execution_count": 4,
   "metadata": {
    "collapsed": true
   },
   "outputs": [],
   "source": [
    "sra_dump_csv_dir='/cellar/users/btsui/Data/SRA/DUMP/sra_dump.csv.gz'\n",
    "sra_dump_pickle_dir='/cellar/users/btsui/Data/SRA/DUMP/sra_dump.pickle'\n"
   ]
  },
  {
   "cell_type": "code",
   "execution_count": 5,
   "metadata": {},
   "outputs": [
    {
     "name": "stderr",
     "output_type": "stream",
     "text": [
      "/cellar/users/btsui/anaconda2/lib/python2.7/site-packages/IPython/core/interactiveshell.py:2822: DtypeWarning: Columns (13) have mixed types. Specify dtype option on import or set low_memory=False.\n",
      "  if self.run_code(code, result):\n"
     ]
    }
   ],
   "source": [
    "projAccessDf=pd.DataFrame.from_csv(accessionProjDir,sep='\\t')"
   ]
  },
  {
   "cell_type": "code",
   "execution_count": 6,
   "metadata": {},
   "outputs": [
    {
     "name": "stderr",
     "output_type": "stream",
     "text": [
      "/cellar/users/btsui/anaconda2/lib/python2.7/site-packages/IPython/core/interactiveshell.py:2822: DtypeWarning: Columns (5,6) have mixed types. Specify dtype option on import or set low_memory=False.\n",
      "  if self.run_code(code, result):\n"
     ]
    }
   ],
   "source": [
    "accessionDf=pd.DataFrame.from_csv(accessionDir,sep='\\t')"
   ]
  },
  {
   "cell_type": "markdown",
   "metadata": {},
   "source": [
    "### filter onto only human mouse, and zebra fish data"
   ]
  },
  {
   "cell_type": "code",
   "execution_count": 7,
   "metadata": {
    "collapsed": true
   },
   "outputs": [],
   "source": [
    "validScientificNameSrs=srsMergedS[srsMergedS.index.get_level_values(1)=='SCIENTIFIC_NAME']#[scientific_nameS.isin({'Homo sapiens','Mus musculus'})]\n",
    "#rename the genomes to match the data"
   ]
  },
  {
   "cell_type": "code",
   "execution_count": 8,
   "metadata": {
    "collapsed": true
   },
   "outputs": [],
   "source": [
    "#validSrs=validScientificNameSrs.index.get_level_values(0)"
   ]
  },
  {
   "cell_type": "code",
   "execution_count": 9,
   "metadata": {
    "collapsed": true
   },
   "outputs": [],
   "source": [
    "srsToSpecies=pd.Series( index=validScientificNameSrs.index.get_level_values(0),data=validScientificNameSrs.values)\n",
    "\n",
    "uniqueSrsToSpeciesS=srsToSpecies.groupby(srsToSpecies.index).first()"
   ]
  },
  {
   "cell_type": "markdown",
   "metadata": {},
   "source": [
    "### filter onto to RNA-seq"
   ]
  },
  {
   "cell_type": "code",
   "execution_count": 10,
   "metadata": {},
   "outputs": [
    {
     "data": {
      "text/plain": [
       "ERX1269638  TITLE                Illumina HiSeq 1500 paired end sequencing\n",
       "            LIBRARY_STRATEGY                                           EST\n",
       "            LIBRARY_SOURCE                                         GENOMIC\n",
       "            LIBRARY_SELECTION                                       RANDOM\n",
       "            LIBRARY_LAYOUT                                          PAIRED\n",
       "ERX1269639  TITLE                Illumina HiSeq 1500 paired end sequencing\n",
       "dtype: object"
      ]
     },
     "execution_count": 10,
     "metadata": {},
     "output_type": "execute_result"
    }
   ],
   "source": [
    "srxMergedS.head(n=6)"
   ]
  },
  {
   "cell_type": "code",
   "execution_count": 11,
   "metadata": {
    "collapsed": true
   },
   "outputs": [],
   "source": [
    "layoutS=srxMergedS[srxMergedS.index.get_level_values(1)=='LIBRARY_LAYOUT'].groupby(level=0).first()\n",
    "\n",
    "libraryS=srxMergedS[srxMergedS.index.get_level_values(1)=='LIBRARY_STRATEGY'].groupby(level=0).first()"
   ]
  },
  {
   "cell_type": "code",
   "execution_count": 12,
   "metadata": {
    "collapsed": true
   },
   "outputs": [],
   "source": [
    "srxToSeqS =libraryS.groupby(level=0).first()"
   ]
  },
  {
   "cell_type": "code",
   "execution_count": 13,
   "metadata": {
    "collapsed": true
   },
   "outputs": [],
   "source": [
    "validSrx=srxToSeqS.index.get_level_values(0)"
   ]
  },
  {
   "cell_type": "markdown",
   "metadata": {},
   "source": [
    "## take only runs that satisfy both srx and srs filter"
   ]
  },
  {
   "cell_type": "code",
   "execution_count": 14,
   "metadata": {
    "collapsed": true
   },
   "outputs": [],
   "source": [
    "subAccessionDf=accessionDf[accessionDf.Sample.isin(uniqueSrsToSpeciesS.index)&accessionDf.Experiment.isin(srxToSeqS.index)]"
   ]
  },
  {
   "cell_type": "code",
   "execution_count": 15,
   "metadata": {},
   "outputs": [
    {
     "name": "stderr",
     "output_type": "stream",
     "text": [
      "/cellar/users/btsui/anaconda2/lib/python2.7/site-packages/pandas/core/indexing.py:337: SettingWithCopyWarning: \n",
      "A value is trying to be set on a copy of a slice from a DataFrame.\n",
      "Try using .loc[row_indexer,col_indexer] = value instead\n",
      "\n",
      "See the caveats in the documentation: http://pandas.pydata.org/pandas-docs/stable/indexing.html#indexing-view-versus-copy\n",
      "  self.obj[key] = _infer_fill_value(value)\n",
      "/cellar/users/btsui/anaconda2/lib/python2.7/site-packages/pandas/core/indexing.py:517: SettingWithCopyWarning: \n",
      "A value is trying to be set on a copy of a slice from a DataFrame.\n",
      "Try using .loc[row_indexer,col_indexer] = value instead\n",
      "\n",
      "See the caveats in the documentation: http://pandas.pydata.org/pandas-docs/stable/indexing.html#indexing-view-versus-copy\n",
      "  self.obj[item] = s\n"
     ]
    }
   ],
   "source": [
    "subAccessionDf.loc[:,'ScientificName']=uniqueSrsToSpeciesS.loc[subAccessionDf.Sample.values].values[:]"
   ]
  },
  {
   "cell_type": "code",
   "execution_count": 16,
   "metadata": {},
   "outputs": [
    {
     "name": "stderr",
     "output_type": "stream",
     "text": [
      "/cellar/users/btsui/anaconda2/lib/python2.7/site-packages/ipykernel_launcher.py:1: SettingWithCopyWarning: \n",
      "A value is trying to be set on a copy of a slice from a DataFrame.\n",
      "Try using .loc[row_indexer,col_indexer] = value instead\n",
      "\n",
      "See the caveats in the documentation: http://pandas.pydata.org/pandas-docs/stable/indexing.html#indexing-view-versus-copy\n",
      "  \"\"\"Entry point for launching an IPython kernel.\n"
     ]
    }
   ],
   "source": [
    "subAccessionDf['Run']=subAccessionDf.index"
   ]
  },
  {
   "cell_type": "code",
   "execution_count": 17,
   "metadata": {
    "collapsed": true
   },
   "outputs": [],
   "source": [
    "publicRunDf=subAccessionDf"
   ]
  },
  {
   "cell_type": "code",
   "execution_count": 18,
   "metadata": {
    "collapsed": true
   },
   "outputs": [],
   "source": [
    "algnedSrx=srxToSeqS.loc[publicRunDf.Experiment].values\n",
    "srrToSeqS=pd.Series(data=algnedSrx,index=publicRunDf.index)\n",
    "publicRunDf.loc[:,'LibraryStrategy']=srrToSeqS[:]"
   ]
  },
  {
   "cell_type": "code",
   "execution_count": 19,
   "metadata": {},
   "outputs": [
    {
     "name": "stderr",
     "output_type": "stream",
     "text": [
      "/cellar/users/btsui/anaconda2/lib/python2.7/site-packages/ipykernel_launcher.py:1: SettingWithCopyWarning: \n",
      "A value is trying to be set on a copy of a slice from a DataFrame.\n",
      "Try using .loc[row_indexer,col_indexer] = value instead\n",
      "\n",
      "See the caveats in the documentation: http://pandas.pydata.org/pandas-docs/stable/indexing.html#indexing-view-versus-copy\n",
      "  \"\"\"Entry point for launching an IPython kernel.\n"
     ]
    }
   ],
   "source": [
    "publicRunDf['LibraryLayout']=layoutS.loc[publicRunDf['Experiment'].values].values"
   ]
  },
  {
   "cell_type": "code",
   "execution_count": 20,
   "metadata": {
    "collapsed": true
   },
   "outputs": [],
   "source": [
    "projectSubDf=projAccessDf.loc[publicRunDf.index]\n",
    "projectSubDf.columns='proj_accession_'+projectSubDf.columns"
   ]
  },
  {
   "cell_type": "code",
   "execution_count": 21,
   "metadata": {
    "collapsed": true
   },
   "outputs": [],
   "source": [
    "yearAnnotatedPublicDf=pd.concat( [publicRunDf,projectSubDf],axis=1)#.iloc[8]"
   ]
  },
  {
   "cell_type": "code",
   "execution_count": 22,
   "metadata": {
    "collapsed": true
   },
   "outputs": [],
   "source": [
    "yearAnnotatedPublicDf['ScientificName']=yearAnnotatedPublicDf['ScientificName'].str.replace(' ','_')"
   ]
  },
  {
   "cell_type": "code",
   "execution_count": 23,
   "metadata": {
    "collapsed": true
   },
   "outputs": [],
   "source": [
    "import string\n",
    "printable = set(string.printable)\n",
    "\n",
    "removeNonAscii=lambda s: filter(lambda x: x in printable, s)\n",
    "#removeNonAsciiCol=lambda col:col.apply(removeNonAscii)"
   ]
  },
  {
   "cell_type": "code",
   "execution_count": 24,
   "metadata": {
    "collapsed": true
   },
   "outputs": [],
   "source": [
    "subExportDf=yearAnnotatedPublicDf.loc[:,yearAnnotatedPublicDf.columns!='Run']\n"
   ]
  },
  {
   "cell_type": "code",
   "execution_count": 25,
   "metadata": {
    "collapsed": true
   },
   "outputs": [],
   "source": [
    "#### convert the micrbiome to something else"
   ]
  },
  {
   "cell_type": "code",
   "execution_count": 39,
   "metadata": {
    "collapsed": true
   },
   "outputs": [],
   "source": [
    "subExportDf['new_ScientificName']=subExportDf['ScientificName']"
   ]
  },
  {
   "cell_type": "code",
   "execution_count": 59,
   "metadata": {
    "collapsed": true
   },
   "outputs": [],
   "source": [
    "m_4=subExportDf['new_ScientificName'].str.contains('human')\n",
    "#Homo_sapiens\n",
    "subExportDf.loc[m_4, 'new_ScientificName']='Homo_sapiens'\n",
    "#m_4=subExportDf['ScientificName'].str.contains('metagenome')\n",
    "m_5=subExportDf['new_ScientificName'].str.contains('mouse')\n",
    "#Homo_sapiens\n",
    "subExportDf.loc[m_5, 'new_ScientificName']='Mus_musculus'\n",
    "###for soil, to eliminate human contamination, align to human reference\n",
    "m_6=subExportDf['new_ScientificName'].str.contains('^soil_metagenome#')\n",
    "subExportDf.loc[m_6, 'new_ScientificName']='Homo_sapiens'\n"
   ]
  },
  {
   "cell_type": "code",
   "execution_count": null,
   "metadata": {
    "collapsed": true
   },
   "outputs": [],
   "source": [
    "for myCol in [u'ScientificName', u'LibraryStrategy',\n",
    "       u'LibraryLayout','new_ScientificName']:\n",
    "    subExportDf[myCol]=subExportDf[myCol].apply(removeNonAscii)"
   ]
  },
  {
   "cell_type": "code",
   "execution_count": null,
   "metadata": {
    "collapsed": true
   },
   "outputs": [],
   "source": [
    "subExportDf.to_csv(sra_dump_csv_dir,compression='gzip')"
   ]
  },
  {
   "cell_type": "markdown",
   "metadata": {},
   "source": [
    "### create smaller version for pickle"
   ]
  },
  {
   "cell_type": "code",
   "execution_count": null,
   "metadata": {
    "collapsed": true
   },
   "outputs": [],
   "source": [
    "pickleExportInDf=subExportDf.copy()"
   ]
  },
  {
   "cell_type": "code",
   "execution_count": null,
   "metadata": {
    "collapsed": true,
    "scrolled": true
   },
   "outputs": [],
   "source": [
    "timeCols=['proj_accession_Updated'\n",
    "          ,'proj_accession_Published'\n",
    "          ,'proj_accession_Received']\n",
    "for timeCol in timeCols:\n",
    "    tmp_dateS=pickleExportInDf[timeCol].str.split('T').str[0]\n",
    "    pickleExportInDf[timeCol]=pd.to_datetime( tmp_dateS)"
   ]
  },
  {
   "cell_type": "code",
   "execution_count": null,
   "metadata": {
    "collapsed": true
   },
   "outputs": [],
   "source": [
    "ignoreCols=['proj_accession_BioProject','proj_accession_Study','proj_accession_Spots','proj_accession_BioSample'\n",
    "           ,'proj_accession_Sample','proj_accession_Experiment','proj_accession_Alias','proj_accession_Md5sum',\n",
    "            'BioSample','proj_accession_Bases']"
   ]
  },
  {
   "cell_type": "code",
   "execution_count": null,
   "metadata": {
    "collapsed": true
   },
   "outputs": [],
   "source": [
    "subsetPickleDf=pickleExportInDf.loc[:,~pickleExportInDf.columns.isin(ignoreCols)]"
   ]
  },
  {
   "cell_type": "code",
   "execution_count": null,
   "metadata": {
    "collapsed": true,
    "scrolled": true
   },
   "outputs": [],
   "source": [
    "intTypes=['Spots','Bases']\n",
    "for intType in intTypes:\n",
    "    subsetPickleDf[intType]=pd.to_numeric(subsetPickleDf[intType],errors='coerce')"
   ]
  },
  {
   "cell_type": "code",
   "execution_count": null,
   "metadata": {
    "collapsed": true
   },
   "outputs": [],
   "source": [
    "factorTypes=[u'proj_accession_ReplacedBy', u'proj_accession_Type',\n",
    "       u'proj_accession_Status', u'Status', u'proj_accession_Visibility',\n",
    "       u'LibraryLayout', u'proj_accession_Loaded', u'LibraryStrategy',\n",
    "       u'proj_accession_Updated', u'proj_accession_Received',\n",
    "       u'proj_accession_Published', u'Member_Name', u'proj_accession_Center',\n",
    "       u'ScientificName','new_ScientificName' ]#u'Study', u'proj_accession_Submission'"
   ]
  },
  {
   "cell_type": "code",
   "execution_count": null,
   "metadata": {
    "collapsed": true
   },
   "outputs": [],
   "source": [
    "for factorType in factorTypes:\n",
    "    subsetPickleDf[factorType]=subsetPickleDf[factorType].astype('category')"
   ]
  },
  {
   "cell_type": "code",
   "execution_count": null,
   "metadata": {
    "collapsed": true
   },
   "outputs": [],
   "source": [
    "#sra_dump_csv_dir,sra_dump_pickle_dir\n",
    "#subsetPickleDf.to_pickle(sra_dump_pickle_dir)"
   ]
  },
  {
   "cell_type": "markdown",
   "metadata": {},
   "source": [
    "### spit in the extracted ids"
   ]
  },
  {
   "cell_type": "code",
   "execution_count": 53,
   "metadata": {
    "collapsed": true
   },
   "outputs": [],
   "source": [
    "import pandas as pd\n",
    "import numpy as np\n",
    "subsetPickleDf=pd.read_pickle(sra_dump_pickle_dir)"
   ]
  },
  {
   "cell_type": "code",
   "execution_count": 54,
   "metadata": {
    "collapsed": true
   },
   "outputs": [],
   "source": [
    "#subsetPickleDf.dtypes"
   ]
  },
  {
   "cell_type": "code",
   "execution_count": 55,
   "metadata": {},
   "outputs": [
    {
     "name": "stderr",
     "output_type": "stream",
     "text": [
      "/cellar/users/btsui/anaconda2/lib/python2.7/site-packages/ipykernel_launcher.py:2: FutureWarning: currently extract(expand=None) means expand=False (return Index/Series/DataFrame) but in a future version of pandas this will be changed to expand=True (return DataFrame)\n",
      "  \n",
      "/cellar/users/btsui/anaconda2/lib/python2.7/site-packages/ipykernel_launcher.py:3: FutureWarning: currently extract(expand=None) means expand=False (return Index/Series/DataFrame) but in a future version of pandas this will be changed to expand=True (return DataFrame)\n",
      "  This is separate from the ipykernel package so we can avoid doing imports until\n"
     ]
    }
   ],
   "source": [
    "#['Run_db','Run_digits']\n",
    "subsetPickleDf['Run_db']=subsetPickleDf.index.str.extract('([EDS]RR)').values\n",
    "subsetPickleDf['Run_digits']=subsetPickleDf.index.str.extract('[EDS]RR(\\d+)').astype(np.int)"
   ]
  },
  {
   "cell_type": "code",
   "execution_count": 56,
   "metadata": {
    "collapsed": true
   },
   "outputs": [],
   "source": [
    "#subsetPickleDf.dtypes"
   ]
  },
  {
   "cell_type": "code",
   "execution_count": 57,
   "metadata": {
    "collapsed": true
   },
   "outputs": [],
   "source": [
    "subsetPickleDf.to_pickle(sra_dump_pickle_dir)"
   ]
  },
  {
   "cell_type": "markdown",
   "metadata": {},
   "source": [
    "### scratch"
   ]
  },
  {
   "cell_type": "code",
   "execution_count": null,
   "metadata": {
    "collapsed": true
   },
   "outputs": [],
   "source": [
    "new_size=249733376L\n",
    "old_size=1035668000L\n",
    "new_size/float(old_size)"
   ]
  },
  {
   "cell_type": "code",
   "execution_count": null,
   "metadata": {
    "collapsed": true
   },
   "outputs": [],
   "source": [
    "scentific_VC=subExportDf['ScientificName'].value_counts()"
   ]
  },
  {
   "cell_type": "code",
   "execution_count": 43,
   "metadata": {
    "collapsed": true
   },
   "outputs": [],
   "source": [
    "#subExportDf"
   ]
  },
  {
   "cell_type": "code",
   "execution_count": 70,
   "metadata": {},
   "outputs": [],
   "source": [
    "#scentific_VC.to_frame()"
   ]
  },
  {
   "cell_type": "code",
   "execution_count": 71,
   "metadata": {},
   "outputs": [],
   "source": [
    "#scentific_VC[scentific_VC.index.str.contains('human')].iloc[:20]"
   ]
  },
  {
   "cell_type": "code",
   "execution_count": 72,
   "metadata": {},
   "outputs": [],
   "source": [
    "#scentific_VC[scentific_VC.index.str.contains('mouse')].iloc[:20]"
   ]
  },
  {
   "cell_type": "code",
   "execution_count": null,
   "metadata": {
    "collapsed": true
   },
   "outputs": [],
   "source": []
  }
 ],
 "metadata": {
  "kernelspec": {
   "display_name": "Python 2",
   "language": "python",
   "name": "python2"
  },
  "language_info": {
   "codemirror_mode": {
    "name": "ipython",
    "version": 2
   },
   "file_extension": ".py",
   "mimetype": "text/x-python",
   "name": "python",
   "nbconvert_exporter": "python",
   "pygments_lexer": "ipython2",
   "version": "2.7.14"
  }
 },
 "nbformat": 4,
 "nbformat_minor": 1
}
