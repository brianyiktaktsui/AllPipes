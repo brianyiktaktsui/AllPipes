{
 "cells": [
  {
   "cell_type": "code",
   "execution_count": null,
   "metadata": {
    "collapsed": true
   },
   "outputs": [],
   "source": [
    "\"\"\"\n",
    "potential optimization, process only the non-redundnat ones\n",
    "\n",
    "a factor of 14 for speed up\n",
    "\"\"\"\n",
    "\n",
    "import pandas as pd\n",
    "\n",
    "attributeSpacingCharKey='bmioasdgais'\n",
    "indexSpacingCharKey='jomifdasfd'\n",
    "lengthThreshold=100\n",
    "\n",
    "\n",
    "bad_regex=r\"([\\-_\\n])|(\\d{4,})|[^\\x00-\\x7F]+|(mus musculus)\"\n",
    "\n",
    "basePickleDir='/data/cellardata/users/btsui/SRA/DUMP/'\n",
    "allAttribFname='/cellar/users/btsui/Data/nrnb01_nobackup/METAMAP/input/allAttrib.v5.csv'\n",
    "\n",
    "srsMergedS=pd.read_pickle(basePickleDir+'allSRS.pickle.gz')\n",
    "\n",
    "print (srsMergedS.shape)\n",
    "\n",
    "loweredSrsS=srsMergedS.str.lower()\n",
    "\n",
    "nonUniCleanS=loweredSrsS.str.replace(bad_regex,' ')\n",
    "\n",
    "nonUniCleanS.index.names=['srs','identifier']"
   ]
  },
  {
   "cell_type": "markdown",
   "metadata": {},
   "source": [
    "### output each attribute individually"
   ]
  },
  {
   "cell_type": "code",
   "execution_count": null,
   "metadata": {
    "collapsed": true
   },
   "outputs": [],
   "source": [
    "#exportS"
   ]
  },
  {
   "cell_type": "code",
   "execution_count": 92,
   "metadata": {
    "collapsed": false
   },
   "outputs": [],
   "source": [
    "length_S=nonUniCleanS.str.len()\n",
    "\n",
    "#take only short file\n",
    "length_m=length_S<=lengthThreshold\n",
    "exportS=nonUniCleanS[length_m]\n",
    "\n",
    "identifierA=exportS.index.get_level_values(1)\n",
    "unparsableIdentifierA=identifierA.str.replace(pat=r'[^a-zA-Z0-9]',repl=attributeSpacingCharKey)#replace\n",
    "\n",
    "srsAttribMetamapIndex=exportS.index.get_level_values(0).values+indexSpacingCharKey+unparsableIdentifierA.values\n",
    "\n",
    "metamapAttribS=exportS.copy()\n",
    "metamapAttribS.index=srsAttribMetamapIndex\n",
    "\n",
    "withIndexSrsS=metamapAttribS.index+','+metamapAttribS\n",
    "fStr='\\n'.join(withIndexSrsS.tolist())\n",
    "\n",
    "with open(allAttribFname,'w') as f:\n",
    "    f.write(fStr)"
   ]
  },
  {
   "cell_type": "markdown",
   "metadata": {},
   "source": [
    "### scratch"
   ]
  },
  {
   "cell_type": "code",
   "execution_count": null,
   "metadata": {
    "collapsed": true
   },
   "outputs": [],
   "source": [
    "#46851228"
   ]
  },
  {
   "cell_type": "code",
   "execution_count": null,
   "metadata": {
    "collapsed": true
   },
   "outputs": [],
   "source": [
    "#!cp ../../../../README ../../."
   ]
  },
  {
   "cell_type": "code",
   "execution_count": null,
   "metadata": {
    "collapsed": false
   },
   "outputs": [],
   "source": [
    "#43907007/46851228.0"
   ]
  },
  {
   "cell_type": "code",
   "execution_count": 11,
   "metadata": {
    "collapsed": false
   },
   "outputs": [],
   "source": [
    "VC=nonUniCleanS.index.get_level_values(level='identifier').value_counts()"
   ]
  },
  {
   "cell_type": "code",
   "execution_count": null,
   "metadata": {
    "collapsed": true
   },
   "outputs": [],
   "source": [
    "tmpS=nonUniCleanS.loc['ERS1871416']#ERS1871416,ERS1871460,ERS1871416"
   ]
  },
  {
   "cell_type": "code",
   "execution_count": null,
   "metadata": {
    "collapsed": false
   },
   "outputs": [],
   "source": [
    "print len(tmpS.loc['DESCRIPTION'])"
   ]
  },
  {
   "cell_type": "code",
   "execution_count": 34,
   "metadata": {
    "collapsed": true
   },
   "outputs": [],
   "source": [
    "#nUniqueByAttrib=nonUniCleanS.groupby('identifier').nunique()"
   ]
  },
  {
   "cell_type": "code",
   "execution_count": 25,
   "metadata": {
    "collapsed": false
   },
   "outputs": [],
   "source": [
    "#myStrLeng=nonUniCleanS.str.len()"
   ]
  },
  {
   "cell_type": "code",
   "execution_count": null,
   "metadata": {
    "collapsed": true
   },
   "outputs": [],
   "source": []
  },
  {
   "cell_type": "code",
   "execution_count": 85,
   "metadata": {
    "collapsed": false
   },
   "outputs": [],
   "source": [
    "myLength=myStrLeng.groupby('identifier').median()"
   ]
  },
  {
   "cell_type": "code",
   "execution_count": 86,
   "metadata": {
    "collapsed": false
   },
   "outputs": [
    {
     "data": {
      "text/plain": [
       "8.0"
      ]
     },
     "execution_count": 86,
     "metadata": {},
     "output_type": "execute_result"
    }
   ],
   "source": [
    "myLength.loc['tissue']"
   ]
  },
  {
   "cell_type": "code",
   "execution_count": 87,
   "metadata": {
    "collapsed": false
   },
   "outputs": [
    {
     "data": {
      "text/plain": [
       "35.0"
      ]
     },
     "execution_count": 87,
     "metadata": {},
     "output_type": "execute_result"
    }
   ],
   "source": [
    "myLength.loc['DESCRIPTION']"
   ]
  },
  {
   "cell_type": "code",
   "execution_count": 88,
   "metadata": {
    "collapsed": false
   },
   "outputs": [
    {
     "data": {
      "text/plain": [
       "25.0"
      ]
     },
     "execution_count": 88,
     "metadata": {},
     "output_type": "execute_result"
    }
   ],
   "source": [
    "myLength.loc['TITLE']"
   ]
  },
  {
   "cell_type": "code",
   "execution_count": 89,
   "metadata": {
    "collapsed": false
   },
   "outputs": [],
   "source": [
    "### increase the level of fault tolerance"
   ]
  },
  {
   "cell_type": "code",
   "execution_count": 38,
   "metadata": {
    "collapsed": false
   },
   "outputs": [
    {
     "data": {
      "text/plain": [
       "identifier\n",
       "Energy.Intake..kcal.day.                                                                                       1\n",
       "infected_with                                                                                                  1\n",
       "Historical Monobactam Produced                                                                                 1\n",
       "infecting virus                                                                                                1\n",
       "History_of_douching                                                                                            1\n",
       "mcSCC-440                                                                                                      1\n",
       "Hong                                                                                                           1\n",
       "Hong Yu                                                                                                        1\n",
       "Hongwei Chen                                                                                                   1\n",
       "mcSCC-379                                                                                                      1\n",
       "Hormonal_contraception                                                                                         1\n",
       "infecting_organism                                                                                             1\n",
       "Round                                                                                                          1\n",
       "mcSCC-334                                                                                                      1\n",
       "pt clone                                                                                                       1\n",
       "cell sorting date                                                                                              1\n",
       "Host Ethnicity                                                                                                 1\n",
       "Romanomermis wuchangensis parasitic stage nematode, post-parasitic stage nematode and adult nematode           1\n",
       "psyllid vector                                                                                                 1\n",
       "alias_ID                                                                                                       1\n",
       "Host ID                                                                                                        1\n",
       "Ridge                                                                                                          1\n",
       "cell selection                                                                                                 1\n",
       "organoid                                                                                                       1\n",
       "Host Organism                                                                                                  1\n",
       "cell purity                                                                                                    1\n",
       "pseudonymous_name                                                                                              1\n",
       "cell purification antibody vendor                                                                              1\n",
       "Host Taxonomy ID                                                                                               1\n",
       "Host breed                                                                                                     1\n",
       "                                                                                                          ...   \n",
       "replicate                                                                                                  10850\n",
       "survey_id                                                                                                  11391\n",
       "collection_date                                                                                            11615\n",
       "description                                                                                                11858\n",
       "tissue                                                                                                     14951\n",
       "Strain                                                                                                     15900\n",
       "genotype                                                                                                   17087\n",
       "collection_timestamp                                                                                       17144\n",
       "treatment                                                                                                  17144\n",
       "ArrayExpress-StrainOrLine                                                                                  18041\n",
       "label                                                                                                      21210\n",
       "geo_loc_name                                                                                               24768\n",
       "lat_lon                                                                                                    25287\n",
       "source_material_id                                                                                         25388\n",
       "sample_title                                                                                               27394\n",
       "cultivar                                                                                                   27564\n",
       "isolation_source                                                                                           38032\n",
       "sample_name                                                                                                48746\n",
       "anonymized_name                                                                                            49572\n",
       "SCIENTIFIC_NAME                                                                                            54441\n",
       "source_name                                                                                                58157\n",
       "submitted subject id                                                                                       59615\n",
       "host_subject_id                                                                                            64042\n",
       "strain                                                                                                     81924\n",
       "submitted sample id                                                                                        95262\n",
       "biospecimen repository sample id                                                                           95262\n",
       "isolate                                                                                                   118966\n",
       "DESCRIPTION                                                                                               211660\n",
       "TITLE                                                                                                    1042970\n",
       "SUBMITTER_ID                                                                                             1193637\n",
       "Length: 19996, dtype: int64"
      ]
     },
     "execution_count": 38,
     "metadata": {},
     "output_type": "execute_result"
    }
   ],
   "source": [
    "nUniqueByAttrib.sort_values()"
   ]
  },
  {
   "cell_type": "code",
   "execution_count": 30,
   "metadata": {
    "collapsed": false
   },
   "outputs": [],
   "source": [
    "### it should be done within an hour"
   ]
  },
  {
   "cell_type": "code",
   "execution_count": 14,
   "metadata": {
    "collapsed": false
   },
   "outputs": [],
   "source": [
    "mySubS=nonUniCleanS[nonUniCleanS.index.get_level_values('identifier')!='SUBMITTER_ID']"
   ]
  },
  {
   "cell_type": "code",
   "execution_count": 36,
   "metadata": {
    "collapsed": false
   },
   "outputs": [
    {
     "data": {
      "text/plain": [
       "srs        identifier        \n",
       "ERS018283  Strain                                  /93\n",
       "           Sample Description                         \n",
       "ERS166165  TITLE                 staphylococcus aureus\n",
       "           SCIENTIFIC_NAME       staphylococcus aureus\n",
       "           Strain                             09 052  \n",
       "dtype: object"
      ]
     },
     "execution_count": 36,
     "metadata": {},
     "output_type": "execute_result"
    }
   ],
   "source": [
    "mySubS"
   ]
  },
  {
   "cell_type": "code",
   "execution_count": 37,
   "metadata": {
    "collapsed": false
   },
   "outputs": [
    {
     "data": {
      "text/plain": [
       "2418386"
      ]
     },
     "execution_count": 37,
     "metadata": {},
     "output_type": "execute_result"
    }
   ],
   "source": [
    "mySubS.nunique()"
   ]
  },
  {
   "cell_type": "code",
   "execution_count": 71,
   "metadata": {
    "collapsed": false
   },
   "outputs": [],
   "source": [
    "#nonUniCleanS.str.len()\n",
    "#submitter_ID"
   ]
  },
  {
   "cell_type": "code",
   "execution_count": 23,
   "metadata": {
    "collapsed": false
   },
   "outputs": [
    {
     "name": "stdout",
     "output_type": "stream",
     "text": [
      "with only unique  0.075714680347\n",
      "without submitter_ID 0.055079727935\n"
     ]
    }
   ],
   "source": [
    "### with only unique \n",
    "print 'with only unique ',3324405/43907007.0\n",
    "print 'without submitter_ID, number of unique', 2418386/43907007.0"
   ]
  },
  {
   "cell_type": "code",
   "execution_count": 19,
   "metadata": {
    "collapsed": false
   },
   "outputs": [
    {
     "data": {
      "text/plain": [
       "0.0550797279349968"
      ]
     },
     "execution_count": 19,
     "metadata": {},
     "output_type": "execute_result"
    }
   ],
   "source": [
    "#31.out"
   ]
  },
  {
   "cell_type": "code",
   "execution_count": null,
   "metadata": {
    "collapsed": true
   },
   "outputs": [],
   "source": [
    "-rw-r--r--  1 btsui users  76M Jan  6 11:38 metamapWrapper.sh.o344928.17\n",
    "-rw-r--r--  1 btsui users  77M Jan  6 11:38 metamapWrapper.sh.o344923.12\n",
    "-rw-r--r--  1 btsui users  78M Jan  6 11:38 metamapWrapper.sh.o344922.11\n",
    "-rw-r--r--  1 btsui users  77M Jan  6 11:38 metamapWrapper.sh.o344927.16\n",
    "-rw-r--r--  1 btsui users  77M Jan  6 11:38 metamapWrapper.sh.o344941.30\n",
    "-rw-r--r--  1 btsui users  72M Jan  6 11:38 metamapWrapper.sh.o344918.7\n",
    "-rw-r--r--  1 btsui users  78M Jan  6 11:38 metamapWrapper.sh.o344939.28\n",
    "-rw-r--r--  1 btsui users  78M Jan  6 11:38 metamapWrapper.sh.o344931.20\n",
    "-rw-r--r--  1 btsui users  78M Jan  6 11:38 metamapWrapper.sh.o344935.24\n",
    "-rw-r--r--  1 btsui users  77M Jan  6 11:38 metamapWrapper.sh.o344937.26\n",
    "-rw-r--r--  1 btsui users  79M Jan  6 11:38 metamapWrapper.sh.o344914.3\n",
    "-rw-r--r--  1 btsui users  71M Jan  6 11:38 metamapWrapper.sh.o344916.5\n",
    "-rw-r--r--  1 btsui users  76M Jan  6 11:38 metamapWrapper.sh.o344925.14\n",
    "-rw-r--r--  1 btsui users  80M Jan  6 11:38 metamapWrapper.sh.o344936.25\n",
    "-rw-r--r--  1 btsui users  77M Jan  6 11:38 metamapWrapper.sh.o344929.18\n",
    "-rw-r--r--  1 btsui users  78M Jan  6 11:38 metamapWrapper.sh.o344943.32\n",
    "-rw-r--r--  1 btsui users    0 Jan  6 11:38 top.txt\n",
    "-rw-r--r--  1 btsui users  76M Jan  6 11:38 metamapWrapper.sh.o344919.8\n",
    "-rw-r--r--  1 btsui users  77M Jan  6 11:38 metamapWrapper.sh.o344917.6\n",
    "-rw-r--r--  1 btsui users  77M Jan  6 11:38 metamapWrapper.sh.o344930.19\n",
    "-rw-r--r--  1 btsui users  75M Jan  6 11:38 metamapWrapper.sh.o344933.22\n",
    "-rw-r--r--  1 btsui users  78M Jan  6 11:38 metamapWrapper.sh.o344921.10\n",
    "-rw-r--r--  1 btsui users  76M Jan  6 11:38 metamapWrapper.sh.o344932.21\n",
    "-rw-r--r--  1 btsui users  76M Jan  6 11:38 metamapWrapper.sh.o344913.2\n",
    "-rw-r--r--  1 btsui users  78M Jan  6 11:38 metamapWrapper.sh.o344926.15\n",
    "-rw-r--r--  1 btsui users  19M Jan  5 22:26 metamapWrapper.sh.o344945.34\n",
    "-rw-r--r--  1 btsui users  13M Jan  5 21:24 metamapWrapper.sh.o344924.13\n",
    "-rw-r--r--  1 btsui users  13M Jan  5 21:21 metamapWrapper.sh.o344920.9\n",
    "-rw-r--r--  1 btsui users  13M Jan  5 21:20 metamapWrapper.sh.o344934.23\n",
    "-rw-r--r--  1 btsui users  13M Jan  5 21:19 metamapWrapper.sh.o344942.31\n",
    "-rw-r--r--  1 btsui users  716 Jan  5 18:51 metamapWrapper.sh.o344961.50\n",
    "drwxr-xr-x  2 btsui users  15K Jan  5 18:51 .\n",
    "-rw-r--r--  1 btsui users  813 Jan  5 18:51 metamapWrapper.sh.o344960.49\n",
    "-rw-r--r--  1 btsui users  813 Jan  5 18:51 metamapWrapper.sh.o344959.48\n",
    "-rw-r--r--  1 btsui users  716 Jan  5 18:50 metamapWrapper.sh.o344958.47\n",
    "-rw-r--r--  1 btsui users  813 Jan  5 18:50 metamapWrapper.sh.o344957.46\n",
    "-rw-r--r--  1 btsui users  813 Jan  5 18:50 metamapWrapper.sh.o344956.45\n",
    "-rw-r--r--  1 btsui users  813 Jan  5 18:50 metamapWrapper.sh.o344955.44\n",
    "-rw-r--r--  1 btsui users  813 Jan  5 18:49 metamapWrapper.sh.o344954.43\n",
    "-rw-r--r--  1 btsui users  813 Jan  5 18:49 metamapWrapper.sh.o344953.42\n",
    "-rw-r--r--  1 btsui users  813 Jan  5 18:49 metamapWrapper.sh.o344952.41\n",
    "-rw-r--r--  1 btsui users  813 Jan  5 18:49 metamapWrapper.sh.o344951.40\n",
    "-rw-r--r--  1 btsui users  716 Jan  5 18:48 metamapWrapper.sh.o344950.39\n",
    "-rw-r--r--  1 btsui users  813 Jan  5 18:48 metamapWrapper.sh.o344949.38\n",
    "-rw-r--r--  1 btsui users  813 Jan  5 18:48 metamapWrapper.sh.o344948.37\n",
    "-rw-r--r--  1 btsui users  813 Jan  5 18:48 metamapWrapper.sh.o344947.36\n",
    "-rw-r--r--  1 btsui users  813 Jan  5 18:47 metamapWrapper.sh.o344946.35\n",
    "-rw-r--r--  1 btsui users  813 Jan  5 18:47 metamapWrapper.sh.o344944.33\n",
    "-rw-r--r--  1 btsui users  716 Jan  5 18:47 metamapWrapper.sh.o344938.27\n",
    "-rw-r--r--  1 btsui users 1.4K Jan  5 18:47 metamapWrapper.sh.o344915.4\n",
    "-rw-r--r--  1 btsui users 1.4K Jan  5 18:47 metamapWrapper.sh.o344912.1\n",
    "-rw-r--r--  1 btsui users 1.4K Jan  5 18:47 metamapWrapper.sh.o344940.29\n",
    "   "
   ]
  },
  {
   "cell_type": "code",
   "execution_count": 90,
   "metadata": {
    "collapsed": true
   },
   "outputs": [],
   "source": [
    "#!rm /cellar/users/btsui/Data/nrnb01_nobackup/METAMAP/splittedInput_allAttrib.v5.csv/*"
   ]
  },
  {
   "cell_type": "code",
   "execution_count": null,
   "metadata": {
    "collapsed": true
   },
   "outputs": [],
   "source": [
    "/cellar/users/btsui/Data/nrnb01_nobackup/METAMAP/splittedInput_allAttrib.v5.csv/\n",
    "-rw-r--r--  1 btsui users 8.7G Jan  6 11:52 21.out\n",
    "-rw-r--r--  1 btsui users 9.0G Jan  6 11:52 20.out\n",
    "-rw-r--r--  1 btsui users 8.9G Jan  6 11:52 18.out\n",
    "-rw-r--r--  1 btsui users 8.8G Jan  6 11:52 19.out\n",
    "-rw-r--r--  1 btsui users 9.1G Jan  6 11:52 32.out\n",
    "-rw-r--r--  1 btsui users 9.0G Jan  6 11:52 10.out\n",
    "-rw-r--r--  1 btsui users 8.9G Jan  6 11:52 6.out\n",
    "-rw-r--r--  1 btsui users 9.0G Jan  6 11:52 28.out\n",
    "-rw-r--r--  1 btsui users 9.0G Jan  6 11:52 24.out\n",
    "-rw-r--r--  1 btsui users 8.1G Jan  6 11:52 5.out\n",
    "-rw-r--r--  1 btsui users 8.3G Jan  6 11:52 7.out\n",
    "-rw-r--r--  1 btsui users 8.9G Jan  6 11:52 17.out\n",
    "-rw-r--r--  1 btsui users 8.8G Jan  6 11:52 14.out\n",
    "-rw-r--r--  1 btsui users 9.0G Jan  6 11:52 12.out\n",
    "-rw-r--r--  1 btsui users 9.1G Jan  6 11:52 15.out\n",
    "-rw-r--r--  1 btsui users 8.9G Jan  6 11:52 16.out\n",
    "-rw-r--r--  1 btsui users 8.9G Jan  6 11:52 2.out\n",
    "-rw-r--r--  1 btsui users 9.0G Jan  6 11:52 30.out\n",
    "-rw-r--r--  1 btsui users 8.6G Jan  6 11:52 22.out\n",
    "-rw-r--r--  1 btsui users 8.9G Jan  6 11:52 26.out\n",
    "-rw-r--r--  1 btsui users 8.8G Jan  6 11:52 8.out\n",
    "-rw-r--r--  1 btsui users 9.0G Jan  6 11:52 11.out\n",
    "-rw-r--r--  1 btsui users 9.0G Jan  6 11:51 3.out\n",
    "-rw-r--r--  1 btsui users 9.1G Jan  6 11:42 25.out\n",
    "-rw-r--r--  1 btsui users 2.1G Jan  5 22:26 34.out\n",
    "-rw-r--r--  1 btsui users 1.5G Jan  5 21:24 13.out\n",
    "-rw-r--r--  1 btsui users 1.5G Jan  5 21:21 9.out\n",
    "-rw-r--r--  1 btsui users 1.4G Jan  5 21:20 23.out\n",
    "-rw-r--r--  1 btsui users 1.5G Jan  5 21:19 31.out\n",
    "-rw-r--r--  1 btsui users  158 Jan  5 18:47 1.out\n",
    "-rw-r--r--  1 btsui users  158 Jan  5 18:47 29.out\n",
    "-rw-r--r--  1 btsui users  158 Jan  5 18:47 4.out"
   ]
  },
  {
   "cell_type": "code",
   "execution_count": null,
   "metadata": {
    "collapsed": true
   },
   "outputs": [],
   "source": [
    "#23.out, 31.out"
   ]
  },
  {
   "cell_type": "code",
   "execution_count": null,
   "metadata": {
    "collapsed": true
   },
   "outputs": [],
   "source": [
    "metamapWrapper.sh.e344952.41 nrnb-2-2\n",
    "metamapWrapper.sh.e344953.42 nrnb-2-2\n",
    "metamapWrapper.sh.e344951.40 nrnb-2-2\n",
    "#DESCRIPTION\n",
    "btsui@nrnb-head-2:~/Project/METAMAP/code/metamap$ wc -l /cellar/users/btsui/Data/nrnb01_nobackup/METAMAP/sgeOut/metamapWrapper.sh.o344917.6\n",
    "1879660 /cellar/users/btsui/Data/nrnb01_nobackup/METAMAP/sgeOut/metamapWrapper.sh.o344917.6"
   ]
  },
  {
   "cell_type": "code",
   "execution_count": 11,
   "metadata": {
    "collapsed": false
   },
   "outputs": [
    {
     "name": "stdout",
     "output_type": "stream",
     "text": [
      "Berkeley DB databases (USAbase 2013AB strict model) are open.\r\n",
      "Static variants will come from table varsan in /cellar/users/btsui/Program/public_mm/DB/DB.USAbase.2013AB.strict.\r\n",
      "Derivational Variants: Adj/noun ONLY.\r\n",
      "Accessing lexicon /cellar/users/btsui/Program/public_mm/lexicon/data/lexiconStatic2013.\r\n",
      "Variant generation mode: static.\r\n",
      "### MetaMap ERROR: Calling socket_client_open for TAGGER Server on host localhost and port 1795:\r\n",
      "error(system_error,system_error(SPIO_E_NET_CONNREFUSED))\r\n",
      "metamap\r\n",
      "processing :  /cellar/users/btsui/Data/nrnb01_nobackup/METAMAP/splittedInput_allAttrib.v5.csv//4\r\n",
      "loading properties file /cellar/users/btsui/Program/public_mm/WSD_Server/config/disambServer.cfg\r\n"
     ]
    }
   ],
   "source": [
    "!tail /cellar/users/btsui/Data/nrnb01_nobackup/METAMAP/sgeOut/metamapWrapper.sh.o344915.4"
   ]
  },
  {
   "cell_type": "code",
   "execution_count": 7,
   "metadata": {
    "collapsed": false
   },
   "outputs": [
    {
     "name": "stdout",
     "output_type": "stream",
     "text": [
      "Berkeley DB databases (USAbase 2013AB strict model) are open.\r\n",
      "Static variants will come from table varsan in /cellar/users/btsui/Program/public_mm/DB/DB.USAbase.2013AB.strict.\r\n",
      "Derivational Variants: Adj/noun ONLY.\r\n",
      "Accessing lexicon /cellar/users/btsui/Program/public_mm/lexicon/data/lexiconStatic2013.\r\n",
      "Variant generation mode: static.\r\n",
      "### MetaMap ERROR: Calling socket_client_open for TAGGER Server on host localhost and port 1795:\r\n",
      "error(system_error,system_error(SPIO_E_NET_CONNREFUSED))\r\n",
      "metamap\r\n",
      "processing :  /cellar/users/btsui/Data/nrnb01_nobackup/METAMAP/splittedInput_allAttrib.v5.csv//29\r\n",
      "loading properties file /cellar/users/btsui/Program/public_mm/WSD_Server/config/disambServer.cfg\r\n"
     ]
    }
   ],
   "source": [
    "!tail  /cellar/users/btsui/Data/nrnb01_nobackup/METAMAP/sgeOut/metamapWrapper.sh.o344940.29"
   ]
  },
  {
   "cell_type": "code",
   "execution_count": 8,
   "metadata": {
    "collapsed": false
   },
   "outputs": [
    {
     "name": "stdout",
     "output_type": "stream",
     "text": [
      "Berkeley DB databases (USAbase 2013AB strict model) are open.\r\n",
      "Static variants will come from table varsan in /cellar/users/btsui/Program/public_mm/DB/DB.USAbase.2013AB.strict.\r\n",
      "Derivational Variants: Adj/noun ONLY.\r\n",
      "Accessing lexicon /cellar/users/btsui/Program/public_mm/lexicon/data/lexiconStatic2013.\r\n",
      "Variant generation mode: static.\r\n",
      "### MetaMap ERROR: Calling socket_client_open for TAGGER Server on host localhost and port 1795:\r\n",
      "error(system_error,system_error(SPIO_E_NET_CONNREFUSED))\r\n",
      "metamap\r\n",
      "processing :  /cellar/users/btsui/Data/nrnb01_nobackup/METAMAP/splittedInput_allAttrib.v5.csv//1\r\n",
      "loading properties file /cellar/users/btsui/Program/public_mm/WSD_Server/config/disambServer.cfg\r\n"
     ]
    }
   ],
   "source": [
    "!tail  /cellar/users/btsui/Data/nrnb01_nobackup/METAMAP/sgeOut/metamapWrapper.sh.o344912.1"
   ]
  },
  {
   "cell_type": "code",
   "execution_count": 1,
   "metadata": {
    "collapsed": false
   },
   "outputs": [
    {
     "data": {
      "text/plain": [
       "u'/cellar/users/btsui/Project/METAMAP/notebook/RapMapTest/Pipelines/Update_SRA_meta_data'"
      ]
     },
     "execution_count": 1,
     "metadata": {},
     "output_type": "execute_result"
    }
   ],
   "source": [
    "pwd"
   ]
  },
  {
   "cell_type": "code",
   "execution_count": 64,
   "metadata": {
    "collapsed": false
   },
   "outputs": [
    {
     "name": "stdout",
     "output_type": "stream",
     "text": [
      "\r\n",
      "Processing 00000000.tx.1: ERS1871423jomifdasfdENAbmioasdgaisLASTbmioasdgaisUPDATE,  08 14\r\n",
      "\r\n",
      "Processing 00000000.tx.1: ERS1871427jomifdasfdLongitudebmioasdgaisEnd,3.165\r\n",
      "\r\n",
      "Processing 00000000.tx.1: ERS1871441jomifdasfdTITLE,emose  z day2 pump srf (3m) seq (100l on membrane) w>20 n\r\n",
      "\r\n",
      "Processing 00000000.tx.1: ERS1871443jomifdasfdLongitudebmioasdgaisStart,3.17\r\n",
      "\r\n",
      "Processing 00000000.tx.1: ERS1871460jomifdasfdDESCRIPTION,this sample was created in silico using samples ERS1871460jomifdasfdDESCRIPTION,this sample, ERS1871460jomifdasfdDESCRIPTION,this sample, ERS1871460jomifdasfdDESCRIPTION,this sample, ERS1871460jomifdasfdDESCRIPTION,this sample, ERS1871460jomifdasfdDESCRIPTION,this sample, ERS1871460jomifdasfdDESCRIPTION,this sample, ERS1871460jomifdasfdDESCRIPTION,this sample, ERS1871460jomifdasfdDESCRIPTION,this sample, ERS1871460jomifdasfdDESCRIPTION,this sample and ERS1871460jomifdasfdDESCRIPTION,this sample. the latter samples were collected on board the rv nereis ii (observatoire oceanologique de banyuls), using a high volume well pump, in the context of the emose ( ) inter comparison of marine plankton metagenome analysis methods. the sampling event (emose  z day2 event pump) occurred at position latituden=42.\r\n",
      "\r\n",
      "Processing 00000000.tx.2: and longitudee=003.\r\n",
      "\r\n",
      "Processing 00000000.tx.3: , on date/time=  05 31t07:50z00, at a depth of 3 m. the sample material was collected in the marine biome (envo: ) targeting a [srf] surface water layer (envo: ).\r\n",
      "\r\n",
      "Processing 00000000.tx.4: the sample material was size fractionated and prepared back in the lab using protocol [sequencing (100l on membrane) w3 20] for later detection and identification of biological and molecular entities (nucleotides) by sequencing methods. the pooled samples were extracted separately and parts of the dna from each replicate were pooled before sequencing. this sample may be used for example in biodiversity and metagenomics studies of prokaryotes and eukaryotes. this sample has replicate sample(s): none\r\n",
      "### MetaMap ERROR: skr_phrase failed on 00000000.tx.4 [pron([lexmatch([none]),inputmatch([none]),tag(pron),tokens([none])])]\r\n",
      "\r\n",
      "metamap\r\n",
      "processing :  /cellar/users/btsui/Data/nrnb01_nobackup/METAMAP/splittedInput_allAttrib.v5.csv//9\r\n"
     ]
    }
   ],
   "source": [
    "!tail -n 20 /cellar/users/btsui/Data/nrnb01_nobackup/METAMAP/sgeOut/metamapWrapper.sh.o344920.9"
   ]
  },
  {
   "cell_type": "code",
   "execution_count": 97,
   "metadata": {
    "collapsed": false
   },
   "outputs": [
    {
     "name": "stdout",
     "output_type": "stream",
     "text": [
      "\r\n",
      "Processing 00000000.tx.1: ERS1871375jomifdasfdenvironmentbmioasdgaisbmioasdgaismaterialbmioasdgais,water (envo: ), including particulate matter (envo: ) such as planktonic material (envo: )\r\n",
      "\r\n",
      "Processing 00000000.tx.1: ERS1871376jomifdasfdSamplingbmioasdgaisCampaign,emose\r\n",
      "\r\n",
      "Processing 00000000.tx.1: ERS1871378jomifdasfdenvironmentalbmioasdgaispackage,water\r\n",
      "\r\n",
      "Processing 00000000.tx.1: ERS1871379jomifdasfdSamplingbmioasdgaisPlatform,rv nereis ii (observatoire oceanologique de banyuls)\r\n",
      "\r\n",
      "Processing 00000000.tx.1: ERS1871389jomifdasfdEventbmioasdgaisDatebmioasdgaisTimebmioasdgaisEnd,  05 30t08:32\r\n",
      "\r\n",
      "Processing 00000000.tx.1: ERS1871390jomifdasfdSamplingbmioasdgaisStation,day1\r\n",
      "\r\n",
      "Processing 00000000.tx.1: ERS1871392jomifdasfdEventbmioasdgaisDatebmioasdgaisTimebmioasdgaisStart,  05 30t07:46\r\n",
      "\r\n",
      "Processing 00000000.tx.1: ERS1871393jomifdasfdSizebmioasdgaisFractionbmioasdgaisLowerbmioasdgaisThreshold,0.22\r\n",
      "\r\n",
      "Processing 00000000.tx.1: ERS1871395jomifdasfdFurtherbmioasdgaisDetails,http://store.pangaea.de/projects/emose /logsheets/emose  z day1 wetlab size fractionated 10 100l r03.pdf\r\n",
      "\r\n",
      "Processing 00000000.tx.1: ERS1871396jomifdasfdSizebmioasdgaisFractionbmioasdgaisUpperbmioasdgaisThreshold,20\r\n",
      "\r\n",
      "Processing 00000000.tx.1: ERS1871398jomifdasfdLastbmioasdgaisUpdatebmioasdgaisDate,  08 10z\r\n",
      "\r\n",
      "Processing 00000000.tx.1: ERS1871401jomifdasfdTemperature,15.5\r\n",
      "\r\n",
      "Processing 00000000.tx.1: ERS1871403jomifdasfdLatitudebmioasdgaisEnd,42.492\r\n",
      "\r\n",
      "Processing 00000000.tx.1: ERS1871404jomifdasfdENAbmioasdgaisFIRSTbmioasdgaisPUBLIC,  08 21\r\n",
      "\r\n",
      "Processing 00000000.tx.1: ERS1871406jomifdasfdLatitudebmioasdgaisStart,42.487\r\n",
      "\r\n",
      "Processing 00000000.tx.1: ERS1871407jomifdasfdENAbmioasdgaisLASTbmioasdgaisUPDATE,  08 14\r\n",
      "\r\n",
      "Processing 00000000.tx.1: ERS1871409jomifdasfdLongitudebmioasdgaisEnd,3.165\r\n",
      "\r\n",
      "Processing 00000000.tx.1: ERS1871411jomifdasfdTITLE,emose  z day1 pump srf (3m) seq (100l on membrane) w>20 n\r\n",
      "\r\n",
      "Processing 00000000.tx.1: ERS1871412jomifdasfdLongitudebmioasdgaisStart,3.169\r\n",
      "\r\n",
      "Processing 00000000.tx.1: ERS1871416jomifdasfdDESCRIPTION,this sample was created in silico using samples ERS1871416jomifdasfdDESCRIPTION,this sample, ERS1871416jomifdasfdDESCRIPTION,this sample, ERS1871416jomifdasfdDESCRIPTION,this sample, ERS1871416jomifdasfdDESCRIPTION,this sample and ERS1871416jomifdasfdDESCRIPTION,this sample. the latter samples were collected on board the rv nereis ii (observatoire oceanologique de banyuls), using a high volume well pump, in the context of the emose ( ) inter comparison of marine plankton metagenome analysis methods. the sampling event (emose  z day1 event pump) occurred at position latituden=42.\r\n",
      "\r\n",
      "Processing 00000000.tx.2: and longitudee=003.\r\n",
      "\r\n",
      "Processing 00000000.tx.3: , on date/time=  05 30t07:46z00, at a depth of 3 m. the sample material was collected in the marine biome (envo: ) targeting a [srf] surface water layer (envo: ).\r\n",
      "\r\n",
      "Processing 00000000.tx.4: the sample material was size fractionated and prepared back in the lab using protocol [sequencing (100l on membrane) w0.22 3] for later detection and identification of biological and molecular entities (nucleotides) by sequencing methods. the pooled samples were extracted separately and parts of the dna from each replicate (200 ng each) were pooled before sequencing. this sample may be used for example in biodiversity and metagenomics studies of prokaryotes and eukaryotes. this sample has replicate sample(s): none.\r\n",
      "### MetaMap ERROR: skr_phrase failed on 00000000.tx.4 [pron([lexmatch([none]),inputmatch([none]),tag(pron),tokens([none])]),punc([inputmatch([.]),tokens([])])]\r\n",
      "\r\n",
      "metamap\r\n",
      "processing :  /cellar/users/btsui/Data/nrnb01_nobackup/METAMAP/splittedInput_allAttrib.v5.csv//13\r\n"
     ]
    }
   ],
   "source": [
    "!tail -n 50 /cellar/users/btsui/Data/nrnb01_nobackup/METAMAP/sgeOut/metamapWrapper.sh.o344924.13"
   ]
  },
  {
   "cell_type": "code",
   "execution_count": 68,
   "metadata": {
    "collapsed": false
   },
   "outputs": [
    {
     "name": "stdout",
     "output_type": "stream",
     "text": [
      "\r\n",
      "Processing 00000000.tx.1: SRS1046413jomifdasfdSCIENTIFICbmioasdgaisNAME,escherichia coli o157\r\n",
      "\r\n",
      "Processing 00000000.tx.1: SRS1046416jomifdasfdpathotype,stec\r\n",
      "\r\n",
      "Processing 00000000.tx.1: SRS1046420jomifdasfdlatbmioasdgaislon,not collected\r\n",
      "\r\n",
      "Processing 00000000.tx.1: SRS956302jomifdasfdhostbmioasdgaisdisease,stec diarrhoeal disease\r\n",
      "\r\n",
      "Processing 00000000.tx.1: SRS636523jomifdasfdmolecularbmioasdgaisdatabmioasdgaistype,whole exome (ngs)\r\n",
      "\r\n",
      "Processing 00000000.tx.1: SRS1102576jomifdasfdTITLE,heavy drinker 1 small rna peripheral blood mononuclear cells day 7 post mva vaccination\r\n",
      "\r\n",
      "Processing 00000000.tx.1: SRS1144748jomifdasfdSUBMITTERbmioasdgaisID,mt 04\r\n",
      "\r\n",
      "Processing 00000000.tx.1: ERS1871371jomifdasfdTITLE,emose  z day1 pump srf (3m) seq (1l on sterivex) w>0.22 n\r\n",
      "\r\n",
      "Processing 00000000.tx.1: ERS1871372jomifdasfdLongitudebmioasdgaisStart,3.169\r\n",
      "\r\n",
      "Processing 00000000.tx.1: ERS1871374jomifdasfdDESCRIPTION,this sample was created in silico using samples ERS1871374jomifdasfdDESCRIPTION,this sample, ERS1871374jomifdasfdDESCRIPTION,this sample, ERS1871374jomifdasfdDESCRIPTION,this sample and ERS1871374jomifdasfdDESCRIPTION,this sample. the latter samples were collected on board the rv nereis ii (observatoire oceanologique de banyuls), using a high volume well pump, in the context of the emose ( ) inter comparison of marine plankton metagenome analysis methods. the sampling event (emose  z day1 event pump) occurred at position latituden=42.\r\n",
      "\r\n",
      "Processing 00000000.tx.2: and longitudee=003.\r\n",
      "\r\n",
      "Processing 00000000.tx.3: , on date/time=  05 30t07:46z00, at a depth of 3 m. the sample material was collected in the marine biome (envo: ) targeting a [srf] surface water layer (envo: ).\r\n",
      "\r\n",
      "Processing 00000000.tx.4: the sample material was size fractionated and prepared back in the lab using protocol [sequencing (2.5l on sterivex) w>0.22] for later detection and identification of biological and molecular entities (nucleotides) by sequencing methods. the pooled samples were extracted separately and parts of the dna from each replicate (100 ng each) were pooled before sequencing. this sample may be used for example in biodiversity and metagenomics studies of prokaryotes and eukaryotes. this sample has replicate sample(s): ERS1871374jomifdasfdDESCRIPTION,this sample,ERS1871374jomifdasfdDESCRIPTION,this sample.\r\n",
      "### MetaMap ERROR: skr_phrase failed on 00000000.tx.4 [det([lexmatch([this]),inputmatch([this]),tag(det),tokens([this])]),head([lexmatch([sample]),inputmatch([sample]),tag(noun),tokens([sample])]),punc([inputmatch([.]),tokens([])])]\r\n",
      "\r\n",
      "metamap\r\n",
      "processing :  /cellar/users/btsui/Data/nrnb01_nobackup/METAMAP/splittedInput_allAttrib.v5.csv//23\r\n"
     ]
    }
   ],
   "source": [
    "!tail -n 30 /cellar/users/btsui/Data/nrnb01_nobackup/METAMAP/sgeOut/metamapWrapper.sh.o344934.23"
   ]
  },
  {
   "cell_type": "code",
   "execution_count": 69,
   "metadata": {
    "collapsed": false
   },
   "outputs": [
    {
     "name": "stdout",
     "output_type": "stream",
     "text": [
      "\r\n",
      "Processing 00000000.tx.1: ERS1871394jomifdasfdLastbmioasdgaisUpdatebmioasdgaisDate,  08 10z\r\n",
      "\r\n",
      "Processing 00000000.tx.1: ERS1871395jomifdasfdTemperature,15.5\r\n",
      "\r\n",
      "Processing 00000000.tx.1: ERS1871397jomifdasfdLatitudebmioasdgaisEnd,42.492\r\n",
      "\r\n",
      "Processing 00000000.tx.1: ERS1871398jomifdasfdENAbmioasdgaisFIRSTbmioasdgaisPUBLIC,  08 21\r\n",
      "\r\n",
      "Processing 00000000.tx.1: ERS1871402jomifdasfdLatitudebmioasdgaisStart,42.487\r\n",
      "\r\n",
      "Processing 00000000.tx.1: ERS1871403jomifdasfdENAbmioasdgaisLASTbmioasdgaisUPDATE,  08 14\r\n",
      "\r\n",
      "Processing 00000000.tx.1: ERS1871405jomifdasfdLongitudebmioasdgaisEnd,3.165\r\n",
      "\r\n",
      "Processing 00000000.tx.1: ERS1871407jomifdasfdTITLE,emose  z day1 pump srf (3m) seq (100l on membrane) w3 20 n\r\n",
      "\r\n",
      "Processing 00000000.tx.1: ERS1871408jomifdasfdLongitudebmioasdgaisStart,3.169\r\n",
      "\r\n",
      "Processing 00000000.tx.1: ERS1871410jomifdasfdDESCRIPTION,this sample was created in silico using samples ERS1871410jomifdasfdDESCRIPTION,this sample, ERS1871410jomifdasfdDESCRIPTION,this sample, ERS1871410jomifdasfdDESCRIPTION,this sample, ERS1871410jomifdasfdDESCRIPTION,this sample and ERS1871410jomifdasfdDESCRIPTION,this sample. the latter samples were collected on board the rv nereis ii (observatoire oceanologique de banyuls), using a high volume well pump, in the context of the emose ( ) inter comparison of marine plankton metagenome analysis methods. the sampling event (emose  z day1 event pump) occurred at position latituden=42.\r\n",
      "\r\n",
      "Processing 00000000.tx.2: and longitudee=003.\r\n",
      "\r\n",
      "Processing 00000000.tx.3: , on date/time=  05 30t07:46z00, at a depth of 3 m. the sample material was collected in the marine biome (envo: ) targeting a [srf] surface water layer (envo: ).\r\n",
      "\r\n",
      "Processing 00000000.tx.4: the sample material was size fractionated and prepared back in the lab using protocol [sequencing (100l on membrane) w>20] for later detection and identification of biological and molecular entities (nucleotides) by sequencing methods. the pooled samples were extracted separately and parts of the dna from each replicate (200 ng each) were pooled before sequencing. this sample may be used for example in biodiversity and metagenomics studies of prokaryotes and eukaryotes. this sample has replicate sample(s): none.\r\n",
      "### MetaMap ERROR: skr_phrase failed on 00000000.tx.4 [pron([lexmatch([none]),inputmatch([none]),tag(pron),tokens([none])]),punc([inputmatch([.]),tokens([])])]\r\n",
      "\r\n",
      "metamap\r\n",
      "processing :  /cellar/users/btsui/Data/nrnb01_nobackup/METAMAP/splittedInput_allAttrib.v5.csv//31\r\n"
     ]
    }
   ],
   "source": [
    "!tail -n 30 /cellar/users/btsui/Data/nrnb01_nobackup/METAMAP/sgeOut/metamapWrapper.sh.o344942.31"
   ]
  },
  {
   "cell_type": "code",
   "execution_count": null,
   "metadata": {
    "collapsed": true
   },
   "outputs": [],
   "source": [
    " #metamapWrapper.sh.o344934.23 metamapWrapper.sh.o344942.31"
   ]
  },
  {
   "cell_type": "code",
   "execution_count": 66,
   "metadata": {
    "collapsed": false
   },
   "outputs": [
    {
     "name": "stdout",
     "output_type": "stream",
     "text": [
      "tail: cannot open '/cellar/users/btsui/Data/nrnb01_nobackup/METAMAP/sgeOut/23.out' for reading: No such file or directory\r\n"
     ]
    }
   ],
   "source": [
    "!tail /cellar/users/btsui/Data/nrnb01_nobackup/METAMAP/sgeOut/metamapWrapper.sh.o344924.13"
   ]
  },
  {
   "cell_type": "code",
   "execution_count": null,
   "metadata": {
    "collapsed": true
   },
   "outputs": [],
   "source": [
    "#23.out\n",
    "!tail /cellar/users/btsui/Data/nrnb01_nobackup/METAMAP/sgeOut/metamapWrapper.sh.o344924.13"
   ]
  },
  {
   "cell_type": "code",
   "execution_count": 45,
   "metadata": {
    "collapsed": false
   },
   "outputs": [],
   "source": [
    "nLinesProcessed=939830"
   ]
  },
  {
   "cell_type": "code",
   "execution_count": null,
   "metadata": {
    "collapsed": true
   },
   "outputs": [],
   "source": []
  },
  {
   "cell_type": "code",
   "execution_count": 48,
   "metadata": {
    "collapsed": true
   },
   "outputs": [],
   "source": [
    "nTotalLines=46851228"
   ]
  },
  {
   "cell_type": "code",
   "execution_count": 49,
   "metadata": {
    "collapsed": false
   },
   "outputs": [
    {
     "data": {
      "text/plain": [
       "1.0029939876922755"
      ]
     },
     "execution_count": 49,
     "metadata": {},
     "output_type": "execute_result"
    }
   ],
   "source": [
    "nLinesProcessed/(nTotalLines/50.0)"
   ]
  },
  {
   "cell_type": "code",
   "execution_count": 3,
   "metadata": {
    "collapsed": false
   },
   "outputs": [
    {
     "data": {
      "text/plain": [
       "75"
      ]
     },
     "execution_count": 3,
     "metadata": {},
     "output_type": "execute_result"
    }
   ],
   "source": [
    "len('NCCACGACCACGGCATGGTCTCTTTCATATGGCTCAAGGGTCAACTGCNCCTGCGGCTTCATGTTCTCCTGTTGC')"
   ]
  },
  {
   "cell_type": "code",
   "execution_count": null,
   "metadata": {
    "collapsed": true
   },
   "outputs": [],
   "source": [
    "Processing 00000000.tx.4: the sample material was size fractionated and prepared back in the lab using protocol [sequencing (100l on membrane) w0.22 3] for later detection and identification of biological and molecular entities (nucleotides) by sequencing methods. the pooled samples were extracted separately and parts of the dna from each replicate (200 ng each) were pooled before sequencing. this sample may be used for example in biodiversity and metagenomics studies of prokaryotes and eukaryotes. this sample has replicate sample(s): none.\n",
    "### MetaMap ERROR: skr_phrase failed on 00000000.tx.4 [pron([lexmatch([none]),inputmatch([none]),tag(pron),tokens([none])]),punc([inputmatch([.]),tokens([])])]"
   ]
  },
  {
   "cell_type": "code",
   "execution_count": null,
   "metadata": {
    "collapsed": true
   },
   "outputs": [],
   "source": [
    "Processing 00000000.tx.4: the sample material was size fractionated and prepared back in the lab using protocol [sequencing (100l on membrane) w0.22 3] for later detection and identification of biological and molecular entities (nucleotides) by sequencing methods. the pooled samples were extracted separately and parts of the dna from each replicate (200 ng each) were pooled before sequencing. this sample may be used for example in biodiversity and metagenomics studies of prokaryotes and eukaryotes. this sample has replicate sample(s): none.\n",
    "[sequencing (100l on membrane) w0.22 3]\n",
    "skrmedpostctl start\n",
    "wsdserverctl start"
   ]
  },
  {
   "cell_type": "code",
   "execution_count": null,
   "metadata": {
    "collapsed": true
   },
   "outputs": [],
   "source": [
    "btsui@nrnb-head-2:~/Data/nrnb01_nobackup/METAMAP/splittedInput_allAttrib.v5.csv$ wc -l /cellar/users/btsui/Data/nrnb01_nobackup/METAMAP/sgeOut/metamapWrapper.sh.o344924.13 \n",
    "303946 /cellar/users/btsui/Data/nrnb01_nobackup/METAMAP/sgeOut/metamapWrapper.sh.o344924.13"
   ]
  }
 ],
 "metadata": {
  "kernelspec": {
   "display_name": "Python 2",
   "language": "python",
   "name": "python2"
  },
  "language_info": {
   "codemirror_mode": {
    "name": "ipython",
    "version": 2
   },
   "file_extension": ".py",
   "mimetype": "text/x-python",
   "name": "python",
   "nbconvert_exporter": "python",
   "pygments_lexer": "ipython2",
   "version": "2.7.14"
  }
 },
 "nbformat": 4,
 "nbformat_minor": 0
}
