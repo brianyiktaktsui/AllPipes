{
 "cells": [
  {
   "cell_type": "code",
   "execution_count": 3,
   "metadata": {
    "collapsed": true
   },
   "outputs": [],
   "source": [
    "\"\"\"\n",
    "initialization on library\n",
    "\"\"\"\n",
    "import networkx as nx\n",
    "import sys\n",
    "import pandas as pd\n",
    "from itertools import combinations\n",
    "\n",
    "import numpy as np\n",
    "import os\n",
    "import NCITerminology as NCI\n",
    "#%matplotlib inline\n",
    "sys.path.append('/cellar/users/btsui/Project/METAMAP/code/metamap')\n",
    "import sharedVariable as sh\n",
    "import seaborn as sns\n",
    "\"\"\"\n",
    "paramters setting for pdf\n",
    "\"\"\"\n",
    "import matplotlib as mpl\n",
    "from scipy.spatial.distance import cdist\n",
    "\n",
    "import matplotlib.pyplot as plt\n",
    "mpl.rcParams['pdf.fonttype'] = 42\n",
    "mpl.rcParams['legend.numpoints'] = 1\n",
    "mpl.rc('xtick', labelsize=15) \n",
    "mpl.rc('ytick', labelsize=15) \n",
    "mpl.rcParams['figure.subplot.bottom']=0.3\n",
    "mpl.rcParams['figure.subplot.left']=0.3\n",
    "import pylab as plot\n",
    "#params = {'legend.fontsize': 20}\n",
    "\n",
    "params = {'font.size': 15,'lines.linewidth':3}\n",
    "plot.rcParams.update(params)"
   ]
  },
  {
   "cell_type": "markdown",
   "metadata": {},
   "source": [
    "## data directories\n"
   ]
  },
  {
   "cell_type": "code",
   "execution_count": 4,
   "metadata": {
    "collapsed": true
   },
   "outputs": [],
   "source": [
    "metaDataMappingSDir='/cellar/users/btsui/Data/nrnb01_nobackup/METAMAP//input/allAttrib.v5.csv.pyc'\n",
    "#sraDumpDir='/scratch/btsui/Data/SRA/DUMP/SRA_Run_Members.tab'\n",
    "parentFilteredNciDfDir='./MappingData/parent_filtered_NciDf.csv'\n",
    "parentFilteredNciDf_pickleDir='./MappingData/parent_filtered_NciDf.pickle'"
   ]
  },
  {
   "cell_type": "code",
   "execution_count": 5,
   "metadata": {},
   "outputs": [
    {
     "name": "stdout",
     "output_type": "stream",
     "text": [
      "-rw-r--r-- 1 btsui users 1.0G Jan 30 10:40 /cellar/users/btsui/Data/nrnb01_nobackup/METAMAP//input/allAttrib.v5.csv.NCI.prefilter.pyc\r\n"
     ]
    }
   ],
   "source": [
    "!ls -alth /cellar/users/btsui/Data/nrnb01_nobackup/METAMAP//input/allAttrib.v5.csv.NCI.prefilter.pyc"
   ]
  },
  {
   "cell_type": "markdown",
   "metadata": {},
   "source": [
    "## paramters"
   ]
  },
  {
   "cell_type": "code",
   "execution_count": 6,
   "metadata": {
    "collapsed": true
   },
   "outputs": [],
   "source": [
    "nonSpecificTerms=[]#['Embryo','Embryonic Cell','Fetus','Cell','Tissue','Stem Cell','Cell Line','Organ','Central Nervous System Part']\n",
    "\n",
    "indexSpacingCharKey='jomifdasfd'\n",
    "attributeSpacingCharKey='bmioasdgais'"
   ]
  },
  {
   "cell_type": "markdown",
   "metadata": {},
   "source": [
    "## data loading"
   ]
  },
  {
   "cell_type": "code",
   "execution_count": 7,
   "metadata": {
    "collapsed": true
   },
   "outputs": [],
   "source": [
    "cuiS=pd.read_pickle(metaDataMappingSDir)"
   ]
  },
  {
   "cell_type": "code",
   "execution_count": 8,
   "metadata": {
    "collapsed": true
   },
   "outputs": [],
   "source": [
    "#sra_dumpDf=pd.DataFrame.from_csv(sraDumpDir,sep='\\t')"
   ]
  },
  {
   "cell_type": "code",
   "execution_count": 9,
   "metadata": {},
   "outputs": [
    {
     "data": {
      "text/plain": [
       "\"\\ndataInDir='/cellar/users/btsui/Data/nrnb01_nobackup/Data/SRA/MATRIX/DATA/'\\nprocessedSpecies=os.listdir(dataInDir)\\nprocessedSrrs=[]\\nfor specie in processedSpecies:\\n    with open(dataInDir+specie+'/'+'allSRAmatrix.realign.row.txt') as f:\\n        specieProcessedSrr=f.read().split('\\n')\\n        processedSrrs+=specieProcessedSrr\\nprocessedSrs=sra_dumpDf.Sample.loc[processedSrrs] \\n\""
      ]
     },
     "execution_count": 9,
     "metadata": {},
     "output_type": "execute_result"
    }
   ],
   "source": [
    "\"\"\"\n",
    "dataInDir='/cellar/users/btsui/Data/nrnb01_nobackup/Data/SRA/MATRIX/DATA/'\n",
    "processedSpecies=os.listdir(dataInDir)\n",
    "processedSrrs=[]\n",
    "for specie in processedSpecies:\n",
    "    with open(dataInDir+specie+'/'+'allSRAmatrix.realign.row.txt') as f:\n",
    "        specieProcessedSrr=f.read().split('\\n')\n",
    "        processedSrrs+=specieProcessedSrr\n",
    "processedSrs=sra_dumpDf.Sample.loc[processedSrrs] \n",
    "\"\"\""
   ]
  },
  {
   "cell_type": "markdown",
   "metadata": {},
   "source": [
    "## initialization"
   ]
  },
  {
   "cell_type": "code",
   "execution_count": null,
   "metadata": {
    "collapsed": true
   },
   "outputs": [],
   "source": []
  },
  {
   "cell_type": "code",
   "execution_count": 10,
   "metadata": {},
   "outputs": [],
   "source": [
    "onto=NCI.NCITerminology()\n",
    "is_a_rels=onto.relToEng[onto.relToEng.str.lower().str.contains('has[\\w_]+_parent')].index.tolist()+['is_a','R82','R44','R52']\n",
    "\"\"\"\n",
    "nodes()\n",
    "\"\"\"\n",
    "validRels=is_a_rels\n",
    "onto.setCellOntoEdgeSubset(validRels)"
   ]
  },
  {
   "cell_type": "code",
   "execution_count": 11,
   "metadata": {},
   "outputs": [
    {
     "name": "stdout",
     "output_type": "stream",
     "text": [
      "('egdge subsets: ', ['A10', 'A11', 'is_a', 'R82', 'R44', 'R52'])\n"
     ]
    }
   ],
   "source": [
    "print ('egdge subsets: ',validRels)"
   ]
  },
  {
   "cell_type": "code",
   "execution_count": 12,
   "metadata": {},
   "outputs": [
    {
     "name": "stdout",
     "output_type": "stream",
     "text": [
      "('is directed acyclic graph: ', False)\n"
     ]
    }
   ],
   "source": [
    "print ('is directed acyclic graph: ',nx.is_directed_acyclic_graph(onto.cellOntoSubset))"
   ]
  },
  {
   "cell_type": "code",
   "execution_count": 13,
   "metadata": {
    "collapsed": true
   },
   "outputs": [],
   "source": [
    "nonSpecificCUIs=onto.cleanedIdS[onto.cleanedIdS.isin(nonSpecificTerms)].index.tolist()\n",
    "generalTerms=nonSpecificCUIs\n",
    "#gtexTissueMappingS=pd.Series(gtexTissueMapping)"
   ]
  },
  {
   "cell_type": "markdown",
   "metadata": {},
   "source": [
    "# data cleaning"
   ]
  },
  {
   "cell_type": "markdown",
   "metadata": {},
   "source": [
    "#### make the index level fully hierachical"
   ]
  },
  {
   "cell_type": "code",
   "execution_count": 14,
   "metadata": {
    "collapsed": true
   },
   "outputs": [],
   "source": [
    " #extract srs vector, attrib vector and CUI vector\n",
    "l1Index=cuiS.index.get_level_values(0) \n",
    "srsIndex=l1Index.str.extract(\"([A-Z]RS\\d+)\"+indexSpacingCharKey,expand=False) \n",
    "tmpAttribIndex=l1Index.str.replace(\"[A-Z]RS\\d+\"+indexSpacingCharKey,\"\") #extract \n",
    "characterKeyRemovedIndex=tmpAttribIndex.str.replace(attributeSpacingCharKey,' ')\n",
    "CUIIndex=cuiS.index.get_level_values(1)"
   ]
  },
  {
   "cell_type": "code",
   "execution_count": 15,
   "metadata": {
    "collapsed": true
   },
   "outputs": [],
   "source": [
    "#create the series\n",
    "newMultI=pd.MultiIndex.from_arrays([srsIndex,characterKeyRemovedIndex,CUIIndex])\n",
    "triLevCuiS=pd.Series(index=newMultI,data=cuiS.values)\n",
    "triLevCuiS.index.names=['srs','attrib','CUI']"
   ]
  },
  {
   "cell_type": "markdown",
   "metadata": {},
   "source": [
    "#### get NCI translatble CUIs "
   ]
  },
  {
   "cell_type": "code",
   "execution_count": 16,
   "metadata": {
    "collapsed": true
   },
   "outputs": [],
   "source": [
    "uniqueCUIs=triLevCuiS.index.get_level_values('CUI').unique()"
   ]
  },
  {
   "cell_type": "code",
   "execution_count": 17,
   "metadata": {
    "collapsed": true
   },
   "outputs": [],
   "source": [
    "\n",
    "#get only CUIs with english and UMLS translation\n",
    "intersectCUIs=np.intersect1d(uniqueCUIs,onto.UMLSToID[onto.UMLSToID.isin(onto.cleanedIdS.index)].index)"
   ]
  },
  {
   "cell_type": "code",
   "execution_count": 18,
   "metadata": {},
   "outputs": [
    {
     "name": "stdout",
     "output_type": "stream",
     "text": [
      "('CUI to NCI id conversion rate ', 0.9641148325358851)\n"
     ]
    }
   ],
   "source": [
    "print ('CUI to NCI id conversion rate ',float(len(intersectCUIs))/len(uniqueCUIs))"
   ]
  },
  {
   "cell_type": "code",
   "execution_count": 19,
   "metadata": {
    "collapsed": true
   },
   "outputs": [],
   "source": [
    "subCuiS=triLevCuiS[triLevCuiS.index.get_level_values('CUI').isin(intersectCUIs)]"
   ]
  },
  {
   "cell_type": "code",
   "execution_count": 20,
   "metadata": {
    "collapsed": true
   },
   "outputs": [],
   "source": [
    "NCIDf=subCuiS.reset_index(name='score')\n",
    "NCIDf['NCI']=onto.UMLSToID.loc[NCIDf.CUI].values\n",
    "NCIDf.score=np.abs(NCIDf.score)"
   ]
  },
  {
   "cell_type": "code",
   "execution_count": 21,
   "metadata": {
    "collapsed": true
   },
   "outputs": [],
   "source": [
    "prefiltered_dir=metaDataMappingSDir.replace('.pyc','.NCI.prefilter.pyc')"
   ]
  },
  {
   "cell_type": "code",
   "execution_count": 22,
   "metadata": {
    "collapsed": true
   },
   "outputs": [],
   "source": [
    "nciEngS=onto.cleanedIdS.loc[NCIDf.NCI]"
   ]
  },
  {
   "cell_type": "code",
   "execution_count": 23,
   "metadata": {
    "collapsed": true
   },
   "outputs": [],
   "source": [
    "NCIDf.loc[:,'NciEng']=nciEngS.values"
   ]
  },
  {
   "cell_type": "code",
   "execution_count": 24,
   "metadata": {
    "collapsed": true
   },
   "outputs": [],
   "source": [
    "#NCIDf.to_pickle(prefiltered_dir)"
   ]
  },
  {
   "cell_type": "code",
   "execution_count": 25,
   "metadata": {
    "collapsed": true
   },
   "outputs": [],
   "source": [
    "#cate_NCIDf=NCIDf.apply(lambda S:S.astype('category'),axis=0)"
   ]
  },
  {
   "cell_type": "code",
   "execution_count": 27,
   "metadata": {},
   "outputs": [],
   "source": [
    "NCIDf.to_pickle(prefiltered_dir)"
   ]
  },
  {
   "cell_type": "code",
   "execution_count": null,
   "metadata": {},
   "outputs": [],
   "source": []
  },
  {
   "cell_type": "code",
   "execution_count": 24,
   "metadata": {},
   "outputs": [
    {
     "name": "stdout",
     "output_type": "stream",
     "text": [
      "-rw-r--r-- 1 btsui users 1012M Jan 26 20:58 /cellar/users/btsui/Data/nrnb01_nobackup/METAMAP//input/allAttrib.v5.csv.NCI.prefilter.pyc\r\n"
     ]
    }
   ],
   "source": [
    "!ls -lah /cellar/users/btsui/Data/nrnb01_nobackup/METAMAP//input/allAttrib.v5.csv.NCI.prefilter.pyc"
   ]
  },
  {
   "cell_type": "markdown",
   "metadata": {},
   "source": [
    "### get childern"
   ]
  },
  {
   "cell_type": "code",
   "execution_count": 9,
   "metadata": {},
   "outputs": [
    {
     "ename": "NameError",
     "evalue": "name 'cate_NCIDf' is not defined",
     "output_type": "error",
     "traceback": [
      "\u001b[0;31m---------------------------------------------------------------------------\u001b[0m",
      "\u001b[0;31mNameError\u001b[0m                                 Traceback (most recent call last)",
      "\u001b[0;32m<ipython-input-9-c38ea9e219a9>\u001b[0m in \u001b[0;36m<module>\u001b[0;34m()\u001b[0m\n\u001b[0;32m----> 1\u001b[0;31m \u001b[0mcate_NCIDf\u001b[0m\u001b[0;34m\u001b[0m\u001b[0m\n\u001b[0m",
      "\u001b[0;31mNameError\u001b[0m: name 'cate_NCIDf' is not defined"
     ]
    }
   ],
   "source": []
  },
  {
   "cell_type": "code",
   "execution_count": 20,
   "metadata": {
    "collapsed": true
   },
   "outputs": [],
   "source": [
    "NCIDf.loc[:,'NciEng']=nciEngS.values"
   ]
  },
  {
   "cell_type": "code",
   "execution_count": 21,
   "metadata": {
    "collapsed": true
   },
   "outputs": [],
   "source": [
    "sortedNCIDf=NCIDf.sort_values(by=['srs','attrib'])"
   ]
  },
  {
   "cell_type": "code",
   "execution_count": null,
   "metadata": {
    "collapsed": true
   },
   "outputs": [],
   "source": []
  },
  {
   "cell_type": "markdown",
   "metadata": {},
   "source": [
    "### filter parent terms"
   ]
  },
  {
   "cell_type": "code",
   "execution_count": 22,
   "metadata": {
    "collapsed": true
   },
   "outputs": [],
   "source": [
    "#withinGraphNodeDf=sortedNCIDf[sortedNCIDf.NCI.isin(onto.cellOntoSubset)&(sortedNCIDf.srs=='SRS945312')]\n",
    "withinGraphNodeDf=sortedNCIDf[sortedNCIDf.NCI.isin(onto.cellOntoSubset)]#.NciEng.value_counts()#.mean()"
   ]
  },
  {
   "cell_type": "code",
   "execution_count": 23,
   "metadata": {
    "collapsed": true
   },
   "outputs": [],
   "source": [
    "#withinGraphNodeDf"
   ]
  },
  {
   "cell_type": "code",
   "execution_count": 24,
   "metadata": {
    "scrolled": true
   },
   "outputs": [
    {
     "name": "stdout",
     "output_type": "stream",
     "text": [
      "10000\n",
      "20000\n",
      "30000\n",
      "40000\n",
      "50000\n",
      "60000\n",
      "70000\n",
      "80000\n",
      "90000\n",
      "100000\n",
      "110000\n",
      "120000\n",
      "130000\n",
      "140000\n",
      "150000\n",
      "160000\n",
      "170000\n",
      "180000\n",
      "190000\n",
      "200000\n",
      "210000\n",
      "220000\n",
      "230000\n",
      "240000\n",
      "250000\n",
      "260000\n",
      "270000\n",
      "280000\n",
      "290000\n",
      "300000\n",
      "310000\n",
      "320000\n",
      "330000\n",
      "340000\n",
      "350000\n",
      "360000\n",
      "370000\n",
      "380000\n",
      "390000\n",
      "400000\n",
      "410000\n",
      "420000\n",
      "430000\n",
      "440000\n",
      "450000\n",
      "460000\n",
      "470000\n",
      "480000\n",
      "490000\n",
      "500000\n",
      "510000\n",
      "520000\n",
      "530000\n",
      "540000\n",
      "550000\n",
      "560000\n"
     ]
    }
   ],
   "source": [
    "#filter the parent terms\n",
    "#srsList, attribList, CUIList, ScoreList=[],[],[],[]\n",
    "#run until 540000\n",
    "maskList=[] \n",
    "i=0\n",
    "orderingTmpList=[]\n",
    "for (srs,attrib), tmpCuiDf in withinGraphNodeDf.groupby(by=['srs','attrib'],sort=False):\n",
    "    termList= tmpCuiDf['NCI'].values\n",
    "\n",
    "    filterTerm=[]\n",
    "    for a,b in combinations(termList,2) :\n",
    "        if (nx.has_path(onto.cellOntoSubset,a,b)):\n",
    "            filterTerm.append(b)\n",
    "        if (nx.has_path(onto.cellOntoSubset,b,a)):\n",
    "            filterTerm.append(a)\n",
    "    maskList+=(~tmpCuiDf.NCI.isin(filterTerm)).tolist() #\n",
    "    maskList\n",
    "    orderingTmpList.append((srs,attrib))\n",
    "    i+=1\n",
    "    if i%10000==0:\n",
    "        print i\n"
   ]
  },
  {
   "cell_type": "code",
   "execution_count": 25,
   "metadata": {
    "collapsed": true
   },
   "outputs": [],
   "source": [
    "mask=np.array(maskList) #mask out the parent terms"
   ]
  },
  {
   "cell_type": "code",
   "execution_count": 26,
   "metadata": {
    "collapsed": true
   },
   "outputs": [],
   "source": [
    "parentFilteredNCIDf=withinGraphNodeDf[mask]"
   ]
  },
  {
   "cell_type": "code",
   "execution_count": 27,
   "metadata": {
    "collapsed": true
   },
   "outputs": [],
   "source": [
    "parentFilteredNCIDf.index=np.arange(parentFilteredNCIDf.shape[0])"
   ]
  },
  {
   "cell_type": "code",
   "execution_count": 28,
   "metadata": {
    "collapsed": true
   },
   "outputs": [],
   "source": [
    "reorderedDf=parentFilteredNCIDf[['srs','NciEng','attrib','score','NCI','CUI']]\n",
    "reorderedDf.to_csv(parentFilteredNciDfDir)"
   ]
  },
  {
   "cell_type": "code",
   "execution_count": 30,
   "metadata": {
    "collapsed": true
   },
   "outputs": [],
   "source": [
    "tmpDf=reorderedDf.set_index(['srs','attrib','NciEng','NCI','CUI'])\n",
    "tmpDf.index.names=['Sample','attribute','NCIT_Eng','NCIT_ID','NLM_CUI']\n",
    "tmpDf.columns=['metamap_score']\n",
    "tmpDf.to_pickle(parentFilteredNciDf_pickleDir)"
   ]
  },
  {
   "cell_type": "code",
   "execution_count": 26,
   "metadata": {},
   "outputs": [
    {
     "ename": "NameError",
     "evalue": "name 'tmpDf' is not defined",
     "output_type": "error",
     "traceback": [
      "\u001b[1;31m---------------------------------------------------------------------------\u001b[0m",
      "\u001b[1;31mNameError\u001b[0m                                 Traceback (most recent call last)",
      "\u001b[1;32m<ipython-input-26-cc0d5e72b65e>\u001b[0m in \u001b[0;36m<module>\u001b[1;34m()\u001b[0m\n\u001b[1;32m----> 1\u001b[1;33m \u001b[0mtmpDf\u001b[0m\u001b[1;33m\u001b[0m\u001b[0m\n\u001b[0m",
      "\u001b[1;31mNameError\u001b[0m: name 'tmpDf' is not defined"
     ]
    }
   ],
   "source": []
  },
  {
   "cell_type": "code",
   "execution_count": null,
   "metadata": {
    "collapsed": true
   },
   "outputs": [],
   "source": [
    "###"
   ]
  },
  {
   "cell_type": "markdown",
   "metadata": {},
   "source": [
    "## scratch"
   ]
  },
  {
   "cell_type": "code",
   "execution_count": null,
   "metadata": {
    "collapsed": true
   },
   "outputs": [],
   "source": [
    "asdasdasd"
   ]
  },
  {
   "cell_type": "code",
   "execution_count": null,
   "metadata": {
    "collapsed": true
   },
   "outputs": [],
   "source": [
    "#withinGraphNodeDf[withinGraphNodeDf.srs=='SRS1090684']"
   ]
  },
  {
   "cell_type": "markdown",
   "metadata": {},
   "source": [
    "### find set of edges that make sense"
   ]
  },
  {
   "cell_type": "markdown",
   "metadata": {},
   "source": [
    "is graph acyclic?"
   ]
  },
  {
   "cell_type": "code",
   "execution_count": null,
   "metadata": {
    "collapsed": true
   },
   "outputs": [],
   "source": [
    "nx.is_directed_acyclic_graph(onto.cellOnto)"
   ]
  },
  {
   "cell_type": "code",
   "execution_count": null,
   "metadata": {
    "collapsed": true
   },
   "outputs": [],
   "source": [
    "#check number of attruisimple cycles\n"
   ]
  },
  {
   "cell_type": "code",
   "execution_count": null,
   "metadata": {
    "collapsed": true
   },
   "outputs": [],
   "source": [
    "#nciInTest='C20141'\n",
    "#for in onto.cellOnto"
   ]
  },
  {
   "cell_type": "code",
   "execution_count": null,
   "metadata": {
    "collapsed": true
   },
   "outputs": [],
   "source": [
    "#srsS[srsS.index.get_level_values(1)=='genotype']\n",
    "#srsS"
   ]
  },
  {
   "cell_type": "markdown",
   "metadata": {
    "scrolled": false
   },
   "source": [
    "debug: group by yield different ordering for the srs\n",
    "if the order of group"
   ]
  },
  {
   "cell_type": "code",
   "execution_count": null,
   "metadata": {
    "collapsed": true
   },
   "outputs": [],
   "source": [
    "NCIDf.iloc[:len(mask)][mask]"
   ]
  },
  {
   "cell_type": "code",
   "execution_count": null,
   "metadata": {
    "collapsed": true
   },
   "outputs": [],
   "source": [
    "#import pandas as pd"
   ]
  },
  {
   "cell_type": "code",
   "execution_count": null,
   "metadata": {
    "collapsed": true
   },
   "outputs": [],
   "source": [
    "#tmpDf=pd.read_csv('./MappingData/prefilter_NCIDf.csv')"
   ]
  },
  {
   "cell_type": "code",
   "execution_count": null,
   "metadata": {
    "collapsed": true
   },
   "outputs": [],
   "source": [
    "#tmpDf.drop_duplicates(['srs','attrib']).shape"
   ]
  },
  {
   "cell_type": "code",
   "execution_count": null,
   "metadata": {
    "collapsed": true
   },
   "outputs": [],
   "source": []
  }
 ],
 "metadata": {
  "kernelspec": {
   "display_name": "Python 2",
   "language": "python",
   "name": "python2"
  },
  "language_info": {
   "codemirror_mode": {
    "name": "ipython",
    "version": 2
   },
   "file_extension": ".py",
   "mimetype": "text/x-python",
   "name": "python",
   "nbconvert_exporter": "python",
   "pygments_lexer": "ipython2",
   "version": "2.7.14"
  }
 },
 "nbformat": 4,
 "nbformat_minor": 1
}
