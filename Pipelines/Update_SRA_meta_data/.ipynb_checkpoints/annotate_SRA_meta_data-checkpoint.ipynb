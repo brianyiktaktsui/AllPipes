{
 "cells": [
  {
   "cell_type": "code",
   "execution_count": 1,
   "metadata": {
    "collapsed": true
   },
   "outputs": [],
   "source": [
    "import pandas as pd\n",
    "import numpy as np"
   ]
  },
  {
   "cell_type": "markdown",
   "metadata": {},
   "source": [
    "directory of meta data ftp://ftp.ncbi.nlm.nih.gov/sra/reports/Metadata"
   ]
  },
  {
   "cell_type": "markdown",
   "metadata": {},
   "source": [
    "### input directory"
   ]
  },
  {
   "cell_type": "code",
   "execution_count": 2,
   "metadata": {
    "collapsed": true
   },
   "outputs": [],
   "source": [
    "\n",
    "basePickleDir='/data/cellardata/users/btsui/SRA/DUMP/'\n",
    "accessionProjDir='/data/cellardata/users/btsui/SRA/DUMP/SRA_Accessions.tab'\n",
    "accessionDir='/data/cellardata/users/btsui/SRA/DUMP/SRA_Run_Members.tab'"
   ]
  },
  {
   "cell_type": "code",
   "execution_count": 3,
   "metadata": {
    "collapsed": true
   },
   "outputs": [],
   "source": [
    "srsMergedS=pd.read_pickle(basePickleDir+'allSRS.pickle.gz')\n",
    "srxMergedS=pd.read_pickle(basePickleDir+'allSRX.pickle.gz')"
   ]
  },
  {
   "cell_type": "markdown",
   "metadata": {},
   "source": [
    "### output directory"
   ]
  },
  {
   "cell_type": "code",
   "execution_count": 4,
   "metadata": {
    "collapsed": true
   },
   "outputs": [],
   "source": [
    "sra_dump_csv_dir='/cellar/users/btsui/Data/SRA/DUMP/sra_dump.csv.gz'\n",
    "sra_dump_pickle_dir='/cellar/users/btsui/Data/SRA/DUMP/sra_dump.pickle'\n"
   ]
  },
  {
   "cell_type": "code",
   "execution_count": 5,
   "metadata": {},
   "outputs": [
    {
     "name": "stderr",
     "output_type": "stream",
     "text": [
      "/cellar/users/btsui/anaconda2/lib/python2.7/site-packages/IPython/core/interactiveshell.py:2822: DtypeWarning: Columns (13) have mixed types. Specify dtype option on import or set low_memory=False.\n",
      "  if self.run_code(code, result):\n"
     ]
    }
   ],
   "source": [
    "projAccessDf=pd.DataFrame.from_csv(accessionProjDir,sep='\\t')"
   ]
  },
  {
   "cell_type": "code",
   "execution_count": 6,
   "metadata": {},
   "outputs": [
    {
     "name": "stderr",
     "output_type": "stream",
     "text": [
      "/cellar/users/btsui/anaconda2/lib/python2.7/site-packages/IPython/core/interactiveshell.py:2822: DtypeWarning: Columns (5,6) have mixed types. Specify dtype option on import or set low_memory=False.\n",
      "  if self.run_code(code, result):\n"
     ]
    }
   ],
   "source": [
    "accessionDf=pd.DataFrame.from_csv(accessionDir,sep='\\t')"
   ]
  },
  {
   "cell_type": "markdown",
   "metadata": {},
   "source": [
    "### filter onto only human mouse, and zebra fish data"
   ]
  },
  {
   "cell_type": "code",
   "execution_count": 7,
   "metadata": {
    "collapsed": true
   },
   "outputs": [],
   "source": [
    "validScientificNameSrs=srsMergedS[srsMergedS.index.get_level_values(1)=='SCIENTIFIC_NAME']#[scientific_nameS.isin({'Homo sapiens','Mus musculus'})]\n",
    "#rename the genomes to match the data"
   ]
  },
  {
   "cell_type": "code",
   "execution_count": 8,
   "metadata": {
    "collapsed": true
   },
   "outputs": [],
   "source": [
    "#validSrs=validScientificNameSrs.index.get_level_values(0)"
   ]
  },
  {
   "cell_type": "code",
   "execution_count": 9,
   "metadata": {
    "collapsed": true
   },
   "outputs": [],
   "source": [
    "srsToSpecies=pd.Series( index=validScientificNameSrs.index.get_level_values(0),data=validScientificNameSrs.values)\n",
    "\n",
    "uniqueSrsToSpeciesS=srsToSpecies.groupby(srsToSpecies.index).first()"
   ]
  },
  {
   "cell_type": "markdown",
   "metadata": {},
   "source": [
    "### filter onto to RNA-seq"
   ]
  },
  {
   "cell_type": "code",
   "execution_count": 10,
   "metadata": {},
   "outputs": [
    {
     "data": {
      "text/plain": [
       "ERX1269638  TITLE                Illumina HiSeq 1500 paired end sequencing\n",
       "            LIBRARY_STRATEGY                                           EST\n",
       "            LIBRARY_SOURCE                                         GENOMIC\n",
       "            LIBRARY_SELECTION                                       RANDOM\n",
       "            LIBRARY_LAYOUT                                          PAIRED\n",
       "ERX1269639  TITLE                Illumina HiSeq 1500 paired end sequencing\n",
       "dtype: object"
      ]
     },
     "execution_count": 10,
     "metadata": {},
     "output_type": "execute_result"
    }
   ],
   "source": [
    "srxMergedS.head(n=6)"
   ]
  },
  {
   "cell_type": "code",
   "execution_count": 11,
   "metadata": {
    "collapsed": true
   },
   "outputs": [],
   "source": [
    "layoutS=srxMergedS[srxMergedS.index.get_level_values(1)=='LIBRARY_LAYOUT'].groupby(level=0).first()\n",
    "\n",
    "libraryS=srxMergedS[srxMergedS.index.get_level_values(1)=='LIBRARY_STRATEGY'].groupby(level=0).first()"
   ]
  },
  {
   "cell_type": "code",
   "execution_count": 12,
   "metadata": {
    "collapsed": true
   },
   "outputs": [],
   "source": [
    "srxToSeqS =libraryS.groupby(level=0).first()"
   ]
  },
  {
   "cell_type": "code",
   "execution_count": 13,
   "metadata": {
    "collapsed": true
   },
   "outputs": [],
   "source": [
    "validSrx=srxToSeqS.index.get_level_values(0)"
   ]
  },
  {
   "cell_type": "markdown",
   "metadata": {},
   "source": [
    "## take only runs that satisfy both srx and srs filter"
   ]
  },
  {
   "cell_type": "code",
   "execution_count": 14,
   "metadata": {
    "collapsed": true
   },
   "outputs": [],
   "source": [
    "subAccessionDf=accessionDf[accessionDf.Sample.isin(uniqueSrsToSpeciesS.index)&accessionDf.Experiment.isin(srxToSeqS.index)]"
   ]
  },
  {
   "cell_type": "code",
   "execution_count": 15,
   "metadata": {},
   "outputs": [
    {
     "name": "stderr",
     "output_type": "stream",
     "text": [
      "/cellar/users/btsui/anaconda2/lib/python2.7/site-packages/pandas/core/indexing.py:337: SettingWithCopyWarning: \n",
      "A value is trying to be set on a copy of a slice from a DataFrame.\n",
      "Try using .loc[row_indexer,col_indexer] = value instead\n",
      "\n",
      "See the caveats in the documentation: http://pandas.pydata.org/pandas-docs/stable/indexing.html#indexing-view-versus-copy\n",
      "  self.obj[key] = _infer_fill_value(value)\n",
      "/cellar/users/btsui/anaconda2/lib/python2.7/site-packages/pandas/core/indexing.py:517: SettingWithCopyWarning: \n",
      "A value is trying to be set on a copy of a slice from a DataFrame.\n",
      "Try using .loc[row_indexer,col_indexer] = value instead\n",
      "\n",
      "See the caveats in the documentation: http://pandas.pydata.org/pandas-docs/stable/indexing.html#indexing-view-versus-copy\n",
      "  self.obj[item] = s\n"
     ]
    }
   ],
   "source": [
    "subAccessionDf.loc[:,'ScientificName']=uniqueSrsToSpeciesS.loc[subAccessionDf.Sample.values].values[:]"
   ]
  },
  {
   "cell_type": "code",
   "execution_count": 16,
   "metadata": {},
   "outputs": [
    {
     "name": "stderr",
     "output_type": "stream",
     "text": [
      "/cellar/users/btsui/anaconda2/lib/python2.7/site-packages/ipykernel_launcher.py:1: SettingWithCopyWarning: \n",
      "A value is trying to be set on a copy of a slice from a DataFrame.\n",
      "Try using .loc[row_indexer,col_indexer] = value instead\n",
      "\n",
      "See the caveats in the documentation: http://pandas.pydata.org/pandas-docs/stable/indexing.html#indexing-view-versus-copy\n",
      "  \"\"\"Entry point for launching an IPython kernel.\n"
     ]
    }
   ],
   "source": [
    "subAccessionDf['Run']=subAccessionDf.index"
   ]
  },
  {
   "cell_type": "code",
   "execution_count": 17,
   "metadata": {
    "collapsed": true
   },
   "outputs": [],
   "source": [
    "publicRunDf=subAccessionDf"
   ]
  },
  {
   "cell_type": "code",
   "execution_count": 18,
   "metadata": {
    "collapsed": true
   },
   "outputs": [],
   "source": [
    "algnedSrx=srxToSeqS.loc[publicRunDf.Experiment].values\n",
    "srrToSeqS=pd.Series(data=algnedSrx,index=publicRunDf.index)\n",
    "publicRunDf.loc[:,'LibraryStrategy']=srrToSeqS[:]"
   ]
  },
  {
   "cell_type": "code",
   "execution_count": 19,
   "metadata": {},
   "outputs": [
    {
     "name": "stderr",
     "output_type": "stream",
     "text": [
      "/cellar/users/btsui/anaconda2/lib/python2.7/site-packages/ipykernel_launcher.py:1: SettingWithCopyWarning: \n",
      "A value is trying to be set on a copy of a slice from a DataFrame.\n",
      "Try using .loc[row_indexer,col_indexer] = value instead\n",
      "\n",
      "See the caveats in the documentation: http://pandas.pydata.org/pandas-docs/stable/indexing.html#indexing-view-versus-copy\n",
      "  \"\"\"Entry point for launching an IPython kernel.\n"
     ]
    }
   ],
   "source": [
    "publicRunDf['LibraryLayout']=layoutS.loc[publicRunDf['Experiment'].values].values"
   ]
  },
  {
   "cell_type": "code",
   "execution_count": 20,
   "metadata": {
    "collapsed": true
   },
   "outputs": [],
   "source": [
    "projectSubDf=projAccessDf.loc[publicRunDf.index]\n",
    "projectSubDf.columns='proj_accession_'+projectSubDf.columns"
   ]
  },
  {
   "cell_type": "code",
   "execution_count": 21,
   "metadata": {
    "collapsed": true
   },
   "outputs": [],
   "source": [
    "yearAnnotatedPublicDf=pd.concat( [publicRunDf,projectSubDf],axis=1)#.iloc[8]"
   ]
  },
  {
   "cell_type": "code",
   "execution_count": 22,
   "metadata": {
    "collapsed": true
   },
   "outputs": [],
   "source": [
    "yearAnnotatedPublicDf['ScientificName']=yearAnnotatedPublicDf['ScientificName'].str.replace(' ','_')"
   ]
  },
  {
   "cell_type": "code",
   "execution_count": 23,
   "metadata": {
    "collapsed": true
   },
   "outputs": [],
   "source": [
    "import string\n",
    "printable = set(string.printable)\n",
    "\n",
    "removeNonAscii=lambda s: filter(lambda x: x in printable, s)\n",
    "#removeNonAsciiCol=lambda col:col.apply(removeNonAscii)"
   ]
  },
  {
   "cell_type": "code",
   "execution_count": 24,
   "metadata": {
    "collapsed": true
   },
   "outputs": [],
   "source": [
    "subExportDf=yearAnnotatedPublicDf.loc[:,yearAnnotatedPublicDf.columns!='Run']\n"
   ]
  },
  {
   "cell_type": "code",
   "execution_count": 25,
   "metadata": {
    "collapsed": true
   },
   "outputs": [],
   "source": [
    "#### convert the micrbiome to something else"
   ]
  },
  {
   "cell_type": "code",
   "execution_count": 39,
   "metadata": {
    "collapsed": true
   },
   "outputs": [],
   "source": [
    "subExportDf['new_ScientificName']=subExportDf['ScientificName']"
   ]
  },
  {
   "cell_type": "code",
   "execution_count": 59,
   "metadata": {
    "collapsed": true
   },
   "outputs": [],
   "source": [
    "m_4=subExportDf['new_ScientificName'].str.contains('human')\n",
    "#Homo_sapiens\n",
    "subExportDf.loc[m_4, 'new_ScientificName']='Homo_sapiens'\n",
    "#m_4=subExportDf['ScientificName'].str.contains('metagenome')\n",
    "m_5=subExportDf['new_ScientificName'].str.contains('mouse')\n",
    "#Homo_sapiens\n",
    "subExportDf.loc[m_5, 'new_ScientificName']='Mus_musculus'\n",
    "###for soil, to eliminate human contamination, align to human reference\n",
    "m_6=subExportDf['new_ScientificName'].str.contains('^soil_metagenome#')\n",
    "subExportDf.loc[m_6, 'new_ScientificName']='Homo_sapiens'\n"
   ]
  },
  {
   "cell_type": "code",
   "execution_count": null,
   "metadata": {
    "collapsed": true
   },
   "outputs": [],
   "source": [
    "for myCol in [u'ScientificName', u'LibraryStrategy',\n",
    "       u'LibraryLayout','new_ScientificName']:\n",
    "    subExportDf[myCol]=subExportDf[myCol].apply(removeNonAscii)"
   ]
  },
  {
   "cell_type": "code",
   "execution_count": null,
   "metadata": {
    "collapsed": true
   },
   "outputs": [],
   "source": [
    "subExportDf.to_csv(sra_dump_csv_dir,compression='gzip')"
   ]
  },
  {
   "cell_type": "markdown",
   "metadata": {},
   "source": [
    "### create smaller version for pickle"
   ]
  },
  {
   "cell_type": "code",
   "execution_count": null,
   "metadata": {
    "collapsed": true
   },
   "outputs": [],
   "source": [
    "pickleExportInDf=subExportDf.copy()"
   ]
  },
  {
   "cell_type": "code",
   "execution_count": null,
   "metadata": {
    "collapsed": true,
    "scrolled": true
   },
   "outputs": [],
   "source": [
    "timeCols=['proj_accession_Updated'\n",
    "          ,'proj_accession_Published'\n",
    "          ,'proj_accession_Received']\n",
    "for timeCol in timeCols:\n",
    "    tmp_dateS=pickleExportInDf[timeCol].str.split('T').str[0]\n",
    "    pickleExportInDf[timeCol]=pd.to_datetime( tmp_dateS)"
   ]
  },
  {
   "cell_type": "code",
   "execution_count": null,
   "metadata": {
    "collapsed": true
   },
   "outputs": [],
   "source": [
    "ignoreCols=['proj_accession_BioProject','proj_accession_Study','proj_accession_Spots','proj_accession_BioSample'\n",
    "           ,'proj_accession_Sample','proj_accession_Experiment','proj_accession_Alias','proj_accession_Md5sum',\n",
    "            'BioSample','proj_accession_Bases']"
   ]
  },
  {
   "cell_type": "code",
   "execution_count": null,
   "metadata": {
    "collapsed": true
   },
   "outputs": [],
   "source": [
    "subsetPickleDf=pickleExportInDf.loc[:,~pickleExportInDf.columns.isin(ignoreCols)]"
   ]
  },
  {
   "cell_type": "code",
   "execution_count": null,
   "metadata": {
    "collapsed": true,
    "scrolled": true
   },
   "outputs": [],
   "source": [
    "intTypes=['Spots','Bases']\n",
    "for intType in intTypes:\n",
    "    subsetPickleDf[intType]=pd.to_numeric(subsetPickleDf[intType],errors='coerce')"
   ]
  },
  {
   "cell_type": "code",
   "execution_count": null,
   "metadata": {
    "collapsed": true
   },
   "outputs": [],
   "source": [
    "factorTypes=[u'proj_accession_ReplacedBy', u'proj_accession_Type',\n",
    "       u'proj_accession_Status', u'Status', u'proj_accession_Visibility',\n",
    "       u'LibraryLayout', u'proj_accession_Loaded', u'LibraryStrategy',\n",
    "       u'proj_accession_Updated', u'proj_accession_Received',\n",
    "       u'proj_accession_Published', u'Member_Name', u'proj_accession_Center',\n",
    "       u'ScientificName','new_ScientificName' ]#u'Study', u'proj_accession_Submission'"
   ]
  },
  {
   "cell_type": "code",
   "execution_count": null,
   "metadata": {
    "collapsed": true
   },
   "outputs": [],
   "source": [
    "for factorType in factorTypes:\n",
    "    subsetPickleDf[factorType]=subsetPickleDf[factorType].astype('category')"
   ]
  },
  {
   "cell_type": "code",
   "execution_count": null,
   "metadata": {
    "collapsed": true
   },
   "outputs": [],
   "source": [
    "#sra_dump_csv_dir,sra_dump_pickle_dir\n",
    "#subsetPickleDf.to_pickle(sra_dump_pickle_dir)"
   ]
  },
  {
   "cell_type": "markdown",
   "metadata": {},
   "source": [
    "### spit in the extracted ids"
   ]
  },
  {
   "cell_type": "code",
   "execution_count": 53,
   "metadata": {
    "collapsed": true
   },
   "outputs": [],
   "source": [
    "import pandas as pd\n",
    "import numpy as np\n",
    "subsetPickleDf=pd.read_pickle(sra_dump_pickle_dir)"
   ]
  },
  {
   "cell_type": "code",
   "execution_count": 54,
   "metadata": {
    "collapsed": true
   },
   "outputs": [],
   "source": [
    "#subsetPickleDf.dtypes"
   ]
  },
  {
   "cell_type": "code",
   "execution_count": 55,
   "metadata": {},
   "outputs": [
    {
     "name": "stderr",
     "output_type": "stream",
     "text": [
      "/cellar/users/btsui/anaconda2/lib/python2.7/site-packages/ipykernel_launcher.py:2: FutureWarning: currently extract(expand=None) means expand=False (return Index/Series/DataFrame) but in a future version of pandas this will be changed to expand=True (return DataFrame)\n",
      "  \n",
      "/cellar/users/btsui/anaconda2/lib/python2.7/site-packages/ipykernel_launcher.py:3: FutureWarning: currently extract(expand=None) means expand=False (return Index/Series/DataFrame) but in a future version of pandas this will be changed to expand=True (return DataFrame)\n",
      "  This is separate from the ipykernel package so we can avoid doing imports until\n"
     ]
    }
   ],
   "source": [
    "#['Run_db','Run_digits']\n",
    "subsetPickleDf['Run_db']=subsetPickleDf.index.str.extract('([EDS]RR)').values\n",
    "subsetPickleDf['Run_digits']=subsetPickleDf.index.str.extract('[EDS]RR(\\d+)').astype(np.int)"
   ]
  },
  {
   "cell_type": "code",
   "execution_count": 56,
   "metadata": {
    "collapsed": true
   },
   "outputs": [],
   "source": [
    "#subsetPickleDf.dtypes"
   ]
  },
  {
   "cell_type": "code",
   "execution_count": 57,
   "metadata": {
    "collapsed": true
   },
   "outputs": [],
   "source": [
    "subsetPickleDf.to_pickle(sra_dump_pickle_dir)"
   ]
  },
  {
   "cell_type": "markdown",
   "metadata": {},
   "source": [
    "### scratch"
   ]
  },
  {
   "cell_type": "code",
   "execution_count": null,
   "metadata": {
    "collapsed": true
   },
   "outputs": [],
   "source": [
    "new_size=249733376L\n",
    "old_size=1035668000L\n",
    "new_size/float(old_size)"
   ]
  },
  {
   "cell_type": "code",
   "execution_count": null,
   "metadata": {
    "collapsed": true
   },
   "outputs": [],
   "source": [
    "scentific_VC=subExportDf['ScientificName'].value_counts()"
   ]
  },
  {
   "cell_type": "code",
   "execution_count": 43,
   "metadata": {
    "collapsed": true
   },
   "outputs": [],
   "source": [
    "#subExportDf"
   ]
  },
  {
   "cell_type": "code",
   "execution_count": 58,
   "metadata": {},
   "outputs": [
    {
     "data": {
      "text/plain": [
       "Homo_sapiens                                        1012823\n",
       "Mus_musculus                                         354385\n",
       "human_gut_metagenome                                 125000\n",
       "soil_metagenome                                      108451\n",
       "Hordeum_vulgare_subsp._vulgare                        87530\n",
       "Salmonella_enterica                                   66903\n",
       "Escherichia_coli                                      53675\n",
       "gut_metagenome                                        51518\n",
       "Drosophila_melanogaster                               49701\n",
       "Arabidopsis_thaliana                                  48395\n",
       "human_metagenome                                      46979\n",
       "Oryza_sativa                                          45102\n",
       "Saccharomyces_cerevisiae                              42654\n",
       "marine_metagenome                                     35663\n",
       "Staphylococcus_aureus                                 35533\n",
       "mouse_gut_metagenome                                  35059\n",
       "Streptococcus_pneumoniae                              31010\n",
       "synthetic_construct                                   30825\n",
       "Danio_rerio                                           30675\n",
       "Plasmodium_falciparum                                 27870\n",
       "Salmonella_enterica_subsp._enterica                   26858\n",
       "Mycobacterium_tuberculosis                            26546\n",
       "metagenome                                            26068\n",
       "human_skin_metagenome                                 25255\n",
       "rhizosphere_metagenome                                19029\n",
       "freshwater_metagenome                                 18407\n",
       "Listeria_monocytogenes                                17660\n",
       "human_oral_metagenome                                 17282\n",
       "Streptococcus_pyogenes                                16881\n",
       "Zea_mays                                              16176\n",
       "                                                     ...   \n",
       "Staphylococcus_aureus_LTCF-15-63                          1\n",
       "Staphylococcus_aureus_LTCF-15-62                          1\n",
       "Staphylococcus_aureus_LTCF-15-64                          1\n",
       "Staphylococcus_aureus_LTCF-1-2                            1\n",
       "Staphylococcus_aureus_LTCF-1-3                            1\n",
       "Staphylococcus_aureus_LTCF-1-1                            1\n",
       "Myrmelachista_flavocotea                                  1\n",
       "Clostridium_hastiforme                                    1\n",
       "human_metagenome_056-A-RS                                 1\n",
       "Influenza_B_virus_(B/Voronezh/20/2011)                    1\n",
       "Norovirus_sewage/GI/Miyagi/Aug12/2015/JPN                 1\n",
       "Leifsonia_sp._21MFCrub1.1                                 1\n",
       "Pseudoalteromonas_sp._UBA6508                             1\n",
       "Chlamydia_psittaci_06-1683                                1\n",
       "Uraeginthus_granatina                                     1\n",
       "Heuchera_parvifolia_var._major                            1\n",
       "Piscirickettsia_salmonis_T-GIM                            1\n",
       "Ambystoma_tigrinum                                        1\n",
       "Flavobacteriales_bacterium_UBA6717                        1\n",
       "Bombycilla_cedrorum                                       1\n",
       "Thermosipho_melanesiensis                                 1\n",
       "Aimophila_rufescens                                       1\n",
       "Geobacter_sp._UBA6169                                     1\n",
       "Cryptantha_alyssoides                                     1\n",
       "Glenoleon_brevigonarcus                                   1\n",
       "Mycoplasma_gallinarum_DSM_19816                           1\n",
       "Enterobacter_cloacae_complex_sp._SCP25-33                 1\n",
       "Pseudothermotoga_hypogea_DSM_11164_=_NBRC_106472          1\n",
       "Conoclinium_coelestinum                                   1\n",
       "Lachnospiraceae_bacterium_UBA2830                         1\n",
       "Name: ScientificName, Length: 66660, dtype: int64"
      ]
     },
     "execution_count": 58,
     "metadata": {},
     "output_type": "execute_result"
    }
   ],
   "source": [
    "scentific_VC.to_frame()"
   ]
  },
  {
   "cell_type": "code",
   "execution_count": 34,
   "metadata": {},
   "outputs": [
    {
     "data": {
      "text/plain": [
       "human_gut_metagenome                           125000\n",
       "human_metagenome                                46979\n",
       "human_skin_metagenome                           25255\n",
       "human_oral_metagenome                           17282\n",
       "human_lung_metagenome                            7854\n",
       "human_nasopharyngeal_metagenome                  6579\n",
       "human_vaginal_metagenome                         5420\n",
       "human_reproductive_system_metagenome              659\n",
       "human_saliva_metagenome                           439\n",
       "human_blood_metagenome                            435\n",
       "uncultured_human_oral_bacterium                   430\n",
       "human_milk_metagenome                             236\n",
       "human_bile_metagenome                             185\n",
       "human_tracheal_metagenome                         104\n",
       "human_eye_metagenome                               99\n",
       "human_gut_microbiome                               63\n",
       "human_nasal/pharyngeal_metagenome                  56\n",
       "Pediculus_humanus                                  14\n",
       "uncultured_bacteria_(human_infant)_ensemble         4\n",
       "human_metagenome_254498                             3\n",
       "Name: ScientificName, dtype: int64"
      ]
     },
     "execution_count": 34,
     "metadata": {},
     "output_type": "execute_result"
    }
   ],
   "source": [
    "scentific_VC[scentific_VC.index.str.contains('human')].iloc[:20]"
   ]
  },
  {
   "cell_type": "code",
   "execution_count": 35,
   "metadata": {},
   "outputs": [
    {
     "data": {
      "text/plain": [
       "mouse_gut_metagenome                    35059\n",
       "mouse_metagenome                         5327\n",
       "mouse_skin_metagenome                     850\n",
       "mouse-rat_heterokaryon                     24\n",
       "Candidatus_Arthromitus_sp._SFB-mouse        6\n",
       "mouse-rat_synkaryon                         4\n",
       "Mus_musculus_Balb/C_(mouse)                 1\n",
       "mouse_gut_metagenome_M5_post_102            1\n",
       "mouse_gut_metagenome_uninfected_1           1\n",
       "mouse_gut_metagenome_uninfected_2           1\n",
       "mouse_gut_metagenome_uninfected_3           1\n",
       "mouse_gut_metagenome_uninfected_4           1\n",
       "mouse_gut_metagenome_uninfected_5           1\n",
       "mouse_gut_metagenome_M4_post_55             1\n",
       "mouse_gut_metagenome_M3_post_6              1\n",
       "mouse_gut_metagenome_M5_post_13             1\n",
       "mouse_gut_metagenome_M3_pre_5               1\n",
       "mouse_gut_metagenome_M3_pre_1               1\n",
       "mouse_gut_metagenome_M3_pre_0               1\n",
       "mouse_gut_metagenome_M4_post_75             1\n",
       "Name: ScientificName, dtype: int64"
      ]
     },
     "execution_count": 35,
     "metadata": {},
     "output_type": "execute_result"
    }
   ],
   "source": [
    "scentific_VC[scentific_VC.index.str.contains('mouse')].iloc[:20]"
   ]
  },
  {
   "cell_type": "code",
   "execution_count": null,
   "metadata": {
    "collapsed": true
   },
   "outputs": [],
   "source": []
  }
 ],
 "metadata": {
  "kernelspec": {
   "display_name": "Python 2",
   "language": "python",
   "name": "python2"
  },
  "language_info": {
   "codemirror_mode": {
    "name": "ipython",
    "version": 2
   },
   "file_extension": ".py",
   "mimetype": "text/x-python",
   "name": "python",
   "nbconvert_exporter": "python",
   "pygments_lexer": "ipython2",
   "version": "2.7.14"
  }
 },
 "nbformat": 4,
 "nbformat_minor": 1
}
