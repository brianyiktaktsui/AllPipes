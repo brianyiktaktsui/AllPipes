{
 "cells": [
  {
   "cell_type": "markdown",
   "metadata": {},
   "source": [
    "### identify the files names for pulling from NCBI FTP SRA metadata dump"
   ]
  },
  {
   "cell_type": "code",
   "execution_count": 1,
   "metadata": {},
   "outputs": [],
   "source": [
    "import pandas as pd\n",
    "import os\n",
    "from ftplib import FTP\n",
    "bdir='/cellar/users/btsui/Data/SRA/DUMP/'\n",
    "untaredDir='/nrnb/users/btsui/tmp/SRA_META/'\n",
    "\n",
    "ftpLink='ftp.ncbi.nlm.nih.gov'\n",
    "myRemoteDir='sra/reports/Metadata/'\n",
    "ftp = FTP(ftpLink)\n",
    "ftp.login()\n",
    "ftp.cwd(myRemoteDir)\n",
    "fnames=pd.Series(ftp.nlst())\n",
    "#sort the data numerically\n",
    "myFullSraMeta=fnames[fnames.str.contains('NCBI_SRA_Metadata_Full')\n",
    "      ].sort_values().iloc[-1]\n",
    "myDownloadFnames=['SRA_Accessions.tab',myFullSraMeta,\n",
    "                  'SRA_Run_Members.tab']"
   ]
  },
  {
   "cell_type": "code",
   "execution_count": 5,
   "metadata": {},
   "outputs": [
    {
     "name": "stdout",
     "output_type": "stream",
     "text": [
      "Files to be downloaded from NCBI: ['SRA_Accessions.tab', 'NCBI_SRA_Metadata_Full_20180702.tar.gz', 'SRA_Run_Members.tab']\n"
     ]
    }
   ],
   "source": [
    "print ('Files to be downloaded from NCBI:',myDownloadFnames)"
   ]
  },
  {
   "cell_type": "markdown",
   "metadata": {},
   "source": [
    "### remove the old NCBI tar"
   ]
  },
  {
   "cell_type": "code",
   "execution_count": 6,
   "metadata": {},
   "outputs": [
    {
     "data": {
      "text/plain": [
       "0"
      ]
     },
     "execution_count": 6,
     "metadata": {},
     "output_type": "execute_result"
    }
   ],
   "source": [
    "\n",
    "fnames_in_base_dir=pd.Series(os.listdir(bdir))\n",
    "existing_sra_tar=fnames_in_base_dir[fnames_in_base_dir.str.contains('NCBI_SRA_Metadata.*\\.tar\\.gz$')].iloc[0]\n",
    "#remove existing NCBI_SRA_Metadata tar file\n",
    "cmd_rm_tar='rm '+bdir+existing_sra_tar\n",
    "os.system(cmd_rm_tar)"
   ]
  },
  {
   "cell_type": "markdown",
   "metadata": {},
   "source": [
    "### pull all the data"
   ]
  },
  {
   "cell_type": "code",
   "execution_count": 7,
   "metadata": {},
   "outputs": [
    {
     "name": "stdout",
     "output_type": "stream",
     "text": [
      "CPU times: user 0 ns, sys: 0 ns, total: 0 ns\n",
      "Wall time: 7.63 µs\n"
     ]
    }
   ],
   "source": [
    "%%time\n",
    "for f in myDownloadFnames:\n",
    "    fileDir = bdir+f\n",
    "    File=open(fileDir,'wb')\n",
    "    ###reopen ftp everytime to avoid idling \n",
    "    ftp = FTP(ftpLink)\n",
    "    ftp.login()\n",
    "    ftp.cwd(myRemoteDir)\n",
    "    ftp.retrbinary('RETR %s' % f, File.write)\n",
    "    File.close()"
   ]
  },
  {
   "cell_type": "markdown",
   "metadata": {},
   "source": [
    "#### find files in the tar"
   ]
  },
  {
   "cell_type": "code",
   "execution_count": 11,
   "metadata": {},
   "outputs": [],
   "source": [
    "#!ls /nrnb/users/btsui/tmp/SRA_META/"
   ]
  },
  {
   "cell_type": "code",
   "execution_count": 8,
   "metadata": {},
   "outputs": [
    {
     "data": {
      "text/plain": [
       "256"
      ]
     },
     "execution_count": 8,
     "metadata": {},
     "output_type": "execute_result"
    }
   ],
   "source": [
    "os.system('mkdir '+untaredDir)"
   ]
  },
  {
   "cell_type": "code",
   "execution_count": null,
   "metadata": {},
   "outputs": [],
   "source": [
    "%%time\n",
    "\"\"\"\n",
    "last untaring time    28m57.656s\n",
    "\"\"\"\n",
    "tarCmd='time tar --skip-old-files -xvf {inDir} -C {out_dir}'.format(inDir=bdir+myFullSraMeta,\n",
    "                                                 out_dir=untaredDir)\n",
    "os.system(tarCmd)"
   ]
  },
  {
   "cell_type": "markdown",
   "metadata": {},
   "source": [
    "# scratch"
   ]
  },
  {
   "cell_type": "code",
   "execution_count": 1,
   "metadata": {},
   "outputs": [
    {
     "name": "stdout",
     "output_type": "stream",
     "text": [
      "total 3.6G\r\n",
      "drwxr-xr-x  3 btsui users   12 Jan 26 13:46 .\r\n",
      "drwxr-xr-x 13 btsui users   14 Mar  1 13:30 ..\r\n",
      "drwxr-xr-x  3 btsui users    3 Jan  5 20:23 FULL_SRA_meta\r\n",
      "-rw-r--r--  1 btsui users 1.7G Jan  4 08:41 NCBI_SRA_Metadata_Full_20171204.tar.gz\r\n",
      "-rw-r--r--  1 btsui users 3.3G Jan  4 08:47 SRA_Accessions.tab\r\n",
      "-rw-r--r--  1 btsui users 458M Jan  4 08:42 SRA_Run_Members.tab\r\n",
      "-rw-r--r--  1 btsui users 241M Jan  5 16:35 allSRS.pickle.gz\r\n",
      "-rw-r--r--  1 btsui users 133M Jan  5 16:39 allSRX.pickle.gz\r\n",
      "-rw-r--r--  1 btsui users 175M Oct 30  2017 file_meta.txt\r\n",
      "-rw-r--r--  1 btsui users 175M Oct 30  2017 meta.txt\r\n",
      "-rw-r--r--  1 btsui users 211M Mar  1 15:16 sra_dump.csv.gz\r\n",
      "-rw-r--r--  1 btsui users 372M May 16 08:08 sra_dump.pickle\r\n"
     ]
    }
   ],
   "source": [
    "!ls -lah /cellar/users/btsui/Data/SRA/DUMP/"
   ]
  },
  {
   "cell_type": "code",
   "execution_count": 2,
   "metadata": {},
   "outputs": [
    {
     "name": "stdout",
     "output_type": "stream",
     "text": [
      "/cellar/users/btsui/Program/cghub/bin//gdc-client\r\n"
     ]
    }
   ],
   "source": [
    "!which gdc-client"
   ]
  },
  {
   "cell_type": "code",
   "execution_count": null,
   "metadata": {},
   "outputs": [],
   "source": [
    "#https://gdc.cancer.gov/system/files/authenticated%20user/0/gdc-client_v1.3.0_Ubuntu14.04_x64.zip"
   ]
  }
 ],
 "metadata": {
  "kernelspec": {
   "display_name": "Python 3",
   "language": "python",
   "name": "python3"
  },
  "language_info": {
   "codemirror_mode": {
    "name": "ipython",
    "version": 3
   },
   "file_extension": ".py",
   "mimetype": "text/x-python",
   "name": "python",
   "nbconvert_exporter": "python",
   "pygments_lexer": "ipython3",
   "version": "3.6.5"
  }
 },
 "nbformat": 4,
 "nbformat_minor": 1
}
