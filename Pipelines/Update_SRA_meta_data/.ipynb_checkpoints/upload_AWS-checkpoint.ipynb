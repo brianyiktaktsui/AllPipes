{
 "cells": [
  {
   "cell_type": "code",
   "execution_count": 1,
   "metadata": {},
   "outputs": [],
   "source": [
    "import pandas as pd\n",
    "import numpy as np\n",
    "import os\n",
    "import boto3\n",
    "import botocore\n",
    "import paramiko"
   ]
  },
  {
   "cell_type": "code",
   "execution_count": 21,
   "metadata": {},
   "outputs": [],
   "source": [
    "allSRS_pickle_dir='/cellar/users/btsui/Data/SRA/DUMP/allSRS.pickle.gz'\n",
    "sra_dump_pickle_dir='/cellar/users/btsui/Data/SRA/DUMP/sra_dump.fastqc.bowtie_algn.pickle'\n",
    "allSRX_pickle_dir='/cellar/users/btsui/Data/SRA/DUMP/allSRX.pickle.gz'\n",
    "\n",
    "merged_kallisto_run_info_dir='/nrnb/users/btsui/Data/all_seq/rnaseq_merged/merged_kallisto_run_info.pickle'"
   ]
  },
  {
   "cell_type": "code",
   "execution_count": 61,
   "metadata": {},
   "outputs": [],
   "source": [
    "allSRS_with_processed_data_dir=allSRS_pickle_dir.replace('.pickle.gz','.with_processed_data.pickle.gz')"
   ]
  },
  {
   "cell_type": "markdown",
   "metadata": {},
   "source": [
    "### export only part of the SRS"
   ]
  },
  {
   "cell_type": "code",
   "execution_count": 18,
   "metadata": {},
   "outputs": [],
   "source": [
    "allSRS=pd.read_pickle(allSRS_pickle_dir)"
   ]
  },
  {
   "cell_type": "code",
   "execution_count": 19,
   "metadata": {},
   "outputs": [],
   "source": [
    "sra_dump_df=pd.read_pickle(sra_dump_pickle_dir)"
   ]
  },
  {
   "cell_type": "markdown",
   "metadata": {},
   "source": [
    "#### find all the processed SRR IDs "
   ]
  },
  {
   "cell_type": "code",
   "execution_count": 22,
   "metadata": {},
   "outputs": [],
   "source": [
    "merged_kallisto_run_info_df=pd.read_pickle(merged_kallisto_run_info_dir)"
   ]
  },
  {
   "cell_type": "code",
   "execution_count": 46,
   "metadata": {},
   "outputs": [],
   "source": [
    "snpProcessedRuns=sra_dump_df.index[sra_dump_df['fastqc']['Total basepairs processed:\\s+([0-9,]+)'].notnull()]"
   ]
  },
  {
   "cell_type": "markdown",
   "metadata": {},
   "source": [
    "#### retain only the SRS with associated with processed SRR IDs"
   ]
  },
  {
   "cell_type": "code",
   "execution_count": null,
   "metadata": {},
   "outputs": [],
   "source": [
    "processedSrr=np.union1d(merged_kallisto_run_info_df.Run,snpProcessedRuns)"
   ]
  },
  {
   "cell_type": "code",
   "execution_count": 50,
   "metadata": {},
   "outputs": [],
   "source": [
    "processedSrs=sra_dump_df[sra_dump_df.index.isin(processedSrr)]['SRAmeta']['Sample'].unique()\n",
    "srs_a=allSRS.index.get_level_values(0)\n",
    "srs_m=srs_a.isin(processedSrs)\n",
    "allSRS_processed=allSRS[srs_m]"
   ]
  },
  {
   "cell_type": "code",
   "execution_count": 87,
   "metadata": {},
   "outputs": [],
   "source": [
    "allSRS_processed.to_pickle(allSRS_with_processed_data_dir)"
   ]
  },
  {
   "cell_type": "code",
   "execution_count": 93,
   "metadata": {},
   "outputs": [],
   "source": [
    "#%time pd.read_pickle('/cellar/users/btsui/Data/SRA/DUMP/allSRS.with_processed_data.pickle.gz') "
   ]
  },
  {
   "cell_type": "markdown",
   "metadata": {},
   "source": [
    "### upload to SRS"
   ]
  },
  {
   "cell_type": "code",
   "execution_count": 65,
   "metadata": {},
   "outputs": [],
   "source": [
    "### change the ip of the instance\n",
    "instance_ip='ec2-34-215-138-8.us-west-2.compute.amazonaws.com'\n",
    "remoteDir='~/efs/all_seq/meta_data/'"
   ]
  },
  {
   "cell_type": "code",
   "execution_count": 80,
   "metadata": {},
   "outputs": [],
   "source": [
    "#mergedMatricesDir='/nrnb/users/btsui/Data/all_seq/rnaseq_merged/'\n",
    "uploadDirs=[sra_dump_pickle_dir,allSRS_pickle_dir,allSRX_pickle_dir,merged_kallisto_run_info_dir,allSRS_with_processed_data_dir]\n",
    "inFnameS=pd.Series(uploadDirs)"
   ]
  },
  {
   "cell_type": "code",
   "execution_count": 72,
   "metadata": {},
   "outputs": [],
   "source": [
    "#include_m1=(inFnameS.str.contains('gene_symbol')&(~inFnameS.str.contains('.gz')))\n",
    "#include_m2=inFnameS.isin(['merged_kallisto_run_info.pickle'])\n",
    "transferFnames=inFnameS#[include_m1|include_m2]"
   ]
  },
  {
   "cell_type": "code",
   "execution_count": 73,
   "metadata": {},
   "outputs": [],
   "source": [
    "key = paramiko.RSAKey.from_private_key_file('/cellar/users/btsui/.ssh/jupyter_hub.pem')\n",
    "client = paramiko.SSHClient()\n",
    "client.set_missing_host_key_policy(paramiko.AutoAddPolicy())"
   ]
  },
  {
   "cell_type": "code",
   "execution_count": 74,
   "metadata": {},
   "outputs": [],
   "source": [
    "#mountEfs='sudo mount -t efs fs-e1636448:/ efs'\n",
    "\n",
    "#try:\n",
    "# Here 'ubuntu' is user name and 'instance_ip' is public IP of EC2\n",
    "client.connect(hostname=instance_ip, username=\"ec2-user\", pkey=key)\n",
    "# Execute a command(cmd) after connecting/ssh to an instance\n",
    "cmd='mkdir ~/efs'\n",
    "stdin, stdout, stderr = client.exec_command(cmd)\n",
    "cmd='sudo mount -t nfs4 -o nfsvers=4.1,rsize=1048576,wsize=1048576,hard,timeo=600,retrans=2 fs-e1636448.efs.us-west-2.amazonaws.com:/ ~/efs'\n",
    "stdin, stdout, stderr = client.exec_command(cmd)"
   ]
  },
  {
   "cell_type": "code",
   "execution_count": 75,
   "metadata": {
    "scrolled": true
   },
   "outputs": [
    {
     "data": {
      "text/plain": [
       "'~/efs/all_seq/meta_data/'"
      ]
     },
     "execution_count": 75,
     "metadata": {},
     "output_type": "execute_result"
    }
   ],
   "source": [
    "#client.connect(hostname=instance_ip, username=\"ec2-user\", pkey=key)\n",
    "remoteDir"
   ]
  },
  {
   "cell_type": "code",
   "execution_count": 76,
   "metadata": {},
   "outputs": [
    {
     "name": "stdout",
     "output_type": "stream",
     "text": [
      "b''\n",
      "b''\n"
     ]
    }
   ],
   "source": [
    "cmd='mkdir -p '+remoteDir\n",
    "stdin, stdout, stderr = client.exec_command(cmd)\n",
    "print (stdout.read())\n",
    "print (stderr.read())"
   ]
  },
  {
   "cell_type": "code",
   "execution_count": null,
   "metadata": {},
   "outputs": [],
   "source": []
  },
  {
   "cell_type": "code",
   "execution_count": 77,
   "metadata": {},
   "outputs": [],
   "source": [
    "myRsyncDirFormat=' rsync  -Pvu -e \"ssh -i $HOME/.ssh/jupyter_hub.pem\" {localFDir} ec2-user@{instance_ip}:{remoteDir}'"
   ]
  },
  {
   "cell_type": "code",
   "execution_count": 78,
   "metadata": {},
   "outputs": [
    {
     "data": {
      "text/plain": [
       "0"
      ]
     },
     "execution_count": 78,
     "metadata": {},
     "output_type": "execute_result"
    }
   ],
   "source": [
    "addHostVerificationCmd=\"ssh -o StrictHostKeyChecking=no -i $HOME/.ssh/jupyter_hub.pem ec2-user@{instance_ip}  ls\".format(instance_ip=instance_ip)\n",
    "os.system(addHostVerificationCmd)\n"
   ]
  },
  {
   "cell_type": "code",
   "execution_count": 83,
   "metadata": {},
   "outputs": [],
   "source": [
    "#transferFnames.values"
   ]
  },
  {
   "cell_type": "code",
   "execution_count": 94,
   "metadata": {},
   "outputs": [
    {
     "name": "stdout",
     "output_type": "stream",
     "text": [
      " rsync  -Pvu -e \"ssh -i $HOME/.ssh/jupyter_hub.pem\" /cellar/users/btsui/Data/SRA/DUMP/sra_dump.fastqc.bowtie_algn.pickle ec2-user@ec2-34-221-100-235.us-west-2.compute.amazonaws.com:~/efs/all_seq/meta_data/.\n",
      "0\n",
      " rsync  -Pvu -e \"ssh -i $HOME/.ssh/jupyter_hub.pem\" /cellar/users/btsui/Data/SRA/DUMP/allSRS.pickle.gz ec2-user@ec2-34-221-100-235.us-west-2.compute.amazonaws.com:~/efs/all_seq/meta_data/.\n",
      "0\n",
      " rsync  -Pvu -e \"ssh -i $HOME/.ssh/jupyter_hub.pem\" /cellar/users/btsui/Data/SRA/DUMP/allSRX.pickle.gz ec2-user@ec2-34-221-100-235.us-west-2.compute.amazonaws.com:~/efs/all_seq/meta_data/.\n",
      "0\n",
      " rsync  -Pvu -e \"ssh -i $HOME/.ssh/jupyter_hub.pem\" /nrnb/users/btsui/Data/all_seq/rnaseq_merged/merged_kallisto_run_info.pickle ec2-user@ec2-34-221-100-235.us-west-2.compute.amazonaws.com:~/efs/all_seq/meta_data/.\n",
      "0\n",
      " rsync  -Pvu -e \"ssh -i $HOME/.ssh/jupyter_hub.pem\" /cellar/users/btsui/Data/SRA/DUMP/allSRS.with_processed_data.pickle.gz ec2-user@ec2-34-221-100-235.us-west-2.compute.amazonaws.com:~/efs/all_seq/meta_data/.\n",
      "0\n"
     ]
    }
   ],
   "source": [
    "for localFname in transferFnames.values:\n",
    "    localFDir= (localFname)\n",
    "    rsyncCmd=myRsyncDirFormat.format(localFDir=localFDir,instance_ip=instance_ip,remoteDir=remoteDir+'.')\n",
    "    print (rsyncCmd)\n",
    "    print (os.system(rsyncCmd))"
   ]
  },
  {
   "cell_type": "code",
   "execution_count": 85,
   "metadata": {},
   "outputs": [],
   "source": [
    "#!rsync  -Pvu -e \"ssh -i $HOME/.ssh/jupyter_hub.pem\" /cellar/users/btsui/Data/SRA/DUMP/allSRS.with_processed_data.pickle.gz ec2-user@ec2-34-221-100-235.us-west-2.compute.amazonaws.com:~/efs/all_seq/meta_data/."
   ]
  },
  {
   "cell_type": "code",
   "execution_count": 43,
   "metadata": {},
   "outputs": [
    {
     "name": "stdout",
     "output_type": "stream",
     "text": [
      "\r\n",
      "sent 71 bytes  received 11 bytes  54.67 bytes/sec\r\n",
      "total size is 95,445  speedup is 1,163.96\r\n"
     ]
    }
   ],
   "source": [
    "#!rsync  -Pvu -e \"ssh -i $HOME/.ssh/jupyter_hub.pem\" /nrnb/users/btsui/Data/all_seq/rnaseq_merged/Canis_familiaris.gene_symbol.tpm.index.txt \\\n",
    "#ec2-user@ec2-52-24-55-248.us-west-2.compute.amazonaws.com:~/."
   ]
  },
  {
   "cell_type": "code",
   "execution_count": 18,
   "metadata": {},
   "outputs": [
    {
     "name": "stdout",
     "output_type": "stream",
     "text": [
      "authorized_keys  id_dsa.pub\t    id_rsa.jupyterhub.pub  known_hosts~\r\n",
      "aws_upload.pem\t id_rsa\t\t    id_rsa.pub\r\n",
      "id_dsa\t\t id_rsa.jupyterhub  known_hosts\r\n"
     ]
    }
   ],
   "source": [
    "#!ls $HOME/.ssh/"
   ]
  },
  {
   "cell_type": "code",
   "execution_count": 105,
   "metadata": {},
   "outputs": [],
   "source": [
    "#import seaborn"
   ]
  },
  {
   "cell_type": "code",
   "execution_count": null,
   "metadata": {},
   "outputs": [],
   "source": [
    "#!c"
   ]
  }
 ],
 "metadata": {
  "kernelspec": {
   "display_name": "Python [default]",
   "language": "python",
   "name": "python3"
  },
  "language_info": {
   "codemirror_mode": {
    "name": "ipython",
    "version": 3
   },
   "file_extension": ".py",
   "mimetype": "text/x-python",
   "name": "python",
   "nbconvert_exporter": "python",
   "pygments_lexer": "ipython3",
   "version": "3.6.5"
  }
 },
 "nbformat": 4,
 "nbformat_minor": 2
}
