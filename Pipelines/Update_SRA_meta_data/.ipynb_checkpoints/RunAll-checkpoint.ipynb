{
 "cells": [
  {
   "cell_type": "markdown",
   "metadata": {},
   "source": [
    "\n",
    "\n",
    "|Core Steps | Code| Input description|Input dir|Output description|Output dir| Timing| Python version|\n",
    "|----:| ----:| ----:|----:|----:|----:| ----:|----:|\n",
    "|download SRAmetadata|[pull_SRA_meta](./pull_SRA_meta.ipynb) |none, download from web||SRA meta data| /nrnb/users/btsui/tmp/SRA_META/| 30 mins| Python 3 |\n",
    "|parse SRA metadata using Metamap| [parse SRS and SRX metadata](./../../SRA_META/SRAManager.ipynb) |  SRA files in XML formats|/nrnb/users/btsui/tmp/SRA_META/| list of pandas series containing list of (SRS,attribute, freetext) | /cellar/users/btsui/Data/nrnb01_nobackup/tmp/METAMAP//splittedInput_SRAMangaer_SRA_META/| 20 mins| Python 2| \n",
    "|merge SRA metadata | [merge SRS and SRX parsed](./../../SRA_META/SRAmerge.ipynb)| | list of pandas series containing list of (SRS,attribute, freetext) |/cellar/users/btsui/Data/nrnb01_nobackup/tmp/METAMAP//splittedInput_SRAMangaer_SRA_META/(allSRS.pickle,allSRX.pickle) |all SRA SRS biospecieman annotation in allSRS.pickle and allSRX.pickle  | /cellar/users/btsui/Data/nrnb01_nobackup/METAMAP/ | 10 mins| Python 3|\n",
    "|annotate SRA meta data based on SRX parsed | [annotate SRA data](../../Pipelines/Update_SRA_meta_data/annotate_SRA_meta_data.ipynb) |\n",
    "\n",
    "More \n",
    "* [Merge all sequencing runs meta data statistics](../../Analysis/merge_variant_aligning_statistics.ipynb)\n",
    "\n",
    "* [upload meta data to AWS](../../Pipelines/Update_SRA_meta_data/upload_AWS.ipynb)\n",
    "\n",
    "Status: Running \"annotate SRA meta data based on SRX parsed\" \n",
    "\n",
    "\n",
    "\n",
    "Useful commands: \n",
    "* `python -m ipykernel install --user --name myenv --display-name \"conda-env-environment_conda_py26_btsui-py\"`\n",
    "* `jupyter kernelspec list`\n",
    "* `source activate environment_conda_py26_btsu`\n",
    "* `jupyter nbconvert --execute --to notebook --inplace ./Pipelines/Update_SRA_meta_data/pull_SRA_meta.ipynb`\n",
    "\n",
    "\n"
   ]
  },
  {
   "cell_type": "markdown",
   "metadata": {},
   "source": [
    "# Core steps"
   ]
  },
  {
   "cell_type": "markdown",
   "metadata": {},
   "source": [
    "## Download SRA meta data"
   ]
  },
  {
   "cell_type": "code",
   "execution_count": null,
   "metadata": {},
   "outputs": [],
   "source": [
    "%%bash \n",
    "cd ./Pipelines/Update_SRA_meta_data/\n",
    "jupyter nbconvert --execute --to notebook --ExecutePreprocessor.timeout=-1 --inplace pull_SRA_meta.ipynb"
   ]
  },
  {
   "cell_type": "markdown",
   "metadata": {},
   "source": [
    "## Parse SRA data "
   ]
  },
  {
   "cell_type": "code",
   "execution_count": null,
   "metadata": {},
   "outputs": [],
   "source": [
    "%%bash \n",
    "cd ../../SRA_META/\n",
    "time jupyter nbconvert --execute --to notebook --ExecutePreprocessor.timeout=-1 --inplace SRAManager.ipynb"
   ]
  },
  {
   "cell_type": "markdown",
   "metadata": {},
   "source": [
    "## Merge SRA metadata"
   ]
  },
  {
   "cell_type": "code",
   "execution_count": null,
   "metadata": {},
   "outputs": [],
   "source": [
    "%%bash \n",
    "cd ../../SRA_META/\n",
    "time jupyter nbconvert --execute --to notebook --ExecutePreprocessor.timeout=-1 --inplace SRAmerge.ipynb"
   ]
  },
  {
   "cell_type": "code",
   "execution_count": 84,
   "metadata": {},
   "outputs": [],
   "source": [
    "#!ls -laht "
   ]
  },
  {
   "cell_type": "markdown",
   "metadata": {},
   "source": [
    "### Upload metadata to AWS\n",
    "(./upload_AWS.ipynb)"
   ]
  },
  {
   "cell_type": "code",
   "execution_count": null,
   "metadata": {},
   "outputs": [],
   "source": [
    "%%bash\n",
    "time jupyter nbconvert --execute --to notebook --ExecutePreprocessor.timeout=-1 --inplace upload_AWS.ipynb"
   ]
  },
  {
   "cell_type": "markdown",
   "metadata": {},
   "source": [
    "# Scratch"
   ]
  },
  {
   "cell_type": "code",
   "execution_count": null,
   "metadata": {},
   "outputs": [],
   "source": [
    "asdasd"
   ]
  },
  {
   "cell_type": "code",
   "execution_count": 29,
   "metadata": {},
   "outputs": [
    {
     "name": "stdout",
     "output_type": "stream",
     "text": [
      "job-ID  prior   name       user         state submit/start at     queue                          slots ja-task-ID \r\n",
      "-----------------------------------------------------------------------------------------------------------------\r\n",
      " 432856 15.00117 QLOGIN     btsui        r     10/11/2018 10:16:46 all.q@nrnb-5-6.ucsd.edu            1        \r\n"
     ]
    }
   ],
   "source": [
    "\n",
    "#!qstat -u btsui"
   ]
  },
  {
   "cell_type": "code",
   "execution_count": 1,
   "metadata": {},
   "outputs": [
    {
     "name": "stdout",
     "output_type": "stream",
     "text": [
      "# conda environments:\r\n",
      "#\r\n",
      "                         /cellar/users/btsui/Data/miniconda3\r\n",
      "base                  *  /cellar/users/btsui/anaconda3\r\n",
      "deep_nlp                 /cellar/users/btsui/anaconda3/envs/deep_nlp\r\n",
      "deep_nlp_                /cellar/users/btsui/anaconda3/envs/deep_nlp_\r\n",
      "deep_nlp_cpu             /cellar/users/btsui/anaconda3/envs/deep_nlp_cpu\r\n",
      "edgar_nlp_cpu            /cellar/users/btsui/anaconda3/envs/edgar_nlp_cpu\r\n",
      "environment_conda_py26_btsui     /cellar/users/btsui/anaconda3/envs/environment_conda_py26_btsui\r\n",
      "tensorflow-gpu           /cellar/users/btsui/anaconda3/envs/tensorflow-gpu\r\n",
      "\r\n"
     ]
    }
   ],
   "source": [
    "!conda env list"
   ]
  },
  {
   "cell_type": "code",
   "execution_count": 23,
   "metadata": {},
   "outputs": [
    {
     "name": "stdout",
     "output_type": "stream",
     "text": [
      "total 111K\r\n",
      "drwxr-xr-x 19 btsui users 181 Oct 13 15:15 ..\r\n",
      "drwxr-xr-x  2 btsui users   2 Oct 13 15:14 .\r\n"
     ]
    }
   ],
   "source": [
    "!ls -lath  /cellar/users/btsui/Data/nrnb01_nobackup/METAMAP/sgeOut/| head -n 100"
   ]
  },
  {
   "cell_type": "code",
   "execution_count": 32,
   "metadata": {},
   "outputs": [],
   "source": [
    "#!rm  /cellar/users/btsui/Data/nrnb01_nobackup/METAMAP/sgeOut/"
   ]
  },
  {
   "cell_type": "code",
   "execution_count": 10,
   "metadata": {},
   "outputs": [
    {
     "name": "stdout",
     "output_type": "stream",
     "text": [
      "nrnb-4-7\r\n",
      "/cellar/users/btsui/Data/nrnb01_nobackup/tmp/METAMAP//splittedInput_SRAMangaer_SRA_META//835\r\n",
      "523.228\r\n"
     ]
    }
   ],
   "source": [
    "#/cellar/users/btsui/Data/nrnb01_nobackup/tmp/METAMAP//splittedInput_SRAMangaer_SRA_META//835\n",
    "#!cat /cellar/users/btsui/Data/nrnb01_nobackup/METAMAP/sgeOut/metamapWrapper.sh.o437942.835"
   ]
  },
  {
   "cell_type": "code",
   "execution_count": 34,
   "metadata": {},
   "outputs": [],
   "source": [
    "#!rm /cellar/users/btsui/Data/nrnb01_nobackup/METAMAP/sgeErr/*"
   ]
  },
  {
   "cell_type": "code",
   "execution_count": 4,
   "metadata": {},
   "outputs": [],
   "source": [
    "#!ls -lath /cellar/users/btsui/Data/nrnb01_nobackup/METAMAP/sgeErr/  | head\n",
    "#!mkdir /cellar/users/btsui/Data/nrnb01_nobackup/METAMAP/sgeOut/"
   ]
  },
  {
   "cell_type": "code",
   "execution_count": 2,
   "metadata": {},
   "outputs": [],
   "source": [
    "#!cat /cellar/users/btsui/Data/nrnb01_nobackup/METAMAP/sgeOut/metamapWrapper.sh.o442355.1439"
   ]
  },
  {
   "cell_type": "code",
   "execution_count": 3,
   "metadata": {},
   "outputs": [],
   "source": [
    "#!cat /cellar/users/btsui/Data/nrnb01_nobackup/METAMAP/sgeErr/metamapWrapper.sh.e442355.1439"
   ]
  },
  {
   "cell_type": "code",
   "execution_count": 15,
   "metadata": {},
   "outputs": [],
   "source": [
    "#!qdel metamapWrapper.sh"
   ]
  },
  {
   "cell_type": "code",
   "execution_count": 65,
   "metadata": {},
   "outputs": [
    {
     "name": "stdout",
     "output_type": "stream",
     "text": [
      "job-ID  prior   name       user         state submit/start at     queue                          slots ja-task-ID \r\n",
      "-----------------------------------------------------------------------------------------------------------------\r\n",
      " 432856 15.00117 QLOGIN     btsui        r     10/11/2018 10:16:46 all.q@nrnb-5-6.ucsd.edu            1        \r\n",
      " 441538 15.05000 metamapWra btsui        r     10/13/2018 15:24:14 all.q@nrnb-4-4.ucsd.edu            1 1185\r\n",
      " 441580 15.05000 metamapWra btsui        r     10/13/2018 15:24:19 all.q@nrnb-2-6.ucsd.edu            1 1227\r\n",
      " 441621 15.05000 metamapWra btsui        r     10/13/2018 15:24:39 all.q@nrnb-2-3.ucsd.edu            1 1268\r\n",
      " 441632 15.05000 metamapWra btsui        r     10/13/2018 15:24:40 all.q@nrnb-2-3.ucsd.edu            1 1279\r\n",
      " 441635 15.05000 metamapWra btsui        r     10/13/2018 15:24:40 all.q@nrnb-1-4.ucsd.edu            1 1282\r\n",
      " 441636 15.05000 metamapWra btsui        r     10/13/2018 15:24:40 all.q@nrnb-3-0.ucsd.edu            1 1283\r\n",
      " 441637 15.05000 metamapWra btsui        r     10/13/2018 15:24:40 all.q@nrnb-2-7.ucsd.edu            1 1284\r\n"
     ]
    }
   ],
   "source": [
    "!qstat -u btsui | head"
   ]
  },
  {
   "cell_type": "code",
   "execution_count": 66,
   "metadata": {},
   "outputs": [
    {
     "name": "stdout",
     "output_type": "stream",
     "text": [
      "total 1.3G\r\n",
      "drwxr-xr-x 2 btsui users  4.0K Oct 13 15:27 .\r\n",
      "drwxr-xr-x 3 btsui users     4 May 15 16:35 ..\r\n",
      "-rw-r--r-- 1 btsui users  7.8M Oct 13 15:23 1.srs.pickle\r\n",
      "-rw-r--r-- 1 btsui users  772K Oct 13 15:23 1.srx.pickle\r\n",
      "-rw-r--r-- 1 btsui users  372K Oct 13 15:23 10.srs.pickle\r\n",
      "-rw-r--r-- 1 btsui users  569K Oct 13 15:23 10.srx.pickle\r\n",
      "-rw-r--r-- 1 btsui users  744K Oct 13 15:22 100.srs.pickle\r\n",
      "-rw-r--r-- 1 btsui users  603K Oct 13 15:22 100.srx.pickle\r\n",
      "-rw-r--r-- 1 btsui users  853K Oct 13 15:25 1000.srs.pickle\r\n",
      "ls: write error: Broken pipe\r\n"
     ]
    }
   ],
   "source": [
    "!ls -lah /cellar/users/btsui/Data/nrnb01_nobackup/tmp/METAMAP//splittedInput_SRAMangaer_SRA_META/| head "
   ]
  },
  {
   "cell_type": "code",
   "execution_count": 1,
   "metadata": {},
   "outputs": [],
   "source": [
    "#!gunzip --help"
   ]
  },
  {
   "cell_type": "code",
   "execution_count": 87,
   "metadata": {},
   "outputs": [],
   "source": [
    "#!gunzip --keep /data/cellardata/users/btsui/SRA/DUMP/allSRS.pickle.gz"
   ]
  },
  {
   "cell_type": "code",
   "execution_count": 97,
   "metadata": {},
   "outputs": [],
   "source": [
    "#import pandas as pd"
   ]
  },
  {
   "cell_type": "code",
   "execution_count": 96,
   "metadata": {},
   "outputs": [],
   "source": [
    "#allSRS=pd.read_pickle('/data/cellardata/users/btsui/SRA/DUMP/allSRS.pickle')"
   ]
  },
  {
   "cell_type": "code",
   "execution_count": 95,
   "metadata": {},
   "outputs": [],
   "source": [
    "#allSRS.index.get_level_values(0).nunique()"
   ]
  },
  {
   "cell_type": "code",
   "execution_count": 94,
   "metadata": {},
   "outputs": [],
   "source": [
    "#4438914/10**6"
   ]
  },
  {
   "cell_type": "code",
   "execution_count": null,
   "metadata": {},
   "outputs": [],
   "source": []
  }
 ],
 "metadata": {
  "kernelspec": {
   "display_name": "Python [default]",
   "language": "python",
   "name": "python3"
  },
  "language_info": {
   "codemirror_mode": {
    "name": "ipython",
    "version": 3
   },
   "file_extension": ".py",
   "mimetype": "text/x-python",
   "name": "python",
   "nbconvert_exporter": "python",
   "pygments_lexer": "ipython3",
   "version": "3.6.5"
  }
 },
 "nbformat": 4,
 "nbformat_minor": 2
}
