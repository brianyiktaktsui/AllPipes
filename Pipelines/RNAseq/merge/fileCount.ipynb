{
 "cells": [
  {
   "cell_type": "code",
   "execution_count": 78,
   "metadata": {},
   "outputs": [
    {
     "data": {
      "text/html": [
       "<div>\n",
       "<style scoped>\n",
       "    .dataframe tbody tr th:only-of-type {\n",
       "        vertical-align: middle;\n",
       "    }\n",
       "\n",
       "    .dataframe tbody tr th {\n",
       "        vertical-align: top;\n",
       "    }\n",
       "\n",
       "    .dataframe thead th {\n",
       "        text-align: right;\n",
       "    }\n",
       "</style>\n",
       "<table border=\"1\" class=\"dataframe\">\n",
       "  <thead>\n",
       "    <tr style=\"text-align: right;\">\n",
       "      <th></th>\n",
       "      <th>Resolution</th>\n",
       "      <th>gene_symbol</th>\n",
       "      <th>transcript</th>\n",
       "    </tr>\n",
       "    <tr>\n",
       "      <th>Species</th>\n",
       "      <th>Metric</th>\n",
       "      <th></th>\n",
       "      <th></th>\n",
       "    </tr>\n",
       "  </thead>\n",
       "  <tbody>\n",
       "    <tr>\n",
       "      <th rowspan=\"2\" valign=\"top\">Homo_sapiens</th>\n",
       "      <th>est_counts</th>\n",
       "      <td>86.0</td>\n",
       "      <td>86.0</td>\n",
       "    </tr>\n",
       "    <tr>\n",
       "      <th>tpm</th>\n",
       "      <td>86.0</td>\n",
       "      <td>86.0</td>\n",
       "    </tr>\n",
       "    <tr>\n",
       "      <th rowspan=\"2\" valign=\"top\">Mus_musculus</th>\n",
       "      <th>est_counts</th>\n",
       "      <td>NaN</td>\n",
       "      <td>88.0</td>\n",
       "    </tr>\n",
       "    <tr>\n",
       "      <th>tpm</th>\n",
       "      <td>NaN</td>\n",
       "      <td>54.0</td>\n",
       "    </tr>\n",
       "  </tbody>\n",
       "</table>\n",
       "</div>"
      ],
      "text/plain": [
       "Resolution               gene_symbol  transcript\n",
       "Species      Metric                             \n",
       "Homo_sapiens est_counts         86.0        86.0\n",
       "             tpm                86.0        86.0\n",
       "Mus_musculus est_counts          NaN        88.0\n",
       "             tpm                 NaN        54.0"
      ]
     },
     "execution_count": 78,
     "metadata": {},
     "output_type": "execute_result"
    }
   ],
   "source": [
    "import pandas as pd\n",
    "import os\n",
    "\n",
    "#transcriptMatricesDir='/nrnb/users/btsui/Data/all_seq/rnaseq_merged_chunks/'\n",
    "\n",
    "transcriptMatricesDir='/nrnb/users/btsui/Data/all_seq/rnaseq_merged_chunks/'\n",
    "\n",
    "inFnameS=pd.Series(os.listdir(transcriptMatricesDir))\n",
    "\n",
    "inDf=inFnameS.str.split('.',expand=True)\n",
    "\n",
    "inDf.columns=['Species','Resolution','Metric','','']\n",
    "\n",
    "inDf.groupby(['Species','Metric','Resolution']).size().unstack()"
   ]
  },
  {
   "cell_type": "code",
   "execution_count": 92,
   "metadata": {},
   "outputs": [],
   "source": [
    "#!ls /nrnb/users/btsui/Data/all_seq/rnaseq_merged_chunks/"
   ]
  },
  {
   "cell_type": "code",
   "execution_count": 118,
   "metadata": {},
   "outputs": [
    {
     "name": "stdout",
     "output_type": "stream",
     "text": [
      "total 56G\r\n",
      "drwxr-xr-x  2 btsui users 128K Aug 29 11:40 .\r\n",
      "-rw-r--r--  1 btsui users  50G Aug 29 11:34 Homo_sapiens.est_counts.gene_symbol.npy\r\n",
      "-rw-r--r--  1 btsui users 5.4G Aug 29 11:34 Homo_sapiens.est_counts.gene_symbol.npy.gz\r\n",
      "-rw-r--r--  1 btsui users 2.1M Aug 29 11:33 Homo_sapiens.est_counts.gene_symbol.columns.txt\r\n",
      "-rw-r--r--  1 btsui users 268K Aug 29 11:33 Homo_sapiens.est_counts.gene_symbol.index.txt\r\n",
      "drwxr-xr-x 18 btsui users 128K Aug 29 10:41 ..\r\n",
      "-rw-r--r--  1 btsui users 502K Aug 28 20:25 Danio_rerio.gene_symbol.est_counts.npy\r\n",
      "-rw-r--r--  1 btsui users   99 Aug 28 20:25 Danio_rerio.gene_symbol.est_counts.columns.txt\r\n",
      "-rw-r--r--  1 btsui users 221K Aug 28 20:25 Danio_rerio.gene_symbol.est_counts.index.txt\r\n",
      "-rw-r--r--  1 btsui users 762K Aug 28 20:24 Canis_familiaris.gene_symbol.tpm.npy\r\n",
      "-rw-r--r--  1 btsui users  285 Aug 28 20:24 Canis_familiaris.gene_symbol.tpm.columns.txt\r\n",
      "-rw-r--r--  1 btsui users  94K Aug 28 20:24 Canis_familiaris.gene_symbol.tpm.index.txt\r\n",
      "-rw-r--r--  1 btsui users 3.0M Aug 28 20:24 Canis_familiaris.gene_symbol.est_counts.npy\r\n",
      "-rw-r--r--  1 btsui users  285 Aug 28 20:24 Canis_familiaris.gene_symbol.est_counts.columns.txt\r\n",
      "-rw-r--r--  1 btsui users  94K Aug 28 20:24 Canis_familiaris.gene_symbol.est_counts.index.txt\r\n",
      "-rw-r--r--  1 btsui users 1.9M Aug 28 19:59 Canis_familiaris.transcript.tpm.pickle\r\n",
      "-rw-r--r--  1 btsui users 1.9M Aug 28 19:50 Canis_familiaris.transcript.est_counts.pickle\r\n",
      "-rw-r--r--  1 btsui users 2.2M Aug 28 18:55 Danio_rerio.transcript.est_counts.pickle\r\n"
     ]
    }
   ],
   "source": [
    "!ls -lath /nrnb/users/btsui/Data/all_seq/rnaseq_merged/"
   ]
  },
  {
   "cell_type": "code",
   "execution_count": null,
   "metadata": {},
   "outputs": [],
   "source": [
    "!ls /nrnb/users/btsui/Data/all_seq/rnaseq_merged"
   ]
  },
  {
   "cell_type": "code",
   "execution_count": null,
   "metadata": {},
   "outputs": [],
   "source": []
  }
 ],
 "metadata": {
  "kernelspec": {
   "display_name": "Python [default]",
   "language": "python",
   "name": "python3"
  },
  "language_info": {
   "codemirror_mode": {
    "name": "ipython",
    "version": 3
   },
   "file_extension": ".py",
   "mimetype": "text/x-python",
   "name": "python",
   "nbconvert_exporter": "python",
   "pygments_lexer": "ipython3",
   "version": "3.6.5"
  }
 },
 "nbformat": 4,
 "nbformat_minor": 2
}
