{
 "cells": [
  {
   "cell_type": "code",
   "execution_count": 1,
   "metadata": {},
   "outputs": [],
   "source": [
    "#!ls -lah /nrnb/users/btsui/Data/all_seq/rnaseq_merged_chunks/> .ls_out"
   ]
  },
  {
   "cell_type": "code",
   "execution_count": 2,
   "metadata": {},
   "outputs": [
    {
     "data": {
      "text/html": [
       "<div>\n",
       "<style scoped>\n",
       "    .dataframe tbody tr th:only-of-type {\n",
       "        vertical-align: middle;\n",
       "    }\n",
       "\n",
       "    .dataframe tbody tr th {\n",
       "        vertical-align: top;\n",
       "    }\n",
       "\n",
       "    .dataframe thead th {\n",
       "        text-align: right;\n",
       "    }\n",
       "</style>\n",
       "<table border=\"1\" class=\"dataframe\">\n",
       "  <thead>\n",
       "    <tr style=\"text-align: right;\">\n",
       "      <th></th>\n",
       "      <th>Resolution</th>\n",
       "      <th>gene_symbol</th>\n",
       "      <th>transcript</th>\n",
       "    </tr>\n",
       "    <tr>\n",
       "      <th>Species</th>\n",
       "      <th>Metric</th>\n",
       "      <th></th>\n",
       "      <th></th>\n",
       "    </tr>\n",
       "  </thead>\n",
       "  <tbody>\n",
       "    <tr>\n",
       "      <th rowspan=\"2\" valign=\"top\">Canis_familiaris</th>\n",
       "      <th>est_counts</th>\n",
       "      <td>NaN</td>\n",
       "      <td>2.0</td>\n",
       "    </tr>\n",
       "    <tr>\n",
       "      <th>tpm</th>\n",
       "      <td>NaN</td>\n",
       "      <td>2.0</td>\n",
       "    </tr>\n",
       "    <tr>\n",
       "      <th rowspan=\"2\" valign=\"top\">Danio_rerio</th>\n",
       "      <th>est_counts</th>\n",
       "      <td>NaN</td>\n",
       "      <td>74.0</td>\n",
       "    </tr>\n",
       "    <tr>\n",
       "      <th>tpm</th>\n",
       "      <td>NaN</td>\n",
       "      <td>74.0</td>\n",
       "    </tr>\n",
       "    <tr>\n",
       "      <th rowspan=\"2\" valign=\"top\">Drosophila_melanogaster</th>\n",
       "      <th>est_counts</th>\n",
       "      <td>NaN</td>\n",
       "      <td>74.0</td>\n",
       "    </tr>\n",
       "    <tr>\n",
       "      <th>tpm</th>\n",
       "      <td>NaN</td>\n",
       "      <td>74.0</td>\n",
       "    </tr>\n",
       "    <tr>\n",
       "      <th rowspan=\"2\" valign=\"top\">Homo_sapiens</th>\n",
       "      <th>est_counts</th>\n",
       "      <td>86.0</td>\n",
       "      <td>86.0</td>\n",
       "    </tr>\n",
       "    <tr>\n",
       "      <th>tpm</th>\n",
       "      <td>86.0</td>\n",
       "      <td>86.0</td>\n",
       "    </tr>\n",
       "    <tr>\n",
       "      <th rowspan=\"2\" valign=\"top\">Mus_musculus</th>\n",
       "      <th>est_counts</th>\n",
       "      <td>NaN</td>\n",
       "      <td>88.0</td>\n",
       "    </tr>\n",
       "    <tr>\n",
       "      <th>tpm</th>\n",
       "      <td>NaN</td>\n",
       "      <td>88.0</td>\n",
       "    </tr>\n",
       "  </tbody>\n",
       "</table>\n",
       "</div>"
      ],
      "text/plain": [
       "Resolution                          gene_symbol  transcript\n",
       "Species                 Metric                             \n",
       "Canis_familiaris        est_counts          NaN         2.0\n",
       "                        tpm                 NaN         2.0\n",
       "Danio_rerio             est_counts          NaN        74.0\n",
       "                        tpm                 NaN        74.0\n",
       "Drosophila_melanogaster est_counts          NaN        74.0\n",
       "                        tpm                 NaN        74.0\n",
       "Homo_sapiens            est_counts         86.0        86.0\n",
       "                        tpm                86.0        86.0\n",
       "Mus_musculus            est_counts          NaN        88.0\n",
       "                        tpm                 NaN        88.0"
      ]
     },
     "execution_count": 2,
     "metadata": {},
     "output_type": "execute_result"
    }
   ],
   "source": [
    "import numpy as np\n",
    "from tqdm import tqdm\n",
    "import pandas as pd\n",
    "import os\n",
    "import gc\n",
    "def exportDf(fname,myDF):\n",
    "    import numpy as np\n",
    "    with open(fname+'.index.txt','w') as f:\n",
    "        f.write(\"\\n\".join(myDF.index.values))\n",
    "    with open(fname+'.columns.txt','w') as f:\n",
    "        f.write(\"\\n\".join(myDF.columns))\n",
    "    np.save(fname+\".npy\",myDF.values)\n",
    "\n",
    "#transcriptMatricesDir='/nrnb/users/btsui/Data/all_seq/rnaseq_merged_chunks/'\n",
    "transcriptMatricesDir='/nrnb/users/btsui/Data/all_seq/rnaseq_merged_chunks/'\n",
    "inFnameS=pd.Series(os.listdir(transcriptMatricesDir))\n",
    "inDf=inFnameS.str.split('.',expand=True)\n",
    "inDf.columns=['Species','Resolution','Metric','','']\n",
    "inDf['fname']=inFnameS\n",
    "inDf.groupby(['Species','Metric','Resolution']).size().unstack()"
   ]
  },
  {
   "cell_type": "code",
   "execution_count": 6,
   "metadata": {},
   "outputs": [
    {
     "data": {
      "text/html": [
       "<div>\n",
       "<style scoped>\n",
       "    .dataframe tbody tr th:only-of-type {\n",
       "        vertical-align: middle;\n",
       "    }\n",
       "\n",
       "    .dataframe tbody tr th {\n",
       "        vertical-align: top;\n",
       "    }\n",
       "\n",
       "    .dataframe thead th {\n",
       "        text-align: right;\n",
       "    }\n",
       "</style>\n",
       "<table border=\"1\" class=\"dataframe\">\n",
       "  <thead>\n",
       "    <tr style=\"text-align: right;\">\n",
       "      <th></th>\n",
       "      <th>Species</th>\n",
       "      <th>Resolution</th>\n",
       "      <th>Metric</th>\n",
       "      <th></th>\n",
       "      <th></th>\n",
       "      <th>fname</th>\n",
       "    </tr>\n",
       "  </thead>\n",
       "  <tbody>\n",
       "  </tbody>\n",
       "</table>\n",
       "</div>"
      ],
      "text/plain": [
       "Empty DataFrame\n",
       "Columns: [Species, Resolution, Metric, , , fname]\n",
       "Index: []"
      ]
     },
     "execution_count": 6,
     "metadata": {},
     "output_type": "execute_result"
    }
   ],
   "source": [
    "inDf=inDf[(inDf.Species=='Mus_musculus')&(inDf.Resolution=='gene_symbol')]"
   ]
  },
  {
   "cell_type": "code",
   "execution_count": 5,
   "metadata": {},
   "outputs": [],
   "source": [
    "for (Species,Metric,Resolution),subDf  in inDf.groupby(['Species','Metric','Resolution']):\n",
    "    mergedDfFname=\".\".join([Species,Resolution, Metric])\n",
    "    outMergedDir='/nrnb/users/btsui/Data/all_seq/rnaseq_merged/'\n",
    "    outPrefix=outMergedDir+mergedDfFname\n",
    "    print('output prefix: ',outPrefix)\n",
    "    myL=[pd.read_pickle(transcriptMatricesDir+fname) for fname in tqdm(subDf.fname.values)]\n",
    "    mergedDf=pd.concat(myL,axis=1,copy=False)\n",
    "    exportDf(outPrefix,mergedDf)\n",
    "    os.system('pigz --force --keep {}.npy'.format(outPrefix))\n",
    "    del(mergedDf,)\n",
    "    gc.collect()"
   ]
  },
  {
   "cell_type": "code",
   "execution_count": 55,
   "metadata": {},
   "outputs": [
    {
     "name": "stdout",
     "output_type": "stream",
     "text": [
      "output prefix:  /nrnb/users/btsui/Data/all_seq/rnaseq_merged/Homo_sapiens.est_counts.gene_symbol\n"
     ]
    }
   ],
   "source": []
  },
  {
   "cell_type": "code",
   "execution_count": 56,
   "metadata": {},
   "outputs": [
    {
     "ename": "NameError",
     "evalue": "name 'exportDf' is not defined",
     "output_type": "error",
     "traceback": [
      "\u001b[0;31m---------------------------------------------------------------------------\u001b[0m",
      "\u001b[0;31mNameError\u001b[0m                                 Traceback (most recent call last)",
      "\u001b[0;32m<ipython-input-56-7c026a23d831>\u001b[0m in \u001b[0;36m<module>\u001b[0;34m()\u001b[0m\n\u001b[0;32m----> 1\u001b[0;31m \u001b[0mexportDf\u001b[0m\u001b[0;34m(\u001b[0m\u001b[0moutPrefix\u001b[0m\u001b[0;34m,\u001b[0m\u001b[0mmergedDf\u001b[0m\u001b[0;34m)\u001b[0m\u001b[0;34m\u001b[0m\u001b[0m\n\u001b[0m",
      "\u001b[0;31mNameError\u001b[0m: name 'exportDf' is not defined"
     ]
    }
   ],
   "source": []
  },
  {
   "cell_type": "code",
   "execution_count": null,
   "metadata": {},
   "outputs": [],
   "source": []
  },
  {
   "cell_type": "code",
   "execution_count": null,
   "metadata": {},
   "outputs": [],
   "source": [
    "### ten fold reduction in transfer speed"
   ]
  },
  {
   "cell_type": "code",
   "execution_count": 47,
   "metadata": {},
   "outputs": [
    {
     "ename": "NameError",
     "evalue": "name 'mergedDf' is not defined",
     "output_type": "error",
     "traceback": [
      "\u001b[0;31m---------------------------------------------------------------------------\u001b[0m",
      "\u001b[0;31mNameError\u001b[0m                                 Traceback (most recent call last)",
      "\u001b[0;32m<ipython-input-47-f5d8c507764c>\u001b[0m in \u001b[0;36m<module>\u001b[0;34m()\u001b[0m\n\u001b[1;32m      1\u001b[0m \u001b[0mmergedDfFname\u001b[0m\u001b[0;34m\u001b[0m\u001b[0m\n\u001b[0;32m----> 2\u001b[0;31m \u001b[0mmergedDf\u001b[0m\u001b[0;34m\u001b[0m\u001b[0m\n\u001b[0m",
      "\u001b[0;31mNameError\u001b[0m: name 'mergedDf' is not defined"
     ]
    }
   ],
   "source": [
    "mergedDfFname\n"
   ]
  },
  {
   "cell_type": "code",
   "execution_count": 62,
   "metadata": {},
   "outputs": [
    {
     "name": "stdout",
     "output_type": "stream",
     "text": [
      "total 49G\r\n",
      "drwxr-xr-x  2 btsui users 128K Aug 29 11:33 .\r\n",
      "drwxr-xr-x 18 btsui users 128K Aug 29 10:41 ..\r\n",
      "-rw-r--r--  1 btsui users  285 Aug 28 20:24 Canis_familiaris.gene_symbol.est_counts.columns.txt\r\n",
      "-rw-r--r--  1 btsui users  94K Aug 28 20:24 Canis_familiaris.gene_symbol.est_counts.index.txt\r\n",
      "-rw-r--r--  1 btsui users 3.0M Aug 28 20:24 Canis_familiaris.gene_symbol.est_counts.npy\r\n",
      "-rw-r--r--  1 btsui users  285 Aug 28 20:24 Canis_familiaris.gene_symbol.tpm.columns.txt\r\n",
      "-rw-r--r--  1 btsui users  94K Aug 28 20:24 Canis_familiaris.gene_symbol.tpm.index.txt\r\n",
      "-rw-r--r--  1 btsui users 762K Aug 28 20:24 Canis_familiaris.gene_symbol.tpm.npy\r\n",
      "-rw-r--r--  1 btsui users 1.9M Aug 28 19:50 Canis_familiaris.transcript.est_counts.pickle\r\n",
      "-rw-r--r--  1 btsui users 1.9M Aug 28 19:59 Canis_familiaris.transcript.tpm.pickle\r\n",
      "-rw-r--r--  1 btsui users   99 Aug 28 20:25 Danio_rerio.gene_symbol.est_counts.columns.txt\r\n",
      "-rw-r--r--  1 btsui users 221K Aug 28 20:25 Danio_rerio.gene_symbol.est_counts.index.txt\r\n",
      "-rw-r--r--  1 btsui users 502K Aug 28 20:25 Danio_rerio.gene_symbol.est_counts.npy\r\n",
      "-rw-r--r--  1 btsui users 2.2M Aug 28 18:55 Danio_rerio.transcript.est_counts.pickle\r\n",
      "-rw-r--r--  1 btsui users 2.1M Aug 29 11:33 Homo_sapiens.est_counts.gene_symbol.columns.txt\r\n",
      "-rw-r--r--  1 btsui users 268K Aug 29 11:33 Homo_sapiens.est_counts.gene_symbol.index.txt\r\n",
      "-rw-r--r--  1 btsui users  50G Aug 29 11:34 Homo_sapiens.est_counts.gene_symbol.npy\r\n"
     ]
    }
   ],
   "source": [
    "!ls -lah /nrnb/users/btsui/Data/all_seq/rnaseq_merged/"
   ]
  },
  {
   "cell_type": "code",
   "execution_count": 65,
   "metadata": {},
   "outputs": [],
   "source": [
    "!pigz --keep /nrnb/users/btsui/Data/all_seq/rnaseq_merged/Homo_sapiens.est_counts.gene_symbol.npy"
   ]
  },
  {
   "cell_type": "code",
   "execution_count": 64,
   "metadata": {},
   "outputs": [
    {
     "name": "stdout",
     "output_type": "stream",
     "text": [
      "Canis_familiaris.gene_symbol.est_counts.columns.txt\r\n",
      "Canis_familiaris.gene_symbol.est_counts.index.txt\r\n",
      "Canis_familiaris.gene_symbol.est_counts.npy\r\n",
      "Canis_familiaris.gene_symbol.tpm.columns.txt\r\n",
      "Canis_familiaris.gene_symbol.tpm.index.txt\r\n",
      "Canis_familiaris.gene_symbol.tpm.npy\r\n",
      "Canis_familiaris.transcript.est_counts.pickle\r\n",
      "Canis_familiaris.transcript.tpm.pickle\r\n",
      "Danio_rerio.gene_symbol.est_counts.columns.txt\r\n",
      "Danio_rerio.gene_symbol.est_counts.index.txt\r\n",
      "Danio_rerio.gene_symbol.est_counts.npy\r\n",
      "Danio_rerio.transcript.est_counts.pickle\r\n",
      "Homo_sapiens.est_counts.gene_symbol.columns.txt\r\n",
      "Homo_sapiens.est_counts.gene_symbol.index.txt\r\n",
      "Homo_sapiens.est_counts.gene_symbol.npy\r\n"
     ]
    }
   ],
   "source": [
    "!ls /nrnb/users/btsui/Data/all_seq/rnaseq_merged/"
   ]
  },
  {
   "cell_type": "code",
   "execution_count": null,
   "metadata": {},
   "outputs": [],
   "source": [
    "#myL=[]\n",
    "srrIds=pd.concat([tmpDf.columns for tmpDf in myL])"
   ]
  },
  {
   "cell_type": "code",
   "execution_count": 26,
   "metadata": {},
   "outputs": [
    {
     "data": {
      "text/plain": [
       "(34739, 7422)"
      ]
     },
     "execution_count": 26,
     "metadata": {},
     "output_type": "execute_result"
    }
   ],
   "source": [
    "genes=myL[0].index"
   ]
  },
  {
   "cell_type": "code",
   "execution_count": 28,
   "metadata": {},
   "outputs": [
    {
     "data": {
      "text/plain": [
       "'/cellar/users/btsui/Project/METAMAP/notebook/RapMapTest/Pipelines/RNAseq/merge'"
      ]
     },
     "execution_count": 28,
     "metadata": {},
     "output_type": "execute_result"
    }
   ],
   "source": [
    "pd.DataFrame(stackM,index=genes)"
   ]
  },
  {
   "cell_type": "code",
   "execution_count": null,
   "metadata": {},
   "outputs": [],
   "source": []
  }
 ],
 "metadata": {
  "kernelspec": {
   "display_name": "Python [default]",
   "language": "python",
   "name": "python3"
  },
  "language_info": {
   "codemirror_mode": {
    "name": "ipython",
    "version": 3
   },
   "file_extension": ".py",
   "mimetype": "text/x-python",
   "name": "python",
   "nbconvert_exporter": "python",
   "pygments_lexer": "ipython3",
   "version": "3.6.5"
  }
 },
 "nbformat": 4,
 "nbformat_minor": 2
}
