{
 "cells": [
  {
   "cell_type": "code",
   "execution_count": 13,
   "metadata": {},
   "outputs": [],
   "source": [
    "import synapseclient\n",
    "import pandas as pd\n",
    "import os"
   ]
  },
  {
   "cell_type": "code",
   "execution_count": 153,
   "metadata": {},
   "outputs": [],
   "source": [
    "syn = synapseclient.Synapse()\n"
   ]
  },
  {
   "cell_type": "code",
   "execution_count": 154,
   "metadata": {},
   "outputs": [
    {
     "name": "stdout",
     "output_type": "stream",
     "text": [
      "Welcome, Brian Yik Tak Tsui!\n",
      "\n"
     ]
    }
   ],
   "source": [
    "syn.login(email='btsui@eng.ucsd.edu',rememberMe=True)"
   ]
  },
  {
   "cell_type": "code",
   "execution_count": 122,
   "metadata": {},
   "outputs": [],
   "source": [
    "#!ls /cellar/users/btsui/."
   ]
  },
  {
   "cell_type": "code",
   "execution_count": 166,
   "metadata": {},
   "outputs": [],
   "source": [
    "#!ls /nrnb/users/btsui/Data/all_seq/rnaseq_merged/"
   ]
  },
  {
   "cell_type": "code",
   "execution_count": 124,
   "metadata": {},
   "outputs": [],
   "source": [
    "#!ls -alh /nrnb/users/btsui/Data/all_seq/rnaseq_merged/"
   ]
  },
  {
   "cell_type": "code",
   "execution_count": 125,
   "metadata": {},
   "outputs": [],
   "source": [
    "#!rm /nrnb/users/btsui/Data/all_seq/rnaseq_merged/Homo_sapiens.est_counts.gene_symbol.columns.txt"
   ]
  },
  {
   "cell_type": "code",
   "execution_count": 165,
   "metadata": {},
   "outputs": [],
   "source": [
    "#!ls /nrnb/users/btsui/Data/all_seq/rnaseq_merged/"
   ]
  },
  {
   "cell_type": "code",
   "execution_count": 163,
   "metadata": {},
   "outputs": [],
   "source": [
    "mergedMatricesDir='/nrnb/users/btsui/Data/all_seq/rnaseq_merged/'\n",
    "inFnameS=pd.Series(os.listdir(mergedMatricesDir))"
   ]
  },
  {
   "cell_type": "code",
   "execution_count": 164,
   "metadata": {},
   "outputs": [],
   "source": [
    "m_postfix=~inFnameS.str.contains('(?:\\.npy|\\.pickle)$')\n",
    "m_metric_type=inFnameS.str.contains('gene_symbol')\n",
    "uploadFiles=inFnameS[m_metric_type&m_postfix].sort_values()\n"
   ]
  },
  {
   "cell_type": "code",
   "execution_count": 167,
   "metadata": {},
   "outputs": [
    {
     "data": {
      "text/plain": [
       "32    Canis_familiaris.gene_symbol.est_counts.column...\n",
       "17    Canis_familiaris.gene_symbol.est_counts.index.txt\n",
       "24       Canis_familiaris.gene_symbol.est_counts.npy.gz\n",
       "26         Canis_familiaris.gene_symbol.tpm.columns.txt\n",
       "7            Canis_familiaris.gene_symbol.tpm.index.txt\n",
       "34              Canis_familiaris.gene_symbol.tpm.npy.gz\n",
       "36       Danio_rerio.gene_symbol.est_counts.columns.txt\n",
       "18         Danio_rerio.gene_symbol.est_counts.index.txt\n",
       "1             Danio_rerio.gene_symbol.est_counts.npy.gz\n",
       "38      Homo_sapiens.gene_symbol.est_counts.columns.txt\n",
       "31        Homo_sapiens.gene_symbol.est_counts.index.txt\n",
       "4            Homo_sapiens.gene_symbol.est_counts.npy.gz\n",
       "23             Homo_sapiens.gene_symbol.tpm.columns.txt\n",
       "25               Homo_sapiens.gene_symbol.tpm.index.txt\n",
       "3                   Homo_sapiens.gene_symbol.tpm.npy.gz\n",
       "dtype: object"
      ]
     },
     "execution_count": 167,
     "metadata": {},
     "output_type": "execute_result"
    }
   ],
   "source": [
    "uploadFiles"
   ]
  },
  {
   "cell_type": "markdown",
   "metadata": {},
   "source": [
    "### upload to synapse"
   ]
  },
  {
   "cell_type": "code",
   "execution_count": null,
   "metadata": {},
   "outputs": [],
   "source": []
  },
  {
   "cell_type": "code",
   "execution_count": 155,
   "metadata": {},
   "outputs": [],
   "source": [
    "parent_folder='syn16555093'"
   ]
  },
  {
   "cell_type": "code",
   "execution_count": 156,
   "metadata": {},
   "outputs": [],
   "source": [
    "import datetime\n",
    "\n",
    "now = datetime.datetime.now()"
   ]
  },
  {
   "cell_type": "code",
   "execution_count": 157,
   "metadata": {},
   "outputs": [],
   "source": [
    "timeStamp=now.strftime(\"%Y-%m-%d-%H_%M\")"
   ]
  },
  {
   "cell_type": "code",
   "execution_count": 158,
   "metadata": {},
   "outputs": [],
   "source": [
    "results_folder = synapseclient.Folder(name=timeStamp, parent=parent_folder)\n",
    "results_folder = syn.store(results_folder)"
   ]
  },
  {
   "cell_type": "code",
   "execution_count": null,
   "metadata": {},
   "outputs": [],
   "source": []
  },
  {
   "cell_type": "code",
   "execution_count": 161,
   "metadata": {},
   "outputs": [],
   "source": [
    "#myFolder=syn.get(parent_folder)"
   ]
  },
  {
   "cell_type": "code",
   "execution_count": null,
   "metadata": {},
   "outputs": [],
   "source": []
  },
  {
   "cell_type": "code",
   "execution_count": 162,
   "metadata": {},
   "outputs": [],
   "source": [
    "#myFolder"
   ]
  },
  {
   "cell_type": "code",
   "execution_count": 168,
   "metadata": {},
   "outputs": [],
   "source": [
    "from tqdm import tqdm"
   ]
  },
  {
   "cell_type": "code",
   "execution_count": 169,
   "metadata": {},
   "outputs": [
    {
     "name": "stderr",
     "output_type": "stream",
     "text": [
      "\n",
      "  0%|          | 0/15 [00:00<?, ?it/s]\u001b[A"
     ]
    },
    {
     "name": "stdout",
     "output_type": "stream",
     "text": [
      "\n",
      "##################################################\n",
      " Uploading file to Synapse storage \n",
      "##################################################\n",
      "\n"
     ]
    },
    {
     "name": "stderr",
     "output_type": "stream",
     "text": [
      "\n",
      "  7%|▋         | 1/15 [00:01<00:21,  1.55s/it]\u001b[A"
     ]
    },
    {
     "name": "stdout",
     "output_type": "stream",
     "text": [
      "\n",
      "##################################################\n",
      " Uploading file to Synapse storage \n",
      "##################################################\n",
      "\n"
     ]
    },
    {
     "name": "stderr",
     "output_type": "stream",
     "text": [
      "\n",
      " 13%|█▎        | 2/15 [00:02<00:19,  1.48s/it]\u001b[A"
     ]
    },
    {
     "name": "stdout",
     "output_type": "stream",
     "text": [
      "\n",
      "##################################################\n",
      " Uploading file to Synapse storage \n",
      "##################################################\n",
      "\n"
     ]
    },
    {
     "name": "stderr",
     "output_type": "stream",
     "text": [
      "\n",
      " 20%|██        | 3/15 [00:03<00:15,  1.33s/it]\u001b[A"
     ]
    },
    {
     "name": "stdout",
     "output_type": "stream",
     "text": [
      "\n",
      "##################################################\n",
      " Uploading file to Synapse storage \n",
      "##################################################\n",
      "\n"
     ]
    },
    {
     "name": "stderr",
     "output_type": "stream",
     "text": [
      "\n",
      " 27%|██▋       | 4/15 [00:04<00:13,  1.24s/it]\u001b[A"
     ]
    },
    {
     "name": "stdout",
     "output_type": "stream",
     "text": [
      "\n",
      "##################################################\n",
      " Uploading file to Synapse storage \n",
      "##################################################\n",
      "\n"
     ]
    },
    {
     "name": "stderr",
     "output_type": "stream",
     "text": [
      "\n",
      " 33%|███▎      | 5/15 [00:06<00:12,  1.21s/it]\u001b[A"
     ]
    },
    {
     "name": "stdout",
     "output_type": "stream",
     "text": [
      "\n",
      "##################################################\n",
      " Uploading file to Synapse storage \n",
      "##################################################\n",
      "\n"
     ]
    },
    {
     "name": "stderr",
     "output_type": "stream",
     "text": [
      "\n",
      " 40%|████      | 6/15 [00:07<00:10,  1.20s/it]\u001b[A"
     ]
    },
    {
     "name": "stdout",
     "output_type": "stream",
     "text": [
      "\n",
      "##################################################\n",
      " Uploading file to Synapse storage \n",
      "##################################################\n",
      "\n"
     ]
    },
    {
     "name": "stderr",
     "output_type": "stream",
     "text": [
      "\n",
      " 47%|████▋     | 7/15 [00:08<00:09,  1.19s/it]\u001b[A"
     ]
    },
    {
     "name": "stdout",
     "output_type": "stream",
     "text": [
      "\n",
      "##################################################\n",
      " Uploading file to Synapse storage \n",
      "##################################################\n",
      "\n"
     ]
    },
    {
     "name": "stderr",
     "output_type": "stream",
     "text": [
      "\n",
      " 53%|█████▎    | 8/15 [00:09<00:08,  1.21s/it]\u001b[A"
     ]
    },
    {
     "name": "stdout",
     "output_type": "stream",
     "text": [
      "\n",
      "##################################################\n",
      " Uploading file to Synapse storage \n",
      "##################################################\n",
      "\n"
     ]
    },
    {
     "name": "stderr",
     "output_type": "stream",
     "text": [
      "\n",
      " 60%|██████    | 9/15 [00:10<00:07,  1.20s/it]\u001b[A"
     ]
    },
    {
     "name": "stdout",
     "output_type": "stream",
     "text": [
      "\n",
      "##################################################\n",
      " Uploading file to Synapse storage \n",
      "##################################################\n",
      "\n"
     ]
    },
    {
     "name": "stderr",
     "output_type": "stream",
     "text": [
      "\n",
      " 67%|██████▋   | 10/15 [00:13<00:06,  1.39s/it]\u001b[A"
     ]
    },
    {
     "name": "stdout",
     "output_type": "stream",
     "text": [
      "\n",
      "##################################################\n",
      " Uploading file to Synapse storage \n",
      "##################################################\n",
      "\n"
     ]
    },
    {
     "name": "stderr",
     "output_type": "stream",
     "text": [
      "\n",
      " 73%|███████▎  | 11/15 [00:16<00:06,  1.53s/it]\u001b[A"
     ]
    },
    {
     "name": "stdout",
     "output_type": "stream",
     "text": [
      "\n",
      "##################################################\n",
      " Uploading file to Synapse storage \n",
      "##################################################\n",
      "\n"
     ]
    },
    {
     "name": "stderr",
     "output_type": "stream",
     "text": [
      "\n",
      " 80%|████████  | 12/15 [05:02<01:15, 25.17s/it]\u001b[A"
     ]
    },
    {
     "name": "stdout",
     "output_type": "stream",
     "text": [
      "\n",
      "##################################################\n",
      " Uploading file to Synapse storage \n",
      "##################################################\n",
      "\n"
     ]
    },
    {
     "name": "stderr",
     "output_type": "stream",
     "text": [
      "\n",
      " 87%|████████▋ | 13/15 [05:06<00:47, 23.54s/it]\u001b[A"
     ]
    },
    {
     "name": "stdout",
     "output_type": "stream",
     "text": [
      "\n",
      "##################################################\n",
      " Uploading file to Synapse storage \n",
      "##################################################\n",
      "\n"
     ]
    },
    {
     "name": "stderr",
     "output_type": "stream",
     "text": [
      "\n",
      " 93%|█████████▎| 14/15 [05:08<00:22, 22.07s/it]\u001b[A"
     ]
    },
    {
     "name": "stdout",
     "output_type": "stream",
     "text": [
      "\n",
      "##################################################\n",
      " Uploading file to Synapse storage \n",
      "##################################################\n",
      "\n"
     ]
    },
    {
     "name": "stderr",
     "output_type": "stream",
     "text": [
      "\n",
      "100%|██████████| 15/15 [09:57<00:00, 39.83s/it]\u001b[A\n",
      "\u001b[A"
     ]
    }
   ],
   "source": [
    "for fname in tqdm(uploadFiles.values):\n",
    "    raw_data_file = synapseclient.File(path=mergedMatricesDir+fname, parent=results_folder)\n",
    "    raw_data_file = syn.store(raw_data_file)\n"
   ]
  },
  {
   "cell_type": "code",
   "execution_count": null,
   "metadata": {},
   "outputs": [],
   "source": []
  },
  {
   "cell_type": "code",
   "execution_count": 68,
   "metadata": {},
   "outputs": [],
   "source": [
    "#for npyFile in inFnameS[inFnameS.str.contains('.npy$')]:\n",
    "#    npyFile"
   ]
  },
  {
   "cell_type": "code",
   "execution_count": 80,
   "metadata": {},
   "outputs": [
    {
     "data": {
      "text/plain": [
       "21    Canis_familiaris.gene_symbol.est_counts.column...\n",
       "13    Canis_familiaris.gene_symbol.est_counts.index.txt\n",
       "8           Canis_familiaris.gene_symbol.est_counts.npy\n",
       "18       Canis_familiaris.gene_symbol.est_counts.npy.gz\n",
       "19         Canis_familiaris.gene_symbol.tpm.columns.txt\n",
       "6            Canis_familiaris.gene_symbol.tpm.index.txt\n",
       "11                 Canis_familiaris.gene_symbol.tpm.npy\n",
       "23              Canis_familiaris.gene_symbol.tpm.npy.gz\n",
       "25       Danio_rerio.gene_symbol.est_counts.columns.txt\n",
       "14         Danio_rerio.gene_symbol.est_counts.index.txt\n",
       "24               Danio_rerio.gene_symbol.est_counts.npy\n",
       "2             Danio_rerio.gene_symbol.est_counts.npy.gz\n",
       "26      Homo_sapiens.est_counts.gene_symbol.columns.txt\n",
       "5         Homo_sapiens.est_counts.gene_symbol.index.txt\n",
       "9               Homo_sapiens.est_counts.gene_symbol.npy\n",
       "15           Homo_sapiens.est_counts.gene_symbol.npy.gz\n",
       "0              Homo_sapiens.tpm.gene_symbol.columns.txt\n",
       "4                Homo_sapiens.tpm.gene_symbol.index.txt\n",
       "20                     Homo_sapiens.tpm.gene_symbol.npy\n",
       "dtype: object"
      ]
     },
     "execution_count": 80,
     "metadata": {},
     "output_type": "execute_result"
    }
   ],
   "source": []
  },
  {
   "cell_type": "code",
   "execution_count": 73,
   "metadata": {},
   "outputs": [],
   "source": [
    "#uploadFiles"
   ]
  },
  {
   "cell_type": "code",
   "execution_count": 62,
   "metadata": {},
   "outputs": [],
   "source": [
    "#inFnameS"
   ]
  },
  {
   "cell_type": "code",
   "execution_count": 57,
   "metadata": {},
   "outputs": [],
   "source": [
    "#!pigz --keep /nrnb/users/btsui/Data/all_seq/rnaseq_merged/Danio_rerio.gene_symbol.est_counts.npy"
   ]
  },
  {
   "cell_type": "code",
   "execution_count": null,
   "metadata": {},
   "outputs": [],
   "source": []
  },
  {
   "cell_type": "code",
   "execution_count": 51,
   "metadata": {},
   "outputs": [
    {
     "name": "stdout",
     "output_type": "stream",
     "text": [
      "Canis_familiaris.gene_symbol.est_counts.columns.txt\r\n",
      "Canis_familiaris.gene_symbol.est_counts.index.txt\r\n",
      "Canis_familiaris.gene_symbol.est_counts.npy\r\n",
      "Canis_familiaris.gene_symbol.tpm.columns.txt\r\n",
      "Canis_familiaris.gene_symbol.tpm.index.txt\r\n",
      "Canis_familiaris.gene_symbol.tpm.npy\r\n",
      "Canis_familiaris.transcript.est_counts.pickle\r\n",
      "Canis_familiaris.transcript.est_counts.pickle.gz\r\n",
      "Canis_familiaris.transcript.tpm.pickle\r\n",
      "Canis_familiaris.transcript.tpm.pickle.gz\r\n",
      "Danio_rerio.gene_symbol.est_counts.columns.txt\r\n",
      "Danio_rerio.gene_symbol.est_counts.index.txt\r\n",
      "Danio_rerio.gene_symbol.est_counts.npy\r\n",
      "Danio_rerio.gene_symbol.est_counts.npy.gz\r\n",
      "Danio_rerio.transcript.est_counts.pickle\r\n",
      "Homo_sapiens.est_counts.gene_symbol.columns.txt\r\n",
      "Homo_sapiens.est_counts.gene_symbol.index.txt\r\n",
      "Homo_sapiens.est_counts.gene_symbol.npy\r\n",
      "Homo_sapiens.est_counts.gene_symbol.npy.gz\r\n",
      "Homo_sapiens.est_counts.transcript.columns.txt\r\n",
      "Homo_sapiens.est_counts.transcript.index.txt\r\n",
      "Homo_sapiens.est_counts.transcript.npy\r\n",
      "Homo_sapiens.est_counts.transcript.npy.gz\r\n"
     ]
    }
   ],
   "source": [
    "!ls /nrnb/users/btsui/Data/all_seq/rnaseq_merged/"
   ]
  },
  {
   "cell_type": "code",
   "execution_count": null,
   "metadata": {},
   "outputs": [],
   "source": []
  }
 ],
 "metadata": {
  "kernelspec": {
   "display_name": "Python [default]",
   "language": "python",
   "name": "python3"
  },
  "language_info": {
   "codemirror_mode": {
    "name": "ipython",
    "version": 3
   },
   "file_extension": ".py",
   "mimetype": "text/x-python",
   "name": "python",
   "nbconvert_exporter": "python",
   "pygments_lexer": "ipython3",
   "version": "3.6.5"
  }
 },
 "nbformat": 4,
 "nbformat_minor": 2
}
