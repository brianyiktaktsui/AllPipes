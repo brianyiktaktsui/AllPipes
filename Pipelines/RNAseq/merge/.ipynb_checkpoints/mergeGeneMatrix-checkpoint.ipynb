{
 "cells": [
  {
   "cell_type": "code",
   "execution_count": 1,
   "metadata": {},
   "outputs": [],
   "source": [
    "#!ls -lah /nrnb/users/btsui/Data/all_seq/rnaseq_merged_chunks/> .ls_out"
   ]
  },
  {
   "cell_type": "code",
   "execution_count": 7,
   "metadata": {},
   "outputs": [
    {
     "data": {
      "text/html": [
       "<div>\n",
       "<style scoped>\n",
       "    .dataframe tbody tr th:only-of-type {\n",
       "        vertical-align: middle;\n",
       "    }\n",
       "\n",
       "    .dataframe tbody tr th {\n",
       "        vertical-align: top;\n",
       "    }\n",
       "\n",
       "    .dataframe thead th {\n",
       "        text-align: right;\n",
       "    }\n",
       "</style>\n",
       "<table border=\"1\" class=\"dataframe\">\n",
       "  <thead>\n",
       "    <tr style=\"text-align: right;\">\n",
       "      <th></th>\n",
       "      <th>Resolution</th>\n",
       "      <th>gene_symbol</th>\n",
       "      <th>transcript</th>\n",
       "    </tr>\n",
       "    <tr>\n",
       "      <th>Species</th>\n",
       "      <th>Metric</th>\n",
       "      <th></th>\n",
       "      <th></th>\n",
       "    </tr>\n",
       "  </thead>\n",
       "  <tbody>\n",
       "    <tr>\n",
       "      <th rowspan=\"2\" valign=\"top\">Canis_familiaris</th>\n",
       "      <th>est_counts</th>\n",
       "      <td>2</td>\n",
       "      <td>2</td>\n",
       "    </tr>\n",
       "    <tr>\n",
       "      <th>tpm</th>\n",
       "      <td>2</td>\n",
       "      <td>2</td>\n",
       "    </tr>\n",
       "    <tr>\n",
       "      <th rowspan=\"2\" valign=\"top\">Danio_rerio</th>\n",
       "      <th>est_counts</th>\n",
       "      <td>74</td>\n",
       "      <td>74</td>\n",
       "    </tr>\n",
       "    <tr>\n",
       "      <th>tpm</th>\n",
       "      <td>74</td>\n",
       "      <td>74</td>\n",
       "    </tr>\n",
       "    <tr>\n",
       "      <th rowspan=\"2\" valign=\"top\">Drosophila_melanogaster</th>\n",
       "      <th>est_counts</th>\n",
       "      <td>74</td>\n",
       "      <td>74</td>\n",
       "    </tr>\n",
       "    <tr>\n",
       "      <th>tpm</th>\n",
       "      <td>74</td>\n",
       "      <td>74</td>\n",
       "    </tr>\n",
       "    <tr>\n",
       "      <th rowspan=\"2\" valign=\"top\">Homo_sapiens</th>\n",
       "      <th>est_counts</th>\n",
       "      <td>86</td>\n",
       "      <td>86</td>\n",
       "    </tr>\n",
       "    <tr>\n",
       "      <th>tpm</th>\n",
       "      <td>86</td>\n",
       "      <td>86</td>\n",
       "    </tr>\n",
       "    <tr>\n",
       "      <th rowspan=\"2\" valign=\"top\">Mus_musculus</th>\n",
       "      <th>est_counts</th>\n",
       "      <td>88</td>\n",
       "      <td>88</td>\n",
       "    </tr>\n",
       "    <tr>\n",
       "      <th>tpm</th>\n",
       "      <td>88</td>\n",
       "      <td>88</td>\n",
       "    </tr>\n",
       "  </tbody>\n",
       "</table>\n",
       "</div>"
      ],
      "text/plain": [
       "Resolution                          gene_symbol  transcript\n",
       "Species                 Metric                             \n",
       "Canis_familiaris        est_counts            2           2\n",
       "                        tpm                   2           2\n",
       "Danio_rerio             est_counts           74          74\n",
       "                        tpm                  74          74\n",
       "Drosophila_melanogaster est_counts           74          74\n",
       "                        tpm                  74          74\n",
       "Homo_sapiens            est_counts           86          86\n",
       "                        tpm                  86          86\n",
       "Mus_musculus            est_counts           88          88\n",
       "                        tpm                  88          88"
      ]
     },
     "execution_count": 7,
     "metadata": {},
     "output_type": "execute_result"
    }
   ],
   "source": [
    "import numpy as np\n",
    "from tqdm import tqdm\n",
    "import pandas as pd\n",
    "import os\n",
    "import gc\n",
    "def exportDf(fname,myDF):\n",
    "    import numpy as np\n",
    "    with open(fname+'.index.txt','w') as f:\n",
    "        f.write(\"\\n\".join(myDF.index.values))\n",
    "    with open(fname+'.columns.txt','w') as f:\n",
    "        f.write(\"\\n\".join(myDF.columns))\n",
    "    np.save(fname+\".npy\",myDF.values)\n",
    "\n",
    "transcriptMatricesDir='/nrnb/users/btsui/Data/all_seq/rnaseq_merged_chunks/'\n",
    "inFnameS=pd.Series(os.listdir(transcriptMatricesDir))\n",
    "inDf=inFnameS.str.split('.',expand=True)\n",
    "inDf.columns=['Species','Resolution','Metric','','']\n",
    "inDf['fname']=inFnameS\n",
    "inDf.groupby(['Species','Metric','Resolution']).size().unstack()"
   ]
  },
  {
   "cell_type": "code",
   "execution_count": 8,
   "metadata": {},
   "outputs": [],
   "source": [
    "inDf=inDf[(inDf.Resolution=='gene_symbol')]"
   ]
  },
  {
   "cell_type": "code",
   "execution_count": 9,
   "metadata": {},
   "outputs": [
    {
     "name": "stderr",
     "output_type": "stream",
     "text": [
      "100%|██████████| 2/2 [00:00<00:00, 27.32it/s]"
     ]
    },
    {
     "name": "stdout",
     "output_type": "stream",
     "text": [
      "output prefix:  /nrnb/users/btsui/Data/all_seq/rnaseq_merged/Canis_familiaris.gene_symbol.est_counts\n"
     ]
    },
    {
     "name": "stderr",
     "output_type": "stream",
     "text": [
      "\n",
      "100%|██████████| 2/2 [00:00<00:00, 29.70it/s]\n",
      "  0%|          | 0/74 [00:00<?, ?it/s]"
     ]
    },
    {
     "name": "stdout",
     "output_type": "stream",
     "text": [
      "output prefix:  /nrnb/users/btsui/Data/all_seq/rnaseq_merged/Canis_familiaris.gene_symbol.tpm\n",
      "output prefix:  /nrnb/users/btsui/Data/all_seq/rnaseq_merged/Danio_rerio.gene_symbol.est_counts\n"
     ]
    },
    {
     "name": "stderr",
     "output_type": "stream",
     "text": [
      "100%|██████████| 74/74 [00:19<00:00,  3.75it/s]\n",
      "  4%|▍         | 3/74 [00:00<00:02, 29.28it/s]"
     ]
    },
    {
     "name": "stdout",
     "output_type": "stream",
     "text": [
      "output prefix:  /nrnb/users/btsui/Data/all_seq/rnaseq_merged/Danio_rerio.gene_symbol.tpm\n"
     ]
    },
    {
     "name": "stderr",
     "output_type": "stream",
     "text": [
      "100%|██████████| 74/74 [00:14<00:00,  5.26it/s]\n",
      "  3%|▎         | 2/74 [00:00<00:04, 15.90it/s]"
     ]
    },
    {
     "name": "stdout",
     "output_type": "stream",
     "text": [
      "output prefix:  /nrnb/users/btsui/Data/all_seq/rnaseq_merged/Drosophila_melanogaster.gene_symbol.est_counts\n"
     ]
    },
    {
     "name": "stderr",
     "output_type": "stream",
     "text": [
      "100%|██████████| 74/74 [00:05<00:00, 13.50it/s]\n",
      "  1%|▏         | 1/74 [00:00<00:11,  6.56it/s]"
     ]
    },
    {
     "name": "stdout",
     "output_type": "stream",
     "text": [
      "output prefix:  /nrnb/users/btsui/Data/all_seq/rnaseq_merged/Drosophila_melanogaster.gene_symbol.tpm\n"
     ]
    },
    {
     "name": "stderr",
     "output_type": "stream",
     "text": [
      "100%|██████████| 74/74 [00:06<00:00, 10.73it/s]\n",
      "  0%|          | 0/86 [00:00<?, ?it/s]"
     ]
    },
    {
     "name": "stdout",
     "output_type": "stream",
     "text": [
      "output prefix:  /nrnb/users/btsui/Data/all_seq/rnaseq_merged/Homo_sapiens.gene_symbol.est_counts\n"
     ]
    },
    {
     "name": "stderr",
     "output_type": "stream",
     "text": [
      "100%|██████████| 86/86 [01:15<00:00,  1.14it/s]\n",
      "  0%|          | 0/86 [00:00<?, ?it/s]"
     ]
    },
    {
     "name": "stdout",
     "output_type": "stream",
     "text": [
      "output prefix:  /nrnb/users/btsui/Data/all_seq/rnaseq_merged/Homo_sapiens.gene_symbol.tpm\n"
     ]
    },
    {
     "name": "stderr",
     "output_type": "stream",
     "text": [
      "100%|██████████| 86/86 [01:21<00:00,  1.05it/s]\n",
      "  0%|          | 0/88 [00:00<?, ?it/s]"
     ]
    },
    {
     "name": "stdout",
     "output_type": "stream",
     "text": [
      "output prefix:  /nrnb/users/btsui/Data/all_seq/rnaseq_merged/Mus_musculus.gene_symbol.est_counts\n"
     ]
    },
    {
     "name": "stderr",
     "output_type": "stream",
     "text": [
      "100%|██████████| 88/88 [01:30<00:00,  1.02s/it]\n",
      "  0%|          | 0/88 [00:00<?, ?it/s]"
     ]
    },
    {
     "name": "stdout",
     "output_type": "stream",
     "text": [
      "output prefix:  /nrnb/users/btsui/Data/all_seq/rnaseq_merged/Mus_musculus.gene_symbol.tpm\n"
     ]
    },
    {
     "name": "stderr",
     "output_type": "stream",
     "text": [
      "100%|██████████| 88/88 [01:41<00:00,  1.15s/it]\n"
     ]
    }
   ],
   "source": [
    "for (Species,Metric,Resolution),subDf  in inDf.groupby(['Species','Metric','Resolution']):\n",
    "    mergedDfFname=\".\".join([Species,Resolution, Metric])\n",
    "    outMergedDir='/nrnb/users/btsui/Data/all_seq/rnaseq_merged/'\n",
    "    outPrefix=outMergedDir+mergedDfFname\n",
    "    print('output prefix: ',outPrefix)\n",
    "    myL=[pd.read_pickle(transcriptMatricesDir+fname) for fname in tqdm(subDf.fname.values)]\n",
    "    mergedDf=pd.concat(myL,axis=1,copy=False)\n",
    "    exportDf(outPrefix,mergedDf)\n",
    "    os.system('pigz --force --keep {}.npy'.format(outPrefix))\n",
    "    del(mergedDf,)\n",
    "    gc.collect()"
   ]
  },
  {
   "cell_type": "code",
   "execution_count": 55,
   "metadata": {},
   "outputs": [
    {
     "name": "stdout",
     "output_type": "stream",
     "text": [
      "output prefix:  /nrnb/users/btsui/Data/all_seq/rnaseq_merged/Homo_sapiens.est_counts.gene_symbol\n"
     ]
    }
   ],
   "source": []
  },
  {
   "cell_type": "markdown",
   "metadata": {},
   "source": [
    "# Scratch"
   ]
  },
  {
   "cell_type": "code",
   "execution_count": 56,
   "metadata": {},
   "outputs": [
    {
     "ename": "NameError",
     "evalue": "name 'exportDf' is not defined",
     "output_type": "error",
     "traceback": [
      "\u001b[0;31m---------------------------------------------------------------------------\u001b[0m",
      "\u001b[0;31mNameError\u001b[0m                                 Traceback (most recent call last)",
      "\u001b[0;32m<ipython-input-56-7c026a23d831>\u001b[0m in \u001b[0;36m<module>\u001b[0;34m()\u001b[0m\n\u001b[0;32m----> 1\u001b[0;31m \u001b[0mexportDf\u001b[0m\u001b[0;34m(\u001b[0m\u001b[0moutPrefix\u001b[0m\u001b[0;34m,\u001b[0m\u001b[0mmergedDf\u001b[0m\u001b[0;34m)\u001b[0m\u001b[0;34m\u001b[0m\u001b[0m\n\u001b[0m",
      "\u001b[0;31mNameError\u001b[0m: name 'exportDf' is not defined"
     ]
    }
   ],
   "source": [
    "adsasd"
   ]
  },
  {
   "cell_type": "code",
   "execution_count": null,
   "metadata": {},
   "outputs": [],
   "source": []
  },
  {
   "cell_type": "code",
   "execution_count": null,
   "metadata": {},
   "outputs": [],
   "source": [
    "### ten fold reduction in transfer speed"
   ]
  },
  {
   "cell_type": "code",
   "execution_count": 47,
   "metadata": {},
   "outputs": [
    {
     "ename": "NameError",
     "evalue": "name 'mergedDf' is not defined",
     "output_type": "error",
     "traceback": [
      "\u001b[0;31m---------------------------------------------------------------------------\u001b[0m",
      "\u001b[0;31mNameError\u001b[0m                                 Traceback (most recent call last)",
      "\u001b[0;32m<ipython-input-47-f5d8c507764c>\u001b[0m in \u001b[0;36m<module>\u001b[0;34m()\u001b[0m\n\u001b[1;32m      1\u001b[0m \u001b[0mmergedDfFname\u001b[0m\u001b[0;34m\u001b[0m\u001b[0m\n\u001b[0;32m----> 2\u001b[0;31m \u001b[0mmergedDf\u001b[0m\u001b[0;34m\u001b[0m\u001b[0m\n\u001b[0m",
      "\u001b[0;31mNameError\u001b[0m: name 'mergedDf' is not defined"
     ]
    }
   ],
   "source": [
    "mergedDfFname\n"
   ]
  },
  {
   "cell_type": "code",
   "execution_count": 62,
   "metadata": {},
   "outputs": [
    {
     "name": "stdout",
     "output_type": "stream",
     "text": [
      "total 49G\r\n",
      "drwxr-xr-x  2 btsui users 128K Aug 29 11:33 .\r\n",
      "drwxr-xr-x 18 btsui users 128K Aug 29 10:41 ..\r\n",
      "-rw-r--r--  1 btsui users  285 Aug 28 20:24 Canis_familiaris.gene_symbol.est_counts.columns.txt\r\n",
      "-rw-r--r--  1 btsui users  94K Aug 28 20:24 Canis_familiaris.gene_symbol.est_counts.index.txt\r\n",
      "-rw-r--r--  1 btsui users 3.0M Aug 28 20:24 Canis_familiaris.gene_symbol.est_counts.npy\r\n",
      "-rw-r--r--  1 btsui users  285 Aug 28 20:24 Canis_familiaris.gene_symbol.tpm.columns.txt\r\n",
      "-rw-r--r--  1 btsui users  94K Aug 28 20:24 Canis_familiaris.gene_symbol.tpm.index.txt\r\n",
      "-rw-r--r--  1 btsui users 762K Aug 28 20:24 Canis_familiaris.gene_symbol.tpm.npy\r\n",
      "-rw-r--r--  1 btsui users 1.9M Aug 28 19:50 Canis_familiaris.transcript.est_counts.pickle\r\n",
      "-rw-r--r--  1 btsui users 1.9M Aug 28 19:59 Canis_familiaris.transcript.tpm.pickle\r\n",
      "-rw-r--r--  1 btsui users   99 Aug 28 20:25 Danio_rerio.gene_symbol.est_counts.columns.txt\r\n",
      "-rw-r--r--  1 btsui users 221K Aug 28 20:25 Danio_rerio.gene_symbol.est_counts.index.txt\r\n",
      "-rw-r--r--  1 btsui users 502K Aug 28 20:25 Danio_rerio.gene_symbol.est_counts.npy\r\n",
      "-rw-r--r--  1 btsui users 2.2M Aug 28 18:55 Danio_rerio.transcript.est_counts.pickle\r\n",
      "-rw-r--r--  1 btsui users 2.1M Aug 29 11:33 Homo_sapiens.est_counts.gene_symbol.columns.txt\r\n",
      "-rw-r--r--  1 btsui users 268K Aug 29 11:33 Homo_sapiens.est_counts.gene_symbol.index.txt\r\n",
      "-rw-r--r--  1 btsui users  50G Aug 29 11:34 Homo_sapiens.est_counts.gene_symbol.npy\r\n"
     ]
    }
   ],
   "source": [
    "!ls -lah /nrnb/users/btsui/Data/all_seq/rnaseq_merged/"
   ]
  },
  {
   "cell_type": "code",
   "execution_count": 65,
   "metadata": {},
   "outputs": [],
   "source": [
    "!pigz --keep /nrnb/users/btsui/Data/all_seq/rnaseq_merged/Homo_sapiens.est_counts.gene_symbol.npy"
   ]
  },
  {
   "cell_type": "code",
   "execution_count": 64,
   "metadata": {},
   "outputs": [
    {
     "name": "stdout",
     "output_type": "stream",
     "text": [
      "Canis_familiaris.gene_symbol.est_counts.columns.txt\r\n",
      "Canis_familiaris.gene_symbol.est_counts.index.txt\r\n",
      "Canis_familiaris.gene_symbol.est_counts.npy\r\n",
      "Canis_familiaris.gene_symbol.tpm.columns.txt\r\n",
      "Canis_familiaris.gene_symbol.tpm.index.txt\r\n",
      "Canis_familiaris.gene_symbol.tpm.npy\r\n",
      "Canis_familiaris.transcript.est_counts.pickle\r\n",
      "Canis_familiaris.transcript.tpm.pickle\r\n",
      "Danio_rerio.gene_symbol.est_counts.columns.txt\r\n",
      "Danio_rerio.gene_symbol.est_counts.index.txt\r\n",
      "Danio_rerio.gene_symbol.est_counts.npy\r\n",
      "Danio_rerio.transcript.est_counts.pickle\r\n",
      "Homo_sapiens.est_counts.gene_symbol.columns.txt\r\n",
      "Homo_sapiens.est_counts.gene_symbol.index.txt\r\n",
      "Homo_sapiens.est_counts.gene_symbol.npy\r\n"
     ]
    }
   ],
   "source": [
    "!ls /nrnb/users/btsui/Data/all_seq/rnaseq_merged/"
   ]
  },
  {
   "cell_type": "code",
   "execution_count": null,
   "metadata": {},
   "outputs": [],
   "source": [
    "#myL=[]\n",
    "srrIds=pd.concat([tmpDf.columns for tmpDf in myL])"
   ]
  },
  {
   "cell_type": "code",
   "execution_count": 26,
   "metadata": {},
   "outputs": [
    {
     "data": {
      "text/plain": [
       "(34739, 7422)"
      ]
     },
     "execution_count": 26,
     "metadata": {},
     "output_type": "execute_result"
    }
   ],
   "source": [
    "genes=myL[0].index"
   ]
  },
  {
   "cell_type": "code",
   "execution_count": 28,
   "metadata": {},
   "outputs": [
    {
     "data": {
      "text/plain": [
       "'/cellar/users/btsui/Project/METAMAP/notebook/RapMapTest/Pipelines/RNAseq/merge'"
      ]
     },
     "execution_count": 28,
     "metadata": {},
     "output_type": "execute_result"
    }
   ],
   "source": [
    "pd.DataFrame(stackM,index=genes)"
   ]
  },
  {
   "cell_type": "code",
   "execution_count": null,
   "metadata": {},
   "outputs": [],
   "source": []
  }
 ],
 "metadata": {
  "kernelspec": {
   "display_name": "Python [default]",
   "language": "python",
   "name": "python3"
  },
  "language_info": {
   "codemirror_mode": {
    "name": "ipython",
    "version": 3
   },
   "file_extension": ".py",
   "mimetype": "text/x-python",
   "name": "python",
   "nbconvert_exporter": "python",
   "pygments_lexer": "ipython3",
   "version": "3.6.5"
  }
 },
 "nbformat": 4,
 "nbformat_minor": 2
}
