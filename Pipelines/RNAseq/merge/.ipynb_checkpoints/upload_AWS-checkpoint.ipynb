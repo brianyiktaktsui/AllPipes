{
 "cells": [
  {
   "cell_type": "code",
   "execution_count": 1,
   "metadata": {},
   "outputs": [],
   "source": [
    "import pandas as pd"
   ]
  },
  {
   "cell_type": "code",
   "execution_count": 2,
   "metadata": {},
   "outputs": [],
   "source": [
    "import os\n",
    "import boto3\n",
    "import botocore\n",
    "import paramiko"
   ]
  },
  {
   "cell_type": "code",
   "execution_count": 3,
   "metadata": {},
   "outputs": [],
   "source": [
    "mergedMatricesDir='/nrnb/users/btsui/Data/all_seq/rnaseq_merged/'\n",
    "inFnameS=pd.Series(os.listdir(mergedMatricesDir))"
   ]
  },
  {
   "cell_type": "code",
   "execution_count": 11,
   "metadata": {},
   "outputs": [],
   "source": [
    "include_m1=(inFnameS.str.contains('gene_symbol')&(~inFnameS.str.contains('.gz')))\n",
    "include_m2=inFnameS.isin(['merged_kallisto_run_info.pickle'])\n",
    "transferFnames=inFnameS[include_m1|include_m2]"
   ]
  },
  {
   "cell_type": "code",
   "execution_count": 66,
   "metadata": {},
   "outputs": [],
   "source": [
    "key = paramiko.RSAKey.from_private_key_file('/cellar/users/btsui/.ssh/jupyter_hub.pem')\n",
    "client = paramiko.SSHClient()\n",
    "client.set_missing_host_key_policy(paramiko.AutoAddPolicy())"
   ]
  },
  {
   "cell_type": "code",
   "execution_count": 69,
   "metadata": {},
   "outputs": [],
   "source": [
    "instance_ip='ec2-52-24-55-248.us-west-2.compute.amazonaws.com'\n",
    "mountEfs='sudo mount -t efs fs-e1636448:/ efs'\n",
    "\n",
    "#try:\n",
    "# Here 'ubuntu' is user name and 'instance_ip' is public IP of EC2\n",
    "client.connect(hostname=instance_ip, username=\"ec2-user\", pkey=key)\n",
    "# Execute a command(cmd) after connecting/ssh to an instance\n",
    "cmd='mkdir ~/efs'\n",
    "stdin, stdout, stderr = client.exec_command(cmd)\n",
    "cmd='sudo mount -t nfs4 -o nfsvers=4.1,rsize=1048576,wsize=1048576,hard,timeo=600,retrans=2 fs-e1636448.efs.us-west-2.amazonaws.com:/ ~/efs'\n",
    "stdin, stdout, stderr = client.exec_command(cmd)"
   ]
  },
  {
   "cell_type": "code",
   "execution_count": 97,
   "metadata": {},
   "outputs": [],
   "source": [
    "remoteDir='~/efs/all_seq/rnaseq_merged/'"
   ]
  },
  {
   "cell_type": "code",
   "execution_count": 77,
   "metadata": {},
   "outputs": [
    {
     "name": "stdout",
     "output_type": "stream",
     "text": [
      "b''\n",
      "b''\n"
     ]
    }
   ],
   "source": [
    "cmd='mkdir '+efsDir\n",
    "stdin, stdout, stderr = client.exec_command(cmd)\n",
    "print (stdout.read())\n",
    "print (stderr.read())"
   ]
  },
  {
   "cell_type": "code",
   "execution_count": 98,
   "metadata": {},
   "outputs": [],
   "source": [
    "myRsyncDirFormat='rsync  -Pvu -e \"ssh -i $HOME/.ssh/jupyter_hub.pem\" {localFDir} ec2-user@{instance_ip}:{remoteDir}'"
   ]
  },
  {
   "cell_type": "code",
   "execution_count": null,
   "metadata": {},
   "outputs": [
    {
     "name": "stdout",
     "output_type": "stream",
     "text": [
      "rsync  -Pvu -e \"ssh -i $HOME/.ssh/jupyter_hub.pem\" /nrnb/users/btsui/Data/all_seq/rnaseq_merged/Canis_familiaris.gene_symbol.tpm.index.txt ec2-user@ec2-52-24-55-248.us-west-2.compute.amazonaws.com:~/efs/all_seq/rnaseq_merged/.\n",
      "rsync  -Pvu -e \"ssh -i $HOME/.ssh/jupyter_hub.pem\" /nrnb/users/btsui/Data/all_seq/rnaseq_merged/Canis_familiaris.gene_symbol.est_counts.npy ec2-user@ec2-52-24-55-248.us-west-2.compute.amazonaws.com:~/efs/all_seq/rnaseq_merged/.\n",
      "rsync  -Pvu -e \"ssh -i $HOME/.ssh/jupyter_hub.pem\" /nrnb/users/btsui/Data/all_seq/rnaseq_merged/Canis_familiaris.gene_symbol.tpm.npy ec2-user@ec2-52-24-55-248.us-west-2.compute.amazonaws.com:~/efs/all_seq/rnaseq_merged/.\n",
      "rsync  -Pvu -e \"ssh -i $HOME/.ssh/jupyter_hub.pem\" /nrnb/users/btsui/Data/all_seq/rnaseq_merged/merged_kallisto_run_info.pickle ec2-user@ec2-52-24-55-248.us-west-2.compute.amazonaws.com:~/efs/all_seq/rnaseq_merged/.\n",
      "rsync  -Pvu -e \"ssh -i $HOME/.ssh/jupyter_hub.pem\" /nrnb/users/btsui/Data/all_seq/rnaseq_merged/Canis_familiaris.gene_symbol.est_counts.index.txt ec2-user@ec2-52-24-55-248.us-west-2.compute.amazonaws.com:~/efs/all_seq/rnaseq_merged/.\n",
      "rsync  -Pvu -e \"ssh -i $HOME/.ssh/jupyter_hub.pem\" /nrnb/users/btsui/Data/all_seq/rnaseq_merged/Danio_rerio.gene_symbol.est_counts.index.txt ec2-user@ec2-52-24-55-248.us-west-2.compute.amazonaws.com:~/efs/all_seq/rnaseq_merged/.\n",
      "rsync  -Pvu -e \"ssh -i $HOME/.ssh/jupyter_hub.pem\" /nrnb/users/btsui/Data/all_seq/rnaseq_merged/Homo_sapiens.gene_symbol.tpm.columns.txt ec2-user@ec2-52-24-55-248.us-west-2.compute.amazonaws.com:~/efs/all_seq/rnaseq_merged/.\n",
      "rsync  -Pvu -e \"ssh -i $HOME/.ssh/jupyter_hub.pem\" /nrnb/users/btsui/Data/all_seq/rnaseq_merged/Homo_sapiens.gene_symbol.tpm.index.txt ec2-user@ec2-52-24-55-248.us-west-2.compute.amazonaws.com:~/efs/all_seq/rnaseq_merged/.\n",
      "rsync  -Pvu -e \"ssh -i $HOME/.ssh/jupyter_hub.pem\" /nrnb/users/btsui/Data/all_seq/rnaseq_merged/Canis_familiaris.gene_symbol.tpm.columns.txt ec2-user@ec2-52-24-55-248.us-west-2.compute.amazonaws.com:~/efs/all_seq/rnaseq_merged/.\n",
      "rsync  -Pvu -e \"ssh -i $HOME/.ssh/jupyter_hub.pem\" /nrnb/users/btsui/Data/all_seq/rnaseq_merged/Homo_sapiens.gene_symbol.est_counts.npy ec2-user@ec2-52-24-55-248.us-west-2.compute.amazonaws.com:~/efs/all_seq/rnaseq_merged/.\n"
     ]
    }
   ],
   "source": [
    "for localFname in transferFnames.values:\n",
    "    localFDir= (mergedMatricesDir+localFname)\n",
    "    rsyncCmd=myRsyncDirFormat.format(localFDir=localFDir,instance_ip=instance_ip,remoteDir=remoteDir+'.')\n",
    "    print (rsyncCmd)\n",
    "    os.system(rsyncCmd)"
   ]
  },
  {
   "cell_type": "code",
   "execution_count": 101,
   "metadata": {},
   "outputs": [
    {
     "data": {
      "text/plain": [
       "'rsync  -Pvu -e \"ssh -i $HOME/.ssh/jupyter_hub.pem\" /nrnb/users/btsui/Data/all_seq/rnaseq_merged/Homo_sapiens.gene_symbol.est_counts.columns.txt ec2-user@ec2-52-24-55-248.us-west-2.compute.amazonaws.com:~/efs/all_seq/rnaseq_merged/'"
      ]
     },
     "execution_count": 101,
     "metadata": {},
     "output_type": "execute_result"
    }
   ],
   "source": []
  },
  {
   "cell_type": "code",
   "execution_count": 43,
   "metadata": {},
   "outputs": [
    {
     "name": "stdout",
     "output_type": "stream",
     "text": [
      "\r\n",
      "sent 71 bytes  received 11 bytes  54.67 bytes/sec\r\n",
      "total size is 95,445  speedup is 1,163.96\r\n"
     ]
    }
   ],
   "source": [
    "!rsync  -Pvu -e \"ssh -i $HOME/.ssh/jupyter_hub.pem\" /nrnb/users/btsui/Data/all_seq/rnaseq_merged/Canis_familiaris.gene_symbol.tpm.index.txt \\\n",
    "ec2-user@ec2-52-24-55-248.us-west-2.compute.amazonaws.com:~/."
   ]
  },
  {
   "cell_type": "code",
   "execution_count": 18,
   "metadata": {},
   "outputs": [
    {
     "name": "stdout",
     "output_type": "stream",
     "text": [
      "authorized_keys  id_dsa.pub\t    id_rsa.jupyterhub.pub  known_hosts~\r\n",
      "aws_upload.pem\t id_rsa\t\t    id_rsa.pub\r\n",
      "id_dsa\t\t id_rsa.jupyterhub  known_hosts\r\n"
     ]
    }
   ],
   "source": [
    "#!ls $HOME/.ssh/"
   ]
  },
  {
   "cell_type": "code",
   "execution_count": null,
   "metadata": {},
   "outputs": [],
   "source": []
  }
 ],
 "metadata": {
  "kernelspec": {
   "display_name": "Python [default]",
   "language": "python",
   "name": "python3"
  },
  "language_info": {
   "codemirror_mode": {
    "name": "ipython",
    "version": 3
   },
   "file_extension": ".py",
   "mimetype": "text/x-python",
   "name": "python",
   "nbconvert_exporter": "python",
   "pygments_lexer": "ipython3",
   "version": "3.6.5"
  }
 },
 "nbformat": 4,
 "nbformat_minor": 2
}
