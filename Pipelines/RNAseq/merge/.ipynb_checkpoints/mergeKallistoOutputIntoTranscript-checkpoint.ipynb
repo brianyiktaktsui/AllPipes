{
 "cells": [
  {
   "cell_type": "code",
   "execution_count": 1,
   "metadata": {},
   "outputs": [],
   "source": [
    "import sys\n",
    "sys.path+=['../']"
   ]
  },
  {
   "cell_type": "code",
   "execution_count": 2,
   "metadata": {},
   "outputs": [],
   "source": [
    "import pandas as pd\n",
    "import numpy as np\n",
    "from tqdm import tqdm\n",
    "import os\n",
    "import numpy as np\n",
    "from tqdm import tqdm\n",
    "from multiprocessing import Pool\n",
    "import param\n",
    "from IPython.utils import io\n",
    "import gc\n"
   ]
  },
  {
   "cell_type": "code",
   "execution_count": 3,
   "metadata": {},
   "outputs": [
    {
     "name": "stdout",
     "output_type": "stream",
     "text": [
      "-rw-r--r-- 1 btsui users 212M Aug 28 18:31 /cellar/users/btsui/Data/SRA/DUMP/sra_dump.csv.gz\r\n"
     ]
    }
   ],
   "source": [
    "!ls -laht /cellar/users/btsui/Data/SRA/DUMP/sra_dump.csv.gz"
   ]
  },
  {
   "cell_type": "code",
   "execution_count": 4,
   "metadata": {},
   "outputs": [
    {
     "name": "stderr",
     "output_type": "stream",
     "text": [
      "<string>:2: DtypeWarning: Columns (5,6,25,26) have mixed types. Specify dtype option on import or set low_memory=False.\n"
     ]
    },
    {
     "name": "stdout",
     "output_type": "stream",
     "text": [
      "CPU times: user 40.5 s, sys: 4.08 s, total: 44.6 s\n",
      "Wall time: 41.6 s\n"
     ]
    }
   ],
   "source": [
    "%time sra_dump_df=pd.read_csv(param.full_meta_dir)"
   ]
  },
  {
   "cell_type": "markdown",
   "metadata": {},
   "source": [
    "#### check if data is in SRA"
   ]
  },
  {
   "cell_type": "code",
   "execution_count": null,
   "metadata": {},
   "outputs": [],
   "source": []
  },
  {
   "cell_type": "code",
   "execution_count": 5,
   "metadata": {},
   "outputs": [],
   "source": [
    "allProcessedFnames=pd.Series(os.listdir(param.count_out_dir),dtype=np.str)"
   ]
  },
  {
   "cell_type": "code",
   "execution_count": 6,
   "metadata": {},
   "outputs": [],
   "source": [
    "postfix_m=allProcessedFnames.str.contains('.abundance.tsv.gz$')\n",
    "processedRnaseqSrr=allProcessedFnames[postfix_m].str.split('.').str[0].unique()"
   ]
  },
  {
   "cell_type": "code",
   "execution_count": 7,
   "metadata": {},
   "outputs": [
    {
     "data": {
      "text/plain": [
       "454926"
      ]
     },
     "execution_count": 7,
     "metadata": {},
     "output_type": "execute_result"
    }
   ],
   "source": [
    "len(processedRnaseqSrr)"
   ]
  },
  {
   "cell_type": "code",
   "execution_count": 8,
   "metadata": {},
   "outputs": [],
   "source": [
    "sra_dump_df['Skymap_TranscriptCount_Processed']=sra_dump_df['Run'].isin(processedRnaseqSrr)"
   ]
  },
  {
   "cell_type": "code",
   "execution_count": 9,
   "metadata": {},
   "outputs": [],
   "source": [
    "m_processed=sra_dump_df['Skymap_TranscriptCount_Processed']"
   ]
  },
  {
   "cell_type": "markdown",
   "metadata": {},
   "source": [
    "### select the species"
   ]
  },
  {
   "cell_type": "code",
   "execution_count": 10,
   "metadata": {},
   "outputs": [],
   "source": [
    "faBaseDir='/cellar/users/btsui/Data/ensembl/release/cdna/'"
   ]
  },
  {
   "cell_type": "code",
   "execution_count": 11,
   "metadata": {},
   "outputs": [],
   "source": [
    "nProcess=32"
   ]
  },
  {
   "cell_type": "code",
   "execution_count": 12,
   "metadata": {},
   "outputs": [],
   "source": [
    "#param.supporting_species, countMetric in metricToDtypeDict.keys()"
   ]
  },
  {
   "cell_type": "code",
   "execution_count": 13,
   "metadata": {},
   "outputs": [],
   "source": [
    "#metricToDtypeDict.keys()"
   ]
  },
  {
   "cell_type": "code",
   "execution_count": 14,
   "metadata": {},
   "outputs": [],
   "source": [
    "#'Canis_familiaris'"
   ]
  },
  {
   "cell_type": "code",
   "execution_count": 15,
   "metadata": {},
   "outputs": [],
   "source": [
    "metricToDtypeDict={'est_counts':np.uint16,'tpm':np.float16}\n"
   ]
  },
  {
   "cell_type": "code",
   "execution_count": 16,
   "metadata": {},
   "outputs": [],
   "source": [
    "from itertools import product"
   ]
  },
  {
   "cell_type": "code",
   "execution_count": 17,
   "metadata": {},
   "outputs": [],
   "source": [
    "specieMetricPairs=list(product( param.supporting_species,metricToDtypeDict.keys()))\n",
    "#selectedSpecies="
   ]
  },
  {
   "cell_type": "code",
   "execution_count": 18,
   "metadata": {},
   "outputs": [
    {
     "data": {
      "text/plain": [
       "[('Homo_sapiens', 'est_counts'),\n",
       " ('Homo_sapiens', 'tpm'),\n",
       " ('Mus_musculus', 'est_counts'),\n",
       " ('Mus_musculus', 'tpm'),\n",
       " ('Drosophila_melanogaster', 'est_counts'),\n",
       " ('Drosophila_melanogaster', 'tpm'),\n",
       " ('Danio_rerio', 'est_counts'),\n",
       " ('Danio_rerio', 'tpm'),\n",
       " ('Canis_familiaris', 'est_counts'),\n",
       " ('Canis_familiaris', 'tpm')]"
      ]
     },
     "execution_count": 18,
     "metadata": {},
     "output_type": "execute_result"
    }
   ],
   "source": [
    "specieMetricPairs"
   ]
  },
  {
   "cell_type": "code",
   "execution_count": null,
   "metadata": {},
   "outputs": [],
   "source": []
  },
  {
   "cell_type": "code",
   "execution_count": null,
   "metadata": {},
   "outputs": [],
   "source": [
    "%%capture Stdout\n",
    "#selectedSpecies ,countMetric=('Canis_familiaris', 'tpm')  \n",
    "ignoreLastNDigitsForChunking=5\n",
    "for selectedSpecies ,countMetric in specieMetricPairs:\n",
    "    #identify samples\n",
    "      \n",
    "    print (selectedSpecies ,countMetric)\n",
    "    m_specie=sra_dump_df['new_ScientificName']==selectedSpecies\n",
    "    m=m_processed&m_specie\n",
    "    sra_dump_df_sub=sra_dump_df[m]\n",
    "    sra_dump_df_in=sra_dump_df_sub#.head(n=10)\n",
    "    nTotal=sra_dump_df_sub.shape[0]\n",
    "    print ('# of samples to merge:',nTotal)\n",
    "    inSrrs=sra_dump_df_in['Run'].unique()\n",
    "    \n",
    "    myDtype=metricToDtypeDict[countMetric]\n",
    "\n",
    "    def parseOne(inSrr):\n",
    "        abundanceDir=param.count_out_dir+'{}.abundance.tsv.gz'.format(inSrr)\n",
    "        tmpDf=pd.read_csv(abundanceDir,sep='\\t')\n",
    "        tmpDf2=tmpDf.set_index('target_id')[countMetric].astype(myDtype)\n",
    "        return tmpDf2\n",
    "    #do the merge\n",
    "    inSrrS=pd.Series(inSrrs)\n",
    "    groupRunDf=pd.DataFrame({'Prefix':inSrrS.str[:-ignoreLastNDigitsForChunking],'Run':inSrrS})\n",
    "    print (\"n chunks:\",groupRunDf['Prefix'].nunique())\n",
    "    for Prefix,subRunS in groupRunDf.groupby('Prefix')['Run']:\n",
    "        with Pool(nProcess) as p:\n",
    "            myL=list(tqdm( p.imap(parseOne,subRunS),total=len(subRunS)))\n",
    "        #3 mins per chunk\n",
    "        mergedDf=pd.concat(myL,axis=1,keys=subRunS.values,copy=False)\n",
    "        outputDir='/nrnb/users/btsui/Data/all_seq/rnaseq_merged_chunks/{}.transcript.{}.{}.pickle'.format(\n",
    "            selectedSpecies,countMetric,Prefix)\n",
    "        mergedDf.to_pickle(outputDir)\n",
    "        del (mergedDf, myL)\n",
    "        gc.collect()\n",
    "    "
   ]
  },
  {
   "cell_type": "code",
   "execution_count": null,
   "metadata": {},
   "outputs": [],
   "source": [
    "#!mkdir /nrnb/users/btsui/Data/all_seq/rnaseq_merged_chunks/"
   ]
  },
  {
   "cell_type": "code",
   "execution_count": null,
   "metadata": {},
   "outputs": [],
   "source": [
    "#inSrrS.str[:-5].nunique()"
   ]
  },
  {
   "cell_type": "code",
   "execution_count": null,
   "metadata": {},
   "outputs": [],
   "source": [
    "#groupRunDf['Prefix'].nunique()"
   ]
  },
  {
   "cell_type": "code",
   "execution_count": null,
   "metadata": {},
   "outputs": [],
   "source": [
    "!ls /nrnb/users/btsui/Data/all_seq/rnaseq_merged/"
   ]
  },
  {
   "cell_type": "code",
   "execution_count": null,
   "metadata": {},
   "outputs": [],
   "source": [
    "asdfaf"
   ]
  },
  {
   "cell_type": "code",
   "execution_count": null,
   "metadata": {},
   "outputs": [],
   "source": [
    "pd.Series(inSrrs).str[:-4]#.nunique()"
   ]
  },
  {
   "cell_type": "code",
   "execution_count": null,
   "metadata": {},
   "outputs": [],
   "source": [
    "!ls -laht /nrnb/users/btsui/Data/all_seq/rnaseq_merged/"
   ]
  },
  {
   "cell_type": "code",
   "execution_count": null,
   "metadata": {},
   "outputs": [],
   "source": [
    "#mergedDf"
   ]
  },
  {
   "cell_type": "code",
   "execution_count": null,
   "metadata": {},
   "outputs": [],
   "source": [
    "a,b=3,3"
   ]
  },
  {
   "cell_type": "code",
   "execution_count": null,
   "metadata": {},
   "outputs": [],
   "source": [
    "del (a,b)\n"
   ]
  },
  {
   "cell_type": "markdown",
   "metadata": {},
   "source": [
    "# export data"
   ]
  },
  {
   "cell_type": "code",
   "execution_count": null,
   "metadata": {},
   "outputs": [],
   "source": [
    "#!rm /nrnb/users/btsui/Data/all_seq/rnaseq_merged/Canis_familiaris.gene_symbol.gene_symbol.pickle\n"
   ]
  },
  {
   "cell_type": "code",
   "execution_count": null,
   "metadata": {},
   "outputs": [],
   "source": [
    "#mergedDf.head()\n",
    "#os.system('ls -lah {} > {}'.format(faBaseDir,))"
   ]
  },
  {
   "cell_type": "code",
   "execution_count": null,
   "metadata": {},
   "outputs": [],
   "source": [
    "!grep -r --include \"*.ipynb\" synapse ./../../\n",
    " "
   ]
  },
  {
   "cell_type": "code",
   "execution_count": null,
   "metadata": {},
   "outputs": [],
   "source": [
    "!ls -lath /nrnb/users/btsui/Data/all_seq/rnaseq_merged/"
   ]
  },
  {
   "cell_type": "code",
   "execution_count": null,
   "metadata": {},
   "outputs": [],
   "source": [
    "#!mkdir /nrnb/users/btsui/Data/all_seq/rnaseq_merged/"
   ]
  },
  {
   "cell_type": "code",
   "execution_count": null,
   "metadata": {},
   "outputs": [],
   "source": []
  }
 ],
 "metadata": {
  "kernelspec": {
   "display_name": "Python [default]",
   "language": "python",
   "name": "python3"
  },
  "language_info": {
   "codemirror_mode": {
    "name": "ipython",
    "version": 3
   },
   "file_extension": ".py",
   "mimetype": "text/x-python",
   "name": "python",
   "nbconvert_exporter": "python",
   "pygments_lexer": "ipython3",
   "version": "3.6.5"
  }
 },
 "nbformat": 4,
 "nbformat_minor": 2
}
