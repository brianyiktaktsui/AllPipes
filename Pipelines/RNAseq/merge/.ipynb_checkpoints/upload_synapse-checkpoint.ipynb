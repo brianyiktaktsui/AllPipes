{
 "cells": [
  {
   "cell_type": "code",
   "execution_count": 1,
   "metadata": {},
   "outputs": [],
   "source": [
    "import synapseclient\n",
    "import pandas as pd\n",
    "import os\n",
    "from tqdm import tqdm\n",
    "\n",
    "syn = synapseclient.Synapse()\n",
    "\n",
    "\n",
    "syn.login(email='btsui@eng.ucsd.edu',rememberMe=True)"
   ]
  },
  {
   "cell_type": "code",
   "execution_count": 16,
   "metadata": {},
   "outputs": [],
   "source": [
    "mergedMatricesDir='/nrnb/users/btsui/Data/all_seq/rnaseq_merged/'\n",
    "inFnameS=pd.Series(os.listdir(mergedMatricesDir))"
   ]
  },
  {
   "cell_type": "markdown",
   "metadata": {},
   "source": [
    "### change this for better data"
   ]
  },
  {
   "cell_type": "code",
   "execution_count": 17,
   "metadata": {},
   "outputs": [],
   "source": [
    "m_postfix=~inFnameS.str.contains('(?:\\.npy|\\.pickle)$')\n",
    "#m_metric_type=inFnameS.str.contains('gene_symbol')\n",
    "#uploadFiles=inFnameS[m_metric_type&m_postfix].sort_values()\n",
    "uploadFiles=inFnameS[inFnameS.str.contains('merged_kallisto_run_info')]"
   ]
  },
  {
   "cell_type": "code",
   "execution_count": 27,
   "metadata": {},
   "outputs": [
    {
     "data": {
      "text/plain": [
       "17    merged_kallisto_run_info.pickle\n",
       "dtype: object"
      ]
     },
     "execution_count": 27,
     "metadata": {},
     "output_type": "execute_result"
    }
   ],
   "source": [
    "uploadFiles"
   ]
  },
  {
   "cell_type": "markdown",
   "metadata": {},
   "source": [
    "### upload to synapse"
   ]
  },
  {
   "cell_type": "code",
   "execution_count": null,
   "metadata": {},
   "outputs": [],
   "source": []
  },
  {
   "cell_type": "code",
   "execution_count": 43,
   "metadata": {},
   "outputs": [],
   "source": [
    "parent_folder='syn16555093'"
   ]
  },
  {
   "cell_type": "code",
   "execution_count": 44,
   "metadata": {},
   "outputs": [],
   "source": [
    "import datetime\n",
    "\n",
    "now = datetime.datetime.now()"
   ]
  },
  {
   "cell_type": "code",
   "execution_count": 45,
   "metadata": {},
   "outputs": [],
   "source": [
    "timeStamp=now.strftime(\"%Y-%m-%d-%H_%M\")\n",
    "\n",
    "timeStamp='2018-08-29-12_43'"
   ]
  },
  {
   "cell_type": "markdown",
   "metadata": {},
   "source": []
  },
  {
   "cell_type": "code",
   "execution_count": 46,
   "metadata": {},
   "outputs": [],
   "source": [
    "results_folder = synapseclient.Folder(name=timeStamp, parent=parent_folder)\n",
    "results_folder = syn.store(results_folder)"
   ]
  },
  {
   "cell_type": "code",
   "execution_count": null,
   "metadata": {},
   "outputs": [],
   "source": []
  },
  {
   "cell_type": "code",
   "execution_count": 47,
   "metadata": {},
   "outputs": [],
   "source": [
    "#myFolder=syn.get(parent_folder)"
   ]
  },
  {
   "cell_type": "code",
   "execution_count": null,
   "metadata": {},
   "outputs": [],
   "source": []
  },
  {
   "cell_type": "code",
   "execution_count": 48,
   "metadata": {},
   "outputs": [],
   "source": [
    "#myFolder"
   ]
  },
  {
   "cell_type": "code",
   "execution_count": 49,
   "metadata": {},
   "outputs": [],
   "source": [
    "\n",
    "for fname in tqdm(uploadFiles.values):\n",
    "    raw_data_file = synapseclient.File(path=mergedMatricesDir+fname, parent=results_folder)\n",
    "    raw_data_file = syn.store(raw_data_file)\n"
   ]
  },
  {
   "cell_type": "code",
   "execution_count": null,
   "metadata": {},
   "outputs": [],
   "source": []
  },
  {
   "cell_type": "code",
   "execution_count": 68,
   "metadata": {},
   "outputs": [],
   "source": [
    "#for npyFile in inFnameS[inFnameS.str.contains('.npy$')]:\n",
    "#    npyFile"
   ]
  },
  {
   "cell_type": "code",
   "execution_count": 80,
   "metadata": {},
   "outputs": [
    {
     "data": {
      "text/plain": [
       "21    Canis_familiaris.gene_symbol.est_counts.column...\n",
       "13    Canis_familiaris.gene_symbol.est_counts.index.txt\n",
       "8           Canis_familiaris.gene_symbol.est_counts.npy\n",
       "18       Canis_familiaris.gene_symbol.est_counts.npy.gz\n",
       "19         Canis_familiaris.gene_symbol.tpm.columns.txt\n",
       "6            Canis_familiaris.gene_symbol.tpm.index.txt\n",
       "11                 Canis_familiaris.gene_symbol.tpm.npy\n",
       "23              Canis_familiaris.gene_symbol.tpm.npy.gz\n",
       "25       Danio_rerio.gene_symbol.est_counts.columns.txt\n",
       "14         Danio_rerio.gene_symbol.est_counts.index.txt\n",
       "24               Danio_rerio.gene_symbol.est_counts.npy\n",
       "2             Danio_rerio.gene_symbol.est_counts.npy.gz\n",
       "26      Homo_sapiens.est_counts.gene_symbol.columns.txt\n",
       "5         Homo_sapiens.est_counts.gene_symbol.index.txt\n",
       "9               Homo_sapiens.est_counts.gene_symbol.npy\n",
       "15           Homo_sapiens.est_counts.gene_symbol.npy.gz\n",
       "0              Homo_sapiens.tpm.gene_symbol.columns.txt\n",
       "4                Homo_sapiens.tpm.gene_symbol.index.txt\n",
       "20                     Homo_sapiens.tpm.gene_symbol.npy\n",
       "dtype: object"
      ]
     },
     "execution_count": 80,
     "metadata": {},
     "output_type": "execute_result"
    }
   ],
   "source": []
  },
  {
   "cell_type": "code",
   "execution_count": 73,
   "metadata": {},
   "outputs": [],
   "source": [
    "#uploadFiles"
   ]
  },
  {
   "cell_type": "code",
   "execution_count": 62,
   "metadata": {},
   "outputs": [],
   "source": [
    "#inFnameS"
   ]
  },
  {
   "cell_type": "code",
   "execution_count": 57,
   "metadata": {},
   "outputs": [],
   "source": [
    "#!pigz --keep /nrnb/users/btsui/Data/all_seq/rnaseq_merged/Danio_rerio.gene_symbol.est_counts.npy"
   ]
  },
  {
   "cell_type": "code",
   "execution_count": null,
   "metadata": {},
   "outputs": [],
   "source": []
  },
  {
   "cell_type": "code",
   "execution_count": 51,
   "metadata": {},
   "outputs": [
    {
     "name": "stdout",
     "output_type": "stream",
     "text": [
      "Canis_familiaris.gene_symbol.est_counts.columns.txt\r\n",
      "Canis_familiaris.gene_symbol.est_counts.index.txt\r\n",
      "Canis_familiaris.gene_symbol.est_counts.npy\r\n",
      "Canis_familiaris.gene_symbol.tpm.columns.txt\r\n",
      "Canis_familiaris.gene_symbol.tpm.index.txt\r\n",
      "Canis_familiaris.gene_symbol.tpm.npy\r\n",
      "Canis_familiaris.transcript.est_counts.pickle\r\n",
      "Canis_familiaris.transcript.est_counts.pickle.gz\r\n",
      "Canis_familiaris.transcript.tpm.pickle\r\n",
      "Canis_familiaris.transcript.tpm.pickle.gz\r\n",
      "Danio_rerio.gene_symbol.est_counts.columns.txt\r\n",
      "Danio_rerio.gene_symbol.est_counts.index.txt\r\n",
      "Danio_rerio.gene_symbol.est_counts.npy\r\n",
      "Danio_rerio.gene_symbol.est_counts.npy.gz\r\n",
      "Danio_rerio.transcript.est_counts.pickle\r\n",
      "Homo_sapiens.est_counts.gene_symbol.columns.txt\r\n",
      "Homo_sapiens.est_counts.gene_symbol.index.txt\r\n",
      "Homo_sapiens.est_counts.gene_symbol.npy\r\n",
      "Homo_sapiens.est_counts.gene_symbol.npy.gz\r\n",
      "Homo_sapiens.est_counts.transcript.columns.txt\r\n",
      "Homo_sapiens.est_counts.transcript.index.txt\r\n",
      "Homo_sapiens.est_counts.transcript.npy\r\n",
      "Homo_sapiens.est_counts.transcript.npy.gz\r\n"
     ]
    }
   ],
   "source": [
    "!ls /nrnb/users/btsui/Data/all_seq/rnaseq_merged/"
   ]
  },
  {
   "cell_type": "code",
   "execution_count": null,
   "metadata": {},
   "outputs": [],
   "source": []
  }
 ],
 "metadata": {
  "kernelspec": {
   "display_name": "Python [default]",
   "language": "python",
   "name": "python3"
  },
  "language_info": {
   "codemirror_mode": {
    "name": "ipython",
    "version": 3
   },
   "file_extension": ".py",
   "mimetype": "text/x-python",
   "name": "python",
   "nbconvert_exporter": "python",
   "pygments_lexer": "ipython3",
   "version": "3.6.5"
  }
 },
 "nbformat": 4,
 "nbformat_minor": 2
}
