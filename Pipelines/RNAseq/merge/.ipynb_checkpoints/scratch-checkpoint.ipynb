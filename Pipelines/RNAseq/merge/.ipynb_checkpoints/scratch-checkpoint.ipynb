{
 "cells": [
  {
   "cell_type": "code",
   "execution_count": 6,
   "metadata": {},
   "outputs": [],
   "source": [
    "import os,pandas\n",
    "import pandas as pd"
   ]
  },
  {
   "cell_type": "code",
   "execution_count": 7,
   "metadata": {},
   "outputs": [],
   "source": [
    "mergedMatricesDir='/nrnb/users/btsui/Data/all_seq/rnaseq_merged/'\n",
    "inFnameS=pd.Series(os.listdir(mergedMatricesDir))"
   ]
  },
  {
   "cell_type": "code",
   "execution_count": 13,
   "metadata": {},
   "outputs": [],
   "source": [
    "os.chdir(mergedMatricesDir)"
   ]
  },
  {
   "cell_type": "code",
   "execution_count": 23,
   "metadata": {},
   "outputs": [
    {
     "name": "stdout",
     "output_type": "stream",
     "text": [
      "Homo_sapiens.tpm.gene_symbol.columns.txt \t Homo_sapiens.gene_symbol.tpm.columns.txt\n",
      "Homo_sapiens.est_counts.transcript.npy \t Homo_sapiens.transcript.est_counts.npy\n",
      "Homo_sapiens.tpm.transcript.index.txt \t Homo_sapiens.transcript.tpm.index.txt\n",
      "Mus_musculus.est_counts.transcript.index.txt \t Mus_musculus.transcript.est_counts.index.txt\n",
      "Homo_sapiens.tpm.gene_symbol.index.txt \t Homo_sapiens.gene_symbol.tpm.index.txt\n",
      "Mus_musculus.tpm.transcript.npy \t Mus_musculus.transcript.tpm.npy\n",
      "Homo_sapiens.est_counts.gene_symbol.index.txt \t Homo_sapiens.gene_symbol.est_counts.index.txt\n",
      "Mus_musculus.est_counts.transcript.npy \t Mus_musculus.transcript.est_counts.npy\n",
      "Mus_musculus.tpm.transcript.index.txt \t Mus_musculus.transcript.tpm.index.txt\n",
      "Homo_sapiens.tpm.transcript.npy \t Homo_sapiens.transcript.tpm.npy\n",
      "Homo_sapiens.est_counts.gene_symbol.npy \t Homo_sapiens.gene_symbol.est_counts.npy\n",
      "Mus_musculus.tpm.transcript.columns.txt \t Mus_musculus.transcript.tpm.columns.txt\n",
      "Homo_sapiens.tpm.gene_symbol.npy.gz \t Homo_sapiens.gene_symbol.tpm.npy.gz\n",
      "Mus_musculus.est_counts.transcript.npy.gz \t Mus_musculus.transcript.est_counts.npy.gz\n",
      "Homo_sapiens.est_counts.transcript.npy.gz \t Homo_sapiens.transcript.est_counts.npy.gz\n",
      "Homo_sapiens.est_counts.gene_symbol.npy.gz \t Homo_sapiens.gene_symbol.est_counts.npy.gz\n",
      "Homo_sapiens.tpm.transcript.npy.gz \t Homo_sapiens.transcript.tpm.npy.gz\n",
      "Homo_sapiens.est_counts.transcript.index.txt \t Homo_sapiens.transcript.est_counts.index.txt\n",
      "Homo_sapiens.tpm.transcript.columns.txt \t Homo_sapiens.transcript.tpm.columns.txt\n",
      "Homo_sapiens.tpm.gene_symbol.npy \t Homo_sapiens.gene_symbol.tpm.npy\n",
      "Mus_musculus.tpm.transcript.npy.gz \t Mus_musculus.transcript.tpm.npy.gz\n",
      "Homo_sapiens.est_counts.transcript.columns.txt \t Homo_sapiens.transcript.est_counts.columns.txt\n",
      "Mus_musculus.est_counts.transcript.columns.txt \t Mus_musculus.transcript.est_counts.columns.txt\n",
      "Homo_sapiens.est_counts.gene_symbol.columns.txt \t Homo_sapiens.gene_symbol.est_counts.columns.txt\n"
     ]
    }
   ],
   "source": [
    "for myFname in inFnameS[inFnameS.str.contains('Homo_sapiens|Mus_musculus')]:\n",
    "    myL=myFname.split('.')\n",
    "    \n",
    "    newName=\".\".join([myL[0],myL[2],myL[1]]+myL[3:])\n",
    "    os.system('mv {} {}'.format(myFname,newName))\n",
    "    print(myFname,'\\t',newName,)\n",
    "    "
   ]
  },
  {
   "cell_type": "code",
   "execution_count": 12,
   "metadata": {},
   "outputs": [
    {
     "data": {
      "text/plain": [
       "'Homo_sapiens.tpm.gene_symbol.columns.txt'"
      ]
     },
     "execution_count": 12,
     "metadata": {},
     "output_type": "execute_result"
    }
   ],
   "source": [
    "myFname"
   ]
  },
  {
   "cell_type": "code",
   "execution_count": 15,
   "metadata": {},
   "outputs": [],
   "source": []
  },
  {
   "cell_type": "code",
   "execution_count": 18,
   "metadata": {},
   "outputs": [
    {
     "data": {
      "text/plain": [
       "['Homo_sapiens', 'gene_symbol', 'tpm', 'columns', 'txt']"
      ]
     },
     "execution_count": 18,
     "metadata": {},
     "output_type": "execute_result"
    }
   ],
   "source": []
  },
  {
   "cell_type": "code",
   "execution_count": null,
   "metadata": {},
   "outputs": [],
   "source": []
  }
 ],
 "metadata": {
  "kernelspec": {
   "display_name": "Python [default]",
   "language": "python",
   "name": "python3"
  },
  "language_info": {
   "codemirror_mode": {
    "name": "ipython",
    "version": 3
   },
   "file_extension": ".py",
   "mimetype": "text/x-python",
   "name": "python",
   "nbconvert_exporter": "python",
   "pygments_lexer": "ipython3",
   "version": "3.6.5"
  }
 },
 "nbformat": 4,
 "nbformat_minor": 2
}
