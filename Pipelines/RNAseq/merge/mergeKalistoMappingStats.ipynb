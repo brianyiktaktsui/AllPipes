{
 "cells": [
  {
   "cell_type": "code",
   "execution_count": 1,
   "metadata": {},
   "outputs": [],
   "source": [
    "import pandas as pd\n",
    "import os\n",
    "import sys\n",
    "\n",
    "sys.path+=['../']\n",
    "import param\n",
    "import gc\n",
    "import json\n",
    "import gzip\n"
   ]
  },
  {
   "cell_type": "code",
   "execution_count": 2,
   "metadata": {},
   "outputs": [],
   "source": [
    "mergedStatOutDir='/nrnb/users/btsui/Data/all_seq/rnaseq_merged/merged_kallisto_run_info.pickle'"
   ]
  },
  {
   "cell_type": "code",
   "execution_count": 3,
   "metadata": {},
   "outputs": [],
   "source": [
    "outFnameS=pd.Series(os.listdir(param.count_out_dir))"
   ]
  },
  {
   "cell_type": "code",
   "execution_count": 4,
   "metadata": {},
   "outputs": [
    {
     "data": {
      "text/plain": [
       "0    SRR3553383.abundance.tsv.gz\n",
       "1    SRR5418097.abundance.tsv.gz\n",
       "2    ERR1172947.run_info.json.gz\n",
       "3    SRR5308103.abundance.tsv.gz\n",
       "4    SRR5606337.abundance.tsv.gz\n",
       "dtype: object"
      ]
     },
     "execution_count": 4,
     "metadata": {},
     "output_type": "execute_result"
    }
   ],
   "source": [
    "outFnameS.head()"
   ]
  },
  {
   "cell_type": "code",
   "execution_count": 5,
   "metadata": {},
   "outputs": [],
   "source": [
    "abundanceTsvS=outFnameS[outFnameS.str.contains('.run_info.json.gz$')]"
   ]
  },
  {
   "cell_type": "code",
   "execution_count": 6,
   "metadata": {},
   "outputs": [],
   "source": [
    "inJsonDirS=param.count_out_dir+'/'+abundanceTsvS\n",
    "\n",
    "inParseDirS=inJsonDirS#.iloc[:1000]"
   ]
  },
  {
   "cell_type": "code",
   "execution_count": 7,
   "metadata": {},
   "outputs": [],
   "source": [
    "from multiprocessing import Pool\n",
    "from tqdm import tqdm"
   ]
  },
  {
   "cell_type": "code",
   "execution_count": 8,
   "metadata": {},
   "outputs": [],
   "source": [
    "def parseOne ( inJsonDir):\n",
    "    try:\n",
    "        with gzip.open(inJsonDir, 'rb') as f:\n",
    "            json1_data = json.loads(f.read())#[0]\n",
    "            json1_data['fname']=inJsonDir\n",
    "            tmpS=pd.Series(json1_data)\n",
    "    except:\n",
    "        return None\n",
    "    return tmpS"
   ]
  },
  {
   "cell_type": "code",
   "execution_count": 9,
   "metadata": {},
   "outputs": [
    {
     "name": "stderr",
     "output_type": "stream",
     "text": [
      "100%|██████████| 454926/454926 [07:58<00:00, 950.69it/s]\n"
     ]
    }
   ],
   "source": [
    "with Pool(64) as p:\n",
    "    myL=list(tqdm(p.imap(parseOne,inParseDirS)\n",
    "                  ,total=len(inParseDirS)\n",
    "                 ))"
   ]
  },
  {
   "cell_type": "code",
   "execution_count": 10,
   "metadata": {},
   "outputs": [],
   "source": [
    "myDf=pd.DataFrame(myL)#['call']"
   ]
  },
  {
   "cell_type": "code",
   "execution_count": 11,
   "metadata": {},
   "outputs": [],
   "source": [
    "mergedStatDf=pd.DataFrame(myL)"
   ]
  },
  {
   "cell_type": "code",
   "execution_count": 15,
   "metadata": {},
   "outputs": [],
   "source": [
    "mergedStatDf['Run']=mergedStatDf['fname'].str.split('/').str[-1].str.split('.').str[0]"
   ]
  },
  {
   "cell_type": "code",
   "execution_count": 16,
   "metadata": {},
   "outputs": [],
   "source": [
    "mergedStatDf.to_pickle(mergedStatOutDir)"
   ]
  },
  {
   "cell_type": "code",
   "execution_count": 18,
   "metadata": {},
   "outputs": [],
   "source": [
    "#"
   ]
  },
  {
   "cell_type": "code",
   "execution_count": null,
   "metadata": {},
   "outputs": [],
   "source": []
  }
 ],
 "metadata": {
  "kernelspec": {
   "display_name": "Python [default]",
   "language": "python",
   "name": "python3"
  },
  "language_info": {
   "codemirror_mode": {
    "name": "ipython",
    "version": 3
   },
   "file_extension": ".py",
   "mimetype": "text/x-python",
   "name": "python",
   "nbconvert_exporter": "python",
   "pygments_lexer": "ipython3",
   "version": "3.6.5"
  }
 },
 "nbformat": 4,
 "nbformat_minor": 2
}
