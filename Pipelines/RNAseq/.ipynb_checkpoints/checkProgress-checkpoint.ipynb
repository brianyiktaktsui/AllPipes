{
 "cells": [
  {
   "cell_type": "code",
   "execution_count": 63,
   "metadata": {},
   "outputs": [],
   "source": [
    "import os\n",
    "#CWD='/cellar/users/btsui/Project/METAMAP/notebook/RapMapTest/Pipelines/RNAseq/'\n",
    "import param as param\n",
    "import pandas as pdh"
   ]
  },
  {
   "cell_type": "markdown",
   "metadata": {},
   "source": [
    "### get time stamp for each dataset"
   ]
  },
  {
   "cell_type": "code",
   "execution_count": 64,
   "metadata": {},
   "outputs": [
    {
     "name": "stdout",
     "output_type": "stream",
     "text": [
      "CPU times: user 12 ms, sys: 24 ms, total: 36 ms\n",
      "Wall time: 6min 23s\n"
     ]
    },
    {
     "data": {
      "text/plain": [
       "0"
      ]
     },
     "execution_count": 64,
     "metadata": {},
     "output_type": "execute_result"
    }
   ],
   "source": [
    "%time os.system('ls -laht --full-time {}>.progress.tsv'.format(param.count_out_dir))"
   ]
  },
  {
   "cell_type": "code",
   "execution_count": 65,
   "metadata": {},
   "outputs": [],
   "source": [
    "progressDf=pd.read_csv('.progress.tsv',sep='\\s+',skiprows=3,header=None)"
   ]
  },
  {
   "cell_type": "code",
   "execution_count": 66,
   "metadata": {},
   "outputs": [],
   "source": [
    "progressDf.columns=['permission','','','','size','date_str','time','','fname']"
   ]
  },
  {
   "cell_type": "code",
   "execution_count": 67,
   "metadata": {},
   "outputs": [],
   "source": [
    "m=progressDf['fname'].str.contains('abundance.tsv.gz')\n",
    "progressDf_sub=progressDf[m]"
   ]
  },
  {
   "cell_type": "code",
   "execution_count": 68,
   "metadata": {},
   "outputs": [],
   "source": [
    "#!ls -laht /nrnb/users/btsui/Data/all_seq/"
   ]
  },
  {
   "cell_type": "code",
   "execution_count": 35,
   "metadata": {},
   "outputs": [
    {
     "data": {
      "text/plain": [
       "(426702, 9)"
      ]
     },
     "execution_count": 35,
     "metadata": {},
     "output_type": "execute_result"
    }
   ],
   "source": [
    "#425232, 426702\n",
    "progressDf_sub.shape"
   ]
  },
  {
   "cell_type": "code",
   "execution_count": 36,
   "metadata": {
    "scrolled": true
   },
   "outputs": [
    {
     "name": "stderr",
     "output_type": "stream",
     "text": [
      "/cellar/users/btsui/anaconda3/envs/deep_nlp_cpu/lib/python3.6/site-packages/ipykernel_launcher.py:1: SettingWithCopyWarning: \n",
      "A value is trying to be set on a copy of a slice from a DataFrame.\n",
      "Try using .loc[row_indexer,col_indexer] = value instead\n",
      "\n",
      "See the caveats in the documentation: http://pandas.pydata.org/pandas-docs/stable/indexing.html#indexing-view-versus-copy\n",
      "  \"\"\"Entry point for launching an IPython kernel.\n"
     ]
    }
   ],
   "source": [
    "progressDf_sub['date_time']=pd.to_datetime(progressDf_sub['date_str'])"
   ]
  },
  {
   "cell_type": "markdown",
   "metadata": {},
   "source": [
    "### data cumulative distribution over time"
   ]
  },
  {
   "cell_type": "code",
   "execution_count": 37,
   "metadata": {},
   "outputs": [],
   "source": [
    "%matplotlib inline\n",
    "import matplotlib.pyplot as plt"
   ]
  },
  {
   "cell_type": "code",
   "execution_count": 38,
   "metadata": {},
   "outputs": [
    {
     "data": {
      "image/png": "[encoded data removed]",
      "text/plain": [
       "<Figure size 432x288 with 1 Axes>"
      ]
     },
     "metadata": {},
     "output_type": "display_data"
    }
   ],
   "source": [
    "ax=progressDf_sub['date_time'].hist(cumulative=True)\n",
    "ax.set_ylabel('# of data')\n",
    "#plt.xticks(x, labels, rotation='vertical')\n",
    "plt.setp( ax.xaxis.get_majorticklabels(), rotation=90 )\n",
    "\n",
    "ax.figure.savefig('../../Analysis/Figures/DataAvail/{}.pdf'.format(param.pipelineName))\n",
    "ax.figure.savefig('../../Analysis/Figures/DataAvail/{}.pdf'.format(param.pipelineName))"
   ]
  },
  {
   "cell_type": "code",
   "execution_count": 49,
   "metadata": {},
   "outputs": [
    {
     "data": {
      "text/plain": [
       "numpy.datetime64('2005-02-25')"
      ]
     },
     "execution_count": 49,
     "metadata": {},
     "output_type": "execute_result"
    }
   ],
   "source": [
    "import numpy as np\n",
    "np.datetime64('2005-02-25')\n"
   ]
  },
  {
   "cell_type": "code",
   "execution_count": 51,
   "metadata": {},
   "outputs": [
    {
     "data": {
      "text/plain": [
       "numpy.datetime64('2018-04-01')"
      ]
     },
     "execution_count": 51,
     "metadata": {},
     "output_type": "execute_result"
    }
   ],
   "source": [
    "#np.datetime64('2018-04-1')"
   ]
  },
  {
   "cell_type": "code",
   "execution_count": 56,
   "metadata": {},
   "outputs": [],
   "source": [
    "#"
   ]
  },
  {
   "cell_type": "code",
   "execution_count": 57,
   "metadata": {},
   "outputs": [
    {
     "data": {
      "text/plain": [
       "[None,\n",
       " None,\n",
       " None,\n",
       " None,\n",
       " None,\n",
       " None,\n",
       " None,\n",
       " None,\n",
       " None,\n",
       " None,\n",
       " None,\n",
       " None,\n",
       " None,\n",
       " None,\n",
       " None,\n",
       " None,\n",
       " None,\n",
       " None,\n",
       " None,\n",
       " None]"
      ]
     },
     "execution_count": 57,
     "metadata": {},
     "output_type": "execute_result"
    },
    {
     "data": {
      "image/png": "[encoded data removed]",
      "text/plain": [
       "<Figure size 432x288 with 1 Axes>"
      ]
     },
     "metadata": {},
     "output_type": "display_data"
    }
   ],
   "source": [
    "ax=progressDf_sub['date_time'][progressDf_sub['date_time']>np.datetime64('2018-08-01')].value_counts().sort_index().hist(cumulative=True)\n",
    "ax.set_ylabel('# of data')\n",
    "#plt.xticks(x, labels, rotation='vertical')\n",
    "plt.setp( ax.xaxis.get_majorticklabels(), rotation=90 )\n",
    "\n",
    "#ax.figure.savefig('../../Analysis/Figures/DataAvail/{}.pdf'.format(param.pipelineName))\n",
    "#ax.figure.savefig('../../Analysis/Figures/DataAvail/{}.pdf'.format(param.pipelineName))"
   ]
  },
  {
   "cell_type": "code",
   "execution_count": 39,
   "metadata": {},
   "outputs": [
    {
     "data": {
      "text/plain": [
       "'../../Analysis/Figures/DataAvail/TranscriptCounting.pdf'"
      ]
     },
     "execution_count": 39,
     "metadata": {},
     "output_type": "execute_result"
    }
   ],
   "source": [
    "'../../Analysis/Figures/DataAvail/{}.pdf'.format(param.pipelineName)"
   ]
  },
  {
   "cell_type": "code",
   "execution_count": 40,
   "metadata": {},
   "outputs": [
    {
     "data": {
      "text/html": [
       "<div>\n",
       "<style scoped>\n",
       "    .dataframe tbody tr th:only-of-type {\n",
       "        vertical-align: middle;\n",
       "    }\n",
       "\n",
       "    .dataframe tbody tr th {\n",
       "        vertical-align: top;\n",
       "    }\n",
       "\n",
       "    .dataframe thead th {\n",
       "        text-align: right;\n",
       "    }\n",
       "</style>\n",
       "<table border=\"1\" class=\"dataframe\">\n",
       "  <thead>\n",
       "    <tr style=\"text-align: right;\">\n",
       "      <th></th>\n",
       "      <th>permission</th>\n",
       "      <th></th>\n",
       "      <th></th>\n",
       "      <th></th>\n",
       "      <th>size</th>\n",
       "      <th>date_str</th>\n",
       "      <th>time</th>\n",
       "      <th></th>\n",
       "      <th>fname</th>\n",
       "      <th>date_time</th>\n",
       "    </tr>\n",
       "  </thead>\n",
       "  <tbody>\n",
       "    <tr>\n",
       "      <th>853403</th>\n",
       "      <td>-rw-r--r--</td>\n",
       "      <td>1</td>\n",
       "      <td>btsui</td>\n",
       "      <td>users</td>\n",
       "      <td>262K</td>\n",
       "      <td>2018-04-12</td>\n",
       "      <td>00:22:45.015240000</td>\n",
       "      <td>-700</td>\n",
       "      <td>SRR1992284.abundance.tsv.gz</td>\n",
       "      <td>2018-04-12</td>\n",
       "    </tr>\n",
       "    <tr>\n",
       "      <th>635645</th>\n",
       "      <td>-rw-r--r--</td>\n",
       "      <td>1</td>\n",
       "      <td>btsui</td>\n",
       "      <td>users</td>\n",
       "      <td>1.5M</td>\n",
       "      <td>2018-04-12</td>\n",
       "      <td>10:15:02.168544000</td>\n",
       "      <td>-700</td>\n",
       "      <td>SRR3127552.abundance.tsv.gz</td>\n",
       "      <td>2018-04-12</td>\n",
       "    </tr>\n",
       "    <tr>\n",
       "      <th>635643</th>\n",
       "      <td>-rw-r--r--</td>\n",
       "      <td>1</td>\n",
       "      <td>btsui</td>\n",
       "      <td>users</td>\n",
       "      <td>1.3M</td>\n",
       "      <td>2018-04-12</td>\n",
       "      <td>10:15:02.340884000</td>\n",
       "      <td>-700</td>\n",
       "      <td>SRR402462.abundance.tsv.gz</td>\n",
       "      <td>2018-04-12</td>\n",
       "    </tr>\n",
       "    <tr>\n",
       "      <th>635641</th>\n",
       "      <td>-rw-r--r--</td>\n",
       "      <td>1</td>\n",
       "      <td>btsui</td>\n",
       "      <td>users</td>\n",
       "      <td>946K</td>\n",
       "      <td>2018-04-12</td>\n",
       "      <td>10:15:02.455128000</td>\n",
       "      <td>-700</td>\n",
       "      <td>SRR548299.abundance.tsv.gz</td>\n",
       "      <td>2018-04-12</td>\n",
       "    </tr>\n",
       "    <tr>\n",
       "      <th>635639</th>\n",
       "      <td>-rw-r--r--</td>\n",
       "      <td>1</td>\n",
       "      <td>btsui</td>\n",
       "      <td>users</td>\n",
       "      <td>1.9M</td>\n",
       "      <td>2018-04-12</td>\n",
       "      <td>10:15:02.822453000</td>\n",
       "      <td>-700</td>\n",
       "      <td>SRR5185531.abundance.tsv.gz</td>\n",
       "      <td>2018-04-12</td>\n",
       "    </tr>\n",
       "  </tbody>\n",
       "</table>\n",
       "</div>"
      ],
      "text/plain": [
       "        permission                   size    date_str                time  \\\n",
       "853403  -rw-r--r--  1  btsui  users  262K  2018-04-12  00:22:45.015240000   \n",
       "635645  -rw-r--r--  1  btsui  users  1.5M  2018-04-12  10:15:02.168544000   \n",
       "635643  -rw-r--r--  1  btsui  users  1.3M  2018-04-12  10:15:02.340884000   \n",
       "635641  -rw-r--r--  1  btsui  users  946K  2018-04-12  10:15:02.455128000   \n",
       "635639  -rw-r--r--  1  btsui  users  1.9M  2018-04-12  10:15:02.822453000   \n",
       "\n",
       "                                   fname  date_time  \n",
       "853403 -700  SRR1992284.abundance.tsv.gz 2018-04-12  \n",
       "635645 -700  SRR3127552.abundance.tsv.gz 2018-04-12  \n",
       "635643 -700   SRR402462.abundance.tsv.gz 2018-04-12  \n",
       "635641 -700   SRR548299.abundance.tsv.gz 2018-04-12  \n",
       "635639 -700  SRR5185531.abundance.tsv.gz 2018-04-12  "
      ]
     },
     "execution_count": 40,
     "metadata": {},
     "output_type": "execute_result"
    }
   ],
   "source": [
    "progressDf_sub.sort_values('date_time').head()"
   ]
  },
  {
   "cell_type": "code",
   "execution_count": null,
   "metadata": {},
   "outputs": [],
   "source": []
  }
 ],
 "metadata": {
  "kernelspec": {
   "display_name": "Python 3",
   "language": "python",
   "name": "python3"
  },
  "language_info": {
   "codemirror_mode": {
    "name": "ipython",
    "version": 3
   },
   "file_extension": ".py",
   "mimetype": "text/x-python",
   "name": "python",
   "nbconvert_exporter": "python",
   "pygments_lexer": "ipython3",
   "version": "3.6.6"
  }
 },
 "nbformat": 4,
 "nbformat_minor": 2
}
