{
 "cells": [
  {
   "cell_type": "code",
   "execution_count": null,
   "metadata": {},
   "outputs": [
    {
     "name": "stdout",
     "output_type": "stream",
     "text": [
      "['SRR3553383' 'SRR5418097' nan ... 'SRR4247760' nan 'SRR5640150']\n"
     ]
    },
    {
     "name": "stderr",
     "output_type": "stream",
     "text": [
      "/cellar/users/btsui/anaconda3/lib/python3.6/site-packages/ipykernel/__main__.py:11: FutureWarning: from_csv is deprecated. Please use read_csv(...) instead. Note that some of the default arguments are different, so please refer to the documentation for from_csv when changing your function calls\n"
     ]
    }
   ],
   "source": [
    "#!/cellar/users/btsui/anaconda2/bin/python\n",
    "import param as param\n",
    "import pandas as pd\n",
    "import numpy as np\n",
    "import os\n",
    "CWD='/cellar/users/btsui/Project/METAMAP/notebook/RapMapTest/Pipelines/RNAseq/'\n",
    "os.chdir(CWD)\n",
    "allProcessedFnames=pd.Series(os.listdir(param.count_out_dir),dtype=np.str)\n",
    "processed_runs=allProcessedFnames.str.extract('([DRS]RR\\d+)',expand=False).values\n",
    "print (processed_runs)\n",
    "allDF=pd.DataFrame.from_csv(param.full_meta_dir)\n",
    "#m1=True#\n"
   ]
  },
  {
   "cell_type": "code",
   "execution_count": null,
   "metadata": {},
   "outputs": [],
   "source": [
    "len(set(processed_runs))"
   ]
  },
  {
   "cell_type": "markdown",
   "metadata": {},
   "source": [
    "#### \n",
    "\n",
    "\n",
    "use study_m only slicing specific studies, remove once doen"
   ]
  },
  {
   "cell_type": "code",
   "execution_count": null,
   "metadata": {},
   "outputs": [],
   "source": [
    "allDF['Bases']=pd.to_numeric(allDF['Bases'],errors='coerce')"
   ]
  },
  {
   "cell_type": "code",
   "execution_count": null,
   "metadata": {},
   "outputs": [],
   "source": [
    "param.supporting_species"
   ]
  },
  {
   "cell_type": "code",
   "execution_count": null,
   "metadata": {},
   "outputs": [],
   "source": [
    "#specie_m=targetMetaDF['new_ScientificName']=='Canis_familiaris'"
   ]
  },
  {
   "cell_type": "code",
   "execution_count": null,
   "metadata": {},
   "outputs": [],
   "source": [
    "allDF.head()"
   ]
  },
  {
   "cell_type": "code",
   "execution_count": null,
   "metadata": {},
   "outputs": [],
   "source": [
    "#m2=(allDF['pipe_line'].isin(param.supporting_seqs))\n",
    "m1=(~allDF.index.isin(processed_runs))\n",
    "m2=allDF['LibraryStrategy'].isin(param.supporting_library_strategy)\n",
    "m3=allDF['new_ScientificName'].isin(param.supporting_species)\n",
    "m4=(allDF.Status=='live')\n",
    "m5=(allDF.proj_accession_Visibility!='controlled_access').fillna(False)\n",
    "m6=(allDF.Bases>(0*((10**6))))\n",
    "m7=allDF.LibraryLayout.isin(param.supporting_layouts)\n",
    "m8=~allDF[\"Study\"].isin(['ERP013950'])\n",
    "allDF['index']=np.arange(allDF.shape[0])\n",
    "targetMetaDF=allDF[ m1&m2&(m3)&m4&m5&m6&m7&m8].sort_values('Bases')\n",
    "targetMetaDF.to_csv(param.unprocessed_meta_dir)\n",
    "\n",
    "command=\"qsub -t 1-\"+str(targetMetaDF.shape[0])+\" all_seq.sh\"\n",
    "print (command)\n",
    "#log_out_dir='/cellar/users/btsui/Data/SRA/all_seq/log/'\n",
    "#count_out_dir='/cellar/users/btsui/Data/SRA/all_seq/chip/'\n"
   ]
  },
  {
   "cell_type": "code",
   "execution_count": null,
   "metadata": {},
   "outputs": [],
   "source": []
  },
  {
   "cell_type": "code",
   "execution_count": null,
   "metadata": {},
   "outputs": [],
   "source": [
    "#targetMetaDF['new_ScientiaficName'].value_counts()"
   ]
  },
  {
   "cell_type": "code",
   "execution_count": null,
   "metadata": {},
   "outputs": [],
   "source": [
    "#!qdel 416119"
   ]
  },
  {
   "cell_type": "code",
   "execution_count": null,
   "metadata": {},
   "outputs": [],
   "source": [
    "os.system(command)\n"
   ]
  },
  {
   "cell_type": "code",
   "execution_count": null,
   "metadata": {},
   "outputs": [],
   "source": []
  },
  {
   "cell_type": "code",
   "execution_count": null,
   "metadata": {},
   "outputs": [],
   "source": [
    "exit(0)"
   ]
  },
  {
   "cell_type": "code",
   "execution_count": null,
   "metadata": {
    "scrolled": true
   },
   "outputs": [],
   "source": [
    "#!cat param.py"
   ]
  },
  {
   "cell_type": "code",
   "execution_count": null,
   "metadata": {},
   "outputs": [],
   "source": [
    "#targetMetaDF[]['ScientificName'].value_counts()"
   ]
  },
  {
   "cell_type": "code",
   "execution_count": null,
   "metadata": {},
   "outputs": [],
   "source": [
    "#!ls -lah /nrnb/users/btsui/Data/all_seq/"
   ]
  },
  {
   "cell_type": "code",
   "execution_count": null,
   "metadata": {},
   "outputs": [],
   "source": [
    "command"
   ]
  },
  {
   "cell_type": "markdown",
   "metadata": {},
   "source": [
    "### clean nodes"
   ]
  },
  {
   "cell_type": "code",
   "execution_count": null,
   "metadata": {},
   "outputs": [],
   "source": []
  },
  {
   "cell_type": "code",
   "execution_count": null,
   "metadata": {},
   "outputs": [],
   "source": [
    "#!cat /cellar/users/btsui/Documents/ipythonNotebook/current_working_dir/GoogleGEO/Job/mpiJob/machine_file.txt"
   ]
  },
  {
   "cell_type": "markdown",
   "metadata": {},
   "source": [
    "### scratch"
   ]
  },
  {
   "cell_type": "code",
   "execution_count": null,
   "metadata": {},
   "outputs": [],
   "source": [
    "asdasdas"
   ]
  },
  {
   "cell_type": "code",
   "execution_count": null,
   "metadata": {},
   "outputs": [],
   "source": [
    "#!qalter 444392 -tc 100"
   ]
  },
  {
   "cell_type": "code",
   "execution_count": null,
   "metadata": {},
   "outputs": [],
   "source": [
    "__author__ = 'btsui'\n",
    "import subprocess\n",
    "#from eventlet.timeout import Timeout\n",
    "from multiprocessing import Pool\n",
    "username=\"btsui\"\n",
    "machineFDir=\"/cellar/users/btsui/Documents/ipythonNotebook/current_working_dir/GoogleGEO/Job/mpiJob/machine_file.txt\"\n",
    "def cleanMachine(l):\n",
    "        l=l.replace(\"\\n\",\"\")\n",
    "        subprocess.call([\"ssh\" ,username+\"@\"+l+\".ucsd.edu\", \"rm\", \"-rf\", \"/tmp/SRA_DATA/\"])\n",
    "        subprocess.call([\"ssh\" ,username+\"@\"+l+\".ucsd.edu\", \"rm\", \"-rf\", \"/tmp/btsui/\"])\n",
    "        subprocess.call([\"ssh\" ,username+\"@\"+l+\".ucsd.edu\", \"rm\", \"-rf\", \" /tmp/btsui/METH/\"]) \n",
    "        subprocess.call([\"ssh\" ,username+\"@\"+l+\".ucsd.edu\", \"rm\", \"-rf\", \" /tmp/SRR*\"]) \n",
    "        #subprocess.call([\"ssh\" ,username+\"@\"+l+\".ucsd.edu\", \"rm\", \"-rf\", \" /tmp/TCGA*\"]) \n",
    "if __name__==\"__main__\":\n",
    "    with open(machineFDir,\"r\") as machineF:\n",
    "        p=Pool(28)\n",
    "        p.map(cleanMachine,machineF)\n",
    "        p.close()"
   ]
  },
  {
   "cell_type": "code",
   "execution_count": null,
   "metadata": {},
   "outputs": [],
   "source": [
    "#!mkdir /nrnb/users/btsui/Data/all_seq/log_rnaseq"
   ]
  },
  {
   "cell_type": "code",
   "execution_count": null,
   "metadata": {},
   "outputs": [],
   "source": [
    "#!ls -lah  /nrnb/users/btsui/Data/all_seq/"
   ]
  },
  {
   "cell_type": "code",
   "execution_count": null,
   "metadata": {},
   "outputs": [],
   "source": [
    "%%bash\n",
    "export PATH=/cellar/users/btsui/anaconda2/bin/:$PATH\n",
    "/cellar/users/btsui/anaconda2/bin/python ./run_one.py 110\n",
    "#/cellar/users/btsui/anaconda2/bin/python ./paired_rna.py 1\n",
    "#/cellar/users/btsui/anaconda2/bin/python ./paired_rna.py SRR1558481 Mus_musculus"
   ]
  },
  {
   "cell_type": "code",
   "execution_count": null,
   "metadata": {},
   "outputs": [],
   "source": [
    "#!qstat -u btsui"
   ]
  },
  {
   "cell_type": "code",
   "execution_count": null,
   "metadata": {},
   "outputs": [],
   "source": [
    "#!qalter 412442 -tc 200"
   ]
  },
  {
   "cell_type": "code",
   "execution_count": null,
   "metadata": {},
   "outputs": [],
   "source": [
    "#!cat ./paired_rna.py"
   ]
  },
  {
   "cell_type": "code",
   "execution_count": null,
   "metadata": {},
   "outputs": [],
   "source": [
    "#python paired_rna.py 1 Mus_musculus"
   ]
  },
  {
   "cell_type": "code",
   "execution_count": null,
   "metadata": {},
   "outputs": [],
   "source": [
    "!cat ./run_one.py"
   ]
  },
  {
   "cell_type": "code",
   "execution_count": null,
   "metadata": {},
   "outputs": [],
   "source": [
    "\"\"\"\n",
    "SRR998545 (try downloading and processing this one )\n",
    "SRR998530 (try downloading and processing this one )\n",
    "Study two example:\n",
    "SRR949118 (ran and have data)\n",
    "\"\"\""
   ]
  },
  {
   "cell_type": "code",
   "execution_count": null,
   "metadata": {},
   "outputs": [],
   "source": [
    "allDF.proj_accession_Visibility.value_counts()"
   ]
  },
  {
   "cell_type": "code",
   "execution_count": null,
   "metadata": {},
   "outputs": [],
   "source": [
    "hitDf=allDF.loc[['SRR998545','SRR998530','SRR949118']]"
   ]
  },
  {
   "cell_type": "code",
   "execution_count": null,
   "metadata": {},
   "outputs": [],
   "source": [
    "#allDF.proj_accession_Visibility.loc['SRR949118']"
   ]
  },
  {
   "cell_type": "code",
   "execution_count": null,
   "metadata": {},
   "outputs": [],
   "source": [
    "hitDf.T"
   ]
  },
  {
   "cell_type": "code",
   "execution_count": null,
   "metadata": {},
   "outputs": [],
   "source": [
    "\"\"\"\n",
    "export PATH=/cellar/users/btsui/anaconda2/bin/:$PATH\n",
    "/cellar/users/btsui/anaconda2/bin/python \n",
    "\"\"\""
   ]
  },
  {
   "cell_type": "code",
   "execution_count": null,
   "metadata": {},
   "outputs": [],
   "source": [
    "#!ls /cellar/users/btsui/Data/kalisto_ref/"
   ]
  },
  {
   "cell_type": "code",
   "execution_count": null,
   "metadata": {},
   "outputs": [],
   "source": [
    "hitDf=targetMetaDF.loc[['SRR998545','SRR998530','SRR949118']]"
   ]
  },
  {
   "cell_type": "code",
   "execution_count": null,
   "metadata": {},
   "outputs": [],
   "source": [
    "##hit is not the problem"
   ]
  },
  {
   "cell_type": "code",
   "execution_count": null,
   "metadata": {},
   "outputs": [],
   "source": [
    "hitDf.T"
   ]
  },
  {
   "cell_type": "code",
   "execution_count": null,
   "metadata": {},
   "outputs": [],
   "source": [
    "targetMetaDF['Study'].value_counts().head(n=10)"
   ]
  },
  {
   "cell_type": "code",
   "execution_count": null,
   "metadata": {},
   "outputs": [],
   "source": []
  }
 ],
 "metadata": {
  "kernelspec": {
   "display_name": "Python [default]",
   "language": "python",
   "name": "python3"
  },
  "language_info": {
   "codemirror_mode": {
    "name": "ipython",
    "version": 3
   },
   "file_extension": ".py",
   "mimetype": "text/x-python",
   "name": "python",
   "nbconvert_exporter": "python",
   "pygments_lexer": "ipython3",
   "version": "3.6.5"
  }
 },
 "nbformat": 4,
 "nbformat_minor": 2
}
