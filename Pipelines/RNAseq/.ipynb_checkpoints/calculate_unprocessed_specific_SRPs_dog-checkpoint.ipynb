{
 "cells": [
  {
   "cell_type": "code",
   "execution_count": 88,
   "metadata": {},
   "outputs": [
    {
     "name": "stdout",
     "output_type": "stream",
     "text": [
      "['SRR3553383' 'SRR5418097' nan ... 'SRR4247760' nan 'SRR5640150']\n"
     ]
    },
    {
     "name": "stderr",
     "output_type": "stream",
     "text": [
      "/cellar/users/btsui/anaconda3/envs/deep_nlp_cpu/lib/python3.6/site-packages/ipykernel_launcher.py:11: FutureWarning: from_csv is deprecated. Please use read_csv(...) instead. Note that some of the default arguments are different, so please refer to the documentation for from_csv when changing your function calls\n",
      "  # This is added back by InteractiveShellApp.init_path()\n",
      "/cellar/users/btsui/anaconda3/envs/deep_nlp_cpu/lib/python3.6/site-packages/IPython/core/interactiveshell.py:2901: DtypeWarning: Columns (5,6,25,26) have mixed types. Specify dtype option on import or set low_memory=False.\n",
      "  if self.run_code(code, result):\n"
     ]
    }
   ],
   "source": [
    "#!/cellar/users/btsui/anaconda2/bin/python\n",
    "import param as param\n",
    "import pandas as pd\n",
    "import numpy as np\n",
    "import os\n",
    "CWD='/cellar/users/btsui/Project/METAMAP/notebook/RapMapTest/Pipelines/RNAseq/'\n",
    "os.chdir(CWD)\n",
    "allProcessedFnames=pd.Series(os.listdir(param.count_out_dir),dtype=np.str)\n",
    "processed_runs=allProcessedFnames.str.extract('([DRS]RR\\d+)',expand=False).values\n",
    "print (processed_runs)\n",
    "allDF=pd.DataFrame.from_csv(param.full_meta_dir)\n",
    "#m1=True#\n",
    "m1=(~allDF.index.isin(processed_runs))"
   ]
  },
  {
   "cell_type": "code",
   "execution_count": 89,
   "metadata": {},
   "outputs": [],
   "source": [
    "subSelectedSRPs=['SRP093550']+['SRP091691',  'SRP093404', 'SRP093423', 'SRP093543']"
   ]
  },
  {
   "cell_type": "code",
   "execution_count": 114,
   "metadata": {},
   "outputs": [],
   "source": [
    "ref_specie_name='Canis_familiaris'"
   ]
  },
  {
   "cell_type": "code",
   "execution_count": 115,
   "metadata": {},
   "outputs": [],
   "source": [
    "study_m=allDF.Study.isin(subSelectedSRPs)"
   ]
  },
  {
   "cell_type": "code",
   "execution_count": 116,
   "metadata": {},
   "outputs": [],
   "source": [
    "#!ls -lath /nrnb/users/btsui/Data/all_seq/"
   ]
  },
  {
   "cell_type": "code",
   "execution_count": 117,
   "metadata": {},
   "outputs": [],
   "source": [
    "#'Canis_familiaris'"
   ]
  },
  {
   "cell_type": "code",
   "execution_count": 122,
   "metadata": {},
   "outputs": [],
   "source": [
    "targetMetaDF=allDF[ study_m].sort_values('Bases')"
   ]
  },
  {
   "cell_type": "code",
   "execution_count": 124,
   "metadata": {},
   "outputs": [
    {
     "data": {
      "text/plain": [
       "Run\n",
       "SRR5025823    Canis_lupus_familiaris\n",
       "SRR5026249               Canis_lupus\n",
       "SRR5025782    Canis_lupus_familiaris\n",
       "SRR5026185               Canis_lupus\n",
       "SRR5026184               Canis_lupus\n",
       "Name: new_ScientificName, dtype: object"
      ]
     },
     "execution_count": 124,
     "metadata": {},
     "output_type": "execute_result"
    }
   ],
   "source": [
    "targetMetaDF['new_ScientificName']"
   ]
  },
  {
   "cell_type": "code",
   "execution_count": 109,
   "metadata": {},
   "outputs": [],
   "source": [
    "targetMetaDF['new_ScientificName']=ref_specie_name"
   ]
  },
  {
   "cell_type": "code",
   "execution_count": 121,
   "metadata": {},
   "outputs": [
    {
     "data": {
      "text/html": [
       "<div>\n",
       "<style scoped>\n",
       "    .dataframe tbody tr th:only-of-type {\n",
       "        vertical-align: middle;\n",
       "    }\n",
       "\n",
       "    .dataframe tbody tr th {\n",
       "        vertical-align: top;\n",
       "    }\n",
       "\n",
       "    .dataframe thead th {\n",
       "        text-align: right;\n",
       "    }\n",
       "</style>\n",
       "<table border=\"1\" class=\"dataframe\">\n",
       "  <thead>\n",
       "    <tr style=\"text-align: right;\">\n",
       "      <th></th>\n",
       "      <th>Member_Name</th>\n",
       "      <th>Experiment</th>\n",
       "      <th>Sample</th>\n",
       "      <th>Study</th>\n",
       "      <th>Spots</th>\n",
       "      <th>Bases</th>\n",
       "      <th>Status</th>\n",
       "      <th>BioSample</th>\n",
       "      <th>ScientificName</th>\n",
       "      <th>LibraryStrategy</th>\n",
       "      <th>...</th>\n",
       "      <th>proj_accession_Sample</th>\n",
       "      <th>proj_accession_Study</th>\n",
       "      <th>proj_accession_Loaded</th>\n",
       "      <th>proj_accession_Spots</th>\n",
       "      <th>proj_accession_Bases</th>\n",
       "      <th>proj_accession_Md5sum</th>\n",
       "      <th>proj_accession_BioSample</th>\n",
       "      <th>proj_accession_BioProject</th>\n",
       "      <th>proj_accession_ReplacedBy</th>\n",
       "      <th>new_ScientificName</th>\n",
       "    </tr>\n",
       "    <tr>\n",
       "      <th>Run</th>\n",
       "      <th></th>\n",
       "      <th></th>\n",
       "      <th></th>\n",
       "      <th></th>\n",
       "      <th></th>\n",
       "      <th></th>\n",
       "      <th></th>\n",
       "      <th></th>\n",
       "      <th></th>\n",
       "      <th></th>\n",
       "      <th></th>\n",
       "      <th></th>\n",
       "      <th></th>\n",
       "      <th></th>\n",
       "      <th></th>\n",
       "      <th></th>\n",
       "      <th></th>\n",
       "      <th></th>\n",
       "      <th></th>\n",
       "      <th></th>\n",
       "      <th></th>\n",
       "    </tr>\n",
       "  </thead>\n",
       "  <tbody>\n",
       "    <tr>\n",
       "      <th>SRR5025823</th>\n",
       "      <td>default</td>\n",
       "      <td>SRX2250263</td>\n",
       "      <td>SRS1750235</td>\n",
       "      <td>SRP091691</td>\n",
       "      <td>21335689</td>\n",
       "      <td>5333922250</td>\n",
       "      <td>live</td>\n",
       "      <td>SAMN05915860</td>\n",
       "      <td>Canis_lupus_familiaris</td>\n",
       "      <td>RNA-Seq</td>\n",
       "      <td>...</td>\n",
       "      <td>SRS1750235</td>\n",
       "      <td>SRP091691</td>\n",
       "      <td>1.0</td>\n",
       "      <td>21335689</td>\n",
       "      <td>5333922250</td>\n",
       "      <td>48939db33e6c95d3327b220e1621f164</td>\n",
       "      <td>SAMN05915860</td>\n",
       "      <td>PRJNA348807</td>\n",
       "      <td>-</td>\n",
       "      <td>Canis_lupus_familiaris</td>\n",
       "    </tr>\n",
       "    <tr>\n",
       "      <th>SRR5026249</th>\n",
       "      <td>default</td>\n",
       "      <td>SRX2352474</td>\n",
       "      <td>SRS1802282</td>\n",
       "      <td>SRP093550</td>\n",
       "      <td>23980271</td>\n",
       "      <td>5995067750</td>\n",
       "      <td>live</td>\n",
       "      <td>SAMN06020128</td>\n",
       "      <td>Canis_lupus</td>\n",
       "      <td>RNA-Seq</td>\n",
       "      <td>...</td>\n",
       "      <td>SRS1802282</td>\n",
       "      <td>SRP093550</td>\n",
       "      <td>1.0</td>\n",
       "      <td>23980271</td>\n",
       "      <td>5995067750</td>\n",
       "      <td>e215909518d2b3ad6db8809b882d8941</td>\n",
       "      <td>SAMN06020128</td>\n",
       "      <td>PRJNA354092</td>\n",
       "      <td>-</td>\n",
       "      <td>Canis_lupus</td>\n",
       "    </tr>\n",
       "    <tr>\n",
       "      <th>SRR5025782</th>\n",
       "      <td>default</td>\n",
       "      <td>SRX2351981</td>\n",
       "      <td>SRS1802003</td>\n",
       "      <td>SRP093404</td>\n",
       "      <td>24948105</td>\n",
       "      <td>6237026250</td>\n",
       "      <td>live</td>\n",
       "      <td>SAMN06019378</td>\n",
       "      <td>Canis_lupus_familiaris</td>\n",
       "      <td>RNA-Seq</td>\n",
       "      <td>...</td>\n",
       "      <td>SRS1802003</td>\n",
       "      <td>SRP093404</td>\n",
       "      <td>1.0</td>\n",
       "      <td>24948105</td>\n",
       "      <td>6237026250</td>\n",
       "      <td>584fd821f3c79d0505ff9c15497fca25</td>\n",
       "      <td>SAMN06019378</td>\n",
       "      <td>PRJNA353716</td>\n",
       "      <td>-</td>\n",
       "      <td>Canis_lupus_familiaris</td>\n",
       "    </tr>\n",
       "    <tr>\n",
       "      <th>SRR5026185</th>\n",
       "      <td>default</td>\n",
       "      <td>SRX2352419</td>\n",
       "      <td>SRS1802243</td>\n",
       "      <td>SRP093543</td>\n",
       "      <td>25095332</td>\n",
       "      <td>6273833000</td>\n",
       "      <td>live</td>\n",
       "      <td>SAMN06020043</td>\n",
       "      <td>Canis_lupus</td>\n",
       "      <td>RNA-Seq</td>\n",
       "      <td>...</td>\n",
       "      <td>SRS1802243</td>\n",
       "      <td>SRP093543</td>\n",
       "      <td>1.0</td>\n",
       "      <td>25095332</td>\n",
       "      <td>6273833000</td>\n",
       "      <td>de6d7c027aeb71f62e653083edd1c67c</td>\n",
       "      <td>SAMN06020043</td>\n",
       "      <td>PRJNA354078</td>\n",
       "      <td>-</td>\n",
       "      <td>Canis_lupus</td>\n",
       "    </tr>\n",
       "    <tr>\n",
       "      <th>SRR5026184</th>\n",
       "      <td>default</td>\n",
       "      <td>SRX2352418</td>\n",
       "      <td>SRS1802242</td>\n",
       "      <td>SRP093423</td>\n",
       "      <td>25298957</td>\n",
       "      <td>6324739250</td>\n",
       "      <td>live</td>\n",
       "      <td>SAMN06020039</td>\n",
       "      <td>Canis_lupus</td>\n",
       "      <td>RNA-Seq</td>\n",
       "      <td>...</td>\n",
       "      <td>SRS1802242</td>\n",
       "      <td>SRP093423</td>\n",
       "      <td>1.0</td>\n",
       "      <td>25298957</td>\n",
       "      <td>6324739250</td>\n",
       "      <td>cae58b0987e9b3afc6774d1b46df0f17</td>\n",
       "      <td>SAMN06020039</td>\n",
       "      <td>PRJNA353762</td>\n",
       "      <td>-</td>\n",
       "      <td>Canis_lupus</td>\n",
       "    </tr>\n",
       "  </tbody>\n",
       "</table>\n",
       "<p>5 rows × 31 columns</p>\n",
       "</div>"
      ],
      "text/plain": [
       "           Member_Name  Experiment      Sample      Study     Spots  \\\n",
       "Run                                                                   \n",
       "SRR5025823     default  SRX2250263  SRS1750235  SRP091691  21335689   \n",
       "SRR5026249     default  SRX2352474  SRS1802282  SRP093550  23980271   \n",
       "SRR5025782     default  SRX2351981  SRS1802003  SRP093404  24948105   \n",
       "SRR5026185     default  SRX2352419  SRS1802243  SRP093543  25095332   \n",
       "SRR5026184     default  SRX2352418  SRS1802242  SRP093423  25298957   \n",
       "\n",
       "                 Bases Status     BioSample          ScientificName  \\\n",
       "Run                                                                   \n",
       "SRR5025823  5333922250   live  SAMN05915860  Canis_lupus_familiaris   \n",
       "SRR5026249  5995067750   live  SAMN06020128             Canis_lupus   \n",
       "SRR5025782  6237026250   live  SAMN06019378  Canis_lupus_familiaris   \n",
       "SRR5026185  6273833000   live  SAMN06020043             Canis_lupus   \n",
       "SRR5026184  6324739250   live  SAMN06020039             Canis_lupus   \n",
       "\n",
       "           LibraryStrategy           ...           proj_accession_Sample  \\\n",
       "Run                                  ...                                   \n",
       "SRR5025823         RNA-Seq           ...                      SRS1750235   \n",
       "SRR5026249         RNA-Seq           ...                      SRS1802282   \n",
       "SRR5025782         RNA-Seq           ...                      SRS1802003   \n",
       "SRR5026185         RNA-Seq           ...                      SRS1802243   \n",
       "SRR5026184         RNA-Seq           ...                      SRS1802242   \n",
       "\n",
       "           proj_accession_Study proj_accession_Loaded proj_accession_Spots  \\\n",
       "Run                                                                          \n",
       "SRR5025823            SRP091691                   1.0             21335689   \n",
       "SRR5026249            SRP093550                   1.0             23980271   \n",
       "SRR5025782            SRP093404                   1.0             24948105   \n",
       "SRR5026185            SRP093543                   1.0             25095332   \n",
       "SRR5026184            SRP093423                   1.0             25298957   \n",
       "\n",
       "           proj_accession_Bases             proj_accession_Md5sum  \\\n",
       "Run                                                                 \n",
       "SRR5025823           5333922250  48939db33e6c95d3327b220e1621f164   \n",
       "SRR5026249           5995067750  e215909518d2b3ad6db8809b882d8941   \n",
       "SRR5025782           6237026250  584fd821f3c79d0505ff9c15497fca25   \n",
       "SRR5026185           6273833000  de6d7c027aeb71f62e653083edd1c67c   \n",
       "SRR5026184           6324739250  cae58b0987e9b3afc6774d1b46df0f17   \n",
       "\n",
       "           proj_accession_BioSample proj_accession_BioProject  \\\n",
       "Run                                                             \n",
       "SRR5025823             SAMN05915860               PRJNA348807   \n",
       "SRR5026249             SAMN06020128               PRJNA354092   \n",
       "SRR5025782             SAMN06019378               PRJNA353716   \n",
       "SRR5026185             SAMN06020043               PRJNA354078   \n",
       "SRR5026184             SAMN06020039               PRJNA353762   \n",
       "\n",
       "           proj_accession_ReplacedBy      new_ScientificName  \n",
       "Run                                                           \n",
       "SRR5025823                         -  Canis_lupus_familiaris  \n",
       "SRR5026249                         -             Canis_lupus  \n",
       "SRR5025782                         -  Canis_lupus_familiaris  \n",
       "SRR5026185                         -             Canis_lupus  \n",
       "SRR5026184                         -             Canis_lupus  \n",
       "\n",
       "[5 rows x 31 columns]"
      ]
     },
     "execution_count": 121,
     "metadata": {},
     "output_type": "execute_result"
    }
   ],
   "source": [
    "targetMetaDF"
   ]
  },
  {
   "cell_type": "code",
   "execution_count": 99,
   "metadata": {},
   "outputs": [],
   "source": [
    "#targetMetaDF['new_ScientificName']"
   ]
  },
  {
   "cell_type": "code",
   "execution_count": 100,
   "metadata": {},
   "outputs": [],
   "source": [
    "#!ls -lah /cellar/users/btsui/Data/SRA/all_seq/unprocessed_dump.snp.csv"
   ]
  },
  {
   "cell_type": "code",
   "execution_count": 101,
   "metadata": {},
   "outputs": [],
   "source": [
    "targetMetaDF.to_csv(param.unprocessed_meta_dir)"
   ]
  },
  {
   "cell_type": "code",
   "execution_count": 102,
   "metadata": {},
   "outputs": [
    {
     "name": "stdout",
     "output_type": "stream",
     "text": [
      "qsub -t 1-5 all_seq.sh\n"
     ]
    }
   ],
   "source": [
    "command=\"qsub -t 1-\"+str(targetMetaDF.shape[0])+\" all_seq.sh\"\n",
    "print (command)"
   ]
  },
  {
   "cell_type": "code",
   "execution_count": 103,
   "metadata": {},
   "outputs": [
    {
     "data": {
      "text/plain": [
       "0"
      ]
     },
     "execution_count": 103,
     "metadata": {},
     "output_type": "execute_result"
    }
   ],
   "source": [
    "os.system(command)"
   ]
  },
  {
   "cell_type": "code",
   "execution_count": 105,
   "metadata": {},
   "outputs": [
    {
     "name": "stdout",
     "output_type": "stream",
     "text": [
      "job-ID  prior   name       user         state submit/start at     queue                          slots ja-task-ID \r\n",
      "-----------------------------------------------------------------------------------------------------------------\r\n",
      " 412662 5.01181 all_seq.sh btsui        r     08/23/2018 22:35:33 long.q@nrnb-4-3.ucsd.edu           1 92597\r\n",
      " 413285 5.01181 QLOGIN     btsui        r     08/24/2018 12:37:50 all.q@nrnb-5-6.ucsd.edu            1        \r\n",
      " 416115 5.01181 all_seq.sh btsui        r     08/28/2018 17:03:54 long.q@nrnb-1-0                    1 1\r\n",
      " 416115 5.01181 all_seq.sh btsui        r     08/28/2018 17:03:54 all.q@nrnb-1-0                     1 2\r\n",
      " 416115 5.01181 all_seq.sh btsui        r     08/28/2018 17:03:54 all.q@nrnb-1-0                     1 3\r\n",
      " 416115 5.01181 all_seq.sh btsui        r     08/28/2018 17:03:54 all.q@nrnb-1-0                     1 4\r\n",
      " 416115 5.01181 all_seq.sh btsui        r     08/28/2018 17:03:54 all.q@nrnb-1-0                     1 5\r\n"
     ]
    }
   ],
   "source": [
    "!qstat -u btsui"
   ]
  },
  {
   "cell_type": "code",
   "execution_count": 42,
   "metadata": {},
   "outputs": [
    {
     "name": "stdout",
     "output_type": "stream",
     "text": [
      "job-ID  prior   name       user         state submit/start at     queue                          slots ja-task-ID \r\n",
      "-----------------------------------------------------------------------------------------------------------------\r\n",
      " 412662 5.01199 all_seq.sh btsui        r     08/23/2018 22:35:33 long.q@nrnb-4-3.ucsd.edu           1 92597\r\n",
      " 413285 5.01199 QLOGIN     btsui        r     08/24/2018 12:37:50 all.q@nrnb-5-6.ucsd.edu            1        \r\n",
      " 415345 5.01199 all_seq.sh btsui        r     08/28/2018 15:42:54 long.q@nrnb-1-0                    1 1\r\n"
     ]
    }
   ],
   "source": [
    "!qstat -u btsui"
   ]
  },
  {
   "cell_type": "code",
   "execution_count": 43,
   "metadata": {},
   "outputs": [
    {
     "data": {
      "text/html": [
       "<div>\n",
       "<style scoped>\n",
       "    .dataframe tbody tr th:only-of-type {\n",
       "        vertical-align: middle;\n",
       "    }\n",
       "\n",
       "    .dataframe tbody tr th {\n",
       "        vertical-align: top;\n",
       "    }\n",
       "\n",
       "    .dataframe thead th {\n",
       "        text-align: right;\n",
       "    }\n",
       "</style>\n",
       "<table border=\"1\" class=\"dataframe\">\n",
       "  <thead>\n",
       "    <tr style=\"text-align: right;\">\n",
       "      <th></th>\n",
       "      <th>Member_Name</th>\n",
       "      <th>Experiment</th>\n",
       "      <th>Sample</th>\n",
       "      <th>Study</th>\n",
       "      <th>Spots</th>\n",
       "      <th>Bases</th>\n",
       "      <th>Status</th>\n",
       "      <th>BioSample</th>\n",
       "      <th>ScientificName</th>\n",
       "      <th>LibraryStrategy</th>\n",
       "      <th>...</th>\n",
       "      <th>proj_accession_Sample</th>\n",
       "      <th>proj_accession_Study</th>\n",
       "      <th>proj_accession_Loaded</th>\n",
       "      <th>proj_accession_Spots</th>\n",
       "      <th>proj_accession_Bases</th>\n",
       "      <th>proj_accession_Md5sum</th>\n",
       "      <th>proj_accession_BioSample</th>\n",
       "      <th>proj_accession_BioProject</th>\n",
       "      <th>proj_accession_ReplacedBy</th>\n",
       "      <th>new_ScientificName</th>\n",
       "    </tr>\n",
       "    <tr>\n",
       "      <th>Run</th>\n",
       "      <th></th>\n",
       "      <th></th>\n",
       "      <th></th>\n",
       "      <th></th>\n",
       "      <th></th>\n",
       "      <th></th>\n",
       "      <th></th>\n",
       "      <th></th>\n",
       "      <th></th>\n",
       "      <th></th>\n",
       "      <th></th>\n",
       "      <th></th>\n",
       "      <th></th>\n",
       "      <th></th>\n",
       "      <th></th>\n",
       "      <th></th>\n",
       "      <th></th>\n",
       "      <th></th>\n",
       "      <th></th>\n",
       "      <th></th>\n",
       "      <th></th>\n",
       "    </tr>\n",
       "  </thead>\n",
       "  <tbody>\n",
       "    <tr>\n",
       "      <th>SRR5026249</th>\n",
       "      <td>default</td>\n",
       "      <td>SRX2352474</td>\n",
       "      <td>SRS1802282</td>\n",
       "      <td>SRP093550</td>\n",
       "      <td>23980271</td>\n",
       "      <td>5995067750</td>\n",
       "      <td>live</td>\n",
       "      <td>SAMN06020128</td>\n",
       "      <td>Canis_lupus</td>\n",
       "      <td>RNA-Seq</td>\n",
       "      <td>...</td>\n",
       "      <td>SRS1802282</td>\n",
       "      <td>SRP093550</td>\n",
       "      <td>1.0</td>\n",
       "      <td>23980271</td>\n",
       "      <td>5995067750</td>\n",
       "      <td>e215909518d2b3ad6db8809b882d8941</td>\n",
       "      <td>SAMN06020128</td>\n",
       "      <td>PRJNA354092</td>\n",
       "      <td>-</td>\n",
       "      <td>Canis_lupus</td>\n",
       "    </tr>\n",
       "  </tbody>\n",
       "</table>\n",
       "<p>1 rows × 31 columns</p>\n",
       "</div>"
      ],
      "text/plain": [
       "           Member_Name  Experiment      Sample      Study     Spots  \\\n",
       "Run                                                                   \n",
       "SRR5026249     default  SRX2352474  SRS1802282  SRP093550  23980271   \n",
       "\n",
       "                 Bases Status     BioSample ScientificName LibraryStrategy  \\\n",
       "Run                                                                          \n",
       "SRR5026249  5995067750   live  SAMN06020128    Canis_lupus         RNA-Seq   \n",
       "\n",
       "                  ...         proj_accession_Sample proj_accession_Study  \\\n",
       "Run               ...                                                      \n",
       "SRR5026249        ...                    SRS1802282            SRP093550   \n",
       "\n",
       "           proj_accession_Loaded proj_accession_Spots proj_accession_Bases  \\\n",
       "Run                                                                          \n",
       "SRR5026249                   1.0             23980271           5995067750   \n",
       "\n",
       "                       proj_accession_Md5sum proj_accession_BioSample  \\\n",
       "Run                                                                     \n",
       "SRR5026249  e215909518d2b3ad6db8809b882d8941             SAMN06020128   \n",
       "\n",
       "           proj_accession_BioProject proj_accession_ReplacedBy  \\\n",
       "Run                                                              \n",
       "SRR5026249               PRJNA354092                         -   \n",
       "\n",
       "           new_ScientificName  \n",
       "Run                            \n",
       "SRR5026249        Canis_lupus  \n",
       "\n",
       "[1 rows x 31 columns]"
      ]
     },
     "execution_count": 43,
     "metadata": {},
     "output_type": "execute_result"
    }
   ],
   "source": [
    "targetMetaDF"
   ]
  },
  {
   "cell_type": "code",
   "execution_count": 128,
   "metadata": {},
   "outputs": [],
   "source": [
    "#!qstat -u btsui"
   ]
  },
  {
   "cell_type": "code",
   "execution_count": 126,
   "metadata": {},
   "outputs": [
    {
     "name": "stdout",
     "output_type": "stream",
     "text": [
      "total 1.3G\r\n",
      "drwxr-xr-x  2 btsui users  512 Aug 28 17:27 rnaseq_merged\r\n",
      "drwxr-xr-x 16 btsui users 128K Aug 28 17:26 .\r\n",
      "drwxr-xr-x  2 btsui users  16M Aug 28 17:03 log_rnaseq\r\n",
      "drwxr-xr-x  2 btsui users  64M Aug 27 23:16 rnaseq\r\n",
      "drwxr-xr-x  2 btsui users  64M Aug 13 13:41 snp\r\n",
      "drwxr-xr-x  2 btsui users  16M Aug 13 13:41 log_snp\r\n",
      "drwxr-xr-x  2 btsui users 128K Aug  5 08:51 tmp_tcga_block\r\n",
      "drwxr-xr-x  2 btsui users 128K Aug  5 03:54 tmp_chunks\r\n",
      "drwxr-xr-x  2 btsui users  512 Aug  4 18:59 tmp\r\n",
      "drwxr-xr-x 16 btsui users 128K Aug  4 17:17 ..\r\n",
      "drwxr-xr-x  2 btsui users 476M Jul 24 20:31 tmp_2\r\n",
      "drwxr-xr-x  2 btsui users 128K Jan 28  2018 tmp_3\r\n",
      "-rw-r--r--  1 btsui users  814 Jan 26  2018 Homo_sapiens.failed.srrs.txt\r\n",
      "drwxr-xr-x  2 btsui users 2.0M Dec 29  2017 old_snp\r\n",
      "drwxr-xr-x  2 btsui users 1.0M Dec 29  2017 old_log_snp\r\n",
      "drwxr-xr-x  9 btsui users 128K Dec 29  2017 chip\r\n",
      "drwxr-xr-x  2 btsui users  16M Nov 22  2017 expression_old\r\n"
     ]
    }
   ],
   "source": [
    "!ls -lath /nrnb/users/btsui/Data/all_seq/"
   ]
  },
  {
   "cell_type": "code",
   "execution_count": 45,
   "metadata": {},
   "outputs": [],
   "source": [
    "!ls -lath /nrnb/users/btsui/Data/all_seq/log_rnaseq/ > .ls.log.txt"
   ]
  },
  {
   "cell_type": "code",
   "execution_count": 48,
   "metadata": {},
   "outputs": [
    {
     "name": "stdout",
     "output_type": "stream",
     "text": [
      "total 21G\r\n",
      "-rw-r--r--  1 btsui users 400K Aug 28 16:02 all_seq.sh.o412662.92597\r\n",
      "-rw-r--r--  1 btsui users 7.9K Aug 28 15:49 all_seq.sh.e415345.1\r\n",
      "-rw-r--r--  1 btsui users 2.4K Aug 28 15:49 all_seq.sh.o415345.1\r\n",
      "-rw-r--r--  1 btsui users 7.8K Aug 28 15:45 all_seq.sh.e415344.4\r\n",
      "-rw-r--r--  1 btsui users 3.2K Aug 28 15:45 all_seq.sh.o415344.4\r\n",
      "-rw-r--r--  1 btsui users 9.6K Aug 28 15:45 all_seq.sh.e415344.3\r\n",
      "-rw-r--r--  1 btsui users 3.1K Aug 28 15:45 all_seq.sh.o415344.3\r\n",
      "-rw-r--r--  1 btsui users 9.7K Aug 28 15:44 all_seq.sh.e415344.2\r\n",
      "-rw-r--r--  1 btsui users 3.1K Aug 28 15:44 all_seq.sh.o415344.2\r\n"
     ]
    }
   ],
   "source": [
    "!head .ls.log.txt"
   ]
  },
  {
   "cell_type": "code",
   "execution_count": 49,
   "metadata": {},
   "outputs": [
    {
     "name": "stdout",
     "output_type": "stream",
     "text": [
      "2018-08-28T22:45:00 fastq-dump.2.4.2 err: unknown while writing file within file system module - unknown system error 'Broken pipe(32)'\r\n",
      "2018-08-28T22:45:00 fastq-dump.2.4.2 err: unknown while writing file within file system module - failed /tmp/btsui/METH/sra/SRR5026184.sra\r\n",
      "2018-08-28T22:45:00 fastq-dump.2.4.2 err: unknown while writing file within file system module - unknown system error 'Broken pipe(32)'\r\n",
      "\r\n",
      "=============================================================\r\n",
      "An error occurred during processing.\r\n",
      "A report was generated into the file '/cellar/users/btsui/ncbi_error_report.xml'.\r\n",
      "If the problem persists, you may consider sending the file\r\n",
      "to 'sra@ncbi.nlm.nih.gov' for assistance.\r\n",
      "=============================================================\r\n",
      "\r\n",
      "No quality encoding type selected. Assuming that the data provided uses Sanger encoded Phred scores (default)\r\n",
      "\r\n",
      "Path to Cutadapt set as: 'cutadapt' (default)\r\n",
      "Cutadapt seems to be working fine (tested command 'cutadapt --version')\r\n",
      "\r\n",
      "\r\n",
      "AUTO-DETECTING ADAPTER TYPE\r\n",
      "===========================\r\n",
      "Attempting to auto-detect adapter type from the first 1 million sequences of the first file (>> head.fq_R1 <<)\r\n",
      "\r\n",
      "Found perfect matches for the following adapter sequences:\r\n",
      "Adapter type\tCount\tSequence\tSequences analysed\tPercentage\r\n",
      "smallRNA\t0\tATGGAATTCTCG\t2000\t0.00\r\n",
      "Nextera\t0\tCTGTCTCTTATA\t2000\t0.00\r\n",
      "Illumina\t0\tAGATCGGAAGAGC\t2000\t0.00\r\n",
      "Use of uninitialized value in concatenation (.) or string at /cellar/users/btsui/Program/TRIMAGLORE//trim_galore line 145, <AUTODETECT> line 8000.\r\n",
      "Unable to auto-detect most prominent adapter from the first specified file (count smallRNA: 0, count Nextera: )\r\n",
      "Defaulting to Illumina universal adapter ( AGATCGGAAGAGC ). Specify -a SEQUENCE to avoid this behavior).\r\n",
      "\r\n",
      "Writing report to 'head.fq_R1_trimming_report.txt'\r\n",
      "\r\n",
      "SUMMARISING RUN PARAMETERS\r\n",
      "==========================\r\n",
      "Input filename: head.fq_R1\r\n",
      "Trimming mode: paired-end\r\n",
      "Trim Galore version: 0.4.0\r\n",
      "Cutadapt version: 1.15\r\n",
      "Quality Phred score cutoff: 20\r\n",
      "Quality encoding type selected: ASCII+33\r\n",
      "Adapter sequence: 'AGATCGGAAGAGC' (Illumina TruSeq, Sanger iPCR; default (inconclusive auto-detection))\r\n",
      "Maximum trimming error rate: 0.1 (default)\r\n",
      "Minimum required adapter overlap (stringency): 1 bp\r\n",
      "Minimum required sequence length for both reads before a sequence pair gets removed: 20 bp\r\n",
      "\r\n",
      "Writing final adapter and quality trimmed output to head.fq_R1_trimmed.fq\r\n",
      "\r\n",
      "\r\n",
      "  >>> Now performing quality (cutoff 20) and adapter trimming in a single pass for the adapter sequence: 'AGATCGGAAGAGC' from file head.fq_R1 <<< \r\n",
      "This is cutadapt 1.15 with Python 2.7.14\r\n",
      "Command line parameters: -f fastq -e 0.1 -q 20 -O 1 -a AGATCGGAAGAGC head.fq_R1\r\n",
      "Running on 1 core\r\n",
      "Trimming 1 adapter with at most 10.0% errors in single-end mode ...\r\n",
      "Finished in 0.04 s (19 us/read; 3.13 M reads/minute).\r\n",
      "\r\n",
      "=== Summary ===\r\n",
      "\r\n",
      "Total reads processed:                   2,000\r\n",
      "Reads with adapters:                       562 (28.1%)\r\n",
      "Reads written (passing filters):         2,000 (100.0%)\r\n",
      "\r\n",
      "Total basepairs processed:       250,000 bp\r\n",
      "Quality-trimmed:                   1,183 bp (0.5%)\r\n",
      "Total written (filtered):        247,978 bp (99.2%)\r\n",
      "\r\n",
      "=== Adapter 1 ===\r\n",
      "\r\n",
      "Sequence: AGATCGGAAGAGC; Type: regular 3'; Length: 13; Trimmed: 562 times.\r\n",
      "\r\n",
      "No. of allowed errors:\r\n",
      "0-9 bp: 0; 10-13 bp: 1\r\n",
      "\r\n",
      "Bases preceding removed adapters:\r\n",
      "  A: 29.4%\r\n",
      "  C: 39.3%\r\n",
      "  G: 19.4%\r\n",
      "  T: 11.9%\r\n",
      "  none/other: 0.0%\r\n",
      "\r\n",
      "Overview of removed sequences\r\n",
      "length\tcount\texpect\tmax.err\terror counts\r\n",
      "1\t375\t500.0\t0\t375\r\n",
      "2\t136\t125.0\t0\t136\r\n",
      "3\t34\t31.2\t0\t34\r\n",
      "4\t8\t7.8\t0\t8\r\n",
      "5\t3\t2.0\t0\t3\r\n",
      "6\t2\t0.5\t0\t2\r\n",
      "7\t1\t0.1\t0\t1\r\n",
      "8\t3\t0.0\t0\t3\r\n",
      "\r\n",
      "\r\n",
      "RUN STATISTICS FOR INPUT FILE: head.fq_R1\r\n",
      "=============================================\r\n",
      "2000 sequences processed in total\r\n",
      "The length threshold of paired-end sequences gets evaluated later on (in the validation step)\r\n",
      "\r\n",
      "Writing report to 'head.fq_R2_trimming_report.txt'\r\n",
      "\r\n",
      "SUMMARISING RUN PARAMETERS\r\n",
      "==========================\r\n",
      "Input filename: head.fq_R2\r\n",
      "Trimming mode: paired-end\r\n",
      "Trim Galore version: 0.4.0\r\n",
      "Cutadapt version: 1.15\r\n",
      "Quality Phred score cutoff: 20\r\n",
      "Quality encoding type selected: ASCII+33\r\n",
      "Adapter sequence: 'AGATCGGAAGAGC' (Illumina TruSeq, Sanger iPCR; default (inconclusive auto-detection))\r\n",
      "Maximum trimming error rate: 0.1 (default)\r\n",
      "Minimum required adapter overlap (stringency): 1 bp\r\n",
      "Minimum required sequence length for both reads before a sequence pair gets removed: 20 bp\r\n",
      "\r\n",
      "Writing final adapter and quality trimmed output to head.fq_R2_trimmed.fq\r\n",
      "\r\n",
      "\r\n",
      "  >>> Now performing quality (cutoff 20) and adapter trimming in a single pass for the adapter sequence: 'AGATCGGAAGAGC' from file head.fq_R2 <<< \r\n",
      "This is cutadapt 1.15 with Python 2.7.14\r\n",
      "Command line parameters: -f fastq -e 0.1 -q 20 -O 1 -a AGATCGGAAGAGC head.fq_R2\r\n",
      "Running on 1 core\r\n",
      "Trimming 1 adapter with at most 10.0% errors in single-end mode ...\r\n",
      "Finished in 0.04 s (19 us/read; 3.09 M reads/minute).\r\n",
      "\r\n",
      "=== Summary ===\r\n",
      "\r\n",
      "Total reads processed:                   2,000\r\n",
      "Reads with adapters:                       626 (31.3%)\r\n",
      "Reads written (passing filters):         2,000 (100.0%)\r\n",
      "\r\n",
      "Total basepairs processed:       250,000 bp\r\n",
      "Quality-trimmed:                   2,431 bp (1.0%)\r\n",
      "Total written (filtered):        246,660 bp (98.7%)\r\n",
      "\r\n",
      "=== Adapter 1 ===\r\n",
      "\r\n",
      "Sequence: AGATCGGAAGAGC; Type: regular 3'; Length: 13; Trimmed: 626 times.\r\n",
      "\r\n",
      "No. of allowed errors:\r\n",
      "0-9 bp: 0; 10-13 bp: 1\r\n",
      "\r\n",
      "Bases preceding removed adapters:\r\n",
      "  A: 27.5%\r\n",
      "  C: 42.2%\r\n",
      "  G: 19.2%\r\n",
      "  T: 11.2%\r\n",
      "  none/other: 0.0%\r\n",
      "\r\n",
      "Overview of removed sequences\r\n",
      "length\tcount\texpect\tmax.err\terror counts\r\n",
      "1\t429\t500.0\t0\t429\r\n",
      "2\t146\t125.0\t0\t146\r\n",
      "3\t37\t31.2\t0\t37\r\n",
      "4\t6\t7.8\t0\t6\r\n",
      "5\t2\t2.0\t0\t2\r\n",
      "6\t2\t0.5\t0\t2\r\n",
      "7\t1\t0.1\t0\t1\r\n",
      "8\t3\t0.0\t0\t3\r\n",
      "\r\n",
      "\r\n",
      "RUN STATISTICS FOR INPUT FILE: head.fq_R2\r\n",
      "=============================================\r\n",
      "2000 sequences processed in total\r\n",
      "The length threshold of paired-end sequences gets evaluated later on (in the validation step)\r\n",
      "\r\n",
      "Validate paired-end files head.fq_R1_trimmed.fq and head.fq_R2_trimmed.fq\r\n",
      "file_1: head.fq_R1_trimmed.fq, file_2: head.fq_R2_trimmed.fq\r\n",
      "\r\n",
      "\r\n",
      ">>>>> Now validing the length of the 2 paired-end infiles: head.fq_R1_trimmed.fq and head.fq_R2_trimmed.fq <<<<<\r\n",
      "Writing validated paired-end read 1 reads to head.fq_R1_val_1.fq\r\n",
      "Writing validated paired-end read 2 reads to head.fq_R2_val_2.fq\r\n",
      "\r\n",
      "Total number of sequences analysed: 2000\r\n",
      "\r\n",
      "Number of sequence pairs removed because at least one read was shorter than the length cutoff (20 bp): 1 (0.05%)\r\n",
      "\r\n",
      "Deleting both intermediate output files head.fq_R1_trimmed.fq and head.fq_R2_trimmed.fq\r\n",
      "\r\n",
      "====================================================================================================\r\n",
      "\r\n",
      "/cellar/users/btsui/anaconda2/lib/python2.7/site-packages/pandas/core/frame.py:1251: ParserWarning: Falling back to the 'python' engine because the 'c' engine does not support regex separators (separators > 1 char and different from '\\s+' are interpreted as regex); you can avoid this warning by specifying engine='python'.\r\n",
      "  infer_datetime_format=infer_datetime_format)\r\n",
      "rm: cannot remove 'bowtie': No such file or directory\r\n",
      "rm: cannot remove 'SRR5026184_count': No such file or directory\r\n",
      "rm: cannot remove 'fq1': No such file or directory\r\n",
      "rm: cannot remove 'fq2': No such file or directory\r\n",
      "\r\n",
      "Error: kallisto index file not found /cellar/users/btsui/Data/kalisto_ref/Canis_lupus\r\n",
      "\r\n",
      "gzip: ./read_quant/abundance.tsv: No such file or directory\r\n",
      "gzip: ./read_quant/run_info.json: No such file or directory\r\n",
      "cp: cannot stat './read_quant/abundance.tsv.gz': No such file or directory\r\n",
      "cp: cannot stat './read_quant/run_info.json.gz': No such file or directory\r\n",
      "sh: 0: getcwd() failed: No such file or directory\r\n",
      "2018-08-28T22:45:21 fastq-dump.2.4.2 err: directory not found while opening manager within virtual file system module - failed to open '/tmp/btsui/METH/sra/SRR5026184.sra'\r\n",
      "This is cutadapt 1.15 with Python 2.7.14\r\n",
      "Command line parameters: --interleaved -m 31 -a AGATCGGAAGAGC -A AGATCGGAAGAGC -\r\n",
      "Running on 1 core\r\n",
      "Trimming 2 adapters with at most 10.0% errors in paired-end mode ...\r\n",
      "cutadapt: error: Line 1 in FASTQ file is expected to start with '@', but found '\\n'\r\n"
     ]
    }
   ],
   "source": [
    "!cat /nrnb/users/btsui/Data/all_seq/log_rnaseq/all_seq.sh.e415344.4"
   ]
  },
  {
   "cell_type": "code",
   "execution_count": 51,
   "metadata": {},
   "outputs": [
    {
     "name": "stdout",
     "output_type": "stream",
     "text": [
      "/cellar/users/btsui/Data/kalisto_ref/Canis_familiaris\r\n"
     ]
    }
   ],
   "source": [
    "!ls /cellar/users/btsui/Data/kalisto_ref/Canis_familiaris"
   ]
  },
  {
   "cell_type": "code",
   "execution_count": null,
   "metadata": {},
   "outputs": [],
   "source": []
  }
 ],
 "metadata": {
  "kernelspec": {
   "display_name": "Python 3",
   "language": "python",
   "name": "python3"
  },
  "language_info": {
   "codemirror_mode": {
    "name": "ipython",
    "version": 3
   },
   "file_extension": ".py",
   "mimetype": "text/x-python",
   "name": "python",
   "nbconvert_exporter": "python",
   "pygments_lexer": "ipython3",
   "version": "3.6.6"
  }
 },
 "nbformat": 4,
 "nbformat_minor": 2
}
