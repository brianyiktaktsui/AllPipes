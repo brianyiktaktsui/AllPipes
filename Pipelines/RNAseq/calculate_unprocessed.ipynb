{
 "cells": [
  {
   "cell_type": "code",
   "execution_count": 1,
   "metadata": {},
   "outputs": [
    {
     "name": "stdout",
     "output_type": "stream",
     "text": [
      "['SRR3553383' 'SRR5418097' nan ... 'SRR4247760' nan 'SRR5640150']\n"
     ]
    },
    {
     "name": "stderr",
     "output_type": "stream",
     "text": [
      "/cellar/users/btsui/anaconda3/lib/python3.6/site-packages/ipykernel/__main__.py:11: FutureWarning: from_csv is deprecated. Please use read_csv(...) instead. Note that some of the default arguments are different, so please refer to the documentation for from_csv when changing your function calls\n",
      "/cellar/users/btsui/anaconda3/lib/python3.6/site-packages/IPython/core/interactiveshell.py:2903: DtypeWarning: Columns (5,6,25,26) have mixed types. Specify dtype option on import or set low_memory=False.\n",
      "  if self.run_code(code, result):\n"
     ]
    }
   ],
   "source": [
    "#!/cellar/users/btsui/anaconda2/bin/python\n",
    "import param as param\n",
    "import pandas as pd\n",
    "import numpy as np\n",
    "import os\n",
    "CWD='/cellar/users/btsui/Project/METAMAP/notebook/RapMapTest/Pipelines/RNAseq/'\n",
    "os.chdir(CWD)\n",
    "allProcessedFnames=pd.Series(os.listdir(param.count_out_dir),dtype=np.str)\n",
    "processed_runs=allProcessedFnames.str.extract('([DRS]RR\\d+)',expand=False).values\n",
    "print (processed_runs)\n",
    "allDF=pd.DataFrame.from_csv(param.full_meta_dir)\n",
    "#m1=True#\n",
    "m1=(~allDF.index.isin(processed_runs))"
   ]
  },
  {
   "cell_type": "code",
   "execution_count": 2,
   "metadata": {},
   "outputs": [],
   "source": [
    "#!ls -laht /nrnb/users/btsui/Data/all_seq/\n",
    "#Canis_familiaris"
   ]
  },
  {
   "cell_type": "markdown",
   "metadata": {},
   "source": [
    "#### \n",
    "\n",
    "\n",
    "use study_m only slicing specific studies, remove once doen"
   ]
  },
  {
   "cell_type": "code",
   "execution_count": 3,
   "metadata": {},
   "outputs": [],
   "source": [
    "#subSelectedSRPs=['SRP091691',  'SRP093404', 'SRP093423', 'SRP093543']"
   ]
  },
  {
   "cell_type": "code",
   "execution_count": 4,
   "metadata": {},
   "outputs": [],
   "source": [
    "#study_m=allDF.Study.isin(subSelectedSRPs)"
   ]
  },
  {
   "cell_type": "code",
   "execution_count": 5,
   "metadata": {},
   "outputs": [],
   "source": [
    "#allDF.head()"
   ]
  },
  {
   "cell_type": "code",
   "execution_count": 6,
   "metadata": {},
   "outputs": [],
   "source": [
    "allDF['Bases']=pd.to_numeric(allDF['Bases'],errors='coerce')"
   ]
  },
  {
   "cell_type": "code",
   "execution_count": 7,
   "metadata": {},
   "outputs": [],
   "source": [
    "#allDF['new_ScientificName']"
   ]
  },
  {
   "cell_type": "code",
   "execution_count": 8,
   "metadata": {},
   "outputs": [
    {
     "data": {
      "text/plain": [
       "['Homo_sapiens',\n",
       " 'Mus_musculus',\n",
       " 'Drosophila_melanogaster',\n",
       " 'Danio_rerio',\n",
       " 'Canis_familiaris']"
      ]
     },
     "execution_count": 8,
     "metadata": {},
     "output_type": "execute_result"
    }
   ],
   "source": [
    "param.supporting_species"
   ]
  },
  {
   "cell_type": "code",
   "execution_count": 15,
   "metadata": {},
   "outputs": [],
   "source": [
    "#specie_m=targetMetaDF['new_ScientificName']=='Canis_familiaris'"
   ]
  },
  {
   "cell_type": "code",
   "execution_count": 16,
   "metadata": {},
   "outputs": [
    {
     "name": "stderr",
     "output_type": "stream",
     "text": [
      "/cellar/users/btsui/anaconda3/lib/python3.6/site-packages/ipykernel/__main__.py:10: UserWarning: Boolean Series key will be reindexed to match DataFrame index.\n"
     ]
    },
    {
     "name": "stdout",
     "output_type": "stream",
     "text": [
      "qsub -t 1-1001 all_seq.sh\n"
     ]
    }
   ],
   "source": [
    "#m2=(allDF['pipe_line'].isin(param.supporting_seqs))\n",
    "m2=allDF['LibraryStrategy'].isin(param.supporting_library_strategy)\n",
    "m3=allDF['new_ScientificName'].isin(param.supporting_species)\n",
    "m4=(allDF.Status=='live')\n",
    "m5=(allDF.proj_accession_Visibility!='controlled_access').fillna(False)\n",
    "m6=(allDF.Bases>(0*((10**6))))\n",
    "m7=allDF.LibraryLayout.isin(param.supporting_layouts)\n",
    "m8=~allDF[\"Study\"].isin(['ERP013950'])\n",
    "allDF['index']=np.arange(allDF.shape[0])\n",
    "targetMetaDF=allDF[ m1&m2&(m3)&m4&m5&m6&m7&m8].sort_values('Bases')\n",
    "targetMetaDF.to_csv(param.unprocessed_meta_dir)\n",
    "\n",
    "command=\"qsub -t 1-\"+str(targetMetaDF.shape[0])+\" all_seq.sh\"\n",
    "print (command)\n",
    "#log_out_dir='/cellar/users/btsui/Data/SRA/all_seq/log/'\n",
    "#count_out_dir='/cellar/users/btsui/Data/SRA/all_seq/chip/'\n"
   ]
  },
  {
   "cell_type": "code",
   "execution_count": 10,
   "metadata": {},
   "outputs": [
    {
     "data": {
      "text/plain": [
       "Mus_musculus               42222\n",
       "Homo_sapiens               26612\n",
       "Danio_rerio                14248\n",
       "Drosophila_melanogaster     2021\n",
       "Canis_familiaris            1001\n",
       "Name: new_ScientificName, dtype: int64"
      ]
     },
     "execution_count": 10,
     "metadata": {},
     "output_type": "execute_result"
    }
   ],
   "source": [
    "targetMetaDF['new_ScientificName'].value_counts()"
   ]
  },
  {
   "cell_type": "code",
   "execution_count": 20,
   "metadata": {},
   "outputs": [],
   "source": [
    "#!qdel 416119"
   ]
  },
  {
   "cell_type": "code",
   "execution_count": 17,
   "metadata": {},
   "outputs": [
    {
     "data": {
      "text/plain": [
       "0"
      ]
     },
     "execution_count": 17,
     "metadata": {},
     "output_type": "execute_result"
    }
   ],
   "source": [
    "os.system(command)\n"
   ]
  },
  {
   "cell_type": "code",
   "execution_count": 14,
   "metadata": {},
   "outputs": [],
   "source": [
    "#!qalter  412662 -tc 300"
   ]
  },
  {
   "cell_type": "code",
   "execution_count": 38,
   "metadata": {
    "scrolled": true
   },
   "outputs": [
    {
     "name": "stdout",
     "output_type": "stream",
     "text": [
      "#full_meta_dir=\"/cellar/users/btsui/Project/METAMAP/notebook/Parsing/sra_dump.csv\"\r\n",
      "full_meta_dir=\"/cellar/users/btsui/Data/SRA/DUMP/sra_dump.csv.gz\"\r\n",
      "unprocessed_meta_dir='/cellar/users/btsui/Data/SRA/all_seq/unprocessed_dump.snp.csv'\r\n",
      "log_out_dir='/dev/null'\r\n",
      "count_out_dir='/nrnb/users/btsui/Data/all_seq/rnaseq/'\r\n",
      "#SRR5422561\r\n",
      "#Mus_musculus.GRCm38.cdna|Drosophila_melanogaster.BDGP6|Danio_rerio\r\n",
      "supporting_species=['Homo_sapiens','Mus_musculus','Drosophila_melanogaster','Danio_rerio']\r\n",
      "supporting_library_strategy=['RNA-Seq']\r\n",
      "supporting_layouts=['SINGLE','PAIRED']\r\n"
     ]
    }
   ],
   "source": [
    "!cat param.py"
   ]
  },
  {
   "cell_type": "code",
   "execution_count": 14,
   "metadata": {},
   "outputs": [],
   "source": [
    "#targetMetaDF[]['ScientificName'].value_counts()"
   ]
  },
  {
   "cell_type": "code",
   "execution_count": 27,
   "metadata": {},
   "outputs": [
    {
     "name": "stdout",
     "output_type": "stream",
     "text": [
      "total 1.3G\r\n",
      "drwxr-xr-x 15 btsui users 128K Aug 14 10:07 .\r\n",
      "drwxr-xr-x 16 btsui users 128K Aug  4 17:17 ..\r\n",
      "-rw-r--r--  1 btsui users  814 Jan 26  2018 Homo_sapiens.failed.srrs.txt\r\n",
      "drwxr-xr-x  9 btsui users 128K Dec 29  2017 chip\r\n",
      "drwxr-xr-x  2 btsui users  16M Nov 22  2017 expression_old\r\n",
      "drwxr-xr-x  2 btsui users  16M Aug 23 08:45 log_rnaseq\r\n",
      "drwxr-xr-x  2 btsui users  16M Aug 13 13:41 log_snp\r\n",
      "drwxr-xr-x  2 btsui users 1.0M Dec 29  2017 old_log_snp\r\n",
      "drwxr-xr-x  2 btsui users 2.0M Dec 29  2017 old_snp\r\n",
      "drwxr-xr-x  2 btsui users  64M Aug 23 08:45 rnaseq\r\n",
      "drwxr-xr-x  2 btsui users  64M Aug 13 13:41 snp\r\n",
      "drwxr-xr-x  2 btsui users  512 Aug  4 18:59 tmp\r\n",
      "drwxr-xr-x  2 btsui users 476M Jul 24 20:31 tmp_2\r\n",
      "drwxr-xr-x  2 btsui users 128K Jan 28  2018 tmp_3\r\n",
      "drwxr-xr-x  2 btsui users 128K Aug  5 03:54 tmp_chunks\r\n",
      "drwxr-xr-x  2 btsui users 128K Aug  5 08:51 tmp_tcga_block\r\n"
     ]
    }
   ],
   "source": [
    "!ls -lah /nrnb/users/btsui/Data/all_seq/"
   ]
  },
  {
   "cell_type": "code",
   "execution_count": null,
   "metadata": {},
   "outputs": [],
   "source": [
    "command"
   ]
  },
  {
   "cell_type": "markdown",
   "metadata": {},
   "source": [
    "### clean nodes"
   ]
  },
  {
   "cell_type": "code",
   "execution_count": 2,
   "metadata": {},
   "outputs": [],
   "source": [
    "__author__ = 'btsui'\n",
    "import subprocess\n",
    "#from eventlet.timeout import Timeout\n",
    "from multiprocessing import Pool\n",
    "username=\"btsui\"\n",
    "machineFDir=\"/cellar/users/btsui/Documents/ipythonNotebook/current_working_dir/GoogleGEO/Job/mpiJob/machine_file.txt\"\n",
    "def cleanMachine(l):\n",
    "        l=l.replace(\"\\n\",\"\")\n",
    "        subprocess.call([\"ssh\" ,username+\"@\"+l+\".ucsd.edu\", \"rm\", \"-rf\", \"/tmp/SRA_DATA/\"])\n",
    "        subprocess.call([\"ssh\" ,username+\"@\"+l+\".ucsd.edu\", \"rm\", \"-rf\", \"/tmp/btsui/\"])\n",
    "        subprocess.call([\"ssh\" ,username+\"@\"+l+\".ucsd.edu\", \"rm\", \"-rf\", \" /tmp/btsui/METH/\"]) \n",
    "        subprocess.call([\"ssh\" ,username+\"@\"+l+\".ucsd.edu\", \"rm\", \"-rf\", \" /tmp/SRR*\"]) \n",
    "        #subprocess.call([\"ssh\" ,username+\"@\"+l+\".ucsd.edu\", \"rm\", \"-rf\", \" /tmp/TCGA*\"]) \n",
    "if __name__==\"__main__\":\n",
    "    with open(machineFDir,\"r\") as machineF:\n",
    "        p=Pool(28)\n",
    "        p.map(cleanMachine,machineF)\n",
    "        p.close()"
   ]
  },
  {
   "cell_type": "code",
   "execution_count": 1,
   "metadata": {},
   "outputs": [],
   "source": [
    "#!cat /cellar/users/btsui/Documents/ipythonNotebook/current_working_dir/GoogleGEO/Job/mpiJob/machine_file.txt"
   ]
  },
  {
   "cell_type": "markdown",
   "metadata": {},
   "source": [
    "### scratch"
   ]
  },
  {
   "cell_type": "code",
   "execution_count": 47,
   "metadata": {},
   "outputs": [],
   "source": [
    "#!mkdir /nrnb/users/btsui/Data/all_seq/log_rnaseq"
   ]
  },
  {
   "cell_type": "code",
   "execution_count": 17,
   "metadata": {},
   "outputs": [
    {
     "name": "stdout",
     "output_type": "stream",
     "text": [
      "total 1.3G\r\n",
      "drwxr-xr-x 15 btsui users 128K Aug 14 10:07 .\r\n",
      "drwxr-xr-x 16 btsui users 128K Aug  4 17:17 ..\r\n",
      "-rw-r--r--  1 btsui users  814 Jan 26  2018 Homo_sapiens.failed.srrs.txt\r\n",
      "drwxr-xr-x  9 btsui users 128K Dec 29  2017 chip\r\n",
      "drwxr-xr-x  2 btsui users  16M Nov 22  2017 expression_old\r\n",
      "drwxr-xr-x  2 btsui users 2.0M Aug 19 15:41 log_rnaseq\r\n",
      "drwxr-xr-x  2 btsui users  16M Aug 13 13:41 log_snp\r\n",
      "drwxr-xr-x  2 btsui users 1.0M Dec 29  2017 old_log_snp\r\n",
      "drwxr-xr-x  2 btsui users 2.0M Dec 29  2017 old_snp\r\n",
      "drwxr-xr-x  2 btsui users  64M Aug 19 14:26 rnaseq\r\n",
      "drwxr-xr-x  2 btsui users  64M Aug 13 13:41 snp\r\n",
      "drwxr-xr-x  2 btsui users  512 Aug  4 18:59 tmp\r\n",
      "drwxr-xr-x  2 btsui users 476M Jul 24 20:31 tmp_2\r\n",
      "drwxr-xr-x  2 btsui users 128K Jan 28  2018 tmp_3\r\n",
      "drwxr-xr-x  2 btsui users 128K Aug  5 03:54 tmp_chunks\r\n",
      "drwxr-xr-x  2 btsui users 128K Aug  5 08:51 tmp_tcga_block\r\n"
     ]
    }
   ],
   "source": [
    "!ls -lah  /nrnb/users/btsui/Data/all_seq/"
   ]
  },
  {
   "cell_type": "code",
   "execution_count": null,
   "metadata": {},
   "outputs": [],
   "source": [
    "%%bash\n",
    "export PATH=/cellar/users/btsui/anaconda2/bin/:$PATH\n",
    "/cellar/users/btsui/anaconda2/bin/python ./run_one.py 110\n",
    "#/cellar/users/btsui/anaconda2/bin/python ./paired_rna.py 1\n",
    "#/cellar/users/btsui/anaconda2/bin/python ./paired_rna.py SRR1558481 Mus_musculus"
   ]
  },
  {
   "cell_type": "code",
   "execution_count": 63,
   "metadata": {},
   "outputs": [],
   "source": [
    "#!qstat -u btsui"
   ]
  },
  {
   "cell_type": "code",
   "execution_count": 64,
   "metadata": {},
   "outputs": [],
   "source": [
    "#!qalter 412442 -tc 200"
   ]
  },
  {
   "cell_type": "code",
   "execution_count": 24,
   "metadata": {},
   "outputs": [],
   "source": [
    "#!cat ./paired_rna.py"
   ]
  },
  {
   "cell_type": "code",
   "execution_count": 19,
   "metadata": {},
   "outputs": [],
   "source": [
    "#python paired_rna.py 1 Mus_musculus"
   ]
  },
  {
   "cell_type": "code",
   "execution_count": 17,
   "metadata": {},
   "outputs": [
    {
     "name": "stdout",
     "output_type": "stream",
     "text": [
      "import sys\r\n",
      "import pandas as pd\r\n",
      "import param\r\n",
      "import os \r\n",
      "i=int(sys.argv[1])-1\r\n",
      "#i=0\r\n",
      "CWD='/cellar/users/btsui/Project/METAMAP/notebook/RapMapTest/Pipelines/RNAseq/'\r\n",
      "os.chdir(CWD)\r\n",
      "\r\n",
      "unprocessed_meta_df=pd.read_csv(param.unprocessed_meta_dir)\r\n",
      "myS=unprocessed_meta_df.iloc[i]\r\n",
      "\r\n",
      "if myS['LibraryLayout']=='SINGLE':\r\n",
      "        cmd='python single_rna.py '+myS.Run+' '+myS['new_ScientificName']\r\n",
      "        os.system(cmd)\r\n",
      "if myS['LibraryLayout']=='PAIRED':\r\n",
      "        cmd='python paired_rna.py '+myS.Run+' '+myS['new_ScientificName']\r\n",
      "        os.system(cmd)"
     ]
    }
   ],
   "source": [
    "!cat ./run_one.py"
   ]
  },
  {
   "cell_type": "code",
   "execution_count": 29,
   "metadata": {},
   "outputs": [],
   "source": [
    "\"\"\"\n",
    "SRR998545 (try downloading and processing this one )\n",
    "SRR998530 (try downloading and processing this one )\n",
    "Study two example:\n",
    "SRR949118 (ran and have data)\n",
    "\"\"\""
   ]
  },
  {
   "cell_type": "code",
   "execution_count": 21,
   "metadata": {},
   "outputs": [
    {
     "data": {
      "text/plain": [
       "public               3429669\n",
       "controlled_access     304891\n",
       "Name: proj_accession_Visibility, dtype: int64"
      ]
     },
     "execution_count": 21,
     "metadata": {},
     "output_type": "execute_result"
    }
   ],
   "source": [
    "allDF.proj_accession_Visibility.value_counts()"
   ]
  },
  {
   "cell_type": "code",
   "execution_count": 43,
   "metadata": {},
   "outputs": [],
   "source": [
    "hitDf=allDF.loc[['SRR998545','SRR998530','SRR949118']]"
   ]
  },
  {
   "cell_type": "code",
   "execution_count": 50,
   "metadata": {},
   "outputs": [
    {
     "data": {
      "text/plain": [
       "'public'"
      ]
     },
     "execution_count": 50,
     "metadata": {},
     "output_type": "execute_result"
    }
   ],
   "source": [
    "#allDF.proj_accession_Visibility.loc['SRR949118']"
   ]
  },
  {
   "cell_type": "code",
   "execution_count": 44,
   "metadata": {},
   "outputs": [
    {
     "data": {
      "text/html": [
       "<div>\n",
       "<style scoped>\n",
       "    .dataframe tbody tr th:only-of-type {\n",
       "        vertical-align: middle;\n",
       "    }\n",
       "\n",
       "    .dataframe tbody tr th {\n",
       "        vertical-align: top;\n",
       "    }\n",
       "\n",
       "    .dataframe thead th {\n",
       "        text-align: right;\n",
       "    }\n",
       "</style>\n",
       "<table border=\"1\" class=\"dataframe\">\n",
       "  <thead>\n",
       "    <tr style=\"text-align: right;\">\n",
       "      <th>Run</th>\n",
       "      <th>SRR998545</th>\n",
       "      <th>SRR998530</th>\n",
       "      <th>SRR949118</th>\n",
       "    </tr>\n",
       "  </thead>\n",
       "  <tbody>\n",
       "    <tr>\n",
       "      <th>Member_Name</th>\n",
       "      <td>default</td>\n",
       "      <td>default</td>\n",
       "      <td>default</td>\n",
       "    </tr>\n",
       "    <tr>\n",
       "      <th>Experiment</th>\n",
       "      <td>SRX355639</td>\n",
       "      <td>SRX355624</td>\n",
       "      <td>SRX332660</td>\n",
       "    </tr>\n",
       "    <tr>\n",
       "      <th>Sample</th>\n",
       "      <td>SRS483833</td>\n",
       "      <td>SRS483818</td>\n",
       "      <td>SRS468098</td>\n",
       "    </tr>\n",
       "    <tr>\n",
       "      <th>Study</th>\n",
       "      <td>SRP030040</td>\n",
       "      <td>SRP030040</td>\n",
       "      <td>SRP028594</td>\n",
       "    </tr>\n",
       "    <tr>\n",
       "      <th>Spots</th>\n",
       "      <td>157961518</td>\n",
       "      <td>46907144</td>\n",
       "      <td>72304740</td>\n",
       "    </tr>\n",
       "    <tr>\n",
       "      <th>Bases</th>\n",
       "      <td>3.15923e+10</td>\n",
       "      <td>1.00381e+10</td>\n",
       "      <td>1.08457e+10</td>\n",
       "    </tr>\n",
       "    <tr>\n",
       "      <th>Status</th>\n",
       "      <td>live</td>\n",
       "      <td>live</td>\n",
       "      <td>live</td>\n",
       "    </tr>\n",
       "    <tr>\n",
       "      <th>BioSample</th>\n",
       "      <td>SAMN02359104</td>\n",
       "      <td>SAMN02359089</td>\n",
       "      <td>SAMN02313861</td>\n",
       "    </tr>\n",
       "    <tr>\n",
       "      <th>ScientificName</th>\n",
       "      <td>Homo_sapiens</td>\n",
       "      <td>Homo_sapiens</td>\n",
       "      <td>Homo_sapiens</td>\n",
       "    </tr>\n",
       "    <tr>\n",
       "      <th>LibraryStrategy</th>\n",
       "      <td>RNA-Seq</td>\n",
       "      <td>RNA-Seq</td>\n",
       "      <td>RNA-Seq</td>\n",
       "    </tr>\n",
       "    <tr>\n",
       "      <th>LibraryLayout</th>\n",
       "      <td>PAIRED</td>\n",
       "      <td>PAIRED</td>\n",
       "      <td>PAIRED</td>\n",
       "    </tr>\n",
       "    <tr>\n",
       "      <th>proj_accession_Submission</th>\n",
       "      <td>NaN</td>\n",
       "      <td>NaN</td>\n",
       "      <td>SRA096872</td>\n",
       "    </tr>\n",
       "    <tr>\n",
       "      <th>proj_accession_Status</th>\n",
       "      <td>NaN</td>\n",
       "      <td>NaN</td>\n",
       "      <td>live</td>\n",
       "    </tr>\n",
       "    <tr>\n",
       "      <th>proj_accession_Updated</th>\n",
       "      <td>NaN</td>\n",
       "      <td>NaN</td>\n",
       "      <td>2013-11-06T23:07:21Z</td>\n",
       "    </tr>\n",
       "    <tr>\n",
       "      <th>proj_accession_Published</th>\n",
       "      <td>NaN</td>\n",
       "      <td>NaN</td>\n",
       "      <td>2013-11-06T23:07:21Z</td>\n",
       "    </tr>\n",
       "    <tr>\n",
       "      <th>proj_accession_Received</th>\n",
       "      <td>NaN</td>\n",
       "      <td>NaN</td>\n",
       "      <td>2013-08-08T13:33:20Z</td>\n",
       "    </tr>\n",
       "    <tr>\n",
       "      <th>proj_accession_Type</th>\n",
       "      <td>NaN</td>\n",
       "      <td>NaN</td>\n",
       "      <td>RUN</td>\n",
       "    </tr>\n",
       "    <tr>\n",
       "      <th>proj_accession_Center</th>\n",
       "      <td>NaN</td>\n",
       "      <td>NaN</td>\n",
       "      <td>GEO</td>\n",
       "    </tr>\n",
       "    <tr>\n",
       "      <th>proj_accession_Visibility</th>\n",
       "      <td>NaN</td>\n",
       "      <td>NaN</td>\n",
       "      <td>public</td>\n",
       "    </tr>\n",
       "    <tr>\n",
       "      <th>proj_accession_Alias</th>\n",
       "      <td>NaN</td>\n",
       "      <td>NaN</td>\n",
       "      <td>GSM1203340_r1</td>\n",
       "    </tr>\n",
       "    <tr>\n",
       "      <th>proj_accession_Experiment</th>\n",
       "      <td>NaN</td>\n",
       "      <td>NaN</td>\n",
       "      <td>SRX332660</td>\n",
       "    </tr>\n",
       "    <tr>\n",
       "      <th>proj_accession_Sample</th>\n",
       "      <td>NaN</td>\n",
       "      <td>NaN</td>\n",
       "      <td>SRS468098</td>\n",
       "    </tr>\n",
       "    <tr>\n",
       "      <th>proj_accession_Study</th>\n",
       "      <td>NaN</td>\n",
       "      <td>NaN</td>\n",
       "      <td>SRP028594</td>\n",
       "    </tr>\n",
       "    <tr>\n",
       "      <th>proj_accession_Loaded</th>\n",
       "      <td>NaN</td>\n",
       "      <td>NaN</td>\n",
       "      <td>1</td>\n",
       "    </tr>\n",
       "    <tr>\n",
       "      <th>proj_accession_Spots</th>\n",
       "      <td>NaN</td>\n",
       "      <td>NaN</td>\n",
       "      <td>7.23047e+07</td>\n",
       "    </tr>\n",
       "    <tr>\n",
       "      <th>proj_accession_Bases</th>\n",
       "      <td>NaN</td>\n",
       "      <td>NaN</td>\n",
       "      <td>1.08457e+10</td>\n",
       "    </tr>\n",
       "    <tr>\n",
       "      <th>proj_accession_Md5sum</th>\n",
       "      <td>NaN</td>\n",
       "      <td>NaN</td>\n",
       "      <td>f760ea50f8470deecdc5dca40d0e9e2c</td>\n",
       "    </tr>\n",
       "    <tr>\n",
       "      <th>proj_accession_BioSample</th>\n",
       "      <td>NaN</td>\n",
       "      <td>NaN</td>\n",
       "      <td>SAMN02313861</td>\n",
       "    </tr>\n",
       "    <tr>\n",
       "      <th>proj_accession_BioProject</th>\n",
       "      <td>NaN</td>\n",
       "      <td>NaN</td>\n",
       "      <td>PRJNA214592</td>\n",
       "    </tr>\n",
       "    <tr>\n",
       "      <th>proj_accession_ReplacedBy</th>\n",
       "      <td>NaN</td>\n",
       "      <td>NaN</td>\n",
       "      <td>-</td>\n",
       "    </tr>\n",
       "    <tr>\n",
       "      <th>new_ScientificName</th>\n",
       "      <td>Homo_sapiens</td>\n",
       "      <td>Homo_sapiens</td>\n",
       "      <td>Homo_sapiens</td>\n",
       "    </tr>\n",
       "    <tr>\n",
       "      <th>index</th>\n",
       "      <td>1734497</td>\n",
       "      <td>1734482</td>\n",
       "      <td>1696661</td>\n",
       "    </tr>\n",
       "  </tbody>\n",
       "</table>\n",
       "</div>"
      ],
      "text/plain": [
       "Run                           SRR998545     SRR998530  \\\n",
       "Member_Name                     default       default   \n",
       "Experiment                    SRX355639     SRX355624   \n",
       "Sample                        SRS483833     SRS483818   \n",
       "Study                         SRP030040     SRP030040   \n",
       "Spots                         157961518      46907144   \n",
       "Bases                       3.15923e+10   1.00381e+10   \n",
       "Status                             live          live   \n",
       "BioSample                  SAMN02359104  SAMN02359089   \n",
       "ScientificName             Homo_sapiens  Homo_sapiens   \n",
       "LibraryStrategy                 RNA-Seq       RNA-Seq   \n",
       "LibraryLayout                    PAIRED        PAIRED   \n",
       "proj_accession_Submission           NaN           NaN   \n",
       "proj_accession_Status               NaN           NaN   \n",
       "proj_accession_Updated              NaN           NaN   \n",
       "proj_accession_Published            NaN           NaN   \n",
       "proj_accession_Received             NaN           NaN   \n",
       "proj_accession_Type                 NaN           NaN   \n",
       "proj_accession_Center               NaN           NaN   \n",
       "proj_accession_Visibility           NaN           NaN   \n",
       "proj_accession_Alias                NaN           NaN   \n",
       "proj_accession_Experiment           NaN           NaN   \n",
       "proj_accession_Sample               NaN           NaN   \n",
       "proj_accession_Study                NaN           NaN   \n",
       "proj_accession_Loaded               NaN           NaN   \n",
       "proj_accession_Spots                NaN           NaN   \n",
       "proj_accession_Bases                NaN           NaN   \n",
       "proj_accession_Md5sum               NaN           NaN   \n",
       "proj_accession_BioSample            NaN           NaN   \n",
       "proj_accession_BioProject           NaN           NaN   \n",
       "proj_accession_ReplacedBy           NaN           NaN   \n",
       "new_ScientificName         Homo_sapiens  Homo_sapiens   \n",
       "index                           1734497       1734482   \n",
       "\n",
       "Run                                               SRR949118  \n",
       "Member_Name                                         default  \n",
       "Experiment                                        SRX332660  \n",
       "Sample                                            SRS468098  \n",
       "Study                                             SRP028594  \n",
       "Spots                                              72304740  \n",
       "Bases                                           1.08457e+10  \n",
       "Status                                                 live  \n",
       "BioSample                                      SAMN02313861  \n",
       "ScientificName                                 Homo_sapiens  \n",
       "LibraryStrategy                                     RNA-Seq  \n",
       "LibraryLayout                                        PAIRED  \n",
       "proj_accession_Submission                         SRA096872  \n",
       "proj_accession_Status                                  live  \n",
       "proj_accession_Updated                 2013-11-06T23:07:21Z  \n",
       "proj_accession_Published               2013-11-06T23:07:21Z  \n",
       "proj_accession_Received                2013-08-08T13:33:20Z  \n",
       "proj_accession_Type                                     RUN  \n",
       "proj_accession_Center                                   GEO  \n",
       "proj_accession_Visibility                            public  \n",
       "proj_accession_Alias                          GSM1203340_r1  \n",
       "proj_accession_Experiment                         SRX332660  \n",
       "proj_accession_Sample                             SRS468098  \n",
       "proj_accession_Study                              SRP028594  \n",
       "proj_accession_Loaded                                     1  \n",
       "proj_accession_Spots                            7.23047e+07  \n",
       "proj_accession_Bases                            1.08457e+10  \n",
       "proj_accession_Md5sum      f760ea50f8470deecdc5dca40d0e9e2c  \n",
       "proj_accession_BioSample                       SAMN02313861  \n",
       "proj_accession_BioProject                       PRJNA214592  \n",
       "proj_accession_ReplacedBy                                 -  \n",
       "new_ScientificName                             Homo_sapiens  \n",
       "index                                               1696661  "
      ]
     },
     "execution_count": 44,
     "metadata": {},
     "output_type": "execute_result"
    }
   ],
   "source": [
    "hitDf.T"
   ]
  },
  {
   "cell_type": "code",
   "execution_count": null,
   "metadata": {},
   "outputs": [],
   "source": [
    "\"\"\"\n",
    "export PATH=/cellar/users/btsui/anaconda2/bin/:$PATH\n",
    "/cellar/users/btsui/anaconda2/bin/python \n",
    "\"\"\""
   ]
  },
  {
   "cell_type": "code",
   "execution_count": 42,
   "metadata": {},
   "outputs": [],
   "source": [
    "#!ls /cellar/users/btsui/Data/kalisto_ref/"
   ]
  },
  {
   "cell_type": "code",
   "execution_count": 45,
   "metadata": {},
   "outputs": [
    {
     "name": "stderr",
     "output_type": "stream",
     "text": [
      "/cellar/users/btsui/anaconda3/envs/deep_nlp_cpu/lib/python3.6/site-packages/ipykernel_launcher.py:1: FutureWarning: \n",
      "Passing list-likes to .loc or [] with any missing label will raise\n",
      "KeyError in the future, you can use .reindex() as an alternative.\n",
      "\n",
      "See the documentation here:\n",
      "https://pandas.pydata.org/pandas-docs/stable/indexing.html#deprecate-loc-reindex-listlike\n",
      "  \"\"\"Entry point for launching an IPython kernel.\n"
     ]
    }
   ],
   "source": [
    "hitDf=targetMetaDF.loc[['SRR998545','SRR998530','SRR949118']]"
   ]
  },
  {
   "cell_type": "code",
   "execution_count": null,
   "metadata": {},
   "outputs": [],
   "source": [
    "##hit is not the problem"
   ]
  },
  {
   "cell_type": "code",
   "execution_count": 47,
   "metadata": {},
   "outputs": [
    {
     "data": {
      "text/html": [
       "<div>\n",
       "<style scoped>\n",
       "    .dataframe tbody tr th:only-of-type {\n",
       "        vertical-align: middle;\n",
       "    }\n",
       "\n",
       "    .dataframe tbody tr th {\n",
       "        vertical-align: top;\n",
       "    }\n",
       "\n",
       "    .dataframe thead th {\n",
       "        text-align: right;\n",
       "    }\n",
       "</style>\n",
       "<table border=\"1\" class=\"dataframe\">\n",
       "  <thead>\n",
       "    <tr style=\"text-align: right;\">\n",
       "      <th>Run</th>\n",
       "      <th>SRR998545</th>\n",
       "      <th>SRR998530</th>\n",
       "      <th>SRR949118</th>\n",
       "    </tr>\n",
       "  </thead>\n",
       "  <tbody>\n",
       "    <tr>\n",
       "      <th>Member_Name</th>\n",
       "      <td>default</td>\n",
       "      <td>default</td>\n",
       "      <td>NaN</td>\n",
       "    </tr>\n",
       "    <tr>\n",
       "      <th>Experiment</th>\n",
       "      <td>SRX355639</td>\n",
       "      <td>SRX355624</td>\n",
       "      <td>NaN</td>\n",
       "    </tr>\n",
       "    <tr>\n",
       "      <th>Sample</th>\n",
       "      <td>SRS483833</td>\n",
       "      <td>SRS483818</td>\n",
       "      <td>NaN</td>\n",
       "    </tr>\n",
       "    <tr>\n",
       "      <th>Study</th>\n",
       "      <td>SRP030040</td>\n",
       "      <td>SRP030040</td>\n",
       "      <td>NaN</td>\n",
       "    </tr>\n",
       "    <tr>\n",
       "      <th>Spots</th>\n",
       "      <td>157961518</td>\n",
       "      <td>46907144</td>\n",
       "      <td>NaN</td>\n",
       "    </tr>\n",
       "    <tr>\n",
       "      <th>Bases</th>\n",
       "      <td>3.15923e+10</td>\n",
       "      <td>1.00381e+10</td>\n",
       "      <td>NaN</td>\n",
       "    </tr>\n",
       "    <tr>\n",
       "      <th>Status</th>\n",
       "      <td>live</td>\n",
       "      <td>live</td>\n",
       "      <td>NaN</td>\n",
       "    </tr>\n",
       "    <tr>\n",
       "      <th>BioSample</th>\n",
       "      <td>SAMN02359104</td>\n",
       "      <td>SAMN02359089</td>\n",
       "      <td>NaN</td>\n",
       "    </tr>\n",
       "    <tr>\n",
       "      <th>ScientificName</th>\n",
       "      <td>Homo_sapiens</td>\n",
       "      <td>Homo_sapiens</td>\n",
       "      <td>NaN</td>\n",
       "    </tr>\n",
       "    <tr>\n",
       "      <th>LibraryStrategy</th>\n",
       "      <td>RNA-Seq</td>\n",
       "      <td>RNA-Seq</td>\n",
       "      <td>NaN</td>\n",
       "    </tr>\n",
       "    <tr>\n",
       "      <th>LibraryLayout</th>\n",
       "      <td>PAIRED</td>\n",
       "      <td>PAIRED</td>\n",
       "      <td>NaN</td>\n",
       "    </tr>\n",
       "    <tr>\n",
       "      <th>proj_accession_Submission</th>\n",
       "      <td>NaN</td>\n",
       "      <td>NaN</td>\n",
       "      <td>NaN</td>\n",
       "    </tr>\n",
       "    <tr>\n",
       "      <th>proj_accession_Status</th>\n",
       "      <td>NaN</td>\n",
       "      <td>NaN</td>\n",
       "      <td>NaN</td>\n",
       "    </tr>\n",
       "    <tr>\n",
       "      <th>proj_accession_Updated</th>\n",
       "      <td>NaN</td>\n",
       "      <td>NaN</td>\n",
       "      <td>NaN</td>\n",
       "    </tr>\n",
       "    <tr>\n",
       "      <th>proj_accession_Published</th>\n",
       "      <td>NaN</td>\n",
       "      <td>NaN</td>\n",
       "      <td>NaN</td>\n",
       "    </tr>\n",
       "    <tr>\n",
       "      <th>proj_accession_Received</th>\n",
       "      <td>NaN</td>\n",
       "      <td>NaN</td>\n",
       "      <td>NaN</td>\n",
       "    </tr>\n",
       "    <tr>\n",
       "      <th>proj_accession_Type</th>\n",
       "      <td>NaN</td>\n",
       "      <td>NaN</td>\n",
       "      <td>NaN</td>\n",
       "    </tr>\n",
       "    <tr>\n",
       "      <th>proj_accession_Center</th>\n",
       "      <td>NaN</td>\n",
       "      <td>NaN</td>\n",
       "      <td>NaN</td>\n",
       "    </tr>\n",
       "    <tr>\n",
       "      <th>proj_accession_Visibility</th>\n",
       "      <td>NaN</td>\n",
       "      <td>NaN</td>\n",
       "      <td>NaN</td>\n",
       "    </tr>\n",
       "    <tr>\n",
       "      <th>proj_accession_Alias</th>\n",
       "      <td>NaN</td>\n",
       "      <td>NaN</td>\n",
       "      <td>NaN</td>\n",
       "    </tr>\n",
       "    <tr>\n",
       "      <th>proj_accession_Experiment</th>\n",
       "      <td>NaN</td>\n",
       "      <td>NaN</td>\n",
       "      <td>NaN</td>\n",
       "    </tr>\n",
       "    <tr>\n",
       "      <th>proj_accession_Sample</th>\n",
       "      <td>NaN</td>\n",
       "      <td>NaN</td>\n",
       "      <td>NaN</td>\n",
       "    </tr>\n",
       "    <tr>\n",
       "      <th>proj_accession_Study</th>\n",
       "      <td>NaN</td>\n",
       "      <td>NaN</td>\n",
       "      <td>NaN</td>\n",
       "    </tr>\n",
       "    <tr>\n",
       "      <th>proj_accession_Loaded</th>\n",
       "      <td>NaN</td>\n",
       "      <td>NaN</td>\n",
       "      <td>NaN</td>\n",
       "    </tr>\n",
       "    <tr>\n",
       "      <th>proj_accession_Spots</th>\n",
       "      <td>NaN</td>\n",
       "      <td>NaN</td>\n",
       "      <td>NaN</td>\n",
       "    </tr>\n",
       "    <tr>\n",
       "      <th>proj_accession_Bases</th>\n",
       "      <td>NaN</td>\n",
       "      <td>NaN</td>\n",
       "      <td>NaN</td>\n",
       "    </tr>\n",
       "    <tr>\n",
       "      <th>proj_accession_Md5sum</th>\n",
       "      <td>NaN</td>\n",
       "      <td>NaN</td>\n",
       "      <td>NaN</td>\n",
       "    </tr>\n",
       "    <tr>\n",
       "      <th>proj_accession_BioSample</th>\n",
       "      <td>NaN</td>\n",
       "      <td>NaN</td>\n",
       "      <td>NaN</td>\n",
       "    </tr>\n",
       "    <tr>\n",
       "      <th>proj_accession_BioProject</th>\n",
       "      <td>NaN</td>\n",
       "      <td>NaN</td>\n",
       "      <td>NaN</td>\n",
       "    </tr>\n",
       "    <tr>\n",
       "      <th>proj_accession_ReplacedBy</th>\n",
       "      <td>NaN</td>\n",
       "      <td>NaN</td>\n",
       "      <td>NaN</td>\n",
       "    </tr>\n",
       "    <tr>\n",
       "      <th>new_ScientificName</th>\n",
       "      <td>Homo_sapiens</td>\n",
       "      <td>Homo_sapiens</td>\n",
       "      <td>NaN</td>\n",
       "    </tr>\n",
       "    <tr>\n",
       "      <th>index</th>\n",
       "      <td>1.7345e+06</td>\n",
       "      <td>1.73448e+06</td>\n",
       "      <td>NaN</td>\n",
       "    </tr>\n",
       "  </tbody>\n",
       "</table>\n",
       "</div>"
      ],
      "text/plain": [
       "Run                           SRR998545     SRR998530 SRR949118\n",
       "Member_Name                     default       default       NaN\n",
       "Experiment                    SRX355639     SRX355624       NaN\n",
       "Sample                        SRS483833     SRS483818       NaN\n",
       "Study                         SRP030040     SRP030040       NaN\n",
       "Spots                         157961518      46907144       NaN\n",
       "Bases                       3.15923e+10   1.00381e+10       NaN\n",
       "Status                             live          live       NaN\n",
       "BioSample                  SAMN02359104  SAMN02359089       NaN\n",
       "ScientificName             Homo_sapiens  Homo_sapiens       NaN\n",
       "LibraryStrategy                 RNA-Seq       RNA-Seq       NaN\n",
       "LibraryLayout                    PAIRED        PAIRED       NaN\n",
       "proj_accession_Submission           NaN           NaN       NaN\n",
       "proj_accession_Status               NaN           NaN       NaN\n",
       "proj_accession_Updated              NaN           NaN       NaN\n",
       "proj_accession_Published            NaN           NaN       NaN\n",
       "proj_accession_Received             NaN           NaN       NaN\n",
       "proj_accession_Type                 NaN           NaN       NaN\n",
       "proj_accession_Center               NaN           NaN       NaN\n",
       "proj_accession_Visibility           NaN           NaN       NaN\n",
       "proj_accession_Alias                NaN           NaN       NaN\n",
       "proj_accession_Experiment           NaN           NaN       NaN\n",
       "proj_accession_Sample               NaN           NaN       NaN\n",
       "proj_accession_Study                NaN           NaN       NaN\n",
       "proj_accession_Loaded               NaN           NaN       NaN\n",
       "proj_accession_Spots                NaN           NaN       NaN\n",
       "proj_accession_Bases                NaN           NaN       NaN\n",
       "proj_accession_Md5sum               NaN           NaN       NaN\n",
       "proj_accession_BioSample            NaN           NaN       NaN\n",
       "proj_accession_BioProject           NaN           NaN       NaN\n",
       "proj_accession_ReplacedBy           NaN           NaN       NaN\n",
       "new_ScientificName         Homo_sapiens  Homo_sapiens       NaN\n",
       "index                        1.7345e+06   1.73448e+06       NaN"
      ]
     },
     "execution_count": 47,
     "metadata": {},
     "output_type": "execute_result"
    }
   ],
   "source": [
    "hitDf.T"
   ]
  },
  {
   "cell_type": "code",
   "execution_count": null,
   "metadata": {},
   "outputs": [],
   "source": []
  }
 ],
 "metadata": {
  "kernelspec": {
   "display_name": "Python [default]",
   "language": "python",
   "name": "python3"
  },
  "language_info": {
   "codemirror_mode": {
    "name": "ipython",
    "version": 3
   },
   "file_extension": ".py",
   "mimetype": "text/x-python",
   "name": "python",
   "nbconvert_exporter": "python",
   "pygments_lexer": "ipython3",
   "version": "3.6.5"
  }
 },
 "nbformat": 4,
 "nbformat_minor": 2
}
