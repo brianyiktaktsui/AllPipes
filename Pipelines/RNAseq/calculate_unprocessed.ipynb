{
 "cells": [
  {
   "cell_type": "code",
   "execution_count": 1,
   "metadata": {},
   "outputs": [
    {
     "name": "stdout",
     "output_type": "stream",
     "text": [
      "['SRR3553383' 'SRR5418097' nan ... 'SRR4247760' nan 'SRR5640150']\n"
     ]
    },
    {
     "name": "stderr",
     "output_type": "stream",
     "text": [
      "/cellar/users/btsui/anaconda3/lib/python3.6/site-packages/ipykernel/__main__.py:11: FutureWarning: from_csv is deprecated. Please use read_csv(...) instead. Note that some of the default arguments are different, so please refer to the documentation for from_csv when changing your function calls\n",
      "/cellar/users/btsui/anaconda3/lib/python3.6/site-packages/IPython/core/interactiveshell.py:2903: DtypeWarning: Columns (5,6,25,26) have mixed types. Specify dtype option on import or set low_memory=False.\n",
      "  if self.run_code(code, result):\n"
     ]
    }
   ],
   "source": [
    "#!/cellar/users/btsui/anaconda2/bin/python\n",
    "import param as param\n",
    "import pandas as pd\n",
    "import numpy as np\n",
    "import os\n",
    "CWD='/cellar/users/btsui/Project/METAMAP/notebook/RapMapTest/Pipelines/RNAseq/'\n",
    "os.chdir(CWD)\n",
    "allProcessedFnames=pd.Series(os.listdir(param.count_out_dir),dtype=np.str)\n",
    "processed_runs=allProcessedFnames.str.extract('([DRS]RR\\d+)',expand=False).values\n",
    "print (processed_runs)\n",
    "allDF=pd.DataFrame.from_csv(param.full_meta_dir)\n",
    "#m1=True#\n"
   ]
  },
  {
   "cell_type": "code",
   "execution_count": 2,
   "metadata": {},
   "outputs": [
    {
     "data": {
      "text/plain": [
       "381493"
      ]
     },
     "execution_count": 2,
     "metadata": {},
     "output_type": "execute_result"
    }
   ],
   "source": [
    "len(set(processed_runs))"
   ]
  },
  {
   "cell_type": "markdown",
   "metadata": {},
   "source": [
    "#### \n",
    "\n",
    "\n",
    "use study_m only slicing specific studies, remove once doen"
   ]
  },
  {
   "cell_type": "code",
   "execution_count": 3,
   "metadata": {},
   "outputs": [],
   "source": [
    "allDF['Bases']=pd.to_numeric(allDF['Bases'],errors='coerce')"
   ]
  },
  {
   "cell_type": "code",
   "execution_count": 4,
   "metadata": {},
   "outputs": [
    {
     "data": {
      "text/plain": [
       "['Homo_sapiens',\n",
       " 'Mus_musculus',\n",
       " 'Drosophila_melanogaster',\n",
       " 'Danio_rerio',\n",
       " 'Canis_familiaris']"
      ]
     },
     "execution_count": 4,
     "metadata": {},
     "output_type": "execute_result"
    }
   ],
   "source": [
    "param.supporting_species"
   ]
  },
  {
   "cell_type": "code",
   "execution_count": 5,
   "metadata": {},
   "outputs": [],
   "source": [
    "#specie_m=targetMetaDF['new_ScientificName']=='Canis_familiaris'"
   ]
  },
  {
   "cell_type": "code",
   "execution_count": 6,
   "metadata": {},
   "outputs": [
    {
     "data": {
      "text/html": [
       "<div>\n",
       "<style scoped>\n",
       "    .dataframe tbody tr th:only-of-type {\n",
       "        vertical-align: middle;\n",
       "    }\n",
       "\n",
       "    .dataframe tbody tr th {\n",
       "        vertical-align: top;\n",
       "    }\n",
       "\n",
       "    .dataframe thead th {\n",
       "        text-align: right;\n",
       "    }\n",
       "</style>\n",
       "<table border=\"1\" class=\"dataframe\">\n",
       "  <thead>\n",
       "    <tr style=\"text-align: right;\">\n",
       "      <th></th>\n",
       "      <th>Member_Name</th>\n",
       "      <th>Experiment</th>\n",
       "      <th>Sample</th>\n",
       "      <th>Study</th>\n",
       "      <th>Spots</th>\n",
       "      <th>Bases</th>\n",
       "      <th>Status</th>\n",
       "      <th>BioSample</th>\n",
       "      <th>ScientificName</th>\n",
       "      <th>LibraryStrategy</th>\n",
       "      <th>...</th>\n",
       "      <th>proj_accession_Sample</th>\n",
       "      <th>proj_accession_Study</th>\n",
       "      <th>proj_accession_Loaded</th>\n",
       "      <th>proj_accession_Spots</th>\n",
       "      <th>proj_accession_Bases</th>\n",
       "      <th>proj_accession_Md5sum</th>\n",
       "      <th>proj_accession_BioSample</th>\n",
       "      <th>proj_accession_BioProject</th>\n",
       "      <th>proj_accession_ReplacedBy</th>\n",
       "      <th>new_ScientificName</th>\n",
       "    </tr>\n",
       "    <tr>\n",
       "      <th>Run</th>\n",
       "      <th></th>\n",
       "      <th></th>\n",
       "      <th></th>\n",
       "      <th></th>\n",
       "      <th></th>\n",
       "      <th></th>\n",
       "      <th></th>\n",
       "      <th></th>\n",
       "      <th></th>\n",
       "      <th></th>\n",
       "      <th></th>\n",
       "      <th></th>\n",
       "      <th></th>\n",
       "      <th></th>\n",
       "      <th></th>\n",
       "      <th></th>\n",
       "      <th></th>\n",
       "      <th></th>\n",
       "      <th></th>\n",
       "      <th></th>\n",
       "      <th></th>\n",
       "    </tr>\n",
       "  </thead>\n",
       "  <tbody>\n",
       "    <tr>\n",
       "      <th>ERR1823524</th>\n",
       "      <td>default</td>\n",
       "      <td>ERX1886028</td>\n",
       "      <td>ERS1545929</td>\n",
       "      <td>-</td>\n",
       "      <td>1167564</td>\n",
       "      <td>426746666.0</td>\n",
       "      <td>live</td>\n",
       "      <td>SAMEA80860918</td>\n",
       "      <td>Staphylococcus_aureus</td>\n",
       "      <td>WGS</td>\n",
       "      <td>...</td>\n",
       "      <td>ERS1545929</td>\n",
       "      <td>-</td>\n",
       "      <td>1.0</td>\n",
       "      <td>1167564</td>\n",
       "      <td>426746666</td>\n",
       "      <td>30e8c78e7dc61ce33100b0f62b80024a</td>\n",
       "      <td>SAMEA80860918</td>\n",
       "      <td>-</td>\n",
       "      <td>-</td>\n",
       "      <td>Staphylococcus_aureus</td>\n",
       "    </tr>\n",
       "    <tr>\n",
       "      <th>ERR1823525</th>\n",
       "      <td>default</td>\n",
       "      <td>ERX1886029</td>\n",
       "      <td>ERS1545930</td>\n",
       "      <td>-</td>\n",
       "      <td>498259</td>\n",
       "      <td>207579474.0</td>\n",
       "      <td>live</td>\n",
       "      <td>SAMEA80861668</td>\n",
       "      <td>Staphylococcus_aureus</td>\n",
       "      <td>WGS</td>\n",
       "      <td>...</td>\n",
       "      <td>ERS1545930</td>\n",
       "      <td>-</td>\n",
       "      <td>1.0</td>\n",
       "      <td>498259</td>\n",
       "      <td>207579474</td>\n",
       "      <td>a6ca66769b455d8803633120065ad2db</td>\n",
       "      <td>SAMEA80861668</td>\n",
       "      <td>-</td>\n",
       "      <td>-</td>\n",
       "      <td>Staphylococcus_aureus</td>\n",
       "    </tr>\n",
       "    <tr>\n",
       "      <th>ERR1823526</th>\n",
       "      <td>default</td>\n",
       "      <td>ERX1886030</td>\n",
       "      <td>ERS1545931</td>\n",
       "      <td>-</td>\n",
       "      <td>584246</td>\n",
       "      <td>225394117.0</td>\n",
       "      <td>live</td>\n",
       "      <td>SAMEA80862418</td>\n",
       "      <td>Staphylococcus_aureus</td>\n",
       "      <td>WGS</td>\n",
       "      <td>...</td>\n",
       "      <td>ERS1545931</td>\n",
       "      <td>-</td>\n",
       "      <td>1.0</td>\n",
       "      <td>584246</td>\n",
       "      <td>225394117</td>\n",
       "      <td>e7e469e8d3f5ed098bdc569ca648e61e</td>\n",
       "      <td>SAMEA80862418</td>\n",
       "      <td>-</td>\n",
       "      <td>-</td>\n",
       "      <td>Staphylococcus_aureus</td>\n",
       "    </tr>\n",
       "    <tr>\n",
       "      <th>ERR1823527</th>\n",
       "      <td>default</td>\n",
       "      <td>ERX1886031</td>\n",
       "      <td>ERS1545932</td>\n",
       "      <td>-</td>\n",
       "      <td>708096</td>\n",
       "      <td>316102995.0</td>\n",
       "      <td>live</td>\n",
       "      <td>SAMEA80863168</td>\n",
       "      <td>Staphylococcus_aureus</td>\n",
       "      <td>WGS</td>\n",
       "      <td>...</td>\n",
       "      <td>ERS1545932</td>\n",
       "      <td>-</td>\n",
       "      <td>1.0</td>\n",
       "      <td>708096</td>\n",
       "      <td>316102995</td>\n",
       "      <td>01bad3c0fa4bdc24ab1017443ce1fce1</td>\n",
       "      <td>SAMEA80863168</td>\n",
       "      <td>-</td>\n",
       "      <td>-</td>\n",
       "      <td>Staphylococcus_aureus</td>\n",
       "    </tr>\n",
       "    <tr>\n",
       "      <th>ERR1823528</th>\n",
       "      <td>default</td>\n",
       "      <td>ERX1886032</td>\n",
       "      <td>ERS1545933</td>\n",
       "      <td>-</td>\n",
       "      <td>1031600</td>\n",
       "      <td>442097283.0</td>\n",
       "      <td>live</td>\n",
       "      <td>SAMEA80863918</td>\n",
       "      <td>Staphylococcus_aureus</td>\n",
       "      <td>WGS</td>\n",
       "      <td>...</td>\n",
       "      <td>ERS1545933</td>\n",
       "      <td>-</td>\n",
       "      <td>1.0</td>\n",
       "      <td>1031600</td>\n",
       "      <td>442097283</td>\n",
       "      <td>428ab0594732b2a707ff46700a890dd5</td>\n",
       "      <td>SAMEA80863918</td>\n",
       "      <td>-</td>\n",
       "      <td>-</td>\n",
       "      <td>Staphylococcus_aureus</td>\n",
       "    </tr>\n",
       "  </tbody>\n",
       "</table>\n",
       "<p>5 rows × 31 columns</p>\n",
       "</div>"
      ],
      "text/plain": [
       "           Member_Name  Experiment      Sample Study    Spots        Bases  \\\n",
       "Run                                                                          \n",
       "ERR1823524     default  ERX1886028  ERS1545929     -  1167564  426746666.0   \n",
       "ERR1823525     default  ERX1886029  ERS1545930     -   498259  207579474.0   \n",
       "ERR1823526     default  ERX1886030  ERS1545931     -   584246  225394117.0   \n",
       "ERR1823527     default  ERX1886031  ERS1545932     -   708096  316102995.0   \n",
       "ERR1823528     default  ERX1886032  ERS1545933     -  1031600  442097283.0   \n",
       "\n",
       "           Status      BioSample         ScientificName LibraryStrategy  \\\n",
       "Run                                                                       \n",
       "ERR1823524   live  SAMEA80860918  Staphylococcus_aureus             WGS   \n",
       "ERR1823525   live  SAMEA80861668  Staphylococcus_aureus             WGS   \n",
       "ERR1823526   live  SAMEA80862418  Staphylococcus_aureus             WGS   \n",
       "ERR1823527   live  SAMEA80863168  Staphylococcus_aureus             WGS   \n",
       "ERR1823528   live  SAMEA80863918  Staphylococcus_aureus             WGS   \n",
       "\n",
       "                    ...           proj_accession_Sample proj_accession_Study  \\\n",
       "Run                 ...                                                        \n",
       "ERR1823524          ...                      ERS1545929                    -   \n",
       "ERR1823525          ...                      ERS1545930                    -   \n",
       "ERR1823526          ...                      ERS1545931                    -   \n",
       "ERR1823527          ...                      ERS1545932                    -   \n",
       "ERR1823528          ...                      ERS1545933                    -   \n",
       "\n",
       "           proj_accession_Loaded proj_accession_Spots proj_accession_Bases  \\\n",
       "Run                                                                          \n",
       "ERR1823524                   1.0              1167564            426746666   \n",
       "ERR1823525                   1.0               498259            207579474   \n",
       "ERR1823526                   1.0               584246            225394117   \n",
       "ERR1823527                   1.0               708096            316102995   \n",
       "ERR1823528                   1.0              1031600            442097283   \n",
       "\n",
       "                       proj_accession_Md5sum proj_accession_BioSample  \\\n",
       "Run                                                                     \n",
       "ERR1823524  30e8c78e7dc61ce33100b0f62b80024a            SAMEA80860918   \n",
       "ERR1823525  a6ca66769b455d8803633120065ad2db            SAMEA80861668   \n",
       "ERR1823526  e7e469e8d3f5ed098bdc569ca648e61e            SAMEA80862418   \n",
       "ERR1823527  01bad3c0fa4bdc24ab1017443ce1fce1            SAMEA80863168   \n",
       "ERR1823528  428ab0594732b2a707ff46700a890dd5            SAMEA80863918   \n",
       "\n",
       "           proj_accession_BioProject proj_accession_ReplacedBy  \\\n",
       "Run                                                              \n",
       "ERR1823524                         -                         -   \n",
       "ERR1823525                         -                         -   \n",
       "ERR1823526                         -                         -   \n",
       "ERR1823527                         -                         -   \n",
       "ERR1823528                         -                         -   \n",
       "\n",
       "               new_ScientificName  \n",
       "Run                                \n",
       "ERR1823524  Staphylococcus_aureus  \n",
       "ERR1823525  Staphylococcus_aureus  \n",
       "ERR1823526  Staphylococcus_aureus  \n",
       "ERR1823527  Staphylococcus_aureus  \n",
       "ERR1823528  Staphylococcus_aureus  \n",
       "\n",
       "[5 rows x 31 columns]"
      ]
     },
     "execution_count": 6,
     "metadata": {},
     "output_type": "execute_result"
    }
   ],
   "source": [
    "allDF.head()"
   ]
  },
  {
   "cell_type": "code",
   "execution_count": null,
   "metadata": {},
   "outputs": [],
   "source": [
    "#m2=(allDF['pipe_line'].isin(param.supporting_seqs))\n",
    "m1=(~allDF.index.isin(processed_runs))\n",
    "m2=allDF['LibraryStrategy'].isin(param.supporting_library_strategy)\n",
    "m3=allDF['new_ScientificName'].isin(param.supporting_species)\n",
    "m4=(allDF.Status=='live')\n",
    "m5=(allDF.proj_accession_Visibility!='controlled_access').fillna(False)\n",
    "m6=(allDF.Bases>(0*((10**6))))\n",
    "m7=allDF.LibraryLayout.isin(param.supporting_layouts)\n",
    "m8=~allDF[\"Study\"].isin(['ERP013950'])\n",
    "allDF['index']=np.arange(allDF.shape[0])\n",
    "targetMetaDF=allDF[ m1&m2&(m3)&m4&m5&m6&m7&m8].sort_values('Bases')\n",
    "targetMetaDF.to_csv(param.unprocessed_meta_dir)\n",
    "\n",
    "command=\"qsub -t 1-\"+str(targetMetaDF.shape[0])+\" all_seq.sh\"\n",
    "print (command)\n",
    "#log_out_dir='/cellar/users/btsui/Data/SRA/all_seq/log/'\n",
    "#count_out_dir='/cellar/users/btsui/Data/SRA/all_seq/chip/'\n"
   ]
  },
  {
   "cell_type": "code",
   "execution_count": null,
   "metadata": {},
   "outputs": [],
   "source": []
  },
  {
   "cell_type": "code",
   "execution_count": null,
   "metadata": {},
   "outputs": [],
   "source": [
    "#targetMetaDF['new_ScientiaficName'].value_counts()"
   ]
  },
  {
   "cell_type": "code",
   "execution_count": null,
   "metadata": {},
   "outputs": [],
   "source": [
    "#!qdel 416119"
   ]
  },
  {
   "cell_type": "code",
   "execution_count": null,
   "metadata": {},
   "outputs": [],
   "source": [
    "os.system(command)\n"
   ]
  },
  {
   "cell_type": "code",
   "execution_count": null,
   "metadata": {},
   "outputs": [],
   "source": []
  },
  {
   "cell_type": "code",
   "execution_count": null,
   "metadata": {},
   "outputs": [],
   "source": [
    "exit(0)"
   ]
  },
  {
   "cell_type": "code",
   "execution_count": null,
   "metadata": {
    "scrolled": true
   },
   "outputs": [],
   "source": [
    "#!cat param.py"
   ]
  },
  {
   "cell_type": "code",
   "execution_count": null,
   "metadata": {},
   "outputs": [],
   "source": [
    "#targetMetaDF[]['ScientificName'].value_counts()"
   ]
  },
  {
   "cell_type": "code",
   "execution_count": null,
   "metadata": {},
   "outputs": [],
   "source": [
    "#!ls -lah /nrnb/users/btsui/Data/all_seq/"
   ]
  },
  {
   "cell_type": "code",
   "execution_count": null,
   "metadata": {},
   "outputs": [],
   "source": [
    "command"
   ]
  },
  {
   "cell_type": "markdown",
   "metadata": {},
   "source": [
    "### clean nodes"
   ]
  },
  {
   "cell_type": "code",
   "execution_count": null,
   "metadata": {},
   "outputs": [],
   "source": []
  },
  {
   "cell_type": "code",
   "execution_count": null,
   "metadata": {},
   "outputs": [],
   "source": [
    "#!cat /cellar/users/btsui/Documents/ipythonNotebook/current_working_dir/GoogleGEO/Job/mpiJob/machine_file.txt"
   ]
  },
  {
   "cell_type": "markdown",
   "metadata": {},
   "source": [
    "### scratch"
   ]
  },
  {
   "cell_type": "code",
   "execution_count": null,
   "metadata": {},
   "outputs": [],
   "source": [
    "asdasdas"
   ]
  },
  {
   "cell_type": "code",
   "execution_count": null,
   "metadata": {},
   "outputs": [],
   "source": [
    "#!qalter 444392 -tc 100"
   ]
  },
  {
   "cell_type": "code",
   "execution_count": null,
   "metadata": {},
   "outputs": [],
   "source": [
    "__author__ = 'btsui'\n",
    "import subprocess\n",
    "#from eventlet.timeout import Timeout\n",
    "from multiprocessing import Pool\n",
    "username=\"btsui\"\n",
    "machineFDir=\"/cellar/users/btsui/Documents/ipythonNotebook/current_working_dir/GoogleGEO/Job/mpiJob/machine_file.txt\"\n",
    "def cleanMachine(l):\n",
    "        l=l.replace(\"\\n\",\"\")\n",
    "        subprocess.call([\"ssh\" ,username+\"@\"+l+\".ucsd.edu\", \"rm\", \"-rf\", \"/tmp/SRA_DATA/\"])\n",
    "        subprocess.call([\"ssh\" ,username+\"@\"+l+\".ucsd.edu\", \"rm\", \"-rf\", \"/tmp/btsui/\"])\n",
    "        subprocess.call([\"ssh\" ,username+\"@\"+l+\".ucsd.edu\", \"rm\", \"-rf\", \" /tmp/btsui/METH/\"]) \n",
    "        subprocess.call([\"ssh\" ,username+\"@\"+l+\".ucsd.edu\", \"rm\", \"-rf\", \" /tmp/SRR*\"]) \n",
    "        #subprocess.call([\"ssh\" ,username+\"@\"+l+\".ucsd.edu\", \"rm\", \"-rf\", \" /tmp/TCGA*\"]) \n",
    "if __name__==\"__main__\":\n",
    "    with open(machineFDir,\"r\") as machineF:\n",
    "        p=Pool(28)\n",
    "        p.map(cleanMachine,machineF)\n",
    "        p.close()"
   ]
  },
  {
   "cell_type": "code",
   "execution_count": null,
   "metadata": {},
   "outputs": [],
   "source": [
    "#!mkdir /nrnb/users/btsui/Data/all_seq/log_rnaseq"
   ]
  },
  {
   "cell_type": "code",
   "execution_count": null,
   "metadata": {},
   "outputs": [],
   "source": [
    "#!ls -lah  /nrnb/users/btsui/Data/all_seq/"
   ]
  },
  {
   "cell_type": "code",
   "execution_count": null,
   "metadata": {},
   "outputs": [],
   "source": [
    "%%bash\n",
    "export PATH=/cellar/users/btsui/anaconda2/bin/:$PATH\n",
    "/cellar/users/btsui/anaconda2/bin/python ./run_one.py 110\n",
    "#/cellar/users/btsui/anaconda2/bin/python ./paired_rna.py 1\n",
    "#/cellar/users/btsui/anaconda2/bin/python ./paired_rna.py SRR1558481 Mus_musculus"
   ]
  },
  {
   "cell_type": "code",
   "execution_count": null,
   "metadata": {},
   "outputs": [],
   "source": [
    "#!qstat -u btsui"
   ]
  },
  {
   "cell_type": "code",
   "execution_count": null,
   "metadata": {},
   "outputs": [],
   "source": [
    "#!qalter 412442 -tc 200"
   ]
  },
  {
   "cell_type": "code",
   "execution_count": null,
   "metadata": {},
   "outputs": [],
   "source": [
    "#!cat ./paired_rna.py"
   ]
  },
  {
   "cell_type": "code",
   "execution_count": null,
   "metadata": {},
   "outputs": [],
   "source": [
    "#python paired_rna.py 1 Mus_musculus"
   ]
  },
  {
   "cell_type": "code",
   "execution_count": null,
   "metadata": {},
   "outputs": [],
   "source": [
    "!cat ./run_one.py"
   ]
  },
  {
   "cell_type": "code",
   "execution_count": null,
   "metadata": {},
   "outputs": [],
   "source": [
    "\"\"\"\n",
    "SRR998545 (try downloading and processing this one )\n",
    "SRR998530 (try downloading and processing this one )\n",
    "Study two example:\n",
    "SRR949118 (ran and have data)\n",
    "\"\"\""
   ]
  },
  {
   "cell_type": "code",
   "execution_count": null,
   "metadata": {},
   "outputs": [],
   "source": [
    "allDF.proj_accession_Visibility.value_counts()"
   ]
  },
  {
   "cell_type": "code",
   "execution_count": null,
   "metadata": {},
   "outputs": [],
   "source": [
    "hitDf=allDF.loc[['SRR998545','SRR998530','SRR949118']]"
   ]
  },
  {
   "cell_type": "code",
   "execution_count": null,
   "metadata": {},
   "outputs": [],
   "source": [
    "#allDF.proj_accession_Visibility.loc['SRR949118']"
   ]
  },
  {
   "cell_type": "code",
   "execution_count": null,
   "metadata": {},
   "outputs": [],
   "source": [
    "hitDf.T"
   ]
  },
  {
   "cell_type": "code",
   "execution_count": null,
   "metadata": {},
   "outputs": [],
   "source": [
    "\"\"\"\n",
    "export PATH=/cellar/users/btsui/anaconda2/bin/:$PATH\n",
    "/cellar/users/btsui/anaconda2/bin/python \n",
    "\"\"\""
   ]
  },
  {
   "cell_type": "code",
   "execution_count": null,
   "metadata": {},
   "outputs": [],
   "source": [
    "#!ls /cellar/users/btsui/Data/kalisto_ref/"
   ]
  },
  {
   "cell_type": "code",
   "execution_count": null,
   "metadata": {},
   "outputs": [],
   "source": [
    "hitDf=targetMetaDF.loc[['SRR998545','SRR998530','SRR949118']]"
   ]
  },
  {
   "cell_type": "code",
   "execution_count": null,
   "metadata": {},
   "outputs": [],
   "source": [
    "##hit is not the problem"
   ]
  },
  {
   "cell_type": "code",
   "execution_count": null,
   "metadata": {},
   "outputs": [],
   "source": [
    "hitDf.T"
   ]
  },
  {
   "cell_type": "code",
   "execution_count": null,
   "metadata": {},
   "outputs": [],
   "source": [
    "targetMetaDF['Study'].value_counts().head(n=10)"
   ]
  },
  {
   "cell_type": "code",
   "execution_count": null,
   "metadata": {},
   "outputs": [],
   "source": []
  }
 ],
 "metadata": {
  "kernelspec": {
   "display_name": "Python [default]",
   "language": "python",
   "name": "python3"
  },
  "language_info": {
   "codemirror_mode": {
    "name": "ipython",
    "version": 3
   },
   "file_extension": ".py",
   "mimetype": "text/x-python",
   "name": "python",
   "nbconvert_exporter": "python",
   "pygments_lexer": "ipython3",
   "version": "3.6.5"
  }
 },
 "nbformat": 4,
 "nbformat_minor": 2
}
