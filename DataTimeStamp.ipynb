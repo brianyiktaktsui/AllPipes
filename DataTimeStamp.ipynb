{
 "cells": [
  {
   "cell_type": "markdown",
   "metadata": {},
   "source": [
    "### Last update"
   ]
  },
  {
   "cell_type": "code",
   "execution_count": 5,
   "metadata": {},
   "outputs": [
    {
     "name": "stdout",
     "output_type": "stream",
     "text": [
      "total 1.3G\r\n",
      "drwxr-xr-x  2 btsui users  16M Oct 14 16:14 log_rnaseq\r\n",
      "drwxr-xr-x  2 btsui users  64M Oct 14 16:14 rnaseq\r\n",
      "drwxr-xr-x  2 btsui users  64M Oct 14 16:14 snp\r\n",
      "drwxr-xr-x  2 btsui users  16M Oct 14 16:14 log_snp\r\n",
      "drwxr-xr-x  2 btsui users 128K Oct 14 15:20 tmp\r\n",
      "drwxr-xr-x  2 btsui users 128K Oct 12 09:54 rnaseq_merged\r\n",
      "drwxr-xr-x  2 btsui users 128K Oct 12 09:39 rnaseq_merged_chunks\r\n",
      "drwxr-xr-x 17 btsui users 128K Oct  4 12:42 ..\r\n",
      "drwxr-xr-x  2 btsui users  512 Aug 29 10:59 rnaseq_annotations\r\n",
      "drwxr-xr-x 18 btsui users 128K Aug 29 10:41 .\r\n",
      "drwxr-xr-x  2 btsui users 128K Aug  5 08:51 tmp_tcga_block\r\n",
      "drwxr-xr-x  2 btsui users 128K Aug  5 03:54 tmp_chunks\r\n",
      "drwxr-xr-x  2 btsui users 476M Jul 24 20:31 tmp_2\r\n",
      "drwxr-xr-x  2 btsui users 128K Jan 28  2018 tmp_3\r\n",
      "-rw-r--r--  1 btsui users  814 Jan 26  2018 Homo_sapiens.failed.srrs.txt\r\n",
      "drwxr-xr-x  2 btsui users 2.0M Dec 29  2017 old_snp\r\n",
      "drwxr-xr-x  2 btsui users 1.0M Dec 29  2017 old_log_snp\r\n",
      "drwxr-xr-x  9 btsui users 128K Dec 29  2017 chip\r\n",
      "drwxr-xr-x  2 btsui users  16M Nov 22  2017 expression_old\r\n"
     ]
    }
   ],
   "source": [
    "!ls -laht /nrnb/users/btsui/Data/all_seq/ "
   ]
  },
  {
   "cell_type": "markdown",
   "metadata": {},
   "source": [
    "# Transcript counting"
   ]
  },
  {
   "cell_type": "code",
   "execution_count": null,
   "metadata": {},
   "outputs": [],
   "source": [
    "!ls -l /nrnb/users/btsui/Data/all_seq/rnaseq | wc -l"
   ]
  },
  {
   "cell_type": "markdown",
   "metadata": {},
   "source": [
    "### Allelic read counts"
   ]
  },
  {
   "cell_type": "code",
   "execution_count": null,
   "metadata": {},
   "outputs": [],
   "source": [
    "!ls -l /nrnb/users/btsui/Data/all_seq/snp | wc -l"
   ]
  },
  {
   "cell_type": "code",
   "execution_count": null,
   "metadata": {},
   "outputs": [],
   "source": []
  }
 ],
 "metadata": {
  "kernelspec": {
   "display_name": "Python [default]",
   "language": "python",
   "name": "python3"
  },
  "language_info": {
   "codemirror_mode": {
    "name": "ipython",
    "version": 3
   },
   "file_extension": ".py",
   "mimetype": "text/x-python",
   "name": "python",
   "nbconvert_exporter": "python",
   "pygments_lexer": "ipython3",
   "version": "3.6.5"
  }
 },
 "nbformat": 4,
 "nbformat_minor": 2
}
