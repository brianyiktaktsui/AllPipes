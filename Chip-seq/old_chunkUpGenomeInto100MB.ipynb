{
 "cells": [
  {
   "cell_type": "code",
   "execution_count": 1,
   "metadata": {
    "collapsed": false
   },
   "outputs": [],
   "source": [
    "### try aligning to genome\n",
    "### \n",
    "from Bio import SeqIO\n",
    "import pandas as pd\n",
    "inDir='/cellar/users/btsui/Data/Project/KangZhang/refFa/hg19.fa'"
   ]
  },
  {
   "cell_type": "code",
   "execution_count": 2,
   "metadata": {
    "collapsed": false
   },
   "outputs": [
    {
     "data": {
      "text/plain": [
       "'\\nmyChrL=[]\\nwith open(inDir, \"rU\") as handle:\\n    for record in SeqIO.parse(handle, \"fasta\"):\\n        print(record.id)\\n        myChrL.append(record.id)\\n        tmpS=pd.Series(list(str(record.seq)))\\n        break\\n'"
      ]
     },
     "execution_count": 2,
     "metadata": {},
     "output_type": "execute_result"
    }
   ],
   "source": [
    "#refGenome=SeqIO.read(inDir,'fasta')\n",
    "#from Bio import SeqIO\n",
    "\"\"\"\n",
    "myChrL=[]\n",
    "with open(inDir, \"rU\") as handle:\n",
    "    for record in SeqIO.parse(handle, \"fasta\"):\n",
    "        print(record.id)\n",
    "        myChrL.append(record.id)\n",
    "        tmpS=pd.Series(list(str(record.seq)))\n",
    "        break\n",
    "\"\"\""
   ]
  },
  {
   "cell_type": "code",
   "execution_count": 14,
   "metadata": {
    "collapsed": false
   },
   "outputs": [],
   "source": [
    "binSize=100000\n",
    "myDict={}\n",
    "with open(inDir, \"rU\") as handle:\n",
    "    for record in SeqIO.parse(handle, \"fasta\"):\n",
    "        for i in range(0,len(record.seq),binSize):\n",
    "            ub=min([len(record.seq),i+binSize])\n",
    "            lb=i\n",
    "            subStr=record.seq[lb:ub]\n",
    "            name=record.id+':'+str(lb)+'-'+str(ub)\n",
    "            myDict[name]=SeqIO.SeqRecord(seq=subStr,id=name,description='')\n"
   ]
  },
  {
   "cell_type": "code",
   "execution_count": null,
   "metadata": {
    "collapsed": true
   },
   "outputs": [],
   "source": []
  },
  {
   "cell_type": "code",
   "execution_count": 15,
   "metadata": {
    "collapsed": false
   },
   "outputs": [],
   "source": [
    "from Bio import SeqIO\n",
    "#sequences = ...  # add code here\n",
    "sequences=myDict.values()\n",
    "with open(\"/cellar/users/btsui/Data/RAPMAP_INDEX/CHIPSEQ/Homo_sapiens/chunks.fa\", \"w\") as output_handle:\n",
    "    #for name,Id=myDict.iteritems():\n",
    "    SeqIO.write(sequences, output_handle, \"fasta\")"
   ]
  },
  {
   "cell_type": "code",
   "execution_count": 22,
   "metadata": {
    "collapsed": false
   },
   "outputs": [],
   "source": [
    "#rapmap quasiindex -t ref.fa -i ref_index\n",
    "rapmap_dir='/cellar/users/btsui/Program/rapmap/RapMap-v0.4.0_linux_x86-64/bin/rapmap'\n",
    "\n",
    "faDir=\"/cellar/users/btsui/Data/RAPMAP_INDEX/CHIPSEQ/Homo_sapiens/chunks.fa\"\n",
    "refDir='/cellar/users/btsui/Data/RAPMAP_INDEX/CHIPSEQ/Homo_sapiens/'\n",
    "myCmd='{rapmap_dir} quasiindex  --noClip -x 48 -t {fa} -i {refDir}'.format(rapmap_dir=rapmap_dir,fa=faDir,refDir=refDir)"
   ]
  },
  {
   "cell_type": "code",
   "execution_count": 23,
   "metadata": {
    "collapsed": false
   },
   "outputs": [
    {
     "data": {
      "text/plain": [
       "'/cellar/users/btsui/Program/rapmap/RapMap-v0.4.0_linux_x86-64/bin/rapmap quasiindex  --noClip -x 48 -t /cellar/users/btsui/Data/RAPMAP_INDEX/CHIPSEQ/Homo_sapiens/chunks.fa -i /cellar/users/btsui/Data/RAPMAP_INDEX/CHIPSEQ/Homo_sapiens/'"
      ]
     },
     "execution_count": 23,
     "metadata": {},
     "output_type": "execute_result"
    }
   ],
   "source": [
    "myCmd"
   ]
  },
  {
   "cell_type": "code",
   "execution_count": 1,
   "metadata": {
    "collapsed": true
   },
   "outputs": [],
   "source": []
  },
  {
   "cell_type": "code",
   "execution_count": 8,
   "metadata": {
    "collapsed": false
   },
   "outputs": [
    {
     "name": "stdout",
     "output_type": "stream",
     "text": [
      "2017-11-21T06:55:04 fastq-dump.2.4.2 err: param empty while validating argument list - expected accession\r\n"
     ]
    }
   ],
   "source": [
    "!/cellar/users/btsui/Program/SRA_TOOL_KIT/sratoolkit.2.4.2-ubuntu64/bin/fastq-dump.2.4.2 --stdout >>tmp.fq"
   ]
  },
  {
   "cell_type": "code",
   "execution_count": 13,
   "metadata": {
    "collapsed": false
   },
   "outputs": [
    {
     "name": "stdout",
     "output_type": "stream",
     "text": [
      "total 72G\r\n",
      "drwxr-xr-x 2 btsui users    9 Nov 20 23:38 .\r\n",
      "drwxr-xr-x 3 btsui users    3 Nov 20 21:45 ..\r\n",
      "-rw-r--r-- 1 btsui users 3.0G Nov 20 22:18 chunks.fa\r\n",
      "-rw-r--r-- 1 btsui users  63G Nov 20 23:35 hash.bin\r\n",
      "-rw-r--r-- 1 btsui users  181 Nov 20 23:38 header.json\r\n",
      "-rw-r--r-- 1 btsui users    0 Nov 20 22:14 quasi_index.log\r\n",
      "-rw-r--r-- 1 btsui users 370M Nov 20 22:33 rsd.bin\r\n",
      "-rw-r--r-- 1 btsui users  24G Nov 20 22:43 sa.bin\r\n",
      "-rw-r--r-- 1 btsui users 2.9G Nov 20 22:33 txpInfo.bin\r\n"
     ]
    }
   ],
   "source": [
    "!ls -lah /cellar/users/btsui/Data/RAPMAP_INDEX/CHIPSEQ/Homo_sapiens"
   ]
  },
  {
   "cell_type": "code",
   "execution_count": 16,
   "metadata": {
    "collapsed": false
   },
   "outputs": [
    {
     "name": "stdout",
     "output_type": "stream",
     "text": [
      "\r\n",
      "USAGE: \r\n",
      "\r\n",
      "   /cellar/users/btsui/Program/rapmap/RapMap-v0.4.0_linux_x86-64/bin/rapmap\r\n",
      "                                        [-q] [-c] [-f] [-s] [-e] [-z\r\n",
      "                                        <double in [0,1]>] [-m <positive\r\n",
      "                                        integer>] [-t <positive integer>]\r\n",
      "                                        [-o <path>] [-r <path>] [-2 <path>]\r\n",
      "                                        [-1 <path>] [-n] -i <path> [--]\r\n",
      "                                        [--version] [-h]\r\n",
      "\r\n",
      "\r\n",
      "Where: \r\n",
      "\r\n",
      "   -q,  --quiet\r\n",
      "     Disable all console output apart from warnings and errors\r\n",
      "\r\n",
      "   -c,  --consistentHits\r\n",
      "     Ensure that the hits collected are consistent (co-linear)\r\n",
      "\r\n",
      "   -f,  --fuzzyIntersection\r\n",
      "     Find paired-end mapping locations using fuzzy intersection\r\n",
      "\r\n",
      "   -s,  --strictCheck\r\n",
      "     Perform extra checks to try and assure that only equally \"best\"\r\n",
      "     mappings for a read are reported\r\n",
      "\r\n",
      "   -e,  --sensitive\r\n",
      "     Perform a more sensitive quasi-mapping by disabling NIP skipping\r\n",
      "\r\n",
      "   -z <double in [0,1]>,  --quasiCoverage <double in [0,1]>\r\n",
      "     Require that this fraction of a read is covered by MMPs before it is\r\n",
      "     considered mappable.\r\n",
      "\r\n",
      "   -m <positive integer>,  --maxNumHits <positive integer>\r\n",
      "     Reads mapping to more than this many loci are discarded\r\n",
      "\r\n",
      "   -t <positive integer>,  --numThreads <positive integer>\r\n",
      "     Number of threads to use\r\n",
      "\r\n",
      "   -o <path>,  --output <path>\r\n",
      "     The output file (default: stdout)\r\n",
      "\r\n",
      "   -r <path>,  --unmatedReads <path>\r\n",
      "     The location of single-end reads\r\n",
      "\r\n",
      "   -2 <path>,  --rightMates <path>\r\n",
      "     The location of the right paired-end reads\r\n",
      "\r\n",
      "   -1 <path>,  --leftMates <path>\r\n",
      "     The location of the left paired-end reads\r\n",
      "\r\n",
      "   -n,  --noOutput\r\n",
      "     Don't write out any alignments (for speed testing purposes)\r\n",
      "\r\n",
      "   -i <path>,  --index <path>\r\n",
      "     (required)  The location of the quasiindex\r\n",
      "\r\n",
      "   --,  --ignore_rest\r\n",
      "     Ignores the rest of the labeled arguments following this flag.\r\n",
      "\r\n",
      "   --version\r\n",
      "     Displays version information and exits.\r\n",
      "\r\n",
      "   -h,  --help\r\n",
      "     Displays usage information and exits.\r\n",
      "\r\n",
      "\r\n",
      "   RapMap Mapper\r\n",
      "\r\n"
     ]
    }
   ],
   "source": [
    "!/cellar/users/btsui/Program/rapmap/RapMap-v0.4.0_linux_x86-64/bin/rapmap quasimap --help"
   ]
  },
  {
   "cell_type": "code",
   "execution_count": null,
   "metadata": {
    "collapsed": true
   },
   "outputs": [],
   "source": [
    "'{rapmap_dir} quasimap -r {inFastq} > out.sam'.format(rapmap_dir=rapmap_dir,\n",
    "                                                    inFastq='tmp.fq' )"
   ]
  },
  {
   "cell_type": "code",
   "execution_count": 17,
   "metadata": {
    "collapsed": false
   },
   "outputs": [
    {
     "name": "stdout",
     "output_type": "stream",
     "text": [
      "all_out.pickle\t\t\t   Process_One.ipynb\r\n",
      "chunkUpGenomeInto100MB.ipynb\t   samples.csv\r\n",
      "ConvertBedsToWigs.ipynb\t\t   tmp.fq\r\n",
      "DownloadAllEpigenomeRoadmap.ipynb  TryAnalyzingTheRegions.ipynb\r\n",
      "filter_zero.py\r\n"
     ]
    }
   ],
   "source": [
    "!ls "
   ]
  },
  {
   "cell_type": "code",
   "execution_count": null,
   "metadata": {
    "collapsed": true
   },
   "outputs": [],
   "source": []
  }
 ],
 "metadata": {
  "kernelspec": {
   "display_name": "Python 2",
   "language": "python",
   "name": "python2"
  },
  "language_info": {
   "codemirror_mode": {
    "name": "ipython",
    "version": 2
   },
   "file_extension": ".py",
   "mimetype": "text/x-python",
   "name": "python",
   "nbconvert_exporter": "python",
   "pygments_lexer": "ipython2",
   "version": "2.7.13"
  }
 },
 "nbformat": 4,
 "nbformat_minor": 0
}
