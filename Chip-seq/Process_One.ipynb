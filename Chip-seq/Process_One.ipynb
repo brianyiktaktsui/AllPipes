{
 "cells": [
  {
   "cell_type": "code",
   "execution_count": 1,
   "metadata": {
    "collapsed": false
   },
   "outputs": [
    {
     "data": {
      "text/plain": [
       "'\\n\\nRun\\t# of Spots\\t# of Bases\\tSize\\tPublished\\nSRR066180\\t15,039,988\\t541.4M\\t363.4Mb\\t2010-09-22\\nSRR066181\\t19,637,768\\t707M\\t471.5Mb\\t2010-09-22\\nSRR066182\\t19,584,853\\t705.1M\\t469.9Mb\\t2010-09-22\\n\\n'"
      ]
     },
     "execution_count": 1,
     "metadata": {},
     "output_type": "execute_result"
    }
   ],
   "source": [
    "#GSM621667, \n",
    "#\n",
    "\"\"\"\n",
    "\n",
    "Run\t# of Spots\t# of Bases\tSize\tPublished\n",
    "SRR066180\t15,039,988\t541.4M\t363.4Mb\t2010-09-22\n",
    "SRR066181\t19,637,768\t707M\t471.5Mb\t2010-09-22\n",
    "SRR066182\t19,584,853\t705.1M\t469.9Mb\t2010-09-22\n",
    "\n",
    "\"\"\""
   ]
  },
  {
   "cell_type": "code",
   "execution_count": 9,
   "metadata": {
    "collapsed": true
   },
   "outputs": [],
   "source": [
    "srrRuns=['SRR458459']"
   ]
  },
  {
   "cell_type": "code",
   "execution_count": 10,
   "metadata": {
    "collapsed": true
   },
   "outputs": [],
   "source": [
    "import os"
   ]
  },
  {
   "cell_type": "code",
   "execution_count": 11,
   "metadata": {
    "collapsed": true
   },
   "outputs": [],
   "source": [
    "testDir='/tmp/btsui/sra/'"
   ]
  },
  {
   "cell_type": "code",
   "execution_count": 12,
   "metadata": {
    "collapsed": true
   },
   "outputs": [],
   "source": [
    "#!mkdir /tmp/btsui/sra/"
   ]
  },
  {
   "cell_type": "code",
   "execution_count": 13,
   "metadata": {
    "collapsed": true
   },
   "outputs": [],
   "source": [
    "os.chdir(testDir)"
   ]
  },
  {
   "cell_type": "code",
   "execution_count": 14,
   "metadata": {
    "collapsed": true
   },
   "outputs": [],
   "source": [
    "#!rm tmp.fq"
   ]
  },
  {
   "cell_type": "markdown",
   "metadata": {},
   "source": [
    "### download the files"
   ]
  },
  {
   "cell_type": "code",
   "execution_count": 15,
   "metadata": {
    "collapsed": false
   },
   "outputs": [
    {
     "name": "stdout",
     "output_type": "stream",
     "text": [
      "0\n"
     ]
    }
   ],
   "source": [
    "for srrRun in srrRuns:\n",
    "    print os.system('prefetch '+srrRun)"
   ]
  },
  {
   "cell_type": "code",
   "execution_count": null,
   "metadata": {
    "collapsed": true
   },
   "outputs": [],
   "source": []
  },
  {
   "cell_type": "markdown",
   "metadata": {},
   "source": [
    "#### split the dumps into the fastqs"
   ]
  },
  {
   "cell_type": "code",
   "execution_count": 16,
   "metadata": {
    "collapsed": true
   },
   "outputs": [],
   "source": [
    "SRA_FASTQ_TOOL_DIR=\"/cellar/users/btsui/Program/SRA_TOOL_KIT/sratoolkit.2.4.2-ubuntu64/bin/fastq-dump.2.4.2\"\n",
    "\n",
    "baseSraDir='/tmp/btsui/METH/sra/'\n",
    "for srrRun in srrRuns:\n",
    "    myCmd='{sra_dump_dir} --stdout {sra_file_dir} >> tmp.fq'.format(sra_dump_dir=SRA_FASTQ_TOOL_DIR,\n",
    "                                                         sra_file_dir=baseSraDir+srrRun+'.sra')\n",
    "    os.system(myCmd)"
   ]
  },
  {
   "cell_type": "code",
   "execution_count": 31,
   "metadata": {
    "collapsed": false
   },
   "outputs": [],
   "source": [
    "\n",
    "\n",
    "#!/cellar/users/btsui/Program/SRA_TOOL_KIT/sratoolkit.2.4.2-ubuntu64/bin/fastq-dump.2.4.2 --help\n"
   ]
  },
  {
   "cell_type": "code",
   "execution_count": 21,
   "metadata": {
    "collapsed": false
   },
   "outputs": [
    {
     "name": "stdout",
     "output_type": "stream",
     "text": [
      "107385756 tmp.fq\r\n"
     ]
    }
   ],
   "source": [
    "#!wc -l tmp.fq "
   ]
  },
  {
   "cell_type": "code",
   "execution_count": 23,
   "metadata": {
    "collapsed": false
   },
   "outputs": [
    {
     "name": "stdout",
     "output_type": "stream",
     "text": [
      "number of reads: 26846439\n"
     ]
    }
   ],
   "source": [
    "print 'number of reads: ',107385756/4"
   ]
  },
  {
   "cell_type": "code",
   "execution_count": 26,
   "metadata": {
    "collapsed": true
   },
   "outputs": [],
   "source": [
    "refDir='/cellar/users/btsui/Data/RAPMAP_INDEX/CHIPSEQ/Homo_sapiens/'\n",
    "rapmap_dir='/cellar/users/btsui/Program/rapmap/RapMap-v0.4.0_linux_x86-64/bin/rapmap'\n"
   ]
  },
  {
   "cell_type": "code",
   "execution_count": 30,
   "metadata": {
    "collapsed": false
   },
   "outputs": [
    {
     "data": {
      "text/plain": [
       "'/cellar/users/btsui/Program/rapmap/RapMap-v0.4.0_linux_x86-64/bin/rapmap quasimap -r tmp.fq -i /cellar/users/btsui/Data/RAPMAP_INDEX/CHIPSEQ/Homo_sapiens/> out.sam'"
      ]
     },
     "execution_count": 30,
     "metadata": {},
     "output_type": "execute_result"
    }
   ],
   "source": [
    "myCmd='{rapmap_dir} quasimap -r {inFastq} -i {ref_dir}> out.sam'.format(rapmap_dir=rapmap_dir,\n",
    "                                                    inFastq='tmp.fq' ,\n",
    "                                                                 ref_dir=refDir)\n",
    "myCmd"
   ]
  },
  {
   "cell_type": "code",
   "execution_count": null,
   "metadata": {
    "collapsed": true
   },
   "outputs": [],
   "source": [
    "### if none of the first 10000 reads align, fault??"
   ]
  }
 ],
 "metadata": {
  "kernelspec": {
   "display_name": "Python 2",
   "language": "python",
   "name": "python2"
  },
  "language_info": {
   "codemirror_mode": {
    "name": "ipython",
    "version": 2
   },
   "file_extension": ".py",
   "mimetype": "text/x-python",
   "name": "python",
   "nbconvert_exporter": "python",
   "pygments_lexer": "ipython2",
   "version": "2.7.13"
  }
 },
 "nbformat": 4,
 "nbformat_minor": 0
}
