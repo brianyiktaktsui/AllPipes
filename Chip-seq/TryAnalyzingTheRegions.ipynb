{
 "cells": [
  {
   "cell_type": "code",
   "execution_count": 114,
   "metadata": {
    "collapsed": true
   },
   "outputs": [],
   "source": [
    "import os\n",
    "import pandas as pd\n",
    "import numpy as np \n",
    "baseDir='/cellar/users/btsui/Data/Project/Skymap/ChipSeq/EpigenomeRoadmap_inter/'\n",
    "allFnames=pd.Series(os.listdir(baseDir))\n",
    "\n",
    "\n",
    "inFnames=allFnames[allFnames.str.contains('Access')]\n",
    "print len(inFnames)\n",
    "\n",
    "\n",
    "#do in high mem node just in case\n",
    "myDfL=[]\n",
    "binSize=1000\n",
    "for i,inFname in enumerate(inFnames):\n",
    "    tmpDf=pd.read_csv(baseDir+inFname,sep='\\t',header=None)\n",
    "    tmpDf.columns=['Chr','Start','End','Count']\n",
    "    tmpDf['Bin']=(tmpDf['Start']/binSize).astype(np.int)*binSize\n",
    "    binCountS=tmpDf.groupby(['Chr','Bin']).Count.max()\n",
    "    tmpS=binCountS\n",
    "    myDfL.append(tmpS)\n",
    "    if (i%10)==0:\n",
    "        print i\n",
    "    \n",
    "mergedFs=pd.concat(myDfL,keys=inFnames)\n",
    "\n",
    "outBaseDir=u'/cellar/users/btsui/Data/Project/Skymap/ChipSeq/'\n",
    "mergedFs.to_pickle(outBaseDir+'all_track.pickle')"
   ]
  },
  {
   "cell_type": "code",
   "execution_count": 129,
   "metadata": {
    "collapsed": false
   },
   "outputs": [],
   "source": [
    "#!ls -lah /cellar/users/btsui/Data/Project/Skymap/ChipSeq/EpigenomeRoadmap/"
   ]
  },
  {
   "cell_type": "code",
   "execution_count": 105,
   "metadata": {
    "collapsed": false
   },
   "outputs": [
    {
     "data": {
      "text/plain": [
       "0.16316363238679465"
      ]
     },
     "execution_count": 105,
     "metadata": {},
     "output_type": "execute_result"
    }
   ],
   "source": [
    "## 100GB\n",
    "## take only the DNA accessibility sites?"
   ]
  },
  {
   "cell_type": "code",
   "execution_count": 100,
   "metadata": {
    "collapsed": false
   },
   "outputs": [
    {
     "data": {
      "text/plain": [
       "(2587709, 5)"
      ]
     },
     "execution_count": 100,
     "metadata": {},
     "output_type": "execute_result"
    }
   ],
   "source": [
    "tmpDf.shape"
   ]
  },
  {
   "cell_type": "code",
   "execution_count": 60,
   "metadata": {
    "collapsed": true
   },
   "outputs": [],
   "source": [
    "chrOffset=(10**9)"
   ]
  },
  {
   "cell_type": "code",
   "execution_count": 39,
   "metadata": {
    "collapsed": false
   },
   "outputs": [],
   "source": [
    "myChrs=[u'chr1', u'chr10', u'chr11', u'chr12', u'chr13', u'chr14', u'chr15',\n",
    "       u'chr16', u'chr17', u'chr18', u'chr19', u'chr2', u'chr20', u'chr21',\n",
    "       u'chr22', u'chr3', u'chr4', u'chr5', u'chr6', u'chr7', u'chr8', u'chr9',\n",
    "       u'chrM', u'chrX', u'chrY']\n",
    "chromAndOffset=pd.Series(index=myChrs,data=range(0,len(myChrs)))*chrOffset\n",
    "offSetToChrom=pd.Series(data=chromAndOffset.index,index=chromAndOffset.values)\n"
   ]
  },
  {
   "cell_type": "code",
   "execution_count": 50,
   "metadata": {
    "collapsed": true
   },
   "outputs": [],
   "source": [
    "offsetS=chromAndOffset[mergedFs.index.get_level_values('Chr')]"
   ]
  },
  {
   "cell_type": "code",
   "execution_count": 53,
   "metadata": {
    "collapsed": false
   },
   "outputs": [],
   "source": [
    "binSize=10\n",
    "corrS=offsetS.values+(mergedFs.index.get_level_values('Start')/binSize)*binSize"
   ]
  },
  {
   "cell_type": "code",
   "execution_count": 55,
   "metadata": {
    "collapsed": false
   },
   "outputs": [],
   "source": [
    "VC=corrS.value_counts()"
   ]
  },
  {
   "cell_type": "code",
   "execution_count": 56,
   "metadata": {
    "collapsed": false
   },
   "outputs": [
    {
     "data": {
      "text/plain": [
       "1    2587709\n",
       "Name: Start, dtype: int64"
      ]
     },
     "execution_count": 56,
     "metadata": {},
     "output_type": "execute_result"
    }
   ],
   "source": [
    "VC.value_counts()"
   ]
  },
  {
   "cell_type": "code",
   "execution_count": 58,
   "metadata": {
    "collapsed": false
   },
   "outputs": [],
   "source": [
    "inVC=VC[VC>=1]"
   ]
  },
  {
   "cell_type": "code",
   "execution_count": 80,
   "metadata": {
    "collapsed": false
   },
   "outputs": [],
   "source": [
    "#offSetToChrom"
   ]
  },
  {
   "cell_type": "code",
   "execution_count": 76,
   "metadata": {
    "collapsed": false
   },
   "outputs": [
    {
     "data": {
      "text/plain": [
       "Int64Index([ 64582140, 118358200, 159724600,  31717700, 232572100, 177648320,\n",
       "             15239360, 224594800, 192983740,  49023340,\n",
       "            ...\n",
       "              8871600,  36223660,  27248300, 101561620,  42181800,  71614860,\n",
       "            166913700,  32109220,   5099680,  60769280],\n",
       "           dtype='int64', length=2587709)"
      ]
     },
     "execution_count": 76,
     "metadata": {},
     "output_type": "execute_result"
    }
   ],
   "source": [
    "chr_ids=offSetToChrom[inVC.index-(inVC.index%chrOffset)]\n",
    "locs=inVC.index%chrOffset\n"
   ]
  },
  {
   "cell_type": "code",
   "execution_count": 77,
   "metadata": {
    "collapsed": false
   },
   "outputs": [
    {
     "data": {
      "text/plain": [
       "11000000000     chr2\n",
       "21000000000     chr9\n",
       "15000000000     chr3\n",
       "10000000000    chr19\n",
       "11000000000     chr2\n",
       "16000000000     chr4\n",
       "1000000000     chr10\n",
       "11000000000     chr2\n",
       "0               chr1\n",
       "4000000000     chr13\n",
       "1000000000     chr10\n",
       "16000000000     chr4\n",
       "3000000000     chr12\n",
       "11000000000     chr2\n",
       "11000000000     chr2\n",
       "15000000000     chr3\n",
       "19000000000     chr7\n",
       "6000000000     chr15\n",
       "11000000000     chr2\n",
       "21000000000     chr9\n",
       "1000000000     chr10\n",
       "0               chr1\n",
       "15000000000     chr3\n",
       "9000000000     chr18\n",
       "1000000000     chr10\n",
       "17000000000     chr5\n",
       "17000000000     chr5\n",
       "19000000000     chr7\n",
       "17000000000     chr5\n",
       "7000000000     chr16\n",
       "               ...  \n",
       "0               chr1\n",
       "20000000000     chr8\n",
       "16000000000     chr4\n",
       "6000000000     chr15\n",
       "7000000000     chr16\n",
       "0               chr1\n",
       "17000000000     chr5\n",
       "18000000000     chr6\n",
       "3000000000     chr12\n",
       "0               chr1\n",
       "16000000000     chr4\n",
       "20000000000     chr8\n",
       "23000000000     chrX\n",
       "4000000000     chr13\n",
       "6000000000     chr15\n",
       "20000000000     chr8\n",
       "8000000000     chr17\n",
       "8000000000     chr17\n",
       "16000000000     chr4\n",
       "6000000000     chr15\n",
       "20000000000     chr8\n",
       "14000000000    chr22\n",
       "0               chr1\n",
       "15000000000     chr3\n",
       "13000000000    chr21\n",
       "9000000000     chr18\n",
       "16000000000     chr4\n",
       "2000000000     chr11\n",
       "15000000000     chr3\n",
       "6000000000     chr15\n",
       "Length: 2587709, dtype: object"
      ]
     },
     "execution_count": 77,
     "metadata": {},
     "output_type": "execute_result"
    }
   ],
   "source": [
    "chr_ids"
   ]
  },
  {
   "cell_type": "code",
   "execution_count": 79,
   "metadata": {
    "collapsed": false
   },
   "outputs": [
    {
     "data": {
      "text/html": [
       "<div>\n",
       "<style>\n",
       "    .dataframe thead tr:only-child th {\n",
       "        text-align: right;\n",
       "    }\n",
       "\n",
       "    .dataframe thead th {\n",
       "        text-align: left;\n",
       "    }\n",
       "\n",
       "    .dataframe tbody tr th {\n",
       "        vertical-align: top;\n",
       "    }\n",
       "</style>\n",
       "<table border=\"1\" class=\"dataframe\">\n",
       "  <thead>\n",
       "    <tr style=\"text-align: right;\">\n",
       "      <th></th>\n",
       "      <th></th>\n",
       "      <th></th>\n",
       "      <th></th>\n",
       "      <th>Count</th>\n",
       "    </tr>\n",
       "    <tr>\n",
       "      <th></th>\n",
       "      <th>Chr</th>\n",
       "      <th>Start</th>\n",
       "      <th>End</th>\n",
       "      <th></th>\n",
       "    </tr>\n",
       "  </thead>\n",
       "  <tbody>\n",
       "    <tr>\n",
       "      <th>GSM878645_UW.Fibroblasts_Fetal_Skin_Biceps_Left.ChromatinAccessibility.H-24259.DS19867.bed.gz</th>\n",
       "      <th>chr2</th>\n",
       "      <th>64582144</th>\n",
       "      <th>64582164</th>\n",
       "      <td>24.0</td>\n",
       "    </tr>\n",
       "  </tbody>\n",
       "</table>\n",
       "</div>"
      ],
      "text/plain": [
       "                                                                           Count\n",
       "                                                   Chr  Start    End            \n",
       "GSM878645_UW.Fibroblasts_Fetal_Skin_Biceps_Left... chr2 64582144 64582164   24.0"
      ]
     },
     "execution_count": 79,
     "metadata": {},
     "output_type": "execute_result"
    }
   ],
   "source": [
    "\"\"\"\n",
    "objective: count the number of records in the data\n",
    "\"\"\"\n",
    "mergedFs[(mergedFs.index.get_level_values('Start')/10)*10==64582140]"
   ]
  },
  {
   "cell_type": "code",
   "execution_count": 29,
   "metadata": {
    "collapsed": false
   },
   "outputs": [
    {
     "data": {
      "text/plain": [
       "8.3966176450041097"
      ]
     },
     "execution_count": 29,
     "metadata": {},
     "output_type": "execute_result"
    }
   ],
   "source": [
    "import numpy as np\n",
    "np.log10(249239944)"
   ]
  },
  {
   "cell_type": "code",
   "execution_count": 81,
   "metadata": {
    "collapsed": false
   },
   "outputs": [
    {
     "data": {
      "text/plain": [
       "1335"
      ]
     },
     "execution_count": 81,
     "metadata": {},
     "output_type": "execute_result"
    }
   ],
   "source": [
    "len(inFnames)"
   ]
  },
  {
   "cell_type": "code",
   "execution_count": 121,
   "metadata": {
    "collapsed": false
   },
   "outputs": [
    {
     "data": {
      "text/plain": [
       "9.4488855646183278"
      ]
     },
     "execution_count": 121,
     "metadata": {},
     "output_type": "execute_result"
    }
   ],
   "source": [
    "nBins=2811160\n",
    "np.log10(nBins*1000)"
   ]
  },
  {
   "cell_type": "code",
   "execution_count": null,
   "metadata": {
    "collapsed": true
   },
   "outputs": [],
   "source": [
    "#1GB worht of length\n",
    "countS=mergedFs.groupby(level=['Chr','Bin']).size()"
   ]
  },
  {
   "cell_type": "code",
   "execution_count": 125,
   "metadata": {
    "collapsed": false
   },
   "outputs": [
    {
     "ename": "NameError",
     "evalue": "name 'countS' is not defined",
     "output_type": "error",
     "traceback": [
      "\u001b[1;31m---------------------------------------------------------------------------\u001b[0m",
      "\u001b[1;31mNameError\u001b[0m                                 Traceback (most recent call last)",
      "\u001b[1;32m<ipython-input-125-1e228530ca40>\u001b[0m in \u001b[0;36m<module>\u001b[1;34m()\u001b[0m\n\u001b[0;32m      1\u001b[0m \u001b[0mmyL\u001b[0m\u001b[1;33m=\u001b[0m\u001b[1;33m[\u001b[0m\u001b[1;33m]\u001b[0m\u001b[1;33m\u001b[0m\u001b[0m\n\u001b[0;32m      2\u001b[0m \u001b[1;32mfor\u001b[0m \u001b[0mi\u001b[0m \u001b[1;32min\u001b[0m \u001b[0mnp\u001b[0m\u001b[1;33m.\u001b[0m\u001b[0marange\u001b[0m\u001b[1;33m(\u001b[0m\u001b[1;36m0\u001b[0m\u001b[1;33m,\u001b[0m\u001b[1;36m500\u001b[0m\u001b[1;33m,\u001b[0m\u001b[1;36m25\u001b[0m\u001b[1;33m)\u001b[0m\u001b[1;33m:\u001b[0m\u001b[1;33m\u001b[0m\u001b[0m\n\u001b[1;32m----> 3\u001b[1;33m     \u001b[0msubS\u001b[0m\u001b[1;33m=\u001b[0m\u001b[0mcountS\u001b[0m\u001b[1;33m[\u001b[0m\u001b[0mcountS\u001b[0m\u001b[1;33m>=\u001b[0m\u001b[0mi\u001b[0m\u001b[1;33m]\u001b[0m\u001b[1;33m\u001b[0m\u001b[0m\n\u001b[0m\u001b[0;32m      4\u001b[0m     \u001b[0mnumberOfContigs\u001b[0m\u001b[1;33m=\u001b[0m\u001b[1;33m(\u001b[0m\u001b[0mpd\u001b[0m\u001b[1;33m.\u001b[0m\u001b[0mSeries\u001b[0m\u001b[1;33m(\u001b[0m\u001b[0msubS\u001b[0m\u001b[1;33m.\u001b[0m\u001b[0mindex\u001b[0m\u001b[1;33m.\u001b[0m\u001b[0mget_level_values\u001b[0m\u001b[1;33m(\u001b[0m\u001b[1;36m1\u001b[0m\u001b[1;33m)\u001b[0m\u001b[1;33m)\u001b[0m\u001b[1;33m.\u001b[0m\u001b[0mdiff\u001b[0m\u001b[1;33m(\u001b[0m\u001b[1;33m)\u001b[0m\u001b[1;33m!=\u001b[0m\u001b[1;36m1000\u001b[0m\u001b[1;33m)\u001b[0m\u001b[1;33m.\u001b[0m\u001b[0msum\u001b[0m\u001b[1;33m(\u001b[0m\u001b[1;33m)\u001b[0m\u001b[1;33m\u001b[0m\u001b[0m\n\u001b[0;32m      5\u001b[0m     \u001b[0mmyL\u001b[0m\u001b[1;33m+=\u001b[0m\u001b[1;33m[\u001b[0m\u001b[1;33m[\u001b[0m\u001b[0mi\u001b[0m\u001b[1;33m,\u001b[0m\u001b[0mi\u001b[0m\u001b[1;33m/\u001b[0m\u001b[1;36m1334.0\u001b[0m\u001b[1;33m,\u001b[0m\u001b[0mlen\u001b[0m\u001b[1;33m(\u001b[0m\u001b[0msubS\u001b[0m\u001b[1;33m)\u001b[0m\u001b[1;33m,\u001b[0m\u001b[0mnumberOfContigs\u001b[0m\u001b[1;33m]\u001b[0m\u001b[1;33m]\u001b[0m\u001b[1;33m\u001b[0m\u001b[0m\n",
      "\u001b[1;31mNameError\u001b[0m: name 'countS' is not defined"
     ]
    }
   ],
   "source": [
    "myL=[]\n",
    "for i in np.arange(0,10,1):\n",
    "    subS=countS[countS>=i] ##track \n",
    "    diffS=pd.Series(subS.index.get_level_values(1)).diff()\n",
    "    diffS.loc[diffS!=1000]=np.nan\n",
    "    ### count the length\n",
    "    nBPs=diffS.isnull().sum()\n",
    "    bpS=pd.Series(index=diffS.index)\n",
    "    bpS.loc[diffS.isnull()]=np.arange(nBPs)\n",
    "    binGroups=bpS.fillna(method='ffill')\n",
    "    VC=binGroups.value_counts().value_counts()\n",
    "    f_low_count=VC[(VC.index<=5)].sum()/float(VC.sum())\n",
    "    #binGroups.value_counts().value_counts()\n",
    "    numberOfContigs=(diffS!=1000).sum()\n",
    "    myL+=[[i,i/1334.0,len(subS),numberOfContigs,f_low_count]]\n",
    "    #print i,[]'\\t',i/1334.0,'\\t',len(subS),numberOfContigs\n",
    "    #(countS>=i).sum()\n",
    "tmpDf=pd.DataFrame(myL)\n",
    "tmpDf.columns=['Recurrent_count','%_recurr','n_bins','n_contigs','% contig within 5kb']"
   ]
  },
  {
   "cell_type": "code",
   "execution_count": null,
   "metadata": {
    "collapsed": true
   },
   "outputs": [],
   "source": [
    "#count threshold, number of bins\n",
    "#count the size of contigs\n",
    "### count the median length of the contigs\n"
   ]
  },
  {
   "cell_type": "code",
   "execution_count": null,
   "metadata": {
    "collapsed": true
   },
   "outputs": [],
   "source": [
    "diffS"
   ]
  }
 ],
 "metadata": {
  "kernelspec": {
   "display_name": "Python 2",
   "language": "python",
   "name": "python2"
  },
  "language_info": {
   "codemirror_mode": {
    "name": "ipython",
    "version": 2
   },
   "file_extension": ".py",
   "mimetype": "text/x-python",
   "name": "python",
   "nbconvert_exporter": "python",
   "pygments_lexer": "ipython2",
   "version": "2.7.13"
  }
 },
 "nbformat": 4,
 "nbformat_minor": 0
}
