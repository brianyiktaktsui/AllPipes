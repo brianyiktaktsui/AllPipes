{
 "cells": [
  {
   "cell_type": "code",
   "execution_count": 1,
   "metadata": {
    "collapsed": true
   },
   "outputs": [],
   "source": [
    "%matplotlib inline\n",
    "import seaborn as sns\n",
    "import numpy as np\n",
    "import pandas as pd"
   ]
  },
  {
   "cell_type": "code",
   "execution_count": 2,
   "metadata": {
    "collapsed": false
   },
   "outputs": [],
   "source": [
    "my_count_df=pd.read_csv('/cellar/users/btsui/Data/SRA/all_seq/chip/SRR458459.bin.count.txt.gz',sep='\\t',header=None)"
   ]
  },
  {
   "cell_type": "code",
   "execution_count": 33,
   "metadata": {
    "collapsed": false
   },
   "outputs": [
    {
     "data": {
      "text/html": [
       "<div>\n",
       "<style>\n",
       "    .dataframe thead tr:only-child th {\n",
       "        text-align: right;\n",
       "    }\n",
       "\n",
       "    .dataframe thead th {\n",
       "        text-align: left;\n",
       "    }\n",
       "\n",
       "    .dataframe tbody tr th {\n",
       "        vertical-align: top;\n",
       "    }\n",
       "</style>\n",
       "<table border=\"1\" class=\"dataframe\">\n",
       "  <thead>\n",
       "    <tr style=\"text-align: right;\">\n",
       "      <th></th>\n",
       "      <th>0</th>\n",
       "      <th>1</th>\n",
       "      <th>2</th>\n",
       "    </tr>\n",
       "  </thead>\n",
       "  <tbody>\n",
       "    <tr>\n",
       "      <th>8650</th>\n",
       "      <td>10</td>\n",
       "      <td>39120000</td>\n",
       "      <td>53</td>\n",
       "    </tr>\n",
       "    <tr>\n",
       "      <th>8651</th>\n",
       "      <td>10</td>\n",
       "      <td>39120010</td>\n",
       "      <td>47</td>\n",
       "    </tr>\n",
       "    <tr>\n",
       "      <th>8652</th>\n",
       "      <td>10</td>\n",
       "      <td>39120070</td>\n",
       "      <td>16</td>\n",
       "    </tr>\n",
       "    <tr>\n",
       "      <th>8653</th>\n",
       "      <td>10</td>\n",
       "      <td>39120080</td>\n",
       "      <td>7903</td>\n",
       "    </tr>\n",
       "    <tr>\n",
       "      <th>8654</th>\n",
       "      <td>10</td>\n",
       "      <td>39120090</td>\n",
       "      <td>16266</td>\n",
       "    </tr>\n",
       "    <tr>\n",
       "      <th>8655</th>\n",
       "      <td>10</td>\n",
       "      <td>39120100</td>\n",
       "      <td>8800</td>\n",
       "    </tr>\n",
       "    <tr>\n",
       "      <th>8656</th>\n",
       "      <td>10</td>\n",
       "      <td>39120110</td>\n",
       "      <td>424</td>\n",
       "    </tr>\n",
       "    <tr>\n",
       "      <th>8657</th>\n",
       "      <td>10</td>\n",
       "      <td>39120120</td>\n",
       "      <td>11</td>\n",
       "    </tr>\n",
       "  </tbody>\n",
       "</table>\n",
       "</div>"
      ],
      "text/plain": [
       "       0         1      2\n",
       "8650  10  39120000     53\n",
       "8651  10  39120010     47\n",
       "8652  10  39120070     16\n",
       "8653  10  39120080   7903\n",
       "8654  10  39120090  16266\n",
       "8655  10  39120100   8800\n",
       "8656  10  39120110    424\n",
       "8657  10  39120120     11"
      ]
     },
     "execution_count": 33,
     "metadata": {},
     "output_type": "execute_result"
    }
   ],
   "source": [
    "my_count_df[my_count_df[2]==16266]\n",
    "my_count_df.iloc[8650:8658]"
   ]
  },
  {
   "cell_type": "code",
   "execution_count": 3,
   "metadata": {
    "collapsed": false
   },
   "outputs": [
    {
     "name": "stderr",
     "output_type": "stream",
     "text": [
      "/cellar/users/btsui/anaconda2/lib/python2.7/site-packages/IPython/core/interactiveshell.py:2723: DtypeWarning: Columns (0) have mixed types. Specify dtype option on import or set low_memory=False.\n",
      "  interactivity=interactivity, compiler=compiler, result=result)\n"
     ]
    }
   ],
   "source": [
    "#!mv ~/coverage.bg ./bamCoverage.bg\n",
    "bam_cov_df=pd.read_csv('./bamCoverage.bg',sep='\\t',header=None)"
   ]
  },
  {
   "cell_type": "code",
   "execution_count": 5,
   "metadata": {
    "collapsed": false
   },
   "outputs": [],
   "source": [
    "bam_cov_df=bam_cov_df[bam_cov_df[3]>=10]"
   ]
  },
  {
   "cell_type": "code",
   "execution_count": 6,
   "metadata": {
    "collapsed": false
   },
   "outputs": [],
   "source": [
    "#GSM910586\n",
    "epr_count_df=pd.read_csv('/cellar/users/btsui/Data/Project/Skymap/ChipSeq/EpigenomeRoadmap_inter/GSM910586_UCSD.Pancreas.H3K9me3.STL003.bed.gz',sep='\\t',header=None)"
   ]
  },
  {
   "cell_type": "code",
   "execution_count": 17,
   "metadata": {
    "collapsed": false
   },
   "outputs": [],
   "source": [
    "bin_size=100\n"
   ]
  },
  {
   "cell_type": "code",
   "execution_count": 18,
   "metadata": {
    "collapsed": false
   },
   "outputs": [
    {
     "data": {
      "text/plain": [
       "0.5111463790762796"
      ]
     },
     "execution_count": 18,
     "metadata": {},
     "output_type": "execute_result"
    }
   ],
   "source": [
    "8475313/16580990.0"
   ]
  },
  {
   "cell_type": "code",
   "execution_count": 19,
   "metadata": {
    "collapsed": false
   },
   "outputs": [],
   "source": [
    "my_count_S=my_count_df.set_index([0,1])[2]\n",
    "my_reset_df=my_count_S.reset_index()\n",
    "my_reset_df[0]=my_reset_df[0].astype(np.str)\n",
    "my_reset_df[3]=(my_reset_df.iloc[:,1]/bin_size).astype(np.int)\n",
    "my_bin_S=my_reset_df.groupby([0,3])[2].max()"
   ]
  },
  {
   "cell_type": "code",
   "execution_count": 20,
   "metadata": {
    "collapsed": false
   },
   "outputs": [],
   "source": [
    "#bam_cov_df.set_index([0,1])[3]\n",
    "bam_count_S=bam_cov_df.set_index([0,1])[3]\n",
    "bam_reset_df=bam_count_S.reset_index()\n",
    "bam_reset_df[4]=(bam_reset_df.iloc[:,1]/bin_size).astype(np.int)\n",
    "bam_bin_S=bam_reset_df.groupby([0,4])[3].max()"
   ]
  },
  {
   "cell_type": "code",
   "execution_count": null,
   "metadata": {
    "collapsed": false,
    "scrolled": true
   },
   "outputs": [],
   "source": []
  },
  {
   "cell_type": "code",
   "execution_count": null,
   "metadata": {
    "collapsed": false
   },
   "outputs": [],
   "source": []
  },
  {
   "cell_type": "code",
   "execution_count": 21,
   "metadata": {
    "collapsed": false
   },
   "outputs": [],
   "source": [
    "er_count_S=epr_count_df.set_index([0,1])[3]\n",
    "er_reset_df=er_count_S.reset_index()\n",
    "er_reset_df[4]=(er_reset_df.iloc[:,1]/bin_size).astype(np.int)\n",
    "er_bin_S=er_reset_df.groupby([0,4])[3].max()"
   ]
  },
  {
   "cell_type": "code",
   "execution_count": 22,
   "metadata": {
    "collapsed": false
   },
   "outputs": [
    {
     "data": {
      "text/plain": [
       "array(['chr1', 'chr2', 'chr3', 'chr4', 'chr5', 'chr6', 'chr7', 'chr8',\n",
       "       'chr9', 'chr10', 'chr11', 'chr12', 'chr13', 'chr14', 'chr15',\n",
       "       'chr16', 'chr17', 'chr18', 'chr19', 'chr20', 'chr21', 'chr22',\n",
       "       'chrX', 'chrY', 'chrM'], dtype=object)"
      ]
     },
     "execution_count": 22,
     "metadata": {},
     "output_type": "execute_result"
    }
   ],
   "source": [
    "er_reset_df[0].unique()"
   ]
  },
  {
   "cell_type": "code",
   "execution_count": 23,
   "metadata": {
    "collapsed": false
   },
   "outputs": [],
   "source": [
    "mergedDf=np.log2(pd.DataFrame({'my pipline':my_bin_S,'bam':bam_bin_S}).dropna()+1)"
   ]
  },
  {
   "cell_type": "code",
   "execution_count": 24,
   "metadata": {
    "collapsed": false
   },
   "outputs": [
    {
     "data": {
      "text/html": [
       "<div>\n",
       "<style>\n",
       "    .dataframe thead tr:only-child th {\n",
       "        text-align: right;\n",
       "    }\n",
       "\n",
       "    .dataframe thead th {\n",
       "        text-align: left;\n",
       "    }\n",
       "\n",
       "    .dataframe tbody tr th {\n",
       "        vertical-align: top;\n",
       "    }\n",
       "</style>\n",
       "<table border=\"1\" class=\"dataframe\">\n",
       "  <thead>\n",
       "    <tr style=\"text-align: right;\">\n",
       "      <th></th>\n",
       "      <th>bam</th>\n",
       "      <th>my pipline</th>\n",
       "    </tr>\n",
       "  </thead>\n",
       "  <tbody>\n",
       "    <tr>\n",
       "      <th>bam</th>\n",
       "      <td>1.000000</td>\n",
       "      <td>0.949984</td>\n",
       "    </tr>\n",
       "    <tr>\n",
       "      <th>my pipline</th>\n",
       "      <td>0.949984</td>\n",
       "      <td>1.000000</td>\n",
       "    </tr>\n",
       "  </tbody>\n",
       "</table>\n",
       "</div>"
      ],
      "text/plain": [
       "                 bam  my pipline\n",
       "bam         1.000000    0.949984\n",
       "my pipline  0.949984    1.000000"
      ]
     },
     "execution_count": 24,
     "metadata": {},
     "output_type": "execute_result"
    }
   ],
   "source": [
    "\n",
    "mergedDf.corr()"
   ]
  },
  {
   "cell_type": "code",
   "execution_count": 25,
   "metadata": {
    "collapsed": false
   },
   "outputs": [],
   "source": [
    "nonZeroDf=mergedDf#[mergedDf['my pipline']>1]"
   ]
  },
  {
   "cell_type": "code",
   "execution_count": 26,
   "metadata": {
    "collapsed": false
   },
   "outputs": [
    {
     "data": {
      "text/html": [
       "<div>\n",
       "<style>\n",
       "    .dataframe thead tr:only-child th {\n",
       "        text-align: right;\n",
       "    }\n",
       "\n",
       "    .dataframe thead th {\n",
       "        text-align: left;\n",
       "    }\n",
       "\n",
       "    .dataframe tbody tr th {\n",
       "        vertical-align: top;\n",
       "    }\n",
       "</style>\n",
       "<table border=\"1\" class=\"dataframe\">\n",
       "  <thead>\n",
       "    <tr style=\"text-align: right;\">\n",
       "      <th></th>\n",
       "      <th>bam</th>\n",
       "      <th>my pipline</th>\n",
       "    </tr>\n",
       "  </thead>\n",
       "  <tbody>\n",
       "    <tr>\n",
       "      <th>bam</th>\n",
       "      <td>1.000000</td>\n",
       "      <td>0.949984</td>\n",
       "    </tr>\n",
       "    <tr>\n",
       "      <th>my pipline</th>\n",
       "      <td>0.949984</td>\n",
       "      <td>1.000000</td>\n",
       "    </tr>\n",
       "  </tbody>\n",
       "</table>\n",
       "</div>"
      ],
      "text/plain": [
       "                 bam  my pipline\n",
       "bam         1.000000    0.949984\n",
       "my pipline  0.949984    1.000000"
      ]
     },
     "execution_count": 26,
     "metadata": {},
     "output_type": "execute_result"
    }
   ],
   "source": [
    "nonZeroDf.corr()"
   ]
  },
  {
   "cell_type": "code",
   "execution_count": 27,
   "metadata": {
    "collapsed": false
   },
   "outputs": [],
   "source": [
    "#pd.DataFrame({'epigenome roadmap pipeline':er_bin_S,'my pipline':my_bin_S}).dropna()"
   ]
  },
  {
   "cell_type": "code",
   "execution_count": 28,
   "metadata": {
    "collapsed": false
   },
   "outputs": [
    {
     "data": {
      "text/plain": [
       "<matplotlib.axes._subplots.AxesSubplot at 0x7f2c35c8bb10>"
      ]
     },
     "execution_count": 28,
     "metadata": {},
     "output_type": "execute_result"
    },
    {
     "data": {
      "image/png": "[encoded data removed]",
      "text/plain": [
       "<matplotlib.figure.Figure at 0x7f2c35c8b750>"
      ]
     },
     "metadata": {},
     "output_type": "display_data"
    }
   ],
   "source": [
    "nonZeroDf.plot(x='my pipline',y='bam',kind='scatter')"
   ]
  },
  {
   "cell_type": "code",
   "execution_count": 230,
   "metadata": {
    "collapsed": false
   },
   "outputs": [
    {
     "data": {
      "text/plain": [
       "<seaborn.axisgrid.JointGrid at 0x7f6387be4090>"
      ]
     },
     "execution_count": 230,
     "metadata": {},
     "output_type": "execute_result"
    },
    {
     "data": {
      "image/png": "[encoded data removed]",
      "text/plain": [
       "<matplotlib.figure.Figure at 0x7f6387be4110>"
      ]
     },
     "metadata": {},
     "output_type": "display_data"
    }
   ],
   "source": [
    "sns.jointplot(data=nonZeroDf,x='my pipline',y='epigenome roadmap pipeline',kind='scatter',size=5)"
   ]
  },
  {
   "cell_type": "code",
   "execution_count": 188,
   "metadata": {
    "collapsed": false
   },
   "outputs": [
    {
     "name": "stdout",
     "output_type": "stream",
     "text": [
      "SRR458459.24991\t0\tchr1\t155606334\t35\t36M\t*\t0\t0\tACTGATACCCATTTGCATAAGAATAAGCCTGGGGAC\tCCCFFFFFHHHHHJJJJJFHHIIJJJJJJJJJJJJJ\tAS:i:0\tXS:i:-11\tXN:i:0\tXM:i:0\tXO:i:0\tXG:i:0\tNM:i:0\tMD:Z:36\tYT:Z:UU\r\n",
      "SRR458459.24992\t0\tchr11\t25646441\t42\t36M\t*\t0\t0\tTCAAGGTGGAGCTCCATTGATTGGTTTAGTATTCAA\tBBCFFFADHHHHHJJIJJCACHHJCGIHIAFIIJJJ\tAS:i:0\tXN:i:0\tXM:i:0\tXO:i:0\tXG:i:0\tNM:i:0\tMD:Z:36\tYT:Z:UU\r\n",
      "SRR458459.24993\t0\tchr17\t22248958\t0\t36M\t*\t0\t0\tTTTCCTGTGATGACTGCATTCAACTCACAGAGGTGA\tCCCFFFFFHHHHHJJJJJIAFHIGIEJIJJJJJCGH\tAS:i:-11\tXS:i:-11\tXN:i:0\tXM:i:2\tXO:i:0\tXG:i:0\tNM:i:2\tMD:Z:3T28T3\tYT:Z:UU\r\n",
      "SRR458459.24994\t0\tchr14\t19244945\t1\t36M\t*\t0\t0\tCTGGAATTCTACATGACGGACAAACCCTCAGAACCT\tCCCFFFFFHHHHHJJJJJFCFHIJIIJJJIJJJJIH\tAS:i:0\tXS:i:0\tXN:i:0\tXM:i:0\tXO:i:0\tXG:i:0\tNM:i:0\tMD:Z:36\tYT:Z:UU\r\n",
      "SRR458459.24995\t16\tchr6\t138010846\t42\t36M\t*\t0\t0\tTAACTGAAGTGGAAAGGTCAGGATAAAATGTCAGCA\tIIHJJJJJJJIJJIHFFAJJJJJHHHHHFFFFFCCC\tAS:i:0\tXN:i:0\tXM:i:0\tXO:i:0\tXG:i:0\tNM:i:0\tMD:Z:36\tYT:Z:UU\r\n",
      "SRR458459.24996\t16\tchr6\t27342918\t42\t36M\t*\t0\t0\tTAAGACGTGCAACTGACACTCAGCGCGCGGAGGAGC\tFIIHDIIHBAGBGFB:::JJJJJHHHHHFFFFFCCC\tAS:i:0\tXN:i:0\tXM:i:0\tXO:i:0\tXG:i:0\tNM:i:0\tMD:Z:36\tYT:Z:UU\r\n",
      "SRR458459.24997\t16\tchr3\t128809481\t31\t33M\t*\t0\t0\tGTGGGTCTCATGGCTCTAGCTCTGCTGCTCTGT\tJIJJIIJIIJIIHACIJJJJHHHHHFFFFFCCC\tAS:i:0\tXS:i:-6\tXN:i:0\tXM:i:0\tXO:i:0\tXG:i:0\tNM:i:0\tMD:Z:33\tYT:Z:UU\r\n",
      "SRR458459.24998\t16\tchr4\t5390836\t42\t36M\t*\t0\t0\tTATAAGACAGAACTACATTATTAGGCTGTGTGTACA\tIJJIHHHJJJJJHFAFCFJJJJJHHHHHFFFFFCCC\tAS:i:0\tXN:i:0\tXM:i:0\tXO:i:0\tXG:i:0\tNM:i:0\tMD:Z:36\tYT:Z:UU\r\n",
      "SRR458459.24999\t16\tchr6\t95535587\t1\t36M\t*\t0\t0\tGGAAAAAATGTTAAGGGCAGCCAGAGAGAAAGGTCG\tIGGIGIJIEJJIHHGGFCGIIGGFHDGHFFFFF@CC\tAS:i:0\tXS:i:0\tXN:i:0\tXM:i:0\tXO:i:0\tXG:i:0\tNM:i:0\tMD:Z:36\tYT:Z:UU\r\n",
      "SRR458459.25000\t0\tchr2\t1625304\t42\t36M\t*\t0\t0\tGGGATAAAGAGGTGAACGAGACGCTGACCGAGTCTT\tCCCFFFFFHHHHFIJJJJFCFHHIHIJIJJJJDHII\tAS:i:0\tXN:i:0\tXM:i:0\tXO:i:0\tXG:i:0\tNM:i:0\tMD:Z:36\tYT:Z:UU\r\n"
     ]
    }
   ],
   "source": [
    "!tail ./out.sam"
   ]
  },
  {
   "cell_type": "code",
   "execution_count": null,
   "metadata": {
    "collapsed": true
   },
   "outputs": [],
   "source": [
    "from multiprocessing import Process\n",
    "import os\n",
    "def stratChildren(cmd):\n",
    "    def f():\n",
    "        os.system(cmd) \n",
    "    p = Process(target=f)\n",
    "    p.start()\n",
    "    return p\n",
    "stratChildren('./infin.sh')"
   ]
  },
  {
   "cell_type": "code",
   "execution_count": 66,
   "metadata": {
    "collapsed": true
   },
   "outputs": [],
   "source": [
    "import pandas as pd"
   ]
  },
  {
   "cell_type": "code",
   "execution_count": 70,
   "metadata": {
    "collapsed": false
   },
   "outputs": [],
   "source": [
    "#pd.read_csv('/cellar/users/btsui/Data/SRA/all_seq/chip/SRR458459.bin.co\"unt.txt.gz',sep='\\t')"
   ]
  },
  {
   "cell_type": "code",
   "execution_count": null,
   "metadata": {
    "collapsed": true
   },
   "outputs": [],
   "source": [
    "#bamCoverage -b reads.bam -o coverage.bg –binSize 20 –outFileFormat 'bedgraph'\n",
    "#samtools index file_sorted.bam\n",
    "#bamCoverage -b file_sorted.bam -o coverage.bg --binSize 20 --outFileFormat 'bedgraph'"
   ]
  },
  {
   "cell_type": "code",
   "execution_count": 71,
   "metadata": {
    "collapsed": false
   },
   "outputs": [
    {
     "data": {
      "text/plain": [
       "u'/cellar/users/btsui/Project/METAMAP/notebook/RapMapTest/Chip-seq'"
      ]
     },
     "execution_count": 71,
     "metadata": {},
     "output_type": "execute_result"
    }
   ],
   "source": [
    "#bamCoverage -b "
   ]
  },
  {
   "cell_type": "code",
   "execution_count": null,
   "metadata": {
    "collapsed": true
   },
   "outputs": [],
   "source": []
  }
 ],
 "metadata": {
  "kernelspec": {
   "display_name": "Python 2",
   "language": "python",
   "name": "python2"
  },
  "language_info": {
   "codemirror_mode": {
    "name": "ipython",
    "version": 2
   },
   "file_extension": ".py",
   "mimetype": "text/x-python",
   "name": "python",
   "nbconvert_exporter": "python",
   "pygments_lexer": "ipython2",
   "version": "2.7.13"
  }
 },
 "nbformat": 4,
 "nbformat_minor": 0
}
