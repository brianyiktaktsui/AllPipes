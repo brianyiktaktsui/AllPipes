{
 "cells": [
  {
   "cell_type": "code",
   "execution_count": 1,
   "metadata": {
    "collapsed": false
   },
   "outputs": [
    {
     "name": "stdout",
     "output_type": "stream",
     "text": [
      "Aligned.out.sam\t\t      NCBI_RSYNC\r\n",
      "AllenBrain\t\t      nrnb01\r\n",
      "BOWTIE2\t\t\t      nrnb01_nobackup\r\n",
      "database\t\t      OntologyOBO\r\n",
      "Erica\t\t\t      Project\r\n",
      "firehose\t\t      RAPMAP_INDEX\r\n",
      "Genome\t\t\t      SAILFISH_TRANSCRIPTOME_INDEX\r\n",
      "GEO\t\t\t      SAILFISH_TRANSCRIPTOME_INDEX_V7\r\n",
      "GEO_META_DATA_XML\t      sgeOut\r\n",
      "GTEx\t\t\t      SRA\r\n",
      "IDConversionTable\t      STAR\r\n",
      "IsoformLevelData(Chrisitian)  _STARtmp\r\n",
      "Log.out\t\t\t      TCGA\r\n",
      "Log.progress.out\t      tmp\r\n",
      "METAMAP\t\t\t      Wei\r\n",
      "MGI\r\n"
     ]
    }
   ],
   "source": [
    "!ls /cellar/users/btsui/Data/Project/Skymap/"
   ]
  },
  {
   "cell_type": "code",
   "execution_count": null,
   "metadata": {
    "collapsed": true
   },
   "outputs": [],
   "source": [
    "'/cellar/users/btsui/Data/Project/Skymap/ChipSeq/EpigenomeRoadmap/'"
   ]
  },
  {
   "cell_type": "code",
   "execution_count": 3,
   "metadata": {
    "collapsed": true
   },
   "outputs": [],
   "source": [
    "#!mkdir /cellar/users/btsui/Data/Project/Skymap/ChipSeq/EpigenomeRoadmap"
   ]
  },
  {
   "cell_type": "code",
   "execution_count": 5,
   "metadata": {
    "collapsed": false
   },
   "outputs": [],
   "source": [
    "import pandas as pd"
   ]
  },
  {
   "cell_type": "code",
   "execution_count": 128,
   "metadata": {
    "collapsed": false
   },
   "outputs": [],
   "source": [
    "inDf=pd.read_csv('samples.csv').dropna()"
   ]
  },
  {
   "cell_type": "code",
   "execution_count": 129,
   "metadata": {
    "collapsed": false
   },
   "outputs": [],
   "source": [
    "baseFtp='ftp://ftp.ncbi.nlm.nih.gov/'\n"
   ]
  },
  {
   "cell_type": "code",
   "execution_count": 130,
   "metadata": {
    "collapsed": false
   },
   "outputs": [],
   "source": [
    "ignoreList=['Bisulfite-Seq','RRBS','mRNA-Seq','Digital genomic footprinting']\n",
    "downloadDf=inDf[~inDf['Experiment'].isin(ignoreList)]\n"
   ]
  },
  {
   "cell_type": "code",
   "execution_count": 131,
   "metadata": {
    "collapsed": false
   },
   "outputs": [],
   "source": [
    "#downloadDf"
   ]
  },
  {
   "cell_type": "code",
   "execution_count": 132,
   "metadata": {
    "collapsed": false
   },
   "outputs": [
    {
     "data": {
      "text/plain": [
       "(1334, 8)"
      ]
     },
     "execution_count": 132,
     "metadata": {},
     "output_type": "execute_result"
    }
   ],
   "source": [
    "from ftplib import FTP\n",
    "import os\n",
    "\n",
    "downloadDf.shape"
   ]
  },
  {
   "cell_type": "code",
   "execution_count": 139,
   "metadata": {
    "collapsed": true
   },
   "outputs": [],
   "source": [
    "outDir='/cellar/users/btsui/Data/Project/Skymap/ChipSeq/EpigenomeRoadmap/'"
   ]
  },
  {
   "cell_type": "code",
   "execution_count": null,
   "metadata": {
    "collapsed": true
   },
   "outputs": [],
   "source": []
  },
  {
   "cell_type": "code",
   "execution_count": null,
   "metadata": {
    "collapsed": false
   },
   "outputs": [],
   "source": [
    "## pull from each \n",
    "\n",
    "#def pullDirectory():\n",
    "for myDir in downloadDf['GEO FTP'].str.replace(baseFtp,''):\n",
    "    ftp = FTP(host='ftp.ncbi.nlm.nih.gov',user='anonymous') \n",
    "    ftp.cwd(myDir)\n",
    "    filesInDir=pd.Series(ftp.nlst())\n",
    "    downloadFiles=filesInDir[filesInDir.str.contains('.wig.gz')]#filter(lambda s:s.endswith('.bed.gz'),ftp.nlst())\n",
    "    oneFile=downloadFiles.sort_values().iloc[0]\n",
    "    processed=oneFile in os.listdir(outDir)\n",
    "    if not processed:\n",
    "        ftp.retrbinary('RETR '+oneFile, open(outDir+oneFile, 'wb').write)\n",
    "        #print os.system('gunzip '+outDir+oneFile)"
   ]
  },
  {
   "cell_type": "code",
   "execution_count": 144,
   "metadata": {
    "collapsed": false
   },
   "outputs": [],
   "source": [
    "#!rm /cellar/users/btsui/Data/Project/Skymap/ChipSeq/EpigenomeRoadmap/GSM521911_UCSD.IMR90.H3K79me2.SK43.bed.gz"
   ]
  },
  {
   "cell_type": "code",
   "execution_count": 142,
   "metadata": {
    "collapsed": false
   },
   "outputs": [
    {
     "data": {
      "text/plain": [
       "'/cellar/users/btsui/Data/Project/Skymap/ChipSeq/EpigenomeRoadmap/GSM521911_UCSD.IMR90.H3K79me2.SK43.bed.gz'"
      ]
     },
     "execution_count": 142,
     "metadata": {},
     "output_type": "execute_result"
    }
   ],
   "source": [
    "outDir+oneFile"
   ]
  },
  {
   "cell_type": "code",
   "execution_count": 120,
   "metadata": {
    "collapsed": false
   },
   "outputs": [],
   "source": []
  },
  {
   "cell_type": "code",
   "execution_count": 118,
   "metadata": {
    "collapsed": false
   },
   "outputs": [
    {
     "data": {
      "text/plain": [
       "'GSM409307_UCSD.H1.H3K4me1.LL228.bed'"
      ]
     },
     "execution_count": 118,
     "metadata": {},
     "output_type": "execute_result"
    }
   ],
   "source": [
    "oneFile.replace('.bed.gz','.bed')"
   ]
  },
  {
   "cell_type": "code",
   "execution_count": 111,
   "metadata": {
    "collapsed": false
   },
   "outputs": [
    {
     "name": "stdout",
     "output_type": "stream",
     "text": [
      "chr1\t10240\t10439\tUCSD.H1.H3K4me1.LL228.SRR018456.5495714\t1\t+\r\n",
      "chr1\t56253\t56452\tUCSD.H1.H3K4me1.LL228.SRR018456.2688963\t1\t+\r\n",
      "chr1\t57376\t57575\tUCSD.H1.H3K4me1.LL228.SRR018456.2184528\t1\t+\r\n",
      "chr1\t139455\t139654\tUCSD.H1.H3K4me1.LL228.SRR018456.4631871\t1\t+\r\n",
      "chr1\t256610\t256809\tUCSD.H1.H3K4me1.LL228.SRR018456.6266608\t1\t+\r\n",
      "chr1\t567566\t567765\tUCSD.H1.H3K4me1.LL228.SRR018456.5556104\t1\t+\r\n",
      "chr1\t567579\t567778\tUCSD.H1.H3K4me1.LL228.SRR018456.6493142\t1\t+\r\n",
      "chr1\t569891\t570090\tUCSD.H1.H3K4me1.LL228.SRR018456.5963739\t1\t+\r\n",
      "chr1\t569903\t570102\tUCSD.H1.H3K4me1.LL228.SRR018456.1268744\t1\t+\r\n",
      "chr1\t680240\t680439\tUCSD.H1.H3K4me1.LL228.SRR018456.5152650\t1\t+\r\n"
     ]
    }
   ],
   "source": [
    "!head /cellar/users/btsui/Data/Project/Skymap/ChipSeq/EpigenomeRoadmap/GSM409307_UCSD.H1.H3K4me1.LL228.bed\n",
    "\n"
   ]
  },
  {
   "cell_type": "code",
   "execution_count": 81,
   "metadata": {
    "collapsed": false
   },
   "outputs": [],
   "source": [
    "### download all the bed and wig files \n"
   ]
  },
  {
   "cell_type": "code",
   "execution_count": 63,
   "metadata": {
    "collapsed": false
   },
   "outputs": [
    {
     "data": {
      "text/plain": [
       "['GSM409307_UCSD.H1.H3K4me1.LL228.bed.gz',\n",
       " 'GSM409307_UCSD.H1.H3K4me1.LL228.wig.gz',\n",
       " 'GSM409307_UCSD.H3K4me1.bam',\n",
       " 'GSM409307_UCSD.H3K4me1.wig.gz']"
      ]
     },
     "execution_count": 63,
     "metadata": {},
     "output_type": "execute_result"
    }
   ],
   "source": [
    "#!ls /cellar/users/btsui/Data/Project/Skymap/ChipSeq/EpigenomeRoadmap/"
   ]
  },
  {
   "cell_type": "code",
   "execution_count": null,
   "metadata": {
    "collapsed": false
   },
   "outputs": [],
   "source": [
    "### use ftp to download??, use wget if the names are consistn \n",
    "#{GSM_ID}_{Center}.{}\n",
    "#need to use ftp to pull out the data (look at how I did it)\n",
    "#"
   ]
  },
  {
   "cell_type": "code",
   "execution_count": 91,
   "metadata": {
    "collapsed": false,
    "scrolled": false
   },
   "outputs": [
    {
     "data": {
      "text/plain": [
       "1334L"
      ]
     },
     "execution_count": 91,
     "metadata": {},
     "output_type": "execute_result"
    }
   ],
   "source": [
    "sizeDf=downloadDf.groupby(\n",
    "    ['Center','Experiment']).size()\n",
    "sizeDf.sum()"
   ]
  },
  {
   "cell_type": "code",
   "execution_count": 97,
   "metadata": {
    "collapsed": false
   },
   "outputs": [
    {
     "data": {
      "text/plain": [
       "266"
      ]
     },
     "execution_count": 97,
     "metadata": {},
     "output_type": "execute_result"
    }
   ],
   "source": [
    "### pull from UCSD and washu\n",
    "import numpy as np\n",
    "(200*1334)/1000"
   ]
  },
  {
   "cell_type": "code",
   "execution_count": 98,
   "metadata": {
    "collapsed": true
   },
   "outputs": [],
   "source": [
    "#2668"
   ]
  },
  {
   "cell_type": "code",
   "execution_count": null,
   "metadata": {
    "collapsed": true
   },
   "outputs": [],
   "source": []
  }
 ],
 "metadata": {
  "kernelspec": {
   "display_name": "Python 2",
   "language": "python",
   "name": "python2"
  },
  "language_info": {
   "codemirror_mode": {
    "name": "ipython",
    "version": 2
   },
   "file_extension": ".py",
   "mimetype": "text/x-python",
   "name": "python",
   "nbconvert_exporter": "python",
   "pygments_lexer": "ipython2",
   "version": "2.7.13"
  }
 },
 "nbformat": 4,
 "nbformat_minor": 0
}
