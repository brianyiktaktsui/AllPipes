{
 "cells": [
  {
   "cell_type": "code",
   "execution_count": 287,
   "metadata": {
    "collapsed": false
   },
   "outputs": [
    {
     "data": {
      "text/plain": [
       "0              Oryza_sativa.fa\n",
       "1             Beta_vulgaris.fa\n",
       "2    Mus_musculus_nodshiltj.fa\n",
       "3      Mus_spretus_spreteij.fa\n",
       "4      Solanum_lycopersicum.fa\n",
       "dtype: object"
      ]
     },
     "execution_count": 287,
     "metadata": {},
     "output_type": "execute_result"
    }
   ],
   "source": [
    "#myFaNames.head()"
   ]
  },
  {
   "cell_type": "code",
   "execution_count": 293,
   "metadata": {
    "collapsed": false
   },
   "outputs": [],
   "source": [
    "import pandas as pd\n",
    "import os\n",
    "\n",
    "clean_fa_dir='/cellar/users/btsui/Data/ensembl/clean/'\n",
    "myFaNames=pd.Series(os.listdir(clean_fa_dir))\n",
    "allValidFas=pd.Series(index=myFaNames.str.replace('.fa$',''),\n",
    "          data=(clean_fa_dir+myFaNames).values)\n",
    "m=allValidFas.index.isin(['Homo_sapiens','Mus_musculus'])\n",
    "myDict=allValidFas#[m]"
   ]
  },
  {
   "cell_type": "code",
   "execution_count": 257,
   "metadata": {
    "collapsed": true
   },
   "outputs": [],
   "source": [
    "\n",
    "#build index\n",
    "#bowtie2-build genomes.fna ecoli\n",
    "\n",
    "#myDict={'Homo_sapiens':'/cellar/users/btsui/Data/Project/KangZhang/refFa/hg19.fa'}\n",
    "\n",
    "#!ls /cellar/users/btsui/Data/RAPMAP_INDEX/HMB/\n",
    "\n",
    "#!rm -r  -lah /cellar/users/btsui/Data/BOWTIE2_GENOME_INDEX/Homo_sapiens/\n",
    "\n",
    "baseGenomesDir='/cellar/users/btsui/Data/BOWTIE2_GENOME_INDEX/'\n",
    "\n",
    "for specie,faDir in  myDict.iteritems():\n",
    "    myDir=baseGenomesDir+specie+'/'\n",
    "    print specie,myDir\n",
    "    if not os.path.exists(myDir):\n",
    "        os.mkdir(myDir)\n",
    "        cmd= 'bowtie2-build --threads 48 '+faDir+' '+myDir\n",
    "        print os.system(cmd)\n",
    "        "
   ]
  },
  {
   "cell_type": "code",
   "execution_count": 292,
   "metadata": {
    "collapsed": false
   },
   "outputs": [],
   "source": [
    "!ls /cellar/users/btsui/Data/BOWTIE2_GENOME_INDEX/"
   ]
  },
  {
   "cell_type": "code",
   "execution_count": 16,
   "metadata": {
    "collapsed": false
   },
   "outputs": [
    {
     "name": "stdout",
     "output_type": "stream",
     "text": [
      "alignSingleEndedBowtie.ipynb\t   parse_sam_input_single_ended.ipynb\r\n",
      "all_out.pickle\t\t\t   parse_sam_input_single_ended.py\r\n",
      "bin_count.pickle\t\t   Process_One.ipynb\r\n",
      "BuildEmptyPickles.ipynb\t\t   samples.csv\r\n",
      "BuildGenomes.ipynb\t\t   SRR458459_bowtie\r\n",
      "chunkUpGenomeInto100MB.ipynb\t   SRR458459_count\r\n",
      "ConvertBedsToWigs.ipynb\t\t   tmp.fq\r\n",
      "DownloadAllEpigenomeRoadmap.ipynb  trim_galore_trimmed.fq\r\n",
      "filter_zero.py\t\t\t   trim_galore_trimming_report.txt\r\n",
      "head.fq\t\t\t\t   TryAnalyzingTheRegions.ipynb\r\n",
      "head.fq_trimming_report.txt\t   Untitled1.ipynb\r\n",
      "head_trimmed.fq\t\t\t   Untitled.ipynb\r\n",
      "out.sam\r\n"
     ]
    }
   ],
   "source": [
    "!ls"
   ]
  },
  {
   "cell_type": "code",
   "execution_count": 18,
   "metadata": {
    "collapsed": false
   },
   "outputs": [
    {
     "name": "stdout",
     "output_type": "stream",
     "text": [
      "/cellar/users/btsui/Project/METAMAP/notebook/RapMapTest/Chip-seq/parse_sam_input_single_ended.py\r\n"
     ]
    }
   ],
   "source": [
    "!echo $PWD/parse_sam_input_single_ended.py"
   ]
  },
  {
   "cell_type": "code",
   "execution_count": 132,
   "metadata": {
    "collapsed": false
   },
   "outputs": [
    {
     "name": "stdout",
     "output_type": "stream",
     "text": [
      "/cellar/users/btsui/Project/METAMAP/notebook/RapMapTest/Chip-seq/.\r\n"
     ]
    }
   ],
   "source": [
    "!echo $PWD/."
   ]
  },
  {
   "cell_type": "code",
   "execution_count": 251,
   "metadata": {
    "collapsed": false
   },
   "outputs": [],
   "source": [
    "!g++ count.cpp "
   ]
  },
  {
   "cell_type": "code",
   "execution_count": 240,
   "metadata": {
    "collapsed": false
   },
   "outputs": [
    {
     "name": "stdout",
     "output_type": "stream",
     "text": [
      "out.sam\r\n"
     ]
    }
   ],
   "source": [
    "!ls out.sam"
   ]
  },
  {
   "cell_type": "code",
   "execution_count": 247,
   "metadata": {
    "collapsed": false
   },
   "outputs": [
    {
     "name": "stdout",
     "output_type": "stream",
     "text": [
      "/cellar/users/btsui/Data/Project/Skymap/ChipSeq/empty_references/Homo_sapiens.size.tsv\r\n",
      "out.sam\r\n"
     ]
    }
   ],
   "source": [
    "!./a.out  /cellar/users/btsui/Data/Project/Skymap/ChipSeq/empty_references/Homo_sapiens.size.tsv out.sam"
   ]
  },
  {
   "cell_type": "code",
   "execution_count": 252,
   "metadata": {
    "collapsed": false
   },
   "outputs": [
    {
     "name": "stdout",
     "output_type": "stream",
     "text": [
      "bin_size: 20\r\n",
      "chr1\t12462531\t1\r\n",
      "chr10\t24925062\t2\r\n",
      "chr11\t37387593\t3\r\n",
      "chr12\t49850124\t4\r\n",
      "chr13\t62312655\t5\r\n",
      "chr14\t74775186\t6\r\n",
      "chr15\t87237717\t7\r\n",
      "chr16\t99700248\t8\r\n",
      "chr17\t112162779\t9\r\n",
      "chr18\t124625310\t10\r\n",
      "chr19\t137087841\t11\r\n",
      "chr2\t149550372\t12\r\n",
      "chr20\t162012903\t13\r\n",
      "chr21\t174475434\t14\r\n",
      "chr22\t186937965\t15\r\n",
      "chr3\t199400496\t16\r\n",
      "chr4\t211863027\t17\r\n",
      "chr5\t224325558\t18\r\n",
      "chr6\t236788089\t19\r\n",
      "chr7\t249250620\t20\r\n",
      "chr8\t261713151\t21\r\n",
      "chr9\t274175682\t22\r\n",
      "chrX\t286638213\t23\r\n",
      "chrY\t299100744\t24\r\n"
     ]
    }
   ],
   "source": [
    "!cat chrom_offset.txt"
   ]
  },
  {
   "cell_type": "code",
   "execution_count": 243,
   "metadata": {
    "collapsed": false
   },
   "outputs": [
    {
     "data": {
      "text/html": [
       "<div>\n",
       "<style>\n",
       "    .dataframe thead tr:only-child th {\n",
       "        text-align: right;\n",
       "    }\n",
       "\n",
       "    .dataframe thead th {\n",
       "        text-align: left;\n",
       "    }\n",
       "\n",
       "    .dataframe tbody tr th {\n",
       "        vertical-align: top;\n",
       "    }\n",
       "</style>\n",
       "<table border=\"1\" class=\"dataframe\">\n",
       "  <thead>\n",
       "    <tr style=\"text-align: right;\">\n",
       "      <th></th>\n",
       "      <th></th>\n",
       "      <th>bin_size: 20</th>\n",
       "    </tr>\n",
       "  </thead>\n",
       "  <tbody>\n",
       "    <tr>\n",
       "      <th>chr1</th>\n",
       "      <th>12462531</th>\n",
       "      <td>1</td>\n",
       "    </tr>\n",
       "    <tr>\n",
       "      <th>chr10</th>\n",
       "      <th>24925062</th>\n",
       "      <td>2</td>\n",
       "    </tr>\n",
       "    <tr>\n",
       "      <th>chr11</th>\n",
       "      <th>37387593</th>\n",
       "      <td>3</td>\n",
       "    </tr>\n",
       "    <tr>\n",
       "      <th>chr12</th>\n",
       "      <th>49850124</th>\n",
       "      <td>4</td>\n",
       "    </tr>\n",
       "    <tr>\n",
       "      <th>chr13</th>\n",
       "      <th>62312655</th>\n",
       "      <td>5</td>\n",
       "    </tr>\n",
       "    <tr>\n",
       "      <th>chr14</th>\n",
       "      <th>74775186</th>\n",
       "      <td>6</td>\n",
       "    </tr>\n",
       "    <tr>\n",
       "      <th>chr15</th>\n",
       "      <th>87237717</th>\n",
       "      <td>7</td>\n",
       "    </tr>\n",
       "    <tr>\n",
       "      <th>chr16</th>\n",
       "      <th>99700248</th>\n",
       "      <td>8</td>\n",
       "    </tr>\n",
       "    <tr>\n",
       "      <th>chr17</th>\n",
       "      <th>112162779</th>\n",
       "      <td>9</td>\n",
       "    </tr>\n",
       "    <tr>\n",
       "      <th>chr18</th>\n",
       "      <th>124625310</th>\n",
       "      <td>10</td>\n",
       "    </tr>\n",
       "    <tr>\n",
       "      <th>chr19</th>\n",
       "      <th>137087841</th>\n",
       "      <td>11</td>\n",
       "    </tr>\n",
       "    <tr>\n",
       "      <th>chr2</th>\n",
       "      <th>149550372</th>\n",
       "      <td>12</td>\n",
       "    </tr>\n",
       "    <tr>\n",
       "      <th>chr20</th>\n",
       "      <th>162012903</th>\n",
       "      <td>13</td>\n",
       "    </tr>\n",
       "    <tr>\n",
       "      <th>chr21</th>\n",
       "      <th>174475434</th>\n",
       "      <td>14</td>\n",
       "    </tr>\n",
       "    <tr>\n",
       "      <th>chr22</th>\n",
       "      <th>186937965</th>\n",
       "      <td>15</td>\n",
       "    </tr>\n",
       "    <tr>\n",
       "      <th>chr3</th>\n",
       "      <th>199400496</th>\n",
       "      <td>16</td>\n",
       "    </tr>\n",
       "    <tr>\n",
       "      <th>chr4</th>\n",
       "      <th>211863027</th>\n",
       "      <td>17</td>\n",
       "    </tr>\n",
       "    <tr>\n",
       "      <th>chr5</th>\n",
       "      <th>224325558</th>\n",
       "      <td>18</td>\n",
       "    </tr>\n",
       "    <tr>\n",
       "      <th>chr6</th>\n",
       "      <th>236788089</th>\n",
       "      <td>19</td>\n",
       "    </tr>\n",
       "    <tr>\n",
       "      <th>chr7</th>\n",
       "      <th>249250620</th>\n",
       "      <td>20</td>\n",
       "    </tr>\n",
       "    <tr>\n",
       "      <th>chr8</th>\n",
       "      <th>261713151</th>\n",
       "      <td>21</td>\n",
       "    </tr>\n",
       "    <tr>\n",
       "      <th>chr9</th>\n",
       "      <th>274175682</th>\n",
       "      <td>22</td>\n",
       "    </tr>\n",
       "    <tr>\n",
       "      <th>chrX</th>\n",
       "      <th>286638213</th>\n",
       "      <td>23</td>\n",
       "    </tr>\n",
       "    <tr>\n",
       "      <th>chrY</th>\n",
       "      <th>299100744</th>\n",
       "      <td>24</td>\n",
       "    </tr>\n",
       "  </tbody>\n",
       "</table>\n",
       "</div>"
      ],
      "text/plain": [
       "                 bin_size: 20\n",
       "chr1  12462531              1\n",
       "chr10 24925062              2\n",
       "chr11 37387593              3\n",
       "chr12 49850124              4\n",
       "chr13 62312655              5\n",
       "chr14 74775186              6\n",
       "chr15 87237717              7\n",
       "chr16 99700248              8\n",
       "chr17 112162779             9\n",
       "chr18 124625310            10\n",
       "chr19 137087841            11\n",
       "chr2  149550372            12\n",
       "chr20 162012903            13\n",
       "chr21 174475434            14\n",
       "chr22 186937965            15\n",
       "chr3  199400496            16\n",
       "chr4  211863027            17\n",
       "chr5  224325558            18\n",
       "chr6  236788089            19\n",
       "chr7  249250620            20\n",
       "chr8  261713151            21\n",
       "chr9  274175682            22\n",
       "chrX  286638213            23\n",
       "chrY  299100744            24"
      ]
     },
     "execution_count": 243,
     "metadata": {},
     "output_type": "execute_result"
    }
   ],
   "source": [
    "import pandas as pd\n",
    "pd.read_csv('chrom_offset.txt',sep='\\t')"
   ]
  },
  {
   "cell_type": "code",
   "execution_count": 256,
   "metadata": {
    "collapsed": false
   },
   "outputs": [],
   "source": [
    "!cp bin.count.txt SRR458459.bin.count.txt"
   ]
  },
  {
   "cell_type": "code",
   "execution_count": 237,
   "metadata": {
    "collapsed": false
   },
   "outputs": [],
   "source": [
    "#!tail out.sam"
   ]
  },
  {
   "cell_type": "code",
   "execution_count": null,
   "metadata": {
    "collapsed": true
   },
   "outputs": [],
   "source": [
    "!cp bin.count.txt "
   ]
  }
 ],
 "metadata": {
  "kernelspec": {
   "display_name": "Python 2",
   "language": "python",
   "name": "python2"
  },
  "language_info": {
   "codemirror_mode": {
    "name": "ipython",
    "version": 2
   },
   "file_extension": ".py",
   "mimetype": "text/x-python",
   "name": "python",
   "nbconvert_exporter": "python",
   "pygments_lexer": "ipython2",
   "version": "2.7.13"
  }
 },
 "nbformat": 4,
 "nbformat_minor": 0
}
