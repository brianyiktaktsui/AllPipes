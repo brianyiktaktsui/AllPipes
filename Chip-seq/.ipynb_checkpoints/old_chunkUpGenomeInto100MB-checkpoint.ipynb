{
 "cells": [
  {
   "cell_type": "code",
   "execution_count": 1,
   "metadata": {
    "collapsed": false
   },
   "outputs": [],
   "source": [
    "### try aligning to genome\n",
    "### \n",
    "from Bio import SeqIO\n",
    "import pandas as pd\n",
    "inDir='/cellar/users/btsui/Data/Project/KangZhang/refFa/hg19.fa'"
   ]
  },
  {
   "cell_type": "code",
   "execution_count": 2,
   "metadata": {
    "collapsed": false
   },
   "outputs": [
    {
     "data": {
      "text/plain": [
       "'\\nmyChrL=[]\\nwith open(inDir, \"rU\") as handle:\\n    for record in SeqIO.parse(handle, \"fasta\"):\\n        print(record.id)\\n        myChrL.append(record.id)\\n        tmpS=pd.Series(list(str(record.seq)))\\n        break\\n'"
      ]
     },
     "execution_count": 2,
     "metadata": {},
     "output_type": "execute_result"
    }
   ],
   "source": [
    "#refGenome=SeqIO.read(inDir,'fasta')\n",
    "#from Bio import SeqIO\n",
    "\"\"\"\n",
    "myChrL=[]\n",
    "with open(inDir, \"rU\") as handle:\n",
    "    for record in SeqIO.parse(handle, \"fasta\"):\n",
    "        print(record.id)\n",
    "        myChrL.append(record.id)\n",
    "        tmpS=pd.Series(list(str(record.seq)))\n",
    "        break\n",
    "\"\"\""
   ]
  },
  {
   "cell_type": "code",
   "execution_count": 3,
   "metadata": {
    "collapsed": false
   },
   "outputs": [],
   "source": [
    "binSize=10**6\n",
    "myDict={}\n",
    "with open(inDir, \"rU\") as handle:\n",
    "    for record in SeqIO.parse(handle, \"fasta\"):\n",
    "        for i in range(0,len(record.seq),binSize):\n",
    "            ub=min([len(record.seq),i+binSize])\n",
    "            lb=i\n",
    "            subStr=record.seq[lb:ub]\n",
    "            name=record.id+':'+str(lb)+'-'+str(ub)\n",
    "            myDict[name]=SeqIO.SeqRecord(seq=subStr,id=name,description='')\n"
   ]
  },
  {
   "cell_type": "code",
   "execution_count": null,
   "metadata": {
    "collapsed": true
   },
   "outputs": [],
   "source": []
  },
  {
   "cell_type": "code",
   "execution_count": 4,
   "metadata": {
    "collapsed": false
   },
   "outputs": [],
   "source": [
    "from Bio import SeqIO\n",
    "#sequences = ...  # add code here\n",
    "sequences=myDict.values()\n",
    "with open(\"/cellar/users/btsui/Data/RAPMAP_INDEX/CHIPSEQ/Homo_sapiens/chunks.fa\", \"w\") as output_handle:\n",
    "    #for name,Id=myDict.iteritems():\n",
    "    SeqIO.write(sequences, output_handle, \"fasta\")"
   ]
  },
  {
   "cell_type": "code",
   "execution_count": 5,
   "metadata": {
    "collapsed": false
   },
   "outputs": [],
   "source": [
    "#rapmap quasiindex -t ref.fa -i ref_index\n",
    "\n",
    "\n",
    "\"/cellar/users/btsui/Data/RAPMAP_INDEX/CHIPSEQ/Homo_sapiens/chunks.fa\"\n",
    "'/cellar/users/btsui/Data/RAPMAP_INDEX/CHIPSEQ/Homo_sapiens/'\n",
    "#rapmap quasiindex -t "
   ]
  },
  {
   "cell_type": "code",
   "execution_count": null,
   "metadata": {
    "collapsed": true
   },
   "outputs": [],
   "source": []
  },
  {
   "cell_type": "code",
   "execution_count": null,
   "metadata": {
    "collapsed": true
   },
   "outputs": [],
   "source": []
  }
 ],
 "metadata": {
  "kernelspec": {
   "display_name": "Python 2",
   "language": "python",
   "name": "python2"
  },
  "language_info": {
   "codemirror_mode": {
    "name": "ipython",
    "version": 2
   },
   "file_extension": ".py",
   "mimetype": "text/x-python",
   "name": "python",
   "nbconvert_exporter": "python",
   "pygments_lexer": "ipython2",
   "version": "2.7.13"
  }
 },
 "nbformat": 4,
 "nbformat_minor": 0
}
