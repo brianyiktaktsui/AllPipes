{
 "cells": [
  {
   "cell_type": "code",
   "execution_count": 6,
   "metadata": {
    "collapsed": true
   },
   "outputs": [],
   "source": [
    "#inDir='/cellar/users/btsui/Data/Project/KangZhang/refFa/hg19.fa'\n",
    "## index the bowtie genome \n",
    "import os"
   ]
  },
  {
   "cell_type": "markdown",
   "metadata": {},
   "source": [
    "### download the sra file"
   ]
  },
  {
   "cell_type": "code",
   "execution_count": 7,
   "metadata": {
    "collapsed": true
   },
   "outputs": [],
   "source": [
    "srrRun='SRR458459'"
   ]
  },
  {
   "cell_type": "code",
   "execution_count": 8,
   "metadata": {
    "collapsed": true
   },
   "outputs": [],
   "source": [
    "SRA_FASTQ_TOOL_DIR=\"/cellar/users/btsui/Program/SRA_TOOL_KIT/sratoolkit.2.4.2-ubuntu64/bin/fastq-dump.2.4.2\"\n",
    "\n",
    "myoption=r'\"/cellar/users/btsui/.aspera/connect/bin/ascp|/cellar/users/btsui/.aspera/connect/etc/asperaweb_id_dsa.openssh\"'\n",
    "downloadCommand=['prefetch','-t','ascp','--ascp-path',myoption,' --ascp-options \"-l 200000\" ',srrRun]"
   ]
  },
  {
   "cell_type": "code",
   "execution_count": null,
   "metadata": {
    "collapsed": true
   },
   "outputs": [],
   "source": []
  },
  {
   "cell_type": "code",
   "execution_count": 9,
   "metadata": {
    "collapsed": false
   },
   "outputs": [],
   "source": [
    "#for srrRun in srrRuns:\n",
    "#print os.system(' '.joins(downloadCommand))"
   ]
  },
  {
   "cell_type": "code",
   "execution_count": 10,
   "metadata": {
    "collapsed": false
   },
   "outputs": [],
   "source": [
    "#trimDir='/cellar/users/btsui/Program/TRIMAGLORE//trim_galore'\n",
    "\n",
    "#[trimDir,extra_trim_param,myTmpDir+srrId+'_1.fastq']"
   ]
  },
  {
   "cell_type": "code",
   "execution_count": 11,
   "metadata": {
    "collapsed": true
   },
   "outputs": [],
   "source": [
    "base_sra_dir='/tmp/btsui/METH/sra/'\n"
   ]
  },
  {
   "cell_type": "code",
   "execution_count": 12,
   "metadata": {
    "collapsed": true
   },
   "outputs": [],
   "source": [
    "trim_galore_Dir='/cellar/users/btsui/Program/TRIMAGLORE//trim_galore'"
   ]
  },
  {
   "cell_type": "code",
   "execution_count": null,
   "metadata": {
    "collapsed": true
   },
   "outputs": [],
   "source": []
  },
  {
   "cell_type": "code",
   "execution_count": 13,
   "metadata": {
    "collapsed": false
   },
   "outputs": [
    {
     "data": {
      "text/plain": [
       "0"
      ]
     },
     "execution_count": 13,
     "metadata": {},
     "output_type": "execute_result"
    }
   ],
   "source": [
    "#check the output how it looks like \n",
    "myCmd='{sra_dump_dir} --stdout {sra_file_dir} |head -n 10000 > head.fq'.format(sra_dump_dir=SRA_FASTQ_TOOL_DIR,\n",
    "                                                     sra_file_dir=base_sra_dir+srrRun+'.sra',trim_galore_Dir=trim_galore_Dir)\n",
    "os.system(myCmd)"
   ]
  },
  {
   "cell_type": "code",
   "execution_count": 14,
   "metadata": {
    "collapsed": false
   },
   "outputs": [
    {
     "data": {
      "text/plain": [
       "0"
      ]
     },
     "execution_count": 14,
     "metadata": {},
     "output_type": "execute_result"
    }
   ],
   "source": [
    "os.system(trim_galore_Dir+' '+'head.fq')"
   ]
  },
  {
   "cell_type": "code",
   "execution_count": 15,
   "metadata": {
    "collapsed": false
   },
   "outputs": [],
   "source": [
    "#trim_galore_Dir+' '+trim_galore_Dir"
   ]
  },
  {
   "cell_type": "code",
   "execution_count": 16,
   "metadata": {
    "collapsed": true
   },
   "outputs": [],
   "source": [
    "import pandas as pd"
   ]
  },
  {
   "cell_type": "code",
   "execution_count": 17,
   "metadata": {
    "collapsed": false
   },
   "outputs": [
    {
     "name": "stderr",
     "output_type": "stream",
     "text": [
      "/cellar/users/btsui/anaconda2/lib/python2.7/site-packages/pandas/core/frame.py:1251: ParserWarning: Falling back to the 'python' engine because the 'c' engine does not support regex separators (separators > 1 char and different from '\\s+' are interpreted as regex); you can avoid this warning by specifying engine='python'.\n",
      "  infer_datetime_format=infer_datetime_format)\n",
      "/cellar/users/btsui/anaconda2/lib/python2.7/site-packages/ipykernel/__main__.py:2: FutureWarning: currently extract(expand=None) means expand=False (return Index/Series/DataFrame) but in a future version of pandas this will be changed to expand=True (return DataFrame)\n",
      "  from ipykernel import kernelapp as app\n"
     ]
    }
   ],
   "source": [
    "fq_trimming_report_S=pd.Series.from_csv('head.fq_trimming_report.txt',index_col=None,sep='\\t\\t\\t\\t\\\\t\\t\\tt')\n",
    "adapter_sequence=fq_trimming_report_S.str.extract(\"Adapter sequence: '(\\w+)'\").dropna().iloc[0]"
   ]
  },
  {
   "cell_type": "code",
   "execution_count": 18,
   "metadata": {
    "collapsed": false
   },
   "outputs": [
    {
     "data": {
      "text/plain": [
       "'<'"
      ]
     },
     "execution_count": 18,
     "metadata": {},
     "output_type": "execute_result"
    }
   ],
   "source": [
    "### make the named pipe, make sure call the later results first.\n",
    "\n",
    "\"\"\"\n",
    "make pipes for each process\n",
    "\n",
    "\"\"\"\n",
    "\"<\"\n"
   ]
  },
  {
   "cell_type": "code",
   "execution_count": 55,
   "metadata": {
    "collapsed": false
   },
   "outputs": [
    {
     "data": {
      "text/plain": [
       "0"
      ]
     },
     "execution_count": 55,
     "metadata": {},
     "output_type": "execute_result"
    }
   ],
   "source": [
    "os.system('rm {srrRun}_bowtie {srrRun}_count'.format(srrRun=srrRun))"
   ]
  },
  {
   "cell_type": "code",
   "execution_count": 56,
   "metadata": {
    "collapsed": false
   },
   "outputs": [
    {
     "data": {
      "text/plain": [
       "0"
      ]
     },
     "execution_count": 56,
     "metadata": {},
     "output_type": "execute_result"
    }
   ],
   "source": [
    "#make named pipe\n",
    "os.system('mkfifo {srrRun}_bowtie {srrRun}_count'.format(srrRun=srrRun))"
   ]
  },
  {
   "cell_type": "code",
   "execution_count": 57,
   "metadata": {
    "collapsed": true
   },
   "outputs": [],
   "source": [
    "#!rm SRR458459_bowtie SRR458459_count"
   ]
  },
  {
   "cell_type": "code",
   "execution_count": 58,
   "metadata": {
    "collapsed": false
   },
   "outputs": [],
   "source": [
    "#os.system('mkfifo {srrRun}_count'.format(srrRun=srrRun))"
   ]
  },
  {
   "cell_type": "code",
   "execution_count": 59,
   "metadata": {
    "collapsed": true
   },
   "outputs": [],
   "source": [
    "\n",
    "specie='Homo_sapiens'\n",
    "baseGenomesDir='/cellar/users/btsui/Data/BOWTIE2_GENOME_INDEX/'\n",
    "genomeDir=baseGenomesDir+specie+'/'"
   ]
  },
  {
   "cell_type": "code",
   "execution_count": 60,
   "metadata": {
    "collapsed": true
   },
   "outputs": [],
   "source": [
    "specie='Homo_sapiens'"
   ]
  },
  {
   "cell_type": "code",
   "execution_count": 61,
   "metadata": {
    "collapsed": false
   },
   "outputs": [
    {
     "data": {
      "text/plain": [
       "'/cellar/users/btsui/Data/Project/Skymap/ChipSeq/empty_references/Homo_sapiens.size.tsv'"
      ]
     },
     "execution_count": 61,
     "metadata": {},
     "output_type": "execute_result"
    }
   ],
   "source": [
    "base_dict_dir='/cellar/users/btsui/Data/Project/Skymap/ChipSeq/empty_references/'\n",
    "my_dict_dir=base_dict_dir+specie+'.size.tsv'\n",
    "#//input: {genome_dict_dir} {sam_input}\n",
    "\n",
    "my_dict_dir"
   ]
  },
  {
   "cell_type": "code",
   "execution_count": 62,
   "metadata": {
    "collapsed": false
   },
   "outputs": [
    {
     "name": "stdout",
     "output_type": "stream",
     "text": [
      "/cellar/users/btsui/Project/METAMAP/notebook/RapMapTest/Chip-seq/a.out /cellar/users/btsui/Data/Project/Skymap/ChipSeq/empty_references/Homo_sapiens.size.tsv SRR458459_count &\n",
      "bowtie2  -x /cellar/users/btsui/Data/BOWTIE2_GENOME_INDEX/Homo_sapiens/ -U SRR458459_bowtie --threads 4 -L 30  > SRR458459_count &\n",
      "/cellar/users/btsui/Program/SRA_TOOL_KIT/sratoolkit.2.4.2-ubuntu64/bin/fastq-dump.2.4.2 --stdout /tmp/btsui/METH/sra/SRR458459.sra |cutadapt -a AGATCGGAAGAGC - > SRR458459_bowtie\n"
     ]
    }
   ],
   "source": [
    "#check for bias in ACGT. \n",
    "adapter_sequence\n",
    "#tail -n 4 input.fastq | cutadapt -a AACCGGTT - > output.fastq\n",
    "#try piping the cut adapt output directly to the data\n",
    "#\n",
    "count_script_dir='/cellar/users/btsui/Project/METAMAP/notebook/RapMapTest/Chip-seq/a.out'\n",
    "#os.system()\n",
    "cmd_0='{count_script_dir} {my_dict_dir} {srrRun}_count &'.format(\n",
    "    count_script_dir=count_script_dir,srrRun=srrRun,my_dict_dir=my_dict_dir)\n",
    "cmd_1='bowtie2  -x {ref} -U {srrRun}_bowtie --threads 4 -L 30  > {srrRun}_count &'.format(ref=genomeDir,srrRun=srrRun)\n",
    "cmd_2='{sra_dump_dir} --stdout {sra_file_dir} |cutadapt -a {adapter_sequence} - > {srrRun}_bowtie'.format(\n",
    "    sra_file_dir=base_sra_dir+srrRun+'.sra',srrRun=srrRun,adapter_sequence=adapter_sequence,sra_dump_dir=SRA_FASTQ_TOOL_DIR)\n",
    "print cmd_0\n",
    "print cmd_1\n",
    "print cmd_2\n"
   ]
  },
  {
   "cell_type": "code",
   "execution_count": 63,
   "metadata": {
    "collapsed": false
   },
   "outputs": [
    {
     "data": {
      "text/plain": [
       "0"
      ]
     },
     "execution_count": 63,
     "metadata": {},
     "output_type": "execute_result"
    }
   ],
   "source": [
    "os.system(cmd_0)"
   ]
  },
  {
   "cell_type": "code",
   "execution_count": 64,
   "metadata": {
    "collapsed": false
   },
   "outputs": [
    {
     "data": {
      "text/plain": [
       "0"
      ]
     },
     "execution_count": 64,
     "metadata": {},
     "output_type": "execute_result"
    }
   ],
   "source": [
    "os.system(cmd_1)"
   ]
  },
  {
   "cell_type": "code",
   "execution_count": 65,
   "metadata": {
    "collapsed": false
   },
   "outputs": [
    {
     "data": {
      "text/plain": [
       "0"
      ]
     },
     "execution_count": 65,
     "metadata": {},
     "output_type": "execute_result"
    }
   ],
   "source": [
    "os.system(cmd_2)"
   ]
  },
  {
   "cell_type": "code",
   "execution_count": 66,
   "metadata": {
    "collapsed": false
   },
   "outputs": [],
   "source": [
    "#!head bin.count.txt"
   ]
  },
  {
   "cell_type": "code",
   "execution_count": 51,
   "metadata": {
    "collapsed": false
   },
   "outputs": [
    {
     "name": "stderr",
     "output_type": "stream",
     "text": [
      "/cellar/users/btsui/anaconda2/lib/python2.7/site-packages/ipykernel/__main__.py:1: ParserWarning: Falling back to the 'python' engine because the 'c' engine does not support regex separators (separators > 1 char and different from '\\s+' are interpreted as regex); you can avoid this warning by specifying engine='python'.\n",
      "  if __name__ == '__main__':\n"
     ]
    },
    {
     "data": {
      "text/plain": [
       "0        [SRR458459.2, 16, chr10, 30148739, 42, 36M, *,...\n",
       "1        [SRR458459.3, 16, chr11, 122591481, 42, 36M, *...\n",
       "2        [SRR458459.4, 16, chr11, 119237808, 42, 36M, *...\n",
       "3        [SRR458459.5, 0, chr5, 135596001, 42, 36M, *, ...\n",
       "4        [SRR458459.6, 0, chr20, 61675763, 42, 33M, *, ...\n",
       "5        [SRR458459.7, 0, chr1, 203591151, 42, 36M, *, ...\n",
       "6        [SRR458459.8, 16, chr17, 72359636, 42, 36M, *,...\n",
       "7        [SRR458459.9, 0, chr19, 46472509, 42, 36M, *, ...\n",
       "8        [SRR458459.10, 16, chr12, 34372629, 42, 36M, *...\n",
       "9        [SRR458459.11, 4, *, 0, 0, *, *, 0, 0, NTGACAA...\n",
       "10       [SRR458459.12, 16, chr11, 62593654, 1, 36M, *,...\n",
       "11       [SRR458459.13, 4, *, 0, 0, *, *, 0, 0, AGCTGTG...\n",
       "12       [SRR458459.14, 4, *, 0, 0, *, *, 0, 0, NCTACTC...\n",
       "13       [SRR458459.15, 0, chr1, 6267643, 42, 36M, *, 0...\n",
       "14       [SRR458459.16, 0, chr12, 3760195, 42, 36M, *, ...\n",
       "15       [SRR458459.17, 16, chr20, 4309518, 42, 36M, *,...\n",
       "16       [SRR458459.18, 16, chr2, 198413736, 31, 36M, *...\n",
       "17       [SRR458459.19, 0, chr15, 98428145, 42, 36M, *,...\n",
       "18       [SRR458459.20, 16, chr2, 7466032, 42, 36M, *, ...\n",
       "19       [SRR458459.21, 16, chrY, 58837484, 1, 36M, *, ...\n",
       "20       [SRR458459.22, 16, chr11, 78777422, 42, 36M, *...\n",
       "21       [SRR458459.23, 16, chr5, 81089761, 42, 36M, *,...\n",
       "22       [SRR458459.24, 0, chr21, 33239057, 42, 36M, *,...\n",
       "23       [SRR458459.25, 0, chr4, 49638275, 0, 36M, *, 0...\n",
       "24       [SRR458459.26, 0, chr4, 20100291, 40, 36M, *, ...\n",
       "25       [SRR458459.27, 4, *, 0, 0, *, *, 0, 0, NGCTTCC...\n",
       "26       [SRR458459.28, 16, chr11, 65751188, 42, 36M, *...\n",
       "27       [SRR458459.29, 0, chr6, 42013697, 42, 36M, *, ...\n",
       "28       [SRR458459.30, 0, chr10, 72787312, 42, 36M, *,...\n",
       "29       [SRR458459.31, 0, chr5, 74508344, 1, 36M, *, 0...\n",
       "                               ...                        \n",
       "24969    [SRR458459.24971, 16, chr12, 100875574, 1, 36M...\n",
       "24970    [SRR458459.24972, 16, chrY, 13648963, 1, 36M, ...\n",
       "24971    [SRR458459.24973, 0, chr11, 95264750, 42, 36M,...\n",
       "24972    [SRR458459.24974, 0, chr1, 13779566, 1, 36M, *...\n",
       "24973    [SRR458459.24975, 0, chr3, 135935946, 42, 36M,...\n",
       "24974    [SRR458459.24976, 0, chr4, 119115751, 34, 36M,...\n",
       "24975    [SRR458459.24977, 0, chr2, 123026588, 42, 36M,...\n",
       "24976    [SRR458459.24978, 0, chr2, 92310128, 1, 36M, *...\n",
       "24977    [SRR458459.24979, 0, chrX, 140587958, 1, 36M, ...\n",
       "24978    [SRR458459.24980, 16, chr4, 49155755, 1, 36M, ...\n",
       "24979    [SRR458459.24981, 16, chr9, 87022172, 42, 36M,...\n",
       "24980    [SRR458459.24982, 0, chr22, 47745987, 0, 36M, ...\n",
       "24981    [SRR458459.24983, 16, chr3, 194224904, 42, 36M...\n",
       "24982    [SRR458459.24984, 16, chr7, 56392571, 42, 36M,...\n",
       "24983    [SRR458459.24985, 0, chr9, 113624276, 39, 36M,...\n",
       "24984    [SRR458459.24986, 16, chr2, 137489919, 42, 36M...\n",
       "24985    [SRR458459.24987, 16, chr3, 49327747, 8, 36M, ...\n",
       "24986    [SRR458459.24988, 16, chr8, 112143713, 42, 36M...\n",
       "24987    [SRR458459.24989, 16, chr7, 42998120, 31, 36M,...\n",
       "24988    [SRR458459.24990, 0, chr10, 71565067, 42, 36M,...\n",
       "24989    [SRR458459.24991, 0, chr1, 155606334, 35, 36M,...\n",
       "24990    [SRR458459.24992, 0, chr11, 25646441, 42, 36M,...\n",
       "24991    [SRR458459.24993, 0, chr17, 22248958, 0, 36M, ...\n",
       "24992    [SRR458459.24994, 0, chr14, 19244945, 1, 36M, ...\n",
       "24993    [SRR458459.24995, 16, chr6, 138010846, 42, 36M...\n",
       "24994    [SRR458459.24996, 16, chr6, 27342918, 42, 36M,...\n",
       "24995    [SRR458459.24997, 16, chr3, 128809481, 31, 33M...\n",
       "24996    [SRR458459.24998, 16, chr4, 5390836, 42, 36M, ...\n",
       "24997    [SRR458459.24999, 16, chr6, 95535587, 1, 36M, ...\n",
       "24998    [SRR458459.25000, 0, chr2, 1625304, 42, 36M, *...\n",
       "Name: SRR458459.1\\t0\\tchr6\\t141395676\\t42\\t36M\\t*\\t0\\t0\\tAGGAATCACCATGGGCAGGGCTGGACTGGGCAGGTC\\t, Length: 24999, dtype: object"
      ]
     },
     "execution_count": 51,
     "metadata": {},
     "output_type": "execute_result"
    }
   ],
   "source": [
    "pd.read_csv('out.sam',sep=' \\t\\t\\t\\t',comment='@').iloc[:,0].str.split('\\t',expand=False)"
   ]
  },
  {
   "cell_type": "code",
   "execution_count": 37,
   "metadata": {
    "collapsed": false
   },
   "outputs": [
    {
     "data": {
      "text/plain": [
       "0"
      ]
     },
     "execution_count": 37,
     "metadata": {},
     "output_type": "execute_result"
    }
   ],
   "source": [
    "os.system(cmd_2)"
   ]
  },
  {
   "cell_type": "code",
   "execution_count": 45,
   "metadata": {
    "collapsed": true
   },
   "outputs": [],
   "source": [
    "baseGenomesDir='/cellar/users/btsui/Data/BOWTIE2_GENOME_INDEX/'"
   ]
  },
  {
   "cell_type": "code",
   "execution_count": null,
   "metadata": {
    "collapsed": true
   },
   "outputs": [],
   "source": [
    "'bowtie2 -x -U '"
   ]
  },
  {
   "cell_type": "code",
   "execution_count": 42,
   "metadata": {
    "collapsed": false
   },
   "outputs": [
    {
     "name": "stdout",
     "output_type": "stream",
     "text": [
      "256\n",
      "0\n",
      "256\n",
      "256\n"
     ]
    }
   ],
   "source": [
    "#use named pipe for the scheme\n",
    "import os\n",
    "process_names=[' bowtie2-align-s','fastq-dump.2.4.', 'cutadapt', 'a.out']\n",
    "for process_name in process_names:\n",
    "    print os.system('pkill '+process_name)"
   ]
  },
  {
   "cell_type": "code",
   "execution_count": null,
   "metadata": {
    "collapsed": true
   },
   "outputs": [],
   "source": [
    "### single and pairended\n",
    "os.system(myCmd)"
   ]
  },
  {
   "cell_type": "code",
   "execution_count": 8,
   "metadata": {
    "collapsed": true
   },
   "outputs": [],
   "source": [
    "###do just the bowtie"
   ]
  },
  {
   "cell_type": "markdown",
   "metadata": {},
   "source": [
    "### detect adaptor types\n",
    "\n",
    "\n",
    "read the first 10,000 lines"
   ]
  },
  {
   "cell_type": "markdown",
   "metadata": {},
   "source": [
    "### trim adaptor"
   ]
  },
  {
   "cell_type": "code",
   "execution_count": null,
   "metadata": {
    "collapsed": true
   },
   "outputs": [],
   "source": [
    "## build the bowtie index first \n",
    "#bowtie2-build genomes.fna ecoli"
   ]
  },
  {
   "cell_type": "markdown",
   "metadata": {},
   "source": [
    "### alignment"
   ]
  },
  {
   "cell_type": "code",
   "execution_count": null,
   "metadata": {
    "collapsed": true
   },
   "outputs": [],
   "source": [
    "baseGenomesDir='/cellar/users/btsui/Data/BOWTIE2_GENOME_INDEX/'"
   ]
  },
  {
   "cell_type": "code",
   "execution_count": null,
   "metadata": {
    "collapsed": true
   },
   "outputs": [],
   "source": []
  },
  {
   "cell_type": "code",
   "execution_count": null,
   "metadata": {
    "collapsed": true
   },
   "outputs": [],
   "source": []
  }
 ],
 "metadata": {
  "kernelspec": {
   "display_name": "Python 2",
   "language": "python",
   "name": "python2"
  },
  "language_info": {
   "codemirror_mode": {
    "name": "ipython",
    "version": 2
   },
   "file_extension": ".py",
   "mimetype": "text/x-python",
   "name": "python",
   "nbconvert_exporter": "python",
   "pygments_lexer": "ipython2",
   "version": "2.7.13"
  }
 },
 "nbformat": 4,
 "nbformat_minor": 0
}
