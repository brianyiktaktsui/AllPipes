{
 "cells": [
  {
   "cell_type": "code",
   "execution_count": 3,
   "metadata": {
    "collapsed": true
   },
   "outputs": [],
   "source": [
    "import os\n",
    "from Bio import SeqIO\n",
    "import numpy as np\n",
    "import pandas as pd"
   ]
  },
  {
   "cell_type": "code",
   "execution_count": 4,
   "metadata": {
    "collapsed": true
   },
   "outputs": [],
   "source": [
    "baseOutDir='/cellar/users/btsui/Data/Project/Skymap/ChipSeq/empty_references/'\n",
    "\n",
    "#myDict={'Homo_sapiens':'/cellar/users/btsui/Data/ensembl/clean/Homo_sapiens.fa'}"
   ]
  },
  {
   "cell_type": "code",
   "execution_count": 5,
   "metadata": {
    "collapsed": false
   },
   "outputs": [],
   "source": [
    "fa_dir='/cellar/users/btsui/Data/ensembl/clean/'\n",
    "fnames=pd.Series(os.listdir(fa_dir))\n",
    "myDict=pd.Series(data=(fa_dir+fnames).values,\n",
    "                       index=fnames.str.split('\\.').str[0])"
   ]
  },
  {
   "cell_type": "code",
   "execution_count": 6,
   "metadata": {
    "collapsed": false
   },
   "outputs": [],
   "source": [
    "#myDict=myDict[myDict.index=='Homo_sapiens']"
   ]
  },
  {
   "cell_type": "code",
   "execution_count": null,
   "metadata": {
    "collapsed": false
   },
   "outputs": [],
   "source": [
    "#from \n",
    "\n",
    "\n",
    "### spit out the data"
   ]
  },
  {
   "cell_type": "code",
   "execution_count": null,
   "metadata": {
    "collapsed": false
   },
   "outputs": [],
   "source": [
    "#binSize=20\n",
    "for mySpecie, faDir in myDict.iteritems():\n",
    "    ###for each specie, generate the data\n",
    "    with open(faDir, \"rU\") as handle:\n",
    "        #myChrNames=[]\n",
    "        #myChrSize=[]\n",
    "        myDict={}\n",
    "        for record in SeqIO.parse(handle, \"fasta\"):\n",
    "            myDict[record.id]=len(record)\n",
    "        pd.Series(myDict).to_csv(baseOutDir+mySpecie+'.size.tsv',sep='\\t')"
   ]
  },
  {
   "cell_type": "code",
   "execution_count": 42,
   "metadata": {
    "collapsed": false
   },
   "outputs": [],
   "source": [
    "#myDict"
   ]
  },
  {
   "cell_type": "code",
   "execution_count": 43,
   "metadata": {
    "collapsed": true
   },
   "outputs": [],
   "source": [
    "tmpDf=pd.read_csv('/cellar/users/btsui/Data/Project/Skymap/ChipSeq/EpigenomeRoadmap_inter/GSM493384_UW.CD34.rep1.ChromatinAccessibility.CD34+-DS12274.bed.gz',sep='\\t',header=None)"
   ]
  },
  {
   "cell_type": "code",
   "execution_count": 29,
   "metadata": {
    "collapsed": false
   },
   "outputs": [
    {
     "data": {
      "text/plain": [
       "'/cellar/users/btsui/Data/Project/Skymap/ChipSeq/empty_references/Homo_sapiens.size.csv'"
      ]
     },
     "execution_count": 29,
     "metadata": {},
     "output_type": "execute_result"
    }
   ],
   "source": [
    "baseOutDir+mySpecie+'.size.csv'"
   ]
  },
  {
   "cell_type": "code",
   "execution_count": 25,
   "metadata": {
    "collapsed": false
   },
   "outputs": [
    {
     "name": "stdout",
     "output_type": "stream",
     "text": [
      "Homo_sapiens,/cellar/users/btsui/Data/Project/KangZhang/refFa/hg19.fa\r\n"
     ]
    }
   ],
   "source": [
    "!cat /cellar/users/btsui/Data/Project/Skymap/ChipSeq/empty_references/Homo_sapiens.size.csv"
   ]
  },
  {
   "cell_type": "markdown",
   "metadata": {},
   "source": [
    "## scratch"
   ]
  },
  {
   "cell_type": "code",
   "execution_count": 21,
   "metadata": {
    "collapsed": false
   },
   "outputs": [],
   "source": [
    "binSize=20\n",
    "for mySpecie, faDir in myDict.iteritems():\n",
    "    ###for each specie, generate the data\n",
    "    with open(faDir, \"rU\") as handle:\n",
    "        myChrNames=[]\n",
    "        myChrBins=[]\n",
    "        \n",
    "        for record in SeqIO.parse(handle, \"fasta\"):\n",
    "            nBp=len(record)\n",
    "            bins=np.arange(0,nBp+100,binSize)\n",
    "            myChrNames.append(record.id)\n",
    "            myChrBins.append(pd.Series(index=bins))\n",
    "            \n",
    "            \n",
    "    myMergedS=pd.concat(myChrBins,keys=myChrNames).sort_index().fillna(0).astype(np.int16)\n",
    "    outDir=baseOutDir+mySpecie+'.pickle'\n",
    "    myMergedS.to_pickle(outDir)"
   ]
  },
  {
   "cell_type": "code",
   "execution_count": 20,
   "metadata": {
    "collapsed": false
   },
   "outputs": [
    {
     "data": {
      "text/plain": [
       "'/cellar/users/btsui/Data/Project/Skymap/ChipSeq/empty_references/Homo_sapiens.pickle'"
      ]
     },
     "execution_count": 20,
     "metadata": {},
     "output_type": "execute_result"
    }
   ],
   "source": []
  },
  {
   "cell_type": "code",
   "execution_count": null,
   "metadata": {
    "collapsed": true
   },
   "outputs": [],
   "source": [
    "### for the data structure, figure out how the data is supposed to go???"
   ]
  }
 ],
 "metadata": {
  "kernelspec": {
   "display_name": "Python 2",
   "language": "python",
   "name": "python2"
  }
 },
 "nbformat": 4,
 "nbformat_minor": 0
}
