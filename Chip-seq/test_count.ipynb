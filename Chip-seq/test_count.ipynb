{
 "cells": [
  {
   "cell_type": "code",
   "execution_count": 32,
   "metadata": {
    "collapsed": false
   },
   "outputs": [],
   "source": [
    "!g++ count.cpp"
   ]
  },
  {
   "cell_type": "code",
   "execution_count": 33,
   "metadata": {
    "collapsed": false
   },
   "outputs": [
    {
     "name": "stdout",
     "output_type": "stream",
     "text": [
      "/cellar/users/btsui/Data/Project/Skymap/ChipSeq/empty_references/Homo_sapiens.size.tsv\r\n",
      "out.sam\r\n"
     ]
    }
   ],
   "source": [
    "!./a.out  /cellar/users/btsui/Data/Project/Skymap/ChipSeq/empty_references/Homo_sapiens.size.tsv out.sam"
   ]
  },
  {
   "cell_type": "code",
   "execution_count": 34,
   "metadata": {
    "collapsed": false
   },
   "outputs": [
    {
     "name": "stdout",
     "output_type": "stream",
     "text": [
      "chr1\t121484100\t7\r\n",
      "chr1\t121484120\t7\r\n",
      "chr1\t121484600\t6\r\n",
      "chr1\t121485160\t6\r\n",
      "chr1\t121485180\t10\r\n",
      "chr1\t121485200\t8\r\n",
      "chr1\t121485400\t6\r\n",
      "chr10\t38881960\t7\r\n",
      "chr10\t42379880\t7\r\n",
      "chr10\t42379900\t8\r\n",
      "chr10\t42380240\t15\r\n",
      "chr10\t42380260\t14\r\n",
      "chr10\t42384700\t7\r\n",
      "chr10\t42384720\t10\r\n",
      "chr10\t42384740\t5\r\n",
      "chr10\t42391040\t5\r\n",
      "chr10\t42392700\t8\r\n",
      "chr10\t42392720\t8\r\n",
      "chr10\t42393380\t7\r\n",
      "chr10\t42393400\t7\r\n",
      "chr2\t89875300\t8\r\n",
      "chr2\t89875320\t5\r\n",
      "chr2\t89878440\t5\r\n",
      "chr3\t196625680\t5\r\n",
      "chr4\t49151200\t7\r\n",
      "chr4\t49151760\t5\r\n",
      "chrY\t13842700\t5\r\n",
      "chrY\t13842720\t5\r\n"
     ]
    }
   ],
   "source": [
    "!cat bin.count.txt "
   ]
  },
  {
   "cell_type": "code",
   "execution_count": null,
   "metadata": {
    "collapsed": true
   },
   "outputs": [],
   "source": []
  },
  {
   "cell_type": "code",
   "execution_count": null,
   "metadata": {
    "collapsed": true
   },
   "outputs": [],
   "source": []
  }
 ],
 "metadata": {
  "kernelspec": {
   "display_name": "Python 2",
   "language": "python",
   "name": "python2"
  },
  "language_info": {
   "codemirror_mode": {
    "name": "ipython",
    "version": 2
   },
   "file_extension": ".py",
   "mimetype": "text/x-python",
   "name": "python",
   "nbconvert_exporter": "python",
   "pygments_lexer": "ipython2",
   "version": "2.7.13"
  }
 },
 "nbformat": 4,
 "nbformat_minor": 0
}
