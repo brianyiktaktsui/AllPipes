{
 "cells": [
  {
   "cell_type": "code",
   "execution_count": 134,
   "metadata": {
    "collapsed": false
   },
   "outputs": [],
   "source": [
    "import pandas as pd\n",
    "import os\n",
    "from multiprocessing import Pool\n",
    "#%matplotlib inline\n",
    "\n",
    "outDir='/cellar/users/btsui/Data/Project/Skymap/ChipSeq/EpigenomeRoadmap/'\n",
    "all_fnameS=pd.Series(os.listdir(outDir))\n",
    "fnameS=all_fnameS[all_fnameS.str.contains('.wig.gz$')]\n",
    "\n",
    "bedOutDir='/cellar/users/btsui/Data/Project/Skymap/ChipSeq/EpigenomeRoadmap_inter/'\n",
    "#os.mkdir(bedOutDir)\n",
    "\n",
    "myCmdFmt=\"gunzip -c {inFname}  | wig2bed  --do-not-sort | ./filter_zero.py |gzip > {outFname}\"\n",
    "\n",
    "#myFname=fnameS[fnameS.str.contains('.wig.gz$')].iloc[0]\n",
    "\n",
    "CWD='/cellar/users/btsui/Project/METAMAP/notebook/RapMapTest/Chip-seq'\n",
    "os.chdir(CWD)\n",
    "\n",
    "inFnames=fnameS[fnameS.str.contains('.wig.gz$')].values\n",
    "\n",
    "#!wig2bed\n",
    "def wigToBed(myFname):\n",
    "    myCmd=myCmdFmt.format(inFname=outDir+myFname,outFname=bedOutDir+myFname.replace('.wig.gz','.bed.gz'))\n",
    "    return os.system(myCmd)\n",
    "\n",
    "\n",
    "\n",
    "p=Pool(48)\n",
    "p.map(wigToBed,inFnames)"
   ]
  },
  {
   "cell_type": "code",
   "execution_count": null,
   "metadata": {
    "collapsed": true
   },
   "outputs": [],
   "source": []
  },
  {
   "cell_type": "code",
   "execution_count": 63,
   "metadata": {
    "collapsed": false
   },
   "outputs": [],
   "source": [
    "#myCmd=myCmdFmt.format(inFname=outDir+myFname,outFname=bedOutDir+myFname.replace('.wig.gz','.bed.gz'))"
   ]
  },
  {
   "cell_type": "markdown",
   "metadata": {
    "collapsed": false
   },
   "source": [
    "### scratch"
   ]
  },
  {
   "cell_type": "code",
   "execution_count": null,
   "metadata": {
    "collapsed": true
   },
   "outputs": [],
   "source": [
    "tmpDf=pd.read_csv(outDir+myFname,sep='\\t',header=None)"
   ]
  },
  {
   "cell_type": "code",
   "execution_count": 7,
   "metadata": {
    "collapsed": false,
    "scrolled": true
   },
   "outputs": [
    {
     "data": {
      "text/plain": [
       "<matplotlib.axes._subplots.AxesSubplot at 0x7f4996d62490>"
      ]
     },
     "execution_count": 7,
     "metadata": {},
     "output_type": "execute_result"
    },
    {
     "data": {
      "image/png": "[encoded data removed]",
      "text/plain": [
       "<matplotlib.figure.Figure at 0x7f49bc990290>"
      ]
     },
     "metadata": {},
     "output_type": "display_data"
    }
   ],
   "source": [
    "(tmpDf.end-tmpDf.start).hist()"
   ]
  },
  {
   "cell_type": "code",
   "execution_count": 8,
   "metadata": {
    "collapsed": false
   },
   "outputs": [
    {
     "data": {
      "text/plain": [
       "(40071384, 5)"
      ]
     },
     "execution_count": 8,
     "metadata": {},
     "output_type": "execute_result"
    }
   ],
   "source": [
    "tmpDf.shape"
   ]
  },
  {
   "cell_type": "code",
   "execution_count": 53,
   "metadata": {
    "collapsed": false
   },
   "outputs": [],
   "source": [
    "#!chmod u+x ./filter_zero.py"
   ]
  },
  {
   "cell_type": "code",
   "execution_count": 54,
   "metadata": {
    "collapsed": false
   },
   "outputs": [
    {
     "name": "stdout",
     "output_type": "stream",
     "text": [
      "/cellar/users/btsui/Project/METAMAP/notebook/RapMapTest/Chip-seq/filter_zero.py\r\n"
     ]
    }
   ],
   "source": [
    "!echo $PWD/filter_zero.py"
   ]
  },
  {
   "cell_type": "code",
   "execution_count": 5,
   "metadata": {
    "collapsed": true
   },
   "outputs": [],
   "source": [
    "tmpDf=pd.read_csv('/cellar/users/btsui/Data/Project/Skymap/ChipSeq/EpigenomeRoadmap_inter/GSM493384_UW.CD34.rep1.ChromatinAccessibility.CD34+-DS12274.bed.gz',sep='\\t',header=None)"
   ]
  },
  {
   "cell_type": "code",
   "execution_count": null,
   "metadata": {
    "collapsed": true
   },
   "outputs": [],
   "source": []
  },
  {
   "cell_type": "code",
   "execution_count": 6,
   "metadata": {
    "collapsed": false
   },
   "outputs": [],
   "source": [
    "tmpDf.columns=['Chr','Start','End','Count']"
   ]
  },
  {
   "cell_type": "code",
   "execution_count": 7,
   "metadata": {
    "collapsed": false
   },
   "outputs": [],
   "source": [
    "VC=tmpDf.Count.value_counts()"
   ]
  },
  {
   "cell_type": "code",
   "execution_count": 11,
   "metadata": {
    "collapsed": false
   },
   "outputs": [
    {
     "data": {
      "text/plain": [
       "(14341948, 4)"
      ]
     },
     "execution_count": 11,
     "metadata": {},
     "output_type": "execute_result"
    }
   ],
   "source": [
    "tmpDf.shape"
   ]
  },
  {
   "cell_type": "code",
   "execution_count": 105,
   "metadata": {
    "collapsed": false
   },
   "outputs": [],
   "source": [
    "#ignore those with 1 and 2\n",
    "subDf=tmpDf[tmpDf.Count>=10]\n",
    "diffS=subDf.End.diff()\n",
    "m=(diffS<=100)&(diffS>0)\n",
    "diffS.loc[m]=20.0"
   ]
  },
  {
   "cell_type": "code",
   "execution_count": 106,
   "metadata": {
    "collapsed": false
   },
   "outputs": [
    {
     "name": "stderr",
     "output_type": "stream",
     "text": [
      "/cellar/users/btsui/anaconda2/lib/python2.7/site-packages/ipykernel/__main__.py:1: SettingWithCopyWarning: \n",
      "A value is trying to be set on a copy of a slice from a DataFrame.\n",
      "Try using .loc[row_indexer,col_indexer] = value instead\n",
      "\n",
      "See the caveats in the documentation: http://pandas.pydata.org/pandas-docs/stable/indexing.html#indexing-view-versus-copy\n",
      "  if __name__ == '__main__':\n"
     ]
    }
   ],
   "source": [
    "subDf['Diff']=diffS"
   ]
  },
  {
   "cell_type": "code",
   "execution_count": 107,
   "metadata": {
    "collapsed": false
   },
   "outputs": [],
   "source": [
    "m=(subDf.Diff!=20.0)#not contingous\n",
    "subDf.loc[m,'Group']=subDf.loc[m].index"
   ]
  },
  {
   "cell_type": "code",
   "execution_count": 108,
   "metadata": {
    "collapsed": false
   },
   "outputs": [
    {
     "name": "stderr",
     "output_type": "stream",
     "text": [
      "/cellar/users/btsui/anaconda2/lib/python2.7/site-packages/ipykernel/__main__.py:1: SettingWithCopyWarning: \n",
      "A value is trying to be set on a copy of a slice from a DataFrame.\n",
      "Try using .loc[row_indexer,col_indexer] = value instead\n",
      "\n",
      "See the caveats in the documentation: http://pandas.pydata.org/pandas-docs/stable/indexing.html#indexing-view-versus-copy\n",
      "  if __name__ == '__main__':\n"
     ]
    }
   ],
   "source": [
    "subDf['Clean_Group']=subDf.Group.fillna(method='ffill')"
   ]
  },
  {
   "cell_type": "code",
   "execution_count": 109,
   "metadata": {
    "collapsed": false
   },
   "outputs": [],
   "source": [
    "g=subDf.groupby(['Clean_Group'])\n",
    "groupStartS=g.Start.first()\n"
   ]
  },
  {
   "cell_type": "code",
   "execution_count": 110,
   "metadata": {
    "collapsed": false
   },
   "outputs": [],
   "source": [
    "groupDf=pd.DataFrame({'Start':g.Start.first(),\n",
    "             'End':g.End.last(),\n",
    "             'Chr':g.Chr.first()})"
   ]
  },
  {
   "cell_type": "code",
   "execution_count": 116,
   "metadata": {
    "collapsed": false
   },
   "outputs": [
    {
     "data": {
      "text/plain": [
       "0.8257502256317689"
      ]
     },
     "execution_count": 116,
     "metadata": {},
     "output_type": "execute_result"
    }
   ],
   "source": [
    "146389/177280.0"
   ]
  },
  {
   "cell_type": "code",
   "execution_count": 117,
   "metadata": {
    "collapsed": false
   },
   "outputs": [
    {
     "data": {
      "text/plain": [
       "(146389, 3)"
      ]
     },
     "execution_count": 117,
     "metadata": {},
     "output_type": "execute_result"
    }
   ],
   "source": [
    "groupDf.shape"
   ]
  },
  {
   "cell_type": "code",
   "execution_count": 121,
   "metadata": {
    "collapsed": false
   },
   "outputs": [],
   "source": [
    "#groupDf"
   ]
  },
  {
   "cell_type": "code",
   "execution_count": 131,
   "metadata": {
    "collapsed": false
   },
   "outputs": [
    {
     "data": {
      "text/plain": [
       "<matplotlib.text.Text at 0x7f064b4d4ad0>"
      ]
     },
     "execution_count": 131,
     "metadata": {},
     "output_type": "execute_result"
    },
    {
     "data": {
      "image/png": "[encoded data removed]",
      "text/plain": [
       "<matplotlib.figure.Figure at 0x7f064d3e3190>"
      ]
     },
     "metadata": {},
     "output_type": "display_data"
    }
   ],
   "source": [
    "ax=np.log10( (groupDf.End-groupDf.Start)).hist()\n",
    "ax.set_xlabel('bin width (log10 scale)')\n",
    "ax.set_ylabel('# of bins')"
   ]
  },
  {
   "cell_type": "code",
   "execution_count": null,
   "metadata": {
    "collapsed": false
   },
   "outputs": [],
   "source": []
  },
  {
   "cell_type": "code",
   "execution_count": 130,
   "metadata": {
    "collapsed": false
   },
   "outputs": [
    {
     "name": "stderr",
     "output_type": "stream",
     "text": [
      "/cellar/users/btsui/anaconda2/lib/python2.7/site-packages/ipykernel/__main__.py:2: RuntimeWarning: invalid value encountered in log10\n",
      "  from ipykernel import kernelapp as app\n"
     ]
    },
    {
     "data": {
      "text/plain": [
       "<matplotlib.text.Text at 0x7f064d1babd0>"
      ]
     },
     "execution_count": 130,
     "metadata": {},
     "output_type": "execute_result"
    },
    {
     "data": {
      "image/png": "[encoded data removed]",
      "text/plain": [
       "<matplotlib.figure.Figure at 0x7f064b606190>"
      ]
     },
     "metadata": {},
     "output_type": "display_data"
    }
   ],
   "source": [
    "import numpy as np\n",
    "ax=np.log10(diffS[diffS!=20.0]).hist()\n",
    "ax.set_xlabel('distance to last bin (log10 scale)')\n",
    "ax.set_ylabel('# of bins')"
   ]
  },
  {
   "cell_type": "code",
   "execution_count": 38,
   "metadata": {
    "collapsed": false
   },
   "outputs": [
    {
     "name": "stdout",
     "output_type": "stream",
     "text": [
      "number of break point: 177280\n"
     ]
    }
   ],
   "source": [
    "print 'number of break point:',(diffS!=20.0).sum()"
   ]
  },
  {
   "cell_type": "code",
   "execution_count": 90,
   "metadata": {
    "collapsed": false
   },
   "outputs": [
    {
     "data": {
      "text/plain": [
       "6637959    -247050380.0\n",
       "8654150    -242534380.0\n",
       "9578523    -199385880.0\n",
       "10267466   -191171320.0\n",
       "11022765   -180548140.0\n",
       "11844624   -170754440.0\n",
       "12594893   -158804500.0\n",
       "14305378   -154913540.0\n",
       "13243393   -146271920.0\n",
       "13832492   -140174200.0\n",
       "692016     -135196740.0\n",
       "1402852    -134405860.0\n",
       "2103313    -114217280.0\n",
       "3369473    -100338680.0\n",
       "2478525     -96053320.0\n",
       "3864710     -88692940.0\n",
       "2932481     -87994660.0\n",
       "4469505     -78652300.0\n",
       "4783631     -75919240.0\n",
       "5328998     -63789780.0\n",
       "14341120    -57772840.0\n",
       "7026851     -52708200.0\n",
       "7509808     -49569280.0\n",
       "7221358     -31714260.0\n",
       "5344499            40.0\n",
       "5352433            40.0\n",
       "5352399            40.0\n",
       "5340646            40.0\n",
       "5351775            40.0\n",
       "5350299            40.0\n",
       "               ...     \n",
       "408948        1893060.0\n",
       "13391076      2104060.0\n",
       "10641886      2190320.0\n",
       "5985027       2275640.0\n",
       "4543145       2303300.0\n",
       "14258055      2347780.0\n",
       "204447        2483620.0\n",
       "4236998       2507400.0\n",
       "14128553      2535720.0\n",
       "11517549      2804400.0\n",
       "12808126      3000860.0\n",
       "10428145      3007900.0\n",
       "14045722      3019480.0\n",
       "12146256      3028360.0\n",
       "9798958       3037200.0\n",
       "7036552       3052600.0\n",
       "11412789      3063840.0\n",
       "7977536       3076380.0\n",
       "955304        3199320.0\n",
       "2293141       3543980.0\n",
       "9094401       4461560.0\n",
       "14327156      6267100.0\n",
       "14336954      7233960.0\n",
       "14337019      7256340.0\n",
       "5055990       8105300.0\n",
       "3590596       9804280.0\n",
       "6068647      20289900.0\n",
       "13392682     20453560.0\n",
       "14337663     30018240.0\n",
       "12                  NaN\n",
       "Name: End, Length: 177280, dtype: float64"
      ]
     },
     "execution_count": 90,
     "metadata": {},
     "output_type": "execute_result"
    }
   ],
   "source": [
    "diffS[diffS!=20.0].sort_values()"
   ]
  },
  {
   "cell_type": "code",
   "execution_count": 31,
   "metadata": {
    "collapsed": false
   },
   "outputs": [
    {
     "data": {
      "text/plain": [
       "0.012360942878889256"
      ]
     },
     "execution_count": 31,
     "metadata": {},
     "output_type": "execute_result"
    }
   ],
   "source": [
    "177280/14341948.0"
   ]
  },
  {
   "cell_type": "code",
   "execution_count": null,
   "metadata": {
    "collapsed": true
   },
   "outputs": [],
   "source": []
  }
 ],
 "metadata": {
  "kernelspec": {
   "display_name": "Python 2",
   "language": "python",
   "name": "python2"
  },
  "language_info": {
   "codemirror_mode": {
    "name": "ipython",
    "version": 2
   },
   "file_extension": ".py",
   "mimetype": "text/x-python",
   "name": "python",
   "nbconvert_exporter": "python",
   "pygments_lexer": "ipython2",
   "version": "2.7.13"
  }
 },
 "nbformat": 4,
 "nbformat_minor": 0
}
