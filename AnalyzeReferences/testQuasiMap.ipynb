{
 "cells": [
  {
   "cell_type": "code",
   "execution_count": 137,
   "metadata": {
    "collapsed": true
   },
   "outputs": [],
   "source": [
    "%matplotlib inline\n",
    "import pandas  as pd\n",
    "import numpy as np\n",
    "import os"
   ]
  },
  {
   "cell_type": "code",
   "execution_count": 5,
   "metadata": {
    "collapsed": false
   },
   "outputs": [
    {
     "name": "stdout",
     "output_type": "stream",
     "text": [
      "/cellar/users/btsui/Project/METAMAP/notebook/RapMapTest/AnalyzeReferences/.\r\n"
     ]
    }
   ],
   "source": [
    "!echo $PWD/."
   ]
  },
  {
   "cell_type": "code",
   "execution_count": 6,
   "metadata": {
    "collapsed": true
   },
   "outputs": [],
   "source": [
    "MHB_df=pd.read_excel('ng.3805-S2.xlsx',sheetname='S. Table 1')"
   ]
  },
  {
   "cell_type": "code",
   "execution_count": 12,
   "metadata": {
    "collapsed": false
   },
   "outputs": [],
   "source": [
    "mhbLengthS=(MHB_df.start-MHB_df.end).abs()"
   ]
  },
  {
   "cell_type": "code",
   "execution_count": 14,
   "metadata": {
    "collapsed": false
   },
   "outputs": [
    {
     "data": {
      "text/plain": [
       "<matplotlib.axes._subplots.AxesSubplot at 0x7f12ccaff850>"
      ]
     },
     "execution_count": 14,
     "metadata": {},
     "output_type": "execute_result"
    },
    {
     "data": {
      "image/png": "[encoded data removed]",
      "text/plain": [
       "<matplotlib.figure.Figure at 0x7f12ccf9c090>"
      ]
     },
     "metadata": {},
     "output_type": "display_data"
    }
   ],
   "source": [
    "mhbLengthS.hist()"
   ]
  },
  {
   "cell_type": "code",
   "execution_count": null,
   "metadata": {
    "collapsed": true
   },
   "outputs": [],
   "source": [
    "#extend 100 bases to the left and right. "
   ]
  },
  {
   "cell_type": "code",
   "execution_count": 28,
   "metadata": {
    "collapsed": false
   },
   "outputs": [],
   "source": [
    "humanRefTransriptomeS=pd.Series.from_csv(\n",
    "    '/cellar/users/btsui/Data/SAILFISH_TRANSCRIPTOME_INDEX/hgGRC38/Homo_sapiens.GRCh38.cdna.all.fa'\n",
    ",index_col=None)"
   ]
  },
  {
   "cell_type": "code",
   "execution_count": 145,
   "metadata": {
    "collapsed": false
   },
   "outputs": [
    {
     "data": {
      "text/plain": [
       "(170893, 5)"
      ]
     },
     "execution_count": 145,
     "metadata": {},
     "output_type": "execute_result"
    }
   ],
   "source": [
    "pd.read_csv(\"~/Data/SRA/realigned_DATA_V9/hgGRC38/SRR4450429.quant.sf\",sep='\\t').shape"
   ]
  },
  {
   "cell_type": "code",
   "execution_count": 141,
   "metadata": {
    "collapsed": false
   },
   "outputs": [
    {
     "data": {
      "text/plain": [
       "<matplotlib.text.Text at 0x7f1229a48e90>"
      ]
     },
     "execution_count": 141,
     "metadata": {},
     "output_type": "execute_result"
    },
    {
     "data": {
      "image/png": "[encoded data removed]",
      "text/plain": [
       "<matplotlib.figure.Figure at 0x7f124afcc7d0>"
      ]
     },
     "metadata": {},
     "output_type": "display_data"
    }
   ],
   "source": [
    "ax=np.log10(pd.read_csv(\"~/Data/SRA/realigned_DATA_V9/hgGRC38/SRR4450429.quant.sf\",sep='\\t').Length).hist()\n",
    "ax.set_ylabel('# of transcripts')\n",
    "ax.set_xlabel('log10 # of BP')"
   ]
  },
  {
   "cell_type": "code",
   "execution_count": 38,
   "metadata": {
    "collapsed": false
   },
   "outputs": [],
   "source": [
    "#humanRefTransriptomeS"
   ]
  },
  {
   "cell_type": "code",
   "execution_count": 39,
   "metadata": {
    "collapsed": false
   },
   "outputs": [],
   "source": [
    "#humanRefSeq.str.len().hist()"
   ]
  },
  {
   "cell_type": "code",
   "execution_count": 40,
   "metadata": {
    "collapsed": true
   },
   "outputs": [],
   "source": [
    "!mkdir /cellar/users/btsui/Data/RAPMAP_TRANSCRIPTOME_INDEX"
   ]
  },
  {
   "cell_type": "code",
   "execution_count": 46,
   "metadata": {
    "collapsed": false
   },
   "outputs": [
    {
     "name": "stdout",
     "output_type": "stream",
     "text": [
      "hash.bin     Homo_sapiens.GRCh38.cdna.all.fa  rsd.bin  txpInfo.bin\r\n",
      "header.json  logs\t\t\t      sa.bin   versionInfo.json\r\n"
     ]
    }
   ],
   "source": [
    "!ls /cellar/users/btsui/Data/SAILFISH_TRANSCRIPTOME_INDEX/hgGRC38/"
   ]
  },
  {
   "cell_type": "code",
   "execution_count": 52,
   "metadata": {
    "collapsed": false
   },
   "outputs": [
    {
     "data": {
      "text/plain": [
       "'/cellar/users/btsui/Program/rapmap/RapMap-master/bin/rapmap'"
      ]
     },
     "execution_count": 52,
     "metadata": {},
     "output_type": "execute_result"
    }
   ],
   "source": [
    "rapmapDir='/cellar/users/btsui/Program/rapmap/RapMap-master/bin/rapmap quasiindex -t Homo_sapiens.GRCh38.cdna.all.fa -i ref_index'\n",
    "rapmapDir"
   ]
  },
  {
   "cell_type": "code",
   "execution_count": 47,
   "metadata": {
    "collapsed": true
   },
   "outputs": [],
   "source": [
    "!mkdir /cellar/users/btsui/Data/RAPMAP_INDEX/TRANSCRIPTOME/Homo_sapiens"
   ]
  },
  {
   "cell_type": "code",
   "execution_count": 49,
   "metadata": {
    "collapsed": true
   },
   "outputs": [],
   "source": [
    "#get the samples from encode\n",
    "#!cp /cellar/users/btsui/Data/SAILFISH_TRANSCRIPTOME_INDEX/hgGRC38/Homo_sapiens.GRCh38.cdna.all.fa /cellar/users/btsui/Data/RAPMAP_INDEX/TRANSCRIPTOME/Homo_sapiens/."
   ]
  },
  {
   "cell_type": "code",
   "execution_count": null,
   "metadata": {
    "collapsed": true
   },
   "outputs": [],
   "source": [
    "#rapmap quasimap -i ref_index -1 <(gunzip -c r1.fq.gz) -2 <(gunzip -c r2.fq.gz) -t 8 -o mapped_reads.sam"
   ]
  },
  {
   "cell_type": "code",
   "execution_count": 113,
   "metadata": {
    "collapsed": true
   },
   "outputs": [],
   "source": [
    "myoption=r'\"/cellar/users/btsui/.aspera/connect/bin/ascp|/cellar/users/btsui/.aspera/connect/etc/asperaweb_id_dsa.openssh\"'\n",
    "my_id='SRR521458'\n",
    "downloadCommand=['prefetch','-t','ascp','--ascp-path',myoption,my_id]"
   ]
  },
  {
   "cell_type": "code",
   "execution_count": 114,
   "metadata": {
    "collapsed": false
   },
   "outputs": [
    {
     "data": {
      "text/plain": [
       "0"
      ]
     },
     "execution_count": 114,
     "metadata": {},
     "output_type": "execute_result"
    }
   ],
   "source": [
    "os.system(' '.join(downloadCommand))"
   ]
  },
  {
   "cell_type": "code",
   "execution_count": 110,
   "metadata": {
    "collapsed": false
   },
   "outputs": [],
   "source": []
  },
  {
   "cell_type": "code",
   "execution_count": 115,
   "metadata": {
    "collapsed": false
   },
   "outputs": [
    {
     "data": {
      "text/plain": [
       "0"
      ]
     },
     "execution_count": 115,
     "metadata": {},
     "output_type": "execute_result"
    }
   ],
   "source": [
    "SRA_FASTQ_TOOL_DIR=\"/cellar/users/btsui/Program/SRA_TOOL_KIT/sratoolkit.2.4.2-ubuntu64/bin/fastq-dump.2.4.2\"\n",
    "job_tmp_dir='/cellar/users/btsui/Project/METAMAP/notebook/RapMapTest/AnalyzeReferences/'\n",
    "dump_command=[SRA_FASTQ_TOOL_DIR,\"-B\",\"--split-files\",'/tmp/btsui/METH/sra/SRR521458.sra', '-M', '0',\"-O\",job_tmp_dir]\n",
    "#os.mkdir(job_tmp_dir+my_id)\n",
    "os.system(' '.join(dump_command))"
   ]
  },
  {
   "cell_type": "code",
   "execution_count": 94,
   "metadata": {
    "collapsed": false
   },
   "outputs": [
    {
     "data": {
      "text/plain": [
       "'/cellar/users/btsui/Program/SRA_TOOL_KIT/sratoolkit.2.4.2-ubuntu64/bin/fastq-dump.2.4.2 -B --split-files /cellar/users/btsui/Project/METAMAP/notebook/RapMapTest/AnalyzeReferences/SRR521457 -M 0 -O /cellar/users/btsui/Project/METAMAP/notebook/RapMapTest/AnalyzeReferences/'"
      ]
     },
     "execution_count": 94,
     "metadata": {},
     "output_type": "execute_result"
    }
   ],
   "source": [
    "' '.join(dump_command)"
   ]
  },
  {
   "cell_type": "code",
   "execution_count": 89,
   "metadata": {
    "collapsed": false
   },
   "outputs": [
    {
     "name": "stdout",
     "output_type": "stream",
     "text": [
      "2017-11-16T08:38:14 fastq-dump.2.4.2 err: item not found while constructing within virtual database module - the path './SRR521457' cannot be opened as database or table\r\n"
     ]
    }
   ],
   "source": [
    "!/cellar/users/btsui/Program/SRA_TOOL_KIT/sratoolkit.2.4.2-ubuntu64/bin/fastq-dump.2.4.2 -B --split-files ./SRR521457 -M 0 -O ./"
   ]
  },
  {
   "cell_type": "code",
   "execution_count": 128,
   "metadata": {
    "collapsed": false
   },
   "outputs": [],
   "source": [
    "myRef='/cellar/users/btsui/Data/RAPMAP_INDEX/TRANSCRIPTOME/Homo_sapiens/ref_index/'\n",
    "myCmd='/cellar/users/btsui/Program/rapmap/RapMap-master/bin/rapmap quasimap -i {ref} -1 {r1} -2 {r2} -o mapped_reads.sam'.format(ref=myRef,r1='SRR521458_1.fastq'\n",
    "                                                 ,r2='SRR521458_2.fastq')"
   ]
  },
  {
   "cell_type": "code",
   "execution_count": 129,
   "metadata": {
    "collapsed": false
   },
   "outputs": [
    {
     "data": {
      "text/plain": [
       "'/cellar/users/btsui/Program/rapmap/RapMap-master/bin/rapmap quasimap -i /cellar/users/btsui/Data/RAPMAP_INDEX/TRANSCRIPTOME/Homo_sapiens/ref_index/ -1 SRR521458_1.fastq -2 SRR521458_2.fastq -o mapped_reads.sam'"
      ]
     },
     "execution_count": 129,
     "metadata": {},
     "output_type": "execute_result"
    }
   ],
   "source": [
    "myCmd"
   ]
  },
  {
   "cell_type": "code",
   "execution_count": 136,
   "metadata": {
    "collapsed": false
   },
   "outputs": [
    {
     "name": "stdout",
     "output_type": "stream",
     "text": [
      "mapped_reads.sam  SRR019649_1.fastq  SRR521458_2.fastq\r\n",
      "ng.3805-S2.xlsx   SRR521457\t     testQuasiMap.ipynb\r\n",
      "SRR019649\t  SRR521458_1.fastq  Untitled1.ipynb\r\n"
     ]
    }
   ],
   "source": [
    "!ls "
   ]
  },
  {
   "cell_type": "code",
   "execution_count": 133,
   "metadata": {
    "collapsed": false
   },
   "outputs": [
    {
     "name": "stdout",
     "output_type": "stream",
     "text": [
      "SRR521458.480000\t83\tENST00000352035\t172\t1\t76M\t=\t56\t-192\tTCCTTTACAAGTTCATCTGTACCACCTCAGCCATCCAGAATCGGTTCAAGTATGCTCGGGTCACTCCTGACACAGA\t*\tNH:i:5\r\n",
      "SRR521458.480000\t163\tENST00000352035\t56\t1\t75M\t=\t172\t192\tCGCGGGGTTCGTCGGGCCTGTGGAAGAAGCGCCGCGCACGGACTTCCGCAGGGGGCAGGGCGGTCTGGCCTCGCC\t*\tNH:i:5\r\n",
      "SRR521458.480000\t339\tENST00000590151\t151\t1\t76M\t=\t31\t-196\tTCCTTTACAAGTTCATCTGTACCACCTCAGCCATCCAGAATCGGTTCAAGTATGCTCGGGTCACTCCTGACACAGA\t*\tNH:i:5\r\n",
      "SRR521458.480000\t419\tENST00000590151\t31\t1\t75M\t=\t151\t196\tCGCGGGGTTCGTCGGGCCTGTGGAAGAAGCGCCGCGCACGGACTTCCGCAGGGGGCAGGGCGGTCTGGCCTCGCC\t*\tNH:i:5\r\n",
      "SRR521458.480000\t339\tENST00000537919\t168\t1\t76M\t=\t52\t-192\tTCCTTTACAAGTTCATCTGTACCACCTCAGCCATCCAGAATCGGTTCAAGTATGCTCGGGTCACTCCTGACACAGA\t*\tNH:i:5\r\n",
      "SRR521458.480000\t419\tENST00000537919\t52\t1\t75M\t=\t168\t192\tCGCGGGGTTCGTCGGGCCTGTGGAAGAAGCGCCGCGCACGGACTTCCGCAGGGGGCAGGGCGGTCTGGCCTCGCC\t*\tNH:i:5\r\n",
      "SRR521458.480000\t339\tENST00000393896\t211\t1\t76M\t=\t91\t-196\tTCCTTTACAAGTTCATCTGTACCACCTCAGCCATCCAGAATCGGTTCAAGTATGCTCGGGTCACTCCTGACACAGA\t*\tNH:i:5\r\n",
      "SRR521458.480000\t419\tENST00000393896\t91\t1\t75M\t=\t211\t196\tCGCGGGGTTCGTCGGGCCTGTGGAAGAAGCGCCGCGCACGGACTTCCGCAGGGGGCAGGGCGGTCTGGCCTCGCC\t*\tNH:i:5\r\n",
      "SRR521458.480000\t339\tENST00000353196\t204\t1\t76M\t=\t88\t-192\tTCCTTTACAAGTTCATCTGTACCACCTCAGCCATCCAGAATCGGTTCAAGTATGCTCGGGTCACTCCTGACACAGA\t*\tNH:i:5\r\n",
      "SRR521458.480000\t419\tENST00000353196\t88\t1\t75M\t=\t204\t192\tCGCGGGGTTCGTCGGGCCTGTGGAAGAAGCGCCGCGCACGGACTTCCGCAGGGGGCAGGGCGGTCTGGCCTCGCC\t*\tNH:i:5\r\n"
     ]
    }
   ],
   "source": [
    "!tail mapped_reads.sam\n"
   ]
  },
  {
   "cell_type": "code",
   "execution_count": null,
   "metadata": {
    "collapsed": true
   },
   "outputs": [],
   "source": [
    "#"
   ]
  }
 ],
 "metadata": {
  "kernelspec": {
   "display_name": "Python 2",
   "language": "python",
   "name": "python2"
  },
  "language_info": {
   "codemirror_mode": {
    "name": "ipython",
    "version": 2
   },
   "file_extension": ".py",
   "mimetype": "text/x-python",
   "name": "python",
   "nbconvert_exporter": "python",
   "pygments_lexer": "ipython2",
   "version": "2.7.13"
  }
 },
 "nbformat": 4,
 "nbformat_minor": 0
}
