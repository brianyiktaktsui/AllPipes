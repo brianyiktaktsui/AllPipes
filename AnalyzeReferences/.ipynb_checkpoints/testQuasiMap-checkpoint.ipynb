{
 "cells": [
  {
   "cell_type": "code",
   "execution_count": 55,
   "metadata": {
    "collapsed": true
   },
   "outputs": [],
   "source": [
    "%matplotlib inline\n",
    "import pandas  as pd\n",
    "import numpy as np\n",
    "import os"
   ]
  },
  {
   "cell_type": "code",
   "execution_count": 5,
   "metadata": {
    "collapsed": false
   },
   "outputs": [
    {
     "name": "stdout",
     "output_type": "stream",
     "text": [
      "/cellar/users/btsui/Project/METAMAP/notebook/RapMapTest/AnalyzeReferences/.\r\n"
     ]
    }
   ],
   "source": [
    "!echo $PWD/."
   ]
  },
  {
   "cell_type": "code",
   "execution_count": 6,
   "metadata": {
    "collapsed": true
   },
   "outputs": [],
   "source": [
    "MHB_df=pd.read_excel('ng.3805-S2.xlsx',sheetname='S. Table 1')"
   ]
  },
  {
   "cell_type": "code",
   "execution_count": 12,
   "metadata": {
    "collapsed": false
   },
   "outputs": [],
   "source": [
    "mhbLengthS=(MHB_df.start-MHB_df.end).abs()"
   ]
  },
  {
   "cell_type": "code",
   "execution_count": 14,
   "metadata": {
    "collapsed": false
   },
   "outputs": [
    {
     "data": {
      "text/plain": [
       "<matplotlib.axes._subplots.AxesSubplot at 0x7f12ccaff850>"
      ]
     },
     "execution_count": 14,
     "metadata": {},
     "output_type": "execute_result"
    },
    {
     "data": {
      "image/png": "[encoded data removed]",
      "text/plain": [
       "<matplotlib.figure.Figure at 0x7f12ccf9c090>"
      ]
     },
     "metadata": {},
     "output_type": "display_data"
    }
   ],
   "source": [
    "mhbLengthS.hist()"
   ]
  },
  {
   "cell_type": "code",
   "execution_count": null,
   "metadata": {
    "collapsed": true
   },
   "outputs": [],
   "source": [
    "#extend 100 bases to the left and right. "
   ]
  },
  {
   "cell_type": "code",
   "execution_count": 28,
   "metadata": {
    "collapsed": false
   },
   "outputs": [],
   "source": [
    "humanRefTransriptomeS=pd.Series.from_csv(\n",
    "    '/cellar/users/btsui/Data/SAILFISH_TRANSCRIPTOME_INDEX/hgGRC38/Homo_sapiens.GRCh38.cdna.all.fa'\n",
    ",index_col=None)"
   ]
  },
  {
   "cell_type": "code",
   "execution_count": 37,
   "metadata": {
    "collapsed": false
   },
   "outputs": [
    {
     "data": {
      "image/png": "[encoded data removed]",
      "text/plain": [
       "<matplotlib.figure.Figure at 0x7f124afb1990>"
      ]
     },
     "metadata": {},
     "output_type": "display_data"
    }
   ],
   "source": [
    "ax=np.log10(pd.read_csv(\"~/Data/SRA/realigned_DATA_V9/hgGRC38/SRR4450429.quant.sf\",sep='\\t').Length).hist()\n"
   ]
  },
  {
   "cell_type": "code",
   "execution_count": 38,
   "metadata": {
    "collapsed": false
   },
   "outputs": [],
   "source": [
    "#humanRefTransriptomeS"
   ]
  },
  {
   "cell_type": "code",
   "execution_count": 39,
   "metadata": {
    "collapsed": false
   },
   "outputs": [],
   "source": [
    "#humanRefSeq.str.len().hist()"
   ]
  },
  {
   "cell_type": "code",
   "execution_count": 40,
   "metadata": {
    "collapsed": true
   },
   "outputs": [],
   "source": [
    "!mkdir /cellar/users/btsui/Data/RAPMAP_TRANSCRIPTOME_INDEX"
   ]
  },
  {
   "cell_type": "code",
   "execution_count": 46,
   "metadata": {
    "collapsed": false
   },
   "outputs": [
    {
     "name": "stdout",
     "output_type": "stream",
     "text": [
      "hash.bin     Homo_sapiens.GRCh38.cdna.all.fa  rsd.bin  txpInfo.bin\r\n",
      "header.json  logs\t\t\t      sa.bin   versionInfo.json\r\n"
     ]
    }
   ],
   "source": [
    "!ls /cellar/users/btsui/Data/SAILFISH_TRANSCRIPTOME_INDEX/hgGRC38/"
   ]
  },
  {
   "cell_type": "code",
   "execution_count": 52,
   "metadata": {
    "collapsed": false
   },
   "outputs": [
    {
     "data": {
      "text/plain": [
       "'/cellar/users/btsui/Program/rapmap/RapMap-master/bin/rapmap'"
      ]
     },
     "execution_count": 52,
     "metadata": {},
     "output_type": "execute_result"
    }
   ],
   "source": [
    "rapmapDir='/cellar/users/btsui/Program/rapmap/RapMap-master/bin/rapmap quasiindex -t Homo_sapiens.GRCh38.cdna.all.fa -i ref_index'\n",
    "rapmapDir"
   ]
  },
  {
   "cell_type": "code",
   "execution_count": 47,
   "metadata": {
    "collapsed": true
   },
   "outputs": [],
   "source": [
    "!mkdir /cellar/users/btsui/Data/RAPMAP_INDEX/TRANSCRIPTOME/Homo_sapiens"
   ]
  },
  {
   "cell_type": "code",
   "execution_count": 49,
   "metadata": {
    "collapsed": true
   },
   "outputs": [],
   "source": [
    "#get the samples from encode\n",
    "#!cp /cellar/users/btsui/Data/SAILFISH_TRANSCRIPTOME_INDEX/hgGRC38/Homo_sapiens.GRCh38.cdna.all.fa /cellar/users/btsui/Data/RAPMAP_INDEX/TRANSCRIPTOME/Homo_sapiens/."
   ]
  },
  {
   "cell_type": "code",
   "execution_count": null,
   "metadata": {
    "collapsed": true
   },
   "outputs": [],
   "source": [
    "#rapmap quasimap -i ref_index -1 <(gunzip -c r1.fq.gz) -2 <(gunzip -c r2.fq.gz) -t 8 -o mapped_reads.sam"
   ]
  },
  {
   "cell_type": "code",
   "execution_count": 113,
   "metadata": {
    "collapsed": true
   },
   "outputs": [],
   "source": [
    "myoption=r'\"/cellar/users/btsui/.aspera/connect/bin/ascp|/cellar/users/btsui/.aspera/connect/etc/asperaweb_id_dsa.openssh\"'\n",
    "my_id='SRR521458'\n",
    "downloadCommand=['prefetch','-t','ascp','--ascp-path',myoption,my_id]"
   ]
  },
  {
   "cell_type": "code",
   "execution_count": 114,
   "metadata": {
    "collapsed": false
   },
   "outputs": [
    {
     "data": {
      "text/plain": [
       "0"
      ]
     },
     "execution_count": 114,
     "metadata": {},
     "output_type": "execute_result"
    }
   ],
   "source": [
    "os.system(' '.join(downloadCommand))"
   ]
  },
  {
   "cell_type": "code",
   "execution_count": 110,
   "metadata": {
    "collapsed": false
   },
   "outputs": [],
   "source": []
  },
  {
   "cell_type": "code",
   "execution_count": 115,
   "metadata": {
    "collapsed": false
   },
   "outputs": [
    {
     "data": {
      "text/plain": [
       "0"
      ]
     },
     "execution_count": 115,
     "metadata": {},
     "output_type": "execute_result"
    }
   ],
   "source": [
    "SRA_FASTQ_TOOL_DIR=\"/cellar/users/btsui/Program/SRA_TOOL_KIT/sratoolkit.2.4.2-ubuntu64/bin/fastq-dump.2.4.2\"\n",
    "job_tmp_dir='/cellar/users/btsui/Project/METAMAP/notebook/RapMapTest/AnalyzeReferences/'\n",
    "dump_command=[SRA_FASTQ_TOOL_DIR,\"-B\",\"--split-files\",'/tmp/btsui/METH/sra/SRR521458.sra', '-M', '0',\"-O\",job_tmp_dir]\n",
    "#os.mkdir(job_tmp_dir+my_id)\n",
    "os.system(' '.join(dump_command))"
   ]
  },
  {
   "cell_type": "code",
   "execution_count": 94,
   "metadata": {
    "collapsed": false
   },
   "outputs": [
    {
     "data": {
      "text/plain": [
       "'/cellar/users/btsui/Program/SRA_TOOL_KIT/sratoolkit.2.4.2-ubuntu64/bin/fastq-dump.2.4.2 -B --split-files /cellar/users/btsui/Project/METAMAP/notebook/RapMapTest/AnalyzeReferences/SRR521457 -M 0 -O /cellar/users/btsui/Project/METAMAP/notebook/RapMapTest/AnalyzeReferences/'"
      ]
     },
     "execution_count": 94,
     "metadata": {},
     "output_type": "execute_result"
    }
   ],
   "source": [
    "' '.join(dump_command)"
   ]
  },
  {
   "cell_type": "code",
   "execution_count": 89,
   "metadata": {
    "collapsed": false
   },
   "outputs": [
    {
     "name": "stdout",
     "output_type": "stream",
     "text": [
      "2017-11-16T08:38:14 fastq-dump.2.4.2 err: item not found while constructing within virtual database module - the path './SRR521457' cannot be opened as database or table\r\n"
     ]
    }
   ],
   "source": [
    "!/cellar/users/btsui/Program/SRA_TOOL_KIT/sratoolkit.2.4.2-ubuntu64/bin/fastq-dump.2.4.2 -B --split-files ./SRR521457 -M 0 -O ./"
   ]
  },
  {
   "cell_type": "code",
   "execution_count": null,
   "metadata": {
    "collapsed": true
   },
   "outputs": [],
   "source": [
    "myRef='/cellar/users/btsui/Data/RAPMAP_INDEX/TRANSCRIPTOME/Homo_sapiens/'\n",
    "'rapmap quasimap -i {ref} -1 {r1} -2 {r2}'.foramt(ref=myRef,r1='SRR521458_1.fastq'\n",
    "                                                 r2='SRR521458_2.fastq')"
   ]
  }
 ],
 "metadata": {
  "kernelspec": {
   "display_name": "Python 2",
   "language": "python",
   "name": "python2"
  },
  "language_info": {
   "codemirror_mode": {
    "name": "ipython",
    "version": 2
   },
   "file_extension": ".py",
   "mimetype": "text/x-python",
   "name": "python",
   "nbconvert_exporter": "python",
   "pygments_lexer": "ipython2",
   "version": "2.7.13"
  }
 },
 "nbformat": 4,
 "nbformat_minor": 0
}
