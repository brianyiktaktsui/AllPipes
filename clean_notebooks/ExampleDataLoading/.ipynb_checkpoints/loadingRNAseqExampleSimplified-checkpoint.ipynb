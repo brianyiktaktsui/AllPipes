{
 "cells": [
  {
   "cell_type": "code",
   "execution_count": 1,
   "metadata": {},
   "outputs": [],
   "source": [
    "import pandas as pd\n",
    "import numpy as np\n",
    "import os\n",
    "import skymap_param"
   ]
  },
  {
   "cell_type": "code",
   "execution_count": 2,
   "metadata": {},
   "outputs": [],
   "source": [
    "#baseDir='./tmp_data/'\n",
    "\n",
    "def loadDf(fname,mmap_mode='r'):\n",
    "    with open(fname+'.index.txt') as f:\n",
    "        myIndex=map(lambda s:s.replace(\"\\n\",\"\"), f.readlines())\n",
    "    with open(fname+'.columns.txt') as f:\n",
    "        myColumns=map(lambda s:s.replace(\"\\n\",\"\"), f.readlines())\n",
    "    tmpMatrix=np.load(fname+\".npy\",mmap_mode=mmap_mode)\n",
    "    tmpDf=pd.DataFrame(tmpMatrix,index=myIndex,columns=myColumns)\n",
    "    tmpDf.columns.name='Run'\n",
    "    return tmpDf"
   ]
  },
  {
   "cell_type": "code",
   "execution_count": 3,
   "metadata": {},
   "outputs": [
    {
     "name": "stdout",
     "output_type": "stream",
     "text": [
      "CPU times: user 156 ms, sys: 44 ms, total: 200 ms\n",
      "Wall time: 197 ms\n"
     ]
    }
   ],
   "source": [
    "#expression_metric='TPM'\n",
    "data_matrix_dir=skymap_param.baseDir+'/Homo_sapiens.gene_symbol.tpm'\n",
    "#a memory mapped dataframe\n",
    "%time rnaseqDf=loadDf(data_matrix_dir)"
   ]
  },
  {
   "cell_type": "code",
   "execution_count": 4,
   "metadata": {
    "scrolled": true
   },
   "outputs": [
    {
     "name": "stdout",
     "output_type": "stream",
     "text": [
      "# of RNA-seq profiles sliced: 192981\n",
      "\n",
      "CPU times: user 8 ms, sys: 4 ms, total: 12 ms\n",
      "Wall time: 12.6 ms\n"
     ]
    }
   ],
   "source": [
    "%%time \n",
    "query_gene='BRCA1' \n",
    "#query_gene=['TP53','BRCA1']\n",
    "hitS=rnaseqDf.loc[query_gene]\n",
    "\n",
    "print ('# of RNA-seq profiles sliced: {}\\n'.format(len(hitS)))"
   ]
  },
  {
   "cell_type": "markdown",
   "metadata": {},
   "source": [
    "### expression level of query gene(s) across all experiments"
   ]
  },
  {
   "cell_type": "code",
   "execution_count": 5,
   "metadata": {},
   "outputs": [
    {
     "data": {
      "text/plain": [
       "Run\n",
       "SRR5377183    44.593750\n",
       "SRR5377184    43.562500\n",
       "SRR5330979    24.531250\n",
       "SRR5330980    22.390625\n",
       "SRR5330981    18.781250\n",
       "SRR5330982    13.281250\n",
       "SRR5330983    13.351562\n",
       "SRR5330984    22.593750\n",
       "SRR5330985    16.140625\n",
       "SRR5330986    23.687500\n",
       "SRR5330987     9.109375\n",
       "SRR5330988     8.242188\n",
       "SRR5330989    23.203125\n",
       "SRR5330990    17.843750\n",
       "SRR5330991    28.656250\n",
       "SRR5330992    11.554688\n",
       "SRR5330993    13.304688\n",
       "SRR5330994    17.000000\n",
       "SRR5330995    15.039062\n",
       "SRR5330996    13.632812\n",
       "SRR5362178    93.500000\n",
       "SRR5362179    62.125000\n",
       "SRR5362180    85.812500\n",
       "SRR5362181    68.187500\n",
       "SRR5362182    62.250000\n",
       "SRR5362183    62.437500\n",
       "SRR5362184    74.062500\n",
       "SRR5362185    69.437500\n",
       "SRR5362186    69.187500\n",
       "SRR5362187    68.687500\n",
       "                ...    \n",
       "ERR1250307     0.000000\n",
       "ERR1250308     0.000000\n",
       "ERR1250309     0.000000\n",
       "ERR1288727    24.562500\n",
       "ERR1288728    28.421875\n",
       "ERR1288729    34.875000\n",
       "ERR1288730    16.953125\n",
       "ERR1288731    14.257812\n",
       "ERR1288732    22.531250\n",
       "ERR1288733    11.992188\n",
       "ERR1288734    14.875000\n",
       "ERR1288735    17.937500\n",
       "ERR1288736    21.093750\n",
       "ERR1288737    32.156250\n",
       "ERR1294577     6.542969\n",
       "ERR1294578     9.765625\n",
       "ERR1294579     5.500000\n",
       "ERR1299342    31.734375\n",
       "ERR1299343    27.875000\n",
       "ERR1299344    27.031250\n",
       "ERR1299345    27.156250\n",
       "ERR1299346    27.843750\n",
       "ERR1299347    25.640625\n",
       "ERR1299348    24.468750\n",
       "ERR1299349    24.265625\n",
       "ERR1299350    12.789062\n",
       "ERR1299351    22.781250\n",
       "ERR1299352    27.171875\n",
       "ERR1299353    26.312500\n",
       "ERR1227267     0.000000\n",
       "Name: BRCA1, Length: 192981, dtype: float16"
      ]
     },
     "execution_count": 5,
     "metadata": {},
     "output_type": "execute_result"
    }
   ],
   "source": [
    "hitS"
   ]
  },
  {
   "cell_type": "code",
   "execution_count": null,
   "metadata": {},
   "outputs": [],
   "source": []
  },
  {
   "cell_type": "code",
   "execution_count": null,
   "metadata": {},
   "outputs": [],
   "source": []
  }
 ],
 "metadata": {
  "kernelspec": {
   "display_name": "Python [default]",
   "language": "python",
   "name": "python3"
  },
  "language_info": {
   "codemirror_mode": {
    "name": "ipython",
    "version": 3
   },
   "file_extension": ".py",
   "mimetype": "text/x-python",
   "name": "python",
   "nbconvert_exporter": "python",
   "pygments_lexer": "ipython3",
   "version": "3.6.5"
  }
 },
 "nbformat": 4,
 "nbformat_minor": 2
}
