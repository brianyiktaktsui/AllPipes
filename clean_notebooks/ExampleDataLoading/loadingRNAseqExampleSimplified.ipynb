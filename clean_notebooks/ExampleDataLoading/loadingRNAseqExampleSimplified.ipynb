{
 "cells": [
  {
   "cell_type": "code",
   "execution_count": 1,
   "metadata": {},
   "outputs": [],
   "source": [
    "import pandas as pd\n",
    "import numpy as np\n",
    "import os\n",
    "import skymap_param"
   ]
  },
  {
   "cell_type": "code",
   "execution_count": 2,
   "metadata": {},
   "outputs": [],
   "source": [
    "#baseDir='./tmp_data/'\n",
    "\n",
    "def loadDf(fname,mmap_mode='r'):\n",
    "    with open(fname+'.index.txt') as f:\n",
    "        myIndex=map(lambda s:s.replace(\"\\n\",\"\"), f.readlines())\n",
    "    with open(fname+'.columns.txt') as f:\n",
    "        myColumns=map(lambda s:s.replace(\"\\n\",\"\"), f.readlines())\n",
    "    tmpMatrix=np.load(fname+\".npy\",mmap_mode=mmap_mode)\n",
    "    tmpDf=pd.DataFrame(tmpMatrix,index=myIndex,columns=myColumns)\n",
    "    tmpDf.columns.name='Run'\n",
    "    return tmpDf"
   ]
  },
  {
   "cell_type": "code",
   "execution_count": 8,
   "metadata": {},
   "outputs": [
    {
     "name": "stdout",
     "output_type": "stream",
     "text": [
      "Canis_familiaris.gene_symbol.est_counts.columns.txt\r\n",
      "Canis_familiaris.gene_symbol.est_counts.index.txt\r\n",
      "Canis_familiaris.gene_symbol.est_counts.npy\r\n",
      "Canis_familiaris.gene_symbol.est_counts.npy.gz\r\n",
      "Canis_familiaris.gene_symbol.tpm.columns.txt\r\n",
      "Canis_familiaris.gene_symbol.tpm.index.txt\r\n",
      "Canis_familiaris.gene_symbol.tpm.npy\r\n",
      "Canis_familiaris.gene_symbol.tpm.npy.gz\r\n",
      "Canis_familiaris.transcript.est_counts.pickle\r\n",
      "Canis_familiaris.transcript.est_counts.pickle.gz\r\n",
      "Canis_familiaris.transcript.tpm.pickle\r\n",
      "Canis_familiaris.transcript.tpm.pickle.gz\r\n",
      "Danio_rerio.gene_symbol.est_counts.columns.txt\r\n",
      "Danio_rerio.gene_symbol.est_counts.index.txt\r\n",
      "Danio_rerio.gene_symbol.est_counts.npy\r\n",
      "Danio_rerio.gene_symbol.est_counts.npy.gz\r\n",
      "Danio_rerio.transcript.est_counts.pickle\r\n",
      "Homo_sapiens.gene_symbol.est_counts.columns.txt\r\n",
      "Homo_sapiens.gene_symbol.est_counts.index.txt\r\n",
      "Homo_sapiens.gene_symbol.est_counts.npy\r\n",
      "Homo_sapiens.gene_symbol.est_counts.npy.gz\r\n",
      "Homo_sapiens.gene_symbol.tpm.columns.txt\r\n",
      "Homo_sapiens.gene_symbol.tpm.index.txt\r\n",
      "Homo_sapiens.gene_symbol.tpm.npy\r\n",
      "Homo_sapiens.gene_symbol.tpm.npy.gz\r\n",
      "Homo_sapiens.transcript.est_counts.columns.txt\r\n",
      "Homo_sapiens.transcript.est_counts.index.txt\r\n",
      "Homo_sapiens.transcript.est_counts.npy\r\n",
      "Homo_sapiens.transcript.est_counts.npy.gz\r\n",
      "Homo_sapiens.transcript.tpm.columns.txt\r\n",
      "Homo_sapiens.transcript.tpm.index.txt\r\n",
      "Homo_sapiens.transcript.tpm.npy\r\n",
      "Homo_sapiens.transcript.tpm.npy.gz\r\n",
      "Mus_musculus.transcript.est_counts.columns.txt\r\n",
      "Mus_musculus.transcript.est_counts.index.txt\r\n",
      "Mus_musculus.transcript.est_counts.npy\r\n",
      "Mus_musculus.transcript.est_counts.npy.gz\r\n",
      "Mus_musculus.transcript.tpm.columns.txt\r\n",
      "Mus_musculus.transcript.tpm.index.txt\r\n",
      "Mus_musculus.transcript.tpm.npy\r\n",
      "Mus_musculus.transcript.tpm.npy.gz\r\n"
     ]
    }
   ],
   "source": [
    "#!ls /nrnb/users/btsui/Data/all_seq/rnaseq_merged/"
   ]
  },
  {
   "cell_type": "code",
   "execution_count": 6,
   "metadata": {},
   "outputs": [
    {
     "ename": "FileNotFoundError",
     "evalue": "[Errno 2] No such file or directory: '/nrnb/users/btsui/Data/all_seq/rnaseq_merged//Mus_musculus.gene_symbol.tpm.index.txt'",
     "output_type": "error",
     "traceback": [
      "\u001b[0;31m---------------------------------------------------------------------------\u001b[0m",
      "\u001b[0;31mFileNotFoundError\u001b[0m                         Traceback (most recent call last)",
      "\u001b[0;32m<timed exec>\u001b[0m in \u001b[0;36m<module>\u001b[0;34m()\u001b[0m\n",
      "\u001b[0;32m<ipython-input-2-b9343bed0646>\u001b[0m in \u001b[0;36mloadDf\u001b[0;34m(fname, mmap_mode)\u001b[0m\n\u001b[1;32m      2\u001b[0m \u001b[0;34m\u001b[0m\u001b[0m\n\u001b[1;32m      3\u001b[0m \u001b[0;32mdef\u001b[0m \u001b[0mloadDf\u001b[0m\u001b[0;34m(\u001b[0m\u001b[0mfname\u001b[0m\u001b[0;34m,\u001b[0m\u001b[0mmmap_mode\u001b[0m\u001b[0;34m=\u001b[0m\u001b[0;34m'r'\u001b[0m\u001b[0;34m)\u001b[0m\u001b[0;34m:\u001b[0m\u001b[0;34m\u001b[0m\u001b[0m\n\u001b[0;32m----> 4\u001b[0;31m     \u001b[0;32mwith\u001b[0m \u001b[0mopen\u001b[0m\u001b[0;34m(\u001b[0m\u001b[0mfname\u001b[0m\u001b[0;34m+\u001b[0m\u001b[0;34m'.index.txt'\u001b[0m\u001b[0;34m)\u001b[0m \u001b[0;32mas\u001b[0m \u001b[0mf\u001b[0m\u001b[0;34m:\u001b[0m\u001b[0;34m\u001b[0m\u001b[0m\n\u001b[0m\u001b[1;32m      5\u001b[0m         \u001b[0mmyIndex\u001b[0m\u001b[0;34m=\u001b[0m\u001b[0mmap\u001b[0m\u001b[0;34m(\u001b[0m\u001b[0;32mlambda\u001b[0m \u001b[0ms\u001b[0m\u001b[0;34m:\u001b[0m\u001b[0ms\u001b[0m\u001b[0;34m.\u001b[0m\u001b[0mreplace\u001b[0m\u001b[0;34m(\u001b[0m\u001b[0;34m\"\\n\"\u001b[0m\u001b[0;34m,\u001b[0m\u001b[0;34m\"\"\u001b[0m\u001b[0;34m)\u001b[0m\u001b[0;34m,\u001b[0m \u001b[0mf\u001b[0m\u001b[0;34m.\u001b[0m\u001b[0mreadlines\u001b[0m\u001b[0;34m(\u001b[0m\u001b[0;34m)\u001b[0m\u001b[0;34m)\u001b[0m\u001b[0;34m\u001b[0m\u001b[0m\n\u001b[1;32m      6\u001b[0m     \u001b[0;32mwith\u001b[0m \u001b[0mopen\u001b[0m\u001b[0;34m(\u001b[0m\u001b[0mfname\u001b[0m\u001b[0;34m+\u001b[0m\u001b[0;34m'.columns.txt'\u001b[0m\u001b[0;34m)\u001b[0m \u001b[0;32mas\u001b[0m \u001b[0mf\u001b[0m\u001b[0;34m:\u001b[0m\u001b[0;34m\u001b[0m\u001b[0m\n",
      "\u001b[0;31mFileNotFoundError\u001b[0m: [Errno 2] No such file or directory: '/nrnb/users/btsui/Data/all_seq/rnaseq_merged//Mus_musculus.gene_symbol.tpm.index.txt'"
     ]
    }
   ],
   "source": [
    "#expression_metric='TPM'\n",
    "data_matrix_dir=skymap_param.baseDir+'/Mus_musculus.gene_symbol.tpm'\n",
    "#a memory mapped dataframe\n",
    "%time rnaseqDf=loadDf(data_matrix_dir)"
   ]
  },
  {
   "cell_type": "code",
   "execution_count": 7,
   "metadata": {
    "scrolled": true
   },
   "outputs": [
    {
     "name": "stdout",
     "output_type": "stream",
     "text": [
      "# of RNA-seq profiles sliced: 192981\n",
      "\n",
      "CPU times: user 0 ns, sys: 0 ns, total: 0 ns\n",
      "Wall time: 993 µs\n"
     ]
    }
   ],
   "source": [
    "%%time \n",
    "query_gene='BRCA1' \n",
    "#query_gene=['TP53','BRCA1']\n",
    "hitS=rnaseqDf.loc[query_gene]\n",
    "\n",
    "print ('# of RNA-seq profiles sliced: {}\\n'.format(len(hitS)))"
   ]
  },
  {
   "cell_type": "markdown",
   "metadata": {},
   "source": [
    "### expression level of query gene(s) across all experiments"
   ]
  },
  {
   "cell_type": "code",
   "execution_count": 5,
   "metadata": {},
   "outputs": [
    {
     "data": {
      "text/plain": [
       "Run\n",
       "SRR5377183    44.593750\n",
       "SRR5377184    43.562500\n",
       "SRR5330979    24.531250\n",
       "SRR5330980    22.390625\n",
       "SRR5330981    18.781250\n",
       "SRR5330982    13.281250\n",
       "SRR5330983    13.351562\n",
       "SRR5330984    22.593750\n",
       "SRR5330985    16.140625\n",
       "SRR5330986    23.687500\n",
       "SRR5330987     9.109375\n",
       "SRR5330988     8.242188\n",
       "SRR5330989    23.203125\n",
       "SRR5330990    17.843750\n",
       "SRR5330991    28.656250\n",
       "SRR5330992    11.554688\n",
       "SRR5330993    13.304688\n",
       "SRR5330994    17.000000\n",
       "SRR5330995    15.039062\n",
       "SRR5330996    13.632812\n",
       "SRR5362178    93.500000\n",
       "SRR5362179    62.125000\n",
       "SRR5362180    85.812500\n",
       "SRR5362181    68.187500\n",
       "SRR5362182    62.250000\n",
       "SRR5362183    62.437500\n",
       "SRR5362184    74.062500\n",
       "SRR5362185    69.437500\n",
       "SRR5362186    69.187500\n",
       "SRR5362187    68.687500\n",
       "                ...    \n",
       "ERR1250307     0.000000\n",
       "ERR1250308     0.000000\n",
       "ERR1250309     0.000000\n",
       "ERR1288727    24.562500\n",
       "ERR1288728    28.421875\n",
       "ERR1288729    34.875000\n",
       "ERR1288730    16.953125\n",
       "ERR1288731    14.257812\n",
       "ERR1288732    22.531250\n",
       "ERR1288733    11.992188\n",
       "ERR1288734    14.875000\n",
       "ERR1288735    17.937500\n",
       "ERR1288736    21.093750\n",
       "ERR1288737    32.156250\n",
       "ERR1294577     6.542969\n",
       "ERR1294578     9.765625\n",
       "ERR1294579     5.500000\n",
       "ERR1299342    31.734375\n",
       "ERR1299343    27.875000\n",
       "ERR1299344    27.031250\n",
       "ERR1299345    27.156250\n",
       "ERR1299346    27.843750\n",
       "ERR1299347    25.640625\n",
       "ERR1299348    24.468750\n",
       "ERR1299349    24.265625\n",
       "ERR1299350    12.789062\n",
       "ERR1299351    22.781250\n",
       "ERR1299352    27.171875\n",
       "ERR1299353    26.312500\n",
       "ERR1227267     0.000000\n",
       "Name: BRCA1, Length: 192981, dtype: float16"
      ]
     },
     "execution_count": 5,
     "metadata": {},
     "output_type": "execute_result"
    }
   ],
   "source": [
    "hitS"
   ]
  },
  {
   "cell_type": "code",
   "execution_count": null,
   "metadata": {},
   "outputs": [],
   "source": []
  },
  {
   "cell_type": "code",
   "execution_count": null,
   "metadata": {},
   "outputs": [],
   "source": []
  }
 ],
 "metadata": {
  "kernelspec": {
   "display_name": "Python [default]",
   "language": "python",
   "name": "python3"
  },
  "language_info": {
   "codemirror_mode": {
    "name": "ipython",
    "version": 3
   },
   "file_extension": ".py",
   "mimetype": "text/x-python",
   "name": "python",
   "nbconvert_exporter": "python",
   "pygments_lexer": "ipython3",
   "version": "3.6.5"
  }
 },
 "nbformat": 4,
 "nbformat_minor": 2
}
