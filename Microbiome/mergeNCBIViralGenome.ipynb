{
 "cells": [
  {
   "cell_type": "code",
   "execution_count": 1,
   "metadata": {},
   "outputs": [
    {
     "name": "stdout",
     "output_type": "stream",
     "text": [
      "--2017-12-30 13:51:24--  ftp://ftp.ncbi.nlm.nih.gov/refseq/release/viral/viral.1.1.genomic.fna.gz\n",
      "           => ‘viral.1.1.genomic.fna.gz’\n",
      "Resolving ftp.ncbi.nlm.nih.gov (ftp.ncbi.nlm.nih.gov)... 130.14.250.10, 2607:f220:41e:250::11\n",
      "Connecting to ftp.ncbi.nlm.nih.gov (ftp.ncbi.nlm.nih.gov)|130.14.250.10|:21... connected.\n",
      "Logging in as anonymous ... Logged in!\n",
      "==> SYST ... done.    ==> PWD ... done.\n",
      "==> TYPE I ... done.  ==> CWD (1) /refseq/release/viral ... done.\n",
      "==> SIZE viral.1.1.genomic.fna.gz ... 65155237\n",
      "==> PASV ... done.    ==> RETR viral.1.1.genomic.fna.gz ... done.\n",
      "Length: 65155237 (62M) (unauthoritative)\n",
      "\n",
      "viral.1.1.genomic.f 100%[===================>]  62.14M  12.0MB/s    in 8.4s    \n",
      "\n",
      "2017-12-30 13:51:35 (7.36 MB/s) - ‘viral.1.1.genomic.fna.gz’ saved [65155237]\n",
      "\n"
     ]
    }
   ],
   "source": [
    "!wget ftp://ftp.ncbi.nlm.nih.gov/refseq/release/viral/viral.1.1.genomic.fna.gz"
   ]
  },
  {
   "cell_type": "code",
   "execution_count": 2,
   "metadata": {},
   "outputs": [
    {
     "name": "stdout",
     "output_type": "stream",
     "text": [
      "--2017-12-30 13:51:35--  ftp://ftp.ncbi.nlm.nih.gov/refseq/release/viral/viral.2.1.genomic.fna.gz\n",
      "           => ‘viral.2.1.genomic.fna.gz’\n",
      "Resolving ftp.ncbi.nlm.nih.gov (ftp.ncbi.nlm.nih.gov)... 130.14.250.10, 2607:f220:41e:250::11\n",
      "Connecting to ftp.ncbi.nlm.nih.gov (ftp.ncbi.nlm.nih.gov)|130.14.250.10|:21... connected.\n",
      "Logging in as anonymous ... Logged in!\n",
      "==> SYST ... done.    ==> PWD ... done.\n",
      "==> TYPE I ... done.  ==> CWD (1) /refseq/release/viral ... done.\n",
      "==> SIZE viral.2.1.genomic.fna.gz ... 14752918\n",
      "==> PASV ... done.    ==> RETR viral.2.1.genomic.fna.gz ... done.\n",
      "Length: 14752918 (14M) (unauthoritative)\n",
      "\n",
      "viral.2.1.genomic.f 100%[===================>]  14.07M  3.97MB/s    in 3.5s    \n",
      "\n",
      "2017-12-30 13:51:39 (3.97 MB/s) - ‘viral.2.1.genomic.fna.gz’ saved [14752918]\n",
      "\n"
     ]
    }
   ],
   "source": [
    "!wget ftp://ftp.ncbi.nlm.nih.gov/refseq/release/viral/viral.2.1.genomic.fna.gz"
   ]
  },
  {
   "cell_type": "code",
   "execution_count": 3,
   "metadata": {
    "collapsed": true
   },
   "outputs": [],
   "source": [
    "!cat viral.2.1.genomic.fna.gz viral.1.1.genomic.fna.gz  > viral.1.1_2.1.genomic.fna.gz"
   ]
  },
  {
   "cell_type": "code",
   "execution_count": 6,
   "metadata": {},
   "outputs": [],
   "source": [
    "#!gunzip -c viral.1.1_2.1.genomic.fna.gz | head -n 100"
   ]
  },
  {
   "cell_type": "code",
   "execution_count": null,
   "metadata": {
    "collapsed": true
   },
   "outputs": [],
   "source": []
  }
 ],
 "metadata": {
  "kernelspec": {
   "display_name": "Python 3",
   "language": "python",
   "name": "python3"
  },
  "language_info": {
   "codemirror_mode": {
    "name": "ipython",
    "version": 3
   },
   "file_extension": ".py",
   "mimetype": "text/x-python",
   "name": "python",
   "nbconvert_exporter": "python",
   "pygments_lexer": "ipython3",
   "version": "3.6.5"
  }
 },
 "nbformat": 4,
 "nbformat_minor": 1
}
