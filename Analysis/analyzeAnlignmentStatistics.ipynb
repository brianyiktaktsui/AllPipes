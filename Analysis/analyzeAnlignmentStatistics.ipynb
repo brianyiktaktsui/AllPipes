{
 "cells": [
  {
   "cell_type": "code",
   "execution_count": 18,
   "metadata": {},
   "outputs": [],
   "source": [
    "%matplotlib inline\n",
    "import pandas as pd\n",
    "\n",
    "import os\n",
    "from tqdm import tqdm\n",
    "#tmpFDir='/tmp/tmp.tsv'\n",
    "import numpy as np\n",
    "\n"
   ]
  },
  {
   "cell_type": "code",
   "execution_count": 19,
   "metadata": {},
   "outputs": [],
   "source": [
    "sra_dump_pickle_dir='/cellar/users/btsui/Data/SRA/DUMP/sra_dump.pickle'\n",
    "\n",
    "sra_dump_pickle_dir_annotated_dir=sra_dump_pickle_dir.replace('.pickle','.fastqc.bowtie_algn.pickle')\n",
    "\n",
    "\n",
    "sra_dump_df=pd.read_pickle(sra_dump_pickle_dir_annotated_dir)"
   ]
  },
  {
   "cell_type": "code",
   "execution_count": 20,
   "metadata": {},
   "outputs": [],
   "source": [
    "#sra_dump_df.head().T"
   ]
  },
  {
   "cell_type": "markdown",
   "metadata": {},
   "source": [
    "### number of runs processed"
   ]
  },
  {
   "cell_type": "code",
   "execution_count": 21,
   "metadata": {},
   "outputs": [],
   "source": [
    "sra_dump_df[('bowtie2','n reads detected')]=sra_dump_df['bowtie2'][\n",
    "    ['(\\d+) mates make up the pairs','(\\d+) reads; of these:']].astype(float).max(axis=1)"
   ]
  },
  {
   "cell_type": "code",
   "execution_count": 65,
   "metadata": {},
   "outputs": [
    {
     "data": {
      "text/plain": [
       "296.2890195"
      ]
     },
     "execution_count": 65,
     "metadata": {},
     "output_type": "execute_result"
    }
   ],
   "source": [
    "sra_dump_df['SRAmeta']['Bases'].median()/10**6"
   ]
  },
  {
   "cell_type": "code",
   "execution_count": 22,
   "metadata": {},
   "outputs": [],
   "source": [
    "bowtie2Df=sra_dump_df['bowtie2'].copy()"
   ]
  },
  {
   "cell_type": "code",
   "execution_count": 23,
   "metadata": {},
   "outputs": [],
   "source": [
    "bowtie2Df['LibraryStrategy']=sra_dump_df['SRAmeta']['LibraryStrategy']\n",
    "bowtie2Df['LibraryLayout']=sra_dump_df['SRAmeta']['LibraryLayout'].values\n"
   ]
  },
  {
   "cell_type": "code",
   "execution_count": null,
   "metadata": {},
   "outputs": [],
   "source": []
  },
  {
   "cell_type": "code",
   "execution_count": 24,
   "metadata": {},
   "outputs": [
    {
     "data": {
      "text/plain": [
       "PAIRED    0.64801\n",
       "SINGLE    0.35199\n",
       "Name: LibraryLayout, dtype: float64"
      ]
     },
     "execution_count": 24,
     "metadata": {},
     "output_type": "execute_result"
    }
   ],
   "source": [
    "bowtie2Df['LibraryLayout'].value_counts()/bowtie2Df['LibraryLayout'].value_counts().sum()"
   ]
  },
  {
   "cell_type": "code",
   "execution_count": 25,
   "metadata": {},
   "outputs": [],
   "source": [
    "#convert the following columns to float\n",
    "myGL=['(\\d+) \\([0-9.]*%\\) aligned >1 times',\n",
    "       '(\\d+) \\([0-9.]*%\\) aligned exactly 1 time',\n",
    "       '(\\d+) mates make up the pairs', '(\\d+) reads; of these:',\n",
    "       'n reads detected']"
   ]
  },
  {
   "cell_type": "code",
   "execution_count": null,
   "metadata": {},
   "outputs": [],
   "source": []
  },
  {
   "cell_type": "code",
   "execution_count": 26,
   "metadata": {},
   "outputs": [],
   "source": [
    "for myG in myGL:\n",
    "    bowtie2Df[myG]=bowtie2Df[myG].astype(float)"
   ]
  },
  {
   "cell_type": "code",
   "execution_count": 27,
   "metadata": {},
   "outputs": [],
   "source": [
    "bowtie2Df['percent_uniquely_aligned']=(bowtie2Df['(\\d+) \\([0-9.]*%\\) aligned exactly 1 time']/bowtie2Df['n reads detected']\n",
    ")"
   ]
  },
  {
   "cell_type": "code",
   "execution_count": 28,
   "metadata": {},
   "outputs": [],
   "source": [
    "bowtie2Df['percent_multi_aligned']=(bowtie2Df['(\\d+) \\([0-9.]*%\\) aligned >1 times']/bowtie2Df['n reads detected']\n",
    ")"
   ]
  },
  {
   "cell_type": "code",
   "execution_count": 29,
   "metadata": {},
   "outputs": [],
   "source": [
    "groupby_L=['LibraryStrategy','LibraryLayout']\n"
   ]
  },
  {
   "cell_type": "code",
   "execution_count": 30,
   "metadata": {},
   "outputs": [
    {
     "data": {
      "text/html": [
       "<div>\n",
       "<style scoped>\n",
       "    .dataframe tbody tr th:only-of-type {\n",
       "        vertical-align: middle;\n",
       "    }\n",
       "\n",
       "    .dataframe tbody tr th {\n",
       "        vertical-align: top;\n",
       "    }\n",
       "\n",
       "    .dataframe thead th {\n",
       "        text-align: right;\n",
       "    }\n",
       "</style>\n",
       "<table border=\"1\" class=\"dataframe\">\n",
       "  <thead>\n",
       "    <tr style=\"text-align: right;\">\n",
       "      <th></th>\n",
       "      <th>(\\d+) \\([0-9.]*%\\) aligned &gt;1 times</th>\n",
       "      <th>(\\d+) \\([0-9.]*%\\) aligned exactly 1 time</th>\n",
       "      <th>(\\d+) mates make up the pairs</th>\n",
       "      <th>(\\d+) reads; of these:</th>\n",
       "      <th>n reads detected</th>\n",
       "      <th>LibraryStrategy</th>\n",
       "      <th>LibraryLayout</th>\n",
       "      <th>percent_uniquely_aligned</th>\n",
       "      <th>percent_multi_aligned</th>\n",
       "    </tr>\n",
       "  </thead>\n",
       "  <tbody>\n",
       "    <tr>\n",
       "      <th>SRR1767434</th>\n",
       "      <td>0.0</td>\n",
       "      <td>918.0</td>\n",
       "      <td>NaN</td>\n",
       "      <td>420572.0</td>\n",
       "      <td>420572.0</td>\n",
       "      <td>AMPLICON</td>\n",
       "      <td>SINGLE</td>\n",
       "      <td>0.002183</td>\n",
       "      <td>0.000000</td>\n",
       "    </tr>\n",
       "    <tr>\n",
       "      <th>SRR5009468</th>\n",
       "      <td>0.0</td>\n",
       "      <td>64.0</td>\n",
       "      <td>NaN</td>\n",
       "      <td>583.0</td>\n",
       "      <td>583.0</td>\n",
       "      <td>RNA-Seq</td>\n",
       "      <td>SINGLE</td>\n",
       "      <td>0.109777</td>\n",
       "      <td>0.000000</td>\n",
       "    </tr>\n",
       "    <tr>\n",
       "      <th>SRR033781</th>\n",
       "      <td>572.0</td>\n",
       "      <td>35441.0</td>\n",
       "      <td>NaN</td>\n",
       "      <td>1149373.0</td>\n",
       "      <td>1149373.0</td>\n",
       "      <td>WGS</td>\n",
       "      <td>SINGLE</td>\n",
       "      <td>0.030835</td>\n",
       "      <td>0.000498</td>\n",
       "    </tr>\n",
       "    <tr>\n",
       "      <th>SRR018411</th>\n",
       "      <td>NaN</td>\n",
       "      <td>NaN</td>\n",
       "      <td>NaN</td>\n",
       "      <td>NaN</td>\n",
       "      <td>NaN</td>\n",
       "      <td>WXS</td>\n",
       "      <td>SINGLE</td>\n",
       "      <td>NaN</td>\n",
       "      <td>NaN</td>\n",
       "    </tr>\n",
       "    <tr>\n",
       "      <th>SRR1371483</th>\n",
       "      <td>NaN</td>\n",
       "      <td>NaN</td>\n",
       "      <td>NaN</td>\n",
       "      <td>NaN</td>\n",
       "      <td>NaN</td>\n",
       "      <td>AMPLICON</td>\n",
       "      <td>SINGLE</td>\n",
       "      <td>NaN</td>\n",
       "      <td>NaN</td>\n",
       "    </tr>\n",
       "  </tbody>\n",
       "</table>\n",
       "</div>"
      ],
      "text/plain": [
       "            (\\d+) \\([0-9.]*%\\) aligned >1 times  \\\n",
       "SRR1767434                                  0.0   \n",
       "SRR5009468                                  0.0   \n",
       "SRR033781                                 572.0   \n",
       "SRR018411                                   NaN   \n",
       "SRR1371483                                  NaN   \n",
       "\n",
       "            (\\d+) \\([0-9.]*%\\) aligned exactly 1 time  \\\n",
       "SRR1767434                                      918.0   \n",
       "SRR5009468                                       64.0   \n",
       "SRR033781                                     35441.0   \n",
       "SRR018411                                         NaN   \n",
       "SRR1371483                                        NaN   \n",
       "\n",
       "            (\\d+) mates make up the pairs  (\\d+) reads; of these:  \\\n",
       "SRR1767434                            NaN                420572.0   \n",
       "SRR5009468                            NaN                   583.0   \n",
       "SRR033781                             NaN               1149373.0   \n",
       "SRR018411                             NaN                     NaN   \n",
       "SRR1371483                            NaN                     NaN   \n",
       "\n",
       "            n reads detected LibraryStrategy LibraryLayout  \\\n",
       "SRR1767434          420572.0        AMPLICON        SINGLE   \n",
       "SRR5009468             583.0         RNA-Seq        SINGLE   \n",
       "SRR033781          1149373.0             WGS        SINGLE   \n",
       "SRR018411                NaN             WXS        SINGLE   \n",
       "SRR1371483               NaN        AMPLICON        SINGLE   \n",
       "\n",
       "            percent_uniquely_aligned  percent_multi_aligned  \n",
       "SRR1767434                  0.002183               0.000000  \n",
       "SRR5009468                  0.109777               0.000000  \n",
       "SRR033781                   0.030835               0.000498  \n",
       "SRR018411                        NaN                    NaN  \n",
       "SRR1371483                       NaN                    NaN  "
      ]
     },
     "execution_count": 30,
     "metadata": {},
     "output_type": "execute_result"
    }
   ],
   "source": [
    "bowtie2Df.head()"
   ]
  },
  {
   "cell_type": "code",
   "execution_count": null,
   "metadata": {},
   "outputs": [],
   "source": []
  },
  {
   "cell_type": "code",
   "execution_count": 31,
   "metadata": {},
   "outputs": [
    {
     "name": "stdout",
     "output_type": "stream",
     "text": [
      "sample size count\n"
     ]
    },
    {
     "data": {
      "text/html": [
       "<div>\n",
       "<style scoped>\n",
       "    .dataframe tbody tr th:only-of-type {\n",
       "        vertical-align: middle;\n",
       "    }\n",
       "\n",
       "    .dataframe tbody tr th {\n",
       "        vertical-align: top;\n",
       "    }\n",
       "\n",
       "    .dataframe thead tr th {\n",
       "        text-align: left;\n",
       "    }\n",
       "</style>\n",
       "<table border=\"1\" class=\"dataframe\">\n",
       "  <thead>\n",
       "    <tr>\n",
       "      <th>LibraryStrategy</th>\n",
       "      <th colspan=\"2\" halign=\"left\">AMPLICON</th>\n",
       "      <th colspan=\"2\" halign=\"left\">ChIP-Seq</th>\n",
       "      <th colspan=\"2\" halign=\"left\">RNA-Seq</th>\n",
       "      <th colspan=\"2\" halign=\"left\">WGS</th>\n",
       "      <th colspan=\"2\" halign=\"left\">WXS</th>\n",
       "    </tr>\n",
       "    <tr>\n",
       "      <th>LibraryLayout</th>\n",
       "      <th>PAIRED</th>\n",
       "      <th>SINGLE</th>\n",
       "      <th>PAIRED</th>\n",
       "      <th>SINGLE</th>\n",
       "      <th>PAIRED</th>\n",
       "      <th>SINGLE</th>\n",
       "      <th>PAIRED</th>\n",
       "      <th>SINGLE</th>\n",
       "      <th>PAIRED</th>\n",
       "      <th>SINGLE</th>\n",
       "    </tr>\n",
       "  </thead>\n",
       "  <tbody>\n",
       "    <tr>\n",
       "      <th>0</th>\n",
       "      <td>9472</td>\n",
       "      <td>2011</td>\n",
       "      <td>6291</td>\n",
       "      <td>29410</td>\n",
       "      <td>73428</td>\n",
       "      <td>48106</td>\n",
       "      <td>72915</td>\n",
       "      <td>7593</td>\n",
       "      <td>26949</td>\n",
       "      <td>1497</td>\n",
       "    </tr>\n",
       "  </tbody>\n",
       "</table>\n",
       "</div>"
      ],
      "text/plain": [
       "LibraryStrategy AMPLICON        ChIP-Seq        RNA-Seq           WGS         \\\n",
       "LibraryLayout     PAIRED SINGLE   PAIRED SINGLE  PAIRED SINGLE PAIRED SINGLE   \n",
       "0                   9472   2011     6291  29410   73428  48106  72915   7593   \n",
       "\n",
       "LibraryStrategy    WXS         \n",
       "LibraryLayout   PAIRED SINGLE  \n",
       "0                26949   1497  "
      ]
     },
     "execution_count": 31,
     "metadata": {},
     "output_type": "execute_result"
    }
   ],
   "source": [
    "print ('sample size count')\n",
    "bowtie2Df[bowtie2Df['n reads detected'].notnull()].groupby(groupby_L).size().to_frame().T"
   ]
  },
  {
   "cell_type": "code",
   "execution_count": 32,
   "metadata": {},
   "outputs": [],
   "source": [
    "\n",
    "tmpDf=bowtie2Df.groupby(groupby_L).median().T"
   ]
  },
  {
   "cell_type": "code",
   "execution_count": 33,
   "metadata": {},
   "outputs": [
    {
     "data": {
      "text/html": [
       "<div>\n",
       "<style scoped>\n",
       "    .dataframe tbody tr th:only-of-type {\n",
       "        vertical-align: middle;\n",
       "    }\n",
       "\n",
       "    .dataframe tbody tr th {\n",
       "        vertical-align: top;\n",
       "    }\n",
       "\n",
       "    .dataframe thead tr th {\n",
       "        text-align: left;\n",
       "    }\n",
       "</style>\n",
       "<table border=\"1\" class=\"dataframe\">\n",
       "  <thead>\n",
       "    <tr>\n",
       "      <th>LibraryStrategy</th>\n",
       "      <th colspan=\"2\" halign=\"left\">AMPLICON</th>\n",
       "      <th colspan=\"2\" halign=\"left\">ChIP-Seq</th>\n",
       "      <th colspan=\"2\" halign=\"left\">RNA-Seq</th>\n",
       "      <th colspan=\"2\" halign=\"left\">WGS</th>\n",
       "      <th colspan=\"2\" halign=\"left\">WXS</th>\n",
       "    </tr>\n",
       "    <tr>\n",
       "      <th>LibraryLayout</th>\n",
       "      <th>PAIRED</th>\n",
       "      <th>SINGLE</th>\n",
       "      <th>PAIRED</th>\n",
       "      <th>SINGLE</th>\n",
       "      <th>PAIRED</th>\n",
       "      <th>SINGLE</th>\n",
       "      <th>PAIRED</th>\n",
       "      <th>SINGLE</th>\n",
       "      <th>PAIRED</th>\n",
       "      <th>SINGLE</th>\n",
       "    </tr>\n",
       "  </thead>\n",
       "  <tbody>\n",
       "    <tr>\n",
       "      <th>(\\d+) \\([0-9.]*%\\) aligned &gt;1 times</th>\n",
       "      <td>4.764000e+03</td>\n",
       "      <td>3.419600e+04</td>\n",
       "      <td>2.543300e+04</td>\n",
       "      <td>1.046650e+05</td>\n",
       "      <td>1.606805e+05</td>\n",
       "      <td>6.954460e+05</td>\n",
       "      <td>2.739000e+03</td>\n",
       "      <td>1.425600e+04</td>\n",
       "      <td>1.420400e+04</td>\n",
       "      <td>1.135200e+04</td>\n",
       "    </tr>\n",
       "    <tr>\n",
       "      <th>(\\d+) \\([0-9.]*%\\) aligned exactly 1 time</th>\n",
       "      <td>3.227400e+04</td>\n",
       "      <td>1.999320e+05</td>\n",
       "      <td>8.216710e+05</td>\n",
       "      <td>1.690868e+06</td>\n",
       "      <td>1.189300e+06</td>\n",
       "      <td>2.765874e+06</td>\n",
       "      <td>6.377900e+04</td>\n",
       "      <td>3.832330e+05</td>\n",
       "      <td>1.348910e+05</td>\n",
       "      <td>1.223420e+05</td>\n",
       "    </tr>\n",
       "    <tr>\n",
       "      <th>(\\d+) mates make up the pairs</th>\n",
       "      <td>1.704074e+06</td>\n",
       "      <td>NaN</td>\n",
       "      <td>4.897070e+07</td>\n",
       "      <td>NaN</td>\n",
       "      <td>1.920547e+07</td>\n",
       "      <td>NaN</td>\n",
       "      <td>5.677258e+06</td>\n",
       "      <td>NaN</td>\n",
       "      <td>3.849950e+06</td>\n",
       "      <td>NaN</td>\n",
       "    </tr>\n",
       "    <tr>\n",
       "      <th>(\\d+) reads; of these:</th>\n",
       "      <td>NaN</td>\n",
       "      <td>4.024483e+06</td>\n",
       "      <td>NaN</td>\n",
       "      <td>2.214723e+07</td>\n",
       "      <td>1.000000e+00</td>\n",
       "      <td>1.200173e+07</td>\n",
       "      <td>NaN</td>\n",
       "      <td>6.544737e+06</td>\n",
       "      <td>NaN</td>\n",
       "      <td>5.598512e+07</td>\n",
       "    </tr>\n",
       "    <tr>\n",
       "      <th>n reads detected</th>\n",
       "      <td>1.704074e+06</td>\n",
       "      <td>4.024483e+06</td>\n",
       "      <td>4.897070e+07</td>\n",
       "      <td>2.214723e+07</td>\n",
       "      <td>1.920446e+07</td>\n",
       "      <td>1.200173e+07</td>\n",
       "      <td>5.677258e+06</td>\n",
       "      <td>6.544737e+06</td>\n",
       "      <td>3.849950e+06</td>\n",
       "      <td>5.598512e+07</td>\n",
       "    </tr>\n",
       "    <tr>\n",
       "      <th>percent_uniquely_aligned</th>\n",
       "      <td>2.746590e-02</td>\n",
       "      <td>4.478626e-02</td>\n",
       "      <td>1.849488e-02</td>\n",
       "      <td>7.646775e-02</td>\n",
       "      <td>7.088738e-02</td>\n",
       "      <td>2.882030e-01</td>\n",
       "      <td>1.766939e-02</td>\n",
       "      <td>6.386286e-02</td>\n",
       "      <td>3.906408e-02</td>\n",
       "      <td>2.182173e-03</td>\n",
       "    </tr>\n",
       "    <tr>\n",
       "      <th>percent_multi_aligned</th>\n",
       "      <td>1.900389e-03</td>\n",
       "      <td>7.492049e-03</td>\n",
       "      <td>7.422455e-04</td>\n",
       "      <td>4.636881e-03</td>\n",
       "      <td>8.721957e-03</td>\n",
       "      <td>6.048607e-02</td>\n",
       "      <td>4.763846e-04</td>\n",
       "      <td>2.236931e-03</td>\n",
       "      <td>3.998311e-03</td>\n",
       "      <td>2.144878e-04</td>\n",
       "    </tr>\n",
       "  </tbody>\n",
       "</table>\n",
       "</div>"
      ],
      "text/plain": [
       "LibraryStrategy                                AMPLICON                \\\n",
       "LibraryLayout                                    PAIRED        SINGLE   \n",
       "(\\d+) \\([0-9.]*%\\) aligned >1 times        4.764000e+03  3.419600e+04   \n",
       "(\\d+) \\([0-9.]*%\\) aligned exactly 1 time  3.227400e+04  1.999320e+05   \n",
       "(\\d+) mates make up the pairs              1.704074e+06           NaN   \n",
       "(\\d+) reads; of these:                              NaN  4.024483e+06   \n",
       "n reads detected                           1.704074e+06  4.024483e+06   \n",
       "percent_uniquely_aligned                   2.746590e-02  4.478626e-02   \n",
       "percent_multi_aligned                      1.900389e-03  7.492049e-03   \n",
       "\n",
       "LibraryStrategy                                ChIP-Seq                \\\n",
       "LibraryLayout                                    PAIRED        SINGLE   \n",
       "(\\d+) \\([0-9.]*%\\) aligned >1 times        2.543300e+04  1.046650e+05   \n",
       "(\\d+) \\([0-9.]*%\\) aligned exactly 1 time  8.216710e+05  1.690868e+06   \n",
       "(\\d+) mates make up the pairs              4.897070e+07           NaN   \n",
       "(\\d+) reads; of these:                              NaN  2.214723e+07   \n",
       "n reads detected                           4.897070e+07  2.214723e+07   \n",
       "percent_uniquely_aligned                   1.849488e-02  7.646775e-02   \n",
       "percent_multi_aligned                      7.422455e-04  4.636881e-03   \n",
       "\n",
       "LibraryStrategy                                 RNA-Seq                \\\n",
       "LibraryLayout                                    PAIRED        SINGLE   \n",
       "(\\d+) \\([0-9.]*%\\) aligned >1 times        1.606805e+05  6.954460e+05   \n",
       "(\\d+) \\([0-9.]*%\\) aligned exactly 1 time  1.189300e+06  2.765874e+06   \n",
       "(\\d+) mates make up the pairs              1.920547e+07           NaN   \n",
       "(\\d+) reads; of these:                     1.000000e+00  1.200173e+07   \n",
       "n reads detected                           1.920446e+07  1.200173e+07   \n",
       "percent_uniquely_aligned                   7.088738e-02  2.882030e-01   \n",
       "percent_multi_aligned                      8.721957e-03  6.048607e-02   \n",
       "\n",
       "LibraryStrategy                                     WGS                \\\n",
       "LibraryLayout                                    PAIRED        SINGLE   \n",
       "(\\d+) \\([0-9.]*%\\) aligned >1 times        2.739000e+03  1.425600e+04   \n",
       "(\\d+) \\([0-9.]*%\\) aligned exactly 1 time  6.377900e+04  3.832330e+05   \n",
       "(\\d+) mates make up the pairs              5.677258e+06           NaN   \n",
       "(\\d+) reads; of these:                              NaN  6.544737e+06   \n",
       "n reads detected                           5.677258e+06  6.544737e+06   \n",
       "percent_uniquely_aligned                   1.766939e-02  6.386286e-02   \n",
       "percent_multi_aligned                      4.763846e-04  2.236931e-03   \n",
       "\n",
       "LibraryStrategy                                     WXS                \n",
       "LibraryLayout                                    PAIRED        SINGLE  \n",
       "(\\d+) \\([0-9.]*%\\) aligned >1 times        1.420400e+04  1.135200e+04  \n",
       "(\\d+) \\([0-9.]*%\\) aligned exactly 1 time  1.348910e+05  1.223420e+05  \n",
       "(\\d+) mates make up the pairs              3.849950e+06           NaN  \n",
       "(\\d+) reads; of these:                              NaN  5.598512e+07  \n",
       "n reads detected                           3.849950e+06  5.598512e+07  \n",
       "percent_uniquely_aligned                   3.906408e-02  2.182173e-03  \n",
       "percent_multi_aligned                      3.998311e-03  2.144878e-04  "
      ]
     },
     "execution_count": 33,
     "metadata": {},
     "output_type": "execute_result"
    }
   ],
   "source": [
    "includeLibraryL='AMPLICON','ChIP-Seq','RNA-Seq','WGS','WXS'\n",
    "m_2=tmpDf.columns.get_level_values('LibraryStrategy').isin(\n",
    "includeLibraryL)\n",
    "tmpDf.loc[:,m_2]"
   ]
  },
  {
   "cell_type": "code",
   "execution_count": 34,
   "metadata": {},
   "outputs": [],
   "source": [
    "#'proj_accession_Visibility', 'Status'\n",
    "#sra_dump_df[('SRAmeta','proj_accession_Visibility')]"
   ]
  },
  {
   "cell_type": "code",
   "execution_count": 35,
   "metadata": {},
   "outputs": [],
   "source": [
    "#sra_dump_df.head().T"
   ]
  },
  {
   "cell_type": "code",
   "execution_count": 36,
   "metadata": {},
   "outputs": [],
   "source": [
    "fastqc_df=sra_dump_df['fastqc']"
   ]
  },
  {
   "cell_type": "code",
   "execution_count": null,
   "metadata": {},
   "outputs": [],
   "source": []
  },
  {
   "cell_type": "code",
   "execution_count": 37,
   "metadata": {},
   "outputs": [
    {
     "name": "stderr",
     "output_type": "stream",
     "text": [
      "/cellar/users/btsui/anaconda3/lib/python3.6/site-packages/ipykernel_launcher.py:1: SettingWithCopyWarning: \n",
      "A value is trying to be set on a copy of a slice from a DataFrame.\n",
      "Try using .loc[row_indexer,col_indexer] = value instead\n",
      "\n",
      "See the caveats in the documentation: http://pandas.pydata.org/pandas-docs/stable/indexing.html#indexing-view-versus-copy\n",
      "  \"\"\"Entry point for launching an IPython kernel.\n",
      "/cellar/users/btsui/anaconda3/lib/python3.6/site-packages/ipykernel_launcher.py:2: SettingWithCopyWarning: \n",
      "A value is trying to be set on a copy of a slice from a DataFrame.\n",
      "Try using .loc[row_indexer,col_indexer] = value instead\n",
      "\n",
      "See the caveats in the documentation: http://pandas.pydata.org/pandas-docs/stable/indexing.html#indexing-view-versus-copy\n",
      "  \n"
     ]
    }
   ],
   "source": [
    "fastqc_df['LibraryStrategy']=sra_dump_df['SRAmeta']['LibraryStrategy'].values\n",
    "fastqc_df['LibraryLayout']=sra_dump_df['SRAmeta']['LibraryLayout'].values\n"
   ]
  },
  {
   "cell_type": "code",
   "execution_count": 38,
   "metadata": {},
   "outputs": [],
   "source": [
    "#fastqc_df.head()"
   ]
  },
  {
   "cell_type": "code",
   "execution_count": 39,
   "metadata": {},
   "outputs": [
    {
     "name": "stderr",
     "output_type": "stream",
     "text": [
      "/cellar/users/btsui/anaconda3/lib/python3.6/site-packages/ipykernel_launcher.py:7: SettingWithCopyWarning: \n",
      "A value is trying to be set on a copy of a slice from a DataFrame.\n",
      "Try using .loc[row_indexer,col_indexer] = value instead\n",
      "\n",
      "See the caveats in the documentation: http://pandas.pydata.org/pandas-docs/stable/indexing.html#indexing-view-versus-copy\n",
      "  import sys\n"
     ]
    }
   ],
   "source": [
    "myGL=['Reads with adapters:\\s+([0-9,]+)',\n",
    "       'Total basepairs processed:\\s+([0-9,]+)',\n",
    "       'Total reads processed:\\s+([0-9,]+)',\n",
    "       'Total written \\(filtered\\):\\s+([0-9,]+)']\n",
    "fastq_df=fastqc_df.dropna()\n",
    "for myG in myGL:\n",
    "    fastq_df[myG]=fastq_df[myG].str.replace(',','').astype(float)\n",
    "    "
   ]
  },
  {
   "cell_type": "code",
   "execution_count": 40,
   "metadata": {},
   "outputs": [
    {
     "name": "stderr",
     "output_type": "stream",
     "text": [
      "/cellar/users/btsui/anaconda3/lib/python3.6/site-packages/ipykernel_launcher.py:1: SettingWithCopyWarning: \n",
      "A value is trying to be set on a copy of a slice from a DataFrame.\n",
      "Try using .loc[row_indexer,col_indexer] = value instead\n",
      "\n",
      "See the caveats in the documentation: http://pandas.pydata.org/pandas-docs/stable/indexing.html#indexing-view-versus-copy\n",
      "  \"\"\"Entry point for launching an IPython kernel.\n"
     ]
    }
   ],
   "source": [
    "fastq_df['read_length']=fastq_df['Total basepairs processed:\\s+([0-9,]+)']/fastq_df['Total reads processed:\\s+([0-9,]+)']"
   ]
  },
  {
   "cell_type": "code",
   "execution_count": 61,
   "metadata": {},
   "outputs": [],
   "source": [
    "#fastq_df['Total basepairs processed:\\s+([0-9,]+)']"
   ]
  },
  {
   "cell_type": "code",
   "execution_count": 55,
   "metadata": {},
   "outputs": [],
   "source": [
    "#fastq_df['read_length'].median()"
   ]
  },
  {
   "cell_type": "code",
   "execution_count": 56,
   "metadata": {},
   "outputs": [],
   "source": [
    "tmpS=1-(fastq_df['Total written \\(filtered\\):\\s+([0-9,]+)']/fastq_df['Total basepairs processed:\\s+([0-9,]+)'])"
   ]
  },
  {
   "cell_type": "code",
   "execution_count": 59,
   "metadata": {},
   "outputs": [],
   "source": [
    "#tmpS[(tmpS>0)].median()"
   ]
  },
  {
   "cell_type": "code",
   "execution_count": 185,
   "metadata": {},
   "outputs": [
    {
     "data": {
      "text/html": [
       "<div>\n",
       "<style scoped>\n",
       "    .dataframe tbody tr th:only-of-type {\n",
       "        vertical-align: middle;\n",
       "    }\n",
       "\n",
       "    .dataframe tbody tr th {\n",
       "        vertical-align: top;\n",
       "    }\n",
       "\n",
       "    .dataframe thead tr th {\n",
       "        text-align: left;\n",
       "    }\n",
       "</style>\n",
       "<table border=\"1\" class=\"dataframe\">\n",
       "  <thead>\n",
       "    <tr>\n",
       "      <th>LibraryStrategy</th>\n",
       "      <th colspan=\"2\" halign=\"left\">AMPLICON</th>\n",
       "      <th colspan=\"2\" halign=\"left\">ChIP-Seq</th>\n",
       "      <th colspan=\"2\" halign=\"left\">RNA-Seq</th>\n",
       "      <th colspan=\"2\" halign=\"left\">WGS</th>\n",
       "      <th colspan=\"2\" halign=\"left\">WXS</th>\n",
       "    </tr>\n",
       "    <tr>\n",
       "      <th>LibraryLayout</th>\n",
       "      <th>PAIRED</th>\n",
       "      <th>SINGLE</th>\n",
       "      <th>PAIRED</th>\n",
       "      <th>SINGLE</th>\n",
       "      <th>PAIRED</th>\n",
       "      <th>SINGLE</th>\n",
       "      <th>PAIRED</th>\n",
       "      <th>SINGLE</th>\n",
       "      <th>PAIRED</th>\n",
       "      <th>SINGLE</th>\n",
       "    </tr>\n",
       "  </thead>\n",
       "  <tbody>\n",
       "    <tr>\n",
       "      <th>Reads with adapters:\\s+([0-9,]+)</th>\n",
       "      <td>631.0</td>\n",
       "      <td>579.0</td>\n",
       "      <td>721.0</td>\n",
       "      <td>877.0</td>\n",
       "      <td>686.0</td>\n",
       "      <td>826.0</td>\n",
       "      <td>632.0</td>\n",
       "      <td>864.000</td>\n",
       "      <td>674.0</td>\n",
       "      <td>800.000</td>\n",
       "    </tr>\n",
       "    <tr>\n",
       "      <th>Total basepairs processed:\\s+([0-9,]+)</th>\n",
       "      <td>500000.0</td>\n",
       "      <td>360000.0</td>\n",
       "      <td>200000.0</td>\n",
       "      <td>125000.0</td>\n",
       "      <td>180000.0</td>\n",
       "      <td>127500.0</td>\n",
       "      <td>202000.0</td>\n",
       "      <td>242841.000</td>\n",
       "      <td>200000.0</td>\n",
       "      <td>449190.000</td>\n",
       "    </tr>\n",
       "    <tr>\n",
       "      <th>Total reads processed:\\s+([0-9,]+)</th>\n",
       "      <td>2000.0</td>\n",
       "      <td>2500.0</td>\n",
       "      <td>2000.0</td>\n",
       "      <td>2500.0</td>\n",
       "      <td>2000.0</td>\n",
       "      <td>2500.0</td>\n",
       "      <td>2000.0</td>\n",
       "      <td>2500.000</td>\n",
       "      <td>2000.0</td>\n",
       "      <td>2500.000</td>\n",
       "    </tr>\n",
       "    <tr>\n",
       "      <th>Total written \\(filtered\\):\\s+([0-9,]+)</th>\n",
       "      <td>488074.0</td>\n",
       "      <td>311307.0</td>\n",
       "      <td>195823.0</td>\n",
       "      <td>118293.0</td>\n",
       "      <td>159713.0</td>\n",
       "      <td>125811.0</td>\n",
       "      <td>197283.0</td>\n",
       "      <td>185169.000</td>\n",
       "      <td>195717.0</td>\n",
       "      <td>428996.000</td>\n",
       "    </tr>\n",
       "    <tr>\n",
       "      <th>read_length</th>\n",
       "      <td>250.0</td>\n",
       "      <td>144.0</td>\n",
       "      <td>100.0</td>\n",
       "      <td>50.0</td>\n",
       "      <td>90.0</td>\n",
       "      <td>51.0</td>\n",
       "      <td>101.0</td>\n",
       "      <td>97.325</td>\n",
       "      <td>100.0</td>\n",
       "      <td>179.676</td>\n",
       "    </tr>\n",
       "  </tbody>\n",
       "</table>\n",
       "</div>"
      ],
      "text/plain": [
       "LibraryStrategy                          AMPLICON            ChIP-Seq  \\\n",
       "LibraryLayout                              PAIRED    SINGLE    PAIRED   \n",
       "Reads with adapters:\\s+([0-9,]+)            631.0     579.0     721.0   \n",
       "Total basepairs processed:\\s+([0-9,]+)   500000.0  360000.0  200000.0   \n",
       "Total reads processed:\\s+([0-9,]+)         2000.0    2500.0    2000.0   \n",
       "Total written \\(filtered\\):\\s+([0-9,]+)  488074.0  311307.0  195823.0   \n",
       "read_length                                 250.0     144.0     100.0   \n",
       "\n",
       "LibraryStrategy                                     RNA-Seq            \\\n",
       "LibraryLayout                              SINGLE    PAIRED    SINGLE   \n",
       "Reads with adapters:\\s+([0-9,]+)            877.0     686.0     826.0   \n",
       "Total basepairs processed:\\s+([0-9,]+)   125000.0  180000.0  127500.0   \n",
       "Total reads processed:\\s+([0-9,]+)         2500.0    2000.0    2500.0   \n",
       "Total written \\(filtered\\):\\s+([0-9,]+)  118293.0  159713.0  125811.0   \n",
       "read_length                                  50.0      90.0      51.0   \n",
       "\n",
       "LibraryStrategy                               WGS                   WXS  \\\n",
       "LibraryLayout                              PAIRED      SINGLE    PAIRED   \n",
       "Reads with adapters:\\s+([0-9,]+)            632.0     864.000     674.0   \n",
       "Total basepairs processed:\\s+([0-9,]+)   202000.0  242841.000  200000.0   \n",
       "Total reads processed:\\s+([0-9,]+)         2000.0    2500.000    2000.0   \n",
       "Total written \\(filtered\\):\\s+([0-9,]+)  197283.0  185169.000  195717.0   \n",
       "read_length                                 101.0      97.325     100.0   \n",
       "\n",
       "LibraryStrategy                                      \n",
       "LibraryLayout                                SINGLE  \n",
       "Reads with adapters:\\s+([0-9,]+)            800.000  \n",
       "Total basepairs processed:\\s+([0-9,]+)   449190.000  \n",
       "Total reads processed:\\s+([0-9,]+)         2500.000  \n",
       "Total written \\(filtered\\):\\s+([0-9,]+)  428996.000  \n",
       "read_length                                 179.676  "
      ]
     },
     "execution_count": 185,
     "metadata": {},
     "output_type": "execute_result"
    }
   ],
   "source": [
    "groupby_L=['LibraryStrategy','LibraryLayout']\n",
    "fastq_df.groupby(groupby_L).median().dropna().T\n"
   ]
  },
  {
   "cell_type": "code",
   "execution_count": null,
   "metadata": {},
   "outputs": [],
   "source": []
  },
  {
   "cell_type": "code",
   "execution_count": 186,
   "metadata": {},
   "outputs": [],
   "source": [
    "g=fastqc_df.groupby(groupby_L)['Adapter sequence:(.*)']\n",
    "\n",
    "adaptorVC=g.value_counts()"
   ]
  },
  {
   "cell_type": "code",
   "execution_count": null,
   "metadata": {},
   "outputs": [],
   "source": []
  },
  {
   "cell_type": "code",
   "execution_count": 187,
   "metadata": {},
   "outputs": [
    {
     "data": {
      "text/html": [
       "<div>\n",
       "<style scoped>\n",
       "    .dataframe tbody tr th:only-of-type {\n",
       "        vertical-align: middle;\n",
       "    }\n",
       "\n",
       "    .dataframe tbody tr th {\n",
       "        vertical-align: top;\n",
       "    }\n",
       "\n",
       "    .dataframe thead tr th {\n",
       "        text-align: left;\n",
       "    }\n",
       "\n",
       "    .dataframe thead tr:last-of-type th {\n",
       "        text-align: right;\n",
       "    }\n",
       "</style>\n",
       "<table border=\"1\" class=\"dataframe\">\n",
       "  <thead>\n",
       "    <tr>\n",
       "      <th>LibraryStrategy</th>\n",
       "      <th colspan=\"2\" halign=\"left\">AMPLICON</th>\n",
       "      <th colspan=\"2\" halign=\"left\">ChIP-Seq</th>\n",
       "      <th colspan=\"2\" halign=\"left\">RNA-Seq</th>\n",
       "      <th colspan=\"2\" halign=\"left\">WGS</th>\n",
       "      <th colspan=\"2\" halign=\"left\">WXS</th>\n",
       "    </tr>\n",
       "    <tr>\n",
       "      <th>LibraryLayout</th>\n",
       "      <th>PAIRED</th>\n",
       "      <th>SINGLE</th>\n",
       "      <th>PAIRED</th>\n",
       "      <th>SINGLE</th>\n",
       "      <th>PAIRED</th>\n",
       "      <th>SINGLE</th>\n",
       "      <th>PAIRED</th>\n",
       "      <th>SINGLE</th>\n",
       "      <th>PAIRED</th>\n",
       "      <th>SINGLE</th>\n",
       "    </tr>\n",
       "    <tr>\n",
       "      <th>Adapter sequence:(.*)</th>\n",
       "      <th></th>\n",
       "      <th></th>\n",
       "      <th></th>\n",
       "      <th></th>\n",
       "      <th></th>\n",
       "      <th></th>\n",
       "      <th></th>\n",
       "      <th></th>\n",
       "      <th></th>\n",
       "      <th></th>\n",
       "    </tr>\n",
       "  </thead>\n",
       "  <tbody>\n",
       "    <tr>\n",
       "      <th>'AGATCGGAAGAGC' (Illumina TruSeq, Sanger iPCR; auto-detected)</th>\n",
       "      <td>1065</td>\n",
       "      <td>904</td>\n",
       "      <td>1819</td>\n",
       "      <td>12901</td>\n",
       "      <td>14993</td>\n",
       "      <td>20620</td>\n",
       "      <td>16216</td>\n",
       "      <td>4379</td>\n",
       "      <td>3257</td>\n",
       "      <td>1136</td>\n",
       "    </tr>\n",
       "    <tr>\n",
       "      <th>'AGATCGGAAGAGC' (Illumina TruSeq, Sanger iPCR; default (inconclusive auto-detection))</th>\n",
       "      <td>1744</td>\n",
       "      <td>1403</td>\n",
       "      <td>927</td>\n",
       "      <td>19581</td>\n",
       "      <td>11630</td>\n",
       "      <td>21422</td>\n",
       "      <td>16028</td>\n",
       "      <td>8598</td>\n",
       "      <td>4245</td>\n",
       "      <td>2724</td>\n",
       "    </tr>\n",
       "    <tr>\n",
       "      <th>'ATGGAATTCTCG' (Illumina small RNA adapter; auto-detected)</th>\n",
       "      <td>34</td>\n",
       "      <td>73</td>\n",
       "      <td>1</td>\n",
       "      <td>56</td>\n",
       "      <td>57</td>\n",
       "      <td>1436</td>\n",
       "      <td>54</td>\n",
       "      <td>519</td>\n",
       "      <td>5</td>\n",
       "      <td>201</td>\n",
       "    </tr>\n",
       "    <tr>\n",
       "      <th>'CTGTCTCTTATA' (Nextera Transposase sequence; auto-detected)</th>\n",
       "      <td>370</td>\n",
       "      <td>213</td>\n",
       "      <td>28</td>\n",
       "      <td>229</td>\n",
       "      <td>3105</td>\n",
       "      <td>12053</td>\n",
       "      <td>21165</td>\n",
       "      <td>3414</td>\n",
       "      <td>127</td>\n",
       "      <td>64</td>\n",
       "    </tr>\n",
       "  </tbody>\n",
       "</table>\n",
       "</div>"
      ],
      "text/plain": [
       "LibraryStrategy                                    AMPLICON        ChIP-Seq  \\\n",
       "LibraryLayout                                        PAIRED SINGLE   PAIRED   \n",
       "Adapter sequence:(.*)                                                         \n",
       " 'AGATCGGAAGAGC' (Illumina TruSeq, Sanger iPCR;...     1065    904     1819   \n",
       " 'AGATCGGAAGAGC' (Illumina TruSeq, Sanger iPCR;...     1744   1403      927   \n",
       " 'ATGGAATTCTCG' (Illumina small RNA adapter; au...       34     73        1   \n",
       " 'CTGTCTCTTATA' (Nextera Transposase sequence; ...      370    213       28   \n",
       "\n",
       "LibraryStrategy                                           RNA-Seq         \\\n",
       "LibraryLayout                                      SINGLE  PAIRED SINGLE   \n",
       "Adapter sequence:(.*)                                                      \n",
       " 'AGATCGGAAGAGC' (Illumina TruSeq, Sanger iPCR;...  12901   14993  20620   \n",
       " 'AGATCGGAAGAGC' (Illumina TruSeq, Sanger iPCR;...  19581   11630  21422   \n",
       " 'ATGGAATTCTCG' (Illumina small RNA adapter; au...     56      57   1436   \n",
       " 'CTGTCTCTTATA' (Nextera Transposase sequence; ...    229    3105  12053   \n",
       "\n",
       "LibraryStrategy                                       WGS           WXS         \n",
       "LibraryLayout                                      PAIRED SINGLE PAIRED SINGLE  \n",
       "Adapter sequence:(.*)                                                           \n",
       " 'AGATCGGAAGAGC' (Illumina TruSeq, Sanger iPCR;...  16216   4379   3257   1136  \n",
       " 'AGATCGGAAGAGC' (Illumina TruSeq, Sanger iPCR;...  16028   8598   4245   2724  \n",
       " 'ATGGAATTCTCG' (Illumina small RNA adapter; au...     54    519      5    201  \n",
       " 'CTGTCTCTTATA' (Nextera Transposase sequence; ...  21165   3414    127     64  "
      ]
     },
     "execution_count": 187,
     "metadata": {},
     "output_type": "execute_result"
    }
   ],
   "source": [
    "adaptorVC.unstack().T"
   ]
  },
  {
   "cell_type": "markdown",
   "metadata": {},
   "source": []
  },
  {
   "cell_type": "code",
   "execution_count": null,
   "metadata": {},
   "outputs": [],
   "source": [
    "asdasdasd"
   ]
  },
  {
   "cell_type": "markdown",
   "metadata": {},
   "source": [
    "# scratch"
   ]
  },
  {
   "cell_type": "code",
   "execution_count": 87,
   "metadata": {},
   "outputs": [],
   "source": [
    "sra_dump_df[('fastqc','Adapter sequence:(.*)')]"
   ]
  },
  {
   "cell_type": "code",
   "execution_count": 84,
   "metadata": {},
   "outputs": [
    {
     "ename": "KeyError",
     "evalue": "\"Columns not found: 'n reads detected', 'bowtie2'\"",
     "output_type": "error",
     "traceback": [
      "\u001b[0;31m---------------------------------------------------------------------------\u001b[0m",
      "\u001b[0;31mKeyError\u001b[0m                                  Traceback (most recent call last)",
      "\u001b[0;32m<ipython-input-84-856f51f08bc3>\u001b[0m in \u001b[0;36m<module>\u001b[0;34m()\u001b[0m\n\u001b[0;32m----> 1\u001b[0;31m \u001b[0mg\u001b[0m\u001b[0;34m[\u001b[0m\u001b[0;34m[\u001b[0m\u001b[0;34m'bowtie2'\u001b[0m\u001b[0;34m,\u001b[0m\u001b[0;34m'n reads detected'\u001b[0m\u001b[0;34m]\u001b[0m\u001b[0;34m]\u001b[0m\u001b[0;34m.\u001b[0m\u001b[0mastype\u001b[0m\u001b[0;34m(\u001b[0m\u001b[0mfloat\u001b[0m\u001b[0;34m)\u001b[0m\u001b[0;34m.\u001b[0m\u001b[0mmedian\u001b[0m\u001b[0;34m(\u001b[0m\u001b[0maxis\u001b[0m\u001b[0;34m=\u001b[0m\u001b[0;36m0\u001b[0m\u001b[0;34m)\u001b[0m\u001b[0;34m\u001b[0m\u001b[0m\n\u001b[0m",
      "\u001b[0;32m~/anaconda3/lib/python3.6/site-packages/pandas/core/base.py\u001b[0m in \u001b[0;36m__getitem__\u001b[0;34m(self, key)\u001b[0m\n\u001b[1;32m    255\u001b[0m                 \u001b[0mbad_keys\u001b[0m \u001b[0;34m=\u001b[0m \u001b[0mlist\u001b[0m\u001b[0;34m(\u001b[0m\u001b[0mset\u001b[0m\u001b[0;34m(\u001b[0m\u001b[0mkey\u001b[0m\u001b[0;34m)\u001b[0m\u001b[0;34m.\u001b[0m\u001b[0mdifference\u001b[0m\u001b[0;34m(\u001b[0m\u001b[0mself\u001b[0m\u001b[0;34m.\u001b[0m\u001b[0mobj\u001b[0m\u001b[0;34m.\u001b[0m\u001b[0mcolumns\u001b[0m\u001b[0;34m)\u001b[0m\u001b[0;34m)\u001b[0m\u001b[0;34m\u001b[0m\u001b[0m\n\u001b[1;32m    256\u001b[0m                 raise KeyError(\"Columns not found: {missing}\"\n\u001b[0;32m--> 257\u001b[0;31m                                .format(missing=str(bad_keys)[1:-1]))\n\u001b[0m\u001b[1;32m    258\u001b[0m             \u001b[0;32mreturn\u001b[0m \u001b[0mself\u001b[0m\u001b[0;34m.\u001b[0m\u001b[0m_gotitem\u001b[0m\u001b[0;34m(\u001b[0m\u001b[0mlist\u001b[0m\u001b[0;34m(\u001b[0m\u001b[0mkey\u001b[0m\u001b[0;34m)\u001b[0m\u001b[0;34m,\u001b[0m \u001b[0mndim\u001b[0m\u001b[0;34m=\u001b[0m\u001b[0;36m2\u001b[0m\u001b[0;34m)\u001b[0m\u001b[0;34m\u001b[0m\u001b[0m\n\u001b[1;32m    259\u001b[0m \u001b[0;34m\u001b[0m\u001b[0m\n",
      "\u001b[0;31mKeyError\u001b[0m: \"Columns not found: 'n reads detected', 'bowtie2'\""
     ]
    }
   ],
   "source": [
    "g[['bowtie2','n reads detected']].astype(float).median(axis=0)"
   ]
  },
  {
   "cell_type": "code",
   "execution_count": 7,
   "metadata": {},
   "outputs": [],
   "source": [
    "#median_reads_count=sra_dump_df[('bowtie2','n reads detected')].median()\n",
    "#print ('Median read counts',median_reads_count)"
   ]
  },
  {
   "cell_type": "code",
   "execution_count": null,
   "metadata": {},
   "outputs": [],
   "source": []
  },
  {
   "cell_type": "code",
   "execution_count": 8,
   "metadata": {},
   "outputs": [],
   "source": [
    "#sra_dump_df[('fastqc','Total basepairs processed:\\s+([0-9,]+)')].notnull().sum()"
   ]
  },
  {
   "cell_type": "code",
   "execution_count": 10,
   "metadata": {},
   "outputs": [],
   "source": [
    "sra_dump_df_bowtie=sra_dump_df[('bowtie2')].astype(float)#.mean(axis=0)"
   ]
  },
  {
   "cell_type": "code",
   "execution_count": 57,
   "metadata": {
    "scrolled": true
   },
   "outputs": [],
   "source": []
  },
  {
   "cell_type": "code",
   "execution_count": 24,
   "metadata": {},
   "outputs": [
    {
     "data": {
      "text/plain": [
       "Index(['(\\d+) \\([0-9.]*%\\) aligned >1 times',\n",
       "       '(\\d+) \\([0-9.]*%\\) aligned exactly 1 time',\n",
       "       '(\\d+) mates make up the pairs', '(\\d+) reads; of these:',\n",
       "       'n reads detected'],\n",
       "      dtype='object')"
      ]
     },
     "execution_count": 24,
     "metadata": {},
     "output_type": "execute_result"
    }
   ],
   "source": [
    "sra_dump_df_bowtie.columns"
   ]
  },
  {
   "cell_type": "code",
   "execution_count": 22,
   "metadata": {},
   "outputs": [
    {
     "data": {
      "text/plain": [
       "0.05143088827353735"
      ]
     },
     "execution_count": 22,
     "metadata": {},
     "output_type": "execute_result"
    }
   ],
   "source": [
    "(sra_dump_df_bowtie['(\\d+) \\([0-9.]*%\\) aligned exactly 1 time']/sra_dump_df_bowtie['n reads detected']\n",
    ").astype(float).median()\n"
   ]
  },
  {
   "cell_type": "code",
   "execution_count": 29,
   "metadata": {},
   "outputs": [
    {
     "data": {
      "text/plain": [
       "0.004645033219292296"
      ]
     },
     "execution_count": 29,
     "metadata": {},
     "output_type": "execute_result"
    }
   ],
   "source": [
    "#sra_dump_df_bowtie['(\\d+) \\([0-9.]*%\\) aligned >1 times'].median()\n",
    "(sra_dump_df_bowtie['(\\d+) \\([0-9.]*%\\) aligned >1 times']/sra_dump_df_bowtie['n reads detected']\n",
    ").astype(float).median()"
   ]
  },
  {
   "cell_type": "code",
   "execution_count": null,
   "metadata": {},
   "outputs": [],
   "source": []
  },
  {
   "cell_type": "code",
   "execution_count": 31,
   "metadata": {},
   "outputs": [
    {
     "data": {
      "text/html": [
       "<div>\n",
       "<style scoped>\n",
       "    .dataframe tbody tr th:only-of-type {\n",
       "        vertical-align: middle;\n",
       "    }\n",
       "\n",
       "    .dataframe tbody tr th {\n",
       "        vertical-align: top;\n",
       "    }\n",
       "\n",
       "    .dataframe thead th {\n",
       "        text-align: right;\n",
       "    }\n",
       "</style>\n",
       "<table border=\"1\" class=\"dataframe\">\n",
       "  <thead>\n",
       "    <tr style=\"text-align: right;\">\n",
       "      <th></th>\n",
       "      <th>0</th>\n",
       "    </tr>\n",
       "  </thead>\n",
       "  <tbody>\n",
       "    <tr>\n",
       "      <th>(\\d+) \\([0-9.]*%\\) aligned &gt;1 times</th>\n",
       "      <td>3.999482e+05</td>\n",
       "    </tr>\n",
       "    <tr>\n",
       "      <th>(\\d+) \\([0-9.]*%\\) aligned exactly 1 time</th>\n",
       "      <td>1.993060e+06</td>\n",
       "    </tr>\n",
       "    <tr>\n",
       "      <th>(\\d+) mates make up the pairs</th>\n",
       "      <td>2.581057e+07</td>\n",
       "    </tr>\n",
       "    <tr>\n",
       "      <th>(\\d+) reads; of these:</th>\n",
       "      <td>2.070566e+07</td>\n",
       "    </tr>\n",
       "    <tr>\n",
       "      <th>n reads detected</th>\n",
       "      <td>2.418361e+07</td>\n",
       "    </tr>\n",
       "  </tbody>\n",
       "</table>\n",
       "</div>"
      ],
      "text/plain": [
       "                                                      0\n",
       "(\\d+) \\([0-9.]*%\\) aligned >1 times        3.999482e+05\n",
       "(\\d+) \\([0-9.]*%\\) aligned exactly 1 time  1.993060e+06\n",
       "(\\d+) mates make up the pairs              2.581057e+07\n",
       "(\\d+) reads; of these:                     2.070566e+07\n",
       "n reads detected                           2.418361e+07"
      ]
     },
     "execution_count": 31,
     "metadata": {},
     "output_type": "execute_result"
    }
   ],
   "source": [
    "sra_dump_df_bowtie.mean(axis=0).to_frame()"
   ]
  },
  {
   "cell_type": "code",
   "execution_count": 30,
   "metadata": {},
   "outputs": [
    {
     "data": {
      "text/html": [
       "<div>\n",
       "<style scoped>\n",
       "    .dataframe tbody tr th:only-of-type {\n",
       "        vertical-align: middle;\n",
       "    }\n",
       "\n",
       "    .dataframe tbody tr th {\n",
       "        vertical-align: top;\n",
       "    }\n",
       "\n",
       "    .dataframe thead th {\n",
       "        text-align: right;\n",
       "    }\n",
       "</style>\n",
       "<table border=\"1\" class=\"dataframe\">\n",
       "  <thead>\n",
       "    <tr style=\"text-align: right;\">\n",
       "      <th></th>\n",
       "      <th>0</th>\n",
       "    </tr>\n",
       "  </thead>\n",
       "  <tbody>\n",
       "    <tr>\n",
       "      <th>(\\d+) \\([0-9.]*%\\) aligned &gt;1 times</th>\n",
       "      <td>55288.0</td>\n",
       "    </tr>\n",
       "    <tr>\n",
       "      <th>(\\d+) \\([0-9.]*%\\) aligned exactly 1 time</th>\n",
       "      <td>566274.0</td>\n",
       "    </tr>\n",
       "    <tr>\n",
       "      <th>(\\d+) mates make up the pairs</th>\n",
       "      <td>7296919.0</td>\n",
       "    </tr>\n",
       "    <tr>\n",
       "      <th>(\\d+) reads; of these:</th>\n",
       "      <td>15267599.0</td>\n",
       "    </tr>\n",
       "    <tr>\n",
       "      <th>n reads detected</th>\n",
       "      <td>10065036.0</td>\n",
       "    </tr>\n",
       "  </tbody>\n",
       "</table>\n",
       "</div>"
      ],
      "text/plain": [
       "                                                    0\n",
       "(\\d+) \\([0-9.]*%\\) aligned >1 times           55288.0\n",
       "(\\d+) \\([0-9.]*%\\) aligned exactly 1 time    566274.0\n",
       "(\\d+) mates make up the pairs               7296919.0\n",
       "(\\d+) reads; of these:                     15267599.0\n",
       "n reads detected                           10065036.0"
      ]
     },
     "execution_count": 30,
     "metadata": {},
     "output_type": "execute_result"
    }
   ],
   "source": [
    "sra_dump_df_bowtie.median(axis=0).to_frame()"
   ]
  },
  {
   "cell_type": "code",
   "execution_count": 16,
   "metadata": {},
   "outputs": [
    {
     "data": {
      "text/html": [
       "<div>\n",
       "<style scoped>\n",
       "    .dataframe tbody tr th:only-of-type {\n",
       "        vertical-align: middle;\n",
       "    }\n",
       "\n",
       "    .dataframe tbody tr th {\n",
       "        vertical-align: top;\n",
       "    }\n",
       "\n",
       "    .dataframe thead th {\n",
       "        text-align: right;\n",
       "    }\n",
       "</style>\n",
       "<table border=\"1\" class=\"dataframe\">\n",
       "  <thead>\n",
       "    <tr style=\"text-align: right;\">\n",
       "      <th></th>\n",
       "      <th>0</th>\n",
       "    </tr>\n",
       "  </thead>\n",
       "  <tbody>\n",
       "    <tr>\n",
       "      <th>(\\d+) \\([0-9.]*%\\) aligned &gt;1 times</th>\n",
       "      <td>3.999482e+05</td>\n",
       "    </tr>\n",
       "    <tr>\n",
       "      <th>(\\d+) \\([0-9.]*%\\) aligned exactly 1 time</th>\n",
       "      <td>1.993060e+06</td>\n",
       "    </tr>\n",
       "    <tr>\n",
       "      <th>(\\d+) mates make up the pairs</th>\n",
       "      <td>2.581057e+07</td>\n",
       "    </tr>\n",
       "    <tr>\n",
       "      <th>(\\d+) reads; of these:</th>\n",
       "      <td>2.070566e+07</td>\n",
       "    </tr>\n",
       "    <tr>\n",
       "      <th>n reads detected</th>\n",
       "      <td>2.418361e+07</td>\n",
       "    </tr>\n",
       "  </tbody>\n",
       "</table>\n",
       "</div>"
      ],
      "text/plain": [
       "                                                      0\n",
       "(\\d+) \\([0-9.]*%\\) aligned >1 times        3.999482e+05\n",
       "(\\d+) \\([0-9.]*%\\) aligned exactly 1 time  1.993060e+06\n",
       "(\\d+) mates make up the pairs              2.581057e+07\n",
       "(\\d+) reads; of these:                     2.070566e+07\n",
       "n reads detected                           2.418361e+07"
      ]
     },
     "execution_count": 16,
     "metadata": {},
     "output_type": "execute_result"
    }
   ],
   "source": [
    "sra_dump_df_bowtie.mean(axis=0).to_frame()"
   ]
  },
  {
   "cell_type": "code",
   "execution_count": 102,
   "metadata": {},
   "outputs": [
    {
     "data": {
      "text/plain": [
       "278235"
      ]
     },
     "execution_count": 102,
     "metadata": {},
     "output_type": "execute_result"
    }
   ],
   "source": [
    "sra_dump_df[('bowtie2','n reads detected')].notnull().sum()"
   ]
  },
  {
   "cell_type": "markdown",
   "metadata": {},
   "source": [
    "# fastqc"
   ]
  },
  {
   "cell_type": "markdown",
   "metadata": {},
   "source": [
    "### adaptor counts"
   ]
  },
  {
   "cell_type": "code",
   "execution_count": 30,
   "metadata": {},
   "outputs": [
    {
     "data": {
      "text/html": [
       "<div>\n",
       "<style scoped>\n",
       "    .dataframe tbody tr th:only-of-type {\n",
       "        vertical-align: middle;\n",
       "    }\n",
       "\n",
       "    .dataframe tbody tr th {\n",
       "        vertical-align: top;\n",
       "    }\n",
       "\n",
       "    .dataframe thead th {\n",
       "        text-align: right;\n",
       "    }\n",
       "</style>\n",
       "<table border=\"1\" class=\"dataframe\">\n",
       "  <thead>\n",
       "    <tr style=\"text-align: right;\">\n",
       "      <th></th>\n",
       "      <th>Adapter sequence:(.*)</th>\n",
       "    </tr>\n",
       "  </thead>\n",
       "  <tbody>\n",
       "    <tr>\n",
       "      <th>'AGATCGGAAGAGC' (Illumina TruSeq, Sanger iPCR; default (inconclusive auto-detection))</th>\n",
       "      <td>88548</td>\n",
       "    </tr>\n",
       "    <tr>\n",
       "      <th>'AGATCGGAAGAGC' (Illumina TruSeq, Sanger iPCR; auto-detected)</th>\n",
       "      <td>77331</td>\n",
       "    </tr>\n",
       "    <tr>\n",
       "      <th>'CTGTCTCTTATA' (Nextera Transposase sequence; auto-detected)</th>\n",
       "      <td>41036</td>\n",
       "    </tr>\n",
       "    <tr>\n",
       "      <th>'ATGGAATTCTCG' (Illumina small RNA adapter; auto-detected)</th>\n",
       "      <td>2485</td>\n",
       "    </tr>\n",
       "  </tbody>\n",
       "</table>\n",
       "</div>"
      ],
      "text/plain": [
       "                                                    Adapter sequence:(.*)\n",
       " 'AGATCGGAAGAGC' (Illumina TruSeq, Sanger iPCR;...                  88548\n",
       " 'AGATCGGAAGAGC' (Illumina TruSeq, Sanger iPCR;...                  77331\n",
       " 'CTGTCTCTTATA' (Nextera Transposase sequence; ...                  41036\n",
       " 'ATGGAATTCTCG' (Illumina small RNA adapter; au...                   2485"
      ]
     },
     "execution_count": 30,
     "metadata": {},
     "output_type": "execute_result"
    }
   ],
   "source": [
    "tmpDf=sra_dump_df['fastqc']\n",
    "\n",
    "\n",
    "tmpDf.loc[:,'Adapter sequence:(.*)'].value_counts().to_frame()"
   ]
  },
  {
   "cell_type": "code",
   "execution_count": 41,
   "metadata": {},
   "outputs": [],
   "source": [
    "m=tmpDf.columns.isin(['Adapter sequence:(.*)'])\n",
    "subDf=tmpDf.loc[:,~m]#.mean(axis=0)\n"
   ]
  },
  {
   "cell_type": "code",
   "execution_count": 46,
   "metadata": {},
   "outputs": [],
   "source": [
    "numericDf=subDf.apply(lambda tmpS:tmpS.str.replace(',','')).astype(float)"
   ]
  },
  {
   "cell_type": "markdown",
   "metadata": {},
   "source": [
    "mean read length"
   ]
  },
  {
   "cell_type": "code",
   "execution_count": 69,
   "metadata": {},
   "outputs": [],
   "source": [
    "readLengthS=(numericDf['Total basepairs processed:\\s+([0-9,]+)']/numericDf['Total reads processed:\\s+([0-9,]+)'])"
   ]
  },
  {
   "cell_type": "code",
   "execution_count": 90,
   "metadata": {},
   "outputs": [
    {
     "data": {
      "text/plain": [
       "96.25355"
      ]
     },
     "execution_count": 90,
     "metadata": {},
     "output_type": "execute_result"
    }
   ],
   "source": [
    "readLengthS.median()"
   ]
  },
  {
   "cell_type": "code",
   "execution_count": 72,
   "metadata": {},
   "outputs": [],
   "source": [
    "#numericDf"
   ]
  },
  {
   "cell_type": "code",
   "execution_count": null,
   "metadata": {},
   "outputs": [],
   "source": []
  },
  {
   "cell_type": "code",
   "execution_count": 4,
   "metadata": {},
   "outputs": [],
   "source": [
    "sra_dump_pickle_dir='/cellar/users/btsui/Data/SRA/DUMP/sra_dump.pickle'\n",
    "\n",
    "\n",
    "sra_dump_df=pd.read_pickle(sra_dump_pickle_dir)"
   ]
  },
  {
   "cell_type": "code",
   "execution_count": 11,
   "metadata": {},
   "outputs": [],
   "source": [
    "tmpDf=pd.read_csv(tmpFDir,sep='\\t',header=None).dropna()\n"
   ]
  },
  {
   "cell_type": "code",
   "execution_count": 4,
   "metadata": {},
   "outputs": [
    {
     "name": "stdout",
     "output_type": "stream",
     "text": [
      "./analyzeAnlignmentStatistics.ipynb:14:    \"tmpFDir='/tmp/tmp.tsv'\\n\",\n",
      "./merge_aligning_statistics.ipynb:45:    \"tmpFDir='/tmp/tmp.tsv'\\n\",\n",
      "./merge_aligning_statistics.ipynb:86:    \"#!cat /tmp/tmp.tsv\"\n"
     ]
    }
   ],
   "source": [
    "!grep -rn  tmp.tsv ./*.ipynb"
   ]
  },
  {
   "cell_type": "code",
   "execution_count": 23,
   "metadata": {},
   "outputs": [],
   "source": [
    "\n",
    "tmpDf.columns=['inFname','regex','n']\n",
    "\n",
    "unstackDf=tmpDf.set_index(['inFname','regex'])['n'].unstack()\n",
    "\n",
    "#unstackDf['(\\d+) mates make up the pairs'].dropna().hist()\n",
    "\n",
    "unstackDf['aligned_reads']=unstackDf[['(\\\\d+) \\\\([0-9.]*%\\\\) aligned exactly 1 time',\n",
    "                                      '(\\\\d+) \\\\([0-9.]*%\\\\) aligned >1 times']].sum(axis=1)\n",
    "\n",
    "unstackDf['total_reads']=unstackDf[['(\\d+) reads; of these:','(\\\\d+) mates make up the pairs']].sum(axis=1)\n",
    "\n",
    "unstackDf.index=unstackDf.index.str.split('.').str[0]\n",
    "\n",
    "## exome "
   ]
  },
  {
   "cell_type": "code",
   "execution_count": 41,
   "metadata": {},
   "outputs": [
    {
     "data": {
      "text/plain": [
       "Text(0.5,0,'log10 number of reads aligned to target reference')"
      ]
     },
     "execution_count": 41,
     "metadata": {},
     "output_type": "execute_result"
    },
    {
     "data": {
      "image/png": "[encoded data removed]",
      "text/plain": [
       "<Figure size 432x288 with 1 Axes>"
      ]
     },
     "metadata": {},
     "output_type": "display_data"
    }
   ],
   "source": [
    "unstackDf['aligned_reads_log10']=np.log10(unstackDf['aligned_reads']+1)#/unstackDf['total_reads']\n",
    "unstackDf['total_reads_log10']=np.log10(unstackDf['total_reads']+1)\n",
    "\n",
    "ax=unstackDf['aligned_reads_log10'].hist(bins=20)\n",
    "ax.grid(False)\n",
    "ax.set_ylabel('# of sequencing runs')\n",
    "ax.set_xlabel('log10 number of reads aligned to target reference')\n",
    "\n",
    "\n"
   ]
  },
  {
   "cell_type": "code",
   "execution_count": 53,
   "metadata": {},
   "outputs": [],
   "source": [
    "import matplotlib.pyplot as plt"
   ]
  },
  {
   "cell_type": "code",
   "execution_count": 86,
   "metadata": {},
   "outputs": [],
   "source": [
    "#!pip install colour\n",
    "from colour import Color\n",
    "#red = Color(\"rainbow\")\n",
    "colors = list(red.range_to(Color(\"green\"),10))\n"
   ]
  },
  {
   "cell_type": "code",
   "execution_count": 91,
   "metadata": {},
   "outputs": [
    {
     "name": "stderr",
     "output_type": "stream",
     "text": [
      "/cellar/users/btsui/anaconda3/lib/python3.6/site-packages/ipykernel_launcher.py:8: FutureWarning: \n",
      "Passing list-likes to .loc or [] with any missing label will raise\n",
      "KeyError in the future, you can use .reindex() as an alternative.\n",
      "\n",
      "See the documentation here:\n",
      "https://pandas.pydata.org/pandas-docs/stable/indexing.html#deprecate-loc-reindex-listlike\n",
      "  \n"
     ]
    },
    {
     "data": {
      "text/plain": [
       "<matplotlib.legend.Legend at 0x2b42d8713518>"
      ]
     },
     "execution_count": 91,
     "metadata": {},
     "output_type": "execute_result"
    },
    {
     "data": {
      "image/png": "[encoded data removed]",
      "text/plain": [
       "<Figure size 432x288 with 1 Axes>"
      ]
     },
     "metadata": {},
     "output_type": "display_data"
    }
   ],
   "source": [
    "fig,ax=plt.subplots()\n",
    "\n",
    "inFactors=['RNA-Seq', 'WXS']\n",
    "#list(red.range_to(,len(inFactors)))\n",
    "colors=['red','green','blue','purple','yellow']\n",
    "for color, strategy in zip( colors,inFactors):\n",
    "    subDf2=sra_dump_df[sra_dump_df['LibraryStrategy']==strategy]\n",
    "    tmpDf3=unstackDf.loc[subDf2.index]\n",
    "    tmpDf3.plot.scatter(x='total_reads_log10',y='aligned_reads_log10',ax=ax,c=color,alpha=0.3,label=strategy)\n",
    "ax.legend()"
   ]
  },
  {
   "cell_type": "code",
   "execution_count": 82,
   "metadata": {},
   "outputs": [
    {
     "data": {
      "text/plain": [
       "10"
      ]
     },
     "execution_count": 82,
     "metadata": {},
     "output_type": "execute_result"
    }
   ],
   "source": [
    "len(colors)"
   ]
  },
  {
   "cell_type": "code",
   "execution_count": 95,
   "metadata": {},
   "outputs": [
    {
     "name": "stderr",
     "output_type": "stream",
     "text": [
      "/cellar/users/btsui/anaconda3/lib/python3.6/site-packages/matplotlib/axes/_axes.py:6462: UserWarning: The 'normed' kwarg is deprecated, and has been replaced by the 'density' kwarg.\n",
      "  warnings.warn(\"The 'normed' kwarg is deprecated, and has been \"\n",
      "/cellar/users/btsui/anaconda3/lib/python3.6/site-packages/matplotlib/axes/_axes.py:6462: UserWarning: The 'normed' kwarg is deprecated, and has been replaced by the 'density' kwarg.\n",
      "  warnings.warn(\"The 'normed' kwarg is deprecated, and has been \"\n"
     ]
    },
    {
     "data": {
      "text/plain": [
       "10044529.0"
      ]
     },
     "execution_count": 95,
     "metadata": {},
     "output_type": "execute_result"
    },
    {
     "data": {
      "image/png": "[encoded data removed]",
      "text/plain": [
       "<Figure size 432x432 with 3 Axes>"
      ]
     },
     "metadata": {},
     "output_type": "display_data"
    }
   ],
   "source": [
    "h=sns.jointplot(data=unstackDf[unstackDf.aligned_reads_log10>3],x='aligned_reads_log10',\n",
    "              y='total_reads_log10',\n",
    "              kind='hex')\n",
    "h.ax_joint.set_xlabel('log10 (# of total reads)')\n",
    "h.ax_joint.set_ylabel('log10 (# of number of aligned)')\n",
    "10**unstackDf['total_reads_log10'].median()"
   ]
  },
  {
   "cell_type": "code",
   "execution_count": 16,
   "metadata": {},
   "outputs": [
    {
     "data": {
      "text/plain": [
       "Text(0.5,0,'Library strategies')"
      ]
     },
     "execution_count": 16,
     "metadata": {},
     "output_type": "execute_result"
    },
    {
     "data": {
      "image/png": "[encoded data removed]",
      "text/plain": [
       "<Figure size 432x288 with 1 Axes>"
      ]
     },
     "metadata": {},
     "output_type": "display_data"
    }
   ],
   "source": [
    "\n",
    "sra_dump_df['% algned to SNP ref']=percentageAlgnS.loc[:]\n",
    "\n",
    "import seaborn as sns\n",
    "\n",
    "ax=sns.boxplot(data=sra_dump_df,x='LibraryStrategy',order=['RNA-Seq', 'AMPLICON','ChIP-Seq','WXS','WGS'],\n",
    "            y='% algned to SNP ref')\n",
    "ax.set_xlabel('Library strategies')"
   ]
  },
  {
   "cell_type": "code",
   "execution_count": 97,
   "metadata": {},
   "outputs": [
    {
     "data": {
      "text/plain": [
       "5.835286521426918"
      ]
     },
     "execution_count": 97,
     "metadata": {},
     "output_type": "execute_result"
    }
   ],
   "source": [
    "percentageAlgnS.median()"
   ]
  },
  {
   "cell_type": "code",
   "execution_count": 39,
   "metadata": {},
   "outputs": [],
   "source": [
    "m_2=sra_dump_df['SRAmeta']['LibraryStrategy']=='WGS'\n",
    "m_processed=sra_dump_df[('bowtie2','n reads detected')].notnull()"
   ]
  },
  {
   "cell_type": "code",
   "execution_count": 42,
   "metadata": {},
   "outputs": [],
   "source": [
    "sra_dump_df_subDf=sra_dump_df['SRAmeta'][m_2&m_processed]"
   ]
  },
  {
   "cell_type": "code",
   "execution_count": 51,
   "metadata": {},
   "outputs": [
    {
     "data": {
      "text/plain": [
       "0"
      ]
     },
     "execution_count": 51,
     "metadata": {},
     "output_type": "execute_result"
    }
   ],
   "source": [
    "len(sra_dump_df_subDf[(sra_dump_df_subDf.Study=='SRP002163')&(sra_dump_df_subDf.ScientificName=='Homo sapiens')]['Sample'].unique())\n",
    "#113"
   ]
  },
  {
   "cell_type": "code",
   "execution_count": 52,
   "metadata": {},
   "outputs": [
    {
     "data": {
      "text/plain": [
       "ERP013950    13036\n",
       "SRP001518     4270\n",
       "SRP002163     4080\n",
       "SRP116167     3404\n",
       "SRP000540     3155\n",
       "SRP002480     2777\n",
       "SRP004077     2355\n",
       "SRP040146     2028\n",
       "SRP000547     1586\n",
       "SRP016105     1510\n",
       "SRP016100     1468\n",
       "SRP000806     1461\n",
       "SRP015238     1379\n",
       "SRP115494     1322\n",
       "SRP000544     1277\n",
       "SRP001293     1190\n",
       "SRP096283     1140\n",
       "SRP000543     1066\n",
       "SRP015236     1024\n",
       "SRP100518      880\n",
       "SRP091570      880\n",
       "SRP001522      799\n",
       "SRP090628      785\n",
       "SRP001516      763\n",
       "SRP001524      729\n",
       "SRP032345      639\n",
       "SRP062566      622\n",
       "SRP001294      570\n",
       "SRP000542      566\n",
       "SRP000546      562\n",
       "             ...  \n",
       "SRP086868        1\n",
       "SRP095412        1\n",
       "SRP055701        1\n",
       "SRP015260        1\n",
       "SRP033329        1\n",
       "SRP043994        1\n",
       "SRP033227        1\n",
       "SRP067962        1\n",
       "SRP043366        1\n",
       "SRP062294        1\n",
       "SRP017751        1\n",
       "SRP125668        1\n",
       "SRP080098        1\n",
       "SRP034852        1\n",
       "SRP017509        1\n",
       "SRP029640        1\n",
       "SRP044150        1\n",
       "SRP009066        1\n",
       "SRP008319        1\n",
       "SRP061110        1\n",
       "SRP018736        1\n",
       "SRP003201        1\n",
       "SRP081010        1\n",
       "SRP002457        1\n",
       "SRP073663        1\n",
       "SRP070971        1\n",
       "SRP057056        1\n",
       "SRP060278        1\n",
       "SRP015421        1\n",
       "SRP059009        1\n",
       "Name: Study, Length: 449, dtype: int64"
      ]
     },
     "execution_count": 52,
     "metadata": {},
     "output_type": "execute_result"
    }
   ],
   "source": [
    "#ERP013950: bullshit most likely\n",
    "#SRP001518: 1000 Genomes Project, 113 samples\n",
    "#SRP002163: 763, Human Microbiome Project (HMP)\n",
    "#SRP116167: Noninvasive Prenatal Screen, 3405, 3405, 2017\n",
    "#SRP000540: Whole genome sequencing of (TSI) Toscani in Italia HapMap population\n",
    "\n",
    "sra_dump_df_subDf.Study.value_counts()"
   ]
  },
  {
   "cell_type": "code",
   "execution_count": null,
   "metadata": {},
   "outputs": [],
   "source": []
  },
  {
   "cell_type": "code",
   "execution_count": null,
   "metadata": {},
   "outputs": [],
   "source": []
  }
 ],
 "metadata": {
  "kernelspec": {
   "display_name": "Python 3",
   "language": "python",
   "name": "python3"
  },
  "language_info": {
   "codemirror_mode": {
    "name": "ipython",
    "version": 3
   },
   "file_extension": ".py",
   "mimetype": "text/x-python",
   "name": "python",
   "nbconvert_exporter": "python",
   "pygments_lexer": "ipython3",
   "version": "3.6.5"
  }
 },
 "nbformat": 4,
 "nbformat_minor": 2
}
