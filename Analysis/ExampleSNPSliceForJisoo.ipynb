{
 "cells": [
  {
   "cell_type": "markdown",
   "metadata": {},
   "source": [
    "### note\n",
    "\n",
    "\n",
    "slice out the RS ID by sample matrix for jisoo"
   ]
  },
  {
   "cell_type": "code",
   "execution_count": 2,
   "metadata": {},
   "outputs": [],
   "source": [
    "### parameters\n",
    "import pandas as pd\n",
    "import numpy as np\n",
    "mySpecie='Homo_sapiens'\n",
    "\"\"\"\n",
    "Download from synapse if it is not installed\n",
    "\"\"\"\n",
    "skymap_snp_dir='/cellar/users/btsui/Data/SRA/snp/{specie}_snp_pos/'.format(specie=mySpecie)"
   ]
  },
  {
   "cell_type": "code",
   "execution_count": 3,
   "metadata": {},
   "outputs": [],
   "source": [
    "queryChr,queryPosition='7',140753336 "
   ]
  },
  {
   "cell_type": "code",
   "execution_count": 4,
   "metadata": {},
   "outputs": [],
   "source": [
    "window=15\n",
    "readThreshold=5"
   ]
  },
  {
   "cell_type": "code",
   "execution_count": 8,
   "metadata": {},
   "outputs": [],
   "source": [
    "#!ls /cellar/users/btsui/Data/SRA/snp/Homo_sapiens_snp_pos/*"
   ]
  },
  {
   "cell_type": "code",
   "execution_count": 9,
   "metadata": {},
   "outputs": [],
   "source": [
    "#skymap_snp_dir+'Pos_block_'+str(myChunk)"
   ]
  },
  {
   "cell_type": "code",
   "execution_count": 10,
   "metadata": {},
   "outputs": [],
   "source": [
    "# b'Chr'"
   ]
  },
  {
   "cell_type": "code",
   "execution_count": null,
   "metadata": {},
   "outputs": [],
   "source": []
  },
  {
   "cell_type": "code",
   "execution_count": 11,
   "metadata": {},
   "outputs": [],
   "source": [
    "#myPosDf"
   ]
  },
  {
   "cell_type": "code",
   "execution_count": 12,
   "metadata": {},
   "outputs": [
    {
     "name": "stdout",
     "output_type": "stream",
     "text": [
      "CPU times: user 340 ms, sys: 340 ms, total: 680 ms\n",
      "Wall time: 3.21 s\n"
     ]
    }
   ],
   "source": [
    "%%time\n",
    "chunkSize=100000 #fixed params\n",
    "myChunk=int(queryPosition/chunkSize)*chunkSize\n",
    "hdf_s=pd.HDFStore(skymap_snp_dir+'Pos_block_'+str(myChunk),mode='r')\n",
    "tmpChunkDf=hdf_s['/chunk']\n",
    "myPosDf=tmpChunkDf[(tmpChunkDf.Pos>=(queryPosition-window))&(tmpChunkDf.Pos<=(queryPosition+window))].reset_index()\n",
    "myPosDf.columns=myPosDf.columns.astype(np.str)\n"
   ]
  },
  {
   "cell_type": "code",
   "execution_count": 13,
   "metadata": {},
   "outputs": [],
   "source": [
    "#tmpChunkDf"
   ]
  },
  {
   "cell_type": "code",
   "execution_count": 14,
   "metadata": {},
   "outputs": [],
   "source": [
    "m1=myPosDf['Chr']==queryChr\n",
    "m2=myPosDf['ReadDepth']>=readThreshold\n",
    "myChrPosDf=myPosDf[m1&m2]"
   ]
  },
  {
   "cell_type": "code",
   "execution_count": 17,
   "metadata": {
    "scrolled": true
   },
   "outputs": [],
   "source": [
    "#myChunk=int(queryPosition/chunkSize)*chunkSize\n",
    "#myChunk\n"
   ]
  },
  {
   "cell_type": "code",
   "execution_count": 18,
   "metadata": {},
   "outputs": [
    {
     "name": "stdout",
     "output_type": "stream",
     "text": [
      "# of studies sliced out: 149064\n"
     ]
    }
   ],
   "source": [
    "print ('# of studies sliced out:' ,(tmpChunkDf.Run_digits.nunique()))"
   ]
  },
  {
   "cell_type": "markdown",
   "metadata": {},
   "source": [
    "###### find reference base for each chrosome coordinate"
   ]
  },
  {
   "cell_type": "code",
   "execution_count": 19,
   "metadata": {},
   "outputs": [
    {
     "name": "stderr",
     "output_type": "stream",
     "text": [
      "/cellar/users/btsui/anaconda2/envs/py36/lib/python3.6/site-packages/IPython/core/interactiveshell.py:2728: DtypeWarning: Columns (0) have mixed types. Specify dtype option on import or set low_memory=False.\n",
      "  interactivity=interactivity, compiler=compiler, result=result)\n"
     ]
    }
   ],
   "source": [
    "###it's a \n",
    "\"\"\"\n",
    "The original vcf file can be downloaded from: ftp://ftp.ncbi.nih.gov/snp/organisms/human_9606/VCF/All_20170710.vcf.gz\n",
    "I ignored all the entries without any phentoype related resources to suppport, where the byte2 of the VCF equals to zero.\n",
    "For more info: ftp://ftp.ncbi.nlm.nih.gov/snp/specs/dbSNP_BitField_latest.pdf\n",
    "\"\"\"\n",
    "inVcfDir='/data/cellardata/users/btsui/dbsnp/Homo_sapiens/All_20170710.f1_byte2_not_00.vcf.gz' \n",
    "vcfDf=pd.read_csv(inVcfDir,sep='\\t',header=None)\n",
    "vcfDf.columns=['Chr','Pos','RsId','RefBase','AltBase','','','Annot']\n",
    "vcfDf['Chr']=vcfDf['Chr'].astype(np.str)\n",
    "my_chrom_vcfDf=vcfDf[(vcfDf['Chr']==queryChr)]\n",
    "posToRefBase=my_chrom_vcfDf.set_index('Pos')['RefBase']\n",
    "posToRefBase=posToRefBase.str[0]\n",
    "posToRefBase=posToRefBase.groupby(posToRefBase.index).first()\n"
   ]
  },
  {
   "cell_type": "code",
   "execution_count": 20,
   "metadata": {},
   "outputs": [
    {
     "data": {
      "text/plain": [
       "array(['RS=1045587;RSPOS=14727;RV;dbSNPBuildID=117;SSR=0;SAO=0;VP=0x050028040005000002000100;GENEINFO=DDX11L1:100287102|WASH7P:653635;WGT=1;VC=SNV;PM;PMC;R3;ASP',\n",
       "       'RS=9783068;RSPOS=630825;dbSNPBuildID=119;SSR=1;SAO=0;VP=0x050028020005000002000140;GENEINFO=LOC101928626:101928626;WGT=1;VC=SNV;PM;PMC;R5;ASP',\n",
       "       'RS=9701099;RSPOS=630833;dbSNPBuildID=119;SSR=1;SAO=0;VP=0x050028020005000002000140;GENEINFO=LOC101928626:101928626;WGT=1;VC=SNV;PM;PMC;R5;ASP',\n",
       "       'RS=3094315;RSPOS=817186;RV;dbSNPBuildID=103;SSR=0;SAO=0;VP=0x05012802000515053f000101;GENEINFO=FAM87B:400728;WGT=1;VC=SNV;PM;PMC;SLO;R5;ASP;VLD;G5;HD;GNO;KGPhase1;KGPhase3;CAF=0.2817,0.7183;COMMON=1;TOPMED=0.351947,0.648053',\n",
       "       'RS=12562034;RSPOS=833068;dbSNPBuildID=120;SSR=0;SAO=0;VP=0x050128080005170537000100;GENEINFO=LINC01128:643837;WGT=1;VC=SNV;PM;PMC;SLO;INT;ASP;VLD;G5A;G5;HD;GNO;KGPhase1;KGPhase3;CAF=0.8081,0.1919;COMMON=1'],\n",
       "      dtype=object)"
      ]
     },
     "execution_count": 20,
     "metadata": {},
     "output_type": "execute_result"
    }
   ],
   "source": [
    "vcfDf.head()['Annot'].values"
   ]
  },
  {
   "cell_type": "code",
   "execution_count": 21,
   "metadata": {},
   "outputs": [],
   "source": [
    "##slice out only the relevant positions\n",
    "sra_dump_pickle_dir='/cellar/users/btsui/Data/SRA/DUMP/sra_dump.pickle'\n",
    "technical_meta_data_df=pd.read_pickle(sra_dump_pickle_dir)"
   ]
  },
  {
   "cell_type": "code",
   "execution_count": 22,
   "metadata": {},
   "outputs": [],
   "source": [
    "metaDataMappingSDir='/cellar/users/btsui/Data/nrnb01_nobackup/METAMAP//input/allAttrib.v5.csv.NCI.prefilter.pyc'\n",
    "bio_metaDf=pd.read_pickle(metaDataMappingSDir)"
   ]
  },
  {
   "cell_type": "markdown",
   "metadata": {},
   "source": [
    "### map the srr to srs"
   ]
  },
  {
   "cell_type": "code",
   "execution_count": 23,
   "metadata": {},
   "outputs": [
    {
     "data": {
      "text/plain": [
       "(544557, 8)"
      ]
     },
     "execution_count": 23,
     "metadata": {},
     "output_type": "execute_result"
    }
   ],
   "source": [
    "inMapDf=myChrPosDf.copy()\n",
    "inMapDf.shape"
   ]
  },
  {
   "cell_type": "code",
   "execution_count": 24,
   "metadata": {},
   "outputs": [],
   "source": [
    "srrToSrsS=technical_meta_data_df.set_index(['Run_db','Run_digits'])['Sample']"
   ]
  },
  {
   "cell_type": "code",
   "execution_count": 25,
   "metadata": {},
   "outputs": [],
   "source": [
    "tmpDf3=inMapDf.set_index(['Run_db','Run_digits'],drop=False)"
   ]
  },
  {
   "cell_type": "code",
   "execution_count": 26,
   "metadata": {},
   "outputs": [],
   "source": [
    "tmpDf3['Sample']=srrToSrsS.loc[tmpDf3.index].values"
   ]
  },
  {
   "cell_type": "code",
   "execution_count": 27,
   "metadata": {},
   "outputs": [],
   "source": [
    "#vcfDf.head()\n",
    "myIndexOrder2=['Chr','Pos','base']"
   ]
  },
  {
   "cell_type": "code",
   "execution_count": 28,
   "metadata": {},
   "outputs": [],
   "source": [
    "mutlI=tmpDf3.set_index(myIndexOrder2).index"
   ]
  },
  {
   "cell_type": "code",
   "execution_count": 115,
   "metadata": {},
   "outputs": [],
   "source": [
    "#technical_meta_data_df"
   ]
  },
  {
   "cell_type": "code",
   "execution_count": 30,
   "metadata": {},
   "outputs": [
    {
     "data": {
      "text/plain": [
       "(393242, 8)"
      ]
     },
     "execution_count": 30,
     "metadata": {},
     "output_type": "execute_result"
    }
   ],
   "source": [
    "vcfDf.shape"
   ]
  },
  {
   "cell_type": "code",
   "execution_count": 31,
   "metadata": {},
   "outputs": [
    {
     "data": {
      "text/plain": [
       "'ERR008901'"
      ]
     },
     "execution_count": 31,
     "metadata": {},
     "output_type": "execute_result"
    }
   ],
   "source": [
    "'ERR008901'"
   ]
  },
  {
   "cell_type": "code",
   "execution_count": 32,
   "metadata": {},
   "outputs": [],
   "source": [
    "### need to map all the \n",
    "\n",
    "tmpDf3['RsId']=vcfDf.drop_duplicates(['Chr','Pos','AltBase']).set_index(['Chr','Pos','AltBase']).reindex(mutlI)['RsId'].values"
   ]
  },
  {
   "cell_type": "code",
   "execution_count": null,
   "metadata": {},
   "outputs": [],
   "source": []
  },
  {
   "cell_type": "code",
   "execution_count": 33,
   "metadata": {},
   "outputs": [],
   "source": [
    "tmpDf4=tmpDf3[tmpDf3['RsId'].notnull()].groupby(['RsId','Sample'])['ReadDepth'].sum().to_frame()"
   ]
  },
  {
   "cell_type": "code",
   "execution_count": 34,
   "metadata": {},
   "outputs": [
    {
     "data": {
      "text/plain": [
       "5"
      ]
     },
     "execution_count": 34,
     "metadata": {},
     "output_type": "execute_result"
    }
   ],
   "source": [
    "tmpDf4.index.get_level_values('RsId').nunique()"
   ]
  },
  {
   "cell_type": "code",
   "execution_count": 35,
   "metadata": {},
   "outputs": [
    {
     "data": {
      "text/html": [
       "<div>\n",
       "<style scoped>\n",
       "    .dataframe tbody tr th:only-of-type {\n",
       "        vertical-align: middle;\n",
       "    }\n",
       "\n",
       "    .dataframe tbody tr th {\n",
       "        vertical-align: top;\n",
       "    }\n",
       "\n",
       "    .dataframe thead th {\n",
       "        text-align: right;\n",
       "    }\n",
       "</style>\n",
       "<table border=\"1\" class=\"dataframe\">\n",
       "  <thead>\n",
       "    <tr style=\"text-align: right;\">\n",
       "      <th></th>\n",
       "      <th>RsId</th>\n",
       "      <th>rs104886015</th>\n",
       "      <th>rs121913225</th>\n",
       "      <th>rs121913226</th>\n",
       "      <th>rs121913373</th>\n",
       "      <th>rs397516897</th>\n",
       "    </tr>\n",
       "    <tr>\n",
       "      <th></th>\n",
       "      <th>Sample</th>\n",
       "      <th></th>\n",
       "      <th></th>\n",
       "      <th></th>\n",
       "      <th></th>\n",
       "      <th></th>\n",
       "    </tr>\n",
       "  </thead>\n",
       "  <tbody>\n",
       "    <tr>\n",
       "      <th rowspan=\"5\" valign=\"top\">ReadDepth</th>\n",
       "      <th>SRS000034</th>\n",
       "      <td>NaN</td>\n",
       "      <td>NaN</td>\n",
       "      <td>262.0</td>\n",
       "      <td>NaN</td>\n",
       "      <td>532.0</td>\n",
       "    </tr>\n",
       "    <tr>\n",
       "      <th>SRS000038</th>\n",
       "      <td>NaN</td>\n",
       "      <td>NaN</td>\n",
       "      <td>29.0</td>\n",
       "      <td>NaN</td>\n",
       "      <td>58.0</td>\n",
       "    </tr>\n",
       "    <tr>\n",
       "      <th>SRS000047</th>\n",
       "      <td>NaN</td>\n",
       "      <td>NaN</td>\n",
       "      <td>283.0</td>\n",
       "      <td>NaN</td>\n",
       "      <td>570.0</td>\n",
       "    </tr>\n",
       "    <tr>\n",
       "      <th>SRS000051</th>\n",
       "      <td>NaN</td>\n",
       "      <td>NaN</td>\n",
       "      <td>243.0</td>\n",
       "      <td>NaN</td>\n",
       "      <td>488.0</td>\n",
       "    </tr>\n",
       "    <tr>\n",
       "      <th>SRS000055</th>\n",
       "      <td>NaN</td>\n",
       "      <td>NaN</td>\n",
       "      <td>17.0</td>\n",
       "      <td>NaN</td>\n",
       "      <td>34.0</td>\n",
       "    </tr>\n",
       "  </tbody>\n",
       "</table>\n",
       "</div>"
      ],
      "text/plain": [
       "RsId                 rs104886015  rs121913225  rs121913226  rs121913373  \\\n",
       "          Sample                                                          \n",
       "ReadDepth SRS000034          NaN          NaN        262.0          NaN   \n",
       "          SRS000038          NaN          NaN         29.0          NaN   \n",
       "          SRS000047          NaN          NaN        283.0          NaN   \n",
       "          SRS000051          NaN          NaN        243.0          NaN   \n",
       "          SRS000055          NaN          NaN         17.0          NaN   \n",
       "\n",
       "RsId                 rs397516897  \n",
       "          Sample                  \n",
       "ReadDepth SRS000034        532.0  \n",
       "          SRS000038         58.0  \n",
       "          SRS000047        570.0  \n",
       "          SRS000051        488.0  \n",
       "          SRS000055         34.0  "
      ]
     },
     "execution_count": 35,
     "metadata": {},
     "output_type": "execute_result"
    }
   ],
   "source": [
    "tmpDf4.unstack().T.head()"
   ]
  },
  {
   "cell_type": "code",
   "execution_count": 36,
   "metadata": {},
   "outputs": [
    {
     "data": {
      "text/html": [
       "<div>\n",
       "<style scoped>\n",
       "    .dataframe tbody tr th:only-of-type {\n",
       "        vertical-align: middle;\n",
       "    }\n",
       "\n",
       "    .dataframe tbody tr th {\n",
       "        vertical-align: top;\n",
       "    }\n",
       "\n",
       "    .dataframe thead th {\n",
       "        text-align: right;\n",
       "    }\n",
       "</style>\n",
       "<table border=\"1\" class=\"dataframe\">\n",
       "  <thead>\n",
       "    <tr style=\"text-align: right;\">\n",
       "      <th></th>\n",
       "      <th>srs</th>\n",
       "      <th>attrib</th>\n",
       "      <th>CUI</th>\n",
       "      <th>score</th>\n",
       "      <th>NCI</th>\n",
       "      <th>NciEng</th>\n",
       "    </tr>\n",
       "  </thead>\n",
       "  <tbody>\n",
       "    <tr>\n",
       "      <th>27</th>\n",
       "      <td>SRS648841</td>\n",
       "      <td>molecular data type</td>\n",
       "      <td>C0205369</td>\n",
       "      <td>827</td>\n",
       "      <td>C38024</td>\n",
       "      <td>Specified</td>\n",
       "    </tr>\n",
       "    <tr>\n",
       "      <th>28</th>\n",
       "      <td>SRS648841</td>\n",
       "      <td>molecular data type</td>\n",
       "      <td>C0002085</td>\n",
       "      <td>827</td>\n",
       "      <td>C16277</td>\n",
       "      <td>Allele</td>\n",
       "    </tr>\n",
       "    <tr>\n",
       "      <th>214</th>\n",
       "      <td>SRS439430</td>\n",
       "      <td>molecular data type</td>\n",
       "      <td>C0444667</td>\n",
       "      <td>694</td>\n",
       "      <td>C25326</td>\n",
       "      <td>Whole</td>\n",
       "    </tr>\n",
       "    <tr>\n",
       "      <th>215</th>\n",
       "      <td>SRS439430</td>\n",
       "      <td>molecular data type</td>\n",
       "      <td>C3538927</td>\n",
       "      <td>861</td>\n",
       "      <td>C101296</td>\n",
       "      <td>Exome</td>\n",
       "    </tr>\n",
       "    <tr>\n",
       "      <th>231</th>\n",
       "      <td>SRS1360937</td>\n",
       "      <td>molecular data type</td>\n",
       "      <td>C0444667</td>\n",
       "      <td>694</td>\n",
       "      <td>C25326</td>\n",
       "      <td>Whole</td>\n",
       "    </tr>\n",
       "    <tr>\n",
       "      <th>232</th>\n",
       "      <td>SRS1360937</td>\n",
       "      <td>molecular data type</td>\n",
       "      <td>C0017428</td>\n",
       "      <td>861</td>\n",
       "      <td>C16629</td>\n",
       "      <td>Genome</td>\n",
       "    </tr>\n",
       "    <tr>\n",
       "      <th>240</th>\n",
       "      <td>SRS1786075</td>\n",
       "      <td>molecular data type</td>\n",
       "      <td>C0017431</td>\n",
       "      <td>861</td>\n",
       "      <td>C16631</td>\n",
       "      <td>Genotype</td>\n",
       "    </tr>\n",
       "    <tr>\n",
       "      <th>241</th>\n",
       "      <td>SRS1786075</td>\n",
       "      <td>molecular data type</td>\n",
       "      <td>C1527094</td>\n",
       "      <td>694</td>\n",
       "      <td>C41173</td>\n",
       "      <td>SNP Info</td>\n",
       "    </tr>\n",
       "    <tr>\n",
       "      <th>242</th>\n",
       "      <td>SRS1786075</td>\n",
       "      <td>molecular data type</td>\n",
       "      <td>C0752046</td>\n",
       "      <td>694</td>\n",
       "      <td>C18279</td>\n",
       "      <td>Single Nucleotide Polymorphism</td>\n",
       "    </tr>\n",
       "    <tr>\n",
       "      <th>310</th>\n",
       "      <td>SRS1889914</td>\n",
       "      <td>molecular data type</td>\n",
       "      <td>C0017431</td>\n",
       "      <td>827</td>\n",
       "      <td>C16631</td>\n",
       "      <td>Genotype</td>\n",
       "    </tr>\n",
       "    <tr>\n",
       "      <th>311</th>\n",
       "      <td>SRS1889914</td>\n",
       "      <td>molecular data type</td>\n",
       "      <td>C1511518</td>\n",
       "      <td>660</td>\n",
       "      <td>C40207</td>\n",
       "      <td>Copy Number Polymorphism</td>\n",
       "    </tr>\n",
       "    <tr>\n",
       "      <th>312</th>\n",
       "      <td>SRS1889914</td>\n",
       "      <td>molecular data type</td>\n",
       "      <td>C1527094</td>\n",
       "      <td>660</td>\n",
       "      <td>C41173</td>\n",
       "      <td>SNP Info</td>\n",
       "    </tr>\n",
       "    <tr>\n",
       "      <th>313</th>\n",
       "      <td>SRS1889914</td>\n",
       "      <td>molecular data type</td>\n",
       "      <td>C0752046</td>\n",
       "      <td>660</td>\n",
       "      <td>C18279</td>\n",
       "      <td>Single Nucleotide Polymorphism</td>\n",
       "    </tr>\n",
       "    <tr>\n",
       "      <th>474</th>\n",
       "      <td>SRS1481293</td>\n",
       "      <td>molecular data type</td>\n",
       "      <td>C0444667</td>\n",
       "      <td>694</td>\n",
       "      <td>C25326</td>\n",
       "      <td>Whole</td>\n",
       "    </tr>\n",
       "    <tr>\n",
       "      <th>475</th>\n",
       "      <td>SRS1481293</td>\n",
       "      <td>molecular data type</td>\n",
       "      <td>C3538927</td>\n",
       "      <td>861</td>\n",
       "      <td>C101296</td>\n",
       "      <td>Exome</td>\n",
       "    </tr>\n",
       "    <tr>\n",
       "      <th>516</th>\n",
       "      <td>SRS609013</td>\n",
       "      <td>molecular data type</td>\n",
       "      <td>C0017428</td>\n",
       "      <td>861</td>\n",
       "      <td>C16629</td>\n",
       "      <td>Genome</td>\n",
       "    </tr>\n",
       "    <tr>\n",
       "      <th>517</th>\n",
       "      <td>SRS609013</td>\n",
       "      <td>molecular data type</td>\n",
       "      <td>C1521840</td>\n",
       "      <td>694</td>\n",
       "      <td>C25702</td>\n",
       "      <td>Target</td>\n",
       "    </tr>\n",
       "    <tr>\n",
       "      <th>824</th>\n",
       "      <td>SRS1405362</td>\n",
       "      <td>molecular data type</td>\n",
       "      <td>C0444667</td>\n",
       "      <td>694</td>\n",
       "      <td>C25326</td>\n",
       "      <td>Whole</td>\n",
       "    </tr>\n",
       "    <tr>\n",
       "      <th>825</th>\n",
       "      <td>SRS1405362</td>\n",
       "      <td>molecular data type</td>\n",
       "      <td>C3538927</td>\n",
       "      <td>861</td>\n",
       "      <td>C101296</td>\n",
       "      <td>Exome</td>\n",
       "    </tr>\n",
       "    <tr>\n",
       "      <th>941</th>\n",
       "      <td>SRS1452582</td>\n",
       "      <td>molecular data type</td>\n",
       "      <td>C0035668</td>\n",
       "      <td>660</td>\n",
       "      <td>C812</td>\n",
       "      <td>Ribonucleic Acid</td>\n",
       "    </tr>\n",
       "    <tr>\n",
       "      <th>942</th>\n",
       "      <td>SRS1452582</td>\n",
       "      <td>molecular data type</td>\n",
       "      <td>C0004793</td>\n",
       "      <td>660</td>\n",
       "      <td>C45374</td>\n",
       "      <td>Nucleotide Sequence</td>\n",
       "    </tr>\n",
       "    <tr>\n",
       "      <th>943</th>\n",
       "      <td>SRS1452582</td>\n",
       "      <td>molecular data type</td>\n",
       "      <td>C2348184</td>\n",
       "      <td>660</td>\n",
       "      <td>C70710</td>\n",
       "      <td>Sequence Number</td>\n",
       "    </tr>\n",
       "    <tr>\n",
       "      <th>1189</th>\n",
       "      <td>SRS506188</td>\n",
       "      <td>molecular data type</td>\n",
       "      <td>C0017431</td>\n",
       "      <td>827</td>\n",
       "      <td>C16631</td>\n",
       "      <td>Genotype</td>\n",
       "    </tr>\n",
       "    <tr>\n",
       "      <th>1190</th>\n",
       "      <td>SRS506188</td>\n",
       "      <td>molecular data type</td>\n",
       "      <td>C1511518</td>\n",
       "      <td>660</td>\n",
       "      <td>C40207</td>\n",
       "      <td>Copy Number Polymorphism</td>\n",
       "    </tr>\n",
       "    <tr>\n",
       "      <th>1191</th>\n",
       "      <td>SRS506188</td>\n",
       "      <td>molecular data type</td>\n",
       "      <td>C1527094</td>\n",
       "      <td>660</td>\n",
       "      <td>C41173</td>\n",
       "      <td>SNP Info</td>\n",
       "    </tr>\n",
       "    <tr>\n",
       "      <th>1192</th>\n",
       "      <td>SRS506188</td>\n",
       "      <td>molecular data type</td>\n",
       "      <td>C0752046</td>\n",
       "      <td>660</td>\n",
       "      <td>C18279</td>\n",
       "      <td>Single Nucleotide Polymorphism</td>\n",
       "    </tr>\n",
       "    <tr>\n",
       "      <th>1388</th>\n",
       "      <td>SRS849288</td>\n",
       "      <td>molecular data type</td>\n",
       "      <td>C0017431</td>\n",
       "      <td>861</td>\n",
       "      <td>C16631</td>\n",
       "      <td>Genotype</td>\n",
       "    </tr>\n",
       "    <tr>\n",
       "      <th>1389</th>\n",
       "      <td>SRS849288</td>\n",
       "      <td>molecular data type</td>\n",
       "      <td>C1510941</td>\n",
       "      <td>1000</td>\n",
       "      <td>C26358</td>\n",
       "      <td>Array</td>\n",
       "    </tr>\n",
       "    <tr>\n",
       "      <th>1390</th>\n",
       "      <td>SRS849288</td>\n",
       "      <td>molecular data type</td>\n",
       "      <td>C1527094</td>\n",
       "      <td>694</td>\n",
       "      <td>C41173</td>\n",
       "      <td>SNP Info</td>\n",
       "    </tr>\n",
       "    <tr>\n",
       "      <th>1391</th>\n",
       "      <td>SRS849288</td>\n",
       "      <td>molecular data type</td>\n",
       "      <td>C0752046</td>\n",
       "      <td>694</td>\n",
       "      <td>C18279</td>\n",
       "      <td>Single Nucleotide Polymorphism</td>\n",
       "    </tr>\n",
       "    <tr>\n",
       "      <th>...</th>\n",
       "      <td>...</td>\n",
       "      <td>...</td>\n",
       "      <td>...</td>\n",
       "      <td>...</td>\n",
       "      <td>...</td>\n",
       "      <td>...</td>\n",
       "    </tr>\n",
       "    <tr>\n",
       "      <th>72925785</th>\n",
       "      <td>SRS808103</td>\n",
       "      <td>molecular data type</td>\n",
       "      <td>C0444667</td>\n",
       "      <td>694</td>\n",
       "      <td>C25326</td>\n",
       "      <td>Whole</td>\n",
       "    </tr>\n",
       "    <tr>\n",
       "      <th>72925786</th>\n",
       "      <td>SRS808103</td>\n",
       "      <td>molecular data type</td>\n",
       "      <td>C3538927</td>\n",
       "      <td>861</td>\n",
       "      <td>C101296</td>\n",
       "      <td>Exome</td>\n",
       "    </tr>\n",
       "    <tr>\n",
       "      <th>72925819</th>\n",
       "      <td>SRS1352309</td>\n",
       "      <td>molecular data type</td>\n",
       "      <td>C0444667</td>\n",
       "      <td>694</td>\n",
       "      <td>C25326</td>\n",
       "      <td>Whole</td>\n",
       "    </tr>\n",
       "    <tr>\n",
       "      <th>72925820</th>\n",
       "      <td>SRS1352309</td>\n",
       "      <td>molecular data type</td>\n",
       "      <td>C0017428</td>\n",
       "      <td>861</td>\n",
       "      <td>C16629</td>\n",
       "      <td>Genome</td>\n",
       "    </tr>\n",
       "    <tr>\n",
       "      <th>72926000</th>\n",
       "      <td>SRS864949</td>\n",
       "      <td>molecular data type</td>\n",
       "      <td>C0444667</td>\n",
       "      <td>694</td>\n",
       "      <td>C25326</td>\n",
       "      <td>Whole</td>\n",
       "    </tr>\n",
       "    <tr>\n",
       "      <th>72926001</th>\n",
       "      <td>SRS864949</td>\n",
       "      <td>molecular data type</td>\n",
       "      <td>C3538927</td>\n",
       "      <td>861</td>\n",
       "      <td>C101296</td>\n",
       "      <td>Exome</td>\n",
       "    </tr>\n",
       "    <tr>\n",
       "      <th>72926027</th>\n",
       "      <td>SRS532113</td>\n",
       "      <td>molecular data type</td>\n",
       "      <td>C0017428</td>\n",
       "      <td>861</td>\n",
       "      <td>C16629</td>\n",
       "      <td>Genome</td>\n",
       "    </tr>\n",
       "    <tr>\n",
       "      <th>72926028</th>\n",
       "      <td>SRS532113</td>\n",
       "      <td>molecular data type</td>\n",
       "      <td>C1521840</td>\n",
       "      <td>694</td>\n",
       "      <td>C25702</td>\n",
       "      <td>Target</td>\n",
       "    </tr>\n",
       "    <tr>\n",
       "      <th>72926163</th>\n",
       "      <td>SRS1119548</td>\n",
       "      <td>molecular data type</td>\n",
       "      <td>C0017431</td>\n",
       "      <td>827</td>\n",
       "      <td>C16631</td>\n",
       "      <td>Genotype</td>\n",
       "    </tr>\n",
       "    <tr>\n",
       "      <th>72926164</th>\n",
       "      <td>SRS1119548</td>\n",
       "      <td>molecular data type</td>\n",
       "      <td>C1511518</td>\n",
       "      <td>660</td>\n",
       "      <td>C40207</td>\n",
       "      <td>Copy Number Polymorphism</td>\n",
       "    </tr>\n",
       "    <tr>\n",
       "      <th>72926165</th>\n",
       "      <td>SRS1119548</td>\n",
       "      <td>molecular data type</td>\n",
       "      <td>C1527094</td>\n",
       "      <td>660</td>\n",
       "      <td>C41173</td>\n",
       "      <td>SNP Info</td>\n",
       "    </tr>\n",
       "    <tr>\n",
       "      <th>72926166</th>\n",
       "      <td>SRS1119548</td>\n",
       "      <td>molecular data type</td>\n",
       "      <td>C0752046</td>\n",
       "      <td>660</td>\n",
       "      <td>C18279</td>\n",
       "      <td>Single Nucleotide Polymorphism</td>\n",
       "    </tr>\n",
       "    <tr>\n",
       "      <th>72926377</th>\n",
       "      <td>SRS439501</td>\n",
       "      <td>molecular data type</td>\n",
       "      <td>C1521840</td>\n",
       "      <td>694</td>\n",
       "      <td>C25702</td>\n",
       "      <td>Target</td>\n",
       "    </tr>\n",
       "    <tr>\n",
       "      <th>72926378</th>\n",
       "      <td>SRS439501</td>\n",
       "      <td>molecular data type</td>\n",
       "      <td>C3538927</td>\n",
       "      <td>861</td>\n",
       "      <td>C101296</td>\n",
       "      <td>Exome</td>\n",
       "    </tr>\n",
       "    <tr>\n",
       "      <th>72926495</th>\n",
       "      <td>SRS423232</td>\n",
       "      <td>molecular data type</td>\n",
       "      <td>C0017428</td>\n",
       "      <td>861</td>\n",
       "      <td>C16629</td>\n",
       "      <td>Genome</td>\n",
       "    </tr>\n",
       "    <tr>\n",
       "      <th>72926496</th>\n",
       "      <td>SRS423232</td>\n",
       "      <td>molecular data type</td>\n",
       "      <td>C1521840</td>\n",
       "      <td>694</td>\n",
       "      <td>C25702</td>\n",
       "      <td>Target</td>\n",
       "    </tr>\n",
       "    <tr>\n",
       "      <th>72926568</th>\n",
       "      <td>SRS1036302</td>\n",
       "      <td>molecular data type</td>\n",
       "      <td>C0444667</td>\n",
       "      <td>694</td>\n",
       "      <td>C25326</td>\n",
       "      <td>Whole</td>\n",
       "    </tr>\n",
       "    <tr>\n",
       "      <th>72926569</th>\n",
       "      <td>SRS1036302</td>\n",
       "      <td>molecular data type</td>\n",
       "      <td>C3538927</td>\n",
       "      <td>861</td>\n",
       "      <td>C101296</td>\n",
       "      <td>Exome</td>\n",
       "    </tr>\n",
       "    <tr>\n",
       "      <th>72926709</th>\n",
       "      <td>SRS809040</td>\n",
       "      <td>molecular data type</td>\n",
       "      <td>C0017431</td>\n",
       "      <td>861</td>\n",
       "      <td>C16631</td>\n",
       "      <td>Genotype</td>\n",
       "    </tr>\n",
       "    <tr>\n",
       "      <th>72926710</th>\n",
       "      <td>SRS809040</td>\n",
       "      <td>molecular data type</td>\n",
       "      <td>C1510941</td>\n",
       "      <td>1000</td>\n",
       "      <td>C26358</td>\n",
       "      <td>Array</td>\n",
       "    </tr>\n",
       "    <tr>\n",
       "      <th>72926711</th>\n",
       "      <td>SRS809040</td>\n",
       "      <td>molecular data type</td>\n",
       "      <td>C1527094</td>\n",
       "      <td>694</td>\n",
       "      <td>C41173</td>\n",
       "      <td>SNP Info</td>\n",
       "    </tr>\n",
       "    <tr>\n",
       "      <th>72926712</th>\n",
       "      <td>SRS809040</td>\n",
       "      <td>molecular data type</td>\n",
       "      <td>C0752046</td>\n",
       "      <td>694</td>\n",
       "      <td>C18279</td>\n",
       "      <td>Single Nucleotide Polymorphism</td>\n",
       "    </tr>\n",
       "    <tr>\n",
       "      <th>72926747</th>\n",
       "      <td>SRS1132523</td>\n",
       "      <td>molecular data type</td>\n",
       "      <td>C0017431</td>\n",
       "      <td>827</td>\n",
       "      <td>C16631</td>\n",
       "      <td>Genotype</td>\n",
       "    </tr>\n",
       "    <tr>\n",
       "      <th>72926748</th>\n",
       "      <td>SRS1132523</td>\n",
       "      <td>molecular data type</td>\n",
       "      <td>C1511518</td>\n",
       "      <td>660</td>\n",
       "      <td>C40207</td>\n",
       "      <td>Copy Number Polymorphism</td>\n",
       "    </tr>\n",
       "    <tr>\n",
       "      <th>72926749</th>\n",
       "      <td>SRS1132523</td>\n",
       "      <td>molecular data type</td>\n",
       "      <td>C1527094</td>\n",
       "      <td>660</td>\n",
       "      <td>C41173</td>\n",
       "      <td>SNP Info</td>\n",
       "    </tr>\n",
       "    <tr>\n",
       "      <th>72926750</th>\n",
       "      <td>SRS1132523</td>\n",
       "      <td>molecular data type</td>\n",
       "      <td>C0752046</td>\n",
       "      <td>660</td>\n",
       "      <td>C18279</td>\n",
       "      <td>Single Nucleotide Polymorphism</td>\n",
       "    </tr>\n",
       "    <tr>\n",
       "      <th>72926973</th>\n",
       "      <td>SRS849637</td>\n",
       "      <td>molecular data type</td>\n",
       "      <td>C0017431</td>\n",
       "      <td>861</td>\n",
       "      <td>C16631</td>\n",
       "      <td>Genotype</td>\n",
       "    </tr>\n",
       "    <tr>\n",
       "      <th>72926974</th>\n",
       "      <td>SRS849637</td>\n",
       "      <td>molecular data type</td>\n",
       "      <td>C1510941</td>\n",
       "      <td>1000</td>\n",
       "      <td>C26358</td>\n",
       "      <td>Array</td>\n",
       "    </tr>\n",
       "    <tr>\n",
       "      <th>72926975</th>\n",
       "      <td>SRS849637</td>\n",
       "      <td>molecular data type</td>\n",
       "      <td>C1527094</td>\n",
       "      <td>694</td>\n",
       "      <td>C41173</td>\n",
       "      <td>SNP Info</td>\n",
       "    </tr>\n",
       "    <tr>\n",
       "      <th>72926976</th>\n",
       "      <td>SRS849637</td>\n",
       "      <td>molecular data type</td>\n",
       "      <td>C0752046</td>\n",
       "      <td>694</td>\n",
       "      <td>C18279</td>\n",
       "      <td>Single Nucleotide Polymorphism</td>\n",
       "    </tr>\n",
       "  </tbody>\n",
       "</table>\n",
       "<p>1565807 rows × 6 columns</p>\n",
       "</div>"
      ],
      "text/plain": [
       "                 srs               attrib       CUI  score      NCI  \\\n",
       "27         SRS648841  molecular data type  C0205369    827   C38024   \n",
       "28         SRS648841  molecular data type  C0002085    827   C16277   \n",
       "214        SRS439430  molecular data type  C0444667    694   C25326   \n",
       "215        SRS439430  molecular data type  C3538927    861  C101296   \n",
       "231       SRS1360937  molecular data type  C0444667    694   C25326   \n",
       "232       SRS1360937  molecular data type  C0017428    861   C16629   \n",
       "240       SRS1786075  molecular data type  C0017431    861   C16631   \n",
       "241       SRS1786075  molecular data type  C1527094    694   C41173   \n",
       "242       SRS1786075  molecular data type  C0752046    694   C18279   \n",
       "310       SRS1889914  molecular data type  C0017431    827   C16631   \n",
       "311       SRS1889914  molecular data type  C1511518    660   C40207   \n",
       "312       SRS1889914  molecular data type  C1527094    660   C41173   \n",
       "313       SRS1889914  molecular data type  C0752046    660   C18279   \n",
       "474       SRS1481293  molecular data type  C0444667    694   C25326   \n",
       "475       SRS1481293  molecular data type  C3538927    861  C101296   \n",
       "516        SRS609013  molecular data type  C0017428    861   C16629   \n",
       "517        SRS609013  molecular data type  C1521840    694   C25702   \n",
       "824       SRS1405362  molecular data type  C0444667    694   C25326   \n",
       "825       SRS1405362  molecular data type  C3538927    861  C101296   \n",
       "941       SRS1452582  molecular data type  C0035668    660     C812   \n",
       "942       SRS1452582  molecular data type  C0004793    660   C45374   \n",
       "943       SRS1452582  molecular data type  C2348184    660   C70710   \n",
       "1189       SRS506188  molecular data type  C0017431    827   C16631   \n",
       "1190       SRS506188  molecular data type  C1511518    660   C40207   \n",
       "1191       SRS506188  molecular data type  C1527094    660   C41173   \n",
       "1192       SRS506188  molecular data type  C0752046    660   C18279   \n",
       "1388       SRS849288  molecular data type  C0017431    861   C16631   \n",
       "1389       SRS849288  molecular data type  C1510941   1000   C26358   \n",
       "1390       SRS849288  molecular data type  C1527094    694   C41173   \n",
       "1391       SRS849288  molecular data type  C0752046    694   C18279   \n",
       "...              ...                  ...       ...    ...      ...   \n",
       "72925785   SRS808103  molecular data type  C0444667    694   C25326   \n",
       "72925786   SRS808103  molecular data type  C3538927    861  C101296   \n",
       "72925819  SRS1352309  molecular data type  C0444667    694   C25326   \n",
       "72925820  SRS1352309  molecular data type  C0017428    861   C16629   \n",
       "72926000   SRS864949  molecular data type  C0444667    694   C25326   \n",
       "72926001   SRS864949  molecular data type  C3538927    861  C101296   \n",
       "72926027   SRS532113  molecular data type  C0017428    861   C16629   \n",
       "72926028   SRS532113  molecular data type  C1521840    694   C25702   \n",
       "72926163  SRS1119548  molecular data type  C0017431    827   C16631   \n",
       "72926164  SRS1119548  molecular data type  C1511518    660   C40207   \n",
       "72926165  SRS1119548  molecular data type  C1527094    660   C41173   \n",
       "72926166  SRS1119548  molecular data type  C0752046    660   C18279   \n",
       "72926377   SRS439501  molecular data type  C1521840    694   C25702   \n",
       "72926378   SRS439501  molecular data type  C3538927    861  C101296   \n",
       "72926495   SRS423232  molecular data type  C0017428    861   C16629   \n",
       "72926496   SRS423232  molecular data type  C1521840    694   C25702   \n",
       "72926568  SRS1036302  molecular data type  C0444667    694   C25326   \n",
       "72926569  SRS1036302  molecular data type  C3538927    861  C101296   \n",
       "72926709   SRS809040  molecular data type  C0017431    861   C16631   \n",
       "72926710   SRS809040  molecular data type  C1510941   1000   C26358   \n",
       "72926711   SRS809040  molecular data type  C1527094    694   C41173   \n",
       "72926712   SRS809040  molecular data type  C0752046    694   C18279   \n",
       "72926747  SRS1132523  molecular data type  C0017431    827   C16631   \n",
       "72926748  SRS1132523  molecular data type  C1511518    660   C40207   \n",
       "72926749  SRS1132523  molecular data type  C1527094    660   C41173   \n",
       "72926750  SRS1132523  molecular data type  C0752046    660   C18279   \n",
       "72926973   SRS849637  molecular data type  C0017431    861   C16631   \n",
       "72926974   SRS849637  molecular data type  C1510941   1000   C26358   \n",
       "72926975   SRS849637  molecular data type  C1527094    694   C41173   \n",
       "72926976   SRS849637  molecular data type  C0752046    694   C18279   \n",
       "\n",
       "                                  NciEng  \n",
       "27                             Specified  \n",
       "28                                Allele  \n",
       "214                                Whole  \n",
       "215                                Exome  \n",
       "231                                Whole  \n",
       "232                               Genome  \n",
       "240                             Genotype  \n",
       "241                             SNP Info  \n",
       "242       Single Nucleotide Polymorphism  \n",
       "310                             Genotype  \n",
       "311             Copy Number Polymorphism  \n",
       "312                             SNP Info  \n",
       "313       Single Nucleotide Polymorphism  \n",
       "474                                Whole  \n",
       "475                                Exome  \n",
       "516                               Genome  \n",
       "517                               Target  \n",
       "824                                Whole  \n",
       "825                                Exome  \n",
       "941                     Ribonucleic Acid  \n",
       "942                  Nucleotide Sequence  \n",
       "943                      Sequence Number  \n",
       "1189                            Genotype  \n",
       "1190            Copy Number Polymorphism  \n",
       "1191                            SNP Info  \n",
       "1192      Single Nucleotide Polymorphism  \n",
       "1388                            Genotype  \n",
       "1389                               Array  \n",
       "1390                            SNP Info  \n",
       "1391      Single Nucleotide Polymorphism  \n",
       "...                                  ...  \n",
       "72925785                           Whole  \n",
       "72925786                           Exome  \n",
       "72925819                           Whole  \n",
       "72925820                          Genome  \n",
       "72926000                           Whole  \n",
       "72926001                           Exome  \n",
       "72926027                          Genome  \n",
       "72926028                          Target  \n",
       "72926163                        Genotype  \n",
       "72926164        Copy Number Polymorphism  \n",
       "72926165                        SNP Info  \n",
       "72926166  Single Nucleotide Polymorphism  \n",
       "72926377                          Target  \n",
       "72926378                           Exome  \n",
       "72926495                          Genome  \n",
       "72926496                          Target  \n",
       "72926568                           Whole  \n",
       "72926569                           Exome  \n",
       "72926709                        Genotype  \n",
       "72926710                           Array  \n",
       "72926711                        SNP Info  \n",
       "72926712  Single Nucleotide Polymorphism  \n",
       "72926747                        Genotype  \n",
       "72926748        Copy Number Polymorphism  \n",
       "72926749                        SNP Info  \n",
       "72926750  Single Nucleotide Polymorphism  \n",
       "72926973                        Genotype  \n",
       "72926974                           Array  \n",
       "72926975                        SNP Info  \n",
       "72926976  Single Nucleotide Polymorphism  \n",
       "\n",
       "[1565807 rows x 6 columns]"
      ]
     },
     "execution_count": 36,
     "metadata": {},
     "output_type": "execute_result"
    }
   ],
   "source": [
    "bio_metaDf[bio_metaDf.attrib=='molecular data type']"
   ]
  },
  {
   "cell_type": "code",
   "execution_count": 37,
   "metadata": {},
   "outputs": [
    {
     "data": {
      "text/plain": [
       "TITLE                               5678720\n",
       "SCIENTIFIC NAME                     3292071\n",
       "study name                          2841550\n",
       "DESCRIPTION                         2737530\n",
       "BioSampleModel                      2448286\n",
       "sex                                 2078991\n",
       "study design                        1968074\n",
       "source name                         1922618\n",
       "geo loc name                        1734993\n",
       "SUBMITTER ID                        1683774\n",
       "molecular data type                 1565807\n",
       "isolation source                    1173499\n",
       "tissue                              1039759\n",
       "cell type                            949195\n",
       "lat lon                              905507\n",
       "gap accession                        828996\n",
       "host                                 687152\n",
       "strain                               676625\n",
       "gap consent code                     664242\n",
       "isolate                              663732\n",
       "body site                            640742\n",
       "biospecimen repository               610394\n",
       "submitter handle                     610394\n",
       "age                                  600095\n",
       "sample type                          572330\n",
       "env feature                          562503\n",
       "analyte type                         469359\n",
       "ArrayExpress Species                 461109\n",
       "project name                         455532\n",
       "env material                         436463\n",
       "biomaterial provider                 434055\n",
       "collected by                         432574\n",
       "collection date                      432390\n",
       "env biome                            428033\n",
       "host disease                         426789\n",
       "host sex                             368890\n",
       "title                                368010\n",
       "histological type                    341761\n",
       "dev stage                            303373\n",
       "submitted sample id                  285189\n",
       "biospecimen repository sample id     285181\n",
       "study disease                        283019\n",
       "ArrayExpress Sex                     260659\n",
       "genotype                             237196\n",
       "treatment                            236374\n",
       "gap consent short name               230892\n",
       "Sex                                  221973\n",
       "cultivar                             196992\n",
       "gap parent phs                       192484\n",
       "env package                          188070\n",
       "Name: attrib, dtype: int64"
      ]
     },
     "execution_count": 37,
     "metadata": {},
     "output_type": "execute_result"
    }
   ],
   "source": [
    "bio_metaDf.attrib.value_counts().head(n=50)"
   ]
  },
  {
   "cell_type": "code",
   "execution_count": 38,
   "metadata": {},
   "outputs": [
    {
     "data": {
      "text/plain": [
       "TITLE                                 5678720\n",
       "SCIENTIFIC NAME                       3292071\n",
       "study name                            2841550\n",
       "DESCRIPTION                           2737530\n",
       "BioSampleModel                        2448286\n",
       "sex                                   2078991\n",
       "study design                          1968074\n",
       "source name                           1922618\n",
       "geo loc name                          1734993\n",
       "SUBMITTER ID                          1683774\n",
       "molecular data type                   1565807\n",
       "isolation source                      1173499\n",
       "tissue                                1039759\n",
       "cell type                              949195\n",
       "lat lon                                905507\n",
       "gap accession                          828996\n",
       "host                                   687152\n",
       "strain                                 676625\n",
       "gap consent code                       664242\n",
       "isolate                                663732\n",
       "body site                              640742\n",
       "biospecimen repository                 610394\n",
       "submitter handle                       610394\n",
       "age                                    600095\n",
       "sample type                            572330\n",
       "env feature                            562503\n",
       "analyte type                           469359\n",
       "ArrayExpress Species                   461109\n",
       "project name                           455532\n",
       "env material                           436463\n",
       "                                       ...   \n",
       "HSV2 seropositive                           1\n",
       "presence of the novb2 protein               1\n",
       "y chromosome haplogroup                     1\n",
       "wbs lymphoblastoid cell line id             1\n",
       "setdb1                                      1\n",
       "AR23 24 infested                            1\n",
       "Ismanizan Ismail                            1\n",
       "MCF 7 Fixed                                 1\n",
       "inbred line                                 1\n",
       "CATCTA                                      1\n",
       "0581 24 infested                            1\n",
       "SeasonCollected                             1\n",
       "human cell line STR profile status          1\n",
       "Soil inhabiting microbes                    1\n",
       "SOD1 status                                 1\n",
       "Silicon                                     1\n",
       "body site abbreviation                      1\n",
       "host disease state                          1\n",
       "receptivity status                          1\n",
       "bio project ID                              1\n",
       "3rd Leaf Length cm                          1\n",
       "drug treatment frequency                    1\n",
       "tisue type                                  1\n",
       "TG1104D0027                                 1\n",
       "Location of Stn P11                         1\n",
       "carb monoxide                               1\n",
       "Library vector                              1\n",
       "AAGGG                                       1\n",
       "virome title                                1\n",
       "barcode CTGT                                1\n",
       "Name: attrib, Length: 14158, dtype: int64"
      ]
     },
     "execution_count": 38,
     "metadata": {},
     "output_type": "execute_result"
    }
   ],
   "source": [
    "bio_metaDf.attrib.value_counts()"
   ]
  },
  {
   "cell_type": "code",
   "execution_count": 39,
   "metadata": {},
   "outputs": [
    {
     "name": "stderr",
     "output_type": "stream",
     "text": [
      "/cellar/users/btsui/anaconda2/envs/py36/lib/python3.6/site-packages/IPython/core/interactiveshell.py:2728: DtypeWarning: Columns (23) have mixed types. Specify dtype option on import or set low_memory=False.\n",
      "  interactivity=interactivity, compiler=compiler, result=result)\n"
     ]
    }
   ],
   "source": [
    "accessions=pd.read_csv('/cellar/users/btsui/1000genomes.sequence.index',sep='\\t',comment='#').iloc[:,3].unique()"
   ]
  },
  {
   "cell_type": "code",
   "execution_count": 45,
   "metadata": {},
   "outputs": [],
   "source": [
    "allSRSDir='/cellar/users/btsui/Data/nrnb01_nobackup/METAMAP/allSRS.pickle'"
   ]
  },
  {
   "cell_type": "code",
   "execution_count": 48,
   "metadata": {},
   "outputs": [],
   "source": [
    "mySrsS=pd.read_pickle(allSRSDir)"
   ]
  },
  {
   "cell_type": "code",
   "execution_count": 99,
   "metadata": {},
   "outputs": [],
   "source": [
    "#thousand_g_srp='SRP004054'\n",
    "accessions=['SRP012682']# gtex\n",
    "hit_techDf=technical_meta_data_df[technical_meta_data_df.Study.isin(accessions)]"
   ]
  },
  {
   "cell_type": "code",
   "execution_count": 100,
   "metadata": {},
   "outputs": [],
   "source": [
    "hit_srs=hit_techDf['Sample'].unique()"
   ]
  },
  {
   "cell_type": "code",
   "execution_count": 101,
   "metadata": {},
   "outputs": [
    {
     "data": {
      "text/plain": [
       "ERS069057  TITLE                                Streptococcus pneumoniae\n",
       "           SCIENTIFIC_NAME                      Streptococcus pneumoniae\n",
       "           SUBMITTER_ID          SN20648-sc-2011-11-03T19:59:41Z-1101437\n",
       "           Strain                                                       \n",
       "           Sample Description                                           \n",
       "dtype: object"
      ]
     },
     "execution_count": 101,
     "metadata": {},
     "output_type": "execute_result"
    }
   ],
   "source": [
    "mySrsS.head()"
   ]
  },
  {
   "cell_type": "code",
   "execution_count": 102,
   "metadata": {},
   "outputs": [],
   "source": [
    "m_srs=mySrsS.index.get_level_values(0).isin(hit_srs)"
   ]
  },
  {
   "cell_type": "code",
   "execution_count": 103,
   "metadata": {},
   "outputs": [
    {
     "name": "stdout",
     "output_type": "stream",
     "text": [
      "CPU times: user 36 ms, sys: 20 ms, total: 56 ms\n",
      "Wall time: 55.2 ms\n"
     ]
    }
   ],
   "source": [
    "%%time\n",
    "subSrsS=mySrsS[m_srs]"
   ]
  },
  {
   "cell_type": "code",
   "execution_count": 104,
   "metadata": {},
   "outputs": [],
   "source": [
    "attribVC=subSrsS.index.get_level_values(1).value_counts()"
   ]
  },
  {
   "cell_type": "code",
   "execution_count": 105,
   "metadata": {},
   "outputs": [
    {
     "data": {
      "text/plain": [
       "231200"
      ]
     },
     "execution_count": 105,
     "metadata": {},
     "output_type": "execute_result"
    }
   ],
   "source": [
    "len(subSrsS)"
   ]
  },
  {
   "cell_type": "code",
   "execution_count": 106,
   "metadata": {},
   "outputs": [],
   "source": [
    "\n",
    "tmpSubS=subSrsS[subSrsS.index.get_level_values(1).isin(attribVC.index[attribVC>100])]"
   ]
  },
  {
   "cell_type": "code",
   "execution_count": 107,
   "metadata": {},
   "outputs": [],
   "source": [
    "orderLevels=['level_0','level_1']\n",
    "metaTable1000Genome=tmpSubS.reset_index().drop_duplicates(orderLevels).set_index(orderLevels)[0].unstack()#.groupby(level=[])"
   ]
  },
  {
   "cell_type": "code",
   "execution_count": 108,
   "metadata": {},
   "outputs": [],
   "source": [
    "myL=[]\n",
    "for col in metaTable1000Genome.columns:#.apply(lambda tmpS:tmpS.value_counts(),axis=0)\n",
    "    myTmpVC=metaTable1000Genome[col].value_counts().iloc[:5]\n",
    "    myL.append(myTmpVC)\n",
    "    #print (myTmpVC)\n",
    "    #print (\"\\n\\n\")"
   ]
  },
  {
   "cell_type": "code",
   "execution_count": 109,
   "metadata": {},
   "outputs": [],
   "source": [
    "tmpS=pd.concat(myL,keys=metaTable1000Genome.columns)"
   ]
  },
  {
   "cell_type": "code",
   "execution_count": 114,
   "metadata": {},
   "outputs": [
    {
     "data": {
      "text/plain": [
       "level_1                                                                                                                                                                                \n",
       "SCIENTIFIC_NAME                   Homo sapiens                                                                                                                                             11036\n",
       "TITLE                             Non-tumor DNA:DNA Genomic sample from Whole Blood of a human male participant in the dbGaP study \"Genotype-Tissue Expression (GTEx)\"                       784\n",
       "                                  Non-tumor DNA:DNA Genomic sample from Whole Blood of a human female participant in the dbGaP study \"Genotype-Tissue Expression (GTEx)\"                     448\n",
       "                                  Non-tumor RNA:Total RNA sample from Muscle - Skeletal of a human male participant in the dbGaP study \"Genotype-Tissue Expression (GTEx)\"                   303\n",
       "                                  Non-tumor RNA:Total RNA sample from Whole Blood of a human male participant in the dbGaP study \"Genotype-Tissue Expression (GTEx)\"                         290\n",
       "                                  Non-tumor RNA:Total RNA sample from Skin - Sun Exposed (Lower leg) of a human male participant in the dbGaP study \"Genotype-Tissue Expression (GTEx)\"      255\n",
       "analyte type                      RNA:Total RNA                                                                                                                                             9777\n",
       "                                  DNA:DNA Genomic                                                                                                                                           1232\n",
       "                                  DNA:DNA Somatic                                                                                                                                             27\n",
       "biospecimen repository            GTEx                                                                                                                                                     11036\n",
       "biospecimen repository sample id  GTEX-13X6I-0011-R9b-SM-5PNZJ                                                                                                                                 1\n",
       "                                  GTEX-R55F-1526-SM-2TF4X                                                                                                                                      1\n",
       "                                  GTEX-11EQ9-0726-SM-5A5K2                                                                                                                                     1\n",
       "                                  GTEX-14DAR-1426-SM-5RQIR                                                                                                                                     1\n",
       "                                  GTEX-13U4I-0226-SM-5SIB1                                                                                                                                     1\n",
       "body site                         Whole Blood                                                                                                                                               1687\n",
       "                                  Muscle - Skeletal                                                                                                                                          477\n",
       "                                  Skin - Sun Exposed (Lower leg)                                                                                                                             403\n",
       "                                  Lung                                                                                                                                                       401\n",
       "                                  Adipose - Subcutaneous                                                                                                                                     385\n",
       "gap_accession                     phs000424                                                                                                                                                11036\n",
       "gap_consent_code                  1                                                                                                                                                        11036\n",
       "gap_consent_short_name            GRU                                                                                                                                                      11036\n",
       "gap_sample_id                     1272237                                                                                                                                                      1\n",
       "                                  735885                                                                                                                                                       1\n",
       "                                  736058                                                                                                                                                       1\n",
       "                                  1110142                                                                                                                                                      1\n",
       "                                  1110131                                                                                                                                                      1\n",
       "gap_subject_id                    590982                                                                                                                                                     102\n",
       "                                  706553                                                                                                                                                      64\n",
       "                                                                                                                                                                                           ...  \n",
       "                                  706562                                                                                                                                                      46\n",
       "                                  706585                                                                                                                                                      46\n",
       "histological type                 Blood                                                                                                                                                     1825\n",
       "                                  Brain                                                                                                                                                     1426\n",
       "                                  Skin                                                                                                                                                       981\n",
       "                                  Esophagus                                                                                                                                                  810\n",
       "                                  Blood Vessel                                                                                                                                               752\n",
       "is technical control              Yes                                                                                                                                                        547\n",
       "is tumor                          No                                                                                                                                                       10934\n",
       "                                  Yes                                                                                                                                                        102\n",
       "molecular data type               Allele-Specific Expression                                                                                                                                8664\n",
       "                                  RNA Seq (NGS)                                                                                                                                             1113\n",
       "                                  SNP/CNV Genotypes (NGS)                                                                                                                                    911\n",
       "                                  CNV Genotypes                                                                                                                                              179\n",
       "                                  Whole Genome (NGS)                                                                                                                                         112\n",
       "sex                               male                                                                                                                                                      6898\n",
       "                                  female                                                                                                                                                    4138\n",
       "study design                      Cross-Sectional                                                                                                                                          11036\n",
       "study name                        Genotype-Tissue Expression (GTEx)                                                                                                                        11036\n",
       "submitted sample id               GTEX-13X6I-0011-R9b-SM-5PNZJ                                                                                                                                 1\n",
       "                                  GTEX-R55F-1526-SM-2TF4X                                                                                                                                      1\n",
       "                                  GTEX-11EQ9-0726-SM-5A5K2                                                                                                                                     1\n",
       "                                  GTEX-14DAR-1426-SM-5RQIR                                                                                                                                     1\n",
       "                                  GTEX-13U4I-0226-SM-5SIB1                                                                                                                                     1\n",
       "submitted subject id              K-562                                                                                                                                                      102\n",
       "                                  GTEX-T6MN                                                                                                                                                   64\n",
       "                                  GTEX-WFON                                                                                                                                                   47\n",
       "                                  GTEX-WFG8                                                                                                                                                   46\n",
       "                                  GTEX-TSE9                                                                                                                                                   46\n",
       "submitter handle                  GTEx                                                                                                                                                     11036\n",
       "Length: 61, dtype: int64"
      ]
     },
     "execution_count": 114,
     "metadata": {},
     "output_type": "execute_result"
    }
   ],
   "source": [
    "tmpS"
   ]
  },
  {
   "cell_type": "code",
   "execution_count": 111,
   "metadata": {},
   "outputs": [],
   "source": [
    "excel=pd.ExcelWriter('./tmpData/tmp.xlsx')\n",
    "tmpS.to_frame().to_excel(excel)\n",
    "excel.close()"
   ]
  },
  {
   "cell_type": "code",
   "execution_count": 112,
   "metadata": {},
   "outputs": [
    {
     "name": "stdout",
     "output_type": "stream",
     "text": [
      "/cellar/users/btsui/Project/METAMAP/notebook/RapMapTest/Analysis/./tmpData/tmp.xlsx\r\n"
     ]
    }
   ],
   "source": [
    "!echo $PWD/./tmpData/tmp.xlsx"
   ]
  },
  {
   "cell_type": "code",
   "execution_count": 113,
   "metadata": {},
   "outputs": [
    {
     "ename": "KeyError",
     "evalue": "'cell_type'",
     "output_type": "error",
     "traceback": [
      "\u001b[0;31m---------------------------------------------------------------------------\u001b[0m",
      "\u001b[0;31mKeyError\u001b[0m                                  Traceback (most recent call last)",
      "\u001b[0;32m~/anaconda2/envs/py36/lib/python3.6/site-packages/pandas/core/indexes/base.py\u001b[0m in \u001b[0;36mget_loc\u001b[0;34m(self, key, method, tolerance)\u001b[0m\n\u001b[1;32m   2524\u001b[0m             \u001b[0;32mtry\u001b[0m\u001b[0;34m:\u001b[0m\u001b[0;34m\u001b[0m\u001b[0m\n\u001b[0;32m-> 2525\u001b[0;31m                 \u001b[0;32mreturn\u001b[0m \u001b[0mself\u001b[0m\u001b[0;34m.\u001b[0m\u001b[0m_engine\u001b[0m\u001b[0;34m.\u001b[0m\u001b[0mget_loc\u001b[0m\u001b[0;34m(\u001b[0m\u001b[0mkey\u001b[0m\u001b[0;34m)\u001b[0m\u001b[0;34m\u001b[0m\u001b[0m\n\u001b[0m\u001b[1;32m   2526\u001b[0m             \u001b[0;32mexcept\u001b[0m \u001b[0mKeyError\u001b[0m\u001b[0;34m:\u001b[0m\u001b[0;34m\u001b[0m\u001b[0m\n",
      "\u001b[0;32mpandas/_libs/index.pyx\u001b[0m in \u001b[0;36mpandas._libs.index.IndexEngine.get_loc\u001b[0;34m()\u001b[0m\n",
      "\u001b[0;32mpandas/_libs/index.pyx\u001b[0m in \u001b[0;36mpandas._libs.index.IndexEngine.get_loc\u001b[0;34m()\u001b[0m\n",
      "\u001b[0;32mpandas/_libs/hashtable_class_helper.pxi\u001b[0m in \u001b[0;36mpandas._libs.hashtable.PyObjectHashTable.get_item\u001b[0;34m()\u001b[0m\n",
      "\u001b[0;32mpandas/_libs/hashtable_class_helper.pxi\u001b[0m in \u001b[0;36mpandas._libs.hashtable.PyObjectHashTable.get_item\u001b[0;34m()\u001b[0m\n",
      "\u001b[0;31mKeyError\u001b[0m: 'cell_type'",
      "\nDuring handling of the above exception, another exception occurred:\n",
      "\u001b[0;31mKeyError\u001b[0m                                  Traceback (most recent call last)",
      "\u001b[0;32m<ipython-input-113-f9a6c3c71f03>\u001b[0m in \u001b[0;36m<module>\u001b[0;34m()\u001b[0m\n\u001b[0;32m----> 1\u001b[0;31m \u001b[0mmetaTable1000Genome\u001b[0m\u001b[0;34m[\u001b[0m\u001b[0;34m'cell_type'\u001b[0m\u001b[0;34m]\u001b[0m\u001b[0;34m.\u001b[0m\u001b[0mvalue_counts\u001b[0m\u001b[0;34m(\u001b[0m\u001b[0;34m)\u001b[0m\u001b[0;34m\u001b[0m\u001b[0m\n\u001b[0m",
      "\u001b[0;32m~/anaconda2/envs/py36/lib/python3.6/site-packages/pandas/core/frame.py\u001b[0m in \u001b[0;36m__getitem__\u001b[0;34m(self, key)\u001b[0m\n\u001b[1;32m   2137\u001b[0m             \u001b[0;32mreturn\u001b[0m \u001b[0mself\u001b[0m\u001b[0;34m.\u001b[0m\u001b[0m_getitem_multilevel\u001b[0m\u001b[0;34m(\u001b[0m\u001b[0mkey\u001b[0m\u001b[0;34m)\u001b[0m\u001b[0;34m\u001b[0m\u001b[0m\n\u001b[1;32m   2138\u001b[0m         \u001b[0;32melse\u001b[0m\u001b[0;34m:\u001b[0m\u001b[0;34m\u001b[0m\u001b[0m\n\u001b[0;32m-> 2139\u001b[0;31m             \u001b[0;32mreturn\u001b[0m \u001b[0mself\u001b[0m\u001b[0;34m.\u001b[0m\u001b[0m_getitem_column\u001b[0m\u001b[0;34m(\u001b[0m\u001b[0mkey\u001b[0m\u001b[0;34m)\u001b[0m\u001b[0;34m\u001b[0m\u001b[0m\n\u001b[0m\u001b[1;32m   2140\u001b[0m \u001b[0;34m\u001b[0m\u001b[0m\n\u001b[1;32m   2141\u001b[0m     \u001b[0;32mdef\u001b[0m \u001b[0m_getitem_column\u001b[0m\u001b[0;34m(\u001b[0m\u001b[0mself\u001b[0m\u001b[0;34m,\u001b[0m \u001b[0mkey\u001b[0m\u001b[0;34m)\u001b[0m\u001b[0;34m:\u001b[0m\u001b[0;34m\u001b[0m\u001b[0m\n",
      "\u001b[0;32m~/anaconda2/envs/py36/lib/python3.6/site-packages/pandas/core/frame.py\u001b[0m in \u001b[0;36m_getitem_column\u001b[0;34m(self, key)\u001b[0m\n\u001b[1;32m   2144\u001b[0m         \u001b[0;31m# get column\u001b[0m\u001b[0;34m\u001b[0m\u001b[0;34m\u001b[0m\u001b[0m\n\u001b[1;32m   2145\u001b[0m         \u001b[0;32mif\u001b[0m \u001b[0mself\u001b[0m\u001b[0;34m.\u001b[0m\u001b[0mcolumns\u001b[0m\u001b[0;34m.\u001b[0m\u001b[0mis_unique\u001b[0m\u001b[0;34m:\u001b[0m\u001b[0;34m\u001b[0m\u001b[0m\n\u001b[0;32m-> 2146\u001b[0;31m             \u001b[0;32mreturn\u001b[0m \u001b[0mself\u001b[0m\u001b[0;34m.\u001b[0m\u001b[0m_get_item_cache\u001b[0m\u001b[0;34m(\u001b[0m\u001b[0mkey\u001b[0m\u001b[0;34m)\u001b[0m\u001b[0;34m\u001b[0m\u001b[0m\n\u001b[0m\u001b[1;32m   2147\u001b[0m \u001b[0;34m\u001b[0m\u001b[0m\n\u001b[1;32m   2148\u001b[0m         \u001b[0;31m# duplicate columns & possible reduce dimensionality\u001b[0m\u001b[0;34m\u001b[0m\u001b[0;34m\u001b[0m\u001b[0m\n",
      "\u001b[0;32m~/anaconda2/envs/py36/lib/python3.6/site-packages/pandas/core/generic.py\u001b[0m in \u001b[0;36m_get_item_cache\u001b[0;34m(self, item)\u001b[0m\n\u001b[1;32m   1840\u001b[0m         \u001b[0mres\u001b[0m \u001b[0;34m=\u001b[0m \u001b[0mcache\u001b[0m\u001b[0;34m.\u001b[0m\u001b[0mget\u001b[0m\u001b[0;34m(\u001b[0m\u001b[0mitem\u001b[0m\u001b[0;34m)\u001b[0m\u001b[0;34m\u001b[0m\u001b[0m\n\u001b[1;32m   1841\u001b[0m         \u001b[0;32mif\u001b[0m \u001b[0mres\u001b[0m \u001b[0;32mis\u001b[0m \u001b[0;32mNone\u001b[0m\u001b[0;34m:\u001b[0m\u001b[0;34m\u001b[0m\u001b[0m\n\u001b[0;32m-> 1842\u001b[0;31m             \u001b[0mvalues\u001b[0m \u001b[0;34m=\u001b[0m \u001b[0mself\u001b[0m\u001b[0;34m.\u001b[0m\u001b[0m_data\u001b[0m\u001b[0;34m.\u001b[0m\u001b[0mget\u001b[0m\u001b[0;34m(\u001b[0m\u001b[0mitem\u001b[0m\u001b[0;34m)\u001b[0m\u001b[0;34m\u001b[0m\u001b[0m\n\u001b[0m\u001b[1;32m   1843\u001b[0m             \u001b[0mres\u001b[0m \u001b[0;34m=\u001b[0m \u001b[0mself\u001b[0m\u001b[0;34m.\u001b[0m\u001b[0m_box_item_values\u001b[0m\u001b[0;34m(\u001b[0m\u001b[0mitem\u001b[0m\u001b[0;34m,\u001b[0m \u001b[0mvalues\u001b[0m\u001b[0;34m)\u001b[0m\u001b[0;34m\u001b[0m\u001b[0m\n\u001b[1;32m   1844\u001b[0m             \u001b[0mcache\u001b[0m\u001b[0;34m[\u001b[0m\u001b[0mitem\u001b[0m\u001b[0;34m]\u001b[0m \u001b[0;34m=\u001b[0m \u001b[0mres\u001b[0m\u001b[0;34m\u001b[0m\u001b[0m\n",
      "\u001b[0;32m~/anaconda2/envs/py36/lib/python3.6/site-packages/pandas/core/internals.py\u001b[0m in \u001b[0;36mget\u001b[0;34m(self, item, fastpath)\u001b[0m\n\u001b[1;32m   3841\u001b[0m \u001b[0;34m\u001b[0m\u001b[0m\n\u001b[1;32m   3842\u001b[0m             \u001b[0;32mif\u001b[0m \u001b[0;32mnot\u001b[0m \u001b[0misna\u001b[0m\u001b[0;34m(\u001b[0m\u001b[0mitem\u001b[0m\u001b[0;34m)\u001b[0m\u001b[0;34m:\u001b[0m\u001b[0;34m\u001b[0m\u001b[0m\n\u001b[0;32m-> 3843\u001b[0;31m                 \u001b[0mloc\u001b[0m \u001b[0;34m=\u001b[0m \u001b[0mself\u001b[0m\u001b[0;34m.\u001b[0m\u001b[0mitems\u001b[0m\u001b[0;34m.\u001b[0m\u001b[0mget_loc\u001b[0m\u001b[0;34m(\u001b[0m\u001b[0mitem\u001b[0m\u001b[0;34m)\u001b[0m\u001b[0;34m\u001b[0m\u001b[0m\n\u001b[0m\u001b[1;32m   3844\u001b[0m             \u001b[0;32melse\u001b[0m\u001b[0;34m:\u001b[0m\u001b[0;34m\u001b[0m\u001b[0m\n\u001b[1;32m   3845\u001b[0m                 \u001b[0mindexer\u001b[0m \u001b[0;34m=\u001b[0m \u001b[0mnp\u001b[0m\u001b[0;34m.\u001b[0m\u001b[0marange\u001b[0m\u001b[0;34m(\u001b[0m\u001b[0mlen\u001b[0m\u001b[0;34m(\u001b[0m\u001b[0mself\u001b[0m\u001b[0;34m.\u001b[0m\u001b[0mitems\u001b[0m\u001b[0;34m)\u001b[0m\u001b[0;34m)\u001b[0m\u001b[0;34m[\u001b[0m\u001b[0misna\u001b[0m\u001b[0;34m(\u001b[0m\u001b[0mself\u001b[0m\u001b[0;34m.\u001b[0m\u001b[0mitems\u001b[0m\u001b[0;34m)\u001b[0m\u001b[0;34m]\u001b[0m\u001b[0;34m\u001b[0m\u001b[0m\n",
      "\u001b[0;32m~/anaconda2/envs/py36/lib/python3.6/site-packages/pandas/core/indexes/base.py\u001b[0m in \u001b[0;36mget_loc\u001b[0;34m(self, key, method, tolerance)\u001b[0m\n\u001b[1;32m   2525\u001b[0m                 \u001b[0;32mreturn\u001b[0m \u001b[0mself\u001b[0m\u001b[0;34m.\u001b[0m\u001b[0m_engine\u001b[0m\u001b[0;34m.\u001b[0m\u001b[0mget_loc\u001b[0m\u001b[0;34m(\u001b[0m\u001b[0mkey\u001b[0m\u001b[0;34m)\u001b[0m\u001b[0;34m\u001b[0m\u001b[0m\n\u001b[1;32m   2526\u001b[0m             \u001b[0;32mexcept\u001b[0m \u001b[0mKeyError\u001b[0m\u001b[0;34m:\u001b[0m\u001b[0;34m\u001b[0m\u001b[0m\n\u001b[0;32m-> 2527\u001b[0;31m                 \u001b[0;32mreturn\u001b[0m \u001b[0mself\u001b[0m\u001b[0;34m.\u001b[0m\u001b[0m_engine\u001b[0m\u001b[0;34m.\u001b[0m\u001b[0mget_loc\u001b[0m\u001b[0;34m(\u001b[0m\u001b[0mself\u001b[0m\u001b[0;34m.\u001b[0m\u001b[0m_maybe_cast_indexer\u001b[0m\u001b[0;34m(\u001b[0m\u001b[0mkey\u001b[0m\u001b[0;34m)\u001b[0m\u001b[0;34m)\u001b[0m\u001b[0;34m\u001b[0m\u001b[0m\n\u001b[0m\u001b[1;32m   2528\u001b[0m \u001b[0;34m\u001b[0m\u001b[0m\n\u001b[1;32m   2529\u001b[0m         \u001b[0mindexer\u001b[0m \u001b[0;34m=\u001b[0m \u001b[0mself\u001b[0m\u001b[0;34m.\u001b[0m\u001b[0mget_indexer\u001b[0m\u001b[0;34m(\u001b[0m\u001b[0;34m[\u001b[0m\u001b[0mkey\u001b[0m\u001b[0;34m]\u001b[0m\u001b[0;34m,\u001b[0m \u001b[0mmethod\u001b[0m\u001b[0;34m=\u001b[0m\u001b[0mmethod\u001b[0m\u001b[0;34m,\u001b[0m \u001b[0mtolerance\u001b[0m\u001b[0;34m=\u001b[0m\u001b[0mtolerance\u001b[0m\u001b[0;34m)\u001b[0m\u001b[0;34m\u001b[0m\u001b[0m\n",
      "\u001b[0;32mpandas/_libs/index.pyx\u001b[0m in \u001b[0;36mpandas._libs.index.IndexEngine.get_loc\u001b[0;34m()\u001b[0m\n",
      "\u001b[0;32mpandas/_libs/index.pyx\u001b[0m in \u001b[0;36mpandas._libs.index.IndexEngine.get_loc\u001b[0;34m()\u001b[0m\n",
      "\u001b[0;32mpandas/_libs/hashtable_class_helper.pxi\u001b[0m in \u001b[0;36mpandas._libs.hashtable.PyObjectHashTable.get_item\u001b[0;34m()\u001b[0m\n",
      "\u001b[0;32mpandas/_libs/hashtable_class_helper.pxi\u001b[0m in \u001b[0;36mpandas._libs.hashtable.PyObjectHashTable.get_item\u001b[0;34m()\u001b[0m\n",
      "\u001b[0;31mKeyError\u001b[0m: 'cell_type'"
     ]
    }
   ],
   "source": [
    "#metaTable1000Genome['cell_type'].value_counts()"
   ]
  },
  {
   "cell_type": "code",
   "execution_count": null,
   "metadata": {},
   "outputs": [],
   "source": [
    "processed_I=myPosDf.set_index(['Run_digits']).index"
   ]
  },
  {
   "cell_type": "code",
   "execution_count": null,
   "metadata": {},
   "outputs": [],
   "source": [
    "hit_techDf.set_index(['Run_digits']).index.isin(processed_I).sum()"
   ]
  },
  {
   "cell_type": "code",
   "execution_count": 97,
   "metadata": {},
   "outputs": [],
   "source": [
    "#hit_techDf.Study.value_counts()"
   ]
  },
  {
   "cell_type": "code",
   "execution_count": null,
   "metadata": {},
   "outputs": [],
   "source": []
  }
 ],
 "metadata": {
  "kernelspec": {
   "display_name": "Python 3",
   "language": "python",
   "name": "python3"
  },
  "language_info": {
   "codemirror_mode": {
    "name": "ipython",
    "version": 3
   },
   "file_extension": ".py",
   "mimetype": "text/x-python",
   "name": "python",
   "nbconvert_exporter": "python",
   "pygments_lexer": "ipython3",
   "version": "3.6.4"
  }
 },
 "nbformat": 4,
 "nbformat_minor": 2
}
