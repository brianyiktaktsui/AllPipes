{
 "cells": [
  {
   "cell_type": "markdown",
   "metadata": {},
   "source": [
    "\n",
    "# In short:\n",
    "Skymap is a local database that offers: \n",
    "1. **a single data matrix** for each omic layer for each species that [spans >200k sequencing runs from all the public studies](https://www.ncbi.nlm.nih.gov/sra), which is done by reprocessing **peta**bytes worth of sequencing data. Here is how much published data are out there: \n",
    "![alt text](./Figures/sra_data_availability.png \"Logo Title Text 1\")\n",
    "\n",
    "2. **a biological metadata file** that describe the relationships between the sequencing runs and also the keywords extracted from freetext annotations using NLP. \n",
    "3. **a techinical metadata file** that describe the relationships between the sequencing runs. \n",
    "\n",
    "#### The data is hosted in here: https://www.synapse.org/skymap (take < 3 minutes to set up the account). \n",
    "\n",
    "[In terms of validation of allelic alignment, we compared against TCGA pipeline as gold. standard](https://github.com/brianyiktaktsui/Skymap/blob/master/jupyter-notebooks/clean_notebooks/CompareTCGA_alignment_w_mine_pipe.ipynb)\n",
    "\n",
    "Here are the slides for explaining the process and rationale of [allelic read counts extraction over 300k known SNPs](https://docs.google.com/presentation/d/1KcumgtLfCdHNnIwkbU5DaQ7UNKHGbJ_fJZFy1cj53yE/edit#slide=id.p3), [RNAseq quantification and NLP processing](https://docs.google.com/presentation/d/14vLJJQ6ziw-2aLDoQAJGyv1sYo5ENzljsqsbZr9jNLM/edit#slide=id.p19)  in a semi-scientific manner.\n",
    "\n",
    "Here is an example of using simple coding to aggregate massive amount of data in a [self contained notebook](https://github.com/brianyiktaktsui/Skymap/blob/master/FindStudiesWithBrafV600Mutated.ipynb)\n",
    ".\n",
    "For convenience, I have sticked the notebook contents in below:"
   ]
  },
  {
   "cell_type": "markdown",
   "metadata": {},
   "source": [
    "If you insteand to run it, first download the data from synapse\n",
    "\n",
    "https://www.synapse.org/#!Synapse:syn11415602/wiki/492470"
   ]
  },
  {
   "cell_type": "markdown",
   "metadata": {},
   "source": [
    "  \n",
    "# Purpose of this notebook:  using skymap to slice out the sequencing runs associated with a BRAF V600 mutation and correlate it with expression (EQTL). \n",
    "\n",
    "Highlights:\n",
    "* Take only seconds to slice all the allelic read counts for >100k worth of samples in a particular region.  \n",
    "* Identify variant associations using NLP extracted labels from experimental annotations\n",
    "* Take < 1 minute to slice out the relevant expression matrix and go from data to association. \n",
    "* identify experiemnts where mutation is shown in molecular data but not in the experimental annotation. \n"
   ]
  },
  {
   "cell_type": "markdown",
   "metadata": {},
   "source": [
    "##  <20 lines of code to slice out 100k experiments and their SNP near BRAF V600 in seconds"
   ]
  },
  {
   "cell_type": "code",
   "execution_count": 1,
   "metadata": {},
   "outputs": [],
   "source": [
    "### parameters\n",
    "import pandas as pd\n",
    "import numpy as np\n",
    "mySpecie='Homo_sapiens'\n",
    "\"\"\"\n",
    "Download from synapse if it is not installed\n",
    "\"\"\"\n",
    "skymap_snp_dir='/cellar/users/btsui/Data/SRA/snp/{specie}_snp_pos/'.format(specie=mySpecie)"
   ]
  },
  {
   "cell_type": "code",
   "execution_count": 2,
   "metadata": {},
   "outputs": [
    {
     "name": "stdout",
     "output_type": "stream",
     "text": [
      "Pos_block_0\t     Pos_block_174200000  Pos_block_25400000\r\n",
      "Pos_block_100000     Pos_block_174300000  Pos_block_25500000\r\n",
      "Pos_block_1000000    Pos_block_174400000  Pos_block_25600000\r\n",
      "Pos_block_10000000   Pos_block_174500000  Pos_block_25700000\r\n",
      "Pos_block_100000000  Pos_block_174600000  Pos_block_25800000\r\n",
      "Pos_block_100100000  Pos_block_174700000  Pos_block_25900000\r\n",
      "Pos_block_100200000  Pos_block_174800000  Pos_block_2600000\r\n",
      "Pos_block_100300000  Pos_block_174900000  Pos_block_26000000\r\n",
      "Pos_block_100400000  Pos_block_17500000   Pos_block_26100000\r\n",
      "Pos_block_100500000  Pos_block_175000000  Pos_block_26200000\r\n",
      "Pos_block_100600000  Pos_block_175100000  Pos_block_26300000\r\n",
      "Pos_block_100700000  Pos_block_175200000  Pos_block_26400000\r\n",
      "Pos_block_100800000  Pos_block_175300000  Pos_block_26500000\r\n",
      "Pos_block_100900000  Pos_block_175400000  Pos_block_26600000\r\n",
      "Pos_block_10100000   Pos_block_175500000  Pos_block_26700000\r\n",
      "Pos_block_101000000  Pos_block_175600000  Pos_block_26800000\r\n",
      "Pos_block_101100000  Pos_block_175700000  Pos_block_26900000\r\n",
      "Pos_block_101200000  Pos_block_175800000  Pos_block_2700000\r\n",
      "Pos_block_101300000  Pos_block_175900000  Pos_block_27000000\r\n",
      "Pos_block_101400000  Pos_block_17600000   Pos_block_27100000\r\n",
      "Pos_block_101500000  Pos_block_176000000  Pos_block_27200000\r\n",
      "Pos_block_101600000  Pos_block_176100000  Pos_block_27300000\r\n",
      "Pos_block_101700000  Pos_block_176200000  Pos_block_27400000\r\n",
      "Pos_block_101800000  Pos_block_176300000  Pos_block_27500000\r\n",
      "Pos_block_101900000  Pos_block_176400000  Pos_block_27600000\r\n",
      "Pos_block_10200000   Pos_block_176500000  Pos_block_27700000\r\n",
      "Pos_block_102000000  Pos_block_176600000  Pos_block_27800000\r\n",
      "Pos_block_102100000  Pos_block_176700000  Pos_block_27900000\r\n",
      "Pos_block_102200000  Pos_block_176800000  Pos_block_2800000\r\n",
      "Pos_block_102300000  Pos_block_176900000  Pos_block_28000000\r\n",
      "Pos_block_102400000  Pos_block_17700000   Pos_block_28100000\r\n",
      "Pos_block_102500000  Pos_block_177000000  Pos_block_28200000\r\n",
      "Pos_block_102600000  Pos_block_177100000  Pos_block_28300000\r\n",
      "Pos_block_102700000  Pos_block_177200000  Pos_block_28400000\r\n",
      "Pos_block_102800000  Pos_block_177300000  Pos_block_28500000\r\n",
      "Pos_block_102900000  Pos_block_177400000  Pos_block_28600000\r\n",
      "Pos_block_10300000   Pos_block_177500000  Pos_block_28700000\r\n",
      "Pos_block_103000000  Pos_block_177600000  Pos_block_28800000\r\n",
      "Pos_block_103100000  Pos_block_177700000  Pos_block_28900000\r\n",
      "Pos_block_103200000  Pos_block_177800000  Pos_block_2900000\r\n",
      "Pos_block_103300000  Pos_block_177900000  Pos_block_29000000\r\n",
      "Pos_block_103400000  Pos_block_17800000   Pos_block_29100000\r\n",
      "Pos_block_103500000  Pos_block_178000000  Pos_block_29200000\r\n",
      "Pos_block_103600000  Pos_block_178100000  Pos_block_29300000\r\n",
      "Pos_block_103700000  Pos_block_178200000  Pos_block_29400000\r\n",
      "Pos_block_103800000  Pos_block_178300000  Pos_block_29500000\r\n",
      "Pos_block_103900000  Pos_block_178400000  Pos_block_29600000\r\n",
      "Pos_block_10400000   Pos_block_178500000  Pos_block_29700000\r\n",
      "Pos_block_104000000  Pos_block_178600000  Pos_block_29800000\r\n",
      "Pos_block_104100000  Pos_block_178700000  Pos_block_29900000\r\n",
      "Pos_block_104200000  Pos_block_178800000  Pos_block_300000\r\n",
      "Pos_block_104300000  Pos_block_178900000  Pos_block_3000000\r\n",
      "Pos_block_104400000  Pos_block_17900000   Pos_block_30000000\r\n",
      "Pos_block_104500000  Pos_block_179000000  Pos_block_30100000\r\n",
      "Pos_block_104600000  Pos_block_179100000  Pos_block_30200000\r\n",
      "Pos_block_104700000  Pos_block_179200000  Pos_block_30300000\r\n",
      "Pos_block_104800000  Pos_block_179300000  Pos_block_30400000\r\n",
      "Pos_block_104900000  Pos_block_179400000  Pos_block_30500000\r\n",
      "Pos_block_10500000   Pos_block_179500000  Pos_block_30600000\r\n",
      "Pos_block_105000000  Pos_block_179600000  Pos_block_30700000\r\n",
      "Pos_block_105100000  Pos_block_179700000  Pos_block_30800000\r\n",
      "Pos_block_105200000  Pos_block_179800000  Pos_block_30900000\r\n",
      "Pos_block_105300000  Pos_block_179900000  Pos_block_3100000\r\n",
      "Pos_block_105400000  Pos_block_1800000\t  Pos_block_31000000\r\n",
      "Pos_block_105500000  Pos_block_18000000   Pos_block_31100000\r\n",
      "Pos_block_105600000  Pos_block_180000000  Pos_block_31200000\r\n",
      "Pos_block_105700000  Pos_block_180100000  Pos_block_31300000\r\n",
      "Pos_block_105800000  Pos_block_180200000  Pos_block_31400000\r\n",
      "Pos_block_105900000  Pos_block_180300000  Pos_block_31500000\r\n",
      "Pos_block_10600000   Pos_block_180400000  Pos_block_31600000\r\n",
      "Pos_block_106000000  Pos_block_180500000  Pos_block_31700000\r\n",
      "Pos_block_106100000  Pos_block_180600000  Pos_block_31800000\r\n",
      "Pos_block_106200000  Pos_block_180700000  Pos_block_31900000\r\n",
      "Pos_block_106300000  Pos_block_180800000  Pos_block_3200000\r\n",
      "Pos_block_106400000  Pos_block_180900000  Pos_block_32000000\r\n",
      "Pos_block_106500000  Pos_block_18100000   Pos_block_32100000\r\n",
      "Pos_block_106600000  Pos_block_181000000  Pos_block_32200000\r\n",
      "Pos_block_106700000  Pos_block_181100000  Pos_block_32300000\r\n",
      "Pos_block_106800000  Pos_block_181200000  Pos_block_32400000\r\n",
      "Pos_block_106900000  Pos_block_181300000  Pos_block_32500000\r\n",
      "Pos_block_10700000   Pos_block_181400000  Pos_block_32600000\r\n",
      "Pos_block_107000000  Pos_block_181500000  Pos_block_32700000\r\n",
      "Pos_block_107100000  Pos_block_181600000  Pos_block_32800000\r\n",
      "Pos_block_107200000  Pos_block_181700000  Pos_block_32900000\r\n",
      "Pos_block_107300000  Pos_block_181800000  Pos_block_3300000\r\n",
      "Pos_block_107400000  Pos_block_181900000  Pos_block_33000000\r\n",
      "Pos_block_107500000  Pos_block_18200000   Pos_block_33100000\r\n",
      "Pos_block_107600000  Pos_block_182000000  Pos_block_33200000\r\n",
      "Pos_block_107700000  Pos_block_182100000  Pos_block_33300000\r\n",
      "Pos_block_107800000  Pos_block_182200000  Pos_block_33400000\r\n",
      "Pos_block_107900000  Pos_block_182300000  Pos_block_33500000\r\n",
      "Pos_block_10800000   Pos_block_182400000  Pos_block_33600000\r\n",
      "Pos_block_108000000  Pos_block_182500000  Pos_block_33700000\r\n",
      "Pos_block_108100000  Pos_block_182600000  Pos_block_33800000\r\n",
      "Pos_block_108200000  Pos_block_182700000  Pos_block_33900000\r\n",
      "Pos_block_108300000  Pos_block_182800000  Pos_block_3400000\r\n",
      "Pos_block_108400000  Pos_block_182900000  Pos_block_34000000\r\n",
      "Pos_block_108500000  Pos_block_18300000   Pos_block_34100000\r\n",
      "Pos_block_108600000  Pos_block_183000000  Pos_block_34200000\r\n",
      "Pos_block_108700000  Pos_block_183100000  Pos_block_34300000\r\n",
      "Pos_block_108800000  Pos_block_183200000  Pos_block_34400000\r\n",
      "Pos_block_108900000  Pos_block_183300000  Pos_block_34500000\r\n",
      "Pos_block_10900000   Pos_block_183400000  Pos_block_34600000\r\n",
      "Pos_block_109000000  Pos_block_183500000  Pos_block_34700000\r\n",
      "Pos_block_109100000  Pos_block_183600000  Pos_block_34800000\r\n",
      "Pos_block_109200000  Pos_block_183700000  Pos_block_34900000\r\n",
      "Pos_block_109300000  Pos_block_183800000  Pos_block_3500000\r\n",
      "Pos_block_109400000  Pos_block_183900000  Pos_block_35000000\r\n",
      "Pos_block_109500000  Pos_block_18400000   Pos_block_35100000\r\n",
      "Pos_block_109600000  Pos_block_184000000  Pos_block_35200000\r\n",
      "Pos_block_109700000  Pos_block_184100000  Pos_block_35300000\r\n",
      "Pos_block_109800000  Pos_block_184200000  Pos_block_35400000\r\n",
      "Pos_block_109900000  Pos_block_184300000  Pos_block_35500000\r\n",
      "Pos_block_1100000    Pos_block_184400000  Pos_block_35600000\r\n",
      "Pos_block_11000000   Pos_block_184500000  Pos_block_35700000\r\n",
      "Pos_block_110000000  Pos_block_184600000  Pos_block_35800000\r\n",
      "Pos_block_110100000  Pos_block_184700000  Pos_block_35900000\r\n",
      "Pos_block_110200000  Pos_block_184800000  Pos_block_3600000\r\n",
      "Pos_block_110300000  Pos_block_184900000  Pos_block_36000000\r\n",
      "Pos_block_110400000  Pos_block_18500000   Pos_block_36100000\r\n",
      "Pos_block_110500000  Pos_block_185000000  Pos_block_36200000\r\n",
      "Pos_block_110600000  Pos_block_185100000  Pos_block_36300000\r\n",
      "Pos_block_110700000  Pos_block_185200000  Pos_block_36400000\r\n",
      "Pos_block_110800000  Pos_block_185300000  Pos_block_36500000\r\n",
      "Pos_block_110900000  Pos_block_185400000  Pos_block_36600000\r\n",
      "Pos_block_11100000   Pos_block_185500000  Pos_block_36700000\r\n",
      "Pos_block_111000000  Pos_block_185600000  Pos_block_36800000\r\n",
      "Pos_block_111100000  Pos_block_185700000  Pos_block_36900000\r\n",
      "Pos_block_111200000  Pos_block_185800000  Pos_block_3700000\r\n",
      "Pos_block_111300000  Pos_block_185900000  Pos_block_37000000\r\n",
      "Pos_block_111400000  Pos_block_18600000   Pos_block_37100000\r\n",
      "Pos_block_111500000  Pos_block_186000000  Pos_block_37200000\r\n",
      "Pos_block_111600000  Pos_block_186100000  Pos_block_37300000\r\n",
      "Pos_block_111700000  Pos_block_186200000  Pos_block_37400000\r\n",
      "Pos_block_111800000  Pos_block_186300000  Pos_block_37500000\r\n",
      "Pos_block_111900000  Pos_block_186400000  Pos_block_37600000\r\n",
      "Pos_block_11200000   Pos_block_186500000  Pos_block_37700000\r\n",
      "Pos_block_112000000  Pos_block_186600000  Pos_block_37800000\r\n",
      "Pos_block_112100000  Pos_block_186700000  Pos_block_37900000\r\n",
      "Pos_block_112200000  Pos_block_186800000  Pos_block_3800000\r\n",
      "Pos_block_112300000  Pos_block_186900000  Pos_block_38000000\r\n",
      "Pos_block_112400000  Pos_block_18700000   Pos_block_38100000\r\n",
      "Pos_block_112500000  Pos_block_187000000  Pos_block_38200000\r\n",
      "Pos_block_112600000  Pos_block_187100000  Pos_block_38300000\r\n",
      "Pos_block_112700000  Pos_block_187200000  Pos_block_38400000\r\n",
      "Pos_block_112800000  Pos_block_187300000  Pos_block_38500000\r\n",
      "Pos_block_112900000  Pos_block_187400000  Pos_block_38600000\r\n",
      "Pos_block_11300000   Pos_block_187500000  Pos_block_38700000\r\n",
      "Pos_block_113000000  Pos_block_187600000  Pos_block_38800000\r\n",
      "Pos_block_113100000  Pos_block_187700000  Pos_block_38900000\r\n",
      "Pos_block_113200000  Pos_block_187800000  Pos_block_3900000\r\n",
      "Pos_block_113300000  Pos_block_187900000  Pos_block_39000000\r\n",
      "Pos_block_113400000  Pos_block_18800000   Pos_block_39100000\r\n",
      "Pos_block_113500000  Pos_block_188000000  Pos_block_39200000\r\n",
      "Pos_block_113600000  Pos_block_188100000  Pos_block_39300000\r\n",
      "Pos_block_113700000  Pos_block_188200000  Pos_block_39400000\r\n",
      "Pos_block_113800000  Pos_block_188300000  Pos_block_39500000\r\n",
      "Pos_block_113900000  Pos_block_188400000  Pos_block_39600000\r\n",
      "Pos_block_11400000   Pos_block_188500000  Pos_block_39700000\r\n",
      "Pos_block_114000000  Pos_block_188600000  Pos_block_39800000\r\n",
      "Pos_block_114100000  Pos_block_188700000  Pos_block_39900000\r\n",
      "Pos_block_114200000  Pos_block_188800000  Pos_block_400000\r\n",
      "Pos_block_114300000  Pos_block_188900000  Pos_block_4000000\r\n",
      "Pos_block_114400000  Pos_block_18900000   Pos_block_40000000\r\n",
      "Pos_block_114500000  Pos_block_189000000  Pos_block_40100000\r\n",
      "Pos_block_114600000  Pos_block_189100000  Pos_block_40200000\r\n",
      "Pos_block_114700000  Pos_block_189200000  Pos_block_40300000\r\n",
      "Pos_block_114800000  Pos_block_189300000  Pos_block_40400000\r\n",
      "Pos_block_114900000  Pos_block_189400000  Pos_block_40500000\r\n",
      "Pos_block_11500000   Pos_block_189500000  Pos_block_40600000\r\n",
      "Pos_block_115000000  Pos_block_189600000  Pos_block_40700000\r\n",
      "Pos_block_115100000  Pos_block_189700000  Pos_block_40800000\r\n",
      "Pos_block_115200000  Pos_block_189800000  Pos_block_40900000\r\n",
      "Pos_block_115300000  Pos_block_189900000  Pos_block_4100000\r\n",
      "Pos_block_115400000  Pos_block_1900000\t  Pos_block_41000000\r\n",
      "Pos_block_115500000  Pos_block_19000000   Pos_block_41100000\r\n",
      "Pos_block_115600000  Pos_block_190000000  Pos_block_41200000\r\n",
      "Pos_block_115700000  Pos_block_190100000  Pos_block_41300000\r\n",
      "Pos_block_115800000  Pos_block_190200000  Pos_block_41400000\r\n",
      "Pos_block_115900000  Pos_block_190300000  Pos_block_41500000\r\n",
      "Pos_block_11600000   Pos_block_190400000  Pos_block_41600000\r\n",
      "Pos_block_116000000  Pos_block_190500000  Pos_block_41700000\r\n",
      "Pos_block_116100000  Pos_block_190600000  Pos_block_41800000\r\n",
      "Pos_block_116200000  Pos_block_190700000  Pos_block_41900000\r\n",
      "Pos_block_116300000  Pos_block_190800000  Pos_block_4200000\r\n",
      "Pos_block_116400000  Pos_block_190900000  Pos_block_42000000\r\n",
      "Pos_block_116500000  Pos_block_19100000   Pos_block_42100000\r\n",
      "Pos_block_116600000  Pos_block_191000000  Pos_block_42200000\r\n",
      "Pos_block_116700000  Pos_block_191100000  Pos_block_42300000\r\n",
      "Pos_block_116800000  Pos_block_191200000  Pos_block_42400000\r\n",
      "Pos_block_116900000  Pos_block_191300000  Pos_block_42500000\r\n",
      "Pos_block_11700000   Pos_block_191400000  Pos_block_42600000\r\n",
      "Pos_block_117000000  Pos_block_191500000  Pos_block_42700000\r\n",
      "Pos_block_117100000  Pos_block_191600000  Pos_block_42800000\r\n",
      "Pos_block_117200000  Pos_block_191700000  Pos_block_42900000\r\n",
      "Pos_block_117300000  Pos_block_191800000  Pos_block_4300000\r\n",
      "Pos_block_117400000  Pos_block_191900000  Pos_block_43000000\r\n",
      "Pos_block_117500000  Pos_block_19200000   Pos_block_43100000\r\n",
      "Pos_block_117600000  Pos_block_192000000  Pos_block_43200000\r\n",
      "Pos_block_117700000  Pos_block_192100000  Pos_block_43300000\r\n",
      "Pos_block_117800000  Pos_block_192200000  Pos_block_43400000\r\n",
      "Pos_block_117900000  Pos_block_192300000  Pos_block_43500000\r\n",
      "Pos_block_11800000   Pos_block_192400000  Pos_block_43600000\r\n",
      "Pos_block_118000000  Pos_block_192500000  Pos_block_43700000\r\n",
      "Pos_block_118100000  Pos_block_192600000  Pos_block_43800000\r\n",
      "Pos_block_118200000  Pos_block_192700000  Pos_block_43900000\r\n",
      "Pos_block_118300000  Pos_block_192800000  Pos_block_4400000\r\n",
      "Pos_block_118400000  Pos_block_192900000  Pos_block_44000000\r\n",
      "Pos_block_118500000  Pos_block_19300000   Pos_block_44100000\r\n",
      "Pos_block_118600000  Pos_block_193000000  Pos_block_44200000\r\n",
      "Pos_block_118700000  Pos_block_193100000  Pos_block_44300000\r\n",
      "Pos_block_118800000  Pos_block_193200000  Pos_block_44400000\r\n",
      "Pos_block_118900000  Pos_block_193300000  Pos_block_44500000\r\n",
      "Pos_block_11900000   Pos_block_193400000  Pos_block_44600000\r\n",
      "Pos_block_119000000  Pos_block_193500000  Pos_block_44700000\r\n",
      "Pos_block_119100000  Pos_block_193600000  Pos_block_44800000\r\n",
      "Pos_block_119200000  Pos_block_193700000  Pos_block_44900000\r\n",
      "Pos_block_119300000  Pos_block_193800000  Pos_block_4500000\r\n",
      "Pos_block_119400000  Pos_block_193900000  Pos_block_45000000\r\n",
      "Pos_block_119500000  Pos_block_19400000   Pos_block_45100000\r\n",
      "Pos_block_119600000  Pos_block_194000000  Pos_block_45200000\r\n",
      "Pos_block_119700000  Pos_block_194100000  Pos_block_45300000\r\n",
      "Pos_block_119800000  Pos_block_194200000  Pos_block_45400000\r\n",
      "Pos_block_119900000  Pos_block_194300000  Pos_block_45500000\r\n",
      "Pos_block_1200000    Pos_block_194400000  Pos_block_45600000\r\n",
      "Pos_block_12000000   Pos_block_194500000  Pos_block_45700000\r\n",
      "Pos_block_120000000  Pos_block_194600000  Pos_block_45800000\r\n",
      "Pos_block_120100000  Pos_block_194700000  Pos_block_45900000\r\n",
      "Pos_block_120200000  Pos_block_194800000  Pos_block_4600000\r\n",
      "Pos_block_120300000  Pos_block_194900000  Pos_block_46000000\r\n",
      "Pos_block_120400000  Pos_block_19500000   Pos_block_46100000\r\n",
      "Pos_block_120500000  Pos_block_195000000  Pos_block_46200000\r\n",
      "Pos_block_120600000  Pos_block_195100000  Pos_block_46300000\r\n",
      "Pos_block_120700000  Pos_block_195200000  Pos_block_46400000\r\n",
      "Pos_block_120800000  Pos_block_195300000  Pos_block_46500000\r\n",
      "Pos_block_120900000  Pos_block_195400000  Pos_block_46600000\r\n",
      "Pos_block_12100000   Pos_block_195500000  Pos_block_46700000\r\n",
      "Pos_block_121000000  Pos_block_195600000  Pos_block_46800000\r\n",
      "Pos_block_121100000  Pos_block_195700000  Pos_block_46900000\r\n",
      "Pos_block_121200000  Pos_block_195800000  Pos_block_4700000\r\n",
      "Pos_block_121300000  Pos_block_195900000  Pos_block_47000000\r\n",
      "Pos_block_121400000  Pos_block_19600000   Pos_block_47100000\r\n",
      "Pos_block_121500000  Pos_block_196000000  Pos_block_47200000\r\n",
      "Pos_block_121600000  Pos_block_196100000  Pos_block_47300000\r\n",
      "Pos_block_121700000  Pos_block_196200000  Pos_block_47400000\r\n",
      "Pos_block_121800000  Pos_block_196300000  Pos_block_47500000\r\n",
      "Pos_block_121900000  Pos_block_196400000  Pos_block_47600000\r\n",
      "Pos_block_12200000   Pos_block_196500000  Pos_block_47700000\r\n",
      "Pos_block_122000000  Pos_block_196600000  Pos_block_47800000\r\n",
      "Pos_block_122100000  Pos_block_196700000  Pos_block_47900000\r\n",
      "Pos_block_122200000  Pos_block_196800000  Pos_block_4800000\r\n",
      "Pos_block_122300000  Pos_block_196900000  Pos_block_48000000\r\n",
      "Pos_block_122400000  Pos_block_19700000   Pos_block_48100000\r\n",
      "Pos_block_122500000  Pos_block_197000000  Pos_block_48200000\r\n",
      "Pos_block_122600000  Pos_block_197100000  Pos_block_48300000\r\n",
      "Pos_block_122700000  Pos_block_197200000  Pos_block_48400000\r\n",
      "Pos_block_122800000  Pos_block_197300000  Pos_block_48500000\r\n",
      "Pos_block_122900000  Pos_block_197400000  Pos_block_48600000\r\n",
      "Pos_block_12300000   Pos_block_197500000  Pos_block_48700000\r\n",
      "Pos_block_123000000  Pos_block_197600000  Pos_block_48800000\r\n",
      "Pos_block_123100000  Pos_block_197700000  Pos_block_48900000\r\n",
      "Pos_block_123200000  Pos_block_197800000  Pos_block_4900000\r\n",
      "Pos_block_123300000  Pos_block_197900000  Pos_block_49000000\r\n",
      "Pos_block_123400000  Pos_block_19800000   Pos_block_49100000\r\n",
      "Pos_block_123500000  Pos_block_198000000  Pos_block_49200000\r\n",
      "Pos_block_123600000  Pos_block_198100000  Pos_block_49300000\r\n",
      "Pos_block_123700000  Pos_block_198200000  Pos_block_49400000\r\n",
      "Pos_block_123800000  Pos_block_198300000  Pos_block_49500000\r\n",
      "Pos_block_123900000  Pos_block_198400000  Pos_block_49600000\r\n",
      "Pos_block_12400000   Pos_block_198500000  Pos_block_49700000\r\n",
      "Pos_block_124000000  Pos_block_198600000  Pos_block_49800000\r\n",
      "Pos_block_124100000  Pos_block_198700000  Pos_block_49900000\r\n",
      "Pos_block_124200000  Pos_block_198800000  Pos_block_500000\r\n",
      "Pos_block_124300000  Pos_block_198900000  Pos_block_5000000\r\n",
      "Pos_block_124400000  Pos_block_19900000   Pos_block_50000000\r\n",
      "Pos_block_124500000  Pos_block_199000000  Pos_block_50100000\r\n",
      "Pos_block_124600000  Pos_block_199100000  Pos_block_50200000\r\n",
      "Pos_block_124700000  Pos_block_199200000  Pos_block_50300000\r\n",
      "Pos_block_124800000  Pos_block_199300000  Pos_block_50400000\r\n",
      "Pos_block_124900000  Pos_block_199400000  Pos_block_50500000\r\n",
      "Pos_block_12500000   Pos_block_199500000  Pos_block_50600000\r\n",
      "Pos_block_125000000  Pos_block_199600000  Pos_block_50700000\r\n",
      "Pos_block_125100000  Pos_block_199700000  Pos_block_50800000\r\n",
      "Pos_block_125200000  Pos_block_199800000  Pos_block_50900000\r\n",
      "Pos_block_125300000  Pos_block_199900000  Pos_block_5100000\r\n",
      "Pos_block_125400000  Pos_block_200000\t  Pos_block_51000000\r\n",
      "Pos_block_125500000  Pos_block_2000000\t  Pos_block_51100000\r\n",
      "Pos_block_125600000  Pos_block_20000000   Pos_block_51200000\r\n",
      "Pos_block_125700000  Pos_block_200000000  Pos_block_51300000\r\n",
      "Pos_block_125800000  Pos_block_200100000  Pos_block_51400000\r\n",
      "Pos_block_125900000  Pos_block_200200000  Pos_block_51500000\r\n",
      "Pos_block_12600000   Pos_block_200300000  Pos_block_51600000\r\n",
      "Pos_block_126000000  Pos_block_200400000  Pos_block_51700000\r\n",
      "Pos_block_126100000  Pos_block_200500000  Pos_block_51800000\r\n",
      "Pos_block_126200000  Pos_block_200600000  Pos_block_51900000\r\n",
      "Pos_block_126300000  Pos_block_200700000  Pos_block_5200000\r\n",
      "Pos_block_126400000  Pos_block_200800000  Pos_block_52000000\r\n",
      "Pos_block_126500000  Pos_block_200900000  Pos_block_52100000\r\n",
      "Pos_block_126600000  Pos_block_20100000   Pos_block_52200000\r\n",
      "Pos_block_126700000  Pos_block_201000000  Pos_block_52300000\r\n",
      "Pos_block_126800000  Pos_block_201100000  Pos_block_52400000\r\n",
      "Pos_block_126900000  Pos_block_201200000  Pos_block_52500000\r\n",
      "Pos_block_12700000   Pos_block_201300000  Pos_block_52600000\r\n",
      "Pos_block_127000000  Pos_block_201400000  Pos_block_52700000\r\n",
      "Pos_block_127100000  Pos_block_201500000  Pos_block_52800000\r\n",
      "Pos_block_127200000  Pos_block_201600000  Pos_block_52900000\r\n",
      "Pos_block_127300000  Pos_block_201700000  Pos_block_5300000\r\n",
      "Pos_block_127400000  Pos_block_201800000  Pos_block_53000000\r\n",
      "Pos_block_127500000  Pos_block_201900000  Pos_block_53100000\r\n",
      "Pos_block_127600000  Pos_block_20200000   Pos_block_53200000\r\n",
      "Pos_block_127700000  Pos_block_202000000  Pos_block_53300000\r\n",
      "Pos_block_127800000  Pos_block_202100000  Pos_block_53400000\r\n",
      "Pos_block_127900000  Pos_block_202200000  Pos_block_53500000\r\n",
      "Pos_block_12800000   Pos_block_202300000  Pos_block_53600000\r\n",
      "Pos_block_128000000  Pos_block_202400000  Pos_block_53700000\r\n",
      "Pos_block_128100000  Pos_block_202500000  Pos_block_53800000\r\n",
      "Pos_block_128200000  Pos_block_202600000  Pos_block_53900000\r\n",
      "Pos_block_128300000  Pos_block_202700000  Pos_block_5400000\r\n",
      "Pos_block_128400000  Pos_block_202800000  Pos_block_54000000\r\n",
      "Pos_block_128500000  Pos_block_202900000  Pos_block_54100000\r\n",
      "Pos_block_128600000  Pos_block_20300000   Pos_block_54200000\r\n",
      "Pos_block_128700000  Pos_block_203000000  Pos_block_54300000\r\n",
      "Pos_block_128800000  Pos_block_203100000  Pos_block_54400000\r\n",
      "Pos_block_128900000  Pos_block_203200000  Pos_block_54500000\r\n",
      "Pos_block_12900000   Pos_block_203300000  Pos_block_54600000\r\n",
      "Pos_block_129000000  Pos_block_203400000  Pos_block_54700000\r\n",
      "Pos_block_129100000  Pos_block_203500000  Pos_block_54800000\r\n",
      "Pos_block_129200000  Pos_block_203600000  Pos_block_54900000\r\n",
      "Pos_block_129300000  Pos_block_203700000  Pos_block_5500000\r\n",
      "Pos_block_129400000  Pos_block_203800000  Pos_block_55000000\r\n",
      "Pos_block_129500000  Pos_block_203900000  Pos_block_55100000\r\n",
      "Pos_block_129600000  Pos_block_20400000   Pos_block_55200000\r\n",
      "Pos_block_129700000  Pos_block_204000000  Pos_block_55300000\r\n",
      "Pos_block_129800000  Pos_block_204100000  Pos_block_55400000\r\n",
      "Pos_block_129900000  Pos_block_204200000  Pos_block_55500000\r\n",
      "Pos_block_1300000    Pos_block_204300000  Pos_block_55600000\r\n",
      "Pos_block_13000000   Pos_block_204400000  Pos_block_55700000\r\n",
      "Pos_block_130000000  Pos_block_204500000  Pos_block_55800000\r\n",
      "Pos_block_130100000  Pos_block_204600000  Pos_block_55900000\r\n",
      "Pos_block_130200000  Pos_block_204700000  Pos_block_5600000\r\n",
      "Pos_block_130300000  Pos_block_204800000  Pos_block_56000000\r\n",
      "Pos_block_130400000  Pos_block_204900000  Pos_block_56100000\r\n",
      "Pos_block_130500000  Pos_block_20500000   Pos_block_56200000\r\n",
      "Pos_block_130600000  Pos_block_205000000  Pos_block_56300000\r\n",
      "Pos_block_130700000  Pos_block_205100000  Pos_block_56400000\r\n",
      "Pos_block_130800000  Pos_block_205200000  Pos_block_56500000\r\n",
      "Pos_block_130900000  Pos_block_205300000  Pos_block_56600000\r\n",
      "Pos_block_13100000   Pos_block_205400000  Pos_block_56700000\r\n",
      "Pos_block_131000000  Pos_block_205500000  Pos_block_56800000\r\n",
      "Pos_block_131100000  Pos_block_205600000  Pos_block_56900000\r\n",
      "Pos_block_131200000  Pos_block_205700000  Pos_block_5700000\r\n",
      "Pos_block_131300000  Pos_block_205800000  Pos_block_57000000\r\n",
      "Pos_block_131400000  Pos_block_205900000  Pos_block_57100000\r\n",
      "Pos_block_131500000  Pos_block_20600000   Pos_block_57200000\r\n",
      "Pos_block_131600000  Pos_block_206000000  Pos_block_57300000\r\n",
      "Pos_block_131700000  Pos_block_206100000  Pos_block_57400000\r\n",
      "Pos_block_131800000  Pos_block_206200000  Pos_block_57500000\r\n",
      "Pos_block_131900000  Pos_block_206300000  Pos_block_57600000\r\n",
      "Pos_block_13200000   Pos_block_206400000  Pos_block_57700000\r\n",
      "Pos_block_132000000  Pos_block_206500000  Pos_block_57800000\r\n",
      "Pos_block_132100000  Pos_block_206600000  Pos_block_57900000\r\n",
      "Pos_block_132200000  Pos_block_206700000  Pos_block_5800000\r\n",
      "Pos_block_132300000  Pos_block_206800000  Pos_block_58000000\r\n",
      "Pos_block_132400000  Pos_block_206900000  Pos_block_58100000\r\n",
      "Pos_block_132500000  Pos_block_20700000   Pos_block_58200000\r\n",
      "Pos_block_132600000  Pos_block_207000000  Pos_block_58300000\r\n",
      "Pos_block_132700000  Pos_block_207100000  Pos_block_58400000\r\n",
      "Pos_block_132800000  Pos_block_207200000  Pos_block_58500000\r\n",
      "Pos_block_132900000  Pos_block_207300000  Pos_block_58600000\r\n",
      "Pos_block_13300000   Pos_block_207400000  Pos_block_58700000\r\n",
      "Pos_block_133000000  Pos_block_207500000  Pos_block_58800000\r\n",
      "Pos_block_133100000  Pos_block_207600000  Pos_block_58900000\r\n",
      "Pos_block_133200000  Pos_block_207700000  Pos_block_5900000\r\n",
      "Pos_block_133300000  Pos_block_207800000  Pos_block_59000000\r\n",
      "Pos_block_133400000  Pos_block_207900000  Pos_block_59100000\r\n",
      "Pos_block_133500000  Pos_block_20800000   Pos_block_59200000\r\n",
      "Pos_block_133600000  Pos_block_208000000  Pos_block_59300000\r\n",
      "Pos_block_133700000  Pos_block_208100000  Pos_block_59400000\r\n",
      "Pos_block_133800000  Pos_block_208200000  Pos_block_59500000\r\n",
      "Pos_block_133900000  Pos_block_208300000  Pos_block_59600000\r\n",
      "Pos_block_13400000   Pos_block_208400000  Pos_block_59700000\r\n",
      "Pos_block_134000000  Pos_block_208500000  Pos_block_59800000\r\n",
      "Pos_block_134100000  Pos_block_208600000  Pos_block_59900000\r\n",
      "Pos_block_134200000  Pos_block_208700000  Pos_block_600000\r\n",
      "Pos_block_134300000  Pos_block_208800000  Pos_block_6000000\r\n",
      "Pos_block_134400000  Pos_block_208900000  Pos_block_60000000\r\n",
      "Pos_block_134500000  Pos_block_20900000   Pos_block_60100000\r\n",
      "Pos_block_134600000  Pos_block_209000000  Pos_block_60200000\r\n",
      "Pos_block_134700000  Pos_block_209100000  Pos_block_60300000\r\n",
      "Pos_block_134800000  Pos_block_209200000  Pos_block_60400000\r\n",
      "Pos_block_134900000  Pos_block_209300000  Pos_block_60500000\r\n",
      "Pos_block_13500000   Pos_block_209400000  Pos_block_60600000\r\n",
      "Pos_block_135000000  Pos_block_209500000  Pos_block_60700000\r\n",
      "Pos_block_135100000  Pos_block_209600000  Pos_block_60800000\r\n",
      "Pos_block_135200000  Pos_block_209700000  Pos_block_60900000\r\n",
      "Pos_block_135300000  Pos_block_209800000  Pos_block_6100000\r\n",
      "Pos_block_135400000  Pos_block_209900000  Pos_block_61000000\r\n",
      "Pos_block_135500000  Pos_block_2100000\t  Pos_block_61100000\r\n",
      "Pos_block_135600000  Pos_block_21000000   Pos_block_61200000\r\n",
      "Pos_block_135700000  Pos_block_210000000  Pos_block_61300000\r\n",
      "Pos_block_135800000  Pos_block_210100000  Pos_block_61400000\r\n",
      "Pos_block_135900000  Pos_block_210200000  Pos_block_61500000\r\n",
      "Pos_block_13600000   Pos_block_210300000  Pos_block_61600000\r\n",
      "Pos_block_136000000  Pos_block_210400000  Pos_block_61700000\r\n",
      "Pos_block_136100000  Pos_block_210500000  Pos_block_61800000\r\n",
      "Pos_block_136200000  Pos_block_210600000  Pos_block_61900000\r\n",
      "Pos_block_136300000  Pos_block_210700000  Pos_block_6200000\r\n",
      "Pos_block_136400000  Pos_block_210800000  Pos_block_62000000\r\n",
      "Pos_block_136500000  Pos_block_210900000  Pos_block_62100000\r\n",
      "Pos_block_136600000  Pos_block_21100000   Pos_block_62200000\r\n",
      "Pos_block_136700000  Pos_block_211000000  Pos_block_62300000\r\n",
      "Pos_block_136800000  Pos_block_211100000  Pos_block_62400000\r\n",
      "Pos_block_136900000  Pos_block_211200000  Pos_block_62500000\r\n",
      "Pos_block_13700000   Pos_block_211300000  Pos_block_62600000\r\n",
      "Pos_block_137000000  Pos_block_211400000  Pos_block_62700000\r\n",
      "Pos_block_137100000  Pos_block_211500000  Pos_block_62800000\r\n",
      "Pos_block_137200000  Pos_block_211600000  Pos_block_62900000\r\n",
      "Pos_block_137300000  Pos_block_211700000  Pos_block_6300000\r\n",
      "Pos_block_137400000  Pos_block_211800000  Pos_block_63000000\r\n",
      "Pos_block_137500000  Pos_block_211900000  Pos_block_63100000\r\n",
      "Pos_block_137600000  Pos_block_21200000   Pos_block_63200000\r\n",
      "Pos_block_137700000  Pos_block_212000000  Pos_block_63300000\r\n",
      "Pos_block_137800000  Pos_block_212100000  Pos_block_63400000\r\n",
      "Pos_block_137900000  Pos_block_212200000  Pos_block_63500000\r\n",
      "Pos_block_13800000   Pos_block_212300000  Pos_block_63600000\r\n",
      "Pos_block_138000000  Pos_block_212400000  Pos_block_63700000\r\n",
      "Pos_block_138100000  Pos_block_212500000  Pos_block_63800000\r\n",
      "Pos_block_138200000  Pos_block_212600000  Pos_block_63900000\r\n",
      "Pos_block_138300000  Pos_block_212700000  Pos_block_6400000\r\n",
      "Pos_block_138400000  Pos_block_212800000  Pos_block_64000000\r\n",
      "Pos_block_138500000  Pos_block_212900000  Pos_block_64100000\r\n",
      "Pos_block_138600000  Pos_block_21300000   Pos_block_64200000\r\n",
      "Pos_block_138700000  Pos_block_213000000  Pos_block_64300000\r\n",
      "Pos_block_138800000  Pos_block_213100000  Pos_block_64400000\r\n",
      "Pos_block_138900000  Pos_block_213200000  Pos_block_64500000\r\n",
      "Pos_block_13900000   Pos_block_213300000  Pos_block_64600000\r\n",
      "Pos_block_139000000  Pos_block_213400000  Pos_block_64700000\r\n",
      "Pos_block_139100000  Pos_block_213500000  Pos_block_64800000\r\n",
      "Pos_block_139200000  Pos_block_213600000  Pos_block_64900000\r\n",
      "Pos_block_139300000  Pos_block_213700000  Pos_block_6500000\r\n",
      "Pos_block_139400000  Pos_block_213800000  Pos_block_65000000\r\n",
      "Pos_block_139500000  Pos_block_213900000  Pos_block_65100000\r\n",
      "Pos_block_139600000  Pos_block_21400000   Pos_block_65200000\r\n",
      "Pos_block_139700000  Pos_block_214000000  Pos_block_65300000\r\n",
      "Pos_block_139800000  Pos_block_214100000  Pos_block_65400000\r\n",
      "Pos_block_139900000  Pos_block_214200000  Pos_block_65500000\r\n",
      "Pos_block_1400000    Pos_block_214300000  Pos_block_65600000\r\n",
      "Pos_block_14000000   Pos_block_214400000  Pos_block_65700000\r\n",
      "Pos_block_140000000  Pos_block_214500000  Pos_block_65800000\r\n",
      "Pos_block_140100000  Pos_block_214600000  Pos_block_65900000\r\n",
      "Pos_block_140200000  Pos_block_214700000  Pos_block_6600000\r\n",
      "Pos_block_140300000  Pos_block_214800000  Pos_block_66000000\r\n",
      "Pos_block_140400000  Pos_block_214900000  Pos_block_66100000\r\n",
      "Pos_block_140500000  Pos_block_21500000   Pos_block_66200000\r\n",
      "Pos_block_140600000  Pos_block_215000000  Pos_block_66300000\r\n",
      "Pos_block_140700000  Pos_block_215100000  Pos_block_66400000\r\n",
      "Pos_block_140800000  Pos_block_215200000  Pos_block_66500000\r\n",
      "Pos_block_140900000  Pos_block_215300000  Pos_block_66600000\r\n",
      "Pos_block_14100000   Pos_block_215400000  Pos_block_66700000\r\n",
      "Pos_block_141000000  Pos_block_215600000  Pos_block_66800000\r\n",
      "Pos_block_141100000  Pos_block_215700000  Pos_block_66900000\r\n",
      "Pos_block_141200000  Pos_block_215800000  Pos_block_6700000\r\n",
      "Pos_block_141300000  Pos_block_215900000  Pos_block_67000000\r\n",
      "Pos_block_141400000  Pos_block_21600000   Pos_block_67100000\r\n",
      "Pos_block_141500000  Pos_block_216000000  Pos_block_67200000\r\n",
      "Pos_block_141600000  Pos_block_216100000  Pos_block_67300000\r\n",
      "Pos_block_141700000  Pos_block_216200000  Pos_block_67400000\r\n",
      "Pos_block_141800000  Pos_block_216300000  Pos_block_67500000\r\n",
      "Pos_block_141900000  Pos_block_216400000  Pos_block_67600000\r\n",
      "Pos_block_14200000   Pos_block_216500000  Pos_block_67700000\r\n",
      "Pos_block_142000000  Pos_block_216600000  Pos_block_67800000\r\n",
      "Pos_block_142100000  Pos_block_216700000  Pos_block_67900000\r\n",
      "Pos_block_142200000  Pos_block_216800000  Pos_block_6800000\r\n",
      "Pos_block_142300000  Pos_block_216900000  Pos_block_68000000\r\n",
      "Pos_block_142400000  Pos_block_21700000   Pos_block_68100000\r\n",
      "Pos_block_142500000  Pos_block_217000000  Pos_block_68200000\r\n",
      "Pos_block_142600000  Pos_block_217100000  Pos_block_68300000\r\n",
      "Pos_block_142700000  Pos_block_217200000  Pos_block_68400000\r\n",
      "Pos_block_142800000  Pos_block_217300000  Pos_block_68500000\r\n",
      "Pos_block_142900000  Pos_block_217400000  Pos_block_68600000\r\n",
      "Pos_block_14300000   Pos_block_217500000  Pos_block_68700000\r\n",
      "Pos_block_143000000  Pos_block_217600000  Pos_block_68800000\r\n",
      "Pos_block_143100000  Pos_block_217700000  Pos_block_68900000\r\n",
      "Pos_block_143200000  Pos_block_217800000  Pos_block_6900000\r\n",
      "Pos_block_143300000  Pos_block_217900000  Pos_block_69000000\r\n",
      "Pos_block_143400000  Pos_block_21800000   Pos_block_69100000\r\n",
      "Pos_block_143500000  Pos_block_218000000  Pos_block_69200000\r\n",
      "Pos_block_143600000  Pos_block_218100000  Pos_block_69300000\r\n",
      "Pos_block_143700000  Pos_block_218200000  Pos_block_69400000\r\n",
      "Pos_block_143800000  Pos_block_218300000  Pos_block_69500000\r\n",
      "Pos_block_143900000  Pos_block_218400000  Pos_block_69600000\r\n",
      "Pos_block_14400000   Pos_block_218500000  Pos_block_69700000\r\n",
      "Pos_block_144000000  Pos_block_218600000  Pos_block_69800000\r\n",
      "Pos_block_144100000  Pos_block_218700000  Pos_block_69900000\r\n",
      "Pos_block_144200000  Pos_block_218800000  Pos_block_700000\r\n",
      "Pos_block_144300000  Pos_block_218900000  Pos_block_7000000\r\n",
      "Pos_block_144400000  Pos_block_21900000   Pos_block_70000000\r\n",
      "Pos_block_144500000  Pos_block_219000000  Pos_block_70100000\r\n",
      "Pos_block_144600000  Pos_block_219100000  Pos_block_70200000\r\n",
      "Pos_block_144700000  Pos_block_219200000  Pos_block_70300000\r\n",
      "Pos_block_144800000  Pos_block_219300000  Pos_block_70400000\r\n",
      "Pos_block_144900000  Pos_block_219400000  Pos_block_70500000\r\n",
      "Pos_block_14500000   Pos_block_219500000  Pos_block_70600000\r\n",
      "Pos_block_145000000  Pos_block_219600000  Pos_block_70700000\r\n",
      "Pos_block_145100000  Pos_block_219700000  Pos_block_70800000\r\n",
      "Pos_block_145200000  Pos_block_219800000  Pos_block_70900000\r\n",
      "Pos_block_145300000  Pos_block_219900000  Pos_block_7100000\r\n",
      "Pos_block_145400000  Pos_block_2200000\t  Pos_block_71000000\r\n",
      "Pos_block_145500000  Pos_block_22000000   Pos_block_71100000\r\n",
      "Pos_block_145600000  Pos_block_220000000  Pos_block_71200000\r\n",
      "Pos_block_145700000  Pos_block_220100000  Pos_block_71300000\r\n",
      "Pos_block_145800000  Pos_block_220200000  Pos_block_71400000\r\n",
      "Pos_block_145900000  Pos_block_220300000  Pos_block_71500000\r\n",
      "Pos_block_14600000   Pos_block_220400000  Pos_block_71600000\r\n",
      "Pos_block_146000000  Pos_block_220500000  Pos_block_71700000\r\n",
      "Pos_block_146100000  Pos_block_220600000  Pos_block_71800000\r\n",
      "Pos_block_146200000  Pos_block_220700000  Pos_block_71900000\r\n",
      "Pos_block_146300000  Pos_block_220800000  Pos_block_7200000\r\n",
      "Pos_block_146400000  Pos_block_220900000  Pos_block_72000000\r\n",
      "Pos_block_146500000  Pos_block_22100000   Pos_block_72100000\r\n",
      "Pos_block_146600000  Pos_block_221000000  Pos_block_72200000\r\n",
      "Pos_block_146700000  Pos_block_221100000  Pos_block_72300000\r\n",
      "Pos_block_146800000  Pos_block_221200000  Pos_block_72400000\r\n",
      "Pos_block_146900000  Pos_block_221300000  Pos_block_72500000\r\n",
      "Pos_block_14700000   Pos_block_221400000  Pos_block_72600000\r\n",
      "Pos_block_147000000  Pos_block_221500000  Pos_block_72700000\r\n",
      "Pos_block_147100000  Pos_block_221600000  Pos_block_72800000\r\n",
      "Pos_block_147200000  Pos_block_221700000  Pos_block_72900000\r\n",
      "Pos_block_147300000  Pos_block_221800000  Pos_block_7300000\r\n",
      "Pos_block_147400000  Pos_block_221900000  Pos_block_73000000\r\n",
      "Pos_block_147500000  Pos_block_22200000   Pos_block_73100000\r\n",
      "Pos_block_147600000  Pos_block_222000000  Pos_block_73200000\r\n",
      "Pos_block_147700000  Pos_block_222100000  Pos_block_73300000\r\n",
      "Pos_block_147800000  Pos_block_222200000  Pos_block_73400000\r\n",
      "Pos_block_147900000  Pos_block_222300000  Pos_block_73500000\r\n",
      "Pos_block_14800000   Pos_block_222400000  Pos_block_73600000\r\n",
      "Pos_block_148000000  Pos_block_222500000  Pos_block_73700000\r\n",
      "Pos_block_148100000  Pos_block_222600000  Pos_block_73800000\r\n",
      "Pos_block_148200000  Pos_block_222700000  Pos_block_73900000\r\n",
      "Pos_block_148300000  Pos_block_222800000  Pos_block_7400000\r\n",
      "Pos_block_148400000  Pos_block_222900000  Pos_block_74000000\r\n",
      "Pos_block_148500000  Pos_block_22300000   Pos_block_74100000\r\n",
      "Pos_block_148600000  Pos_block_223000000  Pos_block_74200000\r\n",
      "Pos_block_148700000  Pos_block_223100000  Pos_block_74300000\r\n",
      "Pos_block_148800000  Pos_block_223200000  Pos_block_74400000\r\n",
      "Pos_block_148900000  Pos_block_223300000  Pos_block_74500000\r\n",
      "Pos_block_14900000   Pos_block_223400000  Pos_block_74600000\r\n",
      "Pos_block_149000000  Pos_block_223500000  Pos_block_74700000\r\n",
      "Pos_block_149100000  Pos_block_223600000  Pos_block_74800000\r\n",
      "Pos_block_149200000  Pos_block_223700000  Pos_block_74900000\r\n",
      "Pos_block_149300000  Pos_block_223800000  Pos_block_7500000\r\n",
      "Pos_block_149400000  Pos_block_223900000  Pos_block_75000000\r\n",
      "Pos_block_149500000  Pos_block_22400000   Pos_block_75100000\r\n",
      "Pos_block_149600000  Pos_block_224000000  Pos_block_75200000\r\n",
      "Pos_block_149700000  Pos_block_224100000  Pos_block_75300000\r\n",
      "Pos_block_149800000  Pos_block_224200000  Pos_block_75400000\r\n",
      "Pos_block_149900000  Pos_block_224300000  Pos_block_75500000\r\n",
      "Pos_block_1500000    Pos_block_224400000  Pos_block_75600000\r\n",
      "Pos_block_15000000   Pos_block_224500000  Pos_block_75700000\r\n",
      "Pos_block_150000000  Pos_block_224600000  Pos_block_75800000\r\n",
      "Pos_block_150100000  Pos_block_224700000  Pos_block_75900000\r\n",
      "Pos_block_150200000  Pos_block_224800000  Pos_block_7600000\r\n",
      "Pos_block_150300000  Pos_block_224900000  Pos_block_76000000\r\n",
      "Pos_block_150400000  Pos_block_22500000   Pos_block_76100000\r\n",
      "Pos_block_150500000  Pos_block_225000000  Pos_block_76200000\r\n",
      "Pos_block_150600000  Pos_block_225100000  Pos_block_76300000\r\n",
      "Pos_block_150700000  Pos_block_225200000  Pos_block_76400000\r\n",
      "Pos_block_150800000  Pos_block_225300000  Pos_block_76500000\r\n",
      "Pos_block_150900000  Pos_block_225400000  Pos_block_76600000\r\n",
      "Pos_block_15100000   Pos_block_225500000  Pos_block_76700000\r\n",
      "Pos_block_151000000  Pos_block_225600000  Pos_block_76800000\r\n",
      "Pos_block_151100000  Pos_block_225700000  Pos_block_76900000\r\n",
      "Pos_block_151200000  Pos_block_225800000  Pos_block_7700000\r\n",
      "Pos_block_151300000  Pos_block_225900000  Pos_block_77000000\r\n",
      "Pos_block_151400000  Pos_block_22600000   Pos_block_77100000\r\n",
      "Pos_block_151500000  Pos_block_226000000  Pos_block_77200000\r\n",
      "Pos_block_151600000  Pos_block_226100000  Pos_block_77300000\r\n",
      "Pos_block_151700000  Pos_block_226200000  Pos_block_77400000\r\n",
      "Pos_block_151800000  Pos_block_226300000  Pos_block_77500000\r\n",
      "Pos_block_151900000  Pos_block_226400000  Pos_block_77600000\r\n",
      "Pos_block_15200000   Pos_block_226500000  Pos_block_77700000\r\n",
      "Pos_block_152000000  Pos_block_226600000  Pos_block_77800000\r\n",
      "Pos_block_152100000  Pos_block_226700000  Pos_block_77900000\r\n",
      "Pos_block_152200000  Pos_block_226800000  Pos_block_7800000\r\n",
      "Pos_block_152300000  Pos_block_226900000  Pos_block_78000000\r\n",
      "Pos_block_152400000  Pos_block_22700000   Pos_block_78100000\r\n",
      "Pos_block_152500000  Pos_block_227000000  Pos_block_78200000\r\n",
      "Pos_block_152600000  Pos_block_227100000  Pos_block_78300000\r\n",
      "Pos_block_152700000  Pos_block_227200000  Pos_block_78400000\r\n",
      "Pos_block_152800000  Pos_block_227300000  Pos_block_78500000\r\n",
      "Pos_block_152900000  Pos_block_227400000  Pos_block_78600000\r\n",
      "Pos_block_15300000   Pos_block_227500000  Pos_block_78700000\r\n",
      "Pos_block_153000000  Pos_block_227600000  Pos_block_78800000\r\n",
      "Pos_block_153100000  Pos_block_227700000  Pos_block_78900000\r\n",
      "Pos_block_153200000  Pos_block_227800000  Pos_block_7900000\r\n",
      "Pos_block_153300000  Pos_block_227900000  Pos_block_79000000\r\n",
      "Pos_block_153400000  Pos_block_22800000   Pos_block_79100000\r\n",
      "Pos_block_153500000  Pos_block_228000000  Pos_block_79200000\r\n",
      "Pos_block_153600000  Pos_block_228100000  Pos_block_79300000\r\n",
      "Pos_block_153700000  Pos_block_228200000  Pos_block_79400000\r\n",
      "Pos_block_153800000  Pos_block_228300000  Pos_block_79500000\r\n",
      "Pos_block_153900000  Pos_block_228400000  Pos_block_79600000\r\n",
      "Pos_block_15400000   Pos_block_228500000  Pos_block_79700000\r\n",
      "Pos_block_154000000  Pos_block_228600000  Pos_block_79800000\r\n",
      "Pos_block_154100000  Pos_block_228700000  Pos_block_79900000\r\n",
      "Pos_block_154200000  Pos_block_228800000  Pos_block_800000\r\n",
      "Pos_block_154300000  Pos_block_228900000  Pos_block_8000000\r\n",
      "Pos_block_154400000  Pos_block_22900000   Pos_block_80000000\r\n",
      "Pos_block_154500000  Pos_block_229000000  Pos_block_80100000\r\n",
      "Pos_block_154600000  Pos_block_229100000  Pos_block_80200000\r\n",
      "Pos_block_154700000  Pos_block_229200000  Pos_block_80300000\r\n",
      "Pos_block_154800000  Pos_block_229300000  Pos_block_80400000\r\n",
      "Pos_block_154900000  Pos_block_229400000  Pos_block_80500000\r\n",
      "Pos_block_15500000   Pos_block_229500000  Pos_block_80600000\r\n",
      "Pos_block_155000000  Pos_block_229600000  Pos_block_80700000\r\n",
      "Pos_block_155100000  Pos_block_229700000  Pos_block_80800000\r\n",
      "Pos_block_155200000  Pos_block_229800000  Pos_block_80900000\r\n",
      "Pos_block_155300000  Pos_block_2300000\t  Pos_block_8100000\r\n",
      "Pos_block_155400000  Pos_block_23000000   Pos_block_81000000\r\n",
      "Pos_block_155500000  Pos_block_230000000  Pos_block_81100000\r\n",
      "Pos_block_155600000  Pos_block_230100000  Pos_block_81200000\r\n",
      "Pos_block_155700000  Pos_block_230200000  Pos_block_81300000\r\n",
      "Pos_block_155800000  Pos_block_230300000  Pos_block_81400000\r\n",
      "Pos_block_155900000  Pos_block_230400000  Pos_block_81500000\r\n",
      "Pos_block_15600000   Pos_block_230500000  Pos_block_81600000\r\n",
      "Pos_block_156000000  Pos_block_230600000  Pos_block_81700000\r\n",
      "Pos_block_156100000  Pos_block_230700000  Pos_block_81800000\r\n",
      "Pos_block_156200000  Pos_block_230800000  Pos_block_81900000\r\n",
      "Pos_block_156300000  Pos_block_230900000  Pos_block_8200000\r\n",
      "Pos_block_156400000  Pos_block_23100000   Pos_block_82000000\r\n",
      "Pos_block_156500000  Pos_block_231000000  Pos_block_82100000\r\n",
      "Pos_block_156600000  Pos_block_231100000  Pos_block_82200000\r\n",
      "Pos_block_156700000  Pos_block_231200000  Pos_block_82300000\r\n",
      "Pos_block_156800000  Pos_block_231300000  Pos_block_82400000\r\n",
      "Pos_block_156900000  Pos_block_231400000  Pos_block_82500000\r\n",
      "Pos_block_15700000   Pos_block_231500000  Pos_block_82600000\r\n",
      "Pos_block_157000000  Pos_block_231600000  Pos_block_82700000\r\n",
      "Pos_block_157100000  Pos_block_231700000  Pos_block_82800000\r\n",
      "Pos_block_157200000  Pos_block_231800000  Pos_block_82900000\r\n",
      "Pos_block_157300000  Pos_block_231900000  Pos_block_8300000\r\n",
      "Pos_block_157400000  Pos_block_23200000   Pos_block_83000000\r\n",
      "Pos_block_157500000  Pos_block_232000000  Pos_block_83100000\r\n",
      "Pos_block_157600000  Pos_block_232100000  Pos_block_83200000\r\n",
      "Pos_block_157700000  Pos_block_232200000  Pos_block_83300000\r\n",
      "Pos_block_157800000  Pos_block_232300000  Pos_block_83400000\r\n",
      "Pos_block_157900000  Pos_block_232400000  Pos_block_83500000\r\n",
      "Pos_block_15800000   Pos_block_232500000  Pos_block_83600000\r\n",
      "Pos_block_158000000  Pos_block_232600000  Pos_block_83700000\r\n",
      "Pos_block_158100000  Pos_block_232700000  Pos_block_83800000\r\n",
      "Pos_block_158200000  Pos_block_232800000  Pos_block_83900000\r\n",
      "Pos_block_158300000  Pos_block_232900000  Pos_block_8400000\r\n",
      "Pos_block_158400000  Pos_block_23300000   Pos_block_84000000\r\n",
      "Pos_block_158500000  Pos_block_233000000  Pos_block_84100000\r\n",
      "Pos_block_158600000  Pos_block_233100000  Pos_block_84200000\r\n",
      "Pos_block_158700000  Pos_block_233200000  Pos_block_84300000\r\n",
      "Pos_block_158800000  Pos_block_233300000  Pos_block_84400000\r\n",
      "Pos_block_158900000  Pos_block_233400000  Pos_block_84500000\r\n",
      "Pos_block_15900000   Pos_block_233500000  Pos_block_84600000\r\n",
      "Pos_block_159000000  Pos_block_233600000  Pos_block_84700000\r\n",
      "Pos_block_159100000  Pos_block_233700000  Pos_block_84800000\r\n",
      "Pos_block_159200000  Pos_block_233800000  Pos_block_84900000\r\n",
      "Pos_block_159300000  Pos_block_233900000  Pos_block_8500000\r\n",
      "Pos_block_159400000  Pos_block_23400000   Pos_block_85000000\r\n",
      "Pos_block_159500000  Pos_block_234000000  Pos_block_85100000\r\n",
      "Pos_block_159600000  Pos_block_234100000  Pos_block_85200000\r\n",
      "Pos_block_159700000  Pos_block_234200000  Pos_block_85300000\r\n",
      "Pos_block_159800000  Pos_block_234300000  Pos_block_85400000\r\n",
      "Pos_block_159900000  Pos_block_234400000  Pos_block_85500000\r\n",
      "Pos_block_1600000    Pos_block_234500000  Pos_block_85600000\r\n",
      "Pos_block_16000000   Pos_block_234600000  Pos_block_85700000\r\n",
      "Pos_block_160000000  Pos_block_234700000  Pos_block_85800000\r\n",
      "Pos_block_160100000  Pos_block_234800000  Pos_block_85900000\r\n",
      "Pos_block_160200000  Pos_block_234900000  Pos_block_8600000\r\n",
      "Pos_block_160300000  Pos_block_23500000   Pos_block_86000000\r\n",
      "Pos_block_160400000  Pos_block_235000000  Pos_block_86100000\r\n",
      "Pos_block_160500000  Pos_block_235100000  Pos_block_86200000\r\n",
      "Pos_block_160600000  Pos_block_235200000  Pos_block_86300000\r\n",
      "Pos_block_160700000  Pos_block_235300000  Pos_block_86400000\r\n",
      "Pos_block_160800000  Pos_block_235400000  Pos_block_86500000\r\n",
      "Pos_block_160900000  Pos_block_235500000  Pos_block_86600000\r\n",
      "Pos_block_16100000   Pos_block_235600000  Pos_block_86700000\r\n",
      "Pos_block_161000000  Pos_block_235700000  Pos_block_86800000\r\n",
      "Pos_block_161100000  Pos_block_235800000  Pos_block_86900000\r\n",
      "Pos_block_161200000  Pos_block_235900000  Pos_block_8700000\r\n",
      "Pos_block_161300000  Pos_block_23600000   Pos_block_87000000\r\n",
      "Pos_block_161400000  Pos_block_236000000  Pos_block_87100000\r\n",
      "Pos_block_161500000  Pos_block_236100000  Pos_block_87200000\r\n",
      "Pos_block_161600000  Pos_block_236200000  Pos_block_87300000\r\n",
      "Pos_block_161700000  Pos_block_236300000  Pos_block_87400000\r\n",
      "Pos_block_161800000  Pos_block_236400000  Pos_block_87500000\r\n",
      "Pos_block_161900000  Pos_block_236500000  Pos_block_87600000\r\n",
      "Pos_block_16200000   Pos_block_236600000  Pos_block_87700000\r\n",
      "Pos_block_162000000  Pos_block_236700000  Pos_block_87800000\r\n",
      "Pos_block_162100000  Pos_block_236800000  Pos_block_87900000\r\n",
      "Pos_block_162200000  Pos_block_236900000  Pos_block_8800000\r\n",
      "Pos_block_162300000  Pos_block_23700000   Pos_block_88000000\r\n",
      "Pos_block_162400000  Pos_block_237000000  Pos_block_88100000\r\n",
      "Pos_block_162500000  Pos_block_237100000  Pos_block_88200000\r\n",
      "Pos_block_162600000  Pos_block_237200000  Pos_block_88300000\r\n",
      "Pos_block_162700000  Pos_block_237300000  Pos_block_88400000\r\n",
      "Pos_block_162800000  Pos_block_237400000  Pos_block_88500000\r\n",
      "Pos_block_162900000  Pos_block_237500000  Pos_block_88600000\r\n",
      "Pos_block_16300000   Pos_block_237600000  Pos_block_88700000\r\n",
      "Pos_block_163000000  Pos_block_237700000  Pos_block_88800000\r\n",
      "Pos_block_163100000  Pos_block_237800000  Pos_block_88900000\r\n",
      "Pos_block_163200000  Pos_block_237900000  Pos_block_8900000\r\n",
      "Pos_block_163300000  Pos_block_23800000   Pos_block_89000000\r\n",
      "Pos_block_163400000  Pos_block_238000000  Pos_block_89100000\r\n",
      "Pos_block_163500000  Pos_block_238100000  Pos_block_89200000\r\n",
      "Pos_block_163600000  Pos_block_238200000  Pos_block_89300000\r\n",
      "Pos_block_163700000  Pos_block_238300000  Pos_block_89400000\r\n",
      "Pos_block_163800000  Pos_block_238400000  Pos_block_89500000\r\n",
      "Pos_block_163900000  Pos_block_238500000  Pos_block_89600000\r\n",
      "Pos_block_16400000   Pos_block_238600000  Pos_block_89700000\r\n",
      "Pos_block_164000000  Pos_block_238700000  Pos_block_89800000\r\n",
      "Pos_block_164100000  Pos_block_238800000  Pos_block_89900000\r\n",
      "Pos_block_164200000  Pos_block_238900000  Pos_block_900000\r\n",
      "Pos_block_164300000  Pos_block_23900000   Pos_block_9000000\r\n",
      "Pos_block_164400000  Pos_block_239000000  Pos_block_90000000\r\n",
      "Pos_block_164500000  Pos_block_239100000  Pos_block_90100000\r\n",
      "Pos_block_164600000  Pos_block_239200000  Pos_block_90200000\r\n",
      "Pos_block_164700000  Pos_block_239300000  Pos_block_90300000\r\n",
      "Pos_block_164800000  Pos_block_239400000  Pos_block_90400000\r\n",
      "Pos_block_164900000  Pos_block_239500000  Pos_block_90500000\r\n",
      "Pos_block_16500000   Pos_block_239600000  Pos_block_90600000\r\n",
      "Pos_block_165000000  Pos_block_239700000  Pos_block_90700000\r\n",
      "Pos_block_165100000  Pos_block_239800000  Pos_block_90800000\r\n",
      "Pos_block_165200000  Pos_block_239900000  Pos_block_90900000\r\n",
      "Pos_block_165300000  Pos_block_2400000\t  Pos_block_9100000\r\n",
      "Pos_block_165400000  Pos_block_24000000   Pos_block_91000000\r\n",
      "Pos_block_165500000  Pos_block_240000000  Pos_block_91100000\r\n",
      "Pos_block_165600000  Pos_block_240100000  Pos_block_91200000\r\n",
      "Pos_block_165700000  Pos_block_240200000  Pos_block_91300000\r\n",
      "Pos_block_165800000  Pos_block_240300000  Pos_block_91400000\r\n",
      "Pos_block_165900000  Pos_block_240400000  Pos_block_91500000\r\n",
      "Pos_block_16600000   Pos_block_240500000  Pos_block_91600000\r\n",
      "Pos_block_166000000  Pos_block_240600000  Pos_block_91700000\r\n",
      "Pos_block_166100000  Pos_block_240700000  Pos_block_91800000\r\n",
      "Pos_block_166200000  Pos_block_240800000  Pos_block_91900000\r\n",
      "Pos_block_166300000  Pos_block_240900000  Pos_block_9200000\r\n",
      "Pos_block_166400000  Pos_block_24100000   Pos_block_92000000\r\n",
      "Pos_block_166500000  Pos_block_241000000  Pos_block_92100000\r\n",
      "Pos_block_166600000  Pos_block_241100000  Pos_block_92200000\r\n",
      "Pos_block_166700000  Pos_block_241200000  Pos_block_92300000\r\n",
      "Pos_block_166800000  Pos_block_241300000  Pos_block_92400000\r\n",
      "Pos_block_166900000  Pos_block_241400000  Pos_block_92500000\r\n",
      "Pos_block_16700000   Pos_block_241500000  Pos_block_92600000\r\n",
      "Pos_block_167000000  Pos_block_241600000  Pos_block_92700000\r\n",
      "Pos_block_167100000  Pos_block_241700000  Pos_block_92800000\r\n",
      "Pos_block_167200000  Pos_block_241800000  Pos_block_92900000\r\n",
      "Pos_block_167300000  Pos_block_241900000  Pos_block_9300000\r\n",
      "Pos_block_167400000  Pos_block_24200000   Pos_block_93000000\r\n",
      "Pos_block_167500000  Pos_block_242000000  Pos_block_93100000\r\n",
      "Pos_block_167600000  Pos_block_242100000  Pos_block_93200000\r\n",
      "Pos_block_167700000  Pos_block_242200000  Pos_block_93300000\r\n",
      "Pos_block_167800000  Pos_block_242300000  Pos_block_93400000\r\n",
      "Pos_block_167900000  Pos_block_242400000  Pos_block_93500000\r\n",
      "Pos_block_16800000   Pos_block_242500000  Pos_block_93600000\r\n",
      "Pos_block_168000000  Pos_block_242600000  Pos_block_93700000\r\n",
      "Pos_block_168100000  Pos_block_242700000  Pos_block_93800000\r\n",
      "Pos_block_168200000  Pos_block_242800000  Pos_block_93900000\r\n",
      "Pos_block_168300000  Pos_block_242900000  Pos_block_9400000\r\n",
      "Pos_block_168400000  Pos_block_24300000   Pos_block_94000000\r\n",
      "Pos_block_168500000  Pos_block_243100000  Pos_block_94100000\r\n",
      "Pos_block_168600000  Pos_block_243200000  Pos_block_94200000\r\n",
      "Pos_block_168700000  Pos_block_243300000  Pos_block_94300000\r\n",
      "Pos_block_168800000  Pos_block_243400000  Pos_block_94400000\r\n",
      "Pos_block_168900000  Pos_block_243500000  Pos_block_94500000\r\n",
      "Pos_block_16900000   Pos_block_243600000  Pos_block_94600000\r\n",
      "Pos_block_169000000  Pos_block_243700000  Pos_block_94700000\r\n",
      "Pos_block_169100000  Pos_block_243800000  Pos_block_94800000\r\n",
      "Pos_block_169200000  Pos_block_243900000  Pos_block_94900000\r\n",
      "Pos_block_169300000  Pos_block_24400000   Pos_block_9500000\r\n",
      "Pos_block_169400000  Pos_block_244000000  Pos_block_95000000\r\n",
      "Pos_block_169500000  Pos_block_244200000  Pos_block_95100000\r\n",
      "Pos_block_169600000  Pos_block_244300000  Pos_block_95200000\r\n",
      "Pos_block_169700000  Pos_block_244400000  Pos_block_95300000\r\n",
      "Pos_block_169800000  Pos_block_244600000  Pos_block_95400000\r\n",
      "Pos_block_169900000  Pos_block_244700000  Pos_block_95500000\r\n",
      "Pos_block_1700000    Pos_block_244800000  Pos_block_95600000\r\n",
      "Pos_block_17000000   Pos_block_244900000  Pos_block_95700000\r\n",
      "Pos_block_170000000  Pos_block_24500000   Pos_block_95800000\r\n",
      "Pos_block_170100000  Pos_block_245000000  Pos_block_95900000\r\n",
      "Pos_block_170200000  Pos_block_245100000  Pos_block_9600000\r\n",
      "Pos_block_170300000  Pos_block_245200000  Pos_block_96000000\r\n",
      "Pos_block_170400000  Pos_block_245300000  Pos_block_96100000\r\n",
      "Pos_block_170500000  Pos_block_245400000  Pos_block_96200000\r\n",
      "Pos_block_170600000  Pos_block_245600000  Pos_block_96300000\r\n",
      "Pos_block_170700000  Pos_block_245700000  Pos_block_96400000\r\n",
      "Pos_block_170800000  Pos_block_245800000  Pos_block_96500000\r\n",
      "Pos_block_170900000  Pos_block_245900000  Pos_block_96600000\r\n",
      "Pos_block_17100000   Pos_block_24600000   Pos_block_96700000\r\n",
      "Pos_block_171000000  Pos_block_246000000  Pos_block_96800000\r\n",
      "Pos_block_171100000  Pos_block_246100000  Pos_block_96900000\r\n",
      "Pos_block_171200000  Pos_block_246200000  Pos_block_9700000\r\n",
      "Pos_block_171300000  Pos_block_246400000  Pos_block_97000000\r\n",
      "Pos_block_171400000  Pos_block_246500000  Pos_block_97100000\r\n",
      "Pos_block_171500000  Pos_block_246600000  Pos_block_97200000\r\n",
      "Pos_block_171600000  Pos_block_246700000  Pos_block_97300000\r\n",
      "Pos_block_171700000  Pos_block_246800000  Pos_block_97400000\r\n",
      "Pos_block_171800000  Pos_block_246900000  Pos_block_97500000\r\n",
      "Pos_block_171900000  Pos_block_24700000   Pos_block_97600000\r\n",
      "Pos_block_17200000   Pos_block_247000000  Pos_block_97700000\r\n",
      "Pos_block_172000000  Pos_block_247100000  Pos_block_97800000\r\n",
      "Pos_block_172100000  Pos_block_247200000  Pos_block_97900000\r\n",
      "Pos_block_172200000  Pos_block_247300000  Pos_block_9800000\r\n",
      "Pos_block_172300000  Pos_block_247400000  Pos_block_98000000\r\n",
      "Pos_block_172400000  Pos_block_247500000  Pos_block_98100000\r\n",
      "Pos_block_172500000  Pos_block_247600000  Pos_block_98200000\r\n",
      "Pos_block_172600000  Pos_block_247700000  Pos_block_98300000\r\n",
      "Pos_block_172700000  Pos_block_247800000  Pos_block_98400000\r\n",
      "Pos_block_172800000  Pos_block_247900000  Pos_block_98500000\r\n",
      "Pos_block_172900000  Pos_block_24800000   Pos_block_98600000\r\n",
      "Pos_block_17300000   Pos_block_248000000  Pos_block_98700000\r\n",
      "Pos_block_173000000  Pos_block_248100000  Pos_block_98800000\r\n",
      "Pos_block_173100000  Pos_block_248200000  Pos_block_98900000\r\n",
      "Pos_block_173200000  Pos_block_248300000  Pos_block_9900000\r\n",
      "Pos_block_173300000  Pos_block_248400000  Pos_block_99000000\r\n",
      "Pos_block_173400000  Pos_block_248500000  Pos_block_99100000\r\n",
      "Pos_block_173500000  Pos_block_248600000  Pos_block_99200000\r\n",
      "Pos_block_173600000  Pos_block_248800000  Pos_block_99300000\r\n",
      "Pos_block_173700000  Pos_block_24900000   Pos_block_99400000\r\n",
      "Pos_block_173800000  Pos_block_2500000\t  Pos_block_99500000\r\n",
      "Pos_block_173900000  Pos_block_25000000   Pos_block_99600000\r\n",
      "Pos_block_17400000   Pos_block_25100000   Pos_block_99700000\r\n",
      "Pos_block_174000000  Pos_block_25200000   Pos_block_99800000\r\n",
      "Pos_block_174100000  Pos_block_25300000   Pos_block_99900000\r\n"
     ]
    }
   ],
   "source": [
    "!ls /cellar/users/btsui/Data/SRA/snp/Homo_sapiens_snp_pos/"
   ]
  },
  {
   "cell_type": "markdown",
   "metadata": {},
   "source": [
    "### BRAF V600 coordinate "
   ]
  },
  {
   "cell_type": "code",
   "execution_count": 3,
   "metadata": {},
   "outputs": [],
   "source": [
    "#location where BRAF V600 happens, you can change it to whatever position you want \n",
    "#http://cancer.sanger.ac.uk/cosmic/mutation/overview?id=476\n",
    "queryChr,queryPosition='7',140753336 "
   ]
  },
  {
   "cell_type": "code",
   "execution_count": 4,
   "metadata": {},
   "outputs": [],
   "source": [
    "window=15\n",
    "readThreshold=5"
   ]
  },
  {
   "cell_type": "markdown",
   "metadata": {},
   "source": [
    "static code for slicing out the data"
   ]
  },
  {
   "cell_type": "code",
   "execution_count": 5,
   "metadata": {},
   "outputs": [],
   "source": [
    "#str(myChunk)"
   ]
  },
  {
   "cell_type": "code",
   "execution_count": 6,
   "metadata": {},
   "outputs": [
    {
     "name": "stdout",
     "output_type": "stream",
     "text": [
      "140700000\n",
      "CPU times: user 5.78 s, sys: 664 ms, total: 6.45 s\n",
      "Wall time: 4.76 s\n"
     ]
    }
   ],
   "source": [
    "%%time\n",
    "chunkSize=100000 #fixed params\n",
    "myChunk=int(queryPosition/chunkSize)*chunkSize\n",
    "print (myChunk)\n",
    "hdf_s=pd.HDFStore(skymap_snp_dir+'Pos_block_'+str(myChunk),mode='r')\n",
    "tmpChunkDf=hdf_s['/chunk']\n",
    "myPosDf=tmpChunkDf[(tmpChunkDf.Pos>=(queryPosition-window))&(tmpChunkDf.Pos<=(queryPosition+window))].reset_index()\n",
    "m1=myPosDf[b'Chr']==queryChr\n",
    "m2=myPosDf['ReadDepth']>=readThreshold\n",
    "myChrPosDf=myPosDf[m1&m2]"
   ]
  },
  {
   "cell_type": "code",
   "execution_count": 7,
   "metadata": {},
   "outputs": [],
   "source": [
    "#myPosDf"
   ]
  },
  {
   "cell_type": "code",
   "execution_count": 8,
   "metadata": {},
   "outputs": [
    {
     "name": "stdout",
     "output_type": "stream",
     "text": [
      "# of studies sliced out: 149064\n"
     ]
    }
   ],
   "source": [
    "print ('# of studies sliced out:' ,tmpChunkDf.Run_digits.nunique())"
   ]
  },
  {
   "cell_type": "markdown",
   "metadata": {},
   "source": [
    "### the slice out the window at around BRAF V600"
   ]
  },
  {
   "cell_type": "code",
   "execution_count": 9,
   "metadata": {},
   "outputs": [
    {
     "data": {
      "text/html": [
       "<div>\n",
       "<style scoped>\n",
       "    .dataframe tbody tr th:only-of-type {\n",
       "        vertical-align: middle;\n",
       "    }\n",
       "\n",
       "    .dataframe tbody tr th {\n",
       "        vertical-align: top;\n",
       "    }\n",
       "\n",
       "    .dataframe thead th {\n",
       "        text-align: right;\n",
       "    }\n",
       "</style>\n",
       "<table border=\"1\" class=\"dataframe\">\n",
       "  <thead>\n",
       "    <tr style=\"text-align: right;\">\n",
       "      <th>b'features'</th>\n",
       "      <th>b'Chr'</th>\n",
       "      <th>b'base'</th>\n",
       "      <th>b'Run_db'</th>\n",
       "      <th>Run_digits</th>\n",
       "      <th>Pos</th>\n",
       "      <th>ReadDepth</th>\n",
       "      <th>AverageBaseQuality</th>\n",
       "      <th>block</th>\n",
       "    </tr>\n",
       "  </thead>\n",
       "  <tbody>\n",
       "    <tr>\n",
       "      <th>2</th>\n",
       "      <td>7</td>\n",
       "      <td>C</td>\n",
       "      <td>SRR</td>\n",
       "      <td>1177675</td>\n",
       "      <td>140753321</td>\n",
       "      <td>9</td>\n",
       "      <td>39</td>\n",
       "      <td>140700000</td>\n",
       "    </tr>\n",
       "    <tr>\n",
       "      <th>3</th>\n",
       "      <td>7</td>\n",
       "      <td>C</td>\n",
       "      <td>SRR</td>\n",
       "      <td>4444531</td>\n",
       "      <td>140753321</td>\n",
       "      <td>5</td>\n",
       "      <td>40</td>\n",
       "      <td>140700000</td>\n",
       "    </tr>\n",
       "    <tr>\n",
       "      <th>6</th>\n",
       "      <td>7</td>\n",
       "      <td>C</td>\n",
       "      <td>SRR</td>\n",
       "      <td>5882370</td>\n",
       "      <td>140753321</td>\n",
       "      <td>39</td>\n",
       "      <td>39</td>\n",
       "      <td>140700000</td>\n",
       "    </tr>\n",
       "    <tr>\n",
       "      <th>9</th>\n",
       "      <td>7</td>\n",
       "      <td>C</td>\n",
       "      <td>SRR</td>\n",
       "      <td>5111728</td>\n",
       "      <td>140753321</td>\n",
       "      <td>5</td>\n",
       "      <td>39</td>\n",
       "      <td>140700000</td>\n",
       "    </tr>\n",
       "    <tr>\n",
       "      <th>17</th>\n",
       "      <td>7</td>\n",
       "      <td>C</td>\n",
       "      <td>SRR</td>\n",
       "      <td>2125816</td>\n",
       "      <td>140753321</td>\n",
       "      <td>5</td>\n",
       "      <td>37</td>\n",
       "      <td>140700000</td>\n",
       "    </tr>\n",
       "  </tbody>\n",
       "</table>\n",
       "</div>"
      ],
      "text/plain": [
       "b'features' b'Chr' b'base' b'Run_db'  Run_digits        Pos  ReadDepth  \\\n",
       "2                7       C       SRR     1177675  140753321          9   \n",
       "3                7       C       SRR     4444531  140753321          5   \n",
       "6                7       C       SRR     5882370  140753321         39   \n",
       "9                7       C       SRR     5111728  140753321          5   \n",
       "17               7       C       SRR     2125816  140753321          5   \n",
       "\n",
       "b'features'  AverageBaseQuality      block  \n",
       "2                            39  140700000  \n",
       "3                            40  140700000  \n",
       "6                            39  140700000  \n",
       "9                            39  140700000  \n",
       "17                           37  140700000  "
      ]
     },
     "execution_count": 9,
     "metadata": {},
     "output_type": "execute_result"
    }
   ],
   "source": [
    "myChrPosDf.head()"
   ]
  },
  {
   "cell_type": "markdown",
   "metadata": {},
   "source": [
    "#### meaning of each column\n",
    "Chr: Chromosome\n",
    "\n",
    "Base: DNA bases in aligned reads - A, C, G, T \n",
    "\n",
    "Run_db and Run_digits together forms a SRR accession id. I ignored the leading 0s for Run_digits. \n",
    "\n",
    "ReadDepth: the number of bases detected in aligned reads at a particular base and chromosome position. \n",
    "\n",
    "AverageBaseQuality: The mean phred score in aligned reads at a particular base and chromosome postiion. \n",
    "\n",
    "Pos: Chromosome position. (grch38 for human)\n",
    "\n",
    "block: the block ID used for chunked storage"
   ]
  },
  {
   "cell_type": "markdown",
   "metadata": {},
   "source": [
    "# The above 20 lines are basically all you need to know\n",
    "to identify hundred thousands of sequencing runs with reads near your query postion. \n",
    "\n",
    "Keep reading if you are interested in some examples of basic analysis. \n"
   ]
  },
  {
   "cell_type": "markdown",
   "metadata": {},
   "source": [
    "###### find reference base for each chrosome coordinate"
   ]
  },
  {
   "cell_type": "code",
   "execution_count": 10,
   "metadata": {},
   "outputs": [
    {
     "name": "stderr",
     "output_type": "stream",
     "text": [
      "/cellar/users/btsui/anaconda3/lib/python3.6/site-packages/IPython/core/interactiveshell.py:2785: DtypeWarning: Columns (0) have mixed types. Specify dtype option on import or set low_memory=False.\n",
      "  interactivity=interactivity, compiler=compiler, result=result)\n"
     ]
    }
   ],
   "source": [
    "###it's a \n",
    "\"\"\"\n",
    "The original vcf file can be downloaded from: ftp://ftp.ncbi.nih.gov/snp/organisms/human_9606/VCF/All_20170710.vcf.gz\n",
    "I ignored all the entries without any phentoype related resources to suppport, where the byte2 of the VCF equals to zero.\n",
    "For more info: ftp://ftp.ncbi.nlm.nih.gov/snp/specs/dbSNP_BitField_latest.pdf\n",
    "\"\"\"\n",
    "inVcfDir='/data/cellardata/users/btsui/dbsnp/Homo_sapiens/All_20170710.f1_byte2_not_00.vcf.gz' \n",
    "vcfDf=pd.read_csv(inVcfDir,sep='\\t',header=None)\n",
    "vcfDf.columns=['Chr','Pos','RsId','RefBase','AltBase','','','Annot']\n",
    "vcfDf['Chr']=vcfDf['Chr'].astype(np.str)\n",
    "my_chrom_vcfDf=vcfDf[(vcfDf['Chr']==queryChr)]\n",
    "posToRefBase=my_chrom_vcfDf.set_index('Pos')['RefBase']\n",
    "posToRefBase=posToRefBase.str[0]\n",
    "posToRefBase=posToRefBase.groupby(posToRefBase.index).first()\n"
   ]
  },
  {
   "cell_type": "markdown",
   "metadata": {},
   "source": [
    "### visualize the landscape of BRAFV600 mutated samples\n",
    "\n",
    "Since human sequencing data are mostly generated from cell lines, we expect the cells measured often come with a highly  specifc oncogeneic transformation, thus we should observe a overpresenation of data with BRAFV600 as compared to its immediate neighboring regions, as shown in the following figure."
   ]
  },
  {
   "cell_type": "code",
   "execution_count": 11,
   "metadata": {},
   "outputs": [
    {
     "data": {
      "text/html": [
       "<div>\n",
       "<style scoped>\n",
       "    .dataframe tbody tr th:only-of-type {\n",
       "        vertical-align: middle;\n",
       "    }\n",
       "\n",
       "    .dataframe tbody tr th {\n",
       "        vertical-align: top;\n",
       "    }\n",
       "\n",
       "    .dataframe thead th {\n",
       "        text-align: right;\n",
       "    }\n",
       "</style>\n",
       "<table border=\"1\" class=\"dataframe\">\n",
       "  <thead>\n",
       "    <tr style=\"text-align: right;\">\n",
       "      <th>b'features'</th>\n",
       "      <th>b'Chr'</th>\n",
       "      <th>b'base'</th>\n",
       "      <th>b'Run_db'</th>\n",
       "      <th>Run_digits</th>\n",
       "      <th>Pos</th>\n",
       "      <th>ReadDepth</th>\n",
       "      <th>AverageBaseQuality</th>\n",
       "      <th>block</th>\n",
       "    </tr>\n",
       "  </thead>\n",
       "  <tbody>\n",
       "    <tr>\n",
       "      <th>2</th>\n",
       "      <td>7</td>\n",
       "      <td>C</td>\n",
       "      <td>SRR</td>\n",
       "      <td>1177675</td>\n",
       "      <td>140753321</td>\n",
       "      <td>9</td>\n",
       "      <td>39</td>\n",
       "      <td>140700000</td>\n",
       "    </tr>\n",
       "    <tr>\n",
       "      <th>3</th>\n",
       "      <td>7</td>\n",
       "      <td>C</td>\n",
       "      <td>SRR</td>\n",
       "      <td>4444531</td>\n",
       "      <td>140753321</td>\n",
       "      <td>5</td>\n",
       "      <td>40</td>\n",
       "      <td>140700000</td>\n",
       "    </tr>\n",
       "    <tr>\n",
       "      <th>6</th>\n",
       "      <td>7</td>\n",
       "      <td>C</td>\n",
       "      <td>SRR</td>\n",
       "      <td>5882370</td>\n",
       "      <td>140753321</td>\n",
       "      <td>39</td>\n",
       "      <td>39</td>\n",
       "      <td>140700000</td>\n",
       "    </tr>\n",
       "    <tr>\n",
       "      <th>9</th>\n",
       "      <td>7</td>\n",
       "      <td>C</td>\n",
       "      <td>SRR</td>\n",
       "      <td>5111728</td>\n",
       "      <td>140753321</td>\n",
       "      <td>5</td>\n",
       "      <td>39</td>\n",
       "      <td>140700000</td>\n",
       "    </tr>\n",
       "    <tr>\n",
       "      <th>17</th>\n",
       "      <td>7</td>\n",
       "      <td>C</td>\n",
       "      <td>SRR</td>\n",
       "      <td>2125816</td>\n",
       "      <td>140753321</td>\n",
       "      <td>5</td>\n",
       "      <td>37</td>\n",
       "      <td>140700000</td>\n",
       "    </tr>\n",
       "  </tbody>\n",
       "</table>\n",
       "</div>"
      ],
      "text/plain": [
       "b'features' b'Chr' b'base' b'Run_db'  Run_digits        Pos  ReadDepth  \\\n",
       "2                7       C       SRR     1177675  140753321          9   \n",
       "3                7       C       SRR     4444531  140753321          5   \n",
       "6                7       C       SRR     5882370  140753321         39   \n",
       "9                7       C       SRR     5111728  140753321          5   \n",
       "17               7       C       SRR     2125816  140753321          5   \n",
       "\n",
       "b'features'  AverageBaseQuality      block  \n",
       "2                            39  140700000  \n",
       "3                            40  140700000  \n",
       "6                            39  140700000  \n",
       "9                            39  140700000  \n",
       "17                           37  140700000  "
      ]
     },
     "execution_count": 11,
     "metadata": {},
     "output_type": "execute_result"
    }
   ],
   "source": [
    "myChrPosDf.head()"
   ]
  },
  {
   "cell_type": "code",
   "execution_count": 12,
   "metadata": {},
   "outputs": [
    {
     "name": "stderr",
     "output_type": "stream",
     "text": [
      "/cellar/users/btsui/anaconda3/lib/python3.6/site-packages/ipykernel_launcher.py:3: SettingWithCopyWarning: \n",
      "A value is trying to be set on a copy of a slice from a DataFrame.\n",
      "Try using .loc[row_indexer,col_indexer] = value instead\n",
      "\n",
      "See the caveats in the documentation: http://pandas.pydata.org/pandas-docs/stable/indexing.html#indexing-view-versus-copy\n",
      "  This is separate from the ipykernel package so we can avoid doing imports until\n",
      "/cellar/users/btsui/anaconda3/lib/python3.6/site-packages/ipykernel_launcher.py:5: SettingWithCopyWarning: \n",
      "A value is trying to be set on a copy of a slice from a DataFrame.\n",
      "Try using .loc[row_indexer,col_indexer] = value instead\n",
      "\n",
      "See the caveats in the documentation: http://pandas.pydata.org/pandas-docs/stable/indexing.html#indexing-view-versus-copy\n",
      "  \"\"\"\n"
     ]
    }
   ],
   "source": [
    "\n",
    "### recover reference base\n",
    "myChrPosDf['RefBase']=posToRefBase.loc[myChrPosDf['Pos']].values\n",
    "### is base alt?\n",
    "myChrPosDf['AltBase']=myChrPosDf['RefBase']!=myChrPosDf[b'base']\n",
    "#### consider dropping duplciates of Runs (a runs can have multiple bases) \n",
    "myPosCountDf=myChrPosDf.groupby(['Pos','AltBase']).size()"
   ]
  },
  {
   "cell_type": "code",
   "execution_count": 13,
   "metadata": {},
   "outputs": [],
   "source": [
    "inDf=myPosCountDf.unstack()\n",
    "fractionDf=(inDf.T/inDf.sum(axis=1)).T"
   ]
  },
  {
   "cell_type": "code",
   "execution_count": 14,
   "metadata": {},
   "outputs": [
    {
     "data": {
      "text/plain": [
       "[]"
      ]
     },
     "execution_count": 14,
     "metadata": {},
     "output_type": "execute_result"
    },
    {
     "data": {
      "image/png": "[encoded data removed]",
      "text/plain": [
       "<Figure size 432x288 with 1 Axes>"
      ]
     },
     "metadata": {},
     "output_type": "display_data"
    }
   ],
   "source": [
    "%matplotlib inline\n",
    "import matplotlib.pyplot as plt\n",
    "fig,ax=plt.subplots()\n",
    "ax.scatter(x=fractionDf.index,y=fractionDf[True],label='dbSNPs from neighboring regions')\n",
    "queryDf=fractionDf[fractionDf.index==queryPosition]\n",
    "ax.scatter(x=[queryPosition],y=fractionDf.loc[[queryPosition]][True],label='SNP at BRAF V600')\n",
    "ax.set_ylabel('% seq runs with alternative allele')\n",
    "ax.set_xlabel('Genomic positions near BRAF V600')\n",
    "ax.legend()\n",
    "ax.set_xticklabels([])"
   ]
  },
  {
   "cell_type": "markdown",
   "metadata": {},
   "source": [
    "### BRAF V600 mutation are measured and extracted from many different data layers\n",
    "\n",
    "as show in the following figure"
   ]
  },
  {
   "cell_type": "code",
   "execution_count": 15,
   "metadata": {},
   "outputs": [],
   "source": [
    "altBaseDf=myChrPosDf[(myChrPosDf['Pos']==queryPosition)&(myChrPosDf['AltBase'])]"
   ]
  },
  {
   "cell_type": "code",
   "execution_count": 16,
   "metadata": {},
   "outputs": [
    {
     "data": {
      "text/html": [
       "<div>\n",
       "<style scoped>\n",
       "    .dataframe tbody tr th:only-of-type {\n",
       "        vertical-align: middle;\n",
       "    }\n",
       "\n",
       "    .dataframe tbody tr th {\n",
       "        vertical-align: top;\n",
       "    }\n",
       "\n",
       "    .dataframe thead th {\n",
       "        text-align: right;\n",
       "    }\n",
       "</style>\n",
       "<table border=\"1\" class=\"dataframe\">\n",
       "  <thead>\n",
       "    <tr style=\"text-align: right;\">\n",
       "      <th>b'features'</th>\n",
       "      <th>b'Chr'</th>\n",
       "      <th>b'base'</th>\n",
       "      <th>b'Run_db'</th>\n",
       "      <th>Run_digits</th>\n",
       "      <th>Pos</th>\n",
       "      <th>ReadDepth</th>\n",
       "      <th>AverageBaseQuality</th>\n",
       "      <th>block</th>\n",
       "      <th>RefBase</th>\n",
       "      <th>AltBase</th>\n",
       "    </tr>\n",
       "  </thead>\n",
       "  <tbody>\n",
       "    <tr>\n",
       "      <th>2032</th>\n",
       "      <td>7</td>\n",
       "      <td>T</td>\n",
       "      <td>SRR</td>\n",
       "      <td>3631114</td>\n",
       "      <td>140753336</td>\n",
       "      <td>44</td>\n",
       "      <td>36</td>\n",
       "      <td>140700000</td>\n",
       "      <td>A</td>\n",
       "      <td>True</td>\n",
       "    </tr>\n",
       "    <tr>\n",
       "      <th>2046</th>\n",
       "      <td>7</td>\n",
       "      <td>G</td>\n",
       "      <td>SRR</td>\n",
       "      <td>2961201</td>\n",
       "      <td>140753336</td>\n",
       "      <td>9</td>\n",
       "      <td>23</td>\n",
       "      <td>140700000</td>\n",
       "      <td>A</td>\n",
       "      <td>True</td>\n",
       "    </tr>\n",
       "    <tr>\n",
       "      <th>2047</th>\n",
       "      <td>7</td>\n",
       "      <td>C</td>\n",
       "      <td>SRR</td>\n",
       "      <td>2961201</td>\n",
       "      <td>140753336</td>\n",
       "      <td>5</td>\n",
       "      <td>16</td>\n",
       "      <td>140700000</td>\n",
       "      <td>A</td>\n",
       "      <td>True</td>\n",
       "    </tr>\n",
       "    <tr>\n",
       "      <th>3854</th>\n",
       "      <td>7</td>\n",
       "      <td>C</td>\n",
       "      <td>SRR</td>\n",
       "      <td>1060438</td>\n",
       "      <td>140753336</td>\n",
       "      <td>6</td>\n",
       "      <td>13</td>\n",
       "      <td>140700000</td>\n",
       "      <td>A</td>\n",
       "      <td>True</td>\n",
       "    </tr>\n",
       "    <tr>\n",
       "      <th>8067</th>\n",
       "      <td>7</td>\n",
       "      <td>C</td>\n",
       "      <td>SRR</td>\n",
       "      <td>1060416</td>\n",
       "      <td>140753336</td>\n",
       "      <td>8</td>\n",
       "      <td>7</td>\n",
       "      <td>140700000</td>\n",
       "      <td>A</td>\n",
       "      <td>True</td>\n",
       "    </tr>\n",
       "  </tbody>\n",
       "</table>\n",
       "</div>"
      ],
      "text/plain": [
       "b'features' b'Chr' b'base' b'Run_db'  Run_digits        Pos  ReadDepth  \\\n",
       "2032             7       T       SRR     3631114  140753336         44   \n",
       "2046             7       G       SRR     2961201  140753336          9   \n",
       "2047             7       C       SRR     2961201  140753336          5   \n",
       "3854             7       C       SRR     1060438  140753336          6   \n",
       "8067             7       C       SRR     1060416  140753336          8   \n",
       "\n",
       "b'features'  AverageBaseQuality      block RefBase  AltBase  \n",
       "2032                         36  140700000       A     True  \n",
       "2046                         23  140700000       A     True  \n",
       "2047                         16  140700000       A     True  \n",
       "3854                         13  140700000       A     True  \n",
       "8067                          7  140700000       A     True  "
      ]
     },
     "execution_count": 16,
     "metadata": {},
     "output_type": "execute_result"
    }
   ],
   "source": [
    "altBaseDf.head()"
   ]
  },
  {
   "cell_type": "code",
   "execution_count": 17,
   "metadata": {},
   "outputs": [],
   "source": [
    "altBaseDf=altBaseDf.set_index([b'Run_db','Run_digits'])"
   ]
  },
  {
   "cell_type": "markdown",
   "metadata": {},
   "source": [
    "### load in technical meta data\n",
    "\n",
    "For more information about the aliases used in the follow meta data:\n",
    "\n",
    "https://www.ncbi.nlm.nih.gov/books/NBK56913/\n",
    "\n"
   ]
  },
  {
   "cell_type": "code",
   "execution_count": 18,
   "metadata": {},
   "outputs": [],
   "source": [
    "sra_dump_pickle_dir='/cellar/users/btsui/Data/SRA/DUMP/sra_dump.pickle'\n",
    "\n",
    "technical_meta_data_df=pd.read_pickle(sra_dump_pickle_dir)"
   ]
  },
  {
   "cell_type": "code",
   "execution_count": 19,
   "metadata": {},
   "outputs": [
    {
     "data": {
      "text/plain": [
       "(3763299, 23)"
      ]
     },
     "execution_count": 19,
     "metadata": {},
     "output_type": "execute_result"
    }
   ],
   "source": [
    "technical_meta_data_df.shape"
   ]
  },
  {
   "cell_type": "markdown",
   "metadata": {},
   "source": [
    "#### use the techinical meta data table to backtrack which omic layers the study is from"
   ]
  },
  {
   "cell_type": "code",
   "execution_count": 20,
   "metadata": {},
   "outputs": [
    {
     "data": {
      "text/html": [
       "<div>\n",
       "<style scoped>\n",
       "    .dataframe tbody tr th:only-of-type {\n",
       "        vertical-align: middle;\n",
       "    }\n",
       "\n",
       "    .dataframe tbody tr th {\n",
       "        vertical-align: top;\n",
       "    }\n",
       "\n",
       "    .dataframe thead th {\n",
       "        text-align: right;\n",
       "    }\n",
       "</style>\n",
       "<table border=\"1\" class=\"dataframe\">\n",
       "  <thead>\n",
       "    <tr style=\"text-align: right;\">\n",
       "      <th></th>\n",
       "      <th>Member_Name</th>\n",
       "      <th>Experiment</th>\n",
       "      <th>Sample</th>\n",
       "      <th>Study</th>\n",
       "      <th>Spots</th>\n",
       "      <th>Bases</th>\n",
       "      <th>Status</th>\n",
       "      <th>ScientificName</th>\n",
       "      <th>LibraryStrategy</th>\n",
       "      <th>LibraryLayout</th>\n",
       "      <th>...</th>\n",
       "      <th>proj_accession_Published</th>\n",
       "      <th>proj_accession_Received</th>\n",
       "      <th>proj_accession_Type</th>\n",
       "      <th>proj_accession_Center</th>\n",
       "      <th>proj_accession_Visibility</th>\n",
       "      <th>proj_accession_Loaded</th>\n",
       "      <th>proj_accession_ReplacedBy</th>\n",
       "      <th>new_ScientificName</th>\n",
       "      <th>Run_db</th>\n",
       "      <th>Run_digits</th>\n",
       "    </tr>\n",
       "    <tr>\n",
       "      <th>Run</th>\n",
       "      <th></th>\n",
       "      <th></th>\n",
       "      <th></th>\n",
       "      <th></th>\n",
       "      <th></th>\n",
       "      <th></th>\n",
       "      <th></th>\n",
       "      <th></th>\n",
       "      <th></th>\n",
       "      <th></th>\n",
       "      <th></th>\n",
       "      <th></th>\n",
       "      <th></th>\n",
       "      <th></th>\n",
       "      <th></th>\n",
       "      <th></th>\n",
       "      <th></th>\n",
       "      <th></th>\n",
       "      <th></th>\n",
       "      <th></th>\n",
       "      <th></th>\n",
       "    </tr>\n",
       "  </thead>\n",
       "  <tbody>\n",
       "    <tr>\n",
       "      <th>SRR2401865</th>\n",
       "      <td>default</td>\n",
       "      <td>SRX1244330</td>\n",
       "      <td>SRS1068422</td>\n",
       "      <td>-</td>\n",
       "      <td>2800.0</td>\n",
       "      <td>1416405.0</td>\n",
       "      <td>live</td>\n",
       "      <td>soil_metagenome</td>\n",
       "      <td>AMPLICON</td>\n",
       "      <td>SINGLE</td>\n",
       "      <td>...</td>\n",
       "      <td>2015-09-20</td>\n",
       "      <td>2015-09-15</td>\n",
       "      <td>RUN</td>\n",
       "      <td>SUB1095135</td>\n",
       "      <td>public</td>\n",
       "      <td>1</td>\n",
       "      <td>-</td>\n",
       "      <td>soil_metagenome</td>\n",
       "      <td>SRR</td>\n",
       "      <td>2401865</td>\n",
       "    </tr>\n",
       "    <tr>\n",
       "      <th>SRR2401866</th>\n",
       "      <td>default</td>\n",
       "      <td>SRX1244331</td>\n",
       "      <td>SRS1068421</td>\n",
       "      <td>-</td>\n",
       "      <td>5082.0</td>\n",
       "      <td>2563605.0</td>\n",
       "      <td>live</td>\n",
       "      <td>soil_metagenome</td>\n",
       "      <td>AMPLICON</td>\n",
       "      <td>SINGLE</td>\n",
       "      <td>...</td>\n",
       "      <td>2015-09-20</td>\n",
       "      <td>2015-09-15</td>\n",
       "      <td>RUN</td>\n",
       "      <td>SUB1095135</td>\n",
       "      <td>public</td>\n",
       "      <td>1</td>\n",
       "      <td>-</td>\n",
       "      <td>soil_metagenome</td>\n",
       "      <td>SRR</td>\n",
       "      <td>2401866</td>\n",
       "    </tr>\n",
       "    <tr>\n",
       "      <th>SRR2401867</th>\n",
       "      <td>default</td>\n",
       "      <td>SRX1244332</td>\n",
       "      <td>SRS1068420</td>\n",
       "      <td>-</td>\n",
       "      <td>6169.0</td>\n",
       "      <td>3175528.0</td>\n",
       "      <td>live</td>\n",
       "      <td>soil_metagenome</td>\n",
       "      <td>AMPLICON</td>\n",
       "      <td>SINGLE</td>\n",
       "      <td>...</td>\n",
       "      <td>2015-09-20</td>\n",
       "      <td>2015-09-15</td>\n",
       "      <td>RUN</td>\n",
       "      <td>SUB1095135</td>\n",
       "      <td>public</td>\n",
       "      <td>1</td>\n",
       "      <td>-</td>\n",
       "      <td>soil_metagenome</td>\n",
       "      <td>SRR</td>\n",
       "      <td>2401867</td>\n",
       "    </tr>\n",
       "    <tr>\n",
       "      <th>SRR2401868</th>\n",
       "      <td>default</td>\n",
       "      <td>SRX1244333</td>\n",
       "      <td>SRS1068419</td>\n",
       "      <td>-</td>\n",
       "      <td>8102.0</td>\n",
       "      <td>4266915.0</td>\n",
       "      <td>live</td>\n",
       "      <td>soil_metagenome</td>\n",
       "      <td>AMPLICON</td>\n",
       "      <td>SINGLE</td>\n",
       "      <td>...</td>\n",
       "      <td>2015-09-20</td>\n",
       "      <td>2015-09-15</td>\n",
       "      <td>RUN</td>\n",
       "      <td>SUB1095135</td>\n",
       "      <td>public</td>\n",
       "      <td>1</td>\n",
       "      <td>-</td>\n",
       "      <td>soil_metagenome</td>\n",
       "      <td>SRR</td>\n",
       "      <td>2401868</td>\n",
       "    </tr>\n",
       "    <tr>\n",
       "      <th>SRR2401869</th>\n",
       "      <td>default</td>\n",
       "      <td>SRX1244334</td>\n",
       "      <td>SRS1068418</td>\n",
       "      <td>-</td>\n",
       "      <td>4971.0</td>\n",
       "      <td>2519200.0</td>\n",
       "      <td>live</td>\n",
       "      <td>soil_metagenome</td>\n",
       "      <td>AMPLICON</td>\n",
       "      <td>SINGLE</td>\n",
       "      <td>...</td>\n",
       "      <td>2015-09-20</td>\n",
       "      <td>2015-09-15</td>\n",
       "      <td>RUN</td>\n",
       "      <td>SUB1095135</td>\n",
       "      <td>public</td>\n",
       "      <td>1</td>\n",
       "      <td>-</td>\n",
       "      <td>soil_metagenome</td>\n",
       "      <td>SRR</td>\n",
       "      <td>2401869</td>\n",
       "    </tr>\n",
       "  </tbody>\n",
       "</table>\n",
       "<p>5 rows × 23 columns</p>\n",
       "</div>"
      ],
      "text/plain": [
       "           Member_Name  Experiment      Sample Study   Spots      Bases  \\\n",
       "Run                                                                       \n",
       "SRR2401865     default  SRX1244330  SRS1068422     -  2800.0  1416405.0   \n",
       "SRR2401866     default  SRX1244331  SRS1068421     -  5082.0  2563605.0   \n",
       "SRR2401867     default  SRX1244332  SRS1068420     -  6169.0  3175528.0   \n",
       "SRR2401868     default  SRX1244333  SRS1068419     -  8102.0  4266915.0   \n",
       "SRR2401869     default  SRX1244334  SRS1068418     -  4971.0  2519200.0   \n",
       "\n",
       "           Status   ScientificName LibraryStrategy LibraryLayout    ...      \\\n",
       "Run                                                                 ...       \n",
       "SRR2401865   live  soil_metagenome        AMPLICON        SINGLE    ...       \n",
       "SRR2401866   live  soil_metagenome        AMPLICON        SINGLE    ...       \n",
       "SRR2401867   live  soil_metagenome        AMPLICON        SINGLE    ...       \n",
       "SRR2401868   live  soil_metagenome        AMPLICON        SINGLE    ...       \n",
       "SRR2401869   live  soil_metagenome        AMPLICON        SINGLE    ...       \n",
       "\n",
       "           proj_accession_Published proj_accession_Received  \\\n",
       "Run                                                           \n",
       "SRR2401865               2015-09-20              2015-09-15   \n",
       "SRR2401866               2015-09-20              2015-09-15   \n",
       "SRR2401867               2015-09-20              2015-09-15   \n",
       "SRR2401868               2015-09-20              2015-09-15   \n",
       "SRR2401869               2015-09-20              2015-09-15   \n",
       "\n",
       "           proj_accession_Type proj_accession_Center  \\\n",
       "Run                                                    \n",
       "SRR2401865                 RUN            SUB1095135   \n",
       "SRR2401866                 RUN            SUB1095135   \n",
       "SRR2401867                 RUN            SUB1095135   \n",
       "SRR2401868                 RUN            SUB1095135   \n",
       "SRR2401869                 RUN            SUB1095135   \n",
       "\n",
       "           proj_accession_Visibility proj_accession_Loaded  \\\n",
       "Run                                                          \n",
       "SRR2401865                    public                     1   \n",
       "SRR2401866                    public                     1   \n",
       "SRR2401867                    public                     1   \n",
       "SRR2401868                    public                     1   \n",
       "SRR2401869                    public                     1   \n",
       "\n",
       "           proj_accession_ReplacedBy new_ScientificName Run_db Run_digits  \n",
       "Run                                                                        \n",
       "SRR2401865                         -    soil_metagenome    SRR    2401865  \n",
       "SRR2401866                         -    soil_metagenome    SRR    2401866  \n",
       "SRR2401867                         -    soil_metagenome    SRR    2401867  \n",
       "SRR2401868                         -    soil_metagenome    SRR    2401868  \n",
       "SRR2401869                         -    soil_metagenome    SRR    2401869  \n",
       "\n",
       "[5 rows x 23 columns]"
      ]
     },
     "execution_count": 20,
     "metadata": {},
     "output_type": "execute_result"
    }
   ],
   "source": [
    "technical_meta_data_df.head()"
   ]
  },
  {
   "cell_type": "code",
   "execution_count": 21,
   "metadata": {},
   "outputs": [],
   "source": [
    "technical_meta_data_df['Run']=technical_meta_data_df.index"
   ]
  },
  {
   "cell_type": "code",
   "execution_count": 22,
   "metadata": {},
   "outputs": [],
   "source": [
    "technical_meta_data_df=technical_meta_data_df.set_index(['Run_db','Run_digits'])#.index.isin(altBaseDf.index)"
   ]
  },
  {
   "cell_type": "code",
   "execution_count": 23,
   "metadata": {},
   "outputs": [],
   "source": [
    "hitSrrDf=technical_meta_data_df[technical_meta_data_df.index.isin(altBaseDf.index)]"
   ]
  },
  {
   "cell_type": "code",
   "execution_count": 24,
   "metadata": {},
   "outputs": [
    {
     "data": {
      "text/plain": [
       "Text(0,0.5,'# of sequencing runs')"
      ]
     },
     "execution_count": 24,
     "metadata": {},
     "output_type": "execute_result"
    },
    {
     "data": {
      "image/png": "[encoded data removed]",
      "text/plain": [
       "<Figure size 432x288 with 1 Axes>"
      ]
     },
     "metadata": {},
     "output_type": "display_data"
    }
   ],
   "source": [
    "VC=hitSrrDf.LibraryStrategy.value_counts()\n",
    "ax=VC[VC>0].to_frame('Data layers').plot.bar()\n",
    "ax.set_ylabel('# of sequencing runs')"
   ]
  },
  {
   "cell_type": "markdown",
   "metadata": {},
   "source": [
    "# compare with CDK4 and CDK6 expression\n",
    "\n",
    "* Given that: BRAFV600 mutation is associated proliferation. \n",
    "* We should observe stronger proliferation signal: And in this example we use CDK4 and CDK6 expression level as read out for proliferaiton: \n",
    "http://cancerdiscovery.aacrjournals.org/content/6/4/353"
   ]
  },
  {
   "cell_type": "markdown",
   "metadata": {},
   "source": [
    "### memory map the expression data matrix"
   ]
  },
  {
   "cell_type": "code",
   "execution_count": 25,
   "metadata": {},
   "outputs": [],
   "source": [
    "\n",
    "def loadDf(fname,mmap_mode='r'):\n",
    "    with open(fname+'.index.txt') as f:\n",
    "        myIndex=map(lambda s:s.replace(\"\\n\",\"\"), f.readlines())\n",
    "    with open(fname+'.columns.txt') as f:\n",
    "        myColumns=map(lambda s:s.replace(\"\\n\",\"\"), f.readlines())\n",
    "    tmpMatrix=np.load(fname+\".npy\",mmap_mode=mmap_mode)\n",
    "    tmpDf=pd.DataFrame(tmpMatrix,index=myIndex,columns=myColumns)\n",
    "    tmpDf.columns.name='Run'\n",
    "    return tmpDf"
   ]
  },
  {
   "cell_type": "code",
   "execution_count": 26,
   "metadata": {},
   "outputs": [],
   "source": [
    "expression_metric='TPM'\n",
    "#change this to where the matrix is located on your computer\n",
    "baseDir='/cellar/users/btsui/Data/nrnb01_nobackup/Data/SRA/MATRIX/DATA/hgGRC38/'\n",
    "data_matrix_dir_fmt=baseDir+'/allSRAmatrix.realign.v9.base.{feature}.gene.symbol'.format(feature=expression_metric)\n",
    "rnaseqDf=loadDf(data_matrix_dir_fmt)"
   ]
  },
  {
   "cell_type": "markdown",
   "metadata": {},
   "source": [
    "### dimension of expression dataframe "
   ]
  },
  {
   "cell_type": "code",
   "execution_count": 27,
   "metadata": {},
   "outputs": [
    {
     "data": {
      "text/plain": [
       "(27233, 126064)"
      ]
     },
     "execution_count": 27,
     "metadata": {},
     "output_type": "execute_result"
    }
   ],
   "source": [
    "rnaseqDf.shape"
   ]
  },
  {
   "cell_type": "markdown",
   "metadata": {},
   "source": [
    "### head of expression dataframe"
   ]
  },
  {
   "cell_type": "code",
   "execution_count": 28,
   "metadata": {},
   "outputs": [
    {
     "data": {
      "text/html": [
       "<div>\n",
       "<style scoped>\n",
       "    .dataframe tbody tr th:only-of-type {\n",
       "        vertical-align: middle;\n",
       "    }\n",
       "\n",
       "    .dataframe tbody tr th {\n",
       "        vertical-align: top;\n",
       "    }\n",
       "\n",
       "    .dataframe thead th {\n",
       "        text-align: right;\n",
       "    }\n",
       "</style>\n",
       "<table border=\"1\" class=\"dataframe\">\n",
       "  <thead>\n",
       "    <tr style=\"text-align: right;\">\n",
       "      <th>Run</th>\n",
       "      <th>SRR4456480</th>\n",
       "      <th>SRR4456481</th>\n",
       "      <th>SRR4456482</th>\n",
       "      <th>SRR4456483</th>\n",
       "      <th>SRR4456484</th>\n",
       "      <th>SRR4456485</th>\n",
       "      <th>SRR4456486</th>\n",
       "      <th>SRR4456487</th>\n",
       "      <th>SRR4456488</th>\n",
       "      <th>SRR4456489</th>\n",
       "      <th>...</th>\n",
       "      <th>SRR3126580</th>\n",
       "      <th>SRR3126581</th>\n",
       "      <th>SRR5076964</th>\n",
       "      <th>SRR5076965</th>\n",
       "      <th>SRR5076966</th>\n",
       "      <th>SRR5076967</th>\n",
       "      <th>SRR5076960</th>\n",
       "      <th>SRR5076961</th>\n",
       "      <th>SRR5076962</th>\n",
       "      <th>SRR3126589</th>\n",
       "    </tr>\n",
       "  </thead>\n",
       "  <tbody>\n",
       "    <tr>\n",
       "      <th>A1BG</th>\n",
       "      <td>0.000000</td>\n",
       "      <td>0.00000</td>\n",
       "      <td>0.00000</td>\n",
       "      <td>0.0</td>\n",
       "      <td>0.0</td>\n",
       "      <td>43.4725</td>\n",
       "      <td>42.39500</td>\n",
       "      <td>0.0</td>\n",
       "      <td>0.0000</td>\n",
       "      <td>0.0000</td>\n",
       "      <td>...</td>\n",
       "      <td>13.633400</td>\n",
       "      <td>16.613701</td>\n",
       "      <td>30.397053</td>\n",
       "      <td>38.792152</td>\n",
       "      <td>28.311970</td>\n",
       "      <td>41.916702</td>\n",
       "      <td>21.123585</td>\n",
       "      <td>43.892700</td>\n",
       "      <td>27.982466</td>\n",
       "      <td>10.015800</td>\n",
       "    </tr>\n",
       "    <tr>\n",
       "      <th>A1CF</th>\n",
       "      <td>0.000000</td>\n",
       "      <td>0.00000</td>\n",
       "      <td>0.00000</td>\n",
       "      <td>0.0</td>\n",
       "      <td>0.0</td>\n",
       "      <td>0.0000</td>\n",
       "      <td>0.00000</td>\n",
       "      <td>0.0</td>\n",
       "      <td>0.0000</td>\n",
       "      <td>0.0000</td>\n",
       "      <td>...</td>\n",
       "      <td>1.008490</td>\n",
       "      <td>0.731485</td>\n",
       "      <td>0.522371</td>\n",
       "      <td>0.619676</td>\n",
       "      <td>1.073180</td>\n",
       "      <td>1.200200</td>\n",
       "      <td>1.149905</td>\n",
       "      <td>0.359585</td>\n",
       "      <td>2.151589</td>\n",
       "      <td>0.000000</td>\n",
       "    </tr>\n",
       "    <tr>\n",
       "      <th>A2M</th>\n",
       "      <td>0.000000</td>\n",
       "      <td>9.68203</td>\n",
       "      <td>9.63777</td>\n",
       "      <td>0.0</td>\n",
       "      <td>0.0</td>\n",
       "      <td>0.0000</td>\n",
       "      <td>0.00000</td>\n",
       "      <td>0.0</td>\n",
       "      <td>10.2231</td>\n",
       "      <td>15.0466</td>\n",
       "      <td>...</td>\n",
       "      <td>0.000000</td>\n",
       "      <td>1.022370</td>\n",
       "      <td>2.237999</td>\n",
       "      <td>1.686480</td>\n",
       "      <td>1.736842</td>\n",
       "      <td>2.459877</td>\n",
       "      <td>2.030084</td>\n",
       "      <td>2.870860</td>\n",
       "      <td>1.394481</td>\n",
       "      <td>0.147562</td>\n",
       "    </tr>\n",
       "    <tr>\n",
       "      <th>A2ML1</th>\n",
       "      <td>90.239403</td>\n",
       "      <td>0.00000</td>\n",
       "      <td>0.00000</td>\n",
       "      <td>0.0</td>\n",
       "      <td>0.0</td>\n",
       "      <td>0.0000</td>\n",
       "      <td>4.50392</td>\n",
       "      <td>0.0</td>\n",
       "      <td>0.0000</td>\n",
       "      <td>0.0000</td>\n",
       "      <td>...</td>\n",
       "      <td>0.383746</td>\n",
       "      <td>0.222499</td>\n",
       "      <td>0.738123</td>\n",
       "      <td>1.604510</td>\n",
       "      <td>1.749147</td>\n",
       "      <td>1.575887</td>\n",
       "      <td>0.630090</td>\n",
       "      <td>0.466597</td>\n",
       "      <td>0.836070</td>\n",
       "      <td>0.000000</td>\n",
       "    </tr>\n",
       "    <tr>\n",
       "      <th>A2MP1</th>\n",
       "      <td>0.000000</td>\n",
       "      <td>0.00000</td>\n",
       "      <td>0.00000</td>\n",
       "      <td>0.0</td>\n",
       "      <td>0.0</td>\n",
       "      <td>0.0000</td>\n",
       "      <td>0.00000</td>\n",
       "      <td>0.0</td>\n",
       "      <td>0.0000</td>\n",
       "      <td>0.0000</td>\n",
       "      <td>...</td>\n",
       "      <td>0.000000</td>\n",
       "      <td>0.000000</td>\n",
       "      <td>0.000000</td>\n",
       "      <td>1.862630</td>\n",
       "      <td>0.000000</td>\n",
       "      <td>0.000000</td>\n",
       "      <td>0.000000</td>\n",
       "      <td>0.000000</td>\n",
       "      <td>0.000000</td>\n",
       "      <td>0.000000</td>\n",
       "    </tr>\n",
       "  </tbody>\n",
       "</table>\n",
       "<p>5 rows × 126064 columns</p>\n",
       "</div>"
      ],
      "text/plain": [
       "Run    SRR4456480  SRR4456481  SRR4456482  SRR4456483  SRR4456484  SRR4456485  \\\n",
       "A1BG     0.000000     0.00000     0.00000         0.0         0.0     43.4725   \n",
       "A1CF     0.000000     0.00000     0.00000         0.0         0.0      0.0000   \n",
       "A2M      0.000000     9.68203     9.63777         0.0         0.0      0.0000   \n",
       "A2ML1   90.239403     0.00000     0.00000         0.0         0.0      0.0000   \n",
       "A2MP1    0.000000     0.00000     0.00000         0.0         0.0      0.0000   \n",
       "\n",
       "Run    SRR4456486  SRR4456487  SRR4456488  SRR4456489     ...      SRR3126580  \\\n",
       "A1BG     42.39500         0.0      0.0000      0.0000     ...       13.633400   \n",
       "A1CF      0.00000         0.0      0.0000      0.0000     ...        1.008490   \n",
       "A2M       0.00000         0.0     10.2231     15.0466     ...        0.000000   \n",
       "A2ML1     4.50392         0.0      0.0000      0.0000     ...        0.383746   \n",
       "A2MP1     0.00000         0.0      0.0000      0.0000     ...        0.000000   \n",
       "\n",
       "Run    SRR3126581  SRR5076964  SRR5076965  SRR5076966  SRR5076967  SRR5076960  \\\n",
       "A1BG    16.613701   30.397053   38.792152   28.311970   41.916702   21.123585   \n",
       "A1CF     0.731485    0.522371    0.619676    1.073180    1.200200    1.149905   \n",
       "A2M      1.022370    2.237999    1.686480    1.736842    2.459877    2.030084   \n",
       "A2ML1    0.222499    0.738123    1.604510    1.749147    1.575887    0.630090   \n",
       "A2MP1    0.000000    0.000000    1.862630    0.000000    0.000000    0.000000   \n",
       "\n",
       "Run    SRR5076961  SRR5076962  SRR3126589  \n",
       "A1BG    43.892700   27.982466   10.015800  \n",
       "A1CF     0.359585    2.151589    0.000000  \n",
       "A2M      2.870860    1.394481    0.147562  \n",
       "A2ML1    0.466597    0.836070    0.000000  \n",
       "A2MP1    0.000000    0.000000    0.000000  \n",
       "\n",
       "[5 rows x 126064 columns]"
      ]
     },
     "execution_count": 28,
     "metadata": {},
     "output_type": "execute_result"
    }
   ],
   "source": [
    "rnaseqDf.head()"
   ]
  },
  {
   "cell_type": "code",
   "execution_count": 29,
   "metadata": {},
   "outputs": [
    {
     "name": "stdout",
     "output_type": "stream",
     "text": [
      "CPU times: user 92 ms, sys: 584 ms, total: 676 ms\n",
      "Wall time: 16.9 s\n"
     ]
    }
   ],
   "source": [
    "%%time \n",
    "A=rnaseqDf.loc[:,rnaseqDf.columns.isin(hitSrrDf['Run'].values)]"
   ]
  },
  {
   "cell_type": "markdown",
   "metadata": {},
   "source": [
    "#### randomly sample a background"
   ]
  },
  {
   "cell_type": "code",
   "execution_count": 30,
   "metadata": {},
   "outputs": [],
   "source": [
    "n=A.shape[1]\n",
    "backgroundSrrs=rnaseqDf.columns.to_series().sample(n=n).values\n",
    "B=rnaseqDf.loc[:,backgroundSrrs]"
   ]
  },
  {
   "cell_type": "markdown",
   "metadata": {},
   "source": [
    "#### query the CDK4 and CDK6 expression levels "
   ]
  },
  {
   "cell_type": "code",
   "execution_count": 31,
   "metadata": {},
   "outputs": [],
   "source": [
    "inGenes=['CDK4','CDK6']"
   ]
  },
  {
   "cell_type": "code",
   "execution_count": 32,
   "metadata": {},
   "outputs": [],
   "source": [
    "caseLabel='With BRAF V600 mutation\\n n='+str(n)\n",
    "ctrlLabel='CTRL\\n n='+str(n)\n",
    "exprDf=np.log2(pd.concat([ A.loc[inGenes],B.loc[inGenes]],axis=1,keys=[caseLabel,ctrlLabel],names=['Status'])+1)\n",
    "exprDf.index.name='Gene'"
   ]
  },
  {
   "cell_type": "code",
   "execution_count": 33,
   "metadata": {},
   "outputs": [
    {
     "data": {
      "text/plain": [
       "<seaborn.axisgrid.FacetGrid at 0x2ac377681940>"
      ]
     },
     "execution_count": 33,
     "metadata": {},
     "output_type": "execute_result"
    },
    {
     "data": {
      "image/png": "[encoded data removed]",
      "text/plain": [
       "<Figure size 432x216 with 2 Axes>"
      ]
     },
     "metadata": {},
     "output_type": "display_data"
    }
   ],
   "source": [
    "from scipy import stats\n",
    "import seaborn as sns\n",
    "yLabel='log2(TPM+1)'\n",
    "inDf=exprDf.T.stack().reset_index(name=yLabel)\n",
    "inPlotDf=inDf[inDf[yLabel]>0.5]### an arbitrary threshold to throw away the tail at 0\n",
    "sns.factorplot(data=inPlotDf,col='Gene',x='Status',y=yLabel,showfliers=False,kind='box',sharey=False,size=3)\n"
   ]
  },
  {
   "cell_type": "markdown",
   "metadata": {},
   "source": [
    "yay, p-values are less than 0.05 (if you follow the p-values cult)"
   ]
  },
  {
   "cell_type": "code",
   "execution_count": 34,
   "metadata": {},
   "outputs": [
    {
     "name": "stdout",
     "output_type": "stream",
     "text": [
      "CDK4 2.2212820518863575e-09\n",
      "CDK6 3.5036915244467543e-34\n"
     ]
    }
   ],
   "source": [
    "for inGene in inGenes:\n",
    "    tmpDf=inPlotDf[inPlotDf['Gene']==inGene]\n",
    "    tmp_A=tmpDf[tmpDf['Status']==caseLabel][yLabel]\n",
    "    tmp_B=tmpDf[tmpDf['Status']==ctrlLabel][yLabel]\n",
    "    t,p=stats.ttest_ind(tmp_A,tmp_B)\n",
    "    print (inGene,p)"
   ]
  },
  {
   "cell_type": "markdown",
   "metadata": {},
   "source": [
    "### What are the labels extracted from annotations of sequencing runs with BRAF V600 mutations\n"
   ]
  },
  {
   "cell_type": "markdown",
   "metadata": {},
   "source": [
    "### load in biological meta data\n",
    "\n",
    "For more information about bio_metaDf columns:\n",
    "\n",
    "Sample: https://www.ncbi.nlm.nih.gov/books/NBK56913/\n",
    "\n",
    "attribute: https://www.ncbi.nlm.nih.gov/biosample/docs/attributes/\n",
    "\n",
    "NCIT_Eng, NCIT_ID: https://ncit.nci.nih.gov/\n",
    "\n",
    "NLM_CUI: https://www.nlm.nih.gov/research/umls/new_users/online_learning/Meta_005.html\n",
    "\n",
    "The NLP tool used for mapping freetexts to terms is called metamap:\n",
    "https://metamap.nlm.nih.gov/"
   ]
  },
  {
   "cell_type": "code",
   "execution_count": 35,
   "metadata": {},
   "outputs": [],
   "source": [
    "metaDataMappingSDir='/cellar/users/btsui/Data/nrnb01_nobackup/METAMAP//input/allAttrib.v5.csv.NCI.prefilter.pyc'\n",
    "bio_metaDf=pd.read_pickle(metaDataMappingSDir)"
   ]
  },
  {
   "cell_type": "markdown",
   "metadata": {},
   "source": [
    "Millions of biological annotations have NLP key words extracted with high number of unique terms, suggesting that public data deposited in SRA has both high volumne and diversity in experimental conditions. "
   ]
  },
  {
   "cell_type": "code",
   "execution_count": 36,
   "metadata": {},
   "outputs": [
    {
     "ename": "SyntaxError",
     "evalue": "invalid syntax (<ipython-input-36-eeb53e159da6>, line 1)",
     "output_type": "error",
     "traceback": [
      "\u001b[0;36m  File \u001b[0;32m\"<ipython-input-36-eeb53e159da6>\"\u001b[0;36m, line \u001b[0;32m1\u001b[0m\n\u001b[0;31m    print '# of unique biological sample annotations with terms extracted:',bio_metaDf['srs'].nunique()\u001b[0m\n\u001b[0m                                                                          ^\u001b[0m\n\u001b[0;31mSyntaxError\u001b[0m\u001b[0;31m:\u001b[0m invalid syntax\n"
     ]
    }
   ],
   "source": [
    "print '# of unique biological sample annotations with terms extracted:',bio_metaDf['srs'].nunique()"
   ]
  },
  {
   "cell_type": "code",
   "execution_count": null,
   "metadata": {},
   "outputs": [],
   "source": [
    "print '# of unique biomedical terms:',bio_metaDf['NCI'].nunique()"
   ]
  },
  {
   "cell_type": "code",
   "execution_count": null,
   "metadata": {},
   "outputs": [],
   "source": []
  },
  {
   "cell_type": "markdown",
   "metadata": {},
   "source": [
    "#### slice out the biological meta data associated with BRAF V600 mutations"
   ]
  },
  {
   "cell_type": "code",
   "execution_count": null,
   "metadata": {},
   "outputs": [],
   "source": [
    "hitMetaDf=bio_metaDf[bio_metaDf.srs.isin(hitSrrDf['Sample'].unique())]"
   ]
  },
  {
   "cell_type": "markdown",
   "metadata": {},
   "source": [
    "### the attributes associated with the meta data\n",
    "\n",
    "picking the restricted attributes you key to slice on usually improve relevancy of labels"
   ]
  },
  {
   "cell_type": "code",
   "execution_count": null,
   "metadata": {},
   "outputs": [],
   "source": [
    "hitMetaDf['attrib'].value_counts().head(n=10)"
   ]
  },
  {
   "cell_type": "markdown",
   "metadata": {},
   "source": [
    "### most commmon terms from annotations of sequencing runs with BRAF V600 mutations\n",
    "\n",
    "It is unsurprising that \"Melnaoma\" is in one of the top terms. "
   ]
  },
  {
   "cell_type": "code",
   "execution_count": null,
   "metadata": {},
   "outputs": [],
   "source": [
    "selected_attribs=['source name','TITLE','tissue','phenotype']\n",
    "ax=hitMetaDf[hitMetaDf['attrib'].isin(selected_attribs)]['NciEng'].value_counts().head(n=30).plot.bar()#.drop_duplicates()\n",
    "ax.set_ylabel('# of sequencing runs')"
   ]
  },
  {
   "cell_type": "markdown",
   "metadata": {},
   "source": [
    "### use ontology to identify relevant terms\n",
    "\n",
    "take only tissue and disease relevant terms by taking the children terms of the term \"Tissue\""
   ]
  },
  {
   "cell_type": "code",
   "execution_count": null,
   "metadata": {},
   "outputs": [],
   "source": [
    "import NCITerminology as NCIT"
   ]
  },
  {
   "cell_type": "code",
   "execution_count": null,
   "metadata": {},
   "outputs": [],
   "source": [
    "onto=NCIT.NCITerminology()"
   ]
  },
  {
   "cell_type": "code",
   "execution_count": null,
   "metadata": {},
   "outputs": [],
   "source": [
    "### subset the edges to traverse only part_of, is_a and disease edges\n",
    "is_a_rels=onto.relToEng[onto.relToEng.str.lower().str.contains('(?:has[\\w_]+_parent)|(?:disease)')].index.tolist()+['is_a','R82']\n",
    "onto.setCellOntoEdgeSubset(is_a_rels)"
   ]
  },
  {
   "cell_type": "code",
   "execution_count": null,
   "metadata": {},
   "outputs": [],
   "source": [
    "onto.cleanedIdS[onto.cleanedIdS.str.contains('^Tissue$')]"
   ]
  },
  {
   "cell_type": "code",
   "execution_count": null,
   "metadata": {},
   "outputs": [],
   "source": [
    "childrenTerms=(onto.childrenTermsOf('C12801'))"
   ]
  },
  {
   "cell_type": "code",
   "execution_count": null,
   "metadata": {},
   "outputs": [],
   "source": [
    "ax=hitMetaDf[hitMetaDf['attrib'].isin(selected_attribs)&hitMetaDf['NCI'].isin(childrenTerms)]['NciEng'].value_counts().head(n=30).plot.bar()#.drop_duplicates()\n",
    "ax.set_ylabel('# of sequencing runs')"
   ]
  },
  {
   "cell_type": "markdown",
   "metadata": {},
   "source": [
    "### What are the experiments with BRAF V600 mutation that are extracted from Bone?"
   ]
  },
  {
   "cell_type": "code",
   "execution_count": null,
   "metadata": {},
   "outputs": [],
   "source": [
    "myHitTechnicalDf=technical_meta_data_df[technical_meta_data_df['Sample'].isin(hitMetaDf[(hitMetaDf['NciEng']=='Bone')]['srs'].values)]"
   ]
  },
  {
   "cell_type": "markdown",
   "metadata": {},
   "source": [
    "### the top experiment is from this study"
   ]
  },
  {
   "cell_type": "code",
   "execution_count": null,
   "metadata": {},
   "outputs": [],
   "source": [
    "myHitTechnicalDf['Study'].value_counts().head(n=2)"
   ]
  },
  {
   "cell_type": "markdown",
   "metadata": {},
   "source": [
    "It is rather unexpected that the term \"Bone\" is the most freqeunt term. \n",
    "And when I reference SRA db: \n",
    "https://www.ncbi.nlm.nih.gov/sra/?term=SRP067759\n",
    "It is showing this single cell leukemia RNAseq study study: https://www.nature.com/articles/nm.4336\n",
    ", where luekemia begins in bone marrow.\n",
    "\n",
    "The BRAF V600 mutation is not mentioned in their study,\n",
    "but there are multiple evidence to support the confidence of this mutation:\n",
    "\n",
    "1. Many of their allelic read counts usually have the A->T mutation, which is the more common transition for oncogenic transformation.\n",
    "2. High read depth for alternative allele (T) across across many experiments.\n",
    "3. High base quality for the alternative allele (T)\n",
    "\n"
   ]
  },
  {
   "cell_type": "code",
   "execution_count": null,
   "metadata": {},
   "outputs": [],
   "source": [
    "queryPosDf=myChrPosDf[(myChrPosDf['Pos']==queryPosition)].set_index(['Run_db','Run_digits'])"
   ]
  },
  {
   "cell_type": "code",
   "execution_count": null,
   "metadata": {},
   "outputs": [],
   "source": [
    "queryPosDf['log10_ReadDepth']=np.log10(queryPosDf['ReadDepth'])"
   ]
  },
  {
   "cell_type": "code",
   "execution_count": null,
   "metadata": {},
   "outputs": [],
   "source": [
    "subHitDf=queryPosDf.loc[queryPosDf.index.isin(myHitTechnicalDf.index)]"
   ]
  },
  {
   "cell_type": "markdown",
   "metadata": {},
   "source": [
    "a lot of the RNAseq samples have alternative allele, T, detected"
   ]
  },
  {
   "cell_type": "code",
   "execution_count": null,
   "metadata": {},
   "outputs": [],
   "source": [
    "ax=subHitDf.groupby(['base']).size().sort_values(ascending=False).plot.bar()\n",
    "ax.set_ylabel('# of sequencing runs with more than 5 reads at base')"
   ]
  },
  {
   "cell_type": "markdown",
   "metadata": {},
   "source": [
    "the alternative allele T has high read depth over all the leukemia RNAseq samples"
   ]
  },
  {
   "cell_type": "code",
   "execution_count": null,
   "metadata": {},
   "outputs": [],
   "source": [
    "sns.boxplot(data=queryPosDf.loc[queryPosDf.index.isin(myHitTechnicalDf.index)].dropna(),x='base',y='log10_ReadDepth')"
   ]
  },
  {
   "cell_type": "markdown",
   "metadata": {},
   "source": [
    "the alternative allele T often have high base quality over all the leukemia RNAseq samples"
   ]
  },
  {
   "cell_type": "code",
   "execution_count": null,
   "metadata": {},
   "outputs": [],
   "source": [
    "sns.boxplot(data=queryPosDf.loc[queryPosDf.index.isin(myHitTechnicalDf.index)].dropna(),x='base',y='AverageBaseQuality')"
   ]
  },
  {
   "cell_type": "markdown",
   "metadata": {},
   "source": [
    "### tally them mory usage \n",
    "\n",
    "For performance reason, we try to keep as much data in memory as possible. \n",
    "Metadata is small, genomic data is big. \n",
    "Metadata is stored in a single pickle.\n",
    "\n",
    "Molecular data can't be loaded in memory therefore, we keep the molecular data on disk and load them in when needed.\n",
    "1. SNP data is stored in chunks of HDF5 object. We ignored the last 5 digits in the genomic position and use the prefix as the chunk name. \n",
    "2. Expression data is stored as a single numpy matrix, which offer memory mapping "
   ]
  },
  {
   "cell_type": "code",
   "execution_count": null,
   "metadata": {},
   "outputs": [],
   "source": [
    "print 'memory used by technical meta dataframe(GB):',float(technical_meta_data_df.memory_usage().sum())/10**9"
   ]
  },
  {
   "cell_type": "code",
   "execution_count": null,
   "metadata": {},
   "outputs": [],
   "source": [
    "print 'memory used by biological meta dataframe(GB):',float(bio_metaDf.memory_usage().sum())/10**9"
   ]
  },
  {
   "cell_type": "markdown",
   "metadata": {},
   "source": [
    "### size of disk usage"
   ]
  },
  {
   "cell_type": "markdown",
   "metadata": {},
   "source": [
    "1. snp data takes roughly 200G of the disk space once decompressed\n",
    "2. expression matrix takes roughly 20G\n"
   ]
  },
  {
   "cell_type": "code",
   "execution_count": null,
   "metadata": {},
   "outputs": [],
   "source": [
    "!ls -laht /cellar/users/btsui/Data/SRA/snp/Homo_sapiens_snp_pos/  | head -n 1"
   ]
  },
  {
   "cell_type": "code",
   "execution_count": null,
   "metadata": {},
   "outputs": [],
   "source": [
    "!ls -lah /cellar/users/btsui/Data/nrnb01_nobackup/Data/SRA/MATRIX/DATA/hgGRC38/allSRAmatrix.realign.v9.base.TPM.gene.symbol.npy"
   ]
  },
  {
   "cell_type": "markdown",
   "metadata": {},
   "source": [
    "# more examples"
   ]
  },
  {
   "cell_type": "markdown",
   "metadata": {
    "collapsed": true
   },
   "source": [
    "#### High resolution mouse developmental hierachy map\n",
    "[Link](https://github.com/brianyiktaktsui/Skymap/blob/master/jupyter-notebooks/clean_notebooks/TemporalQuery_V4_all_clean.ipynb\n",
    ")\n",
    "\n",
    "Aggregating many studies (node) to form a smooth mouse developmental hierachy map. \n",
    "\n",
    "Each componenet represent a tissue. Each node represent a particular study at a particular time unit. The color is base on the developmental time extracted from experimental annotation using regex. The node size represent the # of sequencing runs in that particulr time point and study. Each edge represent a differentiate-to or part-of relationship.\n",
    "![alt text](./Figures/heirachy_time.png \"Logo Title Text 1\")\n",
    "And you can easily overlay gene expression level on top of it. As an example, Tp53 expression is known to be tightly regulated in development. Let's look at the dynamic of Tp53 expression over time and spatial locations in the following plot.\n",
    "![alt_text](./Figures/heirachy_Trp53.png \"tp53\")\n",
    "\n",
    "#### simple data slicing and hypothesis testing\n",
    "[Link](https://github.com/brianyiktaktsui/Skymap/blob/master/DataSlicingExample.ipynb)\n",
    "\n",
    "[Check here for more example notebooks](https://github.com/brianyiktaktsui/Skymap/tree/master/jupyter-notebooks\n",
    ")\n",
    "\n",
    "The code for the pipelines is here:\n",
    "https://github.com/brianyiktaktsui/Skymap/tree/master/code\n",
    "\n",
    "\n",
    "# In long: \n",
    "## Motivation: Pooling processed data from multiple studies is time-consuming: \n",
    "When I first started in bioinformatic couple years ago, I spent much of my time doing two things: 1.) cleaning omic data matrices, e.g. mapping between gene IDs (hgnc, enseml, ucsc, etc.) for processed data matrices, trying all sort of different bioinformatics pipelines that yield basically the same results, investigating what is the exact unit being counted over when pulling data from public database, etc.  2.) cleaning metadata annotation, which usually involves extracting and aliasing the labels to the exact same categories. \n",
    "\n",
    "This question came to my mind: Can we merge and reduce the peta-bytes worth of public omic data in a table while capturing the commonly used information that can fit into your hard drive (<500 GB), like firehose for TCGA data? \n",
    "\n",
    "## Solution: An automated pipeline to generate a single data matrix that does simple counting for each specie and omic layer \n",
    "What I am offering in here is a metadata table and a single data matrix for each omic layer that encapsulate majority of the public data out there. I do believe that “Science started with counting” (from “Cancer: Emperor of all malady” by Siddhartha Mukherjee), and thus I offer raw counts for all the features: 1. ) the  base resolution ACGT counts for over 200k experiments among NCBI curated SNPs, where read depth and allelic fraction are usually the main drivers for SNP calling. We also offer an expression matrix, where most counts at both transcript and gene resolution, where most normalization can be done post-hoc. \n",
    "The metadata table consists of controlled vocabulary (NCI Terminology) from free text annotations of each experiment. I used the NLM metamap engine for this purpose. The nice thing is that the UMLS ecosystem from NLM allow the IDs (Concept Unique Identifiers) to be mapped onto different ontology hierarchy to relate the terms. \n",
    "The pipeline in here is trying to suit the needs of the common use cases. In another word, most pipelines out there are more like sport cars, having custom flavors for a specific group of drivers. What I am trying to create is more like a train system, aiming to suit most needs. Unfortunately, if you have more specific requirements, what I am offering is probably not going to work. \n",
    "\n",
    "## Why Skymap while there are so many groups out there also trying to unify the public data\n",
    "To the best of my knowledge, Skymap is the first that offer both the unified omic data and cleaned metadata. The other important aspect is that the process of data extraction is fully automated, so it is supposed to be scalable.  \n",
    "Data format and coding style:\n",
    "I tried to keep the code and parameters to be lean and self-explanatory for your reference, but most of the scripts I wrote are far from the industrial standard. \n",
    "The storage is in python pandas pickle format. The ecosystem in python appears to be much better at handling large dataset while offering intuitive coding interfaces. For now, Skymap is geared towards ML/data science folks who are hungry for the vast amount of data and ain’t afraid of coding.\n",
    "\n",
    "Skymap is still in Beta V0.0. [Please feel free to leave comments](https://www.synapse.org/#!Synapse:syn11415602/discussion/default) and suggestions!!! We would love to hear feedbacks from you.\n",
    "## Acknowledgement\n",
    "\n",
    "\n",
    "Please considering citing if you are using Skymap. (doi:10.7303/syn11415602)\n",
    "\n",
    "Acknowledgement: We want to thank for the advice and resources from Dr. Hannah Carter (my PI), Dr. Jill Mesirov,Dr. Trey Ideker and Shamin Mollah. We also want to thank Dr. Ruben Arbagayen, Dr. Nate Lewis for their suggestion. \n",
    "The method will soon be posted in bioarchive. Also, we want to thank the Sage Bio Network for hosting the data. We also thank to thank the NCBI for holding all the published raw reads at  [Sequnece Read Archive](https://www.ncbi.nlm.nih.gov/sra). \n",
    "Grant money that make this work possible: NIH DP5OD017937,GM103504\n",
    "\n",
    "Term of use: Use Skymap however you want. Just dont sue me, I have no money. \n",
    "\n",
    "For why I named it Skymap, I forgot."
   ]
  },
  {
   "cell_type": "code",
   "execution_count": null,
   "metadata": {},
   "outputs": [],
   "source": [
    "VC=bio_metaDf.NciEng.value_counts()"
   ]
  },
  {
   "cell_type": "code",
   "execution_count": null,
   "metadata": {},
   "outputs": [],
   "source": [
    "VC[VC.index.str.contains('Asthma',case=False)]"
   ]
  },
  {
   "cell_type": "code",
   "execution_count": null,
   "metadata": {},
   "outputs": [],
   "source": [
    "#bio_metaDf.head()"
   ]
  },
  {
   "cell_type": "code",
   "execution_count": null,
   "metadata": {},
   "outputs": [],
   "source": [
    "technical_meta_data_df.shape"
   ]
  },
  {
   "cell_type": "code",
   "execution_count": null,
   "metadata": {},
   "outputs": [],
   "source": [
    "public_meta_df=technical_meta_data_df[(technical_meta_data_df['proj_accession_Visibility']=='public')]"
   ]
  },
  {
   "cell_type": "code",
   "execution_count": null,
   "metadata": {},
   "outputs": [],
   "source": [
    "#public_meta_df"
   ]
  },
  {
   "cell_type": "code",
   "execution_count": null,
   "metadata": {},
   "outputs": [],
   "source": [
    "bio_metaDf[(bio_metaDf.NciEng==\"Asthma\")&(bio_metaDf.srs.isin(public_meta_df.Sample))]"
   ]
  },
  {
   "cell_type": "code",
   "execution_count": null,
   "metadata": {},
   "outputs": [],
   "source": []
  }
 ],
 "metadata": {
  "kernelspec": {
   "display_name": "Python 3",
   "language": "python",
   "name": "python3"
  },
  "language_info": {
   "codemirror_mode": {
    "name": "ipython",
    "version": 3
   },
   "file_extension": ".py",
   "mimetype": "text/x-python",
   "name": "python",
   "nbconvert_exporter": "python",
   "pygments_lexer": "ipython3",
   "version": "3.6.5"
  }
 },
 "nbformat": 4,
 "nbformat_minor": 1
}
