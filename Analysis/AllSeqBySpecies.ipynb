{
 "cells": [
  {
   "cell_type": "code",
   "execution_count": 1,
   "metadata": {},
   "outputs": [],
   "source": [
    "%matplotlib inline\n",
    "import pandas as pd\n",
    "import numpy as np\n",
    "import matplotlib.pyplot as plt\n",
    "import seaborn as sns\n",
    "sns.set_style('white')"
   ]
  },
  {
   "cell_type": "code",
   "execution_count": 90,
   "metadata": {},
   "outputs": [],
   "source": [
    "sra_dump_pickle_dir='/cellar/users/btsui/Data/SRA/DUMP/sra_dump.csv.gz'\n"
   ]
  },
  {
   "cell_type": "code",
   "execution_count": 91,
   "metadata": {},
   "outputs": [
    {
     "name": "stderr",
     "output_type": "stream",
     "text": [
      "<string>:2: DtypeWarning: Columns (5,6,25,26) have mixed types. Specify dtype option on import or set low_memory=False.\n"
     ]
    },
    {
     "name": "stdout",
     "output_type": "stream",
     "text": [
      "CPU times: user 47.1 s, sys: 4.74 s, total: 51.8 s\n",
      "Wall time: 49 s\n"
     ]
    }
   ],
   "source": [
    "%time sra_dump_df=pd.read_csv(sra_dump_pickle_dir)"
   ]
  },
  {
   "cell_type": "code",
   "execution_count": 4,
   "metadata": {},
   "outputs": [],
   "source": [
    "\"\"\"\n",
    "ERP013950: some guy deposited tons of synthetic reads and annotate them as WGS\n",
    "\"\"\"\n",
    "blackListSrps=['ERP013950']"
   ]
  },
  {
   "cell_type": "code",
   "execution_count": 93,
   "metadata": {},
   "outputs": [
    {
     "data": {
      "text/plain": [
       "Run                                                SRR2401865\n",
       "Member_Name                                           default\n",
       "Experiment                                         SRX1244330\n",
       "Sample                                             SRS1068422\n",
       "Study                                                       -\n",
       "Spots                                                    2800\n",
       "Bases                                                 1416405\n",
       "Status                                                   live\n",
       "BioSample                                        SAMN04075800\n",
       "ScientificName                                soil_metagenome\n",
       "LibraryStrategy                                      AMPLICON\n",
       "LibraryLayout                                          SINGLE\n",
       "proj_accession_Submission                           SRA297755\n",
       "proj_accession_Status                                    live\n",
       "proj_accession_Updated                   2015-09-22T17:09:36Z\n",
       "proj_accession_Published                 2015-09-20T18:18:32Z\n",
       "proj_accession_Received                  2015-09-15T05:58:38Z\n",
       "proj_accession_Type                                       RUN\n",
       "proj_accession_Center                              SUB1095135\n",
       "proj_accession_Visibility                              public\n",
       "proj_accession_Alias                                 DX-2.sff\n",
       "proj_accession_Experiment                          SRX1244330\n",
       "proj_accession_Sample                              SRS1068422\n",
       "proj_accession_Study                                        -\n",
       "proj_accession_Loaded                                       1\n",
       "proj_accession_Spots                                     2800\n",
       "proj_accession_Bases                                  1416405\n",
       "proj_accession_Md5sum        b5ef7be9edca6da79a65bab30964d42f\n",
       "proj_accession_BioSample                         SAMN04075800\n",
       "proj_accession_BioProject                                   -\n",
       "proj_accession_ReplacedBy                                   -\n",
       "new_ScientificName                            soil_metagenome\n",
       "Name: 0, dtype: object"
      ]
     },
     "execution_count": 93,
     "metadata": {},
     "output_type": "execute_result"
    }
   ],
   "source": [
    "sra_dump_df.iloc[0]"
   ]
  },
  {
   "cell_type": "code",
   "execution_count": 5,
   "metadata": {},
   "outputs": [],
   "source": [
    "publicDf=sra_dump_df[(sra_dump_df.proj_accession_Visibility=='public')&(~sra_dump_df.Study.isin(blackListSrps))]"
   ]
  },
  {
   "cell_type": "code",
   "execution_count": 7,
   "metadata": {},
   "outputs": [
    {
     "name": "stdout",
     "output_type": "stream",
     "text": [
      "# of human sequencing runs: 611758\n"
     ]
    }
   ],
   "source": [
    "print ('# of human sequencing runs:',(publicDf.ScientificName=='Homo_sapiens').sum())"
   ]
  },
  {
   "cell_type": "code",
   "execution_count": 10,
   "metadata": {},
   "outputs": [
    {
     "name": "stdout",
     "output_type": "stream",
     "text": [
      "# of human sequencing studies: 10641\n"
     ]
    }
   ],
   "source": [
    "publicDf_human=publicDf[(publicDf.ScientificName=='Homo_sapiens')]\n",
    "print ('# of human sequencing studies:',publicDf_human['Study'].nunique())"
   ]
  },
  {
   "cell_type": "code",
   "execution_count": 48,
   "metadata": {},
   "outputs": [
    {
     "name": "stderr",
     "output_type": "stream",
     "text": [
      "/cellar/users/btsui/anaconda3/lib/python3.6/site-packages/ipykernel_launcher.py:1: SettingWithCopyWarning: \n",
      "A value is trying to be set on a copy of a slice from a DataFrame.\n",
      "Try using .loc[row_indexer,col_indexer] = value instead\n",
      "\n",
      "See the caveats in the documentation: http://pandas.pydata.org/pandas-docs/stable/indexing.html#indexing-view-versus-copy\n",
      "  \"\"\"Entry point for launching an IPython kernel.\n"
     ]
    }
   ],
   "source": [
    "publicDf_human['LibraryStrategy']=publicDf_human['LibraryStrategy'].astype(str)"
   ]
  },
  {
   "cell_type": "code",
   "execution_count": 61,
   "metadata": {},
   "outputs": [],
   "source": [
    "import matplotlib\n"
   ]
  },
  {
   "cell_type": "code",
   "execution_count": 65,
   "metadata": {},
   "outputs": [
    {
     "name": "stdout",
     "output_type": "stream",
     "text": [
      "Index(['RNA-Seq', 'WGS', 'AMPLICON', 'OTHER', 'WXS', 'ChIP-Seq'], dtype='object')\n"
     ]
    },
    {
     "data": {
      "image/png": "[encoded data removed]",
      "text/plain": [
       "<Figure size 432x288 with 1 Axes>"
      ]
     },
     "metadata": {},
     "output_type": "display_data"
    }
   ],
   "source": [
    "tmp_VC=publicDf_human['LibraryStrategy'].value_counts()\n",
    "selectedVC=tmp_VC.index.astype(str)[tmp_VC.astype(float)>(4*(10.0**4))]\n",
    "print (selectedVC)\n",
    "selectedOrder=['RNA-Seq', 'WGS', 'AMPLICON', 'WXS', 'ChIP-Seq']\n",
    "unstackDf=publicDf_human[publicDf_human.LibraryStrategy.isin(selectedOrder)\n",
    "              ].groupby(['LibraryStrategy','LibraryLayout']).size().unstack()\n",
    "ax=unstackDf.loc[selectedOrder].plot.bar(stacked=True)\n",
    "ax.get_yaxis().set_major_formatter(\n",
    "    matplotlib.ticker.FuncFormatter(lambda x, p: format(int(x), ',')))\n",
    "ax.set_ylabel('# of sequencing runs')\n",
    "ax.figure.savefig('../Figures/LibraryLayout.pdf')\n",
    "ax.figure.savefig('../Figures/LibraryLayout.png',dpi=300)"
   ]
  },
  {
   "cell_type": "code",
   "execution_count": 18,
   "metadata": {},
   "outputs": [
    {
     "name": "stdout",
     "output_type": "stream",
     "text": [
      "# of trillion bases: 1834.995522362079\n"
     ]
    }
   ],
   "source": [
    "print ('# of trillion bases:',publicDf_human['Bases'].sum()/(10.0**12))"
   ]
  },
  {
   "cell_type": "code",
   "execution_count": 6,
   "metadata": {},
   "outputs": [],
   "source": [
    "VC=publicDf.groupby(['ScientificName','LibraryStrategy']).size()"
   ]
  },
  {
   "cell_type": "code",
   "execution_count": 7,
   "metadata": {},
   "outputs": [],
   "source": [
    "VC=VC.sort_values(ascending=False)"
   ]
  },
  {
   "cell_type": "code",
   "execution_count": 8,
   "metadata": {},
   "outputs": [],
   "source": [
    "countBySrategy=VC.groupby('LibraryStrategy').sum()\n",
    "ignore_strategy_list=(countBySrategy.index[countBySrategy<5000]\n",
    ").tolist()\n",
    "countBySpecie=VC.groupby('ScientificName').sum()\n",
    "ignore_specie_list=countBySpecie.index[countBySpecie<20000].tolist()"
   ]
  },
  {
   "cell_type": "code",
   "execution_count": 9,
   "metadata": {},
   "outputs": [],
   "source": [
    "#VC"
   ]
  },
  {
   "cell_type": "code",
   "execution_count": 10,
   "metadata": {},
   "outputs": [],
   "source": [
    "m2=~VC.index.get_level_values('LibraryStrategy').isin(['CLONE','POOLCLONE','SELEX','OTHER','RAD-seq','RAD-Seq','Bisulfite-Seq']+ignore_strategy_list)\n",
    "m3=~VC.index.get_level_values('ScientificName').isin([u'synthetic_construct']+ignore_specie_list)\n",
    "subVC=VC[m2&m3].reorder_levels(['LibraryStrategy','ScientificName']).sort_index()#.unstack()"
   ]
  },
  {
   "cell_type": "code",
   "execution_count": 11,
   "metadata": {},
   "outputs": [],
   "source": [
    "library_order=subVC.groupby('LibraryStrategy').sum().sort_values(ascending=False).index.astype(np.str)\n",
    "\n",
    "scientific_order=subVC.groupby('ScientificName').sum().sort_values(ascending=False).index.astype(np.str)"
   ]
  },
  {
   "cell_type": "code",
   "execution_count": 12,
   "metadata": {},
   "outputs": [],
   "source": [
    "yLabel='# of sequencing runs'"
   ]
  },
  {
   "cell_type": "code",
   "execution_count": 13,
   "metadata": {},
   "outputs": [],
   "source": [
    "### stacked bar "
   ]
  },
  {
   "cell_type": "code",
   "execution_count": 14,
   "metadata": {},
   "outputs": [],
   "source": [
    "sortedS=subVC.sort_values(ascending=False).groupby(level='LibraryStrategy').head(15)"
   ]
  },
  {
   "cell_type": "code",
   "execution_count": 15,
   "metadata": {},
   "outputs": [],
   "source": [
    "unstackDf=sortedS.unstack()"
   ]
  },
  {
   "cell_type": "code",
   "execution_count": 16,
   "metadata": {},
   "outputs": [],
   "source": [
    "inPlotDf2=unstackDf.copy()"
   ]
  },
  {
   "cell_type": "code",
   "execution_count": 17,
   "metadata": {},
   "outputs": [],
   "source": [
    "inPlotDf2.index=inPlotDf2.index.astype(np.str)\n",
    "inPlotDf2.columns=inPlotDf2.columns.astype(np.str)"
   ]
  },
  {
   "cell_type": "code",
   "execution_count": 18,
   "metadata": {},
   "outputs": [],
   "source": [
    "tmpS2=inPlotDf2.columns.to_series()\n",
    "tmpS2[tmpS2.str.contains('metagenome')]='Metagenome'\n",
    "plants=['Arabidopsis_thaliana','Oryza_sativa',u'Hordeum_vulgare_subsp._vulgare']\n",
    "tmpS2[tmpS2.str.contains(\"|\".join(plants))]='Plants'\n",
    "prokaryotes=[u'Mycobacterium_tuberculosis',u'Plasmodium_falciparum',u'Saccharomyces_cerevisiae','Salmonella_enterica',\n",
    "            u'Salmonella_enterica_subsp._enterica','Staphylococcus_aureus',u'Escherichia_coli',u'Streptococcus_pneumoniae']\n",
    "tmpS2[tmpS2.str.contains(\"|\".join(prokaryotes))]='Prokaryotes'\n",
    "inPlotDf2.columns=tmpS2.values\n",
    "\n"
   ]
  },
  {
   "cell_type": "code",
   "execution_count": 19,
   "metadata": {},
   "outputs": [],
   "source": [
    "tmpS3=inPlotDf2.index.to_series()\n",
    "tmpS3[tmpS3.str.contains('rna-seq',case=False)]='RNA-seq'\n",
    "tmpS3[tmpS3.str.contains('ATAC|DNase|chip',case=False)]='Chip / ATAC / DNase\\n-seq'\n",
    "tmpS3[tmpS3.str.contains('^WGA|WGS$',case=False)]='WGS'\n",
    "\n",
    "\n",
    "\n",
    "inPlotDf2.index=tmpS3.values"
   ]
  },
  {
   "cell_type": "code",
   "execution_count": 20,
   "metadata": {},
   "outputs": [],
   "source": [
    "inPlotDf3=inPlotDf2.groupby(level=0,axis=1).sum().groupby(level=0,axis=0).sum()"
   ]
  },
  {
   "cell_type": "code",
   "execution_count": 21,
   "metadata": {},
   "outputs": [],
   "source": [
    "x_order3=inPlotDf3.sum(axis=1).sort_values(ascending=False).index\n",
    "y_order3=inPlotDf3.sum(axis=0).sort_values(ascending=False).index"
   ]
  },
  {
   "cell_type": "markdown",
   "metadata": {},
   "source": [
    "# data break down by organism and omic layer"
   ]
  },
  {
   "cell_type": "code",
   "execution_count": 22,
   "metadata": {},
   "outputs": [],
   "source": [
    "VC2=(inPlotDf3.loc[x_order3,y_order3].iloc[:-3]/1000)\n",
    "VC2.columns=VC2.columns.str.replace('_',' ')\n",
    "VC2.columns=VC2.columns.str.replace('Drosophila melanogaster','Fruit fly')"
   ]
  },
  {
   "cell_type": "code",
   "execution_count": 23,
   "metadata": {
    "scrolled": false
   },
   "outputs": [
    {
     "data": {
      "image/png": "[encoded data removed]",
      "text/plain": [
       "<Figure size 432x288 with 1 Axes>"
      ]
     },
     "metadata": {},
     "output_type": "display_data"
    }
   ],
   "source": [
    "ax=VC2.plot.bar(stacked=True,colormap='Paired')\n",
    "ax.set_ylabel('# of sequencing runs\\n (thousands)')\n",
    "ax.legend(bbox_to_anchor=(1.0,1))\n",
    "ax.figure.tight_layout(w_pad=0.5)\n",
    "ax.figure.savefig('./Figures/sra_data_availability.png',dpi=300,bbox_to_anchor='tight', pad_inches=0)"
   ]
  },
  {
   "cell_type": "code",
   "execution_count": 106,
   "metadata": {},
   "outputs": [
    {
     "name": "stdout",
     "output_type": "stream",
     "text": [
      "/cellar/users/btsui/Project/METAMAP/notebook/RapMapTest/Analysis/./Figures/sra_data_availability.png\r\n"
     ]
    }
   ],
   "source": [
    "!echo $PWD/./Figures/sra_data_availability.png"
   ]
  },
  {
   "cell_type": "code",
   "execution_count": 24,
   "metadata": {},
   "outputs": [],
   "source": [
    "#!cp ./Figures/sra_data_availability.png ../Figures/sra_data_availability.png"
   ]
  },
  {
   "cell_type": "code",
   "execution_count": 74,
   "metadata": {},
   "outputs": [],
   "source": [
    "myDate='proj_accession_Received'\n",
    "inPlotDf2=publicDf_human#sra_dump_df[sra_dump_df['proj_accession_Visibility']=='public']\n",
    "#diffS=(inPlotDf2[myDate].astype(np.datetime64)-np.datetime64('2008','Y'))\n",
    "a=inPlotDf2[myDate].astype(np.datetime64)\n",
    "perYear=a.map(lambda s:s.year)\n"
   ]
  },
  {
   "cell_type": "code",
   "execution_count": 75,
   "metadata": {},
   "outputs": [],
   "source": [
    "validYear=perYear[perYear>=2008].astype(np.int)"
   ]
  },
  {
   "cell_type": "code",
   "execution_count": 76,
   "metadata": {},
   "outputs": [],
   "source": [
    "countS=validYear.value_counts()\n",
    "countS=countS.sort_index()"
   ]
  },
  {
   "cell_type": "code",
   "execution_count": 82,
   "metadata": {},
   "outputs": [
    {
     "data": {
      "image/png": "[encoded data removed]",
      "text/plain": [
       "<Figure size 432x288 with 1 Axes>"
      ]
     },
     "metadata": {},
     "output_type": "display_data"
    }
   ],
   "source": [
    "cumulativeS=countS.cumsum()\n",
    "adjustedS=cumulativeS\n",
    "ax=adjustedS.plot()\n",
    "ax.set_ylabel('Sequencing runs cumulated (Millions)')\n",
    "ax.set_xticks(cumulativeS.index)\n",
    "ax.set_xticklabels(cumulativeS.index.astype(np.str), rotation='vertical')\n",
    "ax.get_yaxis().set_major_formatter(\n",
    "    matplotlib.ticker.FuncFormatter(lambda x, p: format(int(x), ',')))\n",
    "#ax.set_yscale('linear')\n",
    "ax.set_xlabel('Year')\n",
    "\n",
    "ax.figure.savefig('./Figures/sra_data_availability_over_time.png',dpi=300)\n",
    "ax.figure.savefig('./Figures/sra_data_availability_over_time.pdf')"
   ]
  },
  {
   "cell_type": "code",
   "execution_count": 86,
   "metadata": {},
   "outputs": [
    {
     "name": "stdout",
     "output_type": "stream",
     "text": [
      "#full_meta_dir=\"/cellar/users/btsui/Project/METAMAP/notebook/Parsing/sra_dump.csv\"\r\n",
      "full_meta_dir=\"/cellar/users/btsui/Data/SRA/DUMP/sra_dump.csv.gz\"\r\n",
      "unprocessed_meta_dir='/cellar/users/btsui/Data/SRA/all_seq/unprocessed_dump.snp.csv'\r\n",
      "log_out_dir='/nrnb/users/btsui/Data/all_seq/log_snp/'\r\n",
      "count_out_dir='/nrnb/users/btsui/Data/all_seq/snp/'\r\n",
      "#SRR5422561\r\n",
      "supporting_species=['Homo_sapiens']\r\n",
      "supporting_library_strategy=['RNA-Seq','WGS','WXS','ChIP-Seq','AMPLICON']\r\n",
      "supporting_layouts=['SINGLE','PAIRED']\r\n"
     ]
    }
   ],
   "source": [
    "!cat ./../Pipelines/snp/param.py"
   ]
  },
  {
   "cell_type": "code",
   "execution_count": 135,
   "metadata": {},
   "outputs": [
    {
     "name": "stdout",
     "output_type": "stream",
     "text": [
      "number of peta basess of data:  1.39874500912\n"
     ]
    }
   ],
   "source": [
    "print 'number of peta basess of data: ', sra_dump_df['Bases'].sum()/one_peta_bytes"
   ]
  },
  {
   "cell_type": "markdown",
   "metadata": {},
   "source": [
    "### scratches"
   ]
  },
  {
   "cell_type": "code",
   "execution_count": 151,
   "metadata": {
    "collapsed": true
   },
   "outputs": [],
   "source": [
    "millionBases=sra_dump_df['Bases'].sum()/(10**6)"
   ]
  },
  {
   "cell_type": "code",
   "execution_count": 168,
   "metadata": {},
   "outputs": [
    {
     "data": {
      "text/plain": [
       "3.75"
      ]
     },
     "execution_count": 168,
     "metadata": {},
     "output_type": "execute_result"
    }
   ],
   "source": [
    "75*cost_per_mb"
   ]
  },
  {
   "cell_type": "code",
   "execution_count": 169,
   "metadata": {},
   "outputs": [
    {
     "data": {
      "text/plain": [
       "8.8447085542647343"
      ]
     },
     "execution_count": 169,
     "metadata": {},
     "output_type": "execute_result"
    }
   ],
   "source": [
    "cost_per_mb=0.05\n",
    "#1 cent per a million \n",
    "np.log10(millionBases*cost_per_mb)"
   ]
  },
  {
   "cell_type": "code",
   "execution_count": 170,
   "metadata": {},
   "outputs": [
    {
     "data": {
      "text/plain": [
       "699.3725045620188"
      ]
     },
     "execution_count": 170,
     "metadata": {},
     "output_type": "execute_result"
    }
   ],
   "source": [
    "millionBases*cost_per_mb/(10**6)"
   ]
  },
  {
   "cell_type": "code",
   "execution_count": 176,
   "metadata": {
    "collapsed": true
   },
   "outputs": [],
   "source": [
    "sra_dump_df['Run']=sra_dump_df.index"
   ]
  },
  {
   "cell_type": "code",
   "execution_count": 179,
   "metadata": {
    "collapsed": true
   },
   "outputs": [],
   "source": [
    "indexedDf=sra_dump_df.set_index(['Study','Sample','Experiment','Run'])"
   ]
  },
  {
   "cell_type": "code",
   "execution_count": 183,
   "metadata": {
    "collapsed": true
   },
   "outputs": [],
   "source": [
    "#indexedDf.head()"
   ]
  },
  {
   "cell_type": "code",
   "execution_count": 184,
   "metadata": {
    "collapsed": true
   },
   "outputs": [],
   "source": [
    "#indexedDf[['ScientificName','LibraryStrategy','LibraryLayout']].iloc[100:]"
   ]
  },
  {
   "cell_type": "code",
   "execution_count": 109,
   "metadata": {},
   "outputs": [
    {
     "data": {
      "text/plain": [
       "ScientificName                        LibraryStrategy\n",
       "Mus_musculus                          RNA-Seq            229446\n",
       "Homo_sapiens                          RNA-Seq            191243\n",
       "                                      WGS                101606\n",
       "soil_metagenome                       AMPLICON            90971\n",
       "Hordeum_vulgare_subsp._vulgare        CLONE               83572\n",
       "Homo_sapiens                          AMPLICON            76822\n",
       "Salmonella_enterica                   WGS                 66794\n",
       "human_gut_metagenome                  AMPLICON            64984\n",
       "Homo_sapiens                          OTHER               58958\n",
       "Escherichia_coli                      WGS                 49136\n",
       "Homo_sapiens                          WXS                 44932\n",
       "                                      ChIP-Seq            44292\n",
       "Oryza_sativa                          WGS                 40623\n",
       "Homo_sapiens                          POOLCLONE           37743\n",
       "Mus_musculus                          ChIP-Seq            37073\n",
       "gut_metagenome                        AMPLICON            36636\n",
       "human_metagenome                      AMPLICON            36140\n",
       "Staphylococcus_aureus                 WGS                 34474\n",
       "Streptococcus_pneumoniae              WGS                 30787\n",
       "human_gut_metagenome                  WGS                 30656\n",
       "                                      OTHER               26751\n",
       "Salmonella_enterica_subsp._enterica   WGS                 26496\n",
       "synthetic_construct                   SELEX               25879\n",
       "mouse_gut_metagenome                  AMPLICON            25675\n",
       "Mycobacterium_tuberculosis            WGS                 25256\n",
       "marine_metagenome                     AMPLICON            24820\n",
       "Mus_musculus                          OTHER               24720\n",
       "Arabidopsis_thaliana                  RNA-Seq             20694\n",
       "Danio_rerio                           RNA-Seq             19899\n",
       "Drosophila_melanogaster               RNA-Seq             18483\n",
       "                                                          ...  \n",
       "Kynotus_pittarellii                   RNA-Seq                 1\n",
       "Spirochaetaceae_bacterium_UBA6809     WGS                     1\n",
       "Spirochaetales_bacterium_UBA1265      WGS                     1\n",
       "Spirochaetales_bacterium_UBA1625      WGS                     1\n",
       "Spirochaetales_bacterium_UBA1631      WGS                     1\n",
       "Spirochaetales_bacterium_UBA4629      WGS                     1\n",
       "Spirochaetales_bacterium_UBA4634      WGS                     1\n",
       "Spirochaetales_bacterium_UBA4673      WGS                     1\n",
       "Spirochaetales_bacterium_UBA4674      WGS                     1\n",
       "Labeo_rohita                          AMPLICON                1\n",
       "Spirochaetaceae_bacterium_UBA5630     WGS                     1\n",
       "Labeo_rohita                          RNA-Seq                 1\n",
       "Spirochaetaceae_bacterium_UBA4077     WGS                     1\n",
       "Spirochaetaceae_bacterium_UBA1306     OTHER                   1\n",
       "Labrenzia_aggregata                   WGS                     1\n",
       "Lablab_purpureus                      RNA-Seq                 1\n",
       "Labiobarbus_leptocheilus              AMPLICON                1\n",
       "Spirochaetaceae_bacterium_UBA1318     OTHER                   1\n",
       "Labidus_sp._2_PL-2016                 AMPLICON                1\n",
       "Spirochaetaceae_bacterium_UBA2256     WGS                     1\n",
       "Spirochaetaceae_bacterium_UBA4785     WGS                     1\n",
       "Labeo_senegalensis                    AMPLICON                1\n",
       "Labidopullus_appendiculatus           WGS                     1\n",
       "Labidoglobus_nevermanni               WGS                     1\n",
       "Spirochaetaceae_bacterium_UBA5200     WGS                     1\n",
       "Spirochaetaceae_bacterium_UBA5328     WGS                     1\n",
       "Spirochaetaceae_bacterium_UBA5547     WGS                     1\n",
       "Spirochaetaceae_bacterium_UBA5556     WGS                     1\n",
       "Labeobarbus_compiniei                 AMPLICON                1\n",
       "zeta_proteobacterium_SCGC_AC-675-C07  WGA                     1\n",
       "Length: 74696, dtype: int64"
      ]
     },
     "execution_count": 109,
     "metadata": {},
     "output_type": "execute_result"
    }
   ],
   "source": [
    "VC"
   ]
  },
  {
   "cell_type": "code",
   "execution_count": 8,
   "metadata": {
    "collapsed": true
   },
   "outputs": [],
   "source": [
    "## so as the meta data \n",
    "tmpDf3=publicDf[(publicDf.ScientificName=='Homo_sapiens')&(~publicDf.Study.isin(['ERP013950']))]"
   ]
  },
  {
   "cell_type": "code",
   "execution_count": 15,
   "metadata": {
    "collapsed": true
   },
   "outputs": [],
   "source": [
    "n_bases=tmpDf3['Bases'].sum()"
   ]
  },
  {
   "cell_type": "code",
   "execution_count": 21,
   "metadata": {
    "collapsed": true
   },
   "outputs": [],
   "source": [
    "nBytes=n_bases/2"
   ]
  },
  {
   "cell_type": "code",
   "execution_count": 23,
   "metadata": {
    "collapsed": true
   },
   "outputs": [],
   "source": [
    "nGb=(nBytes/10**9)*2"
   ]
  },
  {
   "cell_type": "code",
   "execution_count": 24,
   "metadata": {},
   "outputs": [
    {
     "data": {
      "text/plain": [
       "1834995.522362079"
      ]
     },
     "execution_count": 24,
     "metadata": {},
     "output_type": "execute_result"
    }
   ],
   "source": [
    "nGb"
   ]
  },
  {
   "cell_type": "code",
   "execution_count": null,
   "metadata": {
    "collapsed": true
   },
   "outputs": [],
   "source": []
  }
 ],
 "metadata": {
  "kernelspec": {
   "display_name": "Python 3",
   "language": "python",
   "name": "python3"
  },
  "language_info": {
   "codemirror_mode": {
    "name": "ipython",
    "version": 3
   },
   "file_extension": ".py",
   "mimetype": "text/x-python",
   "name": "python",
   "nbconvert_exporter": "python",
   "pygments_lexer": "ipython3",
   "version": "3.6.5"
  }
 },
 "nbformat": 4,
 "nbformat_minor": 1
}
