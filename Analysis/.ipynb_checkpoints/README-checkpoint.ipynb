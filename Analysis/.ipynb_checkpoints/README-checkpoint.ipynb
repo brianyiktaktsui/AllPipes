{
 "cells": [
  {
   "cell_type": "markdown",
   "metadata": {},
   "source": [
    "\n",
    "# In short\n",
    "Skymap is a standalone database that offers: \n",
    "1. **a single data matrix** for each omic layer for each species that [spans >200k sequencing runs from all the public studies](https://www.ncbi.nlm.nih.gov/sra), which is done by reprocessing **petabytes** worth of sequencing data. Here is how much published data are out there: \n",
    "![alt text](./Figures/sra_data_availability.png \"Logo Title Text 1\")\n",
    "\n",
    "2. **a biological metadata file** that describe the relationships between the sequencing runs and also the keywords extracted from over **3 million** freetext annotations using NLP. \n",
    "3. **a techinical metadata file** that describe the relationships between the sequencing runs. \n",
    "\n",
    "\n",
    "**Where they can all fit into your personal computer.**\n",
    "\n",
    "** If you intend to run the examples, please first download the data from here:** https://www.synapse.org/skymap (take < 3 minutes to set up the account). "
   ]
  },
  {
   "cell_type": "markdown",
   "metadata": {},
   "source": [
    "Table of Contents\n",
    "=================\n",
    "\n",
    "* [In long](#in-long)\n",
    "  * [Motivation: Pooling processed data from multiple studies is time\\-consuming:](#motivation-pooling-processed-data-from-multiple-studies-is-time-consuming)\n",
    "  * [Solution: An automated pipeline to generate a single data matrix that does simple counting for each specie and omic layer](#solution-an-automated-pipeline-to-generate-a-single-data-matrix-that-does-simple-counting-for-each-specie-and-omic-layer)\n",
    "  * [Why Skymap while there are so many groups out there also trying to unify the public data](#why-skymap-while-there-are-so-many-groups-out-there-also-trying-to-unify-the-public-data)\n",
    "  * [Why Skymap offer a local copy instead of a web api](#why-skymap-offer-a-local-copy-instead-of-a-web-api)\n",
    "  * [Data format and coding style](#data-format-and-coding-style)\n",
    "* [Data slicing example](#data-slicing-example)\n",
    "    * [Accessing allelic read count dataframe](#accessing-allelic-read-count-dataframe)\n",
    "    * [Accessing RNAseq dataframe](#accessing-rnaseq-dataframe)\n",
    "    * [Accesing biological metadata dataframe](#accesing-biological-metadata-dataframe)\n",
    "    * [Accessing technical metadata dataframe](#accessing-technical-metadata-dataframe)\n",
    "* [More examples on using simple code to analyze big data](#more-examples-on-using-simple-code-to-analyze-big-data)\n",
    "  * [High resolution mouse developmental hierachy map](#high-resolution-mouse-developmental-hierachy-map)\n",
    "  * [Locating  SNP and correlating with different data layers](#locating--snp-and-correlating-with-different-data-layers)\n",
    "  * [Simple RNAseq data slicing and hypothesis testing](#simple-rnaseq-data-slicing-and-hypothesis-testing)\n",
    "  * [Acknowledgement](#acknowledgement)\n",
    "\n"
   ]
  },
  {
   "cell_type": "markdown",
   "metadata": {},
   "source": [
    "\n",
    "# In long\n",
    "## Motivation: Pooling processed data from multiple studies is time-consuming: \n",
    "When I first started in bioinformatic couple years ago, I spent much of my time doing two things: 1.) cleaning omic data matrices, e.g. mapping between gene IDs (hgnc, enseml, ucsc, etc.) for processed data matrices, trying all sort of different bioinformatics pipelines that yield basically the same results, investigating what is the exact unit being counted over when pulling pre-processed data from public database, etc.  2.) cleaning metadata annotation, which usually involves extracting and aliasing the labels to the exact same categories. \n",
    "\n",
    "\n",
    "This question came to my mind: Can we merge and reduce the petabytes worth of raw reads into a single table that: 1.) captures the commonly used information which can 2.) also fit in your hard drive (<500Gb)? \n",
    "\n",
    "## Solution: An automated pipeline to generate a single data matrix that does simple counting for each specie and omic layer \n",
    "What I am offering in here is a metadata table and a single data matrix for each omic layer that encapsulate majority of the public data out there by continuously pulling data from [Sequence Read Archive](https://www.ncbi.nlm.nih.gov/sra), a place that host the bulk of the published sequencing data. I believe that “Science started with counting” (from “Cancer: Emperor of all malady” by Siddhartha Mukherjee), and thus I offer counts for all the features: 1. ) the  base resolution ACGT counts for over 200k experiments among NCBI curated SNPs, where read depth and allelic fraction are usually the main drivers for SNP calling. We also offer an expression matrix, which counts at both transcript and gene resolution. With the raw counts, you can normalize however you want. \n",
    "The metadata table consists of controlled vocabulary (NCI Terminology) from free text experiment annotations. I used the NLM metamap engine for extracting keywords from freetext. The nice thing is that the UMLS ecosystem from NLM allow the IDs (Concept Unique Identifiers) to be mapped onto different ontologies to relate the terms. NCIT is by far the cleanest general purpose ontology I have seen, low term redundancy, encode medical knowledge from many domains and is well maintained.  \n",
    "The pipeline in here is trying to suit the needs of the common use cases. In another word, most pipelines out there are more like sport cars, having custom flavors for a specific group of drivers. What I am trying to create is more like a train system, aiming to suit most needs. Unfortunately, if you have more specific requirements, what I am offering is probably not going to work. \n",
    "\n",
    "\n",
    "Here are the overview slides for the overall processes of [allelic read counts extraction over 300k known SNPs](https://docs.google.com/presentation/d/1KcumgtLfCdHNnIwkbU5DaQ7UNKHGbJ_fJZFy1cj53yE/edit#slide=id.p3), [RNAseq quantification and NLP processing](https://docs.google.com/presentation/d/14vLJJQ6ziw-2aLDoQAJGyv1sYo5ENzljsqsbZr9jNLM/edit#slide=id.p19), explaining 1.) why the data is something that you can trust and 2.) also the utility of fast data interpolation, which is especially useful for aggregating multiple studies/batches to support your hypothesis. \n",
    "\n",
    "## Why Skymap while there are so many groups out there also trying to unify the public data\n",
    "To the best of my knowledge, Skymap is the first that offer both the unified omic data and the cleaned metadata. The other important aspect is that the process of data extraction is fully automated, so it is supposed to be scalable and systematic. \n",
    "\n",
    "## Why Skymap offer a local copy instead of a web api \n",
    "Again, the purpose of this project is more geared towards bioinformatics/ data scientists, who wants go from vast amount of data to hypothesis quickly. I hate when I have to recover a simple table by requesting each row from REST api repeately, which should have only required one click on an ftp link. It turns out that even [all the raw meta data from SRA can fit into memory](https://github.com/brianyiktaktsui/Skymap/blob/master/Load_RawMetaData.ipynb). \n",
    "\n",
    "The premise of skymap is this: Couple clicks and all the omic data sits in your computer. And you can slice and dice it however you want afterwards. \n",
    "\n",
    "## Data format and coding style\n",
    "\n",
    "The storage is in python pandas pickle format. Therefore, the only packges you need to load in the data is numpy and pandas, the backbone of data analysis in python. We keep the process of data loading as lean as possible. Less code means less bugs and less errors. For now, Skymap is geared towards ML/data science folks who are hungry for the vast amount of data and ain’t afraid of coding. I will port the data to native HDF5 format to reduce platform dependency once I get a chance. \n",
    "\n",
    "I tried to keep the code and parameters to be lean and self-explanatory for your reference. \n"
   ]
  },
  {
   "cell_type": "markdown",
   "metadata": {},
   "source": [
    "# Data slicing example"
   ]
  },
  {
   "cell_type": "markdown",
   "metadata": {},
   "source": [
    "### Accessing allelic read count dataframe\n",
    "Slice out >100k experiments and their allelic counts in < 1s"
   ]
  },
  {
   "cell_type": "code",
   "execution_count": 1,
   "metadata": {
    "collapsed": true
   },
   "outputs": [],
   "source": [
    "### parameters\n",
    "import pandas as pd\n",
    "import numpy as np\n",
    "mySpecie='Homo_sapiens'\n",
    "#change base dir to your data location\n",
    "baseDir='/cellar/users/btsui/Data/SRA/snp/'\n",
    "skymap_snp_dir=baseDir+'{specie}_snp_pos/'.format(specie=mySpecie)"
   ]
  },
  {
   "cell_type": "markdown",
   "metadata": {},
   "source": [
    "**input query BRAF V600 coordinate**"
   ]
  },
  {
   "cell_type": "code",
   "execution_count": 2,
   "metadata": {
    "collapsed": true
   },
   "outputs": [],
   "source": [
    "#location where BRAF V600 happens, you can change it to whatever position you want \n",
    "queryChr,queryPosition='7',140753336 "
   ]
  },
  {
   "cell_type": "markdown",
   "metadata": {},
   "source": [
    "**static code for slicing out the data**"
   ]
  },
  {
   "cell_type": "code",
   "execution_count": 3,
   "metadata": {},
   "outputs": [
    {
     "name": "stdout",
     "output_type": "stream",
     "text": [
      "CPU times: user 112 ms, sys: 132 ms, total: 244 ms\n",
      "Wall time: 303 ms\n"
     ]
    }
   ],
   "source": [
    "%%time\n",
    "chunkSize=100000 #fixed params\n",
    "myChunk=(queryPosition/chunkSize)*chunkSize # identify the chunk to load in\n",
    "hdf_s=pd.HDFStore(skymap_snp_dir+'Pos_block_'+str(myChunk),mode='r')#load in the chunk\n",
    "tmpChunkDf=hdf_s['/chunk'] "
   ]
  },
  {
   "cell_type": "code",
   "execution_count": 4,
   "metadata": {},
   "outputs": [
    {
     "name": "stdout",
     "output_type": "stream",
     "text": [
      "# of sequencing runs sliced out: 149064\n"
     ]
    }
   ],
   "source": [
    "print '# of sequencing runs sliced out:' ,tmpChunkDf.Run_digits.nunique()"
   ]
  },
  {
   "cell_type": "markdown",
   "metadata": {},
   "source": [
    "** definition of each column in allelic counts data**\n",
    "\n",
    "Chr: Chromosome\n",
    "\n",
    "Base: DNA bases in aligned reads - A, C, G, T \n",
    "\n",
    "Run_db and Run_digits together forms a SRR accession id. I ignored the leading 0s for Run_digits. \n",
    "\n",
    "ReadDepth: the number of bases detected in aligned reads at a particular base and chromosome position. \n",
    "\n",
    "AverageBaseQuality: The mean phred score in aligned reads at a particular base and chromosome postiion. \n",
    "\n",
    "Pos: Chromosome position. (grch38 for human)\n",
    "\n",
    "block: the block ID used for chunked storage"
   ]
  },
  {
   "cell_type": "code",
   "execution_count": 5,
   "metadata": {},
   "outputs": [
    {
     "data": {
      "text/html": [
       "<div>\n",
       "<style>\n",
       "    .dataframe thead tr:only-child th {\n",
       "        text-align: right;\n",
       "    }\n",
       "\n",
       "    .dataframe thead th {\n",
       "        text-align: left;\n",
       "    }\n",
       "\n",
       "    .dataframe tbody tr th {\n",
       "        vertical-align: top;\n",
       "    }\n",
       "</style>\n",
       "<table border=\"1\" class=\"dataframe\">\n",
       "  <thead>\n",
       "    <tr style=\"text-align: right;\">\n",
       "      <th></th>\n",
       "      <th></th>\n",
       "      <th>features</th>\n",
       "      <th>Run_digits</th>\n",
       "      <th>Pos</th>\n",
       "      <th>ReadDepth</th>\n",
       "      <th>AverageBaseQuality</th>\n",
       "      <th>block</th>\n",
       "    </tr>\n",
       "    <tr>\n",
       "      <th>Chr</th>\n",
       "      <th>base</th>\n",
       "      <th>Run_db</th>\n",
       "      <th></th>\n",
       "      <th></th>\n",
       "      <th></th>\n",
       "      <th></th>\n",
       "      <th></th>\n",
       "    </tr>\n",
       "  </thead>\n",
       "  <tbody>\n",
       "    <tr>\n",
       "      <th rowspan=\"5\" valign=\"top\">2</th>\n",
       "      <th>C</th>\n",
       "      <th>SRR</th>\n",
       "      <td>796215</td>\n",
       "      <td>140700401</td>\n",
       "      <td>1</td>\n",
       "      <td>41</td>\n",
       "      <td>140700000</td>\n",
       "    </tr>\n",
       "    <tr>\n",
       "      <th>A</th>\n",
       "      <th>SRR</th>\n",
       "      <td>5882370</td>\n",
       "      <td>140700401</td>\n",
       "      <td>1</td>\n",
       "      <td>11</td>\n",
       "      <td>140700000</td>\n",
       "    </tr>\n",
       "    <tr>\n",
       "      <th rowspan=\"3\" valign=\"top\">C</th>\n",
       "      <th>SRR</th>\n",
       "      <td>3420530</td>\n",
       "      <td>140700401</td>\n",
       "      <td>140</td>\n",
       "      <td>36</td>\n",
       "      <td>140700000</td>\n",
       "    </tr>\n",
       "    <tr>\n",
       "      <th>SRR</th>\n",
       "      <td>586184</td>\n",
       "      <td>140700401</td>\n",
       "      <td>2</td>\n",
       "      <td>35</td>\n",
       "      <td>140700000</td>\n",
       "    </tr>\n",
       "    <tr>\n",
       "      <th>SRR</th>\n",
       "      <td>4444531</td>\n",
       "      <td>140700401</td>\n",
       "      <td>16</td>\n",
       "      <td>39</td>\n",
       "      <td>140700000</td>\n",
       "    </tr>\n",
       "  </tbody>\n",
       "</table>\n",
       "</div>"
      ],
      "text/plain": [
       "features         Run_digits        Pos  ReadDepth  AverageBaseQuality  \\\n",
       "Chr base Run_db                                                         \n",
       "2   C    SRR         796215  140700401          1                  41   \n",
       "    A    SRR        5882370  140700401          1                  11   \n",
       "    C    SRR        3420530  140700401        140                  36   \n",
       "         SRR         586184  140700401          2                  35   \n",
       "         SRR        4444531  140700401         16                  39   \n",
       "\n",
       "features             block  \n",
       "Chr base Run_db             \n",
       "2   C    SRR     140700000  \n",
       "    A    SRR     140700000  \n",
       "    C    SRR     140700000  \n",
       "         SRR     140700000  \n",
       "         SRR     140700000  "
      ]
     },
     "execution_count": 5,
     "metadata": {},
     "output_type": "execute_result"
    }
   ],
   "source": [
    "tmpChunkDf.head()"
   ]
  },
  {
   "cell_type": "markdown",
   "metadata": {},
   "source": [
    "### Accessing RNAseq dataframe\n",
    "\n",
    "Read out any gene expression level for >100k of experiments in 10ms. \n",
    "\n",
    "input: genename, output: experiment by TPM vector"
   ]
  },
  {
   "cell_type": "code",
   "execution_count": 6,
   "metadata": {
    "collapsed": true
   },
   "outputs": [],
   "source": [
    "\"\"\"\n",
    "a standalone function for memory mapping the data\n",
    "\"\"\"\n",
    "def loadDf(fname,mmap_mode='r'):\n",
    "    with open(fname+'.index.txt') as f:\n",
    "        myIndex=map(lambda s:s.replace(\"\\n\",\"\"), f.readlines())\n",
    "    with open(fname+'.columns.txt') as f:\n",
    "        myColumns=map(lambda s:s.replace(\"\\n\",\"\"), f.readlines())\n",
    "    tmpMatrix=np.load(fname+\".npy\",mmap_mode=mmap_mode)\n",
    "    tmpDf=pd.DataFrame(tmpMatrix,index=myIndex,columns=myColumns)\n",
    "    tmpDf.columns.name='Run'\n",
    "    return tmpDf"
   ]
  },
  {
   "cell_type": "code",
   "execution_count": 8,
   "metadata": {
    "collapsed": true
   },
   "outputs": [],
   "source": [
    "expressionMetric='TPM'\n",
    "#change this to where the matrix is located on your computer\n",
    "baseDir='/cellar/users/btsui/Data/nrnb01_nobackup/Data/SRA/MATRIX/DATA/hgGRC38/'\n",
    "dataMatrixDir=baseDir+'/allSRAmatrix.realign.v9.base.{feature}.gene.symbol'.format(feature=expressionMetric)"
   ]
  },
  {
   "cell_type": "code",
   "execution_count": 9,
   "metadata": {},
   "outputs": [
    {
     "name": "stdout",
     "output_type": "stream",
     "text": [
      "CPU times: user 120 ms, sys: 24 ms, total: 144 ms\n",
      "Wall time: 134 ms\n"
     ]
    }
   ],
   "source": [
    "%%time\n",
    "rnaseqDf=loadDf(dataMatrixDir)"
   ]
  },
  {
   "cell_type": "code",
   "execution_count": 10,
   "metadata": {},
   "outputs": [
    {
     "name": "stdout",
     "output_type": "stream",
     "text": [
      "CPU times: user 4 ms, sys: 0 ns, total: 4 ms\n",
      "Wall time: 7.39 ms\n"
     ]
    }
   ],
   "source": [
    "%%time\n",
    "geneS=rnaseqDf.loc['CDK1']"
   ]
  },
  {
   "cell_type": "code",
   "execution_count": 12,
   "metadata": {},
   "outputs": [
    {
     "data": {
      "text/plain": [
       "Run\n",
       "SRR4456480    56.119999\n",
       "SRR4456481     0.000000\n",
       "SRR4456482     0.000000\n",
       "SRR4456483     0.000000\n",
       "SRR4456484     0.000000\n",
       "Name: CDK1, dtype: float32"
      ]
     },
     "execution_count": 12,
     "metadata": {},
     "output_type": "execute_result"
    }
   ],
   "source": [
    "geneS.head()"
   ]
  },
  {
   "cell_type": "markdown",
   "metadata": {},
   "source": [
    "### Accesing biological metadata dataframe\n",
    "\n",
    "For more information about bio_metaDf columns:\n",
    "\n",
    "Sample: https://www.ncbi.nlm.nih.gov/books/NBK56913/\n",
    "\n",
    "attribute: https://www.ncbi.nlm.nih.gov/biosample/docs/attributes/\n",
    "\n",
    "NCIT_Eng, NCIT_ID: https://ncit.nci.nih.gov/\n",
    "\n",
    "NLM_CUI: https://www.nlm.nih.gov/research/umls/new_users/online_learning/Meta_005.html\n",
    "\n",
    "The NLP tool used for mapping freetexts to terms is called metamap:\n",
    "https://metamap.nlm.nih.gov/"
   ]
  },
  {
   "cell_type": "code",
   "execution_count": 13,
   "metadata": {
    "collapsed": true
   },
   "outputs": [],
   "source": [
    "metaDataMappingSDir='/cellar/users/btsui/Data/nrnb01_nobackup/METAMAP//input/allAttrib.v5.csv.NCI.prefilter.pyc'\n",
    "bio_metaDf=pd.read_pickle(metaDataMappingSDir)"
   ]
  },
  {
   "cell_type": "markdown",
   "metadata": {},
   "source": [
    "Here is how it looks like"
   ]
  },
  {
   "cell_type": "code",
   "execution_count": 17,
   "metadata": {},
   "outputs": [
    {
     "data": {
      "text/html": [
       "<div>\n",
       "<style>\n",
       "    .dataframe thead tr:only-child th {\n",
       "        text-align: right;\n",
       "    }\n",
       "\n",
       "    .dataframe thead th {\n",
       "        text-align: left;\n",
       "    }\n",
       "\n",
       "    .dataframe tbody tr th {\n",
       "        vertical-align: top;\n",
       "    }\n",
       "</style>\n",
       "<table border=\"1\" class=\"dataframe\">\n",
       "  <thead>\n",
       "    <tr style=\"text-align: right;\">\n",
       "      <th></th>\n",
       "      <th>srs</th>\n",
       "      <th>attrib</th>\n",
       "      <th>CUI</th>\n",
       "      <th>score</th>\n",
       "      <th>NCI</th>\n",
       "      <th>NciEng</th>\n",
       "    </tr>\n",
       "  </thead>\n",
       "  <tbody>\n",
       "    <tr>\n",
       "      <th>0</th>\n",
       "      <td>SRS286232</td>\n",
       "      <td>sex</td>\n",
       "      <td>C1706180</td>\n",
       "      <td>1000</td>\n",
       "      <td>C46109</td>\n",
       "      <td>Male Gender</td>\n",
       "    </tr>\n",
       "    <tr>\n",
       "      <th>1</th>\n",
       "      <td>SRS286232</td>\n",
       "      <td>sex</td>\n",
       "      <td>C1706429</td>\n",
       "      <td>1000</td>\n",
       "      <td>C46107</td>\n",
       "      <td>Male, Self-Report</td>\n",
       "    </tr>\n",
       "    <tr>\n",
       "      <th>2</th>\n",
       "      <td>SRS286232</td>\n",
       "      <td>sex</td>\n",
       "      <td>C1706428</td>\n",
       "      <td>1000</td>\n",
       "      <td>C46112</td>\n",
       "      <td>Male Phenotype</td>\n",
       "    </tr>\n",
       "    <tr>\n",
       "      <th>3</th>\n",
       "      <td>DRS052357</td>\n",
       "      <td>BioSampleModel</td>\n",
       "      <td>C1332821</td>\n",
       "      <td>694</td>\n",
       "      <td>C24597</td>\n",
       "      <td>CXCL9 Gene</td>\n",
       "    </tr>\n",
       "    <tr>\n",
       "      <th>4</th>\n",
       "      <td>DRS052357</td>\n",
       "      <td>BioSampleModel</td>\n",
       "      <td>C1707170</td>\n",
       "      <td>694</td>\n",
       "      <td>C49770</td>\n",
       "      <td>CXCL9 wt Allele</td>\n",
       "    </tr>\n",
       "  </tbody>\n",
       "</table>\n",
       "</div>"
      ],
      "text/plain": [
       "         srs          attrib       CUI  score     NCI             NciEng\n",
       "0  SRS286232             sex  C1706180   1000  C46109        Male Gender\n",
       "1  SRS286232             sex  C1706429   1000  C46107  Male, Self-Report\n",
       "2  SRS286232             sex  C1706428   1000  C46112     Male Phenotype\n",
       "3  DRS052357  BioSampleModel  C1332821    694  C24597         CXCL9 Gene\n",
       "4  DRS052357  BioSampleModel  C1707170    694  C49770    CXCL9 wt Allele"
      ]
     },
     "execution_count": 17,
     "metadata": {},
     "output_type": "execute_result"
    }
   ],
   "source": [
    "bio_metaDf.head()"
   ]
  },
  {
   "cell_type": "code",
   "execution_count": 14,
   "metadata": {},
   "outputs": [
    {
     "name": "stdout",
     "output_type": "stream",
     "text": [
      "# of unique biological sample annotations with terms extracted: 3068221\n"
     ]
    }
   ],
   "source": [
    "print '# of unique biological sample annotations with terms extracted:',bio_metaDf['srs'].nunique()"
   ]
  },
  {
   "cell_type": "markdown",
   "metadata": {},
   "source": [
    "Millions of biological annotations have NLP key words extracted with high number of unique terms, suggesting that public data deposited in SRA has both high volumne and diversity in experimental conditions. "
   ]
  },
  {
   "cell_type": "code",
   "execution_count": 15,
   "metadata": {},
   "outputs": [
    {
     "name": "stdout",
     "output_type": "stream",
     "text": [
      "# of unique biomedical terms: 20150\n"
     ]
    }
   ],
   "source": [
    "print '# of unique biomedical terms:',bio_metaDf['NCI'].nunique()"
   ]
  },
  {
   "cell_type": "markdown",
   "metadata": {},
   "source": [
    "### Accessing technical metadata dataframe\n",
    "\n",
    "For more information about the aliases used in the follow meta data:\n",
    "\n",
    "https://www.ncbi.nlm.nih.gov/books/NBK56913/\n",
    "\n"
   ]
  },
  {
   "cell_type": "code",
   "execution_count": 18,
   "metadata": {
    "collapsed": true
   },
   "outputs": [],
   "source": [
    "##change the directory\n",
    "sra_dump_pickle_dir='/cellar/users/btsui/Data/SRA/DUMP/sra_dump.pickle'\n",
    "technical_meta_data_df=pd.read_pickle(sra_dump_pickle_dir)"
   ]
  },
  {
   "cell_type": "code",
   "execution_count": 21,
   "metadata": {},
   "outputs": [
    {
     "name": "stdout",
     "output_type": "stream",
     "text": [
      "# of SRRs:  3763299\n"
     ]
    }
   ],
   "source": [
    "print '# of SRRs: ',technical_meta_data_df.shape[0]"
   ]
  },
  {
   "cell_type": "code",
   "execution_count": 20,
   "metadata": {},
   "outputs": [
    {
     "data": {
      "text/html": [
       "<div>\n",
       "<style>\n",
       "    .dataframe thead tr:only-child th {\n",
       "        text-align: right;\n",
       "    }\n",
       "\n",
       "    .dataframe thead th {\n",
       "        text-align: left;\n",
       "    }\n",
       "\n",
       "    .dataframe tbody tr th {\n",
       "        vertical-align: top;\n",
       "    }\n",
       "</style>\n",
       "<table border=\"1\" class=\"dataframe\">\n",
       "  <thead>\n",
       "    <tr style=\"text-align: right;\">\n",
       "      <th></th>\n",
       "      <th>Member_Name</th>\n",
       "      <th>Experiment</th>\n",
       "      <th>Sample</th>\n",
       "      <th>Study</th>\n",
       "      <th>Spots</th>\n",
       "      <th>Bases</th>\n",
       "      <th>Status</th>\n",
       "      <th>ScientificName</th>\n",
       "      <th>LibraryStrategy</th>\n",
       "      <th>LibraryLayout</th>\n",
       "      <th>...</th>\n",
       "      <th>proj_accession_Updated</th>\n",
       "      <th>proj_accession_Published</th>\n",
       "      <th>proj_accession_Received</th>\n",
       "      <th>proj_accession_Type</th>\n",
       "      <th>proj_accession_Center</th>\n",
       "      <th>proj_accession_Visibility</th>\n",
       "      <th>proj_accession_Loaded</th>\n",
       "      <th>proj_accession_ReplacedBy</th>\n",
       "      <th>Run_db</th>\n",
       "      <th>Run_digits</th>\n",
       "    </tr>\n",
       "    <tr>\n",
       "      <th>Run</th>\n",
       "      <th></th>\n",
       "      <th></th>\n",
       "      <th></th>\n",
       "      <th></th>\n",
       "      <th></th>\n",
       "      <th></th>\n",
       "      <th></th>\n",
       "      <th></th>\n",
       "      <th></th>\n",
       "      <th></th>\n",
       "      <th></th>\n",
       "      <th></th>\n",
       "      <th></th>\n",
       "      <th></th>\n",
       "      <th></th>\n",
       "      <th></th>\n",
       "      <th></th>\n",
       "      <th></th>\n",
       "      <th></th>\n",
       "      <th></th>\n",
       "      <th></th>\n",
       "    </tr>\n",
       "  </thead>\n",
       "  <tbody>\n",
       "    <tr>\n",
       "      <th>SRR2401865</th>\n",
       "      <td>default</td>\n",
       "      <td>SRX1244330</td>\n",
       "      <td>SRS1068422</td>\n",
       "      <td>-</td>\n",
       "      <td>2800.0</td>\n",
       "      <td>1416405.0</td>\n",
       "      <td>live</td>\n",
       "      <td>soil_metagenome</td>\n",
       "      <td>AMPLICON</td>\n",
       "      <td>SINGLE</td>\n",
       "      <td>...</td>\n",
       "      <td>2015-09-22</td>\n",
       "      <td>2015-09-20</td>\n",
       "      <td>2015-09-15</td>\n",
       "      <td>RUN</td>\n",
       "      <td>SUB1095135</td>\n",
       "      <td>public</td>\n",
       "      <td>1</td>\n",
       "      <td>-</td>\n",
       "      <td>SRR</td>\n",
       "      <td>2401865</td>\n",
       "    </tr>\n",
       "    <tr>\n",
       "      <th>SRR2401866</th>\n",
       "      <td>default</td>\n",
       "      <td>SRX1244331</td>\n",
       "      <td>SRS1068421</td>\n",
       "      <td>-</td>\n",
       "      <td>5082.0</td>\n",
       "      <td>2563605.0</td>\n",
       "      <td>live</td>\n",
       "      <td>soil_metagenome</td>\n",
       "      <td>AMPLICON</td>\n",
       "      <td>SINGLE</td>\n",
       "      <td>...</td>\n",
       "      <td>2015-09-22</td>\n",
       "      <td>2015-09-20</td>\n",
       "      <td>2015-09-15</td>\n",
       "      <td>RUN</td>\n",
       "      <td>SUB1095135</td>\n",
       "      <td>public</td>\n",
       "      <td>1</td>\n",
       "      <td>-</td>\n",
       "      <td>SRR</td>\n",
       "      <td>2401866</td>\n",
       "    </tr>\n",
       "    <tr>\n",
       "      <th>SRR2401867</th>\n",
       "      <td>default</td>\n",
       "      <td>SRX1244332</td>\n",
       "      <td>SRS1068420</td>\n",
       "      <td>-</td>\n",
       "      <td>6169.0</td>\n",
       "      <td>3175528.0</td>\n",
       "      <td>live</td>\n",
       "      <td>soil_metagenome</td>\n",
       "      <td>AMPLICON</td>\n",
       "      <td>SINGLE</td>\n",
       "      <td>...</td>\n",
       "      <td>2015-09-22</td>\n",
       "      <td>2015-09-20</td>\n",
       "      <td>2015-09-15</td>\n",
       "      <td>RUN</td>\n",
       "      <td>SUB1095135</td>\n",
       "      <td>public</td>\n",
       "      <td>1</td>\n",
       "      <td>-</td>\n",
       "      <td>SRR</td>\n",
       "      <td>2401867</td>\n",
       "    </tr>\n",
       "    <tr>\n",
       "      <th>SRR2401868</th>\n",
       "      <td>default</td>\n",
       "      <td>SRX1244333</td>\n",
       "      <td>SRS1068419</td>\n",
       "      <td>-</td>\n",
       "      <td>8102.0</td>\n",
       "      <td>4266915.0</td>\n",
       "      <td>live</td>\n",
       "      <td>soil_metagenome</td>\n",
       "      <td>AMPLICON</td>\n",
       "      <td>SINGLE</td>\n",
       "      <td>...</td>\n",
       "      <td>2015-09-22</td>\n",
       "      <td>2015-09-20</td>\n",
       "      <td>2015-09-15</td>\n",
       "      <td>RUN</td>\n",
       "      <td>SUB1095135</td>\n",
       "      <td>public</td>\n",
       "      <td>1</td>\n",
       "      <td>-</td>\n",
       "      <td>SRR</td>\n",
       "      <td>2401868</td>\n",
       "    </tr>\n",
       "    <tr>\n",
       "      <th>SRR2401869</th>\n",
       "      <td>default</td>\n",
       "      <td>SRX1244334</td>\n",
       "      <td>SRS1068418</td>\n",
       "      <td>-</td>\n",
       "      <td>4971.0</td>\n",
       "      <td>2519200.0</td>\n",
       "      <td>live</td>\n",
       "      <td>soil_metagenome</td>\n",
       "      <td>AMPLICON</td>\n",
       "      <td>SINGLE</td>\n",
       "      <td>...</td>\n",
       "      <td>2015-09-22</td>\n",
       "      <td>2015-09-20</td>\n",
       "      <td>2015-09-15</td>\n",
       "      <td>RUN</td>\n",
       "      <td>SUB1095135</td>\n",
       "      <td>public</td>\n",
       "      <td>1</td>\n",
       "      <td>-</td>\n",
       "      <td>SRR</td>\n",
       "      <td>2401869</td>\n",
       "    </tr>\n",
       "  </tbody>\n",
       "</table>\n",
       "<p>5 rows × 22 columns</p>\n",
       "</div>"
      ],
      "text/plain": [
       "           Member_Name  Experiment      Sample Study   Spots      Bases  \\\n",
       "Run                                                                       \n",
       "SRR2401865     default  SRX1244330  SRS1068422     -  2800.0  1416405.0   \n",
       "SRR2401866     default  SRX1244331  SRS1068421     -  5082.0  2563605.0   \n",
       "SRR2401867     default  SRX1244332  SRS1068420     -  6169.0  3175528.0   \n",
       "SRR2401868     default  SRX1244333  SRS1068419     -  8102.0  4266915.0   \n",
       "SRR2401869     default  SRX1244334  SRS1068418     -  4971.0  2519200.0   \n",
       "\n",
       "           Status   ScientificName LibraryStrategy LibraryLayout    ...      \\\n",
       "Run                                                                 ...       \n",
       "SRR2401865   live  soil_metagenome        AMPLICON        SINGLE    ...       \n",
       "SRR2401866   live  soil_metagenome        AMPLICON        SINGLE    ...       \n",
       "SRR2401867   live  soil_metagenome        AMPLICON        SINGLE    ...       \n",
       "SRR2401868   live  soil_metagenome        AMPLICON        SINGLE    ...       \n",
       "SRR2401869   live  soil_metagenome        AMPLICON        SINGLE    ...       \n",
       "\n",
       "           proj_accession_Updated proj_accession_Published  \\\n",
       "Run                                                          \n",
       "SRR2401865             2015-09-22               2015-09-20   \n",
       "SRR2401866             2015-09-22               2015-09-20   \n",
       "SRR2401867             2015-09-22               2015-09-20   \n",
       "SRR2401868             2015-09-22               2015-09-20   \n",
       "SRR2401869             2015-09-22               2015-09-20   \n",
       "\n",
       "           proj_accession_Received proj_accession_Type proj_accession_Center  \\\n",
       "Run                                                                            \n",
       "SRR2401865              2015-09-15                 RUN            SUB1095135   \n",
       "SRR2401866              2015-09-15                 RUN            SUB1095135   \n",
       "SRR2401867              2015-09-15                 RUN            SUB1095135   \n",
       "SRR2401868              2015-09-15                 RUN            SUB1095135   \n",
       "SRR2401869              2015-09-15                 RUN            SUB1095135   \n",
       "\n",
       "           proj_accession_Visibility proj_accession_Loaded  \\\n",
       "Run                                                          \n",
       "SRR2401865                    public                     1   \n",
       "SRR2401866                    public                     1   \n",
       "SRR2401867                    public                     1   \n",
       "SRR2401868                    public                     1   \n",
       "SRR2401869                    public                     1   \n",
       "\n",
       "           proj_accession_ReplacedBy Run_db Run_digits  \n",
       "Run                                                     \n",
       "SRR2401865                         -    SRR    2401865  \n",
       "SRR2401866                         -    SRR    2401866  \n",
       "SRR2401867                         -    SRR    2401867  \n",
       "SRR2401868                         -    SRR    2401868  \n",
       "SRR2401869                         -    SRR    2401869  \n",
       "\n",
       "[5 rows x 22 columns]"
      ]
     },
     "execution_count": 20,
     "metadata": {},
     "output_type": "execute_result"
    }
   ],
   "source": [
    "technical_meta_data_df.head()"
   ]
  },
  {
   "cell_type": "markdown",
   "metadata": {},
   "source": [
    "# More examples on using simple code to analyze big data\n",
    "\n",
    "**If you intend to run the example notebooks, first download the data from synapse**\n",
    "\n",
    "https://www.synapse.org/#!Synapse:syn11415602/wiki/492470\n"
   ]
  },
  {
   "cell_type": "markdown",
   "metadata": {
    "collapsed": true
   },
   "source": [
    "## High resolution mouse developmental hierachy map\n",
    "[Link](https://github.com/brianyiktaktsui/Skymap/blob/master/jupyter-notebooks/clean_notebooks/TemporalQuery_V4_all_clean.ipynb\n",
    ")\n",
    "\n",
    "Aggregating many studies (node) to form a smooth mouse developmental hierachy map. By integrating the vast amount of public data, we can cover many developmental time points, which sometime we can see a more transient expression dynamics both across tissues and within tissues over developmental time course. \n",
    "\n",
    "Each componenet represent a tissue. Each node represent a particular study at a particular time unit. The color is base on the developmental time extracted from experimental annotation using regex. The node size represent the # of sequencing runs in that particulr time point and study. Each edge represent a differentiate-to or part-of relationship.\n",
    "![alt text](./Figures/heirachy_time.png \"Logo Title Text 1\")\n",
    "And you can easily overlay gene expression level on top of it. As an example, Tp53 expression is known to be tightly regulated in development. Let's look at the dynamic of Tp53 expression over time and spatial locations in the following plot.\n",
    "![alt_text](./Figures/heirachy_Trp53.png \"tp53\")\n",
    "\n",
    "## Locating  SNP and correlating with different data layers\n",
    "https://github.com/brianyiktaktsui/Skymap/blob/master/FindStudiesWithBrafV600Mutated.ipynb\n",
    "## Simple RNAseq data slicing and hypothesis testing\n",
    "https://github.com/brianyiktaktsui/Skymap/blob/master/DataSlicingExample.ipynb\n",
    "\n",
    "[Check here for more example notebooks](https://github.com/brianyiktaktsui/Skymap/tree/master/jupyter-notebooks\n",
    ")\n",
    "\n",
    "The code for the pipelines is here:\n",
    "https://github.com/brianyiktaktsui/Skymap/tree/master/code\n",
    "\n",
    "Skymap is still in Beta V0.0. [Please feel free to leave comments](https://www.synapse.org/#!Synapse:syn11415602/discussion/default) and suggestions!!! We would love to hear feedbacks from you.\n",
    "## Acknowledgement\n",
    "\n",
    "\n",
    "Please considering citing if you are using Skymap. (doi:10.7303/syn11415602)\n",
    "\n",
    "Acknowledgement: We want to thank for the advice and resources from Dr. Hannah Carter (my PI), Dr. Jill Mesirov,Dr. Trey Ideker and Shamin Mollah. We also want to thank Dr. Ruben Arbagayen, Dr. Nate Lewis for their suggestion. \n",
    "The method will soon be posted in bioarchive. Also, we want to thank the Sage Bio Network for hosting the data. We also thank to thank the NCBI for holding all the published raw reads at  [Sequnece Read Archive](https://www.ncbi.nlm.nih.gov/sra). \n",
    "Grant money that make this work possible: NIH DP5OD017937,GM103504\n",
    "\n",
    "Term of use: Use Skymap however you want. Just dont sue me, I have no money. \n",
    "\n",
    "For why I named it Skymap, I forgot."
   ]
  },
  {
   "cell_type": "markdown",
   "metadata": {
    "collapsed": true
   },
   "source": []
  },
  {
   "cell_type": "code",
   "execution_count": null,
   "metadata": {
    "collapsed": true
   },
   "outputs": [],
   "source": []
  }
 ],
 "metadata": {
  "kernelspec": {
   "display_name": "Python 2",
   "language": "python",
   "name": "python2"
  },
  "language_info": {
   "codemirror_mode": {
    "name": "ipython",
    "version": 2
   },
   "file_extension": ".py",
   "mimetype": "text/x-python",
   "name": "python",
   "nbconvert_exporter": "python",
   "pygments_lexer": "ipython2",
   "version": "2.7.14"
  }
 },
 "nbformat": 4,
 "nbformat_minor": 1
}
