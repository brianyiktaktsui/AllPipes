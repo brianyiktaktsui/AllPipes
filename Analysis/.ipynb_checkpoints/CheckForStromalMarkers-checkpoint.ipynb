{
 "cells": [
  {
   "cell_type": "code",
   "execution_count": 13,
   "metadata": {},
   "outputs": [],
   "source": [
    "### parameters\n",
    "%matplotlib inline\n",
    "import seaborn as sns\n",
    "import pandas as pd\n",
    "import numpy as np\n",
    "\n",
    "mySpecie='Homo_sapiens'\n",
    "\"\"\"\n",
    "Download from synapse if it is not installed\n",
    "\"\"\"\n",
    "skymap_snp_dir='/cellar/users/btsui/Data/SRA/snp/{specie}_snp_pos/'.format(specie=mySpecie)"
   ]
  },
  {
   "cell_type": "code",
   "execution_count": 14,
   "metadata": {},
   "outputs": [
    {
     "name": "stdout",
     "output_type": "stream",
     "text": [
      "CPU times: user 16.7 s, sys: 3.02 s, total: 19.7 s\n",
      "Wall time: 19.8 s\n"
     ]
    }
   ],
   "source": [
    "%%time\n",
    "metaDataMappingSDir='/cellar/users/btsui/Data/nrnb01_nobackup/METAMAP//input/allAttrib.v5.csv.NCI.prefilter.pyc'\n",
    "bio_metaDf=pd.read_pickle(metaDataMappingSDir)"
   ]
  },
  {
   "cell_type": "code",
   "execution_count": 16,
   "metadata": {},
   "outputs": [],
   "source": [
    "termCountS=bio_metaDf.NciEng.value_counts()"
   ]
  },
  {
   "cell_type": "code",
   "execution_count": 180,
   "metadata": {},
   "outputs": [],
   "source": [
    "#termCountS[termCountS.index.str.contains('breast',case=False)]"
   ]
  },
  {
   "cell_type": "code",
   "execution_count": 181,
   "metadata": {},
   "outputs": [],
   "source": [
    "#bio_metaDf.attrib.value_counts()"
   ]
  },
  {
   "cell_type": "code",
   "execution_count": 103,
   "metadata": {},
   "outputs": [],
   "source": [
    "m22=bio_metaDf.attrib.isin(['cell type','source name'])"
   ]
  },
  {
   "cell_type": "code",
   "execution_count": 155,
   "metadata": {},
   "outputs": [],
   "source": [
    "m_primary=bio_metaDf.NciEng.str.contains('primary',case=False)"
   ]
  },
  {
   "cell_type": "code",
   "execution_count": 111,
   "metadata": {},
   "outputs": [],
   "source": [
    "m_breast=bio_metaDf.NciEng=='Malignant Breast Neoplasm'"
   ]
  },
  {
   "cell_type": "code",
   "execution_count": null,
   "metadata": {},
   "outputs": [],
   "source": [
    "m_cell_line=bio_metaDf.attrib=='cell line'"
   ]
  },
  {
   "cell_type": "code",
   "execution_count": 132,
   "metadata": {},
   "outputs": [],
   "source": [
    "inTmpBioMetaDf=bio_metaDf.copy()"
   ]
  },
  {
   "cell_type": "code",
   "execution_count": 134,
   "metadata": {},
   "outputs": [
    {
     "data": {
      "text/html": [
       "<div>\n",
       "<style scoped>\n",
       "    .dataframe tbody tr th:only-of-type {\n",
       "        vertical-align: middle;\n",
       "    }\n",
       "\n",
       "    .dataframe tbody tr th {\n",
       "        vertical-align: top;\n",
       "    }\n",
       "\n",
       "    .dataframe thead th {\n",
       "        text-align: right;\n",
       "    }\n",
       "</style>\n",
       "<table border=\"1\" class=\"dataframe\">\n",
       "  <thead>\n",
       "    <tr style=\"text-align: right;\">\n",
       "      <th></th>\n",
       "      <th>srs</th>\n",
       "      <th>attrib</th>\n",
       "      <th>CUI</th>\n",
       "      <th>score</th>\n",
       "      <th>NCI</th>\n",
       "      <th>NciEng</th>\n",
       "    </tr>\n",
       "  </thead>\n",
       "  <tbody>\n",
       "    <tr>\n",
       "      <th>0</th>\n",
       "      <td>SRS286232</td>\n",
       "      <td>sex</td>\n",
       "      <td>C1706180</td>\n",
       "      <td>1000</td>\n",
       "      <td>C46109</td>\n",
       "      <td>Male Gender</td>\n",
       "    </tr>\n",
       "    <tr>\n",
       "      <th>1</th>\n",
       "      <td>SRS286232</td>\n",
       "      <td>sex</td>\n",
       "      <td>C1706429</td>\n",
       "      <td>1000</td>\n",
       "      <td>C46107</td>\n",
       "      <td>Male, Self-Report</td>\n",
       "    </tr>\n",
       "    <tr>\n",
       "      <th>2</th>\n",
       "      <td>SRS286232</td>\n",
       "      <td>sex</td>\n",
       "      <td>C1706428</td>\n",
       "      <td>1000</td>\n",
       "      <td>C46112</td>\n",
       "      <td>Male Phenotype</td>\n",
       "    </tr>\n",
       "    <tr>\n",
       "      <th>3</th>\n",
       "      <td>DRS052357</td>\n",
       "      <td>BioSampleModel</td>\n",
       "      <td>C1332821</td>\n",
       "      <td>694</td>\n",
       "      <td>C24597</td>\n",
       "      <td>CXCL9 Gene</td>\n",
       "    </tr>\n",
       "    <tr>\n",
       "      <th>4</th>\n",
       "      <td>DRS052357</td>\n",
       "      <td>BioSampleModel</td>\n",
       "      <td>C1707170</td>\n",
       "      <td>694</td>\n",
       "      <td>C49770</td>\n",
       "      <td>CXCL9 wt Allele</td>\n",
       "    </tr>\n",
       "  </tbody>\n",
       "</table>\n",
       "</div>"
      ],
      "text/plain": [
       "         srs          attrib       CUI  score     NCI             NciEng\n",
       "0  SRS286232             sex  C1706180   1000  C46109        Male Gender\n",
       "1  SRS286232             sex  C1706429   1000  C46107  Male, Self-Report\n",
       "2  SRS286232             sex  C1706428   1000  C46112     Male Phenotype\n",
       "3  DRS052357  BioSampleModel  C1332821    694  C24597         CXCL9 Gene\n",
       "4  DRS052357  BioSampleModel  C1707170    694  C49770    CXCL9 wt Allele"
      ]
     },
     "execution_count": 134,
     "metadata": {},
     "output_type": "execute_result"
    }
   ],
   "source": [
    "bio_metaDf.head()"
   ]
  },
  {
   "cell_type": "code",
   "execution_count": 157,
   "metadata": {},
   "outputs": [],
   "source": [
    "tmpSrs=np.intersect1d(bio_metaDf[m_primary].srs, bio_metaDf[m22].srs)\n"
   ]
  },
  {
   "cell_type": "code",
   "execution_count": 163,
   "metadata": {},
   "outputs": [],
   "source": [
    "caseSrs=np.intersect1d(tmpSrs,bio_metaDf[m_breast].srs)\n",
    "\n",
    "#caseSrs=bio_metaDf_hit.srs.unique()"
   ]
  },
  {
   "cell_type": "code",
   "execution_count": 165,
   "metadata": {},
   "outputs": [],
   "source": [
    "#caseSrs"
   ]
  },
  {
   "cell_type": "code",
   "execution_count": 138,
   "metadata": {},
   "outputs": [],
   "source": [
    "#bio_metaDf_hit=bio_metaDf[m_cell_line&m_breast]\n",
    "ctrlSrs=np.intersect1d(bio_metaDf[m_cell_line].srs, bio_metaDf[m_breast].srs)"
   ]
  },
  {
   "cell_type": "code",
   "execution_count": 150,
   "metadata": {},
   "outputs": [
    {
     "data": {
      "text/plain": [
       "array(['DRS007732', 'DRS007733', 'DRS008484', ..., 'SRS987464',\n",
       "       'SRS987465', 'SRS987466'], dtype=object)"
      ]
     },
     "execution_count": 150,
     "metadata": {},
     "output_type": "execute_result"
    }
   ],
   "source": [
    "ctrlSrs"
   ]
  },
  {
   "cell_type": "code",
   "execution_count": 117,
   "metadata": {},
   "outputs": [
    {
     "name": "stdout",
     "output_type": "stream",
     "text": [
      "CPU times: user 2 s, sys: 352 ms, total: 2.35 s\n",
      "Wall time: 2.36 s\n"
     ]
    }
   ],
   "source": [
    "%%time\n",
    "sra_dump_pickle_dir='/cellar/users/btsui/Data/SRA/DUMP/sra_dump.pickle'\n",
    "technical_meta_data_df=pd.read_pickle(sra_dump_pickle_dir)"
   ]
  },
  {
   "cell_type": "code",
   "execution_count": 167,
   "metadata": {},
   "outputs": [],
   "source": [
    "technical_meta_data_df_sub=technical_meta_data_df[technical_meta_data_df.Sample.isin(caseSrs)]"
   ]
  },
  {
   "cell_type": "code",
   "execution_count": 168,
   "metadata": {},
   "outputs": [],
   "source": [
    "technical_meta_data_df_sub_ctrl=technical_meta_data_df[technical_meta_data_df.Sample.isin(ctrlSrs)]"
   ]
  },
  {
   "cell_type": "code",
   "execution_count": 141,
   "metadata": {},
   "outputs": [
    {
     "data": {
      "text/plain": [
       "'\\nextract the run from the sequencing data \\n'"
      ]
     },
     "execution_count": 141,
     "metadata": {},
     "output_type": "execute_result"
    }
   ],
   "source": [
    "\"\"\"\n",
    "extract the run from the sequencing data \n",
    "\"\"\""
   ]
  },
  {
   "cell_type": "code",
   "execution_count": 147,
   "metadata": {},
   "outputs": [],
   "source": [
    "\n",
    "def loadDf(fname,mmap_mode='r'):\n",
    "    with open(fname+'.index.txt') as f:\n",
    "        myIndex=map(lambda s:s.replace(\"\\n\",\"\"), f.readlines())\n",
    "    with open(fname+'.columns.txt') as f:\n",
    "        myColumns=map(lambda s:s.replace(\"\\n\",\"\"), f.readlines())\n",
    "    tmpMatrix=np.load(fname+\".npy\",mmap_mode=mmap_mode)\n",
    "    tmpDf=pd.DataFrame(tmpMatrix,index=myIndex,columns=myColumns)\n",
    "    tmpDf.columns.name='Run'\n",
    "    return tmpDf"
   ]
  },
  {
   "cell_type": "code",
   "execution_count": 148,
   "metadata": {},
   "outputs": [],
   "source": [
    "expression_metric='TPM'\n",
    "#change this to where the matrix is located on your computer\n",
    "baseDir='/cellar/users/btsui/Data/nrnb01_nobackup/Data/SRA/MATRIX/DATA/hgGRC38/'\n",
    "data_matrix_dir_fmt=baseDir+'/allSRAmatrix.realign.v9.base.{feature}.gene.symbol'.format(feature=expression_metric)\n",
    "rnaseqDf=loadDf(data_matrix_dir_fmt)"
   ]
  },
  {
   "cell_type": "code",
   "execution_count": 188,
   "metadata": {},
   "outputs": [],
   "source": [
    "caseIds=pd.Series(np.intersect1d(technical_meta_data_df_sub.index,rnaseqDf.columns)).sample(n=400).values\n",
    "ctrlIds=pd.Series(np.intersect1d(technical_meta_data_df_sub_ctrl.index,rnaseqDf.columns)).sample(n=400).values#ctrlSrs"
   ]
  },
  {
   "cell_type": "code",
   "execution_count": 189,
   "metadata": {},
   "outputs": [
    {
     "data": {
      "text/plain": [
       "400"
      ]
     },
     "execution_count": 189,
     "metadata": {},
     "output_type": "execute_result"
    }
   ],
   "source": [
    "len(caseIds)"
   ]
  },
  {
   "cell_type": "code",
   "execution_count": 190,
   "metadata": {},
   "outputs": [],
   "source": [
    "otherIds=pd.Series(list(set(rnaseqDf.columns.tolist())-set(caseIds))).sample(n=200).values"
   ]
  },
  {
   "cell_type": "code",
   "execution_count": 191,
   "metadata": {},
   "outputs": [],
   "source": [
    "otherDf=rnaseqDf.loc[:,otherIds]"
   ]
  },
  {
   "cell_type": "code",
   "execution_count": 192,
   "metadata": {},
   "outputs": [],
   "source": [
    "#CD44, CD45, CD90 CD29 and CD105"
   ]
  },
  {
   "cell_type": "code",
   "execution_count": 193,
   "metadata": {
    "scrolled": true
   },
   "outputs": [],
   "source": [
    "caseDf=rnaseqDf.loc[:,caseIds]"
   ]
  },
  {
   "cell_type": "code",
   "execution_count": 194,
   "metadata": {},
   "outputs": [],
   "source": [
    "mergedDf=np.log2(pd.concat([caseDf,otherDf],axis=1,keys=['case','ctrl'])+1)"
   ]
  },
  {
   "cell_type": "code",
   "execution_count": 195,
   "metadata": {},
   "outputs": [],
   "source": [
    "\n",
    "#https://www.ncbi.nlm.nih.gov/pmc/articles/PMC5278527/"
   ]
  },
  {
   "cell_type": "code",
   "execution_count": 197,
   "metadata": {},
   "outputs": [
    {
     "data": {
      "text/plain": [
       "<matplotlib.axes._subplots.AxesSubplot at 0x2adef460b128>"
      ]
     },
     "execution_count": 197,
     "metadata": {},
     "output_type": "execute_result"
    },
    {
     "data": {
      "image/png": "[encoded data removed]",
      "text/plain": [
       "<matplotlib.figure.Figure at 0x2adef4409d30>"
      ]
     },
     "metadata": {},
     "output_type": "display_data"
    }
   ],
   "source": [
    "stromalMarkers=['VIM']\n",
    "stackS=mergedDf.loc[stromalMarkers].T.stack()\n",
    "sns.boxplot(data=stackS[stackS>0].reset_index(),x='level_2',hue='level_0',y=0)"
   ]
  },
  {
   "cell_type": "code",
   "execution_count": null,
   "metadata": {},
   "outputs": [],
   "source": []
  },
  {
   "cell_type": "code",
   "execution_count": 198,
   "metadata": {},
   "outputs": [
    {
     "name": "stdout",
     "output_type": "stream",
     "text": [
      "/cellar/users/btsui/Project/METAMAP/notebook/RapMapTest/Analysis/Project/METAMAP/notebook/RapMapTest/Analysis/CheckForStromalMarkers.ipynb\r\n"
     ]
    }
   ],
   "source": [
    "!echo $PWD/Project/METAMAP/notebook/RapMapTest/Analysis/CheckForStromalMarkers.ipynb"
   ]
  },
  {
   "cell_type": "code",
   "execution_count": null,
   "metadata": {},
   "outputs": [],
   "source": []
  }
 ],
 "metadata": {
  "kernelspec": {
   "display_name": "Python 3",
   "language": "python",
   "name": "python3"
  },
  "language_info": {
   "codemirror_mode": {
    "name": "ipython",
    "version": 3
   },
   "file_extension": ".py",
   "mimetype": "text/x-python",
   "name": "python",
   "nbconvert_exporter": "python",
   "pygments_lexer": "ipython3",
   "version": "3.6.4"
  }
 },
 "nbformat": 4,
 "nbformat_minor": 2
}
