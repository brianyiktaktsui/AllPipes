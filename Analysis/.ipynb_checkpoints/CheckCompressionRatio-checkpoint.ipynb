{
 "cells": [
  {
   "cell_type": "code",
   "execution_count": 10,
   "metadata": {
    "collapsed": true
   },
   "outputs": [],
   "source": [
    "import pandas as pd\n",
    "import numpy as np\n",
    "%matplotlib inline"
   ]
  },
  {
   "cell_type": "code",
   "execution_count": 151,
   "metadata": {
    "collapsed": false
   },
   "outputs": [],
   "source": [
    "inDf=pd.read_pickle('0.pickle.gz')"
   ]
  },
  {
   "cell_type": "code",
   "execution_count": 152,
   "metadata": {
    "collapsed": false
   },
   "outputs": [],
   "source": [
    "outResultDir='./Results/'"
   ]
  },
  {
   "cell_type": "code",
   "execution_count": 153,
   "metadata": {
    "collapsed": true
   },
   "outputs": [],
   "source": [
    "countS=inDf['ReadDepth'].value_counts()"
   ]
  },
  {
   "cell_type": "code",
   "execution_count": 154,
   "metadata": {
    "collapsed": false
   },
   "outputs": [],
   "source": [
    "#countS"
   ]
  },
  {
   "cell_type": "code",
   "execution_count": 155,
   "metadata": {
    "collapsed": false
   },
   "outputs": [],
   "source": [
    "myThresDict={}\n",
    "for threshold in np.arange(1,50):\n",
    "    myCompressionRatio=countS[\n",
    "        countS.index>=threshold].sum()/float(countS.sum())\n",
    "    myThresDict[threshold]=myCompressionRatio"
   ]
  },
  {
   "cell_type": "code",
   "execution_count": 156,
   "metadata": {
    "collapsed": false,
    "scrolled": true
   },
   "outputs": [
    {
     "data": {
      "text/plain": [
       "1     1.000000\n",
       "2     0.659007\n",
       "3     0.522866\n",
       "4     0.449126\n",
       "5     0.397696\n",
       "6     0.359520\n",
       "7     0.329078\n",
       "8     0.304163\n",
       "9     0.282969\n",
       "10    0.264904\n",
       "11    0.249062\n",
       "12    0.235317\n",
       "13    0.223161\n",
       "14    0.212393\n",
       "15    0.202766\n",
       "16    0.194107\n",
       "17    0.186204\n",
       "18    0.179019\n",
       "19    0.172401\n",
       "20    0.166410\n",
       "21    0.160842\n",
       "22    0.155683\n",
       "23    0.150823\n",
       "24    0.146293\n",
       "25    0.142063\n",
       "26    0.138109\n",
       "27    0.134392\n",
       "28    0.130906\n",
       "29    0.127552\n",
       "30    0.124358\n",
       "31    0.121342\n",
       "32    0.118452\n",
       "33    0.115764\n",
       "34    0.113152\n",
       "35    0.110704\n",
       "36    0.108352\n",
       "37    0.106088\n",
       "38    0.103923\n",
       "39    0.101811\n",
       "40    0.099794\n",
       "41    0.097838\n",
       "42    0.095965\n",
       "43    0.094173\n",
       "44    0.092420\n",
       "45    0.090771\n",
       "46    0.089155\n",
       "47    0.087621\n",
       "48    0.086146\n",
       "49    0.084718\n",
       "dtype: float64"
      ]
     },
     "execution_count": 156,
     "metadata": {},
     "output_type": "execute_result"
    }
   ],
   "source": [
    "pd.Series(myThresDict)"
   ]
  },
  {
   "cell_type": "code",
   "execution_count": 143,
   "metadata": {
    "collapsed": false
   },
   "outputs": [
    {
     "data": {
      "text/plain": [
       "<matplotlib.axes._subplots.AxesSubplot at 0x7f8f65d99f90>"
      ]
     },
     "execution_count": 143,
     "metadata": {},
     "output_type": "execute_result"
    },
    {
     "data": {
      "image/png": "[encoded data removed]",
      "text/plain": [
       "<matplotlib.figure.Figure at 0x7f8f65e75b50>"
      ]
     },
     "metadata": {},
     "output_type": "display_data"
    }
   ],
   "source": [
    "pd.Series(myThresDict).plot()"
   ]
  },
  {
   "cell_type": "code",
   "execution_count": 142,
   "metadata": {
    "collapsed": false
   },
   "outputs": [
    {
     "data": {
      "text/plain": [
       "<matplotlib.text.Text at 0x7f8f65e52dd0>"
      ]
     },
     "execution_count": 142,
     "metadata": {},
     "output_type": "execute_result"
    },
    {
     "data": {
      "image/png": "[encoded data removed]",
      "text/plain": [
       "<matplotlib.figure.Figure at 0x7f8f65dda990>"
      ]
     },
     "metadata": {},
     "output_type": "display_data"
    }
   ],
   "source": [
    "rd_VC=countS.value_counts().sort_index(ascending=False)\n",
    "cum_sum_VC=rd_VC.cumsum()\n",
    "ax=cum_sum_VC.plot()\n",
    "ax.set_ylabel('% of data retained')\n",
    "ax.set_xlabel('Read depth cut off')"
   ]
  },
  {
   "cell_type": "code",
   "execution_count": 117,
   "metadata": {
    "collapsed": false
   },
   "outputs": [],
   "source": [
    "#rd_VC"
   ]
  },
  {
   "cell_type": "code",
   "execution_count": 110,
   "metadata": {
    "collapsed": true
   },
   "outputs": [],
   "source": [
    "dimension_max=cum_sum_VC.max()"
   ]
  },
  {
   "cell_type": "code",
   "execution_count": null,
   "metadata": {
    "collapsed": false
   },
   "outputs": [],
   "source": []
  },
  {
   "cell_type": "code",
   "execution_count": 115,
   "metadata": {
    "collapsed": false
   },
   "outputs": [
    {
     "data": {
      "text/plain": [
       "<matplotlib.text.Text at 0x7f8f0652eb10>"
      ]
     },
     "execution_count": 115,
     "metadata": {},
     "output_type": "execute_result"
    },
    {
     "data": {
      "image/png": "[encoded data removed]",
      "text/plain": [
       "<matplotlib.figure.Figure at 0x7f8f662ca990>"
      ]
     },
     "metadata": {},
     "output_type": "display_data"
    }
   ],
   "source": [
    "##value count of \n",
    "decreaseCurve=(cum_sum_VC[cum_sum_VC.index<20]/dimension_max)#.plot()\n",
    "ax=decreaseCurve.plot()\n",
    "ax.set_ylabel('% of data retained')\n",
    "ax.set_xlabel('Read count threshold')"
   ]
  },
  {
   "cell_type": "code",
   "execution_count": 109,
   "metadata": {
    "collapsed": false
   },
   "outputs": [
    {
     "data": {
      "text/plain": [
       "19    0.108860\n",
       "18    0.112075\n",
       "17    0.116411\n",
       "16    0.120299\n",
       "15    0.123140\n",
       "14    0.128150\n",
       "13    0.133308\n",
       "12    0.139439\n",
       "11    0.146991\n",
       "10    0.155065\n",
       "9     0.165308\n",
       "8     0.177271\n",
       "7     0.194093\n",
       "6     0.216972\n",
       "5     0.247701\n",
       "4     0.301533\n",
       "3     0.400449\n",
       "2     0.570766\n",
       "1     1.000000\n",
       "Name: ReadDepth, dtype: float64"
      ]
     },
     "execution_count": 109,
     "metadata": {},
     "output_type": "execute_result"
    }
   ],
   "source": [
    "decreaseCurve"
   ]
  },
  {
   "cell_type": "markdown",
   "metadata": {},
   "source": [
    "### count alternative alleles"
   ]
  },
  {
   "cell_type": "code",
   "execution_count": 168,
   "metadata": {
    "collapsed": false,
    "scrolled": true
   },
   "outputs": [],
   "source": [
    "### identify reference allelels\n",
    "snpBed='/cellar/users/btsui/Data/dbsnp/snp_beds/'+specie+'.bed'\n",
    "tmpDf_all=pd.read_csv('./2b0048e0-a062-40d2-a1e1-4bb763ea0ead.snp.txt.gz',\n",
    "                      sep='\\s+',header=None,names=np.arange(50),index_col=None,error_bad_lines=False)\n",
    "myCols=['Chr','Pos','Ref','rd_all','','A','C','G','T','N']\n",
    "tmpDf=tmpDf_all.iloc[:,:len(myCols)]\n",
    "tmpDf.columns=myCols\n",
    "myReindexedDf=tmpDf.set_index(['Chr','Pos'])\n",
    "refIndex=myReindexedDf.index"
   ]
  },
  {
   "cell_type": "code",
   "execution_count": 169,
   "metadata": {
    "collapsed": false
   },
   "outputs": [],
   "source": [
    "myReI_inDf=inDf.reset_index().set_index(['Chr','Pos'])"
   ]
  },
  {
   "cell_type": "code",
   "execution_count": 172,
   "metadata": {
    "collapsed": false
   },
   "outputs": [
    {
     "data": {
      "text/html": [
       "<div>\n",
       "<style scoped>\n",
       "    .dataframe tbody tr th:only-of-type {\n",
       "        vertical-align: middle;\n",
       "    }\n",
       "\n",
       "    .dataframe tbody tr th {\n",
       "        vertical-align: top;\n",
       "    }\n",
       "\n",
       "    .dataframe thead th {\n",
       "        text-align: right;\n",
       "    }\n",
       "</style>\n",
       "<table border=\"1\" class=\"dataframe\">\n",
       "  <thead>\n",
       "    <tr style=\"text-align: right;\">\n",
       "      <th></th>\n",
       "      <th>features</th>\n",
       "      <th>Run_db</th>\n",
       "      <th>Run_digits</th>\n",
       "      <th>base</th>\n",
       "      <th>ReadDepth</th>\n",
       "      <th>AverageBaseQuality</th>\n",
       "    </tr>\n",
       "    <tr>\n",
       "      <th>Chr</th>\n",
       "      <th>Pos</th>\n",
       "      <th></th>\n",
       "      <th></th>\n",
       "      <th></th>\n",
       "      <th></th>\n",
       "      <th></th>\n",
       "    </tr>\n",
       "  </thead>\n",
       "  <tbody>\n",
       "    <tr>\n",
       "      <th rowspan=\"30\" valign=\"top\">1</th>\n",
       "      <th>630825</th>\n",
       "      <td>ERR</td>\n",
       "      <td>38222</td>\n",
       "      <td>T</td>\n",
       "      <td>21</td>\n",
       "      <td>27</td>\n",
       "    </tr>\n",
       "    <tr>\n",
       "      <th>630833</th>\n",
       "      <td>ERR</td>\n",
       "      <td>38222</td>\n",
       "      <td>C</td>\n",
       "      <td>21</td>\n",
       "      <td>29</td>\n",
       "    </tr>\n",
       "    <tr>\n",
       "      <th>630833</th>\n",
       "      <td>ERR</td>\n",
       "      <td>38222</td>\n",
       "      <td>T</td>\n",
       "      <td>1</td>\n",
       "      <td>2</td>\n",
       "    </tr>\n",
       "    <tr>\n",
       "      <th>970788</th>\n",
       "      <td>ERR</td>\n",
       "      <td>38222</td>\n",
       "      <td>G</td>\n",
       "      <td>1</td>\n",
       "      <td>20</td>\n",
       "    </tr>\n",
       "    <tr>\n",
       "      <th>1014359</th>\n",
       "      <td>ERR</td>\n",
       "      <td>38222</td>\n",
       "      <td>G</td>\n",
       "      <td>1</td>\n",
       "      <td>25</td>\n",
       "    </tr>\n",
       "    <tr>\n",
       "      <th>1043476</th>\n",
       "      <td>ERR</td>\n",
       "      <td>38222</td>\n",
       "      <td>C</td>\n",
       "      <td>1</td>\n",
       "      <td>2</td>\n",
       "    </tr>\n",
       "    <tr>\n",
       "      <th>1044455</th>\n",
       "      <td>ERR</td>\n",
       "      <td>38222</td>\n",
       "      <td>G</td>\n",
       "      <td>1</td>\n",
       "      <td>29</td>\n",
       "    </tr>\n",
       "    <tr>\n",
       "      <th>1045444</th>\n",
       "      <td>ERR</td>\n",
       "      <td>38222</td>\n",
       "      <td>G</td>\n",
       "      <td>1</td>\n",
       "      <td>21</td>\n",
       "    </tr>\n",
       "    <tr>\n",
       "      <th>1045948</th>\n",
       "      <td>ERR</td>\n",
       "      <td>38222</td>\n",
       "      <td>C</td>\n",
       "      <td>1</td>\n",
       "      <td>31</td>\n",
       "    </tr>\n",
       "    <tr>\n",
       "      <th>1047614</th>\n",
       "      <td>ERR</td>\n",
       "      <td>38222</td>\n",
       "      <td>C</td>\n",
       "      <td>1</td>\n",
       "      <td>32</td>\n",
       "    </tr>\n",
       "    <tr>\n",
       "      <th>1047626</th>\n",
       "      <td>ERR</td>\n",
       "      <td>38222</td>\n",
       "      <td>C</td>\n",
       "      <td>1</td>\n",
       "      <td>23</td>\n",
       "    </tr>\n",
       "    <tr>\n",
       "      <th>1051811</th>\n",
       "      <td>ERR</td>\n",
       "      <td>38222</td>\n",
       "      <td>G</td>\n",
       "      <td>1</td>\n",
       "      <td>19</td>\n",
       "    </tr>\n",
       "    <tr>\n",
       "      <th>1051820</th>\n",
       "      <td>ERR</td>\n",
       "      <td>38222</td>\n",
       "      <td>T</td>\n",
       "      <td>2</td>\n",
       "      <td>30</td>\n",
       "    </tr>\n",
       "    <tr>\n",
       "      <th>1114570</th>\n",
       "      <td>ERR</td>\n",
       "      <td>38222</td>\n",
       "      <td>A</td>\n",
       "      <td>1</td>\n",
       "      <td>24</td>\n",
       "    </tr>\n",
       "    <tr>\n",
       "      <th>1161720</th>\n",
       "      <td>ERR</td>\n",
       "      <td>38222</td>\n",
       "      <td>T</td>\n",
       "      <td>1</td>\n",
       "      <td>28</td>\n",
       "    </tr>\n",
       "    <tr>\n",
       "      <th>1227055</th>\n",
       "      <td>ERR</td>\n",
       "      <td>38222</td>\n",
       "      <td>C</td>\n",
       "      <td>1</td>\n",
       "      <td>6</td>\n",
       "    </tr>\n",
       "    <tr>\n",
       "      <th>1241217</th>\n",
       "      <td>ERR</td>\n",
       "      <td>38222</td>\n",
       "      <td>T</td>\n",
       "      <td>1</td>\n",
       "      <td>2</td>\n",
       "    </tr>\n",
       "    <tr>\n",
       "      <th>1334343</th>\n",
       "      <td>ERR</td>\n",
       "      <td>38222</td>\n",
       "      <td>G</td>\n",
       "      <td>2</td>\n",
       "      <td>2</td>\n",
       "    </tr>\n",
       "    <tr>\n",
       "      <th>1334351</th>\n",
       "      <td>ERR</td>\n",
       "      <td>38222</td>\n",
       "      <td>C</td>\n",
       "      <td>2</td>\n",
       "      <td>2</td>\n",
       "    </tr>\n",
       "    <tr>\n",
       "      <th>1334372</th>\n",
       "      <td>ERR</td>\n",
       "      <td>38222</td>\n",
       "      <td>C</td>\n",
       "      <td>1</td>\n",
       "      <td>8</td>\n",
       "    </tr>\n",
       "    <tr>\n",
       "      <th>1338529</th>\n",
       "      <td>ERR</td>\n",
       "      <td>38222</td>\n",
       "      <td>G</td>\n",
       "      <td>1</td>\n",
       "      <td>24</td>\n",
       "    </tr>\n",
       "    <tr>\n",
       "      <th>1398672</th>\n",
       "      <td>ERR</td>\n",
       "      <td>38222</td>\n",
       "      <td>C</td>\n",
       "      <td>1</td>\n",
       "      <td>31</td>\n",
       "    </tr>\n",
       "    <tr>\n",
       "      <th>1485777</th>\n",
       "      <td>ERR</td>\n",
       "      <td>38222</td>\n",
       "      <td>G</td>\n",
       "      <td>1</td>\n",
       "      <td>27</td>\n",
       "    </tr>\n",
       "    <tr>\n",
       "      <th>1561821</th>\n",
       "      <td>ERR</td>\n",
       "      <td>38222</td>\n",
       "      <td>C</td>\n",
       "      <td>1</td>\n",
       "      <td>30</td>\n",
       "    </tr>\n",
       "    <tr>\n",
       "      <th>1703896</th>\n",
       "      <td>ERR</td>\n",
       "      <td>38222</td>\n",
       "      <td>G</td>\n",
       "      <td>1</td>\n",
       "      <td>30</td>\n",
       "    </tr>\n",
       "    <tr>\n",
       "      <th>1754601</th>\n",
       "      <td>ERR</td>\n",
       "      <td>38222</td>\n",
       "      <td>G</td>\n",
       "      <td>1</td>\n",
       "      <td>27</td>\n",
       "    </tr>\n",
       "    <tr>\n",
       "      <th>1758117</th>\n",
       "      <td>ERR</td>\n",
       "      <td>38222</td>\n",
       "      <td>C</td>\n",
       "      <td>1</td>\n",
       "      <td>28</td>\n",
       "    </tr>\n",
       "    <tr>\n",
       "      <th>1787378</th>\n",
       "      <td>ERR</td>\n",
       "      <td>38222</td>\n",
       "      <td>C</td>\n",
       "      <td>1</td>\n",
       "      <td>2</td>\n",
       "    </tr>\n",
       "    <tr>\n",
       "      <th>1801780</th>\n",
       "      <td>ERR</td>\n",
       "      <td>38222</td>\n",
       "      <td>G</td>\n",
       "      <td>1</td>\n",
       "      <td>32</td>\n",
       "    </tr>\n",
       "    <tr>\n",
       "      <th>1806476</th>\n",
       "      <td>ERR</td>\n",
       "      <td>38222</td>\n",
       "      <td>T</td>\n",
       "      <td>1</td>\n",
       "      <td>33</td>\n",
       "    </tr>\n",
       "    <tr>\n",
       "      <th>...</th>\n",
       "      <th>...</th>\n",
       "      <td>...</td>\n",
       "      <td>...</td>\n",
       "      <td>...</td>\n",
       "      <td>...</td>\n",
       "      <td>...</td>\n",
       "    </tr>\n",
       "    <tr>\n",
       "      <th rowspan=\"30\" valign=\"top\">MT</th>\n",
       "      <th>15446</th>\n",
       "      <td>SRR</td>\n",
       "      <td>6036901</td>\n",
       "      <td>C</td>\n",
       "      <td>1</td>\n",
       "      <td>36</td>\n",
       "    </tr>\n",
       "    <tr>\n",
       "      <th>15452</th>\n",
       "      <td>SRR</td>\n",
       "      <td>6036901</td>\n",
       "      <td>C</td>\n",
       "      <td>2</td>\n",
       "      <td>36</td>\n",
       "    </tr>\n",
       "    <tr>\n",
       "      <th>15453</th>\n",
       "      <td>SRR</td>\n",
       "      <td>6036901</td>\n",
       "      <td>T</td>\n",
       "      <td>2</td>\n",
       "      <td>34</td>\n",
       "    </tr>\n",
       "    <tr>\n",
       "      <th>15458</th>\n",
       "      <td>SRR</td>\n",
       "      <td>6036901</td>\n",
       "      <td>T</td>\n",
       "      <td>2</td>\n",
       "      <td>36</td>\n",
       "    </tr>\n",
       "    <tr>\n",
       "      <th>15459</th>\n",
       "      <td>SRR</td>\n",
       "      <td>6036901</td>\n",
       "      <td>C</td>\n",
       "      <td>2</td>\n",
       "      <td>36</td>\n",
       "    </tr>\n",
       "    <tr>\n",
       "      <th>15470</th>\n",
       "      <td>SRR</td>\n",
       "      <td>6036901</td>\n",
       "      <td>T</td>\n",
       "      <td>2</td>\n",
       "      <td>36</td>\n",
       "    </tr>\n",
       "    <tr>\n",
       "      <th>15487</th>\n",
       "      <td>SRR</td>\n",
       "      <td>6036901</td>\n",
       "      <td>A</td>\n",
       "      <td>2</td>\n",
       "      <td>36</td>\n",
       "    </tr>\n",
       "    <tr>\n",
       "      <th>15497</th>\n",
       "      <td>SRR</td>\n",
       "      <td>6036901</td>\n",
       "      <td>G</td>\n",
       "      <td>3</td>\n",
       "      <td>33</td>\n",
       "    </tr>\n",
       "    <tr>\n",
       "      <th>15498</th>\n",
       "      <td>SRR</td>\n",
       "      <td>6036901</td>\n",
       "      <td>G</td>\n",
       "      <td>2</td>\n",
       "      <td>36</td>\n",
       "    </tr>\n",
       "    <tr>\n",
       "      <th>15511</th>\n",
       "      <td>SRR</td>\n",
       "      <td>6036901</td>\n",
       "      <td>T</td>\n",
       "      <td>2</td>\n",
       "      <td>36</td>\n",
       "    </tr>\n",
       "    <tr>\n",
       "      <th>15514</th>\n",
       "      <td>SRR</td>\n",
       "      <td>6036901</td>\n",
       "      <td>T</td>\n",
       "      <td>2</td>\n",
       "      <td>36</td>\n",
       "    </tr>\n",
       "    <tr>\n",
       "      <th>15553</th>\n",
       "      <td>SRR</td>\n",
       "      <td>6036901</td>\n",
       "      <td>G</td>\n",
       "      <td>1</td>\n",
       "      <td>32</td>\n",
       "    </tr>\n",
       "    <tr>\n",
       "      <th>15746</th>\n",
       "      <td>SRR</td>\n",
       "      <td>6036901</td>\n",
       "      <td>A</td>\n",
       "      <td>1</td>\n",
       "      <td>36</td>\n",
       "    </tr>\n",
       "    <tr>\n",
       "      <th>15758</th>\n",
       "      <td>SRR</td>\n",
       "      <td>6036901</td>\n",
       "      <td>A</td>\n",
       "      <td>1</td>\n",
       "      <td>36</td>\n",
       "    </tr>\n",
       "    <tr>\n",
       "      <th>15784</th>\n",
       "      <td>SRR</td>\n",
       "      <td>6036901</td>\n",
       "      <td>T</td>\n",
       "      <td>1</td>\n",
       "      <td>36</td>\n",
       "    </tr>\n",
       "    <tr>\n",
       "      <th>15833</th>\n",
       "      <td>SRR</td>\n",
       "      <td>6036901</td>\n",
       "      <td>C</td>\n",
       "      <td>1</td>\n",
       "      <td>36</td>\n",
       "    </tr>\n",
       "    <tr>\n",
       "      <th>15848</th>\n",
       "      <td>SRR</td>\n",
       "      <td>6036901</td>\n",
       "      <td>A</td>\n",
       "      <td>2</td>\n",
       "      <td>36</td>\n",
       "    </tr>\n",
       "    <tr>\n",
       "      <th>15884</th>\n",
       "      <td>SRR</td>\n",
       "      <td>6036901</td>\n",
       "      <td>C</td>\n",
       "      <td>2</td>\n",
       "      <td>36</td>\n",
       "    </tr>\n",
       "    <tr>\n",
       "      <th>15884</th>\n",
       "      <td>SRR</td>\n",
       "      <td>6036901</td>\n",
       "      <td>G</td>\n",
       "      <td>1</td>\n",
       "      <td>36</td>\n",
       "    </tr>\n",
       "    <tr>\n",
       "      <th>15890</th>\n",
       "      <td>SRR</td>\n",
       "      <td>6036901</td>\n",
       "      <td>C</td>\n",
       "      <td>3</td>\n",
       "      <td>36</td>\n",
       "    </tr>\n",
       "    <tr>\n",
       "      <th>15923</th>\n",
       "      <td>SRR</td>\n",
       "      <td>6036901</td>\n",
       "      <td>A</td>\n",
       "      <td>1</td>\n",
       "      <td>36</td>\n",
       "    </tr>\n",
       "    <tr>\n",
       "      <th>15927</th>\n",
       "      <td>SRR</td>\n",
       "      <td>6036901</td>\n",
       "      <td>G</td>\n",
       "      <td>1</td>\n",
       "      <td>36</td>\n",
       "    </tr>\n",
       "    <tr>\n",
       "      <th>15928</th>\n",
       "      <td>SRR</td>\n",
       "      <td>6036901</td>\n",
       "      <td>G</td>\n",
       "      <td>2</td>\n",
       "      <td>36</td>\n",
       "    </tr>\n",
       "    <tr>\n",
       "      <th>15932</th>\n",
       "      <td>SRR</td>\n",
       "      <td>6036901</td>\n",
       "      <td>T</td>\n",
       "      <td>2</td>\n",
       "      <td>34</td>\n",
       "    </tr>\n",
       "    <tr>\n",
       "      <th>15943</th>\n",
       "      <td>SRR</td>\n",
       "      <td>6036901</td>\n",
       "      <td>T</td>\n",
       "      <td>2</td>\n",
       "      <td>36</td>\n",
       "    </tr>\n",
       "    <tr>\n",
       "      <th>15950</th>\n",
       "      <td>SRR</td>\n",
       "      <td>6036901</td>\n",
       "      <td>G</td>\n",
       "      <td>1</td>\n",
       "      <td>36</td>\n",
       "    </tr>\n",
       "    <tr>\n",
       "      <th>15965</th>\n",
       "      <td>SRR</td>\n",
       "      <td>6036901</td>\n",
       "      <td>A</td>\n",
       "      <td>1</td>\n",
       "      <td>36</td>\n",
       "    </tr>\n",
       "    <tr>\n",
       "      <th>15967</th>\n",
       "      <td>SRR</td>\n",
       "      <td>6036901</td>\n",
       "      <td>G</td>\n",
       "      <td>1</td>\n",
       "      <td>36</td>\n",
       "    </tr>\n",
       "    <tr>\n",
       "      <th>15990</th>\n",
       "      <td>SRR</td>\n",
       "      <td>6036901</td>\n",
       "      <td>C</td>\n",
       "      <td>1</td>\n",
       "      <td>36</td>\n",
       "    </tr>\n",
       "    <tr>\n",
       "      <th>16519</th>\n",
       "      <td>SRR</td>\n",
       "      <td>6036901</td>\n",
       "      <td>T</td>\n",
       "      <td>1</td>\n",
       "      <td>32</td>\n",
       "    </tr>\n",
       "  </tbody>\n",
       "</table>\n",
       "<p>8001006 rows × 5 columns</p>\n",
       "</div>"
      ],
      "text/plain": [
       "features    Run_db  Run_digits base  ReadDepth  AverageBaseQuality\n",
       "Chr Pos                                                           \n",
       "1   630825     ERR       38222    T         21                  27\n",
       "    630833     ERR       38222    C         21                  29\n",
       "    630833     ERR       38222    T          1                   2\n",
       "    970788     ERR       38222    G          1                  20\n",
       "    1014359    ERR       38222    G          1                  25\n",
       "    1043476    ERR       38222    C          1                   2\n",
       "    1044455    ERR       38222    G          1                  29\n",
       "    1045444    ERR       38222    G          1                  21\n",
       "    1045948    ERR       38222    C          1                  31\n",
       "    1047614    ERR       38222    C          1                  32\n",
       "    1047626    ERR       38222    C          1                  23\n",
       "    1051811    ERR       38222    G          1                  19\n",
       "    1051820    ERR       38222    T          2                  30\n",
       "    1114570    ERR       38222    A          1                  24\n",
       "    1161720    ERR       38222    T          1                  28\n",
       "    1227055    ERR       38222    C          1                   6\n",
       "    1241217    ERR       38222    T          1                   2\n",
       "    1334343    ERR       38222    G          2                   2\n",
       "    1334351    ERR       38222    C          2                   2\n",
       "    1334372    ERR       38222    C          1                   8\n",
       "    1338529    ERR       38222    G          1                  24\n",
       "    1398672    ERR       38222    C          1                  31\n",
       "    1485777    ERR       38222    G          1                  27\n",
       "    1561821    ERR       38222    C          1                  30\n",
       "    1703896    ERR       38222    G          1                  30\n",
       "    1754601    ERR       38222    G          1                  27\n",
       "    1758117    ERR       38222    C          1                  28\n",
       "    1787378    ERR       38222    C          1                   2\n",
       "    1801780    ERR       38222    G          1                  32\n",
       "    1806476    ERR       38222    T          1                  33\n",
       "...            ...         ...  ...        ...                 ...\n",
       "MT  15446      SRR     6036901    C          1                  36\n",
       "    15452      SRR     6036901    C          2                  36\n",
       "    15453      SRR     6036901    T          2                  34\n",
       "    15458      SRR     6036901    T          2                  36\n",
       "    15459      SRR     6036901    C          2                  36\n",
       "    15470      SRR     6036901    T          2                  36\n",
       "    15487      SRR     6036901    A          2                  36\n",
       "    15497      SRR     6036901    G          3                  33\n",
       "    15498      SRR     6036901    G          2                  36\n",
       "    15511      SRR     6036901    T          2                  36\n",
       "    15514      SRR     6036901    T          2                  36\n",
       "    15553      SRR     6036901    G          1                  32\n",
       "    15746      SRR     6036901    A          1                  36\n",
       "    15758      SRR     6036901    A          1                  36\n",
       "    15784      SRR     6036901    T          1                  36\n",
       "    15833      SRR     6036901    C          1                  36\n",
       "    15848      SRR     6036901    A          2                  36\n",
       "    15884      SRR     6036901    C          2                  36\n",
       "    15884      SRR     6036901    G          1                  36\n",
       "    15890      SRR     6036901    C          3                  36\n",
       "    15923      SRR     6036901    A          1                  36\n",
       "    15927      SRR     6036901    G          1                  36\n",
       "    15928      SRR     6036901    G          2                  36\n",
       "    15932      SRR     6036901    T          2                  34\n",
       "    15943      SRR     6036901    T          2                  36\n",
       "    15950      SRR     6036901    G          1                  36\n",
       "    15965      SRR     6036901    A          1                  36\n",
       "    15967      SRR     6036901    G          1                  36\n",
       "    15990      SRR     6036901    C          1                  36\n",
       "    16519      SRR     6036901    T          1                  32\n",
       "\n",
       "[8001006 rows x 5 columns]"
      ]
     },
     "execution_count": 172,
     "metadata": {},
     "output_type": "execute_result"
    }
   ],
   "source": [
    "myReI_inDf"
   ]
  },
  {
   "cell_type": "code",
   "execution_count": 171,
   "metadata": {
    "collapsed": false
   },
   "outputs": [
    {
     "data": {
      "text/plain": [
       "0.09178845760145661"
      ]
     },
     "execution_count": 171,
     "metadata": {},
     "output_type": "execute_result"
    }
   ],
   "source": [
    "myReI_inDf.index.isin(refIndex).mean()"
   ]
  },
  {
   "cell_type": "code",
   "execution_count": 161,
   "metadata": {
    "collapsed": false
   },
   "outputs": [
    {
     "data": {
      "text/plain": [
       "0.09829262896421334"
      ]
     },
     "execution_count": 161,
     "metadata": {},
     "output_type": "execute_result"
    }
   ],
   "source": [
    "SubDf=myReI_inDf[myReI_inDf['ReadDepth']>=5]\n",
    "SubDf.index.isin(refIndex).mean()"
   ]
  },
  {
   "cell_type": "code",
   "execution_count": 162,
   "metadata": {
    "collapsed": false
   },
   "outputs": [
    {
     "data": {
      "text/html": [
       "<div>\n",
       "<style scoped>\n",
       "    .dataframe tbody tr th:only-of-type {\n",
       "        vertical-align: middle;\n",
       "    }\n",
       "\n",
       "    .dataframe tbody tr th {\n",
       "        vertical-align: top;\n",
       "    }\n",
       "\n",
       "    .dataframe thead th {\n",
       "        text-align: right;\n",
       "    }\n",
       "</style>\n",
       "<table border=\"1\" class=\"dataframe\">\n",
       "  <thead>\n",
       "    <tr style=\"text-align: right;\">\n",
       "      <th></th>\n",
       "      <th></th>\n",
       "      <th>features</th>\n",
       "      <th>Run_db</th>\n",
       "      <th>Run_digits</th>\n",
       "      <th>ReadDepth</th>\n",
       "      <th>AverageBaseQuality</th>\n",
       "    </tr>\n",
       "    <tr>\n",
       "      <th>base</th>\n",
       "      <th>Chr</th>\n",
       "      <th>Pos</th>\n",
       "      <th></th>\n",
       "      <th></th>\n",
       "      <th></th>\n",
       "      <th></th>\n",
       "    </tr>\n",
       "  </thead>\n",
       "  <tbody>\n",
       "    <tr>\n",
       "      <th>T</th>\n",
       "      <th>1</th>\n",
       "      <th>630825</th>\n",
       "      <td>ERR</td>\n",
       "      <td>38222</td>\n",
       "      <td>21</td>\n",
       "      <td>27</td>\n",
       "    </tr>\n",
       "    <tr>\n",
       "      <th>C</th>\n",
       "      <th>1</th>\n",
       "      <th>630833</th>\n",
       "      <td>ERR</td>\n",
       "      <td>38222</td>\n",
       "      <td>21</td>\n",
       "      <td>29</td>\n",
       "    </tr>\n",
       "    <tr>\n",
       "      <th>T</th>\n",
       "      <th>1</th>\n",
       "      <th>630833</th>\n",
       "      <td>ERR</td>\n",
       "      <td>38222</td>\n",
       "      <td>1</td>\n",
       "      <td>2</td>\n",
       "    </tr>\n",
       "    <tr>\n",
       "      <th rowspan=\"2\" valign=\"top\">G</th>\n",
       "      <th rowspan=\"2\" valign=\"top\">1</th>\n",
       "      <th>970788</th>\n",
       "      <td>ERR</td>\n",
       "      <td>38222</td>\n",
       "      <td>1</td>\n",
       "      <td>20</td>\n",
       "    </tr>\n",
       "    <tr>\n",
       "      <th>1014359</th>\n",
       "      <td>ERR</td>\n",
       "      <td>38222</td>\n",
       "      <td>1</td>\n",
       "      <td>25</td>\n",
       "    </tr>\n",
       "  </tbody>\n",
       "</table>\n",
       "</div>"
      ],
      "text/plain": [
       "features         Run_db  Run_digits  ReadDepth  AverageBaseQuality\n",
       "base Chr Pos                                                      \n",
       "T    1   630825     ERR       38222         21                  27\n",
       "C    1   630833     ERR       38222         21                  29\n",
       "T    1   630833     ERR       38222          1                   2\n",
       "G    1   970788     ERR       38222          1                  20\n",
       "         1014359    ERR       38222          1                  25"
      ]
     },
     "execution_count": 162,
     "metadata": {},
     "output_type": "execute_result"
    }
   ],
   "source": [
    "myReI_inDf.head()"
   ]
  },
  {
   "cell_type": "code",
   "execution_count": 163,
   "metadata": {
    "collapsed": false
   },
   "outputs": [
    {
     "data": {
      "text/plain": [
       "(312764, 4)"
      ]
     },
     "execution_count": 163,
     "metadata": {},
     "output_type": "execute_result"
    }
   ],
   "source": [
    "refAlleleDf=myReI_inDf[myReI_inDf.index.isin(refIndex)]\n",
    "\n",
    "refAlleleDf[refAlleleDf['ReadDepth']>=5].shape"
   ]
  },
  {
   "cell_type": "code",
   "execution_count": 71,
   "metadata": {
    "collapsed": false
   },
   "outputs": [
    {
     "data": {
      "text/plain": [
       "312764"
      ]
     },
     "execution_count": 71,
     "metadata": {},
     "output_type": "execute_result"
    }
   ],
   "source": [
    "((refAlleleDf.ReadDepth>=5)).sum()"
   ]
  },
  {
   "cell_type": "code",
   "execution_count": 79,
   "metadata": {
    "collapsed": false
   },
   "outputs": [
    {
     "name": "stdout",
     "output_type": "stream",
     "text": [
      "0.039090584359\n"
     ]
    }
   ],
   "source": [
    "print 312764/8001006.0"
   ]
  },
  {
   "cell_type": "code",
   "execution_count": 148,
   "metadata": {
    "collapsed": false
   },
   "outputs": [
    {
     "data": {
      "text/plain": [
       "(1894289, 4)"
      ]
     },
     "execution_count": 148,
     "metadata": {},
     "output_type": "execute_result"
    }
   ],
   "source": [
    "altAlleleDf=myReI_inDf[~myReI_inDf.index.isin(refIndex)]\n",
    "\n",
    "altAlleleDf[altAlleleDf['ReadDepth']>=10].shape"
   ]
  },
  {
   "cell_type": "code",
   "execution_count": 146,
   "metadata": {
    "collapsed": false
   },
   "outputs": [
    {
     "data": {
      "text/plain": [
       "<matplotlib.axes._subplots.AxesSubplot at 0x7f8f65d518d0>"
      ]
     },
     "execution_count": 146,
     "metadata": {},
     "output_type": "execute_result"
    },
    {
     "data": {
      "image/png": "[encoded data removed]",
      "text/plain": [
       "<matplotlib.figure.Figure at 0x7f8f65cae550>"
      ]
     },
     "metadata": {},
     "output_type": "display_data"
    }
   ],
   "source": [
    "altAlleleDf['AverageBaseQuality'].hist()"
   ]
  },
  {
   "cell_type": "code",
   "execution_count": 147,
   "metadata": {
    "collapsed": false
   },
   "outputs": [
    {
     "data": {
      "text/plain": [
       "2869204"
      ]
     },
     "execution_count": 147,
     "metadata": {},
     "output_type": "execute_result"
    }
   ],
   "source": [
    "2869204"
   ]
  },
  {
   "cell_type": "code",
   "execution_count": 108,
   "metadata": {
    "collapsed": false
   },
   "outputs": [
    {
     "data": {
      "text/plain": [
       "0.23675635288862426"
      ]
     },
     "execution_count": 108,
     "metadata": {},
     "output_type": "execute_result"
    }
   ],
   "source": [
    "1894289/8001006.0"
   ]
  },
  {
   "cell_type": "code",
   "execution_count": null,
   "metadata": {
    "collapsed": true
   },
   "outputs": [],
   "source": [
    "\"\"\"\n",
    "count alternative alleles:\n",
    "count reference alleles:\n",
    "\"\"\""
   ]
  },
  {
   "cell_type": "code",
   "execution_count": null,
   "metadata": {
    "collapsed": true
   },
   "outputs": [],
   "source": [
    "\"\"\"\n",
    "\n",
    "\"\"\""
   ]
  },
  {
   "cell_type": "code",
   "execution_count": null,
   "metadata": {
    "collapsed": true
   },
   "outputs": [],
   "source": [
    "#/nrnb/users/btsui/Data/all_seq/tmp/\n",
    "#/cellar/users/btsui/Project/METAMAP/notebook/RapMapTest/Analysis/"
   ]
  }
 ],
 "metadata": {
  "kernelspec": {
   "display_name": "Python 2",
   "language": "python",
   "name": "python2"
  },
  "language_info": {
   "codemirror_mode": {
    "name": "ipython",
    "version": 2
   },
   "file_extension": ".py",
   "mimetype": "text/x-python",
   "name": "python",
   "nbconvert_exporter": "python",
   "pygments_lexer": "ipython2",
   "version": "2.7.14"
  }
 },
 "nbformat": 4,
 "nbformat_minor": 0
}
