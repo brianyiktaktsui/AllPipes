{
 "cells": [
  {
   "cell_type": "code",
   "execution_count": 1,
   "metadata": {},
   "outputs": [],
   "source": [
    "import pandas  as pd\n",
    "import os\n",
    "import numpy as np\n",
    "from tqdm import tqdm\n",
    "%matplotlib inline"
   ]
  },
  {
   "cell_type": "markdown",
   "metadata": {},
   "source": [
    "### load dbSNP VCF annotation"
   ]
  },
  {
   "cell_type": "code",
   "execution_count": 2,
   "metadata": {},
   "outputs": [
    {
     "name": "stderr",
     "output_type": "stream",
     "text": [
      "<string>:2: DtypeWarning: Columns (0) have mixed types. Specify dtype option on import or set low_memory=False.\n"
     ]
    },
    {
     "name": "stdout",
     "output_type": "stream",
     "text": [
      "CPU times: user 3.6 s, sys: 192 ms, total: 3.79 s\n",
      "Wall time: 1.86 s\n"
     ]
    }
   ],
   "source": [
    "inVcfDir='/data/cellardata/users/btsui/dbsnp/Homo_sapiens/All_20170710.f1_byte2_not_00.vcf.gz' \n",
    "%time vcfDf=pd.read_csv(inVcfDir,sep='\\t',header=None)\n",
    "vcfDf.columns=['Chr','Pos','RsId','RefBase','AltBase','','','Annot']\n",
    "vcfDf['Chr']=vcfDf['Chr'].astype(str)"
   ]
  },
  {
   "cell_type": "code",
   "execution_count": 3,
   "metadata": {},
   "outputs": [],
   "source": [
    "vcfDf['VP_Int']=vcfDf['Annot'].str.extract('VP=(0x\\w+)',expand=False).apply(lambda Str:int(Str,16))"
   ]
  },
  {
   "cell_type": "markdown",
   "metadata": {},
   "source": [
    "### identify and categorize sequencing runs based on cell lines and primary tumor tissues"
   ]
  },
  {
   "cell_type": "code",
   "execution_count": null,
   "metadata": {},
   "outputs": [],
   "source": [
    "#8 mins\n",
    "%time allSRS_S=pd.read_pickle(\"/cellar/users/btsui/Data/SRA/DUMP/allSRS.pickle.gz\")"
   ]
  },
  {
   "cell_type": "code",
   "execution_count": null,
   "metadata": {},
   "outputs": [],
   "source": [
    "allSRS_S.head()"
   ]
  },
  {
   "cell_type": "code",
   "execution_count": null,
   "metadata": {},
   "outputs": [],
   "source": [
    "allSRS_S.index.names=['SRS_ID','attribute']"
   ]
  },
  {
   "cell_type": "code",
   "execution_count": null,
   "metadata": {},
   "outputs": [],
   "source": [
    "attribute_array=allSRS_S.index.get_level_values('attribute')"
   ]
  },
  {
   "cell_type": "code",
   "execution_count": 75,
   "metadata": {},
   "outputs": [
    {
     "name": "stdout",
     "output_type": "stream",
     "text": [
      "CPU times: user 57.7 s, sys: 1.06 s, total: 58.8 s\n",
      "Wall time: 55.7 s\n"
     ]
    }
   ],
   "source": [
    "%time primary_cancer_m=allSRS_S.str.contains('primary.*tumor|cancer',case=False)"
   ]
  },
  {
   "cell_type": "code",
   "execution_count": null,
   "metadata": {},
   "outputs": [],
   "source": []
  },
  {
   "cell_type": "code",
   "execution_count": 145,
   "metadata": {},
   "outputs": [],
   "source": [
    "celline_m=attribute_array.str.contains('cell[_ ]line')"
   ]
  },
  {
   "cell_type": "code",
   "execution_count": 305,
   "metadata": {},
   "outputs": [],
   "source": [
    "cancer_m=allSRS_S.str.contains('oma',case=False)"
   ]
  },
  {
   "cell_type": "code",
   "execution_count": 323,
   "metadata": {},
   "outputs": [
    {
     "data": {
      "text/plain": [
       "0.005281996023668792"
      ]
     },
     "execution_count": 323,
     "metadata": {},
     "output_type": "execute_result"
    }
   ],
   "source": [
    "#cancer:0.0029\n",
    "cancer_m.mean()"
   ]
  },
  {
   "cell_type": "code",
   "execution_count": 324,
   "metadata": {},
   "outputs": [],
   "source": [
    "tissueS=allSRS_S[primary_cancer_m]\n",
    "cellLineS=allSRS_S[celline_m]"
   ]
  },
  {
   "cell_type": "code",
   "execution_count": 325,
   "metadata": {},
   "outputs": [
    {
     "data": {
      "text/plain": [
       "147036"
      ]
     },
     "execution_count": 325,
     "metadata": {},
     "output_type": "execute_result"
    }
   ],
   "source": [
    "primary_cancer_m.sum()"
   ]
  },
  {
   "cell_type": "code",
   "execution_count": 326,
   "metadata": {},
   "outputs": [
    {
     "data": {
      "text/plain": [
       "112887"
      ]
     },
     "execution_count": 326,
     "metadata": {},
     "output_type": "execute_result"
    }
   ],
   "source": [
    "celline_m.sum()"
   ]
  },
  {
   "cell_type": "code",
   "execution_count": 327,
   "metadata": {},
   "outputs": [],
   "source": [
    "sra_dump_df=pd.read_pickle(\"/cellar/users/btsui/Data/SRA/DUMP/sra_dump.pickle\")"
   ]
  },
  {
   "cell_type": "code",
   "execution_count": 328,
   "metadata": {},
   "outputs": [
    {
     "data": {
      "text/html": [
       "<div>\n",
       "<style scoped>\n",
       "    .dataframe tbody tr th:only-of-type {\n",
       "        vertical-align: middle;\n",
       "    }\n",
       "\n",
       "    .dataframe tbody tr th {\n",
       "        vertical-align: top;\n",
       "    }\n",
       "\n",
       "    .dataframe thead th {\n",
       "        text-align: right;\n",
       "    }\n",
       "</style>\n",
       "<table border=\"1\" class=\"dataframe\">\n",
       "  <thead>\n",
       "    <tr style=\"text-align: right;\">\n",
       "      <th></th>\n",
       "      <th>Member_Name</th>\n",
       "      <th>Experiment</th>\n",
       "      <th>Sample</th>\n",
       "      <th>Study</th>\n",
       "      <th>Spots</th>\n",
       "      <th>Bases</th>\n",
       "      <th>Status</th>\n",
       "      <th>ScientificName</th>\n",
       "      <th>LibraryStrategy</th>\n",
       "      <th>LibraryLayout</th>\n",
       "      <th>...</th>\n",
       "      <th>proj_accession_Published</th>\n",
       "      <th>proj_accession_Received</th>\n",
       "      <th>proj_accession_Type</th>\n",
       "      <th>proj_accession_Center</th>\n",
       "      <th>proj_accession_Visibility</th>\n",
       "      <th>proj_accession_Loaded</th>\n",
       "      <th>proj_accession_ReplacedBy</th>\n",
       "      <th>new_ScientificName</th>\n",
       "      <th>Run_db</th>\n",
       "      <th>Run_digits</th>\n",
       "    </tr>\n",
       "    <tr>\n",
       "      <th>Run</th>\n",
       "      <th></th>\n",
       "      <th></th>\n",
       "      <th></th>\n",
       "      <th></th>\n",
       "      <th></th>\n",
       "      <th></th>\n",
       "      <th></th>\n",
       "      <th></th>\n",
       "      <th></th>\n",
       "      <th></th>\n",
       "      <th></th>\n",
       "      <th></th>\n",
       "      <th></th>\n",
       "      <th></th>\n",
       "      <th></th>\n",
       "      <th></th>\n",
       "      <th></th>\n",
       "      <th></th>\n",
       "      <th></th>\n",
       "      <th></th>\n",
       "      <th></th>\n",
       "    </tr>\n",
       "  </thead>\n",
       "  <tbody>\n",
       "    <tr>\n",
       "      <th>SRR2401865</th>\n",
       "      <td>default</td>\n",
       "      <td>SRX1244330</td>\n",
       "      <td>SRS1068422</td>\n",
       "      <td>-</td>\n",
       "      <td>2800.0</td>\n",
       "      <td>1416405.0</td>\n",
       "      <td>live</td>\n",
       "      <td>soil_metagenome</td>\n",
       "      <td>AMPLICON</td>\n",
       "      <td>SINGLE</td>\n",
       "      <td>...</td>\n",
       "      <td>2015-09-20</td>\n",
       "      <td>2015-09-15</td>\n",
       "      <td>RUN</td>\n",
       "      <td>SUB1095135</td>\n",
       "      <td>public</td>\n",
       "      <td>1</td>\n",
       "      <td>-</td>\n",
       "      <td>soil_metagenome</td>\n",
       "      <td>SRR</td>\n",
       "      <td>2401865</td>\n",
       "    </tr>\n",
       "    <tr>\n",
       "      <th>SRR2401866</th>\n",
       "      <td>default</td>\n",
       "      <td>SRX1244331</td>\n",
       "      <td>SRS1068421</td>\n",
       "      <td>-</td>\n",
       "      <td>5082.0</td>\n",
       "      <td>2563605.0</td>\n",
       "      <td>live</td>\n",
       "      <td>soil_metagenome</td>\n",
       "      <td>AMPLICON</td>\n",
       "      <td>SINGLE</td>\n",
       "      <td>...</td>\n",
       "      <td>2015-09-20</td>\n",
       "      <td>2015-09-15</td>\n",
       "      <td>RUN</td>\n",
       "      <td>SUB1095135</td>\n",
       "      <td>public</td>\n",
       "      <td>1</td>\n",
       "      <td>-</td>\n",
       "      <td>soil_metagenome</td>\n",
       "      <td>SRR</td>\n",
       "      <td>2401866</td>\n",
       "    </tr>\n",
       "    <tr>\n",
       "      <th>SRR2401867</th>\n",
       "      <td>default</td>\n",
       "      <td>SRX1244332</td>\n",
       "      <td>SRS1068420</td>\n",
       "      <td>-</td>\n",
       "      <td>6169.0</td>\n",
       "      <td>3175528.0</td>\n",
       "      <td>live</td>\n",
       "      <td>soil_metagenome</td>\n",
       "      <td>AMPLICON</td>\n",
       "      <td>SINGLE</td>\n",
       "      <td>...</td>\n",
       "      <td>2015-09-20</td>\n",
       "      <td>2015-09-15</td>\n",
       "      <td>RUN</td>\n",
       "      <td>SUB1095135</td>\n",
       "      <td>public</td>\n",
       "      <td>1</td>\n",
       "      <td>-</td>\n",
       "      <td>soil_metagenome</td>\n",
       "      <td>SRR</td>\n",
       "      <td>2401867</td>\n",
       "    </tr>\n",
       "    <tr>\n",
       "      <th>SRR2401868</th>\n",
       "      <td>default</td>\n",
       "      <td>SRX1244333</td>\n",
       "      <td>SRS1068419</td>\n",
       "      <td>-</td>\n",
       "      <td>8102.0</td>\n",
       "      <td>4266915.0</td>\n",
       "      <td>live</td>\n",
       "      <td>soil_metagenome</td>\n",
       "      <td>AMPLICON</td>\n",
       "      <td>SINGLE</td>\n",
       "      <td>...</td>\n",
       "      <td>2015-09-20</td>\n",
       "      <td>2015-09-15</td>\n",
       "      <td>RUN</td>\n",
       "      <td>SUB1095135</td>\n",
       "      <td>public</td>\n",
       "      <td>1</td>\n",
       "      <td>-</td>\n",
       "      <td>soil_metagenome</td>\n",
       "      <td>SRR</td>\n",
       "      <td>2401868</td>\n",
       "    </tr>\n",
       "    <tr>\n",
       "      <th>SRR2401869</th>\n",
       "      <td>default</td>\n",
       "      <td>SRX1244334</td>\n",
       "      <td>SRS1068418</td>\n",
       "      <td>-</td>\n",
       "      <td>4971.0</td>\n",
       "      <td>2519200.0</td>\n",
       "      <td>live</td>\n",
       "      <td>soil_metagenome</td>\n",
       "      <td>AMPLICON</td>\n",
       "      <td>SINGLE</td>\n",
       "      <td>...</td>\n",
       "      <td>2015-09-20</td>\n",
       "      <td>2015-09-15</td>\n",
       "      <td>RUN</td>\n",
       "      <td>SUB1095135</td>\n",
       "      <td>public</td>\n",
       "      <td>1</td>\n",
       "      <td>-</td>\n",
       "      <td>soil_metagenome</td>\n",
       "      <td>SRR</td>\n",
       "      <td>2401869</td>\n",
       "    </tr>\n",
       "  </tbody>\n",
       "</table>\n",
       "<p>5 rows × 23 columns</p>\n",
       "</div>"
      ],
      "text/plain": [
       "           Member_Name  Experiment      Sample Study   Spots      Bases  \\\n",
       "Run                                                                       \n",
       "SRR2401865     default  SRX1244330  SRS1068422     -  2800.0  1416405.0   \n",
       "SRR2401866     default  SRX1244331  SRS1068421     -  5082.0  2563605.0   \n",
       "SRR2401867     default  SRX1244332  SRS1068420     -  6169.0  3175528.0   \n",
       "SRR2401868     default  SRX1244333  SRS1068419     -  8102.0  4266915.0   \n",
       "SRR2401869     default  SRX1244334  SRS1068418     -  4971.0  2519200.0   \n",
       "\n",
       "           Status   ScientificName LibraryStrategy LibraryLayout    ...      \\\n",
       "Run                                                                 ...       \n",
       "SRR2401865   live  soil_metagenome        AMPLICON        SINGLE    ...       \n",
       "SRR2401866   live  soil_metagenome        AMPLICON        SINGLE    ...       \n",
       "SRR2401867   live  soil_metagenome        AMPLICON        SINGLE    ...       \n",
       "SRR2401868   live  soil_metagenome        AMPLICON        SINGLE    ...       \n",
       "SRR2401869   live  soil_metagenome        AMPLICON        SINGLE    ...       \n",
       "\n",
       "           proj_accession_Published proj_accession_Received  \\\n",
       "Run                                                           \n",
       "SRR2401865               2015-09-20              2015-09-15   \n",
       "SRR2401866               2015-09-20              2015-09-15   \n",
       "SRR2401867               2015-09-20              2015-09-15   \n",
       "SRR2401868               2015-09-20              2015-09-15   \n",
       "SRR2401869               2015-09-20              2015-09-15   \n",
       "\n",
       "           proj_accession_Type proj_accession_Center  \\\n",
       "Run                                                    \n",
       "SRR2401865                 RUN            SUB1095135   \n",
       "SRR2401866                 RUN            SUB1095135   \n",
       "SRR2401867                 RUN            SUB1095135   \n",
       "SRR2401868                 RUN            SUB1095135   \n",
       "SRR2401869                 RUN            SUB1095135   \n",
       "\n",
       "           proj_accession_Visibility proj_accession_Loaded  \\\n",
       "Run                                                          \n",
       "SRR2401865                    public                     1   \n",
       "SRR2401866                    public                     1   \n",
       "SRR2401867                    public                     1   \n",
       "SRR2401868                    public                     1   \n",
       "SRR2401869                    public                     1   \n",
       "\n",
       "           proj_accession_ReplacedBy new_ScientificName Run_db Run_digits  \n",
       "Run                                                                        \n",
       "SRR2401865                         -    soil_metagenome    SRR    2401865  \n",
       "SRR2401866                         -    soil_metagenome    SRR    2401866  \n",
       "SRR2401867                         -    soil_metagenome    SRR    2401867  \n",
       "SRR2401868                         -    soil_metagenome    SRR    2401868  \n",
       "SRR2401869                         -    soil_metagenome    SRR    2401869  \n",
       "\n",
       "[5 rows x 23 columns]"
      ]
     },
     "execution_count": 328,
     "metadata": {},
     "output_type": "execute_result"
    }
   ],
   "source": [
    "sra_dump_df.head()"
   ]
  },
  {
   "cell_type": "code",
   "execution_count": 329,
   "metadata": {},
   "outputs": [],
   "source": [
    "sra_dump_df['SampleType']=np.nan"
   ]
  },
  {
   "cell_type": "code",
   "execution_count": 330,
   "metadata": {},
   "outputs": [],
   "source": [
    "sra_dump_df.loc[sra_dump_df['Sample'].isin(tissueS.index.get_level_values('SRS_ID')),\n",
    "    'SampleType']='tissue'"
   ]
  },
  {
   "cell_type": "code",
   "execution_count": 331,
   "metadata": {},
   "outputs": [],
   "source": [
    "\n",
    "sra_dump_df.loc[sra_dump_df['Sample'].isin(cellLineS.index.get_level_values('SRS_ID')),\n",
    "    'SampleType']='cell line'"
   ]
  },
  {
   "cell_type": "code",
   "execution_count": 332,
   "metadata": {},
   "outputs": [
    {
     "data": {
      "text/plain": [
       "cell line    158904\n",
       "tissue        59287\n",
       "Name: SampleType, dtype: int64"
      ]
     },
     "execution_count": 332,
     "metadata": {},
     "output_type": "execute_result"
    }
   ],
   "source": [
    "sra_dump_df['SampleType'].value_counts()"
   ]
  },
  {
   "cell_type": "code",
   "execution_count": 333,
   "metadata": {},
   "outputs": [
    {
     "data": {
      "text/html": [
       "<div>\n",
       "<style scoped>\n",
       "    .dataframe tbody tr th:only-of-type {\n",
       "        vertical-align: middle;\n",
       "    }\n",
       "\n",
       "    .dataframe tbody tr th {\n",
       "        vertical-align: top;\n",
       "    }\n",
       "\n",
       "    .dataframe thead th {\n",
       "        text-align: right;\n",
       "    }\n",
       "</style>\n",
       "<table border=\"1\" class=\"dataframe\">\n",
       "  <thead>\n",
       "    <tr style=\"text-align: right;\">\n",
       "      <th></th>\n",
       "      <th>Member_Name</th>\n",
       "      <th>Experiment</th>\n",
       "      <th>Sample</th>\n",
       "      <th>Study</th>\n",
       "      <th>Spots</th>\n",
       "      <th>Bases</th>\n",
       "      <th>Status</th>\n",
       "      <th>ScientificName</th>\n",
       "      <th>LibraryStrategy</th>\n",
       "      <th>LibraryLayout</th>\n",
       "      <th>...</th>\n",
       "      <th>proj_accession_Received</th>\n",
       "      <th>proj_accession_Type</th>\n",
       "      <th>proj_accession_Center</th>\n",
       "      <th>proj_accession_Visibility</th>\n",
       "      <th>proj_accession_Loaded</th>\n",
       "      <th>proj_accession_ReplacedBy</th>\n",
       "      <th>new_ScientificName</th>\n",
       "      <th>Run_db</th>\n",
       "      <th>Run_digits</th>\n",
       "      <th>SampleType</th>\n",
       "    </tr>\n",
       "    <tr>\n",
       "      <th>Run</th>\n",
       "      <th></th>\n",
       "      <th></th>\n",
       "      <th></th>\n",
       "      <th></th>\n",
       "      <th></th>\n",
       "      <th></th>\n",
       "      <th></th>\n",
       "      <th></th>\n",
       "      <th></th>\n",
       "      <th></th>\n",
       "      <th></th>\n",
       "      <th></th>\n",
       "      <th></th>\n",
       "      <th></th>\n",
       "      <th></th>\n",
       "      <th></th>\n",
       "      <th></th>\n",
       "      <th></th>\n",
       "      <th></th>\n",
       "      <th></th>\n",
       "      <th></th>\n",
       "    </tr>\n",
       "  </thead>\n",
       "  <tbody>\n",
       "    <tr>\n",
       "      <th>SRR2401865</th>\n",
       "      <td>default</td>\n",
       "      <td>SRX1244330</td>\n",
       "      <td>SRS1068422</td>\n",
       "      <td>-</td>\n",
       "      <td>2800.0</td>\n",
       "      <td>1416405.0</td>\n",
       "      <td>live</td>\n",
       "      <td>soil_metagenome</td>\n",
       "      <td>AMPLICON</td>\n",
       "      <td>SINGLE</td>\n",
       "      <td>...</td>\n",
       "      <td>2015-09-15</td>\n",
       "      <td>RUN</td>\n",
       "      <td>SUB1095135</td>\n",
       "      <td>public</td>\n",
       "      <td>1</td>\n",
       "      <td>-</td>\n",
       "      <td>soil_metagenome</td>\n",
       "      <td>SRR</td>\n",
       "      <td>2401865</td>\n",
       "      <td>NaN</td>\n",
       "    </tr>\n",
       "    <tr>\n",
       "      <th>SRR2401866</th>\n",
       "      <td>default</td>\n",
       "      <td>SRX1244331</td>\n",
       "      <td>SRS1068421</td>\n",
       "      <td>-</td>\n",
       "      <td>5082.0</td>\n",
       "      <td>2563605.0</td>\n",
       "      <td>live</td>\n",
       "      <td>soil_metagenome</td>\n",
       "      <td>AMPLICON</td>\n",
       "      <td>SINGLE</td>\n",
       "      <td>...</td>\n",
       "      <td>2015-09-15</td>\n",
       "      <td>RUN</td>\n",
       "      <td>SUB1095135</td>\n",
       "      <td>public</td>\n",
       "      <td>1</td>\n",
       "      <td>-</td>\n",
       "      <td>soil_metagenome</td>\n",
       "      <td>SRR</td>\n",
       "      <td>2401866</td>\n",
       "      <td>NaN</td>\n",
       "    </tr>\n",
       "    <tr>\n",
       "      <th>SRR2401867</th>\n",
       "      <td>default</td>\n",
       "      <td>SRX1244332</td>\n",
       "      <td>SRS1068420</td>\n",
       "      <td>-</td>\n",
       "      <td>6169.0</td>\n",
       "      <td>3175528.0</td>\n",
       "      <td>live</td>\n",
       "      <td>soil_metagenome</td>\n",
       "      <td>AMPLICON</td>\n",
       "      <td>SINGLE</td>\n",
       "      <td>...</td>\n",
       "      <td>2015-09-15</td>\n",
       "      <td>RUN</td>\n",
       "      <td>SUB1095135</td>\n",
       "      <td>public</td>\n",
       "      <td>1</td>\n",
       "      <td>-</td>\n",
       "      <td>soil_metagenome</td>\n",
       "      <td>SRR</td>\n",
       "      <td>2401867</td>\n",
       "      <td>NaN</td>\n",
       "    </tr>\n",
       "    <tr>\n",
       "      <th>SRR2401868</th>\n",
       "      <td>default</td>\n",
       "      <td>SRX1244333</td>\n",
       "      <td>SRS1068419</td>\n",
       "      <td>-</td>\n",
       "      <td>8102.0</td>\n",
       "      <td>4266915.0</td>\n",
       "      <td>live</td>\n",
       "      <td>soil_metagenome</td>\n",
       "      <td>AMPLICON</td>\n",
       "      <td>SINGLE</td>\n",
       "      <td>...</td>\n",
       "      <td>2015-09-15</td>\n",
       "      <td>RUN</td>\n",
       "      <td>SUB1095135</td>\n",
       "      <td>public</td>\n",
       "      <td>1</td>\n",
       "      <td>-</td>\n",
       "      <td>soil_metagenome</td>\n",
       "      <td>SRR</td>\n",
       "      <td>2401868</td>\n",
       "      <td>NaN</td>\n",
       "    </tr>\n",
       "    <tr>\n",
       "      <th>SRR2401869</th>\n",
       "      <td>default</td>\n",
       "      <td>SRX1244334</td>\n",
       "      <td>SRS1068418</td>\n",
       "      <td>-</td>\n",
       "      <td>4971.0</td>\n",
       "      <td>2519200.0</td>\n",
       "      <td>live</td>\n",
       "      <td>soil_metagenome</td>\n",
       "      <td>AMPLICON</td>\n",
       "      <td>SINGLE</td>\n",
       "      <td>...</td>\n",
       "      <td>2015-09-15</td>\n",
       "      <td>RUN</td>\n",
       "      <td>SUB1095135</td>\n",
       "      <td>public</td>\n",
       "      <td>1</td>\n",
       "      <td>-</td>\n",
       "      <td>soil_metagenome</td>\n",
       "      <td>SRR</td>\n",
       "      <td>2401869</td>\n",
       "      <td>NaN</td>\n",
       "    </tr>\n",
       "  </tbody>\n",
       "</table>\n",
       "<p>5 rows × 24 columns</p>\n",
       "</div>"
      ],
      "text/plain": [
       "           Member_Name  Experiment      Sample Study   Spots      Bases  \\\n",
       "Run                                                                       \n",
       "SRR2401865     default  SRX1244330  SRS1068422     -  2800.0  1416405.0   \n",
       "SRR2401866     default  SRX1244331  SRS1068421     -  5082.0  2563605.0   \n",
       "SRR2401867     default  SRX1244332  SRS1068420     -  6169.0  3175528.0   \n",
       "SRR2401868     default  SRX1244333  SRS1068419     -  8102.0  4266915.0   \n",
       "SRR2401869     default  SRX1244334  SRS1068418     -  4971.0  2519200.0   \n",
       "\n",
       "           Status   ScientificName LibraryStrategy LibraryLayout    ...      \\\n",
       "Run                                                                 ...       \n",
       "SRR2401865   live  soil_metagenome        AMPLICON        SINGLE    ...       \n",
       "SRR2401866   live  soil_metagenome        AMPLICON        SINGLE    ...       \n",
       "SRR2401867   live  soil_metagenome        AMPLICON        SINGLE    ...       \n",
       "SRR2401868   live  soil_metagenome        AMPLICON        SINGLE    ...       \n",
       "SRR2401869   live  soil_metagenome        AMPLICON        SINGLE    ...       \n",
       "\n",
       "           proj_accession_Received proj_accession_Type proj_accession_Center  \\\n",
       "Run                                                                            \n",
       "SRR2401865              2015-09-15                 RUN            SUB1095135   \n",
       "SRR2401866              2015-09-15                 RUN            SUB1095135   \n",
       "SRR2401867              2015-09-15                 RUN            SUB1095135   \n",
       "SRR2401868              2015-09-15                 RUN            SUB1095135   \n",
       "SRR2401869              2015-09-15                 RUN            SUB1095135   \n",
       "\n",
       "           proj_accession_Visibility proj_accession_Loaded  \\\n",
       "Run                                                          \n",
       "SRR2401865                    public                     1   \n",
       "SRR2401866                    public                     1   \n",
       "SRR2401867                    public                     1   \n",
       "SRR2401868                    public                     1   \n",
       "SRR2401869                    public                     1   \n",
       "\n",
       "           proj_accession_ReplacedBy new_ScientificName Run_db Run_digits  \\\n",
       "Run                                                                         \n",
       "SRR2401865                         -    soil_metagenome    SRR    2401865   \n",
       "SRR2401866                         -    soil_metagenome    SRR    2401866   \n",
       "SRR2401867                         -    soil_metagenome    SRR    2401867   \n",
       "SRR2401868                         -    soil_metagenome    SRR    2401868   \n",
       "SRR2401869                         -    soil_metagenome    SRR    2401869   \n",
       "\n",
       "           SampleType  \n",
       "Run                    \n",
       "SRR2401865        NaN  \n",
       "SRR2401866        NaN  \n",
       "SRR2401867        NaN  \n",
       "SRR2401868        NaN  \n",
       "SRR2401869        NaN  \n",
       "\n",
       "[5 rows x 24 columns]"
      ]
     },
     "execution_count": 333,
     "metadata": {},
     "output_type": "execute_result"
    }
   ],
   "source": [
    "sra_dump_df.head()"
   ]
  },
  {
   "cell_type": "code",
   "execution_count": 334,
   "metadata": {},
   "outputs": [],
   "source": [
    "reindexedMetaDf=sra_dump_df[sra_dump_df['SampleType'].notnull()].set_index(['Run_db','Run_digits'])\n",
    "runsRequireExtractionI=reindexedMetaDf.index"
   ]
  },
  {
   "cell_type": "code",
   "execution_count": 335,
   "metadata": {},
   "outputs": [],
   "source": [
    "#sra_dump_df.head()"
   ]
  },
  {
   "cell_type": "markdown",
   "metadata": {},
   "source": []
  },
  {
   "cell_type": "markdown",
   "metadata": {},
   "source": [
    "### extract sites with alternative alleles"
   ]
  },
  {
   "cell_type": "code",
   "execution_count": 336,
   "metadata": {},
   "outputs": [],
   "source": [
    "#from right to left\n",
    "nth_bit=6\n",
    "vcfDf['somatic']=(vcfDf['VP_Int']%(2**(nth_bit-1))).astype(bool).values"
   ]
  },
  {
   "cell_type": "code",
   "execution_count": 337,
   "metadata": {},
   "outputs": [],
   "source": [
    "myG=['Chr','Pos']\n",
    "refS=vcfDf.drop_duplicates(myG).set_index(myG)['RefBase']"
   ]
  },
  {
   "cell_type": "code",
   "execution_count": 338,
   "metadata": {},
   "outputs": [],
   "source": [
    "vcfDf['specificSNP']=vcfDf['AltBase'].str.contains('^[ACGT]$')"
   ]
  },
  {
   "cell_type": "code",
   "execution_count": 339,
   "metadata": {},
   "outputs": [],
   "source": [
    "#check if braf is located within germline\n",
    "myG=['Run_db','Run_digits',u'Chr', u'Pos',u'base']\n",
    "#vcfDf.head()"
   ]
  },
  {
   "cell_type": "code",
   "execution_count": 340,
   "metadata": {},
   "outputs": [
    {
     "data": {
      "text/html": [
       "<div>\n",
       "<style scoped>\n",
       "    .dataframe tbody tr th:only-of-type {\n",
       "        vertical-align: middle;\n",
       "    }\n",
       "\n",
       "    .dataframe tbody tr th {\n",
       "        vertical-align: top;\n",
       "    }\n",
       "\n",
       "    .dataframe thead th {\n",
       "        text-align: right;\n",
       "    }\n",
       "</style>\n",
       "<table border=\"1\" class=\"dataframe\">\n",
       "  <thead>\n",
       "    <tr style=\"text-align: right;\">\n",
       "      <th></th>\n",
       "      <th>Chr</th>\n",
       "      <th>Pos</th>\n",
       "      <th>RsId</th>\n",
       "      <th>RefBase</th>\n",
       "      <th>AltBase</th>\n",
       "      <th></th>\n",
       "      <th></th>\n",
       "      <th>Annot</th>\n",
       "      <th>VP_Int</th>\n",
       "      <th>somatic</th>\n",
       "      <th>specificSNP</th>\n",
       "    </tr>\n",
       "  </thead>\n",
       "  <tbody>\n",
       "    <tr>\n",
       "      <th>0</th>\n",
       "      <td>1</td>\n",
       "      <td>14727</td>\n",
       "      <td>rs1045587</td>\n",
       "      <td>G</td>\n",
       "      <td>A</td>\n",
       "      <td>.</td>\n",
       "      <td>.</td>\n",
       "      <td>RS=1045587;RSPOS=14727;RV;dbSNPBuildID=117;SSR...</td>\n",
       "      <td>1547614017554423799187767552</td>\n",
       "      <td>False</td>\n",
       "      <td>True</td>\n",
       "    </tr>\n",
       "    <tr>\n",
       "      <th>1</th>\n",
       "      <td>1</td>\n",
       "      <td>630825</td>\n",
       "      <td>rs9783068</td>\n",
       "      <td>T</td>\n",
       "      <td>C</td>\n",
       "      <td>.</td>\n",
       "      <td>.</td>\n",
       "      <td>RS=9783068;RSPOS=630825;dbSNPBuildID=119;SSR=1...</td>\n",
       "      <td>1547613980660935651768664384</td>\n",
       "      <td>False</td>\n",
       "      <td>True</td>\n",
       "    </tr>\n",
       "    <tr>\n",
       "      <th>2</th>\n",
       "      <td>1</td>\n",
       "      <td>630833</td>\n",
       "      <td>rs9701099</td>\n",
       "      <td>C</td>\n",
       "      <td>T</td>\n",
       "      <td>.</td>\n",
       "      <td>.</td>\n",
       "      <td>RS=9701099;RSPOS=630833;dbSNPBuildID=119;SSR=1...</td>\n",
       "      <td>1547613980660935651768664384</td>\n",
       "      <td>False</td>\n",
       "      <td>True</td>\n",
       "    </tr>\n",
       "    <tr>\n",
       "      <th>3</th>\n",
       "      <td>1</td>\n",
       "      <td>817186</td>\n",
       "      <td>rs3094315</td>\n",
       "      <td>G</td>\n",
       "      <td>A</td>\n",
       "      <td>.</td>\n",
       "      <td>.</td>\n",
       "      <td>RS=3094315;RSPOS=817186;RV;dbSNPBuildID=103;SS...</td>\n",
       "      <td>1548822906480573393185800449</td>\n",
       "      <td>True</td>\n",
       "      <td>True</td>\n",
       "    </tr>\n",
       "    <tr>\n",
       "      <th>4</th>\n",
       "      <td>1</td>\n",
       "      <td>833068</td>\n",
       "      <td>rs12562034</td>\n",
       "      <td>G</td>\n",
       "      <td>A</td>\n",
       "      <td>.</td>\n",
       "      <td>.</td>\n",
       "      <td>RS=12562034;RSPOS=833068;dbSNPBuildID=120;SSR=...</td>\n",
       "      <td>1548823017161040034332147968</td>\n",
       "      <td>False</td>\n",
       "      <td>True</td>\n",
       "    </tr>\n",
       "  </tbody>\n",
       "</table>\n",
       "</div>"
      ],
      "text/plain": [
       "  Chr     Pos        RsId RefBase AltBase        \\\n",
       "0   1   14727   rs1045587       G       A  .  .   \n",
       "1   1  630825   rs9783068       T       C  .  .   \n",
       "2   1  630833   rs9701099       C       T  .  .   \n",
       "3   1  817186   rs3094315       G       A  .  .   \n",
       "4   1  833068  rs12562034       G       A  .  .   \n",
       "\n",
       "                                               Annot  \\\n",
       "0  RS=1045587;RSPOS=14727;RV;dbSNPBuildID=117;SSR...   \n",
       "1  RS=9783068;RSPOS=630825;dbSNPBuildID=119;SSR=1...   \n",
       "2  RS=9701099;RSPOS=630833;dbSNPBuildID=119;SSR=1...   \n",
       "3  RS=3094315;RSPOS=817186;RV;dbSNPBuildID=103;SS...   \n",
       "4  RS=12562034;RSPOS=833068;dbSNPBuildID=120;SSR=...   \n",
       "\n",
       "                         VP_Int  somatic  specificSNP  \n",
       "0  1547614017554423799187767552    False         True  \n",
       "1  1547613980660935651768664384    False         True  \n",
       "2  1547613980660935651768664384    False         True  \n",
       "3  1548822906480573393185800449     True         True  \n",
       "4  1548823017161040034332147968    False         True  "
      ]
     },
     "execution_count": 340,
     "metadata": {},
     "output_type": "execute_result"
    }
   ],
   "source": [
    "vcfDf.head()"
   ]
  },
  {
   "cell_type": "code",
   "execution_count": 341,
   "metadata": {},
   "outputs": [],
   "source": [
    "tmp_dir='/nrnb/users/btsui/Data/all_seq/tmp/'"
   ]
  },
  {
   "cell_type": "markdown",
   "metadata": {},
   "source": [
    "\n",
    "### load in SRRs with data"
   ]
  },
  {
   "cell_type": "code",
   "execution_count": 342,
   "metadata": {},
   "outputs": [
    {
     "ename": "ValueError",
     "evalue": "Cannot take a larger sample than population when 'replace=False'",
     "output_type": "error",
     "traceback": [
      "\u001b[0;31m---------------------------------------------------------------------------\u001b[0m",
      "\u001b[0;31mValueError\u001b[0m                                Traceback (most recent call last)",
      "\u001b[0;32m<ipython-input-342-ce3cb6ca7fc8>\u001b[0m in \u001b[0;36m<module>\u001b[0;34m()\u001b[0m\n\u001b[0;32m----> 1\u001b[0;31m \u001b[0minFnameS\u001b[0m\u001b[0;34m=\u001b[0m\u001b[0mpd\u001b[0m\u001b[0;34m.\u001b[0m\u001b[0mSeries\u001b[0m\u001b[0;34m(\u001b[0m\u001b[0mos\u001b[0m\u001b[0;34m.\u001b[0m\u001b[0mlistdir\u001b[0m\u001b[0;34m(\u001b[0m\u001b[0mtmp_dir\u001b[0m\u001b[0;34m)\u001b[0m\u001b[0;34m)\u001b[0m\u001b[0;34m.\u001b[0m\u001b[0msample\u001b[0m\u001b[0;34m(\u001b[0m\u001b[0mn\u001b[0m\u001b[0;34m=\u001b[0m\u001b[0;36m10\u001b[0m\u001b[0;34m,\u001b[0m\u001b[0mrandom_state\u001b[0m\u001b[0;34m=\u001b[0m\u001b[0;36m1\u001b[0m\u001b[0;34m)\u001b[0m\u001b[0;34m\u001b[0m\u001b[0m\n\u001b[0m",
      "\u001b[0;32m~/anaconda3/lib/python3.6/site-packages/pandas/core/generic.py\u001b[0m in \u001b[0;36msample\u001b[0;34m(self, n, frac, replace, weights, random_state, axis)\u001b[0m\n\u001b[1;32m   4195\u001b[0m                              \"provide positive value.\")\n\u001b[1;32m   4196\u001b[0m \u001b[0;34m\u001b[0m\u001b[0m\n\u001b[0;32m-> 4197\u001b[0;31m         \u001b[0mlocs\u001b[0m \u001b[0;34m=\u001b[0m \u001b[0mrs\u001b[0m\u001b[0;34m.\u001b[0m\u001b[0mchoice\u001b[0m\u001b[0;34m(\u001b[0m\u001b[0maxis_length\u001b[0m\u001b[0;34m,\u001b[0m \u001b[0msize\u001b[0m\u001b[0;34m=\u001b[0m\u001b[0mn\u001b[0m\u001b[0;34m,\u001b[0m \u001b[0mreplace\u001b[0m\u001b[0;34m=\u001b[0m\u001b[0mreplace\u001b[0m\u001b[0;34m,\u001b[0m \u001b[0mp\u001b[0m\u001b[0;34m=\u001b[0m\u001b[0mweights\u001b[0m\u001b[0;34m)\u001b[0m\u001b[0;34m\u001b[0m\u001b[0m\n\u001b[0m\u001b[1;32m   4198\u001b[0m         \u001b[0;32mreturn\u001b[0m \u001b[0mself\u001b[0m\u001b[0;34m.\u001b[0m\u001b[0mtake\u001b[0m\u001b[0;34m(\u001b[0m\u001b[0mlocs\u001b[0m\u001b[0;34m,\u001b[0m \u001b[0maxis\u001b[0m\u001b[0;34m=\u001b[0m\u001b[0maxis\u001b[0m\u001b[0;34m,\u001b[0m \u001b[0mis_copy\u001b[0m\u001b[0;34m=\u001b[0m\u001b[0;32mFalse\u001b[0m\u001b[0;34m)\u001b[0m\u001b[0;34m\u001b[0m\u001b[0m\n\u001b[1;32m   4199\u001b[0m \u001b[0;34m\u001b[0m\u001b[0m\n",
      "\u001b[0;32mmtrand.pyx\u001b[0m in \u001b[0;36mmtrand.RandomState.choice\u001b[0;34m()\u001b[0m\n",
      "\u001b[0;31mValueError\u001b[0m: Cannot take a larger sample than population when 'replace=False'"
     ]
    }
   ],
   "source": [
    "inFnameS=pd.Series(os.listdir(tmp_dir)).sample(n=10,random_state=1)"
   ]
  },
  {
   "cell_type": "code",
   "execution_count": null,
   "metadata": {},
   "outputs": [],
   "source": []
  },
  {
   "cell_type": "code",
   "execution_count": null,
   "metadata": {
    "scrolled": true
   },
   "outputs": [],
   "source": [
    "#inFname=inFnameS.iloc[0]\n",
    "#cell line\n",
    "myL=[]\n",
    "for inFname in tqdm(inFnameS):\n",
    "    tmpDf=pd.read_pickle(tmp_dir+inFname)\n",
    "    tmpDf2=tmpDf.reset_index().drop_duplicates()\n",
    "    tmpI=tmpDf2.set_index(['Run_db','Run_digits']).index\n",
    "    m_inSelected=tmpI.isin(runsRequireExtractionI)\n",
    "    tmpDf3=tmpDf2[m_inSelected]\n",
    "    tmpDf3['base']=tmpDf3.base.astype(str)\n",
    "    myL.append(tmpDf3)"
   ]
  },
  {
   "cell_type": "code",
   "execution_count": null,
   "metadata": {},
   "outputs": [],
   "source": [
    "len(myL)"
   ]
  },
  {
   "cell_type": "code",
   "execution_count": null,
   "metadata": {},
   "outputs": [],
   "source": [
    "tmpDf2=pd.concat(myL,axis=0)"
   ]
  },
  {
   "cell_type": "code",
   "execution_count": null,
   "metadata": {},
   "outputs": [],
   "source": [
    "srrI=tmpDf2.set_index(['Run_db','Run_digits']).index\n",
    "tmpDf2['SampleType']=reindexedMetaDf.loc[srrI,'SampleType'].values"
   ]
  },
  {
   "cell_type": "code",
   "execution_count": null,
   "metadata": {},
   "outputs": [],
   "source": [
    "#g_l=['SampleType','Run_db','Run_digits','Chr','Pos','base']\n",
    "tmpDf2=tmpDf2.drop_duplicates(['SampleType','Run_db','Run_digits','Chr','Pos','base'])"
   ]
  },
  {
   "cell_type": "code",
   "execution_count": null,
   "metadata": {},
   "outputs": [],
   "source": [
    "tmpDf2.head()"
   ]
  },
  {
   "cell_type": "code",
   "execution_count": null,
   "metadata": {},
   "outputs": [],
   "source": [
    "#tmpDf2.head().dtypes\n",
    "myI=tmpDf2.set_index(['Chr','Pos','base']).index\n",
    "refI=vcfDf.set_index(['Chr','Pos','RefBase']).index\n",
    "m_inRef=myI.isin(refI)"
   ]
  },
  {
   "cell_type": "code",
   "execution_count": null,
   "metadata": {},
   "outputs": [],
   "source": [
    "baseQualityThreshold=30\n",
    "m_baseQual=tmpDf2['AverageBaseQuality']>=baseQualityThreshold"
   ]
  },
  {
   "cell_type": "code",
   "execution_count": null,
   "metadata": {},
   "outputs": [],
   "source": [
    "tmpDf3=tmpDf2#[m_baseQual]#.drop_duplicates(g_l)"
   ]
  },
  {
   "cell_type": "code",
   "execution_count": null,
   "metadata": {},
   "outputs": [],
   "source": [
    "g_l=['SampleType','Run_db','Run_digits','Chr','Pos']"
   ]
  },
  {
   "cell_type": "code",
   "execution_count": null,
   "metadata": {
    "scrolled": true
   },
   "outputs": [],
   "source": [
    "#tmpDf2_sub=tmpDf2[m_inRef&m_baseQual]\n",
    "\n",
    "refAlleleS=tmpDf3[(m_inRef)&m_baseQual].groupby(g_l)['ReadDepth'].first()"
   ]
  },
  {
   "cell_type": "code",
   "execution_count": null,
   "metadata": {},
   "outputs": [],
   "source": [
    "#refAlleleS"
   ]
  },
  {
   "cell_type": "markdown",
   "metadata": {},
   "source": []
  },
  {
   "cell_type": "code",
   "execution_count": null,
   "metadata": {},
   "outputs": [],
   "source": [
    "len(m_inRef),len(m_baseQual),tmpDf3.shape"
   ]
  },
  {
   "cell_type": "code",
   "execution_count": null,
   "metadata": {},
   "outputs": [],
   "source": [
    "%time tmpDf6=tmpDf3[(~m_inRef)&m_baseQual]\n",
    "altAlleleS=tmpDf6.groupby(g_l)['ReadDepth'].sum()"
   ]
  },
  {
   "cell_type": "code",
   "execution_count": null,
   "metadata": {},
   "outputs": [],
   "source": [
    "altAlleleS.head()"
   ]
  },
  {
   "cell_type": "code",
   "execution_count": null,
   "metadata": {},
   "outputs": [],
   "source": [
    "refAlleleS.head()"
   ]
  },
  {
   "cell_type": "code",
   "execution_count": null,
   "metadata": {},
   "outputs": [],
   "source": [
    "%time raw_allelic_df=pd.DataFrame({'ref_rd':refAlleleS,'alt_rd':altAlleleS})"
   ]
  },
  {
   "cell_type": "code",
   "execution_count": null,
   "metadata": {},
   "outputs": [],
   "source": [
    "allelic_df=raw_allelic_df[raw_allelic_df.notnull().all(axis=1)]"
   ]
  },
  {
   "cell_type": "code",
   "execution_count": null,
   "metadata": {},
   "outputs": [],
   "source": [
    "refAlleleS.head()"
   ]
  },
  {
   "cell_type": "code",
   "execution_count": null,
   "metadata": {},
   "outputs": [],
   "source": [
    "allelic_df.fillna(0,inplace=True)"
   ]
  },
  {
   "cell_type": "code",
   "execution_count": null,
   "metadata": {},
   "outputs": [],
   "source": [
    "#allelic_df"
   ]
  },
  {
   "cell_type": "code",
   "execution_count": null,
   "metadata": {},
   "outputs": [],
   "source": [
    "allelic_df['alt_fraction']=allelic_df['alt_rd']/(allelic_df['ref_rd']+allelic_df['alt_rd'])"
   ]
  },
  {
   "cell_type": "code",
   "execution_count": null,
   "metadata": {},
   "outputs": [],
   "source": [
    "#allelic_df"
   ]
  },
  {
   "cell_type": "code",
   "execution_count": null,
   "metadata": {},
   "outputs": [],
   "source": [
    "tmpDf5=allelic_df.reset_index().set_index(['Chr','Pos'])"
   ]
  },
  {
   "cell_type": "code",
   "execution_count": null,
   "metadata": {},
   "outputs": [],
   "source": [
    "#tmpDf3.head()"
   ]
  },
  {
   "cell_type": "code",
   "execution_count": null,
   "metadata": {},
   "outputs": [],
   "source": [
    "somaticI=vcfDf[vcfDf['somatic']&vcfDf['specificSNP']].set_index(['Chr','Pos']).index\n",
    "germline_I=vcfDf[(~vcfDf['somatic'])&vcfDf['specificSNP']].set_index(['Chr','Pos']).index"
   ]
  },
  {
   "cell_type": "code",
   "execution_count": null,
   "metadata": {},
   "outputs": [],
   "source": [
    "import matplotlib.pyplot as plt"
   ]
  },
  {
   "cell_type": "code",
   "execution_count": null,
   "metadata": {},
   "outputs": [],
   "source": [
    "siteRdS=(tmpDf5['ref_rd']+tmpDf5['alt_rd'])"
   ]
  },
  {
   "cell_type": "code",
   "execution_count": null,
   "metadata": {},
   "outputs": [],
   "source": [
    "#tmpDf5[]"
   ]
  },
  {
   "cell_type": "code",
   "execution_count": null,
   "metadata": {},
   "outputs": [],
   "source": [
    "m_allelic_f=(tmpDf5['alt_fraction']>=0.0)&(siteRdS>10)&(tmpDf5['alt_fraction']<=1.0)\n"
   ]
  },
  {
   "cell_type": "code",
   "execution_count": null,
   "metadata": {},
   "outputs": [],
   "source": [
    "#tmpDf5"
   ]
  },
  {
   "cell_type": "code",
   "execution_count": null,
   "metadata": {},
   "outputs": [],
   "source": [
    "#tmpDf5['alt_fraction'].value_counts()"
   ]
  },
  {
   "cell_type": "code",
   "execution_count": null,
   "metadata": {},
   "outputs": [],
   "source": [
    "tmpDf5['SampleType'].value_counts()"
   ]
  },
  {
   "cell_type": "code",
   "execution_count": null,
   "metadata": {},
   "outputs": [],
   "source": [
    "\n",
    "fig,ax=plt.subplots(figsize=(5,2))\n",
    "\n",
    "m_somatic=tmpDf5.index.isin(somaticI)\n",
    "\n",
    "tmpDf_cl=tmpDf5[m_allelic_f&(tmpDf5.SampleType=='cell line')&m_somatic]\n",
    "tmpDf_cl['alt_fraction'].hist(ax=ax,alpha=0.5,bins=20,label='cancer cell line',normed=True)#.plot(kind='KDE',ax=ax,label='Known somatic sites')\n",
    "\n",
    "tmpDf_tissue=tmpDf5[m_allelic_f&(tmpDf5.SampleType=='tissue')&m_somatic]\n",
    "tmpDf_tissue['alt_fraction'].hist(ax=ax,alpha=0.5,bins=20,label='primary tumor tissues',normed=True)#.plot(kind='KDE',ax=ax,label='Known somatic sites')\n",
    "\n",
    "ax.set_ylabel('% ')\n",
    "#ax.set_xlim([-0.1,1.1])\n",
    "ax.set_xlabel('Minor allelic read count / total depth')\n",
    "ax.legend()\n",
    "ax.grid(False)"
   ]
  },
  {
   "cell_type": "code",
   "execution_count": null,
   "metadata": {},
   "outputs": [],
   "source": [
    "from scipy import stats"
   ]
  },
  {
   "cell_type": "code",
   "execution_count": null,
   "metadata": {},
   "outputs": [],
   "source": [
    "stats.mannwhitneyu(tmpDf_cl['alt_fraction'],tmpDf_tissue['alt_fraction'],)"
   ]
  },
  {
   "cell_type": "code",
   "execution_count": null,
   "metadata": {},
   "outputs": [],
   "source": [
    "asdasd"
   ]
  },
  {
   "cell_type": "code",
   "execution_count": null,
   "metadata": {},
   "outputs": [],
   "source": []
  },
  {
   "cell_type": "code",
   "execution_count": null,
   "metadata": {},
   "outputs": [],
   "source": [
    "tmpDf3"
   ]
  },
  {
   "cell_type": "code",
   "execution_count": null,
   "metadata": {},
   "outputs": [],
   "source": [
    "%time tmpDf3[tmpDf3.index.isin(germline_I)&m_allelic_f][\\\n",
    "    'alt_fraction'].sample(n=10000).plot(kind='KDE',ax=ax,label='germline')"
   ]
  },
  {
   "cell_type": "code",
   "execution_count": null,
   "metadata": {},
   "outputs": [],
   "source": [
    "fig.legend()"
   ]
  },
  {
   "cell_type": "code",
   "execution_count": null,
   "metadata": {},
   "outputs": [],
   "source": [
    "ax.set_ylabel('Density of variants')\n",
    "ax.set_xlabel('Allelic frequency')"
   ]
  },
  {
   "cell_type": "code",
   "execution_count": null,
   "metadata": {},
   "outputs": [],
   "source": [
    "fig"
   ]
  },
  {
   "cell_type": "code",
   "execution_count": null,
   "metadata": {},
   "outputs": [],
   "source": [
    "rdS=allelic_df[['ref_rd','alt_rd']].sum(axis=1)"
   ]
  },
  {
   "cell_type": "code",
   "execution_count": null,
   "metadata": {},
   "outputs": [],
   "source": [
    "allelic_df_filtered=allelic_df[rdS>=5]"
   ]
  },
  {
   "cell_type": "code",
   "execution_count": null,
   "metadata": {},
   "outputs": [],
   "source": [
    "allelic_df_filtered.groupby(level=0).first()"
   ]
  },
  {
   "cell_type": "code",
   "execution_count": null,
   "metadata": {},
   "outputs": [],
   "source": [
    "tmpDf10=allelic_df_filtered.reset_index()"
   ]
  },
  {
   "cell_type": "code",
   "execution_count": null,
   "metadata": {},
   "outputs": [],
   "source": []
  },
  {
   "cell_type": "code",
   "execution_count": null,
   "metadata": {},
   "outputs": [],
   "source": [
    "import seaborn as sns"
   ]
  },
  {
   "cell_type": "code",
   "execution_count": null,
   "metadata": {},
   "outputs": [],
   "source": [
    "import matplotlib.pyplot as plt"
   ]
  },
  {
   "cell_type": "code",
   "execution_count": null,
   "metadata": {},
   "outputs": [],
   "source": [
    "#allelic_df_filtered"
   ]
  },
  {
   "cell_type": "code",
   "execution_count": null,
   "metadata": {},
   "outputs": [],
   "source": [
    "myLabel='Known germline \\nmutations'\n",
    "#myLabel='Known somatic \\nmutations'\n",
    "fig,ax=plt.subplots()\n",
    "\n",
    "germ_alt_S=allelic_df_filtered.loc[myLabel]['alt_fraction']#.hist()\n",
    "m=(germ_alt_S>0)&(germ_alt_S<1)\n",
    "germ_alt_S.hist(alpha=0.3,ax=ax,label=myLabel,normed=True)\n",
    "\n",
    "myLabel='Known somatic \\nmutations'\n",
    "germ_alt_S=allelic_df_filtered.loc[myLabel]['alt_fraction']#.hist()\n",
    "print (len(germ_alt_S))\n",
    "m=(germ_alt_S>0)&(germ_alt_S<1)\n",
    "germ_alt_S.hist(alpha=0.3,ax=ax,label=myLabel,normed=True)\n",
    "ax.legend()\n"
   ]
  },
  {
   "cell_type": "code",
   "execution_count": null,
   "metadata": {},
   "outputs": [],
   "source": [
    "allelic_df_filtered"
   ]
  },
  {
   "cell_type": "code",
   "execution_count": null,
   "metadata": {},
   "outputs": [],
   "source": [
    "allelic_df_filtered.loc['Known somatic \\nmutations']['alt_fraction'].hist()"
   ]
  },
  {
   "cell_type": "code",
   "execution_count": null,
   "metadata": {},
   "outputs": [],
   "source": []
  },
  {
   "cell_type": "code",
   "execution_count": null,
   "metadata": {},
   "outputs": [],
   "source": [
    "sns.boxplot(data=tmpDf10,x='ref base',y='alt_fraction')\n"
   ]
  },
  {
   "cell_type": "code",
   "execution_count": null,
   "metadata": {},
   "outputs": [],
   "source": [
    "allelic_df_filtered['alt_fraction'].hist(bins=30)"
   ]
  },
  {
   "cell_type": "code",
   "execution_count": null,
   "metadata": {},
   "outputs": [],
   "source": [
    "%time tmpDf=tmpDf2.drop_duplicates(['Run_db','Run_digits','base']).set_index(['Run_db','Run_digits','base','ref base'])['ReadDepth'].unstack()"
   ]
  },
  {
   "cell_type": "code",
   "execution_count": null,
   "metadata": {},
   "outputs": [],
   "source": [
    "tmpDf"
   ]
  },
  {
   "cell_type": "code",
   "execution_count": null,
   "metadata": {},
   "outputs": [],
   "source": [
    "#rs78378222 and rs1042522 "
   ]
  },
  {
   "cell_type": "code",
   "execution_count": null,
   "metadata": {},
   "outputs": [],
   "source": [
    "#inFname=inFnameS.iloc[1]\n",
    "def inF(inFname):\n",
    "    tmpDf=pd.read_pickle(tmp_dir+inFname)\n",
    "\n",
    "    tmpDf2=tmpDf.reset_index().drop_duplicates()\n",
    "\n",
    "\n",
    "\n",
    "    #tmpDf2.head().dtypes\n",
    "\n",
    "    myI=tmpDf2.set_index(['Chr','Pos','base']).index\n",
    "\n",
    "    m_inRef=myI.isin(refI)\n",
    "    m_somatic=myI.isin(somaticI)\n",
    "    m_germline=myI.isin(germline_I)\n",
    "    tmpDf2.loc[m_inRef,'ref base']='Reference alleles'\n",
    "    tmpDf2.loc[m_somatic,'ref base']='Known somatic \\nmutations'\n",
    "    tmpDf2.loc[m_germline,'ref base']='Known germline \\nmutations'\n",
    "    #tmpDf2['ref base'].fillna('Known germline \\nmutations',inplace=True)\n",
    "\n",
    "    tmpDf2['pass rd']=tmpDf2['ReadDepth']>=2\n",
    "\n",
    "    tmpS=tmpDf2.groupby(['ref base','base','Run_db','Run_digits'])[varToPlot].sum()\n",
    "    return tmpS\n"
   ]
  },
  {
   "cell_type": "code",
   "execution_count": null,
   "metadata": {},
   "outputs": [],
   "source": [
    "from multiprocessing import Pool"
   ]
  },
  {
   "cell_type": "code",
   "execution_count": null,
   "metadata": {},
   "outputs": [],
   "source": [
    "from tqdm import tqdm\n",
    "import matplotlib.pyplot as plt\n",
    "import seaborn as sns"
   ]
  },
  {
   "cell_type": "code",
   "execution_count": null,
   "metadata": {},
   "outputs": [],
   "source": [
    "with Pool(48) as p:\n",
    "    tmpSL=list(tqdm(p.imap(inF,inFnameS.values),\n",
    "                   total=len(inFnameS)))"
   ]
  },
  {
   "cell_type": "code",
   "execution_count": null,
   "metadata": {},
   "outputs": [],
   "source": [
    "mergedS=np.log10(pd.concat(tmpSL,axis=0)+1)"
   ]
  },
  {
   "cell_type": "code",
   "execution_count": null,
   "metadata": {},
   "outputs": [],
   "source": [
    "#%matplotlib inline\n",
    "plt.rcParams['pdf.fonttype'] = 42\n"
   ]
  },
  {
   "cell_type": "code",
   "execution_count": null,
   "metadata": {},
   "outputs": [],
   "source": [
    "fig,ax=plt.subplots(figsize=(7,3))\n",
    "ax=sns.violinplot(data=mergedS.reset_index(),\n",
    "               x='ref base',y=varToPlot,ax=ax)\n",
    "#ax.set_xticklabels()\n",
    "#at least 2 reads\n",
    "#each dot is a variant\n",
    "ax.set_ylabel('log10 ( # of sequencing runs in SRA with support for variants)' )\n",
    "#ax.set_xlabel()\n",
    "fig.savefig('./Figures/variant_suppport_for_each_sequencing_run.pdf')\n",
    "fig.savefig('./Figures/variant_suppport_for_each_sequencing_run.png',dpi=300)"
   ]
  },
  {
   "cell_type": "code",
   "execution_count": null,
   "metadata": {},
   "outputs": [],
   "source": [
    "#fig.savefig('../Results/')"
   ]
  },
  {
   "cell_type": "code",
   "execution_count": null,
   "metadata": {},
   "outputs": [],
   "source": [
    "#ax=mergedS[False].hist()"
   ]
  },
  {
   "cell_type": "code",
   "execution_count": null,
   "metadata": {},
   "outputs": [],
   "source": []
  },
  {
   "cell_type": "code",
   "execution_count": null,
   "metadata": {},
   "outputs": [],
   "source": [
    "### make sure the data read in will have all the results\n",
    "inFname=inFnameS.iloc[1]\n",
    "\n",
    "tmpDf=pd.read_pickle(tmp_dir+inFname)\n",
    "\n",
    "tmpDf2=tmpDf.reset_index().drop_duplicates()\n",
    "\n",
    "\n",
    "\n",
    "#tmpDf2.head().dtypes\n",
    "\n",
    "myI=tmpDf2.set_index(['Chr','Pos','base']).index\n",
    "\n",
    "m_inRef=myI.isin(refI)\n",
    "\n",
    "tmpDf2.loc[m_inRef,'ref base']=True\n",
    "\n",
    "tmpDf2['ref base'].fillna(False,inplace=True)\n",
    "\n",
    "tmpDf2['pass rd']=tmpDf2['ReadDepth']>=2\n",
    "\n",
    "tmpS=tmpDf2.groupby(['ref base','base','Run_db','Run_digits'])['pass rd'].sum()"
   ]
  },
  {
   "cell_type": "code",
   "execution_count": null,
   "metadata": {},
   "outputs": [],
   "source": [
    "#tmpS"
   ]
  },
  {
   "cell_type": "code",
   "execution_count": null,
   "metadata": {},
   "outputs": [],
   "source": [
    "import matplotlib.pyplot as plt"
   ]
  },
  {
   "cell_type": "code",
   "execution_count": null,
   "metadata": {},
   "outputs": [],
   "source": [
    "fig,ax=plt.subplots()\n",
    "g=tmpDf2[tmpDf2['ref base']].groupby(['base','Run_db','Run_digits'])['pass rd']\n",
    "countS1=np.log10(g.sum())\n",
    "countS1.hist(normed=True,ax=ax,label='Reference allele')\n",
    "\n",
    "g=tmpDf2[~tmpDf2['ref base']].groupby(['Run_db','Run_digits'])['pass rd']\n",
    "countS2=np.log10(g.sum())\n",
    "countS2.hist(normed=True,ax=ax,alpha=0.4,label='Alternative allele')\n",
    "#'log10 ( number of sites with at least 2 reads)' , '% of SRA sequencing runs'\n",
    "ax.set_ylabel('% of SRA sequencing runs')\n",
    "ax.legend()\n",
    "ax.set_xlabel('log10 ( number of sites with at least 2 reads)')\n",
    "ax.grid(False)"
   ]
  },
  {
   "cell_type": "code",
   "execution_count": null,
   "metadata": {},
   "outputs": [],
   "source": [
    "from scipy import stats"
   ]
  },
  {
   "cell_type": "code",
   "execution_count": null,
   "metadata": {},
   "outputs": [],
   "source": [
    "stats.wilcoxon(countS1,countS2)"
   ]
  },
  {
   "cell_type": "code",
   "execution_count": null,
   "metadata": {},
   "outputs": [],
   "source": [
    "type(myI),"
   ]
  },
  {
   "cell_type": "code",
   "execution_count": null,
   "metadata": {},
   "outputs": [],
   "source": [
    "m_inRef.mean()"
   ]
  },
  {
   "cell_type": "code",
   "execution_count": null,
   "metadata": {},
   "outputs": [],
   "source": [
    "tmpDf=pd.read_pickle(tmp_dir+inFnameS.iloc[0])"
   ]
  },
  {
   "cell_type": "code",
   "execution_count": null,
   "metadata": {},
   "outputs": [],
   "source": [
    "tmpDf"
   ]
  },
  {
   "cell_type": "code",
   "execution_count": null,
   "metadata": {},
   "outputs": [],
   "source": [
    "attribVC=attribute_array.value_counts()#.head(n=50)"
   ]
  },
  {
   "cell_type": "code",
   "execution_count": null,
   "metadata": {},
   "outputs": [],
   "source": [
    "attribVC[attribVC.index.str.contains('cell',case=False)]"
   ]
  },
  {
   "cell_type": "code",
   "execution_count": null,
   "metadata": {},
   "outputs": [],
   "source": [
    "attribVC.idnex"
   ]
  },
  {
   "cell_type": "code",
   "execution_count": null,
   "metadata": {},
   "outputs": [],
   "source": []
  }
 ],
 "metadata": {
  "kernelspec": {
   "display_name": "Python 3",
   "language": "python",
   "name": "python3"
  },
  "language_info": {
   "codemirror_mode": {
    "name": "ipython",
    "version": 3
   },
   "file_extension": ".py",
   "mimetype": "text/x-python",
   "name": "python",
   "nbconvert_exporter": "python",
   "pygments_lexer": "ipython3",
   "version": "3.6.5"
  }
 },
 "nbformat": 4,
 "nbformat_minor": 2
}
