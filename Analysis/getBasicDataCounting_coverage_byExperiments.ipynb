{
 "cells": [
  {
   "cell_type": "code",
   "execution_count": 1,
   "metadata": {},
   "outputs": [],
   "source": [
    "import pandas  as pd\n",
    "import os\n",
    "import numpy as np\n",
    "%matplotlib inline"
   ]
  },
  {
   "cell_type": "code",
   "execution_count": 2,
   "metadata": {},
   "outputs": [
    {
     "name": "stderr",
     "output_type": "stream",
     "text": [
      "/cellar/users/btsui/anaconda3/lib/python3.6/site-packages/IPython/core/interactiveshell.py:2785: DtypeWarning: Columns (0) have mixed types. Specify dtype option on import or set low_memory=False.\n",
      "  interactivity=interactivity, compiler=compiler, result=result)\n"
     ]
    }
   ],
   "source": [
    "inVcfDir='/data/cellardata/users/btsui/dbsnp/Homo_sapiens/All_20170710.f1_byte2_not_00.vcf.gz' \n",
    "vcfDf=pd.read_csv(inVcfDir,sep='\\t',header=None)\n",
    "vcfDf.columns=['Chr','Pos','RsId','RefBase','AltBase','','','Annot']\n",
    "vcfDf['Chr']=vcfDf['Chr'].astype(str)\n"
   ]
  },
  {
   "cell_type": "code",
   "execution_count": 3,
   "metadata": {},
   "outputs": [
    {
     "data": {
      "text/plain": [
       "(387950, 8)"
      ]
     },
     "execution_count": 3,
     "metadata": {},
     "output_type": "execute_result"
    }
   ],
   "source": [
    "vcfDf.drop_duplicates(['Chr','Pos']).shape"
   ]
  },
  {
   "cell_type": "code",
   "execution_count": 4,
   "metadata": {},
   "outputs": [],
   "source": [
    "#'\\w{22}'"
   ]
  },
  {
   "cell_type": "code",
   "execution_count": 5,
   "metadata": {},
   "outputs": [],
   "source": [
    "vcfDf['VP_Int']=vcfDf['Annot'].str.extract('VP=(0x\\w+)',expand=False).apply(lambda Str:int(Str,16))"
   ]
  },
  {
   "cell_type": "code",
   "execution_count": 6,
   "metadata": {},
   "outputs": [],
   "source": [
    "#from right to left\n",
    "nth_bit=6\n",
    "vcfDf['somatic']=(vcfDf['VP_Int']%(2**(nth_bit-1))).astype(bool).values"
   ]
  },
  {
   "cell_type": "code",
   "execution_count": null,
   "metadata": {},
   "outputs": [],
   "source": []
  },
  {
   "cell_type": "code",
   "execution_count": 7,
   "metadata": {},
   "outputs": [],
   "source": [
    "vcfDf['specificSNP']=vcfDf['AltBase'].str.contains('^[ACGT]$')"
   ]
  },
  {
   "cell_type": "code",
   "execution_count": 8,
   "metadata": {},
   "outputs": [],
   "source": [
    "somaticI=vcfDf[vcfDf['somatic']&vcfDf['specificSNP']].set_index(['Chr','Pos','AltBase']).index"
   ]
  },
  {
   "cell_type": "code",
   "execution_count": 9,
   "metadata": {},
   "outputs": [],
   "source": [
    "germline_I=vcfDf[(~vcfDf['somatic'])&vcfDf['specificSNP']].set_index(['Chr','Pos','AltBase']).index"
   ]
  },
  {
   "cell_type": "code",
   "execution_count": 10,
   "metadata": {},
   "outputs": [],
   "source": [
    "#somatic_I=vcfDf.set_index('AltBase')"
   ]
  },
  {
   "cell_type": "code",
   "execution_count": 11,
   "metadata": {},
   "outputs": [
    {
     "data": {
      "text/html": [
       "<div>\n",
       "<style scoped>\n",
       "    .dataframe tbody tr th:only-of-type {\n",
       "        vertical-align: middle;\n",
       "    }\n",
       "\n",
       "    .dataframe tbody tr th {\n",
       "        vertical-align: top;\n",
       "    }\n",
       "\n",
       "    .dataframe thead th {\n",
       "        text-align: right;\n",
       "    }\n",
       "</style>\n",
       "<table border=\"1\" class=\"dataframe\">\n",
       "  <thead>\n",
       "    <tr style=\"text-align: right;\">\n",
       "      <th></th>\n",
       "      <th>Chr</th>\n",
       "      <th>Pos</th>\n",
       "      <th>RsId</th>\n",
       "      <th>RefBase</th>\n",
       "      <th>AltBase</th>\n",
       "      <th></th>\n",
       "      <th></th>\n",
       "      <th>Annot</th>\n",
       "      <th>VP_Int</th>\n",
       "      <th>somatic</th>\n",
       "      <th>specificSNP</th>\n",
       "    </tr>\n",
       "  </thead>\n",
       "  <tbody>\n",
       "    <tr>\n",
       "      <th>0</th>\n",
       "      <td>1</td>\n",
       "      <td>14727</td>\n",
       "      <td>rs1045587</td>\n",
       "      <td>G</td>\n",
       "      <td>A</td>\n",
       "      <td>.</td>\n",
       "      <td>.</td>\n",
       "      <td>RS=1045587;RSPOS=14727;RV;dbSNPBuildID=117;SSR...</td>\n",
       "      <td>1547614017554423799187767552</td>\n",
       "      <td>False</td>\n",
       "      <td>True</td>\n",
       "    </tr>\n",
       "    <tr>\n",
       "      <th>1</th>\n",
       "      <td>1</td>\n",
       "      <td>630825</td>\n",
       "      <td>rs9783068</td>\n",
       "      <td>T</td>\n",
       "      <td>C</td>\n",
       "      <td>.</td>\n",
       "      <td>.</td>\n",
       "      <td>RS=9783068;RSPOS=630825;dbSNPBuildID=119;SSR=1...</td>\n",
       "      <td>1547613980660935651768664384</td>\n",
       "      <td>False</td>\n",
       "      <td>True</td>\n",
       "    </tr>\n",
       "    <tr>\n",
       "      <th>2</th>\n",
       "      <td>1</td>\n",
       "      <td>630833</td>\n",
       "      <td>rs9701099</td>\n",
       "      <td>C</td>\n",
       "      <td>T</td>\n",
       "      <td>.</td>\n",
       "      <td>.</td>\n",
       "      <td>RS=9701099;RSPOS=630833;dbSNPBuildID=119;SSR=1...</td>\n",
       "      <td>1547613980660935651768664384</td>\n",
       "      <td>False</td>\n",
       "      <td>True</td>\n",
       "    </tr>\n",
       "    <tr>\n",
       "      <th>3</th>\n",
       "      <td>1</td>\n",
       "      <td>817186</td>\n",
       "      <td>rs3094315</td>\n",
       "      <td>G</td>\n",
       "      <td>A</td>\n",
       "      <td>.</td>\n",
       "      <td>.</td>\n",
       "      <td>RS=3094315;RSPOS=817186;RV;dbSNPBuildID=103;SS...</td>\n",
       "      <td>1548822906480573393185800449</td>\n",
       "      <td>True</td>\n",
       "      <td>True</td>\n",
       "    </tr>\n",
       "    <tr>\n",
       "      <th>4</th>\n",
       "      <td>1</td>\n",
       "      <td>833068</td>\n",
       "      <td>rs12562034</td>\n",
       "      <td>G</td>\n",
       "      <td>A</td>\n",
       "      <td>.</td>\n",
       "      <td>.</td>\n",
       "      <td>RS=12562034;RSPOS=833068;dbSNPBuildID=120;SSR=...</td>\n",
       "      <td>1548823017161040034332147968</td>\n",
       "      <td>False</td>\n",
       "      <td>True</td>\n",
       "    </tr>\n",
       "  </tbody>\n",
       "</table>\n",
       "</div>"
      ],
      "text/plain": [
       "  Chr     Pos        RsId RefBase AltBase        \\\n",
       "0   1   14727   rs1045587       G       A  .  .   \n",
       "1   1  630825   rs9783068       T       C  .  .   \n",
       "2   1  630833   rs9701099       C       T  .  .   \n",
       "3   1  817186   rs3094315       G       A  .  .   \n",
       "4   1  833068  rs12562034       G       A  .  .   \n",
       "\n",
       "                                               Annot  \\\n",
       "0  RS=1045587;RSPOS=14727;RV;dbSNPBuildID=117;SSR...   \n",
       "1  RS=9783068;RSPOS=630825;dbSNPBuildID=119;SSR=1...   \n",
       "2  RS=9701099;RSPOS=630833;dbSNPBuildID=119;SSR=1...   \n",
       "3  RS=3094315;RSPOS=817186;RV;dbSNPBuildID=103;SS...   \n",
       "4  RS=12562034;RSPOS=833068;dbSNPBuildID=120;SSR=...   \n",
       "\n",
       "                         VP_Int  somatic  specificSNP  \n",
       "0  1547614017554423799187767552    False         True  \n",
       "1  1547613980660935651768664384    False         True  \n",
       "2  1547613980660935651768664384    False         True  \n",
       "3  1548822906480573393185800449     True         True  \n",
       "4  1548823017161040034332147968    False         True  "
      ]
     },
     "execution_count": 11,
     "metadata": {},
     "output_type": "execute_result"
    }
   ],
   "source": [
    "myG=['Run_db','Run_digits',u'Chr', u'Pos',u'base']\n",
    "vcfDf.head()"
   ]
  },
  {
   "cell_type": "code",
   "execution_count": 12,
   "metadata": {},
   "outputs": [],
   "source": [
    "refI=vcfDf.set_index(['Chr','Pos','RefBase']).index"
   ]
  },
  {
   "cell_type": "code",
   "execution_count": 13,
   "metadata": {},
   "outputs": [],
   "source": [
    "tmp_dir='/nrnb/users/btsui/Data/all_seq/tmp/'"
   ]
  },
  {
   "cell_type": "code",
   "execution_count": 14,
   "metadata": {},
   "outputs": [],
   "source": [
    "inFnameS=pd.Series(os.listdir(tmp_dir)).sample(n=30)"
   ]
  },
  {
   "cell_type": "code",
   "execution_count": 15,
   "metadata": {},
   "outputs": [],
   "source": [
    "#!mkdir /tmp/btsui/jupyter/"
   ]
  },
  {
   "cell_type": "code",
   "execution_count": 16,
   "metadata": {},
   "outputs": [],
   "source": [
    "varToPlot='pass rd'"
   ]
  },
  {
   "cell_type": "code",
   "execution_count": 51,
   "metadata": {},
   "outputs": [],
   "source": [
    "myG=['ref base','Run_db','Run_digits']\n"
   ]
  },
  {
   "cell_type": "code",
   "execution_count": 117,
   "metadata": {},
   "outputs": [],
   "source": [
    "#inFname=inFnameS.iloc[1]\n",
    "#tmpDf=pd.read_pickle(tmp_dir+inFname)\n",
    "#tmpDf"
   ]
  },
  {
   "cell_type": "code",
   "execution_count": 119,
   "metadata": {},
   "outputs": [],
   "source": [
    "#inFname=inFnameS.iloc[1]\n",
    "def inF(inFname):\n",
    "    try:\n",
    "        tmpDf=pd.read_pickle(tmp_dir+inFname)\n",
    "    except:\n",
    "        print ('failed:',inFname)\n",
    "        return None\n",
    "    tmpDf2=tmpDf[tmpDf['AverageBaseQuality']>=30].reset_index().drop_duplicates()\n",
    "    myI=tmpDf2.set_index(['Chr','Pos','base']).index\n",
    "    \n",
    "    m_inRef=myI.isin(refI)\n",
    "    m_somatic=myI.isin(somaticI)\n",
    "    m_germline=myI.isin(germline_I)\n",
    "    tmpDf2.loc[m_inRef,'ref base']='Reference alleles'\n",
    "    tmpDf2.loc[m_somatic,'ref base']='Known somatic \\nmutations'\n",
    "    tmpDf2.loc[m_germline,'ref base']='Known germline \\nmutations'\n",
    "    \n",
    "    tmpDf2['ref base'].fillna('Known germline \\nmutations',inplace=True)\n",
    "\n",
    "    tmpDf2['pass rd']=tmpDf2['ReadDepth']>=2\n",
    "    #myG=['ref base','base','Run_db','Run_digits']\n",
    "    \n",
    "    tmpS=tmpDf2.groupby(myG)[varToPlot].sum()\n",
    "    tmpS.to_pickle('/tmp/btsui/jupyter/'+inFname)\n",
    "    return tmpS\n"
   ]
  },
  {
   "cell_type": "code",
   "execution_count": 120,
   "metadata": {},
   "outputs": [],
   "source": [
    "\n",
    "\n",
    "from multiprocessing import Pool"
   ]
  },
  {
   "cell_type": "code",
   "execution_count": 121,
   "metadata": {},
   "outputs": [],
   "source": [
    "from tqdm import tqdm\n",
    "import matplotlib.pyplot as plt\n",
    "import seaborn as sns"
   ]
  },
  {
   "cell_type": "code",
   "execution_count": 122,
   "metadata": {},
   "outputs": [],
   "source": [
    "#tmpSL=list(tqdm(map(inF,inFnameS.values),\n",
    "#                   total=len(inFnameS)))"
   ]
  },
  {
   "cell_type": "code",
   "execution_count": 123,
   "metadata": {},
   "outputs": [
    {
     "name": "stderr",
     "output_type": "stream",
     "text": [
      "100%|██████████| 30/30 [00:44<00:00,  1.49s/it]\n"
     ]
    }
   ],
   "source": [
    "#take one hour and twenty mins\n",
    "#ls_out.txt: screwed up the process\n",
    "with Pool(48) as p:\n",
    "    tmpSL=list(tqdm(p.imap(inF,inFnameS.values),total=len(inFnameS)))#,\n",
    "                   #total=len(inFnameS))"
   ]
  },
  {
   "cell_type": "code",
   "execution_count": 124,
   "metadata": {},
   "outputs": [],
   "source": [
    "#tmpSL[0]"
   ]
  },
  {
   "cell_type": "code",
   "execution_count": 125,
   "metadata": {},
   "outputs": [],
   "source": [
    "#len(tmpSL)"
   ]
  },
  {
   "cell_type": "code",
   "execution_count": 126,
   "metadata": {},
   "outputs": [],
   "source": [
    "mergeS_raw=pd.concat(tmpSL,axis=0)#.groupby(myG).sum()"
   ]
  },
  {
   "cell_type": "code",
   "execution_count": 128,
   "metadata": {},
   "outputs": [],
   "source": [
    "import matplotlib.pyplot as plt\n",
    "import matplotlib "
   ]
  },
  {
   "cell_type": "code",
   "execution_count": 129,
   "metadata": {},
   "outputs": [],
   "source": [
    "from scipy import stats"
   ]
  },
  {
   "cell_type": "code",
   "execution_count": 138,
   "metadata": {},
   "outputs": [
    {
     "data": {
      "text/plain": [
       "ref base                    Run_db  Run_digits\n",
       "Known germline \\nmutations  ERR     239961           371.0\n",
       "                                    241131          1084.0\n",
       "                                    243497           370.0\n",
       "                                    245894           989.0\n",
       "                                    1491058           27.0\n",
       "                                    1492457           15.0\n",
       "                                    1564065           14.0\n",
       "                                    1570499           12.0\n",
       "                            SRR     32267           7362.0\n",
       "                                    42258            208.0\n",
       "                                    66791          18070.0\n",
       "                                    71133          24472.0\n",
       "                                    227398            26.0\n",
       "                                    351624           423.0\n",
       "                                    443595          1716.0\n",
       "                                    568343          4462.0\n",
       "                                    581095         15409.0\n",
       "                                    586796           748.0\n",
       "                                    588286           510.0\n",
       "                                    589009           456.0\n",
       "                                    590357           341.0\n",
       "                                    591806         14793.0\n",
       "                                    596910         14870.0\n",
       "                                    789621         15903.0\n",
       "                                    792329         15375.0\n",
       "                                    794783         28327.0\n",
       "                                    897304          9994.0\n",
       "                                    897463         15733.0\n",
       "                                    897651         12230.0\n",
       "                                    1024740         6507.0\n",
       "                                                    ...   \n",
       "Reference alleles           SRR     3936009         6310.0\n",
       "                                    3936245        11165.0\n",
       "                                    3937211        11218.0\n",
       "                                    3937257         4550.0\n",
       "                                    3937464         8110.0\n",
       "                                    3939341         3002.0\n",
       "                                    3952814         6394.0\n",
       "                                    4011061        76563.0\n",
       "                                    4049646        12920.0\n",
       "                                    4422332        91518.0\n",
       "                                    5007105          246.0\n",
       "                                    5023477        10745.0\n",
       "                                    5035970        21401.0\n",
       "                                    5068281        27925.0\n",
       "                                    5111102       113901.0\n",
       "                                    5111708        23062.0\n",
       "                                    5185514        39880.0\n",
       "                                    5197171        68651.0\n",
       "                                    5224344        77602.0\n",
       "                                    5289923        19397.0\n",
       "                                    5453053       109290.0\n",
       "                                    5577242         7442.0\n",
       "                                    5578329         7984.0\n",
       "                                    5659740        96850.0\n",
       "                                    5677812           46.0\n",
       "                                    5746074         4393.0\n",
       "                                    5746195         6202.0\n",
       "                                    5746477        61167.0\n",
       "                                    6024448         3516.0\n",
       "                                    6054443          167.0\n",
       "Name: pass rd, Length: 8849, dtype: float64"
      ]
     },
     "execution_count": 138,
     "metadata": {},
     "output_type": "execute_result"
    }
   ],
   "source": [
    "mergeS_raw"
   ]
  },
  {
   "cell_type": "code",
   "execution_count": 137,
   "metadata": {},
   "outputs": [
    {
     "data": {
      "text/plain": [
       "ref base                    Run_db  Run_digits\n",
       "Known germline \\nmutations  ERR     239961          371.0\n",
       "                                    241131         1084.0\n",
       "                                    243497          370.0\n",
       "                                    245894          989.0\n",
       "                                    1491058          27.0\n",
       "                                    1492457          15.0\n",
       "                                    1564065          14.0\n",
       "                                    1570499          12.0\n",
       "                            SRR     32267          7362.0\n",
       "                                    42258           208.0\n",
       "                                    66791         18070.0\n",
       "                                    71133         24472.0\n",
       "                                    227398           26.0\n",
       "                                    351624          423.0\n",
       "                                    443595         1716.0\n",
       "                                    568343         4462.0\n",
       "                                    581095        15409.0\n",
       "                                    586796          748.0\n",
       "                                    588286          510.0\n",
       "                                    589009          456.0\n",
       "                                    590357          341.0\n",
       "                                    591806        14793.0\n",
       "                                    596910        14870.0\n",
       "                                    789621        15903.0\n",
       "                                    792329        15375.0\n",
       "                                    794783        28327.0\n",
       "                                    897304         9994.0\n",
       "                                    897463        15733.0\n",
       "                                    897651        12230.0\n",
       "                                    1024740        6507.0\n",
       "                                                   ...   \n",
       "Known somatic \\nmutations   SRR     3936009          65.0\n",
       "                                    3936245         125.0\n",
       "                                    3937211          95.0\n",
       "                                    3937257          41.0\n",
       "                                    3937464          96.0\n",
       "                                    3939341          34.0\n",
       "                                    3952814          80.0\n",
       "                                    4011061        1197.0\n",
       "                                    4049646         184.0\n",
       "                                    4422332        1414.0\n",
       "                                    5007105           2.0\n",
       "                                    5023477         136.0\n",
       "                                    5035970         168.0\n",
       "                                    5068281         345.0\n",
       "                                    5111102        3437.0\n",
       "                                    5111708         583.0\n",
       "                                    5185514         371.0\n",
       "                                    5197171        1681.0\n",
       "                                    5224344         862.0\n",
       "                                    5289923         188.0\n",
       "                                    5453053        1777.0\n",
       "                                    5577242          95.0\n",
       "                                    5578329          67.0\n",
       "                                    5659740        1184.0\n",
       "                                    5677812           3.0\n",
       "                                    5746074         101.0\n",
       "                                    5746195         136.0\n",
       "                                    5746477         733.0\n",
       "                                    6024448          87.0\n",
       "                                    6054443           1.0\n",
       "Name: pass rd, Length: 5870, dtype: float64"
      ]
     },
     "execution_count": 137,
     "metadata": {},
     "output_type": "execute_result"
    }
   ],
   "source": [
    "(mergeS_raw[mergeS_raw.index.get_level_values('ref base')!='Reference alleles'])#.median()"
   ]
  },
  {
   "cell_type": "code",
   "execution_count": 131,
   "metadata": {},
   "outputs": [
    {
     "data": {
      "text/plain": [
       "Ttest_indResult(statistic=18.572893988239873, pvalue=1.4421949945566788e-75)"
      ]
     },
     "execution_count": 131,
     "metadata": {},
     "output_type": "execute_result"
    }
   ],
   "source": [
    "stats.ttest_ind(np.log2(mergeS_raw['Known germline \\nmutations']+1),np.log2(mergeS_raw[mergeS_raw.index.get_level_values('ref base')!='Reference alleles']+1))"
   ]
  },
  {
   "cell_type": "code",
   "execution_count": 132,
   "metadata": {},
   "outputs": [
    {
     "data": {
      "text/plain": [
       "ref base\n",
       "Known germline \\nmutations     3068.0\n",
       "Known somatic \\nmutations       337.0\n",
       "Reference alleles             19930.0\n",
       "Name: pass rd, dtype: float64"
      ]
     },
     "execution_count": 132,
     "metadata": {},
     "output_type": "execute_result"
    }
   ],
   "source": [
    "mergeS_raw.groupby('ref base').median()"
   ]
  },
  {
   "cell_type": "code",
   "execution_count": 139,
   "metadata": {},
   "outputs": [
    {
     "data": {
      "text/plain": [
       "Text(0.5,0,'')"
      ]
     },
     "execution_count": 139,
     "metadata": {},
     "output_type": "execute_result"
    },
    {
     "data": {
      "image/png": "[encoded data removed]",
      "text/plain": [
       "<Figure size 432x288 with 1 Axes>"
      ]
     },
     "metadata": {},
     "output_type": "display_data"
    }
   ],
   "source": [
    "ax=sns.boxplot(data=mergeS_raw.reset_index(),x='ref base',y='pass rd')\n",
    "ax.set_ylabel('# of variants with at least two reads\\n in each sequencing runs')\n",
    "ax.set_xlabel('')\n",
    "#ax.set_yscale('log')\n",
    "#ax.get_yaxis().set_major_formatter(\n",
    "#    matplotlib.ticker.FuncFormatter(lambda x, p: format(int(x), ',')))\n"
   ]
  },
  {
   "cell_type": "code",
   "execution_count": 84,
   "metadata": {},
   "outputs": [
    {
     "data": {
      "text/plain": [
       "ref base\n",
       "Known germline \\nmutations    0.587196\n",
       "Known somatic \\nmutations     0.133583\n",
       "Reference alleles             0.846616\n",
       "Name: pass rd, dtype: float64"
      ]
     },
     "execution_count": 84,
     "metadata": {},
     "output_type": "execute_result"
    }
   ],
   "source": [
    "(mergeS_raw>2000).groupby('ref base').mean()"
   ]
  },
  {
   "cell_type": "code",
   "execution_count": 75,
   "metadata": {},
   "outputs": [
    {
     "data": {
      "text/plain": [
       "ref base\n",
       "Known germline \\nmutations     3608.0\n",
       "Known somatic \\nmutations       384.5\n",
       "Reference alleles             23044.0\n",
       "Name: pass rd, dtype: float64"
      ]
     },
     "execution_count": 75,
     "metadata": {},
     "output_type": "execute_result"
    }
   ],
   "source": [
    "mergeS_raw.groupby('ref base').median()"
   ]
  },
  {
   "cell_type": "code",
   "execution_count": 76,
   "metadata": {},
   "outputs": [],
   "source": [
    "#mergeS_raw[~(mergeS_raw.index.get_level_values('ref base')=='Reference alleles')]"
   ]
  },
  {
   "cell_type": "code",
   "execution_count": 66,
   "metadata": {},
   "outputs": [],
   "source": [
    "minorAllelS=mergeS_raw[~(mergeS_raw.index.get_level_values('ref base')!='Reference alleles')]"
   ]
  },
  {
   "cell_type": "code",
   "execution_count": 69,
   "metadata": {},
   "outputs": [],
   "source": [
    "#minorAllelS"
   ]
  },
  {
   "cell_type": "code",
   "execution_count": 73,
   "metadata": {},
   "outputs": [
    {
     "data": {
      "text/plain": [
       "1.0"
      ]
     },
     "execution_count": 73,
     "metadata": {},
     "output_type": "execute_result"
    }
   ],
   "source": [
    "(minorAllelS>1000).median()"
   ]
  },
  {
   "cell_type": "code",
   "execution_count": 61,
   "metadata": {},
   "outputs": [
    {
     "data": {
      "text/plain": [
       "2471.5"
      ]
     },
     "execution_count": 61,
     "metadata": {},
     "output_type": "execute_result"
    }
   ],
   "source": [
    "mergeS_raw.median()"
   ]
  },
  {
   "cell_type": "code",
   "execution_count": 35,
   "metadata": {},
   "outputs": [
    {
     "data": {
      "text/plain": [
       "<matplotlib.axes._subplots.AxesSubplot at 0x2b36b02b7320>"
      ]
     },
     "execution_count": 35,
     "metadata": {},
     "output_type": "execute_result"
    },
    {
     "data": {
      "image/png": "[encoded data removed]",
      "text/plain": [
       "<Figure size 432x288 with 1 Axes>"
      ]
     },
     "metadata": {},
     "output_type": "display_data"
    }
   ],
   "source": [
    "mergeS_raw.hist()"
   ]
  },
  {
   "cell_type": "code",
   "execution_count": null,
   "metadata": {},
   "outputs": [],
   "source": []
  },
  {
   "cell_type": "code",
   "execution_count": 26,
   "metadata": {},
   "outputs": [],
   "source": [
    "mergeS_raw=mergeS_raw.groupby(myG).sum()"
   ]
  },
  {
   "cell_type": "code",
   "execution_count": 27,
   "metadata": {},
   "outputs": [],
   "source": [
    "mergedS=np.log10(mergeS_raw+1)"
   ]
  },
  {
   "cell_type": "code",
   "execution_count": 32,
   "metadata": {},
   "outputs": [
    {
     "data": {
      "text/plain": [
       "Run_db  Run_digits\n",
       "DRR     61036         5.055466\n",
       "ERR     6319          3.775028\n",
       "        6338          4.457019\n",
       "        6358          3.744762\n",
       "        6376          4.650094\n",
       "        6422          4.491320\n",
       "        15993         4.365113\n",
       "        16147         4.581540\n",
       "        16149         4.993908\n",
       "        16177         4.762829\n",
       "        16213         5.020034\n",
       "        16217         4.541205\n",
       "        16251         5.168886\n",
       "        16257         4.703996\n",
       "        16267         5.075006\n",
       "        16307         4.379541\n",
       "        18464         5.090322\n",
       "        19901         4.592177\n",
       "        22333         4.751164\n",
       "        22355         4.689309\n",
       "        22379         4.396356\n",
       "        22444         4.426853\n",
       "        22449         5.281465\n",
       "        31876         5.367432\n",
       "        31879         5.362268\n",
       "        31920         5.475671\n",
       "        31984         5.407880\n",
       "        32040         5.262268\n",
       "        42505         5.497302\n",
       "        42532         5.491119\n",
       "                        ...   \n",
       "SRR     6040477       3.582972\n",
       "        6040599       3.482445\n",
       "        6051218       5.047049\n",
       "        6054443       2.326336\n",
       "        6054539       1.880814\n",
       "        6066112       4.068483\n",
       "        6075271       2.761176\n",
       "        6078306       5.177444\n",
       "        6081961       5.232078\n",
       "        6082022       5.162409\n",
       "        6161416       4.295567\n",
       "        6161467       4.535243\n",
       "        6161499       4.401711\n",
       "        6161567       4.161937\n",
       "        6161598       4.125676\n",
       "        6197347       2.336460\n",
       "        6205895       3.523876\n",
       "        6212971       5.352844\n",
       "        6213081       5.372166\n",
       "        6213145       5.247553\n",
       "        6213652       5.212446\n",
       "        6214153       5.300163\n",
       "        6231125       5.060286\n",
       "        6237236       5.163313\n",
       "        6301139       3.975294\n",
       "        6301209       4.463505\n",
       "        6307936       4.395519\n",
       "        6308005       4.363913\n",
       "        6310117       5.159077\n",
       "        6315419       2.416641\n",
       "Name: pass rd, Length: 2999, dtype: float64"
      ]
     },
     "execution_count": 32,
     "metadata": {},
     "output_type": "execute_result"
    }
   ],
   "source": [
    "mergedS.head()"
   ]
  },
  {
   "cell_type": "code",
   "execution_count": 29,
   "metadata": {},
   "outputs": [],
   "source": [
    "#%matplotlib inline\n",
    "plt.rcParams['pdf.fonttype'] = 42\n"
   ]
  },
  {
   "cell_type": "code",
   "execution_count": 30,
   "metadata": {},
   "outputs": [
    {
     "ename": "KeyError",
     "evalue": "'ref base'",
     "output_type": "error",
     "traceback": [
      "\u001b[0;31m---------------------------------------------------------------------------\u001b[0m",
      "\u001b[0;31mKeyError\u001b[0m                                  Traceback (most recent call last)",
      "\u001b[0;32m<ipython-input-30-d619e344b43c>\u001b[0m in \u001b[0;36m<module>\u001b[0;34m()\u001b[0m\n\u001b[0;32m----> 1\u001b[0;31m \u001b[0mmergeS_raw\u001b[0m\u001b[0;34m.\u001b[0m\u001b[0mgroupby\u001b[0m\u001b[0;34m(\u001b[0m\u001b[0;34m'ref base'\u001b[0m\u001b[0;34m)\u001b[0m\u001b[0;34m.\u001b[0m\u001b[0mmedian\u001b[0m\u001b[0;34m(\u001b[0m\u001b[0;34m)\u001b[0m\u001b[0;34m\u001b[0m\u001b[0m\n\u001b[0m",
      "\u001b[0;32m~/anaconda3/lib/python3.6/site-packages/pandas/core/generic.py\u001b[0m in \u001b[0;36mgroupby\u001b[0;34m(self, by, axis, level, as_index, sort, group_keys, squeeze, observed, **kwargs)\u001b[0m\n\u001b[1;32m   6657\u001b[0m         return groupby(self, by=by, axis=axis, level=level, as_index=as_index,\n\u001b[1;32m   6658\u001b[0m                        \u001b[0msort\u001b[0m\u001b[0;34m=\u001b[0m\u001b[0msort\u001b[0m\u001b[0;34m,\u001b[0m \u001b[0mgroup_keys\u001b[0m\u001b[0;34m=\u001b[0m\u001b[0mgroup_keys\u001b[0m\u001b[0;34m,\u001b[0m \u001b[0msqueeze\u001b[0m\u001b[0;34m=\u001b[0m\u001b[0msqueeze\u001b[0m\u001b[0;34m,\u001b[0m\u001b[0;34m\u001b[0m\u001b[0m\n\u001b[0;32m-> 6659\u001b[0;31m                        observed=observed, **kwargs)\n\u001b[0m\u001b[1;32m   6660\u001b[0m \u001b[0;34m\u001b[0m\u001b[0m\n\u001b[1;32m   6661\u001b[0m     def asfreq(self, freq, method=None, how=None, normalize=False,\n",
      "\u001b[0;32m~/anaconda3/lib/python3.6/site-packages/pandas/core/groupby/groupby.py\u001b[0m in \u001b[0;36mgroupby\u001b[0;34m(obj, by, **kwds)\u001b[0m\n\u001b[1;32m   2150\u001b[0m         \u001b[0;32mraise\u001b[0m \u001b[0mTypeError\u001b[0m\u001b[0;34m(\u001b[0m\u001b[0;34m'invalid type: %s'\u001b[0m \u001b[0;34m%\u001b[0m \u001b[0mtype\u001b[0m\u001b[0;34m(\u001b[0m\u001b[0mobj\u001b[0m\u001b[0;34m)\u001b[0m\u001b[0;34m)\u001b[0m\u001b[0;34m\u001b[0m\u001b[0m\n\u001b[1;32m   2151\u001b[0m \u001b[0;34m\u001b[0m\u001b[0m\n\u001b[0;32m-> 2152\u001b[0;31m     \u001b[0;32mreturn\u001b[0m \u001b[0mklass\u001b[0m\u001b[0;34m(\u001b[0m\u001b[0mobj\u001b[0m\u001b[0;34m,\u001b[0m \u001b[0mby\u001b[0m\u001b[0;34m,\u001b[0m \u001b[0;34m**\u001b[0m\u001b[0mkwds\u001b[0m\u001b[0;34m)\u001b[0m\u001b[0;34m\u001b[0m\u001b[0m\n\u001b[0m\u001b[1;32m   2153\u001b[0m \u001b[0;34m\u001b[0m\u001b[0m\n\u001b[1;32m   2154\u001b[0m \u001b[0;34m\u001b[0m\u001b[0m\n",
      "\u001b[0;32m~/anaconda3/lib/python3.6/site-packages/pandas/core/groupby/groupby.py\u001b[0m in \u001b[0;36m__init__\u001b[0;34m(self, obj, keys, axis, level, grouper, exclusions, selection, as_index, sort, group_keys, squeeze, observed, **kwargs)\u001b[0m\n\u001b[1;32m    597\u001b[0m                                                     \u001b[0msort\u001b[0m\u001b[0;34m=\u001b[0m\u001b[0msort\u001b[0m\u001b[0;34m,\u001b[0m\u001b[0;34m\u001b[0m\u001b[0m\n\u001b[1;32m    598\u001b[0m                                                     \u001b[0mobserved\u001b[0m\u001b[0;34m=\u001b[0m\u001b[0mobserved\u001b[0m\u001b[0;34m,\u001b[0m\u001b[0;34m\u001b[0m\u001b[0m\n\u001b[0;32m--> 599\u001b[0;31m                                                     mutated=self.mutated)\n\u001b[0m\u001b[1;32m    600\u001b[0m \u001b[0;34m\u001b[0m\u001b[0m\n\u001b[1;32m    601\u001b[0m         \u001b[0mself\u001b[0m\u001b[0;34m.\u001b[0m\u001b[0mobj\u001b[0m \u001b[0;34m=\u001b[0m \u001b[0mobj\u001b[0m\u001b[0;34m\u001b[0m\u001b[0m\n",
      "\u001b[0;32m~/anaconda3/lib/python3.6/site-packages/pandas/core/groupby/groupby.py\u001b[0m in \u001b[0;36m_get_grouper\u001b[0;34m(obj, key, axis, level, sort, observed, mutated, validate)\u001b[0m\n\u001b[1;32m   3289\u001b[0m                 \u001b[0min_axis\u001b[0m\u001b[0;34m,\u001b[0m \u001b[0mname\u001b[0m\u001b[0;34m,\u001b[0m \u001b[0mlevel\u001b[0m\u001b[0;34m,\u001b[0m \u001b[0mgpr\u001b[0m \u001b[0;34m=\u001b[0m \u001b[0;32mFalse\u001b[0m\u001b[0;34m,\u001b[0m \u001b[0;32mNone\u001b[0m\u001b[0;34m,\u001b[0m \u001b[0mgpr\u001b[0m\u001b[0;34m,\u001b[0m \u001b[0;32mNone\u001b[0m\u001b[0;34m\u001b[0m\u001b[0m\n\u001b[1;32m   3290\u001b[0m             \u001b[0;32melse\u001b[0m\u001b[0;34m:\u001b[0m\u001b[0;34m\u001b[0m\u001b[0m\n\u001b[0;32m-> 3291\u001b[0;31m                 \u001b[0;32mraise\u001b[0m \u001b[0mKeyError\u001b[0m\u001b[0;34m(\u001b[0m\u001b[0mgpr\u001b[0m\u001b[0;34m)\u001b[0m\u001b[0;34m\u001b[0m\u001b[0m\n\u001b[0m\u001b[1;32m   3292\u001b[0m         \u001b[0;32melif\u001b[0m \u001b[0misinstance\u001b[0m\u001b[0;34m(\u001b[0m\u001b[0mgpr\u001b[0m\u001b[0;34m,\u001b[0m \u001b[0mGrouper\u001b[0m\u001b[0;34m)\u001b[0m \u001b[0;32mand\u001b[0m \u001b[0mgpr\u001b[0m\u001b[0;34m.\u001b[0m\u001b[0mkey\u001b[0m \u001b[0;32mis\u001b[0m \u001b[0;32mnot\u001b[0m \u001b[0;32mNone\u001b[0m\u001b[0;34m:\u001b[0m\u001b[0;34m\u001b[0m\u001b[0m\n\u001b[1;32m   3293\u001b[0m             \u001b[0;31m# Add key to exclusions\u001b[0m\u001b[0;34m\u001b[0m\u001b[0;34m\u001b[0m\u001b[0m\n",
      "\u001b[0;31mKeyError\u001b[0m: 'ref base'"
     ]
    }
   ],
   "source": [
    "mergeS_raw.groupby('ref base').median()"
   ]
  },
  {
   "cell_type": "code",
   "execution_count": 31,
   "metadata": {},
   "outputs": [
    {
     "ename": "ValueError",
     "evalue": "Could not interpret input 'ref base'",
     "output_type": "error",
     "traceback": [
      "\u001b[0;31m---------------------------------------------------------------------------\u001b[0m",
      "\u001b[0;31mValueError\u001b[0m                                Traceback (most recent call last)",
      "\u001b[0;32m<ipython-input-31-7ad981b857e3>\u001b[0m in \u001b[0;36m<module>\u001b[0;34m()\u001b[0m\n\u001b[1;32m      2\u001b[0m \u001b[0mxorder\u001b[0m\u001b[0;34m=\u001b[0m\u001b[0;34m[\u001b[0m\u001b[0;34m'Reference alleles'\u001b[0m\u001b[0;34m,\u001b[0m\u001b[0;34m'Known germline \\nmutations'\u001b[0m\u001b[0;34m,\u001b[0m\u001b[0;34m'Known somatic \\nmutations'\u001b[0m\u001b[0;34m]\u001b[0m\u001b[0;34m\u001b[0m\u001b[0m\n\u001b[1;32m      3\u001b[0m ax=sns.boxplot(data=mergedS.reset_index(),\n\u001b[0;32m----> 4\u001b[0;31m                x='ref base',y=varToPlot,ax=ax,order=xorder)\n\u001b[0m\u001b[1;32m      5\u001b[0m \u001b[0;31m#    tmpDf2.loc[m_inRef,'ref base']='Reference alleles'\u001b[0m\u001b[0;34m\u001b[0m\u001b[0;34m\u001b[0m\u001b[0m\n\u001b[1;32m      6\u001b[0m \u001b[0;31m#    tmpDf2.loc[m_somatic,'ref base']='Known somatic \\nmutations'\u001b[0m\u001b[0;34m\u001b[0m\u001b[0;34m\u001b[0m\u001b[0m\n",
      "\u001b[0;32m~/anaconda3/lib/python3.6/site-packages/seaborn/categorical.py\u001b[0m in \u001b[0;36mboxplot\u001b[0;34m(x, y, hue, data, order, hue_order, orient, color, palette, saturation, width, dodge, fliersize, linewidth, whis, notch, ax, **kwargs)\u001b[0m\n\u001b[1;32m   2209\u001b[0m     plotter = _BoxPlotter(x, y, hue, data, order, hue_order,\n\u001b[1;32m   2210\u001b[0m                           \u001b[0morient\u001b[0m\u001b[0;34m,\u001b[0m \u001b[0mcolor\u001b[0m\u001b[0;34m,\u001b[0m \u001b[0mpalette\u001b[0m\u001b[0;34m,\u001b[0m \u001b[0msaturation\u001b[0m\u001b[0;34m,\u001b[0m\u001b[0;34m\u001b[0m\u001b[0m\n\u001b[0;32m-> 2211\u001b[0;31m                           width, dodge, fliersize, linewidth)\n\u001b[0m\u001b[1;32m   2212\u001b[0m \u001b[0;34m\u001b[0m\u001b[0m\n\u001b[1;32m   2213\u001b[0m     \u001b[0;32mif\u001b[0m \u001b[0max\u001b[0m \u001b[0;32mis\u001b[0m \u001b[0;32mNone\u001b[0m\u001b[0;34m:\u001b[0m\u001b[0;34m\u001b[0m\u001b[0m\n",
      "\u001b[0;32m~/anaconda3/lib/python3.6/site-packages/seaborn/categorical.py\u001b[0m in \u001b[0;36m__init__\u001b[0;34m(self, x, y, hue, data, order, hue_order, orient, color, palette, saturation, width, dodge, fliersize, linewidth)\u001b[0m\n\u001b[1;32m    439\u001b[0m                  width, dodge, fliersize, linewidth):\n\u001b[1;32m    440\u001b[0m \u001b[0;34m\u001b[0m\u001b[0m\n\u001b[0;32m--> 441\u001b[0;31m         \u001b[0mself\u001b[0m\u001b[0;34m.\u001b[0m\u001b[0mestablish_variables\u001b[0m\u001b[0;34m(\u001b[0m\u001b[0mx\u001b[0m\u001b[0;34m,\u001b[0m \u001b[0my\u001b[0m\u001b[0;34m,\u001b[0m \u001b[0mhue\u001b[0m\u001b[0;34m,\u001b[0m \u001b[0mdata\u001b[0m\u001b[0;34m,\u001b[0m \u001b[0morient\u001b[0m\u001b[0;34m,\u001b[0m \u001b[0morder\u001b[0m\u001b[0;34m,\u001b[0m \u001b[0mhue_order\u001b[0m\u001b[0;34m)\u001b[0m\u001b[0;34m\u001b[0m\u001b[0m\n\u001b[0m\u001b[1;32m    442\u001b[0m         \u001b[0mself\u001b[0m\u001b[0;34m.\u001b[0m\u001b[0mestablish_colors\u001b[0m\u001b[0;34m(\u001b[0m\u001b[0mcolor\u001b[0m\u001b[0;34m,\u001b[0m \u001b[0mpalette\u001b[0m\u001b[0;34m,\u001b[0m \u001b[0msaturation\u001b[0m\u001b[0;34m)\u001b[0m\u001b[0;34m\u001b[0m\u001b[0m\n\u001b[1;32m    443\u001b[0m \u001b[0;34m\u001b[0m\u001b[0m\n",
      "\u001b[0;32m~/anaconda3/lib/python3.6/site-packages/seaborn/categorical.py\u001b[0m in \u001b[0;36mestablish_variables\u001b[0;34m(self, x, y, hue, data, orient, order, hue_order, units)\u001b[0m\n\u001b[1;32m    149\u001b[0m                 \u001b[0;32mif\u001b[0m \u001b[0misinstance\u001b[0m\u001b[0;34m(\u001b[0m\u001b[0minput\u001b[0m\u001b[0;34m,\u001b[0m \u001b[0mstring_types\u001b[0m\u001b[0;34m)\u001b[0m\u001b[0;34m:\u001b[0m\u001b[0;34m\u001b[0m\u001b[0m\n\u001b[1;32m    150\u001b[0m                     \u001b[0merr\u001b[0m \u001b[0;34m=\u001b[0m \u001b[0;34m\"Could not interpret input '{}'\"\u001b[0m\u001b[0;34m.\u001b[0m\u001b[0mformat\u001b[0m\u001b[0;34m(\u001b[0m\u001b[0minput\u001b[0m\u001b[0;34m)\u001b[0m\u001b[0;34m\u001b[0m\u001b[0m\n\u001b[0;32m--> 151\u001b[0;31m                     \u001b[0;32mraise\u001b[0m \u001b[0mValueError\u001b[0m\u001b[0;34m(\u001b[0m\u001b[0merr\u001b[0m\u001b[0;34m)\u001b[0m\u001b[0;34m\u001b[0m\u001b[0m\n\u001b[0m\u001b[1;32m    152\u001b[0m \u001b[0;34m\u001b[0m\u001b[0m\n\u001b[1;32m    153\u001b[0m             \u001b[0;31m# Figure out the plotting orientation\u001b[0m\u001b[0;34m\u001b[0m\u001b[0;34m\u001b[0m\u001b[0m\n",
      "\u001b[0;31mValueError\u001b[0m: Could not interpret input 'ref base'"
     ]
    },
    {
     "data": {
      "image/png": "[encoded data removed]",
      "text/plain": [
       "<Figure size 504x216 with 1 Axes>"
      ]
     },
     "metadata": {},
     "output_type": "display_data"
    }
   ],
   "source": [
    "fig,ax=plt.subplots(figsize=(7,3))\n",
    "xorder=['Reference alleles','Known germline \\nmutations','Known somatic \\nmutations']\n",
    "ax=sns.boxplot(data=mergedS.reset_index(),\n",
    "               x='ref base',y=varToPlot,ax=ax,order=xorder)\n",
    "#    tmpDf2.loc[m_inRef,'ref base']='Reference alleles'\n",
    "#    tmpDf2.loc[m_somatic,'ref base']='Known somatic \\nmutations'\n",
    "#    tmpDf2.loc[m_germline,'ref base']='Known germline \\nmutations'\n",
    "#ax.set_xticks()\n",
    "#at least 2 reads\n",
    "#each dot is a variant\n",
    "#ax.set_yscale('log')\n",
    "#ax.set_ylim([0,10**6])\n",
    "#ax.ticklabel_format(axis='y',style='sci',scilimits=(1,4))\n",
    "\n",
    "ax.set_ylabel(' # of sequencing runs with variant detected\\n (log10 scale)' )\n",
    "#ax.set_xlabel()\n",
    "ax.set_xlabel('')\n",
    "fig.savefig('./Figures/variant_suppport_for_each_sequencing_run.pdf')\n",
    "fig.savefig('./Figures/variant_suppport_for_each_sequencing_run.png',dpi=300)"
   ]
  },
  {
   "cell_type": "code",
   "execution_count": 66,
   "metadata": {},
   "outputs": [
    {
     "name": "stdout",
     "output_type": "stream",
     "text": [
      "/cellar/users/btsui/Project/METAMAP/notebook/RapMapTest/Analysis/./Figures/variant_suppport_for_each_sequencing_run.pdf\r\n"
     ]
    }
   ],
   "source": [
    "!echo $PWD/./Figures/variant_suppport_for_each_sequencing_run.pdf"
   ]
  },
  {
   "cell_type": "code",
   "execution_count": 258,
   "metadata": {},
   "outputs": [],
   "source": [
    "#ax=mergedS[False].hist()"
   ]
  },
  {
   "cell_type": "code",
   "execution_count": null,
   "metadata": {},
   "outputs": [],
   "source": []
  },
  {
   "cell_type": "code",
   "execution_count": 60,
   "metadata": {},
   "outputs": [],
   "source": [
    "### make sure the data read in will have all the results\n",
    "inFname=inFnameS.iloc[1]\n",
    "\n",
    "tmpDf=pd.read_pickle(tmp_dir+inFname)\n",
    "\n",
    "tmpDf2=tmpDf.reset_index().drop_duplicates()\n",
    "\n",
    "\n",
    "\n",
    "#tmpDf2.head().dtypes\n",
    "\n",
    "myI=tmpDf2.set_index(['Chr','Pos','base']).index\n",
    "\n",
    "m_inRef=myI.isin(refI)\n",
    "\n",
    "tmpDf2.loc[m_inRef,'ref base']=True\n",
    "\n",
    "tmpDf2['ref base'].fillna(False,inplace=True)\n",
    "\n",
    "tmpDf2['pass rd']=tmpDf2['ReadDepth']>=2\n",
    "\n",
    "tmpS=tmpDf2.groupby(['ref base','base','Run_db','Run_digits'])['pass rd'].sum()"
   ]
  },
  {
   "cell_type": "code",
   "execution_count": 1,
   "metadata": {},
   "outputs": [],
   "source": [
    "#tmpS"
   ]
  },
  {
   "cell_type": "code",
   "execution_count": 161,
   "metadata": {},
   "outputs": [],
   "source": [
    "import matplotlib.pyplot as plt"
   ]
  },
  {
   "cell_type": "code",
   "execution_count": 165,
   "metadata": {},
   "outputs": [
    {
     "name": "stderr",
     "output_type": "stream",
     "text": [
      "/cellar/users/btsui/anaconda3/lib/python3.6/site-packages/matplotlib/axes/_axes.py:6462: UserWarning: The 'normed' kwarg is deprecated, and has been replaced by the 'density' kwarg.\n",
      "  warnings.warn(\"The 'normed' kwarg is deprecated, and has been \"\n"
     ]
    },
    {
     "data": {
      "image/png": "[encoded data removed]",
      "text/plain": [
       "<Figure size 432x288 with 1 Axes>"
      ]
     },
     "metadata": {},
     "output_type": "display_data"
    }
   ],
   "source": [
    "fig,ax=plt.subplots()\n",
    "g=tmpDf2[tmpDf2['ref base']].groupby(['base','Run_db','Run_digits'])['pass rd']\n",
    "countS1=np.log10(g.sum())\n",
    "countS1.hist(normed=True,ax=ax,label='Reference allele')\n",
    "\n",
    "g=tmpDf2[~tmpDf2['ref base']].groupby(['Run_db','Run_digits'])['pass rd']\n",
    "countS2=np.log10(g.sum())\n",
    "countS2.hist(normed=True,ax=ax,alpha=0.4,label='Alternative allele')\n",
    "#'log10 ( number of sites with at least 2 reads)' , '% of SRA sequencing runs'\n",
    "ax.set_ylabel('% of SRA sequencing runs')\n",
    "ax.legend()\n",
    "ax.set_xlabel('log10 ( number of sites with at least 2 reads)')\n",
    "ax.grid(False)"
   ]
  },
  {
   "cell_type": "code",
   "execution_count": 163,
   "metadata": {},
   "outputs": [],
   "source": [
    "from scipy import stats"
   ]
  },
  {
   "cell_type": "code",
   "execution_count": null,
   "metadata": {},
   "outputs": [],
   "source": [
    "stats.wilcoxon(countS1,countS2)"
   ]
  },
  {
   "cell_type": "code",
   "execution_count": null,
   "metadata": {},
   "outputs": [],
   "source": [
    "type(myI),"
   ]
  },
  {
   "cell_type": "code",
   "execution_count": 42,
   "metadata": {},
   "outputs": [
    {
     "data": {
      "text/plain": [
       "0.7398492072866819"
      ]
     },
     "execution_count": 42,
     "metadata": {},
     "output_type": "execute_result"
    }
   ],
   "source": [
    "m_inRef.mean()"
   ]
  },
  {
   "cell_type": "code",
   "execution_count": null,
   "metadata": {},
   "outputs": [],
   "source": [
    "tmpDf=pd.read_pickle(tmp_dir+inFnameS.iloc[0])"
   ]
  },
  {
   "cell_type": "code",
   "execution_count": 150,
   "metadata": {},
   "outputs": [
    {
     "data": {
      "text/html": [
       "<div>\n",
       "<style scoped>\n",
       "    .dataframe tbody tr th:only-of-type {\n",
       "        vertical-align: middle;\n",
       "    }\n",
       "\n",
       "    .dataframe tbody tr th {\n",
       "        vertical-align: top;\n",
       "    }\n",
       "\n",
       "    .dataframe thead th {\n",
       "        text-align: right;\n",
       "    }\n",
       "</style>\n",
       "<table border=\"1\" class=\"dataframe\">\n",
       "  <thead>\n",
       "    <tr style=\"text-align: right;\">\n",
       "      <th></th>\n",
       "      <th></th>\n",
       "      <th></th>\n",
       "      <th></th>\n",
       "      <th>features</th>\n",
       "      <th>ReadDepth</th>\n",
       "      <th>AverageBaseQuality</th>\n",
       "    </tr>\n",
       "    <tr>\n",
       "      <th>Run_db</th>\n",
       "      <th>Run_digits</th>\n",
       "      <th>Chr</th>\n",
       "      <th>Pos</th>\n",
       "      <th>base</th>\n",
       "      <th></th>\n",
       "      <th></th>\n",
       "    </tr>\n",
       "  </thead>\n",
       "  <tbody>\n",
       "    <tr>\n",
       "      <th rowspan=\"30\" valign=\"top\">ERR</th>\n",
       "      <th rowspan=\"30\" valign=\"top\">18506</th>\n",
       "      <th rowspan=\"30\" valign=\"top\">1</th>\n",
       "      <th rowspan=\"2\" valign=\"top\">14727</th>\n",
       "      <th>A</th>\n",
       "      <td>2</td>\n",
       "      <td>15</td>\n",
       "    </tr>\n",
       "    <tr>\n",
       "      <th>G</th>\n",
       "      <td>2</td>\n",
       "      <td>27</td>\n",
       "    </tr>\n",
       "    <tr>\n",
       "      <th rowspan=\"2\" valign=\"top\">630825</th>\n",
       "      <th>G</th>\n",
       "      <td>2</td>\n",
       "      <td>13</td>\n",
       "    </tr>\n",
       "    <tr>\n",
       "      <th>T</th>\n",
       "      <td>165</td>\n",
       "      <td>33</td>\n",
       "    </tr>\n",
       "    <tr>\n",
       "      <th rowspan=\"2\" valign=\"top\">630833</th>\n",
       "      <th>C</th>\n",
       "      <td>180</td>\n",
       "      <td>33</td>\n",
       "    </tr>\n",
       "    <tr>\n",
       "      <th>G</th>\n",
       "      <td>1</td>\n",
       "      <td>7</td>\n",
       "    </tr>\n",
       "    <tr>\n",
       "      <th rowspan=\"2\" valign=\"top\">842133</th>\n",
       "      <th>A</th>\n",
       "      <td>1</td>\n",
       "      <td>7</td>\n",
       "    </tr>\n",
       "    <tr>\n",
       "      <th>G</th>\n",
       "      <td>1</td>\n",
       "      <td>33</td>\n",
       "    </tr>\n",
       "    <tr>\n",
       "      <th>843942</th>\n",
       "      <th>A</th>\n",
       "      <td>2</td>\n",
       "      <td>31</td>\n",
       "    </tr>\n",
       "    <tr>\n",
       "      <th>850609</th>\n",
       "      <th>C</th>\n",
       "      <td>2</td>\n",
       "      <td>33</td>\n",
       "    </tr>\n",
       "    <tr>\n",
       "      <th>970788</th>\n",
       "      <th>G</th>\n",
       "      <td>1</td>\n",
       "      <td>38</td>\n",
       "    </tr>\n",
       "    <tr>\n",
       "      <th>1014143</th>\n",
       "      <th>C</th>\n",
       "      <td>3</td>\n",
       "      <td>30</td>\n",
       "    </tr>\n",
       "    <tr>\n",
       "      <th>1014228</th>\n",
       "      <th>G</th>\n",
       "      <td>2</td>\n",
       "      <td>22</td>\n",
       "    </tr>\n",
       "    <tr>\n",
       "      <th>1014316</th>\n",
       "      <th>C</th>\n",
       "      <td>1</td>\n",
       "      <td>28</td>\n",
       "    </tr>\n",
       "    <tr>\n",
       "      <th>1014359</th>\n",
       "      <th>G</th>\n",
       "      <td>2</td>\n",
       "      <td>38</td>\n",
       "    </tr>\n",
       "    <tr>\n",
       "      <th>1022188</th>\n",
       "      <th>A</th>\n",
       "      <td>1</td>\n",
       "      <td>33</td>\n",
       "    </tr>\n",
       "    <tr>\n",
       "      <th>1022225</th>\n",
       "      <th>G</th>\n",
       "      <td>1</td>\n",
       "      <td>18</td>\n",
       "    </tr>\n",
       "    <tr>\n",
       "      <th>1022260</th>\n",
       "      <th>C</th>\n",
       "      <td>1</td>\n",
       "      <td>22</td>\n",
       "    </tr>\n",
       "    <tr>\n",
       "      <th>1041582</th>\n",
       "      <th>G</th>\n",
       "      <td>1</td>\n",
       "      <td>10</td>\n",
       "    </tr>\n",
       "    <tr>\n",
       "      <th>1041583</th>\n",
       "      <th>A</th>\n",
       "      <td>1</td>\n",
       "      <td>6</td>\n",
       "    </tr>\n",
       "    <tr>\n",
       "      <th>1043476</th>\n",
       "      <th>G</th>\n",
       "      <td>1</td>\n",
       "      <td>30</td>\n",
       "    </tr>\n",
       "    <tr>\n",
       "      <th>1044134</th>\n",
       "      <th>G</th>\n",
       "      <td>1</td>\n",
       "      <td>11</td>\n",
       "    </tr>\n",
       "    <tr>\n",
       "      <th>1044176</th>\n",
       "      <th>G</th>\n",
       "      <td>1</td>\n",
       "      <td>29</td>\n",
       "    </tr>\n",
       "    <tr>\n",
       "      <th>1044455</th>\n",
       "      <th>G</th>\n",
       "      <td>1</td>\n",
       "      <td>35</td>\n",
       "    </tr>\n",
       "    <tr>\n",
       "      <th>1045172</th>\n",
       "      <th>G</th>\n",
       "      <td>1</td>\n",
       "      <td>12</td>\n",
       "    </tr>\n",
       "    <tr>\n",
       "      <th>1045177</th>\n",
       "      <th>G</th>\n",
       "      <td>1</td>\n",
       "      <td>6</td>\n",
       "    </tr>\n",
       "    <tr>\n",
       "      <th>1045393</th>\n",
       "      <th>C</th>\n",
       "      <td>1</td>\n",
       "      <td>14</td>\n",
       "    </tr>\n",
       "    <tr>\n",
       "      <th>1045707</th>\n",
       "      <th>G</th>\n",
       "      <td>1</td>\n",
       "      <td>28</td>\n",
       "    </tr>\n",
       "    <tr>\n",
       "      <th>1045751</th>\n",
       "      <th>A</th>\n",
       "      <td>1</td>\n",
       "      <td>36</td>\n",
       "    </tr>\n",
       "    <tr>\n",
       "      <th>1045785</th>\n",
       "      <th>G</th>\n",
       "      <td>1</td>\n",
       "      <td>39</td>\n",
       "    </tr>\n",
       "    <tr>\n",
       "      <th>...</th>\n",
       "      <th>...</th>\n",
       "      <th>...</th>\n",
       "      <th>...</th>\n",
       "      <th>...</th>\n",
       "      <td>...</td>\n",
       "      <td>...</td>\n",
       "    </tr>\n",
       "    <tr>\n",
       "      <th rowspan=\"30\" valign=\"top\">SRR</th>\n",
       "      <th rowspan=\"30\" valign=\"top\">5981338</th>\n",
       "      <th rowspan=\"30\" valign=\"top\">MT</th>\n",
       "      <th>15784</th>\n",
       "      <th>T</th>\n",
       "      <td>3786</td>\n",
       "      <td>37</td>\n",
       "    </tr>\n",
       "    <tr>\n",
       "      <th rowspan=\"4\" valign=\"top\">15812</th>\n",
       "      <th>A</th>\n",
       "      <td>4</td>\n",
       "      <td>16</td>\n",
       "    </tr>\n",
       "    <tr>\n",
       "      <th>C</th>\n",
       "      <td>1</td>\n",
       "      <td>2</td>\n",
       "    </tr>\n",
       "    <tr>\n",
       "      <th>G</th>\n",
       "      <td>3138</td>\n",
       "      <td>37</td>\n",
       "    </tr>\n",
       "    <tr>\n",
       "      <th>T</th>\n",
       "      <td>1</td>\n",
       "      <td>2</td>\n",
       "    </tr>\n",
       "    <tr>\n",
       "      <th rowspan=\"2\" valign=\"top\">15833</th>\n",
       "      <th>A</th>\n",
       "      <td>2</td>\n",
       "      <td>5</td>\n",
       "    </tr>\n",
       "    <tr>\n",
       "      <th>C</th>\n",
       "      <td>2133</td>\n",
       "      <td>37</td>\n",
       "    </tr>\n",
       "    <tr>\n",
       "      <th rowspan=\"3\" valign=\"top\">15848</th>\n",
       "      <th>A</th>\n",
       "      <td>1446</td>\n",
       "      <td>37</td>\n",
       "    </tr>\n",
       "    <tr>\n",
       "      <th>G</th>\n",
       "      <td>1</td>\n",
       "      <td>7</td>\n",
       "    </tr>\n",
       "    <tr>\n",
       "      <th>T</th>\n",
       "      <td>3</td>\n",
       "      <td>28</td>\n",
       "    </tr>\n",
       "    <tr>\n",
       "      <th>15884</th>\n",
       "      <th>G</th>\n",
       "      <td>236</td>\n",
       "      <td>34</td>\n",
       "    </tr>\n",
       "    <tr>\n",
       "      <th rowspan=\"2\" valign=\"top\">15890</th>\n",
       "      <th>A</th>\n",
       "      <td>93</td>\n",
       "      <td>34</td>\n",
       "    </tr>\n",
       "    <tr>\n",
       "      <th>C</th>\n",
       "      <td>8</td>\n",
       "      <td>37</td>\n",
       "    </tr>\n",
       "    <tr>\n",
       "      <th>15923</th>\n",
       "      <th>A</th>\n",
       "      <td>1</td>\n",
       "      <td>36</td>\n",
       "    </tr>\n",
       "    <tr>\n",
       "      <th>15927</th>\n",
       "      <th>G</th>\n",
       "      <td>1</td>\n",
       "      <td>36</td>\n",
       "    </tr>\n",
       "    <tr>\n",
       "      <th>15928</th>\n",
       "      <th>G</th>\n",
       "      <td>1</td>\n",
       "      <td>37</td>\n",
       "    </tr>\n",
       "    <tr>\n",
       "      <th>15932</th>\n",
       "      <th>T</th>\n",
       "      <td>1</td>\n",
       "      <td>37</td>\n",
       "    </tr>\n",
       "    <tr>\n",
       "      <th>15943</th>\n",
       "      <th>T</th>\n",
       "      <td>3</td>\n",
       "      <td>39</td>\n",
       "    </tr>\n",
       "    <tr>\n",
       "      <th rowspan=\"2\" valign=\"top\">15950</th>\n",
       "      <th>G</th>\n",
       "      <td>3</td>\n",
       "      <td>40</td>\n",
       "    </tr>\n",
       "    <tr>\n",
       "      <th>T</th>\n",
       "      <td>1</td>\n",
       "      <td>34</td>\n",
       "    </tr>\n",
       "    <tr>\n",
       "      <th>15965</th>\n",
       "      <th>A</th>\n",
       "      <td>6</td>\n",
       "      <td>39</td>\n",
       "    </tr>\n",
       "    <tr>\n",
       "      <th>15967</th>\n",
       "      <th>G</th>\n",
       "      <td>6</td>\n",
       "      <td>39</td>\n",
       "    </tr>\n",
       "    <tr>\n",
       "      <th>15990</th>\n",
       "      <th>C</th>\n",
       "      <td>31</td>\n",
       "      <td>36</td>\n",
       "    </tr>\n",
       "    <tr>\n",
       "      <th rowspan=\"2\" valign=\"top\">16188</th>\n",
       "      <th>A</th>\n",
       "      <td>1</td>\n",
       "      <td>2</td>\n",
       "    </tr>\n",
       "    <tr>\n",
       "      <th>C</th>\n",
       "      <td>194</td>\n",
       "      <td>26</td>\n",
       "    </tr>\n",
       "    <tr>\n",
       "      <th>16278</th>\n",
       "      <th>C</th>\n",
       "      <td>280</td>\n",
       "      <td>37</td>\n",
       "    </tr>\n",
       "    <tr>\n",
       "      <th rowspan=\"2\" valign=\"top\">16390</th>\n",
       "      <th>C</th>\n",
       "      <td>1</td>\n",
       "      <td>2</td>\n",
       "    </tr>\n",
       "    <tr>\n",
       "      <th>G</th>\n",
       "      <td>394</td>\n",
       "      <td>36</td>\n",
       "    </tr>\n",
       "    <tr>\n",
       "      <th rowspan=\"2\" valign=\"top\">16519</th>\n",
       "      <th>C</th>\n",
       "      <td>298</td>\n",
       "      <td>37</td>\n",
       "    </tr>\n",
       "    <tr>\n",
       "      <th>G</th>\n",
       "      <td>1</td>\n",
       "      <td>2</td>\n",
       "    </tr>\n",
       "  </tbody>\n",
       "</table>\n",
       "<p>9393594 rows × 2 columns</p>\n",
       "</div>"
      ],
      "text/plain": [
       "features                            ReadDepth  AverageBaseQuality\n",
       "Run_db Run_digits Chr Pos     base                               \n",
       "ERR    18506      1   14727   A             2                  15\n",
       "                              G             2                  27\n",
       "                      630825  G             2                  13\n",
       "                              T           165                  33\n",
       "                      630833  C           180                  33\n",
       "                              G             1                   7\n",
       "                      842133  A             1                   7\n",
       "                              G             1                  33\n",
       "                      843942  A             2                  31\n",
       "                      850609  C             2                  33\n",
       "                      970788  G             1                  38\n",
       "                      1014143 C             3                  30\n",
       "                      1014228 G             2                  22\n",
       "                      1014316 C             1                  28\n",
       "                      1014359 G             2                  38\n",
       "                      1022188 A             1                  33\n",
       "                      1022225 G             1                  18\n",
       "                      1022260 C             1                  22\n",
       "                      1041582 G             1                  10\n",
       "                      1041583 A             1                   6\n",
       "                      1043476 G             1                  30\n",
       "                      1044134 G             1                  11\n",
       "                      1044176 G             1                  29\n",
       "                      1044455 G             1                  35\n",
       "                      1045172 G             1                  12\n",
       "                      1045177 G             1                   6\n",
       "                      1045393 C             1                  14\n",
       "                      1045707 G             1                  28\n",
       "                      1045751 A             1                  36\n",
       "                      1045785 G             1                  39\n",
       "...                                       ...                 ...\n",
       "SRR    5981338    MT  15784   T          3786                  37\n",
       "                      15812   A             4                  16\n",
       "                              C             1                   2\n",
       "                              G          3138                  37\n",
       "                              T             1                   2\n",
       "                      15833   A             2                   5\n",
       "                              C          2133                  37\n",
       "                      15848   A          1446                  37\n",
       "                              G             1                   7\n",
       "                              T             3                  28\n",
       "                      15884   G           236                  34\n",
       "                      15890   A            93                  34\n",
       "                              C             8                  37\n",
       "                      15923   A             1                  36\n",
       "                      15927   G             1                  36\n",
       "                      15928   G             1                  37\n",
       "                      15932   T             1                  37\n",
       "                      15943   T             3                  39\n",
       "                      15950   G             3                  40\n",
       "                              T             1                  34\n",
       "                      15965   A             6                  39\n",
       "                      15967   G             6                  39\n",
       "                      15990   C            31                  36\n",
       "                      16188   A             1                   2\n",
       "                              C           194                  26\n",
       "                      16278   C           280                  37\n",
       "                      16390   C             1                   2\n",
       "                              G           394                  36\n",
       "                      16519   C           298                  37\n",
       "                              G             1                   2\n",
       "\n",
       "[9393594 rows x 2 columns]"
      ]
     },
     "execution_count": 150,
     "metadata": {},
     "output_type": "execute_result"
    }
   ],
   "source": [
    "tmpDf"
   ]
  },
  {
   "cell_type": "code",
   "execution_count": null,
   "metadata": {},
   "outputs": [],
   "source": []
  }
 ],
 "metadata": {
  "kernelspec": {
   "display_name": "Python 3",
   "language": "python",
   "name": "python3"
  },
  "language_info": {
   "codemirror_mode": {
    "name": "ipython",
    "version": 3
   },
   "file_extension": ".py",
   "mimetype": "text/x-python",
   "name": "python",
   "nbconvert_exporter": "python",
   "pygments_lexer": "ipython3",
   "version": "3.6.5"
  }
 },
 "nbformat": 4,
 "nbformat_minor": 2
}
