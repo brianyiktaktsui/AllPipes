{
 "cells": [
  {
   "cell_type": "code",
   "execution_count": 5,
   "metadata": {
    "collapsed": true
   },
   "outputs": [],
   "source": [
    "import os\n",
    "import pandas as pd"
   ]
  },
  {
   "cell_type": "code",
   "execution_count": 7,
   "metadata": {
    "collapsed": true
   },
   "outputs": [],
   "source": [
    "faBaseDirs='/cellar/users/btsui/Data/ensembl/release/cdna/'"
   ]
  },
  {
   "cell_type": "code",
   "execution_count": 8,
   "metadata": {},
   "outputs": [],
   "source": [
    "inRefNames=pd.Series(os.listdir(faBaseDirs))"
   ]
  },
  {
   "cell_type": "code",
   "execution_count": 18,
   "metadata": {},
   "outputs": [
    {
     "data": {
      "text/plain": [
       "141    Danio_rerio.GRCz10.cdna.all.fa.gz\n",
       "dtype: object"
      ]
     },
     "execution_count": 18,
     "metadata": {},
     "output_type": "execute_result"
    }
   ],
   "source": [
    "inRefNames[inRefNames.str.contains('Dan')]"
   ]
  },
  {
   "cell_type": "code",
   "execution_count": 19,
   "metadata": {},
   "outputs": [],
   "source": [
    "selectedFas=inRefNames[inRefNames.str.contains('Mus_musculus.GRCm38.cdna|Drosophila_melanogaster.BDGP6|Danio_rerio.GRCz10')]"
   ]
  },
  {
   "cell_type": "code",
   "execution_count": null,
   "metadata": {
    "collapsed": true
   },
   "outputs": [],
   "source": []
  },
  {
   "cell_type": "code",
   "execution_count": null,
   "metadata": {},
   "outputs": [
    {
     "name": "stdout",
     "output_type": "stream",
     "text": [
      "0\n",
      "0\n"
     ]
    }
   ],
   "source": [
    "for fname in selectedFas:\n",
    "    reference=faBaseDirs+fname\n",
    "    specie=fname.split('.')[0]\n",
    "    myCmd='/cellar/users/btsui/Program/kallisto index -i /cellar/users/btsui/Data/kalisto_ref/'+specie+' '+reference\n",
    "    print os.system(myCmd)\n",
    "    "
   ]
  },
  {
   "cell_type": "code",
   "execution_count": 27,
   "metadata": {},
   "outputs": [
    {
     "data": {
      "text/plain": [
       "'/cellar/users/btsui/Program/kallisto index -i /cellar/users/btsui/Data/kalisto_ref/Mus_musculus /cellar/users/btsui/Data/ensembl/release/cdna/Mus_musculus.GRCm38.cdna.all.fa.gz'"
      ]
     },
     "execution_count": 27,
     "metadata": {},
     "output_type": "execute_result"
    }
   ],
   "source": []
  },
  {
   "cell_type": "code",
   "execution_count": 23,
   "metadata": {},
   "outputs": [
    {
     "data": {
      "text/plain": [
       "'/cellar/users/btsui/Data/ensembl/release/cdna/Mus_musculus.GRCm38.cdna.all.fa.gz'"
      ]
     },
     "execution_count": 23,
     "metadata": {},
     "output_type": "execute_result"
    }
   ],
   "source": [
    "reference"
   ]
  },
  {
   "cell_type": "code",
   "execution_count": 9,
   "metadata": {
    "collapsed": true
   },
   "outputs": [],
   "source": [
    "reference='/cellar/users/btsui/Data/SAILFISH_TRANSCRIPTOME_INDEX_renamed/Homo_sapiens/Homo_sapiens.GRCh38.cdna.all.fa'"
   ]
  },
  {
   "cell_type": "code",
   "execution_count": null,
   "metadata": {
    "collapsed": true
   },
   "outputs": [],
   "source": [
    "'/cellar/users/btsui/Program/kallisto index -i /cellar/users/btsui/Data/kalisto_ref/Homo_sapiens '+reference"
   ]
  }
 ],
 "metadata": {
  "kernelspec": {
   "display_name": "Python 2",
   "language": "python",
   "name": "python2"
  },
  "language_info": {
   "codemirror_mode": {
    "name": "ipython",
    "version": 2
   },
   "file_extension": ".py",
   "mimetype": "text/x-python",
   "name": "python",
   "nbconvert_exporter": "python",
   "pygments_lexer": "ipython2",
   "version": "2.7.14"
  }
 },
 "nbformat": 4,
 "nbformat_minor": 2
}
