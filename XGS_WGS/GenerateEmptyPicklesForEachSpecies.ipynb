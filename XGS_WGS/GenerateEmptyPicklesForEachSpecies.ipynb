{
 "cells": [
  {
   "cell_type": "code",
   "execution_count": 15,
   "metadata": {
    "collapsed": true
   },
   "outputs": [],
   "source": [
    "import pandas as pd\n",
    "import os"
   ]
  },
  {
   "cell_type": "code",
   "execution_count": 16,
   "metadata": {
    "collapsed": true
   },
   "outputs": [],
   "source": [
    "full_meta_dir=\"/cellar/users/btsui/Project/METAMAP/notebook/Parsing/sra_dump.csv\"\n",
    "###  load in all the species"
   ]
  },
  {
   "cell_type": "code",
   "execution_count": 17,
   "metadata": {
    "collapsed": false
   },
   "outputs": [],
   "source": [
    "full_meta_df=pd.read_csv(full_meta_dir)"
   ]
  },
  {
   "cell_type": "code",
   "execution_count": 18,
   "metadata": {
    "collapsed": false
   },
   "outputs": [],
   "source": [
    "VC=full_meta_df['ScientificName'].value_counts()\n"
   ]
  },
  {
   "cell_type": "code",
   "execution_count": 22,
   "metadata": {
    "collapsed": true
   },
   "outputs": [],
   "source": [
    "emptyPickleDir='/data/cellardata/users/btsui/dbsnp/empty_base_snp.pickle.gz'"
   ]
  },
  {
   "cell_type": "code",
   "execution_count": 23,
   "metadata": {
    "collapsed": true
   },
   "outputs": [],
   "source": [
    "outDir='/cellar/users/btsui/all_seq_snp/'"
   ]
  },
  {
   "cell_type": "code",
   "execution_count": 24,
   "metadata": {
    "collapsed": false,
    "scrolled": true
   },
   "outputs": [
    {
     "name": "stdout",
     "output_type": "stream",
     "text": [
      "0\n"
     ]
    }
   ],
   "source": [
    "mySpecies=VC.iloc[:1].index\n",
    "for mySpecie in mySpecies:\n",
    "    cmd='cp '+emptyPickleDir+' '+outDir+mySpecie+'_all_merged_snp.pickle.gz'\n",
    "    print os.system(cmd)\n",
    "    "
   ]
  },
  {
   "cell_type": "code",
   "execution_count": 1,
   "metadata": {
    "collapsed": false
   },
   "outputs": [],
   "source": [
    "#!rm -r /cellar/users/btsui/all_seq_snp/"
   ]
  },
  {
   "cell_type": "code",
   "execution_count": 3,
   "metadata": {
    "collapsed": true
   },
   "outputs": [],
   "source": [
    "#!mkdir /cellar/users/btsui/all_seq_snp/"
   ]
  },
  {
   "cell_type": "code",
   "execution_count": 10,
   "metadata": {
    "collapsed": false
   },
   "outputs": [
    {
     "data": {
      "text/plain": [
       "Homo_sapiens                           958207\n",
       "Mus_musculus                           325753\n",
       "human_gut_metagenome                   115454\n",
       "soil_metagenome                         97060\n",
       "Hordeum_vulgare_subsp._vulgare          86871\n",
       "Salmonella_enterica                     59287\n",
       "Escherichia_coli                        48813\n",
       "gut_metagenome                          47840\n",
       "Arabidopsis_thaliana                    46901\n",
       "human_metagenome                        46715\n",
       "Oryza_sativa                            44706\n",
       "Saccharomyces_cerevisiae                40312\n",
       "Drosophila_melanogaster                 39629\n",
       "Staphylococcus_aureus                   32992\n",
       "mouse_gut_metagenome                    32431\n",
       "Streptococcus_pneumoniae                30846\n",
       "synthetic_construct                     30597\n",
       "marine_metagenome                       29525\n",
       "Danio_rerio                             28403\n",
       "Plasmodium_falciparum                   27264\n",
       "Salmonella_enterica_subsp._enterica     26158\n",
       "metagenome                              23197\n",
       "human_skin_metagenome                   22696\n",
       "Mycobacterium_tuberculosis              22633\n",
       "rhizosphere_metagenome                  18202\n",
       "Listeria_monocytogenes                  16895\n",
       "freshwater_metagenome                   16326\n",
       "human_oral_metagenome                   16187\n",
       "Zea_mays                                15582\n",
       "Streptococcus_pyogenes                  15291\n",
       "                                        ...  \n",
       "Salvelinus_namaycush                     1569\n",
       "Picea_abies                              1531\n",
       "Bacteria                                 1521\n",
       "Panicum_hallii                           1475\n",
       "metagenome_sequence                      1461\n",
       "root_associated_fungus_metagenome        1440\n",
       "hydrocarbon_metagenome                   1402\n",
       "Sesamum_indicum                          1392\n",
       "lake_water_metagenome                    1376\n",
       "Oncorhynchus_nerka                       1363\n",
       "Anopheles_arabiensis                     1362\n",
       "Campylobacter                            1351\n",
       "environmental_samples                    1337\n",
       "Enterobacter_cloacae                     1328\n",
       "endophyte_metagenome                     1318\n",
       "Candida_albicans                         1302\n",
       "Rhinella_marina                          1287\n",
       "hydrothermal_vent_metagenome             1286\n",
       "Calidris_pugnax                          1283\n",
       "Oncorhynchus_tshawytscha                 1259\n",
       "wetland_metagenome                       1250\n",
       "Syngnathus_scovelli                      1249\n",
       "Acropora_millepora                       1246\n",
       "Centaurea_solstitialis                   1240\n",
       "Cannabis_sativa                          1231\n",
       "Influenza_A_virus                        1206\n",
       "food_fermentation_metagenome             1206\n",
       "Menidia_menidia                          1198\n",
       "Mannheimia_haemolytica                   1173\n",
       "Nothobranchius_furzeri                   1155\n",
       "Name: ScientificName, Length: 200, dtype: int64"
      ]
     },
     "execution_count": 10,
     "metadata": {},
     "output_type": "execute_result"
    }
   ],
   "source": []
  },
  {
   "cell_type": "code",
   "execution_count": null,
   "metadata": {
    "collapsed": true
   },
   "outputs": [],
   "source": []
  }
 ],
 "metadata": {
  "kernelspec": {
   "display_name": "Python 2",
   "language": "python",
   "name": "python2"
  },
  "language_info": {
   "codemirror_mode": {
    "name": "ipython",
    "version": 2
   },
   "file_extension": ".py",
   "mimetype": "text/x-python",
   "name": "python",
   "nbconvert_exporter": "python",
   "pygments_lexer": "ipython2",
   "version": "2.7.14"
  }
 },
 "nbformat": 4,
 "nbformat_minor": 0
}
