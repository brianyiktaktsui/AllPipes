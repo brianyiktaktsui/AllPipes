{
 "cells": [
  {
   "cell_type": "code",
   "execution_count": 14,
   "metadata": {},
   "outputs": [],
   "source": [
    "import os"
   ]
  },
  {
   "cell_type": "code",
   "execution_count": 15,
   "metadata": {},
   "outputs": [
    {
     "name": "stdout",
     "output_type": "stream",
     "text": [
      "n of files for processing: 1575\n"
     ]
    }
   ],
   "source": [
    "#''\n",
    "\n",
    "manifest_dir='/cellar/users/btsui/Project/METAMAP/notebook/RapMapTest/XGS_WGS/./tcga_lgg_wgs_bams.df.wxs_rnaseq.pickle'\n",
    "\n",
    "import pandas as pd\n",
    "\n",
    "n=pd.read_pickle(manifest_dir).shape[0]\n",
    "print ('n of files for processing:',n)\n"
   ]
  },
  {
   "cell_type": "code",
   "execution_count": 16,
   "metadata": {},
   "outputs": [],
   "source": [
    "#/cellar/users/btsui/Data/tcgaOut_my_pipe/"
   ]
  },
  {
   "cell_type": "code",
   "execution_count": 21,
   "metadata": {},
   "outputs": [],
   "source": [
    "#!ls /cellar/users/btsui/Data/tcgaOut/"
   ]
  },
  {
   "cell_type": "code",
   "execution_count": 17,
   "metadata": {},
   "outputs": [
    {
     "name": "stdout",
     "output_type": "stream",
     "text": [
      "mkdir: cannot create directory '/cellar/users/btsui/Data/tcgaOut/': File exists\r\n"
     ]
    }
   ],
   "source": [
    "!mkdir /cellar/users/btsui/Data/tcgaOut/ #/cellar/users/btsui/Data/tcgaOut_my_pipe/\n"
   ]
  },
  {
   "cell_type": "code",
   "execution_count": 18,
   "metadata": {},
   "outputs": [],
   "source": [
    "#!rm /cellar/users/btsui/Data/tcgaOut/*\n"
   ]
  },
  {
   "cell_type": "code",
   "execution_count": 19,
   "metadata": {},
   "outputs": [],
   "source": [
    "#!cp ../TestPipeline/align_tcga_snp_target.sh ."
   ]
  },
  {
   "cell_type": "code",
   "execution_count": 69,
   "metadata": {
    "scrolled": true
   },
   "outputs": [
    {
     "data": {
      "text/plain": [
       "0"
      ]
     },
     "execution_count": 69,
     "metadata": {},
     "output_type": "execute_result"
    }
   ],
   "source": [
    "os.system('qsub -t 1-{} ./align_tcga_snp_target.sh'.format(n))"
   ]
  },
  {
   "cell_type": "code",
   "execution_count": 74,
   "metadata": {},
   "outputs": [],
   "source": [
    "#!qalter align_tcga_snp_target.sh -tc 100"
   ]
  },
  {
   "cell_type": "code",
   "execution_count": 57,
   "metadata": {},
   "outputs": [],
   "source": [
    "#!qstat | grep align_tcg"
   ]
  },
  {
   "cell_type": "code",
   "execution_count": 68,
   "metadata": {},
   "outputs": [],
   "source": [
    "#!qdel align_tcga_snp_target.sh"
   ]
  },
  {
   "cell_type": "code",
   "execution_count": 72,
   "metadata": {},
   "outputs": [
    {
     "name": "stdout",
     "output_type": "stream",
     "text": [
      "total 581M\r\n",
      "-rw-r--r--  1 btsui users 7.0M Jul 17 16:46 3594993e-f65c-434b-a64e-b1873f4b04ca.snp.txt.gz\r\n",
      "-rw-r--r--  1 btsui users  12M Jul 17 16:46 4522becf-1566-4de8-b760-79bb93513ecf.snp.txt.gz\r\n",
      "-rw-r--r--  1 btsui users 3.0M Jul 17 16:46 35a18f9e-0ef8-4e55-b655-33397b63fd1a.snp.txt.gz\r\n",
      "-rw-r--r--  1 btsui users 6.5M Jul 17 16:46 bc27f71a-4222-4940-8a64-246e2b9f3d44.snp.txt.gz\r\n",
      "-rw-r--r--  1 btsui users 2.5M Jul 17 16:46 eb4dda76-4215-458b-b9a0-60f9ff24bd6e.snp.txt.gz\r\n",
      "-rw-r--r--  1 btsui users 2.6M Jul 17 16:46 93e20db7-4892-4ef8-9331-ecd665e4cb91.snp.txt.gz\r\n",
      "-rw-r--r--  1 btsui users 6.9M Jul 17 16:46 a7aff6a7-cea4-42e9-8d56-b211843a0302.snp.txt.gz\r\n",
      "-rw-r--r--  1 btsui users 3.9M Jul 17 16:46 f36d778a-2c49-43aa-a577-7a6a921ad6cc.snp.txt.gz\r\n",
      "-rw-r--r--  1 btsui users 2.5M Jul 17 16:46 4038984b-21d1-45d3-a5bb-208f9e71aa78.snp.txt.gz\r\n",
      "-rw-r--r--  1 btsui users 3.2M Jul 17 16:46 1985b367-00c4-4c25-b049-5858e937cc6d.snp.txt.gz\r\n",
      "-rw-r--r--  1 btsui users  11M Jul 17 16:46 9ac78029-3c36-4e00-b3e2-06415649ec43.snp.txt.gz\r\n",
      "-rw-r--r--  1 btsui users 6.8M Jul 17 16:46 7b17a5ef-c778-4753-8c30-427af9171f7a.snp.txt.gz\r\n",
      "-rw-r--r--  1 btsui users 4.5M Jul 17 16:46 f4db57f0-ba62-4a60-b65d-d2354612eb7b.snp.txt.gz\r\n",
      "-rw-r--r--  1 btsui users 4.8M Jul 17 16:46 243e9ccb-7c93-4c6a-9e3e-105c379e7f78.snp.txt.gz\r\n",
      "-rw-r--r--  1 btsui users 1.3M Jul 17 16:46 00b53e00-d640-49e5-b2bd-3a3bdf867998.snp.txt.gz\r\n",
      "-rw-r--r--  1 btsui users 8.6M Jul 17 16:46 ceb1a38c-fc22-4d27-9ada-553c1765f1f6.snp.txt.gz\r\n",
      "drwxr-xr-x  2 btsui users 128K Jul 17 16:45 .\r\n",
      "-rw-r--r--  1 btsui users  47M Jul 17 16:42 65c95f19-84f0-4e8b-99c3-186f881181a4.snp.txt.gz\r\n",
      "-rw-r--r--  1 btsui users 101M Jul 17 16:42 84943493-e5ef-4099-8706-09afa625b076.snp.txt.gz\r\n",
      "-rw-r--r--  1 btsui users 146M Jul 17 16:42 f895b46c-7811-4ebb-ac9c-970bbfed657a.snp.txt.gz\r\n",
      "-rw-r--r--  1 btsui users 103M Jul 17 16:41 ce74f5ce-d92f-4c8d-8234-65a372edb92d.snp.txt.gz\r\n",
      "-rw-r--r--  1 btsui users  93M Jul 17 16:41 e55c8de3-3a92-42f2-bc1e-70a21355d696.snp.txt.gz\r\n",
      "drwxr-xr-x 15 btsui users 128K Jul 17 10:36 ..\r\n"
     ]
    }
   ],
   "source": [
    "!ls -lath /nrnb/users/btsui/Data/tcga_extracted_lgg_snp_from_aligned_tcga_bam/"
   ]
  },
  {
   "cell_type": "code",
   "execution_count": null,
   "metadata": {},
   "outputs": [],
   "source": [
    "#!ls -lt /nrnb/users/btsui/Data/tcga_extracted_lgg_snp_from_aligned_tcga_bam/ |wc -l \n"
   ]
  },
  {
   "cell_type": "code",
   "execution_count": 10,
   "metadata": {},
   "outputs": [
    {
     "name": "stdout",
     "output_type": "stream",
     "text": [
      "#! /bin/bash\r\n",
      "# Which shell to use\r\n",
      "#$ -S /bin/bash\r\n",
      "# Transfer all variables to job script (e.g. PATH, LD_LIBRARY_PATH, etc.)\r\n",
      "#$ -V\r\n",
      "# Queue to schedule jobs to\r\n",
      "#$ -l h_rt=8:00:00\r\n",
      "## -l u14\r\n",
      "#$ -l h_vmem=1g\r\n",
      "#$ -l long\r\n",
      "#$ -l tmpfree=2T\r\n",
      "#$ -l h=!(nrnb-5-0|nrnb-5-1|nrnb-5-2|nrnb-5-3|nrnb-5-4|nrnb-5-5|nrnb-5-6)\r\n",
      "# Directory to send stdout and stderr\r\n",
      "## -o /dev/null\r\n",
      "## -e /dev/null\r\n",
      "#$ -o /cellar/users/btsui/Data/tcgaOut/\r\n",
      "#$ -e /cellar/users/btsui/Data/tcgaOut/\r\n",
      "# Run in current working directory\r\n",
      "#$ -cwd\r\n",
      "# Array job 14175\r\n",
      "#$ -t 1-100\r\n",
      "## -p -0\r\n",
      "#$ -r y\r\n",
      "#$ -tc 20\r\n",
      "#$ -pe smp 8\r\n",
      "#SRR_FTP=\"/cellar/users/btsui/Data/SRA/META/processing.srr\"\r\n",
      "hostname\r\n",
      "/cellar/users/btsui/anaconda3/bin/python ~/Project/METAMAP/notebook/RapMapTest/XGS_WGS/TestPipeline/extract_allele_all_targetted_ref.py $SGE_TASK_ID\r\n"
     ]
    }
   ],
   "source": [
    "!cat align_tcga_snp_target.sh"
   ]
  },
  {
   "cell_type": "markdown",
   "metadata": {},
   "source": [
    "depend on only the following script "
   ]
  },
  {
   "cell_type": "code",
   "execution_count": 6,
   "metadata": {
    "scrolled": false
   },
   "outputs": [
    {
     "name": "stdout",
     "output_type": "stream",
     "text": [
      "#! /bin/bash\r\n",
      "# Which shell to use\r\n",
      "#$ -S /bin/bash\r\n",
      "# Transfer all variables to job script (e.g. PATH, LD_LIBRARY_PATH, etc.)\r\n",
      "#$ -V\r\n",
      "# Queue to schedule jobs to\r\n",
      "#$ -l h_rt=8:00:00\r\n",
      "## -l u14\r\n",
      "#$ -l h_vmem=1g\r\n",
      "#$ -l long\r\n",
      "#$ -l tmpfree=2T\r\n",
      "#$ -l h=!(nrnb-5-0|nrnb-5-1|nrnb-5-2|nrnb-5-3|nrnb-5-4|nrnb-5-5|nrnb-5-6)\r\n",
      "# Directory to send stdout and stderr\r\n",
      "## -o /dev/null\r\n",
      "## -e /dev/null\r\n",
      "#$ -o /cellar/users/btsui/Data/tcgaOut/\r\n",
      "#$ -e /cellar/users/btsui/Data/tcgaOut/\r\n",
      "# Run in current working directory\r\n",
      "#$ -cwd\r\n",
      "# Array job 14175\r\n",
      "#$ -t 1-100\r\n",
      "## -p -0\r\n",
      "#$ -r y\r\n",
      "#$ -tc 20\r\n",
      "#$ -pe smp 8\r\n",
      "#SRR_FTP=\"/cellar/users/btsui/Data/SRA/META/processing.srr\"\r\n",
      "hostname\r\n",
      "/cellar/users/btsui/anaconda3/bin/python ~/Project/METAMAP/notebook/RapMapTest/XGS_WGS/TestPipeline/extract_allele_all_targetted_ref.py $SGE_TASK_ID\r\n"
     ]
    }
   ],
   "source": [
    "!cat align_tcga_snp_target.sh"
   ]
  },
  {
   "cell_type": "code",
   "execution_count": 7,
   "metadata": {},
   "outputs": [],
   "source": [
    "manifest_dir='/cellar/users/btsui/Project/METAMAP/notebook/RapMapTest/XGS_WGS/./tcga_lgg_wgs_bams.df.pickle'"
   ]
  },
  {
   "cell_type": "code",
   "execution_count": 9,
   "metadata": {},
   "outputs": [
    {
     "data": {
      "text/plain": [
       "BAM    1045\n",
       "Name: data_format, dtype: int64"
      ]
     },
     "execution_count": 9,
     "metadata": {},
     "output_type": "execute_result"
    }
   ],
   "source": [
    "pd.read_pickle(manifest_dir)['data_format'].value_counts()"
   ]
  },
  {
   "cell_type": "code",
   "execution_count": 14,
   "metadata": {},
   "outputs": [],
   "source": [
    "#!/cellar/users/btsui/anaconda3/bin/python ~/Project/METAMAP/notebook/RapMapTest/XGS_WGS/TestPipeline/extract_allele_all_targetted_ref.py 10"
   ]
  },
  {
   "cell_type": "code",
   "execution_count": 55,
   "metadata": {},
   "outputs": [],
   "source": [
    "#!qstat -j align_tcga_snp_target.sh"
   ]
  },
  {
   "cell_type": "code",
   "execution_count": 51,
   "metadata": {},
   "outputs": [
    {
     "name": "stdout",
     "output_type": "stream",
     "text": [
      "modified parallel environment of job 408940\r\n",
      "modified slot range of job 408940\r\n"
     ]
    }
   ],
   "source": [
    "#1.17G memory\n",
    "!qalter align_tcga_snp_target.sh -pe smp 4 "
   ]
  },
  {
   "cell_type": "code",
   "execution_count": 54,
   "metadata": {},
   "outputs": [
    {
     "name": "stdout",
     "output_type": "stream",
     "text": [
      "modified parallel environment of job 408940\r\n",
      "modified slot range of job 408940\r\n"
     ]
    }
   ],
   "source": [
    "!qalter align_tcga_snp_target.sh  -pe smp 2"
   ]
  },
  {
   "cell_type": "code",
   "execution_count": null,
   "metadata": {},
   "outputs": [],
   "source": [
    "!qalter align_tcga_snp_target.sh  -pe smp 2"
   ]
  },
  {
   "cell_type": "code",
   "execution_count": 42,
   "metadata": {},
   "outputs": [
    {
     "name": "stdout",
     "output_type": "stream",
     "text": [
      "import pandas as pd\r\n",
      "import sys\r\n",
      "import os\r\n",
      "import time\r\n",
      "\r\n",
      "#i=0\r\n",
      "i=int(sys.argv[1])-1\r\n",
      "\r\n",
      "manifest_dir='/cellar/users/btsui/Project/METAMAP/notebook/RapMapTest/XGS_WGS/./tcga_lgg_wgs_bams.df.pickle'\r\n",
      "token_dir='/cellar/users/ramarty/tokens/gdc-user-token.2018-06-25T22_21_40.089Z.txt'\r\n",
      "bam_read_count_dir='/cellar/users/btsui/Program/bam_read_count/bam-readcount-master/bin/bam-readcount'\r\n",
      "\r\n",
      "gdc_cmd_fmt='gdc-client download -t {token_dir} -d {out_dir} {file_uuid}'\r\n",
      "out_dir='/nrnb/users/btsui/Data/tcga_raw_lgg/'\r\n",
      "snp_out_dir='/nrnb/users/btsui/Data/tcga_extracted_lgg_snp/'\r\n",
      "\r\n",
      "manifest_df=pd.read_pickle(manifest_dir)\r\n",
      "manifest_S=manifest_df.iloc[i]\r\n",
      "\r\n",
      "file_uuid=manifest_S['file_id']\r\n",
      "print ('UUID: ',file_uuid)\r\n",
      "\r\n",
      "gdc_cmd=gdc_cmd_fmt.format(out_dir=out_dir,file_uuid=file_uuid,token_dir=token_dir)\r\n",
      "\r\n",
      "result = os.system(gdc_cmd)\r\n",
      "### pipe the data\r\n",
      "tmpDir=out_dir+file_uuid+'/'\r\n",
      "os.chdir(tmpDir)\r\n",
      "\r\n",
      "os.system('rm fastq_pipe')\r\n",
      "\r\n",
      "os.system('mkfifo fastq_pipe')\r\n",
      "os.system('bamToFastq -i {} -fq fastq_pipe &'.format(manifest_S['file_name']))\r\n",
      "\r\n",
      "### align using bowtie2\r\n",
      "\r\n",
      "\r\n",
      "#os.system('align using bowtie2 ')\r\n",
      "#/cellar/users/btsui/Data/BOWTIE2_GENOME_INDEX/\r\n",
      "#/cellar/users/btsui/Data/BOWTIE_GENOME_SNP_INDEX/\r\n",
      "#other bases \r\n",
      "baseGenomesDir='/cellar/users/btsui/Data/BOWTIE_GENOME_SNP_INDEX/'\r\n",
      "specie='Homo_sapiens'\r\n",
      "genomeDir=baseGenomesDir+'/'+specie+'/bowtie2'\r\n",
      "cmd_algn='bowtie2 --local -x {ref} -U fastq_pipe --no-unal --threads 8 | samtools view -bS - -o unalgn.bam '.format(ref=genomeDir)\r\n",
      "\r\n",
      "#align\r\n",
      "t0 = time.time()\r\n",
      "os.system(cmd_algn)\r\n",
      "t1 = time.time()\r\n",
      "total = t1-t0\r\n",
      "print ('time for alignment:'+str(total))\r\n",
      "\r\n",
      "#sort\r\n",
      "t0 = time.time()\r\n",
      "#samtools sort -T /tmp/aln.sorted -o aln.sorted.bam aln.bam\r\n",
      "\r\n",
      "\r\n",
      "#os.system('samtools sort unalgn.bam -o sorted.bam')\r\n",
      "os.system('samtools sort -T ./ -o sorted.bam unalgn.bam')\r\n",
      "\r\n",
      "os.system('samtools index sorted.bam')\r\n",
      "\r\n",
      "t1 = time.time()\r\n",
      "total = t1-t0\r\n",
      "print ('time for sorting:'+str(total))\r\n",
      "\r\n",
      "snpBed='/cellar/users/btsui/Data/dbsnp/snp_beds/'+specie+'.bed'\r\n",
      "fa_dir='/cellar/users/btsui/Data/ensembl/snp_masked/'+specie+'.microbe.fa'\r\n",
      "\r\n",
      "####count allelic read count\r\n",
      "cmd_bam_read_count=bam_read_count_dir+' -l '+snpBed+' -f {} {} |gzip > snp.txt.gz'.format(fa_dir,'sorted.bam')\r\n",
      "\r\n",
      "os.system(cmd_bam_read_count)\r\n",
      "os.system('cp snp.txt.gz '+snp_out_dir+file_uuid+'.snp.txt.gz')\r\n",
      "\r\n",
      "os.system('ls -lath')\r\n",
      "os.system('rm -r '+tmpDir)\r\n",
      "#!ls -lath\r\n",
      "\r\n",
      "\r\n",
      "\"\"\"\r\n",
      "cmd_algn='bowtie2 --local -x {ref} -U fastq_pipe --no-unal --threads 8 | samtools view -bS - | samtools sort -  sorted.bam  2>bowtie_log.txt'.format(ref=genomeDir)\r\n",
      "\"\"\"\r\n"
     ]
    }
   ],
   "source": [
    "!cat ./extract_allele_all_targetted_ref.py"
   ]
  },
  {
   "cell_type": "code",
   "execution_count": 40,
   "metadata": {},
   "outputs": [
    {
     "name": "stdout",
     "output_type": "stream",
     "text": [
      "align_tcga.py\t\t\t     submitJobsForTiming.ipynb\r\n",
      "align_tcga_snp_target.sh\t     tcga_extract_read_count.py\r\n",
      "extract_allele_all_targetted_ref.py  test.sh\r\n",
      "submitJobForAllleleExtraction.ipynb\r\n"
     ]
    }
   ],
   "source": [
    "!ls"
   ]
  },
  {
   "cell_type": "code",
   "execution_count": 65,
   "metadata": {},
   "outputs": [],
   "source": [
    "#!df -h "
   ]
  },
  {
   "cell_type": "code",
   "execution_count": 61,
   "metadata": {},
   "outputs": [],
   "source": [
    "#!ls -lath /nrnb/users/btsui/Data/tcga_extracted_lgg_snp/"
   ]
  },
  {
   "cell_type": "code",
   "execution_count": null,
   "metadata": {},
   "outputs": [],
   "source": []
  }
 ],
 "metadata": {
  "kernelspec": {
   "display_name": "Python 3",
   "language": "python",
   "name": "python3"
  },
  "language_info": {
   "codemirror_mode": {
    "name": "ipython",
    "version": 3
   },
   "file_extension": ".py",
   "mimetype": "text/x-python",
   "name": "python",
   "nbconvert_exporter": "python",
   "pygments_lexer": "ipython3",
   "version": "3.6.5"
  }
 },
 "nbformat": 4,
 "nbformat_minor": 2
}
