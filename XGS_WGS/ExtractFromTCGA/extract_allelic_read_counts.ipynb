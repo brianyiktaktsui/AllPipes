{
 "cells": [
  {
   "cell_type": "code",
   "execution_count": 73,
   "metadata": {},
   "outputs": [
    {
     "name": "stdout",
     "output_type": "stream",
     "text": [
      "UUID:  1985b367-00c4-4c25-b049-5858e937cc6d\n"
     ]
    }
   ],
   "source": [
    "import pandas as pd\n",
    "import sys\n",
    "import os\n",
    "import time\n",
    "\n",
    "## program directories\n",
    "bam_read_count_dir='/cellar/users/btsui/Program/bam_read_count/bam-readcount-master/bin/bam-readcount'\n",
    "#bam_read_count_dir='./bam-readcount-master/build/bin/bam-readcount'\n",
    "\n",
    "##output directories\n",
    "snp_out_dir='/nrnb/users/btsui/Data/tcga_extracted_lgg_snp_from_aligned_tcga_bam/'\n",
    "\n",
    "##base temporary output directories\n",
    "out_dir='/nrnb/users/btsui/Data/tcga_raw_lgg/'\n",
    "\n",
    "i=0\n",
    "#i=int(sys.argv[1])-1\n",
    "\n",
    "#input directories\n",
    "token_dir='/cellar/users/ramarty/tokens/gdc-user-token.2018-06-25T22_21_40.089Z.txt'\n",
    "manifest_dir='/cellar/users/btsui/Project/METAMAP/notebook/RapMapTest/XGS_WGS/tcga_lgg_wgs_bams.df.wxs_rnaseq.pickle'\n",
    "\n",
    "gdc_cmd_fmt='gdc-client download -t {token_dir} -d {out_dir} {file_uuid}'\n",
    "\n",
    "### download from TCGA\n",
    "manifest_df=pd.read_pickle(manifest_dir)\n",
    "manifest_S=manifest_df.iloc[i]\n",
    "\n",
    "file_uuid=manifest_S['file_id']\n",
    "print ('UUID: ',file_uuid)\n",
    "gdc_cmd=gdc_cmd_fmt.format(out_dir=out_dir,file_uuid=file_uuid,token_dir=token_dir)\n",
    "\n",
    "#result = os.system(gdc_cmd)\n",
    "\n",
    "###change to current dir\n",
    "tmpDir=out_dir+file_uuid+'/'\n",
    "os.chdir(tmpDir)\n"
   ]
  },
  {
   "cell_type": "code",
   "execution_count": 74,
   "metadata": {},
   "outputs": [],
   "source": [
    "#!./bam-readcount-master/build/bin/bam-readcount -w 0"
   ]
  },
  {
   "cell_type": "code",
   "execution_count": 11,
   "metadata": {},
   "outputs": [
    {
     "name": "stdout",
     "output_type": "stream",
     "text": [
      "/cellar/users/btsui/Data/dbsnp/snp_beds/Homo_sapiens.with_chr.bed\r\n"
     ]
    }
   ],
   "source": [
    "!ls /cellar/users/btsui/Data/dbsnp/snp_beds/Homo_sapiens.with_chr.bed"
   ]
  },
  {
   "cell_type": "code",
   "execution_count": 38,
   "metadata": {},
   "outputs": [],
   "source": [
    "snpBed='/cellar/users/btsui/Data/dbsnp/snp_beds/Homo_sapiens.with_chr.bed'\n"
   ]
  },
  {
   "cell_type": "code",
   "execution_count": 39,
   "metadata": {},
   "outputs": [
    {
     "name": "stdout",
     "output_type": "stream",
     "text": [
      "chr1\t14727\t14727\r\n",
      "chr1\t630825\t630825\r\n",
      "chr1\t630833\t630833\r\n",
      "chr1\t817186\t817186\r\n",
      "chr1\t833068\t833068\r\n",
      "chr1\t842133\t842133\r\n",
      "chr1\t843942\t843942\r\n",
      "chr1\t850609\t850609\r\n",
      "chr1\t948136\t948136\r\n",
      "chr1\t955964\t955964\r\n"
     ]
    }
   ],
   "source": [
    "!head /cellar/users/btsui/Data/dbsnp/snp_beds/Homo_sapiens.with_chr.bed"
   ]
  },
  {
   "cell_type": "code",
   "execution_count": 46,
   "metadata": {},
   "outputs": [
    {
     "name": "stdout",
     "output_type": "stream",
     "text": [
      "--2018-07-17 15:47:37--  https://github.com/genome/bam-readcount/archive/master.tar.gz\n",
      "Resolving github.com (github.com)... 192.30.255.112, 192.30.255.113\n",
      "Connecting to github.com (github.com)|192.30.255.112|:443... connected.\n",
      "HTTP request sent, awaiting response... 302 Found\n",
      "Location: https://codeload.github.com/genome/bam-readcount/tar.gz/master [following]\n",
      "--2018-07-17 15:47:37--  https://codeload.github.com/genome/bam-readcount/tar.gz/master\n",
      "Resolving codeload.github.com (codeload.github.com)... 192.30.255.121, 192.30.255.120\n",
      "Connecting to codeload.github.com (codeload.github.com)|192.30.255.121|:443... connected.\n",
      "HTTP request sent, awaiting response... 200 OK\n",
      "Length: unspecified [application/x-gzip]\n",
      "Saving to: 'master.tar.gz'\n",
      "\n",
      "master.tar.gz           [  <=>               ]   5.47M  16.9MB/s    in 0.3s    \n",
      "\n",
      "2018-07-17 15:47:38 (16.9 MB/s) - 'master.tar.gz' saved [5736489]\n",
      "\n"
     ]
    }
   ],
   "source": [
    "!wget https://github.com/genome/bam-readcount/archive/master.tar.gz\n"
   ]
  },
  {
   "cell_type": "code",
   "execution_count": 49,
   "metadata": {},
   "outputs": [],
   "source": [
    "#!tar -xvf master.tar.gz"
   ]
  },
  {
   "cell_type": "code",
   "execution_count": 52,
   "metadata": {},
   "outputs": [
    {
     "name": "stdout",
     "output_type": "stream",
     "text": [
      "/nrnb/users/btsui/Data/tcga_raw_lgg/1985b367-00c4-4c25-b049-5858e937cc6d/bam-readcount-master/\r\n"
     ]
    }
   ],
   "source": [
    "!echo $PWD/bam-readcount-master/"
   ]
  },
  {
   "cell_type": "code",
   "execution_count": 50,
   "metadata": {},
   "outputs": [
    {
     "name": "stdout",
     "output_type": "stream",
     "text": [
      "total 4.3G\r\n",
      "-rw-r--r--  1 btsui users 1.2G Jul 17 15:47 tcga.bam_read_count.txt.gz\r\n",
      "drwxr-xr-x  4 btsui users 128K Jul 17 15:47 .\r\n",
      "-rw-r--r--  1 btsui users 5.5M Jul 17 15:47 master.tar.gz\r\n",
      "-rw-r--r--  1 btsui users   20 Jul 17 15:44 snp.txt.bed.gz\r\n",
      "-rw-r--r--  1 btsui users 3.5M Jul 17 15:22 948a7b5a-de83-41db-85f1-93a1a9b109ba_gdc_realn_rehead.bam.bai\r\n",
      "drwxr-xr-x  2 btsui users  512 Jul 17 10:43 logs\r\n",
      "-rw-r--r--  1 btsui users 3.1G Jul 17 10:43 948a7b5a-de83-41db-85f1-93a1a9b109ba_gdc_realn_rehead.bam\r\n",
      "drwxr-xr-x 94 btsui users 128K Jul 17 10:42 ..\r\n",
      "drwxr-xr-x 11 btsui users 128K Apr  3 11:47 bam-readcount-master\r\n"
     ]
    }
   ],
   "source": [
    "!ls bam-readcount-master/"
   ]
  },
  {
   "cell_type": "code",
   "execution_count": 51,
   "metadata": {},
   "outputs": [
    {
     "data": {
      "text/plain": [
       "'/cellar/users/btsui/Program/bam_read_count/bam-readcount-master/bin/bam-readcount'"
      ]
     },
     "execution_count": 51,
     "metadata": {},
     "output_type": "execute_result"
    }
   ],
   "source": [
    "bam_read_count_dir"
   ]
  },
  {
   "cell_type": "code",
   "execution_count": 80,
   "metadata": {},
   "outputs": [],
   "source": [
    "cmd_bam_read_count=bam_read_count_dir+' -w 0 '+' {file_name} |gzip > snp.txt.bed.gz'.format(\n",
    "    file_name=manifest_S['file_name'])\n"
   ]
  },
  {
   "cell_type": "code",
   "execution_count": 84,
   "metadata": {},
   "outputs": [],
   "source": []
  },
  {
   "cell_type": "code",
   "execution_count": 78,
   "metadata": {},
   "outputs": [
    {
     "name": "stdout",
     "output_type": "stream",
     "text": [
      "Usage: bam-readcount [OPTIONS] <bam_file> [region]\r\n",
      "Generate metrics for bam_file at single nucleotide positions.\r\n",
      "Example: bam-readcount -f ref.fa some.bam\r\n",
      "\r\n",
      "Available options:\r\n",
      "  -h [ --help ]                         produce this message\r\n",
      "  -v [ --version ]                      output the version number\r\n",
      "  -q [ --min-mapping-quality ] arg (=0) minimum mapping quality of reads used \r\n",
      "                                        for counting.\r\n",
      "  -b [ --min-base-quality ] arg (=0)    minimum base quality at a position to \r\n",
      "                                        use the read for counting.\r\n",
      "  -d [ --max-count ] arg (=10000000)    max depth to avoid excessive memory \r\n",
      "                                        usage.\r\n",
      "  -l [ --site-list ] arg                file containing a list of regions to \r\n",
      "                                        report readcounts within.\r\n",
      "  -f [ --reference-fasta ] arg          reference sequence in the fasta format.\r\n",
      "  -D [ --print-individual-mapq ] arg    report the mapping qualities as a comma\r\n",
      "                                        separated list.\r\n",
      "  -p [ --per-library ]                  report results by library.\r\n",
      "  -w [ --max-warnings ] arg             maximum number of warnings of each type\r\n",
      "                                        to emit. -1 gives an unlimited number.\r\n",
      "  -i [ --insertion-centric ]            generate indel centric readcounts. \r\n",
      "                                        Reads containing insertions will not be\r\n",
      "                                        included in per-base counts\r\n",
      "\r\n"
     ]
    }
   ],
   "source": [
    "!/cellar/users/btsui/Program/bam_read_count/bam-readcount-master/bin/bam-readcount"
   ]
  },
  {
   "cell_type": "code",
   "execution_count": 43,
   "metadata": {},
   "outputs": [],
   "source": [
    "#!/cellar/users/btsui/Program/bam_read_count/bam-readcount-master/bin/bam-readcount -l /cellar/users/btsui/Data/dbsnp/snp_beds/Homo_sapiens.bed 948a7b5a-de83-41db-85f1-93a1a9b109ba_gdc_realn_rehead.bam |gzip > snp.txt.bed.gz"
   ]
  },
  {
   "cell_type": "code",
   "execution_count": 23,
   "metadata": {},
   "outputs": [
    {
     "data": {
      "text/plain": [
       "'samtools index 948a7b5a-de83-41db-85f1-93a1a9b109ba_gdc_realn_rehead.bam'"
      ]
     },
     "execution_count": 23,
     "metadata": {},
     "output_type": "execute_result"
    }
   ],
   "source": [
    "'samtools index '+manifest_S['file_name']"
   ]
  },
  {
   "cell_type": "code",
   "execution_count": 24,
   "metadata": {},
   "outputs": [
    {
     "data": {
      "text/plain": [
       "0"
      ]
     },
     "execution_count": 24,
     "metadata": {},
     "output_type": "execute_result"
    }
   ],
   "source": [
    "samtool_cmd='samtools index '+manifest_S['file_name']\n",
    "%time os.system(samtool_cmd)"
   ]
  },
  {
   "cell_type": "code",
   "execution_count": 22,
   "metadata": {},
   "outputs": [],
   "source": [
    "#!rm 948a7b5a-de83-41db-85f1-93a1a9b109ba_gdc_realn_rehead.bai"
   ]
  },
  {
   "cell_type": "code",
   "execution_count": 26,
   "metadata": {},
   "outputs": [],
   "source": [
    "#!/cellar/users/btsui/Program/bam_read_count/bam-readcount-master/bin/bam-readcount -l /cellar/users/btsui/Data/dbsnp/snp_beds/Homo_sapiens.with_chr.bed 948a7b5a-de83-41db-85f1-93a1a9b109ba_gdc_realn_rehead.bam |gzip > snp.txt.bed.gz"
   ]
  },
  {
   "cell_type": "code",
   "execution_count": 27,
   "metadata": {},
   "outputs": [
    {
     "data": {
      "text/plain": [
       "'/cellar/users/btsui/Program/bam_read_count/bam-readcount-master/bin/bam-readcount -l /cellar/users/btsui/Data/dbsnp/snp_beds/Homo_sapiens.with_chr.bed 948a7b5a-de83-41db-85f1-93a1a9b109ba_gdc_realn_rehead.bam |gzip > snp.txt.bed.gz'"
      ]
     },
     "execution_count": 27,
     "metadata": {},
     "output_type": "execute_result"
    }
   ],
   "source": [
    "cmd_bam_read_count"
   ]
  },
  {
   "cell_type": "code",
   "execution_count": 18,
   "metadata": {},
   "outputs": [
    {
     "name": "stdout",
     "output_type": "stream",
     "text": [
      "CPU times: user 0 ns, sys: 8 ms, total: 8 ms\n",
      "Wall time: 399 ms\n"
     ]
    },
    {
     "data": {
      "text/plain": [
       "0"
      ]
     },
     "execution_count": 18,
     "metadata": {},
     "output_type": "execute_result"
    }
   ],
   "source": [
    "%time os.system(cmd_bam_read_count)"
   ]
  },
  {
   "cell_type": "code",
   "execution_count": 28,
   "metadata": {},
   "outputs": [
    {
     "name": "stdout",
     "output_type": "stream",
     "text": [
      "chr1\t14727\t14727\r\n",
      "chr1\t630825\t630825\r\n",
      "chr1\t630833\t630833\r\n",
      "chr1\t817186\t817186\r\n",
      "chr1\t833068\t833068\r\n",
      "chr1\t842133\t842133\r\n",
      "chr1\t843942\t843942\r\n",
      "chr1\t850609\t850609\r\n",
      "chr1\t948136\t948136\r\n",
      "chr1\t955964\t955964\r\n"
     ]
    }
   ],
   "source": [
    "!head /cellar/users/btsui/Data/dbsnp/snp_beds/Homo_sapiens..bed"
   ]
  },
  {
   "cell_type": "code",
   "execution_count": null,
   "metadata": {},
   "outputs": [],
   "source": []
  }
 ],
 "metadata": {
  "kernelspec": {
   "display_name": "Python 3",
   "language": "python",
   "name": "python3"
  },
  "language_info": {
   "codemirror_mode": {
    "name": "ipython",
    "version": 3
   },
   "file_extension": ".py",
   "mimetype": "text/x-python",
   "name": "python",
   "nbconvert_exporter": "python",
   "pygments_lexer": "ipython3",
   "version": "3.6.5"
  }
 },
 "nbformat": 4,
 "nbformat_minor": 2
}
