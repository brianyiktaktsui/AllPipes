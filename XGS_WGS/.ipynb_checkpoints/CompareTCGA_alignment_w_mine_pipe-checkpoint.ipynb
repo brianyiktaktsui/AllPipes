{
 "cells": [
  {
   "cell_type": "markdown",
   "metadata": {},
   "source": [
    "### \n",
    "\n",
    "compare alignment statisictics with TCGA\n",
    "\n",
    "the data contain patients allelic fraction information, to ensure hippa compliance, data is not provided in here"
   ]
  },
  {
   "cell_type": "code",
   "execution_count": 3,
   "metadata": {
    "collapsed": false
   },
   "outputs": [
    {
     "data": {
      "text/plain": [
       "'\\nfor TCGA alginment, filter down to only sites that overlahps \\n'"
      ]
     },
     "execution_count": 3,
     "metadata": {},
     "output_type": "execute_result"
    }
   ],
   "source": [
    "\"\"\"\n",
    "for TCGA alginment, filter down to only sites that overlahps \n",
    "\"\"\""
   ]
  },
  {
   "cell_type": "code",
   "execution_count": 7,
   "metadata": {
    "collapsed": false
   },
   "outputs": [],
   "source": [
    "#\n",
    "inMySnpDir='./2b0048e0-a062-40d2-a1e1-4bb763ea0ead.snp.txt.gz'\n",
    "#count directly from TCGA data\n",
    "\"\"\"\n",
    "the following file contain all the sites from TCGA bam \n",
    "\"\"\"\n",
    "tcgaSnpDir='./2b0048e0-a062-40d2-a1e1-4bb763ea0ead.tcga.txt.gz'\n",
    "import pandas as pd\n",
    "%matplotlib inline\n",
    "import seaborn as sns\n",
    "import numpy as np\n",
    "import gzip"
   ]
  },
  {
   "cell_type": "code",
   "execution_count": 9,
   "metadata": {
    "collapsed": false
   },
   "outputs": [],
   "source": [
    "f=gzip.open(inMySnpDir,'r')\n",
    "myList=[]\n",
    "for l in f:\n",
    "    splitL=l.split('\\t')\n",
    "    myList.append(splitL[0]+'-'+splitL[1]) \n",
    "f.close()"
   ]
  },
  {
   "cell_type": "code",
   "execution_count": 10,
   "metadata": {
    "collapsed": false
   },
   "outputs": [],
   "source": [
    "mySnpSites=set(myList)"
   ]
  },
  {
   "cell_type": "code",
   "execution_count": 12,
   "metadata": {
    "collapsed": true
   },
   "outputs": [],
   "source": [
    "overlapTcgaDir='./tmp.tcga.txt.gz'"
   ]
  },
  {
   "cell_type": "markdown",
   "metadata": {},
   "source": [
    "#### find tcga overlapping sites"
   ]
  },
  {
   "cell_type": "code",
   "execution_count": 14,
   "metadata": {
    "collapsed": false,
    "scrolled": true
   },
   "outputs": [
    {
     "name": "stdout",
     "output_type": "stream",
     "text": [
      "0\n"
     ]
    }
   ],
   "source": [
    "inf=gzip.open(tcgaSnpDir,'r')\n",
    "outf=gzip.open(overlapTcgaDir,'w')\n",
    "\n",
    "#with open(tcgaSnpDir)as f:\n",
    "for i,l in enumerate(inf):\n",
    "    splitL=l.split('\\t')\n",
    "    name=splitL[0].replace('chr','')+'-'+splitL[1]\n",
    "    if name in mySnpSites:\n",
    "        splitL[0]=splitL[0].replace('chr','')\n",
    "        outf.write(\"\\t\".join(splitL))\n",
    "    if (i%(10**9))==0:\n",
    "        print i\n",
    "inf.close()\n",
    "outf.close()"
   ]
  },
  {
   "cell_type": "code",
   "execution_count": 15,
   "metadata": {
    "collapsed": true
   },
   "outputs": [],
   "source": []
  },
  {
   "cell_type": "markdown",
   "metadata": {},
   "source": [
    "### plot overlaps"
   ]
  },
  {
   "cell_type": "code",
   "execution_count": 52,
   "metadata": {
    "collapsed": false
   },
   "outputs": [],
   "source": [
    "#fname=inSrrDir+inSrr+'.txt.snp.gz'\n",
    "def readBamRead(fname):\n",
    "    tmpDf_all=pd.read_csv(fname,sep='\\s+',header=None,names=np.arange(50),index_col=None,error_bad_lines=False)\n",
    "    myCols=['Chr','Pos','Ref','rd_all','','A','C','G','T','N']\n",
    "    tmpDf=tmpDf_all.iloc[:,:len(myCols)]\n",
    "    tmpDf.columns=myCols\n",
    "    tmpDf2=tmpDf.set_index(['Chr','Pos'])\n",
    "    myBases=['A','C','G','T']\n",
    "    myL=[]\n",
    "    for base in myBases:\n",
    "            splitL=tmpDf2[base].str.split(':',expand=True)\n",
    "            ### extract  the read count and base quality\n",
    "            tmpDf5=splitL[[1,3]].astype(np.float)\n",
    "            tmpDf5.columns=['ReadDepth','AverageBaseQuality']\n",
    "            myL.append(tmpDf5)\n",
    "    tmpDf6=pd.concat(myL,keys=myBases,axis=0,names=['base'])\n",
    "    tmpDf6.columns.name='features'\n",
    "    mergedDf=tmpDf6.astype(np.uint16)\n",
    "    non_zero_df=mergedDf[mergedDf['ReadDepth']>0]\n",
    "    return non_zero_df"
   ]
  },
  {
   "cell_type": "code",
   "execution_count": 53,
   "metadata": {
    "collapsed": false
   },
   "outputs": [],
   "source": [
    "tcgaDf=readBamRead(overlapTcgaDir)"
   ]
  },
  {
   "cell_type": "code",
   "execution_count": 54,
   "metadata": {
    "collapsed": false
   },
   "outputs": [],
   "source": [
    "myDf=readBamRead(inMySnpDir)\n",
    "### drop identical duplicates\n",
    "myDf=myDf.groupby(['base','Chr','Pos']).first()"
   ]
  },
  {
   "cell_type": "code",
   "execution_count": 55,
   "metadata": {
    "collapsed": false
   },
   "outputs": [],
   "source": [
    "### compare the two file. \n",
    "ctrl_label='TCGA aligned: Read count per (base, position)'\n",
    "case_label='My pipeline aligned: Read count per (base, position)'\n",
    "myMergedStatDf=pd.concat([tcgaDf['ReadDepth'],myDf['ReadDepth']],axis=1,keys=[case_label,ctrl_label])"
   ]
  },
  {
   "cell_type": "markdown",
   "metadata": {},
   "source": [
    "### check correlation of data"
   ]
  },
  {
   "cell_type": "code",
   "execution_count": 131,
   "metadata": {
    "collapsed": false
   },
   "outputs": [],
   "source": [
    "inPlotDf=np.log2(myMergedStatDf.dropna()+1)"
   ]
  },
  {
   "cell_type": "code",
   "execution_count": 162,
   "metadata": {
    "collapsed": false
   },
   "outputs": [
    {
     "name": "stdout",
     "output_type": "stream",
     "text": [
      "All alleles (n=270987)\n"
     ]
    }
   ],
   "source": [
    "print 'All alleles (n='+str(inPlotDf.shape[0])+')'"
   ]
  },
  {
   "cell_type": "code",
   "execution_count": 144,
   "metadata": {
    "collapsed": false
   },
   "outputs": [
    {
     "data": {
      "image/png": "[encoded data removed]",
      "text/plain": [
       "<matplotlib.figure.Figure at 0x7fb7df3d6650>"
      ]
     },
     "metadata": {},
     "output_type": "display_data"
    }
   ],
   "source": [
    "g=sns.jointplot(data=inPlotDf,x=ctrl_label,y=case_label,kind='hex',xlim=[0,10],ylim=[0,10])\n",
    "g.savefig('./TCGA_compare.pdf')\n",
    "g.savefig('./TCGA_compare.png',dpi=300)"
   ]
  },
  {
   "cell_type": "markdown",
   "metadata": {
    "collapsed": false
   },
   "source": [
    "Conclusion: Counts of the ACGT are highly similar between my simplified pipeline as compared to TCGA. "
   ]
  },
  {
   "cell_type": "markdown",
   "metadata": {},
   "source": [
    "### plot alternative alleles"
   ]
  },
  {
   "cell_type": "code",
   "execution_count": null,
   "metadata": {
    "collapsed": true
   },
   "outputs": [],
   "source": [
    "### identify reference allelels\n",
    "tmpDf_all=pd.read_csv('./2b0048e0-a062-40d2-a1e1-4bb763ea0ead.snp.txt.gz',\n",
    "                      sep='\\s+',header=None,names=np.arange(50),index_col=None,error_bad_lines=False)\n",
    "myCols=['Chr','Pos','Ref','rd_all','','A','C','G','T','N']\n",
    "tmpDf=tmpDf_all.iloc[:,:len(myCols)]\n",
    "tmpDf.columns=myCols\n",
    "myReindexedDf=tmpDf.set_index(['Ref','Chr','Pos'])\n",
    "refIndex=myReindexedDf.index"
   ]
  },
  {
   "cell_type": "code",
   "execution_count": 137,
   "metadata": {
    "collapsed": false,
    "scrolled": true
   },
   "outputs": [],
   "source": [
    "##  extract non reference alleles\n",
    "altAllelDf=inPlotDf[~inPlotDf.index.isin(refIndex)]"
   ]
  },
  {
   "cell_type": "code",
   "execution_count": 151,
   "metadata": {
    "collapsed": false
   },
   "outputs": [],
   "source": [
    "m1=altAllelDf[ctrl_label]>1.0\n",
    "inPlotDf2=altAllelDf[m1]"
   ]
  },
  {
   "cell_type": "code",
   "execution_count": 159,
   "metadata": {
    "collapsed": false
   },
   "outputs": [
    {
     "name": "stdout",
     "output_type": "stream",
     "text": [
      "Alternative alleles only (n=31370)\n"
     ]
    }
   ],
   "source": [
    "print 'Alternative alleles only (n='+str(inPlotDf2.shape[0])+')'"
   ]
  },
  {
   "cell_type": "code",
   "execution_count": 163,
   "metadata": {
    "collapsed": false
   },
   "outputs": [
    {
     "data": {
      "image/png": "[encoded data removed]",
      "text/plain": [
       "<matplotlib.figure.Figure at 0x7fb7f696fd50>"
      ]
     },
     "metadata": {},
     "output_type": "display_data"
    }
   ],
   "source": [
    "g=sns.jointplot(data=inPlotDf2,x=ctrl_label,y=case_label,kind='hex',xlim=[0,10],ylim=[0,10])\n",
    "g.savefig('./TCGA_compare.alternative_allele.pdf')\n",
    "g.savefig('./TCGA_compare.alternative_allele.png',dpi=300)"
   ]
  },
  {
   "cell_type": "markdown",
   "metadata": {},
   "source": [
    "Conclusion: \n",
    "Some people might wonder \n",
    "Counts of the ACGT are highly similar between my simplified pipeline as compared to TCGA even among just the reference alleles. "
   ]
  },
  {
   "cell_type": "code",
   "execution_count": null,
   "metadata": {
    "collapsed": true
   },
   "outputs": [],
   "source": []
  }
 ],
 "metadata": {
  "kernelspec": {
   "display_name": "Python 2",
   "language": "python",
   "name": "python2"
  },
  "language_info": {
   "codemirror_mode": {
    "name": "ipython",
    "version": 2
   },
   "file_extension": ".py",
   "mimetype": "text/x-python",
   "name": "python",
   "nbconvert_exporter": "python",
   "pygments_lexer": "ipython2",
   "version": "2.7.14"
  }
 },
 "nbformat": 4,
 "nbformat_minor": 0
}
