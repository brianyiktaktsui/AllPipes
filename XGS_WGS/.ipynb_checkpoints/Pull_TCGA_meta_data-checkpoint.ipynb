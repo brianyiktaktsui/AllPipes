{
 "cells": [
  {
   "cell_type": "code",
   "execution_count": 58,
   "metadata": {},
   "outputs": [],
   "source": [
    "import os\n",
    "import pandas as pd\n",
    "import glob\n",
    "import gzip\n",
    "import requests\n",
    "import json\n",
    "from tqdm import tqdm\n",
    "\n",
    "#snp_out_dir='/nrnb/users/btsui/Data/tcga_extracted_lgg_snp/'\n",
    "\n",
    "preprocessed_vcf_dir='/nrnb/users/btsui/Data/tcga_orig_vcf/'\n",
    "snp_out_dir='/nrnb/users/btsui/Data/tcga_extracted_lgg_snp/'\n",
    "inFnames=pd.Series(os.listdir(preprocessed_vcf_dir))"
   ]
  },
  {
   "cell_type": "code",
   "execution_count": 59,
   "metadata": {
    "scrolled": true
   },
   "outputs": [],
   "source": [
    "inUuids=inFnames.str.split('.').str[0]"
   ]
  },
  {
   "cell_type": "code",
   "execution_count": 60,
   "metadata": {
    "scrolled": true
   },
   "outputs": [],
   "source": [
    "#preprocessed_vcf_dir=\n",
    "#curl https://api.gdc.cancer.gov/files/386d69e7-b4a7-4981-beb8-98f088c689f7"
   ]
  },
  {
   "cell_type": "code",
   "execution_count": null,
   "metadata": {},
   "outputs": [],
   "source": []
  },
  {
   "cell_type": "code",
   "execution_count": null,
   "metadata": {},
   "outputs": [],
   "source": [
    "file_endpt = 'https://api.gdc.cancer.gov/files/'\n",
    "#file_uuid = '9ad50bf6-9fe0-4ad7-b26f-b6f52824ef9e'\n",
    "myL=[]\n",
    "for file_uuid in tqdm(inUuids):\n",
    "    response = requests.get(file_endpt + file_uuid)\n",
    "    myL.append(response.json()['data'])\n",
    "#print (json.dumps(response.json(), indent=2))\n"
   ]
  },
  {
   "cell_type": "code",
   "execution_count": 55,
   "metadata": {},
   "outputs": [],
   "source": [
    "#inUuids"
   ]
  },
  {
   "cell_type": "code",
   "execution_count": 56,
   "metadata": {},
   "outputs": [],
   "source": [
    "mergedMetaDf=pd.DataFrame(myL)"
   ]
  },
  {
   "cell_type": "code",
   "execution_count": 57,
   "metadata": {},
   "outputs": [
    {
     "data": {
      "text/html": [
       "<div>\n",
       "<style scoped>\n",
       "    .dataframe tbody tr th:only-of-type {\n",
       "        vertical-align: middle;\n",
       "    }\n",
       "\n",
       "    .dataframe tbody tr th {\n",
       "        vertical-align: top;\n",
       "    }\n",
       "\n",
       "    .dataframe thead th {\n",
       "        text-align: right;\n",
       "    }\n",
       "</style>\n",
       "<table border=\"1\" class=\"dataframe\">\n",
       "  <thead>\n",
       "    <tr style=\"text-align: right;\">\n",
       "      <th></th>\n",
       "      <th>access</th>\n",
       "      <th>acl</th>\n",
       "      <th>created_datetime</th>\n",
       "      <th>data_category</th>\n",
       "      <th>data_format</th>\n",
       "      <th>data_type</th>\n",
       "      <th>experimental_strategy</th>\n",
       "      <th>file_id</th>\n",
       "      <th>file_name</th>\n",
       "      <th>file_size</th>\n",
       "      <th>file_state</th>\n",
       "      <th>md5sum</th>\n",
       "      <th>platform</th>\n",
       "      <th>state</th>\n",
       "      <th>submitter_id</th>\n",
       "      <th>type</th>\n",
       "      <th>updated_datetime</th>\n",
       "    </tr>\n",
       "  </thead>\n",
       "  <tbody>\n",
       "    <tr>\n",
       "      <th>0</th>\n",
       "      <td>controlled</td>\n",
       "      <td>[phs000178]</td>\n",
       "      <td>2016-05-02T22:01:32.655381-05:00</td>\n",
       "      <td>Raw Sequencing Data</td>\n",
       "      <td>BAM</td>\n",
       "      <td>Aligned Reads</td>\n",
       "      <td>WXS</td>\n",
       "      <td>9554192d-20f8-47ef-bcd1-ea5b5540fdcf</td>\n",
       "      <td>C494.TCGA-WY-A85A-01A-21D-A36O-08.1_gdc_realn.bam</td>\n",
       "      <td>7650242164</td>\n",
       "      <td>submitted</td>\n",
       "      <td>b2fb86f35c386d471da9df06baef37cb</td>\n",
       "      <td>Illumina</td>\n",
       "      <td>live</td>\n",
       "      <td>5e4fbe2d-1a65-4e08-b23b-b737c57216ae</td>\n",
       "      <td>aligned_reads</td>\n",
       "      <td>2017-03-04T16:37:26.081298-06:00</td>\n",
       "    </tr>\n",
       "    <tr>\n",
       "      <th>1</th>\n",
       "      <td>controlled</td>\n",
       "      <td>[phs000178]</td>\n",
       "      <td>2016-05-03T05:43:02.847753-05:00</td>\n",
       "      <td>Raw Sequencing Data</td>\n",
       "      <td>BAM</td>\n",
       "      <td>Aligned Reads</td>\n",
       "      <td>WXS</td>\n",
       "      <td>0e07d005-3332-4262-8220-9e4eccafdc3e</td>\n",
       "      <td>C494.TCGA-DU-6399-10A-01D-1705-08.5_gdc_realn.bam</td>\n",
       "      <td>8589248703</td>\n",
       "      <td>submitted</td>\n",
       "      <td>13252e397d9297063f14d7cb2867c25e</td>\n",
       "      <td>Illumina</td>\n",
       "      <td>live</td>\n",
       "      <td>14626059-15c1-414c-8d2c-f502d9efeb3a</td>\n",
       "      <td>aligned_reads</td>\n",
       "      <td>2017-03-04T16:37:26.081298-06:00</td>\n",
       "    </tr>\n",
       "    <tr>\n",
       "      <th>2</th>\n",
       "      <td>controlled</td>\n",
       "      <td>[phs000178]</td>\n",
       "      <td>2016-05-04T23:03:38.572473-05:00</td>\n",
       "      <td>Raw Sequencing Data</td>\n",
       "      <td>BAM</td>\n",
       "      <td>Aligned Reads</td>\n",
       "      <td>WXS</td>\n",
       "      <td>14f22bdf-a8e0-40c4-835f-7c43327030fa</td>\n",
       "      <td>C494.TCGA-P5-A77X-01A-11D-A32B-08.1_gdc_realn.bam</td>\n",
       "      <td>7558356053</td>\n",
       "      <td>submitted</td>\n",
       "      <td>596f9d710ff233338054c7f1aa65ef63</td>\n",
       "      <td>Illumina</td>\n",
       "      <td>live</td>\n",
       "      <td>d2c4c976-7f28-4a80-b3fa-b44eac15e5af</td>\n",
       "      <td>aligned_reads</td>\n",
       "      <td>2017-03-04T16:37:26.081298-06:00</td>\n",
       "    </tr>\n",
       "    <tr>\n",
       "      <th>3</th>\n",
       "      <td>controlled</td>\n",
       "      <td>[phs000178]</td>\n",
       "      <td>2016-05-08T16:38:10.284691-05:00</td>\n",
       "      <td>Raw Sequencing Data</td>\n",
       "      <td>BAM</td>\n",
       "      <td>Aligned Reads</td>\n",
       "      <td>WXS</td>\n",
       "      <td>55dcee55-a992-4c57-a899-659064659dee</td>\n",
       "      <td>C494.TCGA-HT-8110-01A-11D-2395-08.1_gdc_realn.bam</td>\n",
       "      <td>8082621230</td>\n",
       "      <td>submitted</td>\n",
       "      <td>631de89d981b380b5dee0e127749250f</td>\n",
       "      <td>Illumina</td>\n",
       "      <td>live</td>\n",
       "      <td>6e8f6419-515d-43ee-96d4-9874e5ce82fc</td>\n",
       "      <td>aligned_reads</td>\n",
       "      <td>2017-03-04T16:37:26.081298-06:00</td>\n",
       "    </tr>\n",
       "  </tbody>\n",
       "</table>\n",
       "</div>"
      ],
      "text/plain": [
       "       access          acl                  created_datetime  \\\n",
       "0  controlled  [phs000178]  2016-05-02T22:01:32.655381-05:00   \n",
       "1  controlled  [phs000178]  2016-05-03T05:43:02.847753-05:00   \n",
       "2  controlled  [phs000178]  2016-05-04T23:03:38.572473-05:00   \n",
       "3  controlled  [phs000178]  2016-05-08T16:38:10.284691-05:00   \n",
       "\n",
       "         data_category data_format      data_type experimental_strategy  \\\n",
       "0  Raw Sequencing Data         BAM  Aligned Reads                   WXS   \n",
       "1  Raw Sequencing Data         BAM  Aligned Reads                   WXS   \n",
       "2  Raw Sequencing Data         BAM  Aligned Reads                   WXS   \n",
       "3  Raw Sequencing Data         BAM  Aligned Reads                   WXS   \n",
       "\n",
       "                                file_id  \\\n",
       "0  9554192d-20f8-47ef-bcd1-ea5b5540fdcf   \n",
       "1  0e07d005-3332-4262-8220-9e4eccafdc3e   \n",
       "2  14f22bdf-a8e0-40c4-835f-7c43327030fa   \n",
       "3  55dcee55-a992-4c57-a899-659064659dee   \n",
       "\n",
       "                                           file_name   file_size file_state  \\\n",
       "0  C494.TCGA-WY-A85A-01A-21D-A36O-08.1_gdc_realn.bam  7650242164  submitted   \n",
       "1  C494.TCGA-DU-6399-10A-01D-1705-08.5_gdc_realn.bam  8589248703  submitted   \n",
       "2  C494.TCGA-P5-A77X-01A-11D-A32B-08.1_gdc_realn.bam  7558356053  submitted   \n",
       "3  C494.TCGA-HT-8110-01A-11D-2395-08.1_gdc_realn.bam  8082621230  submitted   \n",
       "\n",
       "                             md5sum  platform state  \\\n",
       "0  b2fb86f35c386d471da9df06baef37cb  Illumina  live   \n",
       "1  13252e397d9297063f14d7cb2867c25e  Illumina  live   \n",
       "2  596f9d710ff233338054c7f1aa65ef63  Illumina  live   \n",
       "3  631de89d981b380b5dee0e127749250f  Illumina  live   \n",
       "\n",
       "                           submitter_id           type  \\\n",
       "0  5e4fbe2d-1a65-4e08-b23b-b737c57216ae  aligned_reads   \n",
       "1  14626059-15c1-414c-8d2c-f502d9efeb3a  aligned_reads   \n",
       "2  d2c4c976-7f28-4a80-b3fa-b44eac15e5af  aligned_reads   \n",
       "3  6e8f6419-515d-43ee-96d4-9874e5ce82fc  aligned_reads   \n",
       "\n",
       "                   updated_datetime  \n",
       "0  2017-03-04T16:37:26.081298-06:00  \n",
       "1  2017-03-04T16:37:26.081298-06:00  \n",
       "2  2017-03-04T16:37:26.081298-06:00  \n",
       "3  2017-03-04T16:37:26.081298-06:00  "
      ]
     },
     "execution_count": 57,
     "metadata": {},
     "output_type": "execute_result"
    }
   ],
   "source": [
    "mergedMetaDf"
   ]
  },
  {
   "cell_type": "code",
   "execution_count": 26,
   "metadata": {},
   "outputs": [],
   "source": [
    "mergedMetaDf['var_pipeline']=mergedMetaDf['submitter_id'].str.extract('(varscan_dr|somaticsniper|mutect|muse)',expand=False)"
   ]
  },
  {
   "cell_type": "code",
   "execution_count": 27,
   "metadata": {},
   "outputs": [],
   "source": [
    "mergedMetaDf.to_pickle('lgg_rest_meta.pickle')"
   ]
  },
  {
   "cell_type": "code",
   "execution_count": null,
   "metadata": {},
   "outputs": [],
   "source": []
  },
  {
   "cell_type": "code",
   "execution_count": 21,
   "metadata": {},
   "outputs": [
    {
     "data": {
      "text/plain": [
       "array(['TCGA-DU-5870-01A-11D-1705-08_TCGA-DU-5870-10A-01D-1705-08_varscan_dr_10.0',\n",
       "       'TCGA-DB-5279-01A-01D-1468-08_TCGA-DB-5279-10A-01D-1468-08_somaticsniper',\n",
       "       'TCGA-DU-A76K-01A-11D-A33T-08_TCGA-DU-A76K-10A-01D-A33W-08_mutect',\n",
       "       ...,\n",
       "       'TCGA-HT-8110-01A-11D-2395-08_TCGA-HT-8110-10A-01D-2396-08_mutect',\n",
       "       'TCGA-RY-A845-01A-11D-A36O-08_TCGA-RY-A845-10A-01D-A367-08_varscan_dr_10.0',\n",
       "       'TCGA-DU-7018-01A-11D-2024-08_TCGA-DU-7018-10A-01D-2024-08_varscan_dr_10.0'],\n",
       "      dtype=object)"
      ]
     },
     "execution_count": 21,
     "metadata": {},
     "output_type": "execute_result"
    }
   ],
   "source": [
    "mergedMetaDf['submitter_id'].values"
   ]
  },
  {
   "cell_type": "code",
   "execution_count": null,
   "metadata": {},
   "outputs": [],
   "source": []
  },
  {
   "cell_type": "code",
   "execution_count": null,
   "metadata": {},
   "outputs": [],
   "source": []
  }
 ],
 "metadata": {
  "kernelspec": {
   "display_name": "Python 3",
   "language": "python",
   "name": "python3"
  },
  "language_info": {
   "codemirror_mode": {
    "name": "ipython",
    "version": 3
   },
   "file_extension": ".py",
   "mimetype": "text/x-python",
   "name": "python",
   "nbconvert_exporter": "python",
   "pygments_lexer": "ipython3",
   "version": "3.6.5"
  }
 },
 "nbformat": 4,
 "nbformat_minor": 2
}
