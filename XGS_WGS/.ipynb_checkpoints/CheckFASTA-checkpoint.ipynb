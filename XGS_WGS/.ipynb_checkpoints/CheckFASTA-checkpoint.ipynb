{
 "cells": [
  {
   "cell_type": "code",
   "execution_count": 1,
   "metadata": {},
   "outputs": [],
   "source": [
    "outMaskedFastaDir='/cellar/users/btsui/Data/ensembl/snp_masked/'\n",
    "specie='Mus_musculus'\n",
    "outMaskedFDir=outMaskedFastaDir+specie+'.fa'"
   ]
  },
  {
   "cell_type": "code",
   "execution_count": 20,
   "metadata": {},
   "outputs": [],
   "source": [
    "testChrom='MT'\n",
    "startI=152185369"
   ]
  },
  {
   "cell_type": "code",
   "execution_count": null,
   "metadata": {},
   "outputs": [
    {
     "name": "stdout",
     "output_type": "stream",
     "text": [
      "1\n",
      "2\n",
      "3\n",
      "4\n",
      "5\n",
      "6\n",
      "7\n",
      "8\n",
      "9\n",
      "10\n",
      "11\n",
      "12\n",
      "13\n",
      "14\n",
      "15\n",
      "16\n"
     ]
    }
   ],
   "source": [
    "from Bio import SeqIO\n",
    "import gzip\n",
    "maskedFasta=outMaskedFDir+'.gz'\n",
    "#unmaskedFasta='/cellar/users/btsui/Data/ensembl/release/fasta/Homo_sapiens.GRCh38.dna_rm.toplevel.fa'\n",
    "with gzip.open(maskedFasta, \"rb\") as handle:\n",
    "    for record in SeqIO.parse(handle=handle, format=\"fasta\") :\n",
    "        print(record.id)\n",
    "        if record.id==testChrom:\n",
    "                break\n",
    "\n",
    "        "
   ]
  },
  {
   "cell_type": "code",
   "execution_count": 19,
   "metadata": {},
   "outputs": [
    {
     "data": {
      "text/plain": [
       "'NNNNNNNNNNNNNNNNNNNNNNNNNNNNNNNNNNNNNNNNNNNNNNNNNNNNNNNNNNNNNNNNNNNNNNNNNNNNNNNNNNNNNNNNNNNNNNNNNNNNNNNNNNNNNNNNNNNNNNNNNNNNNNNNNNNNNNNNNNNNNNNNNNNNNNNNNNNNNNNNNNNNNNNNNNNNNNNNNNNNNNNNNNNNNNNNNNNNNNNNNNNNNNNNNNNNNNNNNNNNNNNNNNNNNNNNNNNNNNNNNNNNNNNNNNNNNNNNNNNNNNNNNNNNNNNNNNNNNNNNNNNNNNNNNNNNNNNNNNNNNNNNNNNNNNNNNNNNNNNNNNNNNNNNNNNNNNNNNNNNNNNNNNNNNNNNNNNNNNNNNNNNNNNNNNNNNNNNNNNNNNNNNNNTGTATACACTTCTCTGCAACTTGCTGTCTCAGAACAAGTCTTGTGGGTCCCTTGAGCTAAGAAGCTGAGCCTGACCGACTCAGCCACATAACATTCCAGAAGACAGCGCTGATGCCGCCACACGGCCATGCTTCACCACTGTTGCATCCAGCATGATTCTTTCCTGTGGTCATTGAACTTGCTCAGGGAACATTCTGGGTCCACCACCACCCCACCCCCGCCCCCGGAGTAAGCCTGTCTTTCCACCTCTAGGATGGACTGTTCAGTTTGGAAACATCCCCCTCCCACAGAGTATGTTAGAGAATGCTGTCACTCACCTAAGAAACCGCCCTGAAGGGCTCAACACTTCAAACTCTGCTTGAAAATCCAAGACTTTAAAACCAGAGAGAGACCCTCTGTCCCAGTTTGGGCCACATTCTGCTGAGGGTGTCCAGGAGGTGACCCGAGCTCCAGCCTCCAGCGTCCCTGAGAACATGACCCTGCTACTGACCTCGCTCTTCTCCTGTCCCCGCAGTGTGAGAACGAGTCGGCTCTGAACCTCTATGAGACCTGCAAGGTGCGCACGGTGAAGGCTGGTACTCTGGAGAAGCTGGTGGAACACCTGGTGCCTGCCTTCCAGGGCAGTGACCTTTCCTACGTCACTGTCTTCCTGTGCACCTACAGAGCCTTCACTACCACCCAGCAGGTGCTAGACCTGCTGTTCAAAAGGTGAGCACTGCCGCCAGACCCAGGACACCCTTCCTGCCGGCCGCACCTTGGGGGAGCCCAGCTTGGGGATAAGCCTCCTTTCAGGCTCCTGTCAGGGTGGGCTGCCAGGGCCTTCCTCTCCTCAGCCTCAGGTTAAGTGGGTTCCCTACATAGAAAGGAGGGGACCTCAACCTAGAACACAGAGCAAGGACGGCCCTGTGGTAATCGACTGAGAGACCTCAGGTCTGCTGAAGTGCCTCGGTTTCTAAAGCAATCTGCTGTGCGTAGCCATGTTGCCAAGCACCTAACTCTGTGACAGGAGCTGAGTCCCTGCCTCCCTGGGCCCCATTCCCATCAGGGAGTTGACCAGTAACACTAGACATCATAAGCAGGTACGGTAGATGTGACGCCCTCACGGCCTCCTCTAGATATGGCTGCATCCTCCCCTACTCCAGTGAGGACGGCGGACCGCAGGACCAACTCAAAAAGTAAGTAGGCTTTACGTCCAGAGGGGAGGTTTAGGGAACAAGGGTCGAGCAAACTATAGGCCCACACATGTGGTTCCTGATGCTGGGCTAAGGTCTAAGGCTACCCCTGTGTCAGATGGAAGAGGAGGGNNNNNNNNNNNNNNNNNNNNNNNNNNNNNNNNNNNNNNNNNNNNNNNNNNNAAAGAGAGAGAGAGATTGATTGATTGATTCAGAACCAGTCACTGTGAAAATCCTTCCCTAGCATAGCCTGTCTCAATAGACGTGCAGCCTCACTCCTTAAGAATGGGCATTTAGCTGGTCCCTGAGTCCCTCAGGAAAATGCAACCCATACCTGGCTTACAAAGAATAGGTACTGAGGTAACCCTTGCCACTGGTTGAATGGCAGGCCCTTTGGGCATCTCCATTCCAGTAGAGTTGGGCAGGAGTGGGAACCGGGTG'"
      ]
     },
     "execution_count": 19,
     "metadata": {},
     "output_type": "execute_result"
    }
   ],
   "source": [
    "#record[]\n",
    "#152184370\t152186370\n",
    "\n",
    "str((record[11546:13546]).seq)"
   ]
  },
  {
   "cell_type": "code",
   "execution_count": null,
   "metadata": {},
   "outputs": [],
   "source": []
  }
 ],
 "metadata": {
  "kernelspec": {
   "display_name": "Python [conda env:environment_conda_py26_btsui]",
   "language": "python",
   "name": "conda-env-environment_conda_py26_btsui-py"
  },
  "language_info": {
   "codemirror_mode": {
    "name": "ipython",
    "version": 2
   },
   "file_extension": ".py",
   "mimetype": "text/x-python",
   "name": "python",
   "nbconvert_exporter": "python",
   "pygments_lexer": "ipython2",
   "version": "2.7.14"
  }
 },
 "nbformat": 4,
 "nbformat_minor": 2
}
