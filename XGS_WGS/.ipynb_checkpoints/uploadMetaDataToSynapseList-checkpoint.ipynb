{
 "cells": [
  {
   "cell_type": "code",
   "execution_count": 1,
   "metadata": {},
   "outputs": [],
   "source": [
    "import pandas as pd\n",
    "import numpy as np\n",
    "from tqdm import tqdm"
   ]
  },
  {
   "cell_type": "code",
   "execution_count": 6,
   "metadata": {},
   "outputs": [],
   "source": [
    "uploadDirs=['/cellar/users/btsui/Data/SRA/DUMP/allSRS.pickle.gz',\n",
    "           '/cellar/users/btsui/Data/SRA/DUMP/allSRX.pickle.gz',\n",
    "           '/cellar/users/btsui/Data/SRA/DUMP/sra_dump.fastqc.bowtie_algn.pickle']"
   ]
  },
  {
   "cell_type": "code",
   "execution_count": 10,
   "metadata": {},
   "outputs": [],
   "source": [
    "import os\n",
    "#syn15624400\n",
    "synaspeFolderId='syn15661258'"
   ]
  },
  {
   "cell_type": "code",
   "execution_count": 9,
   "metadata": {},
   "outputs": [
    {
     "name": "stdout",
     "output_type": "stream",
     "text": [
      "Welcome, Brian Yik Tak Tsui!\r\n",
      "\r\n",
      "Logged in as: btsui (3329338)\r\n"
     ]
    }
   ],
   "source": [
    "!synapse login"
   ]
  },
  {
   "cell_type": "code",
   "execution_count": 15,
   "metadata": {},
   "outputs": [
    {
     "name": "stderr",
     "output_type": "stream",
     "text": [
      "100%|██████████| 3/3 [01:02<00:00, 20.83s/it]\n"
     ]
    }
   ],
   "source": [
    "cmdFmt=\"synapse add  {fDir} --parentId={synaspeFolderId}  --annotations 'check https://github.com/brianyiktaktsui/Skymap for more info'\"\n",
    "for inFname in  tqdm(uploadDirs):\n",
    "    cmd=cmdFmt.format(fDir=inFname,synaspeFolderId=synaspeFolderId)\n",
    "    out= (os.system(cmd))"
   ]
  },
  {
   "cell_type": "code",
   "execution_count": 16,
   "metadata": {},
   "outputs": [],
   "source": [
    "#print (cmd)"
   ]
  },
  {
   "cell_type": "code",
   "execution_count": 14,
   "metadata": {},
   "outputs": [],
   "source": [
    "#!synapse add  /cellar/users/btsui/Data/merged/snp/hg38/mergedBySRR/sra_dump.pickle/cellar/users/btsui/Data/SRA/DUMP/sra_dump.fastqc.bowtie_algn.pickle --parentId=syn15661258  --annotations 'check https://github.com/brianyiktaktsui/Skymap for more info'"
   ]
  },
  {
   "cell_type": "code",
   "execution_count": null,
   "metadata": {},
   "outputs": [],
   "source": []
  }
 ],
 "metadata": {
  "kernelspec": {
   "display_name": "Python 3",
   "language": "python",
   "name": "python3"
  },
  "language_info": {
   "codemirror_mode": {
    "name": "ipython",
    "version": 3
   },
   "file_extension": ".py",
   "mimetype": "text/x-python",
   "name": "python",
   "nbconvert_exporter": "python",
   "pygments_lexer": "ipython3",
   "version": "3.6.6"
  }
 },
 "nbformat": 4,
 "nbformat_minor": 2
}
