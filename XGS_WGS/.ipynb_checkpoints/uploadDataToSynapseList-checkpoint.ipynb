{
 "cells": [
  {
   "cell_type": "code",
   "execution_count": 1,
   "metadata": {},
   "outputs": [
    {
     "name": "stderr",
     "output_type": "stream",
     "text": [
      "/cellar/users/btsui/anaconda3/envs/deep_nlp_cpu/lib/python3.6/importlib/_bootstrap.py:219: RuntimeWarning: numpy.dtype size changed, may indicate binary incompatibility. Expected 96, got 88\n",
      "  return f(*args, **kwds)\n"
     ]
    }
   ],
   "source": [
    "import pandas as pd\n",
    "import numpy as np\n",
    "from tqdm import tqdm\n",
    "#sra_dump_pickle_dir='/cellar/users/btsui/Data/SRA/DUMP/sra_dump.pickle'\n",
    "\n",
    "uploadDir='/cellar/users/btsui/Data/merged/snp/hg38/mergedBySRR/'"
   ]
  },
  {
   "cell_type": "code",
   "execution_count": 45,
   "metadata": {},
   "outputs": [
    {
     "name": "stdout",
     "output_type": "stream",
     "text": [
      "FULL_SRA_meta\t\t\t\tfile_meta.txt\r\n",
      "NCBI_SRA_Metadata_Full_20180702.tar.gz\tmerged_variant_aligning_statistics.tsv\r\n",
      "SRA_Accessions.tab\t\t\tmeta.txt\r\n",
      "SRA_Run_Members.tab\t\t\tsra_dump.csv.gz\r\n",
      "allSRS.pickle.gz\t\t\tsra_dump.fastqc.bowtie_algn.pickle\r\n",
      "allSRX.pickle.gz\t\t\tsra_dump.pickle\r\n"
     ]
    }
   ],
   "source": [
    "!ls /cellar/users/btsui/Data/SRA/DUMP/"
   ]
  },
  {
   "cell_type": "code",
   "execution_count": 46,
   "metadata": {},
   "outputs": [],
   "source": [
    "#pd.read_pickle('/cellar/users/btsui/Data/SRA/DUMP/sra_dump.fastqc.bowtie_algn.pickle')"
   ]
  },
  {
   "cell_type": "code",
   "execution_count": 2,
   "metadata": {},
   "outputs": [
    {
     "name": "stdout",
     "output_type": "stream",
     "text": [
      "total 54G\r\n",
      "-rw-r--r-- 1 btsui users 2.3G Aug  9 21:15 5100000.pickle.gz\r\n",
      "-rw-r--r-- 1 btsui users 1.4G Aug  9 20:43 5400000.pickle.gz\r\n",
      "-rw-r--r-- 1 btsui users 1.3G Aug  9 20:34 5300000.pickle.gz\r\n",
      "-rw-r--r-- 1 btsui users 1.2G Aug  9 20:28 5000000.pickle.gz\r\n",
      "-rw-r--r-- 1 btsui users 1.2G Aug  9 20:26 5200000.pickle.gz\r\n",
      "-rw-r--r-- 1 btsui users 1.1G Aug  9 20:25 5800000.pickle.gz\r\n",
      "-rw-r--r-- 1 btsui users 1.4G Aug  9 20:21 5900000.pickle.gz\r\n",
      "-rw-r--r-- 1 btsui users 770M Aug  9 20:20 6200000.pickle.gz\r\n",
      "-rw-r--r-- 1 btsui users 746M Aug  9 20:11 5600000.pickle.gz\r\n"
     ]
    }
   ],
   "source": [
    "!ls -laht /cellar/users/btsui/Data/merged/snp/hg38/mergedBySRR/ | head"
   ]
  },
  {
   "cell_type": "code",
   "execution_count": 3,
   "metadata": {},
   "outputs": [],
   "source": [
    "import os\n",
    "#syn15624400\n",
    "synaspeFolderId='syn15624400'"
   ]
  },
  {
   "cell_type": "code",
   "execution_count": null,
   "metadata": {},
   "outputs": [],
   "source": []
  },
  {
   "cell_type": "code",
   "execution_count": 13,
   "metadata": {
    "scrolled": true
   },
   "outputs": [],
   "source": [
    "inFnames=os.listdir(uploadDir)"
   ]
  },
  {
   "cell_type": "code",
   "execution_count": 4,
   "metadata": {},
   "outputs": [],
   "source": [
    "#pd.read_pickle('/cellar/users/btsui/Data/merged/snp/hg38/mergedBySRR/')"
   ]
  },
  {
   "cell_type": "code",
   "execution_count": null,
   "metadata": {},
   "outputs": [],
   "source": [
    "#4 #python 3.5"
   ]
  },
  {
   "cell_type": "code",
   "execution_count": 5,
   "metadata": {},
   "outputs": [
    {
     "name": "stdout",
     "output_type": "stream",
     "text": [
      "Welcome, Brian Yik Tak Tsui!\r\n",
      "\r\n",
      "Logged in as: btsui (3329338)\r\n"
     ]
    }
   ],
   "source": [
    "!synapse login"
   ]
  },
  {
   "cell_type": "code",
   "execution_count": null,
   "metadata": {},
   "outputs": [
    {
     "name": "stderr",
     "output_type": "stream",
     "text": [
      "  3%|▎         | 2/61 [02:06<1:02:11, 63.25s/it]"
     ]
    }
   ],
   "source": [
    "cmdFmt=\"synapse add  {fDir} --parentId={synaspeFolderId}  --annotations 'check https://github.com/brianyiktaktsui/Skymap for more info'\"\n",
    "for inFname in  tqdm(os.listdir(uploadDir)):\n",
    "    cmd=cmdFmt.format(fDir=uploadDir+inFname,synaspeFolderId=synaspeFolderId)\n",
    "    out= (os.system(cmd))"
   ]
  },
  {
   "cell_type": "code",
   "execution_count": 14,
   "metadata": {},
   "outputs": [],
   "source": [
    "#'synapse login -u me@example.com -p secret --rememberMe'"
   ]
  },
  {
   "cell_type": "code",
   "execution_count": 16,
   "metadata": {},
   "outputs": [
    {
     "data": {
      "text/plain": [
       "'/cellar/users/btsui/Data/merged/snp/hg38/mergedBySRR/0.pickle'"
      ]
     },
     "execution_count": 16,
     "metadata": {},
     "output_type": "execute_result"
    }
   ],
   "source": [
    "outDir"
   ]
  },
  {
   "cell_type": "code",
   "execution_count": 34,
   "metadata": {},
   "outputs": [
    {
     "name": "stdout",
     "output_type": "stream",
     "text": [
      "0.pickle.gz\r\n"
     ]
    }
   ],
   "source": [
    "!ls /cellar/users/btsui/Data/merged/snp/hg38/mergedBySRR/"
   ]
  },
  {
   "cell_type": "code",
   "execution_count": 13,
   "metadata": {},
   "outputs": [],
   "source": [
    "#!ls /cellar/users/btsui/Data/merged/snp/hg38/mergedBySRR/"
   ]
  },
  {
   "cell_type": "code",
   "execution_count": 8,
   "metadata": {},
   "outputs": [],
   "source": [
    "#!rm /cellar/users/btsui/Data/merged/snp/hg38/mergedBySRR/*"
   ]
  },
  {
   "cell_type": "code",
   "execution_count": 6,
   "metadata": {},
   "outputs": [],
   "source": [
    "#!ls -lah /cellar/users/btsui/Data/merged/snp/hg38/mergedBySRR/0.pickle"
   ]
  },
  {
   "cell_type": "code",
   "execution_count": 15,
   "metadata": {},
   "outputs": [],
   "source": [
    "import h5py"
   ]
  },
  {
   "cell_type": "code",
   "execution_count": 30,
   "metadata": {},
   "outputs": [],
   "source": [
    "#!ls /tmp/"
   ]
  },
  {
   "cell_type": "code",
   "execution_count": 17,
   "metadata": {},
   "outputs": [],
   "source": [
    "f = h5py.File(\"/tmp/100000.hdf5\",)"
   ]
  },
  {
   "cell_type": "code",
   "execution_count": null,
   "metadata": {},
   "outputs": [],
   "source": []
  },
  {
   "cell_type": "code",
   "execution_count": 37,
   "metadata": {},
   "outputs": [],
   "source": [
    "#tmp=f['/100000/']"
   ]
  },
  {
   "cell_type": "code",
   "execution_count": 34,
   "metadata": {},
   "outputs": [
    {
     "data": {
      "text/plain": [
       "KeysView(<HDF5 file \"100000.hdf5\" (mode r+)>)"
      ]
     },
     "execution_count": 34,
     "metadata": {},
     "output_type": "execute_result"
    }
   ],
   "source": [
    "f.keys()"
   ]
  },
  {
   "cell_type": "code",
   "execution_count": 33,
   "metadata": {},
   "outputs": [
    {
     "data": {
      "text/plain": [
       "['axis0',\n",
       " 'axis1_label0',\n",
       " 'axis1_label1',\n",
       " 'axis1_label2',\n",
       " 'axis1_label3',\n",
       " 'axis1_label4',\n",
       " 'axis1_level0',\n",
       " 'axis1_level1',\n",
       " 'axis1_level2',\n",
       " 'axis1_level3',\n",
       " 'axis1_level4',\n",
       " 'block0_items',\n",
       " 'block0_values']"
      ]
     },
     "execution_count": 33,
     "metadata": {},
     "output_type": "execute_result"
    }
   ],
   "source": [
    "list(tmp['/chunk/'])"
   ]
  },
  {
   "cell_type": "code",
   "execution_count": 39,
   "metadata": {},
   "outputs": [],
   "source": [
    "tmpDf=pd.read_pickle('/cellar/users/btsui/Data/merged/snp/hg38/mergedBySRR/5600000.pickle.gz')"
   ]
  },
  {
   "cell_type": "code",
   "execution_count": 40,
   "metadata": {},
   "outputs": [],
   "source": [
    "tmpDf.to_pickle('/tmp/test.pickle',protocol=3)"
   ]
  },
  {
   "cell_type": "code",
   "execution_count": null,
   "metadata": {},
   "outputs": [],
   "source": [
    "import pandas as pd\n",
    "pd.read_pickle('/tmp/test.pickle')"
   ]
  },
  {
   "cell_type": "code",
   "execution_count": null,
   "metadata": {},
   "outputs": [],
   "source": [
    "#0.18.1"
   ]
  }
 ],
 "metadata": {
  "kernelspec": {
   "display_name": "Python 3",
   "language": "python",
   "name": "python3"
  },
  "language_info": {
   "codemirror_mode": {
    "name": "ipython",
    "version": 3
   },
   "file_extension": ".py",
   "mimetype": "text/x-python",
   "name": "python",
   "nbconvert_exporter": "python",
   "pygments_lexer": "ipython3",
   "version": "3.6.6"
  }
 },
 "nbformat": 4,
 "nbformat_minor": 2
}
