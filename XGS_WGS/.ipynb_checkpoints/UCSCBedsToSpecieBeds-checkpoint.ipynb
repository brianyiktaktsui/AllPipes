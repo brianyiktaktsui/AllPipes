{
 "cells": [
  {
   "cell_type": "markdown",
   "metadata": {},
   "source": [
    "### export homologue SNP regions in BED files for Bam read counts \n",
    "\n",
    "Rename the chromosome to UCSC\n",
    "\n",
    "\n",
    "\n",
    "\n",
    "example: chr1    13649   13649\n",
    "\n",
    "\n",
    "1. add  one to offset the zero-based from UCSC (zero based left)\n",
    "2. Take the window size of 2bp upstream and 2bp downstream\n"
   ]
  },
  {
   "cell_type": "code",
   "execution_count": null,
   "metadata": {},
   "outputs": [],
   "source": []
  },
  {
   "cell_type": "code",
   "execution_count": 1,
   "metadata": {},
   "outputs": [],
   "source": [
    "import pandas as pd\n",
    "import os\n",
    "import numpy as np\n",
    "\n",
    "baseChainDir='/cellar/users/btsui/Data/ucsc_chains_human_homo_snps/'\n",
    "\n",
    "fnameS=pd.Series(os.listdir(baseChainDir))\n",
    "#yeast, fruit flies, worms, zebrafish, and mice\n",
    "chainNameToSpecieDict={ \n",
    "                      #\"\":'Saccharomyces_cerevisiae', #R64-1-1.\n",
    "                      #\"\":'Drosophila_melanogaster', #BDGP6\n",
    "                      #\"\":'Caenorhabditis_elegans',#WBcel235/ CE11\n",
    "                      \"hg38ToDanRer10.over.chain.gz.human_homo.bed\":\"Danio_rerio\",#GRCz10,  DanRer10\n",
    "                       'hg38ToMm10.over.chain.gz.human_homo.bed':'Mus_musculus'\n",
    "                      }\n",
    "\n",
    "#m_test=fnameS.str.contains('Mm10')\n",
    "#m_mapped=fnameS.str.contains('human_homo.bed$')\n",
    "#inFnameS=fnameS[m_mapped]"
   ]
  },
  {
   "cell_type": "code",
   "execution_count": 2,
   "metadata": {},
   "outputs": [],
   "source": [
    "#Saccharomyces_cerevisiae.R64-1-1.dna_rm.toplevel.fa\n",
    "#!ls $baseChainDir"
   ]
  },
  {
   "cell_type": "code",
   "execution_count": 3,
   "metadata": {},
   "outputs": [],
   "source": [
    "colOrder=['Chr','Start','End','Rs']\n",
    "\n",
    "#for fname in inFnameS:\n",
    "#    break\n",
    "fname='hg38ToDanRer10.over.chain.gz.human_homo.bed'\n",
    "\n",
    "### do for one species for now\n",
    "specie=chainNameToSpecieDict[fname]\n",
    "\n",
    "liftOverDf_all=pd.read_csv(baseChainDir+fname,sep='\\t',header=None)\n",
    "liftOverDf_all.columns=colOrder\n",
    "liftOverDf_all['Chr']=liftOverDf_all['Chr'].astype(str)"
   ]
  },
  {
   "cell_type": "code",
   "execution_count": 4,
   "metadata": {},
   "outputs": [],
   "source": [
    "m=~liftOverDf_all['Chr'].str.contains('_')\n",
    "liftOverDf=liftOverDf_all[m]\n"
   ]
  },
  {
   "cell_type": "code",
   "execution_count": 5,
   "metadata": {},
   "outputs": [],
   "source": [
    "exportCols=['Chr','Start_offset','End_offset']\n"
   ]
  },
  {
   "cell_type": "code",
   "execution_count": 6,
   "metadata": {},
   "outputs": [],
   "source": [
    "#liftOverDf"
   ]
  },
  {
   "cell_type": "code",
   "execution_count": 7,
   "metadata": {},
   "outputs": [
    {
     "name": "stderr",
     "output_type": "stream",
     "text": [
      "/cellar/users/btsui/anaconda3/lib/python3.6/site-packages/ipykernel/__main__.py:1: SettingWithCopyWarning: \n",
      "A value is trying to be set on a copy of a slice from a DataFrame.\n",
      "Try using .loc[row_indexer,col_indexer] = value instead\n",
      "\n",
      "See the caveats in the documentation: http://pandas.pydata.org/pandas-docs/stable/indexing.html#indexing-view-versus-copy\n",
      "  if __name__ == '__main__':\n",
      "/cellar/users/btsui/anaconda3/lib/python3.6/site-packages/ipykernel/__main__.py:4: SettingWithCopyWarning: \n",
      "A value is trying to be set on a copy of a slice from a DataFrame.\n",
      "Try using .loc[row_indexer,col_indexer] = value instead\n",
      "\n",
      "See the caveats in the documentation: http://pandas.pydata.org/pandas-docs/stable/indexing.html#indexing-view-versus-copy\n",
      "/cellar/users/btsui/anaconda3/lib/python3.6/site-packages/ipykernel/__main__.py:5: SettingWithCopyWarning: \n",
      "A value is trying to be set on a copy of a slice from a DataFrame.\n",
      "Try using .loc[row_indexer,col_indexer] = value instead\n",
      "\n",
      "See the caveats in the documentation: http://pandas.pydata.org/pandas-docs/stable/indexing.html#indexing-view-versus-copy\n",
      "/cellar/users/btsui/anaconda3/lib/python3.6/site-packages/ipykernel/__main__.py:6: SettingWithCopyWarning: \n",
      "A value is trying to be set on a copy of a slice from a DataFrame.\n",
      "Try using .loc[row_indexer,col_indexer] = value instead\n",
      "\n",
      "See the caveats in the documentation: http://pandas.pydata.org/pandas-docs/stable/indexing.html#indexing-view-versus-copy\n",
      "/cellar/users/btsui/anaconda3/lib/python3.6/site-packages/ipykernel/__main__.py:7: SettingWithCopyWarning: \n",
      "A value is trying to be set on a copy of a slice from a DataFrame\n",
      "\n",
      "See the caveats in the documentation: http://pandas.pydata.org/pandas-docs/stable/indexing.html#indexing-view-versus-copy\n",
      "/cellar/users/btsui/anaconda3/lib/python3.6/site-packages/pandas/core/generic.py:7626: SettingWithCopyWarning: \n",
      "A value is trying to be set on a copy of a slice from a DataFrame\n",
      "\n",
      "See the caveats in the documentation: http://pandas.pydata.org/pandas-docs/stable/indexing.html#indexing-view-versus-copy\n",
      "  self._update_inplace(new_data)\n",
      "/cellar/users/btsui/anaconda3/lib/python3.6/site-packages/IPython/core/interactiveshell.py:2963: SettingWithCopyWarning: \n",
      "A value is trying to be set on a copy of a slice from a DataFrame\n",
      "\n",
      "See the caveats in the documentation: http://pandas.pydata.org/pandas-docs/stable/indexing.html#indexing-view-versus-copy\n",
      "  exec(code_obj, self.user_global_ns, self.user_ns)\n"
     ]
    }
   ],
   "source": [
    "liftOverDf['Chr']=liftOverDf['Chr'].str.replace('M','MT').str.replace('chr','')\n",
    "\n",
    "offset=2\n",
    "liftOverDf['Start_one_based']=liftOverDf['Start']+1\n",
    "liftOverDf['Start_offset']=liftOverDf['Start_one_based']-offset\n",
    "liftOverDf['End_offset']=liftOverDf['Start_one_based']+offset\n",
    "liftOverDf['Start_offset'][liftOverDf['Start_offset']<=0]=0\n",
    "\n",
    "#!head /cellar/users/btsui/Data/dbsnp/snp_beds/Homo_sapiens.bed\n",
    "\n",
    "baseGenomesDir='/cellar/users/btsui/Data/BOWTIE_GENOME_SNP_INDEX/'\n",
    "snpBed='/cellar/users/btsui/Data/dbsnp/snp_beds/'+specie+'.bed'\n",
    "\n",
    "#!ls /cellar/users/btsui/Data/dbsnp/snp_beds/\n",
    "\n",
    "liftOverDf[exportCols].sort_values(exportCols).to_csv(snpBed,sep='\\t',header=None,index=False)"
   ]
  },
  {
   "cell_type": "code",
   "execution_count": 8,
   "metadata": {},
   "outputs": [],
   "source": [
    "#!head $snpBed"
   ]
  },
  {
   "cell_type": "markdown",
   "metadata": {},
   "source": [
    "### generate refernce"
   ]
  },
  {
   "cell_type": "code",
   "execution_count": null,
   "metadata": {},
   "outputs": [],
   "source": []
  },
  {
   "cell_type": "markdown",
   "metadata": {},
   "source": [
    "### extract the SNP mapping window  window "
   ]
  },
  {
   "cell_type": "code",
   "execution_count": 9,
   "metadata": {},
   "outputs": [
    {
     "name": "stderr",
     "output_type": "stream",
     "text": [
      "/cellar/users/btsui/anaconda3/lib/python3.6/site-packages/ipykernel/__main__.py:4: SettingWithCopyWarning: \n",
      "A value is trying to be set on a copy of a slice from a DataFrame.\n",
      "Try using .loc[row_indexer,col_indexer] = value instead\n",
      "\n",
      "See the caveats in the documentation: http://pandas.pydata.org/pandas-docs/stable/indexing.html#indexing-view-versus-copy\n",
      "/cellar/users/btsui/anaconda3/lib/python3.6/site-packages/ipykernel/__main__.py:5: SettingWithCopyWarning: \n",
      "A value is trying to be set on a copy of a slice from a DataFrame.\n",
      "Try using .loc[row_indexer,col_indexer] = value instead\n",
      "\n",
      "See the caveats in the documentation: http://pandas.pydata.org/pandas-docs/stable/indexing.html#indexing-view-versus-copy\n",
      "/cellar/users/btsui/anaconda3/lib/python3.6/site-packages/ipykernel/__main__.py:6: SettingWithCopyWarning: \n",
      "A value is trying to be set on a copy of a slice from a DataFrame\n",
      "\n",
      "See the caveats in the documentation: http://pandas.pydata.org/pandas-docs/stable/indexing.html#indexing-view-versus-copy\n",
      "/cellar/users/btsui/anaconda3/lib/python3.6/site-packages/pandas/core/generic.py:7626: SettingWithCopyWarning: \n",
      "A value is trying to be set on a copy of a slice from a DataFrame\n",
      "\n",
      "See the caveats in the documentation: http://pandas.pydata.org/pandas-docs/stable/indexing.html#indexing-view-versus-copy\n",
      "  self._update_inplace(new_data)\n",
      "/cellar/users/btsui/anaconda3/lib/python3.6/site-packages/IPython/core/interactiveshell.py:2963: SettingWithCopyWarning: \n",
      "A value is trying to be set on a copy of a slice from a DataFrame\n",
      "\n",
      "See the caveats in the documentation: http://pandas.pydata.org/pandas-docs/stable/indexing.html#indexing-view-versus-copy\n",
      "  exec(code_obj, self.user_global_ns, self.user_ns)\n",
      "/cellar/users/btsui/anaconda3/lib/python3.6/site-packages/ipykernel/__main__.py:7: SettingWithCopyWarning: \n",
      "A value is trying to be set on a copy of a slice from a DataFrame.\n",
      "Try using .loc[row_indexer,col_indexer] = value instead\n",
      "\n",
      "See the caveats in the documentation: http://pandas.pydata.org/pandas-docs/stable/indexing.html#indexing-view-versus-copy\n"
     ]
    }
   ],
   "source": [
    "snpBed='extracting_region.bed'\n",
    "###do for dbSNP\n",
    "offset=1000\n",
    "liftOverDf['Start_one_based']=liftOverDf['Start']+1\n",
    "liftOverDf['Start_offset']=liftOverDf['Start_one_based']-offset\n",
    "liftOverDf['Start_offset'][liftOverDf['Start_offset']<=0]=0\n",
    "liftOverDf['End_offset']=liftOverDf['Start_one_based']+offset\n",
    "liftOverDf.sort_values(exportCols,ascending=True)[exportCols].to_csv(snpBed,sep='\\t',header=None,index=False)"
   ]
  },
  {
   "cell_type": "code",
   "execution_count": 10,
   "metadata": {},
   "outputs": [],
   "source": [
    "#liftOverDf[liftOverDf.Chr=='MT']"
   ]
  },
  {
   "cell_type": "code",
   "execution_count": null,
   "metadata": {},
   "outputs": [],
   "source": []
  },
  {
   "cell_type": "code",
   "execution_count": 11,
   "metadata": {},
   "outputs": [],
   "source": [
    "#2537074256/2725537669.0"
   ]
  },
  {
   "cell_type": "code",
   "execution_count": 12,
   "metadata": {},
   "outputs": [],
   "source": [
    "#liftOverDf.sort_values(['Chr','Start_offset'],ascending=False)[exportCols]['Chr'].value_counts()"
   ]
  },
  {
   "cell_type": "code",
   "execution_count": 13,
   "metadata": {},
   "outputs": [
    {
     "data": {
      "text/plain": [
       "0"
      ]
     },
     "execution_count": 13,
     "metadata": {},
     "output_type": "execute_result"
    }
   ],
   "source": [
    "#index the genome\n",
    "myCleanFaDir='/cellar/users/btsui/Data/ensembl/clean/{}.fa'.format(specie)\n",
    "os.system(' samtools faidx '+ myCleanFaDir)"
   ]
  },
  {
   "cell_type": "markdown",
   "metadata": {},
   "source": []
  },
  {
   "cell_type": "code",
   "execution_count": 14,
   "metadata": {},
   "outputs": [],
   "source": [
    "#!cat /cellar/users/btsui/Data/ensembl/clean/Mus_musculus.fa.fai"
   ]
  },
  {
   "cell_type": "code",
   "execution_count": 15,
   "metadata": {},
   "outputs": [],
   "source": [
    "myFai=pd.read_csv(myCleanFaDir+'.fai',sep='\\t',header=None)\n",
    "myFai[0]=myFai[0].astype(str)\n",
    "myFai[[0,1]].sort_values(0).to_csv('genome',sep='\\t',header=None,index=None)"
   ]
  },
  {
   "cell_type": "code",
   "execution_count": 16,
   "metadata": {},
   "outputs": [
    {
     "name": "stdout",
     "output_type": "stream",
     "text": [
      "***** WARNING: 8:54189719-54192493 exceeds the length of chromosome (8)\r\n",
      "***** WARNING: MT:0-17563 exceeds the length of chromosome (MT)\r\n"
     ]
    }
   ],
   "source": [
    "!bedtools complement -i extracting_region.bed -g genome > complement.txt"
   ]
  },
  {
   "cell_type": "markdown",
   "metadata": {},
   "source": [
    "### masking all the regions complementing to the tasking windows with Ns"
   ]
  },
  {
   "cell_type": "code",
   "execution_count": 17,
   "metadata": {
    "scrolled": true
   },
   "outputs": [],
   "source": [
    "complementDf=pd.read_csv('complement.txt',sep='\\t',header=None)"
   ]
  },
  {
   "cell_type": "code",
   "execution_count": 18,
   "metadata": {},
   "outputs": [],
   "source": [
    "complementDf.columns=['Chr','Start','End']"
   ]
  },
  {
   "cell_type": "code",
   "execution_count": 19,
   "metadata": {},
   "outputs": [],
   "source": [
    "spaceMasked=(complementDf.End-complementDf.Start)"
   ]
  },
  {
   "cell_type": "code",
   "execution_count": 55,
   "metadata": {},
   "outputs": [],
   "source": [
    "outMaskedFastaDir='/cellar/users/btsui/Data/ensembl/snp_masked/'\n",
    "\n",
    "outMaskedFaDir=outMaskedFastaDir+specie+'.fa'\n",
    "targeted_fast_gz=outMaskedFaDir+'.gz'"
   ]
  },
  {
   "cell_type": "code",
   "execution_count": 56,
   "metadata": {},
   "outputs": [
    {
     "data": {
      "text/plain": [
       "0"
      ]
     },
     "execution_count": 56,
     "metadata": {},
     "output_type": "execute_result"
    }
   ],
   "source": [
    "os.system('maskFastaFromBed -fi {myCleanFaDir} -bed complement.txt -fo {maskedFasta}'.format(\n",
    "myCleanFaDir=myCleanFaDir,\n",
    "maskedFasta=outMaskedFaDir\n",
    "))"
   ]
  },
  {
   "cell_type": "code",
   "execution_count": null,
   "metadata": {},
   "outputs": [],
   "source": []
  },
  {
   "cell_type": "code",
   "execution_count": 57,
   "metadata": {},
   "outputs": [],
   "source": [
    "!pigz --force $outMaskedFaDir"
   ]
  },
  {
   "cell_type": "markdown",
   "metadata": {},
   "source": [
    "### concat viral signatures from Methplan and 16s genes from mothur\n",
    "\n",
    "https://www.mothur.org/wiki/RDP_reference_files\n",
    "\n",
    "## bacteria and microbes reference mothur: \n",
    "1. trainset16_022016.rdp.tax : id to sequence tax mapping\n",
    "2. trainset16_022016.rdp.fasta.gz\n",
    "\n",
    "## viral \n",
    "1. ftp://ftp.ncbi.nih.gov/refseq/release/viral/viral.1.1.genomic.fna.gz\n",
    "2. ftp://ftp.ncbi.nih.gov/refseq/release/viral/viral.2.1.genomic.fna.gz\n",
    "\n",
    "microbe consist of viral and microbial genome from NCBI and mothur respectively"
   ]
  },
  {
   "cell_type": "code",
   "execution_count": 58,
   "metadata": {},
   "outputs": [],
   "source": [
    "withMicrobeDir=targeted_fast_gz.replace('.fa.gz','.microbe.fa.gz')\n",
    "cmd_cat='cat microbe.fa.gz {targeted_fast_gz} > {withMicrobeDir}'.format(targeted_fast_gz=targeted_fast_gz,\n",
    "                                                                          withMicrobeDir=withMicrobeDir)\n"
   ]
  },
  {
   "cell_type": "code",
   "execution_count": 59,
   "metadata": {},
   "outputs": [],
   "source": [
    "!$cmd_cat"
   ]
  },
  {
   "cell_type": "code",
   "execution_count": 60,
   "metadata": {},
   "outputs": [],
   "source": [
    "#os.system(cmd_cat)"
   ]
  },
  {
   "cell_type": "code",
   "execution_count": 61,
   "metadata": {},
   "outputs": [],
   "source": [
    "#!rm /cellar/users/btsui/Data/ensembl/snp_masked/Danio_rerio.microbe.fa.gz "
   ]
  },
  {
   "cell_type": "code",
   "execution_count": 63,
   "metadata": {},
   "outputs": [],
   "source": [
    "!gunzip --keep --force $withMicrobeDir"
   ]
  },
  {
   "cell_type": "code",
   "execution_count": 64,
   "metadata": {},
   "outputs": [
    {
     "data": {
      "text/plain": [
       "0"
      ]
     },
     "execution_count": 64,
     "metadata": {},
     "output_type": "execute_result"
    }
   ],
   "source": [
    "os.system(' samtools faidx '+ withMicrobeDir.replace('.fa.gz','.fa'))"
   ]
  },
  {
   "cell_type": "code",
   "execution_count": 65,
   "metadata": {},
   "outputs": [],
   "source": [
    "#!tail /cellar/users/btsui/Data/ensembl/snp_masked/Mus_musculus.microbe.fa.fai"
   ]
  },
  {
   "cell_type": "code",
   "execution_count": 66,
   "metadata": {},
   "outputs": [],
   "source": [
    "bowtieFaDir=withMicrobeDir"
   ]
  },
  {
   "cell_type": "code",
   "execution_count": 67,
   "metadata": {},
   "outputs": [],
   "source": [
    "bowtie2IndexPrefix='/cellar/users/btsui/Data/BOWTIE_GENOME_SNP_INDEX/{specie}/bowtie2'.format(specie=specie)"
   ]
  },
  {
   "cell_type": "code",
   "execution_count": 68,
   "metadata": {},
   "outputs": [],
   "source": [
    "bowtie2IndexDir=bowtie2IndexPrefix.replace('/bowtie2','')"
   ]
  },
  {
   "cell_type": "code",
   "execution_count": 69,
   "metadata": {},
   "outputs": [
    {
     "name": "stdout",
     "output_type": "stream",
     "text": [
      "mkdir: cannot create directory ‘/cellar/users/btsui/Data/BOWTIE_GENOME_SNP_INDEX/Danio_rerio’: File exists\r\n"
     ]
    }
   ],
   "source": [
    "!mkdir $bowtie2IndexDir"
   ]
  },
  {
   "cell_type": "code",
   "execution_count": null,
   "metadata": {},
   "outputs": [
    {
     "name": "stdout",
     "output_type": "stream",
     "text": [
      "Settings:\r\n",
      "  Output files: \"/cellar/users/btsui/Data/BOWTIE_GENOME_SNP_INDEX/Danio_rerio/bowtie2.*.bt2\"\r\n",
      "  Line rate: 6 (line is 64 bytes)\r\n",
      "  Lines per side: 1 (side is 64 bytes)\r\n",
      "  Offset rate: 4 (one in 16)\r\n",
      "  FTable chars: 10\r\n",
      "  Strings: unpacked\r\n",
      "  Max bucket size: default\r\n",
      "  Max bucket size, sqrt multiplier: default\r\n",
      "  Max bucket size, len divisor: 256\r\n",
      "  Difference-cover sample period: 1024\r\n",
      "  Endianness: little\r\n",
      "  Actual local endianness: little\r\n",
      "  Sanity checking: disabled\r\n",
      "  Assertions: disabled\r\n",
      "  Random seed: 0\r\n",
      "  Sizeofs: void*:8, int:4, long:8, size_t:8\r\n",
      "Input files DNA, FASTA:\r\n",
      "  /cellar/users/btsui/Data/ensembl/snp_masked/Danio_rerio.microbe.fa.gz\r\n",
      "Building a SMALL index\r\n",
      "Reading reference sizes\r\n"
     ]
    }
   ],
   "source": [
    "cmd= 'bowtie2-build --threads 64 '+bowtieFaDir+' '+bowtie2IndexPrefix\n",
    "!$cmd"
   ]
  },
  {
   "cell_type": "code",
   "execution_count": 35,
   "metadata": {},
   "outputs": [],
   "source": [
    "#cmd"
   ]
  },
  {
   "cell_type": "code",
   "execution_count": 36,
   "metadata": {},
   "outputs": [],
   "source": [
    "#!bowtie2-build --help"
   ]
  },
  {
   "cell_type": "code",
   "execution_count": 37,
   "metadata": {},
   "outputs": [
    {
     "ename": "NameError",
     "evalue": "name 'asdasd' is not defined",
     "output_type": "error",
     "traceback": [
      "\u001b[0;31m---------------------------------------------------------------------------\u001b[0m",
      "\u001b[0;31mNameError\u001b[0m                                 Traceback (most recent call last)",
      "\u001b[0;32m<ipython-input-37-efb445db9a2e>\u001b[0m in \u001b[0;36m<module>\u001b[0;34m()\u001b[0m\n\u001b[0;32m----> 1\u001b[0;31m \u001b[0masdasd\u001b[0m\u001b[0;34m\u001b[0m\u001b[0m\n\u001b[0m",
      "\u001b[0;31mNameError\u001b[0m: name 'asdasd' is not defined"
     ]
    }
   ],
   "source": [
    "asdasd"
   ]
  },
  {
   "cell_type": "markdown",
   "metadata": {},
   "source": [
    "### scratch"
   ]
  },
  {
   "cell_type": "code",
   "execution_count": null,
   "metadata": {},
   "outputs": [],
   "source": [
    "!gunzip --keep /cellar/users/btsui/Data/ensembl/snp_masked/Mus_musclus.microbe.fa"
   ]
  },
  {
   "cell_type": "code",
   "execution_count": null,
   "metadata": {},
   "outputs": [],
   "source": [
    "!ls -lah /cellar/users/btsui/Data/BOWTIE_GENOME_SNP_INDEX/Homo_sapiens/"
   ]
  },
  {
   "cell_type": "code",
   "execution_count": null,
   "metadata": {},
   "outputs": [],
   "source": [
    "!ls /cellar/users/btsui/Data/ensembl/snp_masked/Mus_musclus.microbe.fa"
   ]
  }
 ],
 "metadata": {
  "kernelspec": {
   "display_name": "Python [conda root]",
   "language": "python",
   "name": "conda-root-py"
  },
  "language_info": {
   "codemirror_mode": {
    "name": "ipython",
    "version": 3
   },
   "file_extension": ".py",
   "mimetype": "text/x-python",
   "name": "python",
   "nbconvert_exporter": "python",
   "pygments_lexer": "ipython3",
   "version": "3.6.5"
  }
 },
 "nbformat": 4,
 "nbformat_minor": 2
}
