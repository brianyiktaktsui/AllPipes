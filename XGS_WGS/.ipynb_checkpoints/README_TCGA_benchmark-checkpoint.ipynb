{
 "cells": [
  {
   "cell_type": "markdown",
   "metadata": {},
   "source": [
    "### extract allelic raed counts from TCGA RNAseq and WXS bams\n",
    "\n",
    "| Description | Location           | \n",
    "| ------------- | :------|\n",
    "|identify relevant TCGA WXS and RNAseq|http://localhost:6001/notebooks/Project/METAMAP/notebook/RapMapTest/XGS_WGS/identify_TCGA_WGS_runs.ipynb |\n",
    "| | |"
   ]
  },
  {
   "cell_type": "markdown",
   "metadata": {},
   "source": [
    "#  allelic fraction extraction in TCGA pipeline\n",
    "\n",
    "| input        |output| Location           | \n",
    "| ------------- |:-------------:| \n",
    "| raw bams from TCGA website     |allelic read counts| http://localhost:6001/notebooks/Project/METAMAP/notebook/RapMapTest/XGS_WGS/TestPipeline/submitJobForAllleleExtraction.ipynb |\n",
    "|TCGA website| preprocessed TCGA VCF files| http://localhost:6001/notebooks/Project/METAMAP/notebook/RapMapTest/XGS_WGS/downloadingVCFs.ipynb|\n",
    "|TCGA website| VCF metadata annotations| http://localhost:6001/notebooks/Project/METAMAP/notebook/RapMapTest/XGS_WGS/Pull_TCGA_meta_data.ipynb|\n",
    "|preprocessed TCGA VCF files| merged VCF file| http://localhost:6001/notebooks/Project/METAMAP/notebook/RapMapTest/XGS_WGS/mergeTCGA_VCF.ipynb#|\n",
    "|reprocessed bam-reacount out files| merged bam-reacount out file|http://localhost:6001/notebooks/Project/METAMAP/notebook/RapMapTest/XGS_WGS/TestPipeline/mergeBamReadCountFiles.ipynb\n",
    "\n",
    "# analysis\n",
    "| Description| Location           | \n",
    "| ------------- |:-------------:| \n",
    "|calling mutation in TCGA using simple allelic read counts with less than 10 lines|http://localhost:6001/notebooks/Project/METAMAP/notebook/RapMapTest/XGS_WGS/TestPipeline/mutationCalling.ipynb#|\n",
    "\n",
    "\n",
    "The URL locations are hardcoded for me clicking to go to different notebooks. \n"
   ]
  },
  {
   "cell_type": "markdown",
   "metadata": {},
   "source": [
    "# scratch\n",
    "\n",
    "Find TCGA WGS runs\n",
    "http://localhost:6001/notebooks/Project/METAMAP/notebook/RapMapTest/XGS_WGS/identify_TCGA_WGS_runs.ipynb\n",
    "\n",
    "check for TCGA aligning speed: \n",
    "\n",
    "http://localhost:6001/edit/Project/METAMAP/notebook/RapMapTest/XGS_WGS/TestPipeline/align_tcga.py"
   ]
  },
  {
   "cell_type": "code",
   "execution_count": null,
   "metadata": {},
   "outputs": [],
   "source": []
  }
 ],
 "metadata": {
  "kernelspec": {
   "display_name": "Python 3",
   "language": "python",
   "name": "python3"
  },
  "language_info": {
   "codemirror_mode": {
    "name": "ipython",
    "version": 3
   },
   "file_extension": ".py",
   "mimetype": "text/x-python",
   "name": "python",
   "nbconvert_exporter": "python",
   "pygments_lexer": "ipython3",
   "version": "3.6.5"
  }
 },
 "nbformat": 4,
 "nbformat_minor": 2
}
