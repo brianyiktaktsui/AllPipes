{
 "cells": [
  {
   "cell_type": "code",
   "execution_count": 1,
   "metadata": {
    "collapsed": true
   },
   "outputs": [],
   "source": [
    "import pandas as pd\n",
    "import numpy as np\n",
    "import re\n",
    "import os\n",
    "import math\n",
    "from multiprocessing import Pool\n",
    "\n",
    "## init\n",
    "mySpecie='Homo_sapiens'\n",
    "outMergedDir='/cellar/users/btsui/all_seq_snp/'+mySpecie+'_all_merged_snp.h5'\n",
    "\n",
    "##change this dir to point to the updated csv\n",
    "full_meta_dir=\"/cellar/users/btsui/Project/METAMAP/notebook/Parsing/sra_dump.csv\"\n",
    "inSrrDir='/nrnb/users/btsui/Data/all_seq/snp/'\n",
    "tmp_dir='/nrnb/users/btsui/Data/all_seq/tmp/'\n",
    "\n",
    "inAllFames=pd.Series(os.listdir(inSrrDir))\n",
    "\n",
    "os.system('rm '+tmp_dir+'*')"
   ]
  },
  {
   "cell_type": "code",
   "execution_count": 6,
   "metadata": {},
   "outputs": [
    {
     "ename": "NameError",
     "evalue": "name 'inAllFames' is not defined",
     "output_type": "error",
     "traceback": [
      "\u001b[0;31m---------------------------------------------------------------------------\u001b[0m",
      "\u001b[0;31mNameError\u001b[0m                                 Traceback (most recent call last)",
      "\u001b[0;32m<ipython-input-6-4c92540c89b0>\u001b[0m in \u001b[0;36m<module>\u001b[0;34m()\u001b[0m\n\u001b[0;32m----> 1\u001b[0;31m \u001b[0mperFaStatDf\u001b[0m\u001b[0;34m=\u001b[0m\u001b[0minAllFames\u001b[0m\u001b[0;34m[\u001b[0m\u001b[0minAllFames\u001b[0m\u001b[0;34m.\u001b[0m\u001b[0mstr\u001b[0m\u001b[0;34m.\u001b[0m\u001b[0mcontains\u001b[0m\u001b[0;34m(\u001b[0m\u001b[0;34m'per_fa_record_stat.txt.gz'\u001b[0m\u001b[0;34m)\u001b[0m\u001b[0;34m]\u001b[0m\u001b[0;34m\u001b[0m\u001b[0m\n\u001b[0m",
      "\u001b[0;31mNameError\u001b[0m: name 'inAllFames' is not defined"
     ]
    }
   ],
   "source": [
    "perFaStatS=inAllFames[inAllFames.str.contains('per_fa_record_stat.txt.gz')].values\n",
    "\n",
    "TEST=True\n",
    "if TEST:\n",
    "    toRunSrrs=perFaStatS[:10]\n",
    "    chunkSize=5\n",
    "    nThread=1\n",
    "else:\n",
    "    toRunSrrs=perFaStatS\n",
    "    chunkSize=1000\n",
    "    nThread=64"
   ]
  },
  {
   "cell_type": "code",
   "execution_count": null,
   "metadata": {},
   "outputs": [],
   "source": [
    "## get the microbes FA\n",
    "tmpDf=pd.read_csv(inSrrDir+'ERR1497972_per_fa_record_stat.txt.gz',sep='\\t',header=None)\n",
    "ignoreList=['1', '2', '3', '4', '5', '6', '7',\n",
    "       '8', '9', '10', '11', '12', '13', '14', '15', '16', '17', '18',\n",
    "       '19', '20', '21', '22', 'X', 'Y', 'MT', '*']\n",
    "\n",
    "microbes_fa=tmpDf[0][~tmpDf[0].isin(ignoreList)].values\n",
    "\n",
    "\n",
    "#inFname=toRunSrrs[0]\n",
    "def parseFile(inFname):\n",
    "    \"\"\"\n",
    "    input: inAllFames\n",
    "    for each file, merge the microbe data file\n",
    "    \"\"\"\n",
    "    #The output is TAB-delimited with each line consisting of reference sequence name, sequence length, # mapped reads and # unmapped reads. \n",
    "    fDir=inSrrDir+inFname\n",
    "    tmpDf2=pd.read_csv(fDir,sep='\\t',header=None)\n",
    "    tmpDf2.columns=['fa_name','','n_mapped_reads','']\n",
    "    tmpS=tmpDf2[~tmpDf2['fa_name'].isin(ignoreList)].set_index('fa_name')['n_mapped_reads']\n",
    "    tmpS.name=inFname\n",
    "    #tmpS.index.name=inFname\n",
    "    return tmpS\n",
    "\n",
    "\n",
    "\n",
    "#tmpS=parseFile(inFname)\n",
    "\n",
    "\n",
    "def mergeSrrsL(i):\n",
    "    tmpL=[]\n",
    "    failedSrrsL=[]\n",
    "    for srr in toRunSrrs[i:(i+chunkSize)]:\n",
    "        try:\n",
    "            tmpL.append(parseFile(srr))\n",
    "        except :\n",
    "            print 'failed: '+srr\n",
    "            failedSrrsL.append(srr)\n",
    "    tmpMergedDf=pd.DataFrame(tmpL).T\n",
    "    print tmpMergedDf.shape\n",
    "    #tmpMergedDf=pd.concat([parseSrr(srr) for srr in toRunSrrs[i:(i+chunkSize)]])\n",
    "    reorderedDf=tmpMergedDf.sort_index()\n",
    "    if TEST:\n",
    "        print tmp_dir+str(i)+'.pickle.gz'\n",
    "    reorderedDf.to_pickle(tmp_dir+str(i)+'.pickle.gz',compression='gzip')\n",
    "    return failedSrrsL\n",
    "\n",
    "Chunks=np.arange(0, len(toRunSrrs),chunkSize)\n",
    "if TEST:\n",
    "    failed_srr_l=map(mergeSrrsL,Chunks.tolist())\n",
    "else:\n",
    "    from multiprocessing import Pool\n",
    "    p=Pool(nThread)\n",
    "    ### sweep for uncompleted chunks\n",
    "    failed_srr_l=p.map(mergeSrrsL,Chunks.tolist())\n",
    "    p.close()\n",
    "\n",
    "\n",
    "#testDf3=pd.read_pickle('/nrnb/users/btsui/Data/all_seq/tmp/0.pickle.gz')"
   ]
  },
  {
   "cell_type": "code",
   "execution_count": 12,
   "metadata": {},
   "outputs": [
    {
     "ename": "OSError",
     "evalue": "[Errno 2] No such file or directory: '/nrnb/users/btsui/Data/all_seq/tmp/'",
     "output_type": "error",
     "traceback": [
      "\u001b[0;31m---------------------------------------------------------------------------\u001b[0m",
      "\u001b[0;31mOSError\u001b[0m                                   Traceback (most recent call last)",
      "\u001b[0;32m<ipython-input-12-b359d7fdd53b>\u001b[0m in \u001b[0;36m<module>\u001b[0;34m()\u001b[0m\n\u001b[0;32m----> 1\u001b[0;31m \u001b[0mos\u001b[0m\u001b[0;34m.\u001b[0m\u001b[0mlistdir\u001b[0m\u001b[0;34m(\u001b[0m\u001b[0mtmp_dir\u001b[0m\u001b[0;34m)\u001b[0m\u001b[0;34m\u001b[0m\u001b[0m\n\u001b[0m",
      "\u001b[0;31mOSError\u001b[0m: [Errno 2] No such file or directory: '/nrnb/users/btsui/Data/all_seq/tmp/'"
     ]
    }
   ],
   "source": [
    "myL=[]\n",
    "for fname in os.listdir(tmp_dir):\n",
    "    tmpDf10=pd.read_pickle(tmp_dir+fname).astype(np.uint16)\n",
    "    myL.append(tmpDf10)\n",
    "mergedDf=pd.concat(myL,axis=1)\n",
    "\n",
    "mergedDf.columns=mergedDf.columns.str.replace('_per_fa_record_stat\\.txt\\.gz','')"
   ]
  },
  {
   "cell_type": "code",
   "execution_count": null,
   "metadata": {
    "collapsed": true
   },
   "outputs": [],
   "source": [
    "#Chunks=np.arange(0, len(toRunSrrs),chunkSize)\n"
   ]
  },
  {
   "cell_type": "code",
   "execution_count": 5,
   "metadata": {},
   "outputs": [
    {
     "data": {
      "text/plain": [
       "\"full_meta_df=pd.read_csv(full_meta_dir)\\n\\n#inSrrDir='/cellar/users/btsui/Project/METAMAP/notebook/RapMapTest/XGS_WGS/'\\n#existingMergedDf=pd.read_pickle(outMergedDir)\\n\\nmySpecieDf=full_meta_df[full_meta_df['ScientificName']==mySpecie]\\n\""
      ]
     },
     "execution_count": 5,
     "metadata": {},
     "output_type": "execute_result"
    }
   ],
   "source": [
    "\"\"\"full_meta_df=pd.read_csv(full_meta_dir)\n",
    "\n",
    "#inSrrDir='/cellar/users/btsui/Project/METAMAP/notebook/RapMapTest/XGS_WGS/'\n",
    "#existingMergedDf=pd.read_pickle(outMergedDir)\n",
    "\n",
    "mySpecieDf=full_meta_df[full_meta_df['ScientificName']==mySpecie]\n",
    "\"\"\""
   ]
  },
  {
   "cell_type": "code",
   "execution_count": null,
   "metadata": {
    "collapsed": true
   },
   "outputs": [],
   "source": [
    "### get the read counts for just the non chromosomal ones. "
   ]
  }
 ],
 "metadata": {
  "kernelspec": {
   "display_name": "Python 2",
   "language": "python",
   "name": "python2"
  },
  "language_info": {
   "codemirror_mode": {
    "name": "ipython",
    "version": 2
   },
   "file_extension": ".py",
   "mimetype": "text/x-python",
   "name": "python",
   "nbconvert_exporter": "python",
   "pygments_lexer": "ipython2",
   "version": "2.7.14"
  }
 },
 "nbformat": 4,
 "nbformat_minor": 2
}
