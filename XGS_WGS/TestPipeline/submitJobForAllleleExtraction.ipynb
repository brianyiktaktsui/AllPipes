{
 "cells": [
  {
   "cell_type": "code",
   "execution_count": 31,
   "metadata": {},
   "outputs": [],
   "source": [
    "import os"
   ]
  },
  {
   "cell_type": "code",
   "execution_count": 35,
   "metadata": {},
   "outputs": [],
   "source": [
    "snp_out_dir='/nrnb/users/btsui/Data/tcga_extracted_lgg_snp/'"
   ]
  },
  {
   "cell_type": "code",
   "execution_count": 38,
   "metadata": {},
   "outputs": [],
   "source": [
    "processedFileS=pd.Series(os.listdir(snp_out_dir))"
   ]
  },
  {
   "cell_type": "code",
   "execution_count": 42,
   "metadata": {},
   "outputs": [
    {
     "data": {
      "text/plain": [
       "1523"
      ]
     },
     "execution_count": 42,
     "metadata": {},
     "output_type": "execute_result"
    }
   ],
   "source": [
    "len(processedFileS)"
   ]
  },
  {
   "cell_type": "code",
   "execution_count": 32,
   "metadata": {},
   "outputs": [
    {
     "name": "stdout",
     "output_type": "stream",
     "text": [
      "n of files for processing: 1575\n"
     ]
    }
   ],
   "source": [
    "#''\n",
    "\n",
    "manifest_dir='/cellar/users/btsui/Project/METAMAP/notebook/RapMapTest/XGS_WGS/./tcga_lgg_wgs_bams.df.wxs_rnaseq.pickle'\n",
    "\n",
    "import pandas as pd\n",
    "\n",
    "n=pd.read_pickle(manifest_dir).shape[0]\n",
    "print ('n of files for processing:',n)\n"
   ]
  },
  {
   "cell_type": "code",
   "execution_count": 33,
   "metadata": {},
   "outputs": [],
   "source": [
    "#!qstat"
   ]
  },
  {
   "cell_type": "code",
   "execution_count": 16,
   "metadata": {},
   "outputs": [],
   "source": [
    "#!rm /cellar/users/btsui/Data/tcgaOut/*\n"
   ]
  },
  {
   "cell_type": "code",
   "execution_count": 17,
   "metadata": {
    "scrolled": true
   },
   "outputs": [
    {
     "data": {
      "text/plain": [
       "0"
      ]
     },
     "execution_count": 17,
     "metadata": {},
     "output_type": "execute_result"
    }
   ],
   "source": [
    "os.system('qsub -t 1-{} ./align_tcga_snp_target.sh'.format(n))"
   ]
  },
  {
   "cell_type": "code",
   "execution_count": 27,
   "metadata": {},
   "outputs": [],
   "source": [
    "#!qdel align_tcga_snp_target.sh"
   ]
  },
  {
   "cell_type": "code",
   "execution_count": 19,
   "metadata": {},
   "outputs": [],
   "source": [
    "#!qstat -u btsui"
   ]
  },
  {
   "cell_type": "markdown",
   "metadata": {},
   "source": [
    "depend on only the following script "
   ]
  },
  {
   "cell_type": "code",
   "execution_count": 6,
   "metadata": {
    "scrolled": false
   },
   "outputs": [
    {
     "name": "stdout",
     "output_type": "stream",
     "text": [
      "#! /bin/bash\r\n",
      "# Which shell to use\r\n",
      "#$ -S /bin/bash\r\n",
      "# Transfer all variables to job script (e.g. PATH, LD_LIBRARY_PATH, etc.)\r\n",
      "#$ -V\r\n",
      "# Queue to schedule jobs to\r\n",
      "#$ -l h_rt=8:00:00\r\n",
      "## -l u14\r\n",
      "#$ -l h_vmem=1g\r\n",
      "#$ -l long\r\n",
      "#$ -l tmpfree=2T\r\n",
      "#$ -l h=!(nrnb-5-0|nrnb-5-1|nrnb-5-2|nrnb-5-3|nrnb-5-4|nrnb-5-5|nrnb-5-6)\r\n",
      "# Directory to send stdout and stderr\r\n",
      "## -o /dev/null\r\n",
      "## -e /dev/null\r\n",
      "#$ -o /cellar/users/btsui/Data/tcgaOut/\r\n",
      "#$ -e /cellar/users/btsui/Data/tcgaOut/\r\n",
      "# Run in current working directory\r\n",
      "#$ -cwd\r\n",
      "# Array job 14175\r\n",
      "#$ -t 1-100\r\n",
      "## -p -0\r\n",
      "#$ -r y\r\n",
      "#$ -tc 20\r\n",
      "#$ -pe smp 8\r\n",
      "#SRR_FTP=\"/cellar/users/btsui/Data/SRA/META/processing.srr\"\r\n",
      "hostname\r\n",
      "/cellar/users/btsui/anaconda3/bin/python ~/Project/METAMAP/notebook/RapMapTest/XGS_WGS/TestPipeline/extract_allele_all_targetted_ref.py $SGE_TASK_ID\r\n"
     ]
    }
   ],
   "source": [
    "!cat align_tcga_snp_target.sh"
   ]
  },
  {
   "cell_type": "code",
   "execution_count": 7,
   "metadata": {},
   "outputs": [],
   "source": [
    "manifest_dir='/cellar/users/btsui/Project/METAMAP/notebook/RapMapTest/XGS_WGS/./tcga_lgg_wgs_bams.df.pickle'"
   ]
  },
  {
   "cell_type": "code",
   "execution_count": 9,
   "metadata": {},
   "outputs": [
    {
     "data": {
      "text/plain": [
       "BAM    1045\n",
       "Name: data_format, dtype: int64"
      ]
     },
     "execution_count": 9,
     "metadata": {},
     "output_type": "execute_result"
    }
   ],
   "source": [
    "pd.read_pickle(manifest_dir)['data_format'].value_counts()"
   ]
  },
  {
   "cell_type": "code",
   "execution_count": 14,
   "metadata": {},
   "outputs": [],
   "source": [
    "#!/cellar/users/btsui/anaconda3/bin/python ~/Project/METAMAP/notebook/RapMapTest/XGS_WGS/TestPipeline/extract_allele_all_targetted_ref.py 10"
   ]
  },
  {
   "cell_type": "code",
   "execution_count": 55,
   "metadata": {},
   "outputs": [],
   "source": [
    "#!qstat -j align_tcga_snp_target.sh"
   ]
  },
  {
   "cell_type": "code",
   "execution_count": 51,
   "metadata": {},
   "outputs": [
    {
     "name": "stdout",
     "output_type": "stream",
     "text": [
      "modified parallel environment of job 408940\r\n",
      "modified slot range of job 408940\r\n"
     ]
    }
   ],
   "source": [
    "#1.17G memory\n",
    "!qalter align_tcga_snp_target.sh -pe smp 4 "
   ]
  },
  {
   "cell_type": "code",
   "execution_count": 54,
   "metadata": {},
   "outputs": [
    {
     "name": "stdout",
     "output_type": "stream",
     "text": [
      "modified parallel environment of job 408940\r\n",
      "modified slot range of job 408940\r\n"
     ]
    }
   ],
   "source": [
    "!qalter align_tcga_snp_target.sh  -pe smp 2"
   ]
  },
  {
   "cell_type": "code",
   "execution_count": 12,
   "metadata": {},
   "outputs": [],
   "source": [
    "#!qalter align_tcga_snp_target.sh  -pe smp 2"
   ]
  },
  {
   "cell_type": "code",
   "execution_count": 30,
   "metadata": {},
   "outputs": [
    {
     "name": "stdout",
     "output_type": "stream",
     "text": [
      "total 9.2G\r\n",
      "-rw-r--r--  1 btsui users 5.2M Jul 19 08:58 37d2a30b-14b9-4846-81df-c254765bdacd.snp.txt.gz\r\n",
      "drwxr-xr-x  2 btsui users 128K Jul 19 08:58 .\r\n",
      "-rw-r--r--  1 btsui users 5.0M Jul 19 08:58 5aff639e-6963-4bc3-8891-c7299baf39a4.snp.txt.gz\r\n",
      "-rw-r--r--  1 btsui users 5.5M Jul 19 08:58 7c095edb-8ba8-45cc-a320-d51906495bc9.snp.txt.gz\r\n",
      "-rw-r--r--  1 btsui users 5.9M Jul 19 08:57 d7df37ac-d0d6-478a-93e7-e99136c3b357.snp.txt.gz\r\n",
      "-rw-r--r--  1 btsui users 4.8M Jul 19 08:56 b9bc4c25-df56-426f-ad8a-4717ad301394.snp.txt.gz\r\n",
      "-rw-r--r--  1 btsui users 5.4M Jul 19 08:49 c59ef5df-1ccd-4a99-a135-5df6edc5ca8b.snp.txt.gz\r\n",
      "-rw-r--r--  1 btsui users 5.3M Jul 19 08:47 8ea2181b-3cfd-4d3b-a2d2-73fb4d3fc2f1.snp.txt.gz\r\n",
      "-rw-r--r--  1 btsui users 4.3M Jul 19 08:47 ef84ab28-7064-4800-8312-8e517968daf9.snp.txt.gz\r\n",
      "ls: write error: Broken pipe\r\n"
     ]
    }
   ],
   "source": [
    "!ls -lath /nrnb/users/btsui/Data/tcga_extracted_lgg_snp/ | head"
   ]
  },
  {
   "cell_type": "code",
   "execution_count": 34,
   "metadata": {},
   "outputs": [
    {
     "name": "stdout",
     "output_type": "stream",
     "text": [
      "import pandas as pd\r\n",
      "import sys\r\n",
      "import os\r\n",
      "import time\r\n",
      "\r\n",
      "#i=0\r\n",
      "i=int(sys.argv[1])-1\r\n",
      "#\r\n",
      "manifest_dir='/cellar/users/btsui/Project/METAMAP/notebook/RapMapTest/XGS_WGS/./tcga_lgg_wgs_bams.df.wxs_rnaseq.pickle'\r\n",
      "token_dir='/cellar/users/ramarty/tokens/secret_token.visible.txt'\r\n",
      "bam_read_count_dir='/cellar/users/btsui/Program/bam_read_count/bam-readcount-master/bin/bam-readcount'\r\n",
      "\r\n",
      "gdc_cmd_fmt='gdc-client download -t {token_dir} -d {out_dir} {file_uuid}'\r\n",
      "out_dir='/nrnb/users/btsui/Data/tcga_raw_lgg/'\r\n",
      "snp_out_dir='/nrnb/users/btsui/Data/tcga_extracted_lgg_snp/'\r\n",
      "\r\n",
      "manifest_df=pd.read_pickle(manifest_dir)\r\n",
      "manifest_S=manifest_df.iloc[i]\r\n",
      "\r\n",
      "file_uuid=manifest_S['file_id']\r\n",
      "print ('UUID: ',file_uuid)\r\n",
      "\r\n",
      "gdc_cmd=gdc_cmd_fmt.format(out_dir=out_dir,file_uuid=file_uuid,token_dir=token_dir)\r\n",
      "\r\n",
      "result = os.system(gdc_cmd)\r\n",
      "### pipe the data\r\n",
      "tmpDir=out_dir+file_uuid+'/'\r\n",
      "os.chdir(tmpDir)\r\n",
      "\r\n",
      "os.system('rm fastq_pipe')\r\n",
      "\r\n",
      "os.system('mkfifo fastq_pipe')\r\n",
      "os.system('bamToFastq -i {} -fq fastq_pipe &'.format(manifest_S['file_name']))\r\n",
      "\r\n",
      "### align using bowtie2\r\n",
      "\r\n",
      "\r\n",
      "#os.system('align using bowtie2 ')\r\n",
      "#/cellar/users/btsui/Data/BOWTIE2_GENOME_INDEX/\r\n",
      "#/cellar/users/btsui/Data/BOWTIE_GENOME_SNP_INDEX/\r\n",
      "#other bases \r\n",
      "baseGenomesDir='/cellar/users/btsui/Data/BOWTIE_GENOME_SNP_INDEX/'\r\n",
      "specie='Homo_sapiens'\r\n",
      "genomeDir=baseGenomesDir+'/'+specie+'/bowtie2'\r\n",
      "cmd_algn='bowtie2 --local -x {ref} -U fastq_pipe --no-unal --threads 2 | samtools view -bS - -o unalgn.bam '.format(ref=genomeDir)\r\n",
      "\r\n",
      "#align\r\n",
      "t0 = time.time()\r\n",
      "os.system(cmd_algn)\r\n",
      "t1 = time.time()\r\n",
      "total = t1-t0\r\n",
      "print ('time for alignment:'+str(total))\r\n",
      "\r\n",
      "#sort\r\n",
      "t0 = time.time()\r\n",
      "#samtools sort -T /tmp/aln.sorted -o aln.sorted.bam aln.bam\r\n",
      "\r\n",
      "\r\n",
      "#os.system('samtools sort unalgn.bam -o sorted.bam')\r\n",
      "os.system('samtools sort -T ./ -o sorted.bam unalgn.bam')\r\n",
      "\r\n",
      "os.system('samtools index sorted.bam')\r\n",
      "\r\n",
      "t1 = time.time()\r\n",
      "total = t1-t0\r\n",
      "print ('time for sorting:'+str(total))\r\n",
      "\r\n",
      "snpBed='/cellar/users/btsui/Data/dbsnp/snp_beds/'+specie+'.bed'\r\n",
      "fa_dir='/cellar/users/btsui/Data/ensembl/snp_masked/'+specie+'.microbe.fa'\r\n",
      "\r\n",
      "####count allelic read count\r\n",
      "cmd_bam_read_count=bam_read_count_dir+' -l '+snpBed+' -f {} {} |gzip > snp.txt.gz'.format(fa_dir,'sorted.bam')\r\n",
      "\r\n",
      "os.system(cmd_bam_read_count)\r\n",
      "os.system('cp snp.txt.gz '+snp_out_dir+file_uuid+'.snp.txt.gz')\r\n",
      "\r\n",
      "os.system('ls -lath')\r\n",
      "os.system('rm -r '+tmpDir)\r\n",
      "#!ls -lath\r\n",
      "\r\n",
      "\r\n",
      "\"\"\"\r\n",
      "cmd_algn='bowtie2 --local -x {ref} -U fastq_pipe --no-unal --threads 8 | samtools view -bS - | samtools sort -  sorted.bam  2>bowtie_log.txt'.format(ref=genomeDir)\r\n",
      "\"\"\"\r\n"
     ]
    }
   ],
   "source": [
    "!cat ./extract_allele_all_targetted_ref.py"
   ]
  },
  {
   "cell_type": "code",
   "execution_count": 40,
   "metadata": {},
   "outputs": [
    {
     "name": "stdout",
     "output_type": "stream",
     "text": [
      "align_tcga.py\t\t\t     submitJobsForTiming.ipynb\r\n",
      "align_tcga_snp_target.sh\t     tcga_extract_read_count.py\r\n",
      "extract_allele_all_targetted_ref.py  test.sh\r\n",
      "submitJobForAllleleExtraction.ipynb\r\n"
     ]
    }
   ],
   "source": [
    "!ls"
   ]
  },
  {
   "cell_type": "code",
   "execution_count": 65,
   "metadata": {},
   "outputs": [],
   "source": [
    "#!df -h "
   ]
  },
  {
   "cell_type": "code",
   "execution_count": 25,
   "metadata": {},
   "outputs": [
    {
     "name": "stdout",
     "output_type": "stream",
     "text": [
      "total 7.4G\r\n",
      "-rw-r--r--  1 btsui users 3.7M Jul 18 17:48 1985b367-00c4-4c25-b049-5858e937cc6d.snp.txt.gz\r\n",
      "drwxr-xr-x 15 btsui users 128K Jul 18 14:58 ..\r\n",
      "drwxr-xr-x  2 btsui users 128K Jul 18 14:54 .\r\n",
      "-rw-r--r--  1 btsui users   20 Jul 18 14:50 06c8a70b-3f0c-42bc-875a-f3e13c887a73.snp.txt.gz\r\n",
      "-rw-r--r--  1 btsui users   20 Jul 18 14:50 b2bd014e-44fe-4d24-9b75-91baf36b3c0a.snp.txt.gz\r\n",
      "-rw-r--r--  1 btsui users   20 Jul 18 14:50 eda26d7b-0725-46c4-9264-bcdf94dc163d.snp.txt.gz\r\n",
      "-rw-r--r--  1 btsui users   20 Jul 18 14:50 37589627-0b38-41b0-b7a3-d2dd1f343550.snp.txt.gz\r\n",
      "-rw-r--r--  1 btsui users   20 Jul 18 14:50 dcbaf670-8100-4c98-bd4d-2880a5805f23.snp.txt.gz\r\n",
      "-rw-r--r--  1 btsui users   20 Jul 18 14:50 aeebf360-49c4-4db3-bdf4-daffdc5279cc.snp.txt.gz\r\n",
      "ls: write error: Broken pipe\r\n"
     ]
    }
   ],
   "source": [
    "!ls -lath /nrnb/users/btsui/Data/tcga_extracted_lgg_snp/ | head"
   ]
  },
  {
   "cell_type": "code",
   "execution_count": null,
   "metadata": {},
   "outputs": [],
   "source": []
  }
 ],
 "metadata": {
  "kernelspec": {
   "display_name": "Python 3",
   "language": "python",
   "name": "python3"
  },
  "language_info": {
   "codemirror_mode": {
    "name": "ipython",
    "version": 3
   },
   "file_extension": ".py",
   "mimetype": "text/x-python",
   "name": "python",
   "nbconvert_exporter": "python",
   "pygments_lexer": "ipython3",
   "version": "3.6.5"
  }
 },
 "nbformat": 4,
 "nbformat_minor": 2
}
