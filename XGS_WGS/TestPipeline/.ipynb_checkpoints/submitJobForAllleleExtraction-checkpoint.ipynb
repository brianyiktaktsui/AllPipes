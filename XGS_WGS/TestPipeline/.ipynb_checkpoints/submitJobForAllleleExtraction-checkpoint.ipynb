{
 "cells": [
  {
   "cell_type": "code",
   "execution_count": 13,
   "metadata": {},
   "outputs": [],
   "source": [
    "import os"
   ]
  },
  {
   "cell_type": "code",
   "execution_count": 14,
   "metadata": {},
   "outputs": [
    {
     "name": "stdout",
     "output_type": "stream",
     "text": [
      "n of files for processing: 530\n"
     ]
    }
   ],
   "source": [
    "#''\n",
    "\n",
    "manifest_dir='/cellar/users/btsui/Project/METAMAP/notebook/RapMapTest/XGS_WGS/./tcga_lgg_wgs_bams.df.wxs_rnaseq.pickle'\n",
    "\n",
    "import pandas as pd\n",
    "\n",
    "n=pd.read_pickle(manifest_dir).shape[0]\n",
    "print ('n of files for processing:',n)\n"
   ]
  },
  {
   "cell_type": "code",
   "execution_count": 29,
   "metadata": {},
   "outputs": [
    {
     "name": "stdout",
     "output_type": "stream",
     "text": [
      "job-ID  prior   name       user         state submit/start at     queue                          slots ja-task-ID \r\n",
      "-----------------------------------------------------------------------------------------------------------------\r\n",
      " 410521 14.95117 QLOGIN     bpmunson     r     07/17/2018 09:34:37 all.q@nrnb-3-2.ucsd.edu            1        \r\n",
      " 410564 4.96313 align_tcga btsui        r     07/17/2018 16:47:21 long.q@nrnb-3-0.ucsd.edu           1 84\r\n",
      " 410564 4.96313 align_tcga btsui        r     07/18/2018 08:56:33 long.q@nrnb-3-1.ucsd.edu           1 318\r\n",
      " 410564 4.96313 align_tcga btsui        r     07/18/2018 09:28:18 long.q@nrnb-2-3.ucsd.edu           1 322\r\n",
      " 410564 4.96313 align_tcga btsui        r     07/18/2018 10:09:01 long.q@nrnb-2-6.ucsd.edu           1 332\r\n",
      " 410564 4.96313 align_tcga btsui        r     07/18/2018 10:23:31 long.q@nrnb-3-1.ucsd.edu           1 339\r\n",
      " 410564 4.96313 align_tcga btsui        r     07/18/2018 10:30:31 long.q@nrnb-2-3.ucsd.edu           1 343\r\n",
      " 410565 4.96313 run_pypres andreabc     r     07/18/2018 08:54:48 long.q@nrnb-4-1.ucsd.edu           1 400\r\n",
      " 410565 4.96313 run_pypres andreabc     r     07/18/2018 23:48:42 long.q@nrnb-5-4.ucsd.edu           1 719\r\n",
      " 410565 4.96313 run_pypres andreabc     r     07/19/2018 00:54:42 long.q@nrnb-5-0.ucsd.edu           1 754\r\n",
      " 410565 4.96313 run_pypres andreabc     r     07/19/2018 01:05:12 long.q@nrnb-3-4.ucsd.edu           1 760\r\n",
      " 410565 4.96313 run_pypres andreabc     r     07/19/2018 01:25:12 long.q@nrnb-4-1.ucsd.edu           1 771\r\n",
      " 410565 4.96313 run_pypres andreabc     r     07/19/2018 03:01:27 long.q@nrnb-5-1.ucsd.edu           1 810\r\n",
      " 410565 4.96313 run_pypres andreabc     r     07/19/2018 05:14:12 long.q@nrnb-2-4.ucsd.edu           1 861\r\n",
      " 410565 4.96313 run_pypres andreabc     r     07/19/2018 05:46:27 long.q@nrnb-5-4.ucsd.edu           1 879\r\n",
      " 410565 4.96313 run_pypres andreabc     r     07/19/2018 07:15:57 long.q@nrnb-5-3.ucsd.edu           1 918\r\n",
      " 410565 4.96313 run_pypres andreabc     r     07/19/2018 07:17:12 long.q@nrnb-5-4.ucsd.edu           1 919\r\n",
      " 410565 4.96313 run_pypres andreabc     r     07/19/2018 07:18:42 long.q@nrnb-5-4.ucsd.edu           1 925\r\n",
      " 410565 4.96313 run_pypres andreabc     r     07/19/2018 07:28:57 long.q@nrnb-5-0.ucsd.edu           1 930\r\n",
      " 410565 4.96313 run_pypres andreabc     r     07/19/2018 07:32:42 long.q@nrnb-5-0.ucsd.edu           1 932\r\n",
      " 410565 4.96313 run_pypres andreabc     r     07/19/2018 07:36:12 long.q@nrnb-5-5.ucsd.edu           1 936\r\n",
      " 410565 4.96313 run_pypres andreabc     r     07/19/2018 08:01:57 long.q@nrnb-1-7.ucsd.edu           1 947\r\n",
      " 410565 4.96313 run_pypres andreabc     r     07/19/2018 08:07:27 long.q@nrnb-3-1.ucsd.edu           1 949\r\n",
      " 410565 4.96313 run_pypres andreabc     r     07/19/2018 08:10:27 long.q@nrnb-3-1.ucsd.edu           1 950\r\n",
      " 410565 4.96313 run_pypres andreabc     r     07/19/2018 08:10:57 long.q@nrnb-1-4.ucsd.edu           1 952\r\n",
      " 410565 4.96313 run_pypres andreabc     r     07/19/2018 08:16:27 long.q@nrnb-1-5.ucsd.edu           1 955\r\n",
      " 410565 4.96313 run_pypres andreabc     r     07/19/2018 08:16:42 long.q@nrnb-3-1.ucsd.edu           1 956\r\n",
      " 410565 4.96313 run_pypres andreabc     r     07/19/2018 08:19:12 long.q@nrnb-5-0.ucsd.edu           1 960\r\n",
      " 410565 4.96313 run_pypres andreabc     r     07/19/2018 08:19:12 long.q@nrnb-5-0.ucsd.edu           1 961\r\n",
      " 410565 4.96313 run_pypres andreabc     r     07/19/2018 08:21:42 long.q@nrnb-5-3.ucsd.edu           1 962\r\n",
      " 410565 4.96313 run_pypres andreabc     r     07/19/2018 08:26:42 long.q@nrnb-5-2.ucsd.edu           1 963\r\n",
      " 410565 4.96313 run_pypres andreabc     r     07/19/2018 08:28:27 long.q@nrnb-3-5.ucsd.edu           1 964\r\n",
      " 410565 4.96313 run_pypres andreabc     r     07/19/2018 08:31:12 long.q@nrnb-5-4.ucsd.edu           1 965\r\n",
      " 410565 4.96313 run_pypres andreabc     r     07/19/2018 08:34:57 long.q@nrnb-5-4.ucsd.edu           1 966\r\n",
      " 410565 4.96313 run_pypres andreabc     r     07/19/2018 08:38:42 long.q@nrnb-5-3.ucsd.edu           1 967\r\n",
      " 410565 4.96313 run_pypres andreabc     r     07/19/2018 08:39:27 long.q@nrnb-5-3.ucsd.edu           1 968\r\n",
      " 410565 4.96313 run_pypres andreabc     r     07/19/2018 08:39:57 long.q@nrnb-5-3.ucsd.edu           1 969\r\n",
      " 410565 4.96313 run_pypres andreabc     r     07/19/2018 08:40:12 long.q@nrnb-5-3.ucsd.edu           1 970\r\n",
      " 410565 4.96313 run_pypres andreabc     r     07/19/2018 08:41:27 long.q@nrnb-3-5.ucsd.edu           1 971\r\n",
      " 410565 4.96313 run_pypres andreabc     r     07/19/2018 08:46:27 long.q@nrnb-5-3.ucsd.edu           1 972\r\n",
      " 410565 4.96313 run_pypres andreabc     r     07/19/2018 08:50:42 long.q@nrnb-2-3.ucsd.edu           1 973\r\n",
      " 410565 4.96313 run_pypres andreabc     r     07/19/2018 08:50:57 long.q@nrnb-1-6.ucsd.edu           1 974\r\n",
      " 410565 4.96313 run_pypres andreabc     r     07/19/2018 08:52:12 long.q@nrnb-3-0.ucsd.edu           1 975\r\n",
      " 410565 4.96313 run_pypres andreabc     r     07/19/2018 08:54:57 long.q@nrnb-2-5.ucsd.edu           1 976\r\n",
      " 410565 4.96313 run_pypres andreabc     r     07/19/2018 08:55:57 long.q@nrnb-3-6.ucsd.edu           1 977\r\n",
      " 410565 4.96313 run_pypres andreabc     r     07/19/2018 08:56:42 long.q@nrnb-4-1.ucsd.edu           1 978\r\n",
      " 410565 4.95831 run_pypres andreabc     r     07/19/2018 08:58:42 long.q@nrnb-4-3.ucsd.edu           1 979\r\n",
      " 410678 5.11196 QLOGIN     btsui        r     07/18/2018 14:43:12 all.q@nrnb-4-5.ucsd.edu           32        \r\n",
      " 410687 4.96313 align_tcga btsui        r     07/19/2018 02:43:27 long.q@nrnb-1-7.ucsd.edu           1 307\r\n",
      " 410687 4.96313 align_tcga btsui        r     07/19/2018 03:03:27 long.q@nrnb-3-0.ucsd.edu           1 321\r\n",
      " 410687 4.96313 align_tcga btsui        r     07/19/2018 03:11:27 long.q@nrnb-3-2.ucsd.edu           1 322\r\n",
      " 410687 4.96313 align_tcga btsui        r     07/19/2018 03:31:57 long.q@nrnb-3-7.ucsd.edu           1 335\r\n",
      " 410687 4.96313 align_tcga btsui        r     07/19/2018 03:48:27 long.q@nrnb-1-1                    1 345\r\n",
      " 410687 4.96313 align_tcga btsui        r     07/19/2018 03:48:57 long.q@nrnb-1-1                    1 346\r\n",
      " 410687 4.96313 align_tcga btsui        r     07/19/2018 04:21:12 long.q@nrnb-2-4.ucsd.edu           1 359\r\n",
      " 410687 4.96313 align_tcga btsui        r     07/19/2018 04:27:42 long.q@nrnb-2-5.ucsd.edu           1 361\r\n",
      " 410687 4.96313 align_tcga btsui        r     07/19/2018 04:38:42 long.q@nrnb-2-4.ucsd.edu           1 366\r\n",
      " 410687 4.96313 align_tcga btsui        r     07/19/2018 05:12:57 long.q@nrnb-1-6.ucsd.edu           1 376\r\n",
      " 410687 4.96313 align_tcga btsui        r     07/19/2018 05:24:42 long.q@nrnb-4-3.ucsd.edu           1 379\r\n",
      " 410687 4.96313 align_tcga btsui        r     07/19/2018 05:36:12 long.q@nrnb-2-1.ucsd.edu           1 382\r\n",
      " 410687 4.96313 align_tcga btsui        r     07/19/2018 05:38:42 long.q@nrnb-1-1                    1 383\r\n",
      " 410687 4.96313 align_tcga btsui        r     07/19/2018 05:42:57 long.q@nrnb-1-1                    1 384\r\n",
      " 410687 4.96313 align_tcga btsui        r     07/19/2018 05:49:27 long.q@nrnb-2-0.ucsd.edu           1 386\r\n",
      " 410687 4.96313 align_tcga btsui        r     07/19/2018 05:50:42 long.q@nrnb-2-1.ucsd.edu           1 387\r\n",
      " 410687 4.96313 align_tcga btsui        r     07/19/2018 05:51:57 long.q@nrnb-2-6.ucsd.edu           1 388\r\n",
      " 410687 4.96313 align_tcga btsui        r     07/19/2018 05:57:57 long.q@nrnb-2-1.ucsd.edu           1 389\r\n",
      " 410687 4.96313 align_tcga btsui        r     07/19/2018 06:00:57 long.q@nrnb-1-4.ucsd.edu           1 391\r\n",
      " 410687 4.96313 align_tcga btsui        r     07/19/2018 06:02:12 long.q@nrnb-4-0.ucsd.edu           1 392\r\n",
      " 410687 4.96313 align_tcga btsui        r     07/19/2018 06:02:57 long.q@nrnb-2-5.ucsd.edu           1 393\r\n",
      " 410687 4.96313 align_tcga btsui        r     07/19/2018 06:06:12 long.q@nrnb-2-2.ucsd.edu           1 394\r\n",
      " 410687 4.96313 align_tcga btsui        r     07/19/2018 06:06:57 long.q@nrnb-1-5.ucsd.edu           1 395\r\n",
      " 410687 4.96313 align_tcga btsui        r     07/19/2018 06:08:27 long.q@nrnb-1-3                    1 396\r\n",
      " 410687 4.96313 align_tcga btsui        r     07/19/2018 06:08:57 long.q@nrnb-1-3                    1 397\r\n",
      " 410687 4.96313 align_tcga btsui        r     07/19/2018 06:09:12 long.q@nrnb-1-5.ucsd.edu           1 398\r\n",
      " 410687 4.96313 align_tcga btsui        r     07/19/2018 06:13:12 long.q@nrnb-1-7.ucsd.edu           1 399\r\n",
      " 410687 4.96313 align_tcga btsui        r     07/19/2018 06:14:57 long.q@nrnb-2-7.ucsd.edu           1 400\r\n",
      " 410687 4.96313 align_tcga btsui        r     07/19/2018 06:14:57 long.q@nrnb-2-7.ucsd.edu           1 401\r\n",
      " 410687 4.96313 align_tcga btsui        r     07/19/2018 06:16:27 long.q@nrnb-2-7.ucsd.edu           1 402\r\n",
      " 410687 4.96313 align_tcga btsui        r     07/19/2018 06:19:27 long.q@nrnb-1-3                    1 403\r\n",
      " 410687 4.96313 align_tcga btsui        r     07/19/2018 06:21:57 long.q@nrnb-1-3                    1 404\r\n",
      " 410687 4.96313 align_tcga btsui        r     07/19/2018 06:24:42 long.q@nrnb-1-7.ucsd.edu           1 405\r\n",
      " 410687 4.96313 align_tcga btsui        r     07/19/2018 06:28:12 long.q@nrnb-3-2.ucsd.edu           1 406\r\n",
      " 410687 4.96313 align_tcga btsui        r     07/19/2018 06:29:57 long.q@nrnb-1-3                    1 407\r\n",
      " 410687 4.96313 align_tcga btsui        r     07/19/2018 06:30:12 long.q@nrnb-1-3                    1 408\r\n",
      " 410687 4.96313 align_tcga btsui        r     07/19/2018 06:32:57 long.q@nrnb-2-4.ucsd.edu           1 409\r\n",
      " 410687 4.96313 align_tcga btsui        r     07/19/2018 06:34:12 long.q@nrnb-3-2.ucsd.edu           1 410\r\n",
      " 410687 4.96313 align_tcga btsui        r     07/19/2018 06:36:12 long.q@nrnb-3-2.ucsd.edu           1 411\r\n",
      " 410687 4.96313 align_tcga btsui        r     07/19/2018 06:36:42 long.q@nrnb-1-6.ucsd.edu           1 412\r\n",
      " 410687 4.96313 align_tcga btsui        r     07/19/2018 06:37:12 long.q@nrnb-2-4.ucsd.edu           1 413\r\n",
      " 410687 4.96313 align_tcga btsui        r     07/19/2018 06:37:57 long.q@nrnb-2-4.ucsd.edu           1 414\r\n",
      " 410687 4.96313 align_tcga btsui        r     07/19/2018 06:38:57 long.q@nrnb-2-7.ucsd.edu           1 415\r\n",
      " 410687 4.96313 align_tcga btsui        r     07/19/2018 06:39:12 long.q@nrnb-3-6.ucsd.edu           1 416\r\n",
      " 410687 4.96313 align_tcga btsui        r     07/19/2018 06:42:12 long.q@nrnb-2-3.ucsd.edu           1 417\r\n",
      " 410687 4.96313 align_tcga btsui        r     07/19/2018 06:44:42 long.q@nrnb-3-3.ucsd.edu           1 418\r\n",
      " 410687 4.96313 align_tcga btsui        r     07/19/2018 06:45:42 long.q@nrnb-1-6.ucsd.edu           1 419\r\n",
      " 410687 4.96313 align_tcga btsui        r     07/19/2018 06:49:57 long.q@nrnb-3-5.ucsd.edu           1 420\r\n",
      " 410687 4.96313 align_tcga btsui        r     07/19/2018 06:55:12 long.q@nrnb-3-5.ucsd.edu           1 421\r\n",
      " 410687 4.96313 align_tcga btsui        r     07/19/2018 07:01:12 long.q@nrnb-1-4.ucsd.edu           1 422\r\n",
      " 410687 4.96313 align_tcga btsui        r     07/19/2018 07:01:42 long.q@nrnb-1-4.ucsd.edu           1 423\r\n",
      " 410687 4.96313 align_tcga btsui        r     07/19/2018 07:06:27 long.q@nrnb-3-7.ucsd.edu           1 424\r\n",
      " 410687 4.96313 align_tcga btsui        r     07/19/2018 07:06:42 long.q@nrnb-1-2                    1 425\r\n",
      " 410687 4.96313 align_tcga btsui        r     07/19/2018 07:07:42 long.q@nrnb-3-7.ucsd.edu           1 426\r\n",
      " 410687 4.96313 align_tcga btsui        r     07/19/2018 07:09:42 long.q@nrnb-1-2                    1 427\r\n",
      " 410687 4.96313 align_tcga btsui        r     07/19/2018 07:10:27 long.q@nrnb-1-2                    1 428\r\n",
      " 410687 4.96313 align_tcga btsui        r     07/19/2018 07:12:12 long.q@nrnb-4-3.ucsd.edu           1 429\r\n",
      " 410687 4.96313 align_tcga btsui        r     07/19/2018 07:12:12 long.q@nrnb-2-0.ucsd.edu           1 430\r\n",
      " 410687 4.96313 align_tcga btsui        r     07/19/2018 07:12:27 long.q@nrnb-4-3.ucsd.edu           1 431\r\n",
      " 410687 4.96313 align_tcga btsui        r     07/19/2018 07:12:42 long.q@nrnb-2-0.ucsd.edu           1 432\r\n",
      " 410687 4.96313 align_tcga btsui        r     07/19/2018 07:14:42 long.q@nrnb-4-2.ucsd.edu           1 433\r\n",
      " 410687 4.96313 align_tcga btsui        r     07/19/2018 07:15:57 long.q@nrnb-1-0                    1 434\r\n",
      " 410687 4.96313 align_tcga btsui        r     07/19/2018 07:16:12 long.q@nrnb-1-0                    1 435\r\n",
      " 410687 4.96313 align_tcga btsui        r     07/19/2018 07:17:42 long.q@nrnb-4-2.ucsd.edu           1 436\r\n",
      " 410687 4.96313 align_tcga btsui        r     07/19/2018 07:18:57 long.q@nrnb-3-0.ucsd.edu           1 437\r\n",
      " 410687 4.96313 align_tcga btsui        r     07/19/2018 07:19:42 long.q@nrnb-3-6.ucsd.edu           1 438\r\n",
      " 410687 4.96313 align_tcga btsui        r     07/19/2018 07:24:57 long.q@nrnb-3-3.ucsd.edu           1 439\r\n",
      " 410687 4.96313 align_tcga btsui        r     07/19/2018 07:28:42 long.q@nrnb-3-3.ucsd.edu           1 440\r\n",
      " 410687 4.96313 align_tcga btsui        r     07/19/2018 07:32:42 long.q@nrnb-1-1                    1 441\r\n",
      " 410687 4.96313 align_tcga btsui        r     07/19/2018 07:35:12 long.q@nrnb-2-1.ucsd.edu           1 442\r\n",
      " 410687 4.96313 align_tcga btsui        r     07/19/2018 07:36:12 long.q@nrnb-2-1.ucsd.edu           1 443\r\n",
      " 410687 4.96313 align_tcga btsui        r     07/19/2018 07:37:57 long.q@nrnb-1-1                    1 444\r\n",
      " 410687 4.96313 align_tcga btsui        r     07/19/2018 07:39:27 long.q@nrnb-4-0.ucsd.edu           1 445\r\n",
      " 410687 4.96313 align_tcga btsui        r     07/19/2018 07:43:57 long.q@nrnb-2-1.ucsd.edu           1 446\r\n",
      " 410687 4.96313 align_tcga btsui        r     07/19/2018 07:44:12 long.q@nrnb-2-1.ucsd.edu           1 447\r\n",
      " 410687 4.96313 align_tcga btsui        r     07/19/2018 07:45:57 long.q@nrnb-4-0.ucsd.edu           1 448\r\n",
      " 410687 4.96313 align_tcga btsui        r     07/19/2018 07:52:57 long.q@nrnb-4-0.ucsd.edu           1 449\r\n",
      " 410687 4.96313 align_tcga btsui        r     07/19/2018 07:56:42 long.q@nrnb-4-0.ucsd.edu           1 450\r\n",
      " 410687 4.96313 align_tcga btsui        r     07/19/2018 08:02:12 long.q@nrnb-2-2.ucsd.edu           1 451\r\n",
      " 410687 4.96313 align_tcga btsui        r     07/19/2018 08:07:42 long.q@nrnb-1-5.ucsd.edu           1 452\r\n",
      " 410687 4.96313 align_tcga btsui        r     07/19/2018 08:14:27 long.q@nrnb-2-6.ucsd.edu           1 453\r\n",
      " 410687 4.96313 align_tcga btsui        r     07/19/2018 08:16:12 long.q@nrnb-2-2.ucsd.edu           1 454\r\n",
      " 410687 4.96313 align_tcga btsui        r     07/19/2018 08:20:12 long.q@nrnb-2-2.ucsd.edu           1 455\r\n",
      " 410687 4.96313 align_tcga btsui        r     07/19/2018 08:21:42 long.q@nrnb-1-7.ucsd.edu           1 456\r\n",
      " 410687 4.96313 align_tcga btsui        r     07/19/2018 08:23:42 long.q@nrnb-1-7.ucsd.edu           1 457\r\n",
      " 410687 4.96313 align_tcga btsui        r     07/19/2018 08:23:57 long.q@nrnb-2-2.ucsd.edu           1 458\r\n",
      " 410687 4.96313 align_tcga btsui        r     07/19/2018 08:24:57 long.q@nrnb-1-7.ucsd.edu           1 459\r\n",
      " 410687 4.96313 align_tcga btsui        r     07/19/2018 08:30:57 long.q@nrnb-3-5.ucsd.edu           1 460\r\n",
      " 410687 4.96313 align_tcga btsui        r     07/19/2018 08:35:42 long.q@nrnb-1-6.ucsd.edu           1 461\r\n",
      " 410687 4.96313 align_tcga btsui        r     07/19/2018 08:38:57 long.q@nrnb-1-4.ucsd.edu           1 462\r\n",
      " 410687 4.96313 align_tcga btsui        r     07/19/2018 08:44:27 long.q@nrnb-2-3.ucsd.edu           1 463\r\n",
      " 410687 4.96313 align_tcga btsui        r     07/19/2018 08:45:12 long.q@nrnb-1-6.ucsd.edu           1 464\r\n",
      " 410687 4.96313 align_tcga btsui        r     07/19/2018 08:45:42 long.q@nrnb-1-0                    1 465\r\n",
      " 410687 4.96313 align_tcga btsui        r     07/19/2018 08:47:57 long.q@nrnb-4-1.ucsd.edu           1 466\r\n",
      " 410687 4.96313 align_tcga btsui        r     07/19/2018 08:47:57 long.q@nrnb-1-0                    1 467\r\n",
      " 410687 4.96313 align_tcga btsui        r     07/19/2018 08:49:42 long.q@nrnb-1-4.ucsd.edu           1 468\r\n",
      " 410687 4.96313 align_tcga btsui        r     07/19/2018 08:56:42 long.q@nrnb-3-6.ucsd.edu           1 469\r\n",
      " 410687 4.96313 align_tcga btsui        r     07/19/2018 08:57:27 long.q@nrnb-2-3.ucsd.edu           1 470\r\n",
      " 410687 4.95828 align_tcga btsui        r     07/19/2018 08:58:42 long.q@nrnb-2-5.ucsd.edu           1 471\r\n",
      " 410692 4.96313 yue42122.s y8qin        r     07/18/2018 17:24:05 long.q@nrnb-4-2.ucsd.edu           1        \r\n",
      " 410694 4.96313 yue42122.s y8qin        r     07/18/2018 17:24:05 long.q@nrnb-5-0.ucsd.edu           1        \r\n",
      " 410695 4.96313 yue42122.s y8qin        r     07/18/2018 17:24:05 long.q@nrnb-3-0.ucsd.edu           1        \r\n",
      " 410696 4.96313 yue42122.s y8qin        r     07/18/2018 17:24:05 long.q@nrnb-5-0.ucsd.edu           1        \r\n",
      " 410697 4.96313 yue42122.s y8qin        r     07/18/2018 17:24:05 long.q@nrnb-5-0.ucsd.edu           1        \r\n",
      " 410698 4.96313 yue42122.s y8qin        r     07/18/2018 17:24:05 long.q@nrnb-4-2.ucsd.edu           1        \r\n",
      " 410699 4.96313 yue42122.s y8qin        r     07/18/2018 17:24:05 long.q@nrnb-2-2.ucsd.edu           1        \r\n",
      " 410700 4.96313 yue42122.s y8qin        r     07/18/2018 17:24:05 long.q@nrnb-5-0.ucsd.edu           1        \r\n",
      " 410701 4.96313 yue42122.s y8qin        r     07/18/2018 17:24:05 long.q@nrnb-3-0.ucsd.edu           1        \r\n",
      " 410702 4.96313 yue42122.s y8qin        r     07/18/2018 17:24:05 long.q@nrnb-2-5.ucsd.edu           1        \r\n",
      " 410703 4.96313 yue42122.s y8qin        r     07/18/2018 17:24:05 long.q@nrnb-5-0.ucsd.edu           1        \r\n",
      " 410704 4.96313 yue42122.s y8qin        r     07/18/2018 17:24:05 long.q@nrnb-1-6.ucsd.edu           1        \r\n",
      " 410705 4.96313 yue42122.s y8qin        r     07/18/2018 17:24:05 long.q@nrnb-5-0.ucsd.edu           1        \r\n",
      " 410706 4.96313 yue42122.s y8qin        r     07/18/2018 17:24:05 long.q@nrnb-4-2.ucsd.edu           1        \r\n",
      " 410707 4.96313 yue42122.s y8qin        r     07/18/2018 17:24:05 long.q@nrnb-2-2.ucsd.edu           1        \r\n",
      " 410758 4.98571 run_polyso andreabc     r     07/19/2018 02:07:57 long.q@nrnb-1-2                    8 9698\r\n",
      " 410758 4.98571 run_polyso andreabc     r     07/19/2018 04:38:42 long.q@nrnb-4-2.ucsd.edu           8 9730\r\n",
      " 410758 4.98571 run_polyso andreabc     r     07/19/2018 04:44:42 long.q@nrnb-5-3.ucsd.edu           8 9732\r\n",
      " 410758 4.98571 run_polyso andreabc     r     07/19/2018 04:47:27 long.q@nrnb-3-7.ucsd.edu           8 9733\r\n",
      " 410758 4.98571 run_polyso andreabc     r     07/19/2018 04:49:27 long.q@nrnb-2-7.ucsd.edu           8 9734\r\n",
      " 410758 4.98571 run_polyso andreabc     r     07/19/2018 05:12:27 long.q@nrnb-3-7.ucsd.edu           8 9743\r\n",
      " 410758 4.98571 run_polyso andreabc     r     07/19/2018 05:38:12 long.q@nrnb-4-1.ucsd.edu           8 9749\r\n",
      " 410758 4.98571 run_polyso andreabc     r     07/19/2018 05:53:27 long.q@nrnb-2-0.ucsd.edu           8 9752\r\n",
      " 410758 4.98571 run_polyso andreabc     r     07/19/2018 06:05:57 long.q@nrnb-1-0                    8 9753\r\n",
      " 410758 4.98571 run_polyso andreabc     r     07/19/2018 06:06:42 long.q@nrnb-5-0.ucsd.edu           8 9754\r\n",
      " 410758 4.98571 run_polyso andreabc     r     07/19/2018 06:11:57 long.q@nrnb-5-2.ucsd.edu           8 9755\r\n",
      " 410758 4.98571 run_polyso andreabc     r     07/19/2018 06:25:27 long.q@nrnb-5-2.ucsd.edu           8 9756\r\n",
      " 410758 4.98571 run_polyso andreabc     r     07/19/2018 06:29:42 long.q@nrnb-5-1.ucsd.edu           8 9757\r\n",
      " 410758 4.98571 run_polyso andreabc     r     07/19/2018 06:35:57 long.q@nrnb-5-1.ucsd.edu           8 9758\r\n",
      " 410758 4.98571 run_polyso andreabc     r     07/19/2018 06:36:57 long.q@nrnb-5-2.ucsd.edu           8 9759\r\n",
      " 410758 4.98571 run_polyso andreabc     r     07/19/2018 06:54:57 long.q@nrnb-5-1.ucsd.edu           8 9761\r\n",
      " 410758 4.98571 run_polyso andreabc     r     07/19/2018 06:58:57 long.q@nrnb-5-1.ucsd.edu           8 9762\r\n",
      " 410758 4.98571 run_polyso andreabc     r     07/19/2018 07:00:27 long.q@nrnb-5-5.ucsd.edu           8 9763\r\n",
      " 410758 4.98571 run_polyso andreabc     r     07/19/2018 07:01:12 long.q@nrnb-1-2                    8 9764\r\n",
      " 410758 4.98571 run_polyso andreabc     r     07/19/2018 07:03:12 long.q@nrnb-3-4.ucsd.edu           8 9765\r\n",
      " 410758 4.98571 run_polyso andreabc     r     07/19/2018 07:05:42 long.q@nrnb-5-3.ucsd.edu           8 9766\r\n",
      " 410758 4.98571 run_polyso andreabc     r     07/19/2018 07:08:42 long.q@nrnb-5-4.ucsd.edu           8 9767\r\n",
      " 410758 4.98571 run_polyso andreabc     r     07/19/2018 07:09:57 long.q@nrnb-5-3.ucsd.edu           8 9768\r\n",
      " 410758 4.98571 run_polyso andreabc     r     07/19/2018 07:14:27 long.q@nrnb-5-1.ucsd.edu           8 9769\r\n",
      " 410758 4.98571 run_polyso andreabc     r     07/19/2018 07:16:27 long.q@nrnb-5-3.ucsd.edu           8 9770\r\n",
      " 410758 4.98571 run_polyso andreabc     r     07/19/2018 07:17:27 long.q@nrnb-5-4.ucsd.edu           8 9771\r\n",
      " 410758 4.98571 run_polyso andreabc     r     07/19/2018 07:17:42 long.q@nrnb-3-4.ucsd.edu           8 9772\r\n",
      " 410758 4.98571 run_polyso andreabc     r     07/19/2018 07:25:27 long.q@nrnb-5-2.ucsd.edu           8 9773\r\n",
      " 410758 4.98571 run_polyso andreabc     r     07/19/2018 07:26:12 long.q@nrnb-3-4.ucsd.edu           8 9774\r\n",
      " 410758 4.98571 run_polyso andreabc     r     07/19/2018 07:28:12 long.q@nrnb-5-1.ucsd.edu           8 9775\r\n",
      " 410758 4.98571 run_polyso andreabc     r     07/19/2018 07:32:57 long.q@nrnb-5-2.ucsd.edu           8 9776\r\n",
      " 410758 4.98571 run_polyso andreabc     r     07/19/2018 07:44:57 long.q@nrnb-5-5.ucsd.edu           8 9777\r\n",
      " 410758 4.98571 run_polyso andreabc     r     07/19/2018 07:58:27 long.q@nrnb-5-5.ucsd.edu           8 9778\r\n",
      " 410758 4.98571 run_polyso andreabc     r     07/19/2018 08:06:12 long.q@nrnb-2-6.ucsd.edu           8 9779\r\n",
      " 410758 4.98571 run_polyso andreabc     r     07/19/2018 08:09:27 long.q@nrnb-5-0.ucsd.edu           8 9780\r\n",
      " 410758 4.98571 run_polyso andreabc     r     07/19/2018 08:12:42 long.q@nrnb-5-2.ucsd.edu           8 9781\r\n",
      " 410758 4.98571 run_polyso andreabc     r     07/19/2018 08:14:27 long.q@nrnb-1-7.ucsd.edu           8 9782\r\n",
      " 410758 4.98571 run_polyso andreabc     r     07/19/2018 08:14:42 long.q@nrnb-5-2.ucsd.edu           8 9783\r\n",
      " 410758 4.98571 run_polyso andreabc     r     07/19/2018 08:15:12 long.q@nrnb-5-0.ucsd.edu           8 9784\r\n",
      " 410758 4.98571 run_polyso andreabc     r     07/19/2018 08:17:12 long.q@nrnb-5-2.ucsd.edu           8 9785\r\n",
      " 410758 4.98571 run_polyso andreabc     r     07/19/2018 08:17:27 long.q@nrnb-5-1.ucsd.edu           8 9786\r\n",
      " 410758 4.98571 run_polyso andreabc     r     07/19/2018 08:19:27 long.q@nrnb-3-5.ucsd.edu           8 9787\r\n",
      " 410758 4.98571 run_polyso andreabc     r     07/19/2018 08:21:57 long.q@nrnb-5-3.ucsd.edu           8 9788\r\n",
      " 410758 4.98571 run_polyso andreabc     r     07/19/2018 08:24:12 long.q@nrnb-5-4.ucsd.edu           8 9789\r\n",
      " 410758 4.98571 run_polyso andreabc     r     07/19/2018 08:26:12 long.q@nrnb-5-3.ucsd.edu           8 9790\r\n",
      " 410758 4.98571 run_polyso andreabc     r     07/19/2018 08:40:57 long.q@nrnb-5-3.ucsd.edu           8 9791\r\n",
      " 410758 4.98571 run_polyso andreabc     r     07/19/2018 08:45:42 long.q@nrnb-5-4.ucsd.edu           8 9792\r\n",
      " 410758 4.98571 run_polyso andreabc     r     07/19/2018 08:48:57 long.q@nrnb-3-6.ucsd.edu           8 9793\r\n",
      " 410758 4.98571 run_polyso andreabc     r     07/19/2018 08:49:27 long.q@nrnb-4-1.ucsd.edu           8 9794\r\n",
      " 410758 4.98571 run_polyso andreabc     r     07/19/2018 08:57:42 long.q@nrnb-5-1.ucsd.edu           8 9795\r\n",
      " 410565 0.00000 run_pypres andreabc     qw    07/17/2018 22:50:02                                    1 980-7422:1\r\n",
      " 410687 0.00000 align_tcga btsui        qw    07/18/2018 16:33:26                                    1 472-530:1\r\n",
      " 410758 0.00000 run_polyso andreabc     qw    07/18/2018 19:22:58                                    8 9796-10544:1\r\n"
     ]
    }
   ],
   "source": [
    "!qstat"
   ]
  },
  {
   "cell_type": "code",
   "execution_count": 16,
   "metadata": {},
   "outputs": [],
   "source": [
    "#!rm /cellar/users/btsui/Data/tcgaOut/*\n"
   ]
  },
  {
   "cell_type": "code",
   "execution_count": 17,
   "metadata": {
    "scrolled": true
   },
   "outputs": [
    {
     "data": {
      "text/plain": [
       "0"
      ]
     },
     "execution_count": 17,
     "metadata": {},
     "output_type": "execute_result"
    }
   ],
   "source": [
    "os.system('qsub -t 1-{} ./align_tcga_snp_target.sh'.format(n))"
   ]
  },
  {
   "cell_type": "code",
   "execution_count": 27,
   "metadata": {},
   "outputs": [],
   "source": [
    "#!qdel align_tcga_snp_target.sh"
   ]
  },
  {
   "cell_type": "code",
   "execution_count": 19,
   "metadata": {},
   "outputs": [],
   "source": [
    "#!qstat -u btsui"
   ]
  },
  {
   "cell_type": "markdown",
   "metadata": {},
   "source": [
    "depend on only the following script "
   ]
  },
  {
   "cell_type": "code",
   "execution_count": 6,
   "metadata": {
    "scrolled": false
   },
   "outputs": [
    {
     "name": "stdout",
     "output_type": "stream",
     "text": [
      "#! /bin/bash\r\n",
      "# Which shell to use\r\n",
      "#$ -S /bin/bash\r\n",
      "# Transfer all variables to job script (e.g. PATH, LD_LIBRARY_PATH, etc.)\r\n",
      "#$ -V\r\n",
      "# Queue to schedule jobs to\r\n",
      "#$ -l h_rt=8:00:00\r\n",
      "## -l u14\r\n",
      "#$ -l h_vmem=1g\r\n",
      "#$ -l long\r\n",
      "#$ -l tmpfree=2T\r\n",
      "#$ -l h=!(nrnb-5-0|nrnb-5-1|nrnb-5-2|nrnb-5-3|nrnb-5-4|nrnb-5-5|nrnb-5-6)\r\n",
      "# Directory to send stdout and stderr\r\n",
      "## -o /dev/null\r\n",
      "## -e /dev/null\r\n",
      "#$ -o /cellar/users/btsui/Data/tcgaOut/\r\n",
      "#$ -e /cellar/users/btsui/Data/tcgaOut/\r\n",
      "# Run in current working directory\r\n",
      "#$ -cwd\r\n",
      "# Array job 14175\r\n",
      "#$ -t 1-100\r\n",
      "## -p -0\r\n",
      "#$ -r y\r\n",
      "#$ -tc 20\r\n",
      "#$ -pe smp 8\r\n",
      "#SRR_FTP=\"/cellar/users/btsui/Data/SRA/META/processing.srr\"\r\n",
      "hostname\r\n",
      "/cellar/users/btsui/anaconda3/bin/python ~/Project/METAMAP/notebook/RapMapTest/XGS_WGS/TestPipeline/extract_allele_all_targetted_ref.py $SGE_TASK_ID\r\n"
     ]
    }
   ],
   "source": [
    "!cat align_tcga_snp_target.sh"
   ]
  },
  {
   "cell_type": "code",
   "execution_count": 7,
   "metadata": {},
   "outputs": [],
   "source": [
    "manifest_dir='/cellar/users/btsui/Project/METAMAP/notebook/RapMapTest/XGS_WGS/./tcga_lgg_wgs_bams.df.pickle'"
   ]
  },
  {
   "cell_type": "code",
   "execution_count": 9,
   "metadata": {},
   "outputs": [
    {
     "data": {
      "text/plain": [
       "BAM    1045\n",
       "Name: data_format, dtype: int64"
      ]
     },
     "execution_count": 9,
     "metadata": {},
     "output_type": "execute_result"
    }
   ],
   "source": [
    "pd.read_pickle(manifest_dir)['data_format'].value_counts()"
   ]
  },
  {
   "cell_type": "code",
   "execution_count": 14,
   "metadata": {},
   "outputs": [],
   "source": [
    "#!/cellar/users/btsui/anaconda3/bin/python ~/Project/METAMAP/notebook/RapMapTest/XGS_WGS/TestPipeline/extract_allele_all_targetted_ref.py 10"
   ]
  },
  {
   "cell_type": "code",
   "execution_count": 55,
   "metadata": {},
   "outputs": [],
   "source": [
    "#!qstat -j align_tcga_snp_target.sh"
   ]
  },
  {
   "cell_type": "code",
   "execution_count": 51,
   "metadata": {},
   "outputs": [
    {
     "name": "stdout",
     "output_type": "stream",
     "text": [
      "modified parallel environment of job 408940\r\n",
      "modified slot range of job 408940\r\n"
     ]
    }
   ],
   "source": [
    "#1.17G memory\n",
    "!qalter align_tcga_snp_target.sh -pe smp 4 "
   ]
  },
  {
   "cell_type": "code",
   "execution_count": 54,
   "metadata": {},
   "outputs": [
    {
     "name": "stdout",
     "output_type": "stream",
     "text": [
      "modified parallel environment of job 408940\r\n",
      "modified slot range of job 408940\r\n"
     ]
    }
   ],
   "source": [
    "!qalter align_tcga_snp_target.sh  -pe smp 2"
   ]
  },
  {
   "cell_type": "code",
   "execution_count": 12,
   "metadata": {},
   "outputs": [],
   "source": [
    "#!qalter align_tcga_snp_target.sh  -pe smp 2"
   ]
  },
  {
   "cell_type": "code",
   "execution_count": 30,
   "metadata": {},
   "outputs": [
    {
     "name": "stdout",
     "output_type": "stream",
     "text": [
      "total 9.2G\r\n",
      "-rw-r--r--  1 btsui users 5.2M Jul 19 08:58 37d2a30b-14b9-4846-81df-c254765bdacd.snp.txt.gz\r\n",
      "drwxr-xr-x  2 btsui users 128K Jul 19 08:58 .\r\n",
      "-rw-r--r--  1 btsui users 5.0M Jul 19 08:58 5aff639e-6963-4bc3-8891-c7299baf39a4.snp.txt.gz\r\n",
      "-rw-r--r--  1 btsui users 5.5M Jul 19 08:58 7c095edb-8ba8-45cc-a320-d51906495bc9.snp.txt.gz\r\n",
      "-rw-r--r--  1 btsui users 5.9M Jul 19 08:57 d7df37ac-d0d6-478a-93e7-e99136c3b357.snp.txt.gz\r\n",
      "-rw-r--r--  1 btsui users 4.8M Jul 19 08:56 b9bc4c25-df56-426f-ad8a-4717ad301394.snp.txt.gz\r\n",
      "-rw-r--r--  1 btsui users 5.4M Jul 19 08:49 c59ef5df-1ccd-4a99-a135-5df6edc5ca8b.snp.txt.gz\r\n",
      "-rw-r--r--  1 btsui users 5.3M Jul 19 08:47 8ea2181b-3cfd-4d3b-a2d2-73fb4d3fc2f1.snp.txt.gz\r\n",
      "-rw-r--r--  1 btsui users 4.3M Jul 19 08:47 ef84ab28-7064-4800-8312-8e517968daf9.snp.txt.gz\r\n",
      "ls: write error: Broken pipe\r\n"
     ]
    }
   ],
   "source": [
    "!ls -lath /nrnb/users/btsui/Data/tcga_extracted_lgg_snp/ | head"
   ]
  },
  {
   "cell_type": "code",
   "execution_count": 42,
   "metadata": {},
   "outputs": [
    {
     "name": "stdout",
     "output_type": "stream",
     "text": [
      "import pandas as pd\r\n",
      "import sys\r\n",
      "import os\r\n",
      "import time\r\n",
      "\r\n",
      "#i=0\r\n",
      "i=int(sys.argv[1])-1\r\n",
      "\r\n",
      "manifest_dir='/cellar/users/btsui/Project/METAMAP/notebook/RapMapTest/XGS_WGS/./tcga_lgg_wgs_bams.df.pickle'\r\n",
      "token_dir='/cellar/users/ramarty/tokens/gdc-user-token.2018-06-25T22_21_40.089Z.txt'\r\n",
      "bam_read_count_dir='/cellar/users/btsui/Program/bam_read_count/bam-readcount-master/bin/bam-readcount'\r\n",
      "\r\n",
      "gdc_cmd_fmt='gdc-client download -t {token_dir} -d {out_dir} {file_uuid}'\r\n",
      "out_dir='/nrnb/users/btsui/Data/tcga_raw_lgg/'\r\n",
      "snp_out_dir='/nrnb/users/btsui/Data/tcga_extracted_lgg_snp/'\r\n",
      "\r\n",
      "manifest_df=pd.read_pickle(manifest_dir)\r\n",
      "manifest_S=manifest_df.iloc[i]\r\n",
      "\r\n",
      "file_uuid=manifest_S['file_id']\r\n",
      "print ('UUID: ',file_uuid)\r\n",
      "\r\n",
      "gdc_cmd=gdc_cmd_fmt.format(out_dir=out_dir,file_uuid=file_uuid,token_dir=token_dir)\r\n",
      "\r\n",
      "result = os.system(gdc_cmd)\r\n",
      "### pipe the data\r\n",
      "tmpDir=out_dir+file_uuid+'/'\r\n",
      "os.chdir(tmpDir)\r\n",
      "\r\n",
      "os.system('rm fastq_pipe')\r\n",
      "\r\n",
      "os.system('mkfifo fastq_pipe')\r\n",
      "os.system('bamToFastq -i {} -fq fastq_pipe &'.format(manifest_S['file_name']))\r\n",
      "\r\n",
      "### align using bowtie2\r\n",
      "\r\n",
      "\r\n",
      "#os.system('align using bowtie2 ')\r\n",
      "#/cellar/users/btsui/Data/BOWTIE2_GENOME_INDEX/\r\n",
      "#/cellar/users/btsui/Data/BOWTIE_GENOME_SNP_INDEX/\r\n",
      "#other bases \r\n",
      "baseGenomesDir='/cellar/users/btsui/Data/BOWTIE_GENOME_SNP_INDEX/'\r\n",
      "specie='Homo_sapiens'\r\n",
      "genomeDir=baseGenomesDir+'/'+specie+'/bowtie2'\r\n",
      "cmd_algn='bowtie2 --local -x {ref} -U fastq_pipe --no-unal --threads 8 | samtools view -bS - -o unalgn.bam '.format(ref=genomeDir)\r\n",
      "\r\n",
      "#align\r\n",
      "t0 = time.time()\r\n",
      "os.system(cmd_algn)\r\n",
      "t1 = time.time()\r\n",
      "total = t1-t0\r\n",
      "print ('time for alignment:'+str(total))\r\n",
      "\r\n",
      "#sort\r\n",
      "t0 = time.time()\r\n",
      "#samtools sort -T /tmp/aln.sorted -o aln.sorted.bam aln.bam\r\n",
      "\r\n",
      "\r\n",
      "#os.system('samtools sort unalgn.bam -o sorted.bam')\r\n",
      "os.system('samtools sort -T ./ -o sorted.bam unalgn.bam')\r\n",
      "\r\n",
      "os.system('samtools index sorted.bam')\r\n",
      "\r\n",
      "t1 = time.time()\r\n",
      "total = t1-t0\r\n",
      "print ('time for sorting:'+str(total))\r\n",
      "\r\n",
      "snpBed='/cellar/users/btsui/Data/dbsnp/snp_beds/'+specie+'.bed'\r\n",
      "fa_dir='/cellar/users/btsui/Data/ensembl/snp_masked/'+specie+'.microbe.fa'\r\n",
      "\r\n",
      "####count allelic read count\r\n",
      "cmd_bam_read_count=bam_read_count_dir+' -l '+snpBed+' -f {} {} |gzip > snp.txt.gz'.format(fa_dir,'sorted.bam')\r\n",
      "\r\n",
      "os.system(cmd_bam_read_count)\r\n",
      "os.system('cp snp.txt.gz '+snp_out_dir+file_uuid+'.snp.txt.gz')\r\n",
      "\r\n",
      "os.system('ls -lath')\r\n",
      "os.system('rm -r '+tmpDir)\r\n",
      "#!ls -lath\r\n",
      "\r\n",
      "\r\n",
      "\"\"\"\r\n",
      "cmd_algn='bowtie2 --local -x {ref} -U fastq_pipe --no-unal --threads 8 | samtools view -bS - | samtools sort -  sorted.bam  2>bowtie_log.txt'.format(ref=genomeDir)\r\n",
      "\"\"\"\r\n"
     ]
    }
   ],
   "source": [
    "!cat ./extract_allele_all_targetted_ref.py"
   ]
  },
  {
   "cell_type": "code",
   "execution_count": 40,
   "metadata": {},
   "outputs": [
    {
     "name": "stdout",
     "output_type": "stream",
     "text": [
      "align_tcga.py\t\t\t     submitJobsForTiming.ipynb\r\n",
      "align_tcga_snp_target.sh\t     tcga_extract_read_count.py\r\n",
      "extract_allele_all_targetted_ref.py  test.sh\r\n",
      "submitJobForAllleleExtraction.ipynb\r\n"
     ]
    }
   ],
   "source": [
    "!ls"
   ]
  },
  {
   "cell_type": "code",
   "execution_count": 65,
   "metadata": {},
   "outputs": [],
   "source": [
    "#!df -h "
   ]
  },
  {
   "cell_type": "code",
   "execution_count": 25,
   "metadata": {},
   "outputs": [
    {
     "name": "stdout",
     "output_type": "stream",
     "text": [
      "total 7.4G\r\n",
      "-rw-r--r--  1 btsui users 3.7M Jul 18 17:48 1985b367-00c4-4c25-b049-5858e937cc6d.snp.txt.gz\r\n",
      "drwxr-xr-x 15 btsui users 128K Jul 18 14:58 ..\r\n",
      "drwxr-xr-x  2 btsui users 128K Jul 18 14:54 .\r\n",
      "-rw-r--r--  1 btsui users   20 Jul 18 14:50 06c8a70b-3f0c-42bc-875a-f3e13c887a73.snp.txt.gz\r\n",
      "-rw-r--r--  1 btsui users   20 Jul 18 14:50 b2bd014e-44fe-4d24-9b75-91baf36b3c0a.snp.txt.gz\r\n",
      "-rw-r--r--  1 btsui users   20 Jul 18 14:50 eda26d7b-0725-46c4-9264-bcdf94dc163d.snp.txt.gz\r\n",
      "-rw-r--r--  1 btsui users   20 Jul 18 14:50 37589627-0b38-41b0-b7a3-d2dd1f343550.snp.txt.gz\r\n",
      "-rw-r--r--  1 btsui users   20 Jul 18 14:50 dcbaf670-8100-4c98-bd4d-2880a5805f23.snp.txt.gz\r\n",
      "-rw-r--r--  1 btsui users   20 Jul 18 14:50 aeebf360-49c4-4db3-bdf4-daffdc5279cc.snp.txt.gz\r\n",
      "ls: write error: Broken pipe\r\n"
     ]
    }
   ],
   "source": [
    "!ls -lath /nrnb/users/btsui/Data/tcga_extracted_lgg_snp/ | head"
   ]
  },
  {
   "cell_type": "code",
   "execution_count": null,
   "metadata": {},
   "outputs": [],
   "source": []
  }
 ],
 "metadata": {
  "kernelspec": {
   "display_name": "Python 3",
   "language": "python",
   "name": "python3"
  },
  "language_info": {
   "codemirror_mode": {
    "name": "ipython",
    "version": 3
   },
   "file_extension": ".py",
   "mimetype": "text/x-python",
   "name": "python",
   "nbconvert_exporter": "python",
   "pygments_lexer": "ipython3",
   "version": "3.6.5"
  }
 },
 "nbformat": 4,
 "nbformat_minor": 2
}
