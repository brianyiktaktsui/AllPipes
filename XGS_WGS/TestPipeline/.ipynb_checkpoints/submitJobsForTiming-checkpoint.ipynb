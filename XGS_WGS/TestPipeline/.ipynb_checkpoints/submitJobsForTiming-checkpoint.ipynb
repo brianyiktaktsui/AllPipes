{
 "cells": [
  {
   "cell_type": "code",
   "execution_count": 44,
   "metadata": {},
   "outputs": [],
   "source": [
    "import os"
   ]
  },
  {
   "cell_type": "code",
   "execution_count": 1,
   "metadata": {},
   "outputs": [
    {
     "name": "stdout",
     "output_type": "stream",
     "text": [
      "job-ID  prior   name       user         state submit/start at     queue                          slots ja-task-ID \r\n",
      "-----------------------------------------------------------------------------------------------------------------\r\n",
      " 404529 5.15102 QLOGIN     btsui        r     07/10/2018 12:08:16 all.q@nrnb-5-6.ucsd.edu           64        \r\n",
      " 406854 0.00000 test.sh    btsui        qw    07/11/2018 22:54:14                                    8 41-100:1\r\n"
     ]
    }
   ],
   "source": [
    "!qstat -u btsui"
   ]
  },
  {
   "cell_type": "code",
   "execution_count": 36,
   "metadata": {},
   "outputs": [
    {
     "name": "stdout",
     "output_type": "stream",
     "text": [
      "btsui has registered the job-array task 406857.1 for deletion\r\n",
      "btsui has registered the job-array task 406857.2 for deletion\r\n",
      "btsui has registered the job-array task 406857.3 for deletion\r\n",
      "btsui has registered the job-array task 406857.4 for deletion\r\n",
      "btsui has registered the job-array task 406857.5 for deletion\r\n",
      "btsui has registered the job-array task 406857.6 for deletion\r\n",
      "btsui has registered the job-array task 406857.7 for deletion\r\n",
      "btsui has registered the job-array task 406857.8 for deletion\r\n",
      "btsui has registered the job-array task 406857.9 for deletion\r\n",
      "btsui has registered the job-array task 406857.10 for deletion\r\n",
      "btsui has registered the job-array task 406857.11 for deletion\r\n",
      "btsui has registered the job-array task 406857.12 for deletion\r\n",
      "btsui has registered the job-array task 406857.13 for deletion\r\n",
      "btsui has registered the job-array task 406857.14 for deletion\r\n",
      "btsui has registered the job-array task 406857.15 for deletion\r\n",
      "btsui has registered the job-array task 406857.16 for deletion\r\n",
      "btsui has registered the job-array task 406857.17 for deletion\r\n",
      "btsui has registered the job-array task 406857.18 for deletion\r\n",
      "btsui has registered the job-array task 406857.19 for deletion\r\n",
      "btsui has registered the job-array task 406857.20 for deletion\r\n",
      "btsui has deleted job 406857\r\n"
     ]
    }
   ],
   "source": [
    "!qdel test.sh"
   ]
  },
  {
   "cell_type": "code",
   "execution_count": 54,
   "metadata": {},
   "outputs": [
    {
     "name": "stdout",
     "output_type": "stream",
     "text": [
      "nrnb-3-2\r\n",
      "nrnb-2-4\r\n",
      "nrnb-4-1\r\n",
      "nrnb-1-3\r\n",
      "nrnb-1-6\r\n",
      "nrnb-1-7\r\n",
      "nrnb-2-2\r\n",
      "nrnb-3-4\r\n",
      "nrnb-1-4\r\n",
      "nrnb-2-5\r\n",
      "nrnb-2-6\r\n",
      "nrnb-3-0\r\n",
      "nrnb-1-1\r\n",
      "nrnb-1-0\r\n",
      "nrnb-3-3\r\n",
      "nrnb-3-1\r\n",
      "nrnb-4-2\r\n",
      "nrnb-1-2\r\n",
      "nrnb-2-3\r\n",
      "nrnb-3-6\r\n"
     ]
    }
   ],
   "source": [
    "!cat /cellar/users/btsui/Data/tcgaOut/*"
   ]
  },
  {
   "cell_type": "code",
   "execution_count": 49,
   "metadata": {},
   "outputs": [],
   "source": [
    "#!rm /cellar/users/btsui/Data/tcgaOut/*"
   ]
  },
  {
   "cell_type": "code",
   "execution_count": 37,
   "metadata": {},
   "outputs": [],
   "source": [
    "manifest_dir='/cellar/users/btsui/Project/METAMAP/notebook/RapMapTest/XGS_WGS/./tcga_lgg_wgs_bams.df.pickle'"
   ]
  },
  {
   "cell_type": "code",
   "execution_count": 38,
   "metadata": {},
   "outputs": [],
   "source": [
    "import pandas as pd"
   ]
  },
  {
   "cell_type": "code",
   "execution_count": 42,
   "metadata": {},
   "outputs": [],
   "source": [
    "n=pd.read_pickle(manifest_dir).shape[0]"
   ]
  },
  {
   "cell_type": "code",
   "execution_count": 46,
   "metadata": {},
   "outputs": [
    {
     "data": {
      "text/plain": [
       "0"
      ]
     },
     "execution_count": 46,
     "metadata": {},
     "output_type": "execute_result"
    }
   ],
   "source": [
    "os.system('qsub -t 1-{} ./test.sh'.format(n))"
   ]
  },
  {
   "cell_type": "code",
   "execution_count": 55,
   "metadata": {},
   "outputs": [
    {
     "name": "stdout",
     "output_type": "stream",
     "text": [
      "job-ID  prior   name       user         state submit/start at     queue                          slots ja-task-ID \r\n",
      "-----------------------------------------------------------------------------------------------------------------\r\n",
      " 404529 5.13676 QLOGIN     btsui        r     07/10/2018 12:08:16 all.q@nrnb-5-6.ucsd.edu           64        \r\n",
      " 406858 4.99905 test.sh    btsui        r     07/11/2018 23:11:35 long.q@nrnb-3-2.ucsd.edu           8 1\r\n",
      " 406858 4.99905 test.sh    btsui        r     07/11/2018 23:11:35 long.q@nrnb-3-0.ucsd.edu           8 2\r\n",
      " 406858 4.99905 test.sh    btsui        r     07/11/2018 23:11:35 long.q@nrnb-1-0                    8 3\r\n",
      " 406858 4.99905 test.sh    btsui        r     07/11/2018 23:11:35 long.q@nrnb-3-3.ucsd.edu           8 4\r\n",
      " 406858 4.99905 test.sh    btsui        r     07/11/2018 23:11:35 long.q@nrnb-3-1.ucsd.edu           8 5\r\n",
      " 406858 4.99905 test.sh    btsui        r     07/11/2018 23:11:35 long.q@nrnb-4-2.ucsd.edu           8 6\r\n",
      " 406858 4.99905 test.sh    btsui        r     07/11/2018 23:11:35 long.q@nrnb-1-2                    8 7\r\n",
      " 406858 4.99905 test.sh    btsui        r     07/11/2018 23:11:35 long.q@nrnb-2-3.ucsd.edu           8 8\r\n",
      " 406858 4.99905 test.sh    btsui        r     07/11/2018 23:11:35 long.q@nrnb-3-6.ucsd.edu           8 9\r\n",
      " 406858 4.99905 test.sh    btsui        r     07/11/2018 23:11:35 long.q@nrnb-2-4.ucsd.edu           8 10\r\n",
      " 406858 4.99905 test.sh    btsui        r     07/11/2018 23:11:35 long.q@nrnb-4-1.ucsd.edu           8 11\r\n",
      " 406858 4.99905 test.sh    btsui        r     07/11/2018 23:11:35 long.q@nrnb-1-3                    8 12\r\n",
      " 406858 4.99905 test.sh    btsui        r     07/11/2018 23:11:35 long.q@nrnb-1-6.ucsd.edu           8 13\r\n",
      " 406858 4.99905 test.sh    btsui        r     07/11/2018 23:11:35 long.q@nrnb-1-7.ucsd.edu           8 14\r\n",
      " 406858 4.99905 test.sh    btsui        r     07/11/2018 23:11:35 long.q@nrnb-2-2.ucsd.edu           8 15\r\n",
      " 406858 4.99905 test.sh    btsui        r     07/11/2018 23:11:35 long.q@nrnb-3-4.ucsd.edu           8 16\r\n",
      " 406858 4.99905 test.sh    btsui        r     07/11/2018 23:11:35 long.q@nrnb-1-4.ucsd.edu           8 17\r\n",
      " 406858 4.99905 test.sh    btsui        r     07/11/2018 23:11:35 long.q@nrnb-2-5.ucsd.edu           8 18\r\n",
      " 406858 4.99905 test.sh    btsui        r     07/11/2018 23:11:35 long.q@nrnb-2-6.ucsd.edu           8 19\r\n",
      " 406858 4.99905 test.sh    btsui        r     07/11/2018 23:11:35 long.q@nrnb-1-1                    8 20\r\n",
      " 406858 0.00000 test.sh    btsui        qw    07/11/2018 23:11:33                                    8 21-1045:1\r\n"
     ]
    }
   ],
   "source": [
    "!qstat -u btsui"
   ]
  },
  {
   "cell_type": "code",
   "execution_count": 27,
   "metadata": {},
   "outputs": [
    {
     "name": "stdout",
     "output_type": "stream",
     "text": [
      "UUID:  9ac78029-3c36-4e00-b3e2-06415649ec43\n",
      "\u001b[33mWARNING: \u001b[0mYour token file '/cellar/users/ramarty/tokens/gdc-user-token.2018-06-25T22_21_40.089Z.txt' is not properly secured. Please secure your token file by ensuring that it is not readable or writeable by anyone other than the owner of the file. On Linux: chmod 600 /cellar/users/ramarty/tokens/gdc-user-token.2018-06-25T22_21_40.089Z.txt\n",
      "100% [##############################################] Time: 0:01:37  47.55 MB/s ] ETA:  0:01:26  47.55 MB/s                              ] ETA:  0:01:10  49.81 MB/s MB/s       ] ETA:  0:00:43  53.82 MB/s ##################                 ] ETA:  0:00:30  54.93 MB/s 55.67 MB/s ######      ] ETA:  0:00:09  56.27 MB/s ######################################## ] ETA:  0:00:01  53.18 MB/s \n",
      "100% [##############################################] Time: 0:00:02   2.44 MB/s \n",
      "\u001b[32mSuccessfully downloaded\u001b[0m: 1\n",
      "rm: cannot remove 'fastq_pipe': No such file or directory\n",
      "^C\n",
      "time for alignment:91.92057704925537\n",
      "[W::bam_hdr_read] EOF marker is absent. The input is probably truncated.\n"
     ]
    }
   ],
   "source": [
    "!/cellar/users/btsui/anaconda3/bin/python ~/Project/METAMAP/notebook/RapMapTest/XGS_WGS/TestPipeline/align_tcga.py 1"
   ]
  },
  {
   "cell_type": "code",
   "execution_count": null,
   "metadata": {},
   "outputs": [],
   "source": []
  }
 ],
 "metadata": {
  "kernelspec": {
   "display_name": "Python 3",
   "language": "python",
   "name": "python3"
  },
  "language_info": {
   "codemirror_mode": {
    "name": "ipython",
    "version": 3
   },
   "file_extension": ".py",
   "mimetype": "text/x-python",
   "name": "python",
   "nbconvert_exporter": "python",
   "pygments_lexer": "ipython3",
   "version": "3.6.5"
  }
 },
 "nbformat": 4,
 "nbformat_minor": 2
}
