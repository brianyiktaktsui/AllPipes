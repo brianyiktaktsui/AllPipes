{
 "cells": [
  {
   "cell_type": "code",
   "execution_count": 1,
   "metadata": {},
   "outputs": [],
   "source": [
    "import pandas as pd\n",
    "import os\n",
    "import gzip\n",
    "import re\n",
    "%matplotlib inline"
   ]
  },
  {
   "cell_type": "code",
   "execution_count": 2,
   "metadata": {},
   "outputs": [
    {
     "name": "stdout",
     "output_type": "stream",
     "text": [
      "##fileformat=VCFv4.0\r\n",
      "##fileDate=20170710\r\n",
      "##source=dbSNP\r\n",
      "##dbSNP_BUILD_ID=150\r\n",
      "##reference=GRCh38.p7\r\n",
      "##phasing=partial\r\n",
      "##variationPropertyDocumentationUrl=ftp://ftp.ncbi.nlm.nih.gov/snp/specs/dbSNP_BitField_latest.pdf\t\r\n",
      "##INFO=<ID=RS,Number=1,Type=Integer,Description=\"dbSNP ID (i.e. rs number)\">\r\n",
      "##INFO=<ID=RSPOS,Number=1,Type=Integer,Description=\"Chr position reported in dbSNP\">\r\n",
      "##INFO=<ID=RV,Number=0,Type=Flag,Description=\"RS orientation is reversed\">\r\n",
      "##INFO=<ID=VP,Number=1,Type=String,Description=\"Variation Property.  Documentation is at ftp://ftp.ncbi.nlm.nih.gov/snp/specs/dbSNP_BitField_latest.pdf\">\r\n",
      "##INFO=<ID=GENEINFO,Number=1,Type=String,Description=\"Pairs each of gene symbol:gene id.  The gene symbol and id are delimited by a colon (:) and each pair is delimited by a vertical bar (|)\">\r\n",
      "##INFO=<ID=dbSNPBuildID,Number=1,Type=Integer,Description=\"First dbSNP Build for RS\">\r\n",
      "##INFO=<ID=SAO,Number=1,Type=Integer,Description=\"Variant Allele Origin: 0 - unspecified, 1 - Germline, 2 - Somatic, 3 - Both\">\r\n",
      "##INFO=<ID=SSR,Number=1,Type=Integer,Description=\"Variant Suspect Reason Codes (may be more than one value added together) 0 - unspecified, 1 - Paralog, 2 - byEST, 4 - oldAlign, 8 - Para_EST, 16 - 1kg_failed, 1024 - other\">\r\n",
      "##INFO=<ID=WGT,Number=1,Type=Integer,Description=\"Weight, 00 - unmapped, 1 - weight 1, 2 - weight 2, 3 - weight 3 or more\">\r\n",
      "##INFO=<ID=VC,Number=1,Type=String,Description=\"Variation Class\">\r\n",
      "##INFO=<ID=PM,Number=0,Type=Flag,Description=\"Variant is Precious(Clinical,Pubmed Cited)\">\r\n",
      "##INFO=<ID=TPA,Number=0,Type=Flag,Description=\"Provisional Third Party Annotation(TPA) (currently rs from PHARMGKB who will give phenotype data)\">\r\n",
      "##INFO=<ID=PMC,Number=0,Type=Flag,Description=\"Links exist to PubMed Central article\">\r\n",
      "\r\n",
      "gzip: stdout: Broken pipe\r\n"
     ]
    }
   ],
   "source": [
    "!gunzip -c /data/cellardata/users/btsui/dbsnp/Homo_sapiens/All_20170710.vcf.gz| head -n 20\n"
   ]
  },
  {
   "cell_type": "code",
   "execution_count": 3,
   "metadata": {},
   "outputs": [],
   "source": [
    "specie='Mus_musculus'"
   ]
  },
  {
   "cell_type": "code",
   "execution_count": 4,
   "metadata": {},
   "outputs": [],
   "source": [
    "#ftp://ftp.ncbi.nlm.nih.gov/snp/organisms/mouse_10090/VCF/00-All.vcf.gz\n",
    "pattern='VP=\\d{2}(\\d{4})'\n",
    "#pattern2='VP=\\w{18}(\\d{2})'\n",
    "#pattern='VP=050000000005000000000100'\n",
    "prog2 = re.compile(pattern)\n",
    "inDbDir='/data/cellardata/users/btsui/dbsnp/'+specie+'/00-All.vcf.gz'\n",
    "outDbDir=inDbDir.replace('.vcf.gz','.f1_byte2_not_00.vcf.gz')"
   ]
  },
  {
   "cell_type": "markdown",
   "metadata": {},
   "source": [
    "### identify snps with reference"
   ]
  },
  {
   "cell_type": "code",
   "execution_count": 754,
   "metadata": {},
   "outputs": [],
   "source": [
    "#!gunzip -c /data/cellardata/users/btsui/dbsnp/Homo_sapiens/All_20170710.vcf.gz | head -n 100"
   ]
  },
  {
   "cell_type": "code",
   "execution_count": 120,
   "metadata": {},
   "outputs": [
    {
     "data": {
      "text/plain": [
       "'0000'"
      ]
     },
     "execution_count": 120,
     "metadata": {},
     "output_type": "execute_result"
    }
   ],
   "source": [
    "\"\"\"\n",
    "byte: 8 bit\n",
    "256\n",
    "#10 at F2\n",
    "\"\"\"\n",
    "f1_byte2"
   ]
  },
  {
   "cell_type": "code",
   "execution_count": 121,
   "metadata": {},
   "outputs": [
    {
     "data": {
      "text/plain": [
       "'1\\t3000020\\trs1133275841\\tT\\tA\\t.\\t.\\tRSPOS=3000020;dbSNPBuildID=150;SAO=0;VC=snp;VP=050000000005000000000100\\n'"
      ]
     },
     "execution_count": 121,
     "metadata": {},
     "output_type": "execute_result"
    }
   ],
   "source": [
    "'1\\t3000020\\trs1133275841\\tT\\tA\\t.\\t.\\tRSPOS=3000020;dbSNPBuildID=150;SAO=0;VC=snp;VP=050000000005000000000100\\n'"
   ]
  },
  {
   "cell_type": "code",
   "execution_count": 122,
   "metadata": {},
   "outputs": [
    {
     "name": "stdout",
     "output_type": "stream",
     "text": [
      "0 0\n",
      "1000000 621\n"
     ]
    }
   ],
   "source": [
    "\n",
    "###\n",
    "TEST=True\n",
    "j=0\n",
    "with gzip.open(inDbDir, 'rb') as f:\n",
    "    with gzip.open(outDbDir,'wb') as wf:\n",
    "        for i,l in enumerate(f):\n",
    "            if l[0]!='#':\n",
    "                f1_byte2=prog.findall(l)[0]\n",
    "                if f1_byte2!='0000':\n",
    "                    j+=1\n",
    "                    wf.write(l)\n",
    "            if TEST and (i>10**6):\n",
    "                break\n",
    "            if (i%(10**6))==0:\n",
    "                print i,j"
   ]
  },
  {
   "cell_type": "markdown",
   "metadata": {
    "collapsed": true
   },
   "source": []
  },
  {
   "cell_type": "code",
   "execution_count": 124,
   "metadata": {},
   "outputs": [
    {
     "name": "stdout",
     "output_type": "stream",
     "text": [
      "161747\n"
     ]
    }
   ],
   "source": []
  },
  {
   "cell_type": "code",
   "execution_count": 127,
   "metadata": {},
   "outputs": [
    {
     "name": "stdout",
     "output_type": "stream",
     "text": [
      "81432284\n"
     ]
    }
   ],
   "source": [
    "print i"
   ]
  },
  {
   "cell_type": "code",
   "execution_count": 144,
   "metadata": {},
   "outputs": [
    {
     "data": {
      "text/plain": [
       "0.001986276106414994"
      ]
     },
     "execution_count": 144,
     "metadata": {},
     "output_type": "execute_result"
    }
   ],
   "source": [
    "161747/81432284.0"
   ]
  },
  {
   "cell_type": "markdown",
   "metadata": {},
   "source": [
    "### identify snp window"
   ]
  },
  {
   "cell_type": "code",
   "execution_count": 185,
   "metadata": {
    "collapsed": true
   },
   "outputs": [],
   "source": [
    "\n",
    "tmpDf=pd.read_csv(outDbDir,sep='\\t',header=None)\n",
    "tmpDf.columns=['Chr','Loc','rs','REF','ALT','','','Annot']"
   ]
  },
  {
   "cell_type": "code",
   "execution_count": 267,
   "metadata": {
    "collapsed": true,
    "scrolled": true
   },
   "outputs": [],
   "source": [
    "#65158616-65186500\n",
    "#chr1:65170978-65170978\n",
    "#tmpDf[(tmpDf['Chr']=='1')&((tmpDf['Start']>65158616)&(tmpDf['End']<65186500))]"
   ]
  },
  {
   "cell_type": "code",
   "execution_count": null,
   "metadata": {
    "collapsed": true
   },
   "outputs": [],
   "source": [
    "#Chr1:65158616"
   ]
  },
  {
   "cell_type": "code",
   "execution_count": 186,
   "metadata": {
    "collapsed": true
   },
   "outputs": [],
   "source": [
    "### take only the non-\n",
    "#give it 1000\n",
    "window_size=1000\n",
    "tmpDf['Start']=tmpDf['Loc']-window_size\n",
    "tmpDf.loc[(tmpDf['Start']<0),'Start']=0\n",
    "tmpDf['End']=tmpDf['Loc']+window_size\n"
   ]
  },
  {
   "cell_type": "code",
   "execution_count": 198,
   "metadata": {},
   "outputs": [
    {
     "data": {
      "text/plain": [
       "0"
      ]
     },
     "execution_count": 198,
     "metadata": {},
     "output_type": "execute_result"
    }
   ],
   "source": [
    "myCleanFaDir='/cellar/users/btsui/Data/ensembl/clean/'+specie+'.fa'\n",
    "os.system(' samtools faidx '+ myCleanFaDir)"
   ]
  },
  {
   "cell_type": "code",
   "execution_count": 200,
   "metadata": {
    "collapsed": true
   },
   "outputs": [],
   "source": [
    "#bedtools complement -i <BED/GFF/VCF> -g <GENOME>\n",
    "myFai=pd.read_csv(myCleanFaDir+'.fai',sep='\\t',header=None)"
   ]
  },
  {
   "cell_type": "code",
   "execution_count": 205,
   "metadata": {
    "collapsed": true
   },
   "outputs": [],
   "source": [
    "FaOrder=myFai[0].unique()"
   ]
  },
  {
   "cell_type": "code",
   "execution_count": 212,
   "metadata": {
    "collapsed": true
   },
   "outputs": [],
   "source": [
    "tmpDf['Chr']=tmpDf['Chr'].astype(dtype=\"category\",categories=FaOrder,ordered=True)\n",
    "\n",
    "tmpDf2=tmpDf[['Chr','Start','End']].sort_values(['Chr','Start','End'])\n",
    "tmpDf2.to_csv('extracting_region.bed',sep='\\t',header=None,index=None)"
   ]
  },
  {
   "cell_type": "code",
   "execution_count": 215,
   "metadata": {
    "collapsed": true
   },
   "outputs": [],
   "source": [
    "#tmpDf2.Chr.unique()"
   ]
  },
  {
   "cell_type": "code",
   "execution_count": 216,
   "metadata": {
    "collapsed": true
   },
   "outputs": [],
   "source": [
    "myFai[[0,1]].to_csv('genome',sep='\\t',header=None,index=None)"
   ]
  },
  {
   "cell_type": "code",
   "execution_count": 217,
   "metadata": {},
   "outputs": [
    {
     "name": "stdout",
     "output_type": "stream",
     "text": [
      "1\t195471971\t59\t60\t61\r\n",
      "2\t182113224\t198729956\t60\t61\r\n",
      "3\t160039680\t383878460\t60\t61\r\n",
      "4\t156508116\t546585527\t60\t61\r\n",
      "5\t151834684\t705702171\t60\t61\r\n",
      "6\t149736546\t860067493\t60\t61\r\n",
      "7\t145441459\t1012299708\t60\t61\r\n",
      "8\t129401213\t1160165251\t60\t61\r\n",
      "9\t124595110\t1291723210\t60\t61\r\n",
      "10\t130694993\t1418394967\t60\t61\r\n"
     ]
    }
   ],
   "source": [
    "!head /cellar/users/btsui/Data/ensembl/clean/Mus_musculus.fa.fai"
   ]
  },
  {
   "cell_type": "code",
   "execution_count": 218,
   "metadata": {
    "collapsed": true
   },
   "outputs": [],
   "source": [
    "#!bedtools complement --help"
   ]
  },
  {
   "cell_type": "code",
   "execution_count": 219,
   "metadata": {
    "collapsed": true
   },
   "outputs": [],
   "source": [
    "!bedtools complement -i extracting_region.bed -g genome > complement.txt"
   ]
  },
  {
   "cell_type": "markdown",
   "metadata": {},
   "source": [
    "### mask out the rest of the genome"
   ]
  },
  {
   "cell_type": "code",
   "execution_count": 220,
   "metadata": {
    "collapsed": true
   },
   "outputs": [],
   "source": [
    "complementDf=pd.read_csv('complement.txt',sep='\\t',header=None)"
   ]
  },
  {
   "cell_type": "code",
   "execution_count": 557,
   "metadata": {},
   "outputs": [],
   "source": [
    "#complementDf.shape"
   ]
  },
  {
   "cell_type": "code",
   "execution_count": 227,
   "metadata": {
    "collapsed": true
   },
   "outputs": [],
   "source": [
    "tmpDf[['Chr','Loc','Loc']].to_csv('/data/cellardata/users/btsui/dbsnp/snp_beds/'+specie+'.bed',\n",
    "                                  sep='\\t',header=None,index=None)"
   ]
  },
  {
   "cell_type": "code",
   "execution_count": 269,
   "metadata": {},
   "outputs": [
    {
     "name": "stdout",
     "output_type": "stream",
     "text": [
      "/data/cellardata/users/btsui/dbsnp/snp_beds/Homo_sapiens.bed\r\n"
     ]
    }
   ],
   "source": [
    "!echo /data/cellardata/users/btsui/dbsnp/snp_beds/Homo_sapiens.bed"
   ]
  },
  {
   "cell_type": "code",
   "execution_count": 232,
   "metadata": {
    "collapsed": true
   },
   "outputs": [],
   "source": [
    "#!wc -l /data/cellardata/users/btsui/dbsnp/snp_beds/Homo_sapiens.bed"
   ]
  },
  {
   "cell_type": "code",
   "execution_count": 233,
   "metadata": {
    "collapsed": true
   },
   "outputs": [],
   "source": [
    "!rm pipe\n",
    "!mkfifo pipe"
   ]
  },
  {
   "cell_type": "code",
   "execution_count": 234,
   "metadata": {
    "collapsed": true
   },
   "outputs": [],
   "source": [
    "import os"
   ]
  },
  {
   "cell_type": "code",
   "execution_count": 235,
   "metadata": {},
   "outputs": [
    {
     "data": {
      "text/plain": [
       "0"
      ]
     },
     "execution_count": 235,
     "metadata": {},
     "output_type": "execute_result"
    }
   ],
   "source": [
    "os.system('maskFastaFromBed -fi /cellar/users/btsui/Data/ensembl/clean/'+specie+'.fa -bed complement.txt -fo pipe &')"
   ]
  },
  {
   "cell_type": "code",
   "execution_count": 236,
   "metadata": {
    "collapsed": true
   },
   "outputs": [],
   "source": [
    "outDir='/cellar/users/btsui/Data/ensembl/snp_masked/'"
   ]
  },
  {
   "cell_type": "code",
   "execution_count": 237,
   "metadata": {},
   "outputs": [
    {
     "data": {
      "text/plain": [
       "0"
      ]
     },
     "execution_count": 237,
     "metadata": {},
     "output_type": "execute_result"
    }
   ],
   "source": [
    "os.system('gzip -c pipe > '+outDir+specie+'.fa.gz')"
   ]
  },
  {
   "cell_type": "code",
   "execution_count": null,
   "metadata": {
    "collapsed": true
   },
   "outputs": [],
   "source": []
  },
  {
   "cell_type": "markdown",
   "metadata": {},
   "source": [
    "### combine with microbe"
   ]
  },
  {
   "cell_type": "code",
   "execution_count": 238,
   "metadata": {
    "collapsed": true
   },
   "outputs": [],
   "source": [
    "#'microbe.fa.gz'"
   ]
  },
  {
   "cell_type": "code",
   "execution_count": 239,
   "metadata": {
    "collapsed": true
   },
   "outputs": [],
   "source": [
    "inDir=outDir+specie+'.fa.gz'\n",
    "withMicrobeDir=inDir.replace('.fa.gz','.microbe.fa.gz')"
   ]
  },
  {
   "cell_type": "code",
   "execution_count": 240,
   "metadata": {},
   "outputs": [
    {
     "data": {
      "text/plain": [
       "0"
      ]
     },
     "execution_count": 240,
     "metadata": {},
     "output_type": "execute_result"
    }
   ],
   "source": [
    "os.system('cat microbe.fa.gz '+inDir+' >'+withMicrobeDir)"
   ]
  },
  {
   "cell_type": "code",
   "execution_count": 246,
   "metadata": {
    "collapsed": true
   },
   "outputs": [],
   "source": [
    "#withMicrobeDir"
   ]
  },
  {
   "cell_type": "code",
   "execution_count": 249,
   "metadata": {},
   "outputs": [
    {
     "ename": "OSError",
     "evalue": "[Errno 17] File exists: '/cellar/users/btsui/Data/BOWTIE_GENOME_SNP_INDEX/Mus_musculus'",
     "output_type": "error",
     "traceback": [
      "\u001b[0;31m---------------------------------------------------------------------------\u001b[0m",
      "\u001b[0;31mOSError\u001b[0m                                   Traceback (most recent call last)",
      "\u001b[0;32m<ipython-input-249-fc9085d7584c>\u001b[0m in \u001b[0;36m<module>\u001b[0;34m()\u001b[0m\n\u001b[0;32m----> 1\u001b[0;31m \u001b[0mos\u001b[0m\u001b[0;34m.\u001b[0m\u001b[0mmkdir\u001b[0m\u001b[0;34m(\u001b[0m\u001b[0;34m'/cellar/users/btsui/Data/BOWTIE_GENOME_SNP_INDEX/'\u001b[0m\u001b[0;34m+\u001b[0m\u001b[0mspecie\u001b[0m\u001b[0;34m)\u001b[0m\u001b[0;34m\u001b[0m\u001b[0m\n\u001b[0m",
      "\u001b[0;31mOSError\u001b[0m: [Errno 17] File exists: '/cellar/users/btsui/Data/BOWTIE_GENOME_SNP_INDEX/Mus_musculus'"
     ]
    }
   ],
   "source": [
    "os.mkdir('/cellar/users/btsui/Data/BOWTIE_GENOME_SNP_INDEX/'+specie)"
   ]
  },
  {
   "cell_type": "code",
   "execution_count": 251,
   "metadata": {},
   "outputs": [
    {
     "data": {
      "text/plain": [
       "0"
      ]
     },
     "execution_count": 251,
     "metadata": {},
     "output_type": "execute_result"
    }
   ],
   "source": [
    "myDir='/cellar/users/btsui/Data/BOWTIE_GENOME_SNP_INDEX/'+specie+'/bowtie2'\n",
    "\n",
    "faDir=withMicrobeDir\n",
    "\n",
    "\n",
    "cmd= '/cellar/users/btsui/Program/bowtie2-2.3.4-linux-x86_64/bowtie2-build --threads 4 '+faDir+' '+myDir\n",
    "#os.system('rm -r '+myDir)\n",
    "#os.system('mkdir '+myDir)\n",
    "os.system(cmd)"
   ]
  },
  {
   "cell_type": "code",
   "execution_count": 252,
   "metadata": {
    "collapsed": true
   },
   "outputs": [],
   "source": [
    "#!bowtie2-build --threads 4 /cellar/users/btsui/Data/ensembl/snp_masked/Mus_musculus.microbe.fa.gz /cellar/users/btsui/Data/BOWTIE_GENOME_SNP_INDEX/Mus_musculus/bowtie2"
   ]
  },
  {
   "cell_type": "markdown",
   "metadata": {},
   "source": [
    "# scratch"
   ]
  },
  {
   "cell_type": "code",
   "execution_count": 94,
   "metadata": {
    "collapsed": true
   },
   "outputs": [],
   "source": [
    "#!rm /cellar/users/btsui/Data/ensembl/snp_masked/*"
   ]
  },
  {
   "cell_type": "code",
   "execution_count": 67,
   "metadata": {},
   "outputs": [
    {
     "data": {
      "text/plain": [
       "'bowtie2-build --threads 48 /cellar/users/btsui/Data/ensembl/snp_masked/Homo_sapiens.GRCh38.dna_rm.toplevel.SNP_masked.fa /cellar/users/btsui/Data/BOWTIE_GENOME_SNP_INDEX/Homo_sapiens/'"
      ]
     },
     "execution_count": 67,
     "metadata": {},
     "output_type": "execute_result"
    }
   ],
   "source": [
    "#run bowtie \n",
    "myDir='/cellar/users/btsui/Data/BOWTIE_GENOME_SNP_INDEX/'+specie+'/'\n",
    "faDir='/cellar/users/btsui/Data/ensembl/snp_masked/Homo_sapiens.GRCh38.dna_rm.toplevel.SNP_masked.fa'\n",
    "cmd= 'bowtie2-build --threads 48 '+faDir+' '+myDir\n",
    "cmd"
   ]
  },
  {
   "cell_type": "code",
   "execution_count": 68,
   "metadata": {
    "collapsed": true
   },
   "outputs": [],
   "source": [
    "#!cp Homo_sapiens.GRCh38.dna_rm.toplevel.SNP_masked.fa /cellar/users/btsui/Data/ensembl/snp_masked/.\n"
   ]
  },
  {
   "cell_type": "code",
   "execution_count": 282,
   "metadata": {},
   "outputs": [
    {
     "data": {
      "text/plain": [
       "\"\\nsubDf=complementDf[(complementDf.Chr=='2')]\\nsubDf['dist_idh']=(subDf['Start']-208236227).abs()\\nsubDf.sort_values('dist_idh')\""
      ]
     },
     "execution_count": 282,
     "metadata": {},
     "output_type": "execute_result"
    }
   ],
   "source": [
    "#IDH1\n",
    "\"\"\"\n",
    "Chromosome:2\n",
    "Start:208,236,227 bp from pterEnd:208,266,074 bp from pter\n",
    "\n",
    "\"\"\"\n",
    "\n",
    "\"\"\"\n",
    "subDf=complementDf[(complementDf.Chr=='2')]\n",
    "subDf['dist_idh']=(subDf['Start']-208236227).abs()\n",
    "subDf.sort_values('dist_idh')\"\"\""
   ]
  },
  {
   "cell_type": "code",
   "execution_count": 262,
   "metadata": {
    "collapsed": true
   },
   "outputs": [],
   "source": [
    "spaceMasked=(complementDf.End-complementDf.Start)"
   ]
  },
  {
   "cell_type": "code",
   "execution_count": 265,
   "metadata": {},
   "outputs": [
    {
     "data": {
      "text/plain": [
       "10.705346589807313"
      ]
     },
     "execution_count": 265,
     "metadata": {},
     "output_type": "execute_result"
    }
   ],
   "source": [
    "np.log10((spaceMasked.sum()))"
   ]
  },
  {
   "cell_type": "code",
   "execution_count": 267,
   "metadata": {},
   "outputs": [
    {
     "data": {
      "text/plain": [
       "50739547498"
      ]
     },
     "execution_count": 267,
     "metadata": {},
     "output_type": "execute_result"
    }
   ],
   "source": [
    "import cPickle as pickle\n",
    "import bz2\n",
    "\n",
    "db = pickle.load(bz2.BZ2File('db_v20/mpa_v20_m200.pkl', 'r'))"
   ]
  },
  {
   "cell_type": "code",
   "execution_count": 306,
   "metadata": {
    "collapsed": true
   },
   "outputs": [],
   "source": [
    "from Bio import SeqIO"
   ]
  },
  {
   "cell_type": "code",
   "execution_count": 270,
   "metadata": {},
   "outputs": [
    {
     "data": {
      "text/plain": [
       "0.9934342390348803"
      ]
     },
     "execution_count": 270,
     "metadata": {},
     "output_type": "execute_result"
    }
   ],
   "source": [
    "\n",
    "record = SeqIO.read(\"single.fasta\", \"fasta\")"
   ]
  },
  {
   "cell_type": "code",
   "execution_count": 34,
   "metadata": {
    "collapsed": true
   },
   "outputs": [],
   "source": [
    "#!cp  ./Homo_sapiens.GRCh38.dna_rm.toplevel.SNP_masked.fa.gz /cellar/users/btsui/Data/ensembl/snp_masked/"
   ]
  },
  {
   "cell_type": "code",
   "execution_count": 750,
   "metadata": {},
   "outputs": [
    {
     "name": "stdout",
     "output_type": "stream",
     "text": [
      "1\n"
     ]
    }
   ],
   "source": [
    "from Bio import SeqIO\n",
    "import gzip\n",
    "maskedFasta=outDir+specie+'.fa.gz'\n",
    "unmaskedFasta='/cellar/users/btsui/Data/ensembl/release/fasta/Homo_sapiens.GRCh38.dna_rm.toplevel.fa'\n",
    "with open(unmaskedFasta, \"r\") as handle:\n",
    "    for human_record in SeqIO.parse(handle, \"fasta\") :\n",
    "        print(human_record.id)\n",
    "        if human_record.id=='1':\n",
    "                break\n",
    "     "
   ]
  },
  {
   "cell_type": "code",
   "execution_count": 718,
   "metadata": {},
   "outputs": [
    {
     "name": "stdout",
     "output_type": "stream",
     "text": [
      "1\n"
     ]
    }
   ],
   "source": [
    "from Bio import SeqIO\n",
    "import gzip\n",
    "#maskedFasta=outDir+'Hm'+'.fa.gz'\n",
    "unmaskedFasta='/cellar/users/btsui/Data/ensembl/clean/Mus_musculus.fa'\n",
    "with open(unmaskedFasta, \"r\") as handle:\n",
    "    for mouse_record in SeqIO.parse(handle, \"fasta\") :\n",
    "        print(mouse_record.id)\n",
    "        if mouse_record.id=='1':\n",
    "                break\n",
    "     "
   ]
  },
  {
   "cell_type": "code",
   "execution_count": 753,
   "metadata": {},
   "outputs": [
    {
     "data": {
      "text/plain": [
       "'N'"
      ]
     },
     "execution_count": 753,
     "metadata": {},
     "output_type": "execute_result"
    }
   ],
   "source": [
    "human_record[10177]"
   ]
  },
  {
   "cell_type": "code",
   "execution_count": 692,
   "metadata": {},
   "outputs": [
    {
     "data": {
      "text/plain": [
       "'\\n#human chr1\\t14727\\t14728\\t0\\n#mouse chr17\\t66119103\\t66119104\\t0\\n'"
      ]
     },
     "execution_count": 692,
     "metadata": {},
     "output_type": "execute_result"
    }
   ],
   "source": [
    "\"\"\"\n",
    "#human 2:208248388..208248388,\n",
    "#mouse chr1\t65170978\t65170979\t60497\n",
    "\n",
    "1\t10177\n",
    "\"\"\"        \n",
    "mouse_record   "
   ]
  },
  {
   "cell_type": "code",
   "execution_count": 727,
   "metadata": {},
   "outputs": [
    {
     "data": {
      "text/plain": [
       "'AATGACTTACTTGGTCCCCATATGCATGTCGGCCAATGATGATGGGTTTTACCCAGCCTG'"
      ]
     },
     "execution_count": 727,
     "metadata": {},
     "output_type": "execute_result"
    }
   ],
   "source": [
    "i=65170978\n",
    "#\n",
    "str(mouse_record.seq)[i-30:i+30]"
   ]
  },
  {
   "cell_type": "code",
   "execution_count": 720,
   "metadata": {
    "collapsed": true
   },
   "outputs": [],
   "source": [
    "from Bio import Seq"
   ]
  },
  {
   "cell_type": "code",
   "execution_count": 741,
   "metadata": {},
   "outputs": [
    {
     "data": {
      "text/plain": [
       "'G'"
      ]
     },
     "execution_count": 741,
     "metadata": {},
     "output_type": "execute_result"
    }
   ],
   "source": [
    "i=208248388\n",
    "(str(human_record.seq)[i-30:i+30])\n",
    "human_record.seq[i]"
   ]
  },
  {
   "cell_type": "code",
   "execution_count": 733,
   "metadata": {},
   "outputs": [
    {
     "data": {
      "text/plain": [
       "''"
      ]
     },
     "execution_count": 733,
     "metadata": {},
     "output_type": "execute_result"
    }
   ],
   "source": [
    "## G➞A\n"
   ]
  },
  {
   "cell_type": "code",
   "execution_count": 732,
   "metadata": {},
   "outputs": [
    {
     "data": {
      "text/plain": [
       "'ACGA'"
      ]
     },
     "execution_count": 732,
     "metadata": {},
     "output_type": "execute_result"
    }
   ],
   "source": [
    "(str(human_record.seq)[(i-2):(i+2)])"
   ]
  },
  {
   "cell_type": "code",
   "execution_count": 739,
   "metadata": {},
   "outputs": [
    {
     "data": {
      "text/plain": [
       "'G'"
      ]
     },
     "execution_count": 739,
     "metadata": {},
     "output_type": "execute_result"
    }
   ],
   "source": [
    "i=65170978\n",
    "#Seq.reverse_complement(str(human_record.seq)[i-20:i+20])\n",
    "(mouse_record.seq[i])"
   ]
  },
  {
   "cell_type": "code",
   "execution_count": 364,
   "metadata": {},
   "outputs": [
    {
     "data": {
      "text/plain": [
       "'TAAGCATGACGACCTATGAT'"
      ]
     },
     "execution_count": 364,
     "metadata": {},
     "output_type": "execute_result"
    }
   ],
   "source": [
    "str(record.seq)[i-10:i+10]"
   ]
  },
  {
   "cell_type": "code",
   "execution_count": 113,
   "metadata": {},
   "outputs": [
    {
     "name": "stdout",
     "output_type": "stream",
     "text": [
      "3660\n"
     ]
    }
   ],
   "source": [
    "proteome='/cellar/users/btsui/Downloads/viral.2.protein.faa'\n",
    "with open(proteome) as handle:\n",
    "    for record in SeqIO.parse(handle, \"fasta\") :\n",
    "        print (len(record))*3\n",
    "        break"
   ]
  },
  {
   "cell_type": "code",
   "execution_count": 114,
   "metadata": {},
   "outputs": [
    {
     "data": {
      "text/plain": [
       "SeqRecord(seq=Seq('MAVNTSGKTRLPQPASEDYTQYARNTLKNLNNVYEKFAVRGPVLALVRPAQFSK...GAV', SingleLetterAlphabet()), id='YP_003620396.1', name='YP_003620396.1', description='YP_003620396.1 p130 [Providence virus]', dbxrefs=[])"
      ]
     },
     "execution_count": 114,
     "metadata": {},
     "output_type": "execute_result"
    }
   ],
   "source": [
    "record"
   ]
  },
  {
   "cell_type": "code",
   "execution_count": 115,
   "metadata": {},
   "outputs": [
    {
     "name": "stdout",
     "output_type": "stream",
     "text": [
      "-rw-r--r-- 1 btsui users 19M Dec 30 13:25 /cellar/users/btsui/Downloads/viral.2.protein.faa\r\n"
     ]
    }
   ],
   "source": [
    "!ls -lah /cellar/users/btsui/Downloads/viral.2.protein.faa"
   ]
  },
  {
   "cell_type": "markdown",
   "metadata": {},
   "source": [
    "#### create ids for the bed"
   ]
  },
  {
   "cell_type": "code",
   "execution_count": 559,
   "metadata": {
    "collapsed": true
   },
   "outputs": [],
   "source": [
    "import pandas as pd\n",
    "import numpy as np"
   ]
  },
  {
   "cell_type": "code",
   "execution_count": 579,
   "metadata": {
    "collapsed": true,
    "scrolled": true
   },
   "outputs": [],
   "source": [
    "tmpBedDf=pd.read_csv('/data/cellardata/users/btsui/dbsnp/snp_beds/Homo_sapiens.bed',header=None,sep='\\t')"
   ]
  },
  {
   "cell_type": "code",
   "execution_count": 580,
   "metadata": {},
   "outputs": [
    {
     "data": {
      "text/plain": [
       "array(['1', '2', '3', '4', '5', '6', '7', '8', '9', '10', '11', '12', '13',\n",
       "       '14', '15', '16', '17', '18', '19', '20', '21', '22', 'X', 'Y', 'MT'], dtype=object)"
      ]
     },
     "execution_count": 580,
     "metadata": {},
     "output_type": "execute_result"
    }
   ],
   "source": [
    "tmpBedDf[0].astype(np.str).unique()"
   ]
  },
  {
   "cell_type": "code",
   "execution_count": 707,
   "metadata": {},
   "outputs": [
    {
     "data": {
      "text/plain": [
       "208248388"
      ]
     },
     "execution_count": 707,
     "metadata": {},
     "output_type": "execute_result"
    }
   ],
   "source": [
    "208248388"
   ]
  },
  {
   "cell_type": "code",
   "execution_count": null,
   "metadata": {},
   "outputs": [],
   "source": []
  },
  {
   "cell_type": "code",
   "execution_count": 582,
   "metadata": {},
   "outputs": [],
   "source": [
    "tmpBedDf.columns=['Chr','Pos','']\n",
    "tmpBedDf['Chr']=tmpBedDf['Chr'].astype(np.str)\n",
    "tmpBedDf['Pos']=tmpBedDf['Pos'].astype(np.str)\n",
    "#tmpBedDf['Chr_Pos']=tmpBedDf['Chr']+'-'+tmpBedDf['Pos']"
   ]
  },
  {
   "cell_type": "code",
   "execution_count": 583,
   "metadata": {
    "collapsed": true
   },
   "outputs": [],
   "source": [
    "tmpBedDf['Id']=tmpBedDf.index"
   ]
  },
  {
   "cell_type": "code",
   "execution_count": 585,
   "metadata": {},
   "outputs": [],
   "source": [
    "#tmpBedDf[['Chr_Pos','Id']].drop_duplicates(['Chr_Pos']).to_pickle('/data/cellardata/users/btsui/dbsnp/snp_beds/Homo_sapiens_chrom_pos__id.pickle')"
   ]
  },
  {
   "cell_type": "code",
   "execution_count": 589,
   "metadata": {},
   "outputs": [],
   "source": [
    "#tmpBedDf"
   ]
  },
  {
   "cell_type": "code",
   "execution_count": 590,
   "metadata": {},
   "outputs": [],
   "source": [
    "#index=tmpDf.Chr.value_counts()"
   ]
  },
  {
   "cell_type": "code",
   "execution_count": 591,
   "metadata": {},
   "outputs": [],
   "source": [
    "#index.astype(np.str)"
   ]
  },
  {
   "cell_type": "code",
   "execution_count": 592,
   "metadata": {
    "collapsed": true
   },
   "outputs": [],
   "source": [
    "specie='Homo_sapiens'"
   ]
  },
  {
   "cell_type": "code",
   "execution_count": 593,
   "metadata": {
    "collapsed": true
   },
   "outputs": [],
   "source": [
    "myBedDir='/data/cellardata/users/btsui/dbsnp/snp_beds/'+specie+'.bed'"
   ]
  },
  {
   "cell_type": "code",
   "execution_count": 657,
   "metadata": {
    "collapsed": true
   },
   "outputs": [],
   "source": [
    "myBedDf=pd.read_csv(myBedDir,sep='\\t',header=None)"
   ]
  },
  {
   "cell_type": "code",
   "execution_count": 658,
   "metadata": {
    "collapsed": true
   },
   "outputs": [],
   "source": [
    "myBedDf[3]=myBedDf.index"
   ]
  },
  {
   "cell_type": "code",
   "execution_count": 659,
   "metadata": {
    "collapsed": true
   },
   "outputs": [],
   "source": [
    "import numpy as np"
   ]
  },
  {
   "cell_type": "code",
   "execution_count": 660,
   "metadata": {
    "collapsed": true
   },
   "outputs": [],
   "source": [
    "window=1"
   ]
  },
  {
   "cell_type": "code",
   "execution_count": 661,
   "metadata": {
    "collapsed": true
   },
   "outputs": [],
   "source": [
    "myBedDf[0]='chr'+myBedDf[0].astype(np.str)\n",
    "myBedDf[2]=myBedDf[2]+window"
   ]
  },
  {
   "cell_type": "code",
   "execution_count": 662,
   "metadata": {},
   "outputs": [],
   "source": [
    "#myBedDf[1]"
   ]
  },
  {
   "cell_type": "code",
   "execution_count": 663,
   "metadata": {},
   "outputs": [
    {
     "data": {
      "text/html": [
       "<div>\n",
       "<style>\n",
       "    .dataframe thead tr:only-child th {\n",
       "        text-align: right;\n",
       "    }\n",
       "\n",
       "    .dataframe thead th {\n",
       "        text-align: left;\n",
       "    }\n",
       "\n",
       "    .dataframe tbody tr th {\n",
       "        vertical-align: top;\n",
       "    }\n",
       "</style>\n",
       "<table border=\"1\" class=\"dataframe\">\n",
       "  <thead>\n",
       "    <tr style=\"text-align: right;\">\n",
       "      <th></th>\n",
       "      <th>0</th>\n",
       "      <th>1</th>\n",
       "      <th>2</th>\n",
       "      <th>3</th>\n",
       "    </tr>\n",
       "  </thead>\n",
       "  <tbody>\n",
       "    <tr>\n",
       "      <th>0</th>\n",
       "      <td>chr1</td>\n",
       "      <td>14727</td>\n",
       "      <td>14728</td>\n",
       "      <td>0</td>\n",
       "    </tr>\n",
       "    <tr>\n",
       "      <th>1</th>\n",
       "      <td>chr1</td>\n",
       "      <td>630825</td>\n",
       "      <td>630826</td>\n",
       "      <td>1</td>\n",
       "    </tr>\n",
       "    <tr>\n",
       "      <th>2</th>\n",
       "      <td>chr1</td>\n",
       "      <td>630833</td>\n",
       "      <td>630834</td>\n",
       "      <td>2</td>\n",
       "    </tr>\n",
       "    <tr>\n",
       "      <th>3</th>\n",
       "      <td>chr1</td>\n",
       "      <td>817186</td>\n",
       "      <td>817187</td>\n",
       "      <td>3</td>\n",
       "    </tr>\n",
       "    <tr>\n",
       "      <th>4</th>\n",
       "      <td>chr1</td>\n",
       "      <td>833068</td>\n",
       "      <td>833069</td>\n",
       "      <td>4</td>\n",
       "    </tr>\n",
       "  </tbody>\n",
       "</table>\n",
       "</div>"
      ],
      "text/plain": [
       "      0       1       2  3\n",
       "0  chr1   14727   14728  0\n",
       "1  chr1  630825  630826  1\n",
       "2  chr1  630833  630834  2\n",
       "3  chr1  817186  817187  3\n",
       "4  chr1  833068  833069  4"
      ]
     },
     "execution_count": 663,
     "metadata": {},
     "output_type": "execute_result"
    }
   ],
   "source": [
    "myBedDf.head()"
   ]
  },
  {
   "cell_type": "code",
   "execution_count": 664,
   "metadata": {
    "collapsed": true
   },
   "outputs": [],
   "source": [
    "#ucscOutS.head(n=1000).to_csv('tmp.bed',sep='\\t',header=None,index=None)"
   ]
  },
  {
   "cell_type": "code",
   "execution_count": 710,
   "metadata": {
    "collapsed": true
   },
   "outputs": [],
   "source": [
    "myBedDf[myBedDf[1]==208248388].head(n=1000).to_csv('tmp.bed',sep='\\t',header=None,index=None)"
   ]
  },
  {
   "cell_type": "code",
   "execution_count": 715,
   "metadata": {},
   "outputs": [
    {
     "data": {
      "text/html": [
       "<div>\n",
       "<style>\n",
       "    .dataframe thead tr:only-child th {\n",
       "        text-align: right;\n",
       "    }\n",
       "\n",
       "    .dataframe thead th {\n",
       "        text-align: left;\n",
       "    }\n",
       "\n",
       "    .dataframe tbody tr th {\n",
       "        vertical-align: top;\n",
       "    }\n",
       "</style>\n",
       "<table border=\"1\" class=\"dataframe\">\n",
       "  <thead>\n",
       "    <tr style=\"text-align: right;\">\n",
       "      <th></th>\n",
       "      <th>0</th>\n",
       "      <th>1</th>\n",
       "      <th>2</th>\n",
       "      <th>3</th>\n",
       "    </tr>\n",
       "  </thead>\n",
       "  <tbody>\n",
       "    <tr>\n",
       "      <th>60497</th>\n",
       "      <td>chr2</td>\n",
       "      <td>208248388</td>\n",
       "      <td>208248389</td>\n",
       "      <td>60497</td>\n",
       "    </tr>\n",
       "  </tbody>\n",
       "</table>\n",
       "</div>"
      ],
      "text/plain": [
       "          0          1          2      3\n",
       "60497  chr2  208248388  208248389  60497"
      ]
     },
     "execution_count": 715,
     "metadata": {},
     "output_type": "execute_result"
    }
   ],
   "source": [
    "myBedDf[myBedDf[1]==208248388]"
   ]
  },
  {
   "cell_type": "code",
   "execution_count": null,
   "metadata": {},
   "outputs": [],
   "source": []
  },
  {
   "cell_type": "code",
   "execution_count": 711,
   "metadata": {},
   "outputs": [],
   "source": [
    "#!~/liftOver"
   ]
  },
  {
   "cell_type": "code",
   "execution_count": 712,
   "metadata": {},
   "outputs": [
    {
     "name": "stdout",
     "output_type": "stream",
     "text": [
      "Reading liftover chains\n",
      "Mapping coordinates\n"
     ]
    }
   ],
   "source": [
    "!~/liftOver -minMatch=0.2 ./tmp.bed ~/hg38ToMm10.over.chain ./tmp.out.100.bed unMapped"
   ]
  },
  {
   "cell_type": "code",
   "execution_count": 713,
   "metadata": {},
   "outputs": [
    {
     "name": "stdout",
     "output_type": "stream",
     "text": [
      "chr2\t208248388\t208248389\t60497\r\n"
     ]
    }
   ],
   "source": [
    "!head ./tmp.bed"
   ]
  },
  {
   "cell_type": "code",
   "execution_count": 682,
   "metadata": {
    "collapsed": true
   },
   "outputs": [],
   "source": [
    "oneBase=pd.read_csv('./tmp.out.100.bed',header=None,sep='\\t').set_index(3)[1]"
   ]
  },
  {
   "cell_type": "code",
   "execution_count": 716,
   "metadata": {
    "scrolled": true
   },
   "outputs": [
    {
     "name": "stdout",
     "output_type": "stream",
     "text": [
      "chr1\t65170978\t65170979\t60497\r\n"
     ]
    }
   ],
   "source": [
    "!head ./tmp.out.100.bed"
   ]
  },
  {
   "cell_type": "code",
   "execution_count": 675,
   "metadata": {},
   "outputs": [
    {
     "name": "stdout",
     "output_type": "stream",
     "text": [
      "chr17\t66119103\t66119104\t0\r\n",
      "chrM\t5086\t5087\t1\r\n",
      "chrM\t5095\t5096\t2\r\n",
      "chr4\t156244134\t156244135\t8\r\n",
      "chr4\t156239437\t156239438\t9\r\n",
      "chr4\t156225155\t156225156\t10\r\n",
      "chr4\t156199911\t156199912\t12\r\n",
      "chr4\t156199826\t156199827\t13\r\n",
      "chr4\t156199738\t156199739\t14\r\n",
      "chr4\t156199695\t156199696\t15\r\n"
     ]
    }
   ],
   "source": [
    "!head tmp.out.100.bed"
   ]
  },
  {
   "cell_type": "code",
   "execution_count": 678,
   "metadata": {},
   "outputs": [
    {
     "data": {
      "text/html": [
       "<div>\n",
       "<style>\n",
       "    .dataframe thead tr:only-child th {\n",
       "        text-align: right;\n",
       "    }\n",
       "\n",
       "    .dataframe thead th {\n",
       "        text-align: left;\n",
       "    }\n",
       "\n",
       "    .dataframe tbody tr th {\n",
       "        vertical-align: top;\n",
       "    }\n",
       "</style>\n",
       "<table border=\"1\" class=\"dataframe\">\n",
       "  <thead>\n",
       "    <tr style=\"text-align: right;\">\n",
       "      <th></th>\n",
       "      <th>0</th>\n",
       "      <th>1</th>\n",
       "      <th>2</th>\n",
       "      <th>3</th>\n",
       "    </tr>\n",
       "  </thead>\n",
       "  <tbody>\n",
       "    <tr>\n",
       "      <th>0</th>\n",
       "      <td>chr17</td>\n",
       "      <td>66119103</td>\n",
       "      <td>66119104</td>\n",
       "      <td>0</td>\n",
       "    </tr>\n",
       "    <tr>\n",
       "      <th>1</th>\n",
       "      <td>chrM</td>\n",
       "      <td>5086</td>\n",
       "      <td>5087</td>\n",
       "      <td>1</td>\n",
       "    </tr>\n",
       "    <tr>\n",
       "      <th>2</th>\n",
       "      <td>chrM</td>\n",
       "      <td>5095</td>\n",
       "      <td>5096</td>\n",
       "      <td>2</td>\n",
       "    </tr>\n",
       "    <tr>\n",
       "      <th>3</th>\n",
       "      <td>chr4</td>\n",
       "      <td>156244134</td>\n",
       "      <td>156244135</td>\n",
       "      <td>8</td>\n",
       "    </tr>\n",
       "    <tr>\n",
       "      <th>4</th>\n",
       "      <td>chr4</td>\n",
       "      <td>156239437</td>\n",
       "      <td>156239438</td>\n",
       "      <td>9</td>\n",
       "    </tr>\n",
       "  </tbody>\n",
       "</table>\n",
       "</div>"
      ],
      "text/plain": [
       "       0          1          2  3\n",
       "0  chr17   66119103   66119104  0\n",
       "1   chrM       5086       5087  1\n",
       "2   chrM       5095       5096  2\n",
       "3   chr4  156244134  156244135  8\n",
       "4   chr4  156239437  156239438  9"
      ]
     },
     "execution_count": 678,
     "metadata": {},
     "output_type": "execute_result"
    }
   ],
   "source": [
    "pd.read_csv('./tmp.out.100.bed',header=None,sep='\\t').head()\n"
   ]
  },
  {
   "cell_type": "code",
   "execution_count": 553,
   "metadata": {
    "collapsed": true
   },
   "outputs": [],
   "source": [
    "tmpDf=pd.DataFrame({'one':oneBase,'hundred':hundredBase})"
   ]
  },
  {
   "cell_type": "code",
   "execution_count": 554,
   "metadata": {
    "collapsed": true
   },
   "outputs": [],
   "source": [
    "%matplotlib inline\n",
    "import seaborn as sns"
   ]
  },
  {
   "cell_type": "code",
   "execution_count": 555,
   "metadata": {},
   "outputs": [
    {
     "data": {
      "text/plain": [
       "1.0            734\n",
       "124878053.0      1\n",
       "99.0             1\n",
       "100.0            1\n",
       "dtype: int64"
      ]
     },
     "execution_count": 555,
     "metadata": {},
     "output_type": "execute_result"
    }
   ],
   "source": [
    "tmpS=(tmpDf['hundred']-tmpDf['one']).abs()\n",
    "tmpS.value_counts()"
   ]
  },
  {
   "cell_type": "code",
   "execution_count": 556,
   "metadata": {},
   "outputs": [
    {
     "data": {
      "text/plain": [
       "<seaborn.axisgrid.JointGrid at 0x7f3b9a2df710>"
      ]
     },
     "execution_count": 556,
     "metadata": {},
     "output_type": "execute_result"
    },
    {
     "data": {
      "image/png": "[encoded data removed]",
      "text/plain": [
       "<matplotlib.figure.Figure at 0x7f3b91a9c410>"
      ]
     },
     "metadata": {},
     "output_type": "display_data"
    }
   ],
   "source": [
    "sns.jointplot(data=np.log10(tmpDf+1),x='one',y='hundred')"
   ]
  },
  {
   "cell_type": "markdown",
   "metadata": {},
   "source": [
    "75% for using just 1 bp SNP\n",
    "% for using 100 bp window"
   ]
  },
  {
   "cell_type": "code",
   "execution_count": 301,
   "metadata": {
    "collapsed": true
   },
   "outputs": [],
   "source": [
    "#chr1\t817186\t817187\t3\n"
   ]
  },
  {
   "cell_type": "code",
   "execution_count": null,
   "metadata": {
    "collapsed": true
   },
   "outputs": [],
   "source": []
  }
 ],
 "metadata": {
  "kernelspec": {
   "display_name": "Python [default]",
   "language": "python",
   "name": "python3"
  },
  "language_info": {
   "codemirror_mode": {
    "name": "ipython",
    "version": 3
   },
   "file_extension": ".py",
   "mimetype": "text/x-python",
   "name": "python",
   "nbconvert_exporter": "python",
   "pygments_lexer": "ipython3",
   "version": "3.6.5"
  }
 },
 "nbformat": 4,
 "nbformat_minor": 1
}
