{
 "cells": [
  {
   "cell_type": "code",
   "execution_count": 1,
   "metadata": {},
   "outputs": [],
   "source": [
    "\n",
    "import pandas as pd\n",
    "gdc_meta_df=pd.read_json('files.2018-07-11.json')"
   ]
  },
  {
   "cell_type": "code",
   "execution_count": 16,
   "metadata": {},
   "outputs": [],
   "source": [
    "#gdc_meta_df['cases']"
   ]
  },
  {
   "cell_type": "code",
   "execution_count": 9,
   "metadata": {},
   "outputs": [],
   "source": [
    "#!cp ../XGS_WGS/ParseBamReadCount_base_case.ipynb ./TestPipeline/."
   ]
  },
  {
   "cell_type": "code",
   "execution_count": 10,
   "metadata": {},
   "outputs": [],
   "source": [
    "from tqdm import tqdm"
   ]
  },
  {
   "cell_type": "code",
   "execution_count": 14,
   "metadata": {},
   "outputs": [
    {
     "name": "stdout",
     "output_type": "stream",
     "text": [
      "../XGS_WGS/testOne.ipynb:19:    \"bam_read_count_dir='/cellar/users/btsui/Program/bam_read_count/bam-readcount-master/bin/bam-readcount'\\n\",\r\n",
      "../XGS_WGS/testOne.ipynb:115:       \"'/cellar/users/btsui/Program/bam_read_count/bam-readcount-master/bin/bam-readcount C494.TCGA-S9-A6U1-01A-21D-A33T-08.1_gdc_realn.bam |gzip > tcga.txt.gz'\"\r\n",
      "../XGS_WGS/testOne.ipynb:137:       \"'/cellar/users/btsui/Program/bam_read_count/bam-readcount-master/bin/bam-readcount -l /cellar/users/btsui/Data/dbsnp/snp_beds/Homo_sapiens.bed -f /cellar/users/btsui/Data/ensembl/snp_masked/Homo_sapiens.microbe.fa file_sorted |gzip > snp.txt.gz'\"\r\n",
      "../XGS_WGS/testOne.ipynb:394:    \"bam_read_count_dir='/cellar/users/btsui/Program/bam_read_count/bam-readcount-master/bin/bam-readcount'\"\r\n",
      "../XGS_WGS/testOne.ipynb:434:       \"'/cellar/users/btsui/Program/bam_read_count/bam-readcount-master/bin/bam-readcount -l loci.txt -f /cellar/users/btsui/Data/ensembl/snp_masked/Homo_sapiens.GRCh38.dna_rm.toplevel.SNP_masked.fa sorted.bam'\"\r\n",
      "../XGS_WGS/testOne.ipynb:443:    \"#bam-readcount -f ref.fa some.bam\\n\",\r\n"
     ]
    }
   ],
   "source": [
    "#tqdm()\n",
    "!grep -rn readcount ../**/*.ipynb "
   ]
  },
  {
   "cell_type": "code",
   "execution_count": 15,
   "metadata": {},
   "outputs": [
    {
     "name": "stdout",
     "output_type": "stream",
     "text": [
      "../Analysis/CompareTCGA_alignment_w_mine_pipe.ipynb:246:    \"g=sns.jointplot(data=inPlotDf,x=ctrl_label,y=case_label,kind='hex',xlim=[0,10],ylim=[0,10])\\n\",\r\n",
      "../Analysis/CompareTCGA_alignment_w_mine_pipe.ipynb:339:    \"g=sns.jointplot(data=inPlotDf2,x=ctrl_label,y=case_label,kind='hex',xlim=[0,10],ylim=[0,10])\\n\",\r\n",
      "../Analysis/analyzeAnlignmentStatistics.ipynb:240:    \"h=sns.jointplot(data=unstackDf[unstackDf.aligned_reads_log10>3],x='aligned_reads_log10',\\n\",\r\n",
      "../BS_aling/Untitled.ipynb:233:    \"sns.jointplot(data=myDf,x='rapmap',y='roadmap',kind='hex',stat_func=stats.spearmanr)\"\r\n",
      "../Chip-seq/CorrelateData.ipynb:520:    \"sns.jointplot(data=nonZeroDf,x='my pipline',y='epigenome roadmap pipeline',kind='scatter',size=5)\"\r\n",
      "../XGS_WGS/MaskingGenomeWithSnp_Specie.ipynb:1837:    \"sns.jointplot(data=np.log10(tmpDf+1),x='one',y='hundred')\"\r\n"
     ]
    }
   ],
   "source": [
    "!grep -rn jointplot ../**/*.ipynb "
   ]
  },
  {
   "cell_type": "code",
   "execution_count": null,
   "metadata": {},
   "outputs": [],
   "source": []
  }
 ],
 "metadata": {
  "kernelspec": {
   "display_name": "Python 3",
   "language": "python",
   "name": "python3"
  },
  "language_info": {
   "codemirror_mode": {
    "name": "ipython",
    "version": 3
   },
   "file_extension": ".py",
   "mimetype": "text/x-python",
   "name": "python",
   "nbconvert_exporter": "python",
   "pygments_lexer": "ipython3",
   "version": "3.6.5"
  }
 },
 "nbformat": 4,
 "nbformat_minor": 2
}
