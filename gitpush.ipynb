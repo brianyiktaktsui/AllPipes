{
 "cells": [
  {
   "cell_type": "code",
   "execution_count": 13,
   "metadata": {},
   "outputs": [],
   "source": [
    "#!git pull"
   ]
  },
  {
   "cell_type": "code",
   "execution_count": 14,
   "metadata": {},
   "outputs": [
    {
     "data": {
      "text/plain": [
       "'/cellar/users/btsui/Project/METAMAP/notebook/RapMapTest'"
      ]
     },
     "execution_count": 14,
     "metadata": {},
     "output_type": "execute_result"
    }
   ],
   "source": [
    "pwd"
   ]
  },
  {
   "cell_type": "code",
   "execution_count": 23,
   "metadata": {},
   "outputs": [],
   "source": [
    "#!rm Pipelines/synapse_upload/uploadSnpToSynpase.ipynb"
   ]
  },
  {
   "cell_type": "markdown",
   "metadata": {},
   "source": [
    "### push the readme file"
   ]
  },
  {
   "cell_type": "code",
   "execution_count": 9,
   "metadata": {},
   "outputs": [
    {
     "name": "stdout",
     "output_type": "stream",
     "text": [
      "[NbConvertApp] Converting notebook README.ipynb to markdown\n",
      "[NbConvertApp] Writing 13840 bytes to README.md\n",
      "[master 1118b4e] updated: README\n",
      " 1 file changed, 11 insertions(+), 173 deletions(-)\n",
      "Counting objects: 3, done.\n",
      "Delta compression using up to 96 threads.\n",
      "Compressing objects: 100% (3/3), done.\n",
      "Writing objects: 100% (3/3), 472 bytes | 0 bytes/s, done.\n",
      "Total 3 (delta 2), reused 0 (delta 0)\n",
      "remote: Resolving deltas: 100% (2/2), completed with 2 local objects.\u001b[K\n",
      "remote: This repository moved. Please use the new location:\u001b[K\n",
      "remote:   git@github.com:brianyiktaktsui/Skymap.git\u001b[K\n",
      "To git@github.com:brianyiktaktsui/AllPipes.git\n",
      "   559e0dc..1118b4e  master -> master\n"
     ]
    }
   ],
   "source": [
    "#\n",
    "!jupyter nbconvert --to markdown README.ipynb\n",
    "#!gh-md-toc  README_.md >content.txt\n",
    "#!head -n -1 content.txt > content_ignore_lastline.txt\n",
    "#!cat header.txt content_ignore_lastline.txt > content_ignore_lastline_header.txt\n",
    "#!cp README_.md  README.md \n",
    "!git add README.md   #./jupyter-notebooks/clean_notebooks/*\n",
    "!git commit -m \"updated: README \"\n",
    "!git push "
   ]
  },
  {
   "cell_type": "markdown",
   "metadata": {},
   "source": [
    "# update all the notebooks and code"
   ]
  },
  {
   "cell_type": "code",
   "execution_count": null,
   "metadata": {},
   "outputs": [],
   "source": [
    "\n",
    "\n",
    "#\n",
    "\n",
    "!find ./ -name '*.ipynb' | xargs git add\n",
    "!find ./ -name '*.py' | xargs git add\n",
    "\n",
    "!git commit -m \"updated: added all notebook and python scripts \"\n",
    "!git push \n",
    "#!ls ./Figures/sra_data_processed.png\n",
    "\n",
    "!pwd"
   ]
  },
  {
   "cell_type": "code",
   "execution_count": 7,
   "metadata": {},
   "outputs": [
    {
     "name": "stdout",
     "output_type": "stream",
     "text": [
      "git: 'mkdir' is not a git command. See 'git --help'.\r\n"
     ]
    }
   ],
   "source": [
    "#"
   ]
  },
  {
   "cell_type": "code",
   "execution_count": 13,
   "metadata": {},
   "outputs": [
    {
     "name": "stdout",
     "output_type": "stream",
     "text": [
      "[master 14d39a1] updated: conda envs dir\n",
      " 2 files changed, 0 insertions(+), 0 deletions(-)\n",
      " rename environment_conda_py26_btsui.yml => conda_envs/environment_conda_py26_btsui.yml (100%)\n",
      " rename environment_conda_py36_btsui.yml => conda_envs/environment_conda_py36_btsui.yml (100%)\n",
      "Counting objects: 3, done.\n",
      "Delta compression using up to 96 threads.\n",
      "Compressing objects: 100% (3/3), done.\n",
      "Writing objects: 100% (3/3), 365 bytes | 0 bytes/s, done.\n",
      "Total 3 (delta 1), reused 0 (delta 0)\n",
      "remote: Resolving deltas: 100% (1/1), completed with 1 local object.\u001b[K\n",
      "remote: This repository moved. Please use the new location:\u001b[K\n",
      "remote:   git@github.com:brianyiktaktsui/Skymap.git\u001b[K\n",
      "To git@github.com:brianyiktaktsui/AllPipes.git\n",
      "   588d110..14d39a1  master -> master\n"
     ]
    }
   ],
   "source": [
    "!git commit -m \"updated: conda envs dir \"\n",
    "!git push "
   ]
  },
  {
   "cell_type": "code",
   "execution_count": null,
   "metadata": {},
   "outputs": [],
   "source": [
    "#! touch README.txt \n",
    "#! git add"
   ]
  },
  {
   "cell_type": "code",
   "execution_count": 9,
   "metadata": {},
   "outputs": [],
   "source": [
    "#!mkdir conda_envs"
   ]
  },
  {
   "cell_type": "code",
   "execution_count": 12,
   "metadata": {},
   "outputs": [],
   "source": [
    "#!git mv environment_conda_py36_btsui.yml ./conda_envs/."
   ]
  },
  {
   "cell_type": "code",
   "execution_count": 89,
   "metadata": {},
   "outputs": [
    {
     "data": {
      "text/plain": [
       "'/cellar/users/btsui/Project/METAMAP/notebook/RapMapTest'"
      ]
     },
     "execution_count": 89,
     "metadata": {},
     "output_type": "execute_result"
    }
   ],
   "source": [
    "pwd"
   ]
  },
  {
   "cell_type": "code",
   "execution_count": 90,
   "metadata": {},
   "outputs": [],
   "source": [
    "#!git pull"
   ]
  },
  {
   "cell_type": "code",
   "execution_count": 92,
   "metadata": {},
   "outputs": [
    {
     "name": "stdout",
     "output_type": "stream",
     "text": [
      "[master 2920d6d] updated: README\n",
      " 1 file changed, 196 insertions(+), 1197 deletions(-)\n",
      " rewrite Pipelines/RNAseq/checkProgress.ipynb (71%)\n",
      "Counting objects: 5, done.\n",
      "Delta compression using up to 96 threads.\n",
      "Compressing objects: 100% (5/5), done.\n",
      "Writing objects: 100% (5/5), 424 bytes | 0 bytes/s, done.\n",
      "Total 5 (delta 4), reused 0 (delta 0)\n",
      "remote: Resolving deltas: 100% (4/4), completed with 4 local objects.\u001b[K\n",
      "remote: This repository moved. Please use the new location:\u001b[K\n",
      "remote:   git@github.com:brianyiktaktsui/Skymap.git\u001b[K\n",
      "To git@github.com:brianyiktaktsui/AllPipes.git\n",
      "   81a37fb..2920d6d  master -> master\n"
     ]
    }
   ],
   "source": [
    "!git add ~/Project/METAMAP/notebook/RapMapTest/Pipelines/RNAseq/checkProgress.ipynb  #./jupyter-notebooks/clean_notebooks/*\n",
    "!git commit -m \"updated: README \"\n",
    "\n",
    "!git push "
   ]
  },
  {
   "cell_type": "code",
   "execution_count": 61,
   "metadata": {},
   "outputs": [
    {
     "name": "stdout",
     "output_type": "stream",
     "text": [
      "\r\n",
      "Table of Contents\r\n",
      "=================\r\n",
      "\r\n",
      "  * [Summary](#summary)\r\n",
      "      * [Solution: three tables to related &gt; 100k experiments](#solution-three-tables-to-related--100k-experiments)\r\n",
      "  * [Quick start (&lt;10min):](#quick-start-10min)\r\n",
      "      * [References](#references)\r\n",
      "  * [Data directory and loading examples](#data-directory-and-loading-examples)\r\n",
      "      * [Genomic data](#genomic-data)\r\n",
      "      * [Metadata](#metadata)\r\n",
      "  * [Example analysis](#example-analysis)\r\n",
      "      * [1. Locating  variant and correlating with RNAseq and metadata](#1-locating--variant-and-correlating-with-rnaseq-and-metadata)\r\n",
      "      * [2. High resolution mouse developmental hierachy map](#2-high-resolution-mouse-developmental-hierachy-map)\r\n",
      "      * [3. Simple RNAseq data slicing and hypothesis testing](#3-simple-rnaseq-data-slicing-and-hypothesis-testing)\r\n",
      "    * [Methods](#methods)\r\n",
      "      * [Slides](#slides)\r\n",
      "      * [Manuscripts in biorxiv related to this project](#manuscripts-in-biorxiv-related-to-this-project)\r\n",
      "  * [Pipeline](#pipeline)\r\n",
      "      * [Download, parse and merge SRA META DATA](#download-parse-and-merge-sra-meta-data)\r\n",
      "      * [To update the SNP pipeline:](#to-update-the-snp-pipeline)\r\n",
      "    * [Acknowledgement](#acknowledgement)\r\n",
      "    * [Data format and coding style](#data-format-and-coding-style)\r\n",
      "\r\n",
      "Created by [gh-md-toc](https://github.com/ekalinin/github-markdown-toc.go)\r\n"
     ]
    }
   ],
   "source": [
    "!cat README.md"
   ]
  },
  {
   "cell_type": "code",
   "execution_count": 11,
   "metadata": {},
   "outputs": [
    {
     "name": "stdout",
     "output_type": "stream",
     "text": [
      "[master 66cc43e] updated: clean_notebooks/ExampleDataLoading/loadInMetaData.ipynb\n",
      " 1 file changed, 418 insertions(+), 1 deletion(-)\n",
      "Counting objects: 5, done.\n",
      "Delta compression using up to 96 threads.\n",
      "Compressing objects: 100% (4/4), done.\n",
      "Writing objects: 100% (5/5), 1.71 KiB | 0 bytes/s, done.\n",
      "Total 5 (delta 3), reused 0 (delta 0)\n",
      "remote: Resolving deltas: 100% (3/3), completed with 3 local objects.\u001b[K\n",
      "remote: This repository moved. Please use the new location:\u001b[K\n",
      "remote:   git@github.com:brianyiktaktsui/Skymap.git\u001b[K\n",
      "To git@github.com:brianyiktaktsui/AllPipes.git\n",
      "   53a859d..66cc43e  master -> master\n"
     ]
    }
   ],
   "source": [
    "!git add clean_notebooks/ExampleDataLoading/loadInMetaData.ipynb  #./jupyter-notebooks/clean_notebooks/*\n",
    "!git commit -m \"updated: clean_notebooks/ExampleDataLoading/loadInMetaData.ipynb \"\n",
    "!git push "
   ]
  },
  {
   "cell_type": "code",
   "execution_count": 54,
   "metadata": {},
   "outputs": [],
   "source": [
    "#!cat README.md "
   ]
  },
  {
   "cell_type": "code",
   "execution_count": 55,
   "metadata": {},
   "outputs": [],
   "source": []
  },
  {
   "cell_type": "code",
   "execution_count": 56,
   "metadata": {},
   "outputs": [
    {
     "name": "stdout",
     "output_type": "stream",
     "text": [
      "\r\n",
      "Table of Contents\r\n",
      "=================\r\n",
      "\r\n",
      "  * [Table of Contents](#table-of-contents)\r\n",
      "  * [Summary](#summary)\r\n",
      "      * [Solution: three tables to related &gt; 100k experiments](#solution-three-tables-to-related--100k-experiments)\r\n",
      "  * [Quick start (&lt;10min):](#quick-start-10min)\r\n",
      "      * [References](#references)\r\n",
      "  * [Data directory and loading examples](#data-directory-and-loading-examples)\r\n",
      "      * [Genomic data](#genomic-data)\r\n",
      "      * [Metadata](#metadata)\r\n",
      "  * [Example analysis](#example-analysis)\r\n",
      "      * [1. Locating  variant and correlating with RNAseq and metadata](#1-locating--variant-and-correlating-with-rnaseq-and-metadata)\r\n",
      "      * [2. High resolution mouse developmental hierachy map](#2-high-resolution-mouse-developmental-hierachy-map)\r\n",
      "      * [3. Simple RNAseq data slicing and hypothesis testing](#3-simple-rnaseq-data-slicing-and-hypothesis-testing)\r\n",
      "    * [Methods](#methods)\r\n",
      "      * [Slides](#slides)\r\n",
      "      * [Manuscripts in biorxiv related to this project](#manuscripts-in-biorxiv-related-to-this-project)\r\n",
      "  * [Pipeline](#pipeline)\r\n",
      "      * [Download, parse and merge SRA META DATA](#download-parse-and-merge-sra-meta-data)\r\n",
      "      * [To update the SNP pipeline:](#to-update-the-snp-pipeline)\r\n",
      "    * [Acknowledgement](#acknowledgement)\r\n",
      "    * [Data format and coding style](#data-format-and-coding-style)\r\n",
      "\r\n",
      "Created by [gh-md-toc](https://github.com/ekalinin/github-markdown-toc.go)\r\n"
     ]
    }
   ],
   "source": [
    "!cat content.txt"
   ]
  },
  {
   "cell_type": "code",
   "execution_count": 47,
   "metadata": {},
   "outputs": [
    {
     "name": "stdout",
     "output_type": "stream",
     "text": [
      "[master 0d33ffc] added: loadingRNAseqByGene.ipynb\n",
      " 2 files changed, 1418 insertions(+), 1319 deletions(-)\n",
      " rewrite clean_notebooks/ExampleDataLoading/loadInMetaData.ipynb (69%)\n",
      "Counting objects: 6, done.\n",
      "Delta compression using up to 96 threads.\n",
      "Compressing objects: 100% (5/5), done.\n",
      "Writing objects: 100% (6/6), 6.29 KiB | 0 bytes/s, done.\n",
      "Total 6 (delta 3), reused 0 (delta 0)\n",
      "remote: Resolving deltas: 100% (3/3), completed with 3 local objects.\u001b[K\n",
      "remote: This repository moved. Please use the new location:\u001b[K\n",
      "remote:   git@github.com:brianyiktaktsui/Skymap.git\u001b[K\n",
      "To git@github.com:brianyiktaktsui/AllPipes.git\n",
      "   f3c2ef0..0d33ffc  master -> master\n"
     ]
    }
   ],
   "source": [
    "!git add ./clean_notebooks/ExampleDataLoading/*.ipynb  #./jupyter-notebooks/clean_notebooks/*\n",
    "!git commit -m \"added: loadingRNAseqByGene.ipynb\"\n",
    "!git push "
   ]
  },
  {
   "cell_type": "code",
   "execution_count": 70,
   "metadata": {},
   "outputs": [],
   "source": [
    "#!git add ./clean_notebooks/ExampleDataLoading/*.ipynb"
   ]
  },
  {
   "cell_type": "code",
   "execution_count": 10,
   "metadata": {},
   "outputs": [
    {
     "name": "stdout",
     "output_type": "stream",
     "text": [
      "[master ecebf7a] updated: added all notebook and python scripts\n",
      " 5 files changed, 1233 insertions(+), 3426 deletions(-)\n",
      " rewrite .ipynb_checkpoints/gitpush-checkpoint.ipynb (85%)\n",
      " rewrite gitpush.ipynb (86%)\n",
      "Counting objects: 10, done.\n",
      "Delta compression using up to 96 threads.\n",
      "Compressing objects: 100% (10/10), done.\n",
      "Writing objects: 100% (10/10), 2.36 KiB | 0 bytes/s, done.\n",
      "Total 10 (delta 8), reused 0 (delta 0)\n",
      "remote: Resolving deltas: 100% (8/8), completed with 7 local objects.\u001b[K\n",
      "remote: This repository moved. Please use the new location:\u001b[K\n",
      "remote:   git@github.com:brianyiktaktsui/Skymap.git\u001b[K\n",
      "To git@github.com:brianyiktaktsui/AllPipes.git\n",
      "   1118b4e..ecebf7a  master -> master\n",
      "/cellar/users/btsui/Project/METAMAP/notebook/RapMapTest\n"
     ]
    }
   ],
   "source": []
  },
  {
   "cell_type": "code",
   "execution_count": 73,
   "metadata": {},
   "outputs": [],
   "source": [
    "#!which zip"
   ]
  },
  {
   "cell_type": "code",
   "execution_count": 74,
   "metadata": {},
   "outputs": [
    {
     "name": "stdout",
     "output_type": "stream",
     "text": [
      "updating: clean_notebooks/ExampleDataLoading/loadInMetaData.ipynb (deflated 87%)\n",
      "updating: clean_notebooks/ExampleDataLoading/loadVariantDataBySRRID.ipynb (deflated 82%)\n",
      "updating: clean_notebooks/ExampleDataLoading/loadingRNAseqByGene.ipynb (deflated 80%)\n",
      "[master 4d48f97] modified : ExampleDataLoading.zip\n",
      " 1 file changed, 0 insertions(+), 0 deletions(-)\n",
      " rewrite ExampleDataLoading.zip (99%)\n",
      "Counting objects: 3, done.\n",
      "Delta compression using up to 96 threads.\n",
      "Compressing objects: 100% (3/3), done.\n",
      "Writing objects: 100% (3/3), 13.15 KiB | 0 bytes/s, done.\n",
      "Total 3 (delta 1), reused 0 (delta 0)\n",
      "remote: Resolving deltas: 100% (1/1), completed with 1 local object.\u001b[K\n",
      "remote: This repository moved. Please use the new location:\u001b[K\n",
      "remote:   git@github.com:brianyiktaktsui/Skymap.git\u001b[K\n",
      "To git@github.com:brianyiktaktsui/AllPipes.git\n",
      "   d9aeb43..4d48f97  master -> master\n"
     ]
    }
   ],
   "source": [
    "!zip ExampleDataLoading.zip clean_notebooks/ExampleDataLoading/*.ipynb\n",
    "!git add ExampleDataLoading.zip  #./jupyter-notebooks/clean_notebooks/*\n",
    "!git commit -m \"modified : ExampleDataLoading.zip\"\n",
    "!git push "
   ]
  },
  {
   "cell_type": "code",
   "execution_count": 22,
   "metadata": {},
   "outputs": [
    {
     "name": "stdout",
     "output_type": "stream",
     "text": [
      "[master e456af8] added: all .pdf\n",
      " 5 files changed, 0 insertions(+), 0 deletions(-)\n",
      " create mode 100644 Analysis/Figures/DataAvail/TranscriptCounting.pdf\n",
      " create mode 100644 Analysis/Figures/TCGA_compare.alternative_allele.pdf\n",
      " create mode 100644 Analysis/Figures/TCGA_compare.pdf\n",
      " create mode 100644 Analysis/Figures/sra_data_availability_over_time.pdf\n",
      " create mode 100644 Analysis/Figures/variant_suppport_for_each_sequencing_run.pdf\n",
      "Counting objects: 10, done.\n",
      "Delta compression using up to 96 threads.\n",
      "Compressing objects: 100% (10/10), done.\n",
      "Writing objects: 100% (10/10), 484.64 KiB | 0 bytes/s, done.\n",
      "Total 10 (delta 5), reused 0 (delta 0)\n",
      "remote: Resolving deltas: 100% (5/5), completed with 3 local objects.\u001b[K\n",
      "remote: This repository moved. Please use the new location:\u001b[K\n",
      "remote:   git@github.com:brianyiktaktsui/Skymap.git\u001b[K\n",
      "To git@github.com:brianyiktaktsui/AllPipes.git\n",
      "   746b0eb..e456af8  master -> master\n"
     ]
    }
   ],
   "source": [
    "!find ./Analysis -name '*pdf'| xargs git add\n",
    "!git commit -m \"added: all .pdf \"\n",
    "!git push "
   ]
  },
  {
   "cell_type": "code",
   "execution_count": 14,
   "metadata": {},
   "outputs": [
    {
     "name": "stdout",
     "output_type": "stream",
     "text": [
      "[master 066a473] update notebooks\n",
      " 2 files changed, 52 insertions(+), 1540 deletions(-)\n",
      "Counting objects: 6, done.\n",
      "Delta compression using up to 96 threads.\n",
      "Compressing objects: 100% (5/5), done.\n",
      "Writing objects: 100% (6/6), 807 bytes | 0 bytes/s, done.\n",
      "Total 6 (delta 4), reused 0 (delta 0)\n",
      "remote: Resolving deltas: 100% (4/4), completed with 4 local objects.\u001b[K\n",
      "remote: This repository moved. Please use the new location:\u001b[K\n",
      "remote:   git@github.com:brianyiktaktsui/Skymap.git\u001b[K\n",
      "To git@github.com:brianyiktaktsui/AllPipes.git\n",
      "   e39f828..066a473  master -> master\n"
     ]
    }
   ],
   "source": [
    "!find ./clean_notebooks/ExampleDataLoading/ -name '*.ipynb'| xargs git add\n",
    "!git commit -m \"update notebooks\"\n",
    "!git push "
   ]
  },
  {
   "cell_type": "markdown",
   "metadata": {},
   "source": [
    "## source conda environments"
   ]
  },
  {
   "cell_type": "code",
   "execution_count": null,
   "metadata": {},
   "outputs": [],
   "source": [
    "#!conda env export > environment.yml"
   ]
  },
  {
   "cell_type": "code",
   "execution_count": 7,
   "metadata": {
    "scrolled": false
   },
   "outputs": [],
   "source": [
    "#!ls -lath /nrnb/users/btsui/Data/all_seq/rnaseq_merged_chunks/"
   ]
  },
  {
   "cell_type": "code",
   "execution_count": null,
   "metadata": {},
   "outputs": [],
   "source": []
  }
 ],
 "metadata": {
  "kernelspec": {
   "display_name": "Python [default]",
   "language": "python",
   "name": "python3"
  },
  "language_info": {
   "codemirror_mode": {
    "name": "ipython",
    "version": 3
   },
   "file_extension": ".py",
   "mimetype": "text/x-python",
   "name": "python",
   "nbconvert_exporter": "python",
   "pygments_lexer": "ipython3",
   "version": "3.6.5"
  }
 },
 "nbformat": 4,
 "nbformat_minor": 2
}
