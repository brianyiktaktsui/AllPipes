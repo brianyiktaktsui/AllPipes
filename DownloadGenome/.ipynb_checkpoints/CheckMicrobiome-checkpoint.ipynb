{
 "cells": [
  {
   "cell_type": "code",
   "execution_count": 80,
   "metadata": {
    "collapsed": true
   },
   "outputs": [],
   "source": [
    "%matplotlib inline\n",
    "import pandas as pd\n",
    "import cPickle as pickle\n",
    "import bz2\n",
    "\n",
    "in_dir='/cellar/users/btsui/Program/biobakery-metaphlan2-5ea2bdea8b78/databases/mpa_v20_m200.pkl'\n",
    "db = pickle.load(bz2.BZ2File(in_dir, 'r'))\n",
    "\n"
   ]
  },
  {
   "cell_type": "code",
   "execution_count": 2,
   "metadata": {
    "collapsed": false
   },
   "outputs": [
    {
     "data": {
      "text/plain": [
       "['taxonomy', 'markers']"
      ]
     },
     "execution_count": 2,
     "metadata": {},
     "output_type": "execute_result"
    }
   ],
   "source": [
    "db.keys()"
   ]
  },
  {
   "cell_type": "code",
   "execution_count": 4,
   "metadata": {
    "collapsed": false
   },
   "outputs": [],
   "source": [
    "markers_dict=db['markers']"
   ]
  },
  {
   "cell_type": "code",
   "execution_count": 23,
   "metadata": {
    "collapsed": false
   },
   "outputs": [],
   "source": [
    "taxon_dict=db['taxonomy']"
   ]
  },
  {
   "cell_type": "code",
   "execution_count": 26,
   "metadata": {
    "collapsed": false
   },
   "outputs": [
    {
     "data": {
      "text/plain": [
       "4063283"
      ]
     },
     "execution_count": 26,
     "metadata": {},
     "output_type": "execute_result"
    }
   ],
   "source": [
    "len(taxon_dict.keys())\n",
    "taxon_dict['k__Bacteria|p__Proteobacteria|c__Gammaproteobacteria|o__Pseudomonadales|f__Moraxellaceae|g__Acinetobacter|s__Acinetobacter_baumannii|t__GCF_000222265']"
   ]
  },
  {
   "cell_type": "code",
   "execution_count": 7,
   "metadata": {
    "collapsed": false
   },
   "outputs": [],
   "source": [
    "myDf=pd.DataFrame(markers_dict)"
   ]
  },
  {
   "cell_type": "code",
   "execution_count": 9,
   "metadata": {
    "collapsed": false
   },
   "outputs": [],
   "source": [
    "myDf_T=myDf.T"
   ]
  },
  {
   "cell_type": "code",
   "execution_count": 16,
   "metadata": {
    "collapsed": false,
    "scrolled": true
   },
   "outputs": [
    {
     "data": {
      "text/html": [
       "<div>\n",
       "<style>\n",
       "    .dataframe thead tr:only-child th {\n",
       "        text-align: right;\n",
       "    }\n",
       "\n",
       "    .dataframe thead th {\n",
       "        text-align: left;\n",
       "    }\n",
       "\n",
       "    .dataframe tbody tr th {\n",
       "        vertical-align: top;\n",
       "    }\n",
       "</style>\n",
       "<table border=\"1\" class=\"dataframe\">\n",
       "  <thead>\n",
       "    <tr style=\"text-align: right;\">\n",
       "      <th></th>\n",
       "      <th>clade</th>\n",
       "      <th>ext</th>\n",
       "      <th>len</th>\n",
       "      <th>score</th>\n",
       "      <th>taxon</th>\n",
       "    </tr>\n",
       "  </thead>\n",
       "  <tbody>\n",
       "    <tr>\n",
       "      <th>GeneID:10002878</th>\n",
       "      <td>s__Chimpanzee_polyomavirus</td>\n",
       "      <td>{PRJNA183709, PRJNA183909, PRJNA185191}</td>\n",
       "      <td>2518</td>\n",
       "      <td>3</td>\n",
       "      <td>k__Viruses|p__Viruses_noname|c__Viruses_noname...</td>\n",
       "    </tr>\n",
       "    <tr>\n",
       "      <th>GeneID:10002879</th>\n",
       "      <td>s__Chimpanzee_polyomavirus</td>\n",
       "      <td>{PRJNA183709, PRJNA14071, PRJNA183909}</td>\n",
       "      <td>573</td>\n",
       "      <td>3</td>\n",
       "      <td>k__Viruses|p__Viruses_noname|c__Viruses_noname...</td>\n",
       "    </tr>\n",
       "    <tr>\n",
       "      <th>GeneID:10002880</th>\n",
       "      <td>s__Chimpanzee_polyomavirus</td>\n",
       "      <td>{PRJNA183909}</td>\n",
       "      <td>1494</td>\n",
       "      <td>1</td>\n",
       "      <td>k__Viruses|p__Viruses_noname|c__Viruses_noname...</td>\n",
       "    </tr>\n",
       "    <tr>\n",
       "      <th>GeneID:10003050</th>\n",
       "      <td>s__Chaetoceros_tenuissimus_DNA_virus</td>\n",
       "      <td>{GCA_000002525}</td>\n",
       "      <td>1119</td>\n",
       "      <td>1</td>\n",
       "      <td>k__Viruses|p__Viruses_noname|c__Viruses_noname...</td>\n",
       "    </tr>\n",
       "    <tr>\n",
       "      <th>GeneID:10003051</th>\n",
       "      <td>s__Chaetoceros_tenuissimus_DNA_virus</td>\n",
       "      <td>{}</td>\n",
       "      <td>1341</td>\n",
       "      <td>0</td>\n",
       "      <td>k__Viruses|p__Viruses_noname|c__Viruses_noname...</td>\n",
       "    </tr>\n",
       "    <tr>\n",
       "      <th>GeneID:10003052</th>\n",
       "      <td>s__Chaetoceros_tenuissimus_DNA_virus</td>\n",
       "      <td>{}</td>\n",
       "      <td>1248</td>\n",
       "      <td>0</td>\n",
       "      <td>k__Viruses|p__Viruses_noname|c__Viruses_noname...</td>\n",
       "    </tr>\n",
       "    <tr>\n",
       "      <th>GeneID:10019920</th>\n",
       "      <td>s__Bathycoccus_sp_RCC1105_virus_BpV</td>\n",
       "      <td>{}</td>\n",
       "      <td>252</td>\n",
       "      <td>0</td>\n",
       "      <td>k__Viruses|p__Viruses_noname|c__Viruses_noname...</td>\n",
       "    </tr>\n",
       "    <tr>\n",
       "      <th>GeneID:10019922</th>\n",
       "      <td>s__Bathycoccus_sp_RCC1105_virus_BpV</td>\n",
       "      <td>{}</td>\n",
       "      <td>531</td>\n",
       "      <td>0</td>\n",
       "      <td>k__Viruses|p__Viruses_noname|c__Viruses_noname...</td>\n",
       "    </tr>\n",
       "    <tr>\n",
       "      <th>GeneID:10019924</th>\n",
       "      <td>s__Bathycoccus_sp_RCC1105_virus_BpV</td>\n",
       "      <td>{}</td>\n",
       "      <td>351</td>\n",
       "      <td>0</td>\n",
       "      <td>k__Viruses|p__Viruses_noname|c__Viruses_noname...</td>\n",
       "    </tr>\n",
       "    <tr>\n",
       "      <th>GeneID:10019925</th>\n",
       "      <td>s__Bathycoccus_sp_RCC1105_virus_BpV</td>\n",
       "      <td>{}</td>\n",
       "      <td>333</td>\n",
       "      <td>0</td>\n",
       "      <td>k__Viruses|p__Viruses_noname|c__Viruses_noname...</td>\n",
       "    </tr>\n",
       "    <tr>\n",
       "      <th>GeneID:10019929</th>\n",
       "      <td>s__Bathycoccus_sp_RCC1105_virus_BpV</td>\n",
       "      <td>{}</td>\n",
       "      <td>426</td>\n",
       "      <td>0</td>\n",
       "      <td>k__Viruses|p__Viruses_noname|c__Viruses_noname...</td>\n",
       "    </tr>\n",
       "    <tr>\n",
       "      <th>GeneID:10019930</th>\n",
       "      <td>s__Bathycoccus_sp_RCC1105_virus_BpV</td>\n",
       "      <td>{}</td>\n",
       "      <td>264</td>\n",
       "      <td>0</td>\n",
       "      <td>k__Viruses|p__Viruses_noname|c__Viruses_noname...</td>\n",
       "    </tr>\n",
       "    <tr>\n",
       "      <th>GeneID:10019931</th>\n",
       "      <td>s__Bathycoccus_sp_RCC1105_virus_BpV</td>\n",
       "      <td>{}</td>\n",
       "      <td>471</td>\n",
       "      <td>0</td>\n",
       "      <td>k__Viruses|p__Viruses_noname|c__Viruses_noname...</td>\n",
       "    </tr>\n",
       "    <tr>\n",
       "      <th>GeneID:10019932</th>\n",
       "      <td>s__Bathycoccus_sp_RCC1105_virus_BpV</td>\n",
       "      <td>{}</td>\n",
       "      <td>489</td>\n",
       "      <td>0</td>\n",
       "      <td>k__Viruses|p__Viruses_noname|c__Viruses_noname...</td>\n",
       "    </tr>\n",
       "    <tr>\n",
       "      <th>GeneID:10019934</th>\n",
       "      <td>s__Bathycoccus_sp_RCC1105_virus_BpV</td>\n",
       "      <td>{}</td>\n",
       "      <td>306</td>\n",
       "      <td>0</td>\n",
       "      <td>k__Viruses|p__Viruses_noname|c__Viruses_noname...</td>\n",
       "    </tr>\n",
       "    <tr>\n",
       "      <th>GeneID:10019935</th>\n",
       "      <td>s__Bathycoccus_sp_RCC1105_virus_BpV</td>\n",
       "      <td>{}</td>\n",
       "      <td>771</td>\n",
       "      <td>0</td>\n",
       "      <td>k__Viruses|p__Viruses_noname|c__Viruses_noname...</td>\n",
       "    </tr>\n",
       "    <tr>\n",
       "      <th>GeneID:10019938</th>\n",
       "      <td>s__Bathycoccus_sp_RCC1105_virus_BpV</td>\n",
       "      <td>{}</td>\n",
       "      <td>843</td>\n",
       "      <td>0</td>\n",
       "      <td>k__Viruses|p__Viruses_noname|c__Viruses_noname...</td>\n",
       "    </tr>\n",
       "    <tr>\n",
       "      <th>GeneID:10019939</th>\n",
       "      <td>s__Bathycoccus_sp_RCC1105_virus_BpV</td>\n",
       "      <td>{}</td>\n",
       "      <td>492</td>\n",
       "      <td>0</td>\n",
       "      <td>k__Viruses|p__Viruses_noname|c__Viruses_noname...</td>\n",
       "    </tr>\n",
       "    <tr>\n",
       "      <th>GeneID:10019941</th>\n",
       "      <td>s__Bathycoccus_sp_RCC1105_virus_BpV</td>\n",
       "      <td>{}</td>\n",
       "      <td>1137</td>\n",
       "      <td>0</td>\n",
       "      <td>k__Viruses|p__Viruses_noname|c__Viruses_noname...</td>\n",
       "    </tr>\n",
       "    <tr>\n",
       "      <th>GeneID:10019943</th>\n",
       "      <td>s__Bathycoccus_sp_RCC1105_virus_BpV</td>\n",
       "      <td>{}</td>\n",
       "      <td>861</td>\n",
       "      <td>0</td>\n",
       "      <td>k__Viruses|p__Viruses_noname|c__Viruses_noname...</td>\n",
       "    </tr>\n",
       "    <tr>\n",
       "      <th>GeneID:10019944</th>\n",
       "      <td>s__Bathycoccus_sp_RCC1105_virus_BpV</td>\n",
       "      <td>{}</td>\n",
       "      <td>222</td>\n",
       "      <td>0</td>\n",
       "      <td>k__Viruses|p__Viruses_noname|c__Viruses_noname...</td>\n",
       "    </tr>\n",
       "    <tr>\n",
       "      <th>GeneID:10019945</th>\n",
       "      <td>s__Bathycoccus_sp_RCC1105_virus_BpV</td>\n",
       "      <td>{}</td>\n",
       "      <td>402</td>\n",
       "      <td>0</td>\n",
       "      <td>k__Viruses|p__Viruses_noname|c__Viruses_noname...</td>\n",
       "    </tr>\n",
       "    <tr>\n",
       "      <th>GeneID:10019946</th>\n",
       "      <td>s__Bathycoccus_sp_RCC1105_virus_BpV</td>\n",
       "      <td>{}</td>\n",
       "      <td>273</td>\n",
       "      <td>0</td>\n",
       "      <td>k__Viruses|p__Viruses_noname|c__Viruses_noname...</td>\n",
       "    </tr>\n",
       "    <tr>\n",
       "      <th>GeneID:10019947</th>\n",
       "      <td>s__Bathycoccus_sp_RCC1105_virus_BpV</td>\n",
       "      <td>{}</td>\n",
       "      <td>369</td>\n",
       "      <td>0</td>\n",
       "      <td>k__Viruses|p__Viruses_noname|c__Viruses_noname...</td>\n",
       "    </tr>\n",
       "    <tr>\n",
       "      <th>GeneID:10019948</th>\n",
       "      <td>s__Bathycoccus_sp_RCC1105_virus_BpV</td>\n",
       "      <td>{}</td>\n",
       "      <td>468</td>\n",
       "      <td>0</td>\n",
       "      <td>k__Viruses|p__Viruses_noname|c__Viruses_noname...</td>\n",
       "    </tr>\n",
       "    <tr>\n",
       "      <th>GeneID:10019951</th>\n",
       "      <td>s__Bathycoccus_sp_RCC1105_virus_BpV</td>\n",
       "      <td>{}</td>\n",
       "      <td>288</td>\n",
       "      <td>0</td>\n",
       "      <td>k__Viruses|p__Viruses_noname|c__Viruses_noname...</td>\n",
       "    </tr>\n",
       "    <tr>\n",
       "      <th>GeneID:10019952</th>\n",
       "      <td>s__Bathycoccus_sp_RCC1105_virus_BpV</td>\n",
       "      <td>{}</td>\n",
       "      <td>867</td>\n",
       "      <td>0</td>\n",
       "      <td>k__Viruses|p__Viruses_noname|c__Viruses_noname...</td>\n",
       "    </tr>\n",
       "    <tr>\n",
       "      <th>GeneID:10019953</th>\n",
       "      <td>s__Bathycoccus_sp_RCC1105_virus_BpV</td>\n",
       "      <td>{}</td>\n",
       "      <td>702</td>\n",
       "      <td>0</td>\n",
       "      <td>k__Viruses|p__Viruses_noname|c__Viruses_noname...</td>\n",
       "    </tr>\n",
       "    <tr>\n",
       "      <th>GeneID:10019954</th>\n",
       "      <td>s__Bathycoccus_sp_RCC1105_virus_BpV</td>\n",
       "      <td>{}</td>\n",
       "      <td>423</td>\n",
       "      <td>0</td>\n",
       "      <td>k__Viruses|p__Viruses_noname|c__Viruses_noname...</td>\n",
       "    </tr>\n",
       "    <tr>\n",
       "      <th>GeneID:10019955</th>\n",
       "      <td>s__Bathycoccus_sp_RCC1105_virus_BpV</td>\n",
       "      <td>{}</td>\n",
       "      <td>786</td>\n",
       "      <td>0</td>\n",
       "      <td>k__Viruses|p__Viruses_noname|c__Viruses_noname...</td>\n",
       "    </tr>\n",
       "    <tr>\n",
       "      <th>...</th>\n",
       "      <td>...</td>\n",
       "      <td>...</td>\n",
       "      <td>...</td>\n",
       "      <td>...</td>\n",
       "      <td>...</td>\n",
       "    </tr>\n",
       "    <tr>\n",
       "      <th>gi|99079841|ref|NC_008044.1|:c2923147-2922245</th>\n",
       "      <td>s__Ruegeria_sp_TM1040</td>\n",
       "      <td>{}</td>\n",
       "      <td>903</td>\n",
       "      <td>0</td>\n",
       "      <td>k__Bacteria|p__Proteobacteria|c__Alphaproteoba...</td>\n",
       "    </tr>\n",
       "    <tr>\n",
       "      <th>gi|99079841|ref|NC_008044.1|:c2960235-2959852</th>\n",
       "      <td>s__Ruegeria_sp_TM1040</td>\n",
       "      <td>{}</td>\n",
       "      <td>384</td>\n",
       "      <td>0</td>\n",
       "      <td>k__Bacteria|p__Proteobacteria|c__Alphaproteoba...</td>\n",
       "    </tr>\n",
       "    <tr>\n",
       "      <th>gi|99079841|ref|NC_008044.1|:c3050723-3050052</th>\n",
       "      <td>s__Ruegeria_sp_TM1040</td>\n",
       "      <td>{}</td>\n",
       "      <td>672</td>\n",
       "      <td>0</td>\n",
       "      <td>k__Bacteria|p__Proteobacteria|c__Alphaproteoba...</td>\n",
       "    </tr>\n",
       "    <tr>\n",
       "      <th>gi|99079841|ref|NC_008044.1|:c3114184-3113864</th>\n",
       "      <td>s__Ruegeria_sp_TM1040</td>\n",
       "      <td>{}</td>\n",
       "      <td>321</td>\n",
       "      <td>0</td>\n",
       "      <td>k__Bacteria|p__Proteobacteria|c__Alphaproteoba...</td>\n",
       "    </tr>\n",
       "    <tr>\n",
       "      <th>gi|99079841|ref|NC_008044.1|:c3128064-3127555</th>\n",
       "      <td>s__Ruegeria_sp_TM1040</td>\n",
       "      <td>{}</td>\n",
       "      <td>510</td>\n",
       "      <td>0</td>\n",
       "      <td>k__Bacteria|p__Proteobacteria|c__Alphaproteoba...</td>\n",
       "    </tr>\n",
       "    <tr>\n",
       "      <th>gi|99079841|ref|NC_008044.1|:c339937-339509</th>\n",
       "      <td>s__Ruegeria_sp_TM1040</td>\n",
       "      <td>{}</td>\n",
       "      <td>429</td>\n",
       "      <td>0</td>\n",
       "      <td>k__Bacteria|p__Proteobacteria|c__Alphaproteoba...</td>\n",
       "    </tr>\n",
       "    <tr>\n",
       "      <th>gi|99079841|ref|NC_008044.1|:c383410-382535</th>\n",
       "      <td>s__Ruegeria_sp_TM1040</td>\n",
       "      <td>{}</td>\n",
       "      <td>876</td>\n",
       "      <td>0</td>\n",
       "      <td>k__Bacteria|p__Proteobacteria|c__Alphaproteoba...</td>\n",
       "    </tr>\n",
       "    <tr>\n",
       "      <th>gi|99079841|ref|NC_008044.1|:c383897-383481</th>\n",
       "      <td>s__Ruegeria_sp_TM1040</td>\n",
       "      <td>{}</td>\n",
       "      <td>417</td>\n",
       "      <td>0</td>\n",
       "      <td>k__Bacteria|p__Proteobacteria|c__Alphaproteoba...</td>\n",
       "    </tr>\n",
       "    <tr>\n",
       "      <th>gi|99079841|ref|NC_008044.1|:c398918-398118</th>\n",
       "      <td>s__Ruegeria_sp_TM1040</td>\n",
       "      <td>{}</td>\n",
       "      <td>801</td>\n",
       "      <td>0</td>\n",
       "      <td>k__Bacteria|p__Proteobacteria|c__Alphaproteoba...</td>\n",
       "    </tr>\n",
       "    <tr>\n",
       "      <th>gi|99079841|ref|NC_008044.1|:c507420-506989</th>\n",
       "      <td>s__Ruegeria_sp_TM1040</td>\n",
       "      <td>{}</td>\n",
       "      <td>432</td>\n",
       "      <td>0</td>\n",
       "      <td>k__Bacteria|p__Proteobacteria|c__Alphaproteoba...</td>\n",
       "    </tr>\n",
       "    <tr>\n",
       "      <th>gi|99079841|ref|NC_008044.1|:c529831-529337</th>\n",
       "      <td>s__Ruegeria_sp_TM1040</td>\n",
       "      <td>{}</td>\n",
       "      <td>495</td>\n",
       "      <td>0</td>\n",
       "      <td>k__Bacteria|p__Proteobacteria|c__Alphaproteoba...</td>\n",
       "    </tr>\n",
       "    <tr>\n",
       "      <th>gi|99079841|ref|NC_008044.1|:c548973-548599</th>\n",
       "      <td>s__Ruegeria_sp_TM1040</td>\n",
       "      <td>{}</td>\n",
       "      <td>375</td>\n",
       "      <td>0</td>\n",
       "      <td>k__Bacteria|p__Proteobacteria|c__Alphaproteoba...</td>\n",
       "    </tr>\n",
       "    <tr>\n",
       "      <th>gi|99079841|ref|NC_008044.1|:c573619-573038</th>\n",
       "      <td>s__Ruegeria_sp_TM1040</td>\n",
       "      <td>{}</td>\n",
       "      <td>582</td>\n",
       "      <td>0</td>\n",
       "      <td>k__Bacteria|p__Proteobacteria|c__Alphaproteoba...</td>\n",
       "    </tr>\n",
       "    <tr>\n",
       "      <th>gi|99079841|ref|NC_008044.1|:c588155-587652</th>\n",
       "      <td>s__Ruegeria_sp_TM1040</td>\n",
       "      <td>{}</td>\n",
       "      <td>504</td>\n",
       "      <td>0</td>\n",
       "      <td>k__Bacteria|p__Proteobacteria|c__Alphaproteoba...</td>\n",
       "    </tr>\n",
       "    <tr>\n",
       "      <th>gi|99079841|ref|NC_008044.1|:c605432-604197</th>\n",
       "      <td>s__Ruegeria_sp_TM1040</td>\n",
       "      <td>{}</td>\n",
       "      <td>1236</td>\n",
       "      <td>0</td>\n",
       "      <td>k__Bacteria|p__Proteobacteria|c__Alphaproteoba...</td>\n",
       "    </tr>\n",
       "    <tr>\n",
       "      <th>gi|99079841|ref|NC_008044.1|:c636592-635522</th>\n",
       "      <td>s__Ruegeria_sp_TM1040</td>\n",
       "      <td>{}</td>\n",
       "      <td>1071</td>\n",
       "      <td>0</td>\n",
       "      <td>k__Bacteria|p__Proteobacteria|c__Alphaproteoba...</td>\n",
       "    </tr>\n",
       "    <tr>\n",
       "      <th>gi|99079841|ref|NC_008044.1|:c689851-689252</th>\n",
       "      <td>s__Ruegeria_sp_TM1040</td>\n",
       "      <td>{}</td>\n",
       "      <td>600</td>\n",
       "      <td>0</td>\n",
       "      <td>k__Bacteria|p__Proteobacteria|c__Alphaproteoba...</td>\n",
       "    </tr>\n",
       "    <tr>\n",
       "      <th>gi|99079841|ref|NC_008044.1|:c756643-756188</th>\n",
       "      <td>s__Ruegeria_sp_TM1040</td>\n",
       "      <td>{}</td>\n",
       "      <td>456</td>\n",
       "      <td>0</td>\n",
       "      <td>k__Bacteria|p__Proteobacteria|c__Alphaproteoba...</td>\n",
       "    </tr>\n",
       "    <tr>\n",
       "      <th>gi|99079841|ref|NC_008044.1|:c778766-778374</th>\n",
       "      <td>s__Ruegeria_sp_TM1040</td>\n",
       "      <td>{}</td>\n",
       "      <td>393</td>\n",
       "      <td>0</td>\n",
       "      <td>k__Bacteria|p__Proteobacteria|c__Alphaproteoba...</td>\n",
       "    </tr>\n",
       "    <tr>\n",
       "      <th>gi|99079841|ref|NC_008044.1|:c80933-80070</th>\n",
       "      <td>s__Ruegeria_sp_TM1040</td>\n",
       "      <td>{}</td>\n",
       "      <td>864</td>\n",
       "      <td>0</td>\n",
       "      <td>k__Bacteria|p__Proteobacteria|c__Alphaproteoba...</td>\n",
       "    </tr>\n",
       "    <tr>\n",
       "      <th>gi|99079841|ref|NC_008044.1|:c836770-836465</th>\n",
       "      <td>s__Ruegeria_sp_TM1040</td>\n",
       "      <td>{}</td>\n",
       "      <td>306</td>\n",
       "      <td>0</td>\n",
       "      <td>k__Bacteria|p__Proteobacteria|c__Alphaproteoba...</td>\n",
       "    </tr>\n",
       "    <tr>\n",
       "      <th>gi|99079841|ref|NC_008044.1|:c837950-837342</th>\n",
       "      <td>s__Ruegeria_sp_TM1040</td>\n",
       "      <td>{}</td>\n",
       "      <td>609</td>\n",
       "      <td>0</td>\n",
       "      <td>k__Bacteria|p__Proteobacteria|c__Alphaproteoba...</td>\n",
       "    </tr>\n",
       "    <tr>\n",
       "      <th>gi|99079841|ref|NC_008044.1|:c839026-838781</th>\n",
       "      <td>s__Ruegeria_sp_TM1040</td>\n",
       "      <td>{}</td>\n",
       "      <td>246</td>\n",
       "      <td>0</td>\n",
       "      <td>k__Bacteria|p__Proteobacteria|c__Alphaproteoba...</td>\n",
       "    </tr>\n",
       "    <tr>\n",
       "      <th>gi|99079841|ref|NC_008044.1|:c847725-847447</th>\n",
       "      <td>s__Ruegeria_sp_TM1040</td>\n",
       "      <td>{}</td>\n",
       "      <td>279</td>\n",
       "      <td>0</td>\n",
       "      <td>k__Bacteria|p__Proteobacteria|c__Alphaproteoba...</td>\n",
       "    </tr>\n",
       "    <tr>\n",
       "      <th>gi|99079841|ref|NC_008044.1|:c858372-858001</th>\n",
       "      <td>s__Ruegeria_sp_TM1040</td>\n",
       "      <td>{}</td>\n",
       "      <td>372</td>\n",
       "      <td>0</td>\n",
       "      <td>k__Bacteria|p__Proteobacteria|c__Alphaproteoba...</td>\n",
       "    </tr>\n",
       "    <tr>\n",
       "      <th>gi|99079841|ref|NC_008044.1|:c859564-859121</th>\n",
       "      <td>s__Ruegeria_sp_TM1040</td>\n",
       "      <td>{}</td>\n",
       "      <td>444</td>\n",
       "      <td>0</td>\n",
       "      <td>k__Bacteria|p__Proteobacteria|c__Alphaproteoba...</td>\n",
       "    </tr>\n",
       "    <tr>\n",
       "      <th>gi|99079841|ref|NC_008044.1|:c869987-869373</th>\n",
       "      <td>s__Ruegeria_sp_TM1040</td>\n",
       "      <td>{}</td>\n",
       "      <td>615</td>\n",
       "      <td>0</td>\n",
       "      <td>k__Bacteria|p__Proteobacteria|c__Alphaproteoba...</td>\n",
       "    </tr>\n",
       "    <tr>\n",
       "      <th>gi|99079841|ref|NC_008044.1|:c871763-870579</th>\n",
       "      <td>s__Ruegeria_sp_TM1040</td>\n",
       "      <td>{}</td>\n",
       "      <td>1185</td>\n",
       "      <td>0</td>\n",
       "      <td>k__Bacteria|p__Proteobacteria|c__Alphaproteoba...</td>\n",
       "    </tr>\n",
       "    <tr>\n",
       "      <th>gi|99079841|ref|NC_008044.1|:c887457-887215</th>\n",
       "      <td>s__Ruegeria_sp_TM1040</td>\n",
       "      <td>{}</td>\n",
       "      <td>243</td>\n",
       "      <td>0</td>\n",
       "      <td>k__Bacteria|p__Proteobacteria|c__Alphaproteoba...</td>\n",
       "    </tr>\n",
       "    <tr>\n",
       "      <th>gi|99079841|ref|NC_008044.1|:c941875-941492</th>\n",
       "      <td>s__Ruegeria_sp_TM1040</td>\n",
       "      <td>{}</td>\n",
       "      <td>384</td>\n",
       "      <td>0</td>\n",
       "      <td>k__Bacteria|p__Proteobacteria|c__Alphaproteoba...</td>\n",
       "    </tr>\n",
       "  </tbody>\n",
       "</table>\n",
       "<p>1036027 rows × 5 columns</p>\n",
       "</div>"
      ],
      "text/plain": [
       "                                                                              clade  \\\n",
       "GeneID:10002878                                          s__Chimpanzee_polyomavirus   \n",
       "GeneID:10002879                                          s__Chimpanzee_polyomavirus   \n",
       "GeneID:10002880                                          s__Chimpanzee_polyomavirus   \n",
       "GeneID:10003050                                s__Chaetoceros_tenuissimus_DNA_virus   \n",
       "GeneID:10003051                                s__Chaetoceros_tenuissimus_DNA_virus   \n",
       "GeneID:10003052                                s__Chaetoceros_tenuissimus_DNA_virus   \n",
       "GeneID:10019920                                 s__Bathycoccus_sp_RCC1105_virus_BpV   \n",
       "GeneID:10019922                                 s__Bathycoccus_sp_RCC1105_virus_BpV   \n",
       "GeneID:10019924                                 s__Bathycoccus_sp_RCC1105_virus_BpV   \n",
       "GeneID:10019925                                 s__Bathycoccus_sp_RCC1105_virus_BpV   \n",
       "GeneID:10019929                                 s__Bathycoccus_sp_RCC1105_virus_BpV   \n",
       "GeneID:10019930                                 s__Bathycoccus_sp_RCC1105_virus_BpV   \n",
       "GeneID:10019931                                 s__Bathycoccus_sp_RCC1105_virus_BpV   \n",
       "GeneID:10019932                                 s__Bathycoccus_sp_RCC1105_virus_BpV   \n",
       "GeneID:10019934                                 s__Bathycoccus_sp_RCC1105_virus_BpV   \n",
       "GeneID:10019935                                 s__Bathycoccus_sp_RCC1105_virus_BpV   \n",
       "GeneID:10019938                                 s__Bathycoccus_sp_RCC1105_virus_BpV   \n",
       "GeneID:10019939                                 s__Bathycoccus_sp_RCC1105_virus_BpV   \n",
       "GeneID:10019941                                 s__Bathycoccus_sp_RCC1105_virus_BpV   \n",
       "GeneID:10019943                                 s__Bathycoccus_sp_RCC1105_virus_BpV   \n",
       "GeneID:10019944                                 s__Bathycoccus_sp_RCC1105_virus_BpV   \n",
       "GeneID:10019945                                 s__Bathycoccus_sp_RCC1105_virus_BpV   \n",
       "GeneID:10019946                                 s__Bathycoccus_sp_RCC1105_virus_BpV   \n",
       "GeneID:10019947                                 s__Bathycoccus_sp_RCC1105_virus_BpV   \n",
       "GeneID:10019948                                 s__Bathycoccus_sp_RCC1105_virus_BpV   \n",
       "GeneID:10019951                                 s__Bathycoccus_sp_RCC1105_virus_BpV   \n",
       "GeneID:10019952                                 s__Bathycoccus_sp_RCC1105_virus_BpV   \n",
       "GeneID:10019953                                 s__Bathycoccus_sp_RCC1105_virus_BpV   \n",
       "GeneID:10019954                                 s__Bathycoccus_sp_RCC1105_virus_BpV   \n",
       "GeneID:10019955                                 s__Bathycoccus_sp_RCC1105_virus_BpV   \n",
       "...                                                                             ...   \n",
       "gi|99079841|ref|NC_008044.1|:c2923147-2922245                 s__Ruegeria_sp_TM1040   \n",
       "gi|99079841|ref|NC_008044.1|:c2960235-2959852                 s__Ruegeria_sp_TM1040   \n",
       "gi|99079841|ref|NC_008044.1|:c3050723-3050052                 s__Ruegeria_sp_TM1040   \n",
       "gi|99079841|ref|NC_008044.1|:c3114184-3113864                 s__Ruegeria_sp_TM1040   \n",
       "gi|99079841|ref|NC_008044.1|:c3128064-3127555                 s__Ruegeria_sp_TM1040   \n",
       "gi|99079841|ref|NC_008044.1|:c339937-339509                   s__Ruegeria_sp_TM1040   \n",
       "gi|99079841|ref|NC_008044.1|:c383410-382535                   s__Ruegeria_sp_TM1040   \n",
       "gi|99079841|ref|NC_008044.1|:c383897-383481                   s__Ruegeria_sp_TM1040   \n",
       "gi|99079841|ref|NC_008044.1|:c398918-398118                   s__Ruegeria_sp_TM1040   \n",
       "gi|99079841|ref|NC_008044.1|:c507420-506989                   s__Ruegeria_sp_TM1040   \n",
       "gi|99079841|ref|NC_008044.1|:c529831-529337                   s__Ruegeria_sp_TM1040   \n",
       "gi|99079841|ref|NC_008044.1|:c548973-548599                   s__Ruegeria_sp_TM1040   \n",
       "gi|99079841|ref|NC_008044.1|:c573619-573038                   s__Ruegeria_sp_TM1040   \n",
       "gi|99079841|ref|NC_008044.1|:c588155-587652                   s__Ruegeria_sp_TM1040   \n",
       "gi|99079841|ref|NC_008044.1|:c605432-604197                   s__Ruegeria_sp_TM1040   \n",
       "gi|99079841|ref|NC_008044.1|:c636592-635522                   s__Ruegeria_sp_TM1040   \n",
       "gi|99079841|ref|NC_008044.1|:c689851-689252                   s__Ruegeria_sp_TM1040   \n",
       "gi|99079841|ref|NC_008044.1|:c756643-756188                   s__Ruegeria_sp_TM1040   \n",
       "gi|99079841|ref|NC_008044.1|:c778766-778374                   s__Ruegeria_sp_TM1040   \n",
       "gi|99079841|ref|NC_008044.1|:c80933-80070                     s__Ruegeria_sp_TM1040   \n",
       "gi|99079841|ref|NC_008044.1|:c836770-836465                   s__Ruegeria_sp_TM1040   \n",
       "gi|99079841|ref|NC_008044.1|:c837950-837342                   s__Ruegeria_sp_TM1040   \n",
       "gi|99079841|ref|NC_008044.1|:c839026-838781                   s__Ruegeria_sp_TM1040   \n",
       "gi|99079841|ref|NC_008044.1|:c847725-847447                   s__Ruegeria_sp_TM1040   \n",
       "gi|99079841|ref|NC_008044.1|:c858372-858001                   s__Ruegeria_sp_TM1040   \n",
       "gi|99079841|ref|NC_008044.1|:c859564-859121                   s__Ruegeria_sp_TM1040   \n",
       "gi|99079841|ref|NC_008044.1|:c869987-869373                   s__Ruegeria_sp_TM1040   \n",
       "gi|99079841|ref|NC_008044.1|:c871763-870579                   s__Ruegeria_sp_TM1040   \n",
       "gi|99079841|ref|NC_008044.1|:c887457-887215                   s__Ruegeria_sp_TM1040   \n",
       "gi|99079841|ref|NC_008044.1|:c941875-941492                   s__Ruegeria_sp_TM1040   \n",
       "\n",
       "                                                                                   ext  \\\n",
       "GeneID:10002878                                {PRJNA183709, PRJNA183909, PRJNA185191}   \n",
       "GeneID:10002879                                 {PRJNA183709, PRJNA14071, PRJNA183909}   \n",
       "GeneID:10002880                                                          {PRJNA183909}   \n",
       "GeneID:10003050                                                        {GCA_000002525}   \n",
       "GeneID:10003051                                                                     {}   \n",
       "GeneID:10003052                                                                     {}   \n",
       "GeneID:10019920                                                                     {}   \n",
       "GeneID:10019922                                                                     {}   \n",
       "GeneID:10019924                                                                     {}   \n",
       "GeneID:10019925                                                                     {}   \n",
       "GeneID:10019929                                                                     {}   \n",
       "GeneID:10019930                                                                     {}   \n",
       "GeneID:10019931                                                                     {}   \n",
       "GeneID:10019932                                                                     {}   \n",
       "GeneID:10019934                                                                     {}   \n",
       "GeneID:10019935                                                                     {}   \n",
       "GeneID:10019938                                                                     {}   \n",
       "GeneID:10019939                                                                     {}   \n",
       "GeneID:10019941                                                                     {}   \n",
       "GeneID:10019943                                                                     {}   \n",
       "GeneID:10019944                                                                     {}   \n",
       "GeneID:10019945                                                                     {}   \n",
       "GeneID:10019946                                                                     {}   \n",
       "GeneID:10019947                                                                     {}   \n",
       "GeneID:10019948                                                                     {}   \n",
       "GeneID:10019951                                                                     {}   \n",
       "GeneID:10019952                                                                     {}   \n",
       "GeneID:10019953                                                                     {}   \n",
       "GeneID:10019954                                                                     {}   \n",
       "GeneID:10019955                                                                     {}   \n",
       "...                                                                                ...   \n",
       "gi|99079841|ref|NC_008044.1|:c2923147-2922245                                       {}   \n",
       "gi|99079841|ref|NC_008044.1|:c2960235-2959852                                       {}   \n",
       "gi|99079841|ref|NC_008044.1|:c3050723-3050052                                       {}   \n",
       "gi|99079841|ref|NC_008044.1|:c3114184-3113864                                       {}   \n",
       "gi|99079841|ref|NC_008044.1|:c3128064-3127555                                       {}   \n",
       "gi|99079841|ref|NC_008044.1|:c339937-339509                                         {}   \n",
       "gi|99079841|ref|NC_008044.1|:c383410-382535                                         {}   \n",
       "gi|99079841|ref|NC_008044.1|:c383897-383481                                         {}   \n",
       "gi|99079841|ref|NC_008044.1|:c398918-398118                                         {}   \n",
       "gi|99079841|ref|NC_008044.1|:c507420-506989                                         {}   \n",
       "gi|99079841|ref|NC_008044.1|:c529831-529337                                         {}   \n",
       "gi|99079841|ref|NC_008044.1|:c548973-548599                                         {}   \n",
       "gi|99079841|ref|NC_008044.1|:c573619-573038                                         {}   \n",
       "gi|99079841|ref|NC_008044.1|:c588155-587652                                         {}   \n",
       "gi|99079841|ref|NC_008044.1|:c605432-604197                                         {}   \n",
       "gi|99079841|ref|NC_008044.1|:c636592-635522                                         {}   \n",
       "gi|99079841|ref|NC_008044.1|:c689851-689252                                         {}   \n",
       "gi|99079841|ref|NC_008044.1|:c756643-756188                                         {}   \n",
       "gi|99079841|ref|NC_008044.1|:c778766-778374                                         {}   \n",
       "gi|99079841|ref|NC_008044.1|:c80933-80070                                           {}   \n",
       "gi|99079841|ref|NC_008044.1|:c836770-836465                                         {}   \n",
       "gi|99079841|ref|NC_008044.1|:c837950-837342                                         {}   \n",
       "gi|99079841|ref|NC_008044.1|:c839026-838781                                         {}   \n",
       "gi|99079841|ref|NC_008044.1|:c847725-847447                                         {}   \n",
       "gi|99079841|ref|NC_008044.1|:c858372-858001                                         {}   \n",
       "gi|99079841|ref|NC_008044.1|:c859564-859121                                         {}   \n",
       "gi|99079841|ref|NC_008044.1|:c869987-869373                                         {}   \n",
       "gi|99079841|ref|NC_008044.1|:c871763-870579                                         {}   \n",
       "gi|99079841|ref|NC_008044.1|:c887457-887215                                         {}   \n",
       "gi|99079841|ref|NC_008044.1|:c941875-941492                                         {}   \n",
       "\n",
       "                                                len score  \\\n",
       "GeneID:10002878                                2518     3   \n",
       "GeneID:10002879                                 573     3   \n",
       "GeneID:10002880                                1494     1   \n",
       "GeneID:10003050                                1119     1   \n",
       "GeneID:10003051                                1341     0   \n",
       "GeneID:10003052                                1248     0   \n",
       "GeneID:10019920                                 252     0   \n",
       "GeneID:10019922                                 531     0   \n",
       "GeneID:10019924                                 351     0   \n",
       "GeneID:10019925                                 333     0   \n",
       "GeneID:10019929                                 426     0   \n",
       "GeneID:10019930                                 264     0   \n",
       "GeneID:10019931                                 471     0   \n",
       "GeneID:10019932                                 489     0   \n",
       "GeneID:10019934                                 306     0   \n",
       "GeneID:10019935                                 771     0   \n",
       "GeneID:10019938                                 843     0   \n",
       "GeneID:10019939                                 492     0   \n",
       "GeneID:10019941                                1137     0   \n",
       "GeneID:10019943                                 861     0   \n",
       "GeneID:10019944                                 222     0   \n",
       "GeneID:10019945                                 402     0   \n",
       "GeneID:10019946                                 273     0   \n",
       "GeneID:10019947                                 369     0   \n",
       "GeneID:10019948                                 468     0   \n",
       "GeneID:10019951                                 288     0   \n",
       "GeneID:10019952                                 867     0   \n",
       "GeneID:10019953                                 702     0   \n",
       "GeneID:10019954                                 423     0   \n",
       "GeneID:10019955                                 786     0   \n",
       "...                                             ...   ...   \n",
       "gi|99079841|ref|NC_008044.1|:c2923147-2922245   903     0   \n",
       "gi|99079841|ref|NC_008044.1|:c2960235-2959852   384     0   \n",
       "gi|99079841|ref|NC_008044.1|:c3050723-3050052   672     0   \n",
       "gi|99079841|ref|NC_008044.1|:c3114184-3113864   321     0   \n",
       "gi|99079841|ref|NC_008044.1|:c3128064-3127555   510     0   \n",
       "gi|99079841|ref|NC_008044.1|:c339937-339509     429     0   \n",
       "gi|99079841|ref|NC_008044.1|:c383410-382535     876     0   \n",
       "gi|99079841|ref|NC_008044.1|:c383897-383481     417     0   \n",
       "gi|99079841|ref|NC_008044.1|:c398918-398118     801     0   \n",
       "gi|99079841|ref|NC_008044.1|:c507420-506989     432     0   \n",
       "gi|99079841|ref|NC_008044.1|:c529831-529337     495     0   \n",
       "gi|99079841|ref|NC_008044.1|:c548973-548599     375     0   \n",
       "gi|99079841|ref|NC_008044.1|:c573619-573038     582     0   \n",
       "gi|99079841|ref|NC_008044.1|:c588155-587652     504     0   \n",
       "gi|99079841|ref|NC_008044.1|:c605432-604197    1236     0   \n",
       "gi|99079841|ref|NC_008044.1|:c636592-635522    1071     0   \n",
       "gi|99079841|ref|NC_008044.1|:c689851-689252     600     0   \n",
       "gi|99079841|ref|NC_008044.1|:c756643-756188     456     0   \n",
       "gi|99079841|ref|NC_008044.1|:c778766-778374     393     0   \n",
       "gi|99079841|ref|NC_008044.1|:c80933-80070       864     0   \n",
       "gi|99079841|ref|NC_008044.1|:c836770-836465     306     0   \n",
       "gi|99079841|ref|NC_008044.1|:c837950-837342     609     0   \n",
       "gi|99079841|ref|NC_008044.1|:c839026-838781     246     0   \n",
       "gi|99079841|ref|NC_008044.1|:c847725-847447     279     0   \n",
       "gi|99079841|ref|NC_008044.1|:c858372-858001     372     0   \n",
       "gi|99079841|ref|NC_008044.1|:c859564-859121     444     0   \n",
       "gi|99079841|ref|NC_008044.1|:c869987-869373     615     0   \n",
       "gi|99079841|ref|NC_008044.1|:c871763-870579    1185     0   \n",
       "gi|99079841|ref|NC_008044.1|:c887457-887215     243     0   \n",
       "gi|99079841|ref|NC_008044.1|:c941875-941492     384     0   \n",
       "\n",
       "                                                                                           taxon  \n",
       "GeneID:10002878                                k__Viruses|p__Viruses_noname|c__Viruses_noname...  \n",
       "GeneID:10002879                                k__Viruses|p__Viruses_noname|c__Viruses_noname...  \n",
       "GeneID:10002880                                k__Viruses|p__Viruses_noname|c__Viruses_noname...  \n",
       "GeneID:10003050                                k__Viruses|p__Viruses_noname|c__Viruses_noname...  \n",
       "GeneID:10003051                                k__Viruses|p__Viruses_noname|c__Viruses_noname...  \n",
       "GeneID:10003052                                k__Viruses|p__Viruses_noname|c__Viruses_noname...  \n",
       "GeneID:10019920                                k__Viruses|p__Viruses_noname|c__Viruses_noname...  \n",
       "GeneID:10019922                                k__Viruses|p__Viruses_noname|c__Viruses_noname...  \n",
       "GeneID:10019924                                k__Viruses|p__Viruses_noname|c__Viruses_noname...  \n",
       "GeneID:10019925                                k__Viruses|p__Viruses_noname|c__Viruses_noname...  \n",
       "GeneID:10019929                                k__Viruses|p__Viruses_noname|c__Viruses_noname...  \n",
       "GeneID:10019930                                k__Viruses|p__Viruses_noname|c__Viruses_noname...  \n",
       "GeneID:10019931                                k__Viruses|p__Viruses_noname|c__Viruses_noname...  \n",
       "GeneID:10019932                                k__Viruses|p__Viruses_noname|c__Viruses_noname...  \n",
       "GeneID:10019934                                k__Viruses|p__Viruses_noname|c__Viruses_noname...  \n",
       "GeneID:10019935                                k__Viruses|p__Viruses_noname|c__Viruses_noname...  \n",
       "GeneID:10019938                                k__Viruses|p__Viruses_noname|c__Viruses_noname...  \n",
       "GeneID:10019939                                k__Viruses|p__Viruses_noname|c__Viruses_noname...  \n",
       "GeneID:10019941                                k__Viruses|p__Viruses_noname|c__Viruses_noname...  \n",
       "GeneID:10019943                                k__Viruses|p__Viruses_noname|c__Viruses_noname...  \n",
       "GeneID:10019944                                k__Viruses|p__Viruses_noname|c__Viruses_noname...  \n",
       "GeneID:10019945                                k__Viruses|p__Viruses_noname|c__Viruses_noname...  \n",
       "GeneID:10019946                                k__Viruses|p__Viruses_noname|c__Viruses_noname...  \n",
       "GeneID:10019947                                k__Viruses|p__Viruses_noname|c__Viruses_noname...  \n",
       "GeneID:10019948                                k__Viruses|p__Viruses_noname|c__Viruses_noname...  \n",
       "GeneID:10019951                                k__Viruses|p__Viruses_noname|c__Viruses_noname...  \n",
       "GeneID:10019952                                k__Viruses|p__Viruses_noname|c__Viruses_noname...  \n",
       "GeneID:10019953                                k__Viruses|p__Viruses_noname|c__Viruses_noname...  \n",
       "GeneID:10019954                                k__Viruses|p__Viruses_noname|c__Viruses_noname...  \n",
       "GeneID:10019955                                k__Viruses|p__Viruses_noname|c__Viruses_noname...  \n",
       "...                                                                                          ...  \n",
       "gi|99079841|ref|NC_008044.1|:c2923147-2922245  k__Bacteria|p__Proteobacteria|c__Alphaproteoba...  \n",
       "gi|99079841|ref|NC_008044.1|:c2960235-2959852  k__Bacteria|p__Proteobacteria|c__Alphaproteoba...  \n",
       "gi|99079841|ref|NC_008044.1|:c3050723-3050052  k__Bacteria|p__Proteobacteria|c__Alphaproteoba...  \n",
       "gi|99079841|ref|NC_008044.1|:c3114184-3113864  k__Bacteria|p__Proteobacteria|c__Alphaproteoba...  \n",
       "gi|99079841|ref|NC_008044.1|:c3128064-3127555  k__Bacteria|p__Proteobacteria|c__Alphaproteoba...  \n",
       "gi|99079841|ref|NC_008044.1|:c339937-339509    k__Bacteria|p__Proteobacteria|c__Alphaproteoba...  \n",
       "gi|99079841|ref|NC_008044.1|:c383410-382535    k__Bacteria|p__Proteobacteria|c__Alphaproteoba...  \n",
       "gi|99079841|ref|NC_008044.1|:c383897-383481    k__Bacteria|p__Proteobacteria|c__Alphaproteoba...  \n",
       "gi|99079841|ref|NC_008044.1|:c398918-398118    k__Bacteria|p__Proteobacteria|c__Alphaproteoba...  \n",
       "gi|99079841|ref|NC_008044.1|:c507420-506989    k__Bacteria|p__Proteobacteria|c__Alphaproteoba...  \n",
       "gi|99079841|ref|NC_008044.1|:c529831-529337    k__Bacteria|p__Proteobacteria|c__Alphaproteoba...  \n",
       "gi|99079841|ref|NC_008044.1|:c548973-548599    k__Bacteria|p__Proteobacteria|c__Alphaproteoba...  \n",
       "gi|99079841|ref|NC_008044.1|:c573619-573038    k__Bacteria|p__Proteobacteria|c__Alphaproteoba...  \n",
       "gi|99079841|ref|NC_008044.1|:c588155-587652    k__Bacteria|p__Proteobacteria|c__Alphaproteoba...  \n",
       "gi|99079841|ref|NC_008044.1|:c605432-604197    k__Bacteria|p__Proteobacteria|c__Alphaproteoba...  \n",
       "gi|99079841|ref|NC_008044.1|:c636592-635522    k__Bacteria|p__Proteobacteria|c__Alphaproteoba...  \n",
       "gi|99079841|ref|NC_008044.1|:c689851-689252    k__Bacteria|p__Proteobacteria|c__Alphaproteoba...  \n",
       "gi|99079841|ref|NC_008044.1|:c756643-756188    k__Bacteria|p__Proteobacteria|c__Alphaproteoba...  \n",
       "gi|99079841|ref|NC_008044.1|:c778766-778374    k__Bacteria|p__Proteobacteria|c__Alphaproteoba...  \n",
       "gi|99079841|ref|NC_008044.1|:c80933-80070      k__Bacteria|p__Proteobacteria|c__Alphaproteoba...  \n",
       "gi|99079841|ref|NC_008044.1|:c836770-836465    k__Bacteria|p__Proteobacteria|c__Alphaproteoba...  \n",
       "gi|99079841|ref|NC_008044.1|:c837950-837342    k__Bacteria|p__Proteobacteria|c__Alphaproteoba...  \n",
       "gi|99079841|ref|NC_008044.1|:c839026-838781    k__Bacteria|p__Proteobacteria|c__Alphaproteoba...  \n",
       "gi|99079841|ref|NC_008044.1|:c847725-847447    k__Bacteria|p__Proteobacteria|c__Alphaproteoba...  \n",
       "gi|99079841|ref|NC_008044.1|:c858372-858001    k__Bacteria|p__Proteobacteria|c__Alphaproteoba...  \n",
       "gi|99079841|ref|NC_008044.1|:c859564-859121    k__Bacteria|p__Proteobacteria|c__Alphaproteoba...  \n",
       "gi|99079841|ref|NC_008044.1|:c869987-869373    k__Bacteria|p__Proteobacteria|c__Alphaproteoba...  \n",
       "gi|99079841|ref|NC_008044.1|:c871763-870579    k__Bacteria|p__Proteobacteria|c__Alphaproteoba...  \n",
       "gi|99079841|ref|NC_008044.1|:c887457-887215    k__Bacteria|p__Proteobacteria|c__Alphaproteoba...  \n",
       "gi|99079841|ref|NC_008044.1|:c941875-941492    k__Bacteria|p__Proteobacteria|c__Alphaproteoba...  \n",
       "\n",
       "[1036027 rows x 5 columns]"
      ]
     },
     "execution_count": 16,
     "metadata": {},
     "output_type": "execute_result"
    }
   ],
   "source": [
    "myDf_T.to_pickle('mpa_v20_m200.df.pickle')"
   ]
  },
  {
   "cell_type": "code",
   "execution_count": 40,
   "metadata": {
    "collapsed": false
   },
   "outputs": [],
   "source": [
    "VC=myDf_T.clade.value_counts()"
   ]
  },
  {
   "cell_type": "code",
   "execution_count": null,
   "metadata": {
    "collapsed": true
   },
   "outputs": [],
   "source": [
    "\"\"\"\n",
    "\n",
    "\"\"\""
   ]
  },
  {
   "cell_type": "code",
   "execution_count": 71,
   "metadata": {
    "collapsed": false
   },
   "outputs": [
    {
     "data": {
      "text/plain": [
       "4816"
      ]
     },
     "execution_count": 71,
     "metadata": {},
     "output_type": "execute_result"
    }
   ],
   "source": [
    "## take only virus\n",
    "myDf_T[myDf_T.taxon.str.contains('s__Simian_virus_40')]['ke'].sum()"
   ]
  },
  {
   "cell_type": "code",
   "execution_count": 89,
   "metadata": {
    "collapsed": false
   },
   "outputs": [
    {
     "data": {
      "text/plain": [
       "711565727"
      ]
     },
     "execution_count": 89,
     "metadata": {},
     "output_type": "execute_result"
    }
   ],
   "source": [
    "myDf_T['len'].sum()"
   ]
  },
  {
   "cell_type": "code",
   "execution_count": 87,
   "metadata": {
    "collapsed": false
   },
   "outputs": [
    {
     "data": {
      "text/plain": [
       "26774850"
      ]
     },
     "execution_count": 87,
     "metadata": {},
     "output_type": "execute_result"
    }
   ],
   "source": [
    "import numpy as np\n",
    "myDf_T[myDf_T.taxon.str.contains('virus')&(myDf_T['len']<5000)]['len'].sum()"
   ]
  },
  {
   "cell_type": "code",
   "execution_count": 93,
   "metadata": {
    "collapsed": false
   },
   "outputs": [
    {
     "data": {
      "text/plain": [
       "8.8522150218553453"
      ]
     },
     "execution_count": 93,
     "metadata": {},
     "output_type": "execute_result"
    }
   ],
   "source": [
    "np.log10(711565727.0)"
   ]
  },
  {
   "cell_type": "code",
   "execution_count": 92,
   "metadata": {
    "collapsed": false
   },
   "outputs": [],
   "source": [
    "#26774850/711565727.0"
   ]
  },
  {
   "cell_type": "code",
   "execution_count": 81,
   "metadata": {
    "collapsed": false
   },
   "outputs": [
    {
     "data": {
      "text/plain": [
       "<matplotlib.axes._subplots.AxesSubplot at 0x7f69c42c45d0>"
      ]
     },
     "execution_count": 81,
     "metadata": {},
     "output_type": "execute_result"
    },
    {
     "data": {
      "image/png": "[encoded data removed]",
      "text/plain": [
       "<matplotlib.figure.Figure at 0x7f6a117874d0>"
      ]
     },
     "metadata": {},
     "output_type": "display_data"
    }
   ],
   "source": [
    "myDf_T[myDf_T.taxon.str.contains('virus')]['len'].hist()"
   ]
  },
  {
   "cell_type": "code",
   "execution_count": 38,
   "metadata": {
    "collapsed": false
   },
   "outputs": [
    {
     "data": {
      "text/plain": [
       "8916"
      ]
     },
     "execution_count": 38,
     "metadata": {},
     "output_type": "execute_result"
    }
   ],
   "source": [
    "myDf_T.clade.nunique()"
   ]
  },
  {
   "cell_type": "code",
   "execution_count": 100,
   "metadata": {
    "collapsed": false
   },
   "outputs": [],
   "source": [
    "import gzip\n",
    "from Bio import SeqIO\n",
    "\"\"\"\n",
    "forget about the 16s from japan database\n",
    "\"\"\"\n",
    "my_16s_dir='/cellar/users/btsui/Program/biobakery-metaphlan2-5ea2bdea8b78/databases/16S.fasta.gz'\n",
    "my_16s_dict={}\n",
    "with gzip.open(my_16s_dir, 'rb') as f:\n",
    "    for record in SeqIO.parse(f,'fasta'):\n",
    "        my_16s_dict[record.name]=len(record)\n",
    "        "
   ]
  },
  {
   "cell_type": "code",
   "execution_count": 101,
   "metadata": {
    "collapsed": false
   },
   "outputs": [],
   "source": [
    "#| samtools sort -n - 2.name.sorted.bam\n",
    "my_16s_S=pd.Series(my_16s_dict)"
   ]
  },
  {
   "cell_type": "code",
   "execution_count": 130,
   "metadata": {
    "collapsed": false
   },
   "outputs": [
    {
     "name": "stderr",
     "output_type": "stream",
     "text": [
      "/cellar/users/btsui/anaconda2/lib/python2.7/site-packages/ipykernel/__main__.py:1: FutureWarning: currently extract(expand=None) means expand=False (return Index/Series/DataFrame) but in a future version of pandas this will be changed to expand=True (return DataFrame)\n",
      "  if __name__ == '__main__':\n"
     ]
    }
   ],
   "source": [
    "newI=my_16s_S.index.str.extract('\\|([a-zA-Z\\ ]+)')\n",
    "tmp_16S=my_16s_S.copy()\n",
    "tmp_16S.index=newI"
   ]
  },
  {
   "cell_type": "code",
   "execution_count": 120,
   "metadata": {
    "collapsed": false
   },
   "outputs": [
    {
     "name": "stderr",
     "output_type": "stream",
     "text": [
      "/cellar/users/btsui/anaconda2/lib/python2.7/site-packages/ipykernel/__main__.py:1: FutureWarning: currently extract(expand=None) means expand=False (return Index/Series/DataFrame) but in a future version of pandas this will be changed to expand=True (return DataFrame)\n",
      "  if __name__ == '__main__':\n"
     ]
    }
   ],
   "source": [
    "VC=my_16s_S.index.str.extract('\\|([a-zA-Z\\ ]+)').value_counts()"
   ]
  },
  {
   "cell_type": "code",
   "execution_count": 146,
   "metadata": {
    "collapsed": false
   },
   "outputs": [
    {
     "data": {
      "text/plain": [
       "751232"
      ]
     },
     "execution_count": 146,
     "metadata": {},
     "output_type": "execute_result"
    }
   ],
   "source": [
    "len(my_16s_S)"
   ]
  },
  {
   "cell_type": "code",
   "execution_count": 131,
   "metadata": {
    "collapsed": false
   },
   "outputs": [
    {
     "data": {
      "text/plain": [
       "5924612L"
      ]
     },
     "execution_count": 131,
     "metadata": {},
     "output_type": "execute_result"
    }
   ],
   "source": [
    "tmp_16S.groupby(tmp_16S.index).first().sum()"
   ]
  },
  {
   "cell_type": "code",
   "execution_count": 138,
   "metadata": {
    "collapsed": false
   },
   "outputs": [
    {
     "data": {
      "text/plain": [
       "0.007335970276183615"
      ]
     },
     "execution_count": 138,
     "metadata": {},
     "output_type": "execute_result"
    }
   ],
   "source": [
    "5924612.0/my_16s_S.sum()"
   ]
  },
  {
   "cell_type": "code",
   "execution_count": 135,
   "metadata": {
    "collapsed": false
   },
   "outputs": [
    {
     "data": {
      "text/plain": [
       "748136L"
      ]
     },
     "execution_count": 135,
     "metadata": {},
     "output_type": "execute_result"
    }
   ],
   "source": [
    "VC.sum()"
   ]
  },
  {
   "cell_type": "code",
   "execution_count": 139,
   "metadata": {
    "collapsed": false
   },
   "outputs": [
    {
     "data": {
      "text/plain": [
       "482"
      ]
     },
     "execution_count": 139,
     "metadata": {},
     "output_type": "execute_result"
    }
   ],
   "source": [
    "VC.nunique()"
   ]
  },
  {
   "cell_type": "code",
   "execution_count": 143,
   "metadata": {
    "collapsed": false
   },
   "outputs": [],
   "source": [
    "#482*482"
   ]
  },
  {
   "cell_type": "code",
   "execution_count": 122,
   "metadata": {
    "collapsed": false
   },
   "outputs": [
    {
     "data": {
      "text/plain": [
       "Bacillus                 0.120275\n",
       "Pseudomonas              0.061247\n",
       "Streptomyces             0.041942\n",
       "bacterium                0.035564\n",
       "Lactobacillus            0.031931\n",
       "Streptococcus            0.024061\n",
       "Vibrio                   0.020833\n",
       "Staphylococcus           0.017470\n",
       "Enterococcus             0.015091\n",
       "Acinetobacter            0.014926\n",
       "Candidatus               0.014533\n",
       "Enterobacter             0.012474\n",
       "Burkholderia             0.012389\n",
       "Paenibacillus            0.010851\n",
       "Microbacterium           0.009937\n",
       "Arthrobacter             0.009581\n",
       "Escherichia              0.009528\n",
       "Rhizobium                0.009255\n",
       "Klebsiella               0.009071\n",
       "Aeromonas                0.008593\n",
       "Stenotrophomonas         0.007404\n",
       "Pseudoalteromonas        0.007396\n",
       "Bradyrhizobium           0.006969\n",
       "Mycobacterium            0.006933\n",
       "Halomonas                0.006885\n",
       "Salmonella               0.006538\n",
       "Serratia                 0.006182\n",
       "Flavobacterium           0.006109\n",
       "Pantoea                  0.005742\n",
       "Rhodococcus              0.005665\n",
       "                           ...   \n",
       "Enterovirga              0.000001\n",
       "Marseillibacter          0.000001\n",
       "Flavosolibacter          0.000001\n",
       "Ferriphaselus            0.000001\n",
       "Limimonas                0.000001\n",
       "Pseudoteredinibacter     0.000001\n",
       "Alpinimonas              0.000001\n",
       "Notoacmeibacter          0.000001\n",
       "Sulfurirhabdus           0.000001\n",
       "Pustulibacterium         0.000001\n",
       "Thermosulfuriphilus      0.000001\n",
       "Aquamonas                0.000001\n",
       "Hyalesthes               0.000001\n",
       "Algisphaera              0.000001\n",
       "Papillibacter            0.000001\n",
       "Leptospiraceae           0.000001\n",
       "Edaphobacillus           0.000001\n",
       "Aurantivirga             0.000001\n",
       "Balsamine                0.000001\n",
       "Chiayiivirga             0.000001\n",
       "deepsea                  0.000001\n",
       "Coyol                    0.000001\n",
       "Thaumarchaeota           0.000001\n",
       "Wukongibacter            0.000001\n",
       "Oscillatoriophycideae    0.000001\n",
       "Profundibacterium        0.000001\n",
       "Ampullariella            0.000001\n",
       "Sulfurivermis            0.000001\n",
       "Serpentinicella          0.000001\n",
       "Parvopolyspora           0.000001\n",
       "Length: 4457, dtype: float64"
      ]
     },
     "execution_count": 122,
     "metadata": {},
     "output_type": "execute_result"
    }
   ],
   "source": [
    "VC/VC.sum()"
   ]
  },
  {
   "cell_type": "code",
   "execution_count": 113,
   "metadata": {
    "collapsed": false
   },
   "outputs": [
    {
     "data": {
      "text/plain": [
       "AM399072_1|Betaproteobacteria     883\n",
       "AM399075_1|Betaproteobacteria     883\n",
       "AM399076_1|Betaproteobacteria    1411\n",
       "CP019169_1|Betaproteobacteria    1544\n",
       "CP019169_2|Betaproteobacteria    1544\n",
       "JQ897291_1|Betaproteobacteria     692\n",
       "JQ897292_1|Betaproteobacteria     549\n",
       "KF447621_1|Betaproteobacteria     428\n",
       "KM032829_1|Betaproteobacteria     378\n",
       "KM349948_1|Betaproteobacteria     550\n",
       "KP744581_1|Betaproteobacteria     800\n",
       "KR922296_1|Betaproteobacteria     971\n",
       "KT907023_1|Betaproteobacteria    1453\n",
       "KT907024_1|Betaproteobacteria    1453\n",
       "KT907033_1|Betaproteobacteria    1453\n",
       "KT907034_1|Betaproteobacteria    1453\n",
       "KT907035_1|Betaproteobacteria    1453\n",
       "KT907036_1|Betaproteobacteria    1453\n",
       "KT907037_1|Betaproteobacteria    1453\n",
       "KU230000_1|Betaproteobacteria    1279\n",
       "KU382371_1|Betaproteobacteria    1328\n",
       "KU382372_1|Betaproteobacteria    1315\n",
       "KX622730_1|Betaproteobacteria    1417\n",
       "KY053192_1|Betaproteobacteria    1369\n",
       "KY053193_1|Betaproteobacteria    1379\n",
       "KY053195_1|Betaproteobacteria    1355\n",
       "KY053198_1|Betaproteobacteria    1261\n",
       "KY053199_1|Betaproteobacteria    1344\n",
       "KY053200_1|Betaproteobacteria    1354\n",
       "KY053201_1|Betaproteobacteria    1324\n",
       "                                 ... \n",
       "LC106175_1|Betaproteobacteria     696\n",
       "LC106179_1|Betaproteobacteria     735\n",
       "LC106181_1|Betaproteobacteria     715\n",
       "LC106184_1|Betaproteobacteria     725\n",
       "LC106188_1|Betaproteobacteria     732\n",
       "LC106189_1|Betaproteobacteria     747\n",
       "LC106202_1|Betaproteobacteria     814\n",
       "LC106211_1|Betaproteobacteria     779\n",
       "LC106219_1|Betaproteobacteria     667\n",
       "LC106221_1|Betaproteobacteria     670\n",
       "LC106222_1|Betaproteobacteria     661\n",
       "LC106223_1|Betaproteobacteria     712\n",
       "LC106226_1|Betaproteobacteria     833\n",
       "LC106232_1|Betaproteobacteria     725\n",
       "LC106234_1|Betaproteobacteria     715\n",
       "LC106237_1|Betaproteobacteria     720\n",
       "LC106242_1|Betaproteobacteria     664\n",
       "LC106243_1|Betaproteobacteria     725\n",
       "LC106245_1|Betaproteobacteria     724\n",
       "LC106255_1|Betaproteobacteria     790\n",
       "LC106261_1|Betaproteobacteria     816\n",
       "LC106263_1|Betaproteobacteria     799\n",
       "LC106269_1|Betaproteobacteria     821\n",
       "LC106278_1|Betaproteobacteria     798\n",
       "LC106281_1|Betaproteobacteria     787\n",
       "LC106285_1|Betaproteobacteria     708\n",
       "LC106286_1|Betaproteobacteria     714\n",
       "LC106287_1|Betaproteobacteria     713\n",
       "MF120232_1|Betaproteobacteria     642\n",
       "MF120233_1|Betaproteobacteria     582\n",
       "Length: 65, dtype: int64"
      ]
     },
     "execution_count": 113,
     "metadata": {},
     "output_type": "execute_result"
    }
   ],
   "source": [
    "#Nitrosomonas\n",
    "my_16s_S[my_16s_S.index.str.contains('Betaproteobacteria')]"
   ]
  },
  {
   "cell_type": "code",
   "execution_count": 109,
   "metadata": {
    "collapsed": false
   },
   "outputs": [
    {
     "data": {
      "text/plain": [
       "751232"
      ]
     },
     "execution_count": 109,
     "metadata": {},
     "output_type": "execute_result"
    }
   ],
   "source": [
    "len(my_16s_S.index.value_counts())"
   ]
  },
  {
   "cell_type": "code",
   "execution_count": 104,
   "metadata": {
    "collapsed": false
   },
   "outputs": [
    {
     "data": {
      "text/plain": [
       "8.9072023508807998"
      ]
     },
     "execution_count": 104,
     "metadata": {},
     "output_type": "execute_result"
    }
   ],
   "source": [
    "np.log10(my_16s_S.sum())"
   ]
  },
  {
   "cell_type": "code",
   "execution_count": null,
   "metadata": {
    "collapsed": true
   },
   "outputs": [],
   "source": []
  }
 ],
 "metadata": {
  "kernelspec": {
   "display_name": "Python 2",
   "language": "python",
   "name": "python2"
  },
  "language_info": {
   "codemirror_mode": {
    "name": "ipython",
    "version": 2
   },
   "file_extension": ".py",
   "mimetype": "text/x-python",
   "name": "python",
   "nbconvert_exporter": "python",
   "pygments_lexer": "ipython2",
   "version": "2.7.14"
  }
 },
 "nbformat": 4,
 "nbformat_minor": 0
}
