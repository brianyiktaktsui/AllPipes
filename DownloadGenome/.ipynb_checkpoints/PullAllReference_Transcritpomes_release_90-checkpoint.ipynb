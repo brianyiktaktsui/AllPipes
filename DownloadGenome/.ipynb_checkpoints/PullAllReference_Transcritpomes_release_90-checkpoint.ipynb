{
 "cells": [
  {
   "cell_type": "code",
   "execution_count": 1,
   "metadata": {
    "collapsed": false
   },
   "outputs": [],
   "source": [
    "'ftp://ftp.ensembl.org/pub/release-90/fasta/'\n",
    "'.dna_rm.primary_assembly.fa.gz'\n",
    "\n"
   ]
  },
  {
   "cell_type": "markdown",
   "metadata": {},
   "source": [
    "### find the fnames I care"
   ]
  },
  {
   "cell_type": "code",
   "execution_count": 4,
   "metadata": {
    "collapsed": false
   },
   "outputs": [],
   "source": [
    "fasta_out_dir='/cellar/users/btsui/Data/ensembl/release/cdna/'\n",
    "\n",
    "import pandas as pd\n",
    "import ftplib\n",
    "import os \n",
    "\n",
    "ftp = ftplib.FTP(\"ftp.ensembl.org\")\n",
    "ftp.login(user='anonymous')\n",
    "base_dir='/pub/release-90/fasta/'\n",
    "ftp.cwd(base_dir)\n",
    "etriesS=pd.Series(ftp.nlst())\n",
    "black_list=['ancestral_alleles']\n",
    "species=etriesS[~etriesS.isin(black_list)]\n",
    "\n",
    "\n",
    "myL=[]\n",
    "for specie in species:\n",
    "    ftp = ftplib.FTP(\"ftp.ensembl.org\")\n",
    "    ftp.login(user='anonymous')\n",
    "    base_dir\n",
    "    \n",
    "    ftp.cwd(base_dir+specie+'/cdna/')\n",
    "    myFnames= ftp.nlst()\n",
    "    myL+=myFnames\n",
    "    \n",
    "\n",
    "allFnames=pd.Series(myL)\n",
    "\n",
    "metaDf=allFnames.str.split('.',expand=True)\n",
    "\n",
    "#m1=~allFnames.str.contains('(?:\\.chromosome\\.)|(?:CHECKSUMS|README)' )\n",
    "#m2=allFnames.str.contains('dna_rm')\n",
    "m3=allFnames.str.contains('toplevel')\n",
    "subFnameS=allFnames[m3]"
   ]
  },
  {
   "cell_type": "markdown",
   "metadata": {},
   "source": [
    "### pull all the data files"
   ]
  },
  {
   "cell_type": "code",
   "execution_count": 10,
   "metadata": {
    "collapsed": false
   },
   "outputs": [],
   "source": [
    "\n",
    "downloadFnames=subFnameS\n",
    "\n",
    "os.chdir(fasta_out_dir)\n",
    "\n",
    "my_dir_fmt='ftp://ftp.ensembl.org/pub/release-90/fasta/{specie_lower}/cdna/{fname}'\n",
    "\n",
    "\n",
    "from multiprocessing  import Pool\n",
    "\n",
    "def pull_specie(fname):\n",
    "    specie=fname.split('.')[0].lower()\n",
    "    myFtp=my_dir_fmt.format(specie_lower=specie,\n",
    "                     fname=fname)\n",
    "    return os.system('wget '+myFtp)\n"
   ]
  },
  {
   "cell_type": "code",
   "execution_count": null,
   "metadata": {
    "collapsed": true
   },
   "outputs": [],
   "source": [
    "p=Pool(96)\n",
    "\n",
    "statues=p.map(pull_specie, downloadFnames)\n",
    "p.close()"
   ]
  },
  {
   "cell_type": "code",
   "execution_count": null,
   "metadata": {
    "collapsed": true
   },
   "outputs": [],
   "source": []
  },
  {
   "cell_type": "code",
   "execution_count": null,
   "metadata": {
    "collapsed": false
   },
   "outputs": [
    {
     "name": "stdout",
     "output_type": "stream",
     "text": [
      "0\n",
      "0\n",
      "2\n",
      "2\n"
     ]
    }
   ],
   "source": [
    "\"\"\"\n",
    "for fname in downloadFnames:\n",
    "    specie=fname.split('.')[0].lower()\n",
    "    myFtp=my_dir_fmt.format(specie_lower=specie,\n",
    "                     fname=fname)\n",
    "    print os.system('wget '+myFtp)\n",
    "    \"\"\""
   ]
  },
  {
   "cell_type": "code",
   "execution_count": null,
   "metadata": {
    "collapsed": true
   },
   "outputs": [],
   "source": [
    "'ftp://ftp.ensembl.org/pub/release-90/fasta/'\n",
    "\"\"\"\n",
    "TODO: \n",
    "remove all the DNA patches. \n",
    "\"\"\""
   ]
  },
  {
   "cell_type": "code",
   "execution_count": 14,
   "metadata": {
    "collapsed": true
   },
   "outputs": [],
   "source": [
    "p=Pool(1)"
   ]
  },
  {
   "cell_type": "code",
   "execution_count": 15,
   "metadata": {
    "collapsed": true
   },
   "outputs": [],
   "source": [
    "p.close()"
   ]
  },
  {
   "cell_type": "code",
   "execution_count": 2,
   "metadata": {
    "collapsed": false
   },
   "outputs": [],
   "source": [
    "!cp ../Chip-seq/BuildGenomes.ipynb ."
   ]
  },
  {
   "cell_type": "code",
   "execution_count": null,
   "metadata": {
    "collapsed": true
   },
   "outputs": [],
   "source": []
  }
 ],
 "metadata": {
  "kernelspec": {
   "display_name": "Python 2",
   "language": "python",
   "name": "python2"
  },
  "language_info": {
   "codemirror_mode": {
    "name": "ipython",
    "version": 2
   },
   "file_extension": ".py",
   "mimetype": "text/x-python",
   "name": "python",
   "nbconvert_exporter": "python",
   "pygments_lexer": "ipython2",
   "version": "2.7.13"
  }
 },
 "nbformat": 4,
 "nbformat_minor": 0
}
