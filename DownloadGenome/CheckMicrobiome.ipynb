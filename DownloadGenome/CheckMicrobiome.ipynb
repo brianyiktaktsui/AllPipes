{
 "cells": [
  {
   "cell_type": "code",
   "execution_count": 80,
   "metadata": {
    "collapsed": true
   },
   "outputs": [],
   "source": [
    "%matplotlib inline\n",
    "import pandas as pd\n",
    "import cPickle as pickle\n",
    "import bz2\n",
    "\n",
    "in_dir='/cellar/users/btsui/Program/biobakery-metaphlan2-5ea2bdea8b78/databases/mpa_v20_m200.pkl'\n",
    "db = pickle.load(bz2.BZ2File(in_dir, 'r'))\n",
    "\n"
   ]
  },
  {
   "cell_type": "code",
   "execution_count": 2,
   "metadata": {
    "collapsed": false
   },
   "outputs": [
    {
     "data": {
      "text/plain": [
       "['taxonomy', 'markers']"
      ]
     },
     "execution_count": 2,
     "metadata": {},
     "output_type": "execute_result"
    }
   ],
   "source": [
    "db.keys()"
   ]
  },
  {
   "cell_type": "code",
   "execution_count": 4,
   "metadata": {
    "collapsed": false
   },
   "outputs": [],
   "source": [
    "markers_dict=db['markers']"
   ]
  },
  {
   "cell_type": "code",
   "execution_count": 23,
   "metadata": {
    "collapsed": false
   },
   "outputs": [],
   "source": [
    "taxon_dict=db['taxonomy']"
   ]
  },
  {
   "cell_type": "code",
   "execution_count": 26,
   "metadata": {
    "collapsed": false
   },
   "outputs": [
    {
     "data": {
      "text/plain": [
       "4063283"
      ]
     },
     "execution_count": 26,
     "metadata": {},
     "output_type": "execute_result"
    }
   ],
   "source": [
    "len(taxon_dict.keys())\n",
    "taxon_dict['k__Bacteria|p__Proteobacteria|c__Gammaproteobacteria|o__Pseudomonadales|f__Moraxellaceae|g__Acinetobacter|s__Acinetobacter_baumannii|t__GCF_000222265']"
   ]
  },
  {
   "cell_type": "code",
   "execution_count": 7,
   "metadata": {
    "collapsed": false
   },
   "outputs": [],
   "source": [
    "myDf=pd.DataFrame(markers_dict)"
   ]
  },
  {
   "cell_type": "code",
   "execution_count": 9,
   "metadata": {
    "collapsed": false
   },
   "outputs": [],
   "source": [
    "myDf_T=myDf.T"
   ]
  },
  {
   "cell_type": "code",
   "execution_count": 160,
   "metadata": {
    "collapsed": false
   },
   "outputs": [
    {
     "name": "stdout",
     "output_type": "stream",
     "text": [
      "/cellar/users/btsui/Project/METAMAP/notebook/RapMapTest/DownloadGenome/mpa_v20_m200.df.pickle\r\n"
     ]
    }
   ],
   "source": [
    "!echo $PWD/mpa_v20_m200.df.pickle"
   ]
  },
  {
   "cell_type": "code",
   "execution_count": 161,
   "metadata": {
    "collapsed": false
   },
   "outputs": [
    {
     "name": "stdout",
     "output_type": "stream",
     "text": [
      "/cellar/users/btsui/Project/METAMAP/notebook/RapMapTest/DownloadGenome/mpa_v20_m200.df.pickle\r\n"
     ]
    }
   ],
   "source": [
    "!echo $PWD/mpa_v20_m200.df.pickle"
   ]
  },
  {
   "cell_type": "code",
   "execution_count": 162,
   "metadata": {
    "collapsed": false,
    "scrolled": true
   },
   "outputs": [],
   "source": [
    "myDf_T.to_pickle('mpa_v20_m200.df.pickle')"
   ]
  },
  {
   "cell_type": "code",
   "execution_count": 40,
   "metadata": {
    "collapsed": false
   },
   "outputs": [],
   "source": [
    "VC=myDf_T.clade.value_counts()"
   ]
  },
  {
   "cell_type": "code",
   "execution_count": null,
   "metadata": {
    "collapsed": true
   },
   "outputs": [],
   "source": [
    "\"\"\"\n",
    "\n",
    "\"\"\""
   ]
  },
  {
   "cell_type": "code",
   "execution_count": 71,
   "metadata": {
    "collapsed": false
   },
   "outputs": [
    {
     "data": {
      "text/plain": [
       "4816"
      ]
     },
     "execution_count": 71,
     "metadata": {},
     "output_type": "execute_result"
    }
   ],
   "source": [
    "## take only virus\n",
    "myDf_T[myDf_T.taxon.str.contains('s__Simian_virus_40')]['ke'].sum()"
   ]
  },
  {
   "cell_type": "code",
   "execution_count": 89,
   "metadata": {
    "collapsed": false
   },
   "outputs": [
    {
     "data": {
      "text/plain": [
       "711565727"
      ]
     },
     "execution_count": 89,
     "metadata": {},
     "output_type": "execute_result"
    }
   ],
   "source": [
    "myDf_T['len'].sum()"
   ]
  },
  {
   "cell_type": "code",
   "execution_count": null,
   "metadata": {
    "collapsed": false
   },
   "outputs": [],
   "source": []
  },
  {
   "cell_type": "code",
   "execution_count": 156,
   "metadata": {
    "collapsed": false
   },
   "outputs": [
    {
     "data": {
      "text/plain": [
       "33165482"
      ]
     },
     "execution_count": 156,
     "metadata": {},
     "output_type": "execute_result"
    }
   ],
   "source": [
    "import numpy as np\n",
    "myDf_T[myDf_T.taxon.str.contains('virus')]['len'].sum()"
   ]
  },
  {
   "cell_type": "code",
   "execution_count": 159,
   "metadata": {
    "collapsed": false
   },
   "outputs": [
    {
     "data": {
      "text/plain": [
       "0.8073107455516552"
      ]
     },
     "execution_count": 159,
     "metadata": {},
     "output_type": "execute_result"
    }
   ],
   "source": [
    "26774850/33165482.0"
   ]
  },
  {
   "cell_type": "code",
   "execution_count": 93,
   "metadata": {
    "collapsed": false
   },
   "outputs": [
    {
     "data": {
      "text/plain": [
       "8.8522150218553453"
      ]
     },
     "execution_count": 93,
     "metadata": {},
     "output_type": "execute_result"
    }
   ],
   "source": [
    "np.log10(711565727.0)"
   ]
  },
  {
   "cell_type": "code",
   "execution_count": 92,
   "metadata": {
    "collapsed": false
   },
   "outputs": [],
   "source": [
    "#26774850/711565727.0"
   ]
  },
  {
   "cell_type": "code",
   "execution_count": 81,
   "metadata": {
    "collapsed": false
   },
   "outputs": [
    {
     "data": {
      "text/plain": [
       "<matplotlib.axes._subplots.AxesSubplot at 0x7f69c42c45d0>"
      ]
     },
     "execution_count": 81,
     "metadata": {},
     "output_type": "execute_result"
    },
    {
     "data": {
      "image/png": "[encoded data removed]",
      "text/plain": [
       "<matplotlib.figure.Figure at 0x7f6a117874d0>"
      ]
     },
     "metadata": {},
     "output_type": "display_data"
    }
   ],
   "source": [
    "myDf_T[myDf_T.taxon.str.contains('virus')]['len'].hist()"
   ]
  },
  {
   "cell_type": "code",
   "execution_count": 38,
   "metadata": {
    "collapsed": false
   },
   "outputs": [
    {
     "data": {
      "text/plain": [
       "8916"
      ]
     },
     "execution_count": 38,
     "metadata": {},
     "output_type": "execute_result"
    }
   ],
   "source": [
    "myDf_T.clade.nunique()"
   ]
  },
  {
   "cell_type": "code",
   "execution_count": 147,
   "metadata": {
    "collapsed": false
   },
   "outputs": [],
   "source": [
    "import gzip\n",
    "from Bio import SeqIO\n",
    "\"\"\"\n",
    "forget about the 16s from japan database\n",
    "\"\"\"\n",
    "my_16s_dir='/cellar/users/btsui/trainset16_022016.rdp.fasta.gz'\n",
    "my_16s_dict={}\n",
    "with gzip.open(my_16s_dir, 'rb') as f:\n",
    "    for record in SeqIO.parse(f,'fasta'):\n",
    "        my_16s_dict[record.name]=len(record)\n",
    "        "
   ]
  },
  {
   "cell_type": "code",
   "execution_count": 151,
   "metadata": {
    "collapsed": false
   },
   "outputs": [
    {
     "data": {
      "text/plain": [
       "7.280991686620176"
      ]
     },
     "execution_count": 151,
     "metadata": {},
     "output_type": "execute_result"
    }
   ],
   "source": [
    "#| samtools sort -n - 2.name.sorted.bam\n",
    "my_16s_S=pd.Series(my_16s_dict)\n",
    "np.log10(my_16s_S.sum())"
   ]
  },
  {
   "cell_type": "code",
   "execution_count": 130,
   "metadata": {
    "collapsed": false
   },
   "outputs": [
    {
     "name": "stderr",
     "output_type": "stream",
     "text": [
      "/cellar/users/btsui/anaconda2/lib/python2.7/site-packages/ipykernel/__main__.py:1: FutureWarning: currently extract(expand=None) means expand=False (return Index/Series/DataFrame) but in a future version of pandas this will be changed to expand=True (return DataFrame)\n",
      "  if __name__ == '__main__':\n"
     ]
    }
   ],
   "source": [
    "newI=my_16s_S.index.str.extract('\\|([a-zA-Z\\ ]+)')\n",
    "tmp_16S=my_16s_S.copy()\n",
    "tmp_16S.index=newI"
   ]
  },
  {
   "cell_type": "code",
   "execution_count": 120,
   "metadata": {
    "collapsed": false
   },
   "outputs": [
    {
     "name": "stderr",
     "output_type": "stream",
     "text": [
      "/cellar/users/btsui/anaconda2/lib/python2.7/site-packages/ipykernel/__main__.py:1: FutureWarning: currently extract(expand=None) means expand=False (return Index/Series/DataFrame) but in a future version of pandas this will be changed to expand=True (return DataFrame)\n",
      "  if __name__ == '__main__':\n"
     ]
    }
   ],
   "source": [
    "VC=my_16s_S.index.str.extract('\\|([a-zA-Z\\ ]+)').value_counts()"
   ]
  },
  {
   "cell_type": "code",
   "execution_count": 146,
   "metadata": {
    "collapsed": false
   },
   "outputs": [
    {
     "data": {
      "text/plain": [
       "751232"
      ]
     },
     "execution_count": 146,
     "metadata": {},
     "output_type": "execute_result"
    }
   ],
   "source": [
    "len(my_16s_S)"
   ]
  },
  {
   "cell_type": "code",
   "execution_count": 131,
   "metadata": {
    "collapsed": false
   },
   "outputs": [
    {
     "data": {
      "text/plain": [
       "5924612L"
      ]
     },
     "execution_count": 131,
     "metadata": {},
     "output_type": "execute_result"
    }
   ],
   "source": [
    "tmp_16S.groupby(tmp_16S.index).first().sum()"
   ]
  },
  {
   "cell_type": "code",
   "execution_count": 138,
   "metadata": {
    "collapsed": false
   },
   "outputs": [
    {
     "data": {
      "text/plain": [
       "0.007335970276183615"
      ]
     },
     "execution_count": 138,
     "metadata": {},
     "output_type": "execute_result"
    }
   ],
   "source": [
    "5924612.0/my_16s_S.sum()"
   ]
  },
  {
   "cell_type": "code",
   "execution_count": 135,
   "metadata": {
    "collapsed": false
   },
   "outputs": [
    {
     "data": {
      "text/plain": [
       "748136L"
      ]
     },
     "execution_count": 135,
     "metadata": {},
     "output_type": "execute_result"
    }
   ],
   "source": [
    "VC.sum()"
   ]
  },
  {
   "cell_type": "code",
   "execution_count": 139,
   "metadata": {
    "collapsed": false
   },
   "outputs": [
    {
     "data": {
      "text/plain": [
       "482"
      ]
     },
     "execution_count": 139,
     "metadata": {},
     "output_type": "execute_result"
    }
   ],
   "source": [
    "VC.nunique()"
   ]
  },
  {
   "cell_type": "code",
   "execution_count": 143,
   "metadata": {
    "collapsed": false
   },
   "outputs": [],
   "source": [
    "#482*482"
   ]
  },
  {
   "cell_type": "code",
   "execution_count": 122,
   "metadata": {
    "collapsed": false
   },
   "outputs": [
    {
     "data": {
      "text/plain": [
       "Bacillus                 0.120275\n",
       "Pseudomonas              0.061247\n",
       "Streptomyces             0.041942\n",
       "bacterium                0.035564\n",
       "Lactobacillus            0.031931\n",
       "Streptococcus            0.024061\n",
       "Vibrio                   0.020833\n",
       "Staphylococcus           0.017470\n",
       "Enterococcus             0.015091\n",
       "Acinetobacter            0.014926\n",
       "Candidatus               0.014533\n",
       "Enterobacter             0.012474\n",
       "Burkholderia             0.012389\n",
       "Paenibacillus            0.010851\n",
       "Microbacterium           0.009937\n",
       "Arthrobacter             0.009581\n",
       "Escherichia              0.009528\n",
       "Rhizobium                0.009255\n",
       "Klebsiella               0.009071\n",
       "Aeromonas                0.008593\n",
       "Stenotrophomonas         0.007404\n",
       "Pseudoalteromonas        0.007396\n",
       "Bradyrhizobium           0.006969\n",
       "Mycobacterium            0.006933\n",
       "Halomonas                0.006885\n",
       "Salmonella               0.006538\n",
       "Serratia                 0.006182\n",
       "Flavobacterium           0.006109\n",
       "Pantoea                  0.005742\n",
       "Rhodococcus              0.005665\n",
       "                           ...   \n",
       "Enterovirga              0.000001\n",
       "Marseillibacter          0.000001\n",
       "Flavosolibacter          0.000001\n",
       "Ferriphaselus            0.000001\n",
       "Limimonas                0.000001\n",
       "Pseudoteredinibacter     0.000001\n",
       "Alpinimonas              0.000001\n",
       "Notoacmeibacter          0.000001\n",
       "Sulfurirhabdus           0.000001\n",
       "Pustulibacterium         0.000001\n",
       "Thermosulfuriphilus      0.000001\n",
       "Aquamonas                0.000001\n",
       "Hyalesthes               0.000001\n",
       "Algisphaera              0.000001\n",
       "Papillibacter            0.000001\n",
       "Leptospiraceae           0.000001\n",
       "Edaphobacillus           0.000001\n",
       "Aurantivirga             0.000001\n",
       "Balsamine                0.000001\n",
       "Chiayiivirga             0.000001\n",
       "deepsea                  0.000001\n",
       "Coyol                    0.000001\n",
       "Thaumarchaeota           0.000001\n",
       "Wukongibacter            0.000001\n",
       "Oscillatoriophycideae    0.000001\n",
       "Profundibacterium        0.000001\n",
       "Ampullariella            0.000001\n",
       "Sulfurivermis            0.000001\n",
       "Serpentinicella          0.000001\n",
       "Parvopolyspora           0.000001\n",
       "Length: 4457, dtype: float64"
      ]
     },
     "execution_count": 122,
     "metadata": {},
     "output_type": "execute_result"
    }
   ],
   "source": [
    "VC/VC.sum()"
   ]
  },
  {
   "cell_type": "code",
   "execution_count": 113,
   "metadata": {
    "collapsed": false
   },
   "outputs": [
    {
     "data": {
      "text/plain": [
       "AM399072_1|Betaproteobacteria     883\n",
       "AM399075_1|Betaproteobacteria     883\n",
       "AM399076_1|Betaproteobacteria    1411\n",
       "CP019169_1|Betaproteobacteria    1544\n",
       "CP019169_2|Betaproteobacteria    1544\n",
       "JQ897291_1|Betaproteobacteria     692\n",
       "JQ897292_1|Betaproteobacteria     549\n",
       "KF447621_1|Betaproteobacteria     428\n",
       "KM032829_1|Betaproteobacteria     378\n",
       "KM349948_1|Betaproteobacteria     550\n",
       "KP744581_1|Betaproteobacteria     800\n",
       "KR922296_1|Betaproteobacteria     971\n",
       "KT907023_1|Betaproteobacteria    1453\n",
       "KT907024_1|Betaproteobacteria    1453\n",
       "KT907033_1|Betaproteobacteria    1453\n",
       "KT907034_1|Betaproteobacteria    1453\n",
       "KT907035_1|Betaproteobacteria    1453\n",
       "KT907036_1|Betaproteobacteria    1453\n",
       "KT907037_1|Betaproteobacteria    1453\n",
       "KU230000_1|Betaproteobacteria    1279\n",
       "KU382371_1|Betaproteobacteria    1328\n",
       "KU382372_1|Betaproteobacteria    1315\n",
       "KX622730_1|Betaproteobacteria    1417\n",
       "KY053192_1|Betaproteobacteria    1369\n",
       "KY053193_1|Betaproteobacteria    1379\n",
       "KY053195_1|Betaproteobacteria    1355\n",
       "KY053198_1|Betaproteobacteria    1261\n",
       "KY053199_1|Betaproteobacteria    1344\n",
       "KY053200_1|Betaproteobacteria    1354\n",
       "KY053201_1|Betaproteobacteria    1324\n",
       "                                 ... \n",
       "LC106175_1|Betaproteobacteria     696\n",
       "LC106179_1|Betaproteobacteria     735\n",
       "LC106181_1|Betaproteobacteria     715\n",
       "LC106184_1|Betaproteobacteria     725\n",
       "LC106188_1|Betaproteobacteria     732\n",
       "LC106189_1|Betaproteobacteria     747\n",
       "LC106202_1|Betaproteobacteria     814\n",
       "LC106211_1|Betaproteobacteria     779\n",
       "LC106219_1|Betaproteobacteria     667\n",
       "LC106221_1|Betaproteobacteria     670\n",
       "LC106222_1|Betaproteobacteria     661\n",
       "LC106223_1|Betaproteobacteria     712\n",
       "LC106226_1|Betaproteobacteria     833\n",
       "LC106232_1|Betaproteobacteria     725\n",
       "LC106234_1|Betaproteobacteria     715\n",
       "LC106237_1|Betaproteobacteria     720\n",
       "LC106242_1|Betaproteobacteria     664\n",
       "LC106243_1|Betaproteobacteria     725\n",
       "LC106245_1|Betaproteobacteria     724\n",
       "LC106255_1|Betaproteobacteria     790\n",
       "LC106261_1|Betaproteobacteria     816\n",
       "LC106263_1|Betaproteobacteria     799\n",
       "LC106269_1|Betaproteobacteria     821\n",
       "LC106278_1|Betaproteobacteria     798\n",
       "LC106281_1|Betaproteobacteria     787\n",
       "LC106285_1|Betaproteobacteria     708\n",
       "LC106286_1|Betaproteobacteria     714\n",
       "LC106287_1|Betaproteobacteria     713\n",
       "MF120232_1|Betaproteobacteria     642\n",
       "MF120233_1|Betaproteobacteria     582\n",
       "Length: 65, dtype: int64"
      ]
     },
     "execution_count": 113,
     "metadata": {},
     "output_type": "execute_result"
    }
   ],
   "source": [
    "#Nitrosomonas\n",
    "my_16s_S[my_16s_S.index.str.contains('Betaproteobacteria')]"
   ]
  },
  {
   "cell_type": "code",
   "execution_count": 109,
   "metadata": {
    "collapsed": false
   },
   "outputs": [
    {
     "data": {
      "text/plain": [
       "751232"
      ]
     },
     "execution_count": 109,
     "metadata": {},
     "output_type": "execute_result"
    }
   ],
   "source": [
    "len(my_16s_S.index.value_counts())"
   ]
  },
  {
   "cell_type": "code",
   "execution_count": 104,
   "metadata": {
    "collapsed": false
   },
   "outputs": [
    {
     "data": {
      "text/plain": [
       "8.9072023508807998"
      ]
     },
     "execution_count": 104,
     "metadata": {},
     "output_type": "execute_result"
    }
   ],
   "source": [
    "np.log10(my_16s_S.sum())"
   ]
  },
  {
   "cell_type": "code",
   "execution_count": null,
   "metadata": {
    "collapsed": true
   },
   "outputs": [],
   "source": []
  }
 ],
 "metadata": {
  "kernelspec": {
   "display_name": "Python 2",
   "language": "python",
   "name": "python2"
  },
  "language_info": {
   "codemirror_mode": {
    "name": "ipython",
    "version": 2
   },
   "file_extension": ".py",
   "mimetype": "text/x-python",
   "name": "python",
   "nbconvert_exporter": "python",
   "pygments_lexer": "ipython2",
   "version": "2.7.14"
  }
 },
 "nbformat": 4,
 "nbformat_minor": 0
}
