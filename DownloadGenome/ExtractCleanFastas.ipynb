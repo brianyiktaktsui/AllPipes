{
 "cells": [
  {
   "cell_type": "code",
   "execution_count": 12,
   "metadata": {
    "collapsed": false
   },
   "outputs": [],
   "source": [
    "import os\n",
    "from Bio import  SeqIO\n",
    "import pandas as pd\n",
    "fasta_dir='/cellar/users/btsui/Data/ensembl/release/fasta/'\n",
    "fnameS=pd.Series(os.listdir(fasta_dir))\n",
    "fnameS=fnameS[fnameS.str.contains('\\.fa$')]\n",
    "myDirS=fasta_dir+pd.Series(index=fnameS.str.split('\\.').str[0],\n",
    "          data=fnameS.values)\n",
    "\n",
    "#use hg19 for human\n",
    "#myDirS.loc['Homo_sapiens']='/cellar/users/btsui/Data/ensembl/release/hg19/Homo_sapiens.GRCh37.75.dna_rm.toplevel.fa'\n",
    "#m=myDirS.index.isin(['Homo_sapiens','Mus_musculus'])\n",
    "inGenomeS=myDirS#[m]\n",
    "clean_fa_out_dir='/cellar/users/btsui/Data/ensembl/clean/'"
   ]
  },
  {
   "cell_type": "code",
   "execution_count": 13,
   "metadata": {
    "collapsed": false
   },
   "outputs": [],
   "source": [
    "#!ls /cellar/users/btsui/Data/ensembl/release/fasta/Homo_sapiens.GRCh38.dna_rm.toplevel.fa"
   ]
  },
  {
   "cell_type": "code",
   "execution_count": 16,
   "metadata": {
    "collapsed": false
   },
   "outputs": [
    {
     "data": {
      "text/plain": [
       "\"tmp=''\\ntmp.startswith\""
      ]
     },
     "execution_count": 16,
     "metadata": {},
     "output_type": "execute_result"
    }
   ],
   "source": [
    "\"\"\"tmp=''\n",
    "tmp.startswith\"\"\""
   ]
  },
  {
   "cell_type": "code",
   "execution_count": 24,
   "metadata": {
    "collapsed": true
   },
   "outputs": [],
   "source": [
    "def F(my_specie):\n",
    "    my_in_fa_dir=myDirS.loc[my_specie]\n",
    "    my_fa_out_dir=clean_fa_out_dir+my_specie+'.fa'\n",
    "    with open(my_fa_out_dir, \"w\") as output_handle:\n",
    "        for record in SeqIO.parse(my_in_fa_dir, \"fasta\"):\n",
    "            description=record.description.lower()\n",
    "            exclude=(('scaffold' in description) |\n",
    "                            ('patch' in description)|description.startswith('gl000')|\n",
    "                     ('hschr' in description)|('_novel_test' in description))#HSCHR\n",
    "            if not exclude:\n",
    "                    print description\n",
    "                    SeqIO.write(record,output_handle,'fasta')"
   ]
  },
  {
   "cell_type": "code",
   "execution_count": 25,
   "metadata": {
    "collapsed": false
   },
   "outputs": [
    {
     "data": {
      "text/plain": [
       "'/cellar/users/btsui/Data/ensembl/release/fasta/Homo_sapiens.GRCh38.dna_rm.toplevel.fa'"
      ]
     },
     "execution_count": 25,
     "metadata": {},
     "output_type": "execute_result"
    }
   ],
   "source": [
    "myDirS.loc['Homo_sapiens']"
   ]
  },
  {
   "cell_type": "code",
   "execution_count": 26,
   "metadata": {
    "collapsed": false
   },
   "outputs": [
    {
     "name": "stdout",
     "output_type": "stream",
     "text": [
      "1 dna_rm:chromosome chromosome:grch38:1:1:248956422:1 ref\n",
      "2 dna_rm:chromosome chromosome:grch38:2:1:242193529:1 ref\n",
      "3 dna_rm:chromosome chromosome:grch38:3:1:198295559:1 ref\n",
      "4 dna_rm:chromosome chromosome:grch38:4:1:190214555:1 ref\n",
      "5 dna_rm:chromosome chromosome:grch38:5:1:181538259:1 ref\n",
      "6 dna_rm:chromosome chromosome:grch38:6:1:170805979:1 ref\n",
      "7 dna_rm:chromosome chromosome:grch38:7:1:159345973:1 ref\n",
      "8 dna_rm:chromosome chromosome:grch38:8:1:145138636:1 ref\n",
      "9 dna_rm:chromosome chromosome:grch38:9:1:138394717:1 ref\n",
      "10 dna_rm:chromosome chromosome:grch38:10:1:133797422:1 ref\n",
      "11 dna_rm:chromosome chromosome:grch38:11:1:135086622:1 ref\n",
      "12 dna_rm:chromosome chromosome:grch38:12:1:133275309:1 ref\n",
      "13 dna_rm:chromosome chromosome:grch38:13:1:114364328:1 ref\n",
      "14 dna_rm:chromosome chromosome:grch38:14:1:107043718:1 ref\n",
      "15 dna_rm:chromosome chromosome:grch38:15:1:101991189:1 ref\n",
      "16 dna_rm:chromosome chromosome:grch38:16:1:90338345:1 ref\n",
      "17 dna_rm:chromosome chromosome:grch38:17:1:83257441:1 ref\n",
      "18 dna_rm:chromosome chromosome:grch38:18:1:80373285:1 ref\n",
      "19 dna_rm:chromosome chromosome:grch38:19:1:58617616:1 ref\n",
      "20 dna_rm:chromosome chromosome:grch38:20:1:64444167:1 ref\n",
      "21 dna_rm:chromosome chromosome:grch38:21:1:46709983:1 ref\n",
      "22 dna_rm:chromosome chromosome:grch38:22:1:50818468:1 ref\n",
      "x dna_rm:chromosome chromosome:grch38:x:1:156040895:1 ref\n",
      "y dna_rm:chromosome chromosome:grch38:y:2781480:56887902:1 ref\n",
      "mt dna_rm:chromosome chromosome:grch38:mt:1:16569:1 ref\n"
     ]
    }
   ],
   "source": [
    "#my_specie='Homo_sapiens'\n",
    "F('Homo_sapiens')"
   ]
  },
  {
   "cell_type": "code",
   "execution_count": 100,
   "metadata": {
    "collapsed": false
   },
   "outputs": [],
   "source": [
    "\n",
    "\n",
    "from multiprocessing import Pool\n",
    "p=Pool(96)\n",
    "p.map(F,myDirS.index)\n",
    "p.close()"
   ]
  },
  {
   "cell_type": "code",
   "execution_count": 4,
   "metadata": {
    "collapsed": false
   },
   "outputs": [
    {
     "name": "stdout",
     "output_type": "stream",
     "text": [
      "1 dna_rm:chromosome chromosome:grch37:1:1:249250621:1 ref\n",
      "10 dna_rm:chromosome chromosome:grch37:10:1:135534747:1 ref\n",
      "11 dna_rm:chromosome chromosome:grch37:11:1:135006516:1 ref\n",
      "12 dna_rm:chromosome chromosome:grch37:12:1:133851895:1 ref\n",
      "13 dna_rm:chromosome chromosome:grch37:13:1:115169878:1 ref\n",
      "14 dna_rm:chromosome chromosome:grch37:14:1:107349540:1 ref\n",
      "15 dna_rm:chromosome chromosome:grch37:15:1:102531392:1 ref\n",
      "16 dna_rm:chromosome chromosome:grch37:16:1:90354753:1 ref\n",
      "17 dna_rm:chromosome chromosome:grch37:17:1:81195210:1 ref\n",
      "18 dna_rm:chromosome chromosome:grch37:18:1:78077248:1 ref\n",
      "19 dna_rm:chromosome chromosome:grch37:19:1:59128983:1 ref\n",
      "2 dna_rm:chromosome chromosome:grch37:2:1:243199373:1 ref\n",
      "20 dna_rm:chromosome chromosome:grch37:20:1:63025520:1 ref\n",
      "21 dna_rm:chromosome chromosome:grch37:21:1:48129895:1 ref\n",
      "22 dna_rm:chromosome chromosome:grch37:22:1:51304566:1 ref\n",
      "3 dna_rm:chromosome chromosome:grch37:3:1:198022430:1 ref\n",
      "4 dna_rm:chromosome chromosome:grch37:4:1:191154276:1 ref\n",
      "5 dna_rm:chromosome chromosome:grch37:5:1:180915260:1 ref\n",
      "6 dna_rm:chromosome chromosome:grch37:6:1:171115067:1 ref\n",
      "7 dna_rm:chromosome chromosome:grch37:7:1:159138663:1 ref\n",
      "8 dna_rm:chromosome chromosome:grch37:8:1:146364022:1 ref\n",
      "9 dna_rm:chromosome chromosome:grch37:9:1:141213431:1 ref\n",
      "mt dna_rm:chromosome chromosome:grch37:mt:1:16569:1 ref\n",
      "x dna_rm:chromosome chromosome:grch37:x:1:155270560:1 ref\n",
      "y dna_rm:chromosome chromosome:grch37:y:2649521:59034049:1 ref\n"
     ]
    }
   ],
   "source": [
    "F('Homo_sapiens')"
   ]
  },
  {
   "cell_type": "code",
   "execution_count": 96,
   "metadata": {
    "collapsed": false
   },
   "outputs": [
    {
     "data": {
      "text/plain": [
       "'1 dna_rm:chromosome chromosome:grcm38:1:1:195471971:1 ref'"
      ]
     },
     "execution_count": 96,
     "metadata": {},
     "output_type": "execute_result"
    }
   ],
   "source": [
    "#xargs -0 -I {} -P 4 \n",
    "#find . -name \"*.pdf\" -print0 | xargs -0 rm\n",
    "#find . -name \"*.gz\" -print0|xargs -0 -I {} -P 4 "
   ]
  },
  {
   "cell_type": "code",
   "execution_count": 92,
   "metadata": {
    "collapsed": false
   },
   "outputs": [
    {
     "data": {
      "text/plain": [
       "1     1 dna_rm:chromosome chromosome:GRCm38:1:1:1954...\n",
       "10    10 dna_rm:chromosome chromosome:GRCm38:10:1:13...\n",
       "11    11 dna_rm:chromosome chromosome:GRCm38:11:1:12...\n",
       "12    12 dna_rm:chromosome chromosome:GRCm38:12:1:12...\n",
       "13    13 dna_rm:chromosome chromosome:GRCm38:13:1:12...\n",
       "14    14 dna_rm:chromosome chromosome:GRCm38:14:1:12...\n",
       "15    15 dna_rm:chromosome chromosome:GRCm38:15:1:10...\n",
       "16    16 dna_rm:chromosome chromosome:GRCm38:16:1:98...\n",
       "17    17 dna_rm:chromosome chromosome:GRCm38:17:1:94...\n",
       "18    18 dna_rm:chromosome chromosome:GRCm38:18:1:90...\n",
       "19    19 dna_rm:chromosome chromosome:GRCm38:19:1:61...\n",
       "2     2 dna_rm:chromosome chromosome:GRCm38:2:1:1821...\n",
       "3     3 dna_rm:chromosome chromosome:GRCm38:3:1:1600...\n",
       "4     4 dna_rm:chromosome chromosome:GRCm38:4:1:1565...\n",
       "5     5 dna_rm:chromosome chromosome:GRCm38:5:1:1518...\n",
       "6     6 dna_rm:chromosome chromosome:GRCm38:6:1:1497...\n",
       "7     7 dna_rm:chromosome chromosome:GRCm38:7:1:1454...\n",
       "8     8 dna_rm:chromosome chromosome:GRCm38:8:1:1294...\n",
       "9     9 dna_rm:chromosome chromosome:GRCm38:9:1:1245...\n",
       "MT    MT dna_rm:chromosome chromosome:GRCm38:MT:1:16...\n",
       "X     X dna_rm:chromosome chromosome:GRCm38:X:1:1710...\n",
       "Y     Y dna_rm:chromosome chromosome:GRCm38:Y:1:9174...\n",
       "dtype: object"
      ]
     },
     "execution_count": 92,
     "metadata": {},
     "output_type": "execute_result"
    }
   ],
   "source": [
    "#hg19 == GRCh37\n",
    "m1=~tmpS.str.contains('scaffold',case=False)\n",
    "m2=~tmpS.str.contains('patch',case=False)\n",
    "tmpS[m1&m2]"
   ]
  },
  {
   "cell_type": "code",
   "execution_count": 22,
   "metadata": {
    "collapsed": false
   },
   "outputs": [
    {
     "name": "stdout",
     "output_type": "stream",
     "text": [
      "Mus_pahari /cellar/users/btsui/Data/BOWTIE2_GENOME_INDEX/Mus_pahari/\n",
      "bowtie2-build --threads 48 /cellar/users/btsui/Data/ensembl/release-90/fasta/Mus_pahari.PAHARI_EIJ_v1.1.dna_rm.toplevel.fa.gz /cellar/users/btsui/Data/BOWTIE2_GENOME_INDEX/Mus_pahari/\n",
      "Myotis_lucifugus /cellar/users/btsui/Data/BOWTIE2_GENOME_INDEX/Myotis_lucifugus/\n",
      "bowtie2-build --threads 48 /cellar/users/btsui/Data/ensembl/release-90/fasta/Myotis_lucifugus.Myoluc2.0.dna_rm.toplevel.fa.gz /cellar/users/btsui/Data/BOWTIE2_GENOME_INDEX/Myotis_lucifugus/\n",
      "Ovis_aries /cellar/users/btsui/Data/BOWTIE2_GENOME_INDEX/Ovis_aries/\n",
      "bowtie2-build --threads 48 /cellar/users/btsui/Data/ensembl/release-90/fasta/Ovis_aries.Oar_v3.1.dna_rm.toplevel.fa.gz /cellar/users/btsui/Data/BOWTIE2_GENOME_INDEX/Ovis_aries/\n",
      "Gasterosteus_aculeatus /cellar/users/btsui/Data/BOWTIE2_GENOME_INDEX/Gasterosteus_aculeatus/\n",
      "bowtie2-build --threads 48 /cellar/users/btsui/Data/ensembl/release-90/fasta/Gasterosteus_aculeatus.BROADS1.dna_rm.toplevel.fa.gz /cellar/users/btsui/Data/BOWTIE2_GENOME_INDEX/Gasterosteus_aculeatus/\n",
      "Mustela_putorius_furo /cellar/users/btsui/Data/BOWTIE2_GENOME_INDEX/Mustela_putorius_furo/\n",
      "bowtie2-build --threads 48 /cellar/users/btsui/Data/ensembl/release-90/fasta/Mustela_putorius_furo.MusPutFur1.0.dna_rm.toplevel.fa.gz /cellar/users/btsui/Data/BOWTIE2_GENOME_INDEX/Mustela_putorius_furo/\n",
      "Mus_musculus_c3hhej /cellar/users/btsui/Data/BOWTIE2_GENOME_INDEX/Mus_musculus_c3hhej/\n",
      "bowtie2-build --threads 48 /cellar/users/btsui/Data/ensembl/release-90/fasta/Mus_musculus_c3hhej.C3H_HeJ_v1.dna_rm.toplevel.fa.gz /cellar/users/btsui/Data/BOWTIE2_GENOME_INDEX/Mus_musculus_c3hhej/\n",
      "Ornithorhynchus_anatinus /cellar/users/btsui/Data/BOWTIE2_GENOME_INDEX/Ornithorhynchus_anatinus/\n",
      "bowtie2-build --threads 48 /cellar/users/btsui/Data/ensembl/release-90/fasta/Ornithorhynchus_anatinus.OANA5.dna_rm.toplevel.fa.gz /cellar/users/btsui/Data/BOWTIE2_GENOME_INDEX/Ornithorhynchus_anatinus/\n",
      "Mus_spretus_spreteij /cellar/users/btsui/Data/BOWTIE2_GENOME_INDEX/Mus_spretus_spreteij/\n",
      "bowtie2-build --threads 48 /cellar/users/btsui/Data/ensembl/release-90/fasta/Mus_spretus_spreteij.SPRET_EiJ_v1.dna_rm.toplevel.fa.gz /cellar/users/btsui/Data/BOWTIE2_GENOME_INDEX/Mus_spretus_spreteij/\n",
      "Saccharomyces_cerevisiae /cellar/users/btsui/Data/BOWTIE2_GENOME_INDEX/Saccharomyces_cerevisiae/\n",
      "bowtie2-build --threads 48 /cellar/users/btsui/Data/ensembl/release-90/fasta/Saccharomyces_cerevisiae.R64-1-1.dna_rm.toplevel.fa.gz /cellar/users/btsui/Data/BOWTIE2_GENOME_INDEX/Saccharomyces_cerevisiae/\n",
      "Mus_musculus_aj /cellar/users/btsui/Data/BOWTIE2_GENOME_INDEX/Mus_musculus_aj/\n",
      "bowtie2-build --threads 48 /cellar/users/btsui/Data/ensembl/release-90/fasta/Mus_musculus_aj.A_J_v1.dna_rm.toplevel.fa.gz /cellar/users/btsui/Data/BOWTIE2_GENOME_INDEX/Mus_musculus_aj/\n",
      "Caenorhabditis_elegans /cellar/users/btsui/Data/BOWTIE2_GENOME_INDEX/Caenorhabditis_elegans/\n",
      "bowtie2-build --threads 48 /cellar/users/btsui/Data/ensembl/release-90/fasta/Caenorhabditis_elegans.WBcel235.dna_rm.toplevel.fa.gz /cellar/users/btsui/Data/BOWTIE2_GENOME_INDEX/Caenorhabditis_elegans/\n",
      "Gallus_gallus /cellar/users/btsui/Data/BOWTIE2_GENOME_INDEX/Gallus_gallus/\n",
      "bowtie2-build --threads 48 /cellar/users/btsui/Data/ensembl/release-90/fasta/Gallus_gallus.Gallus_gallus-5.0.dna_rm.toplevel.fa.gz /cellar/users/btsui/Data/BOWTIE2_GENOME_INDEX/Gallus_gallus/\n",
      "Macaca_mulatta /cellar/users/btsui/Data/BOWTIE2_GENOME_INDEX/Macaca_mulatta/\n",
      "bowtie2-build --threads 48 /cellar/users/btsui/Data/ensembl/release-90/fasta/Macaca_mulatta.Mmul_8.0.1.dna_rm.toplevel.fa.gz /cellar/users/btsui/Data/BOWTIE2_GENOME_INDEX/Macaca_mulatta/\n",
      "Mus_musculus_casteij /cellar/users/btsui/Data/BOWTIE2_GENOME_INDEX/Mus_musculus_casteij/\n",
      "bowtie2-build --threads 48 /cellar/users/btsui/Data/ensembl/release-90/fasta/Mus_musculus_casteij.CAST_EiJ_v1.dna_rm.toplevel.fa.gz /cellar/users/btsui/Data/BOWTIE2_GENOME_INDEX/Mus_musculus_casteij/\n",
      "Oryctolagus_cuniculus /cellar/users/btsui/Data/BOWTIE2_GENOME_INDEX/Oryctolagus_cuniculus/\n",
      "bowtie2-build --threads 48 /cellar/users/btsui/Data/ensembl/release-90/fasta/Oryctolagus_cuniculus.OryCun2.0.dna_rm.toplevel.fa.gz /cellar/users/btsui/Data/BOWTIE2_GENOME_INDEX/Oryctolagus_cuniculus/\n",
      "Mus_musculus_nzohlltj /cellar/users/btsui/Data/BOWTIE2_GENOME_INDEX/Mus_musculus_nzohlltj/\n",
      "bowtie2-build --threads 48 /cellar/users/btsui/Data/ensembl/release-90/fasta/Mus_musculus_nzohlltj.NZO_HlLtJ_v1.dna_rm.toplevel.fa.gz /cellar/users/btsui/Data/BOWTIE2_GENOME_INDEX/Mus_musculus_nzohlltj/\n",
      "Mus_musculus_c57bl6nj /cellar/users/btsui/Data/BOWTIE2_GENOME_INDEX/Mus_musculus_c57bl6nj/\n",
      "bowtie2-build --threads 48 /cellar/users/btsui/Data/ensembl/release-90/fasta/Mus_musculus_c57bl6nj.C57BL_6NJ_v1.dna_rm.toplevel.fa.gz /cellar/users/btsui/Data/BOWTIE2_GENOME_INDEX/Mus_musculus_c57bl6nj/\n",
      "Heterocephalus_glaber_female /cellar/users/btsui/Data/BOWTIE2_GENOME_INDEX/Heterocephalus_glaber_female/\n",
      "bowtie2-build --threads 48 /cellar/users/btsui/Data/ensembl/release-90/fasta/Heterocephalus_glaber_female.HetGla_female_1.0.dna_rm.toplevel.fa.gz /cellar/users/btsui/Data/BOWTIE2_GENOME_INDEX/Heterocephalus_glaber_female/\n",
      "Takifugu_rubripes /cellar/users/btsui/Data/BOWTIE2_GENOME_INDEX/Takifugu_rubripes/\n",
      "bowtie2-build --threads 48 /cellar/users/btsui/Data/ensembl/release-90/fasta/Takifugu_rubripes.FUGU4.dna_rm.toplevel.fa.gz /cellar/users/btsui/Data/BOWTIE2_GENOME_INDEX/Takifugu_rubripes/\n",
      "Chinchilla_lanigera /cellar/users/btsui/Data/BOWTIE2_GENOME_INDEX/Chinchilla_lanigera/\n",
      "bowtie2-build --threads 48 /cellar/users/btsui/Data/ensembl/release-90/fasta/Chinchilla_lanigera.ChiLan1.0.dna_rm.toplevel.fa.gz /cellar/users/btsui/Data/BOWTIE2_GENOME_INDEX/Chinchilla_lanigera/\n",
      "Felis_catus /cellar/users/btsui/Data/BOWTIE2_GENOME_INDEX/Felis_catus/\n",
      "bowtie2-build --threads 48 /cellar/users/btsui/Data/ensembl/release-90/fasta/Felis_catus.Felis_catus_6.2.dna_rm.toplevel.fa.gz /cellar/users/btsui/Data/BOWTIE2_GENOME_INDEX/Felis_catus/\n",
      "Cavia_aperea /cellar/users/btsui/Data/BOWTIE2_GENOME_INDEX/Cavia_aperea/\n",
      "bowtie2-build --threads 48 /cellar/users/btsui/Data/ensembl/release-90/fasta/Cavia_aperea.CavAp1.0.dna_rm.toplevel.fa.gz /cellar/users/btsui/Data/BOWTIE2_GENOME_INDEX/Cavia_aperea/\n",
      "Pelodiscus_sinensis /cellar/users/btsui/Data/BOWTIE2_GENOME_INDEX/Pelodiscus_sinensis/\n",
      "bowtie2-build --threads 48 /cellar/users/btsui/Data/ensembl/release-90/fasta/Pelodiscus_sinensis.PelSin_1.0.dna_rm.toplevel.fa.gz /cellar/users/btsui/Data/BOWTIE2_GENOME_INDEX/Pelodiscus_sinensis/\n",
      "Octodon_degus /cellar/users/btsui/Data/BOWTIE2_GENOME_INDEX/Octodon_degus/\n",
      "bowtie2-build --threads 48 /cellar/users/btsui/Data/ensembl/release-90/fasta/Octodon_degus.OctDeg1.0.dna_rm.toplevel.fa.gz /cellar/users/btsui/Data/BOWTIE2_GENOME_INDEX/Octodon_degus/\n",
      "Oreochromis_niloticus /cellar/users/btsui/Data/BOWTIE2_GENOME_INDEX/Oreochromis_niloticus/\n",
      "bowtie2-build --threads 48 /cellar/users/btsui/Data/ensembl/release-90/fasta/Oreochromis_niloticus.Orenil1.0.dna_rm.toplevel.fa.gz /cellar/users/btsui/Data/BOWTIE2_GENOME_INDEX/Oreochromis_niloticus/\n",
      "Mus_caroli /cellar/users/btsui/Data/BOWTIE2_GENOME_INDEX/Mus_caroli/\n",
      "bowtie2-build --threads 48 /cellar/users/btsui/Data/ensembl/release-90/fasta/Mus_caroli.CAROLI_EIJ_v1.1.dna_rm.toplevel.fa.gz /cellar/users/btsui/Data/BOWTIE2_GENOME_INDEX/Mus_caroli/\n",
      "Tetraodon_nigroviridis /cellar/users/btsui/Data/BOWTIE2_GENOME_INDEX/Tetraodon_nigroviridis/\n",
      "bowtie2-build --threads 48 /cellar/users/btsui/Data/ensembl/release-90/fasta/Tetraodon_nigroviridis.TETRAODON8.dna_rm.toplevel.fa.gz /cellar/users/btsui/Data/BOWTIE2_GENOME_INDEX/Tetraodon_nigroviridis/\n",
      "Gorilla_gorilla /cellar/users/btsui/Data/BOWTIE2_GENOME_INDEX/Gorilla_gorilla/\n",
      "bowtie2-build --threads 48 /cellar/users/btsui/Data/ensembl/release-90/fasta/Gorilla_gorilla.gorGor3.1.dna_rm.toplevel.fa.gz /cellar/users/btsui/Data/BOWTIE2_GENOME_INDEX/Gorilla_gorilla/\n",
      "Ailuropoda_melanoleuca /cellar/users/btsui/Data/BOWTIE2_GENOME_INDEX/Ailuropoda_melanoleuca/\n",
      "bowtie2-build --threads 48 /cellar/users/btsui/Data/ensembl/release-90/fasta/Ailuropoda_melanoleuca.ailMel1.dna_rm.toplevel.fa.gz.1 /cellar/users/btsui/Data/BOWTIE2_GENOME_INDEX/Ailuropoda_melanoleuca/\n",
      "Latimeria_chalumnae /cellar/users/btsui/Data/BOWTIE2_GENOME_INDEX/Latimeria_chalumnae/\n",
      "bowtie2-build --threads 48 /cellar/users/btsui/Data/ensembl/release-90/fasta/Latimeria_chalumnae.LatCha1.dna_rm.toplevel.fa.gz /cellar/users/btsui/Data/BOWTIE2_GENOME_INDEX/Latimeria_chalumnae/\n",
      "Pongo_abelii /cellar/users/btsui/Data/BOWTIE2_GENOME_INDEX/Pongo_abelii/\n",
      "bowtie2-build --threads 48 /cellar/users/btsui/Data/ensembl/release-90/fasta/Pongo_abelii.PPYG2.dna_rm.toplevel.fa.gz /cellar/users/btsui/Data/BOWTIE2_GENOME_INDEX/Pongo_abelii/\n",
      "Erinaceus_europaeus /cellar/users/btsui/Data/BOWTIE2_GENOME_INDEX/Erinaceus_europaeus/\n",
      "bowtie2-build --threads 48 /cellar/users/btsui/Data/ensembl/release-90/fasta/Erinaceus_europaeus.HEDGEHOG.dna_rm.toplevel.fa.gz /cellar/users/btsui/Data/BOWTIE2_GENOME_INDEX/Erinaceus_europaeus/\n",
      "Mus_musculus_nodshiltj /cellar/users/btsui/Data/BOWTIE2_GENOME_INDEX/Mus_musculus_nodshiltj/\n",
      "bowtie2-build --threads 48 /cellar/users/btsui/Data/ensembl/release-90/fasta/Mus_musculus_nodshiltj.NOD_ShiLtJ_v1.dna_rm.toplevel.fa.gz /cellar/users/btsui/Data/BOWTIE2_GENOME_INDEX/Mus_musculus_nodshiltj/\n",
      "Mus_musculus_129s1svimj /cellar/users/btsui/Data/BOWTIE2_GENOME_INDEX/Mus_musculus_129s1svimj/\n",
      "bowtie2-build --threads 48 /cellar/users/btsui/Data/ensembl/release-90/fasta/Mus_musculus_129s1svimj.129S1_SvImJ_v1.dna_rm.toplevel.fa.gz /cellar/users/btsui/Data/BOWTIE2_GENOME_INDEX/Mus_musculus_129s1svimj/\n",
      "Mus_musculus_akrj /cellar/users/btsui/Data/BOWTIE2_GENOME_INDEX/Mus_musculus_akrj/\n",
      "bowtie2-build --threads 48 /cellar/users/btsui/Data/ensembl/release-90/fasta/Mus_musculus_akrj.AKR_J_v1.dna_rm.toplevel.fa.gz /cellar/users/btsui/Data/BOWTIE2_GENOME_INDEX/Mus_musculus_akrj/\n",
      "Monodelphis_domestica /cellar/users/btsui/Data/BOWTIE2_GENOME_INDEX/Monodelphis_domestica/\n",
      "bowtie2-build --threads 48 /cellar/users/btsui/Data/ensembl/release-90/fasta/Monodelphis_domestica.BROADO5.dna_rm.toplevel.fa.gz /cellar/users/btsui/Data/BOWTIE2_GENOME_INDEX/Monodelphis_domestica/\n",
      "Equus_caballus /cellar/users/btsui/Data/BOWTIE2_GENOME_INDEX/Equus_caballus/\n",
      "bowtie2-build --threads 48 /cellar/users/btsui/Data/ensembl/release-90/fasta/Equus_caballus.EquCab2.dna_rm.toplevel.fa.gz /cellar/users/btsui/Data/BOWTIE2_GENOME_INDEX/Equus_caballus/\n",
      "Pteropus_vampyrus /cellar/users/btsui/Data/BOWTIE2_GENOME_INDEX/Pteropus_vampyrus/\n",
      "bowtie2-build --threads 48 /cellar/users/btsui/Data/ensembl/release-90/fasta/Pteropus_vampyrus.pteVam1.dna_rm.toplevel.fa.gz /cellar/users/btsui/Data/BOWTIE2_GENOME_INDEX/Pteropus_vampyrus/\n",
      "Tupaia_belangeri /cellar/users/btsui/Data/BOWTIE2_GENOME_INDEX/Tupaia_belangeri/\n",
      "bowtie2-build --threads 48 /cellar/users/btsui/Data/ensembl/release-90/fasta/Tupaia_belangeri.TREESHREW.dna_rm.toplevel.fa.gz /cellar/users/btsui/Data/BOWTIE2_GENOME_INDEX/Tupaia_belangeri/\n",
      "Echinops_telfairi /cellar/users/btsui/Data/BOWTIE2_GENOME_INDEX/Echinops_telfairi/\n",
      "bowtie2-build --threads 48 /cellar/users/btsui/Data/ensembl/release-90/fasta/Echinops_telfairi.TENREC.dna_rm.toplevel.fa.gz /cellar/users/btsui/Data/BOWTIE2_GENOME_INDEX/Echinops_telfairi/\n",
      "Gadus_morhua /cellar/users/btsui/Data/BOWTIE2_GENOME_INDEX/Gadus_morhua/\n",
      "bowtie2-build --threads 48 /cellar/users/btsui/Data/ensembl/release-90/fasta/Gadus_morhua.gadMor1.dna_rm.toplevel.fa.gz /cellar/users/btsui/Data/BOWTIE2_GENOME_INDEX/Gadus_morhua/\n",
      "Tursiops_truncatus /cellar/users/btsui/Data/BOWTIE2_GENOME_INDEX/Tursiops_truncatus/\n",
      "bowtie2-build --threads 48 /cellar/users/btsui/Data/ensembl/release-90/fasta/Tursiops_truncatus.turTru1.dna_rm.toplevel.fa.gz /cellar/users/btsui/Data/BOWTIE2_GENOME_INDEX/Tursiops_truncatus/\n",
      "Ailuropoda_melanoleuca /cellar/users/btsui/Data/BOWTIE2_GENOME_INDEX/Ailuropoda_melanoleuca/\n",
      "Mus_musculus_wsbeij /cellar/users/btsui/Data/BOWTIE2_GENOME_INDEX/Mus_musculus_wsbeij/\n",
      "bowtie2-build --threads 48 /cellar/users/btsui/Data/ensembl/release-90/fasta/Mus_musculus_wsbeij.WSB_EiJ_v1.dna_rm.toplevel.fa.gz /cellar/users/btsui/Data/BOWTIE2_GENOME_INDEX/Mus_musculus_wsbeij/\n",
      "Papio_anubis /cellar/users/btsui/Data/BOWTIE2_GENOME_INDEX/Papio_anubis/\n",
      "bowtie2-build --threads 48 /cellar/users/btsui/Data/ensembl/release-90/fasta/Papio_anubis.PapAnu2.0.dna_rm.toplevel.fa.gz /cellar/users/btsui/Data/BOWTIE2_GENOME_INDEX/Papio_anubis/\n",
      "Nomascus_leucogenys /cellar/users/btsui/Data/BOWTIE2_GENOME_INDEX/Nomascus_leucogenys/\n",
      "bowtie2-build --threads 48 /cellar/users/btsui/Data/ensembl/release-90/fasta/Nomascus_leucogenys.Nleu1.0.dna_rm.toplevel.fa.gz /cellar/users/btsui/Data/BOWTIE2_GENOME_INDEX/Nomascus_leucogenys/\n",
      "Peromyscus_maniculatus_bairdii /cellar/users/btsui/Data/BOWTIE2_GENOME_INDEX/Peromyscus_maniculatus_bairdii/\n",
      "bowtie2-build --threads 48 /cellar/users/btsui/Data/ensembl/release-90/fasta/Peromyscus_maniculatus_bairdii.Pman_1.0.dna_rm.toplevel.fa.gz /cellar/users/btsui/Data/BOWTIE2_GENOME_INDEX/Peromyscus_maniculatus_bairdii/\n",
      "Canis_familiaris /cellar/users/btsui/Data/BOWTIE2_GENOME_INDEX/Canis_familiaris/\n",
      "bowtie2-build --threads 48 /cellar/users/btsui/Data/ensembl/release-90/fasta/Canis_familiaris.CanFam3.1.dna_rm.toplevel.fa.gz /cellar/users/btsui/Data/BOWTIE2_GENOME_INDEX/Canis_familiaris/\n",
      "Mus_musculus_lpj /cellar/users/btsui/Data/BOWTIE2_GENOME_INDEX/Mus_musculus_lpj/\n",
      "bowtie2-build --threads 48 /cellar/users/btsui/Data/ensembl/release-90/fasta/Mus_musculus_lpj.LP_J_v1.dna_rm.toplevel.fa.gz /cellar/users/btsui/Data/BOWTIE2_GENOME_INDEX/Mus_musculus_lpj/\n",
      "Mus_musculus /cellar/users/btsui/Data/BOWTIE2_GENOME_INDEX/Mus_musculus/\n",
      "bowtie2-build --threads 48 /cellar/users/btsui/Data/ensembl/release-90/fasta/Mus_musculus.GRCm38.dna_rm.toplevel.fa.gz /cellar/users/btsui/Data/BOWTIE2_GENOME_INDEX/Mus_musculus/\n",
      "Sus_scrofa /cellar/users/btsui/Data/BOWTIE2_GENOME_INDEX/Sus_scrofa/\n",
      "bowtie2-build --threads 48 /cellar/users/btsui/Data/ensembl/release-90/fasta/Sus_scrofa.Sscrofa11.1.dna_rm.toplevel.fa.gz /cellar/users/btsui/Data/BOWTIE2_GENOME_INDEX/Sus_scrofa/\n",
      "Rattus_norvegicus /cellar/users/btsui/Data/BOWTIE2_GENOME_INDEX/Rattus_norvegicus/\n",
      "bowtie2-build --threads 48 /cellar/users/btsui/Data/ensembl/release-90/fasta/Rattus_norvegicus.Rnor_6.0.dna_rm.toplevel.fa.gz /cellar/users/btsui/Data/BOWTIE2_GENOME_INDEX/Rattus_norvegicus/\n",
      "Ciona_intestinalis /cellar/users/btsui/Data/BOWTIE2_GENOME_INDEX/Ciona_intestinalis/\n",
      "bowtie2-build --threads 48 /cellar/users/btsui/Data/ensembl/release-90/fasta/Ciona_intestinalis.KH.dna_rm.toplevel.fa.gz /cellar/users/btsui/Data/BOWTIE2_GENOME_INDEX/Ciona_intestinalis/\n",
      "Drosophila_melanogaster /cellar/users/btsui/Data/BOWTIE2_GENOME_INDEX/Drosophila_melanogaster/\n",
      "bowtie2-build --threads 48 /cellar/users/btsui/Data/ensembl/release-90/fasta/Drosophila_melanogaster.BDGP6.dna_rm.toplevel.fa.gz /cellar/users/btsui/Data/BOWTIE2_GENOME_INDEX/Drosophila_melanogaster/\n",
      "Mus_musculus_pwkphj /cellar/users/btsui/Data/BOWTIE2_GENOME_INDEX/Mus_musculus_pwkphj/\n",
      "bowtie2-build --threads 48 /cellar/users/btsui/Data/ensembl/release-90/fasta/Mus_musculus_pwkphj.PWK_PhJ_v1.dna_rm.toplevel.fa.gz /cellar/users/btsui/Data/BOWTIE2_GENOME_INDEX/Mus_musculus_pwkphj/\n",
      "Callithrix_jacchus /cellar/users/btsui/Data/BOWTIE2_GENOME_INDEX/Callithrix_jacchus/\n",
      "bowtie2-build --threads 48 /cellar/users/btsui/Data/ensembl/release-90/fasta/Callithrix_jacchus.C_jacchus3.2.1.dna_rm.toplevel.fa.gz /cellar/users/btsui/Data/BOWTIE2_GENOME_INDEX/Callithrix_jacchus/\n",
      "Pan_troglodytes /cellar/users/btsui/Data/BOWTIE2_GENOME_INDEX/Pan_troglodytes/\n",
      "bowtie2-build --threads 48 /cellar/users/btsui/Data/ensembl/release-90/fasta/Pan_troglodytes.CHIMP2.1.4.dna_rm.toplevel.fa.gz /cellar/users/btsui/Data/BOWTIE2_GENOME_INDEX/Pan_troglodytes/\n",
      "Otolemur_garnettii /cellar/users/btsui/Data/BOWTIE2_GENOME_INDEX/Otolemur_garnettii/\n",
      "bowtie2-build --threads 48 /cellar/users/btsui/Data/ensembl/release-90/fasta/Otolemur_garnettii.OtoGar3.dna_rm.toplevel.fa.gz /cellar/users/btsui/Data/BOWTIE2_GENOME_INDEX/Otolemur_garnettii/\n",
      "Danio_rerio /cellar/users/btsui/Data/BOWTIE2_GENOME_INDEX/Danio_rerio/\n",
      "bowtie2-build --threads 48 /cellar/users/btsui/Data/ensembl/release-90/fasta/Danio_rerio.GRCz10.dna_rm.toplevel.fa.gz /cellar/users/btsui/Data/BOWTIE2_GENOME_INDEX/Danio_rerio/\n",
      "Ciona_savignyi /cellar/users/btsui/Data/BOWTIE2_GENOME_INDEX/Ciona_savignyi/\n",
      "bowtie2-build --threads 48 /cellar/users/btsui/Data/ensembl/release-90/fasta/Ciona_savignyi.CSAV2.0.dna_rm.toplevel.fa.gz /cellar/users/btsui/Data/BOWTIE2_GENOME_INDEX/Ciona_savignyi/\n",
      "Petromyzon_marinus /cellar/users/btsui/Data/BOWTIE2_GENOME_INDEX/Petromyzon_marinus/\n",
      "bowtie2-build --threads 48 /cellar/users/btsui/Data/ensembl/release-90/fasta/Petromyzon_marinus.Pmarinus_7.0.dna_rm.toplevel.fa.gz /cellar/users/btsui/Data/BOWTIE2_GENOME_INDEX/Petromyzon_marinus/\n",
      "Sarcophilus_harrisii /cellar/users/btsui/Data/BOWTIE2_GENOME_INDEX/Sarcophilus_harrisii/\n",
      "bowtie2-build --threads 48 /cellar/users/btsui/Data/ensembl/release-90/fasta/Sarcophilus_harrisii.DEVIL7.0.dna_rm.toplevel.fa.gz /cellar/users/btsui/Data/BOWTIE2_GENOME_INDEX/Sarcophilus_harrisii/\n",
      "Bos_taurus /cellar/users/btsui/Data/BOWTIE2_GENOME_INDEX/Bos_taurus/\n",
      "bowtie2-build --threads 48 /cellar/users/btsui/Data/ensembl/release-90/fasta/Bos_taurus.UMD3.1.dna_rm.toplevel.fa.gz.1 /cellar/users/btsui/Data/BOWTIE2_GENOME_INDEX/Bos_taurus/\n",
      "Lepisosteus_oculatus /cellar/users/btsui/Data/BOWTIE2_GENOME_INDEX/Lepisosteus_oculatus/\n",
      "bowtie2-build --threads 48 /cellar/users/btsui/Data/ensembl/release-90/fasta/Lepisosteus_oculatus.LepOcu1.dna_rm.toplevel.fa.gz /cellar/users/btsui/Data/BOWTIE2_GENOME_INDEX/Lepisosteus_oculatus/\n",
      "Vicugna_pacos /cellar/users/btsui/Data/BOWTIE2_GENOME_INDEX/Vicugna_pacos/\n",
      "bowtie2-build --threads 48 /cellar/users/btsui/Data/ensembl/release-90/fasta/Vicugna_pacos.vicPac1.dna_rm.toplevel.fa.gz /cellar/users/btsui/Data/BOWTIE2_GENOME_INDEX/Vicugna_pacos/\n",
      "Astyanax_mexicanus /cellar/users/btsui/Data/BOWTIE2_GENOME_INDEX/Astyanax_mexicanus/\n",
      "bowtie2-build --threads 48 /cellar/users/btsui/Data/ensembl/release-90/fasta/Astyanax_mexicanus.AstMex102.dna_rm.toplevel.fa.gz /cellar/users/btsui/Data/BOWTIE2_GENOME_INDEX/Astyanax_mexicanus/\n",
      "Notamacropus_eugenii /cellar/users/btsui/Data/BOWTIE2_GENOME_INDEX/Notamacropus_eugenii/\n",
      "bowtie2-build --threads 48 /cellar/users/btsui/Data/ensembl/release-90/fasta/Notamacropus_eugenii.Meug_1.0.dna_rm.toplevel.fa.gz /cellar/users/btsui/Data/BOWTIE2_GENOME_INDEX/Notamacropus_eugenii/\n",
      "Procavia_capensis /cellar/users/btsui/Data/BOWTIE2_GENOME_INDEX/Procavia_capensis/\n",
      "bowtie2-build --threads 48 /cellar/users/btsui/Data/ensembl/release-90/fasta/Procavia_capensis.proCap1.dna_rm.toplevel.fa.gz /cellar/users/btsui/Data/BOWTIE2_GENOME_INDEX/Procavia_capensis/\n",
      "Astyanax_mexicanus /cellar/users/btsui/Data/BOWTIE2_GENOME_INDEX/Astyanax_mexicanus/\n",
      "Ictidomys_tridecemlineatus /cellar/users/btsui/Data/BOWTIE2_GENOME_INDEX/Ictidomys_tridecemlineatus/\n",
      "bowtie2-build --threads 48 /cellar/users/btsui/Data/ensembl/release-90/fasta/Ictidomys_tridecemlineatus.SpeTri2.0.dna_rm.toplevel.fa.gz /cellar/users/btsui/Data/BOWTIE2_GENOME_INDEX/Ictidomys_tridecemlineatus/\n",
      "Dasypus_novemcinctus /cellar/users/btsui/Data/BOWTIE2_GENOME_INDEX/Dasypus_novemcinctus/\n",
      "bowtie2-build --threads 48 /cellar/users/btsui/Data/ensembl/release-90/fasta/Dasypus_novemcinctus.Dasnov3.0.dna_rm.toplevel.fa.gz /cellar/users/btsui/Data/BOWTIE2_GENOME_INDEX/Dasypus_novemcinctus/\n",
      "Anas_platyrhynchos /cellar/users/btsui/Data/BOWTIE2_GENOME_INDEX/Anas_platyrhynchos/\n",
      "bowtie2-build --threads 48 /cellar/users/btsui/Data/ensembl/release-90/fasta/Anas_platyrhynchos.BGI_duck_1.0.dna_rm.toplevel.fa.gz /cellar/users/btsui/Data/BOWTIE2_GENOME_INDEX/Anas_platyrhynchos/\n",
      "Microcebus_murinus /cellar/users/btsui/Data/BOWTIE2_GENOME_INDEX/Microcebus_murinus/\n",
      "bowtie2-build --threads 48 /cellar/users/btsui/Data/ensembl/release-90/fasta/Microcebus_murinus.Mmur_2.0.dna_rm.toplevel.fa.gz /cellar/users/btsui/Data/BOWTIE2_GENOME_INDEX/Microcebus_murinus/\n",
      "Ficedula_albicollis /cellar/users/btsui/Data/BOWTIE2_GENOME_INDEX/Ficedula_albicollis/\n",
      "bowtie2-build --threads 48 /cellar/users/btsui/Data/ensembl/release-90/fasta/Ficedula_albicollis.FicAlb_1.4.dna_rm.toplevel.fa.gz /cellar/users/btsui/Data/BOWTIE2_GENOME_INDEX/Ficedula_albicollis/\n",
      "Fukomys_damarensis /cellar/users/btsui/Data/BOWTIE2_GENOME_INDEX/Fukomys_damarensis/\n",
      "bowtie2-build --threads 48 /cellar/users/btsui/Data/ensembl/release-90/fasta/Fukomys_damarensis.DMR_v1.0.dna_rm.toplevel.fa.gz /cellar/users/btsui/Data/BOWTIE2_GENOME_INDEX/Fukomys_damarensis/\n",
      "Bos_taurus /cellar/users/btsui/Data/BOWTIE2_GENOME_INDEX/Bos_taurus/\n",
      "Cavia_porcellus /cellar/users/btsui/Data/BOWTIE2_GENOME_INDEX/Cavia_porcellus/\n",
      "bowtie2-build --threads 48 /cellar/users/btsui/Data/ensembl/release-90/fasta/Cavia_porcellus.Cavpor3.0.dna_rm.toplevel.fa.gz /cellar/users/btsui/Data/BOWTIE2_GENOME_INDEX/Cavia_porcellus/\n",
      "Carlito_syrichta /cellar/users/btsui/Data/BOWTIE2_GENOME_INDEX/Carlito_syrichta/\n",
      "bowtie2-build --threads 48 /cellar/users/btsui/Data/ensembl/release-90/fasta/Carlito_syrichta.tarSyr1.dna_rm.toplevel.fa.gz /cellar/users/btsui/Data/BOWTIE2_GENOME_INDEX/Carlito_syrichta/\n",
      "Homo_sapiens /cellar/users/btsui/Data/BOWTIE2_GENOME_INDEX/Homo_sapiens/\n",
      "Anolis_carolinensis /cellar/users/btsui/Data/BOWTIE2_GENOME_INDEX/Anolis_carolinensis/\n",
      "bowtie2-build --threads 48 /cellar/users/btsui/Data/ensembl/release-90/fasta/Anolis_carolinensis.AnoCar2.0.dna_rm.toplevel.fa.gz /cellar/users/btsui/Data/BOWTIE2_GENOME_INDEX/Anolis_carolinensis/\n",
      "Cricetulus_griseus_crigri /cellar/users/btsui/Data/BOWTIE2_GENOME_INDEX/Cricetulus_griseus_crigri/\n",
      "bowtie2-build --threads 48 /cellar/users/btsui/Data/ensembl/release-90/fasta/Cricetulus_griseus_crigri.CriGri_1.0.dna_rm.toplevel.fa.gz /cellar/users/btsui/Data/BOWTIE2_GENOME_INDEX/Cricetulus_griseus_crigri/\n",
      "Mus_musculus_dba2j /cellar/users/btsui/Data/BOWTIE2_GENOME_INDEX/Mus_musculus_dba2j/\n",
      "bowtie2-build --threads 48 /cellar/users/btsui/Data/ensembl/release-90/fasta/Mus_musculus_dba2j.DBA_2J_v1.dna_rm.toplevel.fa.gz /cellar/users/btsui/Data/BOWTIE2_GENOME_INDEX/Mus_musculus_dba2j/\n",
      "Mus_musculus_balbcj /cellar/users/btsui/Data/BOWTIE2_GENOME_INDEX/Mus_musculus_balbcj/\n",
      "bowtie2-build --threads 48 /cellar/users/btsui/Data/ensembl/release-90/fasta/Mus_musculus_balbcj.BALB_cJ_v1.dna_rm.toplevel.fa.gz /cellar/users/btsui/Data/BOWTIE2_GENOME_INDEX/Mus_musculus_balbcj/\n",
      "Nannospalax_galili /cellar/users/btsui/Data/BOWTIE2_GENOME_INDEX/Nannospalax_galili/\n",
      "bowtie2-build --threads 48 /cellar/users/btsui/Data/ensembl/release-90/fasta/Nannospalax_galili.S.galili_v1.0.dna_rm.toplevel.fa.gz /cellar/users/btsui/Data/BOWTIE2_GENOME_INDEX/Nannospalax_galili/\n",
      "Microtus_ochrogaster /cellar/users/btsui/Data/BOWTIE2_GENOME_INDEX/Microtus_ochrogaster/\n",
      "bowtie2-build --threads 48 /cellar/users/btsui/Data/ensembl/release-90/fasta/Microtus_ochrogaster.MicOch1.0.dna_rm.toplevel.fa.gz /cellar/users/btsui/Data/BOWTIE2_GENOME_INDEX/Microtus_ochrogaster/\n",
      "Heterocephalus_glaber_male /cellar/users/btsui/Data/BOWTIE2_GENOME_INDEX/Heterocephalus_glaber_male/\n",
      "bowtie2-build --threads 48 /cellar/users/btsui/Data/ensembl/release-90/fasta/Heterocephalus_glaber_male.HetGla_1.0.dna_rm.toplevel.fa.gz /cellar/users/btsui/Data/BOWTIE2_GENOME_INDEX/Heterocephalus_glaber_male/\n",
      "Meleagris_gallopavo /cellar/users/btsui/Data/BOWTIE2_GENOME_INDEX/Meleagris_gallopavo/\n",
      "bowtie2-build --threads 48 /cellar/users/btsui/Data/ensembl/release-90/fasta/Meleagris_gallopavo.UMD2.dna_rm.toplevel.fa.gz /cellar/users/btsui/Data/BOWTIE2_GENOME_INDEX/Meleagris_gallopavo/\n",
      "Loxodonta_africana /cellar/users/btsui/Data/BOWTIE2_GENOME_INDEX/Loxodonta_africana/\n",
      "bowtie2-build --threads 48 /cellar/users/btsui/Data/ensembl/release-90/fasta/Loxodonta_africana.loxAfr3.dna_rm.toplevel.fa.gz /cellar/users/btsui/Data/BOWTIE2_GENOME_INDEX/Loxodonta_africana/\n",
      "Cricetulus_griseus_chok1gshd /cellar/users/btsui/Data/BOWTIE2_GENOME_INDEX/Cricetulus_griseus_chok1gshd/\n",
      "bowtie2-build --threads 48 /cellar/users/btsui/Data/ensembl/release-90/fasta/Cricetulus_griseus_chok1gshd.CHOK1GS_HDv1.dna_rm.toplevel.fa.gz /cellar/users/btsui/Data/BOWTIE2_GENOME_INDEX/Cricetulus_griseus_chok1gshd/\n",
      "Anas_platyrhynchos /cellar/users/btsui/Data/BOWTIE2_GENOME_INDEX/Anas_platyrhynchos/\n",
      "Sorex_araneus /cellar/users/btsui/Data/BOWTIE2_GENOME_INDEX/Sorex_araneus/\n",
      "bowtie2-build --threads 48 /cellar/users/btsui/Data/ensembl/release-90/fasta/Sorex_araneus.COMMON_SHREW1.dna_rm.toplevel.fa.gz /cellar/users/btsui/Data/BOWTIE2_GENOME_INDEX/Sorex_araneus/\n",
      "Xenopus_tropicalis /cellar/users/btsui/Data/BOWTIE2_GENOME_INDEX/Xenopus_tropicalis/\n",
      "bowtie2-build --threads 48 /cellar/users/btsui/Data/ensembl/release-90/fasta/Xenopus_tropicalis.JGI_4.2.dna_rm.toplevel.fa.gz /cellar/users/btsui/Data/BOWTIE2_GENOME_INDEX/Xenopus_tropicalis/\n",
      "Choloepus_hoffmanni /cellar/users/btsui/Data/BOWTIE2_GENOME_INDEX/Choloepus_hoffmanni/\n",
      "bowtie2-build --threads 48 /cellar/users/btsui/Data/ensembl/release-90/fasta/Choloepus_hoffmanni.choHof1.dna_rm.toplevel.fa.gz /cellar/users/btsui/Data/BOWTIE2_GENOME_INDEX/Choloepus_hoffmanni/\n",
      "Ochotona_princeps /cellar/users/btsui/Data/BOWTIE2_GENOME_INDEX/Ochotona_princeps/\n",
      "bowtie2-build --threads 48 /cellar/users/btsui/Data/ensembl/release-90/fasta/Ochotona_princeps.OchPri2.0-Ens.dna_rm.toplevel.fa.gz /cellar/users/btsui/Data/BOWTIE2_GENOME_INDEX/Ochotona_princeps/\n",
      "Poecilia_formosa /cellar/users/btsui/Data/BOWTIE2_GENOME_INDEX/Poecilia_formosa/\n",
      "bowtie2-build --threads 48 /cellar/users/btsui/Data/ensembl/release-90/fasta/Poecilia_formosa.PoeFor_5.1.2.dna_rm.toplevel.fa.gz /cellar/users/btsui/Data/BOWTIE2_GENOME_INDEX/Poecilia_formosa/\n",
      "Xiphophorus_maculatus /cellar/users/btsui/Data/BOWTIE2_GENOME_INDEX/Xiphophorus_maculatus/\n",
      "bowtie2-build --threads 48 /cellar/users/btsui/Data/ensembl/release-90/fasta/Xiphophorus_maculatus.Xipmac4.4.2.dna_rm.toplevel.fa.gz /cellar/users/btsui/Data/BOWTIE2_GENOME_INDEX/Xiphophorus_maculatus/\n",
      "Taeniopygia_guttata /cellar/users/btsui/Data/BOWTIE2_GENOME_INDEX/Taeniopygia_guttata/\n",
      "bowtie2-build --threads 48 /cellar/users/btsui/Data/ensembl/release-90/fasta/Taeniopygia_guttata.taeGut3.2.4.dna_rm.toplevel.fa.gz /cellar/users/btsui/Data/BOWTIE2_GENOME_INDEX/Taeniopygia_guttata/\n",
      "Mesocricetus_auratus /cellar/users/btsui/Data/BOWTIE2_GENOME_INDEX/Mesocricetus_auratus/\n",
      "bowtie2-build --threads 48 /cellar/users/btsui/Data/ensembl/release-90/fasta/Mesocricetus_auratus.MesAur1.0.dna_rm.toplevel.fa.gz /cellar/users/btsui/Data/BOWTIE2_GENOME_INDEX/Mesocricetus_auratus/\n",
      "Mus_musculus_fvbnj /cellar/users/btsui/Data/BOWTIE2_GENOME_INDEX/Mus_musculus_fvbnj/\n",
      "bowtie2-build --threads 48 /cellar/users/btsui/Data/ensembl/release-90/fasta/Mus_musculus_fvbnj.FVB_NJ_v1.dna_rm.toplevel.fa.gz /cellar/users/btsui/Data/BOWTIE2_GENOME_INDEX/Mus_musculus_fvbnj/\n",
      "Oryzias_latipes /cellar/users/btsui/Data/BOWTIE2_GENOME_INDEX/Oryzias_latipes/\n",
      "bowtie2-build --threads 48 /cellar/users/btsui/Data/ensembl/release-90/fasta/Oryzias_latipes.MEDAKA1.dna_rm.toplevel.fa.gz /cellar/users/btsui/Data/BOWTIE2_GENOME_INDEX/Oryzias_latipes/\n",
      "Anolis_carolinensis /cellar/users/btsui/Data/BOWTIE2_GENOME_INDEX/Anolis_carolinensis/\n",
      "Chlorocebus_sabaeus /cellar/users/btsui/Data/BOWTIE2_GENOME_INDEX/Chlorocebus_sabaeus/\n",
      "bowtie2-build --threads 48 /cellar/users/btsui/Data/ensembl/release-90/fasta/Chlorocebus_sabaeus.ChlSab1.1.dna_rm.toplevel.fa.gz /cellar/users/btsui/Data/BOWTIE2_GENOME_INDEX/Chlorocebus_sabaeus/\n",
      "Jaculus_jaculus /cellar/users/btsui/Data/BOWTIE2_GENOME_INDEX/Jaculus_jaculus/\n",
      "bowtie2-build --threads 48 /cellar/users/btsui/Data/ensembl/release-90/fasta/Jaculus_jaculus.JacJac1.0.dna_rm.toplevel.fa.gz /cellar/users/btsui/Data/BOWTIE2_GENOME_INDEX/Jaculus_jaculus/\n",
      "Dipodomys_ordii /cellar/users/btsui/Data/BOWTIE2_GENOME_INDEX/Dipodomys_ordii/\n",
      "bowtie2-build --threads 48 /cellar/users/btsui/Data/ensembl/release-90/fasta/Dipodomys_ordii.Dord_2.0.dna_rm.toplevel.fa.gz /cellar/users/btsui/Data/BOWTIE2_GENOME_INDEX/Dipodomys_ordii/\n"
     ]
    }
   ],
   "source": [
    "\n",
    "#build index\n",
    "#bowtie2-build genomes.fna ecoli\n",
    "\n",
    "##myDirS={'Homo_sapiens':'/cellar/users/btsui/Data/Project/KangZhang/refFa/hg19.fa'}\n",
    "\n",
    "#!ls /cellar/users/btsui/Data/RAPMAP_INDEX/HMB/\n",
    "\n",
    "#!rm -r  -lah /cellar/users/btsui/Data/BOWTIE2_GENOME_INDEX/Homo_sapiens/\n",
    "\n",
    "baseGenomesDir='/cellar/users/btsui/Data/BOWTIE2_GENOME_INDEX/'\n",
    "\n",
    "for specie,faDir in  inGenomeS.iteritems():\n",
    "    myDir=baseGenomesDir+specie+'/'\n",
    "    print specie,myDir\n",
    "    if not os.path.exists(myDir):\n",
    "        os.mkdir(myDir)\n",
    "        cmd= 'bowtie2-build --threads 48 '+faDir+' '+myDir\n",
    "        print os.system(cmd)\n",
    "        print cmd"
   ]
  },
  {
   "cell_type": "code",
   "execution_count": 14,
   "metadata": {
    "collapsed": false
   },
   "outputs": [
    {
     "name": "stdout",
     "output_type": "stream",
     "text": [
      "Settings:\n",
      "  Output files: \"/cellar/users/btsui/Data/BOWTIE2_GENOME_INDEX/Homo_sapiens/.*.bt2\"\n",
      "  Line rate: 6 (line is 64 bytes)\n",
      "  Lines per side: 1 (side is 64 bytes)\n",
      "  Offset rate: 4 (one in 16)\n",
      "  FTable chars: 10\n",
      "  Strings: unpacked\n",
      "  Max bucket size: default\n",
      "  Max bucket size, sqrt multiplier: default\n",
      "  Max bucket size, len divisor: 4\n",
      "  Difference-cover sample period: 1024\n",
      "  Endianness: little\n",
      "  Actual local endianness: little\n",
      "  Sanity checking: disabled\n",
      "  Assertions: disabled\n",
      "  Random seed: 0\n",
      "  Sizeofs: void*:8, int:4, long:8, size_t:8\n",
      "Input files DNA, FASTA:\n",
      "  /cellar/users/btsui/Data/Project/KangZhang/refFa/hg19.fa\n",
      "Building a SMALL index\n",
      "Reading reference sizes\n",
      "  Time reading reference sizes: 00:00:34\n",
      "Calculating joined length\n",
      "Writing header\n",
      "Reserving space for joined string\n",
      "Joining reference sequences\n",
      "  Time to join reference sequences: 00:00:19\n",
      "bmax according to bmaxDivN setting: 715331782\n",
      "Using parameters --bmax 536498837 --dcv 1024\n",
      "  Doing ahead-of-time memory usage test\n",
      "  Passed!  Constructing with these parameters: --bmax 536498837 --dcv 1024\n",
      "Constructing suffix-array element generator\n",
      "Building DifferenceCoverSample\n",
      "  Building sPrime\n",
      "  Building sPrimeOrder\n",
      "  V-Sorting samples\n",
      "  V-Sorting samples time: 00:00:56\n",
      "  Allocating rank array\n",
      "  Ranking v-sort output\n",
      "  Ranking v-sort output time: 00:00:13\n",
      "  Invoking Larsson-Sadakane on ranks\n",
      "  Invoking Larsson-Sadakane on ranks time: 00:00:32\n",
      "  Sanity-checking and returning\n",
      "Building samples\n",
      "Reserving space for 12 sample suffixes\n",
      "Generating random suffixes\n",
      "QSorting 12 sample offsets, eliminating duplicates\n",
      "QSorting sample offsets, eliminating duplicates time: 00:00:00\n",
      "Multikey QSorting 12 samples\n",
      "  (Using difference cover)\n",
      "  Multikey QSorting samples time: 00:00:00\n",
      "Calculating bucket sizes\n",
      "Splitting and merging\n",
      "  Splitting and merging time: 00:00:00\n",
      "Avg bucket size: 2.86133e+09 (target: 536498836)\n",
      "Converting suffix-array elements to index image\n",
      "Allocating ftab, absorbFtab\n",
      "Entering Ebwt loop\n",
      "Getting block 1 of 1\n",
      "  No samples; assembling all-inclusive block\n",
      "  Sorting block of length 2861327131 for bucket 1\n",
      "  (Using difference cover)\n",
      "  Sorting block time: 00:28:22\n",
      "Returning block of 2861327132 for bucket 1\n",
      "Exited Ebwt loop\n",
      "fchr[A]: 0\n",
      "fchr[C]: 844862932\n",
      "fchr[G]: 1429875684\n",
      "fchr[T]: 2015233940\n",
      "fchr[$]: 2861327131\n",
      "Exiting Ebwt::buildToDisk()\n",
      "Returning from initFromVector\n",
      "Wrote 957974502 bytes to primary EBWT file: /cellar/users/btsui/Data/BOWTIE2_GENOME_INDEX/Homo_sapiens/.1.bt2\n",
      "Wrote 715331788 bytes to secondary EBWT file: /cellar/users/btsui/Data/BOWTIE2_GENOME_INDEX/Homo_sapiens/.2.bt2\n",
      "Re-opening _in1 and _in2 as input streams\n",
      "Returning from Ebwt constructor\n",
      "Headers:\n",
      "    len: 2861327131\n",
      "    bwtLen: 2861327132\n",
      "    sz: 715331783\n",
      "    bwtSz: 715331783\n",
      "    lineRate: 6\n",
      "    offRate: 4\n",
      "    offMask: 0xfffffff0\n",
      "    ftabChars: 10\n",
      "    eftabLen: 20\n",
      "    eftabSz: 80\n",
      "    ftabLen: 1048577\n",
      "    ftabSz: 4194308\n",
      "    offsLen: 178832946\n",
      "    offsSz: 715331784\n",
      "    lineSz: 64\n",
      "    sideSz: 64\n",
      "    sideBwtSz: 48\n",
      "    sideBwtLen: 192\n",
      "    numSides: 14902746\n",
      "    numLines: 14902746\n",
      "    ebwtTotLen: 953775744\n",
      "    ebwtTotSz: 953775744\n",
      "    color: 0\n",
      "    reverse: 0\n",
      "Total time for call to driver() for forward index: 00:36:32\n",
      "Reading reference sizes\n",
      "  Time reading reference sizes: 00:00:20\n",
      "Calculating joined length\n",
      "Writing header\n",
      "Reserving space for joined string\n",
      "Joining reference sequences\n",
      "  Time to join reference sequences: 00:00:20\n",
      "  Time to reverse reference sequence: 00:00:02\n",
      "bmax according to bmaxDivN setting: 715331782\n",
      "Using parameters --bmax 536498837 --dcv 1024\n",
      "  Doing ahead-of-time memory usage test\n",
      "  Passed!  Constructing with these parameters: --bmax 536498837 --dcv 1024\n",
      "Constructing suffix-array element generator\n",
      "Building DifferenceCoverSample\n",
      "  Building sPrime\n",
      "  Building sPrimeOrder\n",
      "  V-Sorting samples\n",
      "  V-Sorting samples time: 00:00:56\n",
      "  Allocating rank array\n",
      "  Ranking v-sort output\n",
      "  Ranking v-sort output time: 00:00:14\n",
      "  Invoking Larsson-Sadakane on ranks\n",
      "  Invoking Larsson-Sadakane on ranks time: 00:00:31\n",
      "  Sanity-checking and returning\n",
      "Building samples\n",
      "Reserving space for 12 sample suffixes\n",
      "Generating random suffixes\n",
      "QSorting 12 sample offsets, eliminating duplicates\n",
      "QSorting sample offsets, eliminating duplicates time: 00:00:00\n",
      "Multikey QSorting 12 samples\n",
      "  (Using difference cover)\n",
      "  Multikey QSorting samples time: 00:00:00\n",
      "Calculating bucket sizes\n",
      "Splitting and merging\n",
      "  Splitting and merging time: 00:00:00\n",
      "Avg bucket size: 2.86133e+09 (target: 536498836)\n",
      "Converting suffix-array elements to index image\n",
      "Allocating ftab, absorbFtab\n",
      "Entering Ebwt loop\n",
      "Getting block 1 of 1\n",
      "  No samples; assembling all-inclusive block\n",
      "  Sorting block of length 2861327131 for bucket 1\n",
      "  (Using difference cover)\n",
      "  Sorting block time: 00:28:42\n",
      "Returning block of 2861327132 for bucket 1\n",
      "Exited Ebwt loop\n",
      "fchr[A]: 0\n",
      "fchr[C]: 844862932\n",
      "fchr[G]: 1429875684\n",
      "fchr[T]: 2015233940\n",
      "fchr[$]: 2861327131\n",
      "Exiting Ebwt::buildToDisk()\n",
      "Returning from initFromVector\n",
      "Wrote 957974502 bytes to primary EBWT file: /cellar/users/btsui/Data/BOWTIE2_GENOME_INDEX/Homo_sapiens/.rev.1.bt2\n",
      "Wrote 715331788 bytes to secondary EBWT file: /cellar/users/btsui/Data/BOWTIE2_GENOME_INDEX/Homo_sapiens/.rev.2.bt2\n",
      "Re-opening _in1 and _in2 as input streams\n",
      "Returning from Ebwt constructor\n",
      "Headers:\n",
      "    len: 2861327131\n",
      "    bwtLen: 2861327132\n",
      "    sz: 715331783\n",
      "    bwtSz: 715331783\n",
      "    lineRate: 6\n",
      "    offRate: 4\n",
      "    offMask: 0xfffffff0\n",
      "    ftabChars: 10\n",
      "    eftabLen: 20\n",
      "    eftabSz: 80\n",
      "    ftabLen: 1048577\n",
      "    ftabSz: 4194308\n",
      "    offsLen: 178832946\n",
      "    offsSz: 715331784\n",
      "    lineSz: 64\n",
      "    sideSz: 64\n",
      "    sideBwtSz: 48\n",
      "    sideBwtLen: 192\n",
      "    numSides: 14902746\n",
      "    numLines: 14902746\n",
      "    ebwtTotLen: 953775744\n",
      "    ebwtTotSz: 953775744\n",
      "    color: 0\n",
      "    reverse: 1\n",
      "Total time for backward call to driver() for mirror index: 00:36:40\n"
     ]
    }
   ],
   "source": [
    "!bowtie2-build /cellar/users/btsui/Data/Project/KangZhang/refFa/hg19.fa /cellar/users/btsui/Data/BOWTIE2_GENOME_INDEX/Homo_sapiens/"
   ]
  },
  {
   "cell_type": "code",
   "execution_count": 16,
   "metadata": {
    "collapsed": false
   },
   "outputs": [
    {
     "name": "stdout",
     "output_type": "stream",
     "text": [
      "alignSingleEndedBowtie.ipynb\t   parse_sam_input_single_ended.ipynb\r\n",
      "all_out.pickle\t\t\t   parse_sam_input_single_ended.py\r\n",
      "bin_count.pickle\t\t   Process_One.ipynb\r\n",
      "BuildEmptyPickles.ipynb\t\t   samples.csv\r\n",
      "BuildGenomes.ipynb\t\t   SRR458459_bowtie\r\n",
      "chunkUpGenomeInto100MB.ipynb\t   SRR458459_count\r\n",
      "ConvertBedsToWigs.ipynb\t\t   tmp.fq\r\n",
      "DownloadAllEpigenomeRoadmap.ipynb  trim_galore_trimmed.fq\r\n",
      "filter_zero.py\t\t\t   trim_galore_trimming_report.txt\r\n",
      "head.fq\t\t\t\t   TryAnalyzingTheRegions.ipynb\r\n",
      "head.fq_trimming_report.txt\t   Untitled1.ipynb\r\n",
      "head_trimmed.fq\t\t\t   Untitled.ipynb\r\n",
      "out.sam\r\n"
     ]
    }
   ],
   "source": [
    "!ls"
   ]
  },
  {
   "cell_type": "code",
   "execution_count": 18,
   "metadata": {
    "collapsed": false
   },
   "outputs": [
    {
     "name": "stdout",
     "output_type": "stream",
     "text": [
      "/cellar/users/btsui/Project/METAMAP/notebook/RapMapTest/Chip-seq/parse_sam_input_single_ended.py\r\n"
     ]
    }
   ],
   "source": [
    "!echo $PWD/parse_sam_input_single_ended.py"
   ]
  },
  {
   "cell_type": "code",
   "execution_count": 132,
   "metadata": {
    "collapsed": false
   },
   "outputs": [
    {
     "name": "stdout",
     "output_type": "stream",
     "text": [
      "/cellar/users/btsui/Project/METAMAP/notebook/RapMapTest/Chip-seq/.\r\n"
     ]
    }
   ],
   "source": [
    "!echo $PWD/."
   ]
  },
  {
   "cell_type": "code",
   "execution_count": 251,
   "metadata": {
    "collapsed": false
   },
   "outputs": [],
   "source": [
    "!g++ count.cpp "
   ]
  },
  {
   "cell_type": "code",
   "execution_count": 240,
   "metadata": {
    "collapsed": false
   },
   "outputs": [
    {
     "name": "stdout",
     "output_type": "stream",
     "text": [
      "out.sam\r\n"
     ]
    }
   ],
   "source": [
    "!ls out.sam"
   ]
  },
  {
   "cell_type": "code",
   "execution_count": 247,
   "metadata": {
    "collapsed": false
   },
   "outputs": [
    {
     "name": "stdout",
     "output_type": "stream",
     "text": [
      "/cellar/users/btsui/Data/Project/Skymap/ChipSeq/empty_references/Homo_sapiens.size.tsv\r\n",
      "out.sam\r\n"
     ]
    }
   ],
   "source": [
    "!./a.out  /cellar/users/btsui/Data/Project/Skymap/ChipSeq/empty_references/Homo_sapiens.size.tsv out.sam"
   ]
  },
  {
   "cell_type": "code",
   "execution_count": 252,
   "metadata": {
    "collapsed": false
   },
   "outputs": [
    {
     "name": "stdout",
     "output_type": "stream",
     "text": [
      "bin_size: 20\r\n",
      "chr1\t12462531\t1\r\n",
      "chr10\t24925062\t2\r\n",
      "chr11\t37387593\t3\r\n",
      "chr12\t49850124\t4\r\n",
      "chr13\t62312655\t5\r\n",
      "chr14\t74775186\t6\r\n",
      "chr15\t87237717\t7\r\n",
      "chr16\t99700248\t8\r\n",
      "chr17\t112162779\t9\r\n",
      "chr18\t124625310\t10\r\n",
      "chr19\t137087841\t11\r\n",
      "chr2\t149550372\t12\r\n",
      "chr20\t162012903\t13\r\n",
      "chr21\t174475434\t14\r\n",
      "chr22\t186937965\t15\r\n",
      "chr3\t199400496\t16\r\n",
      "chr4\t211863027\t17\r\n",
      "chr5\t224325558\t18\r\n",
      "chr6\t236788089\t19\r\n",
      "chr7\t249250620\t20\r\n",
      "chr8\t261713151\t21\r\n",
      "chr9\t274175682\t22\r\n",
      "chrX\t286638213\t23\r\n",
      "chrY\t299100744\t24\r\n"
     ]
    }
   ],
   "source": [
    "!cat chrom_offset.txt"
   ]
  },
  {
   "cell_type": "code",
   "execution_count": 243,
   "metadata": {
    "collapsed": false
   },
   "outputs": [
    {
     "data": {
      "text/html": [
       "<div>\n",
       "<style>\n",
       "    .dataframe thead tr:only-child th {\n",
       "        text-align: right;\n",
       "    }\n",
       "\n",
       "    .dataframe thead th {\n",
       "        text-align: left;\n",
       "    }\n",
       "\n",
       "    .dataframe tbody tr th {\n",
       "        vertical-align: top;\n",
       "    }\n",
       "</style>\n",
       "<table border=\"1\" class=\"dataframe\">\n",
       "  <thead>\n",
       "    <tr style=\"text-align: right;\">\n",
       "      <th></th>\n",
       "      <th></th>\n",
       "      <th>bin_size: 20</th>\n",
       "    </tr>\n",
       "  </thead>\n",
       "  <tbody>\n",
       "    <tr>\n",
       "      <th>chr1</th>\n",
       "      <th>12462531</th>\n",
       "      <td>1</td>\n",
       "    </tr>\n",
       "    <tr>\n",
       "      <th>chr10</th>\n",
       "      <th>24925062</th>\n",
       "      <td>2</td>\n",
       "    </tr>\n",
       "    <tr>\n",
       "      <th>chr11</th>\n",
       "      <th>37387593</th>\n",
       "      <td>3</td>\n",
       "    </tr>\n",
       "    <tr>\n",
       "      <th>chr12</th>\n",
       "      <th>49850124</th>\n",
       "      <td>4</td>\n",
       "    </tr>\n",
       "    <tr>\n",
       "      <th>chr13</th>\n",
       "      <th>62312655</th>\n",
       "      <td>5</td>\n",
       "    </tr>\n",
       "    <tr>\n",
       "      <th>chr14</th>\n",
       "      <th>74775186</th>\n",
       "      <td>6</td>\n",
       "    </tr>\n",
       "    <tr>\n",
       "      <th>chr15</th>\n",
       "      <th>87237717</th>\n",
       "      <td>7</td>\n",
       "    </tr>\n",
       "    <tr>\n",
       "      <th>chr16</th>\n",
       "      <th>99700248</th>\n",
       "      <td>8</td>\n",
       "    </tr>\n",
       "    <tr>\n",
       "      <th>chr17</th>\n",
       "      <th>112162779</th>\n",
       "      <td>9</td>\n",
       "    </tr>\n",
       "    <tr>\n",
       "      <th>chr18</th>\n",
       "      <th>124625310</th>\n",
       "      <td>10</td>\n",
       "    </tr>\n",
       "    <tr>\n",
       "      <th>chr19</th>\n",
       "      <th>137087841</th>\n",
       "      <td>11</td>\n",
       "    </tr>\n",
       "    <tr>\n",
       "      <th>chr2</th>\n",
       "      <th>149550372</th>\n",
       "      <td>12</td>\n",
       "    </tr>\n",
       "    <tr>\n",
       "      <th>chr20</th>\n",
       "      <th>162012903</th>\n",
       "      <td>13</td>\n",
       "    </tr>\n",
       "    <tr>\n",
       "      <th>chr21</th>\n",
       "      <th>174475434</th>\n",
       "      <td>14</td>\n",
       "    </tr>\n",
       "    <tr>\n",
       "      <th>chr22</th>\n",
       "      <th>186937965</th>\n",
       "      <td>15</td>\n",
       "    </tr>\n",
       "    <tr>\n",
       "      <th>chr3</th>\n",
       "      <th>199400496</th>\n",
       "      <td>16</td>\n",
       "    </tr>\n",
       "    <tr>\n",
       "      <th>chr4</th>\n",
       "      <th>211863027</th>\n",
       "      <td>17</td>\n",
       "    </tr>\n",
       "    <tr>\n",
       "      <th>chr5</th>\n",
       "      <th>224325558</th>\n",
       "      <td>18</td>\n",
       "    </tr>\n",
       "    <tr>\n",
       "      <th>chr6</th>\n",
       "      <th>236788089</th>\n",
       "      <td>19</td>\n",
       "    </tr>\n",
       "    <tr>\n",
       "      <th>chr7</th>\n",
       "      <th>249250620</th>\n",
       "      <td>20</td>\n",
       "    </tr>\n",
       "    <tr>\n",
       "      <th>chr8</th>\n",
       "      <th>261713151</th>\n",
       "      <td>21</td>\n",
       "    </tr>\n",
       "    <tr>\n",
       "      <th>chr9</th>\n",
       "      <th>274175682</th>\n",
       "      <td>22</td>\n",
       "    </tr>\n",
       "    <tr>\n",
       "      <th>chrX</th>\n",
       "      <th>286638213</th>\n",
       "      <td>23</td>\n",
       "    </tr>\n",
       "    <tr>\n",
       "      <th>chrY</th>\n",
       "      <th>299100744</th>\n",
       "      <td>24</td>\n",
       "    </tr>\n",
       "  </tbody>\n",
       "</table>\n",
       "</div>"
      ],
      "text/plain": [
       "                 bin_size: 20\n",
       "chr1  12462531              1\n",
       "chr10 24925062              2\n",
       "chr11 37387593              3\n",
       "chr12 49850124              4\n",
       "chr13 62312655              5\n",
       "chr14 74775186              6\n",
       "chr15 87237717              7\n",
       "chr16 99700248              8\n",
       "chr17 112162779             9\n",
       "chr18 124625310            10\n",
       "chr19 137087841            11\n",
       "chr2  149550372            12\n",
       "chr20 162012903            13\n",
       "chr21 174475434            14\n",
       "chr22 186937965            15\n",
       "chr3  199400496            16\n",
       "chr4  211863027            17\n",
       "chr5  224325558            18\n",
       "chr6  236788089            19\n",
       "chr7  249250620            20\n",
       "chr8  261713151            21\n",
       "chr9  274175682            22\n",
       "chrX  286638213            23\n",
       "chrY  299100744            24"
      ]
     },
     "execution_count": 243,
     "metadata": {},
     "output_type": "execute_result"
    }
   ],
   "source": [
    "import pandas as pd\n",
    "pd.read_csv('chrom_offset.txt',sep='\\t')"
   ]
  },
  {
   "cell_type": "code",
   "execution_count": 256,
   "metadata": {
    "collapsed": false
   },
   "outputs": [],
   "source": [
    "!cp bin.count.txt SRR458459.bin.count.txt"
   ]
  },
  {
   "cell_type": "code",
   "execution_count": 237,
   "metadata": {
    "collapsed": false
   },
   "outputs": [],
   "source": [
    "#!tail out.sam"
   ]
  },
  {
   "cell_type": "code",
   "execution_count": null,
   "metadata": {
    "collapsed": true
   },
   "outputs": [],
   "source": [
    "my_specie='Ailuropoda_melanoleuca'\n",
    "myDir=myDirS.loc[my_specie]\n",
    "\n",
    "\n",
    "#myDirS[myDirS.str.contains('.fa$')]\n",
    "\n",
    "\n",
    "tmpS=pd.Series({record.id:record.description for record in SeqIO.parse(myDir, \"fasta\")})\n",
    "\n",
    "\n",
    "m1=~tmpS.str.contains('scaffold')\n",
    "m2=~tmpS.str.contains('patch')\n",
    "tmpS[m1&m2]"
   ]
  }
 ],
 "metadata": {
  "kernelspec": {
   "display_name": "Python 2",
   "language": "python",
   "name": "python2"
  },
  "language_info": {
   "codemirror_mode": {
    "name": "ipython",
    "version": 2
   },
   "file_extension": ".py",
   "mimetype": "text/x-python",
   "name": "python",
   "nbconvert_exporter": "python",
   "pygments_lexer": "ipython2",
   "version": "2.7.14"
  }
 },
 "nbformat": 4,
 "nbformat_minor": 0
}
