{
 "cells": [
  {
   "cell_type": "code",
   "execution_count": 1,
   "metadata": {},
   "outputs": [],
   "source": [
    "\n",
    "# In[4]:\n",
    "\n",
    "import pandas as pd\n",
    "import os\n",
    "baseOutDir='/data/cellardata/users/btsui/SRA/DUMP/'\n",
    "inDir='/cellar/users/btsui/Data/nrnb01_nobackup/tmp/METAMAP//splittedInput_SRAMangaer_SRA_META/'\n",
    "#inDir='/cellar/users/btsui/Data/nrnb01_nobackup/tmp/METAMAP/splittedInput_SRAMangaer_NCBI_SRA_Metadata_Full_20171001/'\n",
    "subsetIds=set( map(lambda s:s.split('.')[0],os.listdir(inDir)))\n",
    "\n",
    "len(subsetIds)\n",
    "srsS=[]\n",
    "srxS=[]\n",
    "for Id in subsetIds:\n",
    "    srsS.append(pd.read_pickle(inDir+Id+'.srs.pickle'))\n",
    "    srxS.append(pd.read_pickle(inDir+Id+'.srx.pickle'))\n",
    "srsMergedS=pd.concat(srsS)\n",
    "srxMergedS=pd.concat(srxS)\n",
    "srsMergedS.to_pickle(baseOutDir+'allSRS.pickle.gz')\n",
    "srxMergedS.to_pickle(baseOutDir+'allSRX.pickle.gz')\n"
   ]
  }
 ],
 "metadata": {
  "kernelspec": {
   "display_name": "Python [default]",
   "language": "python",
   "name": "python3"
  },
  "language_info": {
   "codemirror_mode": {
    "name": "ipython",
    "version": 3
   },
   "file_extension": ".py",
   "mimetype": "text/x-python",
   "name": "python",
   "nbconvert_exporter": "python",
   "pygments_lexer": "ipython3",
   "version": "3.6.5"
  }
 },
 "nbformat": 4,
 "nbformat_minor": 2
}
