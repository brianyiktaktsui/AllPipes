{
 "cells": [
  {
   "cell_type": "code",
   "execution_count": null,
   "metadata": {},
   "outputs": [],
   "source": [
    "#\n",
    "__author__ = 'btsui'\n",
    "\n",
    "import SRAParam\n",
    "from clusterBaseClass import clusterBaseClass\n",
    "import mergeSRAResults as Merger\n",
    "import os\n",
    "import SRAParser\n",
    "\n",
    "\n",
    "class SRAMangaer(clusterBaseClass):\n",
    "    className = 'SRAMangaer'\n",
    "\n",
    "    def __init__(self):\n",
    "        clusterBaseClass.__init__(self,\n",
    "                                  outputPostfix=SRAParser.SRAParser.outputPostfix,\n",
    "                                  baseSplitDir='/cellar/users/btsui/Data/nrnb01_nobackup/tmp/METAMAP//splittedInput_' + self.className + '_',\n",
    "                                  pythonScriptName='/cellar/users/btsui/Project/METAMAP/code/metamap/SRAParser.py',\n",
    "                                  CWD='/cellar/users/btsui/Project/METAMAP/code/metamap',\n",
    "                                  minCorrectSize=0,\n",
    "                                  memory=2,\n",
    "                                  smp=1\n",
    "                                  )\n",
    "\n",
    "    def run(self, inputFDir, outDir):\n",
    "        # consist of both input for clustering\n",
    "        fname = inputFDir.split('/')[-1]\n",
    "        self.splitOutDir = self.baseSplitDir + fname + '/'\n",
    "        print 'splitting input'\n",
    "        #termToId = LS.split(inputFDir, self.nFiles, self.splitOutDir, clean=True)  # retain signature\n",
    "        self.setNFiles(SRAParam.nConcurJob)\n",
    "        if os.path.exists(self.splitOutDir ):\n",
    "            os.system('rm '+self.splitOutDir +'/*')\n",
    "        else:\n",
    "            os.mkdir(self.splitOutDir )\n",
    "        if not self.Done():\n",
    "            # fname,nfiles,splitOutDir\n",
    "            self.processUntilAllDone()\n",
    "\n",
    "        Merger.runMerger( self.splitOutDir, outDir=outDir)\n",
    "\n",
    "\n",
    "if __name__ == '__main__':\n",
    "    # '.realign.spliceVariantMaxMatrix'\n",
    "\n",
    "\n",
    "    outDir = '/cellar/users/btsui/Data/nrnb01_nobackup/METAMAP/' +'SRA_parse'\n",
    "\n",
    "    m = SRAMangaer()\n",
    "    m.run(SRAParam.SRADir, outDir=outDir)\n"
   ]
  }
 ],
 "metadata": {
  "kernelspec": {
   "display_name": "Python [default]",
   "language": "python",
   "name": "python3"
  },
  "language_info": {
   "codemirror_mode": {
    "name": "ipython",
    "version": 3
   },
   "file_extension": ".py",
   "mimetype": "text/x-python",
   "name": "python",
   "nbconvert_exporter": "python",
   "pygments_lexer": "ipython3",
   "version": "3.6.5"
  }
 },
 "nbformat": 4,
 "nbformat_minor": 2
}
