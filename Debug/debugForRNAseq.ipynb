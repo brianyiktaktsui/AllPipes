{
 "cells": [
  {
   "cell_type": "code",
   "execution_count": 3,
   "metadata": {},
   "outputs": [
    {
     "data": {
      "text/plain": [
       "'\\nhttps://www.synapse.org/#!Synapse:syn11415602/discussion/threadId=3408\\n\\nThank you for creating this wonderful resource. I have a quick question concerning the samples you included. Initially I was under the impression you mapped all RNA-seq data present in the SRA database (with more than 150 million sequenced base pairs), but now notice a fair number of sequencing runs were not included (about 1/3rd). Here are a few examples:\\nStudy one examples:\\nSRR998545\\nSRR998530\\nStudy two example:\\nSRR949118\\n\\n'"
      ]
     },
     "execution_count": 3,
     "metadata": {},
     "output_type": "execute_result"
    }
   ],
   "source": [
    "import os\n",
    "import pandas as pd\n",
    "\n",
    "nrnb_rnaseq='/nrnb/users/btsui/Data/all_seq/rnaseq/'\n",
    "\n",
    "nrnb_rnaseqS=pd.Series(os.listdir(nrnb_rnaseq))\n",
    "\n",
    "\n",
    "\"\"\"\n",
    "https://www.synapse.org/#!Synapse:syn11415602/discussion/threadId=3408\n",
    "\n",
    "Thank you for creating this wonderful resource. I have a quick question concerning the samples you included. Initially I was under the impression you mapped all RNA-seq data present in the SRA database (with more than 150 million sequenced base pairs), but now notice a fair number of sequencing runs were not included (about 1/3rd). Here are a few examples:\n",
    "Study one examples:\n",
    "SRR998545 (try downloading and processing this one )\n",
    "SRR998530\n",
    "Study two example:\n",
    "SRR949118 (ran and have data)\n",
    "\n",
    "\"\"\""
   ]
  },
  {
   "cell_type": "code",
   "execution_count": 10,
   "metadata": {},
   "outputs": [
    {
     "name": "stdout",
     "output_type": "stream",
     "text": [
      "Homo_sapiens.failed.srrs.txt  log_snp\t   rnaseq  tmp_2       tmp_tcga_block\r\n",
      "chip\t\t\t      old_log_snp  snp\t   tmp_3\r\n",
      "expression_old\t\t      old_snp\t   tmp\t   tmp_chunks\r\n"
     ]
    }
   ],
   "source": [
    "!ls /nrnb/users/btsui/Data/all_seq/"
   ]
  },
  {
   "cell_type": "code",
   "execution_count": 5,
   "metadata": {},
   "outputs": [
    {
     "data": {
      "text/plain": [
       "626762"
      ]
     },
     "execution_count": 5,
     "metadata": {},
     "output_type": "execute_result"
    }
   ],
   "source": [
    "len(nrnb_rnaseqS)"
   ]
  },
  {
   "cell_type": "code",
   "execution_count": null,
   "metadata": {},
   "outputs": [],
   "source": []
  }
 ],
 "metadata": {
  "kernelspec": {
   "display_name": "Python 3",
   "language": "python",
   "name": "python3"
  },
  "language_info": {
   "codemirror_mode": {
    "name": "ipython",
    "version": 3
   },
   "file_extension": ".py",
   "mimetype": "text/x-python",
   "name": "python",
   "nbconvert_exporter": "python",
   "pygments_lexer": "ipython3",
   "version": "3.6.6"
  }
 },
 "nbformat": 4,
 "nbformat_minor": 2
}
